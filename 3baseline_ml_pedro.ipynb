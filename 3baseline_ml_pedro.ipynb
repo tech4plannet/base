{
 "cells": [
  {
   "attachments": {},
   "cell_type": "markdown",
   "id": "c6ba2d28",
   "metadata": {},
   "source": [
    "# Libraries used\n",
    "\n",
    "Running Kernel3.9.13 base anaconda"
   ]
  },
  {
   "attachments": {},
   "cell_type": "markdown",
   "id": "a47ff5b1",
   "metadata": {},
   "source": [
    "pip install squarify\n",
    "pip install yellowbrick\n",
    "pip install plotly\n",
    "pip install seaborn\n",
    "pip install lazypredict\n",
    "pip install pandas_profiling"
   ]
  },
  {
   "cell_type": "code",
   "execution_count": 1,
   "id": "1e469ce3",
   "metadata": {},
   "outputs": [],
   "source": [
    "import pandas as pd\n",
    "import numpy as np\n",
    "import seaborn as sns  \n",
    "import matplotlib.pyplot as plt\n",
    "import plotly.io as pio\n",
    "#import squarify #treemap\n",
    "import os\n",
    "import matplotlib\n",
    "import warnings\n",
    "\n",
    "\n",
    "\n",
    "#to enable the inline plotting\n",
    "%matplotlib inline \n",
    "\n",
    "import warnings\n",
    "warnings.filterwarnings('ignore')\n",
    "\n",
    "sns.set_style(\"darkgrid\")"
   ]
  },
  {
   "cell_type": "code",
   "execution_count": 2,
   "id": "e3cc5995",
   "metadata": {},
   "outputs": [],
   "source": [
    "from sklearn.linear_model import LogisticRegression\n",
    "\n",
    "from sklearn.model_selection import cross_val_score\n",
    "from sklearn.model_selection import RepeatedStratifiedKFold\n",
    "from sklearn.model_selection import cross_val_score\n",
    "from sklearn.model_selection import train_test_split\n",
    "\n",
    "from sklearn.metrics import accuracy_score, confusion_matrix, classification_report\n",
    "from sklearn.metrics import classification_report\n",
    "\n",
    "from sklearn.naive_bayes import GaussianNB\n",
    "from sklearn.tree import DecisionTreeClassifier\n",
    "from sklearn.neighbors import KNeighborsClassifier\n",
    "\n",
    "from sklearn.ensemble import RandomForestClassifier\n",
    "from sklearn.ensemble import GradientBoostingClassifier\n",
    "\n",
    "from sklearn.preprocessing import StandardScaler\n",
    "\n",
    "\n",
    "from scipy.stats import normaltest\n",
    "\n",
    "from pandas_profiling import ProfileReport\n",
    "\n",
    "from yellowbrick.classifier import ROCAUC\n",
    "from yellowbrick.classifier import ClassPredictionError\n",
    "from yellowbrick.style.palettes import PALETTES, SEQUENCES, color_palette\n",
    "\n",
    "import lazypredict\n",
    "from lazypredict.Supervised import LazyClassifier\n",
    "\n",
    "\n",
    "warnings.simplefilter(action='ignore', category=FutureWarning)"
   ]
  },
  {
   "cell_type": "code",
   "execution_count": 3,
   "id": "cf1b672f",
   "metadata": {},
   "outputs": [],
   "source": [
    "# Function for EDA. Using the display() function to have  well-formatted tables. We are mainly using pandas to explore the datasets\n",
    "\n",
    "def dataset_description(df_target):\n",
    "\n",
    "    print('This is the Dataset shape: %s\\n' % (df_target.shape, ))\n",
    "    print('Dataset columns: %s\\n' % df_target.columns)\n",
    "\n",
    "    print('\\nColumns description:\\n')\n",
    "    display(df_target.info())\n",
    "    display(df_target.describe())  # describe the dataset\n",
    "\n",
    "    print('\\nNull values:\\n')\n",
    "    display(df_target.isnull().sum())  # Identify null values\n",
    "\n",
    "#function performing a quick check on df_inspection to have best of pandas functions separated by a line\n",
    "def quick_check(dataframe):\n",
    "    print('First 5 rows %s\\n')\n",
    "    print(dataframe.head(2))\n",
    "    print(\"=====================================\")\n",
    "    print('Dataframe shape %s\\n')\n",
    "    print(dataframe.shape)\n",
    "    print(\"=====================================\")\n",
    "    print('Dataframe describe categorical %s\\n')\n",
    "    print(dataframe.describe(include=['O']))\n",
    "    print(\"=====================================\")\n",
    "    print('Dataframe null values %s\\n')\n",
    "    print(dataframe.isnull().sum())\n",
    "    print(\"=====================================\")\n",
    "    print('Dataframe value counts %s\\n')\n",
    "    print(dataframe.value_counts())\n",
    "    print(\"=====================================\")\n",
    "\n",
    "#stats function\n",
    "def stats(dataframe):\n",
    "    print('Dataframe correlation %s\\n')\n",
    "    print(dataframe.corr())\n",
    "    print(\"=====================================\")\n",
    "    print('Dataframe covariance %s\\n')\n",
    "    print(dataframe.cov())\n",
    "    print(\"=====================================\")\n",
    "    print('Dataframe skew %s\\n')\n",
    "    print(dataframe.skew())\n",
    "    print(\"=====================================\")\n",
    "    print('Dataframe kurtosis %s\\n')\n",
    "    print(dataframe.kurt())\n",
    "    print(\"=====================================\")\n",
    "\n",
    "#create a function to normalize characters from a dataset's column in Spanish\n",
    "def normalize_characters(df, column):\n",
    "    df[column] = df[column].str.normalize('NFKD').str.encode('ascii', errors='ignore').str.decode('utf-8')\n",
    "    df[column] = df[column].str.lower()\n",
    "    df[column] = df[column].str.replace('á', 'a')\n",
    "    df[column] = df[column].str.replace('é', 'e')\n",
    "    df[column] = df[column].str.replace('í', 'i')\n",
    "    df[column] = df[column].str.replace('ó', 'o')\n",
    "    df[column] = df[column].str.replace('ú', 'u')\n",
    "    df[column] = df[column].str.replace('ñ', 'n')\n",
    "    df[column] = df[column].str.replace('ü', 'u')\n",
    "    df[column] = df[column].str.replace('ç', 'c')\n",
    "    df[column] = df[column].str.replace('(', '')\n",
    "    df[column] = df[column].str.replace(')', '')\n",
    "    df[column] = df[column].str.replace('\\'', '')\n",
    "    df[column] = df[column].str.replace('´', '')\n",
    "    df[column] = df[column].str.replace('`', '')\n",
    "    df[column] = df[column].str.replace('’', '')\n",
    "    return df.head(2)\n",
    "\n",
    "#create function to change detypes in64 to int32 in a df\n",
    "def change_dtypes(df):\n",
    "    for col in df.columns:\n",
    "        if df[col].dtype == 'int64':\n",
    "            df[col] = df[col].astype('int32')\n",
    "        elif df[col].dtype == 'float64':\n",
    "            df[col] = df[col].astype('float32')\n",
    "    return df\n",
    "\n",
    "def outlier_function(df, col_name):\n",
    "    \"\"\" this function detects first and third quartile and interquartile range for a given column of a dataframe\n",
    "    then calculates upper and lower limits to determine outliers conservatively\n",
    "    returns the number of lower and uper limit and number of outliers respectively\"\"\"\n",
    "    first_quartile = np.percentile(np.array(df[col_name].tolist()), 25)\n",
    "    third_quartile = np.percentile(np.array(df[col_name].tolist()), 75)\n",
    "    IQR = third_quartile - first_quartile\n",
    "                        \n",
    "    upper_limit = third_quartile+(3*IQR)\n",
    "    lower_limit = first_quartile-(3*IQR)\n",
    "    outlier_count = 0\n",
    "                    \n",
    "    for value in df[col_name].tolist():\n",
    "        if (value < lower_limit) | (value > upper_limit):\n",
    "            outlier_count +=1\n",
    "        else:\n",
    "            pass\n",
    "    return lower_limit, upper_limit, outlier_count"
   ]
  },
  {
   "cell_type": "code",
   "execution_count": 4,
   "id": "8e28e941",
   "metadata": {},
   "outputs": [],
   "source": [
    "#show all print outputs when using a function\n",
    "from IPython.core.interactiveshell import InteractiveShell\n",
    "InteractiveShell.ast_node_interactivity = \"all\"\n",
    "\n",
    "#display all columns\n",
    "pd.set_option('display.max_columns', None)\n"
   ]
  },
  {
   "cell_type": "markdown",
   "id": "1ebce254",
   "metadata": {},
   "source": [
    "# Importing previous dataset"
   ]
  },
  {
   "cell_type": "code",
   "execution_count": 5,
   "id": "3dad7faa",
   "metadata": {},
   "outputs": [],
   "source": [
    "#point to the folder where the data is stored\n",
    "os.chdir(r\"C:\\Users\\pedro\\datathon\")\n",
    "\n",
    "# Loading combined_mod dataset\n",
    "train_consolidated = pd.read_csv('train_consolidated_weather.csv')\n"
   ]
  },
  {
   "cell_type": "markdown",
   "id": "02933a92",
   "metadata": {
    "tags": []
   },
   "source": [
    "\n",
    "#pandas profiling report for train_consolidated exporting a file\n",
    "profile = ProfileReport(train_consolidated, title='Pandas Profiling Report', explorative=True)\n",
    "profile.to_file(\"train_consolidated.html\")\n"
   ]
  },
  {
   "cell_type": "code",
   "execution_count": 6,
   "id": "8dae7144",
   "metadata": {},
   "outputs": [
    {
     "data": {
      "text/html": [
       "<div>\n",
       "<style scoped>\n",
       "    .dataframe tbody tr th:only-of-type {\n",
       "        vertical-align: middle;\n",
       "    }\n",
       "\n",
       "    .dataframe tbody tr th {\n",
       "        vertical-align: top;\n",
       "    }\n",
       "\n",
       "    .dataframe thead th {\n",
       "        text-align: right;\n",
       "    }\n",
       "</style>\n",
       "<table border=\"1\" class=\"dataframe\">\n",
       "  <thead>\n",
       "    <tr style=\"text-align: right;\">\n",
       "      <th></th>\n",
       "      <th>PipeId</th>\n",
       "      <th>No_Inspections</th>\n",
       "      <th>No_Incidents</th>\n",
       "      <th>InspectionYear</th>\n",
       "      <th>Probability_rate</th>\n",
       "      <th>preventive_maintenance_rate</th>\n",
       "      <th>Age_pipe_at_inspection</th>\n",
       "      <th>pipe_inspected_frequently</th>\n",
       "      <th>Average_MonthsLastRev</th>\n",
       "      <th>MonthsLastRev</th>\n",
       "      <th>relative_risk</th>\n",
       "      <th>average_severity_pipe</th>\n",
       "      <th>Incidence</th>\n",
       "      <th>YearBuilt</th>\n",
       "      <th>Diameter</th>\n",
       "      <th>Length</th>\n",
       "      <th>Pressure</th>\n",
       "      <th>NumConnections</th>\n",
       "      <th>NumConnectionsUnder</th>\n",
       "      <th>BoolBridle</th>\n",
       "      <th>aspect</th>\n",
       "      <th>Relative_Thickness</th>\n",
       "      <th>pipe_area</th>\n",
       "      <th>area_connection</th>\n",
       "      <th>incidence_area</th>\n",
       "      <th>connection_bool</th>\n",
       "      <th>Severity_high</th>\n",
       "      <th>Severity_medium</th>\n",
       "      <th>Severity_low</th>\n",
       "      <th>gas_natural</th>\n",
       "      <th>Material_Acrylonitrile-Butadiene-Styrene</th>\n",
       "      <th>Material_Copper</th>\n",
       "      <th>Material_Fiberglass-Reinforced Plastic</th>\n",
       "      <th>Material_Polyethylene</th>\n",
       "      <th>Material_Polypropylene</th>\n",
       "      <th>Diameter2</th>\n",
       "      <th>Length2</th>\n",
       "      <th>Pressure2</th>\n",
       "      <th>Average yearly temperature (°C)</th>\n",
       "      <th>Min. Temperature (°C)</th>\n",
       "      <th>Max. Temperature (°C)</th>\n",
       "      <th>Yearly Rainfall (mm)</th>\n",
       "      <th>Average year Humidity (%)</th>\n",
       "      <th>Rainy days per year (days)</th>\n",
       "      <th>Yearly Sun Hours (hours)</th>\n",
       "      <th>Province</th>\n",
       "      <th>Town</th>\n",
       "    </tr>\n",
       "  </thead>\n",
       "  <tbody>\n",
       "    <tr>\n",
       "      <th>0</th>\n",
       "      <td>489616</td>\n",
       "      <td>5</td>\n",
       "      <td>0.00</td>\n",
       "      <td>2013.00</td>\n",
       "      <td>0.00</td>\n",
       "      <td>0.00</td>\n",
       "      <td>1.00</td>\n",
       "      <td>1</td>\n",
       "      <td>21.40</td>\n",
       "      <td>16.00</td>\n",
       "      <td>0.00</td>\n",
       "      <td>4.00</td>\n",
       "      <td>0.00</td>\n",
       "      <td>2012</td>\n",
       "      <td>0.06</td>\n",
       "      <td>7.79</td>\n",
       "      <td>0.40</td>\n",
       "      <td>0</td>\n",
       "      <td>0</td>\n",
       "      <td>0</td>\n",
       "      <td>0.81</td>\n",
       "      <td>0.16</td>\n",
       "      <td>1.54</td>\n",
       "      <td>0.00</td>\n",
       "      <td>0.00</td>\n",
       "      <td>0</td>\n",
       "      <td>0</td>\n",
       "      <td>0</td>\n",
       "      <td>0</td>\n",
       "      <td>1</td>\n",
       "      <td>0</td>\n",
       "      <td>0</td>\n",
       "      <td>0</td>\n",
       "      <td>1</td>\n",
       "      <td>0</td>\n",
       "      <td>0.00</td>\n",
       "      <td>60.72</td>\n",
       "      <td>0.16</td>\n",
       "      <td>15.44</td>\n",
       "      <td>1.50</td>\n",
       "      <td>33.70</td>\n",
       "      <td>438</td>\n",
       "      <td>0.55</td>\n",
       "      <td>52</td>\n",
       "      <td>107.50</td>\n",
       "      <td>ciudad real</td>\n",
       "      <td>torralba de calatrava</td>\n",
       "    </tr>\n",
       "  </tbody>\n",
       "</table>\n",
       "</div>"
      ],
      "text/plain": [
       "   PipeId  No_Inspections  No_Incidents  InspectionYear  Probability_rate  \\\n",
       "0  489616               5          0.00         2013.00              0.00   \n",
       "\n",
       "   preventive_maintenance_rate  Age_pipe_at_inspection  \\\n",
       "0                         0.00                    1.00   \n",
       "\n",
       "   pipe_inspected_frequently  Average_MonthsLastRev  MonthsLastRev  \\\n",
       "0                          1                  21.40          16.00   \n",
       "\n",
       "   relative_risk  average_severity_pipe  Incidence  YearBuilt  Diameter  \\\n",
       "0           0.00                   4.00       0.00       2012      0.06   \n",
       "\n",
       "   Length  Pressure  NumConnections  NumConnectionsUnder  BoolBridle  aspect  \\\n",
       "0    7.79      0.40               0                    0           0    0.81   \n",
       "\n",
       "   Relative_Thickness  pipe_area  area_connection  incidence_area  \\\n",
       "0                0.16       1.54             0.00            0.00   \n",
       "\n",
       "   connection_bool  Severity_high  Severity_medium  Severity_low  gas_natural  \\\n",
       "0                0              0                0             0            1   \n",
       "\n",
       "   Material_Acrylonitrile-Butadiene-Styrene  Material_Copper  \\\n",
       "0                                         0                0   \n",
       "\n",
       "   Material_Fiberglass-Reinforced Plastic  Material_Polyethylene  \\\n",
       "0                                       0                      1   \n",
       "\n",
       "   Material_Polypropylene  Diameter2  Length2  Pressure2  \\\n",
       "0                       0       0.00    60.72       0.16   \n",
       "\n",
       "   Average yearly temperature (°C)  Min. Temperature (°C)  \\\n",
       "0                            15.44                   1.50   \n",
       "\n",
       "   Max. Temperature (°C)  Yearly Rainfall (mm)  Average year Humidity (%)  \\\n",
       "0                  33.70                   438                       0.55   \n",
       "\n",
       "   Rainy days per year (days)  Yearly Sun Hours (hours)     Province  \\\n",
       "0                          52                    107.50  ciudad real   \n",
       "\n",
       "                    Town  \n",
       "0  torralba de calatrava  "
      ]
     },
     "execution_count": 6,
     "metadata": {},
     "output_type": "execute_result"
    }
   ],
   "source": [
    "train_consolidated.head(1)"
   ]
  },
  {
   "cell_type": "code",
   "execution_count": 7,
   "id": "68fffff1",
   "metadata": {},
   "outputs": [],
   "source": [
    "#creating a subset for altering the dataset after initial EDA\n",
    "df_baseline = train_consolidated.copy()\n"
   ]
  },
  {
   "cell_type": "code",
   "execution_count": 16,
   "id": "faa8c5c7",
   "metadata": {},
   "outputs": [
    {
     "data": {
      "text/html": [
       "<div>\n",
       "<style scoped>\n",
       "    .dataframe tbody tr th:only-of-type {\n",
       "        vertical-align: middle;\n",
       "    }\n",
       "\n",
       "    .dataframe tbody tr th {\n",
       "        vertical-align: top;\n",
       "    }\n",
       "\n",
       "    .dataframe thead th {\n",
       "        text-align: right;\n",
       "    }\n",
       "</style>\n",
       "<table border=\"1\" class=\"dataframe\">\n",
       "  <thead>\n",
       "    <tr style=\"text-align: right;\">\n",
       "      <th></th>\n",
       "      <th>PipeId</th>\n",
       "      <th>No_Inspections</th>\n",
       "      <th>No_Incidents</th>\n",
       "      <th>InspectionYear</th>\n",
       "      <th>Probability_rate</th>\n",
       "      <th>preventive_maintenance_rate</th>\n",
       "      <th>Age_pipe_at_inspection</th>\n",
       "      <th>pipe_inspected_frequently</th>\n",
       "      <th>Average_MonthsLastRev</th>\n",
       "      <th>MonthsLastRev</th>\n",
       "      <th>relative_risk</th>\n",
       "      <th>average_severity_pipe</th>\n",
       "      <th>Incidence</th>\n",
       "      <th>YearBuilt</th>\n",
       "      <th>Diameter</th>\n",
       "      <th>Length</th>\n",
       "      <th>Pressure</th>\n",
       "      <th>NumConnections</th>\n",
       "      <th>NumConnectionsUnder</th>\n",
       "      <th>BoolBridle</th>\n",
       "      <th>aspect</th>\n",
       "      <th>Relative_Thickness</th>\n",
       "      <th>pipe_area</th>\n",
       "      <th>area_connection</th>\n",
       "      <th>incidence_area</th>\n",
       "      <th>connection_bool</th>\n",
       "      <th>Severity_high</th>\n",
       "      <th>Severity_medium</th>\n",
       "      <th>Severity_low</th>\n",
       "      <th>gas_natural</th>\n",
       "      <th>Material_Acrylonitrile-Butadiene-Styrene</th>\n",
       "      <th>Material_Copper</th>\n",
       "      <th>Material_Fiberglass-Reinforced Plastic</th>\n",
       "      <th>Material_Polyethylene</th>\n",
       "      <th>Material_Polypropylene</th>\n",
       "      <th>Diameter2</th>\n",
       "      <th>Length2</th>\n",
       "      <th>Pressure2</th>\n",
       "      <th>Average yearly temperature (°C)</th>\n",
       "      <th>Min. Temperature (°C)</th>\n",
       "      <th>Max. Temperature (°C)</th>\n",
       "      <th>Yearly Rainfall (mm)</th>\n",
       "      <th>Average year Humidity (%)</th>\n",
       "      <th>Rainy days per year (days)</th>\n",
       "      <th>Yearly Sun Hours (hours)</th>\n",
       "      <th>Province</th>\n",
       "      <th>Town</th>\n",
       "    </tr>\n",
       "  </thead>\n",
       "  <tbody>\n",
       "    <tr>\n",
       "      <th>0</th>\n",
       "      <td>489616</td>\n",
       "      <td>5</td>\n",
       "      <td>0.00</td>\n",
       "      <td>2013.00</td>\n",
       "      <td>0.00</td>\n",
       "      <td>0.00</td>\n",
       "      <td>1.00</td>\n",
       "      <td>1</td>\n",
       "      <td>21.40</td>\n",
       "      <td>16.00</td>\n",
       "      <td>0.00</td>\n",
       "      <td>4.00</td>\n",
       "      <td>0.00</td>\n",
       "      <td>2012</td>\n",
       "      <td>0.06</td>\n",
       "      <td>7.79</td>\n",
       "      <td>0.40</td>\n",
       "      <td>0</td>\n",
       "      <td>0</td>\n",
       "      <td>0</td>\n",
       "      <td>0.81</td>\n",
       "      <td>0.16</td>\n",
       "      <td>1.54</td>\n",
       "      <td>0.00</td>\n",
       "      <td>0.00</td>\n",
       "      <td>0</td>\n",
       "      <td>0</td>\n",
       "      <td>0</td>\n",
       "      <td>0</td>\n",
       "      <td>1</td>\n",
       "      <td>0</td>\n",
       "      <td>0</td>\n",
       "      <td>0</td>\n",
       "      <td>1</td>\n",
       "      <td>0</td>\n",
       "      <td>0.00</td>\n",
       "      <td>60.72</td>\n",
       "      <td>0.16</td>\n",
       "      <td>15.44</td>\n",
       "      <td>1.50</td>\n",
       "      <td>33.70</td>\n",
       "      <td>438</td>\n",
       "      <td>0.55</td>\n",
       "      <td>52</td>\n",
       "      <td>107.50</td>\n",
       "      <td>ciudad real</td>\n",
       "      <td>torralba de calatrava</td>\n",
       "    </tr>\n",
       "  </tbody>\n",
       "</table>\n",
       "</div>"
      ],
      "text/plain": [
       "   PipeId  No_Inspections  No_Incidents  InspectionYear  Probability_rate  \\\n",
       "0  489616               5          0.00         2013.00              0.00   \n",
       "\n",
       "   preventive_maintenance_rate  Age_pipe_at_inspection  \\\n",
       "0                         0.00                    1.00   \n",
       "\n",
       "   pipe_inspected_frequently  Average_MonthsLastRev  MonthsLastRev  \\\n",
       "0                          1                  21.40          16.00   \n",
       "\n",
       "   relative_risk  average_severity_pipe  Incidence  YearBuilt  Diameter  \\\n",
       "0           0.00                   4.00       0.00       2012      0.06   \n",
       "\n",
       "   Length  Pressure  NumConnections  NumConnectionsUnder  BoolBridle  aspect  \\\n",
       "0    7.79      0.40               0                    0           0    0.81   \n",
       "\n",
       "   Relative_Thickness  pipe_area  area_connection  incidence_area  \\\n",
       "0                0.16       1.54             0.00            0.00   \n",
       "\n",
       "   connection_bool  Severity_high  Severity_medium  Severity_low  gas_natural  \\\n",
       "0                0              0                0             0            1   \n",
       "\n",
       "   Material_Acrylonitrile-Butadiene-Styrene  Material_Copper  \\\n",
       "0                                         0                0   \n",
       "\n",
       "   Material_Fiberglass-Reinforced Plastic  Material_Polyethylene  \\\n",
       "0                                       0                      1   \n",
       "\n",
       "   Material_Polypropylene  Diameter2  Length2  Pressure2  \\\n",
       "0                       0       0.00    60.72       0.16   \n",
       "\n",
       "   Average yearly temperature (°C)  Min. Temperature (°C)  \\\n",
       "0                            15.44                   1.50   \n",
       "\n",
       "   Max. Temperature (°C)  Yearly Rainfall (mm)  Average year Humidity (%)  \\\n",
       "0                  33.70                   438                       0.55   \n",
       "\n",
       "   Rainy days per year (days)  Yearly Sun Hours (hours)     Province  \\\n",
       "0                          52                    107.50  ciudad real   \n",
       "\n",
       "                    Town  \n",
       "0  torralba de calatrava  "
      ]
     },
     "execution_count": 16,
     "metadata": {},
     "output_type": "execute_result"
    }
   ],
   "source": [
    "df_baseline.head(1)"
   ]
  },
  {
   "cell_type": "code",
   "execution_count": 8,
   "id": "2eb79226",
   "metadata": {},
   "outputs": [
    {
     "data": {
      "text/plain": [
       "Index(['PipeId', 'No_Inspections', 'No_Incidents', 'InspectionYear',\n",
       "       'Probability_rate', 'preventive_maintenance_rate',\n",
       "       'Age_pipe_at_inspection', 'pipe_inspected_frequently',\n",
       "       'Average_MonthsLastRev', 'MonthsLastRev', 'relative_risk',\n",
       "       'average_severity_pipe', 'Incidence', 'YearBuilt', 'Diameter', 'Length',\n",
       "       'Pressure', 'NumConnections', 'NumConnectionsUnder', 'BoolBridle',\n",
       "       'aspect', 'Relative_Thickness', 'pipe_area', 'area_connection',\n",
       "       'incidence_area', 'connection_bool', 'Severity_high', 'Severity_medium',\n",
       "       'Severity_low', 'gas_natural',\n",
       "       'Material_Acrylonitrile-Butadiene-Styrene', 'Material_Copper',\n",
       "       'Material_Fiberglass-Reinforced Plastic', 'Material_Polyethylene',\n",
       "       'Material_Polypropylene', 'Diameter2', 'Length2', 'Pressure2',\n",
       "       'Average yearly temperature (°C)', 'Min. Temperature (°C)',\n",
       "       'Max. Temperature (°C)', 'Yearly Rainfall (mm)',\n",
       "       'Average year Humidity (%)', 'Rainy days per year (days)',\n",
       "       'Yearly Sun Hours (hours)', 'Province', 'Town'],\n",
       "      dtype='object')"
      ]
     },
     "execution_count": 8,
     "metadata": {},
     "output_type": "execute_result"
    }
   ],
   "source": [
    "df_baseline.columns"
   ]
  },
  {
   "cell_type": "code",
   "execution_count": 9,
   "id": "d39607ba",
   "metadata": {},
   "outputs": [
    {
     "data": {
      "text/plain": [
       "0.025"
      ]
     },
     "execution_count": 9,
     "metadata": {},
     "output_type": "execute_result"
    },
    {
     "data": {
      "text/plain": [
       "80.0"
      ]
     },
     "execution_count": 9,
     "metadata": {},
     "output_type": "execute_result"
    }
   ],
   "source": [
    "#min max of Pressure in df_baseline\n",
    "df_baseline['Pressure'].min()\n",
    "df_baseline['Pressure'].max()\n",
    "\n"
   ]
  },
  {
   "cell_type": "code",
   "execution_count": 10,
   "id": "7eda8be4",
   "metadata": {},
   "outputs": [
    {
     "data": {
      "text/plain": [
       "<Figure size 1000x600 with 0 Axes>"
      ]
     },
     "execution_count": 10,
     "metadata": {},
     "output_type": "execute_result"
    },
    {
     "data": {
      "text/plain": [
       "<AxesSubplot: xlabel='Pressure'>"
      ]
     },
     "execution_count": 10,
     "metadata": {},
     "output_type": "execute_result"
    },
    {
     "data": {
      "text/plain": [
       "Text(0.5, 1.0, 'Pressure distribution')"
      ]
     },
     "execution_count": 10,
     "metadata": {},
     "output_type": "execute_result"
    },
    {
     "data": {
      "image/png": "[encoded data removed]",
      "text/plain": [
       "<Figure size 1000x600 with 1 Axes>"
      ]
     },
     "metadata": {},
     "output_type": "display_data"
    }
   ],
   "source": [
    "#plot pressure distribution with a violin plo\n",
    "plt.figure(figsize=(10, 6))\n",
    "sns.violinplot(x='Pressure', data=df_baseline)\n",
    "plt.title('Pressure distribution')\n",
    "plt.show()\n"
   ]
  },
  {
   "cell_type": "code",
   "execution_count": 18,
   "id": "ede20bb1",
   "metadata": {},
   "outputs": [
    {
     "data": {
      "text/plain": [
       "<Figure size 1000x600 with 0 Axes>"
      ]
     },
     "execution_count": 18,
     "metadata": {},
     "output_type": "execute_result"
    },
    {
     "data": {
      "text/plain": [
       "<AxesSubplot: xlabel='Average_MonthsLastRev'>"
      ]
     },
     "execution_count": 18,
     "metadata": {},
     "output_type": "execute_result"
    },
    {
     "data": {
      "text/plain": [
       "Text(0.5, 1.0, 'Average_MonthsLastRev for Pressure< 5')"
      ]
     },
     "execution_count": 18,
     "metadata": {},
     "output_type": "execute_result"
    },
    {
     "data": {
      "image/png": "[encoded data removed]",
      "text/plain": [
       "<Figure size 1000x600 with 1 Axes>"
      ]
     },
     "metadata": {},
     "output_type": "display_data"
    }
   ],
   "source": [
    "#plot Average_MonthsLastRev for Pressure > 16 and plot it\n",
    "plt.figure(figsize=(10, 6))\n",
    "sns.violinplot(x='Average_MonthsLastRev', data=df_baseline[df_baseline['Pressure'] < 5])\n",
    "plt.title('Average_MonthsLastRev for Pressure< 5')\n",
    "plt.show()\n",
    "\n",
    "\n"
   ]
  },
  {
   "cell_type": "code",
   "execution_count": 19,
   "id": "b76037de",
   "metadata": {},
   "outputs": [
    {
     "data": {
      "text/plain": [
       "<Figure size 1000x600 with 0 Axes>"
      ]
     },
     "execution_count": 19,
     "metadata": {},
     "output_type": "execute_result"
    },
    {
     "data": {
      "text/plain": [
       "<AxesSubplot: xlabel='Average_MonthsLastRev', ylabel='Pressure'>"
      ]
     },
     "execution_count": 19,
     "metadata": {},
     "output_type": "execute_result"
    },
    {
     "data": {
      "text/plain": [
       "Text(0.5, 1.0, 'Average_MonthsLastRev and Pressure')"
      ]
     },
     "execution_count": 19,
     "metadata": {},
     "output_type": "execute_result"
    },
    {
     "data": {
      "image/png": "[encoded data removed]",
      "text/plain": [
       "<Figure size 1000x600 with 1 Axes>"
      ]
     },
     "metadata": {},
     "output_type": "display_data"
    }
   ],
   "source": [
    "#plot Average_MonthsLastRev and Pressure in seaborn\n",
    "plt.figure(figsize=(10, 6))\n",
    "sns.scatterplot(x='Average_MonthsLastRev', y='Pressure', data=df_baseline)\n",
    "plt.title('Average_MonthsLastRev and Pressure')\n",
    "plt.show()\n",
    "\n"
   ]
  },
  {
   "cell_type": "code",
   "execution_count": null,
   "id": "32f80a8f",
   "metadata": {},
   "outputs": [],
   "source": [
    "plt.figure(figsize=(10, 6))\n",
    "sns.scatterplot(x='Average_MonthsLastRev', y='Pressure', hue='MaterialType', data=df_baseline)\n",
    "plt.title('Average_MonthsLastRev and Pressure')\n",
    "plt.show()\n",
    "\n"
   ]
  },
  {
   "cell_type": "code",
   "execution_count": null,
   "id": "ad6f835c",
   "metadata": {},
   "outputs": [],
   "source": [
    "df_baseline[df_baseline['Pressure']>16]['No Incidents'].mean()\n"
   ]
  },
  {
   "attachments": {},
   "cell_type": "markdown",
   "id": "420fecf2",
   "metadata": {},
   "source": [
    "# Merging another dataset"
   ]
  },
  {
   "cell_type": "code",
   "execution_count": null,
   "id": "d73ad532",
   "metadata": {},
   "outputs": [],
   "source": []
  },
  {
   "attachments": {},
   "cell_type": "markdown",
   "id": "171612cd",
   "metadata": {},
   "source": [
    "# Deleting more columns before PCA based on correlation"
   ]
  },
  {
   "cell_type": "code",
   "execution_count": null,
   "id": "cd7b3627",
   "metadata": {},
   "outputs": [],
   "source": [
    "#delete columns 'Probability_rate', 'preventive_maintenance_rate', 'relative_risk','average_severity_pipe', 'Severity_high', 'Severity_medium', 'Severity_low' from df_baseline\n",
    "df_baseline.drop(['Probability_rate', 'preventive_maintenance_rate', 'relative_risk','average_severity_pipe', 'Severity_high', 'Severity_medium', 'Severity_low', 'Province', 'Town'], axis=1, inplace=True)\n"
   ]
  },
  {
   "cell_type": "markdown",
   "id": "83a3ebe4",
   "metadata": {},
   "source": [
    "# Performing dimensionality reduction"
   ]
  },
  {
   "cell_type": "code",
   "execution_count": null,
   "id": "2ab0c611",
   "metadata": {},
   "outputs": [],
   "source": [
    "#perform an incremental PCA to reduce the number of features in df_baseline using the elbow method and return a dataframe with the new features\n",
    "def incremental_pca(df, n_components):\n",
    "    pca = IncrementalPCA(n_components=n_components, batch_size=10)\n",
    "    pca.fit(df)\n",
    "    print(pca.explained_variance_ratio_)\n",
    "    print(pca.explained_variance_ratio_.cumsum())\n",
    "    df_pca = pd.DataFrame(pca.transform(df))\n",
    "    return df_pca\n",
    "\n",
    "#plot the explained variance ratio for the incremental PCA\n",
    "def plot_explained_variance_ratio(df):\n",
    "    pca = PCA().fit(df)\n",
    "    plt.plot(np.cumsum(pca.explained_variance_ratio_))\n",
    "    plt.xlabel('number of components')\n",
    "    plt.ylabel('cumulative explained variance')\n",
    "    plt.show()\n",
    "\n",
    "\n"
   ]
  },
  {
   "cell_type": "code",
   "execution_count": null,
   "id": "4f9c2d60",
   "metadata": {},
   "outputs": [],
   "source": []
  },
  {
   "cell_type": "code",
   "execution_count": null,
   "id": "c55ef383",
   "metadata": {},
   "outputs": [],
   "source": [
    "from sklearn.decomposition import IncrementalPCA\n",
    "from sklearn.preprocessing import StandardScaler\n",
    "\n",
    "#standardize the data\n",
    "scaler = StandardScaler()\n",
    "df_baseline_scaled = scaler.fit_transform(df_baseline)\n",
    "\n",
    "#perform incremental PCA\n",
    "pca = IncrementalPCA(n_components=17)\n",
    "df_baseline_scaled_pca = pca.fit_transform(df_baseline_scaled)\n",
    "\n",
    "#plot the explained variance ratio\n",
    "plt.plot(np.cumsum(pca.explained_variance_ratio_))\n",
    "plt.xlabel('number of components')\n",
    "plt.ylabel('cumulative explained variance');\n",
    "\n"
   ]
  },
  {
   "cell_type": "code",
   "execution_count": null,
   "id": "47f204b7",
   "metadata": {},
   "outputs": [],
   "source": [
    "#eliminate dataframes to free up RAM\n",
    "del train_consolidated"
   ]
  },
  {
   "cell_type": "code",
   "execution_count": null,
   "id": "b100ca38",
   "metadata": {},
   "outputs": [],
   "source": [
    "df_baseline_scaled_pca.head(1)"
   ]
  },
  {
   "cell_type": "markdown",
   "id": "866da4a8",
   "metadata": {},
   "source": [
    "# Data Pre-Processing"
   ]
  },
  {
   "cell_type": "markdown",
   "id": "fd41f9d2",
   "metadata": {},
   "source": [
    "Machine Learning algorithms don't perform well when the input numerical attributes have very different scales. Since we have very skewed data, __standardization__ is much less affected by outliers and it is the one we will choose __instead of normalization__.\n"
   ]
  },
  {
   "cell_type": "code",
   "execution_count": null,
   "id": "2dbd8134",
   "metadata": {},
   "outputs": [],
   "source": [
    "df_baseline.columns"
   ]
  },
  {
   "cell_type": "code",
   "execution_count": null,
   "id": "7c50bc38",
   "metadata": {},
   "outputs": [],
   "source": [
    "df_baseline.dtypes"
   ]
  },
  {
   "cell_type": "code",
   "execution_count": null,
   "id": "86211d89",
   "metadata": {},
   "outputs": [],
   "source": [
    "change_dtypes(df_baseline)"
   ]
  },
  {
   "attachments": {},
   "cell_type": "markdown",
   "id": "d961fba7",
   "metadata": {},
   "source": [
    "# Stratigying while undersampling\n"
   ]
  },
  {
   "cell_type": "code",
   "execution_count": null,
   "id": "3e0d1e24",
   "metadata": {},
   "outputs": [],
   "source": [
    "#prforming an undersampling of the dataset to balance the target variable\n",
    "df_baseline['Incidence'].value_counts()\n",
    "\n",
    "#undersampling the dataset\n",
    "df_baseline = df_baseline.groupby('Incidence').apply(lambda x: x.sample(df_baseline['Incidence'].value_counts().min(), random_state=42)).reset_index(drop=True)\n",
    "\n",
    "df_baseline['Incidence'].value_counts()\n"
   ]
  },
  {
   "cell_type": "code",
   "execution_count": null,
   "id": "f55ea2f0",
   "metadata": {},
   "outputs": [],
   "source": [
    "\n",
    "#creating a copy of the dataset to perform EDA\n",
    "df_baseline_eda = df_baseline.copy()\n",
    "\n",
    "#eliminate dataframes to free up RAM\n",
    "del df_baseline\n",
    "\n"
   ]
  },
  {
   "attachments": {},
   "cell_type": "markdown",
   "id": "cf1abca0",
   "metadata": {},
   "source": [
    "# SMOTE to tackle the unbalanced dataset problem"
   ]
  },
  {
   "cell_type": "code",
   "execution_count": null,
   "id": "dc87dd64",
   "metadata": {},
   "outputs": [],
   "source": [
    "#sow how many records does Incident have on df_baseline\n",
    "df_baseline['Incidence'].value_counts()\n"
   ]
  },
  {
   "cell_type": "code",
   "execution_count": null,
   "id": "e57968ab",
   "metadata": {},
   "outputs": [],
   "source": [
    "#using SMOTE to balance the dataset creating a subset dataset with target y = 'Incidence' and removing Incidence','MonthsLastRev','InspectionDay','PipeId', 'MaintenanceId', 'InspectionYear', 'InspectionDate',  'Province', 'Town', 'YearBuilt' for x\n",
    "from imblearn.over_sampling import SMOTE\n",
    "X = df_baseline.drop(['PipeId','Province', 'Town'], axis=1)\n",
    "y = df_baseline['Incidence']\n",
    "sm = SMOTE(random_state=42)\n",
    "X_res, y_res = sm.fit_resample(X, y)\n",
    "X_res.shape,y_res.shape\n",
    "\n",
    "#create a pandas dataframe with the new balanced dataset\n",
    "df_baseline_balanced = pd.DataFrame(X_res, columns=X.columns)\n",
    "df_baseline_balanced['Incidence'] = y_res\n",
    "df_baseline_balanced.head()\n"
   ]
  },
  {
   "cell_type": "code",
   "execution_count": null,
   "id": "0ba4bdbd",
   "metadata": {},
   "outputs": [],
   "source": [
    "df_baseline_balanced['Incidence'].value_counts()"
   ]
  },
  {
   "cell_type": "code",
   "execution_count": null,
   "id": "90386de3",
   "metadata": {},
   "outputs": [],
   "source": [
    "df_baseline_balanced.shape"
   ]
  },
  {
   "cell_type": "code",
   "execution_count": null,
   "id": "65a356ac",
   "metadata": {},
   "outputs": [],
   "source": [
    "df_baseline.shape"
   ]
  },
  {
   "attachments": {},
   "cell_type": "markdown",
   "id": "23a887d7",
   "metadata": {},
   "source": [
    "# Another method for stratifying"
   ]
  },
  {
   "attachments": {
    "image.png": {
     "image/png": "[encoded data removed]"
    }
   },
   "cell_type": "markdown",
   "id": "55b19c69",
   "metadata": {},
   "source": [
    "We take out the validation set for now and NEVER LOOK AT IT!!\n",
    "\n",
    "Let's recap, by now we have done:\n",
    "\n",
    "- Data standardization for non boolean values\n",
    "\n",
    "- SMOTE for balancing the dataset\n",
    "\n",
    "    - Removed all categortical variables in the process\n",
    "\n",
    "- Created polinomial features for length, diameter and pressure\n",
    "\n",
    "-Used Stratified Shuffle Split to divide our huge now balanced dataset (at expense of duplicating rows)\n",
    "\n",
    "    -We now have a subset to use for training and validation\n",
    "    \n",
    "        -The training subset (strat_train_set) is going to be subdivided with a normal split\n",
    "\n",
    "            -train\n",
    "            -test\n",
    "\n",
    "        -Idea is to iterate models between train and test subsplits and final validate against validation\n",
    "\n",
    "![image.png](attachment:image.png)"
   ]
  },
  {
   "cell_type": "code",
   "execution_count": null,
   "id": "2fd94632",
   "metadata": {},
   "outputs": [],
   "source": [
    "#do a split in df_baseline_balanced to create a train and test dataset\n",
    "from sklearn.model_selection import train_test_split\n",
    "X_train, X_test, y_train, y_test = train_test_split(df_baseline_balanced.drop(['Incidence'], axis=1), df_baseline_balanced['Incidence'], test_size=0.2, random_state=42)\n",
    "\n",
    "#point to the folder where the data is stored\n",
    "os.chdir(r\"C:\\Users\\pedro\\datathon\\dataframes\")\n",
    "\n",
    "#store the train and test datasets in a folder\n",
    "X_train.to_csv('X_train.csv', index=False)\n",
    "X_test.to_csv('X_test.csv', index=False)\n",
    "y_train.to_csv('y_train.csv', index=False)\n",
    "y_test.to_csv('y_test.csv', index=False)\n",
    "\n"
   ]
  },
  {
   "attachments": {},
   "cell_type": "markdown",
   "id": "4a4bc545",
   "metadata": {},
   "source": [
    "# Baselines FROM HERE!!!!"
   ]
  },
  {
   "attachments": {},
   "cell_type": "markdown",
   "id": "a0f2e5a9",
   "metadata": {},
   "source": [
    "## Random Forest Classifier"
   ]
  },
  {
   "cell_type": "code",
   "execution_count": null,
   "id": "04f4715c",
   "metadata": {},
   "outputs": [],
   "source": [
    "#rfc using regularization and gridsearch to find the best parameters for the model\n",
    "from sklearn.ensemble import RandomForestClassifier\n",
    "from sklearn.model_selection import GridSearchCV\n",
    "from sklearn.metrics import classification_report, confusion_matrix, accuracy_score\n",
    "from sklearn.model_selection import cross_val_score\n",
    "from sklearn.model_selection import RepeatedStratifiedKFold\n",
    "from sklearn.model_selection import cross_val_predict\n",
    "from sklearn.metrics import roc_auc_score\n",
    "from sklearn.metrics import roc_curve\n",
    "from sklearn.metrics import precision_recall_curve\n",
    "from sklearn.metrics import f1_score\n",
    "from sklearn.metrics import auc\n",
    "from sklearn.metrics import average_precision_score\n",
    "\n",
    "# define model\n",
    "model = RandomForestClassifier()\n",
    "# define model evaluation method\n",
    "cv = RepeatedStratifiedKFold(n_splits=10, n_repeats=3, random_state=1)\n",
    "# define grid\n",
    "grid = dict()\n",
    "grid['n_estimators'] = [100, 200, 300, 400, 500, 600, 700, 800, 900, 1000]\n",
    "grid['max_depth'] = [10, 20, 30, 40, 50, 60, 70, 80, 90, 100, None]\n",
    "grid['min_samples_split'] = [2, 5, 10]\n",
    "grid['min_samples_leaf'] = [1, 2, 4]\n",
    "grid['max_features'] = ['auto', 'sqrt']\n",
    "# define search\n",
    "search = GridSearchCV(model, grid, scoring='roc_auc', n_jobs=-1, cv=cv)\n",
    "# perform the search\n",
    "results = search.fit(X_train, y_train)\n",
    "\n",
    "# summarize\n",
    "print('Best Score: %s' % results.best_score_)\n",
    "print('Best Hyperparameters: %s' % results.best_params_)"
   ]
  },
  {
   "cell_type": "code",
   "execution_count": null,
   "id": "5689cc5f",
   "metadata": {},
   "outputs": [],
   "source": [
    "#random forest classifier on train set, predict target on train and test set and show accuracy scores using all cores\n",
    "\n",
    "from sklearn.ensemble import RandomForestClassifier\n",
    "rfc = RandomForestClassifier(n_estimators=20, n_jobs=-1, random_state=42)\n",
    "rfc.fit(X_train, y_train)\n",
    "rfc_pred = rfc.predict(X_test)\n",
    "rfc_pred_train = rfc.predict(X_train)\n",
    "print('Accuracy score for train set:',accuracy_score(y_train, rfc_pred_train))\n",
    "print('Accuracy score for test set:',accuracy_score(y_test, rfc_pred))\n",
    "\n",
    "\n"
   ]
  },
  {
   "cell_type": "code",
   "execution_count": null,
   "id": "b37493a0",
   "metadata": {},
   "outputs": [],
   "source": [
    "#test rfc in valiodation set\n",
    "rfc_pred_val = rfc.predict(df_baseline_balanced.drop(['Incidence'], axis=1))\n",
    "print('Accuracy score for validation set:',accuracy_score(df_baseline_balanced['Incidence'], rfc_pred_val))\n"
   ]
  },
  {
   "cell_type": "code",
   "execution_count": null,
   "id": "5c418779",
   "metadata": {},
   "outputs": [],
   "source": [
    "#crossvalidation on validation set\n",
    "from sklearn.model_selection import cross_val_score\n",
    "rfc_cv = cross_val_score(rfc, df_baseline_balanced.drop(['Incidence'], axis=1), df_baseline_balanced['Incidence'], cv=5)\n",
    "print('Cross validation score:',rfc_cv.mean())\n"
   ]
  },
  {
   "attachments": {},
   "cell_type": "markdown",
   "id": "46418df9",
   "metadata": {},
   "source": [
    "## Random Forest Classifier tuned\n",
    "Goal is to avouid overfitting"
   ]
  },
  {
   "cell_type": "code",
   "execution_count": null,
   "id": "774d743f",
   "metadata": {},
   "outputs": [],
   "source": [
    "#rfc on train set using cross validation and predict target on train and test set and show accuracy scores using all cores\n",
    "from sklearn.ensemble import RandomForestClassifier\n",
    "rfc = RandomForestClassifier(n_estimators=70, n_jobs=-1, random_state=42, max_depth=2, min_samples_leaf=8, min_samples_split=10, max_features=0.2)\n",
    "rfc.fit(X_train, y_train)\n",
    "rfc_pred = rfc.predict(X_test)\n",
    "rfc_pred_train = rfc.predict(X_train)\n",
    "print('Accuracy score for train set:',accuracy_score(y_train, rfc_pred_train))\n",
    "print('Accuracy score for test set:',accuracy_score(y_test, rfc_pred))\n"
   ]
  },
  {
   "cell_type": "code",
   "execution_count": null,
   "id": "99de0369",
   "metadata": {},
   "outputs": [],
   "source": [
    "\n",
    "#do cross validation on train set\n",
    "from sklearn.model_selection import cross_val_score\n",
    "rfc_cv = cross_val_score(rfc, X_train, y_train, cv=5)\n",
    "print('Cross validation score:',rfc_cv.mean())\n",
    "\n",
    "#test rfc in valiodation set\n",
    "rfc_pred_val = rfc.predict(strat_validation_set.drop(['Incidence'], axis=1))\n",
    "print('Accuracy score for validation set:',accuracy_score(strat_validation_set['Incidence'], rfc_pred_val))\n",
    "\n",
    "#crossvalidation on validation set\n",
    "from sklearn.model_selection import cross_val_score \n",
    "rfc_cv = cross_val_score(rfc, strat_validation_set.drop(['Incidence'], axis=1), strat_validation_set['Incidence'], cv=5)    \n",
    "print('Cross validation score:',rfc_cv.mean())\n",
    "\n",
    "#rfc on train set using cross validation and predict target on train and test set and show accuracy scores using all cores\n",
    "from sklearn.ensemble import RandomForestClassifier\n",
    "rfc = RandomForestClassifier(n_estimators=70, n_jobs=-1, random_state=42, max_depth=2, min_samples_leaf=8, min_samples_split=10, max_features=0.2)\n",
    "rfc.fit(X_train, y_train)\n",
    "rfc_pred = rfc.predict(X_test)\n",
    "rfc_pred_train = rfc.predict(X_train)\n",
    "print('Accuracy score for train set:',accuracy_score(y_train, rfc_pred_train))\n",
    "print('Accuracy score for test set:',accuracy_score(y_test, rfc_pred))\n",
    "\n",
    "\n"
   ]
  },
  {
   "cell_type": "code",
   "execution_count": null,
   "id": "487c4264",
   "metadata": {},
   "outputs": [],
   "source": [
    "#rfc on train set, predict target on train and test set and show accuracy scores using all cores, increasing regularization parameter\n",
    "\n",
    "from sklearn.ensemble import RandomForestClassifier\n",
    "rfc2 = RandomForestClassifier(n_estimators=70, n_jobs=-1, random_state=42, max_depth=2, min_samples_leaf=8, min_samples_split=10, max_features=0.2)\n",
    "rfc2.fit(X_train, y_train)\n",
    "rfc2_pred = rfc2.predict(X_test)\n",
    "rfc2_pred_train = rfc2.predict(X_train)\n",
    "print('Accuracy score for train set:',accuracy_score(y_train, rfc2_pred_train))\n",
    "print('Accuracy score for test set:',accuracy_score(y_test, rfc2_pred))\n"
   ]
  },
  {
   "cell_type": "code",
   "execution_count": null,
   "id": "7ddd436c",
   "metadata": {},
   "outputs": [],
   "source": []
  },
  {
   "attachments": {},
   "cell_type": "markdown",
   "id": "37d0ee67",
   "metadata": {},
   "source": [
    "# The Graveyard"
   ]
  },
  {
   "attachments": {},
   "cell_type": "markdown",
   "id": "6ef674dd",
   "metadata": {},
   "source": []
  },
  {
   "cell_type": "markdown",
   "id": "4ad778cb",
   "metadata": {},
   "source": [
    "## Using Standard Scaler"
   ]
  },
  {
   "cell_type": "code",
   "execution_count": null,
   "id": "ce0451b0",
   "metadata": {},
   "outputs": [],
   "source": [
    "#Scaling data in df_baseline dataset except object columns and boolean values\n",
    "cols_to_scale = ['Diameter', 'Length', 'Pressure', 'NumConnections','NumConnectionsUnder','Relative_Thickness', 'Age_of_Pipe_upon_inspection']\n",
    "df_baseline[cols_to_scale] = StandardScaler().fit_transform(df_baseline[cols_to_scale])\n",
    "\n",
    "df_baseline.head()\n"
   ]
  },
  {
   "cell_type": "code",
   "execution_count": null,
   "id": "ac861453",
   "metadata": {},
   "outputs": [],
   "source": [
    "#converting to absolute values 'NumConnections','NumConnectionsUnder','Relative_Thickness', 'Age_of_Pipe_upon_inspection'\n",
    "df_baseline['NumConnections'] = df_baseline['NumConnections'].abs()\n",
    "df_baseline['NumConnectionsUnder'] = df_baseline['NumConnectionsUnder'].abs()\n",
    "df_baseline['Relative_Thickness'] = df_baseline['Relative_Thickness'].abs()\n",
    "df_baseline['Age_of_Pipe_upon_inspection'] = df_baseline['Age_of_Pipe_upon_inspection'].abs()\n",
    "\n",
    "df_baseline.head(1)"
   ]
  },
  {
   "cell_type": "code",
   "execution_count": null,
   "id": "ac5cf016",
   "metadata": {},
   "outputs": [],
   "source": [
    "#stratify Incidence variable to have a balanced dataset for the model\n",
    "df_baseline['Incidence'].value_counts()\n",
    "\n",
    "#split the dataset into train and test\n",
    "X_train, X_test, y_train, y_test = train_test_split(df_baseline.drop(['PipeId','Province', 'Town','Incidence'], axis=1), df_baseline['Incidence'], test_size=0.2, random_state=42, stratify=df_baseline['Incidence'])\n",
    "\n",
    "#check the shape of the train and test datasets\n",
    "X_train.shape\n",
    "X_test.shape\n",
    "\n",
    "\n"
   ]
  },
  {
   "cell_type": "code",
   "execution_count": null,
   "id": "6852f902",
   "metadata": {},
   "outputs": [],
   "source": [
    "#use stratified shuffle split to split df_baseline_balanced into train and validation sets in a balanced way\n",
    "from sklearn.model_selection import StratifiedShuffleSplit\n",
    "split = StratifiedShuffleSplit(n_splits=1, test_size=0.2, random_state=42)\n",
    "for train_index, test_index in split.split(df_baseline_balanced, df_baseline_balanced['Incidence']):\n",
    "    strat_train_set = df_baseline_balanced.loc[train_index]\n",
    "    strat_validation_set = df_baseline_balanced.loc[test_index]\n",
    "strat_validation_set['Incidence'].value_counts()/len(strat_train_set)\n",
    "\n",
    "strat_validation_set['Incidence'].value_counts()/len(strat_validation_set)"
   ]
  },
  {
   "cell_type": "code",
   "execution_count": null,
   "id": "68332699",
   "metadata": {},
   "outputs": [],
   "source": [
    "#show the number of records for Incidence in each set\n",
    "strat_train_set['Incidence'].value_counts()\n"
   ]
  },
  {
   "cell_type": "code",
   "execution_count": null,
   "id": "148e43b5",
   "metadata": {},
   "outputs": [],
   "source": [
    "strat_validation_set['Incidence'].value_counts()\n"
   ]
  }
 ],
 "metadata": {
  "kernelspec": {
   "display_name": "Python 3",
   "language": "python",
   "name": "python3"
  },
  "language_info": {
   "codemirror_mode": {
    "name": "ipython",
    "version": 3
   },
   "file_extension": ".py",
   "mimetype": "text/x-python",
   "name": "python",
   "nbconvert_exporter": "python",
   "pygments_lexer": "ipython3",
   "version": "3.10.10"
  },
  "vscode": {
   "interpreter": {
    "hash": "326e4f63ad54c217260fc7be1c53acea6ef3ea6cd7ac93b3b02195c6d8fa7cb8"
   }
  }
 },
 "nbformat": 4,
 "nbformat_minor": 5
}
