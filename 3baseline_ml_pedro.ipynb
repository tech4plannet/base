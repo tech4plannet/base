{
 "cells": [
  {
   "attachments": {},
   "cell_type": "markdown",
   "id": "c6ba2d28",
   "metadata": {},
   "source": [
    "# Libraries used\n",
    "\n",
    "Running Kernel3.9.13 base anaconda"
   ]
  },
  {
   "attachments": {},
   "cell_type": "markdown",
   "id": "a47ff5b1",
   "metadata": {},
   "source": [
    "pip install squarify\n",
    "pip install yellowbrick\n",
    "pip install plotly\n",
    "pip install seaborn\n",
    "pip install lazypredict\n",
    "pip install pandas_profiling"
   ]
  },
  {
   "cell_type": "code",
   "execution_count": 1,
   "id": "1e469ce3",
   "metadata": {},
   "outputs": [],
   "source": [
    "import pandas as pd\n",
    "import numpy as np\n",
    "import seaborn as sns  \n",
    "import matplotlib.pyplot as plt\n",
    "import plotly.io as pio\n",
    "#import squarify #treemap\n",
    "import os\n",
    "import matplotlib\n",
    "import warnings\n",
    "\n",
    "from imblearn.over_sampling import SMOTE\n",
    "\n",
    "\n",
    "#to enable the inline plotting\n",
    "%matplotlib inline \n",
    "\n",
    "import warnings\n",
    "warnings.filterwarnings('ignore')\n",
    "\n",
    "sns.set_style(\"darkgrid\")"
   ]
  },
  {
   "cell_type": "code",
   "execution_count": 2,
   "id": "e3cc5995",
   "metadata": {},
   "outputs": [],
   "source": [
    "from sklearn.linear_model import LogisticRegression\n",
    "\n",
    "from sklearn.model_selection import cross_val_score\n",
    "from sklearn.model_selection import RepeatedStratifiedKFold\n",
    "from sklearn.model_selection import cross_val_score\n",
    "from sklearn.model_selection import train_test_split\n",
    "\n",
    "from sklearn.metrics import accuracy_score, confusion_matrix, classification_report\n",
    "from sklearn.metrics import classification_report\n",
    "\n",
    "from sklearn.naive_bayes import GaussianNB\n",
    "from sklearn.tree import DecisionTreeClassifier\n",
    "from sklearn.neighbors import KNeighborsClassifier\n",
    "#rfc using regularization and gridsearch to find the best parameters for the model\n",
    "from sklearn.ensemble import RandomForestClassifier\n",
    "from sklearn.model_selection import GridSearchCV\n",
    "from sklearn.metrics import classification_report, confusion_matrix, accuracy_score\n",
    "from sklearn.model_selection import cross_val_score\n",
    "from sklearn.model_selection import RepeatedStratifiedKFold\n",
    "from sklearn.model_selection import cross_val_predict\n",
    "from sklearn.metrics import roc_auc_score\n",
    "from sklearn.metrics import roc_curve\n",
    "from sklearn.metrics import precision_recall_curve\n",
    "from sklearn.metrics import f1_score\n",
    "from sklearn.metrics import auc\n",
    "from sklearn.metrics import average_precision_score\n",
    "\n",
    "from sklearn.ensemble import RandomForestClassifier\n",
    "from sklearn.ensemble import GradientBoostingClassifier\n",
    "\n",
    "from sklearn.preprocessing import StandardScaler\n",
    "\n",
    "from sklearn.decomposition import IncrementalPCA\n",
    "from sklearn.preprocessing import StandardScaler\n",
    "from sklearn.decomposition import PCA\n",
    "\n",
    "from scipy.stats import normaltest\n",
    "\n",
    "from pandas_profiling import ProfileReport\n",
    "\n",
    "from yellowbrick.classifier import ROCAUC\n",
    "from yellowbrick.classifier import ClassPredictionError\n",
    "from yellowbrick.style.palettes import PALETTES, SEQUENCES, color_palette\n",
    "\n",
    "import lazypredict\n",
    "from lazypredict.Supervised import LazyClassifier\n",
    "\n",
    "\n",
    "warnings.simplefilter(action='ignore', category=FutureWarning)"
   ]
  },
  {
   "cell_type": "code",
   "execution_count": 3,
   "id": "cf1b672f",
   "metadata": {},
   "outputs": [],
   "source": [
    "# Function for EDA. Using the display() function to have  well-formatted tables. We are mainly using pandas to explore the datasets\n",
    "\n",
    "def dataset_description(df_target):\n",
    "\n",
    "    print('This is the Dataset shape: %s\\n' % (df_target.shape, ))\n",
    "    print('Dataset columns: %s\\n' % df_target.columns)\n",
    "\n",
    "    print('\\nColumns description:\\n')\n",
    "    display(df_target.info())\n",
    "    display(df_target.describe())  # describe the dataset\n",
    "\n",
    "    print('\\nNull values:\\n')\n",
    "    display(df_target.isnull().sum())  # Identify null values\n",
    "\n",
    "#function performing a quick check on df_inspection to have best of pandas functions separated by a line\n",
    "def quick_check(dataframe):\n",
    "    print('First 5 rows %s\\n')\n",
    "    print(dataframe.head(2))\n",
    "    print(\"=====================================\")\n",
    "    print('Dataframe shape %s\\n')\n",
    "    print(dataframe.shape)\n",
    "    print(\"=====================================\")\n",
    "    print('Dataframe describe categorical %s\\n')\n",
    "    print(dataframe.describe(include=['O']))\n",
    "    print(\"=====================================\")\n",
    "    print('Dataframe null values %s\\n')\n",
    "    print(dataframe.isnull().sum())\n",
    "    print(\"=====================================\")\n",
    "    print('Dataframe value counts %s\\n')\n",
    "    print(dataframe.value_counts())\n",
    "    print(\"=====================================\")\n",
    "\n",
    "#stats function\n",
    "def stats(dataframe):\n",
    "    print('Dataframe correlation %s\\n')\n",
    "    print(dataframe.corr())\n",
    "    print(\"=====================================\")\n",
    "    print('Dataframe covariance %s\\n')\n",
    "    print(dataframe.cov())\n",
    "    print(\"=====================================\")\n",
    "    print('Dataframe skew %s\\n')\n",
    "    print(dataframe.skew())\n",
    "    print(\"=====================================\")\n",
    "    print('Dataframe kurtosis %s\\n')\n",
    "    print(dataframe.kurt())\n",
    "    print(\"=====================================\")\n",
    "\n",
    "#create a function to normalize characters from a dataset's column in Spanish\n",
    "def normalize_characters(df, column):\n",
    "    df[column] = df[column].str.normalize('NFKD').str.encode('ascii', errors='ignore').str.decode('utf-8')\n",
    "    df[column] = df[column].str.lower()\n",
    "    df[column] = df[column].str.replace('á', 'a')\n",
    "    df[column] = df[column].str.replace('é', 'e')\n",
    "    df[column] = df[column].str.replace('í', 'i')\n",
    "    df[column] = df[column].str.replace('ó', 'o')\n",
    "    df[column] = df[column].str.replace('ú', 'u')\n",
    "    df[column] = df[column].str.replace('ñ', 'n')\n",
    "    df[column] = df[column].str.replace('ü', 'u')\n",
    "    df[column] = df[column].str.replace('ç', 'c')\n",
    "    df[column] = df[column].str.replace('(', '')\n",
    "    df[column] = df[column].str.replace(')', '')\n",
    "    df[column] = df[column].str.replace('\\'', '')\n",
    "    df[column] = df[column].str.replace('´', '')\n",
    "    df[column] = df[column].str.replace('`', '')\n",
    "    df[column] = df[column].str.replace('’', '')\n",
    "    return df.head(2)\n",
    "\n",
    "#create function to change detypes in64 to int32 in a df\n",
    "def change_dtypes(df):\n",
    "    for col in df.columns:\n",
    "        if df[col].dtype == 'int64':\n",
    "            df[col] = df[col].astype('int32')\n",
    "        elif df[col].dtype == 'float64':\n",
    "            df[col] = df[col].astype('float32')\n",
    "    return df\n",
    "\n",
    "def outlier_function(df, col_name):\n",
    "    \"\"\" this function detects first and third quartile and interquartile range for a given column of a dataframe\n",
    "    then calculates upper and lower limits to determine outliers conservatively\n",
    "    returns the number of lower and uper limit and number of outliers respectively\"\"\"\n",
    "    first_quartile = np.percentile(np.array(df[col_name].tolist()), 25)\n",
    "    third_quartile = np.percentile(np.array(df[col_name].tolist()), 75)\n",
    "    IQR = third_quartile - first_quartile\n",
    "                        \n",
    "    upper_limit = third_quartile+(3*IQR)\n",
    "    lower_limit = first_quartile-(3*IQR)\n",
    "    outlier_count = 0\n",
    "                    \n",
    "    for value in df[col_name].tolist():\n",
    "        if (value < lower_limit) | (value > upper_limit):\n",
    "            outlier_count +=1\n",
    "        else:\n",
    "            pass\n",
    "    return lower_limit, upper_limit, outlier_count"
   ]
  },
  {
   "cell_type": "code",
   "execution_count": 4,
   "id": "8e28e941",
   "metadata": {},
   "outputs": [],
   "source": [
    "#show all print outputs when using a function\n",
    "from IPython.core.interactiveshell import InteractiveShell\n",
    "InteractiveShell.ast_node_interactivity = \"all\"\n",
    "\n",
    "#display all columns\n",
    "pd.set_option('display.max_columns', None)\n"
   ]
  },
  {
   "cell_type": "markdown",
   "id": "1ebce254",
   "metadata": {},
   "source": [
    "# Importing previous dataset"
   ]
  },
  {
   "cell_type": "code",
   "execution_count": 5,
   "id": "3dad7faa",
   "metadata": {},
   "outputs": [],
   "source": [
    "#point to the folder where the data is stored\n",
    "os.chdir(r\"C:\\Users\\pedro\\datathon\")\n",
    "\n",
    "# Loading combined_mod dataset\n",
    "train_consolidated = pd.read_csv('train_consolidated_weather.csv')\n"
   ]
  },
  {
   "cell_type": "markdown",
   "id": "02933a92",
   "metadata": {
    "tags": []
   },
   "source": [
    "\n",
    "#pandas profiling report for train_consolidated exporting a file\n",
    "profile = ProfileReport(train_consolidated, title='Pandas Profiling Report', explorative=True)\n",
    "profile.to_file(\"train_consolidated.html\")\n"
   ]
  },
  {
   "cell_type": "code",
   "execution_count": 6,
   "id": "8dae7144",
   "metadata": {},
   "outputs": [
    {
     "data": {
      "text/html": [
       "<div>\n",
       "<style scoped>\n",
       "    .dataframe tbody tr th:only-of-type {\n",
       "        vertical-align: middle;\n",
       "    }\n",
       "\n",
       "    .dataframe tbody tr th {\n",
       "        vertical-align: top;\n",
       "    }\n",
       "\n",
       "    .dataframe thead th {\n",
       "        text-align: right;\n",
       "    }\n",
       "</style>\n",
       "<table border=\"1\" class=\"dataframe\">\n",
       "  <thead>\n",
       "    <tr style=\"text-align: right;\">\n",
       "      <th></th>\n",
       "      <th>PipeId</th>\n",
       "      <th>No_Inspections</th>\n",
       "      <th>No_Incidents</th>\n",
       "      <th>InspectionYear</th>\n",
       "      <th>Probability_rate</th>\n",
       "      <th>preventive_maintenance_rate</th>\n",
       "      <th>Age_pipe_at_inspection</th>\n",
       "      <th>pipe_inspected_frequently</th>\n",
       "      <th>Average_MonthsLastRev</th>\n",
       "      <th>MonthsLastRev</th>\n",
       "      <th>relative_risk</th>\n",
       "      <th>average_severity_pipe</th>\n",
       "      <th>Incidence</th>\n",
       "      <th>YearBuilt</th>\n",
       "      <th>Diameter</th>\n",
       "      <th>Length</th>\n",
       "      <th>Pressure</th>\n",
       "      <th>NumConnections</th>\n",
       "      <th>NumConnectionsUnder</th>\n",
       "      <th>BoolBridle</th>\n",
       "      <th>aspect</th>\n",
       "      <th>Relative_Thickness</th>\n",
       "      <th>pipe_area</th>\n",
       "      <th>area_connection</th>\n",
       "      <th>incidence_area</th>\n",
       "      <th>connection_bool</th>\n",
       "      <th>Severity_high</th>\n",
       "      <th>Severity_medium</th>\n",
       "      <th>Severity_low</th>\n",
       "      <th>gas_natural</th>\n",
       "      <th>Material_Acrylonitrile-Butadiene-Styrene</th>\n",
       "      <th>Material_Copper</th>\n",
       "      <th>Material_Fiberglass-Reinforced Plastic</th>\n",
       "      <th>Material_Polyethylene</th>\n",
       "      <th>Material_Polypropylene</th>\n",
       "      <th>Diameter2</th>\n",
       "      <th>Length2</th>\n",
       "      <th>Pressure2</th>\n",
       "      <th>Average yearly temperature (°C)</th>\n",
       "      <th>Min. Temperature (°C)</th>\n",
       "      <th>Max. Temperature (°C)</th>\n",
       "      <th>Yearly Rainfall (mm)</th>\n",
       "      <th>Average year Humidity (%)</th>\n",
       "      <th>Rainy days per year (days)</th>\n",
       "      <th>Yearly Sun Hours (hours)</th>\n",
       "      <th>Province</th>\n",
       "      <th>Town</th>\n",
       "    </tr>\n",
       "  </thead>\n",
       "  <tbody>\n",
       "    <tr>\n",
       "      <th>0</th>\n",
       "      <td>489616</td>\n",
       "      <td>5</td>\n",
       "      <td>0.00</td>\n",
       "      <td>2013.00</td>\n",
       "      <td>0.00</td>\n",
       "      <td>0.00</td>\n",
       "      <td>1.00</td>\n",
       "      <td>1</td>\n",
       "      <td>21.40</td>\n",
       "      <td>16.00</td>\n",
       "      <td>0.00</td>\n",
       "      <td>4.00</td>\n",
       "      <td>0.00</td>\n",
       "      <td>2012</td>\n",
       "      <td>0.06</td>\n",
       "      <td>7.79</td>\n",
       "      <td>0.40</td>\n",
       "      <td>0</td>\n",
       "      <td>0</td>\n",
       "      <td>0</td>\n",
       "      <td>0.81</td>\n",
       "      <td>0.16</td>\n",
       "      <td>1.54</td>\n",
       "      <td>0.00</td>\n",
       "      <td>0.00</td>\n",
       "      <td>0</td>\n",
       "      <td>0</td>\n",
       "      <td>0</td>\n",
       "      <td>0</td>\n",
       "      <td>1</td>\n",
       "      <td>0</td>\n",
       "      <td>0</td>\n",
       "      <td>0</td>\n",
       "      <td>1</td>\n",
       "      <td>0</td>\n",
       "      <td>0.00</td>\n",
       "      <td>60.72</td>\n",
       "      <td>0.16</td>\n",
       "      <td>15.44</td>\n",
       "      <td>1.50</td>\n",
       "      <td>33.70</td>\n",
       "      <td>438</td>\n",
       "      <td>0.55</td>\n",
       "      <td>52</td>\n",
       "      <td>107.50</td>\n",
       "      <td>ciudad real</td>\n",
       "      <td>torralba de calatrava</td>\n",
       "    </tr>\n",
       "  </tbody>\n",
       "</table>\n",
       "</div>"
      ],
      "text/plain": [
       "   PipeId  No_Inspections  No_Incidents  InspectionYear  Probability_rate  \\\n",
       "0  489616               5          0.00         2013.00              0.00   \n",
       "\n",
       "   preventive_maintenance_rate  Age_pipe_at_inspection  \\\n",
       "0                         0.00                    1.00   \n",
       "\n",
       "   pipe_inspected_frequently  Average_MonthsLastRev  MonthsLastRev  \\\n",
       "0                          1                  21.40          16.00   \n",
       "\n",
       "   relative_risk  average_severity_pipe  Incidence  YearBuilt  Diameter  \\\n",
       "0           0.00                   4.00       0.00       2012      0.06   \n",
       "\n",
       "   Length  Pressure  NumConnections  NumConnectionsUnder  BoolBridle  aspect  \\\n",
       "0    7.79      0.40               0                    0           0    0.81   \n",
       "\n",
       "   Relative_Thickness  pipe_area  area_connection  incidence_area  \\\n",
       "0                0.16       1.54             0.00            0.00   \n",
       "\n",
       "   connection_bool  Severity_high  Severity_medium  Severity_low  gas_natural  \\\n",
       "0                0              0                0             0            1   \n",
       "\n",
       "   Material_Acrylonitrile-Butadiene-Styrene  Material_Copper  \\\n",
       "0                                         0                0   \n",
       "\n",
       "   Material_Fiberglass-Reinforced Plastic  Material_Polyethylene  \\\n",
       "0                                       0                      1   \n",
       "\n",
       "   Material_Polypropylene  Diameter2  Length2  Pressure2  \\\n",
       "0                       0       0.00    60.72       0.16   \n",
       "\n",
       "   Average yearly temperature (°C)  Min. Temperature (°C)  \\\n",
       "0                            15.44                   1.50   \n",
       "\n",
       "   Max. Temperature (°C)  Yearly Rainfall (mm)  Average year Humidity (%)  \\\n",
       "0                  33.70                   438                       0.55   \n",
       "\n",
       "   Rainy days per year (days)  Yearly Sun Hours (hours)     Province  \\\n",
       "0                          52                    107.50  ciudad real   \n",
       "\n",
       "                    Town  \n",
       "0  torralba de calatrava  "
      ]
     },
     "execution_count": 6,
     "metadata": {},
     "output_type": "execute_result"
    }
   ],
   "source": [
    "train_consolidated.head(1)"
   ]
  },
  {
   "cell_type": "code",
   "execution_count": 7,
   "id": "68fffff1",
   "metadata": {},
   "outputs": [],
   "source": [
    "#creating a subset for altering the dataset after initial EDA\n",
    "df_baseline = train_consolidated.copy()\n"
   ]
  },
  {
   "cell_type": "code",
   "execution_count": 8,
   "id": "faa8c5c7",
   "metadata": {},
   "outputs": [
    {
     "data": {
      "text/html": [
       "<div>\n",
       "<style scoped>\n",
       "    .dataframe tbody tr th:only-of-type {\n",
       "        vertical-align: middle;\n",
       "    }\n",
       "\n",
       "    .dataframe tbody tr th {\n",
       "        vertical-align: top;\n",
       "    }\n",
       "\n",
       "    .dataframe thead th {\n",
       "        text-align: right;\n",
       "    }\n",
       "</style>\n",
       "<table border=\"1\" class=\"dataframe\">\n",
       "  <thead>\n",
       "    <tr style=\"text-align: right;\">\n",
       "      <th></th>\n",
       "      <th>PipeId</th>\n",
       "      <th>No_Inspections</th>\n",
       "      <th>No_Incidents</th>\n",
       "      <th>InspectionYear</th>\n",
       "      <th>Probability_rate</th>\n",
       "      <th>preventive_maintenance_rate</th>\n",
       "      <th>Age_pipe_at_inspection</th>\n",
       "      <th>pipe_inspected_frequently</th>\n",
       "      <th>Average_MonthsLastRev</th>\n",
       "      <th>MonthsLastRev</th>\n",
       "      <th>relative_risk</th>\n",
       "      <th>average_severity_pipe</th>\n",
       "      <th>Incidence</th>\n",
       "      <th>YearBuilt</th>\n",
       "      <th>Diameter</th>\n",
       "      <th>Length</th>\n",
       "      <th>Pressure</th>\n",
       "      <th>NumConnections</th>\n",
       "      <th>NumConnectionsUnder</th>\n",
       "      <th>BoolBridle</th>\n",
       "      <th>aspect</th>\n",
       "      <th>Relative_Thickness</th>\n",
       "      <th>pipe_area</th>\n",
       "      <th>area_connection</th>\n",
       "      <th>incidence_area</th>\n",
       "      <th>connection_bool</th>\n",
       "      <th>Severity_high</th>\n",
       "      <th>Severity_medium</th>\n",
       "      <th>Severity_low</th>\n",
       "      <th>gas_natural</th>\n",
       "      <th>Material_Acrylonitrile-Butadiene-Styrene</th>\n",
       "      <th>Material_Copper</th>\n",
       "      <th>Material_Fiberglass-Reinforced Plastic</th>\n",
       "      <th>Material_Polyethylene</th>\n",
       "      <th>Material_Polypropylene</th>\n",
       "      <th>Diameter2</th>\n",
       "      <th>Length2</th>\n",
       "      <th>Pressure2</th>\n",
       "      <th>Average yearly temperature (°C)</th>\n",
       "      <th>Min. Temperature (°C)</th>\n",
       "      <th>Max. Temperature (°C)</th>\n",
       "      <th>Yearly Rainfall (mm)</th>\n",
       "      <th>Average year Humidity (%)</th>\n",
       "      <th>Rainy days per year (days)</th>\n",
       "      <th>Yearly Sun Hours (hours)</th>\n",
       "      <th>Province</th>\n",
       "      <th>Town</th>\n",
       "    </tr>\n",
       "  </thead>\n",
       "  <tbody>\n",
       "    <tr>\n",
       "      <th>0</th>\n",
       "      <td>489616</td>\n",
       "      <td>5</td>\n",
       "      <td>0.00</td>\n",
       "      <td>2013.00</td>\n",
       "      <td>0.00</td>\n",
       "      <td>0.00</td>\n",
       "      <td>1.00</td>\n",
       "      <td>1</td>\n",
       "      <td>21.40</td>\n",
       "      <td>16.00</td>\n",
       "      <td>0.00</td>\n",
       "      <td>4.00</td>\n",
       "      <td>0.00</td>\n",
       "      <td>2012</td>\n",
       "      <td>0.06</td>\n",
       "      <td>7.79</td>\n",
       "      <td>0.40</td>\n",
       "      <td>0</td>\n",
       "      <td>0</td>\n",
       "      <td>0</td>\n",
       "      <td>0.81</td>\n",
       "      <td>0.16</td>\n",
       "      <td>1.54</td>\n",
       "      <td>0.00</td>\n",
       "      <td>0.00</td>\n",
       "      <td>0</td>\n",
       "      <td>0</td>\n",
       "      <td>0</td>\n",
       "      <td>0</td>\n",
       "      <td>1</td>\n",
       "      <td>0</td>\n",
       "      <td>0</td>\n",
       "      <td>0</td>\n",
       "      <td>1</td>\n",
       "      <td>0</td>\n",
       "      <td>0.00</td>\n",
       "      <td>60.72</td>\n",
       "      <td>0.16</td>\n",
       "      <td>15.44</td>\n",
       "      <td>1.50</td>\n",
       "      <td>33.70</td>\n",
       "      <td>438</td>\n",
       "      <td>0.55</td>\n",
       "      <td>52</td>\n",
       "      <td>107.50</td>\n",
       "      <td>ciudad real</td>\n",
       "      <td>torralba de calatrava</td>\n",
       "    </tr>\n",
       "  </tbody>\n",
       "</table>\n",
       "</div>"
      ],
      "text/plain": [
       "   PipeId  No_Inspections  No_Incidents  InspectionYear  Probability_rate  \\\n",
       "0  489616               5          0.00         2013.00              0.00   \n",
       "\n",
       "   preventive_maintenance_rate  Age_pipe_at_inspection  \\\n",
       "0                         0.00                    1.00   \n",
       "\n",
       "   pipe_inspected_frequently  Average_MonthsLastRev  MonthsLastRev  \\\n",
       "0                          1                  21.40          16.00   \n",
       "\n",
       "   relative_risk  average_severity_pipe  Incidence  YearBuilt  Diameter  \\\n",
       "0           0.00                   4.00       0.00       2012      0.06   \n",
       "\n",
       "   Length  Pressure  NumConnections  NumConnectionsUnder  BoolBridle  aspect  \\\n",
       "0    7.79      0.40               0                    0           0    0.81   \n",
       "\n",
       "   Relative_Thickness  pipe_area  area_connection  incidence_area  \\\n",
       "0                0.16       1.54             0.00            0.00   \n",
       "\n",
       "   connection_bool  Severity_high  Severity_medium  Severity_low  gas_natural  \\\n",
       "0                0              0                0             0            1   \n",
       "\n",
       "   Material_Acrylonitrile-Butadiene-Styrene  Material_Copper  \\\n",
       "0                                         0                0   \n",
       "\n",
       "   Material_Fiberglass-Reinforced Plastic  Material_Polyethylene  \\\n",
       "0                                       0                      1   \n",
       "\n",
       "   Material_Polypropylene  Diameter2  Length2  Pressure2  \\\n",
       "0                       0       0.00    60.72       0.16   \n",
       "\n",
       "   Average yearly temperature (°C)  Min. Temperature (°C)  \\\n",
       "0                            15.44                   1.50   \n",
       "\n",
       "   Max. Temperature (°C)  Yearly Rainfall (mm)  Average year Humidity (%)  \\\n",
       "0                  33.70                   438                       0.55   \n",
       "\n",
       "   Rainy days per year (days)  Yearly Sun Hours (hours)     Province  \\\n",
       "0                          52                    107.50  ciudad real   \n",
       "\n",
       "                    Town  \n",
       "0  torralba de calatrava  "
      ]
     },
     "execution_count": 8,
     "metadata": {},
     "output_type": "execute_result"
    }
   ],
   "source": [
    "df_baseline.head(1)"
   ]
  },
  {
   "cell_type": "code",
   "execution_count": 9,
   "id": "2eb79226",
   "metadata": {},
   "outputs": [
    {
     "data": {
      "text/plain": [
       "Index(['PipeId', 'No_Inspections', 'No_Incidents', 'InspectionYear',\n",
       "       'Probability_rate', 'preventive_maintenance_rate',\n",
       "       'Age_pipe_at_inspection', 'pipe_inspected_frequently',\n",
       "       'Average_MonthsLastRev', 'MonthsLastRev', 'relative_risk',\n",
       "       'average_severity_pipe', 'Incidence', 'YearBuilt', 'Diameter', 'Length',\n",
       "       'Pressure', 'NumConnections', 'NumConnectionsUnder', 'BoolBridle',\n",
       "       'aspect', 'Relative_Thickness', 'pipe_area', 'area_connection',\n",
       "       'incidence_area', 'connection_bool', 'Severity_high', 'Severity_medium',\n",
       "       'Severity_low', 'gas_natural',\n",
       "       'Material_Acrylonitrile-Butadiene-Styrene', 'Material_Copper',\n",
       "       'Material_Fiberglass-Reinforced Plastic', 'Material_Polyethylene',\n",
       "       'Material_Polypropylene', 'Diameter2', 'Length2', 'Pressure2',\n",
       "       'Average yearly temperature (°C)', 'Min. Temperature (°C)',\n",
       "       'Max. Temperature (°C)', 'Yearly Rainfall (mm)',\n",
       "       'Average year Humidity (%)', 'Rainy days per year (days)',\n",
       "       'Yearly Sun Hours (hours)', 'Province', 'Town'],\n",
       "      dtype='object')"
      ]
     },
     "execution_count": 9,
     "metadata": {},
     "output_type": "execute_result"
    }
   ],
   "source": [
    "df_baseline.columns"
   ]
  },
  {
   "cell_type": "code",
   "execution_count": 10,
   "id": "d39607ba",
   "metadata": {},
   "outputs": [
    {
     "data": {
      "text/plain": [
       "0.025"
      ]
     },
     "execution_count": 10,
     "metadata": {},
     "output_type": "execute_result"
    },
    {
     "data": {
      "text/plain": [
       "80.0"
      ]
     },
     "execution_count": 10,
     "metadata": {},
     "output_type": "execute_result"
    }
   ],
   "source": [
    "#min max of Pressure in df_baseline\n",
    "df_baseline['Pressure'].min()\n",
    "df_baseline['Pressure'].max()\n",
    "\n"
   ]
  },
  {
   "cell_type": "code",
   "execution_count": 11,
   "id": "7eda8be4",
   "metadata": {},
   "outputs": [
    {
     "data": {
      "text/plain": [
       "<Figure size 1000x600 with 0 Axes>"
      ]
     },
     "execution_count": 11,
     "metadata": {},
     "output_type": "execute_result"
    },
    {
     "data": {
      "text/plain": [
       "<AxesSubplot: xlabel='Pressure'>"
      ]
     },
     "execution_count": 11,
     "metadata": {},
     "output_type": "execute_result"
    },
    {
     "data": {
      "text/plain": [
       "Text(0.5, 1.0, 'Pressure distribution')"
      ]
     },
     "execution_count": 11,
     "metadata": {},
     "output_type": "execute_result"
    },
    {
     "data": {
      "image/png": "[encoded data removed]",
      "text/plain": [
       "<Figure size 1000x600 with 1 Axes>"
      ]
     },
     "metadata": {},
     "output_type": "display_data"
    }
   ],
   "source": [
    "#plot pressure distribution with a violin plo\n",
    "plt.figure(figsize=(10, 6))\n",
    "sns.violinplot(x='Pressure', data=df_baseline)\n",
    "plt.title('Pressure distribution')\n",
    "plt.show()\n"
   ]
  },
  {
   "cell_type": "code",
   "execution_count": 12,
   "id": "62db8b99",
   "metadata": {},
   "outputs": [],
   "source": [
    "#delete outliers higher than 20 in Pressure for df_baseline\n",
    "df_baseline = df_baseline[df_baseline['Pressure'] < 20]\n",
    "\n"
   ]
  },
  {
   "cell_type": "code",
   "execution_count": 13,
   "id": "ede20bb1",
   "metadata": {},
   "outputs": [
    {
     "data": {
      "text/plain": [
       "<Figure size 1000x600 with 0 Axes>"
      ]
     },
     "execution_count": 13,
     "metadata": {},
     "output_type": "execute_result"
    },
    {
     "data": {
      "text/plain": [
       "<AxesSubplot: xlabel='Average_MonthsLastRev'>"
      ]
     },
     "execution_count": 13,
     "metadata": {},
     "output_type": "execute_result"
    },
    {
     "data": {
      "text/plain": [
       "Text(0.5, 1.0, 'Average_MonthsLastRev for Pressure< 5')"
      ]
     },
     "execution_count": 13,
     "metadata": {},
     "output_type": "execute_result"
    },
    {
     "data": {
      "image/png": "[encoded data removed]",
      "text/plain": [
       "<Figure size 1000x600 with 1 Axes>"
      ]
     },
     "metadata": {},
     "output_type": "display_data"
    }
   ],
   "source": [
    "#plot Average_MonthsLastRev for Pressure > 16 and plot it\n",
    "plt.figure(figsize=(10, 6))\n",
    "sns.violinplot(x='Average_MonthsLastRev', data=df_baseline[df_baseline['Pressure'] < 5])\n",
    "plt.title('Average_MonthsLastRev for Pressure< 5')\n",
    "plt.show()\n",
    "\n",
    "\n"
   ]
  },
  {
   "cell_type": "code",
   "execution_count": 14,
   "id": "b76037de",
   "metadata": {},
   "outputs": [
    {
     "data": {
      "text/plain": [
       "<Figure size 1000x600 with 0 Axes>"
      ]
     },
     "execution_count": 14,
     "metadata": {},
     "output_type": "execute_result"
    },
    {
     "data": {
      "text/plain": [
       "<AxesSubplot: xlabel='Average_MonthsLastRev', ylabel='Pressure'>"
      ]
     },
     "execution_count": 14,
     "metadata": {},
     "output_type": "execute_result"
    },
    {
     "data": {
      "text/plain": [
       "Text(0.5, 1.0, 'Average_MonthsLastRev and Pressure')"
      ]
     },
     "execution_count": 14,
     "metadata": {},
     "output_type": "execute_result"
    },
    {
     "data": {
      "image/png": "[encoded data removed]",
      "text/plain": [
       "<Figure size 1000x600 with 1 Axes>"
      ]
     },
     "metadata": {},
     "output_type": "display_data"
    }
   ],
   "source": [
    "#plot Average_MonthsLastRev and Pressure in seaborn\n",
    "plt.figure(figsize=(10, 6))\n",
    "sns.scatterplot(x='Average_MonthsLastRev', y='Pressure', data=df_baseline)\n",
    "plt.title('Average_MonthsLastRev and Pressure')\n",
    "plt.show()\n",
    "\n"
   ]
  },
  {
   "attachments": {},
   "cell_type": "markdown",
   "id": "420fecf2",
   "metadata": {},
   "source": [
    "# Merging another dataset"
   ]
  },
  {
   "cell_type": "code",
   "execution_count": 15,
   "id": "d73ad532",
   "metadata": {},
   "outputs": [],
   "source": [
    "#point to the folder where the data is stored for Pedro\n",
    "os.chdir(r\"C:\\Users\\pedro\\datathon\\base\\complementary_datasets\")\n",
    "\n",
    "#Loading sample_submission\n",
    "density = pd.read_excel('population_density_province.xlsx' )"
   ]
  },
  {
   "cell_type": "code",
   "execution_count": 16,
   "id": "e81a6a71",
   "metadata": {},
   "outputs": [
    {
     "data": {
      "text/html": [
       "<div>\n",
       "<style scoped>\n",
       "    .dataframe tbody tr th:only-of-type {\n",
       "        vertical-align: middle;\n",
       "    }\n",
       "\n",
       "    .dataframe tbody tr th {\n",
       "        vertical-align: top;\n",
       "    }\n",
       "\n",
       "    .dataframe thead th {\n",
       "        text-align: right;\n",
       "    }\n",
       "</style>\n",
       "<table border=\"1\" class=\"dataframe\">\n",
       "  <thead>\n",
       "    <tr style=\"text-align: right;\">\n",
       "      <th></th>\n",
       "      <th>Province</th>\n",
       "      <th>Area (sq km)</th>\n",
       "      <th>Year</th>\n",
       "      <th>Population</th>\n",
       "      <th>Population density (persons/sqkm)</th>\n",
       "    </tr>\n",
       "  </thead>\n",
       "  <tbody>\n",
       "    <tr>\n",
       "      <th>0</th>\n",
       "      <td>Albacete</td>\n",
       "      <td>14926</td>\n",
       "      <td>2022</td>\n",
       "      <td>385727</td>\n",
       "      <td>25.84</td>\n",
       "    </tr>\n",
       "  </tbody>\n",
       "</table>\n",
       "</div>"
      ],
      "text/plain": [
       "   Province  Area (sq km)  Year  Population  Population density (persons/sqkm)\n",
       "0  Albacete         14926  2022      385727                              25.84"
      ]
     },
     "execution_count": 16,
     "metadata": {},
     "output_type": "execute_result"
    }
   ],
   "source": [
    "density.head(1)"
   ]
  },
  {
   "cell_type": "code",
   "execution_count": 17,
   "id": "b0408ec7",
   "metadata": {},
   "outputs": [
    {
     "data": {
      "text/html": [
       "<div>\n",
       "<style scoped>\n",
       "    .dataframe tbody tr th:only-of-type {\n",
       "        vertical-align: middle;\n",
       "    }\n",
       "\n",
       "    .dataframe tbody tr th {\n",
       "        vertical-align: top;\n",
       "    }\n",
       "\n",
       "    .dataframe thead th {\n",
       "        text-align: right;\n",
       "    }\n",
       "</style>\n",
       "<table border=\"1\" class=\"dataframe\">\n",
       "  <thead>\n",
       "    <tr style=\"text-align: right;\">\n",
       "      <th></th>\n",
       "      <th>Province</th>\n",
       "      <th>Area (sq km)</th>\n",
       "      <th>Year</th>\n",
       "      <th>Population</th>\n",
       "      <th>Population density (persons/sqkm)</th>\n",
       "    </tr>\n",
       "  </thead>\n",
       "  <tbody>\n",
       "    <tr>\n",
       "      <th>0</th>\n",
       "      <td>albacete</td>\n",
       "      <td>14926</td>\n",
       "      <td>2022</td>\n",
       "      <td>385727</td>\n",
       "      <td>25.84</td>\n",
       "    </tr>\n",
       "    <tr>\n",
       "      <th>1</th>\n",
       "      <td>albacete</td>\n",
       "      <td>14926</td>\n",
       "      <td>2021</td>\n",
       "      <td>386464</td>\n",
       "      <td>25.89</td>\n",
       "    </tr>\n",
       "  </tbody>\n",
       "</table>\n",
       "</div>"
      ],
      "text/plain": [
       "   Province  Area (sq km)  Year  Population  Population density (persons/sqkm)\n",
       "0  albacete         14926  2022      385727                              25.84\n",
       "1  albacete         14926  2021      386464                              25.89"
      ]
     },
     "execution_count": 17,
     "metadata": {},
     "output_type": "execute_result"
    }
   ],
   "source": [
    "normalize_characters(density, 'Province')"
   ]
  },
  {
   "cell_type": "code",
   "execution_count": 18,
   "id": "2b793896",
   "metadata": {},
   "outputs": [
    {
     "data": {
      "text/html": [
       "<div>\n",
       "<style scoped>\n",
       "    .dataframe tbody tr th:only-of-type {\n",
       "        vertical-align: middle;\n",
       "    }\n",
       "\n",
       "    .dataframe tbody tr th {\n",
       "        vertical-align: top;\n",
       "    }\n",
       "\n",
       "    .dataframe thead th {\n",
       "        text-align: right;\n",
       "    }\n",
       "</style>\n",
       "<table border=\"1\" class=\"dataframe\">\n",
       "  <thead>\n",
       "    <tr style=\"text-align: right;\">\n",
       "      <th></th>\n",
       "      <th>PipeId</th>\n",
       "      <th>No_Inspections</th>\n",
       "      <th>No_Incidents</th>\n",
       "      <th>InspectionYear</th>\n",
       "      <th>Probability_rate</th>\n",
       "      <th>preventive_maintenance_rate</th>\n",
       "      <th>Age_pipe_at_inspection</th>\n",
       "      <th>pipe_inspected_frequently</th>\n",
       "      <th>Average_MonthsLastRev</th>\n",
       "      <th>MonthsLastRev</th>\n",
       "      <th>relative_risk</th>\n",
       "      <th>average_severity_pipe</th>\n",
       "      <th>Incidence</th>\n",
       "      <th>YearBuilt</th>\n",
       "      <th>Diameter</th>\n",
       "      <th>Length</th>\n",
       "      <th>Pressure</th>\n",
       "      <th>NumConnections</th>\n",
       "      <th>NumConnectionsUnder</th>\n",
       "      <th>BoolBridle</th>\n",
       "      <th>aspect</th>\n",
       "      <th>Relative_Thickness</th>\n",
       "      <th>pipe_area</th>\n",
       "      <th>area_connection</th>\n",
       "      <th>incidence_area</th>\n",
       "      <th>connection_bool</th>\n",
       "      <th>Severity_high</th>\n",
       "      <th>Severity_medium</th>\n",
       "      <th>Severity_low</th>\n",
       "      <th>gas_natural</th>\n",
       "      <th>Material_Acrylonitrile-Butadiene-Styrene</th>\n",
       "      <th>Material_Copper</th>\n",
       "      <th>Material_Fiberglass-Reinforced Plastic</th>\n",
       "      <th>Material_Polyethylene</th>\n",
       "      <th>Material_Polypropylene</th>\n",
       "      <th>Diameter2</th>\n",
       "      <th>Length2</th>\n",
       "      <th>Pressure2</th>\n",
       "      <th>Average yearly temperature (°C)</th>\n",
       "      <th>Min. Temperature (°C)</th>\n",
       "      <th>Max. Temperature (°C)</th>\n",
       "      <th>Yearly Rainfall (mm)</th>\n",
       "      <th>Average year Humidity (%)</th>\n",
       "      <th>Rainy days per year (days)</th>\n",
       "      <th>Yearly Sun Hours (hours)</th>\n",
       "      <th>Province</th>\n",
       "      <th>Town</th>\n",
       "      <th>Area (sq km)</th>\n",
       "      <th>Year</th>\n",
       "      <th>Population</th>\n",
       "      <th>Population density (persons/sqkm)</th>\n",
       "    </tr>\n",
       "  </thead>\n",
       "  <tbody>\n",
       "    <tr>\n",
       "      <th>0</th>\n",
       "      <td>489616</td>\n",
       "      <td>5</td>\n",
       "      <td>0.00</td>\n",
       "      <td>2013.00</td>\n",
       "      <td>0.00</td>\n",
       "      <td>0.00</td>\n",
       "      <td>1.00</td>\n",
       "      <td>1</td>\n",
       "      <td>21.40</td>\n",
       "      <td>16.00</td>\n",
       "      <td>0.00</td>\n",
       "      <td>4.00</td>\n",
       "      <td>0.00</td>\n",
       "      <td>2012</td>\n",
       "      <td>0.06</td>\n",
       "      <td>7.79</td>\n",
       "      <td>0.40</td>\n",
       "      <td>0</td>\n",
       "      <td>0</td>\n",
       "      <td>0</td>\n",
       "      <td>0.81</td>\n",
       "      <td>0.16</td>\n",
       "      <td>1.54</td>\n",
       "      <td>0.00</td>\n",
       "      <td>0.00</td>\n",
       "      <td>0</td>\n",
       "      <td>0</td>\n",
       "      <td>0</td>\n",
       "      <td>0</td>\n",
       "      <td>1</td>\n",
       "      <td>0</td>\n",
       "      <td>0</td>\n",
       "      <td>0</td>\n",
       "      <td>1</td>\n",
       "      <td>0</td>\n",
       "      <td>0.00</td>\n",
       "      <td>60.72</td>\n",
       "      <td>0.16</td>\n",
       "      <td>15.44</td>\n",
       "      <td>1.50</td>\n",
       "      <td>33.70</td>\n",
       "      <td>438</td>\n",
       "      <td>0.55</td>\n",
       "      <td>52</td>\n",
       "      <td>107.50</td>\n",
       "      <td>ciudad real</td>\n",
       "      <td>torralba de calatrava</td>\n",
       "      <td>19813</td>\n",
       "      <td>2020</td>\n",
       "      <td>495045</td>\n",
       "      <td>24.99</td>\n",
       "    </tr>\n",
       "  </tbody>\n",
       "</table>\n",
       "</div>"
      ],
      "text/plain": [
       "   PipeId  No_Inspections  No_Incidents  InspectionYear  Probability_rate  \\\n",
       "0  489616               5          0.00         2013.00              0.00   \n",
       "\n",
       "   preventive_maintenance_rate  Age_pipe_at_inspection  \\\n",
       "0                         0.00                    1.00   \n",
       "\n",
       "   pipe_inspected_frequently  Average_MonthsLastRev  MonthsLastRev  \\\n",
       "0                          1                  21.40          16.00   \n",
       "\n",
       "   relative_risk  average_severity_pipe  Incidence  YearBuilt  Diameter  \\\n",
       "0           0.00                   4.00       0.00       2012      0.06   \n",
       "\n",
       "   Length  Pressure  NumConnections  NumConnectionsUnder  BoolBridle  aspect  \\\n",
       "0    7.79      0.40               0                    0           0    0.81   \n",
       "\n",
       "   Relative_Thickness  pipe_area  area_connection  incidence_area  \\\n",
       "0                0.16       1.54             0.00            0.00   \n",
       "\n",
       "   connection_bool  Severity_high  Severity_medium  Severity_low  gas_natural  \\\n",
       "0                0              0                0             0            1   \n",
       "\n",
       "   Material_Acrylonitrile-Butadiene-Styrene  Material_Copper  \\\n",
       "0                                         0                0   \n",
       "\n",
       "   Material_Fiberglass-Reinforced Plastic  Material_Polyethylene  \\\n",
       "0                                       0                      1   \n",
       "\n",
       "   Material_Polypropylene  Diameter2  Length2  Pressure2  \\\n",
       "0                       0       0.00    60.72       0.16   \n",
       "\n",
       "   Average yearly temperature (°C)  Min. Temperature (°C)  \\\n",
       "0                            15.44                   1.50   \n",
       "\n",
       "   Max. Temperature (°C)  Yearly Rainfall (mm)  Average year Humidity (%)  \\\n",
       "0                  33.70                   438                       0.55   \n",
       "\n",
       "   Rainy days per year (days)  Yearly Sun Hours (hours)     Province  \\\n",
       "0                          52                    107.50  ciudad real   \n",
       "\n",
       "                    Town  Area (sq km)  Year  Population  \\\n",
       "0  torralba de calatrava         19813  2020      495045   \n",
       "\n",
       "   Population density (persons/sqkm)  \n",
       "0                              24.99  "
      ]
     },
     "execution_count": 18,
     "metadata": {},
     "output_type": "execute_result"
    }
   ],
   "source": [
    "#join density to df_baseline on Province taking only rows with year 2020\n",
    "df_baseline = df_baseline.merge(density[density['Year'] == 2020], on='Province', how='left')\n",
    "df_baseline.head(1)"
   ]
  },
  {
   "cell_type": "code",
   "execution_count": 19,
   "id": "71a32b81",
   "metadata": {},
   "outputs": [
    {
     "data": {
      "text/plain": [
       "array([], dtype=object)"
      ]
     },
     "execution_count": 19,
     "metadata": {},
     "output_type": "execute_result"
    }
   ],
   "source": [
    "#compare array for column Province in density and df_baseline and compute set difference\n",
    "np.setdiff1d(density['Province'].unique(), df_baseline['Province'].unique())\n"
   ]
  },
  {
   "attachments": {},
   "cell_type": "markdown",
   "id": "171612cd",
   "metadata": {},
   "source": [
    "# Deleting more columns before PCA based on correlation"
   ]
  },
  {
   "cell_type": "code",
   "execution_count": 20,
   "id": "b9fca96f",
   "metadata": {},
   "outputs": [
    {
     "data": {
      "text/plain": [
       "Index(['PipeId', 'No_Inspections', 'No_Incidents', 'InspectionYear',\n",
       "       'Probability_rate', 'preventive_maintenance_rate',\n",
       "       'Age_pipe_at_inspection', 'pipe_inspected_frequently',\n",
       "       'Average_MonthsLastRev', 'MonthsLastRev', 'relative_risk',\n",
       "       'average_severity_pipe', 'Incidence', 'YearBuilt', 'Diameter', 'Length',\n",
       "       'Pressure', 'NumConnections', 'NumConnectionsUnder', 'BoolBridle',\n",
       "       'aspect', 'Relative_Thickness', 'pipe_area', 'area_connection',\n",
       "       'incidence_area', 'connection_bool', 'Severity_high', 'Severity_medium',\n",
       "       'Severity_low', 'gas_natural',\n",
       "       'Material_Acrylonitrile-Butadiene-Styrene', 'Material_Copper',\n",
       "       'Material_Fiberglass-Reinforced Plastic', 'Material_Polyethylene',\n",
       "       'Material_Polypropylene', 'Diameter2', 'Length2', 'Pressure2',\n",
       "       'Average yearly temperature (°C)', 'Min. Temperature (°C)',\n",
       "       'Max. Temperature (°C)', 'Yearly Rainfall (mm)',\n",
       "       'Average year Humidity (%)', 'Rainy days per year (days)',\n",
       "       'Yearly Sun Hours (hours)', 'Province', 'Town', 'Area (sq km)', 'Year',\n",
       "       'Population', 'Population density (persons/sqkm)'],\n",
       "      dtype='object')"
      ]
     },
     "execution_count": 20,
     "metadata": {},
     "output_type": "execute_result"
    }
   ],
   "source": [
    "df_baseline.columns"
   ]
  },
  {
   "cell_type": "code",
   "execution_count": 21,
   "id": "cd7b3627",
   "metadata": {},
   "outputs": [],
   "source": [
    "#delete columns 'Probability_rate', 'preventive_maintenance_rate', 'relative_risk','average_severity_pipe', 'Severity_high', 'Severity_medium', 'Severity_low' from df_baseline\n",
    "df_baseline.drop(['Probability_rate', 'Population','YearBuilt', 'relative_risk',\n",
    "       'average_severity_pipe', 'Severity_high', 'Severity_medium', 'Diameter', 'Length',\n",
    "       'Pressure', 'aspect', 'Severity_low', 'Province', 'Town', 'Area (sq km)', 'Year', \n",
    "       'Average yearly temperature (°C)', 'Min. Temperature (°C)','Yearly Rainfall (mm)', \n",
    "       'Rainy days per year (days)', 'Max. Temperature (°C)'], axis=1, inplace=True)\n"
   ]
  },
  {
   "cell_type": "markdown",
   "id": "30d9cfa7",
   "metadata": {},
   "source": [
    "#graph correlation matrix for df_baseline colouring values above 0.7 and exporting it to a png file\n",
    "corr = df_baseline.corr()\n",
    "plt.figure(figsize=(20, 20))\n",
    "sns.heatmap(corr, annot=True, cmap='coolwarm', mask=np.triu(corr, k=1))\n",
    "plt.title('Correlation matrix')\n",
    "plt.savefig('correlation_matrix.png')\n",
    "plt.show()\n"
   ]
  },
  {
   "cell_type": "code",
   "execution_count": 22,
   "id": "29545d09",
   "metadata": {},
   "outputs": [
    {
     "data": {
      "text/plain": [
       "0    5446331\n",
       "Name: BoolBridle, dtype: int64"
      ]
     },
     "execution_count": 22,
     "metadata": {},
     "output_type": "execute_result"
    }
   ],
   "source": [
    "#show values for BoolBridle in df_baseline\n",
    "df_baseline['BoolBridle'].value_counts()"
   ]
  },
  {
   "cell_type": "code",
   "execution_count": 23,
   "id": "077cf30a",
   "metadata": {},
   "outputs": [],
   "source": [
    "#drop BoolBridle from df_baseline\n",
    "df_baseline.drop('BoolBridle', axis=1, inplace=True)\n"
   ]
  },
  {
   "cell_type": "markdown",
   "id": "83a3ebe4",
   "metadata": {},
   "source": [
    "# Performing dimensionality reduction"
   ]
  },
  {
   "cell_type": "markdown",
   "id": "2ab0c611",
   "metadata": {},
   "source": [
    "#perform pca on df_baseline with 14 n components and plot the explained variance ratio returning a new df with the pca components\n",
    "pca = PCA(n_components=14)\n",
    "pca.fit(df_baseline)\n",
    "pca.explained_variance_ratio_\n",
    "pca_df = pd.DataFrame(pca.transform(df_baseline), columns=['pca1', 'pca2', 'pca3', 'pca4', 'pca5', 'pca6', 'pca7', 'pca8', 'pca9', 'pca10', 'pca11', 'pca12', 'pca13', 'pca14'])\n",
    "\n",
    "#plot pca_df\n",
    "plt.figure(figsize=(10, 6))\n",
    "sns.scatterplot(x='pca1', y='pca2', data=pca_df)\n",
    "plt.title('PCA1 and PCA2')\n",
    "plt.show()\n"
   ]
  },
  {
   "cell_type": "markdown",
   "id": "8166c86c",
   "metadata": {},
   "source": [
    "\n",
    "#plot pca_df\n",
    "plt.figure(figsize=(10, 6))\n",
    "sns.scatterplot(x='pca3', y='pca4', data=pca_df)\n",
    "plt.title('PCA3 and PCA4')\n",
    "plt.show()\n"
   ]
  },
  {
   "cell_type": "markdown",
   "id": "2b69ccee",
   "metadata": {},
   "source": [
    "\n",
    "#plot pca_df\n",
    "plt.figure(figsize=(10, 6))\n",
    "sns.scatterplot(x='pca5', y='pca6', data=pca_df)\n",
    "plt.title('PCA5 and PCA6')\n",
    "plt.show()\n"
   ]
  },
  {
   "cell_type": "markdown",
   "id": "64024767",
   "metadata": {},
   "source": [
    "\n",
    "#plot pca_df\n",
    "plt.figure(figsize=(10, 6))\n",
    "sns.scatterplot(x='pca7', y='pca8', data=pca_df)\n",
    "plt.title('PCA7 and PCA8')\n",
    "plt.show()\n"
   ]
  },
  {
   "cell_type": "markdown",
   "id": "a609f9dc",
   "metadata": {},
   "source": [
    "\n",
    "#plot pca_df\n",
    "plt.figure(figsize=(10, 6))\n",
    "sns.scatterplot(x='pca9', y='pca10', data=pca_df)\n",
    "plt.title('PCA9 and PCA10')\n",
    "plt.show()\n"
   ]
  },
  {
   "cell_type": "markdown",
   "id": "8561535f",
   "metadata": {},
   "source": [
    "\n",
    "#plot pca_df\n",
    "plt.figure(figsize=(10, 6))\n",
    "sns.scatterplot(x='pca11', y='pca12', data=pca_df)\n",
    "plt.title('PCA11 and PCA12')\n",
    "plt.show()\n"
   ]
  },
  {
   "cell_type": "markdown",
   "id": "e6232c40",
   "metadata": {},
   "source": [
    "\n",
    "#plot pca_df\n",
    "plt.figure(figsize=(10, 6))\n",
    "sns.scatterplot(x='pca13', y='pca14', data=pca_df)\n",
    "plt.title('PCA13 and PCA14')\n",
    "plt.show()\n"
   ]
  },
  {
   "cell_type": "markdown",
   "id": "2eea9b8f",
   "metadata": {},
   "source": [
    "pca_df.head(1)"
   ]
  },
  {
   "cell_type": "code",
   "execution_count": 24,
   "id": "732a7f51",
   "metadata": {},
   "outputs": [],
   "source": [
    "#exporting df_baseline to csv\n",
    "#df_baseline.to_csv('df_baseline.csv', index=False)\n"
   ]
  },
  {
   "cell_type": "code",
   "execution_count": 25,
   "id": "205b41db",
   "metadata": {},
   "outputs": [],
   "source": [
    "#pandas profiling report for df_baseline\n",
    "#profile = ProfileReport(df_baseline, title='Pandas Profiling Report', html={'style':{'full_width':True}})\n",
    "#profile.to_file('df_baseline.html')\n"
   ]
  },
  {
   "cell_type": "code",
   "execution_count": 26,
   "id": "2bc6135d",
   "metadata": {},
   "outputs": [],
   "source": [
    "#exporting pca_df to csv\n",
    "#pca_df.to_csv('pca_df.csv', index=False)"
   ]
  },
  {
   "attachments": {},
   "cell_type": "markdown",
   "id": "56eb37c3",
   "metadata": {},
   "source": [
    "# Break it here!"
   ]
  },
  {
   "cell_type": "code",
   "execution_count": 27,
   "id": "2dbd8134",
   "metadata": {},
   "outputs": [
    {
     "data": {
      "text/plain": [
       "Index(['PipeId', 'No_Inspections', 'No_Incidents', 'InspectionYear',\n",
       "       'preventive_maintenance_rate', 'Age_pipe_at_inspection',\n",
       "       'pipe_inspected_frequently', 'Average_MonthsLastRev', 'MonthsLastRev',\n",
       "       'Incidence', 'NumConnections', 'NumConnectionsUnder',\n",
       "       'Relative_Thickness', 'pipe_area', 'area_connection', 'incidence_area',\n",
       "       'connection_bool', 'gas_natural',\n",
       "       'Material_Acrylonitrile-Butadiene-Styrene', 'Material_Copper',\n",
       "       'Material_Fiberglass-Reinforced Plastic', 'Material_Polyethylene',\n",
       "       'Material_Polypropylene', 'Diameter2', 'Length2', 'Pressure2',\n",
       "       'Average year Humidity (%)', 'Yearly Sun Hours (hours)',\n",
       "       'Population density (persons/sqkm)'],\n",
       "      dtype='object')"
      ]
     },
     "execution_count": 27,
     "metadata": {},
     "output_type": "execute_result"
    }
   ],
   "source": [
    "df_baseline.columns"
   ]
  },
  {
   "cell_type": "code",
   "execution_count": 28,
   "id": "7c50bc38",
   "metadata": {},
   "outputs": [
    {
     "data": {
      "text/plain": [
       "PipeId                                        int64\n",
       "No_Inspections                                int64\n",
       "No_Incidents                                float64\n",
       "InspectionYear                              float64\n",
       "preventive_maintenance_rate                 float64\n",
       "Age_pipe_at_inspection                      float64\n",
       "pipe_inspected_frequently                     int64\n",
       "Average_MonthsLastRev                       float64\n",
       "MonthsLastRev                               float64\n",
       "Incidence                                   float64\n",
       "NumConnections                                int64\n",
       "NumConnectionsUnder                           int64\n",
       "Relative_Thickness                          float64\n",
       "pipe_area                                   float64\n",
       "area_connection                             float64\n",
       "incidence_area                              float64\n",
       "connection_bool                               int64\n",
       "gas_natural                                   int64\n",
       "Material_Acrylonitrile-Butadiene-Styrene      int64\n",
       "Material_Copper                               int64\n",
       "Material_Fiberglass-Reinforced Plastic        int64\n",
       "Material_Polyethylene                         int64\n",
       "Material_Polypropylene                        int64\n",
       "Diameter2                                   float64\n",
       "Length2                                     float64\n",
       "Pressure2                                   float64\n",
       "Average year Humidity (%)                   float64\n",
       "Yearly Sun Hours (hours)                    float64\n",
       "Population density (persons/sqkm)           float64\n",
       "dtype: object"
      ]
     },
     "execution_count": 28,
     "metadata": {},
     "output_type": "execute_result"
    }
   ],
   "source": [
    "df_baseline.dtypes"
   ]
  },
  {
   "cell_type": "code",
   "execution_count": 29,
   "id": "86211d89",
   "metadata": {},
   "outputs": [
    {
     "data": {
      "text/plain": [
       "0.00    5438615\n",
       "1.00       7716\n",
       "Name: Incidence, dtype: int64"
      ]
     },
     "execution_count": 29,
     "metadata": {},
     "output_type": "execute_result"
    }
   ],
   "source": [
    "#count values for Incidence\n",
    "df_baseline['Incidence'].value_counts()\n"
   ]
  },
  {
   "attachments": {},
   "cell_type": "markdown",
   "id": "d961fba7",
   "metadata": {},
   "source": [
    "# Stratifying while undersampling\n"
   ]
  },
  {
   "cell_type": "code",
   "execution_count": 30,
   "id": "3e0d1e24",
   "metadata": {},
   "outputs": [
    {
     "data": {
      "text/plain": [
       "0.00    7716\n",
       "1.00    7716\n",
       "Name: Incidence, dtype: int64"
      ]
     },
     "execution_count": 30,
     "metadata": {},
     "output_type": "execute_result"
    }
   ],
   "source": [
    "#undersampling the dataset\n",
    "df_baseline_undersampling = df_baseline.groupby('Incidence').apply(lambda x: x.sample(df_baseline['Incidence'].value_counts().min(), random_state=42)).reset_index(drop=True)\n",
    "\n",
    "df_baseline_undersampling['Incidence'].value_counts()\n"
   ]
  },
  {
   "attachments": {},
   "cell_type": "markdown",
   "id": "cf1abca0",
   "metadata": {},
   "source": [
    "# SMOTE to tackle the unbalanced dataset problem"
   ]
  },
  {
   "cell_type": "markdown",
   "id": "e57968ab",
   "metadata": {},
   "source": [
    "#using SMOTE to balance the dataset creating a subset dataset with target y = 'Incidence' and removing Incidence','MonthsLastRev','InspectionDay','PipeId', 'MaintenanceId', 'InspectionYear', 'InspectionDate',  'Province', 'Town', 'YearBuilt' for x\n",
    "X = df_baseline.drop(['PipeId','Province', 'Town'], axis=1)\n",
    "y = df_baseline['Incidence']\n",
    "sm = SMOTE(random_state=42)\n",
    "X_res, y_res = sm.fit_resample(X, y)\n",
    "X_res.shape,y_res.shape\n",
    "\n",
    "#create a pandas dataframe with the new balanced dataset\n",
    "df_baseline_balanced = pd.DataFrame(X_res, columns=X.columns)\n",
    "df_baseline_balanced['Incidence'] = y_res\n",
    "df_baseline_balanced.head()\n"
   ]
  },
  {
   "cell_type": "code",
   "execution_count": 31,
   "id": "d2bec3ae",
   "metadata": {},
   "outputs": [
    {
     "data": {
      "text/plain": [
       "0.00    4350878\n",
       "1.00    4350878\n",
       "Name: Incidence, dtype: int64"
      ]
     },
     "execution_count": 31,
     "metadata": {},
     "output_type": "execute_result"
    }
   ],
   "source": [
    "#using SMOTE to balance the dataset creating a subset dataset with target y = 'Incidence'\n",
    "X = df_baseline.drop('Incidence', axis=1)\n",
    "y = df_baseline['Incidence']\n",
    "X_train, X_test, y_train, y_test = train_test_split(X, y, test_size=0.2, random_state=42)\n",
    "sm = SMOTE(random_state=42)\n",
    "X_train, y_train = sm.fit_resample(X_train, y_train)\n",
    "\n",
    "#count values for Incidence in y_train\n",
    "y_train.value_counts()\n",
    "\n"
   ]
  },
  {
   "cell_type": "code",
   "execution_count": null,
   "id": "05a3f345",
   "metadata": {},
   "outputs": [],
   "source": [
    "y_train.head(1)"
   ]
  },
  {
   "attachments": {},
   "cell_type": "markdown",
   "id": "4a4bc545",
   "metadata": {},
   "source": [
    "# Baselines FROM HERE!!!!"
   ]
  },
  {
   "attachments": {},
   "cell_type": "markdown",
   "id": "a0f2e5a9",
   "metadata": {},
   "source": [
    "## Random Forest Classifier"
   ]
  },
  {
   "cell_type": "code",
   "execution_count": null,
   "id": "04f4715c",
   "metadata": {},
   "outputs": [],
   "source": []
  },
  {
   "cell_type": "code",
   "execution_count": null,
   "id": "623feee6",
   "metadata": {},
   "outputs": [],
   "source": [
    "#DO NOT RUN TAKES TOO LONG\n",
    "#random forest classifier with regularization and gridsearch to find the best parameters for the model\n",
    "rfc = RandomForestClassifier(random_state=42, n_jobs=-1)\n",
    "param_grid = {\n",
    "    'n_estimators': [100, 200, 300, 400, 500],\n",
    "    'max_features': ['auto', 'sqrt', 'log2'],\n",
    "    'max_depth' : [4,5,6,7,8],\n",
    "    'criterion' :['gini', 'entropy']\n",
    "}\n",
    "CV_rfc = GridSearchCV(estimator=rfc, param_grid=param_grid, cv= 5)\n",
    "CV_rfc.fit(X_train, y_train)\n",
    "CV_rfc.best_params_\n",
    "\n",
    "#rfc with best parameters\n",
    "rfc = RandomForestClassifier(random_state=42, n_jobs=-1, n_estimators=100, max_features='auto', max_depth=8, criterion='gini')\n",
    "rfc.fit(X_train, y_train)\n",
    "y_pred = rfc.predict(X_test)\n",
    "print(classification_report(y_test, y_pred))\n",
    "print(confusion_matrix(y_test, y_pred))\n",
    "print(accuracy_score(y_test, y_pred))\n",
    "\n",
    "#plot confusion matrix\n",
    "cm = confusion_matrix(y_test, y_pred)\n",
    "plt.figure(figsize=(10, 6))\n",
    "sns.heatmap(cm, annot=True, cmap='coolwarm')\n",
    "plt.title('Confusion Matrix')\n",
    "plt.show()\n",
    "\n"
   ]
  },
  {
   "cell_type": "code",
   "execution_count": null,
   "id": "81e08d56",
   "metadata": {},
   "outputs": [],
   "source": [
    "predictions = rfc.predict_proba(X_test)\n",
    "predictions = predictions[:, 1]"
   ]
  },
  {
   "cell_type": "code",
   "execution_count": null,
   "id": "35e3bea1",
   "metadata": {},
   "outputs": [],
   "source": []
  },
  {
   "attachments": {},
   "cell_type": "markdown",
   "id": "d054e766",
   "metadata": {},
   "source": [
    "# Trying model "
   ]
  },
  {
   "cell_type": "code",
   "execution_count": 32,
   "id": "f2af6452",
   "metadata": {},
   "outputs": [
    {
     "name": "stderr",
     "output_type": "stream",
     "text": [
      "[Parallel(n_jobs=-1)]: Using backend ThreadingBackend with 8 concurrent workers.\n",
      "[Parallel(n_jobs=-1)]: Done  34 tasks      | elapsed:   51.8s\n",
      "[Parallel(n_jobs=-1)]: Done 100 out of 100 | elapsed:  2.4min finished\n"
     ]
    },
    {
     "data": {
      "text/html": [
       "<style>#sk-container-id-1 {color: black;background-color: white;}#sk-container-id-1 pre{padding: 0;}#sk-container-id-1 div.sk-toggleable {background-color: white;}#sk-container-id-1 label.sk-toggleable__label {cursor: pointer;display: block;width: 100%;margin-bottom: 0;padding: 0.3em;box-sizing: border-box;text-align: center;}#sk-container-id-1 label.sk-toggleable__label-arrow:before {content: \"▸\";float: left;margin-right: 0.25em;color: #696969;}#sk-container-id-1 label.sk-toggleable__label-arrow:hover:before {color: black;}#sk-container-id-1 div.sk-estimator:hover label.sk-toggleable__label-arrow:before {color: black;}#sk-container-id-1 div.sk-toggleable__content {max-height: 0;max-width: 0;overflow: hidden;text-align: left;background-color: #f0f8ff;}#sk-container-id-1 div.sk-toggleable__content pre {margin: 0.2em;color: black;border-radius: 0.25em;background-color: #f0f8ff;}#sk-container-id-1 input.sk-toggleable__control:checked~div.sk-toggleable__content {max-height: 200px;max-width: 100%;overflow: auto;}#sk-container-id-1 input.sk-toggleable__control:checked~label.sk-toggleable__label-arrow:before {content: \"▾\";}#sk-container-id-1 div.sk-estimator input.sk-toggleable__control:checked~label.sk-toggleable__label {background-color: #d4ebff;}#sk-container-id-1 div.sk-label input.sk-toggleable__control:checked~label.sk-toggleable__label {background-color: #d4ebff;}#sk-container-id-1 input.sk-hidden--visually {border: 0;clip: rect(1px 1px 1px 1px);clip: rect(1px, 1px, 1px, 1px);height: 1px;margin: -1px;overflow: hidden;padding: 0;position: absolute;width: 1px;}#sk-container-id-1 div.sk-estimator {font-family: monospace;background-color: #f0f8ff;border: 1px dotted black;border-radius: 0.25em;box-sizing: border-box;margin-bottom: 0.5em;}#sk-container-id-1 div.sk-estimator:hover {background-color: #d4ebff;}#sk-container-id-1 div.sk-parallel-item::after {content: \"\";width: 100%;border-bottom: 1px solid gray;flex-grow: 1;}#sk-container-id-1 div.sk-label:hover label.sk-toggleable__label {background-color: #d4ebff;}#sk-container-id-1 div.sk-serial::before {content: \"\";position: absolute;border-left: 1px solid gray;box-sizing: border-box;top: 0;bottom: 0;left: 50%;z-index: 0;}#sk-container-id-1 div.sk-serial {display: flex;flex-direction: column;align-items: center;background-color: white;padding-right: 0.2em;padding-left: 0.2em;position: relative;}#sk-container-id-1 div.sk-item {position: relative;z-index: 1;}#sk-container-id-1 div.sk-parallel {display: flex;align-items: stretch;justify-content: center;background-color: white;position: relative;}#sk-container-id-1 div.sk-item::before, #sk-container-id-1 div.sk-parallel-item::before {content: \"\";position: absolute;border-left: 1px solid gray;box-sizing: border-box;top: 0;bottom: 0;left: 50%;z-index: -1;}#sk-container-id-1 div.sk-parallel-item {display: flex;flex-direction: column;z-index: 1;position: relative;background-color: white;}#sk-container-id-1 div.sk-parallel-item:first-child::after {align-self: flex-end;width: 50%;}#sk-container-id-1 div.sk-parallel-item:last-child::after {align-self: flex-start;width: 50%;}#sk-container-id-1 div.sk-parallel-item:only-child::after {width: 0;}#sk-container-id-1 div.sk-dashed-wrapped {border: 1px dashed gray;margin: 0 0.4em 0.5em 0.4em;box-sizing: border-box;padding-bottom: 0.4em;background-color: white;}#sk-container-id-1 div.sk-label label {font-family: monospace;font-weight: bold;display: inline-block;line-height: 1.2em;}#sk-container-id-1 div.sk-label-container {text-align: center;}#sk-container-id-1 div.sk-container {/* jupyter's `normalize.less` sets `[hidden] { display: none; }` but bootstrap.min.css set `[hidden] { display: none !important; }` so we also need the `!important` here to be able to override the default hidden behavior on the sphinx rendered scikit-learn.org. See: https://github.com/scikit-learn/scikit-learn/issues/21755 */display: inline-block !important;position: relative;}#sk-container-id-1 div.sk-text-repr-fallback {display: none;}</style><div id=\"sk-container-id-1\" class=\"sk-top-container\"><div class=\"sk-text-repr-fallback\"><pre>RandomForestClassifier(max_depth=2, n_jobs=-1, random_state=42, verbose=1)</pre><b>In a Jupyter environment, please rerun this cell to show the HTML representation or trust the notebook. <br />On GitHub, the HTML representation is unable to render, please try loading this page with nbviewer.org.</b></div><div class=\"sk-container\" hidden><div class=\"sk-item\"><div class=\"sk-estimator sk-toggleable\"><input class=\"sk-toggleable__control sk-hidden--visually\" id=\"sk-estimator-id-1\" type=\"checkbox\" checked><label for=\"sk-estimator-id-1\" class=\"sk-toggleable__label sk-toggleable__label-arrow\">RandomForestClassifier</label><div class=\"sk-toggleable__content\"><pre>RandomForestClassifier(max_depth=2, n_jobs=-1, random_state=42, verbose=1)</pre></div></div></div></div></div>"
      ],
      "text/plain": [
       "RandomForestClassifier(max_depth=2, n_jobs=-1, random_state=42, verbose=1)"
      ]
     },
     "execution_count": 32,
     "metadata": {},
     "output_type": "execute_result"
    },
    {
     "name": "stderr",
     "output_type": "stream",
     "text": [
      "[Parallel(n_jobs=8)]: Using backend ThreadingBackend with 8 concurrent workers.\n",
      "[Parallel(n_jobs=8)]: Done  34 tasks      | elapsed:    0.3s\n",
      "[Parallel(n_jobs=8)]: Done 100 out of 100 | elapsed:    0.9s finished\n"
     ]
    },
    {
     "name": "stdout",
     "output_type": "stream",
     "text": [
      "              precision    recall  f1-score   support\n",
      "\n",
      "         0.0       1.00      1.00      1.00   1087737\n",
      "         1.0       0.29      1.00      0.44      1530\n",
      "\n",
      "    accuracy                           1.00   1089267\n",
      "   macro avg       0.64      1.00      0.72   1089267\n",
      "weighted avg       1.00      1.00      1.00   1089267\n",
      "\n",
      "[[1083899    3838]\n",
      " [      0    1530]]\n",
      "0.9964765296295582\n"
     ]
    },
    {
     "data": {
      "text/plain": [
       "<Figure size 1000x600 with 0 Axes>"
      ]
     },
     "execution_count": 32,
     "metadata": {},
     "output_type": "execute_result"
    },
    {
     "data": {
      "text/plain": [
       "<AxesSubplot: >"
      ]
     },
     "execution_count": 32,
     "metadata": {},
     "output_type": "execute_result"
    },
    {
     "data": {
      "text/plain": [
       "Text(0.5, 1.0, 'Confusion Matrix')"
      ]
     },
     "execution_count": 32,
     "metadata": {},
     "output_type": "execute_result"
    },
    {
     "data": {
      "image/png": "[encoded data removed]",
      "text/plain": [
       "<Figure size 1000x600 with 2 Axes>"
      ]
     },
     "metadata": {},
     "output_type": "display_data"
    }
   ],
   "source": [
    "#random forest classifier with regularization and gridsearch to find the best parameters for the model\n",
    "rfc = RandomForestClassifier(random_state=42, n_jobs=-1, max_depth = 2, verbose=1)  \n",
    "rfc.fit(X_train, y_train)\n",
    "y_pred = rfc.predict(X_test)\n",
    "print(classification_report(y_test, y_pred))\n",
    "print(confusion_matrix(y_test, y_pred))\n",
    "print(accuracy_score(y_test, y_pred))\n",
    "\n",
    "#plot confusion matrix\n",
    "cm = confusion_matrix(y_test, y_pred)\n",
    "plt.figure(figsize=(10, 6))\n",
    "sns.heatmap(cm, annot=True, cmap='coolwarm')\n",
    "plt.title('Confusion Matrix')\n",
    "plt.show()"
   ]
  },
  {
   "cell_type": "code",
   "execution_count": 33,
   "id": "22deedf5",
   "metadata": {},
   "outputs": [
    {
     "name": "stderr",
     "output_type": "stream",
     "text": [
      "[Parallel(n_jobs=8)]: Using backend ThreadingBackend with 8 concurrent workers.\n",
      "[Parallel(n_jobs=8)]: Done  34 tasks      | elapsed:    0.3s\n"
     ]
    },
    {
     "name": "stdout",
     "output_type": "stream",
     "text": [
      "0.9964765296295582\n"
     ]
    },
    {
     "name": "stderr",
     "output_type": "stream",
     "text": [
      "[Parallel(n_jobs=8)]: Done 100 out of 100 | elapsed:    0.9s finished\n"
     ]
    }
   ],
   "source": [
    "predictions = rfc.predict_proba(X_test)\n",
    "predictions = predictions[:, 1]\n",
    "\n",
    "#show accuracy score\n",
    "print(accuracy_score(y_test, y_pred))\n"
   ]
  },
  {
   "cell_type": "code",
   "execution_count": 34,
   "id": "4c1b2a4f",
   "metadata": {},
   "outputs": [
    {
     "name": "stdout",
     "output_type": "stream",
     "text": [
      "              precision    recall  f1-score   support\n",
      "\n",
      "         0.0       1.00      1.00      1.00   1087737\n",
      "         1.0       0.29      1.00      0.44      1530\n",
      "\n",
      "    accuracy                           1.00   1089267\n",
      "   macro avg       0.64      1.00      0.72   1089267\n",
      "weighted avg       1.00      1.00      1.00   1089267\n",
      "\n"
     ]
    }
   ],
   "source": [
    "\n",
    "#show classification report\n",
    "print(classification_report(y_test, y_pred))\n"
   ]
  },
  {
   "cell_type": "code",
   "execution_count": 35,
   "metadata": {},
   "outputs": [
    {
     "name": "stderr",
     "output_type": "stream",
     "text": [
      "[Parallel(n_jobs=8)]: Using backend ThreadingBackend with 8 concurrent workers.\n",
      "[Parallel(n_jobs=8)]: Done  34 tasks      | elapsed:    0.3s\n"
     ]
    },
    {
     "name": "stdout",
     "output_type": "stream",
     "text": [
      "0.9964765296295582\n"
     ]
    },
    {
     "name": "stderr",
     "output_type": "stream",
     "text": [
      "[Parallel(n_jobs=8)]: Done 100 out of 100 | elapsed:    0.9s finished\n"
     ]
    }
   ],
   "source": [
    "#use model to predict on test set\n",
    "predictions = rfc.predict_proba(X_test)\n",
    "predictions = predictions[:, 1]\n",
    "\n",
    "#show accuracy score\n",
    "print(accuracy_score(y_test, y_pred))\n"
   ]
  },
  {
   "cell_type": "code",
   "execution_count": 36,
   "id": "4646f87b",
   "metadata": {},
   "outputs": [],
   "source": [
    "#change directory to\n",
    "os.chdir(r'C:\\Users\\pedro\\datathon\\Datathon-Rules-and-Documentation')\n",
    "#import a file\n",
    "submission = pd.read_csv('sample_submission.csv')"
   ]
  },
  {
   "cell_type": "code",
   "execution_count": 37,
   "id": "886743c2",
   "metadata": {},
   "outputs": [
    {
     "data": {
      "text/html": [
       "<div>\n",
       "<style scoped>\n",
       "    .dataframe tbody tr th:only-of-type {\n",
       "        vertical-align: middle;\n",
       "    }\n",
       "\n",
       "    .dataframe tbody tr th {\n",
       "        vertical-align: top;\n",
       "    }\n",
       "\n",
       "    .dataframe thead th {\n",
       "        text-align: right;\n",
       "    }\n",
       "</style>\n",
       "<table border=\"1\" class=\"dataframe\">\n",
       "  <thead>\n",
       "    <tr style=\"text-align: right;\">\n",
       "      <th></th>\n",
       "      <th>PipeId</th>\n",
       "      <th>Incidence</th>\n",
       "    </tr>\n",
       "  </thead>\n",
       "  <tbody>\n",
       "    <tr>\n",
       "      <th>0</th>\n",
       "      <td>446859944</td>\n",
       "      <td>0</td>\n",
       "    </tr>\n",
       "  </tbody>\n",
       "</table>\n",
       "</div>"
      ],
      "text/plain": [
       "      PipeId  Incidence\n",
       "0  446859944          0"
      ]
     },
     "execution_count": 37,
     "metadata": {},
     "output_type": "execute_result"
    }
   ],
   "source": [
    "submission.head(10)"
   ]
  },
  {
   "cell_type": "code",
   "execution_count": 76,
   "id": "9a022371",
   "metadata": {},
   "outputs": [
    {
     "data": {
      "text/plain": [
       "(909733, 2)"
      ]
     },
     "execution_count": 76,
     "metadata": {},
     "output_type": "execute_result"
    }
   ],
   "source": [
    "submission.shape"
   ]
  },
  {
   "cell_type": "code",
   "execution_count": 77,
   "id": "f36dbcee",
   "metadata": {},
   "outputs": [
    {
     "data": {
      "text/plain": [
       "(3580012, 30)"
      ]
     },
     "execution_count": 77,
     "metadata": {},
     "output_type": "execute_result"
    }
   ],
   "source": [
    "submission2.shape"
   ]
  },
  {
   "cell_type": "code",
   "execution_count": 75,
   "id": "14854b26",
   "metadata": {},
   "outputs": [],
   "source": [
    "#for all PipeId in submission, join  with df_baseline on PipeId\n",
    "submission2 = submission.merge(df_baseline, on='PipeId', how='left')"
   ]
  },
  {
   "cell_type": "code",
   "execution_count": 78,
   "id": "c1f1de0a",
   "metadata": {},
   "outputs": [
    {
     "data": {
      "text/plain": [
       "array([], dtype=int64)"
      ]
     },
     "execution_count": 78,
     "metadata": {},
     "output_type": "execute_result"
    }
   ],
   "source": [
    "#compute differences in PipeId between submission and submission2\n",
    "np.setdiff1d(submission['PipeId'].unique(), submission2['PipeId'].unique())"
   ]
  },
  {
   "cell_type": "code",
   "execution_count": 79,
   "id": "87b4fab5",
   "metadata": {},
   "outputs": [
    {
     "data": {
      "text/html": [
       "<div>\n",
       "<style scoped>\n",
       "    .dataframe tbody tr th:only-of-type {\n",
       "        vertical-align: middle;\n",
       "    }\n",
       "\n",
       "    .dataframe tbody tr th {\n",
       "        vertical-align: top;\n",
       "    }\n",
       "\n",
       "    .dataframe thead th {\n",
       "        text-align: right;\n",
       "    }\n",
       "</style>\n",
       "<table border=\"1\" class=\"dataframe\">\n",
       "  <thead>\n",
       "    <tr style=\"text-align: right;\">\n",
       "      <th></th>\n",
       "      <th>PipeId</th>\n",
       "      <th>Incidence_x</th>\n",
       "      <th>No_Inspections</th>\n",
       "      <th>No_Incidents</th>\n",
       "      <th>InspectionYear</th>\n",
       "      <th>preventive_maintenance_rate</th>\n",
       "      <th>Age_pipe_at_inspection</th>\n",
       "      <th>pipe_inspected_frequently</th>\n",
       "      <th>Average_MonthsLastRev</th>\n",
       "      <th>MonthsLastRev</th>\n",
       "      <th>Incidence_y</th>\n",
       "      <th>NumConnections</th>\n",
       "      <th>NumConnectionsUnder</th>\n",
       "      <th>Relative_Thickness</th>\n",
       "      <th>pipe_area</th>\n",
       "      <th>area_connection</th>\n",
       "      <th>incidence_area</th>\n",
       "      <th>connection_bool</th>\n",
       "      <th>gas_natural</th>\n",
       "      <th>Material_Acrylonitrile-Butadiene-Styrene</th>\n",
       "      <th>Material_Copper</th>\n",
       "      <th>Material_Fiberglass-Reinforced Plastic</th>\n",
       "      <th>Material_Polyethylene</th>\n",
       "      <th>Material_Polypropylene</th>\n",
       "      <th>Diameter2</th>\n",
       "      <th>Length2</th>\n",
       "      <th>Pressure2</th>\n",
       "      <th>Average year Humidity (%)</th>\n",
       "      <th>Yearly Sun Hours (hours)</th>\n",
       "      <th>Population density (persons/sqkm)</th>\n",
       "    </tr>\n",
       "  </thead>\n",
       "  <tbody>\n",
       "    <tr>\n",
       "      <th>0</th>\n",
       "      <td>446859944</td>\n",
       "      <td>0</td>\n",
       "      <td>4.00</td>\n",
       "      <td>0.00</td>\n",
       "      <td>2013.00</td>\n",
       "      <td>0.00</td>\n",
       "      <td>1.00</td>\n",
       "      <td>1.00</td>\n",
       "      <td>20.75</td>\n",
       "      <td>12.00</td>\n",
       "      <td>0.00</td>\n",
       "      <td>0.00</td>\n",
       "      <td>0.00</td>\n",
       "      <td>0.73</td>\n",
       "      <td>15.30</td>\n",
       "      <td>0.00</td>\n",
       "      <td>0.00</td>\n",
       "      <td>0.00</td>\n",
       "      <td>1.00</td>\n",
       "      <td>0.00</td>\n",
       "      <td>0.00</td>\n",
       "      <td>0.00</td>\n",
       "      <td>1.00</td>\n",
       "      <td>0.00</td>\n",
       "      <td>0.01</td>\n",
       "      <td>1961.25</td>\n",
       "      <td>0.02</td>\n",
       "      <td>0.64</td>\n",
       "      <td>113.20</td>\n",
       "      <td>239.83</td>\n",
       "    </tr>\n",
       "    <tr>\n",
       "      <th>1</th>\n",
       "      <td>446859944</td>\n",
       "      <td>0</td>\n",
       "      <td>4.00</td>\n",
       "      <td>0.00</td>\n",
       "      <td>2015.00</td>\n",
       "      <td>0.00</td>\n",
       "      <td>3.00</td>\n",
       "      <td>1.00</td>\n",
       "      <td>20.75</td>\n",
       "      <td>24.00</td>\n",
       "      <td>0.00</td>\n",
       "      <td>0.00</td>\n",
       "      <td>0.00</td>\n",
       "      <td>0.73</td>\n",
       "      <td>15.30</td>\n",
       "      <td>0.00</td>\n",
       "      <td>0.00</td>\n",
       "      <td>0.00</td>\n",
       "      <td>1.00</td>\n",
       "      <td>0.00</td>\n",
       "      <td>0.00</td>\n",
       "      <td>0.00</td>\n",
       "      <td>1.00</td>\n",
       "      <td>0.00</td>\n",
       "      <td>0.01</td>\n",
       "      <td>1961.25</td>\n",
       "      <td>0.02</td>\n",
       "      <td>0.64</td>\n",
       "      <td>113.20</td>\n",
       "      <td>239.83</td>\n",
       "    </tr>\n",
       "    <tr>\n",
       "      <th>2</th>\n",
       "      <td>446859944</td>\n",
       "      <td>0</td>\n",
       "      <td>4.00</td>\n",
       "      <td>0.00</td>\n",
       "      <td>2017.00</td>\n",
       "      <td>0.00</td>\n",
       "      <td>5.00</td>\n",
       "      <td>1.00</td>\n",
       "      <td>20.75</td>\n",
       "      <td>24.00</td>\n",
       "      <td>0.00</td>\n",
       "      <td>0.00</td>\n",
       "      <td>0.00</td>\n",
       "      <td>0.73</td>\n",
       "      <td>15.30</td>\n",
       "      <td>0.00</td>\n",
       "      <td>0.00</td>\n",
       "      <td>0.00</td>\n",
       "      <td>1.00</td>\n",
       "      <td>0.00</td>\n",
       "      <td>0.00</td>\n",
       "      <td>0.00</td>\n",
       "      <td>1.00</td>\n",
       "      <td>0.00</td>\n",
       "      <td>0.01</td>\n",
       "      <td>1961.25</td>\n",
       "      <td>0.02</td>\n",
       "      <td>0.64</td>\n",
       "      <td>113.20</td>\n",
       "      <td>239.83</td>\n",
       "    </tr>\n",
       "    <tr>\n",
       "      <th>3</th>\n",
       "      <td>446859944</td>\n",
       "      <td>0</td>\n",
       "      <td>4.00</td>\n",
       "      <td>0.00</td>\n",
       "      <td>2019.00</td>\n",
       "      <td>0.00</td>\n",
       "      <td>7.00</td>\n",
       "      <td>1.00</td>\n",
       "      <td>20.75</td>\n",
       "      <td>23.00</td>\n",
       "      <td>0.00</td>\n",
       "      <td>0.00</td>\n",
       "      <td>0.00</td>\n",
       "      <td>0.73</td>\n",
       "      <td>15.30</td>\n",
       "      <td>0.00</td>\n",
       "      <td>0.00</td>\n",
       "      <td>0.00</td>\n",
       "      <td>1.00</td>\n",
       "      <td>0.00</td>\n",
       "      <td>0.00</td>\n",
       "      <td>0.00</td>\n",
       "      <td>1.00</td>\n",
       "      <td>0.00</td>\n",
       "      <td>0.01</td>\n",
       "      <td>1961.25</td>\n",
       "      <td>0.02</td>\n",
       "      <td>0.64</td>\n",
       "      <td>113.20</td>\n",
       "      <td>239.83</td>\n",
       "    </tr>\n",
       "    <tr>\n",
       "      <th>5</th>\n",
       "      <td>438428871</td>\n",
       "      <td>0</td>\n",
       "      <td>4.00</td>\n",
       "      <td>0.00</td>\n",
       "      <td>2013.00</td>\n",
       "      <td>0.00</td>\n",
       "      <td>1.00</td>\n",
       "      <td>1.00</td>\n",
       "      <td>20.75</td>\n",
       "      <td>12.00</td>\n",
       "      <td>0.00</td>\n",
       "      <td>0.00</td>\n",
       "      <td>0.00</td>\n",
       "      <td>0.73</td>\n",
       "      <td>4.69</td>\n",
       "      <td>0.00</td>\n",
       "      <td>0.00</td>\n",
       "      <td>0.00</td>\n",
       "      <td>1.00</td>\n",
       "      <td>0.00</td>\n",
       "      <td>0.00</td>\n",
       "      <td>0.00</td>\n",
       "      <td>1.00</td>\n",
       "      <td>0.00</td>\n",
       "      <td>0.01</td>\n",
       "      <td>184.28</td>\n",
       "      <td>0.02</td>\n",
       "      <td>0.64</td>\n",
       "      <td>113.20</td>\n",
       "      <td>239.83</td>\n",
       "    </tr>\n",
       "    <tr>\n",
       "      <th>...</th>\n",
       "      <td>...</td>\n",
       "      <td>...</td>\n",
       "      <td>...</td>\n",
       "      <td>...</td>\n",
       "      <td>...</td>\n",
       "      <td>...</td>\n",
       "      <td>...</td>\n",
       "      <td>...</td>\n",
       "      <td>...</td>\n",
       "      <td>...</td>\n",
       "      <td>...</td>\n",
       "      <td>...</td>\n",
       "      <td>...</td>\n",
       "      <td>...</td>\n",
       "      <td>...</td>\n",
       "      <td>...</td>\n",
       "      <td>...</td>\n",
       "      <td>...</td>\n",
       "      <td>...</td>\n",
       "      <td>...</td>\n",
       "      <td>...</td>\n",
       "      <td>...</td>\n",
       "      <td>...</td>\n",
       "      <td>...</td>\n",
       "      <td>...</td>\n",
       "      <td>...</td>\n",
       "      <td>...</td>\n",
       "      <td>...</td>\n",
       "      <td>...</td>\n",
       "      <td>...</td>\n",
       "    </tr>\n",
       "    <tr>\n",
       "      <th>3580007</th>\n",
       "      <td>228228379</td>\n",
       "      <td>0</td>\n",
       "      <td>5.00</td>\n",
       "      <td>0.00</td>\n",
       "      <td>2012.00</td>\n",
       "      <td>0.00</td>\n",
       "      <td>8.00</td>\n",
       "      <td>1.00</td>\n",
       "      <td>24.00</td>\n",
       "      <td>24.00</td>\n",
       "      <td>0.00</td>\n",
       "      <td>0.00</td>\n",
       "      <td>0.00</td>\n",
       "      <td>0.04</td>\n",
       "      <td>1.17</td>\n",
       "      <td>0.00</td>\n",
       "      <td>0.00</td>\n",
       "      <td>0.00</td>\n",
       "      <td>1.00</td>\n",
       "      <td>0.00</td>\n",
       "      <td>0.00</td>\n",
       "      <td>0.00</td>\n",
       "      <td>1.00</td>\n",
       "      <td>0.00</td>\n",
       "      <td>0.03</td>\n",
       "      <td>5.41</td>\n",
       "      <td>16.00</td>\n",
       "      <td>0.64</td>\n",
       "      <td>113.20</td>\n",
       "      <td>239.83</td>\n",
       "    </tr>\n",
       "    <tr>\n",
       "      <th>3580008</th>\n",
       "      <td>228228379</td>\n",
       "      <td>0</td>\n",
       "      <td>5.00</td>\n",
       "      <td>0.00</td>\n",
       "      <td>2014.00</td>\n",
       "      <td>0.00</td>\n",
       "      <td>10.00</td>\n",
       "      <td>1.00</td>\n",
       "      <td>24.00</td>\n",
       "      <td>24.00</td>\n",
       "      <td>0.00</td>\n",
       "      <td>0.00</td>\n",
       "      <td>0.00</td>\n",
       "      <td>0.04</td>\n",
       "      <td>1.17</td>\n",
       "      <td>0.00</td>\n",
       "      <td>0.00</td>\n",
       "      <td>0.00</td>\n",
       "      <td>1.00</td>\n",
       "      <td>0.00</td>\n",
       "      <td>0.00</td>\n",
       "      <td>0.00</td>\n",
       "      <td>1.00</td>\n",
       "      <td>0.00</td>\n",
       "      <td>0.03</td>\n",
       "      <td>5.41</td>\n",
       "      <td>16.00</td>\n",
       "      <td>0.64</td>\n",
       "      <td>113.20</td>\n",
       "      <td>239.83</td>\n",
       "    </tr>\n",
       "    <tr>\n",
       "      <th>3580009</th>\n",
       "      <td>228228379</td>\n",
       "      <td>0</td>\n",
       "      <td>5.00</td>\n",
       "      <td>0.00</td>\n",
       "      <td>2016.00</td>\n",
       "      <td>0.00</td>\n",
       "      <td>12.00</td>\n",
       "      <td>1.00</td>\n",
       "      <td>24.00</td>\n",
       "      <td>23.00</td>\n",
       "      <td>0.00</td>\n",
       "      <td>0.00</td>\n",
       "      <td>0.00</td>\n",
       "      <td>0.04</td>\n",
       "      <td>1.17</td>\n",
       "      <td>0.00</td>\n",
       "      <td>0.00</td>\n",
       "      <td>0.00</td>\n",
       "      <td>1.00</td>\n",
       "      <td>0.00</td>\n",
       "      <td>0.00</td>\n",
       "      <td>0.00</td>\n",
       "      <td>1.00</td>\n",
       "      <td>0.00</td>\n",
       "      <td>0.03</td>\n",
       "      <td>5.41</td>\n",
       "      <td>16.00</td>\n",
       "      <td>0.64</td>\n",
       "      <td>113.20</td>\n",
       "      <td>239.83</td>\n",
       "    </tr>\n",
       "    <tr>\n",
       "      <th>3580010</th>\n",
       "      <td>228228379</td>\n",
       "      <td>0</td>\n",
       "      <td>5.00</td>\n",
       "      <td>0.00</td>\n",
       "      <td>2018.00</td>\n",
       "      <td>0.00</td>\n",
       "      <td>14.00</td>\n",
       "      <td>1.00</td>\n",
       "      <td>24.00</td>\n",
       "      <td>25.00</td>\n",
       "      <td>0.00</td>\n",
       "      <td>0.00</td>\n",
       "      <td>0.00</td>\n",
       "      <td>0.04</td>\n",
       "      <td>1.17</td>\n",
       "      <td>0.00</td>\n",
       "      <td>0.00</td>\n",
       "      <td>0.00</td>\n",
       "      <td>1.00</td>\n",
       "      <td>0.00</td>\n",
       "      <td>0.00</td>\n",
       "      <td>0.00</td>\n",
       "      <td>1.00</td>\n",
       "      <td>0.00</td>\n",
       "      <td>0.03</td>\n",
       "      <td>5.41</td>\n",
       "      <td>16.00</td>\n",
       "      <td>0.64</td>\n",
       "      <td>113.20</td>\n",
       "      <td>239.83</td>\n",
       "    </tr>\n",
       "    <tr>\n",
       "      <th>3580011</th>\n",
       "      <td>228228379</td>\n",
       "      <td>0</td>\n",
       "      <td>5.00</td>\n",
       "      <td>0.00</td>\n",
       "      <td>2020.00</td>\n",
       "      <td>0.00</td>\n",
       "      <td>16.00</td>\n",
       "      <td>1.00</td>\n",
       "      <td>24.00</td>\n",
       "      <td>24.00</td>\n",
       "      <td>0.00</td>\n",
       "      <td>0.00</td>\n",
       "      <td>0.00</td>\n",
       "      <td>0.04</td>\n",
       "      <td>1.17</td>\n",
       "      <td>0.00</td>\n",
       "      <td>0.00</td>\n",
       "      <td>0.00</td>\n",
       "      <td>1.00</td>\n",
       "      <td>0.00</td>\n",
       "      <td>0.00</td>\n",
       "      <td>0.00</td>\n",
       "      <td>1.00</td>\n",
       "      <td>0.00</td>\n",
       "      <td>0.03</td>\n",
       "      <td>5.41</td>\n",
       "      <td>16.00</td>\n",
       "      <td>0.64</td>\n",
       "      <td>113.20</td>\n",
       "      <td>239.83</td>\n",
       "    </tr>\n",
       "  </tbody>\n",
       "</table>\n",
       "<p>3411280 rows × 30 columns</p>\n",
       "</div>"
      ],
      "text/plain": [
       "            PipeId  Incidence_x  No_Inspections  No_Incidents  InspectionYear  \\\n",
       "0        446859944            0            4.00          0.00         2013.00   \n",
       "1        446859944            0            4.00          0.00         2015.00   \n",
       "2        446859944            0            4.00          0.00         2017.00   \n",
       "3        446859944            0            4.00          0.00         2019.00   \n",
       "5        438428871            0            4.00          0.00         2013.00   \n",
       "...            ...          ...             ...           ...             ...   \n",
       "3580007  228228379            0            5.00          0.00         2012.00   \n",
       "3580008  228228379            0            5.00          0.00         2014.00   \n",
       "3580009  228228379            0            5.00          0.00         2016.00   \n",
       "3580010  228228379            0            5.00          0.00         2018.00   \n",
       "3580011  228228379            0            5.00          0.00         2020.00   \n",
       "\n",
       "         preventive_maintenance_rate  Age_pipe_at_inspection  \\\n",
       "0                               0.00                    1.00   \n",
       "1                               0.00                    3.00   \n",
       "2                               0.00                    5.00   \n",
       "3                               0.00                    7.00   \n",
       "5                               0.00                    1.00   \n",
       "...                              ...                     ...   \n",
       "3580007                         0.00                    8.00   \n",
       "3580008                         0.00                   10.00   \n",
       "3580009                         0.00                   12.00   \n",
       "3580010                         0.00                   14.00   \n",
       "3580011                         0.00                   16.00   \n",
       "\n",
       "         pipe_inspected_frequently  Average_MonthsLastRev  MonthsLastRev  \\\n",
       "0                             1.00                  20.75          12.00   \n",
       "1                             1.00                  20.75          24.00   \n",
       "2                             1.00                  20.75          24.00   \n",
       "3                             1.00                  20.75          23.00   \n",
       "5                             1.00                  20.75          12.00   \n",
       "...                            ...                    ...            ...   \n",
       "3580007                       1.00                  24.00          24.00   \n",
       "3580008                       1.00                  24.00          24.00   \n",
       "3580009                       1.00                  24.00          23.00   \n",
       "3580010                       1.00                  24.00          25.00   \n",
       "3580011                       1.00                  24.00          24.00   \n",
       "\n",
       "         Incidence_y  NumConnections  NumConnectionsUnder  Relative_Thickness  \\\n",
       "0               0.00            0.00                 0.00                0.73   \n",
       "1               0.00            0.00                 0.00                0.73   \n",
       "2               0.00            0.00                 0.00                0.73   \n",
       "3               0.00            0.00                 0.00                0.73   \n",
       "5               0.00            0.00                 0.00                0.73   \n",
       "...              ...             ...                  ...                 ...   \n",
       "3580007         0.00            0.00                 0.00                0.04   \n",
       "3580008         0.00            0.00                 0.00                0.04   \n",
       "3580009         0.00            0.00                 0.00                0.04   \n",
       "3580010         0.00            0.00                 0.00                0.04   \n",
       "3580011         0.00            0.00                 0.00                0.04   \n",
       "\n",
       "         pipe_area  area_connection  incidence_area  connection_bool  \\\n",
       "0            15.30             0.00            0.00             0.00   \n",
       "1            15.30             0.00            0.00             0.00   \n",
       "2            15.30             0.00            0.00             0.00   \n",
       "3            15.30             0.00            0.00             0.00   \n",
       "5             4.69             0.00            0.00             0.00   \n",
       "...            ...              ...             ...              ...   \n",
       "3580007       1.17             0.00            0.00             0.00   \n",
       "3580008       1.17             0.00            0.00             0.00   \n",
       "3580009       1.17             0.00            0.00             0.00   \n",
       "3580010       1.17             0.00            0.00             0.00   \n",
       "3580011       1.17             0.00            0.00             0.00   \n",
       "\n",
       "         gas_natural  Material_Acrylonitrile-Butadiene-Styrene  \\\n",
       "0               1.00                                      0.00   \n",
       "1               1.00                                      0.00   \n",
       "2               1.00                                      0.00   \n",
       "3               1.00                                      0.00   \n",
       "5               1.00                                      0.00   \n",
       "...              ...                                       ...   \n",
       "3580007         1.00                                      0.00   \n",
       "3580008         1.00                                      0.00   \n",
       "3580009         1.00                                      0.00   \n",
       "3580010         1.00                                      0.00   \n",
       "3580011         1.00                                      0.00   \n",
       "\n",
       "         Material_Copper  Material_Fiberglass-Reinforced Plastic  \\\n",
       "0                   0.00                                    0.00   \n",
       "1                   0.00                                    0.00   \n",
       "2                   0.00                                    0.00   \n",
       "3                   0.00                                    0.00   \n",
       "5                   0.00                                    0.00   \n",
       "...                  ...                                     ...   \n",
       "3580007             0.00                                    0.00   \n",
       "3580008             0.00                                    0.00   \n",
       "3580009             0.00                                    0.00   \n",
       "3580010             0.00                                    0.00   \n",
       "3580011             0.00                                    0.00   \n",
       "\n",
       "         Material_Polyethylene  Material_Polypropylene  Diameter2  Length2  \\\n",
       "0                         1.00                    0.00       0.01  1961.25   \n",
       "1                         1.00                    0.00       0.01  1961.25   \n",
       "2                         1.00                    0.00       0.01  1961.25   \n",
       "3                         1.00                    0.00       0.01  1961.25   \n",
       "5                         1.00                    0.00       0.01   184.28   \n",
       "...                        ...                     ...        ...      ...   \n",
       "3580007                   1.00                    0.00       0.03     5.41   \n",
       "3580008                   1.00                    0.00       0.03     5.41   \n",
       "3580009                   1.00                    0.00       0.03     5.41   \n",
       "3580010                   1.00                    0.00       0.03     5.41   \n",
       "3580011                   1.00                    0.00       0.03     5.41   \n",
       "\n",
       "         Pressure2  Average year Humidity (%)  Yearly Sun Hours (hours)  \\\n",
       "0             0.02                       0.64                    113.20   \n",
       "1             0.02                       0.64                    113.20   \n",
       "2             0.02                       0.64                    113.20   \n",
       "3             0.02                       0.64                    113.20   \n",
       "5             0.02                       0.64                    113.20   \n",
       "...            ...                        ...                       ...   \n",
       "3580007      16.00                       0.64                    113.20   \n",
       "3580008      16.00                       0.64                    113.20   \n",
       "3580009      16.00                       0.64                    113.20   \n",
       "3580010      16.00                       0.64                    113.20   \n",
       "3580011      16.00                       0.64                    113.20   \n",
       "\n",
       "         Population density (persons/sqkm)  \n",
       "0                                   239.83  \n",
       "1                                   239.83  \n",
       "2                                   239.83  \n",
       "3                                   239.83  \n",
       "5                                   239.83  \n",
       "...                                    ...  \n",
       "3580007                             239.83  \n",
       "3580008                             239.83  \n",
       "3580009                             239.83  \n",
       "3580010                             239.83  \n",
       "3580011                             239.83  \n",
       "\n",
       "[3411280 rows x 30 columns]"
      ]
     },
     "execution_count": 79,
     "metadata": {},
     "output_type": "execute_result"
    }
   ],
   "source": [
    "#show duplicates for PipeId in submission2\n",
    "submission2[submission2.duplicated(['PipeId'], keep=False)]\n"
   ]
  },
  {
   "cell_type": "code",
   "execution_count": 80,
   "id": "be8985a7",
   "metadata": {},
   "outputs": [
    {
     "data": {
      "text/plain": [
       "(909733, 30)"
      ]
     },
     "execution_count": 80,
     "metadata": {},
     "output_type": "execute_result"
    }
   ],
   "source": [
    "#keep only the first occurence of PipeId in submission2\n",
    "submission2.drop_duplicates(subset='PipeId', keep='first', inplace=True)\n",
    "submission2.shape"
   ]
  },
  {
   "cell_type": "code",
   "execution_count": 81,
   "id": "ee998831",
   "metadata": {},
   "outputs": [
    {
     "data": {
      "text/html": [
       "<div>\n",
       "<style scoped>\n",
       "    .dataframe tbody tr th:only-of-type {\n",
       "        vertical-align: middle;\n",
       "    }\n",
       "\n",
       "    .dataframe tbody tr th {\n",
       "        vertical-align: top;\n",
       "    }\n",
       "\n",
       "    .dataframe thead th {\n",
       "        text-align: right;\n",
       "    }\n",
       "</style>\n",
       "<table border=\"1\" class=\"dataframe\">\n",
       "  <thead>\n",
       "    <tr style=\"text-align: right;\">\n",
       "      <th></th>\n",
       "      <th>PipeId</th>\n",
       "      <th>Incidence_x</th>\n",
       "      <th>No_Inspections</th>\n",
       "      <th>No_Incidents</th>\n",
       "      <th>InspectionYear</th>\n",
       "      <th>preventive_maintenance_rate</th>\n",
       "      <th>Age_pipe_at_inspection</th>\n",
       "      <th>pipe_inspected_frequently</th>\n",
       "      <th>Average_MonthsLastRev</th>\n",
       "      <th>MonthsLastRev</th>\n",
       "      <th>Incidence_y</th>\n",
       "      <th>NumConnections</th>\n",
       "      <th>NumConnectionsUnder</th>\n",
       "      <th>Relative_Thickness</th>\n",
       "      <th>pipe_area</th>\n",
       "      <th>area_connection</th>\n",
       "      <th>incidence_area</th>\n",
       "      <th>connection_bool</th>\n",
       "      <th>gas_natural</th>\n",
       "      <th>Material_Acrylonitrile-Butadiene-Styrene</th>\n",
       "      <th>Material_Copper</th>\n",
       "      <th>Material_Fiberglass-Reinforced Plastic</th>\n",
       "      <th>Material_Polyethylene</th>\n",
       "      <th>Material_Polypropylene</th>\n",
       "      <th>Diameter2</th>\n",
       "      <th>Length2</th>\n",
       "      <th>Pressure2</th>\n",
       "      <th>Average year Humidity (%)</th>\n",
       "      <th>Yearly Sun Hours (hours)</th>\n",
       "      <th>Population density (persons/sqkm)</th>\n",
       "    </tr>\n",
       "  </thead>\n",
       "  <tbody>\n",
       "    <tr>\n",
       "      <th>0</th>\n",
       "      <td>446859944</td>\n",
       "      <td>0</td>\n",
       "      <td>4.00</td>\n",
       "      <td>0.00</td>\n",
       "      <td>2013.00</td>\n",
       "      <td>0.00</td>\n",
       "      <td>1.00</td>\n",
       "      <td>1.00</td>\n",
       "      <td>20.75</td>\n",
       "      <td>12.00</td>\n",
       "      <td>0.00</td>\n",
       "      <td>0.00</td>\n",
       "      <td>0.00</td>\n",
       "      <td>0.73</td>\n",
       "      <td>15.30</td>\n",
       "      <td>0.00</td>\n",
       "      <td>0.00</td>\n",
       "      <td>0.00</td>\n",
       "      <td>1.00</td>\n",
       "      <td>0.00</td>\n",
       "      <td>0.00</td>\n",
       "      <td>0.00</td>\n",
       "      <td>1.00</td>\n",
       "      <td>0.00</td>\n",
       "      <td>0.01</td>\n",
       "      <td>1961.25</td>\n",
       "      <td>0.02</td>\n",
       "      <td>0.64</td>\n",
       "      <td>113.20</td>\n",
       "      <td>239.83</td>\n",
       "    </tr>\n",
       "  </tbody>\n",
       "</table>\n",
       "</div>"
      ],
      "text/plain": [
       "      PipeId  Incidence_x  No_Inspections  No_Incidents  InspectionYear  \\\n",
       "0  446859944            0            4.00          0.00         2013.00   \n",
       "\n",
       "   preventive_maintenance_rate  Age_pipe_at_inspection  \\\n",
       "0                         0.00                    1.00   \n",
       "\n",
       "   pipe_inspected_frequently  Average_MonthsLastRev  MonthsLastRev  \\\n",
       "0                       1.00                  20.75          12.00   \n",
       "\n",
       "   Incidence_y  NumConnections  NumConnectionsUnder  Relative_Thickness  \\\n",
       "0         0.00            0.00                 0.00                0.73   \n",
       "\n",
       "   pipe_area  area_connection  incidence_area  connection_bool  gas_natural  \\\n",
       "0      15.30             0.00            0.00             0.00         1.00   \n",
       "\n",
       "   Material_Acrylonitrile-Butadiene-Styrene  Material_Copper  \\\n",
       "0                                      0.00             0.00   \n",
       "\n",
       "   Material_Fiberglass-Reinforced Plastic  Material_Polyethylene  \\\n",
       "0                                    0.00                   1.00   \n",
       "\n",
       "   Material_Polypropylene  Diameter2  Length2  Pressure2  \\\n",
       "0                    0.00       0.01  1961.25       0.02   \n",
       "\n",
       "   Average year Humidity (%)  Yearly Sun Hours (hours)  \\\n",
       "0                       0.64                    113.20   \n",
       "\n",
       "   Population density (persons/sqkm)  \n",
       "0                             239.83  "
      ]
     },
     "execution_count": 81,
     "metadata": {},
     "output_type": "execute_result"
    }
   ],
   "source": [
    "submission2.head(1)\n"
   ]
  },
  {
   "cell_type": "code",
   "execution_count": 83,
   "id": "14fef7c8",
   "metadata": {},
   "outputs": [
    {
     "data": {
      "text/plain": [
       "PipeId                                           0\n",
       "Incidence_x                                      0\n",
       "No_Inspections                              136906\n",
       "No_Incidents                                136906\n",
       "InspectionYear                              136906\n",
       "preventive_maintenance_rate                 136906\n",
       "Age_pipe_at_inspection                      136906\n",
       "pipe_inspected_frequently                   136906\n",
       "Average_MonthsLastRev                       136906\n",
       "MonthsLastRev                               136906\n",
       "Incidence_y                                 136906\n",
       "NumConnections                              136906\n",
       "NumConnectionsUnder                         136906\n",
       "Relative_Thickness                          136906\n",
       "pipe_area                                   136906\n",
       "area_connection                             136906\n",
       "incidence_area                              136906\n",
       "connection_bool                             136906\n",
       "gas_natural                                 136906\n",
       "Material_Acrylonitrile-Butadiene-Styrene    136906\n",
       "Material_Copper                             136906\n",
       "Material_Fiberglass-Reinforced Plastic      136906\n",
       "Material_Polyethylene                       136906\n",
       "Material_Polypropylene                      136906\n",
       "Diameter2                                   136906\n",
       "Length2                                     136906\n",
       "Pressure2                                   136906\n",
       "Average year Humidity (%)                   136906\n",
       "Yearly Sun Hours (hours)                    136906\n",
       "Population density (persons/sqkm)           136906\n",
       "dtype: int64"
      ]
     },
     "execution_count": 83,
     "metadata": {},
     "output_type": "execute_result"
    }
   ],
   "source": [
    "#missing values in submission2\n",
    "submission2.isnull().sum()\n",
    "#fill all missing values in submission2 with 0\n",
    "submission2.fillna(0, inplace=True)\n"
   ]
  },
  {
   "cell_type": "code",
   "execution_count": 84,
   "id": "0b22b090",
   "metadata": {},
   "outputs": [],
   "source": [
    "#drop Incidence_x and Incidence_y from submission2\n",
    "submission2.drop(['Incidence_x', 'Incidence_y'], axis=1, inplace=True)"
   ]
  },
  {
   "cell_type": "code",
   "execution_count": 85,
   "id": "7fe8a99e",
   "metadata": {},
   "outputs": [
    {
     "name": "stderr",
     "output_type": "stream",
     "text": [
      "[Parallel(n_jobs=8)]: Using backend ThreadingBackend with 8 concurrent workers.\n",
      "[Parallel(n_jobs=8)]: Done  34 tasks      | elapsed:    0.2s\n",
      "[Parallel(n_jobs=8)]: Done 100 out of 100 | elapsed:    0.7s finished\n"
     ]
    },
    {
     "data": {
      "text/html": [
       "<div>\n",
       "<style scoped>\n",
       "    .dataframe tbody tr th:only-of-type {\n",
       "        vertical-align: middle;\n",
       "    }\n",
       "\n",
       "    .dataframe tbody tr th {\n",
       "        vertical-align: top;\n",
       "    }\n",
       "\n",
       "    .dataframe thead th {\n",
       "        text-align: right;\n",
       "    }\n",
       "</style>\n",
       "<table border=\"1\" class=\"dataframe\">\n",
       "  <thead>\n",
       "    <tr style=\"text-align: right;\">\n",
       "      <th></th>\n",
       "      <th>PipeId</th>\n",
       "      <th>No_Inspections</th>\n",
       "      <th>No_Incidents</th>\n",
       "      <th>InspectionYear</th>\n",
       "      <th>preventive_maintenance_rate</th>\n",
       "      <th>Age_pipe_at_inspection</th>\n",
       "      <th>pipe_inspected_frequently</th>\n",
       "      <th>Average_MonthsLastRev</th>\n",
       "      <th>MonthsLastRev</th>\n",
       "      <th>NumConnections</th>\n",
       "      <th>NumConnectionsUnder</th>\n",
       "      <th>Relative_Thickness</th>\n",
       "      <th>pipe_area</th>\n",
       "      <th>area_connection</th>\n",
       "      <th>incidence_area</th>\n",
       "      <th>connection_bool</th>\n",
       "      <th>gas_natural</th>\n",
       "      <th>Material_Acrylonitrile-Butadiene-Styrene</th>\n",
       "      <th>Material_Copper</th>\n",
       "      <th>Material_Fiberglass-Reinforced Plastic</th>\n",
       "      <th>Material_Polyethylene</th>\n",
       "      <th>Material_Polypropylene</th>\n",
       "      <th>Diameter2</th>\n",
       "      <th>Length2</th>\n",
       "      <th>Pressure2</th>\n",
       "      <th>Average year Humidity (%)</th>\n",
       "      <th>Yearly Sun Hours (hours)</th>\n",
       "      <th>Population density (persons/sqkm)</th>\n",
       "      <th>Incidence</th>\n",
       "    </tr>\n",
       "  </thead>\n",
       "  <tbody>\n",
       "    <tr>\n",
       "      <th>0</th>\n",
       "      <td>446859944</td>\n",
       "      <td>4.00</td>\n",
       "      <td>0.00</td>\n",
       "      <td>2013.00</td>\n",
       "      <td>0.00</td>\n",
       "      <td>1.00</td>\n",
       "      <td>1.00</td>\n",
       "      <td>20.75</td>\n",
       "      <td>12.00</td>\n",
       "      <td>0.00</td>\n",
       "      <td>0.00</td>\n",
       "      <td>0.73</td>\n",
       "      <td>15.30</td>\n",
       "      <td>0.00</td>\n",
       "      <td>0.00</td>\n",
       "      <td>0.00</td>\n",
       "      <td>1.00</td>\n",
       "      <td>0.00</td>\n",
       "      <td>0.00</td>\n",
       "      <td>0.00</td>\n",
       "      <td>1.00</td>\n",
       "      <td>0.00</td>\n",
       "      <td>0.01</td>\n",
       "      <td>1961.25</td>\n",
       "      <td>0.02</td>\n",
       "      <td>0.64</td>\n",
       "      <td>113.20</td>\n",
       "      <td>239.83</td>\n",
       "      <td>0.12</td>\n",
       "    </tr>\n",
       "  </tbody>\n",
       "</table>\n",
       "</div>"
      ],
      "text/plain": [
       "      PipeId  No_Inspections  No_Incidents  InspectionYear  \\\n",
       "0  446859944            4.00          0.00         2013.00   \n",
       "\n",
       "   preventive_maintenance_rate  Age_pipe_at_inspection  \\\n",
       "0                         0.00                    1.00   \n",
       "\n",
       "   pipe_inspected_frequently  Average_MonthsLastRev  MonthsLastRev  \\\n",
       "0                       1.00                  20.75          12.00   \n",
       "\n",
       "   NumConnections  NumConnectionsUnder  Relative_Thickness  pipe_area  \\\n",
       "0            0.00                 0.00                0.73      15.30   \n",
       "\n",
       "   area_connection  incidence_area  connection_bool  gas_natural  \\\n",
       "0             0.00            0.00             0.00         1.00   \n",
       "\n",
       "   Material_Acrylonitrile-Butadiene-Styrene  Material_Copper  \\\n",
       "0                                      0.00             0.00   \n",
       "\n",
       "   Material_Fiberglass-Reinforced Plastic  Material_Polyethylene  \\\n",
       "0                                    0.00                   1.00   \n",
       "\n",
       "   Material_Polypropylene  Diameter2  Length2  Pressure2  \\\n",
       "0                    0.00       0.01  1961.25       0.02   \n",
       "\n",
       "   Average year Humidity (%)  Yearly Sun Hours (hours)  \\\n",
       "0                       0.64                    113.20   \n",
       "\n",
       "   Population density (persons/sqkm)  Incidence  \n",
       "0                             239.83       0.12  "
      ]
     },
     "execution_count": 85,
     "metadata": {},
     "output_type": "execute_result"
    }
   ],
   "source": [
    "#make predictions for submission using the model\n",
    "predictions = rfc.predict_proba(submission2)\n",
    "predictions = predictions[:, 1]\n",
    "\n",
    "#add predictions to submission\n",
    "submission2['Incidence'] = predictions\n",
    "\n",
    "\n",
    "\n",
    "#show submission\n",
    "submission2.head(1)\n"
   ]
  },
  {
   "cell_type": "code",
   "execution_count": 86,
   "id": "1dc1da89",
   "metadata": {},
   "outputs": [],
   "source": [
    "#drop all columns except PipeId and Incidence in submission2 creating kaggle_submission\n",
    "kaggle_submission = submission2.drop(['No_Inspections', 'No_Incidents', 'InspectionYear',\n",
    "       'preventive_maintenance_rate', 'Age_pipe_at_inspection',\n",
    "       'pipe_inspected_frequently', 'Average_MonthsLastRev', 'MonthsLastRev',\n",
    "       'NumConnections', 'NumConnectionsUnder', 'Relative_Thickness',\n",
    "       'pipe_area', 'area_connection', 'incidence_area', 'connection_bool',\n",
    "       'gas_natural', 'Material_Acrylonitrile-Butadiene-Styrene',\n",
    "       'Material_Copper', 'Material_Fiberglass-Reinforced Plastic',\n",
    "       'Material_Polyethylene', 'Material_Polypropylene', 'Diameter2',\n",
    "       'Length2', 'Pressure2', 'Average year Humidity (%)',\n",
    "       'Yearly Sun Hours (hours)', 'Population density (persons/sqkm)'], axis=1)\n"
   ]
  },
  {
   "cell_type": "code",
   "execution_count": 87,
   "id": "638d73cd",
   "metadata": {},
   "outputs": [
    {
     "data": {
      "text/html": [
       "<div>\n",
       "<style scoped>\n",
       "    .dataframe tbody tr th:only-of-type {\n",
       "        vertical-align: middle;\n",
       "    }\n",
       "\n",
       "    .dataframe tbody tr th {\n",
       "        vertical-align: top;\n",
       "    }\n",
       "\n",
       "    .dataframe thead th {\n",
       "        text-align: right;\n",
       "    }\n",
       "</style>\n",
       "<table border=\"1\" class=\"dataframe\">\n",
       "  <thead>\n",
       "    <tr style=\"text-align: right;\">\n",
       "      <th></th>\n",
       "      <th>PipeId</th>\n",
       "      <th>Incidence</th>\n",
       "    </tr>\n",
       "  </thead>\n",
       "  <tbody>\n",
       "    <tr>\n",
       "      <th>0</th>\n",
       "      <td>446859944</td>\n",
       "      <td>0.12</td>\n",
       "    </tr>\n",
       "    <tr>\n",
       "      <th>4</th>\n",
       "      <td>428124500</td>\n",
       "      <td>0.15</td>\n",
       "    </tr>\n",
       "    <tr>\n",
       "      <th>5</th>\n",
       "      <td>438428871</td>\n",
       "      <td>0.07</td>\n",
       "    </tr>\n",
       "    <tr>\n",
       "      <th>9</th>\n",
       "      <td>429034569</td>\n",
       "      <td>0.15</td>\n",
       "    </tr>\n",
       "    <tr>\n",
       "      <th>10</th>\n",
       "      <td>411184477</td>\n",
       "      <td>0.15</td>\n",
       "    </tr>\n",
       "    <tr>\n",
       "      <th>11</th>\n",
       "      <td>428837983</td>\n",
       "      <td>0.12</td>\n",
       "    </tr>\n",
       "    <tr>\n",
       "      <th>15</th>\n",
       "      <td>428837841</td>\n",
       "      <td>0.15</td>\n",
       "    </tr>\n",
       "    <tr>\n",
       "      <th>16</th>\n",
       "      <td>428838331</td>\n",
       "      <td>0.24</td>\n",
       "    </tr>\n",
       "    <tr>\n",
       "      <th>20</th>\n",
       "      <td>1200432</td>\n",
       "      <td>0.16</td>\n",
       "    </tr>\n",
       "    <tr>\n",
       "      <th>21</th>\n",
       "      <td>1200564</td>\n",
       "      <td>0.07</td>\n",
       "    </tr>\n",
       "  </tbody>\n",
       "</table>\n",
       "</div>"
      ],
      "text/plain": [
       "       PipeId  Incidence\n",
       "0   446859944       0.12\n",
       "4   428124500       0.15\n",
       "5   438428871       0.07\n",
       "9   429034569       0.15\n",
       "10  411184477       0.15\n",
       "11  428837983       0.12\n",
       "15  428837841       0.15\n",
       "16  428838331       0.24\n",
       "20    1200432       0.16\n",
       "21    1200564       0.07"
      ]
     },
     "execution_count": 87,
     "metadata": {},
     "output_type": "execute_result"
    }
   ],
   "source": [
    "\n",
    "#show kaggle_submission\n",
    "kaggle_submission.head(10)\n"
   ]
  },
  {
   "cell_type": "code",
   "execution_count": 88,
   "id": "b8b85cfe",
   "metadata": {},
   "outputs": [
    {
     "data": {
      "text/plain": [
       "(909733, 2)"
      ]
     },
     "execution_count": 88,
     "metadata": {},
     "output_type": "execute_result"
    }
   ],
   "source": [
    "kaggle_submission.shape"
   ]
  },
  {
   "cell_type": "code",
   "execution_count": 89,
   "id": "d6372270",
   "metadata": {},
   "outputs": [],
   "source": [
    "#export kaggle_submission to csv\n",
    "os.chdir(r\"C:\\Users\\pedro\\datathon\")\n",
    "\n",
    "kaggle_submission.to_csv('kaggle_submission.csv', index=False)\n"
   ]
  },
  {
   "cell_type": "code",
   "execution_count": null,
   "id": "aa6ef494",
   "metadata": {},
   "outputs": [],
   "source": []
  },
  {
   "cell_type": "code",
   "execution_count": null,
   "id": "2ada2e76",
   "metadata": {},
   "outputs": [],
   "source": []
  },
  {
   "cell_type": "code",
   "execution_count": null,
   "id": "21077a7b",
   "metadata": {},
   "outputs": [],
   "source": []
  },
  {
   "cell_type": "code",
   "execution_count": null,
   "id": "946a1e8c",
   "metadata": {},
   "outputs": [],
   "source": [
    "# use predcit_proba() in RandomForestClassifier and print the predictions on X_test\n",
    "rfc = RandomForestClassifier(n_estimators=20, n_jobs=-1, random_state=42)\n",
    "rfc.fit(X_train, y_train)\n",
    "y_pred = rfc.predict(X_test)\n",
    "y_pred_proba = rfc.predict_proba(X_test)[:,1]\n",
    "print(y_pred_proba)\n"
   ]
  },
  {
   "cell_type": "code",
   "execution_count": null,
   "id": "0c2dfb0b",
   "metadata": {},
   "outputs": [],
   "source": [
    "\n",
    "#plot roc curve\n",
    "fpr, tpr, thresholds = roc_curve(y_test, y_pred_proba)\n",
    "plt.plot([0, 1], [0, 1], 'k--')\n",
    "plt.plot(fpr, tpr, label='RFC')\n",
    "plt.xlabel('False Positive Rate')\n",
    "plt.ylabel('True Positive Rate')\n",
    "plt.title('RFC ROC Curve')\n",
    "plt.show()\n"
   ]
  },
  {
   "cell_type": "code",
   "execution_count": null,
   "id": "3294eeb8",
   "metadata": {},
   "outputs": [],
   "source": [
    "\n",
    "#plot precision recall curve\n",
    "precision, recall, thresholds = precision_recall_curve(y_test, y_pred_proba)\n",
    "plt.plot([0, 1], [0.5, 0.5], 'k--')\n",
    "plt.plot(recall, precision, label='RFC')\n",
    "plt.xlabel('Recall')\n",
    "plt.ylabel('Precision')\n",
    "plt.title('RFC Precision-Recall Curve')\n",
    "plt.show()\n"
   ]
  },
  {
   "cell_type": "code",
   "execution_count": null,
   "id": "2614a94a",
   "metadata": {},
   "outputs": [],
   "source": [
    "\n",
    "#plot confusion matrix\n",
    "cm = confusion_matrix(y_test, y_pred)\n",
    "sns.heatmap(cm, annot=True, fmt='d')\n",
    "plt.title('Confusion Matrix')\n",
    "plt.show()\n"
   ]
  },
  {
   "cell_type": "code",
   "execution_count": null,
   "id": "0b65418c",
   "metadata": {},
   "outputs": [],
   "source": [
    "\n",
    "#plot classification report\n",
    "print(classification_report(y_test, y_pred))\n",
    "\n",
    "#plot accuracy score\n",
    "print(accuracy_score(y_test, y_pred))\n",
    "\n",
    "#plot cross validation score\n",
    "cv_score = cross_val_score(rfc, X_train, y_train, cv=5)\n",
    "print(cv_score)\n",
    "\n",
    "#plot cross validation score mean\n",
    "print(cv_score.mean())\n",
    "\n"
   ]
  },
  {
   "cell_type": "code",
   "execution_count": null,
   "id": "b28d3fa6",
   "metadata": {},
   "outputs": [],
   "source": [
    "\n",
    "# calculate precision-recall curve\n",
    "precision, recall, thresholds = precision_recall_curve(y_test, y_pred_proba)\n",
    "\n",
    "# calculate F1 score\n",
    "f1 = f1_score(y_test, y_pred)\n",
    "\n",
    "# calculate precision-recall AUC\n",
    "auc = auc(recall, precision)\n",
    "\n",
    "# calculate average precision score\n",
    "ap = average_precision_score(y_test, y_pred_proba)\n",
    "\n",
    "print('f1=%.3f auc=%.3f ap=%.3f' % (f1, auc, ap))\n"
   ]
  },
  {
   "cell_type": "code",
   "execution_count": null,
   "id": "f1794b72",
   "metadata": {},
   "outputs": [],
   "source": [
    "\n",
    "# plot the precision-recall curves\n",
    "no_skill = len(y_test[y_test==1]) / len(y_test)\n",
    "\n",
    "plt.figure(figsize=(10, 6))\n",
    "\n",
    "plt.plot([0, 1], [no_skill, no_skill], linestyle='--', label='No Skill')\n",
    "\n",
    "plt.plot(recall, precision, marker='.', label='Random Forest')\n",
    "\n",
    "plt.xlabel('Recall')\n",
    "\n",
    "plt.ylabel('Precision')\n",
    "\n",
    "plt.legend()\n",
    "\n",
    "plt.show()\n",
    "\n"
   ]
  },
  {
   "cell_type": "code",
   "execution_count": null,
   "id": "684ae4b6",
   "metadata": {},
   "outputs": [],
   "source": [
    "# define model\n",
    "model = RandomForestClassifier()\n",
    "# define model evaluation method\n",
    "cv = RepeatedStratifiedKFold(n_splits=10, n_repeats=3, random_state=1)\n",
    "# define grid\n",
    "grid = dict()\n",
    "grid['n_estimators'] = [100, 200, 300, 400, 500, 600, 700, 800, 900, 1000]\n",
    "grid['max_depth'] = [10, 20, 30, 40, 50, 60, 70, 80, 90, 100, None]\n",
    "grid['min_samples_split'] = [2, 5, 10]\n",
    "grid['min_samples_leaf'] = [1, 2, 4]\n",
    "grid['max_features'] = ['auto', 'sqrt']\n",
    "# define search\n",
    "search = GridSearchCV(model, grid, scoring='roc_auc', n_jobs=-1, cv=cv)\n",
    "# perform the search\n",
    "results = search.fit(X_train, y_train)\n",
    "\n",
    "# summarize\n",
    "print('Best Score: %s' % results.best_score_)\n",
    "print('Best Hyperparameters: %s' % results.best_params_)"
   ]
  },
  {
   "cell_type": "code",
   "execution_count": null,
   "id": "5689cc5f",
   "metadata": {},
   "outputs": [],
   "source": [
    "#random forest classifier on train set, predict target on train and test set using predict_proba and show accuracy scores using all cores\n",
    "rfc = RandomForestClassifier(n_estimators=100, max_depth=10, min_samples_split=2, min_samples_leaf=1, max_features='auto', n_jobs=-1, random_state=42)\n",
    "rfc.fit(X_train, y_train)\n",
    "y_pred = rfc.predict(X_test)\n",
    "y_pred_proba = rfc.predict_proba(X_test)[:,1]\n",
    "print(y_pred_proba)\n",
    "\n",
    "#plot roc curve\n",
    "fpr, tpr, thresholds = roc_curve(y_test, y_pred_proba)\n",
    "\n",
    "plt.plot([0, 1], [0, 1], 'k--')\n",
    "plt.plot(fpr, tpr, label='RFC')\n",
    "plt.xlabel('False Positive Rate')\n",
    "plt.ylabel('True Positive Rate')\n",
    "plt.title('RFC ROC Curve')\n",
    "plt.show()\n",
    "\n",
    "#plot precision recall curve\n",
    "precision, recall, thresholds = precision_recall_curve(y_test, y_pred_proba)\n",
    "plt.plot([0, 1], [0.5, 0.5], 'k--')\n",
    "plt.plot(recall, precision, label='RFC')\n",
    "plt.xlabel('Recall')\n",
    "plt.ylabel('Precision')\n",
    "plt.title('RFC Precision-Recall Curve')\n",
    "plt.show()\n",
    "\n",
    "#plot confusion matrix\n",
    "cm = confusion_matrix(y_test, y_pred)\n",
    "sns.heatmap(cm, annot=True, fmt='d')\n",
    "\n",
    "plt.title('Confusion Matrix')\n",
    "plt.show()\n",
    "\n",
    "#plot classification report\n",
    "print(classification_report(y_test, y_pred))\n",
    "\n",
    "#plot accuracy score\n",
    "print(accuracy_score(y_test, y_pred))\n",
    "\n",
    "#plot cross validation score\n",
    "cv_score = cross_val_score(rfc, X_train, y_train, cv=5)\n",
    "print(cv_score)\n",
    "\n",
    "#plot cross validation score mean\n",
    "print(cv_score.mean())\n",
    "\n",
    "# calculate precision-recall curve\n",
    "precision, recall, thresholds = precision_recall_curve(y_test, y_pred_proba)\n",
    "\n",
    "# calculate F1 score\n",
    "f1 = f1_score(y_test, y_pred)\n",
    "\n",
    "# calculate precision-recall AUC\n",
    "auc = auc(recall, precision)\n",
    "\n",
    "# calculate average precision score\n",
    "ap = average_precision_score(y_test, y_pred_proba)\n",
    "\n",
    "print('f1=%.3f auc=%.3f ap=%.3f' % (f1, auc, ap))\n",
    "\n",
    "# plot the precision-recall curves\n",
    "no_skill = len(y_test[y_test==1]) / len(y_test)\n",
    "\n",
    "\n",
    "plt.figure(figsize=(10, 6))\n",
    "\n",
    "\n",
    "plt.plot([0, 1], [no_skill, no_skill], linestyle='--', label='No Skill')\n",
    "\n",
    "\n",
    "\n",
    "plt.plot(recall, precision, marker='.', label='Random Forest')\n",
    "\n",
    "\n"
   ]
  },
  {
   "cell_type": "code",
   "execution_count": null,
   "id": "edbf0e78",
   "metadata": {},
   "outputs": [],
   "source": [
    "\n",
    "from sklearn.ensemble import RandomForestClassifier\n",
    "rfc = RandomForestClassifier(n_estimators=20, n_jobs=-1, random_state=42)\n",
    "rfc.fit(X_train, y_train)\n",
    "rfc_pred = rfc.predict(X_test)\n",
    "rfc_pred_train = rfc.predict(X_train)\n",
    "print('Accuracy score for train set:',accuracy_score(y_train, rfc_pred_train))\n",
    "print('Accuracy score for test set:',accuracy_score(y_test, rfc_pred))\n",
    "\n",
    "\n"
   ]
  },
  {
   "attachments": {},
   "cell_type": "markdown",
   "id": "46418df9",
   "metadata": {},
   "source": [
    "## Random Forest Classifier tuned\n",
    "Goal is to avouid overfitting"
   ]
  },
  {
   "cell_type": "code",
   "execution_count": null,
   "id": "774d743f",
   "metadata": {},
   "outputs": [],
   "source": [
    "#rfc on train set using cross validation and predict target on train and test set and show accuracy scores using all cores\n",
    "from sklearn.ensemble import RandomForestClassifier\n",
    "rfc = RandomForestClassifier(n_estimators=70, n_jobs=-1, random_state=42, max_depth=2, min_samples_leaf=8, min_samples_split=10, max_features=0.2)\n",
    "rfc.fit(X_train, y_train)\n",
    "rfc_pred = rfc.predict(X_test)\n",
    "rfc_pred_train = rfc.predict(X_train)\n",
    "print('Accuracy score for train set:',accuracy_score(y_train, rfc_pred_train))\n",
    "print('Accuracy score for test set:',accuracy_score(y_test, rfc_pred))\n"
   ]
  },
  {
   "cell_type": "code",
   "execution_count": null,
   "id": "99de0369",
   "metadata": {},
   "outputs": [],
   "source": [
    "\n",
    "#do cross validation on train set\n",
    "from sklearn.model_selection import cross_val_score\n",
    "rfc_cv = cross_val_score(rfc, X_train, y_train, cv=5)\n",
    "print('Cross validation score:',rfc_cv.mean())\n",
    "\n",
    "#test rfc in valiodation set\n",
    "rfc_pred_val = rfc.predict(strat_validation_set.drop(['Incidence'], axis=1))\n",
    "print('Accuracy score for validation set:',accuracy_score(strat_validation_set['Incidence'], rfc_pred_val))\n",
    "\n",
    "#crossvalidation on validation set\n",
    "from sklearn.model_selection import cross_val_score \n",
    "rfc_cv = cross_val_score(rfc, strat_validation_set.drop(['Incidence'], axis=1), strat_validation_set['Incidence'], cv=5)    \n",
    "print('Cross validation score:',rfc_cv.mean())\n",
    "\n",
    "#rfc on train set using cross validation and predict target on train and test set and show accuracy scores using all cores\n",
    "from sklearn.ensemble import RandomForestClassifier\n",
    "rfc = RandomForestClassifier(n_estimators=70, n_jobs=-1, random_state=42, max_depth=2, min_samples_leaf=8, min_samples_split=10, max_features=0.2)\n",
    "rfc.fit(X_train, y_train)\n",
    "rfc_pred = rfc.predict(X_test)\n",
    "rfc_pred_train = rfc.predict(X_train)\n",
    "print('Accuracy score for train set:',accuracy_score(y_train, rfc_pred_train))\n",
    "print('Accuracy score for test set:',accuracy_score(y_test, rfc_pred))\n",
    "\n",
    "\n"
   ]
  },
  {
   "cell_type": "code",
   "execution_count": null,
   "id": "487c4264",
   "metadata": {},
   "outputs": [],
   "source": [
    "#rfc on train set, predict target on train and test set and show accuracy scores using all cores, increasing regularization parameter\n",
    "\n",
    "from sklearn.ensemble import RandomForestClassifier\n",
    "rfc2 = RandomForestClassifier(n_estimators=70, n_jobs=-1, random_state=42, max_depth=2, min_samples_leaf=8, min_samples_split=10, max_features=0.2)\n",
    "rfc2.fit(X_train, y_train)\n",
    "rfc2_pred = rfc2.predict(X_test)\n",
    "rfc2_pred_train = rfc2.predict(X_train)\n",
    "print('Accuracy score for train set:',accuracy_score(y_train, rfc2_pred_train))\n",
    "print('Accuracy score for test set:',accuracy_score(y_test, rfc2_pred))\n"
   ]
  },
  {
   "cell_type": "code",
   "execution_count": null,
   "id": "7ddd436c",
   "metadata": {},
   "outputs": [],
   "source": []
  },
  {
   "attachments": {},
   "cell_type": "markdown",
   "id": "37d0ee67",
   "metadata": {},
   "source": [
    "# The Graveyard"
   ]
  },
  {
   "attachments": {},
   "cell_type": "markdown",
   "id": "6ef674dd",
   "metadata": {},
   "source": []
  },
  {
   "cell_type": "markdown",
   "id": "4ad778cb",
   "metadata": {},
   "source": [
    "## Using Standard Scaler"
   ]
  },
  {
   "cell_type": "code",
   "execution_count": null,
   "id": "ce0451b0",
   "metadata": {},
   "outputs": [],
   "source": [
    "#Scaling data in df_baseline dataset except object columns and boolean values\n",
    "cols_to_scale = ['Diameter', 'Length', 'Pressure', 'NumConnections','NumConnectionsUnder','Relative_Thickness', 'Age_of_Pipe_upon_inspection']\n",
    "df_baseline[cols_to_scale] = StandardScaler().fit_transform(df_baseline[cols_to_scale])\n",
    "\n",
    "df_baseline.head()\n"
   ]
  },
  {
   "cell_type": "code",
   "execution_count": null,
   "id": "ac861453",
   "metadata": {},
   "outputs": [],
   "source": [
    "#converting to absolute values 'NumConnections','NumConnectionsUnder','Relative_Thickness', 'Age_of_Pipe_upon_inspection'\n",
    "df_baseline['NumConnections'] = df_baseline['NumConnections'].abs()\n",
    "df_baseline['NumConnectionsUnder'] = df_baseline['NumConnectionsUnder'].abs()\n",
    "df_baseline['Relative_Thickness'] = df_baseline['Relative_Thickness'].abs()\n",
    "df_baseline['Age_of_Pipe_upon_inspection'] = df_baseline['Age_of_Pipe_upon_inspection'].abs()\n",
    "\n",
    "df_baseline.head(1)"
   ]
  },
  {
   "cell_type": "code",
   "execution_count": null,
   "id": "ac5cf016",
   "metadata": {},
   "outputs": [],
   "source": [
    "#stratify Incidence variable to have a balanced dataset for the model\n",
    "df_baseline['Incidence'].value_counts()\n",
    "\n",
    "#split the dataset into train and test\n",
    "X_train, X_test, y_train, y_test = train_test_split(df_baseline.drop(['PipeId','Province', 'Town','Incidence'], axis=1), df_baseline['Incidence'], test_size=0.2, random_state=42, stratify=df_baseline['Incidence'])\n",
    "\n",
    "#check the shape of the train and test datasets\n",
    "X_train.shape\n",
    "X_test.shape\n",
    "\n",
    "\n"
   ]
  },
  {
   "cell_type": "code",
   "execution_count": null,
   "id": "6852f902",
   "metadata": {},
   "outputs": [],
   "source": [
    "#use stratified shuffle split to split df_baseline_balanced into train and validation sets in a balanced way\n",
    "from sklearn.model_selection import StratifiedShuffleSplit\n",
    "split = StratifiedShuffleSplit(n_splits=1, test_size=0.2, random_state=42)\n",
    "for train_index, test_index in split.split(df_baseline_balanced, df_baseline_balanced['Incidence']):\n",
    "    strat_train_set = df_baseline_balanced.loc[train_index]\n",
    "    strat_validation_set = df_baseline_balanced.loc[test_index]\n",
    "strat_validation_set['Incidence'].value_counts()/len(strat_train_set)\n",
    "\n",
    "strat_validation_set['Incidence'].value_counts()/len(strat_validation_set)"
   ]
  },
  {
   "cell_type": "code",
   "execution_count": null,
   "id": "68332699",
   "metadata": {},
   "outputs": [],
   "source": [
    "#show the number of records for Incidence in each set\n",
    "strat_train_set['Incidence'].value_counts()\n"
   ]
  },
  {
   "cell_type": "code",
   "execution_count": null,
   "id": "148e43b5",
   "metadata": {},
   "outputs": [],
   "source": [
    "strat_validation_set['Incidence'].value_counts()\n"
   ]
  }
 ],
 "metadata": {
  "kernelspec": {
   "display_name": "Python 3",
   "language": "python",
   "name": "python3"
  },
  "language_info": {
   "codemirror_mode": {
    "name": "ipython",
    "version": 3
   },
   "file_extension": ".py",
   "mimetype": "text/x-python",
   "name": "python",
   "nbconvert_exporter": "python",
   "pygments_lexer": "ipython3",
   "version": "3.10.10"
  },
  "vscode": {
   "interpreter": {
    "hash": "326e4f63ad54c217260fc7be1c53acea6ef3ea6cd7ac93b3b02195c6d8fa7cb8"
   }
  }
 },
 "nbformat": 4,
 "nbformat_minor": 5
}
