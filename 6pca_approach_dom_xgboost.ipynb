{
 "cells": [
  {
   "attachments": {},
   "cell_type": "markdown",
   "id": "c6ba2d28",
   "metadata": {},
   "source": [
    "# Libraries used\n",
    "\n",
    "Running Kernel3.9.13 base anaconda"
   ]
  },
  {
   "attachments": {},
   "cell_type": "markdown",
   "id": "a47ff5b1",
   "metadata": {},
   "source": [
    "pip install squarify\n",
    "pip install yellowbrick\n",
    "pip install plotly\n",
    "pip install seaborn\n",
    "pip install lazypredict\n",
    "pip install pandas_profiling"
   ]
  },
  {
   "cell_type": "code",
   "execution_count": 10,
   "id": "1e469ce3",
   "metadata": {},
   "outputs": [],
   "source": [
    "import pandas as pd\n",
    "import numpy as np\n",
    "import seaborn as sns  \n",
    "import matplotlib.pyplot as plt\n",
    "import plotly.io as pio\n",
    "#import squarify #treemap\n",
    "import os\n",
    "import matplotlib\n",
    "import warnings\n",
    "\n",
    "from imblearn.over_sampling import SMOTE\n",
    "\n",
    "\n",
    "#to enable the inline plotting\n",
    "%matplotlib inline \n",
    "\n",
    "import warnings\n",
    "warnings.filterwarnings('ignore')\n",
    "\n",
    "sns.set_style(\"darkgrid\")"
   ]
  },
  {
   "cell_type": "code",
   "execution_count": 11,
   "id": "e3cc5995",
   "metadata": {},
   "outputs": [],
   "source": [
    "from sklearn.linear_model import LogisticRegression\n",
    "\n",
    "from sklearn.model_selection import cross_val_score\n",
    "from sklearn.model_selection import RepeatedStratifiedKFold\n",
    "from sklearn.model_selection import cross_val_score\n",
    "from sklearn.model_selection import train_test_split\n",
    "\n",
    "from sklearn.metrics import accuracy_score, confusion_matrix, classification_report\n",
    "from sklearn.metrics import classification_report\n",
    "\n",
    "from sklearn.naive_bayes import GaussianNB\n",
    "from sklearn.tree import DecisionTreeClassifier\n",
    "from sklearn.neighbors import KNeighborsClassifier\n",
    "#rfc using regularization and gridsearch to find the best parameters for the model\n",
    "from sklearn.ensemble import RandomForestClassifier\n",
    "from sklearn.model_selection import GridSearchCV\n",
    "from sklearn.metrics import classification_report, confusion_matrix, accuracy_score\n",
    "from sklearn.model_selection import cross_val_score\n",
    "from sklearn.model_selection import RepeatedStratifiedKFold\n",
    "from sklearn.model_selection import cross_val_predict\n",
    "from sklearn.metrics import roc_auc_score\n",
    "from sklearn.metrics import roc_curve\n",
    "from sklearn.metrics import precision_recall_curve\n",
    "from sklearn.metrics import f1_score\n",
    "from sklearn.metrics import auc\n",
    "from sklearn.metrics import average_precision_score\n",
    "\n",
    "from sklearn.ensemble import RandomForestClassifier\n",
    "from sklearn.ensemble import GradientBoostingClassifier\n",
    "\n",
    "from sklearn.preprocessing import StandardScaler\n",
    "\n",
    "from sklearn.decomposition import IncrementalPCA\n",
    "from sklearn.preprocessing import StandardScaler\n",
    "from sklearn.decomposition import PCA\n",
    "\n",
    "from scipy.stats import normaltest\n",
    "\n",
    "from pandas_profiling import ProfileReport\n",
    "\n",
    "from yellowbrick.classifier import ROCAUC\n",
    "from yellowbrick.classifier import ClassPredictionError\n",
    "from yellowbrick.style.palettes import PALETTES, SEQUENCES, color_palette\n",
    "\n",
    "import lazypredict\n",
    "from lazypredict.Supervised import LazyClassifier\n",
    "\n",
    "\n",
    "warnings.simplefilter(action='ignore', category=FutureWarning)"
   ]
  },
  {
   "cell_type": "code",
   "execution_count": 12,
   "id": "cf1b672f",
   "metadata": {},
   "outputs": [],
   "source": [
    "# Function for EDA. Using the display() function to have  well-formatted tables. We are mainly using pandas to explore the datasets\n",
    "\n",
    "def dataset_description(df_target):\n",
    "\n",
    "    print('This is the Dataset shape: %s\\n' % (df_target.shape, ))\n",
    "    print('Dataset columns: %s\\n' % df_target.columns)\n",
    "\n",
    "    print('\\nColumns description:\\n')\n",
    "    display(df_target.info())\n",
    "    display(df_target.describe())  # describe the dataset\n",
    "\n",
    "    print('\\nNull values:\\n')\n",
    "    display(df_target.isnull().sum())  # Identify null values\n",
    "\n",
    "#function performing a quick check on df_inspection to have best of pandas functions separated by a line\n",
    "def quick_check(dataframe):\n",
    "    print('First 5 rows %s\\n')\n",
    "    print(dataframe.head(2))\n",
    "    print(\"=====================================\")\n",
    "    print('Dataframe shape %s\\n')\n",
    "    print(dataframe.shape)\n",
    "    print(\"=====================================\")\n",
    "    print('Dataframe describe categorical %s\\n')\n",
    "    print(dataframe.describe(include=['O']))\n",
    "    print(\"=====================================\")\n",
    "    print('Dataframe null values %s\\n')\n",
    "    print(dataframe.isnull().sum())\n",
    "    print(\"=====================================\")\n",
    "    print('Dataframe value counts %s\\n')\n",
    "    print(dataframe.value_counts())\n",
    "    print(\"=====================================\")\n",
    "\n",
    "#stats function\n",
    "def stats(dataframe):\n",
    "    print('Dataframe correlation %s\\n')\n",
    "    print(dataframe.corr())\n",
    "    print(\"=====================================\")\n",
    "    print('Dataframe covariance %s\\n')\n",
    "    print(dataframe.cov())\n",
    "    print(\"=====================================\")\n",
    "    print('Dataframe skew %s\\n')\n",
    "    print(dataframe.skew())\n",
    "    print(\"=====================================\")\n",
    "    print('Dataframe kurtosis %s\\n')\n",
    "    print(dataframe.kurt())\n",
    "    print(\"=====================================\")\n",
    "\n",
    "#create a function to normalize characters from a dataset's column in Spanish\n",
    "def normalize_characters(df, column):\n",
    "    df[column] = df[column].str.normalize('NFKD').str.encode('ascii', errors='ignore').str.decode('utf-8')\n",
    "    df[column] = df[column].str.lower()\n",
    "    df[column] = df[column].str.replace('á', 'a')\n",
    "    df[column] = df[column].str.replace('é', 'e')\n",
    "    df[column] = df[column].str.replace('í', 'i')\n",
    "    df[column] = df[column].str.replace('ó', 'o')\n",
    "    df[column] = df[column].str.replace('ú', 'u')\n",
    "    df[column] = df[column].str.replace('ñ', 'n')\n",
    "    df[column] = df[column].str.replace('ü', 'u')\n",
    "    df[column] = df[column].str.replace('ç', 'c')\n",
    "    df[column] = df[column].str.replace('(', '')\n",
    "    df[column] = df[column].str.replace(')', '')\n",
    "    df[column] = df[column].str.replace('\\'', '')\n",
    "    df[column] = df[column].str.replace('´', '')\n",
    "    df[column] = df[column].str.replace('`', '')\n",
    "    df[column] = df[column].str.replace('’', '')\n",
    "    return df.head(2)\n",
    "\n",
    "#create function to change detypes in64 to int32 in a df\n",
    "def change_dtypes(df):\n",
    "    for col in df.columns:\n",
    "        if df[col].dtype == 'int64':\n",
    "            df[col] = df[col].astype('int32')\n",
    "        elif df[col].dtype == 'float64':\n",
    "            df[col] = df[col].astype('float32')\n",
    "    return df\n",
    "\n",
    "def outlier_function(df, col_name):\n",
    "    \"\"\" this function detects first and third quartile and interquartile range for a given column of a dataframe\n",
    "    then calculates upper and lower limits to determine outliers conservatively\n",
    "    returns the number of lower and uper limit and number of outliers respectively\"\"\"\n",
    "    first_quartile = np.percentile(np.array(df[col_name].tolist()), 25)\n",
    "    third_quartile = np.percentile(np.array(df[col_name].tolist()), 75)\n",
    "    IQR = third_quartile - first_quartile\n",
    "                        \n",
    "    upper_limit = third_quartile+(3*IQR)\n",
    "    lower_limit = first_quartile-(3*IQR)\n",
    "    outlier_count = 0\n",
    "                    \n",
    "    for value in df[col_name].tolist():\n",
    "        if (value < lower_limit) | (value > upper_limit):\n",
    "            outlier_count +=1\n",
    "        else:\n",
    "            pass\n",
    "    return lower_limit, upper_limit, outlier_count"
   ]
  },
  {
   "cell_type": "code",
   "execution_count": 13,
   "id": "8e28e941",
   "metadata": {},
   "outputs": [],
   "source": [
    "#show all print outputs when using a function\n",
    "from IPython.core.interactiveshell import InteractiveShell\n",
    "InteractiveShell.ast_node_interactivity = \"all\"\n",
    "\n",
    "#display all columns\n",
    "pd.set_option('display.max_columns', None)\n"
   ]
  },
  {
   "cell_type": "markdown",
   "id": "1ebce254",
   "metadata": {},
   "source": [
    "# Importing previous dataset"
   ]
  },
  {
   "cell_type": "code",
   "execution_count": 5,
   "id": "3dad7faa",
   "metadata": {},
   "outputs": [],
   "source": [
    "#point to the folder where the data is stored\n",
    "os.chdir(r\"C:\\Users\\pedro\\datathon\")\n",
    "\n",
    "# Loading combined_mod dataset\n",
    "train_consolidated = pd.read_csv('grouped_by_pipe_Dominik.csv')\n"
   ]
  },
  {
   "cell_type": "markdown",
   "id": "02933a92",
   "metadata": {
    "tags": []
   },
   "source": [
    "\n",
    "#pandas profiling report for train_consolidated exporting a file\n",
    "profile = ProfileReport(train_consolidated, title='Pandas Profiling Report', explorative=True)\n",
    "profile.to_file(\"train_consolidated.html\")\n"
   ]
  },
  {
   "cell_type": "code",
   "execution_count": 6,
   "id": "8dae7144",
   "metadata": {},
   "outputs": [
    {
     "data": {
      "text/html": [
       "<div>\n",
       "<style scoped>\n",
       "    .dataframe tbody tr th:only-of-type {\n",
       "        vertical-align: middle;\n",
       "    }\n",
       "\n",
       "    .dataframe tbody tr th {\n",
       "        vertical-align: top;\n",
       "    }\n",
       "\n",
       "    .dataframe thead th {\n",
       "        text-align: right;\n",
       "    }\n",
       "</style>\n",
       "<table border=\"1\" class=\"dataframe\">\n",
       "  <thead>\n",
       "    <tr style=\"text-align: right;\">\n",
       "      <th></th>\n",
       "      <th>PipeId</th>\n",
       "      <th>No_Inspections</th>\n",
       "      <th>No_Incidents</th>\n",
       "      <th>InspectionYear</th>\n",
       "      <th>preventive_maintenance_rate</th>\n",
       "      <th>Age_pipe_at_inspection</th>\n",
       "      <th>pipe_inspected_frequently</th>\n",
       "      <th>Average_MonthsLastRev</th>\n",
       "      <th>MonthsLastRev</th>\n",
       "      <th>Incidence</th>\n",
       "      <th>NumConnections</th>\n",
       "      <th>NumConnectionsUnder</th>\n",
       "      <th>Relative_Thickness</th>\n",
       "      <th>pipe_area</th>\n",
       "      <th>area_connection</th>\n",
       "      <th>incidence_area</th>\n",
       "      <th>connection_bool</th>\n",
       "      <th>gas_natural</th>\n",
       "      <th>Material_Acrylonitrile-Butadiene-Styrene</th>\n",
       "      <th>Material_Copper</th>\n",
       "      <th>Material_Fiberglass-Reinforced Plastic</th>\n",
       "      <th>Material_Polyethylene</th>\n",
       "      <th>Material_Polypropylene</th>\n",
       "      <th>Diameter2</th>\n",
       "      <th>Length2</th>\n",
       "      <th>Pressure2</th>\n",
       "      <th>Average year Humidity (%)</th>\n",
       "      <th>Yearly Sun Hours (hours)</th>\n",
       "      <th>Population density (persons/sqkm)</th>\n",
       "      <th>incidences_2010</th>\n",
       "      <th>incidences_2011</th>\n",
       "      <th>incidences_2012</th>\n",
       "      <th>incidences_2013</th>\n",
       "      <th>incidences_2014</th>\n",
       "      <th>incidences_2015</th>\n",
       "      <th>incidences_2016</th>\n",
       "      <th>incidences_2017</th>\n",
       "      <th>incidences_2018</th>\n",
       "      <th>incidences_2019</th>\n",
       "      <th>incidences_2020</th>\n",
       "      <th>incidences_2021</th>\n",
       "    </tr>\n",
       "  </thead>\n",
       "  <tbody>\n",
       "    <tr>\n",
       "      <th>0</th>\n",
       "      <td>489616.00</td>\n",
       "      <td>5.00</td>\n",
       "      <td>0.00</td>\n",
       "      <td>2020.00</td>\n",
       "      <td>0.00</td>\n",
       "      <td>8.00</td>\n",
       "      <td>1.00</td>\n",
       "      <td>21.40</td>\n",
       "      <td>24.00</td>\n",
       "      <td>0.00</td>\n",
       "      <td>0.00</td>\n",
       "      <td>0.00</td>\n",
       "      <td>0.16</td>\n",
       "      <td>1.54</td>\n",
       "      <td>0.00</td>\n",
       "      <td>0.00</td>\n",
       "      <td>0.00</td>\n",
       "      <td>1.00</td>\n",
       "      <td>0.00</td>\n",
       "      <td>0.00</td>\n",
       "      <td>0.00</td>\n",
       "      <td>1.00</td>\n",
       "      <td>0.00</td>\n",
       "      <td>0.00</td>\n",
       "      <td>60.72</td>\n",
       "      <td>0.16</td>\n",
       "      <td>0.55</td>\n",
       "      <td>107.50</td>\n",
       "      <td>24.99</td>\n",
       "      <td>0.00</td>\n",
       "      <td>0.00</td>\n",
       "      <td>0.00</td>\n",
       "      <td>0.00</td>\n",
       "      <td>0.00</td>\n",
       "      <td>0.00</td>\n",
       "      <td>0.00</td>\n",
       "      <td>0.00</td>\n",
       "      <td>0.00</td>\n",
       "      <td>0.00</td>\n",
       "      <td>0.00</td>\n",
       "      <td>0.00</td>\n",
       "    </tr>\n",
       "  </tbody>\n",
       "</table>\n",
       "</div>"
      ],
      "text/plain": [
       "     PipeId  No_Inspections  No_Incidents  InspectionYear  \\\n",
       "0 489616.00            5.00          0.00         2020.00   \n",
       "\n",
       "   preventive_maintenance_rate  Age_pipe_at_inspection  \\\n",
       "0                         0.00                    8.00   \n",
       "\n",
       "   pipe_inspected_frequently  Average_MonthsLastRev  MonthsLastRev  Incidence  \\\n",
       "0                       1.00                  21.40          24.00       0.00   \n",
       "\n",
       "   NumConnections  NumConnectionsUnder  Relative_Thickness  pipe_area  \\\n",
       "0            0.00                 0.00                0.16       1.54   \n",
       "\n",
       "   area_connection  incidence_area  connection_bool  gas_natural  \\\n",
       "0             0.00            0.00             0.00         1.00   \n",
       "\n",
       "   Material_Acrylonitrile-Butadiene-Styrene  Material_Copper  \\\n",
       "0                                      0.00             0.00   \n",
       "\n",
       "   Material_Fiberglass-Reinforced Plastic  Material_Polyethylene  \\\n",
       "0                                    0.00                   1.00   \n",
       "\n",
       "   Material_Polypropylene  Diameter2  Length2  Pressure2  \\\n",
       "0                    0.00       0.00    60.72       0.16   \n",
       "\n",
       "   Average year Humidity (%)  Yearly Sun Hours (hours)  \\\n",
       "0                       0.55                    107.50   \n",
       "\n",
       "   Population density (persons/sqkm)  incidences_2010  incidences_2011  \\\n",
       "0                              24.99             0.00             0.00   \n",
       "\n",
       "   incidences_2012  incidences_2013  incidences_2014  incidences_2015  \\\n",
       "0             0.00             0.00             0.00             0.00   \n",
       "\n",
       "   incidences_2016  incidences_2017  incidences_2018  incidences_2019  \\\n",
       "0             0.00             0.00             0.00             0.00   \n",
       "\n",
       "   incidences_2020  incidences_2021  \n",
       "0             0.00             0.00  "
      ]
     },
     "execution_count": 6,
     "metadata": {},
     "output_type": "execute_result"
    }
   ],
   "source": [
    "train_consolidated.head(1)"
   ]
  },
  {
   "cell_type": "code",
   "execution_count": 7,
   "id": "68fffff1",
   "metadata": {},
   "outputs": [],
   "source": [
    "#creating a subset for altering the dataset after initial EDA\n",
    "df_baseline = train_consolidated.copy()\n"
   ]
  },
  {
   "cell_type": "code",
   "execution_count": 8,
   "id": "faa8c5c7",
   "metadata": {},
   "outputs": [
    {
     "data": {
      "text/html": [
       "<div>\n",
       "<style scoped>\n",
       "    .dataframe tbody tr th:only-of-type {\n",
       "        vertical-align: middle;\n",
       "    }\n",
       "\n",
       "    .dataframe tbody tr th {\n",
       "        vertical-align: top;\n",
       "    }\n",
       "\n",
       "    .dataframe thead th {\n",
       "        text-align: right;\n",
       "    }\n",
       "</style>\n",
       "<table border=\"1\" class=\"dataframe\">\n",
       "  <thead>\n",
       "    <tr style=\"text-align: right;\">\n",
       "      <th></th>\n",
       "      <th>PipeId</th>\n",
       "      <th>No_Inspections</th>\n",
       "      <th>No_Incidents</th>\n",
       "      <th>InspectionYear</th>\n",
       "      <th>preventive_maintenance_rate</th>\n",
       "      <th>Age_pipe_at_inspection</th>\n",
       "      <th>pipe_inspected_frequently</th>\n",
       "      <th>Average_MonthsLastRev</th>\n",
       "      <th>MonthsLastRev</th>\n",
       "      <th>Incidence</th>\n",
       "      <th>NumConnections</th>\n",
       "      <th>NumConnectionsUnder</th>\n",
       "      <th>Relative_Thickness</th>\n",
       "      <th>pipe_area</th>\n",
       "      <th>area_connection</th>\n",
       "      <th>incidence_area</th>\n",
       "      <th>connection_bool</th>\n",
       "      <th>gas_natural</th>\n",
       "      <th>Material_Acrylonitrile-Butadiene-Styrene</th>\n",
       "      <th>Material_Copper</th>\n",
       "      <th>Material_Fiberglass-Reinforced Plastic</th>\n",
       "      <th>Material_Polyethylene</th>\n",
       "      <th>Material_Polypropylene</th>\n",
       "      <th>Diameter2</th>\n",
       "      <th>Length2</th>\n",
       "      <th>Pressure2</th>\n",
       "      <th>Average year Humidity (%)</th>\n",
       "      <th>Yearly Sun Hours (hours)</th>\n",
       "      <th>Population density (persons/sqkm)</th>\n",
       "      <th>incidences_2010</th>\n",
       "      <th>incidences_2011</th>\n",
       "      <th>incidences_2012</th>\n",
       "      <th>incidences_2013</th>\n",
       "      <th>incidences_2014</th>\n",
       "      <th>incidences_2015</th>\n",
       "      <th>incidences_2016</th>\n",
       "      <th>incidences_2017</th>\n",
       "      <th>incidences_2018</th>\n",
       "      <th>incidences_2019</th>\n",
       "      <th>incidences_2020</th>\n",
       "      <th>incidences_2021</th>\n",
       "    </tr>\n",
       "  </thead>\n",
       "  <tbody>\n",
       "    <tr>\n",
       "      <th>0</th>\n",
       "      <td>489616.00</td>\n",
       "      <td>5.00</td>\n",
       "      <td>0.00</td>\n",
       "      <td>2020.00</td>\n",
       "      <td>0.00</td>\n",
       "      <td>8.00</td>\n",
       "      <td>1.00</td>\n",
       "      <td>21.40</td>\n",
       "      <td>24.00</td>\n",
       "      <td>0.00</td>\n",
       "      <td>0.00</td>\n",
       "      <td>0.00</td>\n",
       "      <td>0.16</td>\n",
       "      <td>1.54</td>\n",
       "      <td>0.00</td>\n",
       "      <td>0.00</td>\n",
       "      <td>0.00</td>\n",
       "      <td>1.00</td>\n",
       "      <td>0.00</td>\n",
       "      <td>0.00</td>\n",
       "      <td>0.00</td>\n",
       "      <td>1.00</td>\n",
       "      <td>0.00</td>\n",
       "      <td>0.00</td>\n",
       "      <td>60.72</td>\n",
       "      <td>0.16</td>\n",
       "      <td>0.55</td>\n",
       "      <td>107.50</td>\n",
       "      <td>24.99</td>\n",
       "      <td>0.00</td>\n",
       "      <td>0.00</td>\n",
       "      <td>0.00</td>\n",
       "      <td>0.00</td>\n",
       "      <td>0.00</td>\n",
       "      <td>0.00</td>\n",
       "      <td>0.00</td>\n",
       "      <td>0.00</td>\n",
       "      <td>0.00</td>\n",
       "      <td>0.00</td>\n",
       "      <td>0.00</td>\n",
       "      <td>0.00</td>\n",
       "    </tr>\n",
       "  </tbody>\n",
       "</table>\n",
       "</div>"
      ],
      "text/plain": [
       "     PipeId  No_Inspections  No_Incidents  InspectionYear  \\\n",
       "0 489616.00            5.00          0.00         2020.00   \n",
       "\n",
       "   preventive_maintenance_rate  Age_pipe_at_inspection  \\\n",
       "0                         0.00                    8.00   \n",
       "\n",
       "   pipe_inspected_frequently  Average_MonthsLastRev  MonthsLastRev  Incidence  \\\n",
       "0                       1.00                  21.40          24.00       0.00   \n",
       "\n",
       "   NumConnections  NumConnectionsUnder  Relative_Thickness  pipe_area  \\\n",
       "0            0.00                 0.00                0.16       1.54   \n",
       "\n",
       "   area_connection  incidence_area  connection_bool  gas_natural  \\\n",
       "0             0.00            0.00             0.00         1.00   \n",
       "\n",
       "   Material_Acrylonitrile-Butadiene-Styrene  Material_Copper  \\\n",
       "0                                      0.00             0.00   \n",
       "\n",
       "   Material_Fiberglass-Reinforced Plastic  Material_Polyethylene  \\\n",
       "0                                    0.00                   1.00   \n",
       "\n",
       "   Material_Polypropylene  Diameter2  Length2  Pressure2  \\\n",
       "0                    0.00       0.00    60.72       0.16   \n",
       "\n",
       "   Average year Humidity (%)  Yearly Sun Hours (hours)  \\\n",
       "0                       0.55                    107.50   \n",
       "\n",
       "   Population density (persons/sqkm)  incidences_2010  incidences_2011  \\\n",
       "0                              24.99             0.00             0.00   \n",
       "\n",
       "   incidences_2012  incidences_2013  incidences_2014  incidences_2015  \\\n",
       "0             0.00             0.00             0.00             0.00   \n",
       "\n",
       "   incidences_2016  incidences_2017  incidences_2018  incidences_2019  \\\n",
       "0             0.00             0.00             0.00             0.00   \n",
       "\n",
       "   incidences_2020  incidences_2021  \n",
       "0             0.00             0.00  "
      ]
     },
     "execution_count": 8,
     "metadata": {},
     "output_type": "execute_result"
    }
   ],
   "source": [
    "df_baseline.head(1)"
   ]
  },
  {
   "cell_type": "code",
   "execution_count": 9,
   "id": "86211d89",
   "metadata": {},
   "outputs": [
    {
     "data": {
      "text/plain": [
       "0.00    1225583\n",
       "1.00       1804\n",
       "Name: Incidence, dtype: int64"
      ]
     },
     "execution_count": 9,
     "metadata": {},
     "output_type": "execute_result"
    }
   ],
   "source": [
    "#count values for Incidence\n",
    "df_baseline['Incidence'].value_counts()\n"
   ]
  },
  {
   "attachments": {},
   "cell_type": "markdown",
   "id": "4a4bc545",
   "metadata": {},
   "source": [
    "# PCA approach\n"
   ]
  },
  {
   "cell_type": "code",
   "execution_count": 14,
   "id": "0e2cbcd4",
   "metadata": {},
   "outputs": [],
   "source": [
    "# perform pca on df_baseline and split the data into train and test 80 20stratifying by the target variable Incidence\n",
    "pca = PCA(n_components=6)\n",
    "X = df_baseline.drop(['Incidence'], axis=1)\n",
    "y = df_baseline['Incidence']\n",
    "X_train, X_test, y_train, y_test = train_test_split(X, y, test_size=0.2, random_state=42, stratify=y)\n",
    "X_train_pca = pca.fit_transform(X_train)\n",
    "X_test_pca = pca.transform(X_test)\n"
   ]
  },
  {
   "cell_type": "code",
   "execution_count": null,
   "id": "fc384759",
   "metadata": {},
   "outputs": [],
   "source": [
    "#show pca graph for train and test\n",
    "plt.figure(figsize=(10, 8))\n",
    "plt.scatter(X_train_pca[:, 2], X_train_pca[:, 3], c=y_train, cmap='plasma')\n",
    "plt.xlabel('First principal component')\n",
    "plt.ylabel('Second Principal Component')\n",
    "plt.show()\n"
   ]
  },
  {
   "cell_type": "code",
   "execution_count": null,
   "id": "4c5e66e1",
   "metadata": {},
   "outputs": [],
   "source": [
    "\n",
    "plt.figure(figsize=(10, 8))\n",
    "plt.scatter(X_test_pca[:, 0], X_test_pca[:, 1], c=y_test, cmap='plasma')\n",
    "plt.xlabel('First principal component')\n",
    "plt.ylabel('Second Principal Component')\n",
    "plt.show()\n",
    "\n"
   ]
  },
  {
   "cell_type": "code",
   "execution_count": null,
   "id": "6dbd9688",
   "metadata": {},
   "outputs": [],
   "source": []
  },
  {
   "cell_type": "code",
   "execution_count": 16,
   "id": "623feee6",
   "metadata": {},
   "outputs": [
    {
     "name": "stderr",
     "output_type": "stream",
     "text": [
      "[Parallel(n_jobs=-1)]: Using backend LokyBackend with 8 concurrent workers.\n",
      "[Parallel(n_jobs=-1)]: Done  34 tasks      | elapsed:    2.6s\n",
      "[Parallel(n_jobs=-1)]: Done 100 out of 100 | elapsed:    6.8s finished\n",
      "[Parallel(n_jobs=8)]: Using backend ThreadingBackend with 8 concurrent workers.\n",
      "[Parallel(n_jobs=8)]: Done  34 tasks      | elapsed:    0.0s\n",
      "[Parallel(n_jobs=8)]: Done 100 out of 100 | elapsed:    0.2s finished\n",
      "[Parallel(n_jobs=-1)]: Using backend LokyBackend with 8 concurrent workers.\n",
      "[Parallel(n_jobs=-1)]: Done  34 tasks      | elapsed:    2.3s\n",
      "[Parallel(n_jobs=-1)]: Done 100 out of 100 | elapsed:    6.4s finished\n",
      "[Parallel(n_jobs=8)]: Using backend ThreadingBackend with 8 concurrent workers.\n",
      "[Parallel(n_jobs=8)]: Done  34 tasks      | elapsed:    0.0s\n",
      "[Parallel(n_jobs=8)]: Done 100 out of 100 | elapsed:    0.2s finished\n",
      "[Parallel(n_jobs=-1)]: Using backend LokyBackend with 8 concurrent workers.\n",
      "[Parallel(n_jobs=-1)]: Done  34 tasks      | elapsed:    2.5s\n",
      "[Parallel(n_jobs=-1)]: Done 100 out of 100 | elapsed:    6.8s finished\n",
      "[Parallel(n_jobs=8)]: Using backend ThreadingBackend with 8 concurrent workers.\n",
      "[Parallel(n_jobs=8)]: Done  34 tasks      | elapsed:    0.0s\n",
      "[Parallel(n_jobs=8)]: Done 100 out of 100 | elapsed:    0.2s finished\n",
      "[Parallel(n_jobs=-1)]: Using backend LokyBackend with 8 concurrent workers.\n",
      "[Parallel(n_jobs=-1)]: Done  34 tasks      | elapsed:    2.3s\n",
      "[Parallel(n_jobs=-1)]: Done 184 tasks      | elapsed:   11.8s\n",
      "[Parallel(n_jobs=-1)]: Done 200 out of 200 | elapsed:   12.7s finished\n",
      "[Parallel(n_jobs=8)]: Using backend ThreadingBackend with 8 concurrent workers.\n",
      "[Parallel(n_jobs=8)]: Done  34 tasks      | elapsed:    0.0s\n",
      "[Parallel(n_jobs=8)]: Done 184 tasks      | elapsed:    0.4s\n",
      "[Parallel(n_jobs=8)]: Done 200 out of 200 | elapsed:    0.5s finished\n",
      "[Parallel(n_jobs=-1)]: Using backend LokyBackend with 8 concurrent workers.\n",
      "[Parallel(n_jobs=-1)]: Done  34 tasks      | elapsed:    2.3s\n",
      "[Parallel(n_jobs=-1)]: Done 184 tasks      | elapsed:   11.3s\n",
      "[Parallel(n_jobs=-1)]: Done 200 out of 200 | elapsed:   12.1s finished\n",
      "[Parallel(n_jobs=8)]: Using backend ThreadingBackend with 8 concurrent workers.\n",
      "[Parallel(n_jobs=8)]: Done  34 tasks      | elapsed:    0.0s\n"
     ]
    }
   ],
   "source": [
    "#DO NOT RUN TAKES TOO LONG\n",
    "#random forest classifier with regularization and gridsearch to find the best parameters for the model\n",
    "rfc = RandomForestClassifier(random_state=42, n_jobs=-1, class_weight='balanced', verbose = 1)\n",
    "param_grid = {\n",
    "    'n_estimators': [100, 200,300],\n",
    "    'max_features': ['auto'],\n",
    "    'max_depth' : [3,4,5],\n",
    "    'criterion' :['gini']\n",
    "}\n",
    "CV_rfc = GridSearchCV(estimator=rfc, param_grid=param_grid, cv= 3)\n",
    "CV_rfc.fit(X_train, y_train)\n",
    "CV_rfc.best_params_\n"
   ]
  },
  {
   "cell_type": "code",
   "execution_count": null,
   "id": "80451668",
   "metadata": {},
   "outputs": [],
   "source": []
  },
  {
   "cell_type": "code",
   "execution_count": null,
   "id": "409f0718",
   "metadata": {},
   "outputs": [],
   "source": []
  },
  {
   "cell_type": "code",
   "execution_count": null,
   "id": "93592ca0",
   "metadata": {},
   "outputs": [],
   "source": []
  },
  {
   "cell_type": "code",
   "execution_count": null,
   "id": "41425caa",
   "metadata": {},
   "outputs": [],
   "source": []
  },
  {
   "cell_type": "code",
   "execution_count": null,
   "id": "9eb4417e",
   "metadata": {},
   "outputs": [],
   "source": [
    "\n",
    "#rfc with best parameters\n",
    "rfc = RandomForestClassifier(random_state=42, n_jobs=-1, n_estimators=100, max_features='auto', max_depth=8, criterion='gini')\n",
    "rfc.fit(X_train, y_train)\n",
    "y_pred = rfc.predict(X_test)\n",
    "print(classification_report(y_test, y_pred))\n",
    "print(confusion_matrix(y_test, y_pred))\n",
    "print(accuracy_score(y_test, y_pred))\n",
    "\n",
    "#plot confusion matrix\n",
    "cm = confusion_matrix(y_test, y_pred)\n",
    "plt.figure(figsize=(10, 6))\n",
    "sns.heatmap(cm, annot=True, cmap='coolwarm')\n",
    "plt.title('Confusion Matrix')\n",
    "plt.show()\n",
    "\n"
   ]
  },
  {
   "cell_type": "code",
   "execution_count": null,
   "id": "81e08d56",
   "metadata": {},
   "outputs": [],
   "source": [
    "predictions = rfc.predict_proba(X_test)\n",
    "predictions = predictions[:, 1]"
   ]
  },
  {
   "cell_type": "code",
   "execution_count": null,
   "id": "35e3bea1",
   "metadata": {},
   "outputs": [],
   "source": []
  },
  {
   "attachments": {},
   "cell_type": "markdown",
   "id": "d054e766",
   "metadata": {},
   "source": [
    "# Trying model "
   ]
  },
  {
   "cell_type": "code",
   "execution_count": null,
   "id": "f2af6452",
   "metadata": {},
   "outputs": [],
   "source": [
    "#random forest classifier with regularization and gridsearch to find the best parameters for the model\n",
    "rfc = RandomForestClassifier(random_state=42, n_jobs=-1, max_depth = 3, verbose=1)  \n",
    "rfc.fit(X_train, y_train)\n",
    "y_pred = rfc.predict(X_test)\n",
    "print(classification_report(y_test, y_pred))\n",
    "print(confusion_matrix(y_test, y_pred))\n",
    "print(accuracy_score(y_test, y_pred))\n",
    "\n",
    "#plot confusion matrix\n",
    "cm = confusion_matrix(y_test, y_pred)\n",
    "plt.figure(figsize=(10, 6))\n",
    "sns.heatmap(cm, annot=True, cmap='coolwarm')\n",
    "plt.title('Confusion Matrix')\n",
    "plt.show()"
   ]
  },
  {
   "cell_type": "code",
   "execution_count": null,
   "id": "22deedf5",
   "metadata": {},
   "outputs": [],
   "source": [
    "predictions = rfc.predict_proba(X_test)\n",
    "predictions = predictions[:, 1]\n",
    "\n",
    "#show accuracy score\n",
    "print(accuracy_score(y_test, y_pred))\n"
   ]
  },
  {
   "cell_type": "code",
   "execution_count": null,
   "id": "4c1b2a4f",
   "metadata": {},
   "outputs": [],
   "source": [
    "\n",
    "#show classification report\n",
    "print(classification_report(y_test, y_pred))\n"
   ]
  },
  {
   "cell_type": "code",
   "execution_count": null,
   "metadata": {},
   "outputs": [],
   "source": [
    "#use model to predict on test set\n",
    "predictions = rfc.predict_proba(X_test)\n",
    "predictions = predictions[:, 1]\n",
    "\n",
    "#show accuracy score\n",
    "print(accuracy_score(y_test, y_pred))\n"
   ]
  },
  {
   "cell_type": "code",
   "execution_count": null,
   "id": "4646f87b",
   "metadata": {},
   "outputs": [],
   "source": [
    "#change directory to\n",
    "os.chdir(r'C:\\Users\\pedro\\datathon\\Datathon-Rules-and-Documentation')\n",
    "#import a file\n",
    "submission = pd.read_csv('sample_submission.csv')"
   ]
  },
  {
   "cell_type": "code",
   "execution_count": null,
   "id": "886743c2",
   "metadata": {},
   "outputs": [],
   "source": [
    "submission.head(10)"
   ]
  },
  {
   "cell_type": "code",
   "execution_count": null,
   "id": "9a022371",
   "metadata": {},
   "outputs": [],
   "source": [
    "submission.shape"
   ]
  },
  {
   "cell_type": "code",
   "execution_count": null,
   "id": "14854b26",
   "metadata": {},
   "outputs": [],
   "source": [
    "#for all PipeId in submission, join  with df_baseline on PipeId\n",
    "submission2 = submission.merge(df_baseline, on='PipeId', how='left')"
   ]
  },
  {
   "cell_type": "code",
   "execution_count": null,
   "id": "7cd32a10",
   "metadata": {},
   "outputs": [],
   "source": [
    "submission2.shape"
   ]
  },
  {
   "cell_type": "code",
   "execution_count": null,
   "id": "c1f1de0a",
   "metadata": {},
   "outputs": [],
   "source": [
    "#compute differences in PipeId between submission and submission2\n",
    "np.setdiff1d(submission['PipeId'].unique(), submission2['PipeId'].unique())"
   ]
  },
  {
   "cell_type": "code",
   "execution_count": null,
   "id": "87b4fab5",
   "metadata": {},
   "outputs": [],
   "source": [
    "#show duplicates for PipeId in submission2\n",
    "submission2[submission2.duplicated(['PipeId'], keep=False)]\n"
   ]
  },
  {
   "cell_type": "code",
   "execution_count": null,
   "id": "be8985a7",
   "metadata": {},
   "outputs": [],
   "source": [
    "#keep only the first occurence of PipeId in submission2\n",
    "submission2.drop_duplicates(subset='PipeId', keep='first', inplace=True)\n",
    "submission2.shape"
   ]
  },
  {
   "cell_type": "code",
   "execution_count": null,
   "id": "ee998831",
   "metadata": {},
   "outputs": [],
   "source": [
    "submission2.head(4)\n"
   ]
  },
  {
   "cell_type": "code",
   "execution_count": null,
   "id": "14fef7c8",
   "metadata": {},
   "outputs": [],
   "source": [
    "#missing values in submission2\n",
    "submission2.isnull().sum()\n"
   ]
  },
  {
   "cell_type": "code",
   "execution_count": null,
   "id": "7c52946c",
   "metadata": {},
   "outputs": [],
   "source": [
    "#fill all missing values in submission2 with 0\n",
    "submission2.fillna(0, inplace=True)\n"
   ]
  },
  {
   "cell_type": "code",
   "execution_count": null,
   "id": "0b22b090",
   "metadata": {},
   "outputs": [],
   "source": [
    "#drop Incidence_x and Incidence_y from submission2\n",
    "submission2.drop(['Incidence_x', 'Incidence_y'], axis=1, inplace=True)"
   ]
  },
  {
   "cell_type": "code",
   "execution_count": null,
   "id": "7fe8a99e",
   "metadata": {},
   "outputs": [],
   "source": [
    "#make predictions for submission using the model\n",
    "predictions = rfc.predict_proba(submission2)\n",
    "predictions = predictions[:, 1]\n",
    "\n",
    "#add predictions to submission\n",
    "submission2['Incidence'] = predictions\n",
    "\n",
    "\n",
    "\n",
    "#show submission\n",
    "submission2.head(1)\n"
   ]
  },
  {
   "cell_type": "code",
   "execution_count": null,
   "id": "1dc1da89",
   "metadata": {},
   "outputs": [],
   "source": [
    "#drop all columns except PipeId and Incidence in submission2 creating kaggle_submission\n",
    "kaggle_submission = submission2.drop(['No_Inspections', 'No_Incidents', 'InspectionYear',\n",
    "       'preventive_maintenance_rate', 'Age_pipe_at_inspection',\n",
    "       'pipe_inspected_frequently', 'Average_MonthsLastRev', 'MonthsLastRev',\n",
    "       'NumConnections', 'NumConnectionsUnder', 'Relative_Thickness',\n",
    "       'pipe_area', 'area_connection', 'incidence_area', 'connection_bool',\n",
    "       'gas_natural', 'Material_Acrylonitrile-Butadiene-Styrene',\n",
    "       'Material_Copper', 'Material_Fiberglass-Reinforced Plastic',\n",
    "       'Material_Polyethylene', 'Material_Polypropylene', 'Diameter2',\n",
    "       'Length2', 'Pressure2', 'Average year Humidity (%)',\n",
    "       'Yearly Sun Hours (hours)', 'Population density (persons/sqkm)','incidences_2010', 'incidences_2011', 'incidences_2012',\n",
    "       'incidences_2013', 'incidences_2014', 'incidences_2015',\n",
    "       'incidences_2016', 'incidences_2017', 'incidences_2018',\n",
    "       'incidences_2019', 'incidences_2020', 'incidences_2021'], axis=1)\n"
   ]
  },
  {
   "cell_type": "code",
   "execution_count": null,
   "id": "638d73cd",
   "metadata": {},
   "outputs": [],
   "source": [
    "\n",
    "#show kaggle_submission\n",
    "kaggle_submission.columns\n"
   ]
  },
  {
   "cell_type": "code",
   "execution_count": null,
   "id": "a427d224",
   "metadata": {},
   "outputs": [],
   "source": [
    "kaggle_submission = submission2.drop([], axis=1)\n"
   ]
  },
  {
   "cell_type": "code",
   "execution_count": null,
   "id": "b8b85cfe",
   "metadata": {},
   "outputs": [],
   "source": [
    "kaggle_submission.shape"
   ]
  },
  {
   "cell_type": "code",
   "execution_count": null,
   "id": "3c6f20e0",
   "metadata": {},
   "outputs": [],
   "source": [
    "kaggle_submission.head(1)"
   ]
  },
  {
   "cell_type": "code",
   "execution_count": null,
   "id": "d6372270",
   "metadata": {},
   "outputs": [],
   "source": [
    "#export kaggle_submission to csv\n",
    "os.chdir(r\"C:\\Users\\pedro\\datathon\")\n",
    "\n",
    "kaggle_submission.to_csv('kaggle_submission_pca_DK.csv', index=False)\n"
   ]
  },
  {
   "cell_type": "code",
   "execution_count": null,
   "id": "aa6ef494",
   "metadata": {},
   "outputs": [],
   "source": []
  },
  {
   "cell_type": "code",
   "execution_count": null,
   "id": "21077a7b",
   "metadata": {},
   "outputs": [],
   "source": []
  },
  {
   "attachments": {},
   "cell_type": "markdown",
   "id": "624b513b",
   "metadata": {},
   "source": [
    "# Using lazypredict to have more baselines\n"
   ]
  },
  {
   "cell_type": "markdown",
   "id": "7faab7f9",
   "metadata": {},
   "source": []
  },
  {
   "cell_type": "code",
   "execution_count": null,
   "id": "c95a3c44",
   "metadata": {},
   "outputs": [],
   "source": [
    "#lazypredict to find the best model\n",
    "clf = LazyClassifier(verbose=1, ignore_warnings=False, custom_metric=None)\n",
    "models, predictions = clf.fit(X_train, X_test, y_train, y_test)\n",
    "models\n",
    "\n"
   ]
  },
  {
   "cell_type": "code",
   "execution_count": null,
   "id": "db95dedf",
   "metadata": {},
   "outputs": [],
   "source": []
  }
 ],
 "metadata": {
  "kernelspec": {
   "display_name": "Python 3",
   "language": "python",
   "name": "python3"
  },
  "language_info": {
   "codemirror_mode": {
    "name": "ipython",
    "version": 3
   },
   "file_extension": ".py",
   "mimetype": "text/x-python",
   "name": "python",
   "nbconvert_exporter": "python",
   "pygments_lexer": "ipython3",
   "version": "3.10.10"
  },
  "vscode": {
   "interpreter": {
    "hash": "326e4f63ad54c217260fc7be1c53acea6ef3ea6cd7ac93b3b02195c6d8fa7cb8"
   }
  }
 },
 "nbformat": 4,
 "nbformat_minor": 5
}
