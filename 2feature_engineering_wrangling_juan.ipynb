{
 "cells": [
  {
   "attachments": {},
   "cell_type": "markdown",
   "id": "c6ba2d28",
   "metadata": {},
   "source": [
    "# Libraries used\n",
    "PV --> Running 3.10.10\n",
    "Running Kernel3.9.13 base anaconda"
   ]
  },
  {
   "attachments": {},
   "cell_type": "markdown",
   "id": "a47ff5b1",
   "metadata": {},
   "source": [
    "#perform al pip installs in one go comment out if already installed\n",
    "!pip install pandas\n",
    "!pip install numpy\n",
    "!pip install matplotlib\n",
    "!pip install seaborn\n",
    "!pip install sklearn\n",
    "!pip install scipy\n",
    "!pip install statsmodels\n",
    "!pip install plotly\n",
    "!pip install cufflinks\n",
    "!pip install squarify\n",
    "!pip install yellowbrick\n",
    "!pip install lazypredict\n",
    "!pip install pandas_profiling"
   ]
  },
  {
   "cell_type": "code",
   "execution_count": 332,
   "id": "869b5d85",
   "metadata": {},
   "outputs": [],
   "source": [
    "import pandas as pd\n",
    "import numpy as np\n",
    "import seaborn as sns  \n",
    "import matplotlib.pyplot as plt\n",
    "import plotly.io as pio\n",
    "#import squarify #treemap\n",
    "import os\n",
    "import matplotlib\n",
    "import warnings\n",
    "\n",
    "\n",
    "\n",
    "#to enable the inline plotting\n",
    "%matplotlib inline \n",
    "\n",
    "import warnings\n",
    "warnings.filterwarnings('ignore')\n",
    "\n",
    "sns.set_style(\"darkgrid\")"
   ]
  },
  {
   "cell_type": "code",
   "execution_count": 333,
   "id": "f230c51a",
   "metadata": {},
   "outputs": [],
   "source": [
    "from sklearn.linear_model import LogisticRegression\n",
    "\n",
    "from sklearn.model_selection import cross_val_score\n",
    "from sklearn.model_selection import RepeatedStratifiedKFold\n",
    "from sklearn.model_selection import cross_val_score\n",
    "from sklearn.model_selection import train_test_split\n",
    "\n",
    "from sklearn.metrics import accuracy_score, confusion_matrix, classification_report\n",
    "from sklearn.metrics import classification_report\n",
    "\n",
    "from sklearn.naive_bayes import GaussianNB\n",
    "from sklearn.tree import DecisionTreeClassifier\n",
    "from sklearn.neighbors import KNeighborsClassifier\n",
    "\n",
    "from sklearn.ensemble import RandomForestClassifier\n",
    "from sklearn.ensemble import GradientBoostingClassifier\n",
    "\n",
    "from sklearn.preprocessing import StandardScaler\n",
    "from sklearn.preprocessing import PolynomialFeatures\n",
    "\n",
    "\n",
    "from scipy.stats import normaltest\n",
    "\n",
    "from pandas_profiling import ProfileReport\n",
    "\n",
    "from yellowbrick.classifier import ROCAUC\n",
    "from yellowbrick.classifier import ClassPredictionError\n",
    "from yellowbrick.style.palettes import PALETTES, SEQUENCES, color_palette\n",
    "\n",
    "import lazypredict\n",
    "from lazypredict.Supervised import LazyClassifier\n",
    "\n",
    "warnings.simplefilter(action='ignore', category=FutureWarning)"
   ]
  },
  {
   "attachments": {},
   "cell_type": "markdown",
   "id": "19146b48",
   "metadata": {},
   "source": [
    "# Functions\n"
   ]
  },
  {
   "cell_type": "code",
   "execution_count": 334,
   "id": "6a4daab2",
   "metadata": {},
   "outputs": [],
   "source": [
    "# Function for EDA. Using the display() function to have  well-formatted tables. We are mainly using pandas to explore the datasets\n",
    "\n",
    "def dataset_description(df_target):\n",
    "\n",
    "    print('This is the Dataset shape: %s\\n' % (df_target.shape, ))\n",
    "    print('Dataset columns: %s\\n' % df_target.columns)\n",
    "\n",
    "    print('\\nColumns description:\\n')\n",
    "    display(df_target.info())\n",
    "    display(df_target.describe())  # describe the dataset\n",
    "\n",
    "    print('\\nNull values:\\n')\n",
    "    display(df_target.isnull().sum())  # Identify null values\n",
    "\n",
    "#function performing a quick check on df_inspection to have best of pandas functions separated by a line\n",
    "def quick_check(dataframe):\n",
    "    print('First 5 rows %s\\n')\n",
    "    print(dataframe.head(2))\n",
    "    print(\"=====================================\")\n",
    "    print('Dataframe shape %s\\n')\n",
    "    print(dataframe.shape)\n",
    "    print(\"=====================================\")\n",
    "    print('Dataframe describe categorical %s\\n')\n",
    "    print(dataframe.describe(include=['O']))\n",
    "    print(\"=====================================\")\n",
    "    print('Dataframe null values %s\\n')\n",
    "    print(dataframe.isnull().sum())\n",
    "    print(\"=====================================\")\n",
    "    print('Dataframe value counts %s\\n')\n",
    "    print(dataframe.value_counts())\n",
    "    print(\"=====================================\")\n",
    "\n",
    "#stats function\n",
    "def stats(dataframe):\n",
    "    print('Dataframe correlation %s\\n')\n",
    "    print(dataframe.corr())\n",
    "    print(\"=====================================\")\n",
    "    print('Dataframe covariance %s\\n')\n",
    "    print(dataframe.cov())\n",
    "    print(\"=====================================\")\n",
    "    print('Dataframe skew %s\\n')\n",
    "    print(dataframe.skew())\n",
    "    print(\"=====================================\")\n",
    "    print('Dataframe kurtosis %s\\n')\n",
    "    print(dataframe.kurt())\n",
    "    print(\"=====================================\")\n",
    "\n",
    "#create a function to normalize characters from a dataset's column in Spanish\n",
    "def normalize_characters(df, column):\n",
    "    df[column] = df[column].str.normalize('NFKD').str.encode('ascii', errors='ignore').str.decode('utf-8')\n",
    "    df[column] = df[column].str.lower()\n",
    "    df[column] = df[column].str.replace('á', 'a')\n",
    "    df[column] = df[column].str.replace('é', 'e')\n",
    "    df[column] = df[column].str.replace('í', 'i')\n",
    "    df[column] = df[column].str.replace('ó', 'o')\n",
    "    df[column] = df[column].str.replace('ú', 'u')\n",
    "    df[column] = df[column].str.replace('ñ', 'n')\n",
    "    df[column] = df[column].str.replace('ü', 'u')\n",
    "    df[column] = df[column].str.replace('ç', 'c')\n",
    "    df[column] = df[column].str.replace('(', '')\n",
    "    df[column] = df[column].str.replace(')', '')\n",
    "    df[column] = df[column].str.replace('\\'', '')\n",
    "    df[column] = df[column].str.replace('´', '')\n",
    "    df[column] = df[column].str.replace('`', '')\n",
    "    df[column] = df[column].str.replace('’', '')\n",
    "    return df.head(2)\n",
    "\n",
    "#create function to change detypes in64 to int32 in a df\n",
    "def change_dtypes(df):\n",
    "    for col in df.columns:\n",
    "        if df[col].dtype == 'int64':\n",
    "            df[col] = df[col].astype('int32')\n",
    "        elif df[col].dtype == 'float64':\n",
    "            df[col] = df[col].astype('float32')\n",
    "    return df\n",
    "\n",
    "def outlier_function(df, col_name):\n",
    "    \"\"\" this function detects first and third quartile and interquartile range for a given column of a dataframe\n",
    "    then calculates upper and lower limits to determine outliers conservatively\n",
    "    returns the number of lower and uper limit and number of outliers respectively\"\"\"\n",
    "    first_quartile = np.percentile(np.array(df[col_name].tolist()), 25)\n",
    "    third_quartile = np.percentile(np.array(df[col_name].tolist()), 75)\n",
    "    IQR = third_quartile - first_quartile\n",
    "                        \n",
    "    upper_limit = third_quartile+(3*IQR)\n",
    "    lower_limit = first_quartile-(3*IQR)\n",
    "    outlier_count = 0\n",
    "                    \n",
    "    for value in df[col_name].tolist():\n",
    "        if (value < lower_limit) | (value > upper_limit):\n",
    "            outlier_count +=1\n",
    "        else:\n",
    "            pass\n",
    "    return lower_limit, upper_limit, outlier_count"
   ]
  },
  {
   "cell_type": "code",
   "execution_count": 335,
   "id": "aac38c42",
   "metadata": {},
   "outputs": [],
   "source": [
    "#show all print outputs when using a function\n",
    "from IPython.core.interactiveshell import InteractiveShell\n",
    "InteractiveShell.ast_node_interactivity = \"all\"\n",
    "\n",
    "#display all columns\n",
    "pd.set_option('display.max_columns', None)\n"
   ]
  },
  {
   "cell_type": "markdown",
   "id": "d88a7d05",
   "metadata": {},
   "source": [
    "# 2. Data Collection and Understanding "
   ]
  },
  {
   "cell_type": "markdown",
   "id": "0b331027",
   "metadata": {},
   "source": [
    "## Network file"
   ]
  },
  {
   "cell_type": "markdown",
   "id": "931606e2",
   "metadata": {},
   "source": [
    "The network.csv file contains a static picture of the gas pipeline network. Every row corresponds to a pipe and has a unique PipeId identifier. The table has 1.446.529 pipes. \n",
    "\n",
    "The columns describe relevant features of each pipe. The complete list is: "
   ]
  },
  {
   "cell_type": "markdown",
   "id": "02c2859c",
   "metadata": {},
   "source": [
    "PipeId - unique identifier for the pipe \n",
    "\n",
    "Province - Spanish province where the pipe is located \n",
    "\n",
    "Town - Town or city where the pipe is located \n",
    "\n",
    "YearBuilt - Year in which the pipe was built and installed \n",
    "\n",
    "Material - Material in which the pipe is built \n",
    "\n",
    "GasType - Type of gas that runs through the pipe \n",
    "\n",
    "Diameter - diameter of the pipe \n",
    "\n",
    "Length - Length of the pipe \n",
    "\n",
    "Pressure - Pressure of the gas that runs through the pipe (bar) \n",
    "\n",
    "NumConnections - Number of connections (external). \n",
    "\n",
    "NumConnectionsUnder - Number of connections (internal and buried) \n",
    "\n",
    "BoolBridle  - Whether the pipe is bridled (True) or welded (False) "
   ]
  },
  {
   "cell_type": "markdown",
   "id": "2d409b09",
   "metadata": {},
   "source": [
    "## Inspection file"
   ]
  },
  {
   "cell_type": "markdown",
   "id": "5bc407aa",
   "metadata": {},
   "source": [
    "MaintenanceId - unique identifier for the inspection operation \n",
    "\n",
    "InspectionYear - year in which the inspection took place \n",
    "\n",
    "InspectionDate - date in which the inspection took place \n",
    "\n",
    "MonthsLastRev - number of months elapsed since the last previous inspection. \n",
    "\n",
    "Severity - Severity of the damage found (1: most severe, 3: least severe) \n",
    "\n",
    "Incidence - Boolean whether an incident was found on the revision (1) or not (0). "
   ]
  },
  {
   "attachments": {},
   "cell_type": "markdown",
   "id": "d7ed6752",
   "metadata": {},
   "source": [
    "# Merging datasets"
   ]
  },
  {
   "cell_type": "markdown",
   "id": "57078a12",
   "metadata": {},
   "source": [
    "#point to the folder where the data is stored for Pedro\n",
    "os.chdir(r\"C:\\Users\\pedro\\datathon\")\n",
    "\n",
    "# Loading inspection data\n",
    "df_inspection = pd.read_csv('inspections.csv')\n",
    "\n",
    "# Loading network data\n",
    "df_network = pd.read_csv('network.csv')\n"
   ]
  },
  {
   "attachments": {},
   "cell_type": "markdown",
   "id": "cf3c8dca",
   "metadata": {},
   "source": [
    "#point to the folder where the data is stored for Pedro\n",
    "os.chdir(r\"C:\\Users\\pedro\\datathon\\Datathon-Rules-and-Documentation\") \n",
    "\n",
    "#Loading sample_submission\n",
    "df_sample_submission = pd.read_csv('sample_submission.csv')"
   ]
  },
  {
   "cell_type": "code",
   "execution_count": 336,
   "id": "f53839ee",
   "metadata": {},
   "outputs": [],
   "source": [
    "#point to the folder where the data is stored For Juan\n",
    "os.chdir(r\"C:\\Users\\JuanHorrillo\\OneDrive - IE Students\\Documents\\Masters\\Sustainability\\Notebook\")\n",
    "\n",
    "# Loading inspection data\n",
    "df_inspection = pd.read_csv('inspections.csv')\n",
    "\n",
    "# Loading network data\n",
    "df_network = pd.read_csv('network.csv')"
   ]
  },
  {
   "cell_type": "code",
   "execution_count": 337,
   "id": "09d0ac0a",
   "metadata": {},
   "outputs": [
    {
     "name": "stdout",
     "output_type": "stream",
     "text": [
      "First 5 rows %s\n",
      "\n",
      "      PipeId MaintenanceId  InspectionYear InspectionDate  MonthsLastRev  \\\n",
      "0  189311802  ZRV-00001972            2010     2010-10-01             24   \n",
      "1  188889914  ZRV-00001406            2010     2010-10-01             22   \n",
      "\n",
      "   Severity  Incidence  \n",
      "0         4          0  \n",
      "1         4          0  \n",
      "=====================================\n",
      "Dataframe shape %s\n",
      "\n",
      "(6345344, 7)\n",
      "=====================================\n",
      "Dataframe describe categorical %s\n",
      "\n",
      "       MaintenanceId InspectionDate\n",
      "count        6345344        6345344\n",
      "unique          4179           3565\n",
      "top     ZRV-00002121     2014-05-05\n",
      "freq           21773           5832\n",
      "=====================================\n",
      "Dataframe null values %s\n",
      "\n",
      "PipeId            0\n",
      "MaintenanceId     0\n",
      "InspectionYear    0\n",
      "InspectionDate    0\n",
      "MonthsLastRev     0\n",
      "Severity          0\n",
      "Incidence         0\n",
      "dtype: int64\n",
      "=====================================\n",
      "Dataframe value counts %s\n",
      "\n",
      "PipeId     MaintenanceId  InspectionYear  InspectionDate  MonthsLastRev  Severity  Incidence\n",
      "489616     ZRV-00003385   2013            2013-05-08      16             4         0            1\n",
      "256852211  ZRV-00002129   2016            2016-10-10      24             4         0            1\n",
      "256831542  ZRV-00004585   2018            2018-07-23      24             4         0            1\n",
      "                          2016            2016-07-14      24             4         0            1\n",
      "                          2014            2014-07-10      24             4         0            1\n",
      "                                                                                               ..\n",
      "188595687  ZRV-00003626   2018            2018-02-15      24             4         0            1\n",
      "                          2016            2016-02-17      24             4         0            1\n",
      "                          2014            2014-02-12      24             4         0            1\n",
      "                          2012            2012-02-20      24             4         0            1\n",
      "451995309  ZRV-00001573   2019            2019-10-26      24             4         0            1\n",
      "Length: 6345344, dtype: int64\n",
      "=====================================\n"
     ]
    }
   ],
   "source": [
    "quick_check(df_inspection)\n"
   ]
  },
  {
   "attachments": {},
   "cell_type": "markdown",
   "id": "942a7459",
   "metadata": {},
   "source": [
    "The function shows we have 6345344 rows for the inspections, among each 4179 appear to be unique and the most repeated one is ZRV-00002121 on 2014-05-05\n"
   ]
  },
  {
   "cell_type": "code",
   "execution_count": 338,
   "id": "464a7b5e",
   "metadata": {},
   "outputs": [
    {
     "data": {
      "text/html": [
       "<div>\n",
       "<style scoped>\n",
       "    .dataframe tbody tr th:only-of-type {\n",
       "        vertical-align: middle;\n",
       "    }\n",
       "\n",
       "    .dataframe tbody tr th {\n",
       "        vertical-align: top;\n",
       "    }\n",
       "\n",
       "    .dataframe thead th {\n",
       "        text-align: right;\n",
       "    }\n",
       "</style>\n",
       "<table border=\"1\" class=\"dataframe\">\n",
       "  <thead>\n",
       "    <tr style=\"text-align: right;\">\n",
       "      <th></th>\n",
       "      <th>PipeId</th>\n",
       "      <th>MaintenanceId</th>\n",
       "      <th>InspectionYear</th>\n",
       "      <th>InspectionDate</th>\n",
       "      <th>MonthsLastRev</th>\n",
       "      <th>Severity</th>\n",
       "      <th>Incidence</th>\n",
       "    </tr>\n",
       "  </thead>\n",
       "  <tbody>\n",
       "    <tr>\n",
       "      <th>622563</th>\n",
       "      <td>188821075</td>\n",
       "      <td>ZRV-00002121</td>\n",
       "      <td>2012</td>\n",
       "      <td>2011-12-28</td>\n",
       "      <td>24</td>\n",
       "      <td>4</td>\n",
       "      <td>0</td>\n",
       "    </tr>\n",
       "    <tr>\n",
       "      <th>622571</th>\n",
       "      <td>191340447</td>\n",
       "      <td>ZRV-00002121</td>\n",
       "      <td>2012</td>\n",
       "      <td>2011-12-28</td>\n",
       "      <td>24</td>\n",
       "      <td>4</td>\n",
       "      <td>0</td>\n",
       "    </tr>\n",
       "    <tr>\n",
       "      <th>622572</th>\n",
       "      <td>191340427</td>\n",
       "      <td>ZRV-00002121</td>\n",
       "      <td>2012</td>\n",
       "      <td>2011-12-28</td>\n",
       "      <td>24</td>\n",
       "      <td>4</td>\n",
       "      <td>0</td>\n",
       "    </tr>\n",
       "    <tr>\n",
       "      <th>622574</th>\n",
       "      <td>191340421</td>\n",
       "      <td>ZRV-00002121</td>\n",
       "      <td>2012</td>\n",
       "      <td>2011-12-28</td>\n",
       "      <td>24</td>\n",
       "      <td>4</td>\n",
       "      <td>0</td>\n",
       "    </tr>\n",
       "    <tr>\n",
       "      <th>622575</th>\n",
       "      <td>188802580</td>\n",
       "      <td>ZRV-00002121</td>\n",
       "      <td>2012</td>\n",
       "      <td>2011-12-28</td>\n",
       "      <td>24</td>\n",
       "      <td>4</td>\n",
       "      <td>0</td>\n",
       "    </tr>\n",
       "    <tr>\n",
       "      <th>...</th>\n",
       "      <td>...</td>\n",
       "      <td>...</td>\n",
       "      <td>...</td>\n",
       "      <td>...</td>\n",
       "      <td>...</td>\n",
       "      <td>...</td>\n",
       "      <td>...</td>\n",
       "    </tr>\n",
       "    <tr>\n",
       "      <th>5737006</th>\n",
       "      <td>450197378</td>\n",
       "      <td>ZRV-00002121</td>\n",
       "      <td>2020</td>\n",
       "      <td>2020-01-29</td>\n",
       "      <td>24</td>\n",
       "      <td>4</td>\n",
       "      <td>0</td>\n",
       "    </tr>\n",
       "    <tr>\n",
       "      <th>5737013</th>\n",
       "      <td>358229516</td>\n",
       "      <td>ZRV-00002121</td>\n",
       "      <td>2020</td>\n",
       "      <td>2020-01-29</td>\n",
       "      <td>24</td>\n",
       "      <td>4</td>\n",
       "      <td>0</td>\n",
       "    </tr>\n",
       "    <tr>\n",
       "      <th>5737179</th>\n",
       "      <td>351671916</td>\n",
       "      <td>ZRV-00002121</td>\n",
       "      <td>2020</td>\n",
       "      <td>2020-01-29</td>\n",
       "      <td>24</td>\n",
       "      <td>4</td>\n",
       "      <td>0</td>\n",
       "    </tr>\n",
       "    <tr>\n",
       "      <th>5737289</th>\n",
       "      <td>351671518</td>\n",
       "      <td>ZRV-00002121</td>\n",
       "      <td>2020</td>\n",
       "      <td>2020-01-29</td>\n",
       "      <td>24</td>\n",
       "      <td>4</td>\n",
       "      <td>0</td>\n",
       "    </tr>\n",
       "    <tr>\n",
       "      <th>5737290</th>\n",
       "      <td>191365725</td>\n",
       "      <td>ZRV-00002121</td>\n",
       "      <td>2020</td>\n",
       "      <td>2020-01-29</td>\n",
       "      <td>24</td>\n",
       "      <td>4</td>\n",
       "      <td>0</td>\n",
       "    </tr>\n",
       "  </tbody>\n",
       "</table>\n",
       "<p>21773 rows × 7 columns</p>\n",
       "</div>"
      ],
      "text/plain": [
       "            PipeId MaintenanceId  InspectionYear InspectionDate  \\\n",
       "622563   188821075  ZRV-00002121            2012     2011-12-28   \n",
       "622571   191340447  ZRV-00002121            2012     2011-12-28   \n",
       "622572   191340427  ZRV-00002121            2012     2011-12-28   \n",
       "622574   191340421  ZRV-00002121            2012     2011-12-28   \n",
       "622575   188802580  ZRV-00002121            2012     2011-12-28   \n",
       "...            ...           ...             ...            ...   \n",
       "5737006  450197378  ZRV-00002121            2020     2020-01-29   \n",
       "5737013  358229516  ZRV-00002121            2020     2020-01-29   \n",
       "5737179  351671916  ZRV-00002121            2020     2020-01-29   \n",
       "5737289  351671518  ZRV-00002121            2020     2020-01-29   \n",
       "5737290  191365725  ZRV-00002121            2020     2020-01-29   \n",
       "\n",
       "         MonthsLastRev  Severity  Incidence  \n",
       "622563              24         4          0  \n",
       "622571              24         4          0  \n",
       "622572              24         4          0  \n",
       "622574              24         4          0  \n",
       "622575              24         4          0  \n",
       "...                ...       ...        ...  \n",
       "5737006             24         4          0  \n",
       "5737013             24         4          0  \n",
       "5737179             24         4          0  \n",
       "5737289             24         4          0  \n",
       "5737290             24         4          0  \n",
       "\n",
       "[21773 rows x 7 columns]"
      ]
     },
     "execution_count": 338,
     "metadata": {},
     "output_type": "execute_result"
    }
   ],
   "source": [
    "#searching for MaintenanceId ZRV-00002121 in df_inspection\n",
    "df_inspection[df_inspection['MaintenanceId'] == 'ZRV-00002121']"
   ]
  },
  {
   "cell_type": "code",
   "execution_count": 339,
   "id": "7eaf2859",
   "metadata": {},
   "outputs": [
    {
     "data": {
      "text/plain": [
       "(21773, 7)"
      ]
     },
     "execution_count": 339,
     "metadata": {},
     "output_type": "execute_result"
    }
   ],
   "source": [
    "df_inspection[df_inspection['MaintenanceId'] == 'ZRV-00002121'].shape"
   ]
  },
  {
   "cell_type": "code",
   "execution_count": 340,
   "id": "8e03011f",
   "metadata": {},
   "outputs": [
    {
     "data": {
      "text/plain": [
       "<AxesSubplot:xlabel='InspectionYear'>"
      ]
     },
     "execution_count": 340,
     "metadata": {},
     "output_type": "execute_result"
    },
    {
     "data": {
      "image/png": "[encoded data removed]",
      "text/plain": [
       "<Figure size 800x550 with 1 Axes>"
      ]
     },
     "metadata": {},
     "output_type": "display_data"
    }
   ],
   "source": [
    "#plotting the distribution of MaintenanceId accross the years for ZRV-00002121 in df_inspection\n",
    "df_inspection[df_inspection['MaintenanceId'] == 'ZRV-00002121'].groupby('InspectionYear')['MaintenanceId'].count().plot(kind='bar')"
   ]
  },
  {
   "cell_type": "code",
   "execution_count": 341,
   "id": "3b3ea9a3",
   "metadata": {},
   "outputs": [
    {
     "data": {
      "text/plain": [
       "<AxesSubplot:xlabel='InspectionYear'>"
      ]
     },
     "execution_count": 341,
     "metadata": {},
     "output_type": "execute_result"
    },
    {
     "data": {
      "image/png": "[encoded data removed]",
      "text/plain": [
       "<Figure size 800x550 with 1 Axes>"
      ]
     },
     "metadata": {},
     "output_type": "display_data"
    }
   ],
   "source": [
    "#plotting the distribution of MaintenanceId accross the years\n",
    "df_inspection.groupby('InspectionYear')['MaintenanceId'].count().plot(kind='bar')"
   ]
  },
  {
   "attachments": {},
   "cell_type": "markdown",
   "id": "ef7fc912",
   "metadata": {},
   "source": [
    "Seems like not so many inspections were carried in 2010, we shall decide on whether to keep this dimension or not"
   ]
  },
  {
   "cell_type": "code",
   "execution_count": 342,
   "id": "cd3176eb",
   "metadata": {},
   "outputs": [
    {
     "name": "stdout",
     "output_type": "stream",
     "text": [
      "Dataframe correlation %s\n",
      "\n",
      "                PipeId  InspectionYear  MonthsLastRev  Severity  Incidence\n",
      "PipeId            1.00           -0.12           0.05      0.02      -0.02\n",
      "InspectionYear   -0.12            1.00           0.12      0.00      -0.00\n",
      "MonthsLastRev     0.05            0.12           1.00      0.01      -0.01\n",
      "Severity          0.02            0.00           0.01      1.00      -0.90\n",
      "Incidence        -0.02           -0.00          -0.01     -0.90       1.00\n",
      "=====================================\n",
      "Dataframe covariance %s\n",
      "\n",
      "                             PipeId  InspectionYear  MonthsLastRev  Severity  \\\n",
      "PipeId         12943583115885750.00    -40999914.58    27545538.86 129283.54   \n",
      "InspectionYear         -40999914.58            8.46           1.70      0.00   \n",
      "MonthsLastRev           27545538.86            1.70          24.62      0.00   \n",
      "Severity                  129283.54            0.00           0.00      0.00   \n",
      "Incidence                -107454.24           -0.00          -0.00     -0.00   \n",
      "\n",
      "                Incidence  \n",
      "PipeId         -107454.24  \n",
      "InspectionYear      -0.00  \n",
      "MonthsLastRev       -0.00  \n",
      "Severity            -0.00  \n",
      "Incidence            0.00  \n",
      "=====================================\n",
      "Dataframe skew %s\n",
      "\n",
      "PipeId            -0.07\n",
      "InspectionYear    -0.10\n",
      "MonthsLastRev      3.68\n",
      "Severity         -31.01\n",
      "Incidence         22.62\n",
      "dtype: float64\n",
      "=====================================\n",
      "Dataframe kurtosis %s\n",
      "\n",
      "PipeId             -0.72\n",
      "InspectionYear     -1.18\n",
      "MonthsLastRev      41.37\n",
      "Severity         1131.62\n",
      "Incidence         509.71\n",
      "dtype: float64\n",
      "=====================================\n"
     ]
    }
   ],
   "source": [
    "stats(df_inspection)"
   ]
  },
  {
   "attachments": {},
   "cell_type": "markdown",
   "id": "abd572cb",
   "metadata": {},
   "source": [
    " A positive kurtosis in a dataset implies that the data is more heavily concentrated around the mean than a normal distribution. This means that there are more outliers in the dataset and that the tails of the distribution are longer and fatter than a normal distribution. Months last revision is to be examined on this basis"
   ]
  },
  {
   "cell_type": "code",
   "execution_count": 343,
   "id": "33f2730b",
   "metadata": {},
   "outputs": [
    {
     "data": {
      "text/plain": [
       "<AxesSubplot:>"
      ]
     },
     "execution_count": 343,
     "metadata": {},
     "output_type": "execute_result"
    },
    {
     "data": {
      "image/png": "[encoded data removed]",
      "text/plain": [
       "<Figure size 800x550 with 1 Axes>"
      ]
     },
     "metadata": {},
     "output_type": "display_data"
    }
   ],
   "source": [
    "#plot histogram with many bins of MonthsLastRev in  df_inspection\n",
    "df_inspection['MonthsLastRev'].hist(bins=100)"
   ]
  },
  {
   "attachments": {},
   "cell_type": "markdown",
   "id": "b4a3aca2",
   "metadata": {},
   "source": [
    "The shape of the histogram reveals the most frequent inspections take place every 2 years or 24 months with some outliers hence affecting the normal distribution"
   ]
  },
  {
   "cell_type": "code",
   "execution_count": 344,
   "id": "01f603d3",
   "metadata": {},
   "outputs": [
    {
     "data": {
      "text/plain": [
       "<AxesSubplot:xlabel='PipeId', ylabel='MonthsLastRev'>"
      ]
     },
     "execution_count": 344,
     "metadata": {},
     "output_type": "execute_result"
    },
    {
     "data": {
      "image/png": "[encoded data removed]",
      "text/plain": [
       "<Figure size 800x550 with 1 Axes>"
      ]
     },
     "metadata": {},
     "output_type": "display_data"
    }
   ],
   "source": [
    "#plot violin plot of PipeId with Severity=1 in df_inspection\n",
    "sns.violinplot(x='PipeId', y='MonthsLastRev', data=df_inspection[df_inspection['Severity'] == 1])"
   ]
  },
  {
   "attachments": {},
   "cell_type": "markdown",
   "id": "09db2f99",
   "metadata": {},
   "source": [
    "#to work out better in final EDA"
   ]
  },
  {
   "cell_type": "code",
   "execution_count": 345,
   "id": "0b086ba4",
   "metadata": {},
   "outputs": [
    {
     "name": "stdout",
     "output_type": "stream",
     "text": [
      "First 5 rows %s\n",
      "\n",
      "   PipeId     Province                   Town  YearBuilt Material  \\\n",
      "0  489616  Ciudad Real  Torralba de Calatrava       2012       PE   \n",
      "1  489645  Ciudad Real  Torralba de Calatrava       2012       PE   \n",
      "\n",
      "       GasType  Diameter  Length  Pressure  NumConnections  \\\n",
      "0  Gas natural     63.00    7.79      0.40               0   \n",
      "1  Gas natural     90.00    2.08      0.40               0   \n",
      "\n",
      "   NumConnectionsUnder  BoolBridle  \n",
      "0                    0       False  \n",
      "1                    0       False  \n",
      "=====================================\n",
      "Dataframe shape %s\n",
      "\n",
      "(1446539, 12)\n",
      "=====================================\n",
      "Dataframe describe categorical %s\n",
      "\n",
      "         Province     Town Material      GasType\n",
      "count     1446539  1446539  1446539      1446539\n",
      "unique         38     1972       11            2\n",
      "top     Barcelona   Madrid       PE  Gas natural\n",
      "freq       389307    76666  1242845      1388397\n",
      "=====================================\n",
      "Dataframe null values %s\n",
      "\n",
      "PipeId                 0\n",
      "Province               0\n",
      "Town                   0\n",
      "YearBuilt              0\n",
      "Material               0\n",
      "GasType                0\n",
      "Diameter               0\n",
      "Length                 0\n",
      "Pressure               0\n",
      "NumConnections         0\n",
      "NumConnectionsUnder    0\n",
      "BoolBridle             0\n",
      "dtype: int64\n",
      "=====================================\n",
      "Dataframe value counts %s\n",
      "\n",
      "PipeId     Province     Town                   YearBuilt  Material  GasType      Diameter  Length  Pressure  NumConnections  NumConnectionsUnder  BoolBridle\n",
      "489616     Ciudad Real  Torralba de Calatrava  2012       PE        Gas natural  63.00     7.79    0.40      0               0                    False         1\n",
      "229894572  León         Valencia de Don Juan   2004       PE        Gas natural  110.00    10.63   0.15      0               0                    False         1\n",
      "229912516  León         Ponferrada             2004       PE        Gas natural  63.00     8.52    4.00      0               0                    False         1\n",
      "229912137  León         Ponferrada             2004       PE        Gas natural  63.00     8.01    4.00      0               0                    False         1\n",
      "229912078  León         Ponferrada             2004       PE        Gas natural  63.00     2.02    4.00      0               0                    False         1\n",
      "                                                                                                                                                               ..\n",
      "133749590  Lugo         Lugo                   2003       PE        Gas natural  110.00    0.87    0.15      0               0                    False         1\n",
      "133749584  Lugo         Lugo                   2003       PE        Gas natural  110.00    5.71    0.15      0               0                    False         1\n",
      "133749577  Lugo         Lugo                   2003       PE        Gas natural  110.00    93.39   0.15      2               0                    False         1\n",
      "133749571  Lugo         Lugo                   2003       PE        Gas natural  160.00    6.57    0.15      0               0                    False         1\n",
      "451995309  Lleida       Almacelles             1998       PE        Gas natural  200.00    92.22   0.15      0               0                    False         1\n",
      "Length: 1446539, dtype: int64\n",
      "=====================================\n"
     ]
    }
   ],
   "source": [
    "quick_check(df_network)"
   ]
  },
  {
   "attachments": {},
   "cell_type": "markdown",
   "id": "cb9707f2",
   "metadata": {},
   "source": [
    "In the network file we find 1446539 rows corresponding to all pipes, this is the master file for pipes.\n",
    "We find the most frequent Town is Madrid but the most frequent province is Barcelona. \n",
    "There are a total of 1972 Spanish towns in this dataset and 38 provinces\n",
    "We are missing the Basque Country, Ceuta, Melilla, the Canary Islands and Balearic Islands.\n",
    "\n"
   ]
  },
  {
   "cell_type": "code",
   "execution_count": 346,
   "id": "6f1086cd",
   "metadata": {},
   "outputs": [
    {
     "data": {
      "text/plain": [
       "<AxesSubplot:xlabel='Town'>"
      ]
     },
     "execution_count": 346,
     "metadata": {},
     "output_type": "execute_result"
    },
    {
     "data": {
      "image/png": "[encoded data removed]",
      "text/plain": [
       "<Figure size 800x550 with 1 Axes>"
      ]
     },
     "metadata": {},
     "output_type": "display_data"
    }
   ],
   "source": [
    "#plot a bar plot with the number of pipes per Town focusing in Madrid and Barcelona  in df_network\n",
    "df_network.groupby('Town')['PipeId'].count().sort_values(ascending=False).head(10).plot(kind='bar')"
   ]
  },
  {
   "cell_type": "code",
   "execution_count": 347,
   "id": "68359ea8",
   "metadata": {},
   "outputs": [
    {
     "data": {
      "text/plain": [
       "<AxesSubplot:ylabel='PipeId'>"
      ]
     },
     "execution_count": 347,
     "metadata": {},
     "output_type": "execute_result"
    },
    {
     "data": {
      "image/png": "[encoded data removed]",
      "text/plain": [
       "<Figure size 800x550 with 1 Axes>"
      ]
     },
     "metadata": {},
     "output_type": "display_data"
    }
   ],
   "source": [
    "#plot a pie chart with the number of pipes per Province in df_network \n",
    "df_network.groupby('Province')['PipeId'].count().sort_values(ascending=False).plot(kind='pie')\n"
   ]
  },
  {
   "cell_type": "code",
   "execution_count": 348,
   "id": "574aa92f",
   "metadata": {},
   "outputs": [
    {
     "name": "stdout",
     "output_type": "stream",
     "text": [
      "Dataframe correlation %s\n",
      "\n",
      "                     PipeId  YearBuilt  Diameter  Length  Pressure  \\\n",
      "PipeId                 1.00      -0.05      0.13   -0.01      0.04   \n",
      "YearBuilt             -0.05       1.00     -0.16    0.03      0.05   \n",
      "Diameter               0.13      -0.16      1.00    0.07      0.19   \n",
      "Length                -0.01       0.03      0.07    1.00      0.11   \n",
      "Pressure               0.04       0.05      0.19    0.11      1.00   \n",
      "NumConnections        -0.05      -0.03     -0.11    0.31     -0.10   \n",
      "NumConnectionsUnder   -0.01       0.01     -0.01    0.02     -0.00   \n",
      "BoolBridle            -0.09      -0.18      0.09   -0.02     -0.07   \n",
      "\n",
      "                     NumConnections  NumConnectionsUnder  BoolBridle  \n",
      "PipeId                        -0.05                -0.01       -0.09  \n",
      "YearBuilt                     -0.03                 0.01       -0.18  \n",
      "Diameter                      -0.11                -0.01        0.09  \n",
      "Length                         0.31                 0.02       -0.02  \n",
      "Pressure                      -0.10                -0.00       -0.07  \n",
      "NumConnections                 1.00                 0.02       -0.01  \n",
      "NumConnectionsUnder            0.02                 1.00        0.01  \n",
      "BoolBridle                    -0.01                 0.01        1.00  \n",
      "=====================================\n",
      "Dataframe covariance %s\n",
      "\n",
      "                                  PipeId    YearBuilt     Diameter  \\\n",
      "PipeId              14530921150027338.00 -77216786.03 934255446.23   \n",
      "YearBuilt                   -77216786.03       146.73      -108.96   \n",
      "Diameter                    934255446.23      -108.96      3349.02   \n",
      "Length                     -123925700.01        27.34       336.20   \n",
      "Pressure                     37295946.35         3.98        77.34   \n",
      "NumConnections              -11730124.19        -0.75       -14.10   \n",
      "NumConnectionsUnder            -27840.50         0.00        -0.01   \n",
      "BoolBridle                   -2791441.94        -0.54         1.31   \n",
      "\n",
      "                           Length    Pressure  NumConnections  \\\n",
      "PipeId              -123925700.01 37295946.35    -11730124.19   \n",
      "YearBuilt                   27.34        3.98           -0.75   \n",
      "Diameter                   336.20       77.34          -14.10   \n",
      "Length                    6170.72       57.18           52.28   \n",
      "Pressure                    57.18       47.42           -1.53   \n",
      "NumConnections              52.28       -1.53            4.67   \n",
      "NumConnectionsUnder          0.03       -0.00            0.00   \n",
      "BoolBridle                  -0.44       -0.12           -0.00   \n",
      "\n",
      "                     NumConnectionsUnder  BoolBridle  \n",
      "PipeId                         -27840.50 -2791441.94  \n",
      "YearBuilt                           0.00       -0.54  \n",
      "Diameter                           -0.01        1.31  \n",
      "Length                              0.03       -0.44  \n",
      "Pressure                           -0.00       -0.12  \n",
      "NumConnections                      0.00       -0.00  \n",
      "NumConnectionsUnder                 0.00        0.00  \n",
      "BoolBridle                          0.00        0.06  \n",
      "=====================================\n",
      "Dataframe skew %s\n",
      "\n",
      "PipeId                 0.10\n",
      "YearBuilt             -3.38\n",
      "Diameter               1.51\n",
      "Length                59.72\n",
      "Pressure               5.68\n",
      "NumConnections         5.52\n",
      "NumConnectionsUnder   67.03\n",
      "BoolBridle             3.39\n",
      "dtype: float64\n",
      "=====================================\n",
      "Dataframe kurtosis %s\n",
      "\n",
      "PipeId                   -0.95\n",
      "YearBuilt                22.11\n",
      "Diameter                  4.41\n",
      "Length                17001.24\n",
      "Pressure                 42.02\n",
      "NumConnections           56.93\n",
      "NumConnectionsUnder    5688.23\n",
      "BoolBridle                9.52\n",
      "dtype: float64\n",
      "=====================================\n"
     ]
    }
   ],
   "source": [
    "stats(df_network)"
   ]
  },
  {
   "cell_type": "code",
   "execution_count": 349,
   "id": "5d538de3",
   "metadata": {},
   "outputs": [],
   "source": [
    "#join Inspection and network datasets on PipeId to create our TRAIN dataset\n",
    "train = pd.merge(df_inspection, df_network, on='PipeId', how='right')"
   ]
  },
  {
   "cell_type": "code",
   "execution_count": 350,
   "id": "1c3126f8",
   "metadata": {},
   "outputs": [
    {
     "data": {
      "text/plain": [
       "(6364029, 18)"
      ]
     },
     "execution_count": 350,
     "metadata": {},
     "output_type": "execute_result"
    }
   ],
   "source": [
    "train.shape"
   ]
  },
  {
   "cell_type": "code",
   "execution_count": 351,
   "id": "67c34bf4",
   "metadata": {},
   "outputs": [
    {
     "data": {
      "text/plain": [
       "(6345344, 7)"
      ]
     },
     "execution_count": 351,
     "metadata": {},
     "output_type": "execute_result"
    }
   ],
   "source": [
    "df_inspection.shape"
   ]
  },
  {
   "attachments": {},
   "cell_type": "markdown",
   "id": "abaa644f",
   "metadata": {},
   "source": [
    "JF: There are 18K null values that do not have information in the df_network so our TRAIN data set is now bigger and we will need to deal with the nulls further down."
   ]
  },
  {
   "cell_type": "code",
   "execution_count": 352,
   "id": "d1d89960",
   "metadata": {},
   "outputs": [
    {
     "data": {
      "text/plain": [
       "PipeId                     0\n",
       "MaintenanceId          18685\n",
       "InspectionYear         18685\n",
       "InspectionDate         18685\n",
       "MonthsLastRev          18685\n",
       "Severity               18685\n",
       "Incidence              18685\n",
       "Province                   0\n",
       "Town                       0\n",
       "YearBuilt                  0\n",
       "Material                   0\n",
       "GasType                    0\n",
       "Diameter                   0\n",
       "Length                     0\n",
       "Pressure                   0\n",
       "NumConnections             0\n",
       "NumConnectionsUnder        0\n",
       "BoolBridle                 0\n",
       "dtype: int64"
      ]
     },
     "execution_count": 352,
     "metadata": {},
     "output_type": "execute_result"
    }
   ],
   "source": [
    "#count null values in train dataset\n",
    "train.isnull().sum()\n"
   ]
  },
  {
   "cell_type": "markdown",
   "id": "9c8bcc55",
   "metadata": {},
   "source": [
    "#point to the folder where the data is stored for Pedro\n",
    "os.chdir(r\"C:\\Users\\pedro\\datathon\\Datathon-Rules-and-Documentation\")\n",
    "\n",
    "# Loading inspection data\n",
    "df_sample = pd.read_csv('sample_submission.csv')"
   ]
  },
  {
   "cell_type": "code",
   "execution_count": 353,
   "id": "0af43c88",
   "metadata": {},
   "outputs": [],
   "source": [
    "#point to the folder where the data is stored for Juan\n",
    "os.chdir(r\"C:\\Users\\JuanHorrillo\\OneDrive - IE Students\\Documents\\Masters\\Sustainability\\Notebook\")\n",
    "\n",
    "# Loading inspection data\n",
    "df_sample = pd.read_csv('sample_submission.csv')"
   ]
  },
  {
   "cell_type": "code",
   "execution_count": 354,
   "id": "c8b001d9",
   "metadata": {},
   "outputs": [
    {
     "data": {
      "text/plain": [
       "(909733, 2)"
      ]
     },
     "execution_count": 354,
     "metadata": {},
     "output_type": "execute_result"
    }
   ],
   "source": [
    "df_sample.shape"
   ]
  },
  {
   "cell_type": "code",
   "execution_count": 355,
   "id": "54fe4d65",
   "metadata": {},
   "outputs": [
    {
     "data": {
      "text/html": [
       "<div>\n",
       "<style scoped>\n",
       "    .dataframe tbody tr th:only-of-type {\n",
       "        vertical-align: middle;\n",
       "    }\n",
       "\n",
       "    .dataframe tbody tr th {\n",
       "        vertical-align: top;\n",
       "    }\n",
       "\n",
       "    .dataframe thead th {\n",
       "        text-align: right;\n",
       "    }\n",
       "</style>\n",
       "<table border=\"1\" class=\"dataframe\">\n",
       "  <thead>\n",
       "    <tr style=\"text-align: right;\">\n",
       "      <th></th>\n",
       "      <th>PipeId</th>\n",
       "      <th>Incidence</th>\n",
       "    </tr>\n",
       "  </thead>\n",
       "  <tbody>\n",
       "    <tr>\n",
       "      <th>0</th>\n",
       "      <td>446859944</td>\n",
       "      <td>0</td>\n",
       "    </tr>\n",
       "    <tr>\n",
       "      <th>1</th>\n",
       "      <td>428124500</td>\n",
       "      <td>0</td>\n",
       "    </tr>\n",
       "    <tr>\n",
       "      <th>2</th>\n",
       "      <td>438428871</td>\n",
       "      <td>0</td>\n",
       "    </tr>\n",
       "    <tr>\n",
       "      <th>3</th>\n",
       "      <td>429034569</td>\n",
       "      <td>0</td>\n",
       "    </tr>\n",
       "    <tr>\n",
       "      <th>4</th>\n",
       "      <td>411184477</td>\n",
       "      <td>0</td>\n",
       "    </tr>\n",
       "  </tbody>\n",
       "</table>\n",
       "</div>"
      ],
      "text/plain": [
       "      PipeId  Incidence\n",
       "0  446859944          0\n",
       "1  428124500          0\n",
       "2  438428871          0\n",
       "3  429034569          0\n",
       "4  411184477          0"
      ]
     },
     "execution_count": 355,
     "metadata": {},
     "output_type": "execute_result"
    }
   ],
   "source": [
    "df_sample.head()"
   ]
  },
  {
   "cell_type": "code",
   "execution_count": 356,
   "id": "fecdc058",
   "metadata": {},
   "outputs": [
    {
     "data": {
      "text/plain": [
       "0    907964\n",
       "1      1769\n",
       "Name: Incidence, dtype: int64"
      ]
     },
     "execution_count": 356,
     "metadata": {},
     "output_type": "execute_result"
    }
   ],
   "source": [
    "#count the Incidence values in test dataset\n",
    "df_sample['Incidence'].value_counts()\n",
    "\n"
   ]
  },
  {
   "attachments": {},
   "cell_type": "markdown",
   "id": "4966fd39",
   "metadata": {},
   "source": [
    "Test data set is also unbalanced "
   ]
  },
  {
   "attachments": {},
   "cell_type": "markdown",
   "id": "28b2abff",
   "metadata": {},
   "source": [
    "Creating the TEST df which will be used to test our model.  Thisis made of the sample submission with the columns from the network"
   ]
  },
  {
   "cell_type": "code",
   "execution_count": 357,
   "id": "9a34384f",
   "metadata": {},
   "outputs": [
    {
     "data": {
      "text/plain": [
       "True"
      ]
     },
     "execution_count": 357,
     "metadata": {},
     "output_type": "execute_result"
    }
   ],
   "source": [
    "#create a dataframe with the unique PipeId from df_sample and a dataframe with the PipeId from df_network \n",
    "sample_unique = df_sample['PipeId'].unique()\n",
    "network_unique = df_network['PipeId'].unique()\n",
    "#check if all the values in sample_unique are in network_unique\n",
    "np.all(np.isin(sample_unique, network_unique))"
   ]
  },
  {
   "cell_type": "markdown",
   "id": "ae915d97",
   "metadata": {},
   "source": [
    "JF: All the PipeId on the df_sample have a PipeId on the network"
   ]
  },
  {
   "cell_type": "markdown",
   "id": "0b328379",
   "metadata": {},
   "source": []
  },
  {
   "cell_type": "code",
   "execution_count": 358,
   "id": "ee6a1089",
   "metadata": {},
   "outputs": [],
   "source": [
    "#join both datasets on PipeId\n",
    "test = pd.merge(df_network , df_sample, on='PipeId', how='right')"
   ]
  },
  {
   "cell_type": "code",
   "execution_count": 359,
   "id": "bf550849",
   "metadata": {},
   "outputs": [
    {
     "data": {
      "text/plain": [
       "(909733, 13)"
      ]
     },
     "execution_count": 359,
     "metadata": {},
     "output_type": "execute_result"
    }
   ],
   "source": [
    "test.shape"
   ]
  },
  {
   "cell_type": "code",
   "execution_count": 360,
   "id": "c1f803e7",
   "metadata": {},
   "outputs": [
    {
     "data": {
      "text/html": [
       "<div>\n",
       "<style scoped>\n",
       "    .dataframe tbody tr th:only-of-type {\n",
       "        vertical-align: middle;\n",
       "    }\n",
       "\n",
       "    .dataframe tbody tr th {\n",
       "        vertical-align: top;\n",
       "    }\n",
       "\n",
       "    .dataframe thead th {\n",
       "        text-align: right;\n",
       "    }\n",
       "</style>\n",
       "<table border=\"1\" class=\"dataframe\">\n",
       "  <thead>\n",
       "    <tr style=\"text-align: right;\">\n",
       "      <th></th>\n",
       "      <th>PipeId</th>\n",
       "      <th>Province</th>\n",
       "      <th>Town</th>\n",
       "      <th>YearBuilt</th>\n",
       "      <th>Material</th>\n",
       "      <th>GasType</th>\n",
       "      <th>Diameter</th>\n",
       "      <th>Length</th>\n",
       "      <th>Pressure</th>\n",
       "      <th>NumConnections</th>\n",
       "      <th>NumConnectionsUnder</th>\n",
       "      <th>BoolBridle</th>\n",
       "      <th>Incidence</th>\n",
       "    </tr>\n",
       "  </thead>\n",
       "  <tbody>\n",
       "    <tr>\n",
       "      <th>0</th>\n",
       "      <td>446859944</td>\n",
       "      <td>Valencia</td>\n",
       "      <td>Alginet</td>\n",
       "      <td>2012</td>\n",
       "      <td>PE</td>\n",
       "      <td>Gas natural</td>\n",
       "      <td>110.00</td>\n",
       "      <td>44.29</td>\n",
       "      <td>0.15</td>\n",
       "      <td>0</td>\n",
       "      <td>0</td>\n",
       "      <td>False</td>\n",
       "      <td>0</td>\n",
       "    </tr>\n",
       "    <tr>\n",
       "      <th>1</th>\n",
       "      <td>428124500</td>\n",
       "      <td>Valencia</td>\n",
       "      <td>Alginet</td>\n",
       "      <td>2012</td>\n",
       "      <td>PE</td>\n",
       "      <td>Gas natural</td>\n",
       "      <td>160.00</td>\n",
       "      <td>110.72</td>\n",
       "      <td>0.15</td>\n",
       "      <td>2</td>\n",
       "      <td>0</td>\n",
       "      <td>False</td>\n",
       "      <td>0</td>\n",
       "    </tr>\n",
       "  </tbody>\n",
       "</table>\n",
       "</div>"
      ],
      "text/plain": [
       "      PipeId  Province     Town  YearBuilt Material      GasType  Diameter  \\\n",
       "0  446859944  Valencia  Alginet       2012       PE  Gas natural    110.00   \n",
       "1  428124500  Valencia  Alginet       2012       PE  Gas natural    160.00   \n",
       "\n",
       "   Length  Pressure  NumConnections  NumConnectionsUnder  BoolBridle  \\\n",
       "0   44.29      0.15               0                    0       False   \n",
       "1  110.72      0.15               2                    0       False   \n",
       "\n",
       "   Incidence  \n",
       "0          0  \n",
       "1          0  "
      ]
     },
     "execution_count": 360,
     "metadata": {},
     "output_type": "execute_result"
    }
   ],
   "source": [
    "test.head(2)"
   ]
  },
  {
   "cell_type": "code",
   "execution_count": 361,
   "id": "e3b15fb4",
   "metadata": {},
   "outputs": [
    {
     "data": {
      "text/html": [
       "<div>\n",
       "<style scoped>\n",
       "    .dataframe tbody tr th:only-of-type {\n",
       "        vertical-align: middle;\n",
       "    }\n",
       "\n",
       "    .dataframe tbody tr th {\n",
       "        vertical-align: top;\n",
       "    }\n",
       "\n",
       "    .dataframe thead th {\n",
       "        text-align: right;\n",
       "    }\n",
       "</style>\n",
       "<table border=\"1\" class=\"dataframe\">\n",
       "  <thead>\n",
       "    <tr style=\"text-align: right;\">\n",
       "      <th></th>\n",
       "      <th>PipeId</th>\n",
       "      <th>Incidence</th>\n",
       "    </tr>\n",
       "  </thead>\n",
       "  <tbody>\n",
       "    <tr>\n",
       "      <th>0</th>\n",
       "      <td>446859944</td>\n",
       "      <td>0</td>\n",
       "    </tr>\n",
       "    <tr>\n",
       "      <th>1</th>\n",
       "      <td>428124500</td>\n",
       "      <td>0</td>\n",
       "    </tr>\n",
       "    <tr>\n",
       "      <th>2</th>\n",
       "      <td>438428871</td>\n",
       "      <td>0</td>\n",
       "    </tr>\n",
       "  </tbody>\n",
       "</table>\n",
       "</div>"
      ],
      "text/plain": [
       "      PipeId  Incidence\n",
       "0  446859944          0\n",
       "1  428124500          0\n",
       "2  438428871          0"
      ]
     },
     "execution_count": 361,
     "metadata": {},
     "output_type": "execute_result"
    }
   ],
   "source": [
    "df_sample.head(3)"
   ]
  },
  {
   "cell_type": "code",
   "execution_count": 362,
   "id": "c3a08a3e",
   "metadata": {},
   "outputs": [
    {
     "data": {
      "text/plain": [
       "PipeId       0\n",
       "Province     0\n",
       "Town         0\n",
       "YearBuilt    0\n",
       "Material     0\n",
       "dtype: int64"
      ]
     },
     "execution_count": 362,
     "metadata": {},
     "output_type": "execute_result"
    }
   ],
   "source": [
    "#Check for null values in test dataset\n",
    "test_null = test.isnull().sum()    \n",
    "test_null.head()"
   ]
  },
  {
   "attachments": {},
   "cell_type": "markdown",
   "id": "039632ca",
   "metadata": {},
   "source": [
    "JF: No null Values in TEST data set"
   ]
  },
  {
   "cell_type": "code",
   "execution_count": 363,
   "id": "c67ffbae",
   "metadata": {},
   "outputs": [],
   "source": [
    "#creating a subset for altering the dataset after initial EDA\n",
    "train_copy = train.copy()"
   ]
  },
  {
   "cell_type": "code",
   "execution_count": 364,
   "id": "44c28dbc",
   "metadata": {},
   "outputs": [
    {
     "data": {
      "text/plain": [
       "PipeId                     0\n",
       "MaintenanceId          18685\n",
       "InspectionYear         18685\n",
       "InspectionDate         18685\n",
       "MonthsLastRev          18685\n",
       "Severity               18685\n",
       "Incidence              18685\n",
       "Province                   0\n",
       "Town                       0\n",
       "YearBuilt                  0\n",
       "Material                   0\n",
       "GasType                    0\n",
       "Diameter                   0\n",
       "Length                     0\n",
       "Pressure                   0\n",
       "NumConnections             0\n",
       "NumConnectionsUnder        0\n",
       "BoolBridle                 0\n",
       "dtype: int64"
      ]
     },
     "execution_count": 364,
     "metadata": {},
     "output_type": "execute_result"
    }
   ],
   "source": [
    "#find the columns with null values in train_copy\n",
    "train_copy.isnull().sum()"
   ]
  },
  {
   "cell_type": "code",
   "execution_count": 365,
   "id": "b799ec7c",
   "metadata": {},
   "outputs": [
    {
     "data": {
      "text/html": [
       "<div>\n",
       "<style scoped>\n",
       "    .dataframe tbody tr th:only-of-type {\n",
       "        vertical-align: middle;\n",
       "    }\n",
       "\n",
       "    .dataframe tbody tr th {\n",
       "        vertical-align: top;\n",
       "    }\n",
       "\n",
       "    .dataframe thead th {\n",
       "        text-align: right;\n",
       "    }\n",
       "</style>\n",
       "<table border=\"1\" class=\"dataframe\">\n",
       "  <thead>\n",
       "    <tr style=\"text-align: right;\">\n",
       "      <th></th>\n",
       "      <th>PipeId</th>\n",
       "      <th>MaintenanceId</th>\n",
       "      <th>InspectionYear</th>\n",
       "      <th>InspectionDate</th>\n",
       "      <th>MonthsLastRev</th>\n",
       "      <th>Severity</th>\n",
       "      <th>Incidence</th>\n",
       "      <th>Province</th>\n",
       "      <th>Town</th>\n",
       "      <th>YearBuilt</th>\n",
       "      <th>Material</th>\n",
       "      <th>GasType</th>\n",
       "      <th>Diameter</th>\n",
       "      <th>Length</th>\n",
       "      <th>Pressure</th>\n",
       "      <th>NumConnections</th>\n",
       "      <th>NumConnectionsUnder</th>\n",
       "      <th>BoolBridle</th>\n",
       "    </tr>\n",
       "  </thead>\n",
       "  <tbody>\n",
       "    <tr>\n",
       "      <th>64887</th>\n",
       "      <td>185802404</td>\n",
       "      <td>NaN</td>\n",
       "      <td>NaN</td>\n",
       "      <td>NaN</td>\n",
       "      <td>NaN</td>\n",
       "      <td>NaN</td>\n",
       "      <td>NaN</td>\n",
       "      <td>Girona</td>\n",
       "      <td>Puigcerda</td>\n",
       "      <td>2021</td>\n",
       "      <td>PN</td>\n",
       "      <td>Gas natural</td>\n",
       "      <td>110.00</td>\n",
       "      <td>12.01</td>\n",
       "      <td>0.15</td>\n",
       "      <td>1</td>\n",
       "      <td>0</td>\n",
       "      <td>True</td>\n",
       "    </tr>\n",
       "    <tr>\n",
       "      <th>64889</th>\n",
       "      <td>188243116</td>\n",
       "      <td>NaN</td>\n",
       "      <td>NaN</td>\n",
       "      <td>NaN</td>\n",
       "      <td>NaN</td>\n",
       "      <td>NaN</td>\n",
       "      <td>NaN</td>\n",
       "      <td>Girona</td>\n",
       "      <td>Puigcerda</td>\n",
       "      <td>2021</td>\n",
       "      <td>PN</td>\n",
       "      <td>Gas natural</td>\n",
       "      <td>90.00</td>\n",
       "      <td>11.82</td>\n",
       "      <td>0.15</td>\n",
       "      <td>1</td>\n",
       "      <td>0</td>\n",
       "      <td>True</td>\n",
       "    </tr>\n",
       "  </tbody>\n",
       "</table>\n",
       "</div>"
      ],
      "text/plain": [
       "          PipeId MaintenanceId  InspectionYear InspectionDate  MonthsLastRev  \\\n",
       "64887  185802404           NaN             NaN            NaN            NaN   \n",
       "64889  188243116           NaN             NaN            NaN            NaN   \n",
       "\n",
       "       Severity  Incidence Province       Town  YearBuilt Material  \\\n",
       "64887       NaN        NaN   Girona  Puigcerda       2021       PN   \n",
       "64889       NaN        NaN   Girona  Puigcerda       2021       PN   \n",
       "\n",
       "           GasType  Diameter  Length  Pressure  NumConnections  \\\n",
       "64887  Gas natural    110.00   12.01      0.15               1   \n",
       "64889  Gas natural     90.00   11.82      0.15               1   \n",
       "\n",
       "       NumConnectionsUnder  BoolBridle  \n",
       "64887                    0        True  \n",
       "64889                    0        True  "
      ]
     },
     "execution_count": 365,
     "metadata": {},
     "output_type": "execute_result"
    }
   ],
   "source": [
    "#show me a head of train_copy with YearBuilt == 2020\n",
    "train_copy[train_copy['YearBuilt'] > 2020].head(2)"
   ]
  },
  {
   "cell_type": "code",
   "execution_count": 366,
   "id": "13accacf",
   "metadata": {},
   "outputs": [
    {
     "data": {
      "text/plain": [
       "(2026, 18)"
      ]
     },
     "execution_count": 366,
     "metadata": {},
     "output_type": "execute_result"
    }
   ],
   "source": [
    "#count the PipeID that have YearBuilt equal to 2021 and InspectionYear equal to NaN\n",
    "train_copy[(train_copy['YearBuilt'] > 2020) & (train_copy['InspectionYear'].isnull())].shape\n"
   ]
  },
  {
   "attachments": {},
   "cell_type": "markdown",
   "id": "8248cba6",
   "metadata": {},
   "source": [
    "JF: There are 2026 pipes that were built after 2020 in the train data set, these came from the network data set and will be considered new pipes that do not have inspection data yet. We will assume that the inspection year for those was the year of installation (you inspect them when you install them)"
   ]
  },
  {
   "cell_type": "code",
   "execution_count": 367,
   "id": "df9292bc",
   "metadata": {},
   "outputs": [
    {
     "data": {
      "text/plain": [
       "InspectionYear\n",
       "2010.00     93518\n",
       "2011.00    528113\n",
       "2012.00    611594\n",
       "2013.00    581559\n",
       "2014.00    593223\n",
       "2015.00    617187\n",
       "2016.00    627667\n",
       "2017.00    684715\n",
       "2018.00    654861\n",
       "2019.00    694584\n",
       "2020.00    656878\n",
       "2021.00      1445\n",
       "Name: InspectionYear, dtype: int64"
      ]
     },
     "execution_count": 367,
     "metadata": {},
     "output_type": "execute_result"
    }
   ],
   "source": [
    "#show me nulls for InspectionYear for every year in train_copy\n",
    "train_copy.groupby('InspectionYear')['InspectionYear'].count()"
   ]
  },
  {
   "cell_type": "code",
   "execution_count": 368,
   "id": "ac000975",
   "metadata": {},
   "outputs": [],
   "source": [
    "#do a range in the train_copy for the YearBuilt column if the value is greater than 2020 and the InspectionYear is equal to Nan, change the value of InspectionYear to YearBuilt\n",
    "\n",
    "#for i in train_copy['YearBuilt']:\n",
    "#    if i > 2020:\n",
    "#        train_copy.loc[(train_copy['YearBuilt'] > 2020) & (train_copy['InspectionYear'].isnull()), 'InspectionYear'] = i"
   ]
  },
  {
   "cell_type": "code",
   "execution_count": 369,
   "id": "b5e706a4",
   "metadata": {},
   "outputs": [
    {
     "data": {
      "text/plain": [
       "2020    3290\n",
       "2019    2654\n",
       "2021    1960\n",
       "2016    1144\n",
       "2015     873\n",
       "        ... \n",
       "1971       7\n",
       "1969       2\n",
       "1965       2\n",
       "1966       1\n",
       "1967       1\n",
       "Name: YearBuilt, Length: 61, dtype: int64"
      ]
     },
     "execution_count": 369,
     "metadata": {},
     "output_type": "execute_result"
    }
   ],
   "source": [
    "#show me the YearBuilt values for the null vales in InspectionYear\n",
    "train_copy[train_copy['InspectionYear'].isnull()]['YearBuilt'].value_counts()\n"
   ]
  },
  {
   "cell_type": "code",
   "execution_count": 370,
   "id": "f7ce181a",
   "metadata": {},
   "outputs": [],
   "source": [
    "#remove from train_copy the rows where InspectionYear is equal to NaN and yearBuilt is not null\n",
    "train_copy = train_copy[~((train_copy['InspectionYear'].isnull()) & (train_copy['YearBuilt'].notnull()))]"
   ]
  },
  {
   "attachments": {},
   "cell_type": "markdown",
   "id": "5250b5a8",
   "metadata": {},
   "source": [
    "We do not have info for these pipes so I will remove them all as it is impossible to find out the year built"
   ]
  },
  {
   "cell_type": "code",
   "execution_count": 371,
   "id": "530b9ac9",
   "metadata": {},
   "outputs": [
    {
     "data": {
      "text/plain": [
       "PipeId                 0\n",
       "MaintenanceId          0\n",
       "InspectionYear         0\n",
       "InspectionDate         0\n",
       "MonthsLastRev          0\n",
       "Severity               0\n",
       "Incidence              0\n",
       "Province               0\n",
       "Town                   0\n",
       "YearBuilt              0\n",
       "Material               0\n",
       "GasType                0\n",
       "Diameter               0\n",
       "Length                 0\n",
       "Pressure               0\n",
       "NumConnections         0\n",
       "NumConnectionsUnder    0\n",
       "BoolBridle             0\n",
       "dtype: int64"
      ]
     },
     "execution_count": 371,
     "metadata": {},
     "output_type": "execute_result"
    }
   ],
   "source": [
    "train_copy.isnull().sum()"
   ]
  },
  {
   "cell_type": "code",
   "execution_count": 372,
   "id": "2ebd4980",
   "metadata": {},
   "outputs": [
    {
     "data": {
      "text/plain": [
       "(0, 18)"
      ]
     },
     "execution_count": 372,
     "metadata": {},
     "output_type": "execute_result"
    }
   ],
   "source": [
    "#count the PipeId in inspection dataset that YearBuilt is equal to 2020 and inspection year is equal to 2021\n",
    "train_copy[(train_copy['YearBuilt'] > 2020) & (train_copy['InspectionYear'] == 2021)].shape\n",
    "\n"
   ]
  },
  {
   "cell_type": "markdown",
   "id": "d88a7d05",
   "metadata": {},
   "source": [
    "# 2. Data Collection and Understanding "
   ]
  },
  {
   "attachments": {},
   "cell_type": "markdown",
   "id": "931606e2",
   "metadata": {},
   "source": [
    "The network.csv file contains a static picture of the gas pipeline network. Every row corresponds to a pipe and has a unique PipeId identifier. The table has 1.446.529 pipes. \n",
    "\n",
    "The columns describe relevant features of each pipe. The complete list is: \n",
    "\n"
   ]
  },
  {
   "cell_type": "markdown",
   "id": "2d409b09",
   "metadata": {},
   "source": [
    "## Inspection file"
   ]
  },
  {
   "attachments": {},
   "cell_type": "markdown",
   "id": "d7ed6752",
   "metadata": {},
   "source": [
    "# Merging datasets"
   ]
  },
  {
   "attachments": {},
   "cell_type": "markdown",
   "id": "e9f50fff",
   "metadata": {},
   "source": [
    "# Juan: All this is duplicated, we need to check and drop one of them, it is making the notebook heavy"
   ]
  },
  {
   "cell_type": "markdown",
   "id": "cf3c8dca",
   "metadata": {},
   "source": [
    "#point to the folder where the data is stored for Pedro\n",
    "os.chdir(r\"C:\\Users\\pedro\\datathon\\Datathon-Rules-and-Documentation\") \n",
    "\n",
    "#Loading sample_submission\n",
    "df_sample_submission = pd.read_csv('sample_submission.csv')"
   ]
  },
  {
   "cell_type": "code",
   "execution_count": 373,
   "id": "33f2730b",
   "metadata": {},
   "outputs": [
    {
     "data": {
      "text/plain": [
       "<AxesSubplot:>"
      ]
     },
     "execution_count": 373,
     "metadata": {},
     "output_type": "execute_result"
    },
    {
     "data": {
      "image/png": "[encoded data removed]",
      "text/plain": [
       "<Figure size 800x550 with 1 Axes>"
      ]
     },
     "metadata": {},
     "output_type": "display_data"
    }
   ],
   "source": [
    "#plot histogram with many bins of MonthsLastRev in  df_inspection\n",
    "df_inspection['MonthsLastRev'].hist(bins=100)"
   ]
  },
  {
   "cell_type": "code",
   "execution_count": 374,
   "id": "793ccb16",
   "metadata": {},
   "outputs": [],
   "source": [
    "#JUAN we kill more than 40 months revision"
   ]
  },
  {
   "attachments": {},
   "cell_type": "markdown",
   "id": "09db2f99",
   "metadata": {},
   "source": [
    "#to work out better in final EDA"
   ]
  },
  {
   "attachments": {},
   "cell_type": "markdown",
   "id": "cb9707f2",
   "metadata": {},
   "source": [
    "In the network file we find 1446539 rows corresponding to all pipes, this is the master file for pipes.\n",
    "We find the most frequent Town is Madrid but the most frequent province is Barcelona. \n",
    "There are a total of 1972 Spanish towns in this dataset and 38 provinces\n",
    "We are missing the Basque Country, Ceuta, Melilla, the Canary Islands and Balearic Islands.\n",
    "\n"
   ]
  },
  {
   "cell_type": "code",
   "execution_count": 375,
   "id": "1c3126f8",
   "metadata": {},
   "outputs": [
    {
     "data": {
      "text/plain": [
       "(6364029, 18)"
      ]
     },
     "execution_count": 375,
     "metadata": {},
     "output_type": "execute_result"
    }
   ],
   "source": [
    "train.shape "
   ]
  },
  {
   "attachments": {},
   "cell_type": "markdown",
   "id": "abaa644f",
   "metadata": {},
   "source": [
    "JF: There are 18K null values that do not have information in the df_network so our TRAIN data set is now bigger and we will need to deal with the nulls further down."
   ]
  },
  {
   "cell_type": "markdown",
   "id": "9c8bcc55",
   "metadata": {},
   "source": [
    "#point to the folder where the data is stored for Pedro\n",
    "os.chdir(r\"C:\\Users\\pedro\\datathon\\Datathon-Rules-and-Documentation\")\n",
    "\n",
    "# Loading inspection data\n",
    "df_sample = pd.read_csv('sample_submission.csv')"
   ]
  },
  {
   "cell_type": "code",
   "execution_count": 376,
   "id": "c8b001d9",
   "metadata": {},
   "outputs": [
    {
     "data": {
      "text/plain": [
       "(909733, 2)"
      ]
     },
     "execution_count": 376,
     "metadata": {},
     "output_type": "execute_result"
    }
   ],
   "source": [
    "df_sample.shape"
   ]
  },
  {
   "cell_type": "code",
   "execution_count": 377,
   "id": "fecdc058",
   "metadata": {},
   "outputs": [
    {
     "data": {
      "text/plain": [
       "0    907964\n",
       "1      1769\n",
       "Name: Incidence, dtype: int64"
      ]
     },
     "execution_count": 377,
     "metadata": {},
     "output_type": "execute_result"
    }
   ],
   "source": [
    "#count the Incidence values in test dataset\n",
    "df_sample['Incidence'].value_counts()\n",
    "\n"
   ]
  },
  {
   "attachments": {},
   "cell_type": "markdown",
   "id": "28b2abff",
   "metadata": {},
   "source": [
    "Creating the TEST df which will be used to test our model.  Thisis made of the sample submission with the columns from the network"
   ]
  },
  {
   "cell_type": "markdown",
   "id": "ae915d97",
   "metadata": {},
   "source": [
    "JF: All the PipeId on the df_sample have a PipeId on the network"
   ]
  },
  {
   "cell_type": "code",
   "execution_count": 378,
   "id": "ee6a1089",
   "metadata": {},
   "outputs": [],
   "source": [
    "#join both datasets on PipeId\n",
    "test = pd.merge(df_network , df_sample, on='PipeId', how='right')"
   ]
  },
  {
   "cell_type": "code",
   "execution_count": 379,
   "id": "c1f803e7",
   "metadata": {},
   "outputs": [
    {
     "data": {
      "text/html": [
       "<div>\n",
       "<style scoped>\n",
       "    .dataframe tbody tr th:only-of-type {\n",
       "        vertical-align: middle;\n",
       "    }\n",
       "\n",
       "    .dataframe tbody tr th {\n",
       "        vertical-align: top;\n",
       "    }\n",
       "\n",
       "    .dataframe thead th {\n",
       "        text-align: right;\n",
       "    }\n",
       "</style>\n",
       "<table border=\"1\" class=\"dataframe\">\n",
       "  <thead>\n",
       "    <tr style=\"text-align: right;\">\n",
       "      <th></th>\n",
       "      <th>PipeId</th>\n",
       "      <th>Province</th>\n",
       "      <th>Town</th>\n",
       "      <th>YearBuilt</th>\n",
       "      <th>Material</th>\n",
       "      <th>GasType</th>\n",
       "      <th>Diameter</th>\n",
       "      <th>Length</th>\n",
       "      <th>Pressure</th>\n",
       "      <th>NumConnections</th>\n",
       "      <th>NumConnectionsUnder</th>\n",
       "      <th>BoolBridle</th>\n",
       "      <th>Incidence</th>\n",
       "    </tr>\n",
       "  </thead>\n",
       "  <tbody>\n",
       "    <tr>\n",
       "      <th>0</th>\n",
       "      <td>446859944</td>\n",
       "      <td>Valencia</td>\n",
       "      <td>Alginet</td>\n",
       "      <td>2012</td>\n",
       "      <td>PE</td>\n",
       "      <td>Gas natural</td>\n",
       "      <td>110.00</td>\n",
       "      <td>44.29</td>\n",
       "      <td>0.15</td>\n",
       "      <td>0</td>\n",
       "      <td>0</td>\n",
       "      <td>False</td>\n",
       "      <td>0</td>\n",
       "    </tr>\n",
       "    <tr>\n",
       "      <th>1</th>\n",
       "      <td>428124500</td>\n",
       "      <td>Valencia</td>\n",
       "      <td>Alginet</td>\n",
       "      <td>2012</td>\n",
       "      <td>PE</td>\n",
       "      <td>Gas natural</td>\n",
       "      <td>160.00</td>\n",
       "      <td>110.72</td>\n",
       "      <td>0.15</td>\n",
       "      <td>2</td>\n",
       "      <td>0</td>\n",
       "      <td>False</td>\n",
       "      <td>0</td>\n",
       "    </tr>\n",
       "    <tr>\n",
       "      <th>2</th>\n",
       "      <td>438428871</td>\n",
       "      <td>Valencia</td>\n",
       "      <td>Alginet</td>\n",
       "      <td>2012</td>\n",
       "      <td>PE</td>\n",
       "      <td>Gas natural</td>\n",
       "      <td>110.00</td>\n",
       "      <td>13.57</td>\n",
       "      <td>0.15</td>\n",
       "      <td>0</td>\n",
       "      <td>0</td>\n",
       "      <td>False</td>\n",
       "      <td>0</td>\n",
       "    </tr>\n",
       "    <tr>\n",
       "      <th>3</th>\n",
       "      <td>429034569</td>\n",
       "      <td>Valencia</td>\n",
       "      <td>Alginet</td>\n",
       "      <td>2012</td>\n",
       "      <td>PE</td>\n",
       "      <td>Gas natural</td>\n",
       "      <td>110.00</td>\n",
       "      <td>327.69</td>\n",
       "      <td>0.15</td>\n",
       "      <td>3</td>\n",
       "      <td>0</td>\n",
       "      <td>False</td>\n",
       "      <td>0</td>\n",
       "    </tr>\n",
       "    <tr>\n",
       "      <th>4</th>\n",
       "      <td>411184477</td>\n",
       "      <td>Valencia</td>\n",
       "      <td>Alginet</td>\n",
       "      <td>2007</td>\n",
       "      <td>PE</td>\n",
       "      <td>Gas natural</td>\n",
       "      <td>200.00</td>\n",
       "      <td>932.76</td>\n",
       "      <td>0.15</td>\n",
       "      <td>0</td>\n",
       "      <td>0</td>\n",
       "      <td>False</td>\n",
       "      <td>0</td>\n",
       "    </tr>\n",
       "  </tbody>\n",
       "</table>\n",
       "</div>"
      ],
      "text/plain": [
       "      PipeId  Province     Town  YearBuilt Material      GasType  Diameter  \\\n",
       "0  446859944  Valencia  Alginet       2012       PE  Gas natural    110.00   \n",
       "1  428124500  Valencia  Alginet       2012       PE  Gas natural    160.00   \n",
       "2  438428871  Valencia  Alginet       2012       PE  Gas natural    110.00   \n",
       "3  429034569  Valencia  Alginet       2012       PE  Gas natural    110.00   \n",
       "4  411184477  Valencia  Alginet       2007       PE  Gas natural    200.00   \n",
       "\n",
       "   Length  Pressure  NumConnections  NumConnectionsUnder  BoolBridle  \\\n",
       "0   44.29      0.15               0                    0       False   \n",
       "1  110.72      0.15               2                    0       False   \n",
       "2   13.57      0.15               0                    0       False   \n",
       "3  327.69      0.15               3                    0       False   \n",
       "4  932.76      0.15               0                    0       False   \n",
       "\n",
       "   Incidence  \n",
       "0          0  \n",
       "1          0  \n",
       "2          0  \n",
       "3          0  \n",
       "4          0  "
      ]
     },
     "execution_count": 379,
     "metadata": {},
     "output_type": "execute_result"
    }
   ],
   "source": [
    "test.head()"
   ]
  },
  {
   "cell_type": "code",
   "execution_count": 380,
   "id": "c3a08a3e",
   "metadata": {},
   "outputs": [
    {
     "data": {
      "text/plain": [
       "PipeId       0\n",
       "Province     0\n",
       "Town         0\n",
       "YearBuilt    0\n",
       "Material     0\n",
       "dtype: int64"
      ]
     },
     "execution_count": 380,
     "metadata": {},
     "output_type": "execute_result"
    }
   ],
   "source": [
    "#Check for null values in test dataset\n",
    "test_null = test.isnull().sum()    \n",
    "test_null.head()"
   ]
  },
  {
   "cell_type": "code",
   "execution_count": 381,
   "id": "c67ffbae",
   "metadata": {},
   "outputs": [],
   "source": [
    "#creating a subset for altering the dataset after initial EDA\n",
    "train_copy = train.copy()"
   ]
  },
  {
   "cell_type": "code",
   "execution_count": 382,
   "id": "b799ec7c",
   "metadata": {},
   "outputs": [
    {
     "data": {
      "text/html": [
       "<div>\n",
       "<style scoped>\n",
       "    .dataframe tbody tr th:only-of-type {\n",
       "        vertical-align: middle;\n",
       "    }\n",
       "\n",
       "    .dataframe tbody tr th {\n",
       "        vertical-align: top;\n",
       "    }\n",
       "\n",
       "    .dataframe thead th {\n",
       "        text-align: right;\n",
       "    }\n",
       "</style>\n",
       "<table border=\"1\" class=\"dataframe\">\n",
       "  <thead>\n",
       "    <tr style=\"text-align: right;\">\n",
       "      <th></th>\n",
       "      <th>PipeId</th>\n",
       "      <th>MaintenanceId</th>\n",
       "      <th>InspectionYear</th>\n",
       "      <th>InspectionDate</th>\n",
       "      <th>MonthsLastRev</th>\n",
       "      <th>Severity</th>\n",
       "      <th>Incidence</th>\n",
       "      <th>Province</th>\n",
       "      <th>Town</th>\n",
       "      <th>YearBuilt</th>\n",
       "      <th>Material</th>\n",
       "      <th>GasType</th>\n",
       "      <th>Diameter</th>\n",
       "      <th>Length</th>\n",
       "      <th>Pressure</th>\n",
       "      <th>NumConnections</th>\n",
       "      <th>NumConnectionsUnder</th>\n",
       "      <th>BoolBridle</th>\n",
       "    </tr>\n",
       "  </thead>\n",
       "  <tbody>\n",
       "    <tr>\n",
       "      <th>64887</th>\n",
       "      <td>185802404</td>\n",
       "      <td>NaN</td>\n",
       "      <td>NaN</td>\n",
       "      <td>NaN</td>\n",
       "      <td>NaN</td>\n",
       "      <td>NaN</td>\n",
       "      <td>NaN</td>\n",
       "      <td>Girona</td>\n",
       "      <td>Puigcerda</td>\n",
       "      <td>2021</td>\n",
       "      <td>PN</td>\n",
       "      <td>Gas natural</td>\n",
       "      <td>110.00</td>\n",
       "      <td>12.01</td>\n",
       "      <td>0.15</td>\n",
       "      <td>1</td>\n",
       "      <td>0</td>\n",
       "      <td>True</td>\n",
       "    </tr>\n",
       "    <tr>\n",
       "      <th>64889</th>\n",
       "      <td>188243116</td>\n",
       "      <td>NaN</td>\n",
       "      <td>NaN</td>\n",
       "      <td>NaN</td>\n",
       "      <td>NaN</td>\n",
       "      <td>NaN</td>\n",
       "      <td>NaN</td>\n",
       "      <td>Girona</td>\n",
       "      <td>Puigcerda</td>\n",
       "      <td>2021</td>\n",
       "      <td>PN</td>\n",
       "      <td>Gas natural</td>\n",
       "      <td>90.00</td>\n",
       "      <td>11.82</td>\n",
       "      <td>0.15</td>\n",
       "      <td>1</td>\n",
       "      <td>0</td>\n",
       "      <td>True</td>\n",
       "    </tr>\n",
       "    <tr>\n",
       "      <th>70787</th>\n",
       "      <td>185839446</td>\n",
       "      <td>NaN</td>\n",
       "      <td>NaN</td>\n",
       "      <td>NaN</td>\n",
       "      <td>NaN</td>\n",
       "      <td>NaN</td>\n",
       "      <td>NaN</td>\n",
       "      <td>Girona</td>\n",
       "      <td>Girona</td>\n",
       "      <td>2021</td>\n",
       "      <td>PN</td>\n",
       "      <td>Gas natural</td>\n",
       "      <td>110.00</td>\n",
       "      <td>5.10</td>\n",
       "      <td>0.03</td>\n",
       "      <td>1</td>\n",
       "      <td>0</td>\n",
       "      <td>True</td>\n",
       "    </tr>\n",
       "    <tr>\n",
       "      <th>70788</th>\n",
       "      <td>186392655</td>\n",
       "      <td>NaN</td>\n",
       "      <td>NaN</td>\n",
       "      <td>NaN</td>\n",
       "      <td>NaN</td>\n",
       "      <td>NaN</td>\n",
       "      <td>NaN</td>\n",
       "      <td>Girona</td>\n",
       "      <td>Girona</td>\n",
       "      <td>2021</td>\n",
       "      <td>PN</td>\n",
       "      <td>Gas natural</td>\n",
       "      <td>63.00</td>\n",
       "      <td>4.51</td>\n",
       "      <td>0.03</td>\n",
       "      <td>1</td>\n",
       "      <td>0</td>\n",
       "      <td>True</td>\n",
       "    </tr>\n",
       "    <tr>\n",
       "      <th>70790</th>\n",
       "      <td>186441076</td>\n",
       "      <td>NaN</td>\n",
       "      <td>NaN</td>\n",
       "      <td>NaN</td>\n",
       "      <td>NaN</td>\n",
       "      <td>NaN</td>\n",
       "      <td>NaN</td>\n",
       "      <td>Girona</td>\n",
       "      <td>Girona</td>\n",
       "      <td>2021</td>\n",
       "      <td>PN</td>\n",
       "      <td>Gas natural</td>\n",
       "      <td>63.00</td>\n",
       "      <td>0.29</td>\n",
       "      <td>0.03</td>\n",
       "      <td>0</td>\n",
       "      <td>0</td>\n",
       "      <td>True</td>\n",
       "    </tr>\n",
       "  </tbody>\n",
       "</table>\n",
       "</div>"
      ],
      "text/plain": [
       "          PipeId MaintenanceId  InspectionYear InspectionDate  MonthsLastRev  \\\n",
       "64887  185802404           NaN             NaN            NaN            NaN   \n",
       "64889  188243116           NaN             NaN            NaN            NaN   \n",
       "70787  185839446           NaN             NaN            NaN            NaN   \n",
       "70788  186392655           NaN             NaN            NaN            NaN   \n",
       "70790  186441076           NaN             NaN            NaN            NaN   \n",
       "\n",
       "       Severity  Incidence Province       Town  YearBuilt Material  \\\n",
       "64887       NaN        NaN   Girona  Puigcerda       2021       PN   \n",
       "64889       NaN        NaN   Girona  Puigcerda       2021       PN   \n",
       "70787       NaN        NaN   Girona     Girona       2021       PN   \n",
       "70788       NaN        NaN   Girona     Girona       2021       PN   \n",
       "70790       NaN        NaN   Girona     Girona       2021       PN   \n",
       "\n",
       "           GasType  Diameter  Length  Pressure  NumConnections  \\\n",
       "64887  Gas natural    110.00   12.01      0.15               1   \n",
       "64889  Gas natural     90.00   11.82      0.15               1   \n",
       "70787  Gas natural    110.00    5.10      0.03               1   \n",
       "70788  Gas natural     63.00    4.51      0.03               1   \n",
       "70790  Gas natural     63.00    0.29      0.03               0   \n",
       "\n",
       "       NumConnectionsUnder  BoolBridle  \n",
       "64887                    0        True  \n",
       "64889                    0        True  \n",
       "70787                    0        True  \n",
       "70788                    0        True  \n",
       "70790                    0        True  "
      ]
     },
     "execution_count": 382,
     "metadata": {},
     "output_type": "execute_result"
    }
   ],
   "source": [
    "#show me a head of train_copy with YearBuilt == 2020\n",
    "train_copy[train_copy['YearBuilt'] > 2020].head()"
   ]
  },
  {
   "attachments": {},
   "cell_type": "markdown",
   "id": "8248cba6",
   "metadata": {},
   "source": [
    "JF: There are 2026 pipes that were built after 2020 in the train data set, these came from the network data set and will be considered new pipes that do not have inspection data yet. We will assume that the inspection year for those was the year of installation (you inspect them when you install them)"
   ]
  },
  {
   "cell_type": "code",
   "execution_count": 383,
   "id": "df9292bc",
   "metadata": {},
   "outputs": [
    {
     "data": {
      "text/plain": [
       "InspectionYear\n",
       "2010.00     93518\n",
       "2011.00    528113\n",
       "2012.00    611594\n",
       "2013.00    581559\n",
       "2014.00    593223\n",
       "2015.00    617187\n",
       "2016.00    627667\n",
       "2017.00    684715\n",
       "2018.00    654861\n",
       "2019.00    694584\n",
       "2020.00    656878\n",
       "2021.00      1445\n",
       "Name: InspectionYear, dtype: int64"
      ]
     },
     "execution_count": 383,
     "metadata": {},
     "output_type": "execute_result"
    }
   ],
   "source": [
    "#show me nulls for InspectionYear for every year in train_copy\n",
    "train_copy.groupby('InspectionYear')['InspectionYear'].count()"
   ]
  },
  {
   "cell_type": "code",
   "execution_count": 384,
   "id": "530b9ac9",
   "metadata": {},
   "outputs": [
    {
     "data": {
      "text/plain": [
       "PipeId                     0\n",
       "MaintenanceId          18685\n",
       "InspectionYear         18685\n",
       "InspectionDate         18685\n",
       "MonthsLastRev          18685\n",
       "Severity               18685\n",
       "Incidence              18685\n",
       "Province                   0\n",
       "Town                       0\n",
       "YearBuilt                  0\n",
       "Material                   0\n",
       "GasType                    0\n",
       "Diameter                   0\n",
       "Length                     0\n",
       "Pressure                   0\n",
       "NumConnections             0\n",
       "NumConnectionsUnder        0\n",
       "BoolBridle                 0\n",
       "dtype: int64"
      ]
     },
     "execution_count": 384,
     "metadata": {},
     "output_type": "execute_result"
    }
   ],
   "source": [
    "train_copy.isnull().sum()"
   ]
  },
  {
   "cell_type": "code",
   "execution_count": 385,
   "id": "667145ba",
   "metadata": {},
   "outputs": [
    {
     "data": {
      "text/plain": [
       "(7672, 18)"
      ]
     },
     "execution_count": 385,
     "metadata": {},
     "output_type": "execute_result"
    }
   ],
   "source": [
    "#show me a head of train_copy with YearBuilt higher than InspectionYear and count them\n",
    "train_copy[(train_copy['YearBuilt'] > train_copy['InspectionYear'])].shape"
   ]
  },
  {
   "attachments": {},
   "cell_type": "markdown",
   "id": "6e372052",
   "metadata": {},
   "source": [
    "# Feature Engineering on combined dataset\n",
    "\n",
    "As a result of merging both datasets we now have pipeline duplicates per each maintenace_id operation. Before getting rid of the duplicates, we want to engineer some metrics interesting to the model such as number of operations, number of incidents and average risk based on severity*incidence"
   ]
  },
  {
   "cell_type": "code",
   "execution_count": 386,
   "id": "f76cd300",
   "metadata": {},
   "outputs": [
    {
     "data": {
      "text/html": [
       "<div>\n",
       "<style scoped>\n",
       "    .dataframe tbody tr th:only-of-type {\n",
       "        vertical-align: middle;\n",
       "    }\n",
       "\n",
       "    .dataframe tbody tr th {\n",
       "        vertical-align: top;\n",
       "    }\n",
       "\n",
       "    .dataframe thead th {\n",
       "        text-align: right;\n",
       "    }\n",
       "</style>\n",
       "<table border=\"1\" class=\"dataframe\">\n",
       "  <thead>\n",
       "    <tr style=\"text-align: right;\">\n",
       "      <th></th>\n",
       "      <th>PipeId</th>\n",
       "      <th>MaintenanceId</th>\n",
       "      <th>InspectionYear</th>\n",
       "      <th>InspectionDate</th>\n",
       "      <th>MonthsLastRev</th>\n",
       "      <th>Severity</th>\n",
       "      <th>Incidence</th>\n",
       "      <th>Province</th>\n",
       "      <th>Town</th>\n",
       "      <th>YearBuilt</th>\n",
       "      <th>Material</th>\n",
       "      <th>GasType</th>\n",
       "      <th>Diameter</th>\n",
       "      <th>Length</th>\n",
       "      <th>Pressure</th>\n",
       "      <th>NumConnections</th>\n",
       "      <th>NumConnectionsUnder</th>\n",
       "      <th>BoolBridle</th>\n",
       "    </tr>\n",
       "  </thead>\n",
       "  <tbody>\n",
       "    <tr>\n",
       "      <th>0</th>\n",
       "      <td>489616</td>\n",
       "      <td>ZRV-00003385</td>\n",
       "      <td>2013.00</td>\n",
       "      <td>2013-05-08</td>\n",
       "      <td>16.00</td>\n",
       "      <td>4.00</td>\n",
       "      <td>0.00</td>\n",
       "      <td>Ciudad Real</td>\n",
       "      <td>Torralba de Calatrava</td>\n",
       "      <td>2012</td>\n",
       "      <td>PE</td>\n",
       "      <td>Gas natural</td>\n",
       "      <td>63.00</td>\n",
       "      <td>7.79</td>\n",
       "      <td>0.40</td>\n",
       "      <td>0</td>\n",
       "      <td>0</td>\n",
       "      <td>False</td>\n",
       "    </tr>\n",
       "    <tr>\n",
       "      <th>1</th>\n",
       "      <td>489616</td>\n",
       "      <td>ZRV-00003385</td>\n",
       "      <td>2015.00</td>\n",
       "      <td>2015-03-04</td>\n",
       "      <td>22.00</td>\n",
       "      <td>4.00</td>\n",
       "      <td>0.00</td>\n",
       "      <td>Ciudad Real</td>\n",
       "      <td>Torralba de Calatrava</td>\n",
       "      <td>2012</td>\n",
       "      <td>PE</td>\n",
       "      <td>Gas natural</td>\n",
       "      <td>63.00</td>\n",
       "      <td>7.79</td>\n",
       "      <td>0.40</td>\n",
       "      <td>0</td>\n",
       "      <td>0</td>\n",
       "      <td>False</td>\n",
       "    </tr>\n",
       "    <tr>\n",
       "      <th>2</th>\n",
       "      <td>489616</td>\n",
       "      <td>ZRV-00003385</td>\n",
       "      <td>2016.00</td>\n",
       "      <td>2017-01-12</td>\n",
       "      <td>22.00</td>\n",
       "      <td>4.00</td>\n",
       "      <td>0.00</td>\n",
       "      <td>Ciudad Real</td>\n",
       "      <td>Torralba de Calatrava</td>\n",
       "      <td>2012</td>\n",
       "      <td>PE</td>\n",
       "      <td>Gas natural</td>\n",
       "      <td>63.00</td>\n",
       "      <td>7.79</td>\n",
       "      <td>0.40</td>\n",
       "      <td>0</td>\n",
       "      <td>0</td>\n",
       "      <td>False</td>\n",
       "    </tr>\n",
       "  </tbody>\n",
       "</table>\n",
       "</div>"
      ],
      "text/plain": [
       "   PipeId MaintenanceId  InspectionYear InspectionDate  MonthsLastRev  \\\n",
       "0  489616  ZRV-00003385         2013.00     2013-05-08          16.00   \n",
       "1  489616  ZRV-00003385         2015.00     2015-03-04          22.00   \n",
       "2  489616  ZRV-00003385         2016.00     2017-01-12          22.00   \n",
       "\n",
       "   Severity  Incidence     Province                   Town  YearBuilt  \\\n",
       "0      4.00       0.00  Ciudad Real  Torralba de Calatrava       2012   \n",
       "1      4.00       0.00  Ciudad Real  Torralba de Calatrava       2012   \n",
       "2      4.00       0.00  Ciudad Real  Torralba de Calatrava       2012   \n",
       "\n",
       "  Material      GasType  Diameter  Length  Pressure  NumConnections  \\\n",
       "0       PE  Gas natural     63.00    7.79      0.40               0   \n",
       "1       PE  Gas natural     63.00    7.79      0.40               0   \n",
       "2       PE  Gas natural     63.00    7.79      0.40               0   \n",
       "\n",
       "   NumConnectionsUnder  BoolBridle  \n",
       "0                    0       False  \n",
       "1                    0       False  \n",
       "2                    0       False  "
      ]
     },
     "execution_count": 386,
     "metadata": {},
     "output_type": "execute_result"
    }
   ],
   "source": [
    "train_copy.head(3)"
   ]
  },
  {
   "cell_type": "code",
   "execution_count": 387,
   "id": "ecc2d0e9",
   "metadata": {},
   "outputs": [
    {
     "data": {
      "text/plain": [
       "PipeId                   int64\n",
       "MaintenanceId           object\n",
       "InspectionYear         float64\n",
       "InspectionDate          object\n",
       "MonthsLastRev          float64\n",
       "Severity               float64\n",
       "Incidence              float64\n",
       "Province                object\n",
       "Town                    object\n",
       "YearBuilt                int64\n",
       "Material                object\n",
       "GasType                 object\n",
       "Diameter               float64\n",
       "Length                 float64\n",
       "Pressure               float64\n",
       "NumConnections           int64\n",
       "NumConnectionsUnder      int64\n",
       "BoolBridle                bool\n",
       "dtype: object"
      ]
     },
     "execution_count": 387,
     "metadata": {},
     "output_type": "execute_result"
    }
   ],
   "source": [
    "#show the type of all the columns in train_copy\n",
    "train_copy.dtypes"
   ]
  },
  {
   "cell_type": "markdown",
   "id": "14643011",
   "metadata": {},
   "source": [
    "#change the type of InspectionYear, MonthsLastRev, Severity, Incidence, YearBuilt, Diameter, Length, Pressure to int    \n",
    "train_copy['InspectionYear'] = train_copy['InspectionYear'].astype(int)\n",
    "train_copy['MonthsLastRev'] = train_copy['MonthsLastRev'].astype(int)\n",
    "train_copy['Severity'] = train_copy['Severity'].astype(int)\n",
    "train_copy['Incidence'] = train_copy['Incidence'].astype(int)\n",
    "train_copy['YearBuilt'] = train_copy['YearBuilt'].astype(int)\n",
    "train_copy['Diameter'] = train_copy['Diameter'].astype(int)\n",
    "\n"
   ]
  },
  {
   "cell_type": "code",
   "execution_count": 388,
   "id": "46264d1f",
   "metadata": {},
   "outputs": [
    {
     "data": {
      "text/plain": [
       "(18685, 18)"
      ]
     },
     "execution_count": 388,
     "metadata": {},
     "output_type": "execute_result"
    }
   ],
   "source": [
    "#show nulls in InspectionYear\n",
    "train_copy[train_copy['InspectionYear'].isnull()].shape"
   ]
  },
  {
   "cell_type": "code",
   "execution_count": 389,
   "id": "c08768a4",
   "metadata": {},
   "outputs": [],
   "source": [
    "train_copy['No_Inspections'] = train_copy.groupby('PipeId')['InspectionYear'].apply(lambda s: (s != s.shift()).cumsum())"
   ]
  },
  {
   "cell_type": "code",
   "execution_count": 390,
   "id": "c3e86220",
   "metadata": {},
   "outputs": [],
   "source": [
    "#create a dataframe with the pipeid 188488937\n",
    "df_18 = train_copy[train_copy['PipeId'] == 188488937]"
   ]
  },
  {
   "cell_type": "code",
   "execution_count": null,
   "id": "8117f2c2",
   "metadata": {},
   "outputs": [],
   "source": [
    "# for df_18 if Incidence is not 0 "
   ]
  },
  {
   "cell_type": "code",
   "execution_count": null,
   "id": "e3778748",
   "metadata": {},
   "outputs": [],
   "source": [
    "#show me the entries with PipeId == 188488937\n",
    "train_copy[train_copy['PipeId'] == 188488937]"
   ]
  },
  {
   "cell_type": "code",
   "execution_count": null,
   "id": "1c242012",
   "metadata": {},
   "outputs": [],
   "source": [
    "train_copy[train_copy['No_Incidents'] > 3].head(10)"
   ]
  },
  {
   "cell_type": "code",
   "execution_count": null,
   "id": "ccf9de53",
   "metadata": {},
   "outputs": [],
   "source": [
    "#create a new column counting the number of inspections (MaintenanceId) per PipeId\n",
    "train_copy['No_Inspections'] = train_copy.groupby('PipeId')['MaintenanceId'].transform('count')\n",
    "#aggregate the number of Incidents per pipe in a new column and place it in the fourth position\n",
    "train_copy['No_Incidents'] = train_copy.groupby('PipeId')['Incidence'].transform('sum')\n",
    "#place the new columns in the third position\n",
    "cols = list(train_copy.columns.values)\n",
    "cols.pop(cols.index('No_Incidents'))\n",
    "train_copy = train_copy[['PipeId', 'MaintenanceId', 'No_Inspections', 'No_Incidents', 'InspectionYear', 'InspectionDate',\n",
    "       'MonthsLastRev', 'Severity', 'Incidence', 'Province', 'Town',\n",
    "       'YearBuilt', 'Material', 'GasType', 'Diameter', 'Length', 'Pressure',\n",
    "       'NumConnections', 'NumConnectionsUnder', 'BoolBridle']]\n",
    "#show head of rows only where No_Incidents is greater than 0\n",
    "train_copy[train_copy['No_Incidents'] > 2].head(2)\n"
   ]
  },
  {
   "cell_type": "code",
   "execution_count": null,
   "id": "9d9fcef1",
   "metadata": {},
   "outputs": [],
   "source": [
    "train_copy.columns"
   ]
  },
  {
   "cell_type": "code",
   "execution_count": null,
   "id": "5e7a1ceb",
   "metadata": {},
   "outputs": [],
   "source": [
    "#create a column named average_severity_pipe that calculates the average severity per pipe aggregating all severities\n",
    "train_copy['average_severity_pipe'] = train_copy.groupby('PipeId')['Severity'].transform('mean')\n",
    "#show head of rows only where mean has a decimal value\n",
    "train_copy[train_copy['average_severity_pipe'] % 1 != 0].head(10)\n",
    "#place the new column in 7th position\n",
    "cols = list(train_copy.columns.values)\n",
    "cols.pop(cols.index('average_severity_pipe'))\n",
    "train_copy = train_copy[['PipeId', 'No_Inspections', 'No_Incidents', 'InspectionYear',\n",
    "       'InspectionDate', 'MonthsLastRev', 'average_severity_pipe','Severity', 'Incidence', 'Province',\n",
    "       'Town', 'YearBuilt', 'Material', 'GasType', 'Diameter', 'Length',\n",
    "       'Pressure', 'NumConnections', 'NumConnectionsUnder', 'BoolBridle']]\n"
   ]
  },
  {
   "cell_type": "code",
   "execution_count": null,
   "id": "2fdfea3b",
   "metadata": {},
   "outputs": [],
   "source": [
    "#create a column taking average severity and number of total incidences per pipe multiplying them and naming it as risk_(s*i)\n",
    "train_copy['relative_risk'] = train_copy['average_severity_pipe'] * train_copy['No_Incidents'] \n",
    "#position the new column in the 7th position\n",
    "cols = list(train_copy.columns.values)\n",
    "cols.pop(cols.index('relative_risk'))\n",
    "train_copy = train_copy[['PipeId', 'No_Inspections', 'No_Incidents', 'InspectionYear',\n",
    "       'InspectionDate', 'MonthsLastRev','relative_risk', 'average_severity_pipe', 'Severity',\n",
    "       'Incidence', 'Province', 'Town', 'YearBuilt', 'Material', 'GasType',\n",
    "       'Diameter', 'Length', 'Pressure', 'NumConnections',\n",
    "       'NumConnectionsUnder', 'BoolBridle']]"
   ]
  },
  {
   "attachments": {},
   "cell_type": "markdown",
   "id": "8bd590dc",
   "metadata": {},
   "source": [
    "This new column allows us to have a measure of risk by adding the mean aggregate of severity for an specific pipe and the aggregate number of incidents that we just created above"
   ]
  },
  {
   "cell_type": "code",
   "execution_count": null,
   "id": "89039b1a",
   "metadata": {},
   "outputs": [],
   "source": [
    "#show head of rows only where Risk_S*I is greater than 0\n",
    "train_copy[train_copy['relative_risk'] > 12].head(2)"
   ]
  },
  {
   "cell_type": "code",
   "execution_count": null,
   "id": "7df6bebb",
   "metadata": {},
   "outputs": [],
   "source": [
    "import plotly.express as px\n",
    "#show a treemap when relative_risk is greater than 12 showing the Material and the age of construction\n",
    "fig = px.treemap(train_copy[train_copy['relative_risk'] > 9], path=['Material', 'YearBuilt'], values='relative_risk')\n",
    "fig.show()\n",
    "\n"
   ]
  },
  {
   "attachments": {},
   "cell_type": "markdown",
   "id": "83077fd1",
   "metadata": {},
   "source": [
    "PE and FD tendo to fail more when getting closer to 30 years old"
   ]
  },
  {
   "cell_type": "code",
   "execution_count": null,
   "id": "0574d5d2",
   "metadata": {},
   "outputs": [],
   "source": [
    "#show a treemap when relative_risk is greater than 12 showing the Provinces and Towns\n",
    "fig = px.treemap(train_copy[train_copy['relative_risk'] > 9], path=['Province', 'Town'], values='relative_risk')\n",
    "fig.show()\n"
   ]
  },
  {
   "attachments": {},
   "cell_type": "markdown",
   "id": "57c6a55b",
   "metadata": {},
   "source": [
    "Based on risk, Madrid, Barcelona, Valencia, Girona and Sevilla should be studied more in detail when elaborating a maintenance plan"
   ]
  },
  {
   "cell_type": "code",
   "execution_count": null,
   "id": "c6d4248f",
   "metadata": {},
   "outputs": [],
   "source": [
    "#what is the last inspection year for material FD\n",
    "train_copy[train_copy['Material'] == 'FD']['InspectionYear'].min()"
   ]
  },
  {
   "attachments": {},
   "cell_type": "markdown",
   "id": "a12e23c4",
   "metadata": {},
   "source": [
    "We can see that  for a high risk factor, the most common materials are PE and FD with a mean of year built in the 90s. The pipes do not seem to be abandoned as the last year of inspection seems to be 2010"
   ]
  },
  {
   "cell_type": "code",
   "execution_count": null,
   "id": "2d84be58",
   "metadata": {},
   "outputs": [],
   "source": [
    "train_copy.columns"
   ]
  },
  {
   "cell_type": "code",
   "execution_count": null,
   "id": "14cb9f6c",
   "metadata": {},
   "outputs": [],
   "source": [
    "#create a new column taking Risk_S*I and dividing it by No_Inspections naming it as Risk_S*I/Inspections and placing it in 6th position\n",
    "train_copy['preventive_maintenance_rate'] = train_copy['relative_risk'] / train_copy['No_Inspections']\n",
    "cols = list(train_copy.columns.values)\n",
    "cols.pop(cols.index('preventive_maintenance_rate'))\n",
    "train_copy = train_copy[['PipeId', 'No_Inspections', 'No_Incidents', 'InspectionYear', 'preventive_maintenance_rate',\n",
    "       'InspectionDate', 'MonthsLastRev', 'relative_risk',\n",
    "       'average_severity_pipe', 'Severity', 'Incidence', 'Province', 'Town',\n",
    "       'YearBuilt', 'Material', 'GasType', 'Diameter', 'Length', 'Pressure',\n",
    "       'NumConnections', 'NumConnectionsUnder', 'BoolBridle']]\n",
    "\n",
    "#show head of rows only where Risk_S*I/Inspections is greater than 0\n",
    "train_copy[train_copy['preventive_maintenance_rate'] > 0].head(5)"
   ]
  },
  {
   "attachments": {},
   "cell_type": "markdown",
   "id": "267f3c5b",
   "metadata": {},
   "source": [
    "In this new column we can see a dimension of how good it has been previous preventive maintenance  by dividing the relative risk factor (mean average risk per pipe*No_incidents) / No_inspections.\n",
    "The higher this index, the less maintenance it has undergone, hence the risk is not being mitigated on an active basis\n",
    "This graph can help us allocate better the maintenance in our business case using the Paretto rule \n"
   ]
  },
  {
   "cell_type": "code",
   "execution_count": null,
   "id": "fd6b7db7",
   "metadata": {},
   "outputs": [],
   "source": [
    "#graph a treemap showing the Province and Towns where preventive_maintenance_rate is higher than 2\n",
    "fig = px.treemap(train_copy[train_copy['preventive_maintenance_rate'] > 2], path=['Province', 'Town'], values='preventive_maintenance_rate')\n",
    "fig.show()\n",
    "\n"
   ]
  },
  {
   "cell_type": "code",
   "execution_count": null,
   "id": "e5021536",
   "metadata": {},
   "outputs": [],
   "source": [
    "train_copy.columns"
   ]
  },
  {
   "cell_type": "code",
   "execution_count": null,
   "id": "7046d745",
   "metadata": {},
   "outputs": [],
   "source": [
    "#creating a new column named probability with No_Incidents divided by Inspections\n",
    "train_copy['Probability_rate'] = train_copy['No_Incidents'] / train_copy['No_Inspections']\n",
    "#place column in 3rd position\n",
    "cols = list(train_copy.columns.values)\n",
    "cols.pop(cols.index('Probability_rate'))\n",
    "train_copy = train_copy[['PipeId', 'No_Inspections', 'No_Incidents', 'InspectionYear', 'Probability_rate',\n",
    "       'preventive_maintenance_rate', 'InspectionDate', 'MonthsLastRev',\n",
    "       'relative_risk', 'average_severity_pipe', 'Severity', 'Incidence',\n",
    "       'Province', 'Town', 'YearBuilt', 'Material', 'GasType', 'Diameter',\n",
    "       'Length', 'Pressure', 'NumConnections', 'NumConnectionsUnder',\n",
    "       'BoolBridle']]\n",
    "#show head of rows only where Probability is greater than 0\n",
    "train_copy[train_copy['Probability_rate'] > 0].head(5)"
   ]
  },
  {
   "cell_type": "code",
   "execution_count": null,
   "id": "242452bc",
   "metadata": {},
   "outputs": [],
   "source": [
    "#graph a treemap showing the Province and Towns where Probability is higher than 4\n",
    "fig = px.treemap(train_copy[train_copy['Probability_rate'] > .5], path=['Province', 'Town'], values='Probability_rate')\n",
    "fig.show()"
   ]
  },
  {
   "attachments": {},
   "cell_type": "markdown",
   "id": "745f1a83",
   "metadata": {},
   "source": [
    "Having created risk and probability dimensions, we can compute a matrix to be assigned to the provinces for prioritization\n",
    "The matrix should include high risk, high probability to low risk and low probability    "
   ]
  },
  {
   "cell_type": "code",
   "execution_count": null,
   "id": "b0ed549e",
   "metadata": {},
   "outputs": [],
   "source": [
    "#create a matrix with columns relative_risk and probability_rate for each province\n",
    "train_copy.groupby('Province')[['relative_risk', 'Probability_rate']].mean()\n"
   ]
  },
  {
   "cell_type": "code",
   "execution_count": null,
   "id": "0c10e44c",
   "metadata": {},
   "outputs": [],
   "source": [
    "#create a matrix with columns relative_risk and probability_rate for each pipe material\n",
    "train_copy.groupby('Material')[['relative_risk', 'Probability_rate']].mean()"
   ]
  },
  {
   "cell_type": "code",
   "execution_count": null,
   "id": "41fd8501",
   "metadata": {},
   "outputs": [],
   "source": [
    "train_copy.columns  "
   ]
  },
  {
   "cell_type": "code",
   "execution_count": null,
   "id": "cd68a9f4",
   "metadata": {},
   "outputs": [],
   "source": [
    "#creating a column with the Average of MonthsLastRev grouping per PipeId \n",
    "train_copy['Average_MonthsLastRev'] = train_copy.groupby('PipeId')['MonthsLastRev'].transform('mean')\n",
    "cols = list(train_copy.columns.values)\n",
    "cols.pop(cols.index('Average_MonthsLastRev'))\n",
    "train_copy = train_copy[['PipeId', 'No_Inspections', 'No_Incidents', 'InspectionYear',\n",
    "       'Probability_rate', 'preventive_maintenance_rate', 'InspectionDate', 'Average_MonthsLastRev',\n",
    "       'MonthsLastRev', 'relative_risk', 'average_severity_pipe', 'Severity',\n",
    "       'Incidence', 'Province', 'Town', 'YearBuilt', 'Material', 'GasType',\n",
    "       'Diameter', 'Length', 'Pressure', 'NumConnections',\n",
    "       'NumConnectionsUnder', 'BoolBridle']]\n",
    "train_copy.head(1)"
   ]
  },
  {
   "attachments": {},
   "cell_type": "markdown",
   "id": "88769df2",
   "metadata": {},
   "source": [
    "With this new column we know if the pipe is being inspected frewuently or not taking as a thresold 24 months. We create a ne column that takes this threshold into consideration and creates a boolean\n"
   ]
  },
  {
   "cell_type": "code",
   "execution_count": null,
   "id": "9b8fc105",
   "metadata": {},
   "outputs": [],
   "source": [
    "#create a new column named pipe_inspected_frequently with a value of 1 if pipe has an Average_MonthsLastRev of less or equal than 24\n",
    "train_copy['pipe_inspected_frequently'] = np.where(train_copy['Average_MonthsLastRev'] <= 24, 1, 0)\n",
    "#place column in 7th position\n",
    "cols = list(train_copy.columns.values)\n",
    "cols.pop(cols.index('pipe_inspected_frequently'))\n",
    "train_copy = train_copy[['PipeId', 'No_Inspections', 'No_Incidents', 'InspectionYear',\n",
    "         'Probability_rate', 'preventive_maintenance_rate', 'pipe_inspected_frequently', 'InspectionDate', 'Average_MonthsLastRev',\n",
    "         'MonthsLastRev', 'relative_risk', 'average_severity_pipe', 'Severity',\n",
    "            'Incidence', 'Province', 'Town', 'YearBuilt', 'Material', 'GasType',\n",
    "            'Diameter', 'Length', 'Pressure', 'NumConnections',\n",
    "            'NumConnectionsUnder', 'BoolBridle']]\n",
    "#delete column Average_MonthsLastRev\n",
    "train_copy.head(1)\n"
   ]
  },
  {
   "cell_type": "code",
   "execution_count": null,
   "id": "0c8f6f32",
   "metadata": {},
   "outputs": [],
   "source": [
    "train_copy.columns"
   ]
  },
  {
   "cell_type": "code",
   "execution_count": null,
   "id": "7ac174fe",
   "metadata": {},
   "outputs": [],
   "source": [
    "#creating a column named age_pipe_inspection with the difference between InspectionYear and YearBuilt and placing it in 10 th position\n",
    "train_copy['Age_pipe_at_inspection'] = train_copy['InspectionYear'] - train_copy['YearBuilt']\n",
    "cols = list(train_copy.columns.values)\n",
    "cols.pop(cols.index('Age_pipe_at_inspection'))\n",
    "train_copy = train_copy[['PipeId', 'No_Inspections', 'No_Incidents', 'InspectionYear',\n",
    "       'Probability_rate', 'preventive_maintenance_rate', 'Age_pipe_at_inspection',\n",
    "       'pipe_inspected_frequently', 'InspectionDate', 'Average_MonthsLastRev',\n",
    "       'MonthsLastRev', 'relative_risk', 'average_severity_pipe', 'Severity',\n",
    "       'Incidence', 'Province', 'Town', 'YearBuilt', 'Material', 'GasType',\n",
    "       'Diameter', 'Length', 'Pressure', 'NumConnections',\n",
    "       'NumConnectionsUnder', 'BoolBridle']]\n",
    "#head of pipes with Age_pipe_at_inspection greater than 0\n",
    "train_copy[train_copy['Age_pipe_at_inspection'] > 0].head(2)"
   ]
  },
  {
   "cell_type": "code",
   "execution_count": null,
   "id": "20d7b90f",
   "metadata": {},
   "outputs": [],
   "source": [
    "#describe Diameter on train_copy in mm\n",
    "train_copy['Diameter'].describe()"
   ]
  },
  {
   "cell_type": "code",
   "execution_count": null,
   "id": "3ca5501e",
   "metadata": {},
   "outputs": [],
   "source": [
    "train_copy['Length'].describe()"
   ]
  },
  {
   "cell_type": "code",
   "execution_count": null,
   "id": "41349dc2",
   "metadata": {},
   "outputs": [],
   "source": [
    "#divide all values in Diameter by 1000 to convert to meters\n",
    "train_copy['Diameter'] = train_copy['Diameter'] / 1000"
   ]
  },
  {
   "cell_type": "code",
   "execution_count": null,
   "id": "3f4ec8ca",
   "metadata": {},
   "outputs": [],
   "source": [
    "#create a new variable called aspect that is equal to pressure divided by diameter multiplied by length\n",
    "train_copy['aspect']=(train_copy['Pressure']/train_copy['Diameter'])*train_copy['Length']"
   ]
  },
  {
   "cell_type": "code",
   "execution_count": null,
   "id": "7a8dfecc",
   "metadata": {},
   "outputs": [],
   "source": [
    "#create a new column that divides the diameter by the pressure and name it Relative Thickness\n",
    "train_copy['Relative_Thickness'] = train_copy['Diameter'] / train_copy['Pressure']"
   ]
  },
  {
   "cell_type": "code",
   "execution_count": null,
   "id": "0a5971ea",
   "metadata": {},
   "outputs": [],
   "source": [
    "#creating a column named pipe_area that multiplies diameter by lenght by pi\n",
    "\n",
    "train_copy['pipe_area'] = train_copy['Diameter'] * train_copy['Length'] * 3.1416"
   ]
  },
  {
   "cell_type": "code",
   "execution_count": null,
   "id": "51ee44d6",
   "metadata": {},
   "outputs": [],
   "source": [
    "#Create a column called Total_Connections that adds NumConnections and NumConnectionsUnder\n",
    "train_copy['Total_Connections'] = train_copy['NumConnections'] + train_copy['NumConnectionsUnder']"
   ]
  },
  {
   "cell_type": "code",
   "execution_count": null,
   "id": "ef8a0066",
   "metadata": {},
   "outputs": [],
   "source": [
    "#create a column named area_connection that divides pipe_area by NumConnections\n",
    "train_copy['area_connection'] = train_copy['Total_Connections']/ train_copy['pipe_area'] "
   ]
  },
  {
   "cell_type": "code",
   "execution_count": null,
   "id": "bc445385",
   "metadata": {},
   "outputs": [],
   "source": [
    "train_copy.head(3)"
   ]
  },
  {
   "cell_type": "code",
   "execution_count": null,
   "id": "44251598",
   "metadata": {},
   "outputs": [],
   "source": [
    "#"
   ]
  },
  {
   "cell_type": "code",
   "execution_count": null,
   "id": "fd10041e",
   "metadata": {},
   "outputs": [],
   "source": [
    "#create a boolean column named connection_bool that is 1 if NumConnections is greater than 1\n",
    "train_copy['connection_bool'] = np.where(train_copy['Total_Connections'] > 1, 1, 0)"
   ]
  },
  {
   "cell_type": "code",
   "execution_count": null,
   "id": "098e62d2",
   "metadata": {},
   "outputs": [],
   "source": [
    "#transform Inspection Date to datetime format\n",
    "train_copy['InspectionDate'] = pd.to_datetime(train_copy['InspectionDate'])\n"
   ]
  },
  {
   "cell_type": "code",
   "execution_count": null,
   "id": "1f6102d3",
   "metadata": {},
   "outputs": [],
   "source": [
    "train_copy.columns"
   ]
  },
  {
   "cell_type": "code",
   "execution_count": null,
   "id": "f199302c",
   "metadata": {},
   "outputs": [],
   "source": [
    "#hot encode severity_incidence column in the train_copy dataframe\n",
    "train_copy = pd.get_dummies(train_copy, columns=['Severity'], prefix = ['Severity'])\n",
    "train_copy.head(1)"
   ]
  },
  {
   "cell_type": "code",
   "execution_count": null,
   "id": "3fe0dcdb",
   "metadata": {},
   "outputs": [],
   "source": [
    "#change name of Severity_Incidence_1 column to Severity_low\n",
    "train_copy = train_copy.rename(columns={'Severity_1.0': 'Severity_high'})\n",
    "#change name of Severity_Incidence_2 column to Severity_medium\n",
    "train_copy = train_copy.rename(columns={'Severity_2.0': 'Severity_medium'})\n",
    "#change name of Severity_Incidence_3 column to Severity_high\n",
    "train_copy = train_copy.rename(columns={'Severity_3.0': 'Severity_low'})\n",
    "#drop Severity_4.0 column\n",
    "train_copy = train_copy.drop(['Severity_4.0'], axis=1)"
   ]
  },
  {
   "cell_type": "code",
   "execution_count": null,
   "id": "24d43d6a",
   "metadata": {},
   "outputs": [],
   "source": [
    "train_copy.head(1)"
   ]
  },
  {
   "cell_type": "code",
   "execution_count": null,
   "id": "3cae8354",
   "metadata": {},
   "outputs": [],
   "source": [
    "train_copy['BoolBridle'].describe()"
   ]
  },
  {
   "cell_type": "code",
   "execution_count": null,
   "id": "026c1af8",
   "metadata": {},
   "outputs": [],
   "source": [
    "# Converting Boolbride into  boolean variable\n",
    "def boolbridle(x):\n",
    "    return 1 if x == 'True' else 0"
   ]
  },
  {
   "cell_type": "code",
   "execution_count": null,
   "id": "e8031e3c",
   "metadata": {},
   "outputs": [],
   "source": [
    "# Apply function on dataset\n",
    "train_copy['BoolBridle'] = train_copy['BoolBridle'].apply(lambda x: boolbridle(x))"
   ]
  },
  {
   "cell_type": "code",
   "execution_count": null,
   "id": "d2cbfe8c",
   "metadata": {},
   "outputs": [],
   "source": [
    "train_copy.head()"
   ]
  },
  {
   "cell_type": "code",
   "execution_count": null,
   "id": "075eed81",
   "metadata": {},
   "outputs": [],
   "source": [
    "#create a boolean column named GasType_bool that is 1 if GasType is equal to Natural Gas\n",
    "train_copy['GasType_bool'] = np.where(train_copy['GasType'] == 'Natural Gas', 1, 0)"
   ]
  },
  {
   "attachments": {},
   "cell_type": "markdown",
   "id": "14422ab8",
   "metadata": {},
   "source": []
  },
  {
   "cell_type": "code",
   "execution_count": null,
   "id": "abe968ce",
   "metadata": {},
   "outputs": [],
   "source": [
    "#how much RAM is being used\n",
    "import psutil\n",
    "psutil.virtual_memory()\n"
   ]
  },
  {
   "cell_type": "code",
   "execution_count": null,
   "id": "a36cc8c9",
   "metadata": {},
   "outputs": [],
   "source": [
    "print (train_copy['Material'].unique())"
   ]
  },
  {
   "cell_type": "code",
   "execution_count": null,
   "id": "e662ec6d",
   "metadata": {},
   "outputs": [],
   "source": [
    "#Map df_combined Material column to the names of materials\n",
    "train_copy['Material'] = train_copy['Material'].map({'PE': 'Polyethylene', 'AO': 'Acrylonitrile-Butadiene-Styrene', 'FD': 'Fiberglass-Reinforced Plastic', \n",
    "    'FG': 'Fiberglass', 'PN': 'Polypropylene', 'PA': 'Polyamide', 'FO': 'Flexible Polyolefin', 'FI': 'Flexible Polyvinyl Chloride', 'CU': 'Copper', \n",
    "    'PV': 'Polyvinylidene Fluoride', 'ZD': 'Zinc-Coated Steel', 'ZA': 'Zinc-Aluminum', 'CP': 'Cast Iron', 'CS': 'Cast Steel', \n",
    "    'ZC': 'Zinc-Coated Steel', 'ZM': 'Zinc-Magnesium','ZN': 'Zinc', 'AL': 'Aluminum', 'ZP': 'Zinc-Coated Steel', 'ZF': 'Zinc-Aluminum-Magnesium'})\n"
   ]
  },
  {
   "cell_type": "code",
   "execution_count": null,
   "id": "1eadf041",
   "metadata": {},
   "outputs": [],
   "source": [
    "#Hot enconde Material column in the train_copy dataframe subset\n",
    "train_copy = pd.get_dummies(train_copy, columns=['Material'])\n",
    "train_copy = train_copy.drop(['Material_Fiberglass', 'Material_Zinc-Coated Steel', 'Material_Polyvinylidene Fluoride','Material_Flexible Polyolefin', 'Material_Flexible Polyvinyl Chloride', 'Material_Polyamide'], axis=1)\n",
    "train_copy.head(1)"
   ]
  },
  {
   "cell_type": "code",
   "execution_count": null,
   "id": "e335b3dd",
   "metadata": {},
   "outputs": [],
   "source": [
    "train_copy.columns"
   ]
  },
  {
   "cell_type": "code",
   "execution_count": null,
   "id": "554afd49",
   "metadata": {},
   "outputs": [],
   "source": [
    "#create polinomial features in train_copy for Diameter, Length, Pressure\n",
    "poly = PolynomialFeatures(2)\n",
    "train_copy['Diameter2'] = poly.fit_transform(train_copy[['Diameter']])[:,2]\n",
    "train_copy['Length2'] = poly.fit_transform(train_copy[['Length']])[:,2]\n",
    "train_copy['Pressure2'] = poly.fit_transform(train_copy[['Pressure']])[:,2]\n",
    "train_copy.head(1)\n",
    "\n"
   ]
  },
  {
   "attachments": {},
   "cell_type": "markdown",
   "id": "ee189e5b",
   "metadata": {},
   "source": [
    "# Dropping \n",
    "\n",
    "Mkaing df lighter just before joining"
   ]
  },
  {
   "cell_type": "code",
   "execution_count": null,
   "id": "7b85ee09",
   "metadata": {},
   "outputs": [],
   "source": [
    "train_copy.shape\n",
    "#delete the rows with YearBuilt higher than InspectionYear\n",
    "train_copy = train_copy.drop(train_copy[(train_copy['YearBuilt'] > train_copy['InspectionYear'])].index)\n",
    "train_copy.drop('InspectionDate', axis=1, inplace=True)\n",
    "#show null values in train_copy\n",
    "train_copy.isnull().sum()\n",
    "    \n",
    "#delete nulls from train_copy\n",
    "train_copy = train_copy.dropna()\n",
    "\n",
    "#drop GasType column\n",
    "train_copy = train_copy.drop(['GasType'], axis=1)\n"
   ]
  },
  {
   "cell_type": "code",
   "execution_count": null,
   "id": "8fa35d38",
   "metadata": {},
   "outputs": [],
   "source": [
    "#show null values in train_copy\n",
    "train_copy.isnull().sum()\n",
    "    "
   ]
  },
  {
   "cell_type": "code",
   "execution_count": null,
   "id": "564a32d7",
   "metadata": {},
   "outputs": [],
   "source": [
    "# free up memory\n",
    "del df_inspection\n",
    "del df_network\n",
    "del network_unique\n",
    "del train\n",
    "del df_sample_submission\n",
    "del df_sample\n",
    "del sample_unique"
   ]
  },
  {
   "cell_type": "markdown",
   "id": "cb7c6610",
   "metadata": {},
   "source": [
    "# Adding a new dataset\n",
    "We want to extract value of two categorical variables, Town and Province but the way we have them now they are useless.\n",
    "\n",
    "We will add a new dataset to join and extract the surface of each town as well as the comunidad autonoma to group by accordingly in another column the number of towns and afterwards hot encode\n"
   ]
  },
  {
   "cell_type": "code",
   "execution_count": null,
   "id": "9b5189a8",
   "metadata": {},
   "outputs": [],
   "source": [
    "#count towns populating Town column\n",
    "train_copy['Town'].value_counts()\n",
    "train_copy['Town'].unique()"
   ]
  },
  {
   "cell_type": "code",
   "execution_count": null,
   "id": "f8e80bb9",
   "metadata": {},
   "outputs": [],
   "source": [
    "#point to the folder where the data is stored\n",
    "os.chdir(r\"C:\\Users\\pedro\\datathon\\base\\complementary_datasets\")\n",
    "\n",
    "# Loading provincias dataset\n",
    "provincias = pd.read_excel('promedio_tiempo_provincia_anual.xlsx')\n",
    "\n",
    "#Loading municipios dataset\n",
    "#df_mun = pd.read_excel('list-mun-2012.xls')\n"
   ]
  },
  {
   "cell_type": "code",
   "execution_count": null,
   "id": "6a17e009",
   "metadata": {},
   "outputs": [],
   "source": [
    "normalize_characters(train_copy, 'Province')\n",
    "normalize_characters(provincias, 'Province')"
   ]
  },
  {
   "cell_type": "code",
   "execution_count": null,
   "id": "a70169a5",
   "metadata": {},
   "outputs": [],
   "source": [
    "#join train_copy and provincias on Province\n",
    "train_copy = train_copy.merge(provincias, on='Province', how='left')"
   ]
  },
  {
   "cell_type": "code",
   "execution_count": null,
   "id": "01fddbbf",
   "metadata": {},
   "outputs": [],
   "source": [
    "train_copy.head(1)"
   ]
  },
  {
   "cell_type": "code",
   "execution_count": null,
   "id": "80aeb4b0",
   "metadata": {},
   "outputs": [],
   "source": [
    "#count nulls in train_copy\n",
    "train_copy.isnull().sum()"
   ]
  },
  {
   "cell_type": "code",
   "execution_count": null,
   "id": "7ad34631",
   "metadata": {},
   "outputs": [],
   "source": [
    "#compare array for column Province in train_copy and provincias and compute the set difference\n",
    "np.setdiff1d(train_copy['Province'].unique(), provincias['Province'].unique())\n"
   ]
  },
  {
   "cell_type": "code",
   "execution_count": null,
   "id": "52e9c44e",
   "metadata": {},
   "outputs": [],
   "source": [
    "del provincias"
   ]
  },
  {
   "cell_type": "code",
   "execution_count": null,
   "id": "e1c07b48",
   "metadata": {},
   "outputs": [],
   "source": [
    "#place Province and Town Columns at the end of the dataframe\n",
    "cols = list(train_copy.columns.values)\n",
    "cols.pop(cols.index('Province'))\n",
    "cols.pop(cols.index('Town'))\n",
    "train_copy = train_copy[cols+['Province','Town']]\n",
    "train_copy.tail(2)"
   ]
  },
  {
   "cell_type": "code",
   "execution_count": null,
   "id": "8422db09",
   "metadata": {},
   "outputs": [],
   "source": [
    "normalize_characters(train_copy, 'Town')"
   ]
  },
  {
   "cell_type": "code",
   "execution_count": null,
   "id": "c98da0d0",
   "metadata": {},
   "outputs": [],
   "source": [
    "train_copy.dtypes"
   ]
  },
  {
   "attachments": {},
   "cell_type": "markdown",
   "id": "7eb53ca6",
   "metadata": {},
   "source": [
    "# Outlier section"
   ]
  },
  {
   "cell_type": "code",
   "execution_count": null,
   "id": "1d4b00fb",
   "metadata": {},
   "outputs": [],
   "source": [
    "#delete outliers in Year_Built column < 1960\n",
    "train_copy = train_copy[train_copy['YearBuilt'] > 1975]"
   ]
  },
  {
   "cell_type": "code",
   "execution_count": null,
   "id": "ccdf400c",
   "metadata": {},
   "outputs": [],
   "source": [
    "#Show the distribution of YearBuilt\n",
    "plt.figure(figsize=(10,5))\n",
    "sns.distplot(train_copy['YearBuilt'], color='blue', bins=100, hist_kws={'alpha': 0.4});\n",
    "plt.show()"
   ]
  },
  {
   "cell_type": "code",
   "execution_count": null,
   "id": "b727443b",
   "metadata": {},
   "outputs": [],
   "source": [
    "#eliminate values higher than 40 in MonthsLastRev column\n",
    "train_copy = train_copy[train_copy['MonthsLastRev'] < 40]"
   ]
  },
  {
   "cell_type": "code",
   "execution_count": null,
   "id": "b7e1478f",
   "metadata": {},
   "outputs": [],
   "source": [
    "#show the distribution of MonthsLastRev\n",
    "plt.figure(figsize=(10,5))\n",
    "sns.distplot(train_copy['MonthsLastRev'], color='blue', bins=100, hist_kws={'alpha': 0.4});\n",
    "plt.show()\n"
   ]
  },
  {
   "cell_type": "code",
   "execution_count": null,
   "id": "7b66fabc",
   "metadata": {},
   "outputs": [],
   "source": [
    "# use describe function of monthslastrev column to see the distribution of values\n",
    "train_copy['MonthsLastRev'].describe()\n"
   ]
  },
  {
   "cell_type": "code",
   "execution_count": null,
   "id": "4a9b4b9c",
   "metadata": {},
   "outputs": [],
   "source": [
    "#eliminate values higher than 400 in diameter column\n",
    "train_copy = train_copy[train_copy['Diameter'] < 400]"
   ]
  },
  {
   "cell_type": "code",
   "execution_count": null,
   "id": "7817e875",
   "metadata": {},
   "outputs": [],
   "source": [
    "#show the distribution of Diameter\n",
    "plt.figure(figsize=(10,5))\n",
    "sns.distplot(train_copy['Diameter'], color='blue', bins=100, hist_kws={'alpha': 0.4});\n",
    "plt.show()\n"
   ]
  },
  {
   "cell_type": "code",
   "execution_count": null,
   "id": "b4cddf70",
   "metadata": {},
   "outputs": [],
   "source": [
    "cols = ['Age_pipe_at_inspection','Length','YearBuilt','InspectionYear'] # one or more\n",
    "\n",
    "Q1 = train_copy[cols].quantile(0.25)\n",
    "Q3 = train_copy[cols].quantile(0.75)\n",
    "IQR = Q3 - Q1\n",
    "\n",
    "train_copy = train_copy[~((train_copy[cols] < (Q1 - 1.5 * IQR)) |(train_copy[cols] > (Q3 + 1.5 * IQR))).any(axis=1)]"
   ]
  },
  {
   "cell_type": "code",
   "execution_count": null,
   "id": "41d1a8b5",
   "metadata": {},
   "outputs": [],
   "source": [
    "train_copy.shape"
   ]
  },
  {
   "cell_type": "code",
   "execution_count": null,
   "id": "f42a09fa",
   "metadata": {},
   "outputs": [],
   "source": [
    "#graph histogram of MonthsLastRev column\n",
    "train_copy['MonthsLastRev'].hist()"
   ]
  },
  {
   "cell_type": "code",
   "execution_count": null,
   "id": "63f79d71",
   "metadata": {},
   "outputs": [],
   "source": [
    "#plot column Length\n",
    "train_copy['Length'].value_counts()"
   ]
  },
  {
   "cell_type": "code",
   "execution_count": null,
   "id": "aafc06ae",
   "metadata": {},
   "outputs": [],
   "source": [
    "#plot histogram of Length column\n",
    "train_copy['Length'].hist()"
   ]
  },
  {
   "cell_type": "code",
   "execution_count": null,
   "id": "dd15dc50",
   "metadata": {},
   "outputs": [],
   "source": [
    "train_copy.columns"
   ]
  },
  {
   "attachments": {},
   "cell_type": "markdown",
   "id": "f30d4011",
   "metadata": {},
   "source": [
    "# Dropping section\n",
    "Dropping will be done here"
   ]
  },
  {
   "cell_type": "code",
   "execution_count": null,
   "id": "00dc74b2",
   "metadata": {},
   "outputs": [],
   "source": [
    "#delete the rows with YearBuilt higher than InspectionYear\n",
    "train_copy = train_copy.drop(train_copy[(train_copy['YearBuilt'] > train_copy['InspectionYear'])].index)"
   ]
  },
  {
   "cell_type": "code",
   "execution_count": null,
   "id": "bd158e21",
   "metadata": {},
   "outputs": [],
   "source": [
    "#train_copy.drop('InspectionDate', axis=1, inplace=True)"
   ]
  },
  {
   "cell_type": "code",
   "execution_count": null,
   "id": "cb20705b",
   "metadata": {},
   "outputs": [],
   "source": [
    "#show null values in train_copy\n",
    "train_copy.isnull().sum()\n",
    "    "
   ]
  },
  {
   "cell_type": "code",
   "execution_count": null,
   "id": "163155be",
   "metadata": {},
   "outputs": [],
   "source": [
    "#delete nulls from train_copy\n",
    "train_copy = train_copy.dropna()\n"
   ]
  },
  {
   "cell_type": "code",
   "execution_count": null,
   "id": "e39b5b0a",
   "metadata": {},
   "outputs": [],
   "source": []
  },
  {
   "attachments": {},
   "cell_type": "markdown",
   "id": "1765b9ba",
   "metadata": {},
   "source": [
    "# Exporting the new dataset for a next notebook"
   ]
  },
  {
   "cell_type": "code",
   "execution_count": null,
   "id": "518deb74",
   "metadata": {},
   "outputs": [],
   "source": [
    "#point to the folder where the data is stored\n",
    "os.chdir(r\"C:\\Users\\pedro\\datathon\")\n",
    "#export the dataframe to a csv file\n",
    "train_copy.to_csv('train_consolidated_weather.csv', index=False)"
   ]
  },
  {
   "cell_type": "markdown",
   "id": "4cda55b3",
   "metadata": {},
   "source": [
    "# Plotting EDA for new dataset"
   ]
  },
  {
   "cell_type": "code",
   "execution_count": null,
   "id": "3b77dd44",
   "metadata": {},
   "outputs": [],
   "source": [
    "#pandas profiling on the train_copy dataframe\n",
    "profile = ProfileReport(train_copy, title='Pandas Profiling Report', html={'style':{'full_width':True}})\n",
    "profile.to_file(\"train_consolidated_weather.html\")"
   ]
  },
  {
   "attachments": {},
   "cell_type": "markdown",
   "id": "45701319",
   "metadata": {},
   "source": [
    "# The Archive Section\n",
    "Just in case we regret....\n",
    "NOT DELETED JUST IN CASE NEEDED, HIGHLY CONFIDENT WE DONT NEED THESE\n"
   ]
  },
  {
   "cell_type": "markdown",
   "id": "1596ed67",
   "metadata": {},
   "source": [
    "#aggregate the number of Age_pipe_inspection in a new column\n",
    "train_copy['Aggregate_pipe_age_inspection'] = train_copy.groupby('PipeId')['Age_pipe_inspection'].transform('sum')\n",
    "#place column in 10th position\n",
    "cols = list(train_copy.columns.values)\n",
    "cols.pop(cols.index('Aggregate_pipe_age_inspection'))\n",
    "train_copy = train_copy[['PipeId', 'MaintenanceId', 'Inspections', 'Probability_incidence', 'Risk_S*I/Inspections', 'Average_MonthsLastRev',\n",
    "    'Age_pipe_inspection', 'Aggregate_pipe_age_inspection', 'No_Incidents', 'Risk_S*I', 'average_severity', 'MonthsLastRev', 'Severity', 'Incidence', 'Province',\n",
    "    'Town','YearBuilt', 'InspectionYear', 'InspectionDate','Material', 'GasType', 'Diameter', 'Length', 'Pressure',\n",
    "    'NumConnections', 'NumConnectionsUnder', 'BoolBridle']]\n",
    "train_copy.head(10)\n"
   ]
  },
  {
   "cell_type": "markdown",
   "id": "b5637c12",
   "metadata": {},
   "source": [
    "#divide the Aggregate_pipe_age_inspection by the count of Incidence when is 1 and create new column with the average_age_pipe_inspection_when_incidence saving it in 10th position\n",
    "train_copy['average_age_pipe_inspection_when_incidence'] = train_copy['Aggregate_pipe_age_inspection'] / train_copy.groupby('PipeId')['Incidence'].transform('count')\n",
    "#place column in 10th position\n",
    "cols = list(train_copy.columns.values)\n",
    "cols.pop(cols.index('average_age_pipe_inspection_when_incidence'))\n",
    "train_copy = train_copy[['PipeId', 'MaintenanceId', 'Inspections', 'Probability_incidence', 'Risk_S*I/Inspections', 'Average_MonthsLastRev',\n",
    "    'Age_pipe_inspection', 'Aggregate_pipe_age_inspection', 'average_age_pipe_inspection_when_incidence', 'No_Incidents', 'Risk_S*I', 'average_severity', 'MonthsLastRev', 'Severity', 'Incidence', 'Province',\n",
    "    'Town','YearBuilt', 'InspectionYear', 'InspectionDate','Material', 'GasType', 'Diameter', 'Length', 'Pressure',\n",
    "    'NumConnections', 'NumConnectionsUnder', 'BoolBridle']]\n",
    "#head of rows only where average_age_pipe_inspection_when_incidence when Incidence is 0\n",
    "train_copy[train_copy['Incidence'] == 0].head(10)"
   ]
  },
  {
   "cell_type": "markdown",
   "id": "522fca87",
   "metadata": {},
   "source": [
    "#take PipeId column from df_submission dataframe and match it with PipeId column in train_copy dataframe to split train_copy into df_combined_train and df_combined_test. The test split should be the one with the higher number of rows\n",
    "df_combined_test = train_copy[train_copy['PipeId'].isin(df_submission['PipeId'])]\n",
    "df_combined_train = train_copy[~train_copy['PipeId'].isin(df_submission['PipeId'])]\n",
    "#Do not look back at the test set until you are ready to submit your predictions\n"
   ]
  },
  {
   "cell_type": "markdown",
   "id": "1e6669e5",
   "metadata": {},
   "source": [
    "#take PipeId column from df_submission dataframe and match it with PipeId column in train_copy dataframe to split train_copy into df_combined_train and df_combined_test. The test split should be the one with the higher number of rows\n",
    "df_combined_trained = train_copy[train_copy['PipeId'].isin(df_submission['PipeId'])]\n",
    "df_combined_test = train_copy[~train_copy['PipeId'].isin(df_submission['PipeId'])]"
   ]
  },
  {
   "attachments": {},
   "cell_type": "markdown",
   "id": "35f5d6a9",
   "metadata": {},
   "source": [
    "#normalize df_combined_train_sub dataframe but the booleans\n",
    "df_combined_train_sub_norm = df_combined_train_sub.copy()\n",
    "df_combined_train_sub_norm[['Inspections', 'No_Incidents', 'Risk_S*I/Inspections', 'MonthsLastRev', 'Risk_S*I', 'Severity',\n",
    "         'YearBuilt', 'Diameter', 'Length', 'Pressure', 'NumConnections','NumConnectionsUnder', 'TownCount']] = MinMaxScaler().fit_transform(df_combined_train_sub_norm[['Inspections', 'No_Incidents', 'Risk_S*I/Inspections', 'MonthsLastRev', 'Risk_S*I', 'Severity',\n",
    "            'YearBuilt', 'Diameter', 'Length', 'Pressure', 'NumConnections','NumConnectionsUnder', 'TownCount']])\n",
    "df_combined_train_sub_norm.head(2)"
   ]
  },
  {
   "attachments": {},
   "cell_type": "markdown",
   "id": "23e7186b",
   "metadata": {},
   "source": [
    "#Extract the day of the week from InspectionDate and place it in 5th position\n",
    "train_copy['InspectionDay'] = train_copy['InspectionDate'].dt.day_name()\n",
    "cols = list(train_copy.columns.values)\n",
    "cols.pop(cols.index('InspectionDay'))\n",
    "train_copy = train_copy[['PipeId', 'Inspections', 'No_Incidents', 'Risk_S*I/Inspections','leakage_estimate_factor','InspectionDay',\n",
    "    'InspectionYear', 'InspectionDate', 'MonthsLastRev', 'Risk_S*I','Severity','Incidence', 'Province', 'Town', 'YearBuilt', 'Material', 'GasType',\n",
    "    'Diameter', 'Length', 'Pressure', 'NumConnections', 'NumConnectionsUnder', 'BoolBridle']]\n",
    "train_copy.head(1)\n"
   ]
  },
  {
   "attachments": {},
   "cell_type": "markdown",
   "id": "465c900b",
   "metadata": {},
   "source": [
    "#on the train_copy if YEarBuilt is equal to 2021 and InspectionYear is equal to NaN, fill the InspectionYear with 2021\n",
    "#train_copy.loc[(train_copy['YearBuilt'] > 2020) & (train_copy['InspectionYear'].isnull()), 'InspectionYear'] = 2021\n"
   ]
  },
  {
   "attachments": {},
   "cell_type": "markdown",
   "id": "9f3e17e5",
   "metadata": {},
   "source": [
    "#do a range in the train_copy for the YearBuilt column if the value is greater than 2020 and the InspectionYear is equal to Nan, change the value of InspectionYear to YearBuilt\n",
    "\n",
    "for i in train_copy['YearBuilt']:\n",
    "    if i > 2020:\n",
    "        train_copy.loc[(train_copy['YearBuilt'] > 2020) & (train_copy['InspectionYear'].isnull()), 'InspectionYear'] = i"
   ]
  },
  {
   "attachments": {},
   "cell_type": "markdown",
   "id": "31cd550e",
   "metadata": {},
   "source": [
    "\n"
   ]
  }
 ],
 "metadata": {
  "kernelspec": {
   "display_name": "Python 3",
   "language": "python",
   "name": "python3"
  },
  "language_info": {
   "codemirror_mode": {
    "name": "ipython",
    "version": 3
   },
   "file_extension": ".py",
   "mimetype": "text/x-python",
   "name": "python",
   "nbconvert_exporter": "python",
   "pygments_lexer": "ipython3",
   "version": "3.10.10"
  },
  "vscode": {
   "interpreter": {
    "hash": "326e4f63ad54c217260fc7be1c53acea6ef3ea6cd7ac93b3b02195c6d8fa7cb8"
   }
  }
 },
 "nbformat": 4,
 "nbformat_minor": 5
}
