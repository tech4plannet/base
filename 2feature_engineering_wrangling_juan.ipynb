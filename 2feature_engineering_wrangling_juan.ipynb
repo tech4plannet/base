{
 "cells": [
  {
   "attachments": {},
   "cell_type": "markdown",
   "id": "c6ba2d28",
   "metadata": {},
   "source": [
    "# Libraries used\n",
    "PV --> Running 3.10.10\n",
    "Running Kernel3.9.13 base anaconda"
   ]
  },
  {
   "attachments": {},
   "cell_type": "markdown",
   "id": "a47ff5b1",
   "metadata": {},
   "source": [
    "#perform al pip installs in one go comment out if already installed\n",
    "!pip install pandas\n",
    "!pip install numpy\n",
    "!pip install matplotlib\n",
    "!pip install seaborn\n",
    "!pip install sklearn\n",
    "!pip install scipy\n",
    "!pip install statsmodels\n",
    "!pip install plotly\n",
    "!pip install cufflinks\n",
    "!pip install squarify\n",
    "!pip install yellowbrick\n",
    "!pip install lazypredict\n",
    "!pip install pandas_profiling"
   ]
  },
  {
   "cell_type": "code",
   "execution_count": 1,
   "id": "869b5d85",
   "metadata": {},
   "outputs": [],
   "source": [
    "import pandas as pd\n",
    "import numpy as np\n",
    "import seaborn as sns  \n",
    "import matplotlib.pyplot as plt\n",
    "import plotly.io as pio\n",
    "#import squarify #treemap\n",
    "import os\n",
    "import matplotlib\n",
    "import warnings\n",
    "\n",
    "\n",
    "\n",
    "#to enable the inline plotting\n",
    "%matplotlib inline \n",
    "\n",
    "import warnings\n",
    "warnings.filterwarnings('ignore')\n",
    "\n",
    "sns.set_style(\"darkgrid\")"
   ]
  },
  {
   "cell_type": "code",
   "execution_count": 2,
   "id": "f230c51a",
   "metadata": {},
   "outputs": [],
   "source": [
    "from sklearn.linear_model import LogisticRegression\n",
    "\n",
    "from sklearn.model_selection import cross_val_score\n",
    "from sklearn.model_selection import RepeatedStratifiedKFold\n",
    "from sklearn.model_selection import cross_val_score\n",
    "from sklearn.model_selection import train_test_split\n",
    "\n",
    "from sklearn.metrics import accuracy_score, confusion_matrix, classification_report\n",
    "from sklearn.metrics import classification_report\n",
    "\n",
    "from sklearn.naive_bayes import GaussianNB\n",
    "from sklearn.tree import DecisionTreeClassifier\n",
    "from sklearn.neighbors import KNeighborsClassifier\n",
    "\n",
    "from sklearn.ensemble import RandomForestClassifier\n",
    "from sklearn.ensemble import GradientBoostingClassifier\n",
    "\n",
    "from sklearn.preprocessing import StandardScaler\n",
    "from sklearn.preprocessing import PolynomialFeatures\n",
    "\n",
    "\n",
    "from scipy.stats import normaltest\n",
    "\n",
    "from pandas_profiling import ProfileReport\n",
    "\n",
    "from yellowbrick.classifier import ROCAUC\n",
    "from yellowbrick.classifier import ClassPredictionError\n",
    "from yellowbrick.style.palettes import PALETTES, SEQUENCES, color_palette\n",
    "\n",
    "import lazypredict\n",
    "from lazypredict.Supervised import LazyClassifier\n",
    "\n",
    "warnings.simplefilter(action='ignore', category=FutureWarning)"
   ]
  },
  {
   "attachments": {},
   "cell_type": "markdown",
   "id": "19146b48",
   "metadata": {},
   "source": [
    "# Functions\n"
   ]
  },
  {
   "cell_type": "code",
   "execution_count": 3,
   "id": "6a4daab2",
   "metadata": {},
   "outputs": [],
   "source": [
    "# Function for EDA. Using the display() function to have  well-formatted tables. We are mainly using pandas to explore the datasets\n",
    "\n",
    "def dataset_description(df_target):\n",
    "\n",
    "    print('This is the Dataset shape: %s\\n' % (df_target.shape, ))\n",
    "    print('Dataset columns: %s\\n' % df_target.columns)\n",
    "\n",
    "    print('\\nColumns description:\\n')\n",
    "    display(df_target.info())\n",
    "    display(df_target.describe())  # describe the dataset\n",
    "\n",
    "    print('\\nNull values:\\n')\n",
    "    display(df_target.isnull().sum())  # Identify null values\n",
    "\n",
    "#function performing a quick check on df_inspection to have best of pandas functions separated by a line\n",
    "def quick_check(dataframe):\n",
    "    print('First 5 rows %s\\n')\n",
    "    print(dataframe.head(2))\n",
    "    print(\"=====================================\")\n",
    "    print('Dataframe shape %s\\n')\n",
    "    print(dataframe.shape)\n",
    "    print(\"=====================================\")\n",
    "    print('Dataframe describe categorical %s\\n')\n",
    "    print(dataframe.describe(include=['O']))\n",
    "    print(\"=====================================\")\n",
    "    print('Dataframe null values %s\\n')\n",
    "    print(dataframe.isnull().sum())\n",
    "    print(\"=====================================\")\n",
    "    print('Dataframe value counts %s\\n')\n",
    "    print(dataframe.value_counts())\n",
    "    print(\"=====================================\")\n",
    "\n",
    "#stats function\n",
    "def stats(dataframe):\n",
    "    print('Dataframe correlation %s\\n')\n",
    "    print(dataframe.corr())\n",
    "    print(\"=====================================\")\n",
    "    print('Dataframe covariance %s\\n')\n",
    "    print(dataframe.cov())\n",
    "    print(\"=====================================\")\n",
    "    print('Dataframe skew %s\\n')\n",
    "    print(dataframe.skew())\n",
    "    print(\"=====================================\")\n",
    "    print('Dataframe kurtosis %s\\n')\n",
    "    print(dataframe.kurt())\n",
    "    print(\"=====================================\")\n",
    "\n",
    "#create a function to normalize characters from a dataset's column in Spanish\n",
    "def normalize_characters(df, column):\n",
    "    df[column] = df[column].str.normalize('NFKD').str.encode('ascii', errors='ignore').str.decode('utf-8')\n",
    "    df[column] = df[column].str.lower()\n",
    "    df[column] = df[column].str.replace('á', 'a')\n",
    "    df[column] = df[column].str.replace('é', 'e')\n",
    "    df[column] = df[column].str.replace('í', 'i')\n",
    "    df[column] = df[column].str.replace('ó', 'o')\n",
    "    df[column] = df[column].str.replace('ú', 'u')\n",
    "    df[column] = df[column].str.replace('ñ', 'n')\n",
    "    df[column] = df[column].str.replace('ü', 'u')\n",
    "    df[column] = df[column].str.replace('ç', 'c')\n",
    "    df[column] = df[column].str.replace('(', '')\n",
    "    df[column] = df[column].str.replace(')', '')\n",
    "    df[column] = df[column].str.replace('\\'', '')\n",
    "    df[column] = df[column].str.replace('´', '')\n",
    "    df[column] = df[column].str.replace('`', '')\n",
    "    df[column] = df[column].str.replace('’', '')\n",
    "    return df.head(2)\n",
    "\n",
    "#create function to change detypes in64 to int32 in a df\n",
    "def change_dtypes(df):\n",
    "    for col in df.columns:\n",
    "        if df[col].dtype == 'int64':\n",
    "            df[col] = df[col].astype('int32')\n",
    "        elif df[col].dtype == 'float64':\n",
    "            df[col] = df[col].astype('float32')\n",
    "    return df\n",
    "\n",
    "def outlier_function(df, col_name):\n",
    "    \"\"\" this function detects first and third quartile and interquartile range for a given column of a dataframe\n",
    "    then calculates upper and lower limits to determine outliers conservatively\n",
    "    returns the number of lower and uper limit and number of outliers respectively\"\"\"\n",
    "    first_quartile = np.percentile(np.array(df[col_name].tolist()), 25)\n",
    "    third_quartile = np.percentile(np.array(df[col_name].tolist()), 75)\n",
    "    IQR = third_quartile - first_quartile\n",
    "                        \n",
    "    upper_limit = third_quartile+(3*IQR)\n",
    "    lower_limit = first_quartile-(3*IQR)\n",
    "    outlier_count = 0\n",
    "                    \n",
    "    for value in df[col_name].tolist():\n",
    "        if (value < lower_limit) | (value > upper_limit):\n",
    "            outlier_count +=1\n",
    "        else:\n",
    "            pass\n",
    "    return lower_limit, upper_limit, outlier_count"
   ]
  },
  {
   "cell_type": "code",
   "execution_count": 4,
   "id": "aac38c42",
   "metadata": {},
   "outputs": [],
   "source": [
    "#show all print outputs when using a function\n",
    "from IPython.core.interactiveshell import InteractiveShell\n",
    "InteractiveShell.ast_node_interactivity = \"all\"\n",
    "\n",
    "#display all columns\n",
    "pd.set_option('display.max_columns', None)\n"
   ]
  },
  {
   "cell_type": "markdown",
   "id": "d88a7d05",
   "metadata": {},
   "source": [
    "# 2. Data Collection and Understanding "
   ]
  },
  {
   "cell_type": "markdown",
   "id": "0b331027",
   "metadata": {},
   "source": [
    "## Network file"
   ]
  },
  {
   "cell_type": "markdown",
   "id": "931606e2",
   "metadata": {},
   "source": [
    "The network.csv file contains a static picture of the gas pipeline network. Every row corresponds to a pipe and has a unique PipeId identifier. The table has 1.446.529 pipes. \n",
    "\n",
    "The columns describe relevant features of each pipe. The complete list is: "
   ]
  },
  {
   "cell_type": "markdown",
   "id": "02c2859c",
   "metadata": {},
   "source": [
    "PipeId - unique identifier for the pipe \n",
    "\n",
    "Province - Spanish province where the pipe is located \n",
    "\n",
    "Town - Town or city where the pipe is located \n",
    "\n",
    "YearBuilt - Year in which the pipe was built and installed \n",
    "\n",
    "Material - Material in which the pipe is built \n",
    "\n",
    "GasType - Type of gas that runs through the pipe \n",
    "\n",
    "Diameter - diameter of the pipe \n",
    "\n",
    "Length - Length of the pipe \n",
    "\n",
    "Pressure - Pressure of the gas that runs through the pipe (bar) \n",
    "\n",
    "NumConnections - Number of connections (external). \n",
    "\n",
    "NumConnectionsUnder - Number of connections (internal and buried) \n",
    "\n",
    "BoolBridle  - Whether the pipe is bridled (True) or welded (False) "
   ]
  },
  {
   "cell_type": "markdown",
   "id": "2d409b09",
   "metadata": {},
   "source": [
    "## Inspection file"
   ]
  },
  {
   "cell_type": "markdown",
   "id": "5bc407aa",
   "metadata": {},
   "source": [
    "MaintenanceId - unique identifier for the inspection operation \n",
    "\n",
    "InspectionYear - year in which the inspection took place \n",
    "\n",
    "InspectionDate - date in which the inspection took place \n",
    "\n",
    "MonthsLastRev - number of months elapsed since the last previous inspection. \n",
    "\n",
    "Severity - Severity of the damage found (1: most severe, 3: least severe) \n",
    "\n",
    "Incidence - Boolean whether an incident was found on the revision (1) or not (0). "
   ]
  },
  {
   "attachments": {},
   "cell_type": "markdown",
   "id": "d7ed6752",
   "metadata": {},
   "source": [
    "# Merging datasets"
   ]
  },
  {
   "cell_type": "code",
   "execution_count": 5,
   "id": "57078a12",
   "metadata": {},
   "outputs": [],
   "source": [
    "#point to the folder where the data is stored for Pedro\n",
    "os.chdir(r\"C:\\Users\\pedro\\datathon\")\n",
    "\n",
    "# Loading inspection data\n",
    "df_inspection = pd.read_csv('inspections.csv')\n",
    "\n",
    "# Loading network data\n",
    "df_network = pd.read_csv('network.csv')\n"
   ]
  },
  {
   "cell_type": "code",
   "execution_count": 6,
   "id": "cf3c8dca",
   "metadata": {},
   "outputs": [],
   "source": [
    "#point to the folder where the data is stored for Pedro\n",
    "os.chdir(r\"C:\\Users\\pedro\\datathon\\Datathon-Rules-and-Documentation\") \n",
    "\n",
    "#Loading sample_submission\n",
    "df_sample_submission = pd.read_csv('sample_submission.csv')"
   ]
  },
  {
   "cell_type": "code",
   "execution_count": 5,
   "id": "f53839ee",
   "metadata": {},
   "outputs": [],
   "source": [
    "#point to the folder where the data is stored For Juan\n",
    "os.chdir(r\"C:\\Users\\JuanHorrillo\\OneDrive - IE Students\\Documents\\Masters\\Sustainability\\Notebook\")\n",
    "\n",
    "# Loading inspection data\n",
    "df_inspection = pd.read_csv('inspections.csv')\n",
    "\n",
    "# Loading network data\n",
    "df_network = pd.read_csv('network.csv')"
   ]
  },
  {
   "cell_type": "code",
   "execution_count": 6,
   "id": "09d0ac0a",
   "metadata": {},
   "outputs": [
    {
     "name": "stdout",
     "output_type": "stream",
     "text": [
      "First 5 rows %s\n",
      "\n",
      "      PipeId MaintenanceId  InspectionYear InspectionDate  MonthsLastRev  \\\n",
      "0  189311802  ZRV-00001972            2010     2010-10-01             24   \n",
      "1  188889914  ZRV-00001406            2010     2010-10-01             22   \n",
      "\n",
      "   Severity  Incidence  \n",
      "0         4          0  \n",
      "1         4          0  \n",
      "=====================================\n",
      "Dataframe shape %s\n",
      "\n",
      "(6345344, 7)\n",
      "=====================================\n",
      "Dataframe describe categorical %s\n",
      "\n",
      "       MaintenanceId InspectionDate\n",
      "count        6345344        6345344\n",
      "unique          4179           3565\n",
      "top     ZRV-00002121     2014-05-05\n",
      "freq           21773           5832\n",
      "=====================================\n",
      "Dataframe null values %s\n",
      "\n",
      "PipeId            0\n",
      "MaintenanceId     0\n",
      "InspectionYear    0\n",
      "InspectionDate    0\n",
      "MonthsLastRev     0\n",
      "Severity          0\n",
      "Incidence         0\n",
      "dtype: int64\n",
      "=====================================\n",
      "Dataframe value counts %s\n",
      "\n",
      "PipeId     MaintenanceId  InspectionYear  InspectionDate  MonthsLastRev  Severity  Incidence\n",
      "489616     ZRV-00003385   2013            2013-05-08      16             4         0            1\n",
      "256852211  ZRV-00002129   2016            2016-10-10      24             4         0            1\n",
      "256831542  ZRV-00004585   2018            2018-07-23      24             4         0            1\n",
      "                          2016            2016-07-14      24             4         0            1\n",
      "                          2014            2014-07-10      24             4         0            1\n",
      "                                                                                               ..\n",
      "188595687  ZRV-00003626   2018            2018-02-15      24             4         0            1\n",
      "                          2016            2016-02-17      24             4         0            1\n",
      "                          2014            2014-02-12      24             4         0            1\n",
      "                          2012            2012-02-20      24             4         0            1\n",
      "451995309  ZRV-00001573   2019            2019-10-26      24             4         0            1\n",
      "Length: 6345344, dtype: int64\n",
      "=====================================\n"
     ]
    }
   ],
   "source": [
    "quick_check(df_inspection)\n"
   ]
  },
  {
   "attachments": {},
   "cell_type": "markdown",
   "id": "942a7459",
   "metadata": {},
   "source": [
    "The function shows we have 6345344 rows for the inspections, among each 4179 appear to be unique and the most repeated one is ZRV-00002121 on 2014-05-05\n"
   ]
  },
  {
   "cell_type": "code",
   "execution_count": 7,
   "id": "464a7b5e",
   "metadata": {},
   "outputs": [
    {
     "data": {
      "text/html": [
       "<div>\n",
       "<style scoped>\n",
       "    .dataframe tbody tr th:only-of-type {\n",
       "        vertical-align: middle;\n",
       "    }\n",
       "\n",
       "    .dataframe tbody tr th {\n",
       "        vertical-align: top;\n",
       "    }\n",
       "\n",
       "    .dataframe thead th {\n",
       "        text-align: right;\n",
       "    }\n",
       "</style>\n",
       "<table border=\"1\" class=\"dataframe\">\n",
       "  <thead>\n",
       "    <tr style=\"text-align: right;\">\n",
       "      <th></th>\n",
       "      <th>PipeId</th>\n",
       "      <th>MaintenanceId</th>\n",
       "      <th>InspectionYear</th>\n",
       "      <th>InspectionDate</th>\n",
       "      <th>MonthsLastRev</th>\n",
       "      <th>Severity</th>\n",
       "      <th>Incidence</th>\n",
       "    </tr>\n",
       "  </thead>\n",
       "  <tbody>\n",
       "    <tr>\n",
       "      <th>622563</th>\n",
       "      <td>188821075</td>\n",
       "      <td>ZRV-00002121</td>\n",
       "      <td>2012</td>\n",
       "      <td>2011-12-28</td>\n",
       "      <td>24</td>\n",
       "      <td>4</td>\n",
       "      <td>0</td>\n",
       "    </tr>\n",
       "    <tr>\n",
       "      <th>622571</th>\n",
       "      <td>191340447</td>\n",
       "      <td>ZRV-00002121</td>\n",
       "      <td>2012</td>\n",
       "      <td>2011-12-28</td>\n",
       "      <td>24</td>\n",
       "      <td>4</td>\n",
       "      <td>0</td>\n",
       "    </tr>\n",
       "    <tr>\n",
       "      <th>622572</th>\n",
       "      <td>191340427</td>\n",
       "      <td>ZRV-00002121</td>\n",
       "      <td>2012</td>\n",
       "      <td>2011-12-28</td>\n",
       "      <td>24</td>\n",
       "      <td>4</td>\n",
       "      <td>0</td>\n",
       "    </tr>\n",
       "    <tr>\n",
       "      <th>622574</th>\n",
       "      <td>191340421</td>\n",
       "      <td>ZRV-00002121</td>\n",
       "      <td>2012</td>\n",
       "      <td>2011-12-28</td>\n",
       "      <td>24</td>\n",
       "      <td>4</td>\n",
       "      <td>0</td>\n",
       "    </tr>\n",
       "    <tr>\n",
       "      <th>622575</th>\n",
       "      <td>188802580</td>\n",
       "      <td>ZRV-00002121</td>\n",
       "      <td>2012</td>\n",
       "      <td>2011-12-28</td>\n",
       "      <td>24</td>\n",
       "      <td>4</td>\n",
       "      <td>0</td>\n",
       "    </tr>\n",
       "    <tr>\n",
       "      <th>...</th>\n",
       "      <td>...</td>\n",
       "      <td>...</td>\n",
       "      <td>...</td>\n",
       "      <td>...</td>\n",
       "      <td>...</td>\n",
       "      <td>...</td>\n",
       "      <td>...</td>\n",
       "    </tr>\n",
       "    <tr>\n",
       "      <th>5737006</th>\n",
       "      <td>450197378</td>\n",
       "      <td>ZRV-00002121</td>\n",
       "      <td>2020</td>\n",
       "      <td>2020-01-29</td>\n",
       "      <td>24</td>\n",
       "      <td>4</td>\n",
       "      <td>0</td>\n",
       "    </tr>\n",
       "    <tr>\n",
       "      <th>5737013</th>\n",
       "      <td>358229516</td>\n",
       "      <td>ZRV-00002121</td>\n",
       "      <td>2020</td>\n",
       "      <td>2020-01-29</td>\n",
       "      <td>24</td>\n",
       "      <td>4</td>\n",
       "      <td>0</td>\n",
       "    </tr>\n",
       "    <tr>\n",
       "      <th>5737179</th>\n",
       "      <td>351671916</td>\n",
       "      <td>ZRV-00002121</td>\n",
       "      <td>2020</td>\n",
       "      <td>2020-01-29</td>\n",
       "      <td>24</td>\n",
       "      <td>4</td>\n",
       "      <td>0</td>\n",
       "    </tr>\n",
       "    <tr>\n",
       "      <th>5737289</th>\n",
       "      <td>351671518</td>\n",
       "      <td>ZRV-00002121</td>\n",
       "      <td>2020</td>\n",
       "      <td>2020-01-29</td>\n",
       "      <td>24</td>\n",
       "      <td>4</td>\n",
       "      <td>0</td>\n",
       "    </tr>\n",
       "    <tr>\n",
       "      <th>5737290</th>\n",
       "      <td>191365725</td>\n",
       "      <td>ZRV-00002121</td>\n",
       "      <td>2020</td>\n",
       "      <td>2020-01-29</td>\n",
       "      <td>24</td>\n",
       "      <td>4</td>\n",
       "      <td>0</td>\n",
       "    </tr>\n",
       "  </tbody>\n",
       "</table>\n",
       "<p>21773 rows × 7 columns</p>\n",
       "</div>"
      ],
      "text/plain": [
       "            PipeId MaintenanceId  InspectionYear InspectionDate  \\\n",
       "622563   188821075  ZRV-00002121            2012     2011-12-28   \n",
       "622571   191340447  ZRV-00002121            2012     2011-12-28   \n",
       "622572   191340427  ZRV-00002121            2012     2011-12-28   \n",
       "622574   191340421  ZRV-00002121            2012     2011-12-28   \n",
       "622575   188802580  ZRV-00002121            2012     2011-12-28   \n",
       "...            ...           ...             ...            ...   \n",
       "5737006  450197378  ZRV-00002121            2020     2020-01-29   \n",
       "5737013  358229516  ZRV-00002121            2020     2020-01-29   \n",
       "5737179  351671916  ZRV-00002121            2020     2020-01-29   \n",
       "5737289  351671518  ZRV-00002121            2020     2020-01-29   \n",
       "5737290  191365725  ZRV-00002121            2020     2020-01-29   \n",
       "\n",
       "         MonthsLastRev  Severity  Incidence  \n",
       "622563              24         4          0  \n",
       "622571              24         4          0  \n",
       "622572              24         4          0  \n",
       "622574              24         4          0  \n",
       "622575              24         4          0  \n",
       "...                ...       ...        ...  \n",
       "5737006             24         4          0  \n",
       "5737013             24         4          0  \n",
       "5737179             24         4          0  \n",
       "5737289             24         4          0  \n",
       "5737290             24         4          0  \n",
       "\n",
       "[21773 rows x 7 columns]"
      ]
     },
     "execution_count": 7,
     "metadata": {},
     "output_type": "execute_result"
    }
   ],
   "source": [
    "#searching for MaintenanceId ZRV-00002121 in df_inspection\n",
    "df_inspection[df_inspection['MaintenanceId'] == 'ZRV-00002121']"
   ]
  },
  {
   "cell_type": "code",
   "execution_count": 8,
   "id": "7eaf2859",
   "metadata": {},
   "outputs": [
    {
     "data": {
      "text/plain": [
       "(21773, 7)"
      ]
     },
     "execution_count": 8,
     "metadata": {},
     "output_type": "execute_result"
    }
   ],
   "source": [
    "df_inspection[df_inspection['MaintenanceId'] == 'ZRV-00002121'].shape"
   ]
  },
  {
   "cell_type": "code",
   "execution_count": 9,
   "id": "8e03011f",
   "metadata": {},
   "outputs": [
    {
     "data": {
      "text/plain": [
       "<AxesSubplot:xlabel='InspectionYear'>"
      ]
     },
     "execution_count": 9,
     "metadata": {},
     "output_type": "execute_result"
    },
    {
     "data": {
      "image/png": "[encoded data removed]",
      "text/plain": [
       "<Figure size 800x550 with 1 Axes>"
      ]
     },
     "metadata": {},
     "output_type": "display_data"
    }
   ],
   "source": [
    "#plotting the distribution of MaintenanceId accross the years for ZRV-00002121 in df_inspection\n",
    "df_inspection[df_inspection['MaintenanceId'] == 'ZRV-00002121'].groupby('InspectionYear')['MaintenanceId'].count().plot(kind='bar')"
   ]
  },
  {
   "cell_type": "code",
   "execution_count": 10,
   "id": "3b3ea9a3",
   "metadata": {},
   "outputs": [
    {
     "data": {
      "text/plain": [
       "<AxesSubplot:xlabel='InspectionYear'>"
      ]
     },
     "execution_count": 10,
     "metadata": {},
     "output_type": "execute_result"
    },
    {
     "data": {
      "image/png": "[encoded data removed]",
      "text/plain": [
       "<Figure size 800x550 with 1 Axes>"
      ]
     },
     "metadata": {},
     "output_type": "display_data"
    }
   ],
   "source": [
    "#plotting the distribution of MaintenanceId accross the years\n",
    "df_inspection.groupby('InspectionYear')['MaintenanceId'].count().plot(kind='bar')"
   ]
  },
  {
   "attachments": {},
   "cell_type": "markdown",
   "id": "ef7fc912",
   "metadata": {},
   "source": [
    "Seems like not so many inspections were carried in 2010, we shall decide on whether to keep this dimension or not"
   ]
  },
  {
   "cell_type": "code",
   "execution_count": 11,
   "id": "cd3176eb",
   "metadata": {},
   "outputs": [
    {
     "name": "stdout",
     "output_type": "stream",
     "text": [
      "Dataframe correlation %s\n",
      "\n",
      "                PipeId  InspectionYear  MonthsLastRev  Severity  Incidence\n",
      "PipeId            1.00           -0.12           0.05      0.02      -0.02\n",
      "InspectionYear   -0.12            1.00           0.12      0.00      -0.00\n",
      "MonthsLastRev     0.05            0.12           1.00      0.01      -0.01\n",
      "Severity          0.02            0.00           0.01      1.00      -0.90\n",
      "Incidence        -0.02           -0.00          -0.01     -0.90       1.00\n",
      "=====================================\n",
      "Dataframe covariance %s\n",
      "\n",
      "                             PipeId  InspectionYear  MonthsLastRev  Severity  \\\n",
      "PipeId         12943583115885750.00    -40999914.58    27545538.86 129283.54   \n",
      "InspectionYear         -40999914.58            8.46           1.70      0.00   \n",
      "MonthsLastRev           27545538.86            1.70          24.62      0.00   \n",
      "Severity                  129283.54            0.00           0.00      0.00   \n",
      "Incidence                -107454.24           -0.00          -0.00     -0.00   \n",
      "\n",
      "                Incidence  \n",
      "PipeId         -107454.24  \n",
      "InspectionYear      -0.00  \n",
      "MonthsLastRev       -0.00  \n",
      "Severity            -0.00  \n",
      "Incidence            0.00  \n",
      "=====================================\n",
      "Dataframe skew %s\n",
      "\n",
      "PipeId            -0.07\n",
      "InspectionYear    -0.10\n",
      "MonthsLastRev      3.68\n",
      "Severity         -31.01\n",
      "Incidence         22.62\n",
      "dtype: float64\n",
      "=====================================\n",
      "Dataframe kurtosis %s\n",
      "\n",
      "PipeId             -0.72\n",
      "InspectionYear     -1.18\n",
      "MonthsLastRev      41.37\n",
      "Severity         1131.62\n",
      "Incidence         509.71\n",
      "dtype: float64\n",
      "=====================================\n"
     ]
    }
   ],
   "source": [
    "stats(df_inspection)"
   ]
  },
  {
   "attachments": {},
   "cell_type": "markdown",
   "id": "abd572cb",
   "metadata": {},
   "source": [
    " A positive kurtosis in a dataset implies that the data is more heavily concentrated around the mean than a normal distribution. This means that there are more outliers in the dataset and that the tails of the distribution are longer and fatter than a normal distribution. Months last revision is to be examined on this basis"
   ]
  },
  {
   "cell_type": "code",
   "execution_count": 12,
   "id": "33f2730b",
   "metadata": {},
   "outputs": [
    {
     "data": {
      "text/plain": [
       "<AxesSubplot:>"
      ]
     },
     "execution_count": 12,
     "metadata": {},
     "output_type": "execute_result"
    },
    {
     "data": {
      "image/png": "[encoded data removed]",
      "text/plain": [
       "<Figure size 800x550 with 1 Axes>"
      ]
     },
     "metadata": {},
     "output_type": "display_data"
    }
   ],
   "source": [
    "#plot histogram with many bins of MonthsLastRev in  df_inspection\n",
    "df_inspection['MonthsLastRev'].hist(bins=100)"
   ]
  },
  {
   "attachments": {},
   "cell_type": "markdown",
   "id": "b4a3aca2",
   "metadata": {},
   "source": [
    "The shape of the histogram reveals the most frequent inspections take place every 2 years or 24 months with some outliers hence affecting the normal distribution"
   ]
  },
  {
   "cell_type": "code",
   "execution_count": 13,
   "id": "01f603d3",
   "metadata": {},
   "outputs": [
    {
     "data": {
      "text/plain": [
       "<AxesSubplot:xlabel='PipeId', ylabel='MonthsLastRev'>"
      ]
     },
     "execution_count": 13,
     "metadata": {},
     "output_type": "execute_result"
    },
    {
     "data": {
      "image/png": "[encoded data removed]",
      "text/plain": [
       "<Figure size 800x550 with 1 Axes>"
      ]
     },
     "metadata": {},
     "output_type": "display_data"
    }
   ],
   "source": [
    "#plot violin plot of PipeId with Severity=1 in df_inspection\n",
    "sns.violinplot(x='PipeId', y='MonthsLastRev', data=df_inspection[df_inspection['Severity'] == 1])"
   ]
  },
  {
   "attachments": {},
   "cell_type": "markdown",
   "id": "09db2f99",
   "metadata": {},
   "source": [
    "#to work out better in final EDA"
   ]
  },
  {
   "cell_type": "code",
   "execution_count": 14,
   "id": "0b086ba4",
   "metadata": {},
   "outputs": [
    {
     "name": "stdout",
     "output_type": "stream",
     "text": [
      "First 5 rows %s\n",
      "\n",
      "   PipeId     Province                   Town  YearBuilt Material  \\\n",
      "0  489616  Ciudad Real  Torralba de Calatrava       2012       PE   \n",
      "1  489645  Ciudad Real  Torralba de Calatrava       2012       PE   \n",
      "\n",
      "       GasType  Diameter  Length  Pressure  NumConnections  \\\n",
      "0  Gas natural     63.00    7.79      0.40               0   \n",
      "1  Gas natural     90.00    2.08      0.40               0   \n",
      "\n",
      "   NumConnectionsUnder  BoolBridle  \n",
      "0                    0       False  \n",
      "1                    0       False  \n",
      "=====================================\n",
      "Dataframe shape %s\n",
      "\n",
      "(1446539, 12)\n",
      "=====================================\n",
      "Dataframe describe categorical %s\n",
      "\n",
      "         Province     Town Material      GasType\n",
      "count     1446539  1446539  1446539      1446539\n",
      "unique         38     1972       11            2\n",
      "top     Barcelona   Madrid       PE  Gas natural\n",
      "freq       389307    76666  1242845      1388397\n",
      "=====================================\n",
      "Dataframe null values %s\n",
      "\n",
      "PipeId                 0\n",
      "Province               0\n",
      "Town                   0\n",
      "YearBuilt              0\n",
      "Material               0\n",
      "GasType                0\n",
      "Diameter               0\n",
      "Length                 0\n",
      "Pressure               0\n",
      "NumConnections         0\n",
      "NumConnectionsUnder    0\n",
      "BoolBridle             0\n",
      "dtype: int64\n",
      "=====================================\n",
      "Dataframe value counts %s\n",
      "\n",
      "PipeId     Province     Town                   YearBuilt  Material  GasType      Diameter  Length  Pressure  NumConnections  NumConnectionsUnder  BoolBridle\n",
      "489616     Ciudad Real  Torralba de Calatrava  2012       PE        Gas natural  63.00     7.79    0.40      0               0                    False         1\n",
      "229894572  León         Valencia de Don Juan   2004       PE        Gas natural  110.00    10.63   0.15      0               0                    False         1\n",
      "229912516  León         Ponferrada             2004       PE        Gas natural  63.00     8.52    4.00      0               0                    False         1\n",
      "229912137  León         Ponferrada             2004       PE        Gas natural  63.00     8.01    4.00      0               0                    False         1\n",
      "229912078  León         Ponferrada             2004       PE        Gas natural  63.00     2.02    4.00      0               0                    False         1\n",
      "                                                                                                                                                               ..\n",
      "133749590  Lugo         Lugo                   2003       PE        Gas natural  110.00    0.87    0.15      0               0                    False         1\n",
      "133749584  Lugo         Lugo                   2003       PE        Gas natural  110.00    5.71    0.15      0               0                    False         1\n",
      "133749577  Lugo         Lugo                   2003       PE        Gas natural  110.00    93.39   0.15      2               0                    False         1\n",
      "133749571  Lugo         Lugo                   2003       PE        Gas natural  160.00    6.57    0.15      0               0                    False         1\n",
      "451995309  Lleida       Almacelles             1998       PE        Gas natural  200.00    92.22   0.15      0               0                    False         1\n",
      "Length: 1446539, dtype: int64\n",
      "=====================================\n"
     ]
    }
   ],
   "source": [
    "quick_check(df_network)"
   ]
  },
  {
   "attachments": {},
   "cell_type": "markdown",
   "id": "cb9707f2",
   "metadata": {},
   "source": [
    "In the network file we find 1446539 rows corresponding to all pipes, this is the master file for pipes.\n",
    "We find the most frequent Town is Madrid but the most frequent province is Barcelona. \n",
    "There are a total of 1972 Spanish towns in this dataset and 38 provinces\n",
    "We are missing the Basque Country, Ceuta, Melilla, the Canary Islands and Balearic Islands.\n",
    "\n"
   ]
  },
  {
   "cell_type": "code",
   "execution_count": 15,
   "id": "6f1086cd",
   "metadata": {},
   "outputs": [
    {
     "data": {
      "text/plain": [
       "<AxesSubplot:xlabel='Town'>"
      ]
     },
     "execution_count": 15,
     "metadata": {},
     "output_type": "execute_result"
    },
    {
     "data": {
      "image/png": "[encoded data removed]",
      "text/plain": [
       "<Figure size 800x550 with 1 Axes>"
      ]
     },
     "metadata": {},
     "output_type": "display_data"
    }
   ],
   "source": [
    "#plot a bar plot with the number of pipes per Town focusing in Madrid and Barcelona  in df_network\n",
    "df_network.groupby('Town')['PipeId'].count().sort_values(ascending=False).head(10).plot(kind='bar')"
   ]
  },
  {
   "cell_type": "code",
   "execution_count": 16,
   "id": "68359ea8",
   "metadata": {},
   "outputs": [
    {
     "data": {
      "text/plain": [
       "<AxesSubplot:ylabel='PipeId'>"
      ]
     },
     "execution_count": 16,
     "metadata": {},
     "output_type": "execute_result"
    },
    {
     "data": {
      "image/png": "[encoded data removed]",
      "text/plain": [
       "<Figure size 800x550 with 1 Axes>"
      ]
     },
     "metadata": {},
     "output_type": "display_data"
    }
   ],
   "source": [
    "#plot a pie chart with the number of pipes per Province in df_network \n",
    "df_network.groupby('Province')['PipeId'].count().sort_values(ascending=False).plot(kind='pie')\n"
   ]
  },
  {
   "cell_type": "code",
   "execution_count": 17,
   "id": "574aa92f",
   "metadata": {},
   "outputs": [
    {
     "name": "stdout",
     "output_type": "stream",
     "text": [
      "Dataframe correlation %s\n",
      "\n",
      "                     PipeId  YearBuilt  Diameter  Length  Pressure  \\\n",
      "PipeId                 1.00      -0.05      0.13   -0.01      0.04   \n",
      "YearBuilt             -0.05       1.00     -0.16    0.03      0.05   \n",
      "Diameter               0.13      -0.16      1.00    0.07      0.19   \n",
      "Length                -0.01       0.03      0.07    1.00      0.11   \n",
      "Pressure               0.04       0.05      0.19    0.11      1.00   \n",
      "NumConnections        -0.05      -0.03     -0.11    0.31     -0.10   \n",
      "NumConnectionsUnder   -0.01       0.01     -0.01    0.02     -0.00   \n",
      "BoolBridle            -0.09      -0.18      0.09   -0.02     -0.07   \n",
      "\n",
      "                     NumConnections  NumConnectionsUnder  BoolBridle  \n",
      "PipeId                        -0.05                -0.01       -0.09  \n",
      "YearBuilt                     -0.03                 0.01       -0.18  \n",
      "Diameter                      -0.11                -0.01        0.09  \n",
      "Length                         0.31                 0.02       -0.02  \n",
      "Pressure                      -0.10                -0.00       -0.07  \n",
      "NumConnections                 1.00                 0.02       -0.01  \n",
      "NumConnectionsUnder            0.02                 1.00        0.01  \n",
      "BoolBridle                    -0.01                 0.01        1.00  \n",
      "=====================================\n",
      "Dataframe covariance %s\n",
      "\n",
      "                                  PipeId    YearBuilt     Diameter  \\\n",
      "PipeId              14530921150027338.00 -77216786.03 934255446.23   \n",
      "YearBuilt                   -77216786.03       146.73      -108.96   \n",
      "Diameter                    934255446.23      -108.96      3349.02   \n",
      "Length                     -123925700.01        27.34       336.20   \n",
      "Pressure                     37295946.35         3.98        77.34   \n",
      "NumConnections              -11730124.19        -0.75       -14.10   \n",
      "NumConnectionsUnder            -27840.50         0.00        -0.01   \n",
      "BoolBridle                   -2791441.94        -0.54         1.31   \n",
      "\n",
      "                           Length    Pressure  NumConnections  \\\n",
      "PipeId              -123925700.01 37295946.35    -11730124.19   \n",
      "YearBuilt                   27.34        3.98           -0.75   \n",
      "Diameter                   336.20       77.34          -14.10   \n",
      "Length                    6170.72       57.18           52.28   \n",
      "Pressure                    57.18       47.42           -1.53   \n",
      "NumConnections              52.28       -1.53            4.67   \n",
      "NumConnectionsUnder          0.03       -0.00            0.00   \n",
      "BoolBridle                  -0.44       -0.12           -0.00   \n",
      "\n",
      "                     NumConnectionsUnder  BoolBridle  \n",
      "PipeId                         -27840.50 -2791441.94  \n",
      "YearBuilt                           0.00       -0.54  \n",
      "Diameter                           -0.01        1.31  \n",
      "Length                              0.03       -0.44  \n",
      "Pressure                           -0.00       -0.12  \n",
      "NumConnections                      0.00       -0.00  \n",
      "NumConnectionsUnder                 0.00        0.00  \n",
      "BoolBridle                          0.00        0.06  \n",
      "=====================================\n",
      "Dataframe skew %s\n",
      "\n",
      "PipeId                 0.10\n",
      "YearBuilt             -3.38\n",
      "Diameter               1.51\n",
      "Length                59.72\n",
      "Pressure               5.68\n",
      "NumConnections         5.52\n",
      "NumConnectionsUnder   67.03\n",
      "BoolBridle             3.39\n",
      "dtype: float64\n",
      "=====================================\n",
      "Dataframe kurtosis %s\n",
      "\n",
      "PipeId                   -0.95\n",
      "YearBuilt                22.11\n",
      "Diameter                  4.41\n",
      "Length                17001.24\n",
      "Pressure                 42.02\n",
      "NumConnections           56.93\n",
      "NumConnectionsUnder    5688.23\n",
      "BoolBridle                9.52\n",
      "dtype: float64\n",
      "=====================================\n"
     ]
    }
   ],
   "source": [
    "stats(df_network)"
   ]
  },
  {
   "cell_type": "code",
   "execution_count": 18,
   "id": "5d538de3",
   "metadata": {},
   "outputs": [],
   "source": [
    "#join Inspection and network datasets on PipeId to create our TRAIN dataset\n",
    "train = pd.merge(df_inspection, df_network, on='PipeId', how='right')"
   ]
  },
  {
   "cell_type": "code",
   "execution_count": 19,
   "id": "1c3126f8",
   "metadata": {},
   "outputs": [
    {
     "data": {
      "text/plain": [
       "(6364029, 18)"
      ]
     },
     "execution_count": 19,
     "metadata": {},
     "output_type": "execute_result"
    }
   ],
   "source": [
    "train.shape"
   ]
  },
  {
   "cell_type": "code",
   "execution_count": 20,
   "id": "67c34bf4",
   "metadata": {},
   "outputs": [
    {
     "data": {
      "text/plain": [
       "(6345344, 7)"
      ]
     },
     "execution_count": 20,
     "metadata": {},
     "output_type": "execute_result"
    }
   ],
   "source": [
    "df_inspection.shape"
   ]
  },
  {
   "attachments": {},
   "cell_type": "markdown",
   "id": "abaa644f",
   "metadata": {},
   "source": [
    "JF: There are 18K null values that do not have information in the df_network so our TRAIN data set is now bigger and we will need to deal with the nulls further down."
   ]
  },
  {
   "cell_type": "code",
   "execution_count": 21,
   "id": "d1d89960",
   "metadata": {},
   "outputs": [
    {
     "data": {
      "text/plain": [
       "PipeId                     0\n",
       "MaintenanceId          18685\n",
       "InspectionYear         18685\n",
       "InspectionDate         18685\n",
       "MonthsLastRev          18685\n",
       "Severity               18685\n",
       "Incidence              18685\n",
       "Province                   0\n",
       "Town                       0\n",
       "YearBuilt                  0\n",
       "Material                   0\n",
       "GasType                    0\n",
       "Diameter                   0\n",
       "Length                     0\n",
       "Pressure                   0\n",
       "NumConnections             0\n",
       "NumConnectionsUnder        0\n",
       "BoolBridle                 0\n",
       "dtype: int64"
      ]
     },
     "execution_count": 21,
     "metadata": {},
     "output_type": "execute_result"
    }
   ],
   "source": [
    "#count null values in train dataset\n",
    "train.isnull().sum()\n"
   ]
  },
  {
   "cell_type": "code",
   "execution_count": 23,
   "id": "9c8bcc55",
   "metadata": {},
   "outputs": [],
   "source": [
    "#point to the folder where the data is stored for Pedro\n",
    "os.chdir(r\"C:\\Users\\pedro\\datathon\\Datathon-Rules-and-Documentation\")\n",
    "\n",
    "# Loading inspection data\n",
    "df_sample = pd.read_csv('sample_submission.csv')"
   ]
  },
  {
   "cell_type": "code",
   "execution_count": 22,
   "id": "0af43c88",
   "metadata": {},
   "outputs": [],
   "source": [
    "#point to the folder where the data is stored for Juan\n",
    "os.chdir(r\"C:\\Users\\JuanHorrillo\\OneDrive - IE Students\\Documents\\Masters\\Sustainability\\Notebook\")\n",
    "\n",
    "# Loading inspection data\n",
    "df_sample = pd.read_csv('sample_submission.csv')"
   ]
  },
  {
   "cell_type": "code",
   "execution_count": 23,
   "id": "c8b001d9",
   "metadata": {},
   "outputs": [
    {
     "data": {
      "text/plain": [
       "(909733, 2)"
      ]
     },
     "execution_count": 23,
     "metadata": {},
     "output_type": "execute_result"
    }
   ],
   "source": [
    "df_sample.shape"
   ]
  },
  {
   "cell_type": "code",
   "execution_count": 24,
   "id": "54fe4d65",
   "metadata": {},
   "outputs": [
    {
     "data": {
      "text/html": [
       "<div>\n",
       "<style scoped>\n",
       "    .dataframe tbody tr th:only-of-type {\n",
       "        vertical-align: middle;\n",
       "    }\n",
       "\n",
       "    .dataframe tbody tr th {\n",
       "        vertical-align: top;\n",
       "    }\n",
       "\n",
       "    .dataframe thead th {\n",
       "        text-align: right;\n",
       "    }\n",
       "</style>\n",
       "<table border=\"1\" class=\"dataframe\">\n",
       "  <thead>\n",
       "    <tr style=\"text-align: right;\">\n",
       "      <th></th>\n",
       "      <th>PipeId</th>\n",
       "      <th>Incidence</th>\n",
       "    </tr>\n",
       "  </thead>\n",
       "  <tbody>\n",
       "    <tr>\n",
       "      <th>0</th>\n",
       "      <td>446859944</td>\n",
       "      <td>0</td>\n",
       "    </tr>\n",
       "    <tr>\n",
       "      <th>1</th>\n",
       "      <td>428124500</td>\n",
       "      <td>0</td>\n",
       "    </tr>\n",
       "    <tr>\n",
       "      <th>2</th>\n",
       "      <td>438428871</td>\n",
       "      <td>0</td>\n",
       "    </tr>\n",
       "    <tr>\n",
       "      <th>3</th>\n",
       "      <td>429034569</td>\n",
       "      <td>0</td>\n",
       "    </tr>\n",
       "    <tr>\n",
       "      <th>4</th>\n",
       "      <td>411184477</td>\n",
       "      <td>0</td>\n",
       "    </tr>\n",
       "  </tbody>\n",
       "</table>\n",
       "</div>"
      ],
      "text/plain": [
       "      PipeId  Incidence\n",
       "0  446859944          0\n",
       "1  428124500          0\n",
       "2  438428871          0\n",
       "3  429034569          0\n",
       "4  411184477          0"
      ]
     },
     "execution_count": 24,
     "metadata": {},
     "output_type": "execute_result"
    }
   ],
   "source": [
    "df_sample.head()"
   ]
  },
  {
   "cell_type": "code",
   "execution_count": 25,
   "id": "fecdc058",
   "metadata": {},
   "outputs": [
    {
     "data": {
      "text/plain": [
       "0    907964\n",
       "1      1769\n",
       "Name: Incidence, dtype: int64"
      ]
     },
     "execution_count": 25,
     "metadata": {},
     "output_type": "execute_result"
    }
   ],
   "source": [
    "#count the Incidence values in test dataset\n",
    "df_sample['Incidence'].value_counts()\n",
    "\n"
   ]
  },
  {
   "attachments": {},
   "cell_type": "markdown",
   "id": "4966fd39",
   "metadata": {},
   "source": [
    "Test data set is also unbalanced "
   ]
  },
  {
   "attachments": {},
   "cell_type": "markdown",
   "id": "28b2abff",
   "metadata": {},
   "source": [
    "Creating the TEST df which will be used to test our model.  Thisis made of the sample submission with the columns from the network"
   ]
  },
  {
   "cell_type": "code",
   "execution_count": 26,
   "id": "9a34384f",
   "metadata": {},
   "outputs": [
    {
     "data": {
      "text/plain": [
       "True"
      ]
     },
     "execution_count": 26,
     "metadata": {},
     "output_type": "execute_result"
    }
   ],
   "source": [
    "#create a dataframe with the unique PipeId from df_sample and a dataframe with the PipeId from df_network \n",
    "sample_unique = df_sample['PipeId'].unique()\n",
    "network_unique = df_network['PipeId'].unique()\n",
    "#check if all the values in sample_unique are in network_unique\n",
    "np.all(np.isin(sample_unique, network_unique))"
   ]
  },
  {
   "cell_type": "markdown",
   "id": "ae915d97",
   "metadata": {},
   "source": [
    "JF: All the PipeId on the df_sample have a PipeId on the network"
   ]
  },
  {
   "cell_type": "markdown",
   "id": "0b328379",
   "metadata": {},
   "source": []
  },
  {
   "cell_type": "code",
   "execution_count": 27,
   "id": "ee6a1089",
   "metadata": {},
   "outputs": [],
   "source": [
    "#join both datasets on PipeId\n",
    "test = pd.merge(df_network , df_sample, on='PipeId', how='right')"
   ]
  },
  {
   "cell_type": "code",
   "execution_count": 28,
   "id": "bf550849",
   "metadata": {},
   "outputs": [
    {
     "data": {
      "text/plain": [
       "(909733, 13)"
      ]
     },
     "execution_count": 28,
     "metadata": {},
     "output_type": "execute_result"
    }
   ],
   "source": [
    "test.shape"
   ]
  },
  {
   "cell_type": "code",
   "execution_count": 29,
   "id": "c1f803e7",
   "metadata": {},
   "outputs": [
    {
     "data": {
      "text/html": [
       "<div>\n",
       "<style scoped>\n",
       "    .dataframe tbody tr th:only-of-type {\n",
       "        vertical-align: middle;\n",
       "    }\n",
       "\n",
       "    .dataframe tbody tr th {\n",
       "        vertical-align: top;\n",
       "    }\n",
       "\n",
       "    .dataframe thead th {\n",
       "        text-align: right;\n",
       "    }\n",
       "</style>\n",
       "<table border=\"1\" class=\"dataframe\">\n",
       "  <thead>\n",
       "    <tr style=\"text-align: right;\">\n",
       "      <th></th>\n",
       "      <th>PipeId</th>\n",
       "      <th>Province</th>\n",
       "      <th>Town</th>\n",
       "      <th>YearBuilt</th>\n",
       "      <th>Material</th>\n",
       "      <th>GasType</th>\n",
       "      <th>Diameter</th>\n",
       "      <th>Length</th>\n",
       "      <th>Pressure</th>\n",
       "      <th>NumConnections</th>\n",
       "      <th>NumConnectionsUnder</th>\n",
       "      <th>BoolBridle</th>\n",
       "      <th>Incidence</th>\n",
       "    </tr>\n",
       "  </thead>\n",
       "  <tbody>\n",
       "    <tr>\n",
       "      <th>0</th>\n",
       "      <td>446859944</td>\n",
       "      <td>Valencia</td>\n",
       "      <td>Alginet</td>\n",
       "      <td>2012</td>\n",
       "      <td>PE</td>\n",
       "      <td>Gas natural</td>\n",
       "      <td>110.00</td>\n",
       "      <td>44.29</td>\n",
       "      <td>0.15</td>\n",
       "      <td>0</td>\n",
       "      <td>0</td>\n",
       "      <td>False</td>\n",
       "      <td>0</td>\n",
       "    </tr>\n",
       "    <tr>\n",
       "      <th>1</th>\n",
       "      <td>428124500</td>\n",
       "      <td>Valencia</td>\n",
       "      <td>Alginet</td>\n",
       "      <td>2012</td>\n",
       "      <td>PE</td>\n",
       "      <td>Gas natural</td>\n",
       "      <td>160.00</td>\n",
       "      <td>110.72</td>\n",
       "      <td>0.15</td>\n",
       "      <td>2</td>\n",
       "      <td>0</td>\n",
       "      <td>False</td>\n",
       "      <td>0</td>\n",
       "    </tr>\n",
       "  </tbody>\n",
       "</table>\n",
       "</div>"
      ],
      "text/plain": [
       "      PipeId  Province     Town  YearBuilt Material      GasType  Diameter  \\\n",
       "0  446859944  Valencia  Alginet       2012       PE  Gas natural    110.00   \n",
       "1  428124500  Valencia  Alginet       2012       PE  Gas natural    160.00   \n",
       "\n",
       "   Length  Pressure  NumConnections  NumConnectionsUnder  BoolBridle  \\\n",
       "0   44.29      0.15               0                    0       False   \n",
       "1  110.72      0.15               2                    0       False   \n",
       "\n",
       "   Incidence  \n",
       "0          0  \n",
       "1          0  "
      ]
     },
     "execution_count": 29,
     "metadata": {},
     "output_type": "execute_result"
    }
   ],
   "source": [
    "test.head(2)"
   ]
  },
  {
   "cell_type": "code",
   "execution_count": 30,
   "id": "e3b15fb4",
   "metadata": {},
   "outputs": [
    {
     "data": {
      "text/html": [
       "<div>\n",
       "<style scoped>\n",
       "    .dataframe tbody tr th:only-of-type {\n",
       "        vertical-align: middle;\n",
       "    }\n",
       "\n",
       "    .dataframe tbody tr th {\n",
       "        vertical-align: top;\n",
       "    }\n",
       "\n",
       "    .dataframe thead th {\n",
       "        text-align: right;\n",
       "    }\n",
       "</style>\n",
       "<table border=\"1\" class=\"dataframe\">\n",
       "  <thead>\n",
       "    <tr style=\"text-align: right;\">\n",
       "      <th></th>\n",
       "      <th>PipeId</th>\n",
       "      <th>Incidence</th>\n",
       "    </tr>\n",
       "  </thead>\n",
       "  <tbody>\n",
       "    <tr>\n",
       "      <th>0</th>\n",
       "      <td>446859944</td>\n",
       "      <td>0</td>\n",
       "    </tr>\n",
       "    <tr>\n",
       "      <th>1</th>\n",
       "      <td>428124500</td>\n",
       "      <td>0</td>\n",
       "    </tr>\n",
       "    <tr>\n",
       "      <th>2</th>\n",
       "      <td>438428871</td>\n",
       "      <td>0</td>\n",
       "    </tr>\n",
       "  </tbody>\n",
       "</table>\n",
       "</div>"
      ],
      "text/plain": [
       "      PipeId  Incidence\n",
       "0  446859944          0\n",
       "1  428124500          0\n",
       "2  438428871          0"
      ]
     },
     "execution_count": 30,
     "metadata": {},
     "output_type": "execute_result"
    }
   ],
   "source": [
    "df_sample.head(3)"
   ]
  },
  {
   "cell_type": "code",
   "execution_count": 31,
   "id": "c3a08a3e",
   "metadata": {},
   "outputs": [
    {
     "data": {
      "text/plain": [
       "PipeId       0\n",
       "Province     0\n",
       "Town         0\n",
       "YearBuilt    0\n",
       "Material     0\n",
       "dtype: int64"
      ]
     },
     "execution_count": 31,
     "metadata": {},
     "output_type": "execute_result"
    }
   ],
   "source": [
    "#Check for null values in test dataset\n",
    "test_null = test.isnull().sum()    \n",
    "test_null.head()"
   ]
  },
  {
   "attachments": {},
   "cell_type": "markdown",
   "id": "039632ca",
   "metadata": {},
   "source": [
    "JF: No null Values in TEST data set"
   ]
  },
  {
   "cell_type": "code",
   "execution_count": 32,
   "id": "c67ffbae",
   "metadata": {},
   "outputs": [],
   "source": [
    "#creating a subset for altering the dataset after initial EDA\n",
    "train_copy = train.copy()"
   ]
  },
  {
   "cell_type": "code",
   "execution_count": 33,
   "id": "44c28dbc",
   "metadata": {},
   "outputs": [
    {
     "data": {
      "text/plain": [
       "PipeId                     0\n",
       "MaintenanceId          18685\n",
       "InspectionYear         18685\n",
       "InspectionDate         18685\n",
       "MonthsLastRev          18685\n",
       "Severity               18685\n",
       "Incidence              18685\n",
       "Province                   0\n",
       "Town                       0\n",
       "YearBuilt                  0\n",
       "Material                   0\n",
       "GasType                    0\n",
       "Diameter                   0\n",
       "Length                     0\n",
       "Pressure                   0\n",
       "NumConnections             0\n",
       "NumConnectionsUnder        0\n",
       "BoolBridle                 0\n",
       "dtype: int64"
      ]
     },
     "execution_count": 33,
     "metadata": {},
     "output_type": "execute_result"
    }
   ],
   "source": [
    "#find the columns with null values in train_copy\n",
    "train_copy.isnull().sum()"
   ]
  },
  {
   "cell_type": "code",
   "execution_count": 34,
   "id": "b799ec7c",
   "metadata": {},
   "outputs": [
    {
     "data": {
      "text/html": [
       "<div>\n",
       "<style scoped>\n",
       "    .dataframe tbody tr th:only-of-type {\n",
       "        vertical-align: middle;\n",
       "    }\n",
       "\n",
       "    .dataframe tbody tr th {\n",
       "        vertical-align: top;\n",
       "    }\n",
       "\n",
       "    .dataframe thead th {\n",
       "        text-align: right;\n",
       "    }\n",
       "</style>\n",
       "<table border=\"1\" class=\"dataframe\">\n",
       "  <thead>\n",
       "    <tr style=\"text-align: right;\">\n",
       "      <th></th>\n",
       "      <th>PipeId</th>\n",
       "      <th>MaintenanceId</th>\n",
       "      <th>InspectionYear</th>\n",
       "      <th>InspectionDate</th>\n",
       "      <th>MonthsLastRev</th>\n",
       "      <th>Severity</th>\n",
       "      <th>Incidence</th>\n",
       "      <th>Province</th>\n",
       "      <th>Town</th>\n",
       "      <th>YearBuilt</th>\n",
       "      <th>Material</th>\n",
       "      <th>GasType</th>\n",
       "      <th>Diameter</th>\n",
       "      <th>Length</th>\n",
       "      <th>Pressure</th>\n",
       "      <th>NumConnections</th>\n",
       "      <th>NumConnectionsUnder</th>\n",
       "      <th>BoolBridle</th>\n",
       "    </tr>\n",
       "  </thead>\n",
       "  <tbody>\n",
       "    <tr>\n",
       "      <th>64887</th>\n",
       "      <td>185802404</td>\n",
       "      <td>NaN</td>\n",
       "      <td>NaN</td>\n",
       "      <td>NaN</td>\n",
       "      <td>NaN</td>\n",
       "      <td>NaN</td>\n",
       "      <td>NaN</td>\n",
       "      <td>Girona</td>\n",
       "      <td>Puigcerda</td>\n",
       "      <td>2021</td>\n",
       "      <td>PN</td>\n",
       "      <td>Gas natural</td>\n",
       "      <td>110.00</td>\n",
       "      <td>12.01</td>\n",
       "      <td>0.15</td>\n",
       "      <td>1</td>\n",
       "      <td>0</td>\n",
       "      <td>True</td>\n",
       "    </tr>\n",
       "    <tr>\n",
       "      <th>64889</th>\n",
       "      <td>188243116</td>\n",
       "      <td>NaN</td>\n",
       "      <td>NaN</td>\n",
       "      <td>NaN</td>\n",
       "      <td>NaN</td>\n",
       "      <td>NaN</td>\n",
       "      <td>NaN</td>\n",
       "      <td>Girona</td>\n",
       "      <td>Puigcerda</td>\n",
       "      <td>2021</td>\n",
       "      <td>PN</td>\n",
       "      <td>Gas natural</td>\n",
       "      <td>90.00</td>\n",
       "      <td>11.82</td>\n",
       "      <td>0.15</td>\n",
       "      <td>1</td>\n",
       "      <td>0</td>\n",
       "      <td>True</td>\n",
       "    </tr>\n",
       "  </tbody>\n",
       "</table>\n",
       "</div>"
      ],
      "text/plain": [
       "          PipeId MaintenanceId  InspectionYear InspectionDate  MonthsLastRev  \\\n",
       "64887  185802404           NaN             NaN            NaN            NaN   \n",
       "64889  188243116           NaN             NaN            NaN            NaN   \n",
       "\n",
       "       Severity  Incidence Province       Town  YearBuilt Material  \\\n",
       "64887       NaN        NaN   Girona  Puigcerda       2021       PN   \n",
       "64889       NaN        NaN   Girona  Puigcerda       2021       PN   \n",
       "\n",
       "           GasType  Diameter  Length  Pressure  NumConnections  \\\n",
       "64887  Gas natural    110.00   12.01      0.15               1   \n",
       "64889  Gas natural     90.00   11.82      0.15               1   \n",
       "\n",
       "       NumConnectionsUnder  BoolBridle  \n",
       "64887                    0        True  \n",
       "64889                    0        True  "
      ]
     },
     "execution_count": 34,
     "metadata": {},
     "output_type": "execute_result"
    }
   ],
   "source": [
    "#show me a head of train_copy with YearBuilt == 2020\n",
    "train_copy[train_copy['YearBuilt'] > 2020].head(2)"
   ]
  },
  {
   "cell_type": "code",
   "execution_count": 35,
   "id": "13accacf",
   "metadata": {},
   "outputs": [
    {
     "data": {
      "text/plain": [
       "(2026, 18)"
      ]
     },
     "execution_count": 35,
     "metadata": {},
     "output_type": "execute_result"
    }
   ],
   "source": [
    "#count the PipeID that have YearBuilt equal to 2021 and InspectionYear equal to NaN\n",
    "train_copy[(train_copy['YearBuilt'] > 2020) & (train_copy['InspectionYear'].isnull())].shape\n"
   ]
  },
  {
   "attachments": {},
   "cell_type": "markdown",
   "id": "8248cba6",
   "metadata": {},
   "source": [
    "JF: There are 2026 pipes that were built after 2020 in the train data set, these came from the network data set and will be considered new pipes that do not have inspection data yet. We will assume that the inspection year for those was the year of installation (you inspect them when you install them)"
   ]
  },
  {
   "cell_type": "code",
   "execution_count": 36,
   "id": "df9292bc",
   "metadata": {},
   "outputs": [
    {
     "data": {
      "text/plain": [
       "InspectionYear\n",
       "2010.00     93518\n",
       "2011.00    528113\n",
       "2012.00    611594\n",
       "2013.00    581559\n",
       "2014.00    593223\n",
       "2015.00    617187\n",
       "2016.00    627667\n",
       "2017.00    684715\n",
       "2018.00    654861\n",
       "2019.00    694584\n",
       "2020.00    656878\n",
       "2021.00      1445\n",
       "Name: InspectionYear, dtype: int64"
      ]
     },
     "execution_count": 36,
     "metadata": {},
     "output_type": "execute_result"
    }
   ],
   "source": [
    "#show me nulls for InspectionYear for every year in train_copy\n",
    "train_copy.groupby('InspectionYear')['InspectionYear'].count()"
   ]
  },
  {
   "cell_type": "code",
   "execution_count": 37,
   "id": "ac000975",
   "metadata": {},
   "outputs": [],
   "source": [
    "#do a range in the train_copy for the YearBuilt column if the value is greater than 2020 and the InspectionYear is equal to Nan, change the value of InspectionYear to YearBuilt\n",
    "\n",
    "#for i in train_copy['YearBuilt']:\n",
    "#    if i > 2020:\n",
    "#        train_copy.loc[(train_copy['YearBuilt'] > 2020) & (train_copy['InspectionYear'].isnull()), 'InspectionYear'] = i"
   ]
  },
  {
   "cell_type": "code",
   "execution_count": 38,
   "id": "b5e706a4",
   "metadata": {},
   "outputs": [
    {
     "data": {
      "text/plain": [
       "2020    3290\n",
       "2019    2654\n",
       "2021    1960\n",
       "2016    1144\n",
       "2015     873\n",
       "        ... \n",
       "1971       7\n",
       "1969       2\n",
       "1965       2\n",
       "1966       1\n",
       "1967       1\n",
       "Name: YearBuilt, Length: 61, dtype: int64"
      ]
     },
     "execution_count": 38,
     "metadata": {},
     "output_type": "execute_result"
    }
   ],
   "source": [
    "#show me the YearBuilt values for the null vales in InspectionYear\n",
    "train_copy[train_copy['InspectionYear'].isnull()]['YearBuilt'].value_counts()\n"
   ]
  },
  {
   "cell_type": "code",
   "execution_count": 39,
   "id": "f7ce181a",
   "metadata": {},
   "outputs": [],
   "source": [
    "#remove from train_copy the rows where InspectionYear is equal to NaN and yearBuilt is not null\n",
    "train_copy = train_copy[~((train_copy['InspectionYear'].isnull()) & (train_copy['YearBuilt'].notnull()))]"
   ]
  },
  {
   "attachments": {},
   "cell_type": "markdown",
   "id": "5250b5a8",
   "metadata": {},
   "source": [
    "We do not have info for these pipes so I will remove them all as it is impossible to find out the year built"
   ]
  },
  {
   "cell_type": "code",
   "execution_count": 40,
   "id": "530b9ac9",
   "metadata": {},
   "outputs": [
    {
     "data": {
      "text/plain": [
       "PipeId                 0\n",
       "MaintenanceId          0\n",
       "InspectionYear         0\n",
       "InspectionDate         0\n",
       "MonthsLastRev          0\n",
       "Severity               0\n",
       "Incidence              0\n",
       "Province               0\n",
       "Town                   0\n",
       "YearBuilt              0\n",
       "Material               0\n",
       "GasType                0\n",
       "Diameter               0\n",
       "Length                 0\n",
       "Pressure               0\n",
       "NumConnections         0\n",
       "NumConnectionsUnder    0\n",
       "BoolBridle             0\n",
       "dtype: int64"
      ]
     },
     "execution_count": 40,
     "metadata": {},
     "output_type": "execute_result"
    }
   ],
   "source": [
    "train_copy.isnull().sum()"
   ]
  },
  {
   "cell_type": "code",
   "execution_count": 41,
   "id": "2ebd4980",
   "metadata": {},
   "outputs": [
    {
     "data": {
      "text/plain": [
       "(0, 18)"
      ]
     },
     "execution_count": 41,
     "metadata": {},
     "output_type": "execute_result"
    }
   ],
   "source": [
    "#count the PipeId in inspection dataset that YearBuilt is equal to 2020 and inspection year is equal to 2021\n",
    "train_copy[(train_copy['YearBuilt'] > 2020) & (train_copy['InspectionYear'] == 2021)].shape\n",
    "\n"
   ]
  },
  {
   "cell_type": "markdown",
   "id": "d88a7d05",
   "metadata": {},
   "source": [
    "# 2. Data Collection and Understanding "
   ]
  },
  {
   "attachments": {},
   "cell_type": "markdown",
   "id": "931606e2",
   "metadata": {},
   "source": [
    "The network.csv file contains a static picture of the gas pipeline network. Every row corresponds to a pipe and has a unique PipeId identifier. The table has 1.446.529 pipes. \n",
    "\n",
    "The columns describe relevant features of each pipe. The complete list is: \n",
    "\n"
   ]
  },
  {
   "cell_type": "markdown",
   "id": "2d409b09",
   "metadata": {},
   "source": [
    "## Inspection file"
   ]
  },
  {
   "attachments": {},
   "cell_type": "markdown",
   "id": "d7ed6752",
   "metadata": {},
   "source": [
    "# Merging datasets"
   ]
  },
  {
   "attachments": {},
   "cell_type": "markdown",
   "id": "e9f50fff",
   "metadata": {},
   "source": [
    "# Juan: All this is duplicated, we need to check and drop one of them, it is making the notebook heavy"
   ]
  },
  {
   "cell_type": "code",
   "execution_count": 46,
   "id": "cf3c8dca",
   "metadata": {},
   "outputs": [],
   "source": [
    "#point to the folder where the data is stored for Pedro\n",
    "os.chdir(r\"C:\\Users\\pedro\\datathon\\Datathon-Rules-and-Documentation\") \n",
    "\n",
    "#Loading sample_submission\n",
    "df_sample_submission = pd.read_csv('sample_submission.csv')"
   ]
  },
  {
   "cell_type": "code",
   "execution_count": 42,
   "id": "33f2730b",
   "metadata": {},
   "outputs": [
    {
     "data": {
      "text/plain": [
       "<AxesSubplot:>"
      ]
     },
     "execution_count": 42,
     "metadata": {},
     "output_type": "execute_result"
    },
    {
     "data": {
      "image/png": "[encoded data removed]",
      "text/plain": [
       "<Figure size 800x550 with 1 Axes>"
      ]
     },
     "metadata": {},
     "output_type": "display_data"
    }
   ],
   "source": [
    "#plot histogram with many bins of MonthsLastRev in  df_inspection\n",
    "df_inspection['MonthsLastRev'].hist(bins=100)"
   ]
  },
  {
   "cell_type": "code",
   "execution_count": 52,
   "id": "793ccb16",
   "metadata": {},
   "outputs": [],
   "source": [
    "#JUAN we kill more than 40 months revision"
   ]
  },
  {
   "attachments": {},
   "cell_type": "markdown",
   "id": "09db2f99",
   "metadata": {},
   "source": [
    "#to work out better in final EDA"
   ]
  },
  {
   "attachments": {},
   "cell_type": "markdown",
   "id": "cb9707f2",
   "metadata": {},
   "source": [
    "In the network file we find 1446539 rows corresponding to all pipes, this is the master file for pipes.\n",
    "We find the most frequent Town is Madrid but the most frequent province is Barcelona. \n",
    "There are a total of 1972 Spanish towns in this dataset and 38 provinces\n",
    "We are missing the Basque Country, Ceuta, Melilla, the Canary Islands and Balearic Islands.\n",
    "\n"
   ]
  },
  {
   "cell_type": "code",
   "execution_count": 43,
   "id": "1c3126f8",
   "metadata": {},
   "outputs": [
    {
     "data": {
      "text/plain": [
       "(6364029, 18)"
      ]
     },
     "execution_count": 43,
     "metadata": {},
     "output_type": "execute_result"
    }
   ],
   "source": [
    "train.shape "
   ]
  },
  {
   "attachments": {},
   "cell_type": "markdown",
   "id": "abaa644f",
   "metadata": {},
   "source": [
    "JF: There are 18K null values that do not have information in the df_network so our TRAIN data set is now bigger and we will need to deal with the nulls further down."
   ]
  },
  {
   "cell_type": "code",
   "execution_count": 56,
   "id": "9c8bcc55",
   "metadata": {},
   "outputs": [],
   "source": [
    "#point to the folder where the data is stored for Pedro\n",
    "os.chdir(r\"C:\\Users\\pedro\\datathon\\Datathon-Rules-and-Documentation\")\n",
    "\n",
    "# Loading inspection data\n",
    "df_sample = pd.read_csv('sample_submission.csv')"
   ]
  },
  {
   "cell_type": "code",
   "execution_count": 44,
   "id": "c8b001d9",
   "metadata": {},
   "outputs": [
    {
     "data": {
      "text/plain": [
       "(909733, 2)"
      ]
     },
     "execution_count": 44,
     "metadata": {},
     "output_type": "execute_result"
    }
   ],
   "source": [
    "df_sample.shape"
   ]
  },
  {
   "cell_type": "code",
   "execution_count": 45,
   "id": "fecdc058",
   "metadata": {},
   "outputs": [
    {
     "data": {
      "text/plain": [
       "0    907964\n",
       "1      1769\n",
       "Name: Incidence, dtype: int64"
      ]
     },
     "execution_count": 45,
     "metadata": {},
     "output_type": "execute_result"
    }
   ],
   "source": [
    "#count the Incidence values in test dataset\n",
    "df_sample['Incidence'].value_counts()\n",
    "\n"
   ]
  },
  {
   "attachments": {},
   "cell_type": "markdown",
   "id": "28b2abff",
   "metadata": {},
   "source": [
    "Creating the TEST df which will be used to test our model.  Thisis made of the sample submission with the columns from the network"
   ]
  },
  {
   "cell_type": "markdown",
   "id": "ae915d97",
   "metadata": {},
   "source": [
    "JF: All the PipeId on the df_sample have a PipeId on the network"
   ]
  },
  {
   "cell_type": "code",
   "execution_count": 46,
   "id": "ee6a1089",
   "metadata": {},
   "outputs": [],
   "source": [
    "#join both datasets on PipeId\n",
    "test = pd.merge(df_network , df_sample, on='PipeId', how='right')"
   ]
  },
  {
   "cell_type": "code",
   "execution_count": 47,
   "id": "c1f803e7",
   "metadata": {},
   "outputs": [
    {
     "data": {
      "text/html": [
       "<div>\n",
       "<style scoped>\n",
       "    .dataframe tbody tr th:only-of-type {\n",
       "        vertical-align: middle;\n",
       "    }\n",
       "\n",
       "    .dataframe tbody tr th {\n",
       "        vertical-align: top;\n",
       "    }\n",
       "\n",
       "    .dataframe thead th {\n",
       "        text-align: right;\n",
       "    }\n",
       "</style>\n",
       "<table border=\"1\" class=\"dataframe\">\n",
       "  <thead>\n",
       "    <tr style=\"text-align: right;\">\n",
       "      <th></th>\n",
       "      <th>PipeId</th>\n",
       "      <th>Province</th>\n",
       "      <th>Town</th>\n",
       "      <th>YearBuilt</th>\n",
       "      <th>Material</th>\n",
       "      <th>GasType</th>\n",
       "      <th>Diameter</th>\n",
       "      <th>Length</th>\n",
       "      <th>Pressure</th>\n",
       "      <th>NumConnections</th>\n",
       "      <th>NumConnectionsUnder</th>\n",
       "      <th>BoolBridle</th>\n",
       "      <th>Incidence</th>\n",
       "    </tr>\n",
       "  </thead>\n",
       "  <tbody>\n",
       "    <tr>\n",
       "      <th>0</th>\n",
       "      <td>446859944</td>\n",
       "      <td>Valencia</td>\n",
       "      <td>Alginet</td>\n",
       "      <td>2012</td>\n",
       "      <td>PE</td>\n",
       "      <td>Gas natural</td>\n",
       "      <td>110.00</td>\n",
       "      <td>44.29</td>\n",
       "      <td>0.15</td>\n",
       "      <td>0</td>\n",
       "      <td>0</td>\n",
       "      <td>False</td>\n",
       "      <td>0</td>\n",
       "    </tr>\n",
       "    <tr>\n",
       "      <th>1</th>\n",
       "      <td>428124500</td>\n",
       "      <td>Valencia</td>\n",
       "      <td>Alginet</td>\n",
       "      <td>2012</td>\n",
       "      <td>PE</td>\n",
       "      <td>Gas natural</td>\n",
       "      <td>160.00</td>\n",
       "      <td>110.72</td>\n",
       "      <td>0.15</td>\n",
       "      <td>2</td>\n",
       "      <td>0</td>\n",
       "      <td>False</td>\n",
       "      <td>0</td>\n",
       "    </tr>\n",
       "    <tr>\n",
       "      <th>2</th>\n",
       "      <td>438428871</td>\n",
       "      <td>Valencia</td>\n",
       "      <td>Alginet</td>\n",
       "      <td>2012</td>\n",
       "      <td>PE</td>\n",
       "      <td>Gas natural</td>\n",
       "      <td>110.00</td>\n",
       "      <td>13.57</td>\n",
       "      <td>0.15</td>\n",
       "      <td>0</td>\n",
       "      <td>0</td>\n",
       "      <td>False</td>\n",
       "      <td>0</td>\n",
       "    </tr>\n",
       "    <tr>\n",
       "      <th>3</th>\n",
       "      <td>429034569</td>\n",
       "      <td>Valencia</td>\n",
       "      <td>Alginet</td>\n",
       "      <td>2012</td>\n",
       "      <td>PE</td>\n",
       "      <td>Gas natural</td>\n",
       "      <td>110.00</td>\n",
       "      <td>327.69</td>\n",
       "      <td>0.15</td>\n",
       "      <td>3</td>\n",
       "      <td>0</td>\n",
       "      <td>False</td>\n",
       "      <td>0</td>\n",
       "    </tr>\n",
       "    <tr>\n",
       "      <th>4</th>\n",
       "      <td>411184477</td>\n",
       "      <td>Valencia</td>\n",
       "      <td>Alginet</td>\n",
       "      <td>2007</td>\n",
       "      <td>PE</td>\n",
       "      <td>Gas natural</td>\n",
       "      <td>200.00</td>\n",
       "      <td>932.76</td>\n",
       "      <td>0.15</td>\n",
       "      <td>0</td>\n",
       "      <td>0</td>\n",
       "      <td>False</td>\n",
       "      <td>0</td>\n",
       "    </tr>\n",
       "  </tbody>\n",
       "</table>\n",
       "</div>"
      ],
      "text/plain": [
       "      PipeId  Province     Town  YearBuilt Material      GasType  Diameter  \\\n",
       "0  446859944  Valencia  Alginet       2012       PE  Gas natural    110.00   \n",
       "1  428124500  Valencia  Alginet       2012       PE  Gas natural    160.00   \n",
       "2  438428871  Valencia  Alginet       2012       PE  Gas natural    110.00   \n",
       "3  429034569  Valencia  Alginet       2012       PE  Gas natural    110.00   \n",
       "4  411184477  Valencia  Alginet       2007       PE  Gas natural    200.00   \n",
       "\n",
       "   Length  Pressure  NumConnections  NumConnectionsUnder  BoolBridle  \\\n",
       "0   44.29      0.15               0                    0       False   \n",
       "1  110.72      0.15               2                    0       False   \n",
       "2   13.57      0.15               0                    0       False   \n",
       "3  327.69      0.15               3                    0       False   \n",
       "4  932.76      0.15               0                    0       False   \n",
       "\n",
       "   Incidence  \n",
       "0          0  \n",
       "1          0  \n",
       "2          0  \n",
       "3          0  \n",
       "4          0  "
      ]
     },
     "execution_count": 47,
     "metadata": {},
     "output_type": "execute_result"
    }
   ],
   "source": [
    "test.head()"
   ]
  },
  {
   "cell_type": "code",
   "execution_count": 48,
   "id": "c3a08a3e",
   "metadata": {},
   "outputs": [
    {
     "data": {
      "text/plain": [
       "PipeId       0\n",
       "Province     0\n",
       "Town         0\n",
       "YearBuilt    0\n",
       "Material     0\n",
       "dtype: int64"
      ]
     },
     "execution_count": 48,
     "metadata": {},
     "output_type": "execute_result"
    }
   ],
   "source": [
    "#Check for null values in test dataset\n",
    "test_null = test.isnull().sum()    \n",
    "test_null.head()"
   ]
  },
  {
   "cell_type": "code",
   "execution_count": 49,
   "id": "c67ffbae",
   "metadata": {},
   "outputs": [],
   "source": [
    "#creating a subset for altering the dataset after initial EDA\n",
    "train_copy = train.copy()"
   ]
  },
  {
   "cell_type": "code",
   "execution_count": 50,
   "id": "b799ec7c",
   "metadata": {},
   "outputs": [
    {
     "data": {
      "text/html": [
       "<div>\n",
       "<style scoped>\n",
       "    .dataframe tbody tr th:only-of-type {\n",
       "        vertical-align: middle;\n",
       "    }\n",
       "\n",
       "    .dataframe tbody tr th {\n",
       "        vertical-align: top;\n",
       "    }\n",
       "\n",
       "    .dataframe thead th {\n",
       "        text-align: right;\n",
       "    }\n",
       "</style>\n",
       "<table border=\"1\" class=\"dataframe\">\n",
       "  <thead>\n",
       "    <tr style=\"text-align: right;\">\n",
       "      <th></th>\n",
       "      <th>PipeId</th>\n",
       "      <th>MaintenanceId</th>\n",
       "      <th>InspectionYear</th>\n",
       "      <th>InspectionDate</th>\n",
       "      <th>MonthsLastRev</th>\n",
       "      <th>Severity</th>\n",
       "      <th>Incidence</th>\n",
       "      <th>Province</th>\n",
       "      <th>Town</th>\n",
       "      <th>YearBuilt</th>\n",
       "      <th>Material</th>\n",
       "      <th>GasType</th>\n",
       "      <th>Diameter</th>\n",
       "      <th>Length</th>\n",
       "      <th>Pressure</th>\n",
       "      <th>NumConnections</th>\n",
       "      <th>NumConnectionsUnder</th>\n",
       "      <th>BoolBridle</th>\n",
       "    </tr>\n",
       "  </thead>\n",
       "  <tbody>\n",
       "    <tr>\n",
       "      <th>64887</th>\n",
       "      <td>185802404</td>\n",
       "      <td>NaN</td>\n",
       "      <td>NaN</td>\n",
       "      <td>NaN</td>\n",
       "      <td>NaN</td>\n",
       "      <td>NaN</td>\n",
       "      <td>NaN</td>\n",
       "      <td>Girona</td>\n",
       "      <td>Puigcerda</td>\n",
       "      <td>2021</td>\n",
       "      <td>PN</td>\n",
       "      <td>Gas natural</td>\n",
       "      <td>110.00</td>\n",
       "      <td>12.01</td>\n",
       "      <td>0.15</td>\n",
       "      <td>1</td>\n",
       "      <td>0</td>\n",
       "      <td>True</td>\n",
       "    </tr>\n",
       "    <tr>\n",
       "      <th>64889</th>\n",
       "      <td>188243116</td>\n",
       "      <td>NaN</td>\n",
       "      <td>NaN</td>\n",
       "      <td>NaN</td>\n",
       "      <td>NaN</td>\n",
       "      <td>NaN</td>\n",
       "      <td>NaN</td>\n",
       "      <td>Girona</td>\n",
       "      <td>Puigcerda</td>\n",
       "      <td>2021</td>\n",
       "      <td>PN</td>\n",
       "      <td>Gas natural</td>\n",
       "      <td>90.00</td>\n",
       "      <td>11.82</td>\n",
       "      <td>0.15</td>\n",
       "      <td>1</td>\n",
       "      <td>0</td>\n",
       "      <td>True</td>\n",
       "    </tr>\n",
       "    <tr>\n",
       "      <th>70787</th>\n",
       "      <td>185839446</td>\n",
       "      <td>NaN</td>\n",
       "      <td>NaN</td>\n",
       "      <td>NaN</td>\n",
       "      <td>NaN</td>\n",
       "      <td>NaN</td>\n",
       "      <td>NaN</td>\n",
       "      <td>Girona</td>\n",
       "      <td>Girona</td>\n",
       "      <td>2021</td>\n",
       "      <td>PN</td>\n",
       "      <td>Gas natural</td>\n",
       "      <td>110.00</td>\n",
       "      <td>5.10</td>\n",
       "      <td>0.03</td>\n",
       "      <td>1</td>\n",
       "      <td>0</td>\n",
       "      <td>True</td>\n",
       "    </tr>\n",
       "    <tr>\n",
       "      <th>70788</th>\n",
       "      <td>186392655</td>\n",
       "      <td>NaN</td>\n",
       "      <td>NaN</td>\n",
       "      <td>NaN</td>\n",
       "      <td>NaN</td>\n",
       "      <td>NaN</td>\n",
       "      <td>NaN</td>\n",
       "      <td>Girona</td>\n",
       "      <td>Girona</td>\n",
       "      <td>2021</td>\n",
       "      <td>PN</td>\n",
       "      <td>Gas natural</td>\n",
       "      <td>63.00</td>\n",
       "      <td>4.51</td>\n",
       "      <td>0.03</td>\n",
       "      <td>1</td>\n",
       "      <td>0</td>\n",
       "      <td>True</td>\n",
       "    </tr>\n",
       "    <tr>\n",
       "      <th>70790</th>\n",
       "      <td>186441076</td>\n",
       "      <td>NaN</td>\n",
       "      <td>NaN</td>\n",
       "      <td>NaN</td>\n",
       "      <td>NaN</td>\n",
       "      <td>NaN</td>\n",
       "      <td>NaN</td>\n",
       "      <td>Girona</td>\n",
       "      <td>Girona</td>\n",
       "      <td>2021</td>\n",
       "      <td>PN</td>\n",
       "      <td>Gas natural</td>\n",
       "      <td>63.00</td>\n",
       "      <td>0.29</td>\n",
       "      <td>0.03</td>\n",
       "      <td>0</td>\n",
       "      <td>0</td>\n",
       "      <td>True</td>\n",
       "    </tr>\n",
       "  </tbody>\n",
       "</table>\n",
       "</div>"
      ],
      "text/plain": [
       "          PipeId MaintenanceId  InspectionYear InspectionDate  MonthsLastRev  \\\n",
       "64887  185802404           NaN             NaN            NaN            NaN   \n",
       "64889  188243116           NaN             NaN            NaN            NaN   \n",
       "70787  185839446           NaN             NaN            NaN            NaN   \n",
       "70788  186392655           NaN             NaN            NaN            NaN   \n",
       "70790  186441076           NaN             NaN            NaN            NaN   \n",
       "\n",
       "       Severity  Incidence Province       Town  YearBuilt Material  \\\n",
       "64887       NaN        NaN   Girona  Puigcerda       2021       PN   \n",
       "64889       NaN        NaN   Girona  Puigcerda       2021       PN   \n",
       "70787       NaN        NaN   Girona     Girona       2021       PN   \n",
       "70788       NaN        NaN   Girona     Girona       2021       PN   \n",
       "70790       NaN        NaN   Girona     Girona       2021       PN   \n",
       "\n",
       "           GasType  Diameter  Length  Pressure  NumConnections  \\\n",
       "64887  Gas natural    110.00   12.01      0.15               1   \n",
       "64889  Gas natural     90.00   11.82      0.15               1   \n",
       "70787  Gas natural    110.00    5.10      0.03               1   \n",
       "70788  Gas natural     63.00    4.51      0.03               1   \n",
       "70790  Gas natural     63.00    0.29      0.03               0   \n",
       "\n",
       "       NumConnectionsUnder  BoolBridle  \n",
       "64887                    0        True  \n",
       "64889                    0        True  \n",
       "70787                    0        True  \n",
       "70788                    0        True  \n",
       "70790                    0        True  "
      ]
     },
     "execution_count": 50,
     "metadata": {},
     "output_type": "execute_result"
    }
   ],
   "source": [
    "#show me a head of train_copy with YearBuilt == 2020\n",
    "train_copy[train_copy['YearBuilt'] > 2020].head()"
   ]
  },
  {
   "attachments": {},
   "cell_type": "markdown",
   "id": "8248cba6",
   "metadata": {},
   "source": [
    "JF: There are 2026 pipes that were built after 2020 in the train data set, these came from the network data set and will be considered new pipes that do not have inspection data yet. We will assume that the inspection year for those was the year of installation (you inspect them when you install them)"
   ]
  },
  {
   "cell_type": "code",
   "execution_count": 51,
   "id": "df9292bc",
   "metadata": {},
   "outputs": [
    {
     "data": {
      "text/plain": [
       "InspectionYear\n",
       "2010.00     93518\n",
       "2011.00    528113\n",
       "2012.00    611594\n",
       "2013.00    581559\n",
       "2014.00    593223\n",
       "2015.00    617187\n",
       "2016.00    627667\n",
       "2017.00    684715\n",
       "2018.00    654861\n",
       "2019.00    694584\n",
       "2020.00    656878\n",
       "2021.00      1445\n",
       "Name: InspectionYear, dtype: int64"
      ]
     },
     "execution_count": 51,
     "metadata": {},
     "output_type": "execute_result"
    }
   ],
   "source": [
    "#show me nulls for InspectionYear for every year in train_copy\n",
    "train_copy.groupby('InspectionYear')['InspectionYear'].count()"
   ]
  },
  {
   "cell_type": "code",
   "execution_count": 52,
   "id": "530b9ac9",
   "metadata": {},
   "outputs": [
    {
     "data": {
      "text/plain": [
       "PipeId                     0\n",
       "MaintenanceId          18685\n",
       "InspectionYear         18685\n",
       "InspectionDate         18685\n",
       "MonthsLastRev          18685\n",
       "Severity               18685\n",
       "Incidence              18685\n",
       "Province                   0\n",
       "Town                       0\n",
       "YearBuilt                  0\n",
       "Material                   0\n",
       "GasType                    0\n",
       "Diameter                   0\n",
       "Length                     0\n",
       "Pressure                   0\n",
       "NumConnections             0\n",
       "NumConnectionsUnder        0\n",
       "BoolBridle                 0\n",
       "dtype: int64"
      ]
     },
     "execution_count": 52,
     "metadata": {},
     "output_type": "execute_result"
    }
   ],
   "source": [
    "train_copy.isnull().sum()"
   ]
  },
  {
   "cell_type": "code",
   "execution_count": 53,
   "id": "667145ba",
   "metadata": {},
   "outputs": [
    {
     "data": {
      "text/plain": [
       "(7672, 18)"
      ]
     },
     "execution_count": 53,
     "metadata": {},
     "output_type": "execute_result"
    }
   ],
   "source": [
    "#show me a head of train_copy with YearBuilt higher than InspectionYear and count them\n",
    "train_copy[(train_copy['YearBuilt'] > train_copy['InspectionYear'])].shape"
   ]
  },
  {
   "attachments": {},
   "cell_type": "markdown",
   "id": "6e372052",
   "metadata": {},
   "source": [
    "# Feature Engineering on combined dataset\n",
    "\n",
    "As a result of merging both datasets we now have pipeline duplicates per each maintenace_id operation. Before getting rid of the duplicates, we want to engineer some metrics interesting to the model such as number of operations, number of incidents and average risk based on severity*incidence"
   ]
  },
  {
   "cell_type": "code",
   "execution_count": 55,
   "id": "f76cd300",
   "metadata": {},
   "outputs": [
    {
     "data": {
      "text/html": [
       "<div>\n",
       "<style scoped>\n",
       "    .dataframe tbody tr th:only-of-type {\n",
       "        vertical-align: middle;\n",
       "    }\n",
       "\n",
       "    .dataframe tbody tr th {\n",
       "        vertical-align: top;\n",
       "    }\n",
       "\n",
       "    .dataframe thead th {\n",
       "        text-align: right;\n",
       "    }\n",
       "</style>\n",
       "<table border=\"1\" class=\"dataframe\">\n",
       "  <thead>\n",
       "    <tr style=\"text-align: right;\">\n",
       "      <th></th>\n",
       "      <th>PipeId</th>\n",
       "      <th>MaintenanceId</th>\n",
       "      <th>InspectionYear</th>\n",
       "      <th>InspectionDate</th>\n",
       "      <th>MonthsLastRev</th>\n",
       "      <th>Severity</th>\n",
       "      <th>Incidence</th>\n",
       "      <th>Province</th>\n",
       "      <th>Town</th>\n",
       "      <th>YearBuilt</th>\n",
       "      <th>Material</th>\n",
       "      <th>GasType</th>\n",
       "      <th>Diameter</th>\n",
       "      <th>Length</th>\n",
       "      <th>Pressure</th>\n",
       "      <th>NumConnections</th>\n",
       "      <th>NumConnectionsUnder</th>\n",
       "      <th>BoolBridle</th>\n",
       "    </tr>\n",
       "  </thead>\n",
       "  <tbody>\n",
       "    <tr>\n",
       "      <th>0</th>\n",
       "      <td>489616</td>\n",
       "      <td>ZRV-00003385</td>\n",
       "      <td>2013.00</td>\n",
       "      <td>2013-05-08</td>\n",
       "      <td>16.00</td>\n",
       "      <td>4.00</td>\n",
       "      <td>0.00</td>\n",
       "      <td>Ciudad Real</td>\n",
       "      <td>Torralba de Calatrava</td>\n",
       "      <td>2012</td>\n",
       "      <td>PE</td>\n",
       "      <td>Gas natural</td>\n",
       "      <td>63.00</td>\n",
       "      <td>7.79</td>\n",
       "      <td>0.40</td>\n",
       "      <td>0</td>\n",
       "      <td>0</td>\n",
       "      <td>False</td>\n",
       "    </tr>\n",
       "    <tr>\n",
       "      <th>1</th>\n",
       "      <td>489616</td>\n",
       "      <td>ZRV-00003385</td>\n",
       "      <td>2015.00</td>\n",
       "      <td>2015-03-04</td>\n",
       "      <td>22.00</td>\n",
       "      <td>4.00</td>\n",
       "      <td>0.00</td>\n",
       "      <td>Ciudad Real</td>\n",
       "      <td>Torralba de Calatrava</td>\n",
       "      <td>2012</td>\n",
       "      <td>PE</td>\n",
       "      <td>Gas natural</td>\n",
       "      <td>63.00</td>\n",
       "      <td>7.79</td>\n",
       "      <td>0.40</td>\n",
       "      <td>0</td>\n",
       "      <td>0</td>\n",
       "      <td>False</td>\n",
       "    </tr>\n",
       "    <tr>\n",
       "      <th>2</th>\n",
       "      <td>489616</td>\n",
       "      <td>ZRV-00003385</td>\n",
       "      <td>2016.00</td>\n",
       "      <td>2017-01-12</td>\n",
       "      <td>22.00</td>\n",
       "      <td>4.00</td>\n",
       "      <td>0.00</td>\n",
       "      <td>Ciudad Real</td>\n",
       "      <td>Torralba de Calatrava</td>\n",
       "      <td>2012</td>\n",
       "      <td>PE</td>\n",
       "      <td>Gas natural</td>\n",
       "      <td>63.00</td>\n",
       "      <td>7.79</td>\n",
       "      <td>0.40</td>\n",
       "      <td>0</td>\n",
       "      <td>0</td>\n",
       "      <td>False</td>\n",
       "    </tr>\n",
       "  </tbody>\n",
       "</table>\n",
       "</div>"
      ],
      "text/plain": [
       "   PipeId MaintenanceId  InspectionYear InspectionDate  MonthsLastRev  \\\n",
       "0  489616  ZRV-00003385         2013.00     2013-05-08          16.00   \n",
       "1  489616  ZRV-00003385         2015.00     2015-03-04          22.00   \n",
       "2  489616  ZRV-00003385         2016.00     2017-01-12          22.00   \n",
       "\n",
       "   Severity  Incidence     Province                   Town  YearBuilt  \\\n",
       "0      4.00       0.00  Ciudad Real  Torralba de Calatrava       2012   \n",
       "1      4.00       0.00  Ciudad Real  Torralba de Calatrava       2012   \n",
       "2      4.00       0.00  Ciudad Real  Torralba de Calatrava       2012   \n",
       "\n",
       "  Material      GasType  Diameter  Length  Pressure  NumConnections  \\\n",
       "0       PE  Gas natural     63.00    7.79      0.40               0   \n",
       "1       PE  Gas natural     63.00    7.79      0.40               0   \n",
       "2       PE  Gas natural     63.00    7.79      0.40               0   \n",
       "\n",
       "   NumConnectionsUnder  BoolBridle  \n",
       "0                    0       False  \n",
       "1                    0       False  \n",
       "2                    0       False  "
      ]
     },
     "execution_count": 55,
     "metadata": {},
     "output_type": "execute_result"
    }
   ],
   "source": [
    "train_copy.head(3)"
   ]
  },
  {
   "cell_type": "code",
   "execution_count": 66,
   "id": "ecc2d0e9",
   "metadata": {},
   "outputs": [
    {
     "data": {
      "text/plain": [
       "PipeId                   int64\n",
       "MaintenanceId           object\n",
       "InspectionYear         float64\n",
       "InspectionDate          object\n",
       "MonthsLastRev          float64\n",
       "Severity               float64\n",
       "Incidence              float64\n",
       "Province                object\n",
       "Town                    object\n",
       "YearBuilt                int64\n",
       "Material                object\n",
       "GasType                 object\n",
       "Diameter               float64\n",
       "Length                 float64\n",
       "Pressure               float64\n",
       "NumConnections           int64\n",
       "NumConnectionsUnder      int64\n",
       "BoolBridle                bool\n",
       "dtype: object"
      ]
     },
     "execution_count": 66,
     "metadata": {},
     "output_type": "execute_result"
    }
   ],
   "source": [
    "#show the type of all the columns in train_copy\n",
    "train_copy.dtypes"
   ]
  },
  {
   "cell_type": "code",
   "execution_count": 68,
   "id": "46264d1f",
   "metadata": {},
   "outputs": [
    {
     "data": {
      "text/plain": [
       "(18685, 18)"
      ]
     },
     "execution_count": 68,
     "metadata": {},
     "output_type": "execute_result"
    }
   ],
   "source": [
    "#show nulls in InspectionYear\n",
    "train_copy[train_copy['InspectionYear'].isnull()].shape"
   ]
  },
  {
   "attachments": {},
   "cell_type": "markdown",
   "id": "3ad1ab13",
   "metadata": {},
   "source": [
    "## This formula is still wrong and I could not fix it"
   ]
  },
  {
   "cell_type": "code",
   "execution_count": 78,
   "id": "a7af2456",
   "metadata": {},
   "outputs": [],
   "source": [
    "#create a new column called 'No_Inspections' that is a sum that the number of inspections per PipeId that is less than InspectionYear that are not null in that row\n",
    "train_copy['No_Inspections'] = train_copy.groupby('PipeId')['InspectionYear'].transform(lambda x: x[x.notnull()].count())\n",
    "\n"
   ]
  },
  {
   "cell_type": "code",
   "execution_count": 77,
   "id": "14cd01a4",
   "metadata": {},
   "outputs": [],
   "source": [
    "#drop the column No_Inspections\n",
    "train_copy.drop('No_Inspections', axis=1, inplace=True)"
   ]
  },
  {
   "cell_type": "code",
   "execution_count": 79,
   "id": "0f306afe",
   "metadata": {},
   "outputs": [
    {
     "data": {
      "text/html": [
       "<div>\n",
       "<style scoped>\n",
       "    .dataframe tbody tr th:only-of-type {\n",
       "        vertical-align: middle;\n",
       "    }\n",
       "\n",
       "    .dataframe tbody tr th {\n",
       "        vertical-align: top;\n",
       "    }\n",
       "\n",
       "    .dataframe thead th {\n",
       "        text-align: right;\n",
       "    }\n",
       "</style>\n",
       "<table border=\"1\" class=\"dataframe\">\n",
       "  <thead>\n",
       "    <tr style=\"text-align: right;\">\n",
       "      <th></th>\n",
       "      <th>PipeId</th>\n",
       "      <th>MaintenanceId</th>\n",
       "      <th>InspectionYear</th>\n",
       "      <th>InspectionDate</th>\n",
       "      <th>MonthsLastRev</th>\n",
       "      <th>Severity</th>\n",
       "      <th>Incidence</th>\n",
       "      <th>Province</th>\n",
       "      <th>Town</th>\n",
       "      <th>YearBuilt</th>\n",
       "      <th>Material</th>\n",
       "      <th>GasType</th>\n",
       "      <th>Diameter</th>\n",
       "      <th>Length</th>\n",
       "      <th>Pressure</th>\n",
       "      <th>NumConnections</th>\n",
       "      <th>NumConnectionsUnder</th>\n",
       "      <th>BoolBridle</th>\n",
       "      <th>No_Inspections</th>\n",
       "    </tr>\n",
       "  </thead>\n",
       "  <tbody>\n",
       "    <tr>\n",
       "      <th>0</th>\n",
       "      <td>489616</td>\n",
       "      <td>ZRV-00003385</td>\n",
       "      <td>2013.00</td>\n",
       "      <td>2013-05-08</td>\n",
       "      <td>16.00</td>\n",
       "      <td>4.00</td>\n",
       "      <td>0.00</td>\n",
       "      <td>Ciudad Real</td>\n",
       "      <td>Torralba de Calatrava</td>\n",
       "      <td>2012</td>\n",
       "      <td>PE</td>\n",
       "      <td>Gas natural</td>\n",
       "      <td>63.00</td>\n",
       "      <td>7.79</td>\n",
       "      <td>0.40</td>\n",
       "      <td>0</td>\n",
       "      <td>0</td>\n",
       "      <td>False</td>\n",
       "      <td>5</td>\n",
       "    </tr>\n",
       "    <tr>\n",
       "      <th>1</th>\n",
       "      <td>489616</td>\n",
       "      <td>ZRV-00003385</td>\n",
       "      <td>2015.00</td>\n",
       "      <td>2015-03-04</td>\n",
       "      <td>22.00</td>\n",
       "      <td>4.00</td>\n",
       "      <td>0.00</td>\n",
       "      <td>Ciudad Real</td>\n",
       "      <td>Torralba de Calatrava</td>\n",
       "      <td>2012</td>\n",
       "      <td>PE</td>\n",
       "      <td>Gas natural</td>\n",
       "      <td>63.00</td>\n",
       "      <td>7.79</td>\n",
       "      <td>0.40</td>\n",
       "      <td>0</td>\n",
       "      <td>0</td>\n",
       "      <td>False</td>\n",
       "      <td>5</td>\n",
       "    </tr>\n",
       "    <tr>\n",
       "      <th>2</th>\n",
       "      <td>489616</td>\n",
       "      <td>ZRV-00003385</td>\n",
       "      <td>2016.00</td>\n",
       "      <td>2017-01-12</td>\n",
       "      <td>22.00</td>\n",
       "      <td>4.00</td>\n",
       "      <td>0.00</td>\n",
       "      <td>Ciudad Real</td>\n",
       "      <td>Torralba de Calatrava</td>\n",
       "      <td>2012</td>\n",
       "      <td>PE</td>\n",
       "      <td>Gas natural</td>\n",
       "      <td>63.00</td>\n",
       "      <td>7.79</td>\n",
       "      <td>0.40</td>\n",
       "      <td>0</td>\n",
       "      <td>0</td>\n",
       "      <td>False</td>\n",
       "      <td>5</td>\n",
       "    </tr>\n",
       "    <tr>\n",
       "      <th>3</th>\n",
       "      <td>489616</td>\n",
       "      <td>ZRV-00003385</td>\n",
       "      <td>2018.00</td>\n",
       "      <td>2018-12-19</td>\n",
       "      <td>23.00</td>\n",
       "      <td>4.00</td>\n",
       "      <td>0.00</td>\n",
       "      <td>Ciudad Real</td>\n",
       "      <td>Torralba de Calatrava</td>\n",
       "      <td>2012</td>\n",
       "      <td>PE</td>\n",
       "      <td>Gas natural</td>\n",
       "      <td>63.00</td>\n",
       "      <td>7.79</td>\n",
       "      <td>0.40</td>\n",
       "      <td>0</td>\n",
       "      <td>0</td>\n",
       "      <td>False</td>\n",
       "      <td>5</td>\n",
       "    </tr>\n",
       "    <tr>\n",
       "      <th>4</th>\n",
       "      <td>489616</td>\n",
       "      <td>ZRV-00003385</td>\n",
       "      <td>2020.00</td>\n",
       "      <td>2020-12-05</td>\n",
       "      <td>24.00</td>\n",
       "      <td>4.00</td>\n",
       "      <td>0.00</td>\n",
       "      <td>Ciudad Real</td>\n",
       "      <td>Torralba de Calatrava</td>\n",
       "      <td>2012</td>\n",
       "      <td>PE</td>\n",
       "      <td>Gas natural</td>\n",
       "      <td>63.00</td>\n",
       "      <td>7.79</td>\n",
       "      <td>0.40</td>\n",
       "      <td>0</td>\n",
       "      <td>0</td>\n",
       "      <td>False</td>\n",
       "      <td>5</td>\n",
       "    </tr>\n",
       "  </tbody>\n",
       "</table>\n",
       "</div>"
      ],
      "text/plain": [
       "   PipeId MaintenanceId  InspectionYear InspectionDate  MonthsLastRev  \\\n",
       "0  489616  ZRV-00003385         2013.00     2013-05-08          16.00   \n",
       "1  489616  ZRV-00003385         2015.00     2015-03-04          22.00   \n",
       "2  489616  ZRV-00003385         2016.00     2017-01-12          22.00   \n",
       "3  489616  ZRV-00003385         2018.00     2018-12-19          23.00   \n",
       "4  489616  ZRV-00003385         2020.00     2020-12-05          24.00   \n",
       "\n",
       "   Severity  Incidence     Province                   Town  YearBuilt  \\\n",
       "0      4.00       0.00  Ciudad Real  Torralba de Calatrava       2012   \n",
       "1      4.00       0.00  Ciudad Real  Torralba de Calatrava       2012   \n",
       "2      4.00       0.00  Ciudad Real  Torralba de Calatrava       2012   \n",
       "3      4.00       0.00  Ciudad Real  Torralba de Calatrava       2012   \n",
       "4      4.00       0.00  Ciudad Real  Torralba de Calatrava       2012   \n",
       "\n",
       "  Material      GasType  Diameter  Length  Pressure  NumConnections  \\\n",
       "0       PE  Gas natural     63.00    7.79      0.40               0   \n",
       "1       PE  Gas natural     63.00    7.79      0.40               0   \n",
       "2       PE  Gas natural     63.00    7.79      0.40               0   \n",
       "3       PE  Gas natural     63.00    7.79      0.40               0   \n",
       "4       PE  Gas natural     63.00    7.79      0.40               0   \n",
       "\n",
       "   NumConnectionsUnder  BoolBridle  No_Inspections  \n",
       "0                    0       False               5  \n",
       "1                    0       False               5  \n",
       "2                    0       False               5  \n",
       "3                    0       False               5  \n",
       "4                    0       False               5  "
      ]
     },
     "execution_count": 79,
     "metadata": {},
     "output_type": "execute_result"
    }
   ],
   "source": [
    "#show in train_copy all the rows with PipeId 489616\n",
    "train_copy[train_copy['PipeId'] == 489616]\n"
   ]
  },
  {
   "cell_type": "code",
   "execution_count": 80,
   "id": "ccf9de53",
   "metadata": {},
   "outputs": [
    {
     "data": {
      "text/plain": [
       "'No_Incidents'"
      ]
     },
     "execution_count": 80,
     "metadata": {},
     "output_type": "execute_result"
    },
    {
     "data": {
      "text/html": [
       "<div>\n",
       "<style scoped>\n",
       "    .dataframe tbody tr th:only-of-type {\n",
       "        vertical-align: middle;\n",
       "    }\n",
       "\n",
       "    .dataframe tbody tr th {\n",
       "        vertical-align: top;\n",
       "    }\n",
       "\n",
       "    .dataframe thead th {\n",
       "        text-align: right;\n",
       "    }\n",
       "</style>\n",
       "<table border=\"1\" class=\"dataframe\">\n",
       "  <thead>\n",
       "    <tr style=\"text-align: right;\">\n",
       "      <th></th>\n",
       "      <th>PipeId</th>\n",
       "      <th>MaintenanceId</th>\n",
       "      <th>No_Inspections</th>\n",
       "      <th>No_Incidents</th>\n",
       "      <th>InspectionYear</th>\n",
       "      <th>InspectionDate</th>\n",
       "      <th>MonthsLastRev</th>\n",
       "      <th>Severity</th>\n",
       "      <th>Incidence</th>\n",
       "      <th>Province</th>\n",
       "      <th>Town</th>\n",
       "      <th>YearBuilt</th>\n",
       "      <th>Material</th>\n",
       "      <th>GasType</th>\n",
       "      <th>Diameter</th>\n",
       "      <th>Length</th>\n",
       "      <th>Pressure</th>\n",
       "      <th>NumConnections</th>\n",
       "      <th>NumConnectionsUnder</th>\n",
       "      <th>BoolBridle</th>\n",
       "    </tr>\n",
       "  </thead>\n",
       "  <tbody>\n",
       "    <tr>\n",
       "      <th>637351</th>\n",
       "      <td>2157313</td>\n",
       "      <td>ZRV-00003476</td>\n",
       "      <td>5</td>\n",
       "      <td>3.00</td>\n",
       "      <td>2012.00</td>\n",
       "      <td>2012-11-28</td>\n",
       "      <td>10.00</td>\n",
       "      <td>4.00</td>\n",
       "      <td>0.00</td>\n",
       "      <td>Sevilla</td>\n",
       "      <td>Mairena del Aljarafe</td>\n",
       "      <td>2012</td>\n",
       "      <td>CU</td>\n",
       "      <td>Gas natural</td>\n",
       "      <td>15.00</td>\n",
       "      <td>25.58</td>\n",
       "      <td>4.00</td>\n",
       "      <td>2</td>\n",
       "      <td>0</td>\n",
       "      <td>True</td>\n",
       "    </tr>\n",
       "    <tr>\n",
       "      <th>637352</th>\n",
       "      <td>2157313</td>\n",
       "      <td>ZRV-00003476</td>\n",
       "      <td>5</td>\n",
       "      <td>3.00</td>\n",
       "      <td>2014.00</td>\n",
       "      <td>2014-12-10</td>\n",
       "      <td>35.00</td>\n",
       "      <td>3.00</td>\n",
       "      <td>1.00</td>\n",
       "      <td>Sevilla</td>\n",
       "      <td>Mairena del Aljarafe</td>\n",
       "      <td>2012</td>\n",
       "      <td>CU</td>\n",
       "      <td>Gas natural</td>\n",
       "      <td>15.00</td>\n",
       "      <td>25.58</td>\n",
       "      <td>4.00</td>\n",
       "      <td>2</td>\n",
       "      <td>0</td>\n",
       "      <td>True</td>\n",
       "    </tr>\n",
       "  </tbody>\n",
       "</table>\n",
       "</div>"
      ],
      "text/plain": [
       "         PipeId MaintenanceId  No_Inspections  No_Incidents  InspectionYear  \\\n",
       "637351  2157313  ZRV-00003476               5          3.00         2012.00   \n",
       "637352  2157313  ZRV-00003476               5          3.00         2014.00   \n",
       "\n",
       "       InspectionDate  MonthsLastRev  Severity  Incidence Province  \\\n",
       "637351     2012-11-28          10.00      4.00       0.00  Sevilla   \n",
       "637352     2014-12-10          35.00      3.00       1.00  Sevilla   \n",
       "\n",
       "                        Town  YearBuilt Material      GasType  Diameter  \\\n",
       "637351  Mairena del Aljarafe       2012       CU  Gas natural     15.00   \n",
       "637352  Mairena del Aljarafe       2012       CU  Gas natural     15.00   \n",
       "\n",
       "        Length  Pressure  NumConnections  NumConnectionsUnder  BoolBridle  \n",
       "637351   25.58      4.00               2                    0        True  \n",
       "637352   25.58      4.00               2                    0        True  "
      ]
     },
     "execution_count": 80,
     "metadata": {},
     "output_type": "execute_result"
    }
   ],
   "source": [
    "#create a new column counting the number of inspections (MaintenanceId) per PipeId\n",
    "train_copy['No_Inspections'] = train_copy.groupby('PipeId')['MaintenanceId'].transform('count')\n",
    "#aggregate the number of Incidents per pipe in a new column and place it in the fourth position\n",
    "train_copy['No_Incidents'] = train_copy.groupby('PipeId')['Incidence'].transform('sum')\n",
    "#place the new columns in the third position\n",
    "cols = list(train_copy.columns.values)\n",
    "cols.pop(cols.index('No_Incidents'))\n",
    "train_copy = train_copy[['PipeId', 'MaintenanceId', 'No_Inspections', 'No_Incidents', 'InspectionYear', 'InspectionDate',\n",
    "       'MonthsLastRev', 'Severity', 'Incidence', 'Province', 'Town',\n",
    "       'YearBuilt', 'Material', 'GasType', 'Diameter', 'Length', 'Pressure',\n",
    "       'NumConnections', 'NumConnectionsUnder', 'BoolBridle']]\n",
    "#show head of rows only where No_Incidents is greater than 0\n",
    "train_copy[train_copy['No_Incidents'] > 2].head(2)\n"
   ]
  },
  {
   "cell_type": "code",
   "execution_count": 81,
   "id": "9d9fcef1",
   "metadata": {},
   "outputs": [
    {
     "data": {
      "text/plain": [
       "Index(['PipeId', 'MaintenanceId', 'No_Inspections', 'No_Incidents',\n",
       "       'InspectionYear', 'InspectionDate', 'MonthsLastRev', 'Severity',\n",
       "       'Incidence', 'Province', 'Town', 'YearBuilt', 'Material', 'GasType',\n",
       "       'Diameter', 'Length', 'Pressure', 'NumConnections',\n",
       "       'NumConnectionsUnder', 'BoolBridle'],\n",
       "      dtype='object')"
      ]
     },
     "execution_count": 81,
     "metadata": {},
     "output_type": "execute_result"
    }
   ],
   "source": [
    "train_copy.columns"
   ]
  },
  {
   "cell_type": "code",
   "execution_count": 82,
   "id": "5e7a1ceb",
   "metadata": {},
   "outputs": [
    {
     "data": {
      "text/html": [
       "<div>\n",
       "<style scoped>\n",
       "    .dataframe tbody tr th:only-of-type {\n",
       "        vertical-align: middle;\n",
       "    }\n",
       "\n",
       "    .dataframe tbody tr th {\n",
       "        vertical-align: top;\n",
       "    }\n",
       "\n",
       "    .dataframe thead th {\n",
       "        text-align: right;\n",
       "    }\n",
       "</style>\n",
       "<table border=\"1\" class=\"dataframe\">\n",
       "  <thead>\n",
       "    <tr style=\"text-align: right;\">\n",
       "      <th></th>\n",
       "      <th>PipeId</th>\n",
       "      <th>MaintenanceId</th>\n",
       "      <th>No_Inspections</th>\n",
       "      <th>No_Incidents</th>\n",
       "      <th>InspectionYear</th>\n",
       "      <th>InspectionDate</th>\n",
       "      <th>MonthsLastRev</th>\n",
       "      <th>Severity</th>\n",
       "      <th>Incidence</th>\n",
       "      <th>Province</th>\n",
       "      <th>Town</th>\n",
       "      <th>YearBuilt</th>\n",
       "      <th>Material</th>\n",
       "      <th>GasType</th>\n",
       "      <th>Diameter</th>\n",
       "      <th>Length</th>\n",
       "      <th>Pressure</th>\n",
       "      <th>NumConnections</th>\n",
       "      <th>NumConnectionsUnder</th>\n",
       "      <th>BoolBridle</th>\n",
       "      <th>average_severity_pipe</th>\n",
       "    </tr>\n",
       "  </thead>\n",
       "  <tbody>\n",
       "    <tr>\n",
       "      <th>12371</th>\n",
       "      <td>35790261</td>\n",
       "      <td>ZRV-00007259</td>\n",
       "      <td>2</td>\n",
       "      <td>1.00</td>\n",
       "      <td>2018.00</td>\n",
       "      <td>2018-02-23</td>\n",
       "      <td>9.00</td>\n",
       "      <td>3.00</td>\n",
       "      <td>1.00</td>\n",
       "      <td>Córdoba</td>\n",
       "      <td>Lucena</td>\n",
       "      <td>2016</td>\n",
       "      <td>PE</td>\n",
       "      <td>Gas natural</td>\n",
       "      <td>32.00</td>\n",
       "      <td>87.83</td>\n",
       "      <td>0.15</td>\n",
       "      <td>12</td>\n",
       "      <td>0</td>\n",
       "      <td>False</td>\n",
       "      <td>3.50</td>\n",
       "    </tr>\n",
       "    <tr>\n",
       "      <th>12372</th>\n",
       "      <td>35790261</td>\n",
       "      <td>ZRV-00003409</td>\n",
       "      <td>2</td>\n",
       "      <td>1.00</td>\n",
       "      <td>2020.00</td>\n",
       "      <td>2020-05-20</td>\n",
       "      <td>27.00</td>\n",
       "      <td>4.00</td>\n",
       "      <td>0.00</td>\n",
       "      <td>Córdoba</td>\n",
       "      <td>Lucena</td>\n",
       "      <td>2016</td>\n",
       "      <td>PE</td>\n",
       "      <td>Gas natural</td>\n",
       "      <td>32.00</td>\n",
       "      <td>87.83</td>\n",
       "      <td>0.15</td>\n",
       "      <td>12</td>\n",
       "      <td>0</td>\n",
       "      <td>False</td>\n",
       "      <td>3.50</td>\n",
       "    </tr>\n",
       "    <tr>\n",
       "      <th>12725</th>\n",
       "      <td>3663205</td>\n",
       "      <td>ZRV-00003435</td>\n",
       "      <td>4</td>\n",
       "      <td>1.00</td>\n",
       "      <td>2013.00</td>\n",
       "      <td>2013-05-15</td>\n",
       "      <td>16.00</td>\n",
       "      <td>3.00</td>\n",
       "      <td>1.00</td>\n",
       "      <td>Granada</td>\n",
       "      <td>Granada</td>\n",
       "      <td>2012</td>\n",
       "      <td>PE</td>\n",
       "      <td>Gas natural</td>\n",
       "      <td>110.00</td>\n",
       "      <td>194.41</td>\n",
       "      <td>0.40</td>\n",
       "      <td>8</td>\n",
       "      <td>0</td>\n",
       "      <td>False</td>\n",
       "      <td>3.75</td>\n",
       "    </tr>\n",
       "    <tr>\n",
       "      <th>12726</th>\n",
       "      <td>3663205</td>\n",
       "      <td>ZRV-00003435</td>\n",
       "      <td>4</td>\n",
       "      <td>1.00</td>\n",
       "      <td>2015.00</td>\n",
       "      <td>2015-05-26</td>\n",
       "      <td>24.00</td>\n",
       "      <td>4.00</td>\n",
       "      <td>0.00</td>\n",
       "      <td>Granada</td>\n",
       "      <td>Granada</td>\n",
       "      <td>2012</td>\n",
       "      <td>PE</td>\n",
       "      <td>Gas natural</td>\n",
       "      <td>110.00</td>\n",
       "      <td>194.41</td>\n",
       "      <td>0.40</td>\n",
       "      <td>8</td>\n",
       "      <td>0</td>\n",
       "      <td>False</td>\n",
       "      <td>3.75</td>\n",
       "    </tr>\n",
       "    <tr>\n",
       "      <th>12727</th>\n",
       "      <td>3663205</td>\n",
       "      <td>ZRV-00003435</td>\n",
       "      <td>4</td>\n",
       "      <td>1.00</td>\n",
       "      <td>2017.00</td>\n",
       "      <td>2017-05-10</td>\n",
       "      <td>24.00</td>\n",
       "      <td>4.00</td>\n",
       "      <td>0.00</td>\n",
       "      <td>Granada</td>\n",
       "      <td>Granada</td>\n",
       "      <td>2012</td>\n",
       "      <td>PE</td>\n",
       "      <td>Gas natural</td>\n",
       "      <td>110.00</td>\n",
       "      <td>194.41</td>\n",
       "      <td>0.40</td>\n",
       "      <td>8</td>\n",
       "      <td>0</td>\n",
       "      <td>False</td>\n",
       "      <td>3.75</td>\n",
       "    </tr>\n",
       "    <tr>\n",
       "      <th>12728</th>\n",
       "      <td>3663205</td>\n",
       "      <td>ZRV-00003435</td>\n",
       "      <td>4</td>\n",
       "      <td>1.00</td>\n",
       "      <td>2019.00</td>\n",
       "      <td>2019-05-10</td>\n",
       "      <td>24.00</td>\n",
       "      <td>4.00</td>\n",
       "      <td>0.00</td>\n",
       "      <td>Granada</td>\n",
       "      <td>Granada</td>\n",
       "      <td>2012</td>\n",
       "      <td>PE</td>\n",
       "      <td>Gas natural</td>\n",
       "      <td>110.00</td>\n",
       "      <td>194.41</td>\n",
       "      <td>0.40</td>\n",
       "      <td>8</td>\n",
       "      <td>0</td>\n",
       "      <td>False</td>\n",
       "      <td>3.75</td>\n",
       "    </tr>\n",
       "    <tr>\n",
       "      <th>15120</th>\n",
       "      <td>228066029</td>\n",
       "      <td>ZRV-00003435</td>\n",
       "      <td>5</td>\n",
       "      <td>1.00</td>\n",
       "      <td>2012.00</td>\n",
       "      <td>2012-03-22</td>\n",
       "      <td>22.00</td>\n",
       "      <td>4.00</td>\n",
       "      <td>0.00</td>\n",
       "      <td>Granada</td>\n",
       "      <td>Granada</td>\n",
       "      <td>1998</td>\n",
       "      <td>PE</td>\n",
       "      <td>Gas natural</td>\n",
       "      <td>200.00</td>\n",
       "      <td>171.11</td>\n",
       "      <td>0.15</td>\n",
       "      <td>5</td>\n",
       "      <td>0</td>\n",
       "      <td>False</td>\n",
       "      <td>3.80</td>\n",
       "    </tr>\n",
       "    <tr>\n",
       "      <th>15121</th>\n",
       "      <td>228066029</td>\n",
       "      <td>ZRV-00003435</td>\n",
       "      <td>5</td>\n",
       "      <td>1.00</td>\n",
       "      <td>2013.00</td>\n",
       "      <td>2013-05-27</td>\n",
       "      <td>14.00</td>\n",
       "      <td>4.00</td>\n",
       "      <td>0.00</td>\n",
       "      <td>Granada</td>\n",
       "      <td>Granada</td>\n",
       "      <td>1998</td>\n",
       "      <td>PE</td>\n",
       "      <td>Gas natural</td>\n",
       "      <td>200.00</td>\n",
       "      <td>171.11</td>\n",
       "      <td>0.15</td>\n",
       "      <td>5</td>\n",
       "      <td>0</td>\n",
       "      <td>False</td>\n",
       "      <td>3.80</td>\n",
       "    </tr>\n",
       "    <tr>\n",
       "      <th>15122</th>\n",
       "      <td>228066029</td>\n",
       "      <td>ZRV-00003435</td>\n",
       "      <td>5</td>\n",
       "      <td>1.00</td>\n",
       "      <td>2015.00</td>\n",
       "      <td>2015-05-06</td>\n",
       "      <td>24.00</td>\n",
       "      <td>4.00</td>\n",
       "      <td>0.00</td>\n",
       "      <td>Granada</td>\n",
       "      <td>Granada</td>\n",
       "      <td>1998</td>\n",
       "      <td>PE</td>\n",
       "      <td>Gas natural</td>\n",
       "      <td>200.00</td>\n",
       "      <td>171.11</td>\n",
       "      <td>0.15</td>\n",
       "      <td>5</td>\n",
       "      <td>0</td>\n",
       "      <td>False</td>\n",
       "      <td>3.80</td>\n",
       "    </tr>\n",
       "    <tr>\n",
       "      <th>15123</th>\n",
       "      <td>228066029</td>\n",
       "      <td>ZRV-00003435</td>\n",
       "      <td>5</td>\n",
       "      <td>1.00</td>\n",
       "      <td>2017.00</td>\n",
       "      <td>2017-05-08</td>\n",
       "      <td>24.00</td>\n",
       "      <td>3.00</td>\n",
       "      <td>1.00</td>\n",
       "      <td>Granada</td>\n",
       "      <td>Granada</td>\n",
       "      <td>1998</td>\n",
       "      <td>PE</td>\n",
       "      <td>Gas natural</td>\n",
       "      <td>200.00</td>\n",
       "      <td>171.11</td>\n",
       "      <td>0.15</td>\n",
       "      <td>5</td>\n",
       "      <td>0</td>\n",
       "      <td>False</td>\n",
       "      <td>3.80</td>\n",
       "    </tr>\n",
       "  </tbody>\n",
       "</table>\n",
       "</div>"
      ],
      "text/plain": [
       "          PipeId MaintenanceId  No_Inspections  No_Incidents  InspectionYear  \\\n",
       "12371   35790261  ZRV-00007259               2          1.00         2018.00   \n",
       "12372   35790261  ZRV-00003409               2          1.00         2020.00   \n",
       "12725    3663205  ZRV-00003435               4          1.00         2013.00   \n",
       "12726    3663205  ZRV-00003435               4          1.00         2015.00   \n",
       "12727    3663205  ZRV-00003435               4          1.00         2017.00   \n",
       "12728    3663205  ZRV-00003435               4          1.00         2019.00   \n",
       "15120  228066029  ZRV-00003435               5          1.00         2012.00   \n",
       "15121  228066029  ZRV-00003435               5          1.00         2013.00   \n",
       "15122  228066029  ZRV-00003435               5          1.00         2015.00   \n",
       "15123  228066029  ZRV-00003435               5          1.00         2017.00   \n",
       "\n",
       "      InspectionDate  MonthsLastRev  Severity  Incidence Province     Town  \\\n",
       "12371     2018-02-23           9.00      3.00       1.00  Córdoba   Lucena   \n",
       "12372     2020-05-20          27.00      4.00       0.00  Córdoba   Lucena   \n",
       "12725     2013-05-15          16.00      3.00       1.00  Granada  Granada   \n",
       "12726     2015-05-26          24.00      4.00       0.00  Granada  Granada   \n",
       "12727     2017-05-10          24.00      4.00       0.00  Granada  Granada   \n",
       "12728     2019-05-10          24.00      4.00       0.00  Granada  Granada   \n",
       "15120     2012-03-22          22.00      4.00       0.00  Granada  Granada   \n",
       "15121     2013-05-27          14.00      4.00       0.00  Granada  Granada   \n",
       "15122     2015-05-06          24.00      4.00       0.00  Granada  Granada   \n",
       "15123     2017-05-08          24.00      3.00       1.00  Granada  Granada   \n",
       "\n",
       "       YearBuilt Material      GasType  Diameter  Length  Pressure  \\\n",
       "12371       2016       PE  Gas natural     32.00   87.83      0.15   \n",
       "12372       2016       PE  Gas natural     32.00   87.83      0.15   \n",
       "12725       2012       PE  Gas natural    110.00  194.41      0.40   \n",
       "12726       2012       PE  Gas natural    110.00  194.41      0.40   \n",
       "12727       2012       PE  Gas natural    110.00  194.41      0.40   \n",
       "12728       2012       PE  Gas natural    110.00  194.41      0.40   \n",
       "15120       1998       PE  Gas natural    200.00  171.11      0.15   \n",
       "15121       1998       PE  Gas natural    200.00  171.11      0.15   \n",
       "15122       1998       PE  Gas natural    200.00  171.11      0.15   \n",
       "15123       1998       PE  Gas natural    200.00  171.11      0.15   \n",
       "\n",
       "       NumConnections  NumConnectionsUnder  BoolBridle  average_severity_pipe  \n",
       "12371              12                    0       False                   3.50  \n",
       "12372              12                    0       False                   3.50  \n",
       "12725               8                    0       False                   3.75  \n",
       "12726               8                    0       False                   3.75  \n",
       "12727               8                    0       False                   3.75  \n",
       "12728               8                    0       False                   3.75  \n",
       "15120               5                    0       False                   3.80  \n",
       "15121               5                    0       False                   3.80  \n",
       "15122               5                    0       False                   3.80  \n",
       "15123               5                    0       False                   3.80  "
      ]
     },
     "execution_count": 82,
     "metadata": {},
     "output_type": "execute_result"
    },
    {
     "data": {
      "text/plain": [
       "'average_severity_pipe'"
      ]
     },
     "execution_count": 82,
     "metadata": {},
     "output_type": "execute_result"
    }
   ],
   "source": [
    "#create a column named average_severity_pipe that calculates the average severity per pipe aggregating all severities\n",
    "train_copy['average_severity_pipe'] = train_copy.groupby('PipeId')['Severity'].transform('mean')\n",
    "#show head of rows only where mean has a decimal value\n",
    "train_copy[train_copy['average_severity_pipe'] % 1 != 0].head(10)\n",
    "#place the new column in 7th position\n",
    "cols = list(train_copy.columns.values)\n",
    "cols.pop(cols.index('average_severity_pipe'))\n",
    "train_copy = train_copy[['PipeId', 'No_Inspections', 'No_Incidents', 'InspectionYear',\n",
    "       'InspectionDate', 'MonthsLastRev', 'average_severity_pipe','Severity', 'Incidence', 'Province',\n",
    "       'Town', 'YearBuilt', 'Material', 'GasType', 'Diameter', 'Length',\n",
    "       'Pressure', 'NumConnections', 'NumConnectionsUnder', 'BoolBridle']]\n"
   ]
  },
  {
   "cell_type": "code",
   "execution_count": 83,
   "id": "2fdfea3b",
   "metadata": {},
   "outputs": [
    {
     "data": {
      "text/plain": [
       "'relative_risk'"
      ]
     },
     "execution_count": 83,
     "metadata": {},
     "output_type": "execute_result"
    }
   ],
   "source": [
    "#create a column taking average severity and number of total incidences per pipe multiplying them and naming it as risk_(s*i)\n",
    "train_copy['relative_risk'] = train_copy['average_severity_pipe'] * train_copy['No_Incidents'] \n",
    "#position the new column in the 7th position\n",
    "cols = list(train_copy.columns.values)\n",
    "cols.pop(cols.index('relative_risk'))\n",
    "train_copy = train_copy[['PipeId', 'No_Inspections', 'No_Incidents', 'InspectionYear',\n",
    "       'InspectionDate', 'MonthsLastRev','relative_risk', 'average_severity_pipe', 'Severity',\n",
    "       'Incidence', 'Province', 'Town', 'YearBuilt', 'Material', 'GasType',\n",
    "       'Diameter', 'Length', 'Pressure', 'NumConnections',\n",
    "       'NumConnectionsUnder', 'BoolBridle']]"
   ]
  },
  {
   "attachments": {},
   "cell_type": "markdown",
   "id": "8bd590dc",
   "metadata": {},
   "source": [
    "This new column allows us to have a measure of risk by adding the mean aggregate of severity for an specific pipe and the aggregate number of incidents that we just created above"
   ]
  },
  {
   "cell_type": "code",
   "execution_count": 84,
   "id": "89039b1a",
   "metadata": {},
   "outputs": [
    {
     "data": {
      "text/html": [
       "<div>\n",
       "<style scoped>\n",
       "    .dataframe tbody tr th:only-of-type {\n",
       "        vertical-align: middle;\n",
       "    }\n",
       "\n",
       "    .dataframe tbody tr th {\n",
       "        vertical-align: top;\n",
       "    }\n",
       "\n",
       "    .dataframe thead th {\n",
       "        text-align: right;\n",
       "    }\n",
       "</style>\n",
       "<table border=\"1\" class=\"dataframe\">\n",
       "  <thead>\n",
       "    <tr style=\"text-align: right;\">\n",
       "      <th></th>\n",
       "      <th>PipeId</th>\n",
       "      <th>No_Inspections</th>\n",
       "      <th>No_Incidents</th>\n",
       "      <th>InspectionYear</th>\n",
       "      <th>InspectionDate</th>\n",
       "      <th>MonthsLastRev</th>\n",
       "      <th>relative_risk</th>\n",
       "      <th>average_severity_pipe</th>\n",
       "      <th>Severity</th>\n",
       "      <th>Incidence</th>\n",
       "      <th>Province</th>\n",
       "      <th>Town</th>\n",
       "      <th>YearBuilt</th>\n",
       "      <th>Material</th>\n",
       "      <th>GasType</th>\n",
       "      <th>Diameter</th>\n",
       "      <th>Length</th>\n",
       "      <th>Pressure</th>\n",
       "      <th>NumConnections</th>\n",
       "      <th>NumConnectionsUnder</th>\n",
       "      <th>BoolBridle</th>\n",
       "    </tr>\n",
       "  </thead>\n",
       "  <tbody>\n",
       "    <tr>\n",
       "      <th>3686852</th>\n",
       "      <td>308090921</td>\n",
       "      <td>6</td>\n",
       "      <td>4.00</td>\n",
       "      <td>2011.00</td>\n",
       "      <td>2011-01-20</td>\n",
       "      <td>16.00</td>\n",
       "      <td>13.33</td>\n",
       "      <td>3.33</td>\n",
       "      <td>3.00</td>\n",
       "      <td>1.00</td>\n",
       "      <td>Madrid</td>\n",
       "      <td>Madrid</td>\n",
       "      <td>1995</td>\n",
       "      <td>PE</td>\n",
       "      <td>Gas natural</td>\n",
       "      <td>200.00</td>\n",
       "      <td>83.47</td>\n",
       "      <td>0.03</td>\n",
       "      <td>11</td>\n",
       "      <td>0</td>\n",
       "      <td>False</td>\n",
       "    </tr>\n",
       "    <tr>\n",
       "      <th>3686853</th>\n",
       "      <td>308090921</td>\n",
       "      <td>6</td>\n",
       "      <td>4.00</td>\n",
       "      <td>2012.00</td>\n",
       "      <td>2012-10-23</td>\n",
       "      <td>21.00</td>\n",
       "      <td>13.33</td>\n",
       "      <td>3.33</td>\n",
       "      <td>3.00</td>\n",
       "      <td>1.00</td>\n",
       "      <td>Madrid</td>\n",
       "      <td>Madrid</td>\n",
       "      <td>1995</td>\n",
       "      <td>PE</td>\n",
       "      <td>Gas natural</td>\n",
       "      <td>200.00</td>\n",
       "      <td>83.47</td>\n",
       "      <td>0.03</td>\n",
       "      <td>11</td>\n",
       "      <td>0</td>\n",
       "      <td>False</td>\n",
       "    </tr>\n",
       "  </tbody>\n",
       "</table>\n",
       "</div>"
      ],
      "text/plain": [
       "            PipeId  No_Inspections  No_Incidents  InspectionYear  \\\n",
       "3686852  308090921               6          4.00         2011.00   \n",
       "3686853  308090921               6          4.00         2012.00   \n",
       "\n",
       "        InspectionDate  MonthsLastRev  relative_risk  average_severity_pipe  \\\n",
       "3686852     2011-01-20          16.00          13.33                   3.33   \n",
       "3686853     2012-10-23          21.00          13.33                   3.33   \n",
       "\n",
       "         Severity  Incidence Province    Town  YearBuilt Material  \\\n",
       "3686852      3.00       1.00   Madrid  Madrid       1995       PE   \n",
       "3686853      3.00       1.00   Madrid  Madrid       1995       PE   \n",
       "\n",
       "             GasType  Diameter  Length  Pressure  NumConnections  \\\n",
       "3686852  Gas natural    200.00   83.47      0.03              11   \n",
       "3686853  Gas natural    200.00   83.47      0.03              11   \n",
       "\n",
       "         NumConnectionsUnder  BoolBridle  \n",
       "3686852                    0       False  \n",
       "3686853                    0       False  "
      ]
     },
     "execution_count": 84,
     "metadata": {},
     "output_type": "execute_result"
    }
   ],
   "source": [
    "#show head of rows only where Risk_S*I is greater than 0\n",
    "train_copy[train_copy['relative_risk'] > 12].head(2)"
   ]
  },
  {
   "cell_type": "code",
   "execution_count": 85,
   "id": "7df6bebb",
   "metadata": {},
   "outputs": [
    {
     "data": {
      "application/vnd.plotly.v1+json": {
       "config": {
        "plotlyServerURL": "https://plot.ly"
       },
       "data": [
        {
         "branchvalues": "total",
         "domain": {
          "x": [
           0,
           1
          ],
          "y": [
           0,
           1
          ]
         },
         "hovertemplate": "labels=%{label}<br>relative_risk=%{value}<br>parent=%{parent}<br>id=%{id}<extra></extra>",
         "ids": [
          "FD/1950",
          "PE/1950",
          "FD/1969",
          "FD/1980",
          "PE/1980",
          "PE/1985",
          "AO/1987",
          "PE/1987",
          "FD/1988",
          "PE/1988",
          "FD/1991",
          "PE/1991",
          "FD/1992",
          "PE/1992",
          "PE/1993",
          "PE/1994",
          "PE/1995",
          "PE/1996",
          "PE/1997",
          "PE/2002",
          "PE/2004",
          "CU/2012",
          "CU/2013",
          "FD/2014",
          "PE/2015",
          "AO",
          "CU",
          "FD",
          "PE"
         ],
         "labels": [
          "1950",
          "1950",
          "1969",
          "1980",
          "1980",
          "1985",
          "1987",
          "1987",
          "1988",
          "1988",
          "1991",
          "1991",
          "1992",
          "1992",
          "1993",
          "1994",
          "1995",
          "1996",
          "1997",
          "2002",
          "2004",
          "2012",
          "2013",
          "2014",
          "2015",
          "AO",
          "CU",
          "FD",
          "PE"
         ],
         "name": "",
         "parents": [
          "FD",
          "PE",
          "FD",
          "FD",
          "PE",
          "PE",
          "AO",
          "PE",
          "FD",
          "PE",
          "FD",
          "PE",
          "FD",
          "PE",
          "PE",
          "PE",
          "PE",
          "PE",
          "PE",
          "PE",
          "PE",
          "CU",
          "CU",
          "FD",
          "PE",
          "",
          "",
          "",
          ""
         ],
         "type": "treemap",
         "values": [
          90,
          102,
          87,
          48.00000000000001,
          39,
          48.00000000000001,
          63,
          60,
          57,
          48.00000000000001,
          60,
          153,
          64,
          51,
          240,
          423,
          472,
          48.00000000000001,
          165,
          63,
          60,
          90,
          39,
          90,
          39,
          63,
          129,
          496,
          2011
         ]
        }
       ],
       "layout": {
        "legend": {
         "tracegroupgap": 0
        },
        "margin": {
         "t": 60
        },
        "template": {
         "data": {
          "bar": [
           {
            "error_x": {
             "color": "#2a3f5f"
            },
            "error_y": {
             "color": "#2a3f5f"
            },
            "marker": {
             "line": {
              "color": "#E5ECF6",
              "width": 0.5
             },
             "pattern": {
              "fillmode": "overlay",
              "size": 10,
              "solidity": 0.2
             }
            },
            "type": "bar"
           }
          ],
          "barpolar": [
           {
            "marker": {
             "line": {
              "color": "#E5ECF6",
              "width": 0.5
             },
             "pattern": {
              "fillmode": "overlay",
              "size": 10,
              "solidity": 0.2
             }
            },
            "type": "barpolar"
           }
          ],
          "carpet": [
           {
            "aaxis": {
             "endlinecolor": "#2a3f5f",
             "gridcolor": "white",
             "linecolor": "white",
             "minorgridcolor": "white",
             "startlinecolor": "#2a3f5f"
            },
            "baxis": {
             "endlinecolor": "#2a3f5f",
             "gridcolor": "white",
             "linecolor": "white",
             "minorgridcolor": "white",
             "startlinecolor": "#2a3f5f"
            },
            "type": "carpet"
           }
          ],
          "choropleth": [
           {
            "colorbar": {
             "outlinewidth": 0,
             "ticks": ""
            },
            "type": "choropleth"
           }
          ],
          "contour": [
           {
            "colorbar": {
             "outlinewidth": 0,
             "ticks": ""
            },
            "colorscale": [
             [
              0,
              "#0d0887"
             ],
             [
              0.1111111111111111,
              "#46039f"
             ],
             [
              0.2222222222222222,
              "#7201a8"
             ],
             [
              0.3333333333333333,
              "#9c179e"
             ],
             [
              0.4444444444444444,
              "#bd3786"
             ],
             [
              0.5555555555555556,
              "#d8576b"
             ],
             [
              0.6666666666666666,
              "#ed7953"
             ],
             [
              0.7777777777777778,
              "#fb9f3a"
             ],
             [
              0.8888888888888888,
              "#fdca26"
             ],
             [
              1,
              "#f0f921"
             ]
            ],
            "type": "contour"
           }
          ],
          "contourcarpet": [
           {
            "colorbar": {
             "outlinewidth": 0,
             "ticks": ""
            },
            "type": "contourcarpet"
           }
          ],
          "heatmap": [
           {
            "colorbar": {
             "outlinewidth": 0,
             "ticks": ""
            },
            "colorscale": [
             [
              0,
              "#0d0887"
             ],
             [
              0.1111111111111111,
              "#46039f"
             ],
             [
              0.2222222222222222,
              "#7201a8"
             ],
             [
              0.3333333333333333,
              "#9c179e"
             ],
             [
              0.4444444444444444,
              "#bd3786"
             ],
             [
              0.5555555555555556,
              "#d8576b"
             ],
             [
              0.6666666666666666,
              "#ed7953"
             ],
             [
              0.7777777777777778,
              "#fb9f3a"
             ],
             [
              0.8888888888888888,
              "#fdca26"
             ],
             [
              1,
              "#f0f921"
             ]
            ],
            "type": "heatmap"
           }
          ],
          "heatmapgl": [
           {
            "colorbar": {
             "outlinewidth": 0,
             "ticks": ""
            },
            "colorscale": [
             [
              0,
              "#0d0887"
             ],
             [
              0.1111111111111111,
              "#46039f"
             ],
             [
              0.2222222222222222,
              "#7201a8"
             ],
             [
              0.3333333333333333,
              "#9c179e"
             ],
             [
              0.4444444444444444,
              "#bd3786"
             ],
             [
              0.5555555555555556,
              "#d8576b"
             ],
             [
              0.6666666666666666,
              "#ed7953"
             ],
             [
              0.7777777777777778,
              "#fb9f3a"
             ],
             [
              0.8888888888888888,
              "#fdca26"
             ],
             [
              1,
              "#f0f921"
             ]
            ],
            "type": "heatmapgl"
           }
          ],
          "histogram": [
           {
            "marker": {
             "pattern": {
              "fillmode": "overlay",
              "size": 10,
              "solidity": 0.2
             }
            },
            "type": "histogram"
           }
          ],
          "histogram2d": [
           {
            "colorbar": {
             "outlinewidth": 0,
             "ticks": ""
            },
            "colorscale": [
             [
              0,
              "#0d0887"
             ],
             [
              0.1111111111111111,
              "#46039f"
             ],
             [
              0.2222222222222222,
              "#7201a8"
             ],
             [
              0.3333333333333333,
              "#9c179e"
             ],
             [
              0.4444444444444444,
              "#bd3786"
             ],
             [
              0.5555555555555556,
              "#d8576b"
             ],
             [
              0.6666666666666666,
              "#ed7953"
             ],
             [
              0.7777777777777778,
              "#fb9f3a"
             ],
             [
              0.8888888888888888,
              "#fdca26"
             ],
             [
              1,
              "#f0f921"
             ]
            ],
            "type": "histogram2d"
           }
          ],
          "histogram2dcontour": [
           {
            "colorbar": {
             "outlinewidth": 0,
             "ticks": ""
            },
            "colorscale": [
             [
              0,
              "#0d0887"
             ],
             [
              0.1111111111111111,
              "#46039f"
             ],
             [
              0.2222222222222222,
              "#7201a8"
             ],
             [
              0.3333333333333333,
              "#9c179e"
             ],
             [
              0.4444444444444444,
              "#bd3786"
             ],
             [
              0.5555555555555556,
              "#d8576b"
             ],
             [
              0.6666666666666666,
              "#ed7953"
             ],
             [
              0.7777777777777778,
              "#fb9f3a"
             ],
             [
              0.8888888888888888,
              "#fdca26"
             ],
             [
              1,
              "#f0f921"
             ]
            ],
            "type": "histogram2dcontour"
           }
          ],
          "mesh3d": [
           {
            "colorbar": {
             "outlinewidth": 0,
             "ticks": ""
            },
            "type": "mesh3d"
           }
          ],
          "parcoords": [
           {
            "line": {
             "colorbar": {
              "outlinewidth": 0,
              "ticks": ""
             }
            },
            "type": "parcoords"
           }
          ],
          "pie": [
           {
            "automargin": true,
            "type": "pie"
           }
          ],
          "scatter": [
           {
            "fillpattern": {
             "fillmode": "overlay",
             "size": 10,
             "solidity": 0.2
            },
            "type": "scatter"
           }
          ],
          "scatter3d": [
           {
            "line": {
             "colorbar": {
              "outlinewidth": 0,
              "ticks": ""
             }
            },
            "marker": {
             "colorbar": {
              "outlinewidth": 0,
              "ticks": ""
             }
            },
            "type": "scatter3d"
           }
          ],
          "scattercarpet": [
           {
            "marker": {
             "colorbar": {
              "outlinewidth": 0,
              "ticks": ""
             }
            },
            "type": "scattercarpet"
           }
          ],
          "scattergeo": [
           {
            "marker": {
             "colorbar": {
              "outlinewidth": 0,
              "ticks": ""
             }
            },
            "type": "scattergeo"
           }
          ],
          "scattergl": [
           {
            "marker": {
             "colorbar": {
              "outlinewidth": 0,
              "ticks": ""
             }
            },
            "type": "scattergl"
           }
          ],
          "scattermapbox": [
           {
            "marker": {
             "colorbar": {
              "outlinewidth": 0,
              "ticks": ""
             }
            },
            "type": "scattermapbox"
           }
          ],
          "scatterpolar": [
           {
            "marker": {
             "colorbar": {
              "outlinewidth": 0,
              "ticks": ""
             }
            },
            "type": "scatterpolar"
           }
          ],
          "scatterpolargl": [
           {
            "marker": {
             "colorbar": {
              "outlinewidth": 0,
              "ticks": ""
             }
            },
            "type": "scatterpolargl"
           }
          ],
          "scatterternary": [
           {
            "marker": {
             "colorbar": {
              "outlinewidth": 0,
              "ticks": ""
             }
            },
            "type": "scatterternary"
           }
          ],
          "surface": [
           {
            "colorbar": {
             "outlinewidth": 0,
             "ticks": ""
            },
            "colorscale": [
             [
              0,
              "#0d0887"
             ],
             [
              0.1111111111111111,
              "#46039f"
             ],
             [
              0.2222222222222222,
              "#7201a8"
             ],
             [
              0.3333333333333333,
              "#9c179e"
             ],
             [
              0.4444444444444444,
              "#bd3786"
             ],
             [
              0.5555555555555556,
              "#d8576b"
             ],
             [
              0.6666666666666666,
              "#ed7953"
             ],
             [
              0.7777777777777778,
              "#fb9f3a"
             ],
             [
              0.8888888888888888,
              "#fdca26"
             ],
             [
              1,
              "#f0f921"
             ]
            ],
            "type": "surface"
           }
          ],
          "table": [
           {
            "cells": {
             "fill": {
              "color": "#EBF0F8"
             },
             "line": {
              "color": "white"
             }
            },
            "header": {
             "fill": {
              "color": "#C8D4E3"
             },
             "line": {
              "color": "white"
             }
            },
            "type": "table"
           }
          ]
         },
         "layout": {
          "annotationdefaults": {
           "arrowcolor": "#2a3f5f",
           "arrowhead": 0,
           "arrowwidth": 1
          },
          "autotypenumbers": "strict",
          "coloraxis": {
           "colorbar": {
            "outlinewidth": 0,
            "ticks": ""
           }
          },
          "colorscale": {
           "diverging": [
            [
             0,
             "#8e0152"
            ],
            [
             0.1,
             "#c51b7d"
            ],
            [
             0.2,
             "#de77ae"
            ],
            [
             0.3,
             "#f1b6da"
            ],
            [
             0.4,
             "#fde0ef"
            ],
            [
             0.5,
             "#f7f7f7"
            ],
            [
             0.6,
             "#e6f5d0"
            ],
            [
             0.7,
             "#b8e186"
            ],
            [
             0.8,
             "#7fbc41"
            ],
            [
             0.9,
             "#4d9221"
            ],
            [
             1,
             "#276419"
            ]
           ],
           "sequential": [
            [
             0,
             "#0d0887"
            ],
            [
             0.1111111111111111,
             "#46039f"
            ],
            [
             0.2222222222222222,
             "#7201a8"
            ],
            [
             0.3333333333333333,
             "#9c179e"
            ],
            [
             0.4444444444444444,
             "#bd3786"
            ],
            [
             0.5555555555555556,
             "#d8576b"
            ],
            [
             0.6666666666666666,
             "#ed7953"
            ],
            [
             0.7777777777777778,
             "#fb9f3a"
            ],
            [
             0.8888888888888888,
             "#fdca26"
            ],
            [
             1,
             "#f0f921"
            ]
           ],
           "sequentialminus": [
            [
             0,
             "#0d0887"
            ],
            [
             0.1111111111111111,
             "#46039f"
            ],
            [
             0.2222222222222222,
             "#7201a8"
            ],
            [
             0.3333333333333333,
             "#9c179e"
            ],
            [
             0.4444444444444444,
             "#bd3786"
            ],
            [
             0.5555555555555556,
             "#d8576b"
            ],
            [
             0.6666666666666666,
             "#ed7953"
            ],
            [
             0.7777777777777778,
             "#fb9f3a"
            ],
            [
             0.8888888888888888,
             "#fdca26"
            ],
            [
             1,
             "#f0f921"
            ]
           ]
          },
          "colorway": [
           "#636efa",
           "#EF553B",
           "#00cc96",
           "#ab63fa",
           "#FFA15A",
           "#19d3f3",
           "#FF6692",
           "#B6E880",
           "#FF97FF",
           "#FECB52"
          ],
          "font": {
           "color": "#2a3f5f"
          },
          "geo": {
           "bgcolor": "white",
           "lakecolor": "white",
           "landcolor": "#E5ECF6",
           "showlakes": true,
           "showland": true,
           "subunitcolor": "white"
          },
          "hoverlabel": {
           "align": "left"
          },
          "hovermode": "closest",
          "mapbox": {
           "style": "light"
          },
          "paper_bgcolor": "white",
          "plot_bgcolor": "#E5ECF6",
          "polar": {
           "angularaxis": {
            "gridcolor": "white",
            "linecolor": "white",
            "ticks": ""
           },
           "bgcolor": "#E5ECF6",
           "radialaxis": {
            "gridcolor": "white",
            "linecolor": "white",
            "ticks": ""
           }
          },
          "scene": {
           "xaxis": {
            "backgroundcolor": "#E5ECF6",
            "gridcolor": "white",
            "gridwidth": 2,
            "linecolor": "white",
            "showbackground": true,
            "ticks": "",
            "zerolinecolor": "white"
           },
           "yaxis": {
            "backgroundcolor": "#E5ECF6",
            "gridcolor": "white",
            "gridwidth": 2,
            "linecolor": "white",
            "showbackground": true,
            "ticks": "",
            "zerolinecolor": "white"
           },
           "zaxis": {
            "backgroundcolor": "#E5ECF6",
            "gridcolor": "white",
            "gridwidth": 2,
            "linecolor": "white",
            "showbackground": true,
            "ticks": "",
            "zerolinecolor": "white"
           }
          },
          "shapedefaults": {
           "line": {
            "color": "#2a3f5f"
           }
          },
          "ternary": {
           "aaxis": {
            "gridcolor": "white",
            "linecolor": "white",
            "ticks": ""
           },
           "baxis": {
            "gridcolor": "white",
            "linecolor": "white",
            "ticks": ""
           },
           "bgcolor": "#E5ECF6",
           "caxis": {
            "gridcolor": "white",
            "linecolor": "white",
            "ticks": ""
           }
          },
          "title": {
           "x": 0.05
          },
          "xaxis": {
           "automargin": true,
           "gridcolor": "white",
           "linecolor": "white",
           "ticks": "",
           "title": {
            "standoff": 15
           },
           "zerolinecolor": "white",
           "zerolinewidth": 2
          },
          "yaxis": {
           "automargin": true,
           "gridcolor": "white",
           "linecolor": "white",
           "ticks": "",
           "title": {
            "standoff": 15
           },
           "zerolinecolor": "white",
           "zerolinewidth": 2
          }
         }
        }
       }
      }
     },
     "metadata": {},
     "output_type": "display_data"
    }
   ],
   "source": [
    "import plotly.express as px\n",
    "#show a treemap when relative_risk is greater than 12 showing the Material and the age of construction\n",
    "fig = px.treemap(train_copy[train_copy['relative_risk'] > 9], path=['Material', 'YearBuilt'], values='relative_risk')\n",
    "fig.show()\n",
    "\n"
   ]
  },
  {
   "attachments": {},
   "cell_type": "markdown",
   "id": "83077fd1",
   "metadata": {},
   "source": [
    "PE and FD tendo to fail more when getting closer to 30 years old"
   ]
  },
  {
   "cell_type": "code",
   "execution_count": 86,
   "id": "0574d5d2",
   "metadata": {},
   "outputs": [
    {
     "data": {
      "application/vnd.plotly.v1+json": {
       "config": {
        "plotlyServerURL": "https://plot.ly"
       },
       "data": [
        {
         "branchvalues": "total",
         "domain": {
          "x": [
           0,
           1
          ],
          "y": [
           0,
           1
          ]
         },
         "hovertemplate": "labels=%{label}<br>relative_risk=%{value}<br>parent=%{parent}<br>id=%{id}<extra></extra>",
         "ids": [
          "Madrid/Arroyomolinos",
          "Barcelona/Barcelona",
          "Barcelona/Cabrera de Mar",
          "Barcelona/Les Franqueses del Valles",
          "Madrid/Madrid",
          "Sevilla/Mairena del Aljarafe",
          "Barcelona/Manresa",
          "Barcelona/Mollet Del Valles",
          "Barcelona/Olesa de Montserrat",
          "Girona/Olot",
          "Valencia/Paterna",
          "Madrid/Rivas-Vaciamadrid",
          "Barcelona/Sabadell",
          "Valencia/Valencia",
          "Barcelona",
          "Girona",
          "Madrid",
          "Sevilla",
          "Valencia"
         ],
         "labels": [
          "Arroyomolinos",
          "Barcelona",
          "Cabrera de Mar",
          "Les Franqueses del Valles",
          "Madrid",
          "Mairena del Aljarafe",
          "Manresa",
          "Mollet Del Valles",
          "Olesa de Montserrat",
          "Olot",
          "Paterna",
          "Rivas-Vaciamadrid",
          "Sabadell",
          "Valencia",
          "Barcelona",
          "Girona",
          "Madrid",
          "Sevilla",
          "Valencia"
         ],
         "name": "",
         "parents": [
          "Madrid",
          "Barcelona",
          "Barcelona",
          "Barcelona",
          "Madrid",
          "Sevilla",
          "Barcelona",
          "Barcelona",
          "Barcelona",
          "Girona",
          "Valencia",
          "Madrid",
          "Barcelona",
          "Valencia",
          "",
          "",
          "",
          "",
          ""
         ],
         "type": "treemap",
         "values": [
          39,
          60,
          48.00000000000001,
          51,
          1742,
          51,
          102,
          39,
          48.00000000000001,
          78,
          39,
          63,
          48.00000000000001,
          291,
          396,
          78,
          1844,
          51,
          330
         ]
        }
       ],
       "layout": {
        "legend": {
         "tracegroupgap": 0
        },
        "margin": {
         "t": 60
        },
        "template": {
         "data": {
          "bar": [
           {
            "error_x": {
             "color": "#2a3f5f"
            },
            "error_y": {
             "color": "#2a3f5f"
            },
            "marker": {
             "line": {
              "color": "#E5ECF6",
              "width": 0.5
             },
             "pattern": {
              "fillmode": "overlay",
              "size": 10,
              "solidity": 0.2
             }
            },
            "type": "bar"
           }
          ],
          "barpolar": [
           {
            "marker": {
             "line": {
              "color": "#E5ECF6",
              "width": 0.5
             },
             "pattern": {
              "fillmode": "overlay",
              "size": 10,
              "solidity": 0.2
             }
            },
            "type": "barpolar"
           }
          ],
          "carpet": [
           {
            "aaxis": {
             "endlinecolor": "#2a3f5f",
             "gridcolor": "white",
             "linecolor": "white",
             "minorgridcolor": "white",
             "startlinecolor": "#2a3f5f"
            },
            "baxis": {
             "endlinecolor": "#2a3f5f",
             "gridcolor": "white",
             "linecolor": "white",
             "minorgridcolor": "white",
             "startlinecolor": "#2a3f5f"
            },
            "type": "carpet"
           }
          ],
          "choropleth": [
           {
            "colorbar": {
             "outlinewidth": 0,
             "ticks": ""
            },
            "type": "choropleth"
           }
          ],
          "contour": [
           {
            "colorbar": {
             "outlinewidth": 0,
             "ticks": ""
            },
            "colorscale": [
             [
              0,
              "#0d0887"
             ],
             [
              0.1111111111111111,
              "#46039f"
             ],
             [
              0.2222222222222222,
              "#7201a8"
             ],
             [
              0.3333333333333333,
              "#9c179e"
             ],
             [
              0.4444444444444444,
              "#bd3786"
             ],
             [
              0.5555555555555556,
              "#d8576b"
             ],
             [
              0.6666666666666666,
              "#ed7953"
             ],
             [
              0.7777777777777778,
              "#fb9f3a"
             ],
             [
              0.8888888888888888,
              "#fdca26"
             ],
             [
              1,
              "#f0f921"
             ]
            ],
            "type": "contour"
           }
          ],
          "contourcarpet": [
           {
            "colorbar": {
             "outlinewidth": 0,
             "ticks": ""
            },
            "type": "contourcarpet"
           }
          ],
          "heatmap": [
           {
            "colorbar": {
             "outlinewidth": 0,
             "ticks": ""
            },
            "colorscale": [
             [
              0,
              "#0d0887"
             ],
             [
              0.1111111111111111,
              "#46039f"
             ],
             [
              0.2222222222222222,
              "#7201a8"
             ],
             [
              0.3333333333333333,
              "#9c179e"
             ],
             [
              0.4444444444444444,
              "#bd3786"
             ],
             [
              0.5555555555555556,
              "#d8576b"
             ],
             [
              0.6666666666666666,
              "#ed7953"
             ],
             [
              0.7777777777777778,
              "#fb9f3a"
             ],
             [
              0.8888888888888888,
              "#fdca26"
             ],
             [
              1,
              "#f0f921"
             ]
            ],
            "type": "heatmap"
           }
          ],
          "heatmapgl": [
           {
            "colorbar": {
             "outlinewidth": 0,
             "ticks": ""
            },
            "colorscale": [
             [
              0,
              "#0d0887"
             ],
             [
              0.1111111111111111,
              "#46039f"
             ],
             [
              0.2222222222222222,
              "#7201a8"
             ],
             [
              0.3333333333333333,
              "#9c179e"
             ],
             [
              0.4444444444444444,
              "#bd3786"
             ],
             [
              0.5555555555555556,
              "#d8576b"
             ],
             [
              0.6666666666666666,
              "#ed7953"
             ],
             [
              0.7777777777777778,
              "#fb9f3a"
             ],
             [
              0.8888888888888888,
              "#fdca26"
             ],
             [
              1,
              "#f0f921"
             ]
            ],
            "type": "heatmapgl"
           }
          ],
          "histogram": [
           {
            "marker": {
             "pattern": {
              "fillmode": "overlay",
              "size": 10,
              "solidity": 0.2
             }
            },
            "type": "histogram"
           }
          ],
          "histogram2d": [
           {
            "colorbar": {
             "outlinewidth": 0,
             "ticks": ""
            },
            "colorscale": [
             [
              0,
              "#0d0887"
             ],
             [
              0.1111111111111111,
              "#46039f"
             ],
             [
              0.2222222222222222,
              "#7201a8"
             ],
             [
              0.3333333333333333,
              "#9c179e"
             ],
             [
              0.4444444444444444,
              "#bd3786"
             ],
             [
              0.5555555555555556,
              "#d8576b"
             ],
             [
              0.6666666666666666,
              "#ed7953"
             ],
             [
              0.7777777777777778,
              "#fb9f3a"
             ],
             [
              0.8888888888888888,
              "#fdca26"
             ],
             [
              1,
              "#f0f921"
             ]
            ],
            "type": "histogram2d"
           }
          ],
          "histogram2dcontour": [
           {
            "colorbar": {
             "outlinewidth": 0,
             "ticks": ""
            },
            "colorscale": [
             [
              0,
              "#0d0887"
             ],
             [
              0.1111111111111111,
              "#46039f"
             ],
             [
              0.2222222222222222,
              "#7201a8"
             ],
             [
              0.3333333333333333,
              "#9c179e"
             ],
             [
              0.4444444444444444,
              "#bd3786"
             ],
             [
              0.5555555555555556,
              "#d8576b"
             ],
             [
              0.6666666666666666,
              "#ed7953"
             ],
             [
              0.7777777777777778,
              "#fb9f3a"
             ],
             [
              0.8888888888888888,
              "#fdca26"
             ],
             [
              1,
              "#f0f921"
             ]
            ],
            "type": "histogram2dcontour"
           }
          ],
          "mesh3d": [
           {
            "colorbar": {
             "outlinewidth": 0,
             "ticks": ""
            },
            "type": "mesh3d"
           }
          ],
          "parcoords": [
           {
            "line": {
             "colorbar": {
              "outlinewidth": 0,
              "ticks": ""
             }
            },
            "type": "parcoords"
           }
          ],
          "pie": [
           {
            "automargin": true,
            "type": "pie"
           }
          ],
          "scatter": [
           {
            "fillpattern": {
             "fillmode": "overlay",
             "size": 10,
             "solidity": 0.2
            },
            "type": "scatter"
           }
          ],
          "scatter3d": [
           {
            "line": {
             "colorbar": {
              "outlinewidth": 0,
              "ticks": ""
             }
            },
            "marker": {
             "colorbar": {
              "outlinewidth": 0,
              "ticks": ""
             }
            },
            "type": "scatter3d"
           }
          ],
          "scattercarpet": [
           {
            "marker": {
             "colorbar": {
              "outlinewidth": 0,
              "ticks": ""
             }
            },
            "type": "scattercarpet"
           }
          ],
          "scattergeo": [
           {
            "marker": {
             "colorbar": {
              "outlinewidth": 0,
              "ticks": ""
             }
            },
            "type": "scattergeo"
           }
          ],
          "scattergl": [
           {
            "marker": {
             "colorbar": {
              "outlinewidth": 0,
              "ticks": ""
             }
            },
            "type": "scattergl"
           }
          ],
          "scattermapbox": [
           {
            "marker": {
             "colorbar": {
              "outlinewidth": 0,
              "ticks": ""
             }
            },
            "type": "scattermapbox"
           }
          ],
          "scatterpolar": [
           {
            "marker": {
             "colorbar": {
              "outlinewidth": 0,
              "ticks": ""
             }
            },
            "type": "scatterpolar"
           }
          ],
          "scatterpolargl": [
           {
            "marker": {
             "colorbar": {
              "outlinewidth": 0,
              "ticks": ""
             }
            },
            "type": "scatterpolargl"
           }
          ],
          "scatterternary": [
           {
            "marker": {
             "colorbar": {
              "outlinewidth": 0,
              "ticks": ""
             }
            },
            "type": "scatterternary"
           }
          ],
          "surface": [
           {
            "colorbar": {
             "outlinewidth": 0,
             "ticks": ""
            },
            "colorscale": [
             [
              0,
              "#0d0887"
             ],
             [
              0.1111111111111111,
              "#46039f"
             ],
             [
              0.2222222222222222,
              "#7201a8"
             ],
             [
              0.3333333333333333,
              "#9c179e"
             ],
             [
              0.4444444444444444,
              "#bd3786"
             ],
             [
              0.5555555555555556,
              "#d8576b"
             ],
             [
              0.6666666666666666,
              "#ed7953"
             ],
             [
              0.7777777777777778,
              "#fb9f3a"
             ],
             [
              0.8888888888888888,
              "#fdca26"
             ],
             [
              1,
              "#f0f921"
             ]
            ],
            "type": "surface"
           }
          ],
          "table": [
           {
            "cells": {
             "fill": {
              "color": "#EBF0F8"
             },
             "line": {
              "color": "white"
             }
            },
            "header": {
             "fill": {
              "color": "#C8D4E3"
             },
             "line": {
              "color": "white"
             }
            },
            "type": "table"
           }
          ]
         },
         "layout": {
          "annotationdefaults": {
           "arrowcolor": "#2a3f5f",
           "arrowhead": 0,
           "arrowwidth": 1
          },
          "autotypenumbers": "strict",
          "coloraxis": {
           "colorbar": {
            "outlinewidth": 0,
            "ticks": ""
           }
          },
          "colorscale": {
           "diverging": [
            [
             0,
             "#8e0152"
            ],
            [
             0.1,
             "#c51b7d"
            ],
            [
             0.2,
             "#de77ae"
            ],
            [
             0.3,
             "#f1b6da"
            ],
            [
             0.4,
             "#fde0ef"
            ],
            [
             0.5,
             "#f7f7f7"
            ],
            [
             0.6,
             "#e6f5d0"
            ],
            [
             0.7,
             "#b8e186"
            ],
            [
             0.8,
             "#7fbc41"
            ],
            [
             0.9,
             "#4d9221"
            ],
            [
             1,
             "#276419"
            ]
           ],
           "sequential": [
            [
             0,
             "#0d0887"
            ],
            [
             0.1111111111111111,
             "#46039f"
            ],
            [
             0.2222222222222222,
             "#7201a8"
            ],
            [
             0.3333333333333333,
             "#9c179e"
            ],
            [
             0.4444444444444444,
             "#bd3786"
            ],
            [
             0.5555555555555556,
             "#d8576b"
            ],
            [
             0.6666666666666666,
             "#ed7953"
            ],
            [
             0.7777777777777778,
             "#fb9f3a"
            ],
            [
             0.8888888888888888,
             "#fdca26"
            ],
            [
             1,
             "#f0f921"
            ]
           ],
           "sequentialminus": [
            [
             0,
             "#0d0887"
            ],
            [
             0.1111111111111111,
             "#46039f"
            ],
            [
             0.2222222222222222,
             "#7201a8"
            ],
            [
             0.3333333333333333,
             "#9c179e"
            ],
            [
             0.4444444444444444,
             "#bd3786"
            ],
            [
             0.5555555555555556,
             "#d8576b"
            ],
            [
             0.6666666666666666,
             "#ed7953"
            ],
            [
             0.7777777777777778,
             "#fb9f3a"
            ],
            [
             0.8888888888888888,
             "#fdca26"
            ],
            [
             1,
             "#f0f921"
            ]
           ]
          },
          "colorway": [
           "#636efa",
           "#EF553B",
           "#00cc96",
           "#ab63fa",
           "#FFA15A",
           "#19d3f3",
           "#FF6692",
           "#B6E880",
           "#FF97FF",
           "#FECB52"
          ],
          "font": {
           "color": "#2a3f5f"
          },
          "geo": {
           "bgcolor": "white",
           "lakecolor": "white",
           "landcolor": "#E5ECF6",
           "showlakes": true,
           "showland": true,
           "subunitcolor": "white"
          },
          "hoverlabel": {
           "align": "left"
          },
          "hovermode": "closest",
          "mapbox": {
           "style": "light"
          },
          "paper_bgcolor": "white",
          "plot_bgcolor": "#E5ECF6",
          "polar": {
           "angularaxis": {
            "gridcolor": "white",
            "linecolor": "white",
            "ticks": ""
           },
           "bgcolor": "#E5ECF6",
           "radialaxis": {
            "gridcolor": "white",
            "linecolor": "white",
            "ticks": ""
           }
          },
          "scene": {
           "xaxis": {
            "backgroundcolor": "#E5ECF6",
            "gridcolor": "white",
            "gridwidth": 2,
            "linecolor": "white",
            "showbackground": true,
            "ticks": "",
            "zerolinecolor": "white"
           },
           "yaxis": {
            "backgroundcolor": "#E5ECF6",
            "gridcolor": "white",
            "gridwidth": 2,
            "linecolor": "white",
            "showbackground": true,
            "ticks": "",
            "zerolinecolor": "white"
           },
           "zaxis": {
            "backgroundcolor": "#E5ECF6",
            "gridcolor": "white",
            "gridwidth": 2,
            "linecolor": "white",
            "showbackground": true,
            "ticks": "",
            "zerolinecolor": "white"
           }
          },
          "shapedefaults": {
           "line": {
            "color": "#2a3f5f"
           }
          },
          "ternary": {
           "aaxis": {
            "gridcolor": "white",
            "linecolor": "white",
            "ticks": ""
           },
           "baxis": {
            "gridcolor": "white",
            "linecolor": "white",
            "ticks": ""
           },
           "bgcolor": "#E5ECF6",
           "caxis": {
            "gridcolor": "white",
            "linecolor": "white",
            "ticks": ""
           }
          },
          "title": {
           "x": 0.05
          },
          "xaxis": {
           "automargin": true,
           "gridcolor": "white",
           "linecolor": "white",
           "ticks": "",
           "title": {
            "standoff": 15
           },
           "zerolinecolor": "white",
           "zerolinewidth": 2
          },
          "yaxis": {
           "automargin": true,
           "gridcolor": "white",
           "linecolor": "white",
           "ticks": "",
           "title": {
            "standoff": 15
           },
           "zerolinecolor": "white",
           "zerolinewidth": 2
          }
         }
        }
       }
      }
     },
     "metadata": {},
     "output_type": "display_data"
    }
   ],
   "source": [
    "#show a treemap when relative_risk is greater than 12 showing the Provinces and Towns\n",
    "fig = px.treemap(train_copy[train_copy['relative_risk'] > 9], path=['Province', 'Town'], values='relative_risk')\n",
    "fig.show()\n"
   ]
  },
  {
   "attachments": {},
   "cell_type": "markdown",
   "id": "57c6a55b",
   "metadata": {},
   "source": [
    "Based on risk, Madrid, Barcelona, Valencia, Girona and Sevilla should be studied more in detail when elaborating a maintenance plan"
   ]
  },
  {
   "cell_type": "code",
   "execution_count": 87,
   "id": "c6d4248f",
   "metadata": {},
   "outputs": [
    {
     "data": {
      "text/plain": [
       "2010.0"
      ]
     },
     "execution_count": 87,
     "metadata": {},
     "output_type": "execute_result"
    }
   ],
   "source": [
    "#what is the last inspection year for material FD\n",
    "train_copy[train_copy['Material'] == 'FD']['InspectionYear'].min()"
   ]
  },
  {
   "attachments": {},
   "cell_type": "markdown",
   "id": "a12e23c4",
   "metadata": {},
   "source": [
    "We can see that  for a high risk factor, the most common materials are PE and FD with a mean of year built in the 90s. The pipes do not seem to be abandoned as the last year of inspection seems to be 2010"
   ]
  },
  {
   "cell_type": "code",
   "execution_count": 88,
   "id": "2d84be58",
   "metadata": {},
   "outputs": [
    {
     "data": {
      "text/plain": [
       "Index(['PipeId', 'No_Inspections', 'No_Incidents', 'InspectionYear',\n",
       "       'InspectionDate', 'MonthsLastRev', 'relative_risk',\n",
       "       'average_severity_pipe', 'Severity', 'Incidence', 'Province', 'Town',\n",
       "       'YearBuilt', 'Material', 'GasType', 'Diameter', 'Length', 'Pressure',\n",
       "       'NumConnections', 'NumConnectionsUnder', 'BoolBridle'],\n",
       "      dtype='object')"
      ]
     },
     "execution_count": 88,
     "metadata": {},
     "output_type": "execute_result"
    }
   ],
   "source": [
    "train_copy.columns"
   ]
  },
  {
   "cell_type": "code",
   "execution_count": 89,
   "id": "14cb9f6c",
   "metadata": {},
   "outputs": [
    {
     "data": {
      "text/plain": [
       "'preventive_maintenance_rate'"
      ]
     },
     "execution_count": 89,
     "metadata": {},
     "output_type": "execute_result"
    },
    {
     "data": {
      "text/html": [
       "<div>\n",
       "<style scoped>\n",
       "    .dataframe tbody tr th:only-of-type {\n",
       "        vertical-align: middle;\n",
       "    }\n",
       "\n",
       "    .dataframe tbody tr th {\n",
       "        vertical-align: top;\n",
       "    }\n",
       "\n",
       "    .dataframe thead th {\n",
       "        text-align: right;\n",
       "    }\n",
       "</style>\n",
       "<table border=\"1\" class=\"dataframe\">\n",
       "  <thead>\n",
       "    <tr style=\"text-align: right;\">\n",
       "      <th></th>\n",
       "      <th>PipeId</th>\n",
       "      <th>No_Inspections</th>\n",
       "      <th>No_Incidents</th>\n",
       "      <th>InspectionYear</th>\n",
       "      <th>preventive_maintenance_rate</th>\n",
       "      <th>InspectionDate</th>\n",
       "      <th>MonthsLastRev</th>\n",
       "      <th>relative_risk</th>\n",
       "      <th>average_severity_pipe</th>\n",
       "      <th>Severity</th>\n",
       "      <th>Incidence</th>\n",
       "      <th>Province</th>\n",
       "      <th>Town</th>\n",
       "      <th>YearBuilt</th>\n",
       "      <th>Material</th>\n",
       "      <th>GasType</th>\n",
       "      <th>Diameter</th>\n",
       "      <th>Length</th>\n",
       "      <th>Pressure</th>\n",
       "      <th>NumConnections</th>\n",
       "      <th>NumConnectionsUnder</th>\n",
       "      <th>BoolBridle</th>\n",
       "    </tr>\n",
       "  </thead>\n",
       "  <tbody>\n",
       "    <tr>\n",
       "      <th>12371</th>\n",
       "      <td>35790261</td>\n",
       "      <td>2</td>\n",
       "      <td>1.00</td>\n",
       "      <td>2018.00</td>\n",
       "      <td>1.75</td>\n",
       "      <td>2018-02-23</td>\n",
       "      <td>9.00</td>\n",
       "      <td>3.50</td>\n",
       "      <td>3.50</td>\n",
       "      <td>3.00</td>\n",
       "      <td>1.00</td>\n",
       "      <td>Córdoba</td>\n",
       "      <td>Lucena</td>\n",
       "      <td>2016</td>\n",
       "      <td>PE</td>\n",
       "      <td>Gas natural</td>\n",
       "      <td>32.00</td>\n",
       "      <td>87.83</td>\n",
       "      <td>0.15</td>\n",
       "      <td>12</td>\n",
       "      <td>0</td>\n",
       "      <td>False</td>\n",
       "    </tr>\n",
       "    <tr>\n",
       "      <th>12372</th>\n",
       "      <td>35790261</td>\n",
       "      <td>2</td>\n",
       "      <td>1.00</td>\n",
       "      <td>2020.00</td>\n",
       "      <td>1.75</td>\n",
       "      <td>2020-05-20</td>\n",
       "      <td>27.00</td>\n",
       "      <td>3.50</td>\n",
       "      <td>3.50</td>\n",
       "      <td>4.00</td>\n",
       "      <td>0.00</td>\n",
       "      <td>Córdoba</td>\n",
       "      <td>Lucena</td>\n",
       "      <td>2016</td>\n",
       "      <td>PE</td>\n",
       "      <td>Gas natural</td>\n",
       "      <td>32.00</td>\n",
       "      <td>87.83</td>\n",
       "      <td>0.15</td>\n",
       "      <td>12</td>\n",
       "      <td>0</td>\n",
       "      <td>False</td>\n",
       "    </tr>\n",
       "    <tr>\n",
       "      <th>12725</th>\n",
       "      <td>3663205</td>\n",
       "      <td>4</td>\n",
       "      <td>1.00</td>\n",
       "      <td>2013.00</td>\n",
       "      <td>0.94</td>\n",
       "      <td>2013-05-15</td>\n",
       "      <td>16.00</td>\n",
       "      <td>3.75</td>\n",
       "      <td>3.75</td>\n",
       "      <td>3.00</td>\n",
       "      <td>1.00</td>\n",
       "      <td>Granada</td>\n",
       "      <td>Granada</td>\n",
       "      <td>2012</td>\n",
       "      <td>PE</td>\n",
       "      <td>Gas natural</td>\n",
       "      <td>110.00</td>\n",
       "      <td>194.41</td>\n",
       "      <td>0.40</td>\n",
       "      <td>8</td>\n",
       "      <td>0</td>\n",
       "      <td>False</td>\n",
       "    </tr>\n",
       "    <tr>\n",
       "      <th>12726</th>\n",
       "      <td>3663205</td>\n",
       "      <td>4</td>\n",
       "      <td>1.00</td>\n",
       "      <td>2015.00</td>\n",
       "      <td>0.94</td>\n",
       "      <td>2015-05-26</td>\n",
       "      <td>24.00</td>\n",
       "      <td>3.75</td>\n",
       "      <td>3.75</td>\n",
       "      <td>4.00</td>\n",
       "      <td>0.00</td>\n",
       "      <td>Granada</td>\n",
       "      <td>Granada</td>\n",
       "      <td>2012</td>\n",
       "      <td>PE</td>\n",
       "      <td>Gas natural</td>\n",
       "      <td>110.00</td>\n",
       "      <td>194.41</td>\n",
       "      <td>0.40</td>\n",
       "      <td>8</td>\n",
       "      <td>0</td>\n",
       "      <td>False</td>\n",
       "    </tr>\n",
       "    <tr>\n",
       "      <th>12727</th>\n",
       "      <td>3663205</td>\n",
       "      <td>4</td>\n",
       "      <td>1.00</td>\n",
       "      <td>2017.00</td>\n",
       "      <td>0.94</td>\n",
       "      <td>2017-05-10</td>\n",
       "      <td>24.00</td>\n",
       "      <td>3.75</td>\n",
       "      <td>3.75</td>\n",
       "      <td>4.00</td>\n",
       "      <td>0.00</td>\n",
       "      <td>Granada</td>\n",
       "      <td>Granada</td>\n",
       "      <td>2012</td>\n",
       "      <td>PE</td>\n",
       "      <td>Gas natural</td>\n",
       "      <td>110.00</td>\n",
       "      <td>194.41</td>\n",
       "      <td>0.40</td>\n",
       "      <td>8</td>\n",
       "      <td>0</td>\n",
       "      <td>False</td>\n",
       "    </tr>\n",
       "  </tbody>\n",
       "</table>\n",
       "</div>"
      ],
      "text/plain": [
       "         PipeId  No_Inspections  No_Incidents  InspectionYear  \\\n",
       "12371  35790261               2          1.00         2018.00   \n",
       "12372  35790261               2          1.00         2020.00   \n",
       "12725   3663205               4          1.00         2013.00   \n",
       "12726   3663205               4          1.00         2015.00   \n",
       "12727   3663205               4          1.00         2017.00   \n",
       "\n",
       "       preventive_maintenance_rate InspectionDate  MonthsLastRev  \\\n",
       "12371                         1.75     2018-02-23           9.00   \n",
       "12372                         1.75     2020-05-20          27.00   \n",
       "12725                         0.94     2013-05-15          16.00   \n",
       "12726                         0.94     2015-05-26          24.00   \n",
       "12727                         0.94     2017-05-10          24.00   \n",
       "\n",
       "       relative_risk  average_severity_pipe  Severity  Incidence Province  \\\n",
       "12371           3.50                   3.50      3.00       1.00  Córdoba   \n",
       "12372           3.50                   3.50      4.00       0.00  Córdoba   \n",
       "12725           3.75                   3.75      3.00       1.00  Granada   \n",
       "12726           3.75                   3.75      4.00       0.00  Granada   \n",
       "12727           3.75                   3.75      4.00       0.00  Granada   \n",
       "\n",
       "          Town  YearBuilt Material      GasType  Diameter  Length  Pressure  \\\n",
       "12371   Lucena       2016       PE  Gas natural     32.00   87.83      0.15   \n",
       "12372   Lucena       2016       PE  Gas natural     32.00   87.83      0.15   \n",
       "12725  Granada       2012       PE  Gas natural    110.00  194.41      0.40   \n",
       "12726  Granada       2012       PE  Gas natural    110.00  194.41      0.40   \n",
       "12727  Granada       2012       PE  Gas natural    110.00  194.41      0.40   \n",
       "\n",
       "       NumConnections  NumConnectionsUnder  BoolBridle  \n",
       "12371              12                    0       False  \n",
       "12372              12                    0       False  \n",
       "12725               8                    0       False  \n",
       "12726               8                    0       False  \n",
       "12727               8                    0       False  "
      ]
     },
     "execution_count": 89,
     "metadata": {},
     "output_type": "execute_result"
    }
   ],
   "source": [
    "#create a new column taking Risk_S*I and dividing it by No_Inspections naming it as Risk_S*I/Inspections and placing it in 6th position\n",
    "train_copy['preventive_maintenance_rate'] = train_copy['relative_risk'] / train_copy['No_Inspections']\n",
    "cols = list(train_copy.columns.values)\n",
    "cols.pop(cols.index('preventive_maintenance_rate'))\n",
    "train_copy = train_copy[['PipeId', 'No_Inspections', 'No_Incidents', 'InspectionYear', 'preventive_maintenance_rate',\n",
    "       'InspectionDate', 'MonthsLastRev', 'relative_risk',\n",
    "       'average_severity_pipe', 'Severity', 'Incidence', 'Province', 'Town',\n",
    "       'YearBuilt', 'Material', 'GasType', 'Diameter', 'Length', 'Pressure',\n",
    "       'NumConnections', 'NumConnectionsUnder', 'BoolBridle']]\n",
    "\n",
    "#show head of rows only where Risk_S*I/Inspections is greater than 0\n",
    "train_copy[train_copy['preventive_maintenance_rate'] > 0].head(5)"
   ]
  },
  {
   "attachments": {},
   "cell_type": "markdown",
   "id": "267f3c5b",
   "metadata": {},
   "source": [
    "In this new column we can see a dimension of how good it has been previous preventive maintenance  by dividing the relative risk factor (mean average risk per pipe*No_incidents) / No_inspections.\n",
    "The higher this index, the less maintenance it has undergone, hence the risk is not being mitigated on an active basis\n",
    "This graph can help us allocate better the maintenance in our business case using the Paretto rule \n"
   ]
  },
  {
   "cell_type": "code",
   "execution_count": 90,
   "id": "fd6b7db7",
   "metadata": {},
   "outputs": [
    {
     "data": {
      "application/vnd.plotly.v1+json": {
       "config": {
        "plotlyServerURL": "https://plot.ly"
       },
       "data": [
        {
         "branchvalues": "total",
         "domain": {
          "x": [
           0,
           1
          ],
          "y": [
           0,
           1
          ]
         },
         "hovertemplate": "labels=%{label}<br>preventive_maintenance_rate=%{value}<br>parent=%{parent}<br>id=%{id}<extra></extra>",
         "ids": [
          "Valencia/Ador",
          "Lleida/Agramunt",
          "Albacete/Albacete",
          "Lleida/Albages",
          "Huesca/Albelda",
          "Madrid/Alcobendas",
          "Valencia/Alcudia",
          "Ciudad Real/Alcázar de San Juan",
          "Barcelona/Alella",
          "Alicante/Alfaz del Pi",
          "Alicante/Alicante/Alacant",
          "Orense/Allariz",
          "Ciudad Real/Almagro",
          "Huesca/Almudevar",
          "Barcelona/Alpens",
          "Alicante/Altea",
          "Valencia/Alzira",
          "Madrid/Aranjuez",
          "Ciudad Real/Argamasilla de Calatrava",
          "Madrid/Arganda del Rey",
          "Toledo/Argés",
          "Madrid/Arroyomolinos",
          "Barcelona/Baga",
          "Barcelona/Balsareny",
          "Barcelona/Barcelona",
          "Orense/Barco de Valdeorras",
          "Toledo/Bargas",
          "Tarragona/Batea",
          "Madrid/Becerril de la Sierra",
          "Girona/Begur",
          "Lleida/Bellver de Cerdanya",
          "Madrid/Belmonte de Tajo",
          "Huesca/Benabarre",
          "Málaga/Benalmádena",
          "Girona/Bescano",
          "Valladolid/Boecillo",
          "Ciudad Real/Bolaños de Calatrava",
          "Girona/Bolvir",
          "Sevilla/Bormujos",
          "La Coruña/Brion",
          "Madrid/Buitrago del Lozoya",
          "Lugo/Burela",
          "Burgos/Burgos",
          "Valencia/Burjassot",
          "Castellón/Burriana",
          "Madrid/Bustarviejo",
          "Guadalajara/Cabanillas del Campo",
          "Tarragona/Cabra del Camp",
          "Barcelona/Cabrera de Mar",
          "Salamanca/Cabrerizos",
          "Toledo/Calera y Chozas",
          "Barcelona/Calldetenes",
          "Toledo/Camarena",
          "Tarragona/Cambrils",
          "Madrid/Campo Real",
          "Barcelona/Capellades",
          "Madrid/Carabaña",
          "La Coruña/Carballo",
          "Burgos/Cardeñadijo",
          "Barcelona/Cardona",
          "Palencia/Carrion de los Condes",
          "Madrid/Casarrubuelos",
          "Barcelona/Castelldefels",
          "Castellón/Castellon de la Plana/Cas",
          "Tarragona/Catllar",
          "Barcelona/Cerdanyola",
          "Lugo/Chantada",
          "Cuenca/Chillarón de Cuenca",
          "Ciudad Real/Ciudad Real",
          "Toledo/Cobisa",
          "Madrid/Collado Mediano",
          "Madrid/Colmenar de Arroyo",
          "Toledo/Consuegra",
          "Barcelona/Cornella de Llobregat",
          "Madrid/Corpa",
          "Málaga/Coín",
          "Pontevedra/Cuntis",
          "Ciudad Real/Daimiel",
          "Sevilla/Dos Hermanas",
          "Almeria/Ejido",
          "Madrid/El Boalo",
          "Madrid/El Álamo",
          "Alicante/Elche/Elx",
          "Barcelona/Esparreguera",
          "Guadalajara/Espinosa de Henares",
          "Burgos/Espinosa de los Monteros",
          "Málaga/Estepona",
          "Pontevedra/Estrada",
          "Tarragona/Falset",
          "La Coruña/Ferrol",
          "Tarragona/Figuera",
          "Alicante/Finestrat",
          "Barcelona/Folgueroles",
          "Girona/Fontanals de Cerdanya",
          "Guadalajara/Fontanar",
          "Valencia/Fontanars dels Alforins",
          "Lugo/Foz",
          "Madrid/Fuenlabrada",
          "Cuenca/Fuentenava de Jábaga",
          "León/Garrafe de Torio",
          "Madrid/Getafe",
          "Albacete/Gineta",
          "Girona/Girona",
          "Barcelona/Granollers",
          "Tarragona/Gratallops",
          "Huesca/Graus",
          "Palencia/Grijota",
          "Alicante/Guardamar del Segura",
          "Tarragona/Guiamets",
          "La Rioja/Haro",
          "Huelva/Higuera de la Sierra",
          "Huelva/Huelva",
          "Barcelona/Igualada",
          "Toledo/Illescas",
          "Cuenca/Iniesta",
          "Huelva/Isla Cristina",
          "Girona/Jonquera",
          "Barcelona/La Llagosta",
          "Toledo/La Pueblanueva",
          "Valladolid/Laguna de Duero",
          "Soria/Langa de Duero",
          "Toledo/Layos",
          "Huelva/Lepe",
          "Barcelona/Les Franqueses del Valles",
          "Barcelona/Llacuna",
          "Girona/Llambilles",
          "Lleida/Lleida",
          "Barcelona/Llica de Munt",
          "Barcelona/Llica de Vall",
          "Girona/Llivia",
          "Madrid/Loeches",
          "Madrid/Los Santos de la Humosa",
          "Madrid/Madrid",
          "Toledo/Magán",
          "Sevilla/Mairena del Aljarafe",
          "Ciudad Real/Malagón",
          "Valencia/Manises",
          "Barcelona/Manresa",
          "Ciudad Real/Manzanares",
          "Madrid/Manzanares El Real",
          "Málaga/Marbella",
          "Cuenca/Mariana",
          "Barcelona/Martorelles",
          "Valladolid/Matapozuelos",
          "Barcelona/Mataro",
          "Toledo/Mazarambroz",
          "Madrid/Meco",
          "Burgos/Medina de Pomar",
          "Madrid/Mejorada del Campo",
          "Ciudad Real/Miguelturra",
          "Toledo/Mocejón",
          "Barcelona/Mollet Del Valles",
          "Castellón/Moncofa",
          "Lugo/Monforte de Lemos",
          "Valencia/Monserrat",
          "Salamanca/Monterrubio de Armuña",
          "Madrid/Moralzarzal",
          "Cuenca/Mota del Cuervo",
          "Alicante/Mutxamel",
          "Málaga/Málaga",
          "Toledo/Nambroca",
          "Lleida/Naut Aran",
          "Madrid/Navacerrada",
          "Toledo/Navahermosa",
          "Madrid/Navalafuente",
          "Madrid/Navalagamella",
          "Málaga/Nerja",
          "Toledo/Noez",
          "Alicante/Nucia",
          "La Coruña/Oleiros",
          "Girona/Olot",
          "Toledo/Olías del Rey",
          "Toledo/Ontígola",
          "Alicante/Orihuela",
          "Castellón/Oropesa del Mar/Orpesa",
          "Sevilla/Palacios y Villafranca",
          "Palencia/Palencia",
          "Huesca/Panticosa",
          "Valencia/Paterna",
          "Ciudad Real/Pedro Muñoz",
          "Madrid/Pelayos de la Presa",
          "Tarragona/Perafort",
          "Orense/Pereiro de Aguiar",
          "Tarragona/Perello",
          "Castellón/Peñiscola",
          "Barcelona/Piera",
          "Alicante/Pilar de la Horadada",
          "Madrid/Pinto",
          "Girona/Planes d'Hostoles",
          "Ciudad Real/Poblete",
          "Tarragona/Poboleda",
          "Girona/Portbou",
          "Madrid/Pozuelo de Alarcón",
          "Ciudad Real/Pozuelo de Calatrava",
          "Valencia/Puçol",
          "Toledo/Recas",
          "Valladolid/Renedo de Esgueva",
          "Tarragona/Reus",
          "Valencia/Riba-roja de Turia",
          "Málaga/Rincón de la Victoria",
          "Madrid/Rivas-Vaciamadrid",
          "Madrid/Robledo de Chavela",
          "Alicante/Rojales",
          "Almeria/Roquetas de Mar",
          "Girona/Roses",
          "Barcelona/Rubi",
          "Barcelona/Sabadell",
          "La Coruña/Sada",
          "Valencia/Sagunto/Sagunt",
          "Lleida/Salas de Pallars",
          "Palencia/Saldaña",
          "León/San Andres del Rabanedo",
          "Madrid/San Fernando de Henares",
          "Madrid/San M. de Valdeiglesias",
          "Barcelona/Sant Adria Del Besos",
          "Barcelona/Sant Andreu de Llavaneres",
          "Barcelona/Sant Antoni Vilamajor",
          "Barcelona/Sant Boi Del Llobregat",
          "Girona/Sant Climent Sescebes",
          "Barcelona/Sant Cugat Del Valles",
          "Barcelona/Sant Esteve Palautordera",
          "Barcelona/Sant Esteve Sesrovires",
          "Girona/Sant Feliu de Guixols",
          "Girona/Sant Feliu de Pallerols",
          "Girona/Sant Hilari Sacalm",
          "Barcelona/Sant Julia de Vilatorta",
          "Barcelona/Sant Just Desvern",
          "Girona/Sant Marti de Llemena",
          "Barcelona/Sant Mateu de Bages",
          "Barcelona/Sant Pere de Ribes",
          "Barcelona/Sant Pol de Mar",
          "Barcelona/Sant Salvador de Guardiol",
          "Barcelona/Sant Vicens Dels Horts",
          "León/Santa María del Páramo",
          "Toledo/Santa Olalla",
          "La Coruña/Santiago de Compostela",
          "Toledo/Seseña",
          "Sevilla/Sevilla",
          "Barcelona/Sitges",
          "Ciudad Real/Solana",
          "Barcelona/Sta Coloma de Gramanet",
          "Barcelona/Sta Eugenia de Berga",
          "Barcelona/Sta Margarida i els Monj",
          "Barcelona/Sta Perpètua de Mogoda",
          "Toledo/Talavera de la Reina",
          "Tarragona/Tarragona",
          "Barcelona/Teia",
          "Barcelona/Terrassa",
          "Toledo/Toledo",
          "Sevilla/Tomares",
          "Ciudad Real/Tomelloso",
          "Madrid/Torrejón de Velasco",
          "Barcelona/Torrelles de Llobregat",
          "Málaga/Torremolinos",
          "Ciudad Real/Torrenueva",
          "Madrid/Torres de la Alameda",
          "Toledo/Torrijos",
          "Girona/Tossa de Mar",
          "Lleida/Tremp",
          "Valladolid/Tudela de Duero",
          "Guadalajara/Tórtola de Henares",
          "Toledo/Ugena",
          "Barcelona/Ullastrell",
          "León/Valdefresno",
          "Madrid/Valdemanco",
          "Valencia/Valencia",
          "Castellón/Vall d'Uixo",
          "Girona/Vall-llobrega",
          "Valladolid/Valladolid",
          "Barcelona/Vallromanes",
          "Madrid/Velilla de San Antonio",
          "Palencia/Venta de Baños",
          "Toledo/Ventas de Retamosa",
          "Madrid/Venturada",
          "Girona/Verges",
          "Orense/Verín",
          "Lleida/Vielha e Mijaran",
          "Pontevedra/Vigo",
          "Barcelona/Viladecans",
          "Barcelona/Vilafranca del Penedès",
          "Toledo/Villacañas",
          "Castellón/Villafranca del Cid",
          "Madrid/Villalbilla",
          "León/Villaquilambre",
          "Burgos/Villariezo",
          "Albacete/Villarrobledo",
          "León/Villasabariego",
          "Castellón/Vinaros",
          "Toledo/Viso de San Juan",
          "Málaga/Vélez-Málaga",
          "Almeria/Vícar",
          "Toledo/Yuncos",
          "Albacete",
          "Alicante",
          "Almeria",
          "Barcelona",
          "Burgos",
          "Castellón",
          "Ciudad Real",
          "Cuenca",
          "Girona",
          "Guadalajara",
          "Huelva",
          "Huesca",
          "La Coruña",
          "La Rioja",
          "León",
          "Lleida",
          "Lugo",
          "Madrid",
          "Málaga",
          "Orense",
          "Palencia",
          "Pontevedra",
          "Salamanca",
          "Sevilla",
          "Soria",
          "Tarragona",
          "Toledo",
          "Valencia",
          "Valladolid"
         ],
         "labels": [
          "Ador",
          "Agramunt",
          "Albacete",
          "Albages",
          "Albelda",
          "Alcobendas",
          "Alcudia",
          "Alcázar de San Juan",
          "Alella",
          "Alfaz del Pi",
          "Alicante/Alacant",
          "Allariz",
          "Almagro",
          "Almudevar",
          "Alpens",
          "Altea",
          "Alzira",
          "Aranjuez",
          "Argamasilla de Calatrava",
          "Arganda del Rey",
          "Argés",
          "Arroyomolinos",
          "Baga",
          "Balsareny",
          "Barcelona",
          "Barco de Valdeorras",
          "Bargas",
          "Batea",
          "Becerril de la Sierra",
          "Begur",
          "Bellver de Cerdanya",
          "Belmonte de Tajo",
          "Benabarre",
          "Benalmádena",
          "Bescano",
          "Boecillo",
          "Bolaños de Calatrava",
          "Bolvir",
          "Bormujos",
          "Brion",
          "Buitrago del Lozoya",
          "Burela",
          "Burgos",
          "Burjassot",
          "Burriana",
          "Bustarviejo",
          "Cabanillas del Campo",
          "Cabra del Camp",
          "Cabrera de Mar",
          "Cabrerizos",
          "Calera y Chozas",
          "Calldetenes",
          "Camarena",
          "Cambrils",
          "Campo Real",
          "Capellades",
          "Carabaña",
          "Carballo",
          "Cardeñadijo",
          "Cardona",
          "Carrion de los Condes",
          "Casarrubuelos",
          "Castelldefels",
          "Castellon de la Plana/Cas",
          "Catllar",
          "Cerdanyola",
          "Chantada",
          "Chillarón de Cuenca",
          "Ciudad Real",
          "Cobisa",
          "Collado Mediano",
          "Colmenar de Arroyo",
          "Consuegra",
          "Cornella de Llobregat",
          "Corpa",
          "Coín",
          "Cuntis",
          "Daimiel",
          "Dos Hermanas",
          "Ejido",
          "El Boalo",
          "El Álamo",
          "Elche/Elx",
          "Esparreguera",
          "Espinosa de Henares",
          "Espinosa de los Monteros",
          "Estepona",
          "Estrada",
          "Falset",
          "Ferrol",
          "Figuera",
          "Finestrat",
          "Folgueroles",
          "Fontanals de Cerdanya",
          "Fontanar",
          "Fontanars dels Alforins",
          "Foz",
          "Fuenlabrada",
          "Fuentenava de Jábaga",
          "Garrafe de Torio",
          "Getafe",
          "Gineta",
          "Girona",
          "Granollers",
          "Gratallops",
          "Graus",
          "Grijota",
          "Guardamar del Segura",
          "Guiamets",
          "Haro",
          "Higuera de la Sierra",
          "Huelva",
          "Igualada",
          "Illescas",
          "Iniesta",
          "Isla Cristina",
          "Jonquera",
          "La Llagosta",
          "La Pueblanueva",
          "Laguna de Duero",
          "Langa de Duero",
          "Layos",
          "Lepe",
          "Les Franqueses del Valles",
          "Llacuna",
          "Llambilles",
          "Lleida",
          "Llica de Munt",
          "Llica de Vall",
          "Llivia",
          "Loeches",
          "Los Santos de la Humosa",
          "Madrid",
          "Magán",
          "Mairena del Aljarafe",
          "Malagón",
          "Manises",
          "Manresa",
          "Manzanares",
          "Manzanares El Real",
          "Marbella",
          "Mariana",
          "Martorelles",
          "Matapozuelos",
          "Mataro",
          "Mazarambroz",
          "Meco",
          "Medina de Pomar",
          "Mejorada del Campo",
          "Miguelturra",
          "Mocejón",
          "Mollet Del Valles",
          "Moncofa",
          "Monforte de Lemos",
          "Monserrat",
          "Monterrubio de Armuña",
          "Moralzarzal",
          "Mota del Cuervo",
          "Mutxamel",
          "Málaga",
          "Nambroca",
          "Naut Aran",
          "Navacerrada",
          "Navahermosa",
          "Navalafuente",
          "Navalagamella",
          "Nerja",
          "Noez",
          "Nucia",
          "Oleiros",
          "Olot",
          "Olías del Rey",
          "Ontígola",
          "Orihuela",
          "Oropesa del Mar/Orpesa",
          "Palacios y Villafranca",
          "Palencia",
          "Panticosa",
          "Paterna",
          "Pedro Muñoz",
          "Pelayos de la Presa",
          "Perafort",
          "Pereiro de Aguiar",
          "Perello",
          "Peñiscola",
          "Piera",
          "Pilar de la Horadada",
          "Pinto",
          "Planes d'Hostoles",
          "Poblete",
          "Poboleda",
          "Portbou",
          "Pozuelo de Alarcón",
          "Pozuelo de Calatrava",
          "Puçol",
          "Recas",
          "Renedo de Esgueva",
          "Reus",
          "Riba-roja de Turia",
          "Rincón de la Victoria",
          "Rivas-Vaciamadrid",
          "Robledo de Chavela",
          "Rojales",
          "Roquetas de Mar",
          "Roses",
          "Rubi",
          "Sabadell",
          "Sada",
          "Sagunto/Sagunt",
          "Salas de Pallars",
          "Saldaña",
          "San Andres del Rabanedo",
          "San Fernando de Henares",
          "San M. de Valdeiglesias",
          "Sant Adria Del Besos",
          "Sant Andreu de Llavaneres",
          "Sant Antoni Vilamajor",
          "Sant Boi Del Llobregat",
          "Sant Climent Sescebes",
          "Sant Cugat Del Valles",
          "Sant Esteve Palautordera",
          "Sant Esteve Sesrovires",
          "Sant Feliu de Guixols",
          "Sant Feliu de Pallerols",
          "Sant Hilari Sacalm",
          "Sant Julia de Vilatorta",
          "Sant Just Desvern",
          "Sant Marti de Llemena",
          "Sant Mateu de Bages",
          "Sant Pere de Ribes",
          "Sant Pol de Mar",
          "Sant Salvador de Guardiol",
          "Sant Vicens Dels Horts",
          "Santa María del Páramo",
          "Santa Olalla",
          "Santiago de Compostela",
          "Seseña",
          "Sevilla",
          "Sitges",
          "Solana",
          "Sta Coloma de Gramanet",
          "Sta Eugenia de Berga",
          "Sta Margarida i els Monj",
          "Sta Perpètua de Mogoda",
          "Talavera de la Reina",
          "Tarragona",
          "Teia",
          "Terrassa",
          "Toledo",
          "Tomares",
          "Tomelloso",
          "Torrejón de Velasco",
          "Torrelles de Llobregat",
          "Torremolinos",
          "Torrenueva",
          "Torres de la Alameda",
          "Torrijos",
          "Tossa de Mar",
          "Tremp",
          "Tudela de Duero",
          "Tórtola de Henares",
          "Ugena",
          "Ullastrell",
          "Valdefresno",
          "Valdemanco",
          "Valencia",
          "Vall d'Uixo",
          "Vall-llobrega",
          "Valladolid",
          "Vallromanes",
          "Velilla de San Antonio",
          "Venta de Baños",
          "Ventas de Retamosa",
          "Venturada",
          "Verges",
          "Verín",
          "Vielha e Mijaran",
          "Vigo",
          "Viladecans",
          "Vilafranca del Penedès",
          "Villacañas",
          "Villafranca del Cid",
          "Villalbilla",
          "Villaquilambre",
          "Villariezo",
          "Villarrobledo",
          "Villasabariego",
          "Vinaros",
          "Viso de San Juan",
          "Vélez-Málaga",
          "Vícar",
          "Yuncos",
          "Albacete",
          "Alicante",
          "Almeria",
          "Barcelona",
          "Burgos",
          "Castellón",
          "Ciudad Real",
          "Cuenca",
          "Girona",
          "Guadalajara",
          "Huelva",
          "Huesca",
          "La Coruña",
          "La Rioja",
          "León",
          "Lleida",
          "Lugo",
          "Madrid",
          "Málaga",
          "Orense",
          "Palencia",
          "Pontevedra",
          "Salamanca",
          "Sevilla",
          "Soria",
          "Tarragona",
          "Toledo",
          "Valencia",
          "Valladolid"
         ],
         "name": "",
         "parents": [
          "Valencia",
          "Lleida",
          "Albacete",
          "Lleida",
          "Huesca",
          "Madrid",
          "Valencia",
          "Ciudad Real",
          "Barcelona",
          "Alicante",
          "Alicante",
          "Orense",
          "Ciudad Real",
          "Huesca",
          "Barcelona",
          "Alicante",
          "Valencia",
          "Madrid",
          "Ciudad Real",
          "Madrid",
          "Toledo",
          "Madrid",
          "Barcelona",
          "Barcelona",
          "Barcelona",
          "Orense",
          "Toledo",
          "Tarragona",
          "Madrid",
          "Girona",
          "Lleida",
          "Madrid",
          "Huesca",
          "Málaga",
          "Girona",
          "Valladolid",
          "Ciudad Real",
          "Girona",
          "Sevilla",
          "La Coruña",
          "Madrid",
          "Lugo",
          "Burgos",
          "Valencia",
          "Castellón",
          "Madrid",
          "Guadalajara",
          "Tarragona",
          "Barcelona",
          "Salamanca",
          "Toledo",
          "Barcelona",
          "Toledo",
          "Tarragona",
          "Madrid",
          "Barcelona",
          "Madrid",
          "La Coruña",
          "Burgos",
          "Barcelona",
          "Palencia",
          "Madrid",
          "Barcelona",
          "Castellón",
          "Tarragona",
          "Barcelona",
          "Lugo",
          "Cuenca",
          "Ciudad Real",
          "Toledo",
          "Madrid",
          "Madrid",
          "Toledo",
          "Barcelona",
          "Madrid",
          "Málaga",
          "Pontevedra",
          "Ciudad Real",
          "Sevilla",
          "Almeria",
          "Madrid",
          "Madrid",
          "Alicante",
          "Barcelona",
          "Guadalajara",
          "Burgos",
          "Málaga",
          "Pontevedra",
          "Tarragona",
          "La Coruña",
          "Tarragona",
          "Alicante",
          "Barcelona",
          "Girona",
          "Guadalajara",
          "Valencia",
          "Lugo",
          "Madrid",
          "Cuenca",
          "León",
          "Madrid",
          "Albacete",
          "Girona",
          "Barcelona",
          "Tarragona",
          "Huesca",
          "Palencia",
          "Alicante",
          "Tarragona",
          "La Rioja",
          "Huelva",
          "Huelva",
          "Barcelona",
          "Toledo",
          "Cuenca",
          "Huelva",
          "Girona",
          "Barcelona",
          "Toledo",
          "Valladolid",
          "Soria",
          "Toledo",
          "Huelva",
          "Barcelona",
          "Barcelona",
          "Girona",
          "Lleida",
          "Barcelona",
          "Barcelona",
          "Girona",
          "Madrid",
          "Madrid",
          "Madrid",
          "Toledo",
          "Sevilla",
          "Ciudad Real",
          "Valencia",
          "Barcelona",
          "Ciudad Real",
          "Madrid",
          "Málaga",
          "Cuenca",
          "Barcelona",
          "Valladolid",
          "Barcelona",
          "Toledo",
          "Madrid",
          "Burgos",
          "Madrid",
          "Ciudad Real",
          "Toledo",
          "Barcelona",
          "Castellón",
          "Lugo",
          "Valencia",
          "Salamanca",
          "Madrid",
          "Cuenca",
          "Alicante",
          "Málaga",
          "Toledo",
          "Lleida",
          "Madrid",
          "Toledo",
          "Madrid",
          "Madrid",
          "Málaga",
          "Toledo",
          "Alicante",
          "La Coruña",
          "Girona",
          "Toledo",
          "Toledo",
          "Alicante",
          "Castellón",
          "Sevilla",
          "Palencia",
          "Huesca",
          "Valencia",
          "Ciudad Real",
          "Madrid",
          "Tarragona",
          "Orense",
          "Tarragona",
          "Castellón",
          "Barcelona",
          "Alicante",
          "Madrid",
          "Girona",
          "Ciudad Real",
          "Tarragona",
          "Girona",
          "Madrid",
          "Ciudad Real",
          "Valencia",
          "Toledo",
          "Valladolid",
          "Tarragona",
          "Valencia",
          "Málaga",
          "Madrid",
          "Madrid",
          "Alicante",
          "Almeria",
          "Girona",
          "Barcelona",
          "Barcelona",
          "La Coruña",
          "Valencia",
          "Lleida",
          "Palencia",
          "León",
          "Madrid",
          "Madrid",
          "Barcelona",
          "Barcelona",
          "Barcelona",
          "Barcelona",
          "Girona",
          "Barcelona",
          "Barcelona",
          "Barcelona",
          "Girona",
          "Girona",
          "Girona",
          "Barcelona",
          "Barcelona",
          "Girona",
          "Barcelona",
          "Barcelona",
          "Barcelona",
          "Barcelona",
          "Barcelona",
          "León",
          "Toledo",
          "La Coruña",
          "Toledo",
          "Sevilla",
          "Barcelona",
          "Ciudad Real",
          "Barcelona",
          "Barcelona",
          "Barcelona",
          "Barcelona",
          "Toledo",
          "Tarragona",
          "Barcelona",
          "Barcelona",
          "Toledo",
          "Sevilla",
          "Ciudad Real",
          "Madrid",
          "Barcelona",
          "Málaga",
          "Ciudad Real",
          "Madrid",
          "Toledo",
          "Girona",
          "Lleida",
          "Valladolid",
          "Guadalajara",
          "Toledo",
          "Barcelona",
          "León",
          "Madrid",
          "Valencia",
          "Castellón",
          "Girona",
          "Valladolid",
          "Barcelona",
          "Madrid",
          "Palencia",
          "Toledo",
          "Madrid",
          "Girona",
          "Orense",
          "Lleida",
          "Pontevedra",
          "Barcelona",
          "Barcelona",
          "Toledo",
          "Castellón",
          "Madrid",
          "León",
          "Burgos",
          "Albacete",
          "León",
          "Castellón",
          "Toledo",
          "Málaga",
          "Almeria",
          "Toledo",
          "",
          "",
          "",
          "",
          "",
          "",
          "",
          "",
          "",
          "",
          "",
          "",
          "",
          "",
          "",
          "",
          "",
          "",
          "",
          "",
          "",
          "",
          "",
          "",
          "",
          "",
          "",
          "",
          ""
         ],
         "type": "treemap",
         "values": [
          18,
          9,
          9,
          3,
          8,
          3,
          3,
          3,
          3,
          3,
          3,
          3,
          3,
          6,
          3,
          6,
          3,
          3,
          3,
          24,
          18,
          93.08333333333334,
          3,
          6,
          32,
          3,
          3,
          9,
          41.66666666666667,
          3,
          9,
          6,
          6,
          3,
          9,
          3,
          6,
          3,
          3,
          3,
          3,
          3,
          6,
          3,
          3,
          3,
          3,
          6,
          3,
          3,
          6,
          20,
          6,
          3,
          16.333333333333336,
          3,
          12,
          12,
          3,
          6,
          3,
          15,
          3,
          3,
          3,
          9,
          12,
          6,
          3,
          12,
          92.33333333333334,
          13.333333333333334,
          3,
          3,
          6.666666666666667,
          3,
          15,
          6,
          3,
          18,
          81.33333333333333,
          24,
          3,
          3,
          6,
          3,
          3,
          3,
          3,
          24,
          5,
          9,
          6,
          3,
          3,
          15,
          9,
          3,
          3,
          6,
          12,
          6,
          3,
          6,
          3,
          6,
          3,
          3,
          3,
          6.666666666666667,
          6,
          3,
          18,
          9,
          9,
          6,
          13.333333333333334,
          3,
          6,
          3,
          3,
          9,
          6,
          13.2,
          15,
          3,
          6,
          3,
          3,
          6,
          3,
          18.666666666666668,
          470.6666666666667,
          3,
          13.2,
          6,
          6,
          50.4,
          3,
          3,
          9,
          6,
          6,
          6,
          6,
          3,
          15,
          3,
          6,
          3,
          3,
          9.75,
          3,
          3,
          3,
          12,
          176,
          3,
          18,
          24,
          9,
          3,
          6,
          3,
          9,
          9.666666666666668,
          24,
          3,
          18,
          9,
          25.5,
          9,
          6,
          12,
          6,
          3,
          6,
          3,
          9.75,
          3,
          6,
          3,
          3,
          5,
          9,
          3,
          3,
          3,
          6,
          21,
          3,
          3,
          9,
          3,
          6,
          3,
          3,
          3,
          6,
          3,
          3,
          33,
          3,
          9,
          3,
          26,
          30,
          9,
          6,
          8,
          30,
          3,
          51,
          6,
          9,
          3,
          3,
          3,
          3,
          9,
          3,
          6.666666666666667,
          6,
          6,
          3,
          9,
          3,
          3,
          3,
          8,
          5,
          3,
          3,
          3,
          3,
          9,
          15,
          33,
          11,
          3,
          12,
          3,
          3,
          3,
          6,
          9,
          3,
          9,
          9,
          9.666666666666668,
          6,
          3,
          3,
          3,
          3,
          15.666666666666668,
          3,
          3,
          15,
          3,
          6,
          9,
          3,
          3,
          15,
          180.21666666666667,
          18,
          3,
          12,
          6.666666666666667,
          57,
          3,
          24,
          6,
          3,
          18,
          3,
          6,
          3,
          6,
          3,
          9,
          3,
          3,
          6,
          6,
          3,
          3,
          3,
          6.666666666666667,
          6,
          3,
          21,
          81,
          33,
          431.68333333333334,
          21,
          54,
          75,
          27,
          110.83333333333333,
          18,
          21,
          29,
          66,
          6.666666666666667,
          21,
          56,
          27,
          1380.4166666666667,
          78.66666666666667,
          27,
          45,
          24,
          15,
          64.86666666666667,
          3,
          58,
          192,
          258.96666666666664,
          30
         ]
        }
       ],
       "layout": {
        "legend": {
         "tracegroupgap": 0
        },
        "margin": {
         "t": 60
        },
        "template": {
         "data": {
          "bar": [
           {
            "error_x": {
             "color": "#2a3f5f"
            },
            "error_y": {
             "color": "#2a3f5f"
            },
            "marker": {
             "line": {
              "color": "#E5ECF6",
              "width": 0.5
             },
             "pattern": {
              "fillmode": "overlay",
              "size": 10,
              "solidity": 0.2
             }
            },
            "type": "bar"
           }
          ],
          "barpolar": [
           {
            "marker": {
             "line": {
              "color": "#E5ECF6",
              "width": 0.5
             },
             "pattern": {
              "fillmode": "overlay",
              "size": 10,
              "solidity": 0.2
             }
            },
            "type": "barpolar"
           }
          ],
          "carpet": [
           {
            "aaxis": {
             "endlinecolor": "#2a3f5f",
             "gridcolor": "white",
             "linecolor": "white",
             "minorgridcolor": "white",
             "startlinecolor": "#2a3f5f"
            },
            "baxis": {
             "endlinecolor": "#2a3f5f",
             "gridcolor": "white",
             "linecolor": "white",
             "minorgridcolor": "white",
             "startlinecolor": "#2a3f5f"
            },
            "type": "carpet"
           }
          ],
          "choropleth": [
           {
            "colorbar": {
             "outlinewidth": 0,
             "ticks": ""
            },
            "type": "choropleth"
           }
          ],
          "contour": [
           {
            "colorbar": {
             "outlinewidth": 0,
             "ticks": ""
            },
            "colorscale": [
             [
              0,
              "#0d0887"
             ],
             [
              0.1111111111111111,
              "#46039f"
             ],
             [
              0.2222222222222222,
              "#7201a8"
             ],
             [
              0.3333333333333333,
              "#9c179e"
             ],
             [
              0.4444444444444444,
              "#bd3786"
             ],
             [
              0.5555555555555556,
              "#d8576b"
             ],
             [
              0.6666666666666666,
              "#ed7953"
             ],
             [
              0.7777777777777778,
              "#fb9f3a"
             ],
             [
              0.8888888888888888,
              "#fdca26"
             ],
             [
              1,
              "#f0f921"
             ]
            ],
            "type": "contour"
           }
          ],
          "contourcarpet": [
           {
            "colorbar": {
             "outlinewidth": 0,
             "ticks": ""
            },
            "type": "contourcarpet"
           }
          ],
          "heatmap": [
           {
            "colorbar": {
             "outlinewidth": 0,
             "ticks": ""
            },
            "colorscale": [
             [
              0,
              "#0d0887"
             ],
             [
              0.1111111111111111,
              "#46039f"
             ],
             [
              0.2222222222222222,
              "#7201a8"
             ],
             [
              0.3333333333333333,
              "#9c179e"
             ],
             [
              0.4444444444444444,
              "#bd3786"
             ],
             [
              0.5555555555555556,
              "#d8576b"
             ],
             [
              0.6666666666666666,
              "#ed7953"
             ],
             [
              0.7777777777777778,
              "#fb9f3a"
             ],
             [
              0.8888888888888888,
              "#fdca26"
             ],
             [
              1,
              "#f0f921"
             ]
            ],
            "type": "heatmap"
           }
          ],
          "heatmapgl": [
           {
            "colorbar": {
             "outlinewidth": 0,
             "ticks": ""
            },
            "colorscale": [
             [
              0,
              "#0d0887"
             ],
             [
              0.1111111111111111,
              "#46039f"
             ],
             [
              0.2222222222222222,
              "#7201a8"
             ],
             [
              0.3333333333333333,
              "#9c179e"
             ],
             [
              0.4444444444444444,
              "#bd3786"
             ],
             [
              0.5555555555555556,
              "#d8576b"
             ],
             [
              0.6666666666666666,
              "#ed7953"
             ],
             [
              0.7777777777777778,
              "#fb9f3a"
             ],
             [
              0.8888888888888888,
              "#fdca26"
             ],
             [
              1,
              "#f0f921"
             ]
            ],
            "type": "heatmapgl"
           }
          ],
          "histogram": [
           {
            "marker": {
             "pattern": {
              "fillmode": "overlay",
              "size": 10,
              "solidity": 0.2
             }
            },
            "type": "histogram"
           }
          ],
          "histogram2d": [
           {
            "colorbar": {
             "outlinewidth": 0,
             "ticks": ""
            },
            "colorscale": [
             [
              0,
              "#0d0887"
             ],
             [
              0.1111111111111111,
              "#46039f"
             ],
             [
              0.2222222222222222,
              "#7201a8"
             ],
             [
              0.3333333333333333,
              "#9c179e"
             ],
             [
              0.4444444444444444,
              "#bd3786"
             ],
             [
              0.5555555555555556,
              "#d8576b"
             ],
             [
              0.6666666666666666,
              "#ed7953"
             ],
             [
              0.7777777777777778,
              "#fb9f3a"
             ],
             [
              0.8888888888888888,
              "#fdca26"
             ],
             [
              1,
              "#f0f921"
             ]
            ],
            "type": "histogram2d"
           }
          ],
          "histogram2dcontour": [
           {
            "colorbar": {
             "outlinewidth": 0,
             "ticks": ""
            },
            "colorscale": [
             [
              0,
              "#0d0887"
             ],
             [
              0.1111111111111111,
              "#46039f"
             ],
             [
              0.2222222222222222,
              "#7201a8"
             ],
             [
              0.3333333333333333,
              "#9c179e"
             ],
             [
              0.4444444444444444,
              "#bd3786"
             ],
             [
              0.5555555555555556,
              "#d8576b"
             ],
             [
              0.6666666666666666,
              "#ed7953"
             ],
             [
              0.7777777777777778,
              "#fb9f3a"
             ],
             [
              0.8888888888888888,
              "#fdca26"
             ],
             [
              1,
              "#f0f921"
             ]
            ],
            "type": "histogram2dcontour"
           }
          ],
          "mesh3d": [
           {
            "colorbar": {
             "outlinewidth": 0,
             "ticks": ""
            },
            "type": "mesh3d"
           }
          ],
          "parcoords": [
           {
            "line": {
             "colorbar": {
              "outlinewidth": 0,
              "ticks": ""
             }
            },
            "type": "parcoords"
           }
          ],
          "pie": [
           {
            "automargin": true,
            "type": "pie"
           }
          ],
          "scatter": [
           {
            "fillpattern": {
             "fillmode": "overlay",
             "size": 10,
             "solidity": 0.2
            },
            "type": "scatter"
           }
          ],
          "scatter3d": [
           {
            "line": {
             "colorbar": {
              "outlinewidth": 0,
              "ticks": ""
             }
            },
            "marker": {
             "colorbar": {
              "outlinewidth": 0,
              "ticks": ""
             }
            },
            "type": "scatter3d"
           }
          ],
          "scattercarpet": [
           {
            "marker": {
             "colorbar": {
              "outlinewidth": 0,
              "ticks": ""
             }
            },
            "type": "scattercarpet"
           }
          ],
          "scattergeo": [
           {
            "marker": {
             "colorbar": {
              "outlinewidth": 0,
              "ticks": ""
             }
            },
            "type": "scattergeo"
           }
          ],
          "scattergl": [
           {
            "marker": {
             "colorbar": {
              "outlinewidth": 0,
              "ticks": ""
             }
            },
            "type": "scattergl"
           }
          ],
          "scattermapbox": [
           {
            "marker": {
             "colorbar": {
              "outlinewidth": 0,
              "ticks": ""
             }
            },
            "type": "scattermapbox"
           }
          ],
          "scatterpolar": [
           {
            "marker": {
             "colorbar": {
              "outlinewidth": 0,
              "ticks": ""
             }
            },
            "type": "scatterpolar"
           }
          ],
          "scatterpolargl": [
           {
            "marker": {
             "colorbar": {
              "outlinewidth": 0,
              "ticks": ""
             }
            },
            "type": "scatterpolargl"
           }
          ],
          "scatterternary": [
           {
            "marker": {
             "colorbar": {
              "outlinewidth": 0,
              "ticks": ""
             }
            },
            "type": "scatterternary"
           }
          ],
          "surface": [
           {
            "colorbar": {
             "outlinewidth": 0,
             "ticks": ""
            },
            "colorscale": [
             [
              0,
              "#0d0887"
             ],
             [
              0.1111111111111111,
              "#46039f"
             ],
             [
              0.2222222222222222,
              "#7201a8"
             ],
             [
              0.3333333333333333,
              "#9c179e"
             ],
             [
              0.4444444444444444,
              "#bd3786"
             ],
             [
              0.5555555555555556,
              "#d8576b"
             ],
             [
              0.6666666666666666,
              "#ed7953"
             ],
             [
              0.7777777777777778,
              "#fb9f3a"
             ],
             [
              0.8888888888888888,
              "#fdca26"
             ],
             [
              1,
              "#f0f921"
             ]
            ],
            "type": "surface"
           }
          ],
          "table": [
           {
            "cells": {
             "fill": {
              "color": "#EBF0F8"
             },
             "line": {
              "color": "white"
             }
            },
            "header": {
             "fill": {
              "color": "#C8D4E3"
             },
             "line": {
              "color": "white"
             }
            },
            "type": "table"
           }
          ]
         },
         "layout": {
          "annotationdefaults": {
           "arrowcolor": "#2a3f5f",
           "arrowhead": 0,
           "arrowwidth": 1
          },
          "autotypenumbers": "strict",
          "coloraxis": {
           "colorbar": {
            "outlinewidth": 0,
            "ticks": ""
           }
          },
          "colorscale": {
           "diverging": [
            [
             0,
             "#8e0152"
            ],
            [
             0.1,
             "#c51b7d"
            ],
            [
             0.2,
             "#de77ae"
            ],
            [
             0.3,
             "#f1b6da"
            ],
            [
             0.4,
             "#fde0ef"
            ],
            [
             0.5,
             "#f7f7f7"
            ],
            [
             0.6,
             "#e6f5d0"
            ],
            [
             0.7,
             "#b8e186"
            ],
            [
             0.8,
             "#7fbc41"
            ],
            [
             0.9,
             "#4d9221"
            ],
            [
             1,
             "#276419"
            ]
           ],
           "sequential": [
            [
             0,
             "#0d0887"
            ],
            [
             0.1111111111111111,
             "#46039f"
            ],
            [
             0.2222222222222222,
             "#7201a8"
            ],
            [
             0.3333333333333333,
             "#9c179e"
            ],
            [
             0.4444444444444444,
             "#bd3786"
            ],
            [
             0.5555555555555556,
             "#d8576b"
            ],
            [
             0.6666666666666666,
             "#ed7953"
            ],
            [
             0.7777777777777778,
             "#fb9f3a"
            ],
            [
             0.8888888888888888,
             "#fdca26"
            ],
            [
             1,
             "#f0f921"
            ]
           ],
           "sequentialminus": [
            [
             0,
             "#0d0887"
            ],
            [
             0.1111111111111111,
             "#46039f"
            ],
            [
             0.2222222222222222,
             "#7201a8"
            ],
            [
             0.3333333333333333,
             "#9c179e"
            ],
            [
             0.4444444444444444,
             "#bd3786"
            ],
            [
             0.5555555555555556,
             "#d8576b"
            ],
            [
             0.6666666666666666,
             "#ed7953"
            ],
            [
             0.7777777777777778,
             "#fb9f3a"
            ],
            [
             0.8888888888888888,
             "#fdca26"
            ],
            [
             1,
             "#f0f921"
            ]
           ]
          },
          "colorway": [
           "#636efa",
           "#EF553B",
           "#00cc96",
           "#ab63fa",
           "#FFA15A",
           "#19d3f3",
           "#FF6692",
           "#B6E880",
           "#FF97FF",
           "#FECB52"
          ],
          "font": {
           "color": "#2a3f5f"
          },
          "geo": {
           "bgcolor": "white",
           "lakecolor": "white",
           "landcolor": "#E5ECF6",
           "showlakes": true,
           "showland": true,
           "subunitcolor": "white"
          },
          "hoverlabel": {
           "align": "left"
          },
          "hovermode": "closest",
          "mapbox": {
           "style": "light"
          },
          "paper_bgcolor": "white",
          "plot_bgcolor": "#E5ECF6",
          "polar": {
           "angularaxis": {
            "gridcolor": "white",
            "linecolor": "white",
            "ticks": ""
           },
           "bgcolor": "#E5ECF6",
           "radialaxis": {
            "gridcolor": "white",
            "linecolor": "white",
            "ticks": ""
           }
          },
          "scene": {
           "xaxis": {
            "backgroundcolor": "#E5ECF6",
            "gridcolor": "white",
            "gridwidth": 2,
            "linecolor": "white",
            "showbackground": true,
            "ticks": "",
            "zerolinecolor": "white"
           },
           "yaxis": {
            "backgroundcolor": "#E5ECF6",
            "gridcolor": "white",
            "gridwidth": 2,
            "linecolor": "white",
            "showbackground": true,
            "ticks": "",
            "zerolinecolor": "white"
           },
           "zaxis": {
            "backgroundcolor": "#E5ECF6",
            "gridcolor": "white",
            "gridwidth": 2,
            "linecolor": "white",
            "showbackground": true,
            "ticks": "",
            "zerolinecolor": "white"
           }
          },
          "shapedefaults": {
           "line": {
            "color": "#2a3f5f"
           }
          },
          "ternary": {
           "aaxis": {
            "gridcolor": "white",
            "linecolor": "white",
            "ticks": ""
           },
           "baxis": {
            "gridcolor": "white",
            "linecolor": "white",
            "ticks": ""
           },
           "bgcolor": "#E5ECF6",
           "caxis": {
            "gridcolor": "white",
            "linecolor": "white",
            "ticks": ""
           }
          },
          "title": {
           "x": 0.05
          },
          "xaxis": {
           "automargin": true,
           "gridcolor": "white",
           "linecolor": "white",
           "ticks": "",
           "title": {
            "standoff": 15
           },
           "zerolinecolor": "white",
           "zerolinewidth": 2
          },
          "yaxis": {
           "automargin": true,
           "gridcolor": "white",
           "linecolor": "white",
           "ticks": "",
           "title": {
            "standoff": 15
           },
           "zerolinecolor": "white",
           "zerolinewidth": 2
          }
         }
        }
       }
      }
     },
     "metadata": {},
     "output_type": "display_data"
    }
   ],
   "source": [
    "#graph a treemap showing the Province and Towns where preventive_maintenance_rate is higher than 2\n",
    "fig = px.treemap(train_copy[train_copy['preventive_maintenance_rate'] > 2], path=['Province', 'Town'], values='preventive_maintenance_rate')\n",
    "fig.show()\n",
    "\n"
   ]
  },
  {
   "cell_type": "code",
   "execution_count": 91,
   "id": "e5021536",
   "metadata": {},
   "outputs": [
    {
     "data": {
      "text/plain": [
       "Index(['PipeId', 'No_Inspections', 'No_Incidents', 'InspectionYear',\n",
       "       'preventive_maintenance_rate', 'InspectionDate', 'MonthsLastRev',\n",
       "       'relative_risk', 'average_severity_pipe', 'Severity', 'Incidence',\n",
       "       'Province', 'Town', 'YearBuilt', 'Material', 'GasType', 'Diameter',\n",
       "       'Length', 'Pressure', 'NumConnections', 'NumConnectionsUnder',\n",
       "       'BoolBridle'],\n",
       "      dtype='object')"
      ]
     },
     "execution_count": 91,
     "metadata": {},
     "output_type": "execute_result"
    }
   ],
   "source": [
    "train_copy.columns"
   ]
  },
  {
   "cell_type": "code",
   "execution_count": 92,
   "id": "7046d745",
   "metadata": {},
   "outputs": [
    {
     "data": {
      "text/plain": [
       "'Probability_rate'"
      ]
     },
     "execution_count": 92,
     "metadata": {},
     "output_type": "execute_result"
    },
    {
     "data": {
      "text/html": [
       "<div>\n",
       "<style scoped>\n",
       "    .dataframe tbody tr th:only-of-type {\n",
       "        vertical-align: middle;\n",
       "    }\n",
       "\n",
       "    .dataframe tbody tr th {\n",
       "        vertical-align: top;\n",
       "    }\n",
       "\n",
       "    .dataframe thead th {\n",
       "        text-align: right;\n",
       "    }\n",
       "</style>\n",
       "<table border=\"1\" class=\"dataframe\">\n",
       "  <thead>\n",
       "    <tr style=\"text-align: right;\">\n",
       "      <th></th>\n",
       "      <th>PipeId</th>\n",
       "      <th>No_Inspections</th>\n",
       "      <th>No_Incidents</th>\n",
       "      <th>InspectionYear</th>\n",
       "      <th>Probability_rate</th>\n",
       "      <th>preventive_maintenance_rate</th>\n",
       "      <th>InspectionDate</th>\n",
       "      <th>MonthsLastRev</th>\n",
       "      <th>relative_risk</th>\n",
       "      <th>average_severity_pipe</th>\n",
       "      <th>Severity</th>\n",
       "      <th>Incidence</th>\n",
       "      <th>Province</th>\n",
       "      <th>Town</th>\n",
       "      <th>YearBuilt</th>\n",
       "      <th>Material</th>\n",
       "      <th>GasType</th>\n",
       "      <th>Diameter</th>\n",
       "      <th>Length</th>\n",
       "      <th>Pressure</th>\n",
       "      <th>NumConnections</th>\n",
       "      <th>NumConnectionsUnder</th>\n",
       "      <th>BoolBridle</th>\n",
       "    </tr>\n",
       "  </thead>\n",
       "  <tbody>\n",
       "    <tr>\n",
       "      <th>12371</th>\n",
       "      <td>35790261</td>\n",
       "      <td>2</td>\n",
       "      <td>1.00</td>\n",
       "      <td>2018.00</td>\n",
       "      <td>0.50</td>\n",
       "      <td>1.75</td>\n",
       "      <td>2018-02-23</td>\n",
       "      <td>9.00</td>\n",
       "      <td>3.50</td>\n",
       "      <td>3.50</td>\n",
       "      <td>3.00</td>\n",
       "      <td>1.00</td>\n",
       "      <td>Córdoba</td>\n",
       "      <td>Lucena</td>\n",
       "      <td>2016</td>\n",
       "      <td>PE</td>\n",
       "      <td>Gas natural</td>\n",
       "      <td>32.00</td>\n",
       "      <td>87.83</td>\n",
       "      <td>0.15</td>\n",
       "      <td>12</td>\n",
       "      <td>0</td>\n",
       "      <td>False</td>\n",
       "    </tr>\n",
       "    <tr>\n",
       "      <th>12372</th>\n",
       "      <td>35790261</td>\n",
       "      <td>2</td>\n",
       "      <td>1.00</td>\n",
       "      <td>2020.00</td>\n",
       "      <td>0.50</td>\n",
       "      <td>1.75</td>\n",
       "      <td>2020-05-20</td>\n",
       "      <td>27.00</td>\n",
       "      <td>3.50</td>\n",
       "      <td>3.50</td>\n",
       "      <td>4.00</td>\n",
       "      <td>0.00</td>\n",
       "      <td>Córdoba</td>\n",
       "      <td>Lucena</td>\n",
       "      <td>2016</td>\n",
       "      <td>PE</td>\n",
       "      <td>Gas natural</td>\n",
       "      <td>32.00</td>\n",
       "      <td>87.83</td>\n",
       "      <td>0.15</td>\n",
       "      <td>12</td>\n",
       "      <td>0</td>\n",
       "      <td>False</td>\n",
       "    </tr>\n",
       "    <tr>\n",
       "      <th>12725</th>\n",
       "      <td>3663205</td>\n",
       "      <td>4</td>\n",
       "      <td>1.00</td>\n",
       "      <td>2013.00</td>\n",
       "      <td>0.25</td>\n",
       "      <td>0.94</td>\n",
       "      <td>2013-05-15</td>\n",
       "      <td>16.00</td>\n",
       "      <td>3.75</td>\n",
       "      <td>3.75</td>\n",
       "      <td>3.00</td>\n",
       "      <td>1.00</td>\n",
       "      <td>Granada</td>\n",
       "      <td>Granada</td>\n",
       "      <td>2012</td>\n",
       "      <td>PE</td>\n",
       "      <td>Gas natural</td>\n",
       "      <td>110.00</td>\n",
       "      <td>194.41</td>\n",
       "      <td>0.40</td>\n",
       "      <td>8</td>\n",
       "      <td>0</td>\n",
       "      <td>False</td>\n",
       "    </tr>\n",
       "    <tr>\n",
       "      <th>12726</th>\n",
       "      <td>3663205</td>\n",
       "      <td>4</td>\n",
       "      <td>1.00</td>\n",
       "      <td>2015.00</td>\n",
       "      <td>0.25</td>\n",
       "      <td>0.94</td>\n",
       "      <td>2015-05-26</td>\n",
       "      <td>24.00</td>\n",
       "      <td>3.75</td>\n",
       "      <td>3.75</td>\n",
       "      <td>4.00</td>\n",
       "      <td>0.00</td>\n",
       "      <td>Granada</td>\n",
       "      <td>Granada</td>\n",
       "      <td>2012</td>\n",
       "      <td>PE</td>\n",
       "      <td>Gas natural</td>\n",
       "      <td>110.00</td>\n",
       "      <td>194.41</td>\n",
       "      <td>0.40</td>\n",
       "      <td>8</td>\n",
       "      <td>0</td>\n",
       "      <td>False</td>\n",
       "    </tr>\n",
       "    <tr>\n",
       "      <th>12727</th>\n",
       "      <td>3663205</td>\n",
       "      <td>4</td>\n",
       "      <td>1.00</td>\n",
       "      <td>2017.00</td>\n",
       "      <td>0.25</td>\n",
       "      <td>0.94</td>\n",
       "      <td>2017-05-10</td>\n",
       "      <td>24.00</td>\n",
       "      <td>3.75</td>\n",
       "      <td>3.75</td>\n",
       "      <td>4.00</td>\n",
       "      <td>0.00</td>\n",
       "      <td>Granada</td>\n",
       "      <td>Granada</td>\n",
       "      <td>2012</td>\n",
       "      <td>PE</td>\n",
       "      <td>Gas natural</td>\n",
       "      <td>110.00</td>\n",
       "      <td>194.41</td>\n",
       "      <td>0.40</td>\n",
       "      <td>8</td>\n",
       "      <td>0</td>\n",
       "      <td>False</td>\n",
       "    </tr>\n",
       "  </tbody>\n",
       "</table>\n",
       "</div>"
      ],
      "text/plain": [
       "         PipeId  No_Inspections  No_Incidents  InspectionYear  \\\n",
       "12371  35790261               2          1.00         2018.00   \n",
       "12372  35790261               2          1.00         2020.00   \n",
       "12725   3663205               4          1.00         2013.00   \n",
       "12726   3663205               4          1.00         2015.00   \n",
       "12727   3663205               4          1.00         2017.00   \n",
       "\n",
       "       Probability_rate  preventive_maintenance_rate InspectionDate  \\\n",
       "12371              0.50                         1.75     2018-02-23   \n",
       "12372              0.50                         1.75     2020-05-20   \n",
       "12725              0.25                         0.94     2013-05-15   \n",
       "12726              0.25                         0.94     2015-05-26   \n",
       "12727              0.25                         0.94     2017-05-10   \n",
       "\n",
       "       MonthsLastRev  relative_risk  average_severity_pipe  Severity  \\\n",
       "12371           9.00           3.50                   3.50      3.00   \n",
       "12372          27.00           3.50                   3.50      4.00   \n",
       "12725          16.00           3.75                   3.75      3.00   \n",
       "12726          24.00           3.75                   3.75      4.00   \n",
       "12727          24.00           3.75                   3.75      4.00   \n",
       "\n",
       "       Incidence Province     Town  YearBuilt Material      GasType  Diameter  \\\n",
       "12371       1.00  Córdoba   Lucena       2016       PE  Gas natural     32.00   \n",
       "12372       0.00  Córdoba   Lucena       2016       PE  Gas natural     32.00   \n",
       "12725       1.00  Granada  Granada       2012       PE  Gas natural    110.00   \n",
       "12726       0.00  Granada  Granada       2012       PE  Gas natural    110.00   \n",
       "12727       0.00  Granada  Granada       2012       PE  Gas natural    110.00   \n",
       "\n",
       "       Length  Pressure  NumConnections  NumConnectionsUnder  BoolBridle  \n",
       "12371   87.83      0.15              12                    0       False  \n",
       "12372   87.83      0.15              12                    0       False  \n",
       "12725  194.41      0.40               8                    0       False  \n",
       "12726  194.41      0.40               8                    0       False  \n",
       "12727  194.41      0.40               8                    0       False  "
      ]
     },
     "execution_count": 92,
     "metadata": {},
     "output_type": "execute_result"
    }
   ],
   "source": [
    "#creating a new column named probability with No_Incidents divided by Inspections\n",
    "train_copy['Probability_rate'] = train_copy['No_Incidents'] / train_copy['No_Inspections']\n",
    "#place column in 3rd position\n",
    "cols = list(train_copy.columns.values)\n",
    "cols.pop(cols.index('Probability_rate'))\n",
    "train_copy = train_copy[['PipeId', 'No_Inspections', 'No_Incidents', 'InspectionYear', 'Probability_rate',\n",
    "       'preventive_maintenance_rate', 'InspectionDate', 'MonthsLastRev',\n",
    "       'relative_risk', 'average_severity_pipe', 'Severity', 'Incidence',\n",
    "       'Province', 'Town', 'YearBuilt', 'Material', 'GasType', 'Diameter',\n",
    "       'Length', 'Pressure', 'NumConnections', 'NumConnectionsUnder',\n",
    "       'BoolBridle']]\n",
    "#show head of rows only where Probability is greater than 0\n",
    "train_copy[train_copy['Probability_rate'] > 0].head(5)"
   ]
  },
  {
   "cell_type": "code",
   "execution_count": 93,
   "id": "242452bc",
   "metadata": {},
   "outputs": [
    {
     "data": {
      "application/vnd.plotly.v1+json": {
       "config": {
        "plotlyServerURL": "https://plot.ly"
       },
       "data": [
        {
         "branchvalues": "total",
         "domain": {
          "x": [
           0,
           1
          ],
          "y": [
           0,
           1
          ]
         },
         "hovertemplate": "labels=%{label}<br>Probability_rate=%{value}<br>parent=%{parent}<br>id=%{id}<extra></extra>",
         "ids": [
          "Valencia/Ador",
          "Lleida/Agramunt",
          "Córdoba/Aguilar de la Frontera",
          "Albacete/Albacete",
          "Lleida/Albages",
          "Huesca/Albelda",
          "Madrid/Alcobendas",
          "Valencia/Alcudia",
          "Ciudad Real/Alcázar de San Juan",
          "Barcelona/Alella",
          "Alicante/Alfaz del Pi",
          "Alicante/Alicante/Alacant",
          "Orense/Allariz",
          "Ciudad Real/Almagro",
          "Huesca/Almudevar",
          "Barcelona/Alpens",
          "Alicante/Altea",
          "Valencia/Alzira",
          "Burgos/Aranda de Duero",
          "Madrid/Aranjuez",
          "Ciudad Real/Argamasilla de Calatrava",
          "Madrid/Arganda del Rey",
          "Toledo/Argés",
          "Madrid/Arroyomolinos",
          "Barcelona/Avinyo",
          "Barcelona/Badalona",
          "Barcelona/Baga",
          "Barcelona/Balsareny",
          "Barcelona/Barcelona",
          "Orense/Barco de Valdeorras",
          "Toledo/Bargas",
          "Tarragona/Batea",
          "Madrid/Becerril de la Sierra",
          "Girona/Begur",
          "Lleida/Bellver de Cerdanya",
          "Madrid/Belmonte de Tajo",
          "Huesca/Benabarre",
          "Málaga/Benalmádena",
          "Girona/Bescano",
          "Valladolid/Boecillo",
          "Ciudad Real/Bolaños de Calatrava",
          "Girona/Bolvir",
          "Sevilla/Bormujos",
          "La Coruña/Brion",
          "Madrid/Buitrago del Lozoya",
          "Lugo/Burela",
          "Burgos/Burgos",
          "Valencia/Burjassot",
          "Castellón/Burriana",
          "Madrid/Bustarviejo",
          "Guadalajara/Cabanillas del Campo",
          "Tarragona/Cabra del Camp",
          "Barcelona/Cabrera de Mar",
          "Salamanca/Cabrerizos",
          "Toledo/Calera y Chozas",
          "Barcelona/Calldetenes",
          "Toledo/Camarena",
          "Tarragona/Cambrils",
          "Madrid/Campo Real",
          "Barcelona/Capellades",
          "Madrid/Carabaña",
          "La Coruña/Carballo",
          "Burgos/Cardeñadijo",
          "Barcelona/Cardona",
          "Palencia/Carrion de los Condes",
          "Madrid/Casarrubuelos",
          "Barcelona/Castelldefels",
          "Castellón/Castellon de la Plana/Cas",
          "Tarragona/Catllar",
          "Barcelona/Cerdanyola",
          "Barcelona/Cervelló",
          "Lugo/Chantada",
          "Cuenca/Chillarón de Cuenca",
          "Ciudad Real/Ciudad Real",
          "Toledo/Cobisa",
          "Madrid/Collado Mediano",
          "Madrid/Colmenar de Arroyo",
          "Toledo/Consuegra",
          "Barcelona/Corbera de Llobregat",
          "Barcelona/Cornella de Llobregat",
          "Madrid/Corpa",
          "Málaga/Coín",
          "Tarragona/Cunit",
          "Pontevedra/Cuntis",
          "Ciudad Real/Daimiel",
          "Sevilla/Dos Hermanas",
          "Almeria/Ejido",
          "Madrid/El Boalo",
          "Madrid/El Álamo",
          "Alicante/Elche/Elx",
          "Barcelona/Esparreguera",
          "Guadalajara/Espinosa de Henares",
          "Burgos/Espinosa de los Monteros",
          "Barcelona/Esplugues Del Llobregat",
          "Málaga/Estepona",
          "Pontevedra/Estrada",
          "Tarragona/Falset",
          "La Coruña/Ferrol",
          "Tarragona/Figuera",
          "Alicante/Finestrat",
          "Barcelona/Folgueroles",
          "Girona/Fontanals de Cerdanya",
          "Guadalajara/Fontanar",
          "Valencia/Fontanars dels Alforins",
          "Girona/Fornells de la Selva",
          "Lugo/Foz",
          "Madrid/Fuenlabrada",
          "Cuenca/Fuentenava de Jábaga",
          "León/Garrafe de Torio",
          "Barcelona/Gava",
          "Madrid/Getafe",
          "Huelva/Gibraleón",
          "Albacete/Gineta",
          "Girona/Girona",
          "Barcelona/Granollers",
          "Tarragona/Gratallops",
          "Huesca/Graus",
          "Palencia/Grijota",
          "Alicante/Guardamar del Segura",
          "Tarragona/Guiamets",
          "La Rioja/Haro",
          "Huelva/Higuera de la Sierra",
          "Huelva/Huelva",
          "Barcelona/Igualada",
          "Toledo/Illescas",
          "Cuenca/Iniesta",
          "Huelva/Isla Cristina",
          "Girona/Jonquera",
          "Barcelona/L'Hospitalet de Llobregat",
          "Barcelona/La Llagosta",
          "Toledo/La Pueblanueva",
          "Valladolid/Laguna de Duero",
          "Soria/Langa de Duero",
          "Toledo/Layos",
          "Huelva/Lepe",
          "Barcelona/Les Franqueses del Valles",
          "Barcelona/Llacuna",
          "Girona/Llambilles",
          "Lleida/Lleida",
          "Barcelona/Llica de Munt",
          "Barcelona/Llica de Vall",
          "Girona/Llivia",
          "Madrid/Loeches",
          "Madrid/Los Santos de la Humosa",
          "Madrid/Madrid",
          "Toledo/Magán",
          "Sevilla/Mairena del Aljarafe",
          "Ciudad Real/Malagón",
          "Valencia/Manises",
          "Barcelona/Manresa",
          "Ciudad Real/Manzanares",
          "Madrid/Manzanares El Real",
          "Málaga/Marbella",
          "Cuenca/Mariana",
          "Barcelona/Martorelles",
          "Valladolid/Matapozuelos",
          "Barcelona/Mataro",
          "Toledo/Mazarambroz",
          "Madrid/Meco",
          "Burgos/Medina de Pomar",
          "Valladolid/Medina de Rioseco",
          "Madrid/Mejorada del Campo",
          "Ciudad Real/Miguelturra",
          "Toledo/Mocejón",
          "Barcelona/Mollet Del Valles",
          "Castellón/Moncofa",
          "Lugo/Monforte de Lemos",
          "Valencia/Monserrat",
          "Salamanca/Monterrubio de Armuña",
          "Madrid/Moralzarzal",
          "Cuenca/Mota del Cuervo",
          "Alicante/Mutxamel",
          "Málaga/Málaga",
          "Toledo/Nambroca",
          "Lleida/Naut Aran",
          "Madrid/Navacerrada",
          "Toledo/Navahermosa",
          "Madrid/Navalafuente",
          "Madrid/Navalagamella",
          "Málaga/Nerja",
          "Toledo/Noez",
          "Alicante/Nucia",
          "La Coruña/Oleiros",
          "Barcelona/Olesa de Montserrat",
          "Girona/Olot",
          "Toledo/Olías del Rey",
          "Toledo/Ontígola",
          "Alicante/Orihuela",
          "Castellón/Oropesa del Mar/Orpesa",
          "Sevilla/Palacios y Villafranca",
          "Palencia/Palencia",
          "Huesca/Panticosa",
          "Valencia/Paterna",
          "Ciudad Real/Pedro Muñoz",
          "Madrid/Pelayos de la Presa",
          "Tarragona/Perafort",
          "Orense/Pereiro de Aguiar",
          "Tarragona/Perello",
          "Castellón/Peñiscola",
          "Barcelona/Piera",
          "Alicante/Pilar de la Horadada",
          "Madrid/Pinto",
          "Girona/Planes d'Hostoles",
          "Lleida/Pobla de Segur",
          "Ciudad Real/Poblete",
          "Tarragona/Poboleda",
          "Barcelona/Polinya",
          "Lleida/Ponts",
          "Girona/Port de la Selva",
          "Girona/Portbou",
          "Madrid/Pozuelo de Alarcón",
          "Ciudad Real/Pozuelo de Calatrava",
          "Barcelona/Premia de Dalt",
          "Barcelona/Premia de Mar",
          "Ciudad Real/Puertollano",
          "Valencia/Puçol",
          "Toledo/Recas",
          "Valladolid/Renedo de Esgueva",
          "Tarragona/Reus",
          "Segovia/Riaza",
          "Valencia/Riba-roja de Turia",
          "Málaga/Rincón de la Victoria",
          "Madrid/Rivas-Vaciamadrid",
          "Madrid/Robledo de Chavela",
          "Alicante/Rojales",
          "Almeria/Roquetas de Mar",
          "Girona/Roses",
          "Barcelona/Rubi",
          "Barcelona/Sabadell",
          "La Coruña/Sada",
          "Valencia/Sagunto/Sagunt",
          "Lleida/Salas de Pallars",
          "Palencia/Saldaña",
          "León/San Andres del Rabanedo",
          "Madrid/San Fernando de Henares",
          "Madrid/San M. de Valdeiglesias",
          "Barcelona/Sant Adria Del Besos",
          "Barcelona/Sant Andreu de Llavaneres",
          "Barcelona/Sant Antoni Vilamajor",
          "Barcelona/Sant Boi Del Llobregat",
          "Girona/Sant Climent Sescebes",
          "Barcelona/Sant Cugat Del Valles",
          "Barcelona/Sant Esteve Palautordera",
          "Barcelona/Sant Esteve Sesrovires",
          "Barcelona/Sant Feliu Del Llobregat",
          "Girona/Sant Feliu de Guixols",
          "Girona/Sant Feliu de Pallerols",
          "Girona/Sant Hilari Sacalm",
          "Barcelona/Sant Julia de Vilatorta",
          "Barcelona/Sant Just Desvern",
          "Barcelona/Sant Marti Sarroca",
          "Girona/Sant Marti de Llemena",
          "Barcelona/Sant Mateu de Bages",
          "Barcelona/Sant Pere de Ribes",
          "Barcelona/Sant Pol de Mar",
          "Barcelona/Sant Quirze Del Valles",
          "Barcelona/Sant Salvador de Guardiol",
          "Barcelona/Sant Vicens Dels Horts",
          "León/Santa María del Páramo",
          "Toledo/Santa Olalla",
          "La Coruña/Santiago de Compostela",
          "Toledo/Seseña",
          "Lleida/Seu d'Urgell",
          "Sevilla/Sevilla",
          "Barcelona/Sitges",
          "Ciudad Real/Solana",
          "Barcelona/Sta Coloma de Gramanet",
          "Barcelona/Sta Eugenia de Berga",
          "Barcelona/Sta Margarida i els Monj",
          "Barcelona/Sta Perpètua de Mogoda",
          "Toledo/Talavera de la Reina",
          "Tarragona/Tarragona",
          "Barcelona/Teia",
          "Barcelona/Terrassa",
          "Barcelona/Tiana",
          "Toledo/Toledo",
          "Sevilla/Tomares",
          "Ciudad Real/Tomelloso",
          "Madrid/Torrejón de Velasco",
          "Madrid/Torrejón de la Calzada",
          "Barcelona/Torrelles de Llobregat",
          "Málaga/Torremolinos",
          "Ciudad Real/Torrenueva",
          "Madrid/Torres de la Alameda",
          "Toledo/Torrijos",
          "Girona/Tossa de Mar",
          "Lleida/Tremp",
          "Valladolid/Tudela de Duero",
          "Guadalajara/Tórtola de Henares",
          "Toledo/Ugena",
          "Barcelona/Ullastrell",
          "León/Valdefresno",
          "Madrid/Valdemanco",
          "Valencia/Valencia",
          "Castellón/Vall d'Uixo",
          "Girona/Vall-llobrega",
          "Valladolid/Valladolid",
          "Barcelona/Vallromanes",
          "Madrid/Velilla de San Antonio",
          "Palencia/Venta de Baños",
          "Toledo/Ventas de Retamosa",
          "Madrid/Venturada",
          "Girona/Verges",
          "Orense/Verín",
          "Lleida/Vielha e Mijaran",
          "Pontevedra/Vigo",
          "Barcelona/Viladecans",
          "Barcelona/Vilafranca del Penedès",
          "Barcelona/Vilanova I La Geltru",
          "Toledo/Villacañas",
          "Castellón/Villafranca del Cid",
          "Madrid/Villalbilla",
          "La Rioja/Villamediana de Iregua",
          "León/Villaquilambre",
          "Burgos/Villariezo",
          "Albacete/Villarrobledo",
          "León/Villasabariego",
          "Castellón/Vinaros",
          "Toledo/Viso de San Juan",
          "Málaga/Vélez-Málaga",
          "Almeria/Vícar",
          "Toledo/Yuncos",
          "Zaragoza/Zaragoza",
          "Albacete",
          "Alicante",
          "Almeria",
          "Barcelona",
          "Burgos",
          "Castellón",
          "Ciudad Real",
          "Cuenca",
          "Córdoba",
          "Girona",
          "Guadalajara",
          "Huelva",
          "Huesca",
          "La Coruña",
          "La Rioja",
          "León",
          "Lleida",
          "Lugo",
          "Madrid",
          "Málaga",
          "Orense",
          "Palencia",
          "Pontevedra",
          "Salamanca",
          "Segovia",
          "Sevilla",
          "Soria",
          "Tarragona",
          "Toledo",
          "Valencia",
          "Valladolid",
          "Zaragoza"
         ],
         "labels": [
          "Ador",
          "Agramunt",
          "Aguilar de la Frontera",
          "Albacete",
          "Albages",
          "Albelda",
          "Alcobendas",
          "Alcudia",
          "Alcázar de San Juan",
          "Alella",
          "Alfaz del Pi",
          "Alicante/Alacant",
          "Allariz",
          "Almagro",
          "Almudevar",
          "Alpens",
          "Altea",
          "Alzira",
          "Aranda de Duero",
          "Aranjuez",
          "Argamasilla de Calatrava",
          "Arganda del Rey",
          "Argés",
          "Arroyomolinos",
          "Avinyo",
          "Badalona",
          "Baga",
          "Balsareny",
          "Barcelona",
          "Barco de Valdeorras",
          "Bargas",
          "Batea",
          "Becerril de la Sierra",
          "Begur",
          "Bellver de Cerdanya",
          "Belmonte de Tajo",
          "Benabarre",
          "Benalmádena",
          "Bescano",
          "Boecillo",
          "Bolaños de Calatrava",
          "Bolvir",
          "Bormujos",
          "Brion",
          "Buitrago del Lozoya",
          "Burela",
          "Burgos",
          "Burjassot",
          "Burriana",
          "Bustarviejo",
          "Cabanillas del Campo",
          "Cabra del Camp",
          "Cabrera de Mar",
          "Cabrerizos",
          "Calera y Chozas",
          "Calldetenes",
          "Camarena",
          "Cambrils",
          "Campo Real",
          "Capellades",
          "Carabaña",
          "Carballo",
          "Cardeñadijo",
          "Cardona",
          "Carrion de los Condes",
          "Casarrubuelos",
          "Castelldefels",
          "Castellon de la Plana/Cas",
          "Catllar",
          "Cerdanyola",
          "Cervelló",
          "Chantada",
          "Chillarón de Cuenca",
          "Ciudad Real",
          "Cobisa",
          "Collado Mediano",
          "Colmenar de Arroyo",
          "Consuegra",
          "Corbera de Llobregat",
          "Cornella de Llobregat",
          "Corpa",
          "Coín",
          "Cunit",
          "Cuntis",
          "Daimiel",
          "Dos Hermanas",
          "Ejido",
          "El Boalo",
          "El Álamo",
          "Elche/Elx",
          "Esparreguera",
          "Espinosa de Henares",
          "Espinosa de los Monteros",
          "Esplugues Del Llobregat",
          "Estepona",
          "Estrada",
          "Falset",
          "Ferrol",
          "Figuera",
          "Finestrat",
          "Folgueroles",
          "Fontanals de Cerdanya",
          "Fontanar",
          "Fontanars dels Alforins",
          "Fornells de la Selva",
          "Foz",
          "Fuenlabrada",
          "Fuentenava de Jábaga",
          "Garrafe de Torio",
          "Gava",
          "Getafe",
          "Gibraleón",
          "Gineta",
          "Girona",
          "Granollers",
          "Gratallops",
          "Graus",
          "Grijota",
          "Guardamar del Segura",
          "Guiamets",
          "Haro",
          "Higuera de la Sierra",
          "Huelva",
          "Igualada",
          "Illescas",
          "Iniesta",
          "Isla Cristina",
          "Jonquera",
          "L'Hospitalet de Llobregat",
          "La Llagosta",
          "La Pueblanueva",
          "Laguna de Duero",
          "Langa de Duero",
          "Layos",
          "Lepe",
          "Les Franqueses del Valles",
          "Llacuna",
          "Llambilles",
          "Lleida",
          "Llica de Munt",
          "Llica de Vall",
          "Llivia",
          "Loeches",
          "Los Santos de la Humosa",
          "Madrid",
          "Magán",
          "Mairena del Aljarafe",
          "Malagón",
          "Manises",
          "Manresa",
          "Manzanares",
          "Manzanares El Real",
          "Marbella",
          "Mariana",
          "Martorelles",
          "Matapozuelos",
          "Mataro",
          "Mazarambroz",
          "Meco",
          "Medina de Pomar",
          "Medina de Rioseco",
          "Mejorada del Campo",
          "Miguelturra",
          "Mocejón",
          "Mollet Del Valles",
          "Moncofa",
          "Monforte de Lemos",
          "Monserrat",
          "Monterrubio de Armuña",
          "Moralzarzal",
          "Mota del Cuervo",
          "Mutxamel",
          "Málaga",
          "Nambroca",
          "Naut Aran",
          "Navacerrada",
          "Navahermosa",
          "Navalafuente",
          "Navalagamella",
          "Nerja",
          "Noez",
          "Nucia",
          "Oleiros",
          "Olesa de Montserrat",
          "Olot",
          "Olías del Rey",
          "Ontígola",
          "Orihuela",
          "Oropesa del Mar/Orpesa",
          "Palacios y Villafranca",
          "Palencia",
          "Panticosa",
          "Paterna",
          "Pedro Muñoz",
          "Pelayos de la Presa",
          "Perafort",
          "Pereiro de Aguiar",
          "Perello",
          "Peñiscola",
          "Piera",
          "Pilar de la Horadada",
          "Pinto",
          "Planes d'Hostoles",
          "Pobla de Segur",
          "Poblete",
          "Poboleda",
          "Polinya",
          "Ponts",
          "Port de la Selva",
          "Portbou",
          "Pozuelo de Alarcón",
          "Pozuelo de Calatrava",
          "Premia de Dalt",
          "Premia de Mar",
          "Puertollano",
          "Puçol",
          "Recas",
          "Renedo de Esgueva",
          "Reus",
          "Riaza",
          "Riba-roja de Turia",
          "Rincón de la Victoria",
          "Rivas-Vaciamadrid",
          "Robledo de Chavela",
          "Rojales",
          "Roquetas de Mar",
          "Roses",
          "Rubi",
          "Sabadell",
          "Sada",
          "Sagunto/Sagunt",
          "Salas de Pallars",
          "Saldaña",
          "San Andres del Rabanedo",
          "San Fernando de Henares",
          "San M. de Valdeiglesias",
          "Sant Adria Del Besos",
          "Sant Andreu de Llavaneres",
          "Sant Antoni Vilamajor",
          "Sant Boi Del Llobregat",
          "Sant Climent Sescebes",
          "Sant Cugat Del Valles",
          "Sant Esteve Palautordera",
          "Sant Esteve Sesrovires",
          "Sant Feliu Del Llobregat",
          "Sant Feliu de Guixols",
          "Sant Feliu de Pallerols",
          "Sant Hilari Sacalm",
          "Sant Julia de Vilatorta",
          "Sant Just Desvern",
          "Sant Marti Sarroca",
          "Sant Marti de Llemena",
          "Sant Mateu de Bages",
          "Sant Pere de Ribes",
          "Sant Pol de Mar",
          "Sant Quirze Del Valles",
          "Sant Salvador de Guardiol",
          "Sant Vicens Dels Horts",
          "Santa María del Páramo",
          "Santa Olalla",
          "Santiago de Compostela",
          "Seseña",
          "Seu d'Urgell",
          "Sevilla",
          "Sitges",
          "Solana",
          "Sta Coloma de Gramanet",
          "Sta Eugenia de Berga",
          "Sta Margarida i els Monj",
          "Sta Perpètua de Mogoda",
          "Talavera de la Reina",
          "Tarragona",
          "Teia",
          "Terrassa",
          "Tiana",
          "Toledo",
          "Tomares",
          "Tomelloso",
          "Torrejón de Velasco",
          "Torrejón de la Calzada",
          "Torrelles de Llobregat",
          "Torremolinos",
          "Torrenueva",
          "Torres de la Alameda",
          "Torrijos",
          "Tossa de Mar",
          "Tremp",
          "Tudela de Duero",
          "Tórtola de Henares",
          "Ugena",
          "Ullastrell",
          "Valdefresno",
          "Valdemanco",
          "Valencia",
          "Vall d'Uixo",
          "Vall-llobrega",
          "Valladolid",
          "Vallromanes",
          "Velilla de San Antonio",
          "Venta de Baños",
          "Ventas de Retamosa",
          "Venturada",
          "Verges",
          "Verín",
          "Vielha e Mijaran",
          "Vigo",
          "Viladecans",
          "Vilafranca del Penedès",
          "Vilanova I La Geltru",
          "Villacañas",
          "Villafranca del Cid",
          "Villalbilla",
          "Villamediana de Iregua",
          "Villaquilambre",
          "Villariezo",
          "Villarrobledo",
          "Villasabariego",
          "Vinaros",
          "Viso de San Juan",
          "Vélez-Málaga",
          "Vícar",
          "Yuncos",
          "Zaragoza",
          "Albacete",
          "Alicante",
          "Almeria",
          "Barcelona",
          "Burgos",
          "Castellón",
          "Ciudad Real",
          "Cuenca",
          "Córdoba",
          "Girona",
          "Guadalajara",
          "Huelva",
          "Huesca",
          "La Coruña",
          "La Rioja",
          "León",
          "Lleida",
          "Lugo",
          "Madrid",
          "Málaga",
          "Orense",
          "Palencia",
          "Pontevedra",
          "Salamanca",
          "Segovia",
          "Sevilla",
          "Soria",
          "Tarragona",
          "Toledo",
          "Valencia",
          "Valladolid",
          "Zaragoza"
         ],
         "name": "",
         "parents": [
          "Valencia",
          "Lleida",
          "Córdoba",
          "Albacete",
          "Lleida",
          "Huesca",
          "Madrid",
          "Valencia",
          "Ciudad Real",
          "Barcelona",
          "Alicante",
          "Alicante",
          "Orense",
          "Ciudad Real",
          "Huesca",
          "Barcelona",
          "Alicante",
          "Valencia",
          "Burgos",
          "Madrid",
          "Ciudad Real",
          "Madrid",
          "Toledo",
          "Madrid",
          "Barcelona",
          "Barcelona",
          "Barcelona",
          "Barcelona",
          "Barcelona",
          "Orense",
          "Toledo",
          "Tarragona",
          "Madrid",
          "Girona",
          "Lleida",
          "Madrid",
          "Huesca",
          "Málaga",
          "Girona",
          "Valladolid",
          "Ciudad Real",
          "Girona",
          "Sevilla",
          "La Coruña",
          "Madrid",
          "Lugo",
          "Burgos",
          "Valencia",
          "Castellón",
          "Madrid",
          "Guadalajara",
          "Tarragona",
          "Barcelona",
          "Salamanca",
          "Toledo",
          "Barcelona",
          "Toledo",
          "Tarragona",
          "Madrid",
          "Barcelona",
          "Madrid",
          "La Coruña",
          "Burgos",
          "Barcelona",
          "Palencia",
          "Madrid",
          "Barcelona",
          "Castellón",
          "Tarragona",
          "Barcelona",
          "Barcelona",
          "Lugo",
          "Cuenca",
          "Ciudad Real",
          "Toledo",
          "Madrid",
          "Madrid",
          "Toledo",
          "Barcelona",
          "Barcelona",
          "Madrid",
          "Málaga",
          "Tarragona",
          "Pontevedra",
          "Ciudad Real",
          "Sevilla",
          "Almeria",
          "Madrid",
          "Madrid",
          "Alicante",
          "Barcelona",
          "Guadalajara",
          "Burgos",
          "Barcelona",
          "Málaga",
          "Pontevedra",
          "Tarragona",
          "La Coruña",
          "Tarragona",
          "Alicante",
          "Barcelona",
          "Girona",
          "Guadalajara",
          "Valencia",
          "Girona",
          "Lugo",
          "Madrid",
          "Cuenca",
          "León",
          "Barcelona",
          "Madrid",
          "Huelva",
          "Albacete",
          "Girona",
          "Barcelona",
          "Tarragona",
          "Huesca",
          "Palencia",
          "Alicante",
          "Tarragona",
          "La Rioja",
          "Huelva",
          "Huelva",
          "Barcelona",
          "Toledo",
          "Cuenca",
          "Huelva",
          "Girona",
          "Barcelona",
          "Barcelona",
          "Toledo",
          "Valladolid",
          "Soria",
          "Toledo",
          "Huelva",
          "Barcelona",
          "Barcelona",
          "Girona",
          "Lleida",
          "Barcelona",
          "Barcelona",
          "Girona",
          "Madrid",
          "Madrid",
          "Madrid",
          "Toledo",
          "Sevilla",
          "Ciudad Real",
          "Valencia",
          "Barcelona",
          "Ciudad Real",
          "Madrid",
          "Málaga",
          "Cuenca",
          "Barcelona",
          "Valladolid",
          "Barcelona",
          "Toledo",
          "Madrid",
          "Burgos",
          "Valladolid",
          "Madrid",
          "Ciudad Real",
          "Toledo",
          "Barcelona",
          "Castellón",
          "Lugo",
          "Valencia",
          "Salamanca",
          "Madrid",
          "Cuenca",
          "Alicante",
          "Málaga",
          "Toledo",
          "Lleida",
          "Madrid",
          "Toledo",
          "Madrid",
          "Madrid",
          "Málaga",
          "Toledo",
          "Alicante",
          "La Coruña",
          "Barcelona",
          "Girona",
          "Toledo",
          "Toledo",
          "Alicante",
          "Castellón",
          "Sevilla",
          "Palencia",
          "Huesca",
          "Valencia",
          "Ciudad Real",
          "Madrid",
          "Tarragona",
          "Orense",
          "Tarragona",
          "Castellón",
          "Barcelona",
          "Alicante",
          "Madrid",
          "Girona",
          "Lleida",
          "Ciudad Real",
          "Tarragona",
          "Barcelona",
          "Lleida",
          "Girona",
          "Girona",
          "Madrid",
          "Ciudad Real",
          "Barcelona",
          "Barcelona",
          "Ciudad Real",
          "Valencia",
          "Toledo",
          "Valladolid",
          "Tarragona",
          "Segovia",
          "Valencia",
          "Málaga",
          "Madrid",
          "Madrid",
          "Alicante",
          "Almeria",
          "Girona",
          "Barcelona",
          "Barcelona",
          "La Coruña",
          "Valencia",
          "Lleida",
          "Palencia",
          "León",
          "Madrid",
          "Madrid",
          "Barcelona",
          "Barcelona",
          "Barcelona",
          "Barcelona",
          "Girona",
          "Barcelona",
          "Barcelona",
          "Barcelona",
          "Barcelona",
          "Girona",
          "Girona",
          "Girona",
          "Barcelona",
          "Barcelona",
          "Barcelona",
          "Girona",
          "Barcelona",
          "Barcelona",
          "Barcelona",
          "Barcelona",
          "Barcelona",
          "Barcelona",
          "León",
          "Toledo",
          "La Coruña",
          "Toledo",
          "Lleida",
          "Sevilla",
          "Barcelona",
          "Ciudad Real",
          "Barcelona",
          "Barcelona",
          "Barcelona",
          "Barcelona",
          "Toledo",
          "Tarragona",
          "Barcelona",
          "Barcelona",
          "Barcelona",
          "Toledo",
          "Sevilla",
          "Ciudad Real",
          "Madrid",
          "Madrid",
          "Barcelona",
          "Málaga",
          "Ciudad Real",
          "Madrid",
          "Toledo",
          "Girona",
          "Lleida",
          "Valladolid",
          "Guadalajara",
          "Toledo",
          "Barcelona",
          "León",
          "Madrid",
          "Valencia",
          "Castellón",
          "Girona",
          "Valladolid",
          "Barcelona",
          "Madrid",
          "Palencia",
          "Toledo",
          "Madrid",
          "Girona",
          "Orense",
          "Lleida",
          "Pontevedra",
          "Barcelona",
          "Barcelona",
          "Barcelona",
          "Toledo",
          "Castellón",
          "Madrid",
          "La Rioja",
          "León",
          "Burgos",
          "Albacete",
          "León",
          "Castellón",
          "Toledo",
          "Málaga",
          "Almeria",
          "Toledo",
          "Zaragoza",
          "",
          "",
          "",
          "",
          "",
          "",
          "",
          "",
          "",
          "",
          "",
          "",
          "",
          "",
          "",
          "",
          "",
          "",
          "",
          "",
          "",
          "",
          "",
          "",
          "",
          "",
          "",
          "",
          "",
          "",
          "",
          ""
         ],
         "type": "treemap",
         "values": [
          6,
          4,
          2,
          3,
          1,
          3,
          1,
          1,
          2,
          2,
          1,
          1,
          1,
          1,
          2,
          1,
          2,
          1,
          1,
          1,
          1,
          8,
          7,
          29,
          1,
          7,
          1,
          2,
          50,
          1,
          1,
          3,
          13,
          1,
          3,
          2,
          2,
          1,
          3,
          1,
          2,
          1,
          1,
          1,
          1,
          1,
          2,
          1,
          1,
          1,
          1,
          2,
          4,
          1,
          2,
          6,
          2,
          1,
          5,
          1,
          4,
          4,
          1,
          2,
          1,
          5,
          3,
          2,
          1,
          5,
          1,
          4,
          2,
          1,
          4,
          29,
          4,
          1,
          1,
          4,
          2,
          1,
          1,
          5,
          2,
          1,
          6,
          26,
          8,
          1,
          1,
          2,
          1,
          5,
          1,
          1,
          1,
          8,
          2,
          3,
          2,
          1,
          1,
          5,
          1,
          3,
          1,
          1,
          2,
          2,
          4,
          1,
          2,
          2,
          2,
          1,
          2,
          1,
          1,
          1,
          2,
          2,
          1,
          10,
          3,
          3,
          2,
          4,
          8,
          1,
          2,
          1,
          1,
          3,
          2,
          4,
          5,
          1,
          2,
          1,
          1,
          2,
          1,
          6,
          215,
          1,
          4,
          2,
          2,
          19,
          1,
          1,
          3,
          2,
          2,
          2,
          3,
          1,
          5,
          1,
          1,
          2,
          1,
          1,
          3,
          1,
          1,
          1,
          4,
          56,
          1,
          6,
          8,
          3,
          1,
          2,
          1,
          3,
          3,
          8,
          1,
          6,
          3,
          3,
          8,
          3,
          2,
          4,
          2,
          1,
          2,
          1,
          4,
          1,
          2,
          1,
          1,
          2,
          3,
          2,
          2,
          1,
          2,
          1,
          7,
          1,
          1,
          2,
          1,
          1,
          3,
          1,
          1,
          2,
          1,
          2,
          1,
          1,
          1,
          2,
          2,
          1,
          2,
          12,
          1,
          3,
          1,
          21,
          26,
          3,
          2,
          3,
          10,
          1,
          17,
          2,
          3,
          1,
          1,
          1,
          1,
          6,
          1,
          2,
          1,
          4,
          2,
          1,
          4,
          2,
          1,
          1,
          1,
          3,
          2,
          1,
          1,
          1,
          1,
          1,
          3,
          7,
          2,
          12,
          5,
          1,
          7,
          1,
          1,
          1,
          2,
          6,
          1,
          20,
          1,
          3,
          3,
          2,
          1,
          2,
          3,
          1,
          1,
          5,
          1,
          4,
          5,
          1,
          2,
          4,
          1,
          1,
          5,
          72,
          6,
          1,
          5,
          2,
          19,
          1,
          8,
          2,
          2,
          7,
          1,
          2,
          7,
          2,
          4,
          1,
          3,
          1,
          1,
          1,
          2,
          2,
          1,
          1,
          1,
          2,
          4,
          1,
          1,
          7,
          28,
          13,
          304,
          8,
          19,
          27,
          9,
          2,
          45,
          6,
          8,
          10,
          22,
          3,
          7,
          25,
          9,
          512,
          26,
          10,
          15,
          8,
          5,
          2,
          22,
          1,
          24,
          68,
          99,
          12,
          1
         ]
        }
       ],
       "layout": {
        "legend": {
         "tracegroupgap": 0
        },
        "margin": {
         "t": 60
        },
        "template": {
         "data": {
          "bar": [
           {
            "error_x": {
             "color": "#2a3f5f"
            },
            "error_y": {
             "color": "#2a3f5f"
            },
            "marker": {
             "line": {
              "color": "#E5ECF6",
              "width": 0.5
             },
             "pattern": {
              "fillmode": "overlay",
              "size": 10,
              "solidity": 0.2
             }
            },
            "type": "bar"
           }
          ],
          "barpolar": [
           {
            "marker": {
             "line": {
              "color": "#E5ECF6",
              "width": 0.5
             },
             "pattern": {
              "fillmode": "overlay",
              "size": 10,
              "solidity": 0.2
             }
            },
            "type": "barpolar"
           }
          ],
          "carpet": [
           {
            "aaxis": {
             "endlinecolor": "#2a3f5f",
             "gridcolor": "white",
             "linecolor": "white",
             "minorgridcolor": "white",
             "startlinecolor": "#2a3f5f"
            },
            "baxis": {
             "endlinecolor": "#2a3f5f",
             "gridcolor": "white",
             "linecolor": "white",
             "minorgridcolor": "white",
             "startlinecolor": "#2a3f5f"
            },
            "type": "carpet"
           }
          ],
          "choropleth": [
           {
            "colorbar": {
             "outlinewidth": 0,
             "ticks": ""
            },
            "type": "choropleth"
           }
          ],
          "contour": [
           {
            "colorbar": {
             "outlinewidth": 0,
             "ticks": ""
            },
            "colorscale": [
             [
              0,
              "#0d0887"
             ],
             [
              0.1111111111111111,
              "#46039f"
             ],
             [
              0.2222222222222222,
              "#7201a8"
             ],
             [
              0.3333333333333333,
              "#9c179e"
             ],
             [
              0.4444444444444444,
              "#bd3786"
             ],
             [
              0.5555555555555556,
              "#d8576b"
             ],
             [
              0.6666666666666666,
              "#ed7953"
             ],
             [
              0.7777777777777778,
              "#fb9f3a"
             ],
             [
              0.8888888888888888,
              "#fdca26"
             ],
             [
              1,
              "#f0f921"
             ]
            ],
            "type": "contour"
           }
          ],
          "contourcarpet": [
           {
            "colorbar": {
             "outlinewidth": 0,
             "ticks": ""
            },
            "type": "contourcarpet"
           }
          ],
          "heatmap": [
           {
            "colorbar": {
             "outlinewidth": 0,
             "ticks": ""
            },
            "colorscale": [
             [
              0,
              "#0d0887"
             ],
             [
              0.1111111111111111,
              "#46039f"
             ],
             [
              0.2222222222222222,
              "#7201a8"
             ],
             [
              0.3333333333333333,
              "#9c179e"
             ],
             [
              0.4444444444444444,
              "#bd3786"
             ],
             [
              0.5555555555555556,
              "#d8576b"
             ],
             [
              0.6666666666666666,
              "#ed7953"
             ],
             [
              0.7777777777777778,
              "#fb9f3a"
             ],
             [
              0.8888888888888888,
              "#fdca26"
             ],
             [
              1,
              "#f0f921"
             ]
            ],
            "type": "heatmap"
           }
          ],
          "heatmapgl": [
           {
            "colorbar": {
             "outlinewidth": 0,
             "ticks": ""
            },
            "colorscale": [
             [
              0,
              "#0d0887"
             ],
             [
              0.1111111111111111,
              "#46039f"
             ],
             [
              0.2222222222222222,
              "#7201a8"
             ],
             [
              0.3333333333333333,
              "#9c179e"
             ],
             [
              0.4444444444444444,
              "#bd3786"
             ],
             [
              0.5555555555555556,
              "#d8576b"
             ],
             [
              0.6666666666666666,
              "#ed7953"
             ],
             [
              0.7777777777777778,
              "#fb9f3a"
             ],
             [
              0.8888888888888888,
              "#fdca26"
             ],
             [
              1,
              "#f0f921"
             ]
            ],
            "type": "heatmapgl"
           }
          ],
          "histogram": [
           {
            "marker": {
             "pattern": {
              "fillmode": "overlay",
              "size": 10,
              "solidity": 0.2
             }
            },
            "type": "histogram"
           }
          ],
          "histogram2d": [
           {
            "colorbar": {
             "outlinewidth": 0,
             "ticks": ""
            },
            "colorscale": [
             [
              0,
              "#0d0887"
             ],
             [
              0.1111111111111111,
              "#46039f"
             ],
             [
              0.2222222222222222,
              "#7201a8"
             ],
             [
              0.3333333333333333,
              "#9c179e"
             ],
             [
              0.4444444444444444,
              "#bd3786"
             ],
             [
              0.5555555555555556,
              "#d8576b"
             ],
             [
              0.6666666666666666,
              "#ed7953"
             ],
             [
              0.7777777777777778,
              "#fb9f3a"
             ],
             [
              0.8888888888888888,
              "#fdca26"
             ],
             [
              1,
              "#f0f921"
             ]
            ],
            "type": "histogram2d"
           }
          ],
          "histogram2dcontour": [
           {
            "colorbar": {
             "outlinewidth": 0,
             "ticks": ""
            },
            "colorscale": [
             [
              0,
              "#0d0887"
             ],
             [
              0.1111111111111111,
              "#46039f"
             ],
             [
              0.2222222222222222,
              "#7201a8"
             ],
             [
              0.3333333333333333,
              "#9c179e"
             ],
             [
              0.4444444444444444,
              "#bd3786"
             ],
             [
              0.5555555555555556,
              "#d8576b"
             ],
             [
              0.6666666666666666,
              "#ed7953"
             ],
             [
              0.7777777777777778,
              "#fb9f3a"
             ],
             [
              0.8888888888888888,
              "#fdca26"
             ],
             [
              1,
              "#f0f921"
             ]
            ],
            "type": "histogram2dcontour"
           }
          ],
          "mesh3d": [
           {
            "colorbar": {
             "outlinewidth": 0,
             "ticks": ""
            },
            "type": "mesh3d"
           }
          ],
          "parcoords": [
           {
            "line": {
             "colorbar": {
              "outlinewidth": 0,
              "ticks": ""
             }
            },
            "type": "parcoords"
           }
          ],
          "pie": [
           {
            "automargin": true,
            "type": "pie"
           }
          ],
          "scatter": [
           {
            "fillpattern": {
             "fillmode": "overlay",
             "size": 10,
             "solidity": 0.2
            },
            "type": "scatter"
           }
          ],
          "scatter3d": [
           {
            "line": {
             "colorbar": {
              "outlinewidth": 0,
              "ticks": ""
             }
            },
            "marker": {
             "colorbar": {
              "outlinewidth": 0,
              "ticks": ""
             }
            },
            "type": "scatter3d"
           }
          ],
          "scattercarpet": [
           {
            "marker": {
             "colorbar": {
              "outlinewidth": 0,
              "ticks": ""
             }
            },
            "type": "scattercarpet"
           }
          ],
          "scattergeo": [
           {
            "marker": {
             "colorbar": {
              "outlinewidth": 0,
              "ticks": ""
             }
            },
            "type": "scattergeo"
           }
          ],
          "scattergl": [
           {
            "marker": {
             "colorbar": {
              "outlinewidth": 0,
              "ticks": ""
             }
            },
            "type": "scattergl"
           }
          ],
          "scattermapbox": [
           {
            "marker": {
             "colorbar": {
              "outlinewidth": 0,
              "ticks": ""
             }
            },
            "type": "scattermapbox"
           }
          ],
          "scatterpolar": [
           {
            "marker": {
             "colorbar": {
              "outlinewidth": 0,
              "ticks": ""
             }
            },
            "type": "scatterpolar"
           }
          ],
          "scatterpolargl": [
           {
            "marker": {
             "colorbar": {
              "outlinewidth": 0,
              "ticks": ""
             }
            },
            "type": "scatterpolargl"
           }
          ],
          "scatterternary": [
           {
            "marker": {
             "colorbar": {
              "outlinewidth": 0,
              "ticks": ""
             }
            },
            "type": "scatterternary"
           }
          ],
          "surface": [
           {
            "colorbar": {
             "outlinewidth": 0,
             "ticks": ""
            },
            "colorscale": [
             [
              0,
              "#0d0887"
             ],
             [
              0.1111111111111111,
              "#46039f"
             ],
             [
              0.2222222222222222,
              "#7201a8"
             ],
             [
              0.3333333333333333,
              "#9c179e"
             ],
             [
              0.4444444444444444,
              "#bd3786"
             ],
             [
              0.5555555555555556,
              "#d8576b"
             ],
             [
              0.6666666666666666,
              "#ed7953"
             ],
             [
              0.7777777777777778,
              "#fb9f3a"
             ],
             [
              0.8888888888888888,
              "#fdca26"
             ],
             [
              1,
              "#f0f921"
             ]
            ],
            "type": "surface"
           }
          ],
          "table": [
           {
            "cells": {
             "fill": {
              "color": "#EBF0F8"
             },
             "line": {
              "color": "white"
             }
            },
            "header": {
             "fill": {
              "color": "#C8D4E3"
             },
             "line": {
              "color": "white"
             }
            },
            "type": "table"
           }
          ]
         },
         "layout": {
          "annotationdefaults": {
           "arrowcolor": "#2a3f5f",
           "arrowhead": 0,
           "arrowwidth": 1
          },
          "autotypenumbers": "strict",
          "coloraxis": {
           "colorbar": {
            "outlinewidth": 0,
            "ticks": ""
           }
          },
          "colorscale": {
           "diverging": [
            [
             0,
             "#8e0152"
            ],
            [
             0.1,
             "#c51b7d"
            ],
            [
             0.2,
             "#de77ae"
            ],
            [
             0.3,
             "#f1b6da"
            ],
            [
             0.4,
             "#fde0ef"
            ],
            [
             0.5,
             "#f7f7f7"
            ],
            [
             0.6,
             "#e6f5d0"
            ],
            [
             0.7,
             "#b8e186"
            ],
            [
             0.8,
             "#7fbc41"
            ],
            [
             0.9,
             "#4d9221"
            ],
            [
             1,
             "#276419"
            ]
           ],
           "sequential": [
            [
             0,
             "#0d0887"
            ],
            [
             0.1111111111111111,
             "#46039f"
            ],
            [
             0.2222222222222222,
             "#7201a8"
            ],
            [
             0.3333333333333333,
             "#9c179e"
            ],
            [
             0.4444444444444444,
             "#bd3786"
            ],
            [
             0.5555555555555556,
             "#d8576b"
            ],
            [
             0.6666666666666666,
             "#ed7953"
            ],
            [
             0.7777777777777778,
             "#fb9f3a"
            ],
            [
             0.8888888888888888,
             "#fdca26"
            ],
            [
             1,
             "#f0f921"
            ]
           ],
           "sequentialminus": [
            [
             0,
             "#0d0887"
            ],
            [
             0.1111111111111111,
             "#46039f"
            ],
            [
             0.2222222222222222,
             "#7201a8"
            ],
            [
             0.3333333333333333,
             "#9c179e"
            ],
            [
             0.4444444444444444,
             "#bd3786"
            ],
            [
             0.5555555555555556,
             "#d8576b"
            ],
            [
             0.6666666666666666,
             "#ed7953"
            ],
            [
             0.7777777777777778,
             "#fb9f3a"
            ],
            [
             0.8888888888888888,
             "#fdca26"
            ],
            [
             1,
             "#f0f921"
            ]
           ]
          },
          "colorway": [
           "#636efa",
           "#EF553B",
           "#00cc96",
           "#ab63fa",
           "#FFA15A",
           "#19d3f3",
           "#FF6692",
           "#B6E880",
           "#FF97FF",
           "#FECB52"
          ],
          "font": {
           "color": "#2a3f5f"
          },
          "geo": {
           "bgcolor": "white",
           "lakecolor": "white",
           "landcolor": "#E5ECF6",
           "showlakes": true,
           "showland": true,
           "subunitcolor": "white"
          },
          "hoverlabel": {
           "align": "left"
          },
          "hovermode": "closest",
          "mapbox": {
           "style": "light"
          },
          "paper_bgcolor": "white",
          "plot_bgcolor": "#E5ECF6",
          "polar": {
           "angularaxis": {
            "gridcolor": "white",
            "linecolor": "white",
            "ticks": ""
           },
           "bgcolor": "#E5ECF6",
           "radialaxis": {
            "gridcolor": "white",
            "linecolor": "white",
            "ticks": ""
           }
          },
          "scene": {
           "xaxis": {
            "backgroundcolor": "#E5ECF6",
            "gridcolor": "white",
            "gridwidth": 2,
            "linecolor": "white",
            "showbackground": true,
            "ticks": "",
            "zerolinecolor": "white"
           },
           "yaxis": {
            "backgroundcolor": "#E5ECF6",
            "gridcolor": "white",
            "gridwidth": 2,
            "linecolor": "white",
            "showbackground": true,
            "ticks": "",
            "zerolinecolor": "white"
           },
           "zaxis": {
            "backgroundcolor": "#E5ECF6",
            "gridcolor": "white",
            "gridwidth": 2,
            "linecolor": "white",
            "showbackground": true,
            "ticks": "",
            "zerolinecolor": "white"
           }
          },
          "shapedefaults": {
           "line": {
            "color": "#2a3f5f"
           }
          },
          "ternary": {
           "aaxis": {
            "gridcolor": "white",
            "linecolor": "white",
            "ticks": ""
           },
           "baxis": {
            "gridcolor": "white",
            "linecolor": "white",
            "ticks": ""
           },
           "bgcolor": "#E5ECF6",
           "caxis": {
            "gridcolor": "white",
            "linecolor": "white",
            "ticks": ""
           }
          },
          "title": {
           "x": 0.05
          },
          "xaxis": {
           "automargin": true,
           "gridcolor": "white",
           "linecolor": "white",
           "ticks": "",
           "title": {
            "standoff": 15
           },
           "zerolinecolor": "white",
           "zerolinewidth": 2
          },
          "yaxis": {
           "automargin": true,
           "gridcolor": "white",
           "linecolor": "white",
           "ticks": "",
           "title": {
            "standoff": 15
           },
           "zerolinecolor": "white",
           "zerolinewidth": 2
          }
         }
        }
       }
      }
     },
     "metadata": {},
     "output_type": "display_data"
    }
   ],
   "source": [
    "#graph a treemap showing the Province and Towns where Probability is higher than 4\n",
    "fig = px.treemap(train_copy[train_copy['Probability_rate'] > .5], path=['Province', 'Town'], values='Probability_rate')\n",
    "fig.show()"
   ]
  },
  {
   "attachments": {},
   "cell_type": "markdown",
   "id": "745f1a83",
   "metadata": {},
   "source": [
    "Having created risk and probability dimensions, we can compute a matrix to be assigned to the provinces for prioritization\n",
    "The matrix should include high risk, high probability to low risk and low probability    "
   ]
  },
  {
   "cell_type": "code",
   "execution_count": 94,
   "id": "b0ed549e",
   "metadata": {},
   "outputs": [
    {
     "data": {
      "text/html": [
       "<div>\n",
       "<style scoped>\n",
       "    .dataframe tbody tr th:only-of-type {\n",
       "        vertical-align: middle;\n",
       "    }\n",
       "\n",
       "    .dataframe tbody tr th {\n",
       "        vertical-align: top;\n",
       "    }\n",
       "\n",
       "    .dataframe thead th {\n",
       "        text-align: right;\n",
       "    }\n",
       "</style>\n",
       "<table border=\"1\" class=\"dataframe\">\n",
       "  <thead>\n",
       "    <tr style=\"text-align: right;\">\n",
       "      <th></th>\n",
       "      <th>relative_risk</th>\n",
       "      <th>Probability_rate</th>\n",
       "    </tr>\n",
       "    <tr>\n",
       "      <th>Province</th>\n",
       "      <th></th>\n",
       "      <th></th>\n",
       "    </tr>\n",
       "  </thead>\n",
       "  <tbody>\n",
       "    <tr>\n",
       "      <th>Albacete</th>\n",
       "      <td>0.00</td>\n",
       "      <td>0.00</td>\n",
       "    </tr>\n",
       "    <tr>\n",
       "      <th>Alicante</th>\n",
       "      <td>0.00</td>\n",
       "      <td>0.00</td>\n",
       "    </tr>\n",
       "    <tr>\n",
       "      <th>Almeria</th>\n",
       "      <td>0.01</td>\n",
       "      <td>0.00</td>\n",
       "    </tr>\n",
       "    <tr>\n",
       "      <th>Avila</th>\n",
       "      <td>0.62</td>\n",
       "      <td>0.12</td>\n",
       "    </tr>\n",
       "    <tr>\n",
       "      <th>Barcelona</th>\n",
       "      <td>0.03</td>\n",
       "      <td>0.00</td>\n",
       "    </tr>\n",
       "    <tr>\n",
       "      <th>Burgos</th>\n",
       "      <td>0.02</td>\n",
       "      <td>0.00</td>\n",
       "    </tr>\n",
       "    <tr>\n",
       "      <th>Castellón</th>\n",
       "      <td>0.01</td>\n",
       "      <td>0.00</td>\n",
       "    </tr>\n",
       "    <tr>\n",
       "      <th>Ciudad Real</th>\n",
       "      <td>0.01</td>\n",
       "      <td>0.00</td>\n",
       "    </tr>\n",
       "    <tr>\n",
       "      <th>Cuenca</th>\n",
       "      <td>0.02</td>\n",
       "      <td>0.00</td>\n",
       "    </tr>\n",
       "    <tr>\n",
       "      <th>Cádiz</th>\n",
       "      <td>0.01</td>\n",
       "      <td>0.00</td>\n",
       "    </tr>\n",
       "    <tr>\n",
       "      <th>Córdoba</th>\n",
       "      <td>0.01</td>\n",
       "      <td>0.00</td>\n",
       "    </tr>\n",
       "    <tr>\n",
       "      <th>Girona</th>\n",
       "      <td>0.01</td>\n",
       "      <td>0.00</td>\n",
       "    </tr>\n",
       "    <tr>\n",
       "      <th>Granada</th>\n",
       "      <td>0.01</td>\n",
       "      <td>0.00</td>\n",
       "    </tr>\n",
       "    <tr>\n",
       "      <th>Guadalajara</th>\n",
       "      <td>0.02</td>\n",
       "      <td>0.00</td>\n",
       "    </tr>\n",
       "    <tr>\n",
       "      <th>Huelva</th>\n",
       "      <td>0.03</td>\n",
       "      <td>0.00</td>\n",
       "    </tr>\n",
       "    <tr>\n",
       "      <th>Huesca</th>\n",
       "      <td>0.05</td>\n",
       "      <td>0.01</td>\n",
       "    </tr>\n",
       "    <tr>\n",
       "      <th>Jaén</th>\n",
       "      <td>0.01</td>\n",
       "      <td>0.00</td>\n",
       "    </tr>\n",
       "    <tr>\n",
       "      <th>La Coruña</th>\n",
       "      <td>0.01</td>\n",
       "      <td>0.00</td>\n",
       "    </tr>\n",
       "    <tr>\n",
       "      <th>La Rioja</th>\n",
       "      <td>0.01</td>\n",
       "      <td>0.00</td>\n",
       "    </tr>\n",
       "    <tr>\n",
       "      <th>León</th>\n",
       "      <td>0.00</td>\n",
       "      <td>0.00</td>\n",
       "    </tr>\n",
       "    <tr>\n",
       "      <th>Lleida</th>\n",
       "      <td>0.01</td>\n",
       "      <td>0.00</td>\n",
       "    </tr>\n",
       "    <tr>\n",
       "      <th>Lugo</th>\n",
       "      <td>0.02</td>\n",
       "      <td>0.00</td>\n",
       "    </tr>\n",
       "    <tr>\n",
       "      <th>Madrid</th>\n",
       "      <td>0.13</td>\n",
       "      <td>0.01</td>\n",
       "    </tr>\n",
       "    <tr>\n",
       "      <th>Málaga</th>\n",
       "      <td>0.02</td>\n",
       "      <td>0.00</td>\n",
       "    </tr>\n",
       "    <tr>\n",
       "      <th>Orense</th>\n",
       "      <td>0.01</td>\n",
       "      <td>0.00</td>\n",
       "    </tr>\n",
       "    <tr>\n",
       "      <th>Palencia</th>\n",
       "      <td>0.02</td>\n",
       "      <td>0.00</td>\n",
       "    </tr>\n",
       "    <tr>\n",
       "      <th>Pontevedra</th>\n",
       "      <td>0.00</td>\n",
       "      <td>0.00</td>\n",
       "    </tr>\n",
       "    <tr>\n",
       "      <th>Salamanca</th>\n",
       "      <td>0.00</td>\n",
       "      <td>0.00</td>\n",
       "    </tr>\n",
       "    <tr>\n",
       "      <th>Segovia</th>\n",
       "      <td>0.01</td>\n",
       "      <td>0.00</td>\n",
       "    </tr>\n",
       "    <tr>\n",
       "      <th>Sevilla</th>\n",
       "      <td>0.04</td>\n",
       "      <td>0.00</td>\n",
       "    </tr>\n",
       "    <tr>\n",
       "      <th>Soria</th>\n",
       "      <td>0.01</td>\n",
       "      <td>0.00</td>\n",
       "    </tr>\n",
       "    <tr>\n",
       "      <th>Tarragona</th>\n",
       "      <td>0.02</td>\n",
       "      <td>0.00</td>\n",
       "    </tr>\n",
       "    <tr>\n",
       "      <th>Teruel</th>\n",
       "      <td>0.00</td>\n",
       "      <td>0.00</td>\n",
       "    </tr>\n",
       "    <tr>\n",
       "      <th>Toledo</th>\n",
       "      <td>0.02</td>\n",
       "      <td>0.00</td>\n",
       "    </tr>\n",
       "    <tr>\n",
       "      <th>Valencia</th>\n",
       "      <td>0.02</td>\n",
       "      <td>0.00</td>\n",
       "    </tr>\n",
       "    <tr>\n",
       "      <th>Valladolid</th>\n",
       "      <td>0.02</td>\n",
       "      <td>0.00</td>\n",
       "    </tr>\n",
       "    <tr>\n",
       "      <th>Zamora</th>\n",
       "      <td>0.00</td>\n",
       "      <td>0.00</td>\n",
       "    </tr>\n",
       "    <tr>\n",
       "      <th>Zaragoza</th>\n",
       "      <td>0.01</td>\n",
       "      <td>0.00</td>\n",
       "    </tr>\n",
       "  </tbody>\n",
       "</table>\n",
       "</div>"
      ],
      "text/plain": [
       "             relative_risk  Probability_rate\n",
       "Province                                    \n",
       "Albacete              0.00              0.00\n",
       "Alicante              0.00              0.00\n",
       "Almeria               0.01              0.00\n",
       "Avila                 0.62              0.12\n",
       "Barcelona             0.03              0.00\n",
       "Burgos                0.02              0.00\n",
       "Castellón             0.01              0.00\n",
       "Ciudad Real           0.01              0.00\n",
       "Cuenca                0.02              0.00\n",
       "Cádiz                 0.01              0.00\n",
       "Córdoba               0.01              0.00\n",
       "Girona                0.01              0.00\n",
       "Granada               0.01              0.00\n",
       "Guadalajara           0.02              0.00\n",
       "Huelva                0.03              0.00\n",
       "Huesca                0.05              0.01\n",
       "Jaén                  0.01              0.00\n",
       "La Coruña             0.01              0.00\n",
       "La Rioja              0.01              0.00\n",
       "León                  0.00              0.00\n",
       "Lleida                0.01              0.00\n",
       "Lugo                  0.02              0.00\n",
       "Madrid                0.13              0.01\n",
       "Málaga                0.02              0.00\n",
       "Orense                0.01              0.00\n",
       "Palencia              0.02              0.00\n",
       "Pontevedra            0.00              0.00\n",
       "Salamanca             0.00              0.00\n",
       "Segovia               0.01              0.00\n",
       "Sevilla               0.04              0.00\n",
       "Soria                 0.01              0.00\n",
       "Tarragona             0.02              0.00\n",
       "Teruel                0.00              0.00\n",
       "Toledo                0.02              0.00\n",
       "Valencia              0.02              0.00\n",
       "Valladolid            0.02              0.00\n",
       "Zamora                0.00              0.00\n",
       "Zaragoza              0.01              0.00"
      ]
     },
     "execution_count": 94,
     "metadata": {},
     "output_type": "execute_result"
    }
   ],
   "source": [
    "#create a matrix with columns relative_risk and probability_rate for each province\n",
    "train_copy.groupby('Province')[['relative_risk', 'Probability_rate']].mean()\n"
   ]
  },
  {
   "cell_type": "code",
   "execution_count": 95,
   "id": "0c10e44c",
   "metadata": {},
   "outputs": [
    {
     "data": {
      "text/html": [
       "<div>\n",
       "<style scoped>\n",
       "    .dataframe tbody tr th:only-of-type {\n",
       "        vertical-align: middle;\n",
       "    }\n",
       "\n",
       "    .dataframe tbody tr th {\n",
       "        vertical-align: top;\n",
       "    }\n",
       "\n",
       "    .dataframe thead th {\n",
       "        text-align: right;\n",
       "    }\n",
       "</style>\n",
       "<table border=\"1\" class=\"dataframe\">\n",
       "  <thead>\n",
       "    <tr style=\"text-align: right;\">\n",
       "      <th></th>\n",
       "      <th>relative_risk</th>\n",
       "      <th>Probability_rate</th>\n",
       "    </tr>\n",
       "    <tr>\n",
       "      <th>Material</th>\n",
       "      <th></th>\n",
       "      <th></th>\n",
       "    </tr>\n",
       "  </thead>\n",
       "  <tbody>\n",
       "    <tr>\n",
       "      <th>AO</th>\n",
       "      <td>0.03</td>\n",
       "      <td>0.00</td>\n",
       "    </tr>\n",
       "    <tr>\n",
       "      <th>CU</th>\n",
       "      <td>0.24</td>\n",
       "      <td>0.03</td>\n",
       "    </tr>\n",
       "    <tr>\n",
       "      <th>FD</th>\n",
       "      <td>0.14</td>\n",
       "      <td>0.01</td>\n",
       "    </tr>\n",
       "    <tr>\n",
       "      <th>FG</th>\n",
       "      <td>0.81</td>\n",
       "      <td>0.10</td>\n",
       "    </tr>\n",
       "    <tr>\n",
       "      <th>FI</th>\n",
       "      <td>0.00</td>\n",
       "      <td>0.00</td>\n",
       "    </tr>\n",
       "    <tr>\n",
       "      <th>FO</th>\n",
       "      <td>2.50</td>\n",
       "      <td>1.00</td>\n",
       "    </tr>\n",
       "    <tr>\n",
       "      <th>PA</th>\n",
       "      <td>2.38</td>\n",
       "      <td>1.00</td>\n",
       "    </tr>\n",
       "    <tr>\n",
       "      <th>PE</th>\n",
       "      <td>0.03</td>\n",
       "      <td>0.00</td>\n",
       "    </tr>\n",
       "    <tr>\n",
       "      <th>PN</th>\n",
       "      <td>0.02</td>\n",
       "      <td>0.01</td>\n",
       "    </tr>\n",
       "    <tr>\n",
       "      <th>PV</th>\n",
       "      <td>2.67</td>\n",
       "      <td>1.00</td>\n",
       "    </tr>\n",
       "    <tr>\n",
       "      <th>ZD</th>\n",
       "      <td>0.13</td>\n",
       "      <td>0.02</td>\n",
       "    </tr>\n",
       "  </tbody>\n",
       "</table>\n",
       "</div>"
      ],
      "text/plain": [
       "          relative_risk  Probability_rate\n",
       "Material                                 \n",
       "AO                 0.03              0.00\n",
       "CU                 0.24              0.03\n",
       "FD                 0.14              0.01\n",
       "FG                 0.81              0.10\n",
       "FI                 0.00              0.00\n",
       "FO                 2.50              1.00\n",
       "PA                 2.38              1.00\n",
       "PE                 0.03              0.00\n",
       "PN                 0.02              0.01\n",
       "PV                 2.67              1.00\n",
       "ZD                 0.13              0.02"
      ]
     },
     "execution_count": 95,
     "metadata": {},
     "output_type": "execute_result"
    }
   ],
   "source": [
    "#create a matrix with columns relative_risk and probability_rate for each pipe material\n",
    "train_copy.groupby('Material')[['relative_risk', 'Probability_rate']].mean()"
   ]
  },
  {
   "cell_type": "code",
   "execution_count": 96,
   "id": "41fd8501",
   "metadata": {},
   "outputs": [
    {
     "data": {
      "text/plain": [
       "Index(['PipeId', 'No_Inspections', 'No_Incidents', 'InspectionYear',\n",
       "       'Probability_rate', 'preventive_maintenance_rate', 'InspectionDate',\n",
       "       'MonthsLastRev', 'relative_risk', 'average_severity_pipe', 'Severity',\n",
       "       'Incidence', 'Province', 'Town', 'YearBuilt', 'Material', 'GasType',\n",
       "       'Diameter', 'Length', 'Pressure', 'NumConnections',\n",
       "       'NumConnectionsUnder', 'BoolBridle'],\n",
       "      dtype='object')"
      ]
     },
     "execution_count": 96,
     "metadata": {},
     "output_type": "execute_result"
    }
   ],
   "source": [
    "train_copy.columns  "
   ]
  },
  {
   "cell_type": "code",
   "execution_count": 97,
   "id": "cd68a9f4",
   "metadata": {},
   "outputs": [
    {
     "data": {
      "text/plain": [
       "'Average_MonthsLastRev'"
      ]
     },
     "execution_count": 97,
     "metadata": {},
     "output_type": "execute_result"
    },
    {
     "data": {
      "text/html": [
       "<div>\n",
       "<style scoped>\n",
       "    .dataframe tbody tr th:only-of-type {\n",
       "        vertical-align: middle;\n",
       "    }\n",
       "\n",
       "    .dataframe tbody tr th {\n",
       "        vertical-align: top;\n",
       "    }\n",
       "\n",
       "    .dataframe thead th {\n",
       "        text-align: right;\n",
       "    }\n",
       "</style>\n",
       "<table border=\"1\" class=\"dataframe\">\n",
       "  <thead>\n",
       "    <tr style=\"text-align: right;\">\n",
       "      <th></th>\n",
       "      <th>PipeId</th>\n",
       "      <th>No_Inspections</th>\n",
       "      <th>No_Incidents</th>\n",
       "      <th>InspectionYear</th>\n",
       "      <th>Probability_rate</th>\n",
       "      <th>preventive_maintenance_rate</th>\n",
       "      <th>InspectionDate</th>\n",
       "      <th>Average_MonthsLastRev</th>\n",
       "      <th>MonthsLastRev</th>\n",
       "      <th>relative_risk</th>\n",
       "      <th>average_severity_pipe</th>\n",
       "      <th>Severity</th>\n",
       "      <th>Incidence</th>\n",
       "      <th>Province</th>\n",
       "      <th>Town</th>\n",
       "      <th>YearBuilt</th>\n",
       "      <th>Material</th>\n",
       "      <th>GasType</th>\n",
       "      <th>Diameter</th>\n",
       "      <th>Length</th>\n",
       "      <th>Pressure</th>\n",
       "      <th>NumConnections</th>\n",
       "      <th>NumConnectionsUnder</th>\n",
       "      <th>BoolBridle</th>\n",
       "    </tr>\n",
       "  </thead>\n",
       "  <tbody>\n",
       "    <tr>\n",
       "      <th>0</th>\n",
       "      <td>489616</td>\n",
       "      <td>5</td>\n",
       "      <td>0.00</td>\n",
       "      <td>2013.00</td>\n",
       "      <td>0.00</td>\n",
       "      <td>0.00</td>\n",
       "      <td>2013-05-08</td>\n",
       "      <td>21.40</td>\n",
       "      <td>16.00</td>\n",
       "      <td>0.00</td>\n",
       "      <td>4.00</td>\n",
       "      <td>4.00</td>\n",
       "      <td>0.00</td>\n",
       "      <td>Ciudad Real</td>\n",
       "      <td>Torralba de Calatrava</td>\n",
       "      <td>2012</td>\n",
       "      <td>PE</td>\n",
       "      <td>Gas natural</td>\n",
       "      <td>63.00</td>\n",
       "      <td>7.79</td>\n",
       "      <td>0.40</td>\n",
       "      <td>0</td>\n",
       "      <td>0</td>\n",
       "      <td>False</td>\n",
       "    </tr>\n",
       "  </tbody>\n",
       "</table>\n",
       "</div>"
      ],
      "text/plain": [
       "   PipeId  No_Inspections  No_Incidents  InspectionYear  Probability_rate  \\\n",
       "0  489616               5          0.00         2013.00              0.00   \n",
       "\n",
       "   preventive_maintenance_rate InspectionDate  Average_MonthsLastRev  \\\n",
       "0                         0.00     2013-05-08                  21.40   \n",
       "\n",
       "   MonthsLastRev  relative_risk  average_severity_pipe  Severity  Incidence  \\\n",
       "0          16.00           0.00                   4.00      4.00       0.00   \n",
       "\n",
       "      Province                   Town  YearBuilt Material      GasType  \\\n",
       "0  Ciudad Real  Torralba de Calatrava       2012       PE  Gas natural   \n",
       "\n",
       "   Diameter  Length  Pressure  NumConnections  NumConnectionsUnder  BoolBridle  \n",
       "0     63.00    7.79      0.40               0                    0       False  "
      ]
     },
     "execution_count": 97,
     "metadata": {},
     "output_type": "execute_result"
    }
   ],
   "source": [
    "#creating a column with the Average of MonthsLastRev grouping per PipeId \n",
    "train_copy['Average_MonthsLastRev'] = train_copy.groupby('PipeId')['MonthsLastRev'].transform('mean')\n",
    "cols = list(train_copy.columns.values)\n",
    "cols.pop(cols.index('Average_MonthsLastRev'))\n",
    "train_copy = train_copy[['PipeId', 'No_Inspections', 'No_Incidents', 'InspectionYear',\n",
    "       'Probability_rate', 'preventive_maintenance_rate', 'InspectionDate', 'Average_MonthsLastRev',\n",
    "       'MonthsLastRev', 'relative_risk', 'average_severity_pipe', 'Severity',\n",
    "       'Incidence', 'Province', 'Town', 'YearBuilt', 'Material', 'GasType',\n",
    "       'Diameter', 'Length', 'Pressure', 'NumConnections',\n",
    "       'NumConnectionsUnder', 'BoolBridle']]\n",
    "train_copy.head(1)"
   ]
  },
  {
   "attachments": {},
   "cell_type": "markdown",
   "id": "88769df2",
   "metadata": {},
   "source": [
    "With this new column we know if the pipe is being inspected frewuently or not taking as a thresold 24 months. We create a ne column that takes this threshold into consideration and creates a boolean\n"
   ]
  },
  {
   "cell_type": "code",
   "execution_count": 98,
   "id": "9b8fc105",
   "metadata": {},
   "outputs": [
    {
     "data": {
      "text/plain": [
       "'pipe_inspected_frequently'"
      ]
     },
     "execution_count": 98,
     "metadata": {},
     "output_type": "execute_result"
    },
    {
     "data": {
      "text/html": [
       "<div>\n",
       "<style scoped>\n",
       "    .dataframe tbody tr th:only-of-type {\n",
       "        vertical-align: middle;\n",
       "    }\n",
       "\n",
       "    .dataframe tbody tr th {\n",
       "        vertical-align: top;\n",
       "    }\n",
       "\n",
       "    .dataframe thead th {\n",
       "        text-align: right;\n",
       "    }\n",
       "</style>\n",
       "<table border=\"1\" class=\"dataframe\">\n",
       "  <thead>\n",
       "    <tr style=\"text-align: right;\">\n",
       "      <th></th>\n",
       "      <th>PipeId</th>\n",
       "      <th>No_Inspections</th>\n",
       "      <th>No_Incidents</th>\n",
       "      <th>InspectionYear</th>\n",
       "      <th>Probability_rate</th>\n",
       "      <th>preventive_maintenance_rate</th>\n",
       "      <th>pipe_inspected_frequently</th>\n",
       "      <th>InspectionDate</th>\n",
       "      <th>Average_MonthsLastRev</th>\n",
       "      <th>MonthsLastRev</th>\n",
       "      <th>relative_risk</th>\n",
       "      <th>average_severity_pipe</th>\n",
       "      <th>Severity</th>\n",
       "      <th>Incidence</th>\n",
       "      <th>Province</th>\n",
       "      <th>Town</th>\n",
       "      <th>YearBuilt</th>\n",
       "      <th>Material</th>\n",
       "      <th>GasType</th>\n",
       "      <th>Diameter</th>\n",
       "      <th>Length</th>\n",
       "      <th>Pressure</th>\n",
       "      <th>NumConnections</th>\n",
       "      <th>NumConnectionsUnder</th>\n",
       "      <th>BoolBridle</th>\n",
       "    </tr>\n",
       "  </thead>\n",
       "  <tbody>\n",
       "    <tr>\n",
       "      <th>0</th>\n",
       "      <td>489616</td>\n",
       "      <td>5</td>\n",
       "      <td>0.00</td>\n",
       "      <td>2013.00</td>\n",
       "      <td>0.00</td>\n",
       "      <td>0.00</td>\n",
       "      <td>1</td>\n",
       "      <td>2013-05-08</td>\n",
       "      <td>21.40</td>\n",
       "      <td>16.00</td>\n",
       "      <td>0.00</td>\n",
       "      <td>4.00</td>\n",
       "      <td>4.00</td>\n",
       "      <td>0.00</td>\n",
       "      <td>Ciudad Real</td>\n",
       "      <td>Torralba de Calatrava</td>\n",
       "      <td>2012</td>\n",
       "      <td>PE</td>\n",
       "      <td>Gas natural</td>\n",
       "      <td>63.00</td>\n",
       "      <td>7.79</td>\n",
       "      <td>0.40</td>\n",
       "      <td>0</td>\n",
       "      <td>0</td>\n",
       "      <td>False</td>\n",
       "    </tr>\n",
       "  </tbody>\n",
       "</table>\n",
       "</div>"
      ],
      "text/plain": [
       "   PipeId  No_Inspections  No_Incidents  InspectionYear  Probability_rate  \\\n",
       "0  489616               5          0.00         2013.00              0.00   \n",
       "\n",
       "   preventive_maintenance_rate  pipe_inspected_frequently InspectionDate  \\\n",
       "0                         0.00                          1     2013-05-08   \n",
       "\n",
       "   Average_MonthsLastRev  MonthsLastRev  relative_risk  average_severity_pipe  \\\n",
       "0                  21.40          16.00           0.00                   4.00   \n",
       "\n",
       "   Severity  Incidence     Province                   Town  YearBuilt  \\\n",
       "0      4.00       0.00  Ciudad Real  Torralba de Calatrava       2012   \n",
       "\n",
       "  Material      GasType  Diameter  Length  Pressure  NumConnections  \\\n",
       "0       PE  Gas natural     63.00    7.79      0.40               0   \n",
       "\n",
       "   NumConnectionsUnder  BoolBridle  \n",
       "0                    0       False  "
      ]
     },
     "execution_count": 98,
     "metadata": {},
     "output_type": "execute_result"
    }
   ],
   "source": [
    "#create a new column named pipe_inspected_frequently with a value of 1 if pipe has an Average_MonthsLastRev of less or equal than 24\n",
    "train_copy['pipe_inspected_frequently'] = np.where(train_copy['Average_MonthsLastRev'] <= 24, 1, 0)\n",
    "#place column in 7th position\n",
    "cols = list(train_copy.columns.values)\n",
    "cols.pop(cols.index('pipe_inspected_frequently'))\n",
    "train_copy = train_copy[['PipeId', 'No_Inspections', 'No_Incidents', 'InspectionYear',\n",
    "         'Probability_rate', 'preventive_maintenance_rate', 'pipe_inspected_frequently', 'InspectionDate', 'Average_MonthsLastRev',\n",
    "         'MonthsLastRev', 'relative_risk', 'average_severity_pipe', 'Severity',\n",
    "            'Incidence', 'Province', 'Town', 'YearBuilt', 'Material', 'GasType',\n",
    "            'Diameter', 'Length', 'Pressure', 'NumConnections',\n",
    "            'NumConnectionsUnder', 'BoolBridle']]\n",
    "#delete column Average_MonthsLastRev\n",
    "train_copy.head(1)\n"
   ]
  },
  {
   "cell_type": "code",
   "execution_count": 99,
   "id": "0c8f6f32",
   "metadata": {},
   "outputs": [
    {
     "data": {
      "text/plain": [
       "Index(['PipeId', 'No_Inspections', 'No_Incidents', 'InspectionYear',\n",
       "       'Probability_rate', 'preventive_maintenance_rate',\n",
       "       'pipe_inspected_frequently', 'InspectionDate', 'Average_MonthsLastRev',\n",
       "       'MonthsLastRev', 'relative_risk', 'average_severity_pipe', 'Severity',\n",
       "       'Incidence', 'Province', 'Town', 'YearBuilt', 'Material', 'GasType',\n",
       "       'Diameter', 'Length', 'Pressure', 'NumConnections',\n",
       "       'NumConnectionsUnder', 'BoolBridle'],\n",
       "      dtype='object')"
      ]
     },
     "execution_count": 99,
     "metadata": {},
     "output_type": "execute_result"
    }
   ],
   "source": [
    "train_copy.columns"
   ]
  },
  {
   "cell_type": "code",
   "execution_count": 100,
   "id": "7ac174fe",
   "metadata": {},
   "outputs": [
    {
     "data": {
      "text/plain": [
       "'Age_pipe_at_inspection'"
      ]
     },
     "execution_count": 100,
     "metadata": {},
     "output_type": "execute_result"
    },
    {
     "data": {
      "text/html": [
       "<div>\n",
       "<style scoped>\n",
       "    .dataframe tbody tr th:only-of-type {\n",
       "        vertical-align: middle;\n",
       "    }\n",
       "\n",
       "    .dataframe tbody tr th {\n",
       "        vertical-align: top;\n",
       "    }\n",
       "\n",
       "    .dataframe thead th {\n",
       "        text-align: right;\n",
       "    }\n",
       "</style>\n",
       "<table border=\"1\" class=\"dataframe\">\n",
       "  <thead>\n",
       "    <tr style=\"text-align: right;\">\n",
       "      <th></th>\n",
       "      <th>PipeId</th>\n",
       "      <th>No_Inspections</th>\n",
       "      <th>No_Incidents</th>\n",
       "      <th>InspectionYear</th>\n",
       "      <th>Probability_rate</th>\n",
       "      <th>preventive_maintenance_rate</th>\n",
       "      <th>Age_pipe_at_inspection</th>\n",
       "      <th>pipe_inspected_frequently</th>\n",
       "      <th>InspectionDate</th>\n",
       "      <th>Average_MonthsLastRev</th>\n",
       "      <th>MonthsLastRev</th>\n",
       "      <th>relative_risk</th>\n",
       "      <th>average_severity_pipe</th>\n",
       "      <th>Severity</th>\n",
       "      <th>Incidence</th>\n",
       "      <th>Province</th>\n",
       "      <th>Town</th>\n",
       "      <th>YearBuilt</th>\n",
       "      <th>Material</th>\n",
       "      <th>GasType</th>\n",
       "      <th>Diameter</th>\n",
       "      <th>Length</th>\n",
       "      <th>Pressure</th>\n",
       "      <th>NumConnections</th>\n",
       "      <th>NumConnectionsUnder</th>\n",
       "      <th>BoolBridle</th>\n",
       "    </tr>\n",
       "  </thead>\n",
       "  <tbody>\n",
       "    <tr>\n",
       "      <th>0</th>\n",
       "      <td>489616</td>\n",
       "      <td>5</td>\n",
       "      <td>0.00</td>\n",
       "      <td>2013.00</td>\n",
       "      <td>0.00</td>\n",
       "      <td>0.00</td>\n",
       "      <td>1.00</td>\n",
       "      <td>1</td>\n",
       "      <td>2013-05-08</td>\n",
       "      <td>21.40</td>\n",
       "      <td>16.00</td>\n",
       "      <td>0.00</td>\n",
       "      <td>4.00</td>\n",
       "      <td>4.00</td>\n",
       "      <td>0.00</td>\n",
       "      <td>Ciudad Real</td>\n",
       "      <td>Torralba de Calatrava</td>\n",
       "      <td>2012</td>\n",
       "      <td>PE</td>\n",
       "      <td>Gas natural</td>\n",
       "      <td>63.00</td>\n",
       "      <td>7.79</td>\n",
       "      <td>0.40</td>\n",
       "      <td>0</td>\n",
       "      <td>0</td>\n",
       "      <td>False</td>\n",
       "    </tr>\n",
       "    <tr>\n",
       "      <th>1</th>\n",
       "      <td>489616</td>\n",
       "      <td>5</td>\n",
       "      <td>0.00</td>\n",
       "      <td>2015.00</td>\n",
       "      <td>0.00</td>\n",
       "      <td>0.00</td>\n",
       "      <td>3.00</td>\n",
       "      <td>1</td>\n",
       "      <td>2015-03-04</td>\n",
       "      <td>21.40</td>\n",
       "      <td>22.00</td>\n",
       "      <td>0.00</td>\n",
       "      <td>4.00</td>\n",
       "      <td>4.00</td>\n",
       "      <td>0.00</td>\n",
       "      <td>Ciudad Real</td>\n",
       "      <td>Torralba de Calatrava</td>\n",
       "      <td>2012</td>\n",
       "      <td>PE</td>\n",
       "      <td>Gas natural</td>\n",
       "      <td>63.00</td>\n",
       "      <td>7.79</td>\n",
       "      <td>0.40</td>\n",
       "      <td>0</td>\n",
       "      <td>0</td>\n",
       "      <td>False</td>\n",
       "    </tr>\n",
       "  </tbody>\n",
       "</table>\n",
       "</div>"
      ],
      "text/plain": [
       "   PipeId  No_Inspections  No_Incidents  InspectionYear  Probability_rate  \\\n",
       "0  489616               5          0.00         2013.00              0.00   \n",
       "1  489616               5          0.00         2015.00              0.00   \n",
       "\n",
       "   preventive_maintenance_rate  Age_pipe_at_inspection  \\\n",
       "0                         0.00                    1.00   \n",
       "1                         0.00                    3.00   \n",
       "\n",
       "   pipe_inspected_frequently InspectionDate  Average_MonthsLastRev  \\\n",
       "0                          1     2013-05-08                  21.40   \n",
       "1                          1     2015-03-04                  21.40   \n",
       "\n",
       "   MonthsLastRev  relative_risk  average_severity_pipe  Severity  Incidence  \\\n",
       "0          16.00           0.00                   4.00      4.00       0.00   \n",
       "1          22.00           0.00                   4.00      4.00       0.00   \n",
       "\n",
       "      Province                   Town  YearBuilt Material      GasType  \\\n",
       "0  Ciudad Real  Torralba de Calatrava       2012       PE  Gas natural   \n",
       "1  Ciudad Real  Torralba de Calatrava       2012       PE  Gas natural   \n",
       "\n",
       "   Diameter  Length  Pressure  NumConnections  NumConnectionsUnder  BoolBridle  \n",
       "0     63.00    7.79      0.40               0                    0       False  \n",
       "1     63.00    7.79      0.40               0                    0       False  "
      ]
     },
     "execution_count": 100,
     "metadata": {},
     "output_type": "execute_result"
    }
   ],
   "source": [
    "#creating a column named age_pipe_inspection with the difference between InspectionYear and YearBuilt and placing it in 10 th position\n",
    "train_copy['Age_pipe_at_inspection'] = train_copy['InspectionYear'] - train_copy['YearBuilt']\n",
    "cols = list(train_copy.columns.values)\n",
    "cols.pop(cols.index('Age_pipe_at_inspection'))\n",
    "train_copy = train_copy[['PipeId', 'No_Inspections', 'No_Incidents', 'InspectionYear',\n",
    "       'Probability_rate', 'preventive_maintenance_rate', 'Age_pipe_at_inspection',\n",
    "       'pipe_inspected_frequently', 'InspectionDate', 'Average_MonthsLastRev',\n",
    "       'MonthsLastRev', 'relative_risk', 'average_severity_pipe', 'Severity',\n",
    "       'Incidence', 'Province', 'Town', 'YearBuilt', 'Material', 'GasType',\n",
    "       'Diameter', 'Length', 'Pressure', 'NumConnections',\n",
    "       'NumConnectionsUnder', 'BoolBridle']]\n",
    "#head of pipes with Age_pipe_at_inspection greater than 0\n",
    "train_copy[train_copy['Age_pipe_at_inspection'] > 0].head(2)"
   ]
  },
  {
   "cell_type": "code",
   "execution_count": 101,
   "id": "20d7b90f",
   "metadata": {},
   "outputs": [
    {
     "data": {
      "text/plain": [
       "count   6364029.00\n",
       "mean        119.50\n",
       "std          57.22\n",
       "min          10.00\n",
       "25%          90.00\n",
       "50%         110.00\n",
       "75%         160.00\n",
       "max         609.60\n",
       "Name: Diameter, dtype: float64"
      ]
     },
     "execution_count": 101,
     "metadata": {},
     "output_type": "execute_result"
    }
   ],
   "source": [
    "#describe Diameter on train_copy in mm\n",
    "train_copy['Diameter'].describe()"
   ]
  },
  {
   "cell_type": "code",
   "execution_count": 102,
   "id": "3ca5501e",
   "metadata": {},
   "outputs": [
    {
     "data": {
      "text/plain": [
       "count   6364029.00\n",
       "mean         36.56\n",
       "std          72.26\n",
       "min           0.00\n",
       "25%           4.00\n",
       "50%          14.26\n",
       "75%          44.62\n",
       "max       26100.94\n",
       "Name: Length, dtype: float64"
      ]
     },
     "execution_count": 102,
     "metadata": {},
     "output_type": "execute_result"
    }
   ],
   "source": [
    "train_copy['Length'].describe()"
   ]
  },
  {
   "cell_type": "code",
   "execution_count": 103,
   "id": "41349dc2",
   "metadata": {},
   "outputs": [],
   "source": [
    "#divide all values in Diameter by 1000 to convert to meters\n",
    "train_copy['Diameter'] = train_copy['Diameter'] / 1000"
   ]
  },
  {
   "cell_type": "code",
   "execution_count": 104,
   "id": "3f4ec8ca",
   "metadata": {},
   "outputs": [],
   "source": [
    "#create a new variable called aspect that is equal to pressure divided by diameter multiplied by length\n",
    "train_copy['aspect']=(train_copy['Pressure']/train_copy['Diameter'])*train_copy['Length']"
   ]
  },
  {
   "cell_type": "code",
   "execution_count": 105,
   "id": "7a8dfecc",
   "metadata": {},
   "outputs": [],
   "source": [
    "#create a new column that divides the diameter by the pressure and name it Relative Thickness\n",
    "train_copy['Relative_Thickness'] = train_copy['Diameter'] / train_copy['Pressure']"
   ]
  },
  {
   "cell_type": "code",
   "execution_count": 106,
   "id": "0a5971ea",
   "metadata": {},
   "outputs": [],
   "source": [
    "#creating a column named pipe_area that multiplies diameter by lenght by pi\n",
    "\n",
    "train_copy['pipe_area'] = train_copy['Diameter'] * train_copy['Length'] * 3.1416"
   ]
  },
  {
   "cell_type": "code",
   "execution_count": 110,
   "id": "51ee44d6",
   "metadata": {},
   "outputs": [],
   "source": [
    "#Create a column called Total_Connections that adds NumConnections and NumConnectionsUnder\n",
    "train_copy['Total_Connections'] = train_copy['NumConnections'] + train_copy['NumConnectionsUnder']"
   ]
  },
  {
   "cell_type": "code",
   "execution_count": 113,
   "id": "ef8a0066",
   "metadata": {},
   "outputs": [],
   "source": [
    "#create a column named area_connection that divides pipe_area by NumConnections\n",
    "train_copy['area_connection'] = train_copy['Total_Connections']/ train_copy['pipe_area'] "
   ]
  },
  {
   "cell_type": "code",
   "execution_count": 112,
   "id": "bc445385",
   "metadata": {},
   "outputs": [
    {
     "data": {
      "text/html": [
       "<div>\n",
       "<style scoped>\n",
       "    .dataframe tbody tr th:only-of-type {\n",
       "        vertical-align: middle;\n",
       "    }\n",
       "\n",
       "    .dataframe tbody tr th {\n",
       "        vertical-align: top;\n",
       "    }\n",
       "\n",
       "    .dataframe thead th {\n",
       "        text-align: right;\n",
       "    }\n",
       "</style>\n",
       "<table border=\"1\" class=\"dataframe\">\n",
       "  <thead>\n",
       "    <tr style=\"text-align: right;\">\n",
       "      <th></th>\n",
       "      <th>PipeId</th>\n",
       "      <th>No_Inspections</th>\n",
       "      <th>No_Incidents</th>\n",
       "      <th>InspectionYear</th>\n",
       "      <th>Probability_rate</th>\n",
       "      <th>preventive_maintenance_rate</th>\n",
       "      <th>Age_pipe_at_inspection</th>\n",
       "      <th>pipe_inspected_frequently</th>\n",
       "      <th>InspectionDate</th>\n",
       "      <th>Average_MonthsLastRev</th>\n",
       "      <th>MonthsLastRev</th>\n",
       "      <th>relative_risk</th>\n",
       "      <th>average_severity_pipe</th>\n",
       "      <th>Severity</th>\n",
       "      <th>Incidence</th>\n",
       "      <th>Province</th>\n",
       "      <th>Town</th>\n",
       "      <th>YearBuilt</th>\n",
       "      <th>Material</th>\n",
       "      <th>GasType</th>\n",
       "      <th>Diameter</th>\n",
       "      <th>Length</th>\n",
       "      <th>Pressure</th>\n",
       "      <th>NumConnections</th>\n",
       "      <th>NumConnectionsUnder</th>\n",
       "      <th>BoolBridle</th>\n",
       "      <th>aspect</th>\n",
       "      <th>Relative_Thickness</th>\n",
       "      <th>pipe_area</th>\n",
       "      <th>Total_Connections</th>\n",
       "      <th>area_connection</th>\n",
       "    </tr>\n",
       "  </thead>\n",
       "  <tbody>\n",
       "    <tr>\n",
       "      <th>0</th>\n",
       "      <td>489616</td>\n",
       "      <td>5</td>\n",
       "      <td>0.00</td>\n",
       "      <td>2013.00</td>\n",
       "      <td>0.00</td>\n",
       "      <td>0.00</td>\n",
       "      <td>1.00</td>\n",
       "      <td>1</td>\n",
       "      <td>2013-05-08</td>\n",
       "      <td>21.40</td>\n",
       "      <td>16.00</td>\n",
       "      <td>0.00</td>\n",
       "      <td>4.00</td>\n",
       "      <td>4.00</td>\n",
       "      <td>0.00</td>\n",
       "      <td>Ciudad Real</td>\n",
       "      <td>Torralba de Calatrava</td>\n",
       "      <td>2012</td>\n",
       "      <td>PE</td>\n",
       "      <td>Gas natural</td>\n",
       "      <td>0.06</td>\n",
       "      <td>7.79</td>\n",
       "      <td>0.40</td>\n",
       "      <td>0</td>\n",
       "      <td>0</td>\n",
       "      <td>False</td>\n",
       "      <td>49.47</td>\n",
       "      <td>0.16</td>\n",
       "      <td>1.54</td>\n",
       "      <td>0</td>\n",
       "      <td>0.00</td>\n",
       "    </tr>\n",
       "    <tr>\n",
       "      <th>1</th>\n",
       "      <td>489616</td>\n",
       "      <td>5</td>\n",
       "      <td>0.00</td>\n",
       "      <td>2015.00</td>\n",
       "      <td>0.00</td>\n",
       "      <td>0.00</td>\n",
       "      <td>3.00</td>\n",
       "      <td>1</td>\n",
       "      <td>2015-03-04</td>\n",
       "      <td>21.40</td>\n",
       "      <td>22.00</td>\n",
       "      <td>0.00</td>\n",
       "      <td>4.00</td>\n",
       "      <td>4.00</td>\n",
       "      <td>0.00</td>\n",
       "      <td>Ciudad Real</td>\n",
       "      <td>Torralba de Calatrava</td>\n",
       "      <td>2012</td>\n",
       "      <td>PE</td>\n",
       "      <td>Gas natural</td>\n",
       "      <td>0.06</td>\n",
       "      <td>7.79</td>\n",
       "      <td>0.40</td>\n",
       "      <td>0</td>\n",
       "      <td>0</td>\n",
       "      <td>False</td>\n",
       "      <td>49.47</td>\n",
       "      <td>0.16</td>\n",
       "      <td>1.54</td>\n",
       "      <td>0</td>\n",
       "      <td>0.00</td>\n",
       "    </tr>\n",
       "    <tr>\n",
       "      <th>2</th>\n",
       "      <td>489616</td>\n",
       "      <td>5</td>\n",
       "      <td>0.00</td>\n",
       "      <td>2016.00</td>\n",
       "      <td>0.00</td>\n",
       "      <td>0.00</td>\n",
       "      <td>4.00</td>\n",
       "      <td>1</td>\n",
       "      <td>2017-01-12</td>\n",
       "      <td>21.40</td>\n",
       "      <td>22.00</td>\n",
       "      <td>0.00</td>\n",
       "      <td>4.00</td>\n",
       "      <td>4.00</td>\n",
       "      <td>0.00</td>\n",
       "      <td>Ciudad Real</td>\n",
       "      <td>Torralba de Calatrava</td>\n",
       "      <td>2012</td>\n",
       "      <td>PE</td>\n",
       "      <td>Gas natural</td>\n",
       "      <td>0.06</td>\n",
       "      <td>7.79</td>\n",
       "      <td>0.40</td>\n",
       "      <td>0</td>\n",
       "      <td>0</td>\n",
       "      <td>False</td>\n",
       "      <td>49.47</td>\n",
       "      <td>0.16</td>\n",
       "      <td>1.54</td>\n",
       "      <td>0</td>\n",
       "      <td>0.00</td>\n",
       "    </tr>\n",
       "  </tbody>\n",
       "</table>\n",
       "</div>"
      ],
      "text/plain": [
       "   PipeId  No_Inspections  No_Incidents  InspectionYear  Probability_rate  \\\n",
       "0  489616               5          0.00         2013.00              0.00   \n",
       "1  489616               5          0.00         2015.00              0.00   \n",
       "2  489616               5          0.00         2016.00              0.00   \n",
       "\n",
       "   preventive_maintenance_rate  Age_pipe_at_inspection  \\\n",
       "0                         0.00                    1.00   \n",
       "1                         0.00                    3.00   \n",
       "2                         0.00                    4.00   \n",
       "\n",
       "   pipe_inspected_frequently InspectionDate  Average_MonthsLastRev  \\\n",
       "0                          1     2013-05-08                  21.40   \n",
       "1                          1     2015-03-04                  21.40   \n",
       "2                          1     2017-01-12                  21.40   \n",
       "\n",
       "   MonthsLastRev  relative_risk  average_severity_pipe  Severity  Incidence  \\\n",
       "0          16.00           0.00                   4.00      4.00       0.00   \n",
       "1          22.00           0.00                   4.00      4.00       0.00   \n",
       "2          22.00           0.00                   4.00      4.00       0.00   \n",
       "\n",
       "      Province                   Town  YearBuilt Material      GasType  \\\n",
       "0  Ciudad Real  Torralba de Calatrava       2012       PE  Gas natural   \n",
       "1  Ciudad Real  Torralba de Calatrava       2012       PE  Gas natural   \n",
       "2  Ciudad Real  Torralba de Calatrava       2012       PE  Gas natural   \n",
       "\n",
       "   Diameter  Length  Pressure  NumConnections  NumConnectionsUnder  \\\n",
       "0      0.06    7.79      0.40               0                    0   \n",
       "1      0.06    7.79      0.40               0                    0   \n",
       "2      0.06    7.79      0.40               0                    0   \n",
       "\n",
       "   BoolBridle  aspect  Relative_Thickness  pipe_area  Total_Connections  \\\n",
       "0       False   49.47                0.16       1.54                  0   \n",
       "1       False   49.47                0.16       1.54                  0   \n",
       "2       False   49.47                0.16       1.54                  0   \n",
       "\n",
       "   area_connection  \n",
       "0             0.00  \n",
       "1             0.00  \n",
       "2             0.00  "
      ]
     },
     "execution_count": 112,
     "metadata": {},
     "output_type": "execute_result"
    }
   ],
   "source": [
    "train_copy.head(3)"
   ]
  },
  {
   "cell_type": "code",
   "execution_count": null,
   "id": "44251598",
   "metadata": {},
   "outputs": [],
   "source": [
    "#"
   ]
  },
  {
   "cell_type": "code",
   "execution_count": 114,
   "id": "fd10041e",
   "metadata": {},
   "outputs": [],
   "source": [
    "#create a boolean column named connection_bool that is 1 if NumConnections is greater than 1\n",
    "train_copy['connection_bool'] = np.where(train_copy['Total_Connections'] > 1, 1, 0)"
   ]
  },
  {
   "cell_type": "code",
   "execution_count": 115,
   "id": "098e62d2",
   "metadata": {},
   "outputs": [],
   "source": [
    "#transform Inspection Date to datetime format\n",
    "train_copy['InspectionDate'] = pd.to_datetime(train_copy['InspectionDate'])\n"
   ]
  },
  {
   "cell_type": "code",
   "execution_count": 116,
   "id": "1f6102d3",
   "metadata": {},
   "outputs": [
    {
     "data": {
      "text/plain": [
       "Index(['PipeId', 'No_Inspections', 'No_Incidents', 'InspectionYear',\n",
       "       'Probability_rate', 'preventive_maintenance_rate',\n",
       "       'Age_pipe_at_inspection', 'pipe_inspected_frequently', 'InspectionDate',\n",
       "       'Average_MonthsLastRev', 'MonthsLastRev', 'relative_risk',\n",
       "       'average_severity_pipe', 'Severity', 'Incidence', 'Province', 'Town',\n",
       "       'YearBuilt', 'Material', 'GasType', 'Diameter', 'Length', 'Pressure',\n",
       "       'NumConnections', 'NumConnectionsUnder', 'BoolBridle', 'aspect',\n",
       "       'Relative_Thickness', 'pipe_area', 'Total_Connections',\n",
       "       'area_connection', 'connection_bool'],\n",
       "      dtype='object')"
      ]
     },
     "execution_count": 116,
     "metadata": {},
     "output_type": "execute_result"
    }
   ],
   "source": [
    "train_copy.columns"
   ]
  },
  {
   "cell_type": "code",
   "execution_count": 117,
   "id": "f199302c",
   "metadata": {},
   "outputs": [
    {
     "data": {
      "text/html": [
       "<div>\n",
       "<style scoped>\n",
       "    .dataframe tbody tr th:only-of-type {\n",
       "        vertical-align: middle;\n",
       "    }\n",
       "\n",
       "    .dataframe tbody tr th {\n",
       "        vertical-align: top;\n",
       "    }\n",
       "\n",
       "    .dataframe thead th {\n",
       "        text-align: right;\n",
       "    }\n",
       "</style>\n",
       "<table border=\"1\" class=\"dataframe\">\n",
       "  <thead>\n",
       "    <tr style=\"text-align: right;\">\n",
       "      <th></th>\n",
       "      <th>PipeId</th>\n",
       "      <th>No_Inspections</th>\n",
       "      <th>No_Incidents</th>\n",
       "      <th>InspectionYear</th>\n",
       "      <th>Probability_rate</th>\n",
       "      <th>preventive_maintenance_rate</th>\n",
       "      <th>Age_pipe_at_inspection</th>\n",
       "      <th>pipe_inspected_frequently</th>\n",
       "      <th>InspectionDate</th>\n",
       "      <th>Average_MonthsLastRev</th>\n",
       "      <th>MonthsLastRev</th>\n",
       "      <th>relative_risk</th>\n",
       "      <th>average_severity_pipe</th>\n",
       "      <th>Incidence</th>\n",
       "      <th>Province</th>\n",
       "      <th>Town</th>\n",
       "      <th>YearBuilt</th>\n",
       "      <th>Material</th>\n",
       "      <th>GasType</th>\n",
       "      <th>Diameter</th>\n",
       "      <th>Length</th>\n",
       "      <th>Pressure</th>\n",
       "      <th>NumConnections</th>\n",
       "      <th>NumConnectionsUnder</th>\n",
       "      <th>BoolBridle</th>\n",
       "      <th>aspect</th>\n",
       "      <th>Relative_Thickness</th>\n",
       "      <th>pipe_area</th>\n",
       "      <th>Total_Connections</th>\n",
       "      <th>area_connection</th>\n",
       "      <th>connection_bool</th>\n",
       "      <th>Severity_1.0</th>\n",
       "      <th>Severity_2.0</th>\n",
       "      <th>Severity_3.0</th>\n",
       "      <th>Severity_4.0</th>\n",
       "    </tr>\n",
       "  </thead>\n",
       "  <tbody>\n",
       "    <tr>\n",
       "      <th>0</th>\n",
       "      <td>489616</td>\n",
       "      <td>5</td>\n",
       "      <td>0.00</td>\n",
       "      <td>2013.00</td>\n",
       "      <td>0.00</td>\n",
       "      <td>0.00</td>\n",
       "      <td>1.00</td>\n",
       "      <td>1</td>\n",
       "      <td>2013-05-08</td>\n",
       "      <td>21.40</td>\n",
       "      <td>16.00</td>\n",
       "      <td>0.00</td>\n",
       "      <td>4.00</td>\n",
       "      <td>0.00</td>\n",
       "      <td>Ciudad Real</td>\n",
       "      <td>Torralba de Calatrava</td>\n",
       "      <td>2012</td>\n",
       "      <td>PE</td>\n",
       "      <td>Gas natural</td>\n",
       "      <td>0.06</td>\n",
       "      <td>7.79</td>\n",
       "      <td>0.40</td>\n",
       "      <td>0</td>\n",
       "      <td>0</td>\n",
       "      <td>False</td>\n",
       "      <td>49.47</td>\n",
       "      <td>0.16</td>\n",
       "      <td>1.54</td>\n",
       "      <td>0</td>\n",
       "      <td>0.00</td>\n",
       "      <td>0</td>\n",
       "      <td>0</td>\n",
       "      <td>0</td>\n",
       "      <td>0</td>\n",
       "      <td>1</td>\n",
       "    </tr>\n",
       "  </tbody>\n",
       "</table>\n",
       "</div>"
      ],
      "text/plain": [
       "   PipeId  No_Inspections  No_Incidents  InspectionYear  Probability_rate  \\\n",
       "0  489616               5          0.00         2013.00              0.00   \n",
       "\n",
       "   preventive_maintenance_rate  Age_pipe_at_inspection  \\\n",
       "0                         0.00                    1.00   \n",
       "\n",
       "   pipe_inspected_frequently InspectionDate  Average_MonthsLastRev  \\\n",
       "0                          1     2013-05-08                  21.40   \n",
       "\n",
       "   MonthsLastRev  relative_risk  average_severity_pipe  Incidence  \\\n",
       "0          16.00           0.00                   4.00       0.00   \n",
       "\n",
       "      Province                   Town  YearBuilt Material      GasType  \\\n",
       "0  Ciudad Real  Torralba de Calatrava       2012       PE  Gas natural   \n",
       "\n",
       "   Diameter  Length  Pressure  NumConnections  NumConnectionsUnder  \\\n",
       "0      0.06    7.79      0.40               0                    0   \n",
       "\n",
       "   BoolBridle  aspect  Relative_Thickness  pipe_area  Total_Connections  \\\n",
       "0       False   49.47                0.16       1.54                  0   \n",
       "\n",
       "   area_connection  connection_bool  Severity_1.0  Severity_2.0  Severity_3.0  \\\n",
       "0             0.00                0             0             0             0   \n",
       "\n",
       "   Severity_4.0  \n",
       "0             1  "
      ]
     },
     "execution_count": 117,
     "metadata": {},
     "output_type": "execute_result"
    }
   ],
   "source": [
    "#hot encode severity_incidence column in the train_copy dataframe\n",
    "train_copy = pd.get_dummies(train_copy, columns=['Severity'], prefix = ['Severity'])\n",
    "train_copy.head(1)"
   ]
  },
  {
   "cell_type": "code",
   "execution_count": 118,
   "id": "3fe0dcdb",
   "metadata": {},
   "outputs": [],
   "source": [
    "#change name of Severity_Incidence_1 column to Severity_low\n",
    "train_copy = train_copy.rename(columns={'Severity_1.0': 'Severity_high'})\n",
    "#change name of Severity_Incidence_2 column to Severity_medium\n",
    "train_copy = train_copy.rename(columns={'Severity_2.0': 'Severity_medium'})\n",
    "#change name of Severity_Incidence_3 column to Severity_high\n",
    "train_copy = train_copy.rename(columns={'Severity_3.0': 'Severity_low'})\n",
    "#drop Severity_4.0 column\n",
    "train_copy = train_copy.drop(['Severity_4.0'], axis=1)"
   ]
  },
  {
   "cell_type": "code",
   "execution_count": 119,
   "id": "24d43d6a",
   "metadata": {},
   "outputs": [
    {
     "data": {
      "text/html": [
       "<div>\n",
       "<style scoped>\n",
       "    .dataframe tbody tr th:only-of-type {\n",
       "        vertical-align: middle;\n",
       "    }\n",
       "\n",
       "    .dataframe tbody tr th {\n",
       "        vertical-align: top;\n",
       "    }\n",
       "\n",
       "    .dataframe thead th {\n",
       "        text-align: right;\n",
       "    }\n",
       "</style>\n",
       "<table border=\"1\" class=\"dataframe\">\n",
       "  <thead>\n",
       "    <tr style=\"text-align: right;\">\n",
       "      <th></th>\n",
       "      <th>PipeId</th>\n",
       "      <th>No_Inspections</th>\n",
       "      <th>No_Incidents</th>\n",
       "      <th>InspectionYear</th>\n",
       "      <th>Probability_rate</th>\n",
       "      <th>preventive_maintenance_rate</th>\n",
       "      <th>Age_pipe_at_inspection</th>\n",
       "      <th>pipe_inspected_frequently</th>\n",
       "      <th>InspectionDate</th>\n",
       "      <th>Average_MonthsLastRev</th>\n",
       "      <th>MonthsLastRev</th>\n",
       "      <th>relative_risk</th>\n",
       "      <th>average_severity_pipe</th>\n",
       "      <th>Incidence</th>\n",
       "      <th>Province</th>\n",
       "      <th>Town</th>\n",
       "      <th>YearBuilt</th>\n",
       "      <th>Material</th>\n",
       "      <th>GasType</th>\n",
       "      <th>Diameter</th>\n",
       "      <th>Length</th>\n",
       "      <th>Pressure</th>\n",
       "      <th>NumConnections</th>\n",
       "      <th>NumConnectionsUnder</th>\n",
       "      <th>BoolBridle</th>\n",
       "      <th>aspect</th>\n",
       "      <th>Relative_Thickness</th>\n",
       "      <th>pipe_area</th>\n",
       "      <th>Total_Connections</th>\n",
       "      <th>area_connection</th>\n",
       "      <th>connection_bool</th>\n",
       "      <th>Severity_high</th>\n",
       "      <th>Severity_medium</th>\n",
       "      <th>Severity_low</th>\n",
       "    </tr>\n",
       "  </thead>\n",
       "  <tbody>\n",
       "    <tr>\n",
       "      <th>0</th>\n",
       "      <td>489616</td>\n",
       "      <td>5</td>\n",
       "      <td>0.00</td>\n",
       "      <td>2013.00</td>\n",
       "      <td>0.00</td>\n",
       "      <td>0.00</td>\n",
       "      <td>1.00</td>\n",
       "      <td>1</td>\n",
       "      <td>2013-05-08</td>\n",
       "      <td>21.40</td>\n",
       "      <td>16.00</td>\n",
       "      <td>0.00</td>\n",
       "      <td>4.00</td>\n",
       "      <td>0.00</td>\n",
       "      <td>Ciudad Real</td>\n",
       "      <td>Torralba de Calatrava</td>\n",
       "      <td>2012</td>\n",
       "      <td>PE</td>\n",
       "      <td>Gas natural</td>\n",
       "      <td>0.06</td>\n",
       "      <td>7.79</td>\n",
       "      <td>0.40</td>\n",
       "      <td>0</td>\n",
       "      <td>0</td>\n",
       "      <td>False</td>\n",
       "      <td>49.47</td>\n",
       "      <td>0.16</td>\n",
       "      <td>1.54</td>\n",
       "      <td>0</td>\n",
       "      <td>0.00</td>\n",
       "      <td>0</td>\n",
       "      <td>0</td>\n",
       "      <td>0</td>\n",
       "      <td>0</td>\n",
       "    </tr>\n",
       "  </tbody>\n",
       "</table>\n",
       "</div>"
      ],
      "text/plain": [
       "   PipeId  No_Inspections  No_Incidents  InspectionYear  Probability_rate  \\\n",
       "0  489616               5          0.00         2013.00              0.00   \n",
       "\n",
       "   preventive_maintenance_rate  Age_pipe_at_inspection  \\\n",
       "0                         0.00                    1.00   \n",
       "\n",
       "   pipe_inspected_frequently InspectionDate  Average_MonthsLastRev  \\\n",
       "0                          1     2013-05-08                  21.40   \n",
       "\n",
       "   MonthsLastRev  relative_risk  average_severity_pipe  Incidence  \\\n",
       "0          16.00           0.00                   4.00       0.00   \n",
       "\n",
       "      Province                   Town  YearBuilt Material      GasType  \\\n",
       "0  Ciudad Real  Torralba de Calatrava       2012       PE  Gas natural   \n",
       "\n",
       "   Diameter  Length  Pressure  NumConnections  NumConnectionsUnder  \\\n",
       "0      0.06    7.79      0.40               0                    0   \n",
       "\n",
       "   BoolBridle  aspect  Relative_Thickness  pipe_area  Total_Connections  \\\n",
       "0       False   49.47                0.16       1.54                  0   \n",
       "\n",
       "   area_connection  connection_bool  Severity_high  Severity_medium  \\\n",
       "0             0.00                0              0                0   \n",
       "\n",
       "   Severity_low  \n",
       "0             0  "
      ]
     },
     "execution_count": 119,
     "metadata": {},
     "output_type": "execute_result"
    }
   ],
   "source": [
    "train_copy.head(1)"
   ]
  },
  {
   "cell_type": "code",
   "execution_count": 120,
   "id": "3cae8354",
   "metadata": {},
   "outputs": [
    {
     "data": {
      "text/plain": [
       "count     6364029\n",
       "unique          2\n",
       "top         False\n",
       "freq      5979653\n",
       "Name: BoolBridle, dtype: object"
      ]
     },
     "execution_count": 120,
     "metadata": {},
     "output_type": "execute_result"
    }
   ],
   "source": [
    "train_copy['BoolBridle'].describe()"
   ]
  },
  {
   "cell_type": "code",
   "execution_count": 121,
   "id": "026c1af8",
   "metadata": {},
   "outputs": [],
   "source": [
    "# Converting Boolbride into  boolean variable\n",
    "def boolbridle(x):\n",
    "    return 1 if x == 'True' else 0"
   ]
  },
  {
   "cell_type": "code",
   "execution_count": 122,
   "id": "e8031e3c",
   "metadata": {},
   "outputs": [],
   "source": [
    "# Apply function on dataset\n",
    "train_copy['BoolBridle'] = train_copy['BoolBridle'].apply(lambda x: boolbridle(x))"
   ]
  },
  {
   "cell_type": "code",
   "execution_count": 124,
   "id": "d2cbfe8c",
   "metadata": {},
   "outputs": [
    {
     "data": {
      "text/html": [
       "<div>\n",
       "<style scoped>\n",
       "    .dataframe tbody tr th:only-of-type {\n",
       "        vertical-align: middle;\n",
       "    }\n",
       "\n",
       "    .dataframe tbody tr th {\n",
       "        vertical-align: top;\n",
       "    }\n",
       "\n",
       "    .dataframe thead th {\n",
       "        text-align: right;\n",
       "    }\n",
       "</style>\n",
       "<table border=\"1\" class=\"dataframe\">\n",
       "  <thead>\n",
       "    <tr style=\"text-align: right;\">\n",
       "      <th></th>\n",
       "      <th>PipeId</th>\n",
       "      <th>No_Inspections</th>\n",
       "      <th>No_Incidents</th>\n",
       "      <th>InspectionYear</th>\n",
       "      <th>Probability_rate</th>\n",
       "      <th>preventive_maintenance_rate</th>\n",
       "      <th>Age_pipe_at_inspection</th>\n",
       "      <th>pipe_inspected_frequently</th>\n",
       "      <th>InspectionDate</th>\n",
       "      <th>Average_MonthsLastRev</th>\n",
       "      <th>MonthsLastRev</th>\n",
       "      <th>relative_risk</th>\n",
       "      <th>average_severity_pipe</th>\n",
       "      <th>Incidence</th>\n",
       "      <th>Province</th>\n",
       "      <th>Town</th>\n",
       "      <th>YearBuilt</th>\n",
       "      <th>Material</th>\n",
       "      <th>GasType</th>\n",
       "      <th>Diameter</th>\n",
       "      <th>Length</th>\n",
       "      <th>Pressure</th>\n",
       "      <th>NumConnections</th>\n",
       "      <th>NumConnectionsUnder</th>\n",
       "      <th>BoolBridle</th>\n",
       "      <th>aspect</th>\n",
       "      <th>Relative_Thickness</th>\n",
       "      <th>pipe_area</th>\n",
       "      <th>Total_Connections</th>\n",
       "      <th>area_connection</th>\n",
       "      <th>connection_bool</th>\n",
       "      <th>Severity_high</th>\n",
       "      <th>Severity_medium</th>\n",
       "      <th>Severity_low</th>\n",
       "    </tr>\n",
       "  </thead>\n",
       "  <tbody>\n",
       "    <tr>\n",
       "      <th>0</th>\n",
       "      <td>489616</td>\n",
       "      <td>5</td>\n",
       "      <td>0.00</td>\n",
       "      <td>2013.00</td>\n",
       "      <td>0.00</td>\n",
       "      <td>0.00</td>\n",
       "      <td>1.00</td>\n",
       "      <td>1</td>\n",
       "      <td>2013-05-08</td>\n",
       "      <td>21.40</td>\n",
       "      <td>16.00</td>\n",
       "      <td>0.00</td>\n",
       "      <td>4.00</td>\n",
       "      <td>0.00</td>\n",
       "      <td>Ciudad Real</td>\n",
       "      <td>Torralba de Calatrava</td>\n",
       "      <td>2012</td>\n",
       "      <td>PE</td>\n",
       "      <td>Gas natural</td>\n",
       "      <td>0.06</td>\n",
       "      <td>7.79</td>\n",
       "      <td>0.40</td>\n",
       "      <td>0</td>\n",
       "      <td>0</td>\n",
       "      <td>0</td>\n",
       "      <td>49.47</td>\n",
       "      <td>0.16</td>\n",
       "      <td>1.54</td>\n",
       "      <td>0</td>\n",
       "      <td>0.00</td>\n",
       "      <td>0</td>\n",
       "      <td>0</td>\n",
       "      <td>0</td>\n",
       "      <td>0</td>\n",
       "    </tr>\n",
       "    <tr>\n",
       "      <th>1</th>\n",
       "      <td>489616</td>\n",
       "      <td>5</td>\n",
       "      <td>0.00</td>\n",
       "      <td>2015.00</td>\n",
       "      <td>0.00</td>\n",
       "      <td>0.00</td>\n",
       "      <td>3.00</td>\n",
       "      <td>1</td>\n",
       "      <td>2015-03-04</td>\n",
       "      <td>21.40</td>\n",
       "      <td>22.00</td>\n",
       "      <td>0.00</td>\n",
       "      <td>4.00</td>\n",
       "      <td>0.00</td>\n",
       "      <td>Ciudad Real</td>\n",
       "      <td>Torralba de Calatrava</td>\n",
       "      <td>2012</td>\n",
       "      <td>PE</td>\n",
       "      <td>Gas natural</td>\n",
       "      <td>0.06</td>\n",
       "      <td>7.79</td>\n",
       "      <td>0.40</td>\n",
       "      <td>0</td>\n",
       "      <td>0</td>\n",
       "      <td>0</td>\n",
       "      <td>49.47</td>\n",
       "      <td>0.16</td>\n",
       "      <td>1.54</td>\n",
       "      <td>0</td>\n",
       "      <td>0.00</td>\n",
       "      <td>0</td>\n",
       "      <td>0</td>\n",
       "      <td>0</td>\n",
       "      <td>0</td>\n",
       "    </tr>\n",
       "    <tr>\n",
       "      <th>2</th>\n",
       "      <td>489616</td>\n",
       "      <td>5</td>\n",
       "      <td>0.00</td>\n",
       "      <td>2016.00</td>\n",
       "      <td>0.00</td>\n",
       "      <td>0.00</td>\n",
       "      <td>4.00</td>\n",
       "      <td>1</td>\n",
       "      <td>2017-01-12</td>\n",
       "      <td>21.40</td>\n",
       "      <td>22.00</td>\n",
       "      <td>0.00</td>\n",
       "      <td>4.00</td>\n",
       "      <td>0.00</td>\n",
       "      <td>Ciudad Real</td>\n",
       "      <td>Torralba de Calatrava</td>\n",
       "      <td>2012</td>\n",
       "      <td>PE</td>\n",
       "      <td>Gas natural</td>\n",
       "      <td>0.06</td>\n",
       "      <td>7.79</td>\n",
       "      <td>0.40</td>\n",
       "      <td>0</td>\n",
       "      <td>0</td>\n",
       "      <td>0</td>\n",
       "      <td>49.47</td>\n",
       "      <td>0.16</td>\n",
       "      <td>1.54</td>\n",
       "      <td>0</td>\n",
       "      <td>0.00</td>\n",
       "      <td>0</td>\n",
       "      <td>0</td>\n",
       "      <td>0</td>\n",
       "      <td>0</td>\n",
       "    </tr>\n",
       "    <tr>\n",
       "      <th>3</th>\n",
       "      <td>489616</td>\n",
       "      <td>5</td>\n",
       "      <td>0.00</td>\n",
       "      <td>2018.00</td>\n",
       "      <td>0.00</td>\n",
       "      <td>0.00</td>\n",
       "      <td>6.00</td>\n",
       "      <td>1</td>\n",
       "      <td>2018-12-19</td>\n",
       "      <td>21.40</td>\n",
       "      <td>23.00</td>\n",
       "      <td>0.00</td>\n",
       "      <td>4.00</td>\n",
       "      <td>0.00</td>\n",
       "      <td>Ciudad Real</td>\n",
       "      <td>Torralba de Calatrava</td>\n",
       "      <td>2012</td>\n",
       "      <td>PE</td>\n",
       "      <td>Gas natural</td>\n",
       "      <td>0.06</td>\n",
       "      <td>7.79</td>\n",
       "      <td>0.40</td>\n",
       "      <td>0</td>\n",
       "      <td>0</td>\n",
       "      <td>0</td>\n",
       "      <td>49.47</td>\n",
       "      <td>0.16</td>\n",
       "      <td>1.54</td>\n",
       "      <td>0</td>\n",
       "      <td>0.00</td>\n",
       "      <td>0</td>\n",
       "      <td>0</td>\n",
       "      <td>0</td>\n",
       "      <td>0</td>\n",
       "    </tr>\n",
       "    <tr>\n",
       "      <th>4</th>\n",
       "      <td>489616</td>\n",
       "      <td>5</td>\n",
       "      <td>0.00</td>\n",
       "      <td>2020.00</td>\n",
       "      <td>0.00</td>\n",
       "      <td>0.00</td>\n",
       "      <td>8.00</td>\n",
       "      <td>1</td>\n",
       "      <td>2020-12-05</td>\n",
       "      <td>21.40</td>\n",
       "      <td>24.00</td>\n",
       "      <td>0.00</td>\n",
       "      <td>4.00</td>\n",
       "      <td>0.00</td>\n",
       "      <td>Ciudad Real</td>\n",
       "      <td>Torralba de Calatrava</td>\n",
       "      <td>2012</td>\n",
       "      <td>PE</td>\n",
       "      <td>Gas natural</td>\n",
       "      <td>0.06</td>\n",
       "      <td>7.79</td>\n",
       "      <td>0.40</td>\n",
       "      <td>0</td>\n",
       "      <td>0</td>\n",
       "      <td>0</td>\n",
       "      <td>49.47</td>\n",
       "      <td>0.16</td>\n",
       "      <td>1.54</td>\n",
       "      <td>0</td>\n",
       "      <td>0.00</td>\n",
       "      <td>0</td>\n",
       "      <td>0</td>\n",
       "      <td>0</td>\n",
       "      <td>0</td>\n",
       "    </tr>\n",
       "  </tbody>\n",
       "</table>\n",
       "</div>"
      ],
      "text/plain": [
       "   PipeId  No_Inspections  No_Incidents  InspectionYear  Probability_rate  \\\n",
       "0  489616               5          0.00         2013.00              0.00   \n",
       "1  489616               5          0.00         2015.00              0.00   \n",
       "2  489616               5          0.00         2016.00              0.00   \n",
       "3  489616               5          0.00         2018.00              0.00   \n",
       "4  489616               5          0.00         2020.00              0.00   \n",
       "\n",
       "   preventive_maintenance_rate  Age_pipe_at_inspection  \\\n",
       "0                         0.00                    1.00   \n",
       "1                         0.00                    3.00   \n",
       "2                         0.00                    4.00   \n",
       "3                         0.00                    6.00   \n",
       "4                         0.00                    8.00   \n",
       "\n",
       "   pipe_inspected_frequently InspectionDate  Average_MonthsLastRev  \\\n",
       "0                          1     2013-05-08                  21.40   \n",
       "1                          1     2015-03-04                  21.40   \n",
       "2                          1     2017-01-12                  21.40   \n",
       "3                          1     2018-12-19                  21.40   \n",
       "4                          1     2020-12-05                  21.40   \n",
       "\n",
       "   MonthsLastRev  relative_risk  average_severity_pipe  Incidence  \\\n",
       "0          16.00           0.00                   4.00       0.00   \n",
       "1          22.00           0.00                   4.00       0.00   \n",
       "2          22.00           0.00                   4.00       0.00   \n",
       "3          23.00           0.00                   4.00       0.00   \n",
       "4          24.00           0.00                   4.00       0.00   \n",
       "\n",
       "      Province                   Town  YearBuilt Material      GasType  \\\n",
       "0  Ciudad Real  Torralba de Calatrava       2012       PE  Gas natural   \n",
       "1  Ciudad Real  Torralba de Calatrava       2012       PE  Gas natural   \n",
       "2  Ciudad Real  Torralba de Calatrava       2012       PE  Gas natural   \n",
       "3  Ciudad Real  Torralba de Calatrava       2012       PE  Gas natural   \n",
       "4  Ciudad Real  Torralba de Calatrava       2012       PE  Gas natural   \n",
       "\n",
       "   Diameter  Length  Pressure  NumConnections  NumConnectionsUnder  \\\n",
       "0      0.06    7.79      0.40               0                    0   \n",
       "1      0.06    7.79      0.40               0                    0   \n",
       "2      0.06    7.79      0.40               0                    0   \n",
       "3      0.06    7.79      0.40               0                    0   \n",
       "4      0.06    7.79      0.40               0                    0   \n",
       "\n",
       "   BoolBridle  aspect  Relative_Thickness  pipe_area  Total_Connections  \\\n",
       "0           0   49.47                0.16       1.54                  0   \n",
       "1           0   49.47                0.16       1.54                  0   \n",
       "2           0   49.47                0.16       1.54                  0   \n",
       "3           0   49.47                0.16       1.54                  0   \n",
       "4           0   49.47                0.16       1.54                  0   \n",
       "\n",
       "   area_connection  connection_bool  Severity_high  Severity_medium  \\\n",
       "0             0.00                0              0                0   \n",
       "1             0.00                0              0                0   \n",
       "2             0.00                0              0                0   \n",
       "3             0.00                0              0                0   \n",
       "4             0.00                0              0                0   \n",
       "\n",
       "   Severity_low  \n",
       "0             0  \n",
       "1             0  \n",
       "2             0  \n",
       "3             0  \n",
       "4             0  "
      ]
     },
     "execution_count": 124,
     "metadata": {},
     "output_type": "execute_result"
    }
   ],
   "source": [
    "train_copy.head()"
   ]
  },
  {
   "cell_type": "code",
   "execution_count": 125,
   "id": "075eed81",
   "metadata": {},
   "outputs": [],
   "source": [
    "#create a boolean column named GasType_bool that is 1 if GasType is equal to Natural Gas\n",
    "train_copy['GasType_bool'] = np.where(train_copy['GasType'] == 'Natural Gas', 1, 0)"
   ]
  },
  {
   "attachments": {},
   "cell_type": "markdown",
   "id": "14422ab8",
   "metadata": {},
   "source": []
  },
  {
   "cell_type": "code",
   "execution_count": 127,
   "id": "abe968ce",
   "metadata": {},
   "outputs": [
    {
     "data": {
      "text/plain": [
       "svmem(total=34052284416, available=12796907520, percent=62.4, used=21255376896, free=12796907520)"
      ]
     },
     "execution_count": 127,
     "metadata": {},
     "output_type": "execute_result"
    }
   ],
   "source": [
    "#how much RAM is being used\n",
    "import psutil\n",
    "psutil.virtual_memory()\n"
   ]
  },
  {
   "cell_type": "code",
   "execution_count": 128,
   "id": "a36cc8c9",
   "metadata": {},
   "outputs": [
    {
     "name": "stdout",
     "output_type": "stream",
     "text": [
      "['PE' 'AO' 'PN' 'CU' 'FD' 'ZD' 'PV' 'PA' 'FI' 'FG' 'FO']\n"
     ]
    }
   ],
   "source": [
    "print (train_copy['Material'].unique())"
   ]
  },
  {
   "cell_type": "code",
   "execution_count": 129,
   "id": "e662ec6d",
   "metadata": {},
   "outputs": [],
   "source": [
    "#Map df_combined Material column to the names of materials\n",
    "train_copy['Material'] = train_copy['Material'].map({'PE': 'Polyethylene', 'AO': 'Acrylonitrile-Butadiene-Styrene', 'FD': 'Fiberglass-Reinforced Plastic', \n",
    "    'FG': 'Fiberglass', 'PN': 'Polypropylene', 'PA': 'Polyamide', 'FO': 'Flexible Polyolefin', 'FI': 'Flexible Polyvinyl Chloride', 'CU': 'Copper', \n",
    "    'PV': 'Polyvinylidene Fluoride', 'ZD': 'Zinc-Coated Steel', 'ZA': 'Zinc-Aluminum', 'CP': 'Cast Iron', 'CS': 'Cast Steel', \n",
    "    'ZC': 'Zinc-Coated Steel', 'ZM': 'Zinc-Magnesium','ZN': 'Zinc', 'AL': 'Aluminum', 'ZP': 'Zinc-Coated Steel', 'ZF': 'Zinc-Aluminum-Magnesium'})\n"
   ]
  },
  {
   "cell_type": "code",
   "execution_count": 130,
   "id": "1eadf041",
   "metadata": {},
   "outputs": [
    {
     "data": {
      "text/html": [
       "<div>\n",
       "<style scoped>\n",
       "    .dataframe tbody tr th:only-of-type {\n",
       "        vertical-align: middle;\n",
       "    }\n",
       "\n",
       "    .dataframe tbody tr th {\n",
       "        vertical-align: top;\n",
       "    }\n",
       "\n",
       "    .dataframe thead th {\n",
       "        text-align: right;\n",
       "    }\n",
       "</style>\n",
       "<table border=\"1\" class=\"dataframe\">\n",
       "  <thead>\n",
       "    <tr style=\"text-align: right;\">\n",
       "      <th></th>\n",
       "      <th>PipeId</th>\n",
       "      <th>No_Inspections</th>\n",
       "      <th>No_Incidents</th>\n",
       "      <th>InspectionYear</th>\n",
       "      <th>Probability_rate</th>\n",
       "      <th>preventive_maintenance_rate</th>\n",
       "      <th>Age_pipe_at_inspection</th>\n",
       "      <th>pipe_inspected_frequently</th>\n",
       "      <th>InspectionDate</th>\n",
       "      <th>Average_MonthsLastRev</th>\n",
       "      <th>MonthsLastRev</th>\n",
       "      <th>relative_risk</th>\n",
       "      <th>average_severity_pipe</th>\n",
       "      <th>Incidence</th>\n",
       "      <th>Province</th>\n",
       "      <th>Town</th>\n",
       "      <th>YearBuilt</th>\n",
       "      <th>Diameter</th>\n",
       "      <th>Length</th>\n",
       "      <th>Pressure</th>\n",
       "      <th>NumConnections</th>\n",
       "      <th>NumConnectionsUnder</th>\n",
       "      <th>BoolBridle</th>\n",
       "      <th>aspect</th>\n",
       "      <th>Relative_Thickness</th>\n",
       "      <th>pipe_area</th>\n",
       "      <th>Total_Connections</th>\n",
       "      <th>area_connection</th>\n",
       "      <th>connection_bool</th>\n",
       "      <th>Severity_high</th>\n",
       "      <th>Severity_medium</th>\n",
       "      <th>Severity_low</th>\n",
       "      <th>GasType_bool</th>\n",
       "      <th>Material_Acrylonitrile-Butadiene-Styrene</th>\n",
       "      <th>Material_Copper</th>\n",
       "      <th>Material_Fiberglass-Reinforced Plastic</th>\n",
       "      <th>Material_Polyethylene</th>\n",
       "      <th>Material_Polypropylene</th>\n",
       "    </tr>\n",
       "  </thead>\n",
       "  <tbody>\n",
       "    <tr>\n",
       "      <th>0</th>\n",
       "      <td>489616</td>\n",
       "      <td>5</td>\n",
       "      <td>0.00</td>\n",
       "      <td>2013.00</td>\n",
       "      <td>0.00</td>\n",
       "      <td>0.00</td>\n",
       "      <td>1.00</td>\n",
       "      <td>1</td>\n",
       "      <td>2013-05-08</td>\n",
       "      <td>21.40</td>\n",
       "      <td>16.00</td>\n",
       "      <td>0.00</td>\n",
       "      <td>4.00</td>\n",
       "      <td>0.00</td>\n",
       "      <td>Ciudad Real</td>\n",
       "      <td>Torralba de Calatrava</td>\n",
       "      <td>2012</td>\n",
       "      <td>0.06</td>\n",
       "      <td>7.79</td>\n",
       "      <td>0.40</td>\n",
       "      <td>0</td>\n",
       "      <td>0</td>\n",
       "      <td>0</td>\n",
       "      <td>49.47</td>\n",
       "      <td>0.16</td>\n",
       "      <td>1.54</td>\n",
       "      <td>0</td>\n",
       "      <td>0.00</td>\n",
       "      <td>0</td>\n",
       "      <td>0</td>\n",
       "      <td>0</td>\n",
       "      <td>0</td>\n",
       "      <td>0</td>\n",
       "      <td>0</td>\n",
       "      <td>0</td>\n",
       "      <td>0</td>\n",
       "      <td>1</td>\n",
       "      <td>0</td>\n",
       "    </tr>\n",
       "  </tbody>\n",
       "</table>\n",
       "</div>"
      ],
      "text/plain": [
       "   PipeId  No_Inspections  No_Incidents  InspectionYear  Probability_rate  \\\n",
       "0  489616               5          0.00         2013.00              0.00   \n",
       "\n",
       "   preventive_maintenance_rate  Age_pipe_at_inspection  \\\n",
       "0                         0.00                    1.00   \n",
       "\n",
       "   pipe_inspected_frequently InspectionDate  Average_MonthsLastRev  \\\n",
       "0                          1     2013-05-08                  21.40   \n",
       "\n",
       "   MonthsLastRev  relative_risk  average_severity_pipe  Incidence  \\\n",
       "0          16.00           0.00                   4.00       0.00   \n",
       "\n",
       "      Province                   Town  YearBuilt  Diameter  Length  Pressure  \\\n",
       "0  Ciudad Real  Torralba de Calatrava       2012      0.06    7.79      0.40   \n",
       "\n",
       "   NumConnections  NumConnectionsUnder  BoolBridle  aspect  \\\n",
       "0               0                    0           0   49.47   \n",
       "\n",
       "   Relative_Thickness  pipe_area  Total_Connections  area_connection  \\\n",
       "0                0.16       1.54                  0             0.00   \n",
       "\n",
       "   connection_bool  Severity_high  Severity_medium  Severity_low  \\\n",
       "0                0              0                0             0   \n",
       "\n",
       "   GasType_bool  Material_Acrylonitrile-Butadiene-Styrene  Material_Copper  \\\n",
       "0             0                                         0                0   \n",
       "\n",
       "   Material_Fiberglass-Reinforced Plastic  Material_Polyethylene  \\\n",
       "0                                       0                      1   \n",
       "\n",
       "   Material_Polypropylene  \n",
       "0                       0  "
      ]
     },
     "execution_count": 130,
     "metadata": {},
     "output_type": "execute_result"
    }
   ],
   "source": [
    "#Hot enconde Material column in the train_copy dataframe subset\n",
    "train_copy = pd.get_dummies(train_copy, columns=['Material'])\n",
    "train_copy = train_copy.drop(['Material_Fiberglass', 'Material_Zinc-Coated Steel', 'Material_Polyvinylidene Fluoride','Material_Flexible Polyolefin', 'Material_Flexible Polyvinyl Chloride', 'Material_Polyamide'], axis=1)\n",
    "train_copy.head(1)"
   ]
  },
  {
   "cell_type": "code",
   "execution_count": 131,
   "id": "e335b3dd",
   "metadata": {},
   "outputs": [
    {
     "data": {
      "text/plain": [
       "Index(['PipeId', 'No_Inspections', 'No_Incidents', 'InspectionYear',\n",
       "       'Probability_rate', 'preventive_maintenance_rate',\n",
       "       'Age_pipe_at_inspection', 'pipe_inspected_frequently', 'InspectionDate',\n",
       "       'Average_MonthsLastRev', 'MonthsLastRev', 'relative_risk',\n",
       "       'average_severity_pipe', 'Incidence', 'Province', 'Town', 'YearBuilt',\n",
       "       'Diameter', 'Length', 'Pressure', 'NumConnections',\n",
       "       'NumConnectionsUnder', 'BoolBridle', 'aspect', 'Relative_Thickness',\n",
       "       'pipe_area', 'Total_Connections', 'area_connection', 'connection_bool',\n",
       "       'Severity_high', 'Severity_medium', 'Severity_low', 'GasType_bool',\n",
       "       'Material_Acrylonitrile-Butadiene-Styrene', 'Material_Copper',\n",
       "       'Material_Fiberglass-Reinforced Plastic', 'Material_Polyethylene',\n",
       "       'Material_Polypropylene'],\n",
       "      dtype='object')"
      ]
     },
     "execution_count": 131,
     "metadata": {},
     "output_type": "execute_result"
    }
   ],
   "source": [
    "train_copy.columns"
   ]
  },
  {
   "cell_type": "code",
   "execution_count": 132,
   "id": "554afd49",
   "metadata": {},
   "outputs": [
    {
     "data": {
      "text/html": [
       "<div>\n",
       "<style scoped>\n",
       "    .dataframe tbody tr th:only-of-type {\n",
       "        vertical-align: middle;\n",
       "    }\n",
       "\n",
       "    .dataframe tbody tr th {\n",
       "        vertical-align: top;\n",
       "    }\n",
       "\n",
       "    .dataframe thead th {\n",
       "        text-align: right;\n",
       "    }\n",
       "</style>\n",
       "<table border=\"1\" class=\"dataframe\">\n",
       "  <thead>\n",
       "    <tr style=\"text-align: right;\">\n",
       "      <th></th>\n",
       "      <th>PipeId</th>\n",
       "      <th>No_Inspections</th>\n",
       "      <th>No_Incidents</th>\n",
       "      <th>InspectionYear</th>\n",
       "      <th>Probability_rate</th>\n",
       "      <th>preventive_maintenance_rate</th>\n",
       "      <th>Age_pipe_at_inspection</th>\n",
       "      <th>pipe_inspected_frequently</th>\n",
       "      <th>InspectionDate</th>\n",
       "      <th>Average_MonthsLastRev</th>\n",
       "      <th>MonthsLastRev</th>\n",
       "      <th>relative_risk</th>\n",
       "      <th>average_severity_pipe</th>\n",
       "      <th>Incidence</th>\n",
       "      <th>Province</th>\n",
       "      <th>Town</th>\n",
       "      <th>YearBuilt</th>\n",
       "      <th>Diameter</th>\n",
       "      <th>Length</th>\n",
       "      <th>Pressure</th>\n",
       "      <th>NumConnections</th>\n",
       "      <th>NumConnectionsUnder</th>\n",
       "      <th>BoolBridle</th>\n",
       "      <th>aspect</th>\n",
       "      <th>Relative_Thickness</th>\n",
       "      <th>pipe_area</th>\n",
       "      <th>Total_Connections</th>\n",
       "      <th>area_connection</th>\n",
       "      <th>connection_bool</th>\n",
       "      <th>Severity_high</th>\n",
       "      <th>Severity_medium</th>\n",
       "      <th>Severity_low</th>\n",
       "      <th>GasType_bool</th>\n",
       "      <th>Material_Acrylonitrile-Butadiene-Styrene</th>\n",
       "      <th>Material_Copper</th>\n",
       "      <th>Material_Fiberglass-Reinforced Plastic</th>\n",
       "      <th>Material_Polyethylene</th>\n",
       "      <th>Material_Polypropylene</th>\n",
       "      <th>Diameter2</th>\n",
       "      <th>Length2</th>\n",
       "      <th>Pressure2</th>\n",
       "    </tr>\n",
       "  </thead>\n",
       "  <tbody>\n",
       "    <tr>\n",
       "      <th>0</th>\n",
       "      <td>489616</td>\n",
       "      <td>5</td>\n",
       "      <td>0.00</td>\n",
       "      <td>2013.00</td>\n",
       "      <td>0.00</td>\n",
       "      <td>0.00</td>\n",
       "      <td>1.00</td>\n",
       "      <td>1</td>\n",
       "      <td>2013-05-08</td>\n",
       "      <td>21.40</td>\n",
       "      <td>16.00</td>\n",
       "      <td>0.00</td>\n",
       "      <td>4.00</td>\n",
       "      <td>0.00</td>\n",
       "      <td>Ciudad Real</td>\n",
       "      <td>Torralba de Calatrava</td>\n",
       "      <td>2012</td>\n",
       "      <td>0.06</td>\n",
       "      <td>7.79</td>\n",
       "      <td>0.40</td>\n",
       "      <td>0</td>\n",
       "      <td>0</td>\n",
       "      <td>0</td>\n",
       "      <td>49.47</td>\n",
       "      <td>0.16</td>\n",
       "      <td>1.54</td>\n",
       "      <td>0</td>\n",
       "      <td>0.00</td>\n",
       "      <td>0</td>\n",
       "      <td>0</td>\n",
       "      <td>0</td>\n",
       "      <td>0</td>\n",
       "      <td>0</td>\n",
       "      <td>0</td>\n",
       "      <td>0</td>\n",
       "      <td>0</td>\n",
       "      <td>1</td>\n",
       "      <td>0</td>\n",
       "      <td>0.00</td>\n",
       "      <td>60.72</td>\n",
       "      <td>0.16</td>\n",
       "    </tr>\n",
       "  </tbody>\n",
       "</table>\n",
       "</div>"
      ],
      "text/plain": [
       "   PipeId  No_Inspections  No_Incidents  InspectionYear  Probability_rate  \\\n",
       "0  489616               5          0.00         2013.00              0.00   \n",
       "\n",
       "   preventive_maintenance_rate  Age_pipe_at_inspection  \\\n",
       "0                         0.00                    1.00   \n",
       "\n",
       "   pipe_inspected_frequently InspectionDate  Average_MonthsLastRev  \\\n",
       "0                          1     2013-05-08                  21.40   \n",
       "\n",
       "   MonthsLastRev  relative_risk  average_severity_pipe  Incidence  \\\n",
       "0          16.00           0.00                   4.00       0.00   \n",
       "\n",
       "      Province                   Town  YearBuilt  Diameter  Length  Pressure  \\\n",
       "0  Ciudad Real  Torralba de Calatrava       2012      0.06    7.79      0.40   \n",
       "\n",
       "   NumConnections  NumConnectionsUnder  BoolBridle  aspect  \\\n",
       "0               0                    0           0   49.47   \n",
       "\n",
       "   Relative_Thickness  pipe_area  Total_Connections  area_connection  \\\n",
       "0                0.16       1.54                  0             0.00   \n",
       "\n",
       "   connection_bool  Severity_high  Severity_medium  Severity_low  \\\n",
       "0                0              0                0             0   \n",
       "\n",
       "   GasType_bool  Material_Acrylonitrile-Butadiene-Styrene  Material_Copper  \\\n",
       "0             0                                         0                0   \n",
       "\n",
       "   Material_Fiberglass-Reinforced Plastic  Material_Polyethylene  \\\n",
       "0                                       0                      1   \n",
       "\n",
       "   Material_Polypropylene  Diameter2  Length2  Pressure2  \n",
       "0                       0       0.00    60.72       0.16  "
      ]
     },
     "execution_count": 132,
     "metadata": {},
     "output_type": "execute_result"
    }
   ],
   "source": [
    "#create polinomial features in train_copy for Diameter, Length, Pressure\n",
    "poly = PolynomialFeatures(2)\n",
    "train_copy['Diameter2'] = poly.fit_transform(train_copy[['Diameter']])[:,2]\n",
    "train_copy['Length2'] = poly.fit_transform(train_copy[['Length']])[:,2]\n",
    "train_copy['Pressure2'] = poly.fit_transform(train_copy[['Pressure']])[:,2]\n",
    "train_copy.head(1)\n",
    "\n"
   ]
  },
  {
   "attachments": {},
   "cell_type": "markdown",
   "id": "ee189e5b",
   "metadata": {},
   "source": [
    "# Dropping \n",
    "\n",
    "Mkaing df lighter just before joining"
   ]
  },
  {
   "cell_type": "code",
   "execution_count": 114,
   "id": "7b85ee09",
   "metadata": {},
   "outputs": [
    {
     "data": {
      "text/plain": [
       "(6364029, 41)"
      ]
     },
     "execution_count": 114,
     "metadata": {},
     "output_type": "execute_result"
    },
    {
     "data": {
      "text/plain": [
       "PipeId                                          0\n",
       "No_Inspections                                  0\n",
       "No_Incidents                                    0\n",
       "InspectionYear                              18685\n",
       "Probability_rate                            18685\n",
       "preventive_maintenance_rate                 18685\n",
       "Age_pipe_at_inspection                      18685\n",
       "pipe_inspected_frequently                       0\n",
       "Average_MonthsLastRev                       18685\n",
       "MonthsLastRev                               18685\n",
       "relative_risk                               18685\n",
       "average_severity_pipe                       18685\n",
       "Incidence                                   18685\n",
       "Province                                        0\n",
       "Town                                            0\n",
       "YearBuilt                                       0\n",
       "Diameter                                        0\n",
       "Length                                          0\n",
       "Pressure                                        0\n",
       "NumConnections                                  0\n",
       "NumConnectionsUnder                             0\n",
       "BoolBridle                                      0\n",
       "aspect                                          0\n",
       "Relative_Thickness                              0\n",
       "pipe_area                                       0\n",
       "area_connection                                 7\n",
       "incidence_area                              18692\n",
       "connection_bool                                 0\n",
       "Severity_high                                   0\n",
       "Severity_medium                                 0\n",
       "Severity_low                                    0\n",
       "gas_natural                                     0\n",
       "Material_Acrylonitrile-Butadiene-Styrene        0\n",
       "Material_Copper                                 0\n",
       "Material_Fiberglass-Reinforced Plastic          0\n",
       "Material_Polyethylene                           0\n",
       "Material_Polypropylene                          0\n",
       "Diameter2                                       0\n",
       "Length2                                         0\n",
       "Pressure2                                       0\n",
       "dtype: int64"
      ]
     },
     "execution_count": 114,
     "metadata": {},
     "output_type": "execute_result"
    }
   ],
   "source": [
    "train_copy.shape\n",
    "#delete the rows with YearBuilt higher than InspectionYear\n",
    "train_copy = train_copy.drop(train_copy[(train_copy['YearBuilt'] > train_copy['InspectionYear'])].index)\n",
    "train_copy.drop('InspectionDate', axis=1, inplace=True)\n",
    "#show null values in train_copy\n",
    "train_copy.isnull().sum()\n",
    "    \n",
    "#delete nulls from train_copy\n",
    "train_copy = train_copy.dropna()\n",
    "\n",
    "#drop GasType column\n",
    "train_copy = train_copy.drop(['GasType'], axis=1)\n"
   ]
  },
  {
   "cell_type": "code",
   "execution_count": 116,
   "id": "8fa35d38",
   "metadata": {},
   "outputs": [
    {
     "data": {
      "text/plain": [
       "PipeId                                      0\n",
       "No_Inspections                              0\n",
       "No_Incidents                                0\n",
       "InspectionYear                              0\n",
       "Probability_rate                            0\n",
       "preventive_maintenance_rate                 0\n",
       "Age_pipe_at_inspection                      0\n",
       "pipe_inspected_frequently                   0\n",
       "Average_MonthsLastRev                       0\n",
       "MonthsLastRev                               0\n",
       "relative_risk                               0\n",
       "average_severity_pipe                       0\n",
       "Incidence                                   0\n",
       "Province                                    0\n",
       "Town                                        0\n",
       "YearBuilt                                   0\n",
       "Diameter                                    0\n",
       "Length                                      0\n",
       "Pressure                                    0\n",
       "NumConnections                              0\n",
       "NumConnectionsUnder                         0\n",
       "BoolBridle                                  0\n",
       "aspect                                      0\n",
       "Relative_Thickness                          0\n",
       "pipe_area                                   0\n",
       "area_connection                             0\n",
       "incidence_area                              0\n",
       "connection_bool                             0\n",
       "Severity_high                               0\n",
       "Severity_medium                             0\n",
       "Severity_low                                0\n",
       "gas_natural                                 0\n",
       "Material_Acrylonitrile-Butadiene-Styrene    0\n",
       "Material_Copper                             0\n",
       "Material_Fiberglass-Reinforced Plastic      0\n",
       "Material_Polyethylene                       0\n",
       "Material_Polypropylene                      0\n",
       "Diameter2                                   0\n",
       "Length2                                     0\n",
       "Pressure2                                   0\n",
       "dtype: int64"
      ]
     },
     "execution_count": 116,
     "metadata": {},
     "output_type": "execute_result"
    }
   ],
   "source": [
    "#show null values in train_copy\n",
    "train_copy.isnull().sum()\n",
    "    "
   ]
  },
  {
   "cell_type": "code",
   "execution_count": 118,
   "id": "564a32d7",
   "metadata": {},
   "outputs": [],
   "source": [
    "# free up memory\n",
    "del df_inspection\n",
    "del df_network\n",
    "del network_unique\n",
    "del train\n",
    "del df_sample_submission\n",
    "del df_sample\n",
    "del sample_unique"
   ]
  },
  {
   "cell_type": "markdown",
   "id": "cb7c6610",
   "metadata": {},
   "source": [
    "# Adding a new dataset\n",
    "We want to extract value of two categorical variables, Town and Province but the way we have them now they are useless.\n",
    "\n",
    "We will add a new dataset to join and extract the surface of each town as well as the comunidad autonoma to group by accordingly in another column the number of towns and afterwards hot encode\n"
   ]
  },
  {
   "cell_type": "code",
   "execution_count": 119,
   "id": "9b5189a8",
   "metadata": {},
   "outputs": [
    {
     "data": {
      "text/plain": [
       "Madrid                   399795\n",
       "Barcelona                289612\n",
       "Valencia                 123699\n",
       "Sevilla                  100704\n",
       "Terrassa                  77787\n",
       "                          ...  \n",
       "Geria                         1\n",
       "Cavia                         1\n",
       "Valdeverdeja                  1\n",
       "Villalba de la Sierra         1\n",
       "Cervera del Llano             1\n",
       "Name: Town, Length: 1960, dtype: int64"
      ]
     },
     "execution_count": 119,
     "metadata": {},
     "output_type": "execute_result"
    },
    {
     "data": {
      "text/plain": [
       "array(['Torralba de Calatrava', 'Añover de Tajo', 'Benijofar', ...,\n",
       "       'Alqueria de la Condesa/Al', 'Paderne', 'Paracuellos del Jarama'],\n",
       "      dtype=object)"
      ]
     },
     "execution_count": 119,
     "metadata": {},
     "output_type": "execute_result"
    }
   ],
   "source": [
    "#count towns populating Town column\n",
    "train_copy['Town'].value_counts()\n",
    "train_copy['Town'].unique()"
   ]
  },
  {
   "cell_type": "code",
   "execution_count": 120,
   "id": "f8e80bb9",
   "metadata": {},
   "outputs": [],
   "source": [
    "#point to the folder where the data is stored\n",
    "os.chdir(r\"C:\\Users\\pedro\\datathon\\base\\complementary_datasets\")\n",
    "\n",
    "# Loading provincias dataset\n",
    "provincias = pd.read_excel('promedio_tiempo_provincia_anual.xlsx')\n",
    "\n",
    "#Loading municipios dataset\n",
    "#df_mun = pd.read_excel('list-mun-2012.xls')\n"
   ]
  },
  {
   "cell_type": "code",
   "execution_count": 121,
   "id": "6a17e009",
   "metadata": {},
   "outputs": [
    {
     "data": {
      "text/html": [
       "<div>\n",
       "<style scoped>\n",
       "    .dataframe tbody tr th:only-of-type {\n",
       "        vertical-align: middle;\n",
       "    }\n",
       "\n",
       "    .dataframe tbody tr th {\n",
       "        vertical-align: top;\n",
       "    }\n",
       "\n",
       "    .dataframe thead th {\n",
       "        text-align: right;\n",
       "    }\n",
       "</style>\n",
       "<table border=\"1\" class=\"dataframe\">\n",
       "  <thead>\n",
       "    <tr style=\"text-align: right;\">\n",
       "      <th></th>\n",
       "      <th>PipeId</th>\n",
       "      <th>No_Inspections</th>\n",
       "      <th>No_Incidents</th>\n",
       "      <th>InspectionYear</th>\n",
       "      <th>Probability_rate</th>\n",
       "      <th>preventive_maintenance_rate</th>\n",
       "      <th>Age_pipe_at_inspection</th>\n",
       "      <th>pipe_inspected_frequently</th>\n",
       "      <th>Average_MonthsLastRev</th>\n",
       "      <th>MonthsLastRev</th>\n",
       "      <th>relative_risk</th>\n",
       "      <th>average_severity_pipe</th>\n",
       "      <th>Incidence</th>\n",
       "      <th>Province</th>\n",
       "      <th>Town</th>\n",
       "      <th>YearBuilt</th>\n",
       "      <th>Diameter</th>\n",
       "      <th>Length</th>\n",
       "      <th>Pressure</th>\n",
       "      <th>NumConnections</th>\n",
       "      <th>NumConnectionsUnder</th>\n",
       "      <th>BoolBridle</th>\n",
       "      <th>aspect</th>\n",
       "      <th>Relative_Thickness</th>\n",
       "      <th>pipe_area</th>\n",
       "      <th>area_connection</th>\n",
       "      <th>incidence_area</th>\n",
       "      <th>connection_bool</th>\n",
       "      <th>Severity_high</th>\n",
       "      <th>Severity_medium</th>\n",
       "      <th>Severity_low</th>\n",
       "      <th>gas_natural</th>\n",
       "      <th>Material_Acrylonitrile-Butadiene-Styrene</th>\n",
       "      <th>Material_Copper</th>\n",
       "      <th>Material_Fiberglass-Reinforced Plastic</th>\n",
       "      <th>Material_Polyethylene</th>\n",
       "      <th>Material_Polypropylene</th>\n",
       "      <th>Diameter2</th>\n",
       "      <th>Length2</th>\n",
       "      <th>Pressure2</th>\n",
       "    </tr>\n",
       "  </thead>\n",
       "  <tbody>\n",
       "    <tr>\n",
       "      <th>0</th>\n",
       "      <td>489616</td>\n",
       "      <td>5</td>\n",
       "      <td>0.00</td>\n",
       "      <td>2013.00</td>\n",
       "      <td>0.00</td>\n",
       "      <td>0.00</td>\n",
       "      <td>1.00</td>\n",
       "      <td>1</td>\n",
       "      <td>21.40</td>\n",
       "      <td>16.00</td>\n",
       "      <td>0.00</td>\n",
       "      <td>4.00</td>\n",
       "      <td>0.00</td>\n",
       "      <td>ciudad real</td>\n",
       "      <td>Torralba de Calatrava</td>\n",
       "      <td>2012</td>\n",
       "      <td>0.06</td>\n",
       "      <td>7.79</td>\n",
       "      <td>0.40</td>\n",
       "      <td>0</td>\n",
       "      <td>0</td>\n",
       "      <td>0</td>\n",
       "      <td>0.81</td>\n",
       "      <td>0.16</td>\n",
       "      <td>1.54</td>\n",
       "      <td>0.00</td>\n",
       "      <td>0.00</td>\n",
       "      <td>0</td>\n",
       "      <td>0</td>\n",
       "      <td>0</td>\n",
       "      <td>0</td>\n",
       "      <td>1</td>\n",
       "      <td>0</td>\n",
       "      <td>0</td>\n",
       "      <td>0</td>\n",
       "      <td>1</td>\n",
       "      <td>0</td>\n",
       "      <td>0.00</td>\n",
       "      <td>60.72</td>\n",
       "      <td>0.16</td>\n",
       "    </tr>\n",
       "    <tr>\n",
       "      <th>1</th>\n",
       "      <td>489616</td>\n",
       "      <td>5</td>\n",
       "      <td>0.00</td>\n",
       "      <td>2015.00</td>\n",
       "      <td>0.00</td>\n",
       "      <td>0.00</td>\n",
       "      <td>3.00</td>\n",
       "      <td>1</td>\n",
       "      <td>21.40</td>\n",
       "      <td>22.00</td>\n",
       "      <td>0.00</td>\n",
       "      <td>4.00</td>\n",
       "      <td>0.00</td>\n",
       "      <td>ciudad real</td>\n",
       "      <td>Torralba de Calatrava</td>\n",
       "      <td>2012</td>\n",
       "      <td>0.06</td>\n",
       "      <td>7.79</td>\n",
       "      <td>0.40</td>\n",
       "      <td>0</td>\n",
       "      <td>0</td>\n",
       "      <td>0</td>\n",
       "      <td>0.81</td>\n",
       "      <td>0.16</td>\n",
       "      <td>1.54</td>\n",
       "      <td>0.00</td>\n",
       "      <td>0.00</td>\n",
       "      <td>0</td>\n",
       "      <td>0</td>\n",
       "      <td>0</td>\n",
       "      <td>0</td>\n",
       "      <td>1</td>\n",
       "      <td>0</td>\n",
       "      <td>0</td>\n",
       "      <td>0</td>\n",
       "      <td>1</td>\n",
       "      <td>0</td>\n",
       "      <td>0.00</td>\n",
       "      <td>60.72</td>\n",
       "      <td>0.16</td>\n",
       "    </tr>\n",
       "    <tr>\n",
       "      <th>2</th>\n",
       "      <td>489616</td>\n",
       "      <td>5</td>\n",
       "      <td>0.00</td>\n",
       "      <td>2016.00</td>\n",
       "      <td>0.00</td>\n",
       "      <td>0.00</td>\n",
       "      <td>4.00</td>\n",
       "      <td>1</td>\n",
       "      <td>21.40</td>\n",
       "      <td>22.00</td>\n",
       "      <td>0.00</td>\n",
       "      <td>4.00</td>\n",
       "      <td>0.00</td>\n",
       "      <td>ciudad real</td>\n",
       "      <td>Torralba de Calatrava</td>\n",
       "      <td>2012</td>\n",
       "      <td>0.06</td>\n",
       "      <td>7.79</td>\n",
       "      <td>0.40</td>\n",
       "      <td>0</td>\n",
       "      <td>0</td>\n",
       "      <td>0</td>\n",
       "      <td>0.81</td>\n",
       "      <td>0.16</td>\n",
       "      <td>1.54</td>\n",
       "      <td>0.00</td>\n",
       "      <td>0.00</td>\n",
       "      <td>0</td>\n",
       "      <td>0</td>\n",
       "      <td>0</td>\n",
       "      <td>0</td>\n",
       "      <td>1</td>\n",
       "      <td>0</td>\n",
       "      <td>0</td>\n",
       "      <td>0</td>\n",
       "      <td>1</td>\n",
       "      <td>0</td>\n",
       "      <td>0.00</td>\n",
       "      <td>60.72</td>\n",
       "      <td>0.16</td>\n",
       "    </tr>\n",
       "    <tr>\n",
       "      <th>3</th>\n",
       "      <td>489616</td>\n",
       "      <td>5</td>\n",
       "      <td>0.00</td>\n",
       "      <td>2018.00</td>\n",
       "      <td>0.00</td>\n",
       "      <td>0.00</td>\n",
       "      <td>6.00</td>\n",
       "      <td>1</td>\n",
       "      <td>21.40</td>\n",
       "      <td>23.00</td>\n",
       "      <td>0.00</td>\n",
       "      <td>4.00</td>\n",
       "      <td>0.00</td>\n",
       "      <td>ciudad real</td>\n",
       "      <td>Torralba de Calatrava</td>\n",
       "      <td>2012</td>\n",
       "      <td>0.06</td>\n",
       "      <td>7.79</td>\n",
       "      <td>0.40</td>\n",
       "      <td>0</td>\n",
       "      <td>0</td>\n",
       "      <td>0</td>\n",
       "      <td>0.81</td>\n",
       "      <td>0.16</td>\n",
       "      <td>1.54</td>\n",
       "      <td>0.00</td>\n",
       "      <td>0.00</td>\n",
       "      <td>0</td>\n",
       "      <td>0</td>\n",
       "      <td>0</td>\n",
       "      <td>0</td>\n",
       "      <td>1</td>\n",
       "      <td>0</td>\n",
       "      <td>0</td>\n",
       "      <td>0</td>\n",
       "      <td>1</td>\n",
       "      <td>0</td>\n",
       "      <td>0.00</td>\n",
       "      <td>60.72</td>\n",
       "      <td>0.16</td>\n",
       "    </tr>\n",
       "    <tr>\n",
       "      <th>4</th>\n",
       "      <td>489616</td>\n",
       "      <td>5</td>\n",
       "      <td>0.00</td>\n",
       "      <td>2020.00</td>\n",
       "      <td>0.00</td>\n",
       "      <td>0.00</td>\n",
       "      <td>8.00</td>\n",
       "      <td>1</td>\n",
       "      <td>21.40</td>\n",
       "      <td>24.00</td>\n",
       "      <td>0.00</td>\n",
       "      <td>4.00</td>\n",
       "      <td>0.00</td>\n",
       "      <td>ciudad real</td>\n",
       "      <td>Torralba de Calatrava</td>\n",
       "      <td>2012</td>\n",
       "      <td>0.06</td>\n",
       "      <td>7.79</td>\n",
       "      <td>0.40</td>\n",
       "      <td>0</td>\n",
       "      <td>0</td>\n",
       "      <td>0</td>\n",
       "      <td>0.81</td>\n",
       "      <td>0.16</td>\n",
       "      <td>1.54</td>\n",
       "      <td>0.00</td>\n",
       "      <td>0.00</td>\n",
       "      <td>0</td>\n",
       "      <td>0</td>\n",
       "      <td>0</td>\n",
       "      <td>0</td>\n",
       "      <td>1</td>\n",
       "      <td>0</td>\n",
       "      <td>0</td>\n",
       "      <td>0</td>\n",
       "      <td>1</td>\n",
       "      <td>0</td>\n",
       "      <td>0.00</td>\n",
       "      <td>60.72</td>\n",
       "      <td>0.16</td>\n",
       "    </tr>\n",
       "    <tr>\n",
       "      <th>...</th>\n",
       "      <td>...</td>\n",
       "      <td>...</td>\n",
       "      <td>...</td>\n",
       "      <td>...</td>\n",
       "      <td>...</td>\n",
       "      <td>...</td>\n",
       "      <td>...</td>\n",
       "      <td>...</td>\n",
       "      <td>...</td>\n",
       "      <td>...</td>\n",
       "      <td>...</td>\n",
       "      <td>...</td>\n",
       "      <td>...</td>\n",
       "      <td>...</td>\n",
       "      <td>...</td>\n",
       "      <td>...</td>\n",
       "      <td>...</td>\n",
       "      <td>...</td>\n",
       "      <td>...</td>\n",
       "      <td>...</td>\n",
       "      <td>...</td>\n",
       "      <td>...</td>\n",
       "      <td>...</td>\n",
       "      <td>...</td>\n",
       "      <td>...</td>\n",
       "      <td>...</td>\n",
       "      <td>...</td>\n",
       "      <td>...</td>\n",
       "      <td>...</td>\n",
       "      <td>...</td>\n",
       "      <td>...</td>\n",
       "      <td>...</td>\n",
       "      <td>...</td>\n",
       "      <td>...</td>\n",
       "      <td>...</td>\n",
       "      <td>...</td>\n",
       "      <td>...</td>\n",
       "      <td>...</td>\n",
       "      <td>...</td>\n",
       "      <td>...</td>\n",
       "    </tr>\n",
       "    <tr>\n",
       "      <th>6364024</th>\n",
       "      <td>416536087</td>\n",
       "      <td>1</td>\n",
       "      <td>0.00</td>\n",
       "      <td>2013.00</td>\n",
       "      <td>0.00</td>\n",
       "      <td>0.00</td>\n",
       "      <td>2.00</td>\n",
       "      <td>1</td>\n",
       "      <td>0.00</td>\n",
       "      <td>0.00</td>\n",
       "      <td>0.00</td>\n",
       "      <td>4.00</td>\n",
       "      <td>0.00</td>\n",
       "      <td>la rioja</td>\n",
       "      <td>Baños de Rio Tobia</td>\n",
       "      <td>2011</td>\n",
       "      <td>0.05</td>\n",
       "      <td>0.45</td>\n",
       "      <td>45.00</td>\n",
       "      <td>0</td>\n",
       "      <td>0</td>\n",
       "      <td>0</td>\n",
       "      <td>1951.16</td>\n",
       "      <td>0.00</td>\n",
       "      <td>0.07</td>\n",
       "      <td>0.00</td>\n",
       "      <td>0.00</td>\n",
       "      <td>0</td>\n",
       "      <td>0</td>\n",
       "      <td>0</td>\n",
       "      <td>0</td>\n",
       "      <td>1</td>\n",
       "      <td>1</td>\n",
       "      <td>0</td>\n",
       "      <td>0</td>\n",
       "      <td>0</td>\n",
       "      <td>0</td>\n",
       "      <td>0.00</td>\n",
       "      <td>0.21</td>\n",
       "      <td>2025.00</td>\n",
       "    </tr>\n",
       "    <tr>\n",
       "      <th>6364025</th>\n",
       "      <td>416536416</td>\n",
       "      <td>1</td>\n",
       "      <td>0.00</td>\n",
       "      <td>2013.00</td>\n",
       "      <td>0.00</td>\n",
       "      <td>0.00</td>\n",
       "      <td>2.00</td>\n",
       "      <td>1</td>\n",
       "      <td>0.00</td>\n",
       "      <td>0.00</td>\n",
       "      <td>0.00</td>\n",
       "      <td>4.00</td>\n",
       "      <td>0.00</td>\n",
       "      <td>la rioja</td>\n",
       "      <td>Baños de Rio Tobia</td>\n",
       "      <td>2011</td>\n",
       "      <td>0.10</td>\n",
       "      <td>0.48</td>\n",
       "      <td>45.00</td>\n",
       "      <td>0</td>\n",
       "      <td>0</td>\n",
       "      <td>0</td>\n",
       "      <td>926.60</td>\n",
       "      <td>0.00</td>\n",
       "      <td>0.15</td>\n",
       "      <td>0.00</td>\n",
       "      <td>0.00</td>\n",
       "      <td>0</td>\n",
       "      <td>0</td>\n",
       "      <td>0</td>\n",
       "      <td>0</td>\n",
       "      <td>1</td>\n",
       "      <td>1</td>\n",
       "      <td>0</td>\n",
       "      <td>0</td>\n",
       "      <td>0</td>\n",
       "      <td>0</td>\n",
       "      <td>0.01</td>\n",
       "      <td>0.23</td>\n",
       "      <td>2025.00</td>\n",
       "    </tr>\n",
       "    <tr>\n",
       "      <th>6364026</th>\n",
       "      <td>416536438</td>\n",
       "      <td>1</td>\n",
       "      <td>0.00</td>\n",
       "      <td>2013.00</td>\n",
       "      <td>0.00</td>\n",
       "      <td>0.00</td>\n",
       "      <td>2.00</td>\n",
       "      <td>1</td>\n",
       "      <td>0.00</td>\n",
       "      <td>0.00</td>\n",
       "      <td>0.00</td>\n",
       "      <td>4.00</td>\n",
       "      <td>0.00</td>\n",
       "      <td>la rioja</td>\n",
       "      <td>Baños de Rio Tobia</td>\n",
       "      <td>2011</td>\n",
       "      <td>0.10</td>\n",
       "      <td>0.48</td>\n",
       "      <td>45.00</td>\n",
       "      <td>0</td>\n",
       "      <td>0</td>\n",
       "      <td>0</td>\n",
       "      <td>913.22</td>\n",
       "      <td>0.00</td>\n",
       "      <td>0.15</td>\n",
       "      <td>0.00</td>\n",
       "      <td>0.00</td>\n",
       "      <td>0</td>\n",
       "      <td>0</td>\n",
       "      <td>0</td>\n",
       "      <td>0</td>\n",
       "      <td>1</td>\n",
       "      <td>1</td>\n",
       "      <td>0</td>\n",
       "      <td>0</td>\n",
       "      <td>0</td>\n",
       "      <td>0</td>\n",
       "      <td>0.01</td>\n",
       "      <td>0.24</td>\n",
       "      <td>2025.00</td>\n",
       "    </tr>\n",
       "    <tr>\n",
       "      <th>6364027</th>\n",
       "      <td>416536460</td>\n",
       "      <td>1</td>\n",
       "      <td>0.00</td>\n",
       "      <td>2013.00</td>\n",
       "      <td>0.00</td>\n",
       "      <td>0.00</td>\n",
       "      <td>2.00</td>\n",
       "      <td>1</td>\n",
       "      <td>0.00</td>\n",
       "      <td>0.00</td>\n",
       "      <td>0.00</td>\n",
       "      <td>4.00</td>\n",
       "      <td>0.00</td>\n",
       "      <td>la rioja</td>\n",
       "      <td>Baños de Rio Tobia</td>\n",
       "      <td>2011</td>\n",
       "      <td>0.05</td>\n",
       "      <td>0.21</td>\n",
       "      <td>45.00</td>\n",
       "      <td>0</td>\n",
       "      <td>0</td>\n",
       "      <td>0</td>\n",
       "      <td>4218.22</td>\n",
       "      <td>0.00</td>\n",
       "      <td>0.03</td>\n",
       "      <td>0.00</td>\n",
       "      <td>0.00</td>\n",
       "      <td>0</td>\n",
       "      <td>0</td>\n",
       "      <td>0</td>\n",
       "      <td>0</td>\n",
       "      <td>1</td>\n",
       "      <td>1</td>\n",
       "      <td>0</td>\n",
       "      <td>0</td>\n",
       "      <td>0</td>\n",
       "      <td>0</td>\n",
       "      <td>0.00</td>\n",
       "      <td>0.04</td>\n",
       "      <td>2025.00</td>\n",
       "    </tr>\n",
       "    <tr>\n",
       "      <th>6364028</th>\n",
       "      <td>416536482</td>\n",
       "      <td>1</td>\n",
       "      <td>0.00</td>\n",
       "      <td>2013.00</td>\n",
       "      <td>0.00</td>\n",
       "      <td>0.00</td>\n",
       "      <td>2.00</td>\n",
       "      <td>1</td>\n",
       "      <td>0.00</td>\n",
       "      <td>0.00</td>\n",
       "      <td>0.00</td>\n",
       "      <td>4.00</td>\n",
       "      <td>0.00</td>\n",
       "      <td>la rioja</td>\n",
       "      <td>Baños de Rio Tobia</td>\n",
       "      <td>2011</td>\n",
       "      <td>0.05</td>\n",
       "      <td>0.80</td>\n",
       "      <td>45.00</td>\n",
       "      <td>0</td>\n",
       "      <td>0</td>\n",
       "      <td>0</td>\n",
       "      <td>1114.25</td>\n",
       "      <td>0.00</td>\n",
       "      <td>0.13</td>\n",
       "      <td>0.00</td>\n",
       "      <td>0.00</td>\n",
       "      <td>0</td>\n",
       "      <td>0</td>\n",
       "      <td>0</td>\n",
       "      <td>0</td>\n",
       "      <td>1</td>\n",
       "      <td>1</td>\n",
       "      <td>0</td>\n",
       "      <td>0</td>\n",
       "      <td>0</td>\n",
       "      <td>0</td>\n",
       "      <td>0.00</td>\n",
       "      <td>0.63</td>\n",
       "      <td>2025.00</td>\n",
       "    </tr>\n",
       "  </tbody>\n",
       "</table>\n",
       "<p>6337665 rows × 40 columns</p>\n",
       "</div>"
      ],
      "text/plain": [
       "            PipeId  No_Inspections  No_Incidents  InspectionYear  \\\n",
       "0           489616               5          0.00         2013.00   \n",
       "1           489616               5          0.00         2015.00   \n",
       "2           489616               5          0.00         2016.00   \n",
       "3           489616               5          0.00         2018.00   \n",
       "4           489616               5          0.00         2020.00   \n",
       "...            ...             ...           ...             ...   \n",
       "6364024  416536087               1          0.00         2013.00   \n",
       "6364025  416536416               1          0.00         2013.00   \n",
       "6364026  416536438               1          0.00         2013.00   \n",
       "6364027  416536460               1          0.00         2013.00   \n",
       "6364028  416536482               1          0.00         2013.00   \n",
       "\n",
       "         Probability_rate  preventive_maintenance_rate  \\\n",
       "0                    0.00                         0.00   \n",
       "1                    0.00                         0.00   \n",
       "2                    0.00                         0.00   \n",
       "3                    0.00                         0.00   \n",
       "4                    0.00                         0.00   \n",
       "...                   ...                          ...   \n",
       "6364024              0.00                         0.00   \n",
       "6364025              0.00                         0.00   \n",
       "6364026              0.00                         0.00   \n",
       "6364027              0.00                         0.00   \n",
       "6364028              0.00                         0.00   \n",
       "\n",
       "         Age_pipe_at_inspection  pipe_inspected_frequently  \\\n",
       "0                          1.00                          1   \n",
       "1                          3.00                          1   \n",
       "2                          4.00                          1   \n",
       "3                          6.00                          1   \n",
       "4                          8.00                          1   \n",
       "...                         ...                        ...   \n",
       "6364024                    2.00                          1   \n",
       "6364025                    2.00                          1   \n",
       "6364026                    2.00                          1   \n",
       "6364027                    2.00                          1   \n",
       "6364028                    2.00                          1   \n",
       "\n",
       "         Average_MonthsLastRev  MonthsLastRev  relative_risk  \\\n",
       "0                        21.40          16.00           0.00   \n",
       "1                        21.40          22.00           0.00   \n",
       "2                        21.40          22.00           0.00   \n",
       "3                        21.40          23.00           0.00   \n",
       "4                        21.40          24.00           0.00   \n",
       "...                        ...            ...            ...   \n",
       "6364024                   0.00           0.00           0.00   \n",
       "6364025                   0.00           0.00           0.00   \n",
       "6364026                   0.00           0.00           0.00   \n",
       "6364027                   0.00           0.00           0.00   \n",
       "6364028                   0.00           0.00           0.00   \n",
       "\n",
       "         average_severity_pipe  Incidence     Province                   Town  \\\n",
       "0                         4.00       0.00  ciudad real  Torralba de Calatrava   \n",
       "1                         4.00       0.00  ciudad real  Torralba de Calatrava   \n",
       "2                         4.00       0.00  ciudad real  Torralba de Calatrava   \n",
       "3                         4.00       0.00  ciudad real  Torralba de Calatrava   \n",
       "4                         4.00       0.00  ciudad real  Torralba de Calatrava   \n",
       "...                        ...        ...          ...                    ...   \n",
       "6364024                   4.00       0.00     la rioja     Baños de Rio Tobia   \n",
       "6364025                   4.00       0.00     la rioja     Baños de Rio Tobia   \n",
       "6364026                   4.00       0.00     la rioja     Baños de Rio Tobia   \n",
       "6364027                   4.00       0.00     la rioja     Baños de Rio Tobia   \n",
       "6364028                   4.00       0.00     la rioja     Baños de Rio Tobia   \n",
       "\n",
       "         YearBuilt  Diameter  Length  Pressure  NumConnections  \\\n",
       "0             2012      0.06    7.79      0.40               0   \n",
       "1             2012      0.06    7.79      0.40               0   \n",
       "2             2012      0.06    7.79      0.40               0   \n",
       "3             2012      0.06    7.79      0.40               0   \n",
       "4             2012      0.06    7.79      0.40               0   \n",
       "...            ...       ...     ...       ...             ...   \n",
       "6364024       2011      0.05    0.45     45.00               0   \n",
       "6364025       2011      0.10    0.48     45.00               0   \n",
       "6364026       2011      0.10    0.48     45.00               0   \n",
       "6364027       2011      0.05    0.21     45.00               0   \n",
       "6364028       2011      0.05    0.80     45.00               0   \n",
       "\n",
       "         NumConnectionsUnder  BoolBridle  aspect  Relative_Thickness  \\\n",
       "0                          0           0    0.81                0.16   \n",
       "1                          0           0    0.81                0.16   \n",
       "2                          0           0    0.81                0.16   \n",
       "3                          0           0    0.81                0.16   \n",
       "4                          0           0    0.81                0.16   \n",
       "...                      ...         ...     ...                 ...   \n",
       "6364024                    0           0 1951.16                0.00   \n",
       "6364025                    0           0  926.60                0.00   \n",
       "6364026                    0           0  913.22                0.00   \n",
       "6364027                    0           0 4218.22                0.00   \n",
       "6364028                    0           0 1114.25                0.00   \n",
       "\n",
       "         pipe_area  area_connection  incidence_area  connection_bool  \\\n",
       "0             1.54             0.00            0.00                0   \n",
       "1             1.54             0.00            0.00                0   \n",
       "2             1.54             0.00            0.00                0   \n",
       "3             1.54             0.00            0.00                0   \n",
       "4             1.54             0.00            0.00                0   \n",
       "...            ...              ...             ...              ...   \n",
       "6364024       0.07             0.00            0.00                0   \n",
       "6364025       0.15             0.00            0.00                0   \n",
       "6364026       0.15             0.00            0.00                0   \n",
       "6364027       0.03             0.00            0.00                0   \n",
       "6364028       0.13             0.00            0.00                0   \n",
       "\n",
       "         Severity_high  Severity_medium  Severity_low  gas_natural  \\\n",
       "0                    0                0             0            1   \n",
       "1                    0                0             0            1   \n",
       "2                    0                0             0            1   \n",
       "3                    0                0             0            1   \n",
       "4                    0                0             0            1   \n",
       "...                ...              ...           ...          ...   \n",
       "6364024              0                0             0            1   \n",
       "6364025              0                0             0            1   \n",
       "6364026              0                0             0            1   \n",
       "6364027              0                0             0            1   \n",
       "6364028              0                0             0            1   \n",
       "\n",
       "         Material_Acrylonitrile-Butadiene-Styrene  Material_Copper  \\\n",
       "0                                               0                0   \n",
       "1                                               0                0   \n",
       "2                                               0                0   \n",
       "3                                               0                0   \n",
       "4                                               0                0   \n",
       "...                                           ...              ...   \n",
       "6364024                                         1                0   \n",
       "6364025                                         1                0   \n",
       "6364026                                         1                0   \n",
       "6364027                                         1                0   \n",
       "6364028                                         1                0   \n",
       "\n",
       "         Material_Fiberglass-Reinforced Plastic  Material_Polyethylene  \\\n",
       "0                                             0                      1   \n",
       "1                                             0                      1   \n",
       "2                                             0                      1   \n",
       "3                                             0                      1   \n",
       "4                                             0                      1   \n",
       "...                                         ...                    ...   \n",
       "6364024                                       0                      0   \n",
       "6364025                                       0                      0   \n",
       "6364026                                       0                      0   \n",
       "6364027                                       0                      0   \n",
       "6364028                                       0                      0   \n",
       "\n",
       "         Material_Polypropylene  Diameter2  Length2  Pressure2  \n",
       "0                             0       0.00    60.72       0.16  \n",
       "1                             0       0.00    60.72       0.16  \n",
       "2                             0       0.00    60.72       0.16  \n",
       "3                             0       0.00    60.72       0.16  \n",
       "4                             0       0.00    60.72       0.16  \n",
       "...                         ...        ...      ...        ...  \n",
       "6364024                       0       0.00     0.21    2025.00  \n",
       "6364025                       0       0.01     0.23    2025.00  \n",
       "6364026                       0       0.01     0.24    2025.00  \n",
       "6364027                       0       0.00     0.04    2025.00  \n",
       "6364028                       0       0.00     0.63    2025.00  \n",
       "\n",
       "[6337665 rows x 40 columns]"
      ]
     },
     "execution_count": 121,
     "metadata": {},
     "output_type": "execute_result"
    },
    {
     "data": {
      "text/html": [
       "<div>\n",
       "<style scoped>\n",
       "    .dataframe tbody tr th:only-of-type {\n",
       "        vertical-align: middle;\n",
       "    }\n",
       "\n",
       "    .dataframe tbody tr th {\n",
       "        vertical-align: top;\n",
       "    }\n",
       "\n",
       "    .dataframe thead th {\n",
       "        text-align: right;\n",
       "    }\n",
       "</style>\n",
       "<table border=\"1\" class=\"dataframe\">\n",
       "  <thead>\n",
       "    <tr style=\"text-align: right;\">\n",
       "      <th></th>\n",
       "      <th>Province</th>\n",
       "      <th>Average yearly temperature (°C)</th>\n",
       "      <th>Min. Temperature (°C)</th>\n",
       "      <th>Max. Temperature (°C)</th>\n",
       "      <th>Yearly Rainfall (mm)</th>\n",
       "      <th>Average year Humidity (%)</th>\n",
       "      <th>Rainy days per year (days)</th>\n",
       "      <th>Yearly Sun Hours (hours)</th>\n",
       "    </tr>\n",
       "  </thead>\n",
       "  <tbody>\n",
       "    <tr>\n",
       "      <th>0</th>\n",
       "      <td>lleida</td>\n",
       "      <td>15.46</td>\n",
       "      <td>1.80</td>\n",
       "      <td>32.90</td>\n",
       "      <td>461</td>\n",
       "      <td>0.59</td>\n",
       "      <td>50</td>\n",
       "      <td>112.40</td>\n",
       "    </tr>\n",
       "    <tr>\n",
       "      <th>1</th>\n",
       "      <td>la rioja</td>\n",
       "      <td>12.38</td>\n",
       "      <td>1.70</td>\n",
       "      <td>26.90</td>\n",
       "      <td>633</td>\n",
       "      <td>0.72</td>\n",
       "      <td>87</td>\n",
       "      <td>85.20</td>\n",
       "    </tr>\n",
       "    <tr>\n",
       "      <th>2</th>\n",
       "      <td>ciudad real</td>\n",
       "      <td>15.44</td>\n",
       "      <td>1.50</td>\n",
       "      <td>33.70</td>\n",
       "      <td>438</td>\n",
       "      <td>0.55</td>\n",
       "      <td>52</td>\n",
       "      <td>107.50</td>\n",
       "    </tr>\n",
       "    <tr>\n",
       "      <th>3</th>\n",
       "      <td>toledo</td>\n",
       "      <td>15.46</td>\n",
       "      <td>1.80</td>\n",
       "      <td>33.40</td>\n",
       "      <td>453</td>\n",
       "      <td>0.57</td>\n",
       "      <td>52</td>\n",
       "      <td>108.40</td>\n",
       "    </tr>\n",
       "    <tr>\n",
       "      <th>4</th>\n",
       "      <td>alicante</td>\n",
       "      <td>17.70</td>\n",
       "      <td>7.40</td>\n",
       "      <td>29.20</td>\n",
       "      <td>279</td>\n",
       "      <td>0.67</td>\n",
       "      <td>32</td>\n",
       "      <td>119.30</td>\n",
       "    </tr>\n",
       "    <tr>\n",
       "      <th>5</th>\n",
       "      <td>cordoba</td>\n",
       "      <td>17.88</td>\n",
       "      <td>3.90</td>\n",
       "      <td>35.60</td>\n",
       "      <td>518</td>\n",
       "      <td>0.55</td>\n",
       "      <td>51</td>\n",
       "      <td>111.20</td>\n",
       "    </tr>\n",
       "    <tr>\n",
       "      <th>6</th>\n",
       "      <td>granada</td>\n",
       "      <td>15.24</td>\n",
       "      <td>1.10</td>\n",
       "      <td>32.80</td>\n",
       "      <td>536</td>\n",
       "      <td>0.57</td>\n",
       "      <td>62</td>\n",
       "      <td>111.40</td>\n",
       "    </tr>\n",
       "    <tr>\n",
       "      <th>7</th>\n",
       "      <td>zamora</td>\n",
       "      <td>12.93</td>\n",
       "      <td>1.00</td>\n",
       "      <td>29.50</td>\n",
       "      <td>469</td>\n",
       "      <td>0.62</td>\n",
       "      <td>60</td>\n",
       "      <td>98.50</td>\n",
       "    </tr>\n",
       "    <tr>\n",
       "      <th>8</th>\n",
       "      <td>leon</td>\n",
       "      <td>10.97</td>\n",
       "      <td>-0.30</td>\n",
       "      <td>26.90</td>\n",
       "      <td>559</td>\n",
       "      <td>0.67</td>\n",
       "      <td>71</td>\n",
       "      <td>95.20</td>\n",
       "    </tr>\n",
       "    <tr>\n",
       "      <th>9</th>\n",
       "      <td>valladolid</td>\n",
       "      <td>12.53</td>\n",
       "      <td>0.60</td>\n",
       "      <td>29.60</td>\n",
       "      <td>490</td>\n",
       "      <td>0.63</td>\n",
       "      <td>64</td>\n",
       "      <td>98.60</td>\n",
       "    </tr>\n",
       "    <tr>\n",
       "      <th>10</th>\n",
       "      <td>malaga</td>\n",
       "      <td>17.60</td>\n",
       "      <td>8.90</td>\n",
       "      <td>28.00</td>\n",
       "      <td>485</td>\n",
       "      <td>0.70</td>\n",
       "      <td>48</td>\n",
       "      <td>110.40</td>\n",
       "    </tr>\n",
       "    <tr>\n",
       "      <th>11</th>\n",
       "      <td>girona</td>\n",
       "      <td>14.68</td>\n",
       "      <td>2.10</td>\n",
       "      <td>29.00</td>\n",
       "      <td>963</td>\n",
       "      <td>0.71</td>\n",
       "      <td>88</td>\n",
       "      <td>99.80</td>\n",
       "    </tr>\n",
       "    <tr>\n",
       "      <th>12</th>\n",
       "      <td>pontevedra</td>\n",
       "      <td>13.40</td>\n",
       "      <td>4.60</td>\n",
       "      <td>24.30</td>\n",
       "      <td>1587</td>\n",
       "      <td>0.79</td>\n",
       "      <td>102</td>\n",
       "      <td>83.80</td>\n",
       "    </tr>\n",
       "    <tr>\n",
       "      <th>13</th>\n",
       "      <td>barcelona</td>\n",
       "      <td>15.48</td>\n",
       "      <td>4.00</td>\n",
       "      <td>27.60</td>\n",
       "      <td>614</td>\n",
       "      <td>0.76</td>\n",
       "      <td>68</td>\n",
       "      <td>104.60</td>\n",
       "    </tr>\n",
       "    <tr>\n",
       "      <th>14</th>\n",
       "      <td>valencia</td>\n",
       "      <td>17.62</td>\n",
       "      <td>6.60</td>\n",
       "      <td>30.80</td>\n",
       "      <td>427</td>\n",
       "      <td>0.64</td>\n",
       "      <td>46</td>\n",
       "      <td>113.20</td>\n",
       "    </tr>\n",
       "    <tr>\n",
       "      <th>15</th>\n",
       "      <td>castellon</td>\n",
       "      <td>17.02</td>\n",
       "      <td>6.30</td>\n",
       "      <td>28.30</td>\n",
       "      <td>406</td>\n",
       "      <td>0.69</td>\n",
       "      <td>42</td>\n",
       "      <td>113.00</td>\n",
       "    </tr>\n",
       "    <tr>\n",
       "      <th>16</th>\n",
       "      <td>tarragona</td>\n",
       "      <td>15.97</td>\n",
       "      <td>4.10</td>\n",
       "      <td>29.80</td>\n",
       "      <td>551</td>\n",
       "      <td>0.67</td>\n",
       "      <td>56</td>\n",
       "      <td>111.40</td>\n",
       "    </tr>\n",
       "    <tr>\n",
       "      <th>17</th>\n",
       "      <td>sevilla</td>\n",
       "      <td>18.79</td>\n",
       "      <td>5.90</td>\n",
       "      <td>35.30</td>\n",
       "      <td>483</td>\n",
       "      <td>0.58</td>\n",
       "      <td>41</td>\n",
       "      <td>112.70</td>\n",
       "    </tr>\n",
       "    <tr>\n",
       "      <th>18</th>\n",
       "      <td>la coruna</td>\n",
       "      <td>13.46</td>\n",
       "      <td>6.40</td>\n",
       "      <td>22.10</td>\n",
       "      <td>1228</td>\n",
       "      <td>0.80</td>\n",
       "      <td>109</td>\n",
       "      <td>75.90</td>\n",
       "    </tr>\n",
       "    <tr>\n",
       "      <th>19</th>\n",
       "      <td>huelva</td>\n",
       "      <td>18.63</td>\n",
       "      <td>7.10</td>\n",
       "      <td>33.60</td>\n",
       "      <td>422</td>\n",
       "      <td>0.62</td>\n",
       "      <td>40</td>\n",
       "      <td>112.30</td>\n",
       "    </tr>\n",
       "    <tr>\n",
       "      <th>20</th>\n",
       "      <td>almeria</td>\n",
       "      <td>17.44</td>\n",
       "      <td>5.70</td>\n",
       "      <td>30.50</td>\n",
       "      <td>221</td>\n",
       "      <td>0.60</td>\n",
       "      <td>30</td>\n",
       "      <td>121.20</td>\n",
       "    </tr>\n",
       "    <tr>\n",
       "      <th>21</th>\n",
       "      <td>lugo</td>\n",
       "      <td>11.39</td>\n",
       "      <td>2.30</td>\n",
       "      <td>23.40</td>\n",
       "      <td>999</td>\n",
       "      <td>0.80</td>\n",
       "      <td>99</td>\n",
       "      <td>73.30</td>\n",
       "    </tr>\n",
       "    <tr>\n",
       "      <th>22</th>\n",
       "      <td>madrid</td>\n",
       "      <td>14.45</td>\n",
       "      <td>0.90</td>\n",
       "      <td>32.40</td>\n",
       "      <td>415</td>\n",
       "      <td>0.54</td>\n",
       "      <td>48</td>\n",
       "      <td>109.70</td>\n",
       "    </tr>\n",
       "    <tr>\n",
       "      <th>23</th>\n",
       "      <td>albacete</td>\n",
       "      <td>14.59</td>\n",
       "      <td>1.30</td>\n",
       "      <td>33.30</td>\n",
       "      <td>379</td>\n",
       "      <td>0.56</td>\n",
       "      <td>49</td>\n",
       "      <td>108.30</td>\n",
       "    </tr>\n",
       "    <tr>\n",
       "      <th>24</th>\n",
       "      <td>cuenca</td>\n",
       "      <td>11.88</td>\n",
       "      <td>-0.90</td>\n",
       "      <td>29.60</td>\n",
       "      <td>582</td>\n",
       "      <td>0.59</td>\n",
       "      <td>65</td>\n",
       "      <td>103.90</td>\n",
       "    </tr>\n",
       "    <tr>\n",
       "      <th>25</th>\n",
       "      <td>segovia</td>\n",
       "      <td>11.54</td>\n",
       "      <td>-0.30</td>\n",
       "      <td>28.00</td>\n",
       "      <td>717</td>\n",
       "      <td>0.64</td>\n",
       "      <td>88</td>\n",
       "      <td>96.70</td>\n",
       "    </tr>\n",
       "    <tr>\n",
       "      <th>26</th>\n",
       "      <td>jaen</td>\n",
       "      <td>16.06</td>\n",
       "      <td>1.80</td>\n",
       "      <td>33.90</td>\n",
       "      <td>610</td>\n",
       "      <td>0.58</td>\n",
       "      <td>60</td>\n",
       "      <td>111.90</td>\n",
       "    </tr>\n",
       "    <tr>\n",
       "      <th>27</th>\n",
       "      <td>palencia</td>\n",
       "      <td>11.92</td>\n",
       "      <td>0.40</td>\n",
       "      <td>28.60</td>\n",
       "      <td>491</td>\n",
       "      <td>0.64</td>\n",
       "      <td>66</td>\n",
       "      <td>95.70</td>\n",
       "    </tr>\n",
       "    <tr>\n",
       "      <th>28</th>\n",
       "      <td>burgos</td>\n",
       "      <td>10.62</td>\n",
       "      <td>-0.10</td>\n",
       "      <td>26.20</td>\n",
       "      <td>627</td>\n",
       "      <td>0.71</td>\n",
       "      <td>82</td>\n",
       "      <td>87.90</td>\n",
       "    </tr>\n",
       "    <tr>\n",
       "      <th>29</th>\n",
       "      <td>orense</td>\n",
       "      <td>12.68</td>\n",
       "      <td>2.30</td>\n",
       "      <td>25.90</td>\n",
       "      <td>952</td>\n",
       "      <td>0.77</td>\n",
       "      <td>91</td>\n",
       "      <td>79.80</td>\n",
       "    </tr>\n",
       "    <tr>\n",
       "      <th>30</th>\n",
       "      <td>salamanca</td>\n",
       "      <td>12.51</td>\n",
       "      <td>0.60</td>\n",
       "      <td>29.00</td>\n",
       "      <td>486</td>\n",
       "      <td>0.63</td>\n",
       "      <td>66</td>\n",
       "      <td>97.80</td>\n",
       "    </tr>\n",
       "    <tr>\n",
       "      <th>31</th>\n",
       "      <td>soria</td>\n",
       "      <td>10.73</td>\n",
       "      <td>-1.10</td>\n",
       "      <td>27.80</td>\n",
       "      <td>511</td>\n",
       "      <td>0.64</td>\n",
       "      <td>72</td>\n",
       "      <td>97.30</td>\n",
       "    </tr>\n",
       "    <tr>\n",
       "      <th>32</th>\n",
       "      <td>guadalajara</td>\n",
       "      <td>13.77</td>\n",
       "      <td>0.30</td>\n",
       "      <td>31.80</td>\n",
       "      <td>456</td>\n",
       "      <td>0.56</td>\n",
       "      <td>55</td>\n",
       "      <td>105.70</td>\n",
       "    </tr>\n",
       "    <tr>\n",
       "      <th>33</th>\n",
       "      <td>cadiz</td>\n",
       "      <td>18.47</td>\n",
       "      <td>8.30</td>\n",
       "      <td>31.30</td>\n",
       "      <td>626</td>\n",
       "      <td>0.65</td>\n",
       "      <td>48</td>\n",
       "      <td>113.80</td>\n",
       "    </tr>\n",
       "    <tr>\n",
       "      <th>34</th>\n",
       "      <td>huesca</td>\n",
       "      <td>13.92</td>\n",
       "      <td>0.60</td>\n",
       "      <td>31.20</td>\n",
       "      <td>886</td>\n",
       "      <td>0.62</td>\n",
       "      <td>77</td>\n",
       "      <td>108.70</td>\n",
       "    </tr>\n",
       "    <tr>\n",
       "      <th>35</th>\n",
       "      <td>avila</td>\n",
       "      <td>11.01</td>\n",
       "      <td>-0.90</td>\n",
       "      <td>27.40</td>\n",
       "      <td>532</td>\n",
       "      <td>0.63</td>\n",
       "      <td>74</td>\n",
       "      <td>101.00</td>\n",
       "    </tr>\n",
       "    <tr>\n",
       "      <th>36</th>\n",
       "      <td>teruel</td>\n",
       "      <td>11.50</td>\n",
       "      <td>-0.80</td>\n",
       "      <td>29.40</td>\n",
       "      <td>449</td>\n",
       "      <td>0.60</td>\n",
       "      <td>60</td>\n",
       "      <td>102.70</td>\n",
       "    </tr>\n",
       "    <tr>\n",
       "      <th>37</th>\n",
       "      <td>zaragoza</td>\n",
       "      <td>15.57</td>\n",
       "      <td>2.80</td>\n",
       "      <td>32.80</td>\n",
       "      <td>362</td>\n",
       "      <td>0.57</td>\n",
       "      <td>48</td>\n",
       "      <td>114.20</td>\n",
       "    </tr>\n",
       "  </tbody>\n",
       "</table>\n",
       "</div>"
      ],
      "text/plain": [
       "       Province  Average yearly temperature (°C)  Min. Temperature (°C)  \\\n",
       "0        lleida                            15.46                   1.80   \n",
       "1      la rioja                            12.38                   1.70   \n",
       "2   ciudad real                            15.44                   1.50   \n",
       "3        toledo                            15.46                   1.80   \n",
       "4      alicante                            17.70                   7.40   \n",
       "5       cordoba                            17.88                   3.90   \n",
       "6       granada                            15.24                   1.10   \n",
       "7        zamora                            12.93                   1.00   \n",
       "8          leon                            10.97                  -0.30   \n",
       "9    valladolid                            12.53                   0.60   \n",
       "10       malaga                            17.60                   8.90   \n",
       "11       girona                            14.68                   2.10   \n",
       "12   pontevedra                            13.40                   4.60   \n",
       "13    barcelona                            15.48                   4.00   \n",
       "14     valencia                            17.62                   6.60   \n",
       "15    castellon                            17.02                   6.30   \n",
       "16    tarragona                            15.97                   4.10   \n",
       "17      sevilla                            18.79                   5.90   \n",
       "18    la coruna                            13.46                   6.40   \n",
       "19       huelva                            18.63                   7.10   \n",
       "20      almeria                            17.44                   5.70   \n",
       "21         lugo                            11.39                   2.30   \n",
       "22       madrid                            14.45                   0.90   \n",
       "23     albacete                            14.59                   1.30   \n",
       "24       cuenca                            11.88                  -0.90   \n",
       "25      segovia                            11.54                  -0.30   \n",
       "26         jaen                            16.06                   1.80   \n",
       "27     palencia                            11.92                   0.40   \n",
       "28       burgos                            10.62                  -0.10   \n",
       "29       orense                            12.68                   2.30   \n",
       "30    salamanca                            12.51                   0.60   \n",
       "31        soria                            10.73                  -1.10   \n",
       "32  guadalajara                            13.77                   0.30   \n",
       "33        cadiz                            18.47                   8.30   \n",
       "34       huesca                            13.92                   0.60   \n",
       "35        avila                            11.01                  -0.90   \n",
       "36       teruel                            11.50                  -0.80   \n",
       "37     zaragoza                            15.57                   2.80   \n",
       "\n",
       "    Max. Temperature (°C)  Yearly Rainfall (mm)  Average year Humidity (%)  \\\n",
       "0                   32.90                   461                       0.59   \n",
       "1                   26.90                   633                       0.72   \n",
       "2                   33.70                   438                       0.55   \n",
       "3                   33.40                   453                       0.57   \n",
       "4                   29.20                   279                       0.67   \n",
       "5                   35.60                   518                       0.55   \n",
       "6                   32.80                   536                       0.57   \n",
       "7                   29.50                   469                       0.62   \n",
       "8                   26.90                   559                       0.67   \n",
       "9                   29.60                   490                       0.63   \n",
       "10                  28.00                   485                       0.70   \n",
       "11                  29.00                   963                       0.71   \n",
       "12                  24.30                  1587                       0.79   \n",
       "13                  27.60                   614                       0.76   \n",
       "14                  30.80                   427                       0.64   \n",
       "15                  28.30                   406                       0.69   \n",
       "16                  29.80                   551                       0.67   \n",
       "17                  35.30                   483                       0.58   \n",
       "18                  22.10                  1228                       0.80   \n",
       "19                  33.60                   422                       0.62   \n",
       "20                  30.50                   221                       0.60   \n",
       "21                  23.40                   999                       0.80   \n",
       "22                  32.40                   415                       0.54   \n",
       "23                  33.30                   379                       0.56   \n",
       "24                  29.60                   582                       0.59   \n",
       "25                  28.00                   717                       0.64   \n",
       "26                  33.90                   610                       0.58   \n",
       "27                  28.60                   491                       0.64   \n",
       "28                  26.20                   627                       0.71   \n",
       "29                  25.90                   952                       0.77   \n",
       "30                  29.00                   486                       0.63   \n",
       "31                  27.80                   511                       0.64   \n",
       "32                  31.80                   456                       0.56   \n",
       "33                  31.30                   626                       0.65   \n",
       "34                  31.20                   886                       0.62   \n",
       "35                  27.40                   532                       0.63   \n",
       "36                  29.40                   449                       0.60   \n",
       "37                  32.80                   362                       0.57   \n",
       "\n",
       "    Rainy days per year (days)  Yearly Sun Hours (hours)  \n",
       "0                           50                    112.40  \n",
       "1                           87                     85.20  \n",
       "2                           52                    107.50  \n",
       "3                           52                    108.40  \n",
       "4                           32                    119.30  \n",
       "5                           51                    111.20  \n",
       "6                           62                    111.40  \n",
       "7                           60                     98.50  \n",
       "8                           71                     95.20  \n",
       "9                           64                     98.60  \n",
       "10                          48                    110.40  \n",
       "11                          88                     99.80  \n",
       "12                         102                     83.80  \n",
       "13                          68                    104.60  \n",
       "14                          46                    113.20  \n",
       "15                          42                    113.00  \n",
       "16                          56                    111.40  \n",
       "17                          41                    112.70  \n",
       "18                         109                     75.90  \n",
       "19                          40                    112.30  \n",
       "20                          30                    121.20  \n",
       "21                          99                     73.30  \n",
       "22                          48                    109.70  \n",
       "23                          49                    108.30  \n",
       "24                          65                    103.90  \n",
       "25                          88                     96.70  \n",
       "26                          60                    111.90  \n",
       "27                          66                     95.70  \n",
       "28                          82                     87.90  \n",
       "29                          91                     79.80  \n",
       "30                          66                     97.80  \n",
       "31                          72                     97.30  \n",
       "32                          55                    105.70  \n",
       "33                          48                    113.80  \n",
       "34                          77                    108.70  \n",
       "35                          74                    101.00  \n",
       "36                          60                    102.70  \n",
       "37                          48                    114.20  "
      ]
     },
     "execution_count": 121,
     "metadata": {},
     "output_type": "execute_result"
    }
   ],
   "source": [
    "normalize_characters(train_copy, 'Province')\n",
    "normalize_characters(provincias, 'Province')"
   ]
  },
  {
   "cell_type": "code",
   "execution_count": 122,
   "id": "a70169a5",
   "metadata": {},
   "outputs": [],
   "source": [
    "#join train_copy and provincias on Province\n",
    "train_copy = train_copy.merge(provincias, on='Province', how='left')"
   ]
  },
  {
   "cell_type": "code",
   "execution_count": 123,
   "id": "01fddbbf",
   "metadata": {},
   "outputs": [
    {
     "data": {
      "text/html": [
       "<div>\n",
       "<style scoped>\n",
       "    .dataframe tbody tr th:only-of-type {\n",
       "        vertical-align: middle;\n",
       "    }\n",
       "\n",
       "    .dataframe tbody tr th {\n",
       "        vertical-align: top;\n",
       "    }\n",
       "\n",
       "    .dataframe thead th {\n",
       "        text-align: right;\n",
       "    }\n",
       "</style>\n",
       "<table border=\"1\" class=\"dataframe\">\n",
       "  <thead>\n",
       "    <tr style=\"text-align: right;\">\n",
       "      <th></th>\n",
       "      <th>PipeId</th>\n",
       "      <th>No_Inspections</th>\n",
       "      <th>No_Incidents</th>\n",
       "      <th>InspectionYear</th>\n",
       "      <th>Probability_rate</th>\n",
       "      <th>preventive_maintenance_rate</th>\n",
       "      <th>Age_pipe_at_inspection</th>\n",
       "      <th>pipe_inspected_frequently</th>\n",
       "      <th>Average_MonthsLastRev</th>\n",
       "      <th>MonthsLastRev</th>\n",
       "      <th>relative_risk</th>\n",
       "      <th>average_severity_pipe</th>\n",
       "      <th>Incidence</th>\n",
       "      <th>Province</th>\n",
       "      <th>Town</th>\n",
       "      <th>YearBuilt</th>\n",
       "      <th>Diameter</th>\n",
       "      <th>Length</th>\n",
       "      <th>Pressure</th>\n",
       "      <th>NumConnections</th>\n",
       "      <th>NumConnectionsUnder</th>\n",
       "      <th>BoolBridle</th>\n",
       "      <th>aspect</th>\n",
       "      <th>Relative_Thickness</th>\n",
       "      <th>pipe_area</th>\n",
       "      <th>area_connection</th>\n",
       "      <th>incidence_area</th>\n",
       "      <th>connection_bool</th>\n",
       "      <th>Severity_high</th>\n",
       "      <th>Severity_medium</th>\n",
       "      <th>Severity_low</th>\n",
       "      <th>gas_natural</th>\n",
       "      <th>Material_Acrylonitrile-Butadiene-Styrene</th>\n",
       "      <th>Material_Copper</th>\n",
       "      <th>Material_Fiberglass-Reinforced Plastic</th>\n",
       "      <th>Material_Polyethylene</th>\n",
       "      <th>Material_Polypropylene</th>\n",
       "      <th>Diameter2</th>\n",
       "      <th>Length2</th>\n",
       "      <th>Pressure2</th>\n",
       "      <th>Average yearly temperature (°C)</th>\n",
       "      <th>Min. Temperature (°C)</th>\n",
       "      <th>Max. Temperature (°C)</th>\n",
       "      <th>Yearly Rainfall (mm)</th>\n",
       "      <th>Average year Humidity (%)</th>\n",
       "      <th>Rainy days per year (days)</th>\n",
       "      <th>Yearly Sun Hours (hours)</th>\n",
       "    </tr>\n",
       "  </thead>\n",
       "  <tbody>\n",
       "    <tr>\n",
       "      <th>0</th>\n",
       "      <td>489616</td>\n",
       "      <td>5</td>\n",
       "      <td>0.00</td>\n",
       "      <td>2013.00</td>\n",
       "      <td>0.00</td>\n",
       "      <td>0.00</td>\n",
       "      <td>1.00</td>\n",
       "      <td>1</td>\n",
       "      <td>21.40</td>\n",
       "      <td>16.00</td>\n",
       "      <td>0.00</td>\n",
       "      <td>4.00</td>\n",
       "      <td>0.00</td>\n",
       "      <td>ciudad real</td>\n",
       "      <td>Torralba de Calatrava</td>\n",
       "      <td>2012</td>\n",
       "      <td>0.06</td>\n",
       "      <td>7.79</td>\n",
       "      <td>0.40</td>\n",
       "      <td>0</td>\n",
       "      <td>0</td>\n",
       "      <td>0</td>\n",
       "      <td>0.81</td>\n",
       "      <td>0.16</td>\n",
       "      <td>1.54</td>\n",
       "      <td>0.00</td>\n",
       "      <td>0.00</td>\n",
       "      <td>0</td>\n",
       "      <td>0</td>\n",
       "      <td>0</td>\n",
       "      <td>0</td>\n",
       "      <td>1</td>\n",
       "      <td>0</td>\n",
       "      <td>0</td>\n",
       "      <td>0</td>\n",
       "      <td>1</td>\n",
       "      <td>0</td>\n",
       "      <td>0.00</td>\n",
       "      <td>60.72</td>\n",
       "      <td>0.16</td>\n",
       "      <td>15.44</td>\n",
       "      <td>1.50</td>\n",
       "      <td>33.70</td>\n",
       "      <td>438</td>\n",
       "      <td>0.55</td>\n",
       "      <td>52</td>\n",
       "      <td>107.50</td>\n",
       "    </tr>\n",
       "  </tbody>\n",
       "</table>\n",
       "</div>"
      ],
      "text/plain": [
       "   PipeId  No_Inspections  No_Incidents  InspectionYear  Probability_rate  \\\n",
       "0  489616               5          0.00         2013.00              0.00   \n",
       "\n",
       "   preventive_maintenance_rate  Age_pipe_at_inspection  \\\n",
       "0                         0.00                    1.00   \n",
       "\n",
       "   pipe_inspected_frequently  Average_MonthsLastRev  MonthsLastRev  \\\n",
       "0                          1                  21.40          16.00   \n",
       "\n",
       "   relative_risk  average_severity_pipe  Incidence     Province  \\\n",
       "0           0.00                   4.00       0.00  ciudad real   \n",
       "\n",
       "                    Town  YearBuilt  Diameter  Length  Pressure  \\\n",
       "0  Torralba de Calatrava       2012      0.06    7.79      0.40   \n",
       "\n",
       "   NumConnections  NumConnectionsUnder  BoolBridle  aspect  \\\n",
       "0               0                    0           0    0.81   \n",
       "\n",
       "   Relative_Thickness  pipe_area  area_connection  incidence_area  \\\n",
       "0                0.16       1.54             0.00            0.00   \n",
       "\n",
       "   connection_bool  Severity_high  Severity_medium  Severity_low  gas_natural  \\\n",
       "0                0              0                0             0            1   \n",
       "\n",
       "   Material_Acrylonitrile-Butadiene-Styrene  Material_Copper  \\\n",
       "0                                         0                0   \n",
       "\n",
       "   Material_Fiberglass-Reinforced Plastic  Material_Polyethylene  \\\n",
       "0                                       0                      1   \n",
       "\n",
       "   Material_Polypropylene  Diameter2  Length2  Pressure2  \\\n",
       "0                       0       0.00    60.72       0.16   \n",
       "\n",
       "   Average yearly temperature (°C)  Min. Temperature (°C)  \\\n",
       "0                            15.44                   1.50   \n",
       "\n",
       "   Max. Temperature (°C)  Yearly Rainfall (mm)  Average year Humidity (%)  \\\n",
       "0                  33.70                   438                       0.55   \n",
       "\n",
       "   Rainy days per year (days)  Yearly Sun Hours (hours)  \n",
       "0                          52                    107.50  "
      ]
     },
     "execution_count": 123,
     "metadata": {},
     "output_type": "execute_result"
    }
   ],
   "source": [
    "train_copy.head(1)"
   ]
  },
  {
   "cell_type": "code",
   "execution_count": 124,
   "id": "80aeb4b0",
   "metadata": {},
   "outputs": [
    {
     "data": {
      "text/plain": [
       "PipeId                                      0\n",
       "No_Inspections                              0\n",
       "No_Incidents                                0\n",
       "InspectionYear                              0\n",
       "Probability_rate                            0\n",
       "preventive_maintenance_rate                 0\n",
       "Age_pipe_at_inspection                      0\n",
       "pipe_inspected_frequently                   0\n",
       "Average_MonthsLastRev                       0\n",
       "MonthsLastRev                               0\n",
       "relative_risk                               0\n",
       "average_severity_pipe                       0\n",
       "Incidence                                   0\n",
       "Province                                    0\n",
       "Town                                        0\n",
       "YearBuilt                                   0\n",
       "Diameter                                    0\n",
       "Length                                      0\n",
       "Pressure                                    0\n",
       "NumConnections                              0\n",
       "NumConnectionsUnder                         0\n",
       "BoolBridle                                  0\n",
       "aspect                                      0\n",
       "Relative_Thickness                          0\n",
       "pipe_area                                   0\n",
       "area_connection                             0\n",
       "incidence_area                              0\n",
       "connection_bool                             0\n",
       "Severity_high                               0\n",
       "Severity_medium                             0\n",
       "Severity_low                                0\n",
       "gas_natural                                 0\n",
       "Material_Acrylonitrile-Butadiene-Styrene    0\n",
       "Material_Copper                             0\n",
       "Material_Fiberglass-Reinforced Plastic      0\n",
       "Material_Polyethylene                       0\n",
       "Material_Polypropylene                      0\n",
       "Diameter2                                   0\n",
       "Length2                                     0\n",
       "Pressure2                                   0\n",
       "Average yearly temperature (°C)             0\n",
       "Min. Temperature (°C)                       0\n",
       "Max. Temperature (°C)                       0\n",
       "Yearly Rainfall (mm)                        0\n",
       "Average year Humidity (%)                   0\n",
       "Rainy days per year (days)                  0\n",
       "Yearly Sun Hours (hours)                    0\n",
       "dtype: int64"
      ]
     },
     "execution_count": 124,
     "metadata": {},
     "output_type": "execute_result"
    }
   ],
   "source": [
    "#count nulls in train_copy\n",
    "train_copy.isnull().sum()"
   ]
  },
  {
   "cell_type": "code",
   "execution_count": 125,
   "id": "7ad34631",
   "metadata": {},
   "outputs": [
    {
     "data": {
      "text/plain": [
       "array([], dtype=object)"
      ]
     },
     "execution_count": 125,
     "metadata": {},
     "output_type": "execute_result"
    }
   ],
   "source": [
    "#compare array for column Province in train_copy and provincias and compute the set difference\n",
    "np.setdiff1d(train_copy['Province'].unique(), provincias['Province'].unique())\n"
   ]
  },
  {
   "cell_type": "code",
   "execution_count": 126,
   "id": "52e9c44e",
   "metadata": {},
   "outputs": [],
   "source": [
    "del provincias"
   ]
  },
  {
   "cell_type": "code",
   "execution_count": 127,
   "id": "e1c07b48",
   "metadata": {},
   "outputs": [
    {
     "data": {
      "text/plain": [
       "'Province'"
      ]
     },
     "execution_count": 127,
     "metadata": {},
     "output_type": "execute_result"
    },
    {
     "data": {
      "text/plain": [
       "'Town'"
      ]
     },
     "execution_count": 127,
     "metadata": {},
     "output_type": "execute_result"
    },
    {
     "data": {
      "text/html": [
       "<div>\n",
       "<style scoped>\n",
       "    .dataframe tbody tr th:only-of-type {\n",
       "        vertical-align: middle;\n",
       "    }\n",
       "\n",
       "    .dataframe tbody tr th {\n",
       "        vertical-align: top;\n",
       "    }\n",
       "\n",
       "    .dataframe thead th {\n",
       "        text-align: right;\n",
       "    }\n",
       "</style>\n",
       "<table border=\"1\" class=\"dataframe\">\n",
       "  <thead>\n",
       "    <tr style=\"text-align: right;\">\n",
       "      <th></th>\n",
       "      <th>PipeId</th>\n",
       "      <th>No_Inspections</th>\n",
       "      <th>No_Incidents</th>\n",
       "      <th>InspectionYear</th>\n",
       "      <th>Probability_rate</th>\n",
       "      <th>preventive_maintenance_rate</th>\n",
       "      <th>Age_pipe_at_inspection</th>\n",
       "      <th>pipe_inspected_frequently</th>\n",
       "      <th>Average_MonthsLastRev</th>\n",
       "      <th>MonthsLastRev</th>\n",
       "      <th>relative_risk</th>\n",
       "      <th>average_severity_pipe</th>\n",
       "      <th>Incidence</th>\n",
       "      <th>YearBuilt</th>\n",
       "      <th>Diameter</th>\n",
       "      <th>Length</th>\n",
       "      <th>Pressure</th>\n",
       "      <th>NumConnections</th>\n",
       "      <th>NumConnectionsUnder</th>\n",
       "      <th>BoolBridle</th>\n",
       "      <th>aspect</th>\n",
       "      <th>Relative_Thickness</th>\n",
       "      <th>pipe_area</th>\n",
       "      <th>area_connection</th>\n",
       "      <th>incidence_area</th>\n",
       "      <th>connection_bool</th>\n",
       "      <th>Severity_high</th>\n",
       "      <th>Severity_medium</th>\n",
       "      <th>Severity_low</th>\n",
       "      <th>gas_natural</th>\n",
       "      <th>Material_Acrylonitrile-Butadiene-Styrene</th>\n",
       "      <th>Material_Copper</th>\n",
       "      <th>Material_Fiberglass-Reinforced Plastic</th>\n",
       "      <th>Material_Polyethylene</th>\n",
       "      <th>Material_Polypropylene</th>\n",
       "      <th>Diameter2</th>\n",
       "      <th>Length2</th>\n",
       "      <th>Pressure2</th>\n",
       "      <th>Average yearly temperature (°C)</th>\n",
       "      <th>Min. Temperature (°C)</th>\n",
       "      <th>Max. Temperature (°C)</th>\n",
       "      <th>Yearly Rainfall (mm)</th>\n",
       "      <th>Average year Humidity (%)</th>\n",
       "      <th>Rainy days per year (days)</th>\n",
       "      <th>Yearly Sun Hours (hours)</th>\n",
       "      <th>Province</th>\n",
       "      <th>Town</th>\n",
       "    </tr>\n",
       "  </thead>\n",
       "  <tbody>\n",
       "    <tr>\n",
       "      <th>6337663</th>\n",
       "      <td>416536460</td>\n",
       "      <td>1</td>\n",
       "      <td>0.00</td>\n",
       "      <td>2013.00</td>\n",
       "      <td>0.00</td>\n",
       "      <td>0.00</td>\n",
       "      <td>2.00</td>\n",
       "      <td>1</td>\n",
       "      <td>0.00</td>\n",
       "      <td>0.00</td>\n",
       "      <td>0.00</td>\n",
       "      <td>4.00</td>\n",
       "      <td>0.00</td>\n",
       "      <td>2011</td>\n",
       "      <td>0.05</td>\n",
       "      <td>0.21</td>\n",
       "      <td>45.00</td>\n",
       "      <td>0</td>\n",
       "      <td>0</td>\n",
       "      <td>0</td>\n",
       "      <td>4218.22</td>\n",
       "      <td>0.00</td>\n",
       "      <td>0.03</td>\n",
       "      <td>0.00</td>\n",
       "      <td>0.00</td>\n",
       "      <td>0</td>\n",
       "      <td>0</td>\n",
       "      <td>0</td>\n",
       "      <td>0</td>\n",
       "      <td>1</td>\n",
       "      <td>1</td>\n",
       "      <td>0</td>\n",
       "      <td>0</td>\n",
       "      <td>0</td>\n",
       "      <td>0</td>\n",
       "      <td>0.00</td>\n",
       "      <td>0.04</td>\n",
       "      <td>2025.00</td>\n",
       "      <td>12.38</td>\n",
       "      <td>1.70</td>\n",
       "      <td>26.90</td>\n",
       "      <td>633</td>\n",
       "      <td>0.72</td>\n",
       "      <td>87</td>\n",
       "      <td>85.20</td>\n",
       "      <td>la rioja</td>\n",
       "      <td>Baños de Rio Tobia</td>\n",
       "    </tr>\n",
       "    <tr>\n",
       "      <th>6337664</th>\n",
       "      <td>416536482</td>\n",
       "      <td>1</td>\n",
       "      <td>0.00</td>\n",
       "      <td>2013.00</td>\n",
       "      <td>0.00</td>\n",
       "      <td>0.00</td>\n",
       "      <td>2.00</td>\n",
       "      <td>1</td>\n",
       "      <td>0.00</td>\n",
       "      <td>0.00</td>\n",
       "      <td>0.00</td>\n",
       "      <td>4.00</td>\n",
       "      <td>0.00</td>\n",
       "      <td>2011</td>\n",
       "      <td>0.05</td>\n",
       "      <td>0.80</td>\n",
       "      <td>45.00</td>\n",
       "      <td>0</td>\n",
       "      <td>0</td>\n",
       "      <td>0</td>\n",
       "      <td>1114.25</td>\n",
       "      <td>0.00</td>\n",
       "      <td>0.13</td>\n",
       "      <td>0.00</td>\n",
       "      <td>0.00</td>\n",
       "      <td>0</td>\n",
       "      <td>0</td>\n",
       "      <td>0</td>\n",
       "      <td>0</td>\n",
       "      <td>1</td>\n",
       "      <td>1</td>\n",
       "      <td>0</td>\n",
       "      <td>0</td>\n",
       "      <td>0</td>\n",
       "      <td>0</td>\n",
       "      <td>0.00</td>\n",
       "      <td>0.63</td>\n",
       "      <td>2025.00</td>\n",
       "      <td>12.38</td>\n",
       "      <td>1.70</td>\n",
       "      <td>26.90</td>\n",
       "      <td>633</td>\n",
       "      <td>0.72</td>\n",
       "      <td>87</td>\n",
       "      <td>85.20</td>\n",
       "      <td>la rioja</td>\n",
       "      <td>Baños de Rio Tobia</td>\n",
       "    </tr>\n",
       "  </tbody>\n",
       "</table>\n",
       "</div>"
      ],
      "text/plain": [
       "            PipeId  No_Inspections  No_Incidents  InspectionYear  \\\n",
       "6337663  416536460               1          0.00         2013.00   \n",
       "6337664  416536482               1          0.00         2013.00   \n",
       "\n",
       "         Probability_rate  preventive_maintenance_rate  \\\n",
       "6337663              0.00                         0.00   \n",
       "6337664              0.00                         0.00   \n",
       "\n",
       "         Age_pipe_at_inspection  pipe_inspected_frequently  \\\n",
       "6337663                    2.00                          1   \n",
       "6337664                    2.00                          1   \n",
       "\n",
       "         Average_MonthsLastRev  MonthsLastRev  relative_risk  \\\n",
       "6337663                   0.00           0.00           0.00   \n",
       "6337664                   0.00           0.00           0.00   \n",
       "\n",
       "         average_severity_pipe  Incidence  YearBuilt  Diameter  Length  \\\n",
       "6337663                   4.00       0.00       2011      0.05    0.21   \n",
       "6337664                   4.00       0.00       2011      0.05    0.80   \n",
       "\n",
       "         Pressure  NumConnections  NumConnectionsUnder  BoolBridle  aspect  \\\n",
       "6337663     45.00               0                    0           0 4218.22   \n",
       "6337664     45.00               0                    0           0 1114.25   \n",
       "\n",
       "         Relative_Thickness  pipe_area  area_connection  incidence_area  \\\n",
       "6337663                0.00       0.03             0.00            0.00   \n",
       "6337664                0.00       0.13             0.00            0.00   \n",
       "\n",
       "         connection_bool  Severity_high  Severity_medium  Severity_low  \\\n",
       "6337663                0              0                0             0   \n",
       "6337664                0              0                0             0   \n",
       "\n",
       "         gas_natural  Material_Acrylonitrile-Butadiene-Styrene  \\\n",
       "6337663            1                                         1   \n",
       "6337664            1                                         1   \n",
       "\n",
       "         Material_Copper  Material_Fiberglass-Reinforced Plastic  \\\n",
       "6337663                0                                       0   \n",
       "6337664                0                                       0   \n",
       "\n",
       "         Material_Polyethylene  Material_Polypropylene  Diameter2  Length2  \\\n",
       "6337663                      0                       0       0.00     0.04   \n",
       "6337664                      0                       0       0.00     0.63   \n",
       "\n",
       "         Pressure2  Average yearly temperature (°C)  Min. Temperature (°C)  \\\n",
       "6337663    2025.00                            12.38                   1.70   \n",
       "6337664    2025.00                            12.38                   1.70   \n",
       "\n",
       "         Max. Temperature (°C)  Yearly Rainfall (mm)  \\\n",
       "6337663                  26.90                   633   \n",
       "6337664                  26.90                   633   \n",
       "\n",
       "         Average year Humidity (%)  Rainy days per year (days)  \\\n",
       "6337663                       0.72                          87   \n",
       "6337664                       0.72                          87   \n",
       "\n",
       "         Yearly Sun Hours (hours)  Province                Town  \n",
       "6337663                     85.20  la rioja  Baños de Rio Tobia  \n",
       "6337664                     85.20  la rioja  Baños de Rio Tobia  "
      ]
     },
     "execution_count": 127,
     "metadata": {},
     "output_type": "execute_result"
    }
   ],
   "source": [
    "#place Province and Town Columns at the end of the dataframe\n",
    "cols = list(train_copy.columns.values)\n",
    "cols.pop(cols.index('Province'))\n",
    "cols.pop(cols.index('Town'))\n",
    "train_copy = train_copy[cols+['Province','Town']]\n",
    "train_copy.tail(2)"
   ]
  },
  {
   "cell_type": "code",
   "execution_count": 128,
   "id": "8422db09",
   "metadata": {},
   "outputs": [
    {
     "data": {
      "text/html": [
       "<div>\n",
       "<style scoped>\n",
       "    .dataframe tbody tr th:only-of-type {\n",
       "        vertical-align: middle;\n",
       "    }\n",
       "\n",
       "    .dataframe tbody tr th {\n",
       "        vertical-align: top;\n",
       "    }\n",
       "\n",
       "    .dataframe thead th {\n",
       "        text-align: right;\n",
       "    }\n",
       "</style>\n",
       "<table border=\"1\" class=\"dataframe\">\n",
       "  <thead>\n",
       "    <tr style=\"text-align: right;\">\n",
       "      <th></th>\n",
       "      <th>PipeId</th>\n",
       "      <th>No_Inspections</th>\n",
       "      <th>No_Incidents</th>\n",
       "      <th>InspectionYear</th>\n",
       "      <th>Probability_rate</th>\n",
       "      <th>preventive_maintenance_rate</th>\n",
       "      <th>Age_pipe_at_inspection</th>\n",
       "      <th>pipe_inspected_frequently</th>\n",
       "      <th>Average_MonthsLastRev</th>\n",
       "      <th>MonthsLastRev</th>\n",
       "      <th>relative_risk</th>\n",
       "      <th>average_severity_pipe</th>\n",
       "      <th>Incidence</th>\n",
       "      <th>YearBuilt</th>\n",
       "      <th>Diameter</th>\n",
       "      <th>Length</th>\n",
       "      <th>Pressure</th>\n",
       "      <th>NumConnections</th>\n",
       "      <th>NumConnectionsUnder</th>\n",
       "      <th>BoolBridle</th>\n",
       "      <th>aspect</th>\n",
       "      <th>Relative_Thickness</th>\n",
       "      <th>pipe_area</th>\n",
       "      <th>area_connection</th>\n",
       "      <th>incidence_area</th>\n",
       "      <th>connection_bool</th>\n",
       "      <th>Severity_high</th>\n",
       "      <th>Severity_medium</th>\n",
       "      <th>Severity_low</th>\n",
       "      <th>gas_natural</th>\n",
       "      <th>Material_Acrylonitrile-Butadiene-Styrene</th>\n",
       "      <th>Material_Copper</th>\n",
       "      <th>Material_Fiberglass-Reinforced Plastic</th>\n",
       "      <th>Material_Polyethylene</th>\n",
       "      <th>Material_Polypropylene</th>\n",
       "      <th>Diameter2</th>\n",
       "      <th>Length2</th>\n",
       "      <th>Pressure2</th>\n",
       "      <th>Average yearly temperature (°C)</th>\n",
       "      <th>Min. Temperature (°C)</th>\n",
       "      <th>Max. Temperature (°C)</th>\n",
       "      <th>Yearly Rainfall (mm)</th>\n",
       "      <th>Average year Humidity (%)</th>\n",
       "      <th>Rainy days per year (days)</th>\n",
       "      <th>Yearly Sun Hours (hours)</th>\n",
       "      <th>Province</th>\n",
       "      <th>Town</th>\n",
       "    </tr>\n",
       "  </thead>\n",
       "  <tbody>\n",
       "    <tr>\n",
       "      <th>0</th>\n",
       "      <td>489616</td>\n",
       "      <td>5</td>\n",
       "      <td>0.00</td>\n",
       "      <td>2013.00</td>\n",
       "      <td>0.00</td>\n",
       "      <td>0.00</td>\n",
       "      <td>1.00</td>\n",
       "      <td>1</td>\n",
       "      <td>21.40</td>\n",
       "      <td>16.00</td>\n",
       "      <td>0.00</td>\n",
       "      <td>4.00</td>\n",
       "      <td>0.00</td>\n",
       "      <td>2012</td>\n",
       "      <td>0.06</td>\n",
       "      <td>7.79</td>\n",
       "      <td>0.40</td>\n",
       "      <td>0</td>\n",
       "      <td>0</td>\n",
       "      <td>0</td>\n",
       "      <td>0.81</td>\n",
       "      <td>0.16</td>\n",
       "      <td>1.54</td>\n",
       "      <td>0.00</td>\n",
       "      <td>0.00</td>\n",
       "      <td>0</td>\n",
       "      <td>0</td>\n",
       "      <td>0</td>\n",
       "      <td>0</td>\n",
       "      <td>1</td>\n",
       "      <td>0</td>\n",
       "      <td>0</td>\n",
       "      <td>0</td>\n",
       "      <td>1</td>\n",
       "      <td>0</td>\n",
       "      <td>0.00</td>\n",
       "      <td>60.72</td>\n",
       "      <td>0.16</td>\n",
       "      <td>15.44</td>\n",
       "      <td>1.50</td>\n",
       "      <td>33.70</td>\n",
       "      <td>438</td>\n",
       "      <td>0.55</td>\n",
       "      <td>52</td>\n",
       "      <td>107.50</td>\n",
       "      <td>ciudad real</td>\n",
       "      <td>torralba de calatrava</td>\n",
       "    </tr>\n",
       "    <tr>\n",
       "      <th>1</th>\n",
       "      <td>489616</td>\n",
       "      <td>5</td>\n",
       "      <td>0.00</td>\n",
       "      <td>2015.00</td>\n",
       "      <td>0.00</td>\n",
       "      <td>0.00</td>\n",
       "      <td>3.00</td>\n",
       "      <td>1</td>\n",
       "      <td>21.40</td>\n",
       "      <td>22.00</td>\n",
       "      <td>0.00</td>\n",
       "      <td>4.00</td>\n",
       "      <td>0.00</td>\n",
       "      <td>2012</td>\n",
       "      <td>0.06</td>\n",
       "      <td>7.79</td>\n",
       "      <td>0.40</td>\n",
       "      <td>0</td>\n",
       "      <td>0</td>\n",
       "      <td>0</td>\n",
       "      <td>0.81</td>\n",
       "      <td>0.16</td>\n",
       "      <td>1.54</td>\n",
       "      <td>0.00</td>\n",
       "      <td>0.00</td>\n",
       "      <td>0</td>\n",
       "      <td>0</td>\n",
       "      <td>0</td>\n",
       "      <td>0</td>\n",
       "      <td>1</td>\n",
       "      <td>0</td>\n",
       "      <td>0</td>\n",
       "      <td>0</td>\n",
       "      <td>1</td>\n",
       "      <td>0</td>\n",
       "      <td>0.00</td>\n",
       "      <td>60.72</td>\n",
       "      <td>0.16</td>\n",
       "      <td>15.44</td>\n",
       "      <td>1.50</td>\n",
       "      <td>33.70</td>\n",
       "      <td>438</td>\n",
       "      <td>0.55</td>\n",
       "      <td>52</td>\n",
       "      <td>107.50</td>\n",
       "      <td>ciudad real</td>\n",
       "      <td>torralba de calatrava</td>\n",
       "    </tr>\n",
       "    <tr>\n",
       "      <th>2</th>\n",
       "      <td>489616</td>\n",
       "      <td>5</td>\n",
       "      <td>0.00</td>\n",
       "      <td>2016.00</td>\n",
       "      <td>0.00</td>\n",
       "      <td>0.00</td>\n",
       "      <td>4.00</td>\n",
       "      <td>1</td>\n",
       "      <td>21.40</td>\n",
       "      <td>22.00</td>\n",
       "      <td>0.00</td>\n",
       "      <td>4.00</td>\n",
       "      <td>0.00</td>\n",
       "      <td>2012</td>\n",
       "      <td>0.06</td>\n",
       "      <td>7.79</td>\n",
       "      <td>0.40</td>\n",
       "      <td>0</td>\n",
       "      <td>0</td>\n",
       "      <td>0</td>\n",
       "      <td>0.81</td>\n",
       "      <td>0.16</td>\n",
       "      <td>1.54</td>\n",
       "      <td>0.00</td>\n",
       "      <td>0.00</td>\n",
       "      <td>0</td>\n",
       "      <td>0</td>\n",
       "      <td>0</td>\n",
       "      <td>0</td>\n",
       "      <td>1</td>\n",
       "      <td>0</td>\n",
       "      <td>0</td>\n",
       "      <td>0</td>\n",
       "      <td>1</td>\n",
       "      <td>0</td>\n",
       "      <td>0.00</td>\n",
       "      <td>60.72</td>\n",
       "      <td>0.16</td>\n",
       "      <td>15.44</td>\n",
       "      <td>1.50</td>\n",
       "      <td>33.70</td>\n",
       "      <td>438</td>\n",
       "      <td>0.55</td>\n",
       "      <td>52</td>\n",
       "      <td>107.50</td>\n",
       "      <td>ciudad real</td>\n",
       "      <td>torralba de calatrava</td>\n",
       "    </tr>\n",
       "    <tr>\n",
       "      <th>3</th>\n",
       "      <td>489616</td>\n",
       "      <td>5</td>\n",
       "      <td>0.00</td>\n",
       "      <td>2018.00</td>\n",
       "      <td>0.00</td>\n",
       "      <td>0.00</td>\n",
       "      <td>6.00</td>\n",
       "      <td>1</td>\n",
       "      <td>21.40</td>\n",
       "      <td>23.00</td>\n",
       "      <td>0.00</td>\n",
       "      <td>4.00</td>\n",
       "      <td>0.00</td>\n",
       "      <td>2012</td>\n",
       "      <td>0.06</td>\n",
       "      <td>7.79</td>\n",
       "      <td>0.40</td>\n",
       "      <td>0</td>\n",
       "      <td>0</td>\n",
       "      <td>0</td>\n",
       "      <td>0.81</td>\n",
       "      <td>0.16</td>\n",
       "      <td>1.54</td>\n",
       "      <td>0.00</td>\n",
       "      <td>0.00</td>\n",
       "      <td>0</td>\n",
       "      <td>0</td>\n",
       "      <td>0</td>\n",
       "      <td>0</td>\n",
       "      <td>1</td>\n",
       "      <td>0</td>\n",
       "      <td>0</td>\n",
       "      <td>0</td>\n",
       "      <td>1</td>\n",
       "      <td>0</td>\n",
       "      <td>0.00</td>\n",
       "      <td>60.72</td>\n",
       "      <td>0.16</td>\n",
       "      <td>15.44</td>\n",
       "      <td>1.50</td>\n",
       "      <td>33.70</td>\n",
       "      <td>438</td>\n",
       "      <td>0.55</td>\n",
       "      <td>52</td>\n",
       "      <td>107.50</td>\n",
       "      <td>ciudad real</td>\n",
       "      <td>torralba de calatrava</td>\n",
       "    </tr>\n",
       "    <tr>\n",
       "      <th>4</th>\n",
       "      <td>489616</td>\n",
       "      <td>5</td>\n",
       "      <td>0.00</td>\n",
       "      <td>2020.00</td>\n",
       "      <td>0.00</td>\n",
       "      <td>0.00</td>\n",
       "      <td>8.00</td>\n",
       "      <td>1</td>\n",
       "      <td>21.40</td>\n",
       "      <td>24.00</td>\n",
       "      <td>0.00</td>\n",
       "      <td>4.00</td>\n",
       "      <td>0.00</td>\n",
       "      <td>2012</td>\n",
       "      <td>0.06</td>\n",
       "      <td>7.79</td>\n",
       "      <td>0.40</td>\n",
       "      <td>0</td>\n",
       "      <td>0</td>\n",
       "      <td>0</td>\n",
       "      <td>0.81</td>\n",
       "      <td>0.16</td>\n",
       "      <td>1.54</td>\n",
       "      <td>0.00</td>\n",
       "      <td>0.00</td>\n",
       "      <td>0</td>\n",
       "      <td>0</td>\n",
       "      <td>0</td>\n",
       "      <td>0</td>\n",
       "      <td>1</td>\n",
       "      <td>0</td>\n",
       "      <td>0</td>\n",
       "      <td>0</td>\n",
       "      <td>1</td>\n",
       "      <td>0</td>\n",
       "      <td>0.00</td>\n",
       "      <td>60.72</td>\n",
       "      <td>0.16</td>\n",
       "      <td>15.44</td>\n",
       "      <td>1.50</td>\n",
       "      <td>33.70</td>\n",
       "      <td>438</td>\n",
       "      <td>0.55</td>\n",
       "      <td>52</td>\n",
       "      <td>107.50</td>\n",
       "      <td>ciudad real</td>\n",
       "      <td>torralba de calatrava</td>\n",
       "    </tr>\n",
       "    <tr>\n",
       "      <th>...</th>\n",
       "      <td>...</td>\n",
       "      <td>...</td>\n",
       "      <td>...</td>\n",
       "      <td>...</td>\n",
       "      <td>...</td>\n",
       "      <td>...</td>\n",
       "      <td>...</td>\n",
       "      <td>...</td>\n",
       "      <td>...</td>\n",
       "      <td>...</td>\n",
       "      <td>...</td>\n",
       "      <td>...</td>\n",
       "      <td>...</td>\n",
       "      <td>...</td>\n",
       "      <td>...</td>\n",
       "      <td>...</td>\n",
       "      <td>...</td>\n",
       "      <td>...</td>\n",
       "      <td>...</td>\n",
       "      <td>...</td>\n",
       "      <td>...</td>\n",
       "      <td>...</td>\n",
       "      <td>...</td>\n",
       "      <td>...</td>\n",
       "      <td>...</td>\n",
       "      <td>...</td>\n",
       "      <td>...</td>\n",
       "      <td>...</td>\n",
       "      <td>...</td>\n",
       "      <td>...</td>\n",
       "      <td>...</td>\n",
       "      <td>...</td>\n",
       "      <td>...</td>\n",
       "      <td>...</td>\n",
       "      <td>...</td>\n",
       "      <td>...</td>\n",
       "      <td>...</td>\n",
       "      <td>...</td>\n",
       "      <td>...</td>\n",
       "      <td>...</td>\n",
       "      <td>...</td>\n",
       "      <td>...</td>\n",
       "      <td>...</td>\n",
       "      <td>...</td>\n",
       "      <td>...</td>\n",
       "      <td>...</td>\n",
       "      <td>...</td>\n",
       "    </tr>\n",
       "    <tr>\n",
       "      <th>6337660</th>\n",
       "      <td>416536087</td>\n",
       "      <td>1</td>\n",
       "      <td>0.00</td>\n",
       "      <td>2013.00</td>\n",
       "      <td>0.00</td>\n",
       "      <td>0.00</td>\n",
       "      <td>2.00</td>\n",
       "      <td>1</td>\n",
       "      <td>0.00</td>\n",
       "      <td>0.00</td>\n",
       "      <td>0.00</td>\n",
       "      <td>4.00</td>\n",
       "      <td>0.00</td>\n",
       "      <td>2011</td>\n",
       "      <td>0.05</td>\n",
       "      <td>0.45</td>\n",
       "      <td>45.00</td>\n",
       "      <td>0</td>\n",
       "      <td>0</td>\n",
       "      <td>0</td>\n",
       "      <td>1951.16</td>\n",
       "      <td>0.00</td>\n",
       "      <td>0.07</td>\n",
       "      <td>0.00</td>\n",
       "      <td>0.00</td>\n",
       "      <td>0</td>\n",
       "      <td>0</td>\n",
       "      <td>0</td>\n",
       "      <td>0</td>\n",
       "      <td>1</td>\n",
       "      <td>1</td>\n",
       "      <td>0</td>\n",
       "      <td>0</td>\n",
       "      <td>0</td>\n",
       "      <td>0</td>\n",
       "      <td>0.00</td>\n",
       "      <td>0.21</td>\n",
       "      <td>2025.00</td>\n",
       "      <td>12.38</td>\n",
       "      <td>1.70</td>\n",
       "      <td>26.90</td>\n",
       "      <td>633</td>\n",
       "      <td>0.72</td>\n",
       "      <td>87</td>\n",
       "      <td>85.20</td>\n",
       "      <td>la rioja</td>\n",
       "      <td>banos de rio tobia</td>\n",
       "    </tr>\n",
       "    <tr>\n",
       "      <th>6337661</th>\n",
       "      <td>416536416</td>\n",
       "      <td>1</td>\n",
       "      <td>0.00</td>\n",
       "      <td>2013.00</td>\n",
       "      <td>0.00</td>\n",
       "      <td>0.00</td>\n",
       "      <td>2.00</td>\n",
       "      <td>1</td>\n",
       "      <td>0.00</td>\n",
       "      <td>0.00</td>\n",
       "      <td>0.00</td>\n",
       "      <td>4.00</td>\n",
       "      <td>0.00</td>\n",
       "      <td>2011</td>\n",
       "      <td>0.10</td>\n",
       "      <td>0.48</td>\n",
       "      <td>45.00</td>\n",
       "      <td>0</td>\n",
       "      <td>0</td>\n",
       "      <td>0</td>\n",
       "      <td>926.60</td>\n",
       "      <td>0.00</td>\n",
       "      <td>0.15</td>\n",
       "      <td>0.00</td>\n",
       "      <td>0.00</td>\n",
       "      <td>0</td>\n",
       "      <td>0</td>\n",
       "      <td>0</td>\n",
       "      <td>0</td>\n",
       "      <td>1</td>\n",
       "      <td>1</td>\n",
       "      <td>0</td>\n",
       "      <td>0</td>\n",
       "      <td>0</td>\n",
       "      <td>0</td>\n",
       "      <td>0.01</td>\n",
       "      <td>0.23</td>\n",
       "      <td>2025.00</td>\n",
       "      <td>12.38</td>\n",
       "      <td>1.70</td>\n",
       "      <td>26.90</td>\n",
       "      <td>633</td>\n",
       "      <td>0.72</td>\n",
       "      <td>87</td>\n",
       "      <td>85.20</td>\n",
       "      <td>la rioja</td>\n",
       "      <td>banos de rio tobia</td>\n",
       "    </tr>\n",
       "    <tr>\n",
       "      <th>6337662</th>\n",
       "      <td>416536438</td>\n",
       "      <td>1</td>\n",
       "      <td>0.00</td>\n",
       "      <td>2013.00</td>\n",
       "      <td>0.00</td>\n",
       "      <td>0.00</td>\n",
       "      <td>2.00</td>\n",
       "      <td>1</td>\n",
       "      <td>0.00</td>\n",
       "      <td>0.00</td>\n",
       "      <td>0.00</td>\n",
       "      <td>4.00</td>\n",
       "      <td>0.00</td>\n",
       "      <td>2011</td>\n",
       "      <td>0.10</td>\n",
       "      <td>0.48</td>\n",
       "      <td>45.00</td>\n",
       "      <td>0</td>\n",
       "      <td>0</td>\n",
       "      <td>0</td>\n",
       "      <td>913.22</td>\n",
       "      <td>0.00</td>\n",
       "      <td>0.15</td>\n",
       "      <td>0.00</td>\n",
       "      <td>0.00</td>\n",
       "      <td>0</td>\n",
       "      <td>0</td>\n",
       "      <td>0</td>\n",
       "      <td>0</td>\n",
       "      <td>1</td>\n",
       "      <td>1</td>\n",
       "      <td>0</td>\n",
       "      <td>0</td>\n",
       "      <td>0</td>\n",
       "      <td>0</td>\n",
       "      <td>0.01</td>\n",
       "      <td>0.24</td>\n",
       "      <td>2025.00</td>\n",
       "      <td>12.38</td>\n",
       "      <td>1.70</td>\n",
       "      <td>26.90</td>\n",
       "      <td>633</td>\n",
       "      <td>0.72</td>\n",
       "      <td>87</td>\n",
       "      <td>85.20</td>\n",
       "      <td>la rioja</td>\n",
       "      <td>banos de rio tobia</td>\n",
       "    </tr>\n",
       "    <tr>\n",
       "      <th>6337663</th>\n",
       "      <td>416536460</td>\n",
       "      <td>1</td>\n",
       "      <td>0.00</td>\n",
       "      <td>2013.00</td>\n",
       "      <td>0.00</td>\n",
       "      <td>0.00</td>\n",
       "      <td>2.00</td>\n",
       "      <td>1</td>\n",
       "      <td>0.00</td>\n",
       "      <td>0.00</td>\n",
       "      <td>0.00</td>\n",
       "      <td>4.00</td>\n",
       "      <td>0.00</td>\n",
       "      <td>2011</td>\n",
       "      <td>0.05</td>\n",
       "      <td>0.21</td>\n",
       "      <td>45.00</td>\n",
       "      <td>0</td>\n",
       "      <td>0</td>\n",
       "      <td>0</td>\n",
       "      <td>4218.22</td>\n",
       "      <td>0.00</td>\n",
       "      <td>0.03</td>\n",
       "      <td>0.00</td>\n",
       "      <td>0.00</td>\n",
       "      <td>0</td>\n",
       "      <td>0</td>\n",
       "      <td>0</td>\n",
       "      <td>0</td>\n",
       "      <td>1</td>\n",
       "      <td>1</td>\n",
       "      <td>0</td>\n",
       "      <td>0</td>\n",
       "      <td>0</td>\n",
       "      <td>0</td>\n",
       "      <td>0.00</td>\n",
       "      <td>0.04</td>\n",
       "      <td>2025.00</td>\n",
       "      <td>12.38</td>\n",
       "      <td>1.70</td>\n",
       "      <td>26.90</td>\n",
       "      <td>633</td>\n",
       "      <td>0.72</td>\n",
       "      <td>87</td>\n",
       "      <td>85.20</td>\n",
       "      <td>la rioja</td>\n",
       "      <td>banos de rio tobia</td>\n",
       "    </tr>\n",
       "    <tr>\n",
       "      <th>6337664</th>\n",
       "      <td>416536482</td>\n",
       "      <td>1</td>\n",
       "      <td>0.00</td>\n",
       "      <td>2013.00</td>\n",
       "      <td>0.00</td>\n",
       "      <td>0.00</td>\n",
       "      <td>2.00</td>\n",
       "      <td>1</td>\n",
       "      <td>0.00</td>\n",
       "      <td>0.00</td>\n",
       "      <td>0.00</td>\n",
       "      <td>4.00</td>\n",
       "      <td>0.00</td>\n",
       "      <td>2011</td>\n",
       "      <td>0.05</td>\n",
       "      <td>0.80</td>\n",
       "      <td>45.00</td>\n",
       "      <td>0</td>\n",
       "      <td>0</td>\n",
       "      <td>0</td>\n",
       "      <td>1114.25</td>\n",
       "      <td>0.00</td>\n",
       "      <td>0.13</td>\n",
       "      <td>0.00</td>\n",
       "      <td>0.00</td>\n",
       "      <td>0</td>\n",
       "      <td>0</td>\n",
       "      <td>0</td>\n",
       "      <td>0</td>\n",
       "      <td>1</td>\n",
       "      <td>1</td>\n",
       "      <td>0</td>\n",
       "      <td>0</td>\n",
       "      <td>0</td>\n",
       "      <td>0</td>\n",
       "      <td>0.00</td>\n",
       "      <td>0.63</td>\n",
       "      <td>2025.00</td>\n",
       "      <td>12.38</td>\n",
       "      <td>1.70</td>\n",
       "      <td>26.90</td>\n",
       "      <td>633</td>\n",
       "      <td>0.72</td>\n",
       "      <td>87</td>\n",
       "      <td>85.20</td>\n",
       "      <td>la rioja</td>\n",
       "      <td>banos de rio tobia</td>\n",
       "    </tr>\n",
       "  </tbody>\n",
       "</table>\n",
       "<p>6337665 rows × 47 columns</p>\n",
       "</div>"
      ],
      "text/plain": [
       "            PipeId  No_Inspections  No_Incidents  InspectionYear  \\\n",
       "0           489616               5          0.00         2013.00   \n",
       "1           489616               5          0.00         2015.00   \n",
       "2           489616               5          0.00         2016.00   \n",
       "3           489616               5          0.00         2018.00   \n",
       "4           489616               5          0.00         2020.00   \n",
       "...            ...             ...           ...             ...   \n",
       "6337660  416536087               1          0.00         2013.00   \n",
       "6337661  416536416               1          0.00         2013.00   \n",
       "6337662  416536438               1          0.00         2013.00   \n",
       "6337663  416536460               1          0.00         2013.00   \n",
       "6337664  416536482               1          0.00         2013.00   \n",
       "\n",
       "         Probability_rate  preventive_maintenance_rate  \\\n",
       "0                    0.00                         0.00   \n",
       "1                    0.00                         0.00   \n",
       "2                    0.00                         0.00   \n",
       "3                    0.00                         0.00   \n",
       "4                    0.00                         0.00   \n",
       "...                   ...                          ...   \n",
       "6337660              0.00                         0.00   \n",
       "6337661              0.00                         0.00   \n",
       "6337662              0.00                         0.00   \n",
       "6337663              0.00                         0.00   \n",
       "6337664              0.00                         0.00   \n",
       "\n",
       "         Age_pipe_at_inspection  pipe_inspected_frequently  \\\n",
       "0                          1.00                          1   \n",
       "1                          3.00                          1   \n",
       "2                          4.00                          1   \n",
       "3                          6.00                          1   \n",
       "4                          8.00                          1   \n",
       "...                         ...                        ...   \n",
       "6337660                    2.00                          1   \n",
       "6337661                    2.00                          1   \n",
       "6337662                    2.00                          1   \n",
       "6337663                    2.00                          1   \n",
       "6337664                    2.00                          1   \n",
       "\n",
       "         Average_MonthsLastRev  MonthsLastRev  relative_risk  \\\n",
       "0                        21.40          16.00           0.00   \n",
       "1                        21.40          22.00           0.00   \n",
       "2                        21.40          22.00           0.00   \n",
       "3                        21.40          23.00           0.00   \n",
       "4                        21.40          24.00           0.00   \n",
       "...                        ...            ...            ...   \n",
       "6337660                   0.00           0.00           0.00   \n",
       "6337661                   0.00           0.00           0.00   \n",
       "6337662                   0.00           0.00           0.00   \n",
       "6337663                   0.00           0.00           0.00   \n",
       "6337664                   0.00           0.00           0.00   \n",
       "\n",
       "         average_severity_pipe  Incidence  YearBuilt  Diameter  Length  \\\n",
       "0                         4.00       0.00       2012      0.06    7.79   \n",
       "1                         4.00       0.00       2012      0.06    7.79   \n",
       "2                         4.00       0.00       2012      0.06    7.79   \n",
       "3                         4.00       0.00       2012      0.06    7.79   \n",
       "4                         4.00       0.00       2012      0.06    7.79   \n",
       "...                        ...        ...        ...       ...     ...   \n",
       "6337660                   4.00       0.00       2011      0.05    0.45   \n",
       "6337661                   4.00       0.00       2011      0.10    0.48   \n",
       "6337662                   4.00       0.00       2011      0.10    0.48   \n",
       "6337663                   4.00       0.00       2011      0.05    0.21   \n",
       "6337664                   4.00       0.00       2011      0.05    0.80   \n",
       "\n",
       "         Pressure  NumConnections  NumConnectionsUnder  BoolBridle  aspect  \\\n",
       "0            0.40               0                    0           0    0.81   \n",
       "1            0.40               0                    0           0    0.81   \n",
       "2            0.40               0                    0           0    0.81   \n",
       "3            0.40               0                    0           0    0.81   \n",
       "4            0.40               0                    0           0    0.81   \n",
       "...           ...             ...                  ...         ...     ...   \n",
       "6337660     45.00               0                    0           0 1951.16   \n",
       "6337661     45.00               0                    0           0  926.60   \n",
       "6337662     45.00               0                    0           0  913.22   \n",
       "6337663     45.00               0                    0           0 4218.22   \n",
       "6337664     45.00               0                    0           0 1114.25   \n",
       "\n",
       "         Relative_Thickness  pipe_area  area_connection  incidence_area  \\\n",
       "0                      0.16       1.54             0.00            0.00   \n",
       "1                      0.16       1.54             0.00            0.00   \n",
       "2                      0.16       1.54             0.00            0.00   \n",
       "3                      0.16       1.54             0.00            0.00   \n",
       "4                      0.16       1.54             0.00            0.00   \n",
       "...                     ...        ...              ...             ...   \n",
       "6337660                0.00       0.07             0.00            0.00   \n",
       "6337661                0.00       0.15             0.00            0.00   \n",
       "6337662                0.00       0.15             0.00            0.00   \n",
       "6337663                0.00       0.03             0.00            0.00   \n",
       "6337664                0.00       0.13             0.00            0.00   \n",
       "\n",
       "         connection_bool  Severity_high  Severity_medium  Severity_low  \\\n",
       "0                      0              0                0             0   \n",
       "1                      0              0                0             0   \n",
       "2                      0              0                0             0   \n",
       "3                      0              0                0             0   \n",
       "4                      0              0                0             0   \n",
       "...                  ...            ...              ...           ...   \n",
       "6337660                0              0                0             0   \n",
       "6337661                0              0                0             0   \n",
       "6337662                0              0                0             0   \n",
       "6337663                0              0                0             0   \n",
       "6337664                0              0                0             0   \n",
       "\n",
       "         gas_natural  Material_Acrylonitrile-Butadiene-Styrene  \\\n",
       "0                  1                                         0   \n",
       "1                  1                                         0   \n",
       "2                  1                                         0   \n",
       "3                  1                                         0   \n",
       "4                  1                                         0   \n",
       "...              ...                                       ...   \n",
       "6337660            1                                         1   \n",
       "6337661            1                                         1   \n",
       "6337662            1                                         1   \n",
       "6337663            1                                         1   \n",
       "6337664            1                                         1   \n",
       "\n",
       "         Material_Copper  Material_Fiberglass-Reinforced Plastic  \\\n",
       "0                      0                                       0   \n",
       "1                      0                                       0   \n",
       "2                      0                                       0   \n",
       "3                      0                                       0   \n",
       "4                      0                                       0   \n",
       "...                  ...                                     ...   \n",
       "6337660                0                                       0   \n",
       "6337661                0                                       0   \n",
       "6337662                0                                       0   \n",
       "6337663                0                                       0   \n",
       "6337664                0                                       0   \n",
       "\n",
       "         Material_Polyethylene  Material_Polypropylene  Diameter2  Length2  \\\n",
       "0                            1                       0       0.00    60.72   \n",
       "1                            1                       0       0.00    60.72   \n",
       "2                            1                       0       0.00    60.72   \n",
       "3                            1                       0       0.00    60.72   \n",
       "4                            1                       0       0.00    60.72   \n",
       "...                        ...                     ...        ...      ...   \n",
       "6337660                      0                       0       0.00     0.21   \n",
       "6337661                      0                       0       0.01     0.23   \n",
       "6337662                      0                       0       0.01     0.24   \n",
       "6337663                      0                       0       0.00     0.04   \n",
       "6337664                      0                       0       0.00     0.63   \n",
       "\n",
       "         Pressure2  Average yearly temperature (°C)  Min. Temperature (°C)  \\\n",
       "0             0.16                            15.44                   1.50   \n",
       "1             0.16                            15.44                   1.50   \n",
       "2             0.16                            15.44                   1.50   \n",
       "3             0.16                            15.44                   1.50   \n",
       "4             0.16                            15.44                   1.50   \n",
       "...            ...                              ...                    ...   \n",
       "6337660    2025.00                            12.38                   1.70   \n",
       "6337661    2025.00                            12.38                   1.70   \n",
       "6337662    2025.00                            12.38                   1.70   \n",
       "6337663    2025.00                            12.38                   1.70   \n",
       "6337664    2025.00                            12.38                   1.70   \n",
       "\n",
       "         Max. Temperature (°C)  Yearly Rainfall (mm)  \\\n",
       "0                        33.70                   438   \n",
       "1                        33.70                   438   \n",
       "2                        33.70                   438   \n",
       "3                        33.70                   438   \n",
       "4                        33.70                   438   \n",
       "...                        ...                   ...   \n",
       "6337660                  26.90                   633   \n",
       "6337661                  26.90                   633   \n",
       "6337662                  26.90                   633   \n",
       "6337663                  26.90                   633   \n",
       "6337664                  26.90                   633   \n",
       "\n",
       "         Average year Humidity (%)  Rainy days per year (days)  \\\n",
       "0                             0.55                          52   \n",
       "1                             0.55                          52   \n",
       "2                             0.55                          52   \n",
       "3                             0.55                          52   \n",
       "4                             0.55                          52   \n",
       "...                            ...                         ...   \n",
       "6337660                       0.72                          87   \n",
       "6337661                       0.72                          87   \n",
       "6337662                       0.72                          87   \n",
       "6337663                       0.72                          87   \n",
       "6337664                       0.72                          87   \n",
       "\n",
       "         Yearly Sun Hours (hours)     Province                   Town  \n",
       "0                          107.50  ciudad real  torralba de calatrava  \n",
       "1                          107.50  ciudad real  torralba de calatrava  \n",
       "2                          107.50  ciudad real  torralba de calatrava  \n",
       "3                          107.50  ciudad real  torralba de calatrava  \n",
       "4                          107.50  ciudad real  torralba de calatrava  \n",
       "...                           ...          ...                    ...  \n",
       "6337660                     85.20     la rioja     banos de rio tobia  \n",
       "6337661                     85.20     la rioja     banos de rio tobia  \n",
       "6337662                     85.20     la rioja     banos de rio tobia  \n",
       "6337663                     85.20     la rioja     banos de rio tobia  \n",
       "6337664                     85.20     la rioja     banos de rio tobia  \n",
       "\n",
       "[6337665 rows x 47 columns]"
      ]
     },
     "execution_count": 128,
     "metadata": {},
     "output_type": "execute_result"
    }
   ],
   "source": [
    "normalize_characters(train_copy, 'Town')"
   ]
  },
  {
   "cell_type": "code",
   "execution_count": 129,
   "id": "c98da0d0",
   "metadata": {},
   "outputs": [
    {
     "data": {
      "text/plain": [
       "PipeId                                        int64\n",
       "No_Inspections                                int64\n",
       "No_Incidents                                float64\n",
       "InspectionYear                              float64\n",
       "Probability_rate                            float64\n",
       "preventive_maintenance_rate                 float64\n",
       "Age_pipe_at_inspection                      float64\n",
       "pipe_inspected_frequently                     int32\n",
       "Average_MonthsLastRev                       float64\n",
       "MonthsLastRev                               float64\n",
       "relative_risk                               float64\n",
       "average_severity_pipe                       float64\n",
       "Incidence                                   float64\n",
       "YearBuilt                                     int64\n",
       "Diameter                                    float64\n",
       "Length                                      float64\n",
       "Pressure                                    float64\n",
       "NumConnections                                int64\n",
       "NumConnectionsUnder                           int64\n",
       "BoolBridle                                    int64\n",
       "aspect                                      float64\n",
       "Relative_Thickness                          float64\n",
       "pipe_area                                   float64\n",
       "area_connection                             float64\n",
       "incidence_area                              float64\n",
       "connection_bool                               int32\n",
       "Severity_high                                 uint8\n",
       "Severity_medium                               uint8\n",
       "Severity_low                                  uint8\n",
       "gas_natural                                   uint8\n",
       "Material_Acrylonitrile-Butadiene-Styrene      uint8\n",
       "Material_Copper                               uint8\n",
       "Material_Fiberglass-Reinforced Plastic        uint8\n",
       "Material_Polyethylene                         uint8\n",
       "Material_Polypropylene                        uint8\n",
       "Diameter2                                   float64\n",
       "Length2                                     float64\n",
       "Pressure2                                   float64\n",
       "Average yearly temperature (°C)             float64\n",
       "Min. Temperature (°C)                       float64\n",
       "Max. Temperature (°C)                       float64\n",
       "Yearly Rainfall (mm)                          int64\n",
       "Average year Humidity (%)                   float64\n",
       "Rainy days per year (days)                    int64\n",
       "Yearly Sun Hours (hours)                    float64\n",
       "Province                                     object\n",
       "Town                                         object\n",
       "dtype: object"
      ]
     },
     "execution_count": 129,
     "metadata": {},
     "output_type": "execute_result"
    }
   ],
   "source": [
    "train_copy.dtypes"
   ]
  },
  {
   "attachments": {},
   "cell_type": "markdown",
   "id": "7eb53ca6",
   "metadata": {},
   "source": [
    "# Outlier section"
   ]
  },
  {
   "cell_type": "code",
   "execution_count": 130,
   "id": "1d4b00fb",
   "metadata": {},
   "outputs": [],
   "source": [
    "#delete outliers in Year_Built column < 1960\n",
    "train_copy = train_copy[train_copy['YearBuilt'] > 1975]"
   ]
  },
  {
   "cell_type": "code",
   "execution_count": 131,
   "id": "ccdf400c",
   "metadata": {},
   "outputs": [
    {
     "data": {
      "text/plain": [
       "<Figure size 1000x500 with 0 Axes>"
      ]
     },
     "execution_count": 131,
     "metadata": {},
     "output_type": "execute_result"
    },
    {
     "data": {
      "text/plain": [
       "<AxesSubplot: xlabel='YearBuilt', ylabel='Density'>"
      ]
     },
     "execution_count": 131,
     "metadata": {},
     "output_type": "execute_result"
    },
    {
     "data": {
      "image/png": "[encoded data removed]",
      "text/plain": [
       "<Figure size 1000x500 with 1 Axes>"
      ]
     },
     "metadata": {},
     "output_type": "display_data"
    }
   ],
   "source": [
    "#Show the distribution of YearBuilt\n",
    "plt.figure(figsize=(10,5))\n",
    "sns.distplot(train_copy['YearBuilt'], color='blue', bins=100, hist_kws={'alpha': 0.4});\n",
    "plt.show()"
   ]
  },
  {
   "cell_type": "code",
   "execution_count": 132,
   "id": "b727443b",
   "metadata": {},
   "outputs": [],
   "source": [
    "#eliminate values higher than 40 in MonthsLastRev column\n",
    "train_copy = train_copy[train_copy['MonthsLastRev'] < 40]"
   ]
  },
  {
   "cell_type": "code",
   "execution_count": 133,
   "id": "b7e1478f",
   "metadata": {},
   "outputs": [
    {
     "data": {
      "text/plain": [
       "<Figure size 1000x500 with 0 Axes>"
      ]
     },
     "execution_count": 133,
     "metadata": {},
     "output_type": "execute_result"
    },
    {
     "data": {
      "text/plain": [
       "<AxesSubplot: xlabel='MonthsLastRev', ylabel='Density'>"
      ]
     },
     "execution_count": 133,
     "metadata": {},
     "output_type": "execute_result"
    },
    {
     "data": {
      "image/png": "[encoded data removed]",
      "text/plain": [
       "<Figure size 1000x500 with 1 Axes>"
      ]
     },
     "metadata": {},
     "output_type": "display_data"
    }
   ],
   "source": [
    "#show the distribution of MonthsLastRev\n",
    "plt.figure(figsize=(10,5))\n",
    "sns.distplot(train_copy['MonthsLastRev'], color='blue', bins=100, hist_kws={'alpha': 0.4});\n",
    "plt.show()\n"
   ]
  },
  {
   "cell_type": "code",
   "execution_count": 134,
   "id": "7b66fabc",
   "metadata": {},
   "outputs": [
    {
     "data": {
      "text/plain": [
       "count   6057087.00\n",
       "mean         22.97\n",
       "std           3.09\n",
       "min           0.00\n",
       "25%          23.00\n",
       "50%          24.00\n",
       "75%          24.00\n",
       "max          39.00\n",
       "Name: MonthsLastRev, dtype: float64"
      ]
     },
     "execution_count": 134,
     "metadata": {},
     "output_type": "execute_result"
    }
   ],
   "source": [
    "# use describe function of monthslastrev column to see the distribution of values\n",
    "train_copy['MonthsLastRev'].describe()\n"
   ]
  },
  {
   "cell_type": "code",
   "execution_count": 135,
   "id": "4a9b4b9c",
   "metadata": {},
   "outputs": [],
   "source": [
    "#eliminate values higher than 400 in diameter column\n",
    "train_copy = train_copy[train_copy['Diameter'] < 400]"
   ]
  },
  {
   "cell_type": "code",
   "execution_count": 136,
   "id": "7817e875",
   "metadata": {},
   "outputs": [
    {
     "data": {
      "text/plain": [
       "<Figure size 1000x500 with 0 Axes>"
      ]
     },
     "execution_count": 136,
     "metadata": {},
     "output_type": "execute_result"
    },
    {
     "data": {
      "text/plain": [
       "<AxesSubplot: xlabel='Diameter', ylabel='Density'>"
      ]
     },
     "execution_count": 136,
     "metadata": {},
     "output_type": "execute_result"
    },
    {
     "data": {
      "image/png": "[encoded data removed]",
      "text/plain": [
       "<Figure size 1000x500 with 1 Axes>"
      ]
     },
     "metadata": {},
     "output_type": "display_data"
    }
   ],
   "source": [
    "#show the distribution of Diameter\n",
    "plt.figure(figsize=(10,5))\n",
    "sns.distplot(train_copy['Diameter'], color='blue', bins=100, hist_kws={'alpha': 0.4});\n",
    "plt.show()\n"
   ]
  },
  {
   "cell_type": "code",
   "execution_count": 137,
   "id": "b4cddf70",
   "metadata": {},
   "outputs": [],
   "source": [
    "cols = ['Age_pipe_at_inspection','Length','YearBuilt','InspectionYear'] # one or more\n",
    "\n",
    "Q1 = train_copy[cols].quantile(0.25)\n",
    "Q3 = train_copy[cols].quantile(0.75)\n",
    "IQR = Q3 - Q1\n",
    "\n",
    "train_copy = train_copy[~((train_copy[cols] < (Q1 - 1.5 * IQR)) |(train_copy[cols] > (Q3 + 1.5 * IQR))).any(axis=1)]"
   ]
  },
  {
   "cell_type": "code",
   "execution_count": 138,
   "id": "41d1a8b5",
   "metadata": {},
   "outputs": [
    {
     "data": {
      "text/plain": [
       "(5498133, 47)"
      ]
     },
     "execution_count": 138,
     "metadata": {},
     "output_type": "execute_result"
    }
   ],
   "source": [
    "train_copy.shape"
   ]
  },
  {
   "cell_type": "code",
   "execution_count": 139,
   "id": "f42a09fa",
   "metadata": {},
   "outputs": [
    {
     "data": {
      "text/plain": [
       "<AxesSubplot: >"
      ]
     },
     "execution_count": 139,
     "metadata": {},
     "output_type": "execute_result"
    },
    {
     "data": {
      "image/png": "[encoded data removed]",
      "text/plain": [
       "<Figure size 800x550 with 1 Axes>"
      ]
     },
     "metadata": {},
     "output_type": "display_data"
    }
   ],
   "source": [
    "#graph histogram of MonthsLastRev column\n",
    "train_copy['MonthsLastRev'].hist()"
   ]
  },
  {
   "cell_type": "code",
   "execution_count": 140,
   "id": "63f79d71",
   "metadata": {},
   "outputs": [
    {
     "data": {
      "text/plain": [
       "2.00      26387\n",
       "1.00      25126\n",
       "0.50      18245\n",
       "1.50      17906\n",
       "1.00      16884\n",
       "          ...  \n",
       "63.92         1\n",
       "83.96         1\n",
       "73.75         1\n",
       "5.65          1\n",
       "103.59        1\n",
       "Name: Length, Length: 123872, dtype: int64"
      ]
     },
     "execution_count": 140,
     "metadata": {},
     "output_type": "execute_result"
    }
   ],
   "source": [
    "#plot column Length\n",
    "train_copy['Length'].value_counts()"
   ]
  },
  {
   "cell_type": "code",
   "execution_count": 141,
   "id": "aafc06ae",
   "metadata": {},
   "outputs": [
    {
     "data": {
      "text/plain": [
       "<AxesSubplot: >"
      ]
     },
     "execution_count": 141,
     "metadata": {},
     "output_type": "execute_result"
    },
    {
     "data": {
      "image/png": "[encoded data removed]",
      "text/plain": [
       "<Figure size 800x550 with 1 Axes>"
      ]
     },
     "metadata": {},
     "output_type": "display_data"
    }
   ],
   "source": [
    "#plot histogram of Length column\n",
    "train_copy['Length'].hist()"
   ]
  },
  {
   "cell_type": "code",
   "execution_count": 142,
   "id": "dd15dc50",
   "metadata": {},
   "outputs": [
    {
     "data": {
      "text/plain": [
       "Index(['PipeId', 'No_Inspections', 'No_Incidents', 'InspectionYear',\n",
       "       'Probability_rate', 'preventive_maintenance_rate',\n",
       "       'Age_pipe_at_inspection', 'pipe_inspected_frequently',\n",
       "       'Average_MonthsLastRev', 'MonthsLastRev', 'relative_risk',\n",
       "       'average_severity_pipe', 'Incidence', 'YearBuilt', 'Diameter', 'Length',\n",
       "       'Pressure', 'NumConnections', 'NumConnectionsUnder', 'BoolBridle',\n",
       "       'aspect', 'Relative_Thickness', 'pipe_area', 'area_connection',\n",
       "       'incidence_area', 'connection_bool', 'Severity_high', 'Severity_medium',\n",
       "       'Severity_low', 'gas_natural',\n",
       "       'Material_Acrylonitrile-Butadiene-Styrene', 'Material_Copper',\n",
       "       'Material_Fiberglass-Reinforced Plastic', 'Material_Polyethylene',\n",
       "       'Material_Polypropylene', 'Diameter2', 'Length2', 'Pressure2',\n",
       "       'Average yearly temperature (°C)', 'Min. Temperature (°C)',\n",
       "       'Max. Temperature (°C)', 'Yearly Rainfall (mm)',\n",
       "       'Average year Humidity (%)', 'Rainy days per year (days)',\n",
       "       'Yearly Sun Hours (hours)', 'Province', 'Town'],\n",
       "      dtype='object')"
      ]
     },
     "execution_count": 142,
     "metadata": {},
     "output_type": "execute_result"
    }
   ],
   "source": [
    "train_copy.columns"
   ]
  },
  {
   "attachments": {},
   "cell_type": "markdown",
   "id": "f30d4011",
   "metadata": {},
   "source": [
    "# Dropping section\n",
    "Dropping will be done here"
   ]
  },
  {
   "cell_type": "code",
   "execution_count": 143,
   "id": "00dc74b2",
   "metadata": {},
   "outputs": [],
   "source": [
    "#delete the rows with YearBuilt higher than InspectionYear\n",
    "train_copy = train_copy.drop(train_copy[(train_copy['YearBuilt'] > train_copy['InspectionYear'])].index)"
   ]
  },
  {
   "cell_type": "code",
   "execution_count": 144,
   "id": "bd158e21",
   "metadata": {},
   "outputs": [],
   "source": [
    "#train_copy.drop('InspectionDate', axis=1, inplace=True)"
   ]
  },
  {
   "cell_type": "code",
   "execution_count": 145,
   "id": "cb20705b",
   "metadata": {},
   "outputs": [
    {
     "data": {
      "text/plain": [
       "PipeId                                      0\n",
       "No_Inspections                              0\n",
       "No_Incidents                                0\n",
       "InspectionYear                              0\n",
       "Probability_rate                            0\n",
       "preventive_maintenance_rate                 0\n",
       "Age_pipe_at_inspection                      0\n",
       "pipe_inspected_frequently                   0\n",
       "Average_MonthsLastRev                       0\n",
       "MonthsLastRev                               0\n",
       "relative_risk                               0\n",
       "average_severity_pipe                       0\n",
       "Incidence                                   0\n",
       "YearBuilt                                   0\n",
       "Diameter                                    0\n",
       "Length                                      0\n",
       "Pressure                                    0\n",
       "NumConnections                              0\n",
       "NumConnectionsUnder                         0\n",
       "BoolBridle                                  0\n",
       "aspect                                      0\n",
       "Relative_Thickness                          0\n",
       "pipe_area                                   0\n",
       "area_connection                             0\n",
       "incidence_area                              0\n",
       "connection_bool                             0\n",
       "Severity_high                               0\n",
       "Severity_medium                             0\n",
       "Severity_low                                0\n",
       "gas_natural                                 0\n",
       "Material_Acrylonitrile-Butadiene-Styrene    0\n",
       "Material_Copper                             0\n",
       "Material_Fiberglass-Reinforced Plastic      0\n",
       "Material_Polyethylene                       0\n",
       "Material_Polypropylene                      0\n",
       "Diameter2                                   0\n",
       "Length2                                     0\n",
       "Pressure2                                   0\n",
       "Average yearly temperature (°C)             0\n",
       "Min. Temperature (°C)                       0\n",
       "Max. Temperature (°C)                       0\n",
       "Yearly Rainfall (mm)                        0\n",
       "Average year Humidity (%)                   0\n",
       "Rainy days per year (days)                  0\n",
       "Yearly Sun Hours (hours)                    0\n",
       "Province                                    0\n",
       "Town                                        0\n",
       "dtype: int64"
      ]
     },
     "execution_count": 145,
     "metadata": {},
     "output_type": "execute_result"
    }
   ],
   "source": [
    "#show null values in train_copy\n",
    "train_copy.isnull().sum()\n",
    "    "
   ]
  },
  {
   "cell_type": "code",
   "execution_count": 146,
   "id": "163155be",
   "metadata": {},
   "outputs": [],
   "source": [
    "#delete nulls from train_copy\n",
    "train_copy = train_copy.dropna()\n"
   ]
  },
  {
   "cell_type": "code",
   "execution_count": null,
   "id": "e39b5b0a",
   "metadata": {},
   "outputs": [],
   "source": []
  },
  {
   "attachments": {},
   "cell_type": "markdown",
   "id": "1765b9ba",
   "metadata": {},
   "source": [
    "# Exporting the new dataset for a next notebook"
   ]
  },
  {
   "cell_type": "code",
   "execution_count": 147,
   "id": "518deb74",
   "metadata": {},
   "outputs": [],
   "source": [
    "#point to the folder where the data is stored\n",
    "os.chdir(r\"C:\\Users\\pedro\\datathon\")\n",
    "#export the dataframe to a csv file\n",
    "train_copy.to_csv('train_consolidated_weather.csv', index=False)"
   ]
  },
  {
   "cell_type": "markdown",
   "id": "4cda55b3",
   "metadata": {},
   "source": [
    "# Plotting EDA for new dataset"
   ]
  },
  {
   "cell_type": "code",
   "execution_count": 148,
   "id": "3b77dd44",
   "metadata": {},
   "outputs": [
    {
     "data": {
      "application/vnd.jupyter.widget-view+json": {
       "model_id": "8492172c64124f2bbfec1591700537e1",
       "version_major": 2,
       "version_minor": 0
      },
      "text/plain": [
       "Summarize dataset:   0%|          | 0/5 [00:00<?, ?it/s]"
      ]
     },
     "metadata": {},
     "output_type": "display_data"
    },
    {
     "data": {
      "application/vnd.jupyter.widget-view+json": {
       "model_id": "1f20f655f38246ffab528e004c392eb6",
       "version_major": 2,
       "version_minor": 0
      },
      "text/plain": [
       "Generate report structure:   0%|          | 0/1 [00:00<?, ?it/s]"
      ]
     },
     "metadata": {},
     "output_type": "display_data"
    },
    {
     "data": {
      "application/vnd.jupyter.widget-view+json": {
       "model_id": "d71604ffbe9a4e9eb25a70f22bc45a35",
       "version_major": 2,
       "version_minor": 0
      },
      "text/plain": [
       "Render HTML:   0%|          | 0/1 [00:00<?, ?it/s]"
      ]
     },
     "metadata": {},
     "output_type": "display_data"
    },
    {
     "data": {
      "application/vnd.jupyter.widget-view+json": {
       "model_id": "9a2f3b6f29e34498898a2ad4d946ae18",
       "version_major": 2,
       "version_minor": 0
      },
      "text/plain": [
       "Export report to file:   0%|          | 0/1 [00:00<?, ?it/s]"
      ]
     },
     "metadata": {},
     "output_type": "display_data"
    }
   ],
   "source": [
    "#pandas profiling on the train_copy dataframe\n",
    "profile = ProfileReport(train_copy, title='Pandas Profiling Report', html={'style':{'full_width':True}})\n",
    "profile.to_file(\"train_consolidated_weather.html\")"
   ]
  },
  {
   "attachments": {},
   "cell_type": "markdown",
   "id": "45701319",
   "metadata": {},
   "source": [
    "# The Archive Section\n",
    "Just in case we regret....\n",
    "NOT DELETED JUST IN CASE NEEDED, HIGHLY CONFIDENT WE DONT NEED THESE\n"
   ]
  },
  {
   "cell_type": "markdown",
   "id": "1596ed67",
   "metadata": {},
   "source": [
    "#aggregate the number of Age_pipe_inspection in a new column\n",
    "train_copy['Aggregate_pipe_age_inspection'] = train_copy.groupby('PipeId')['Age_pipe_inspection'].transform('sum')\n",
    "#place column in 10th position\n",
    "cols = list(train_copy.columns.values)\n",
    "cols.pop(cols.index('Aggregate_pipe_age_inspection'))\n",
    "train_copy = train_copy[['PipeId', 'MaintenanceId', 'Inspections', 'Probability_incidence', 'Risk_S*I/Inspections', 'Average_MonthsLastRev',\n",
    "    'Age_pipe_inspection', 'Aggregate_pipe_age_inspection', 'No_Incidents', 'Risk_S*I', 'average_severity', 'MonthsLastRev', 'Severity', 'Incidence', 'Province',\n",
    "    'Town','YearBuilt', 'InspectionYear', 'InspectionDate','Material', 'GasType', 'Diameter', 'Length', 'Pressure',\n",
    "    'NumConnections', 'NumConnectionsUnder', 'BoolBridle']]\n",
    "train_copy.head(10)\n"
   ]
  },
  {
   "cell_type": "markdown",
   "id": "b5637c12",
   "metadata": {},
   "source": [
    "#divide the Aggregate_pipe_age_inspection by the count of Incidence when is 1 and create new column with the average_age_pipe_inspection_when_incidence saving it in 10th position\n",
    "train_copy['average_age_pipe_inspection_when_incidence'] = train_copy['Aggregate_pipe_age_inspection'] / train_copy.groupby('PipeId')['Incidence'].transform('count')\n",
    "#place column in 10th position\n",
    "cols = list(train_copy.columns.values)\n",
    "cols.pop(cols.index('average_age_pipe_inspection_when_incidence'))\n",
    "train_copy = train_copy[['PipeId', 'MaintenanceId', 'Inspections', 'Probability_incidence', 'Risk_S*I/Inspections', 'Average_MonthsLastRev',\n",
    "    'Age_pipe_inspection', 'Aggregate_pipe_age_inspection', 'average_age_pipe_inspection_when_incidence', 'No_Incidents', 'Risk_S*I', 'average_severity', 'MonthsLastRev', 'Severity', 'Incidence', 'Province',\n",
    "    'Town','YearBuilt', 'InspectionYear', 'InspectionDate','Material', 'GasType', 'Diameter', 'Length', 'Pressure',\n",
    "    'NumConnections', 'NumConnectionsUnder', 'BoolBridle']]\n",
    "#head of rows only where average_age_pipe_inspection_when_incidence when Incidence is 0\n",
    "train_copy[train_copy['Incidence'] == 0].head(10)"
   ]
  },
  {
   "cell_type": "markdown",
   "id": "522fca87",
   "metadata": {},
   "source": [
    "#take PipeId column from df_submission dataframe and match it with PipeId column in train_copy dataframe to split train_copy into df_combined_train and df_combined_test. The test split should be the one with the higher number of rows\n",
    "df_combined_test = train_copy[train_copy['PipeId'].isin(df_submission['PipeId'])]\n",
    "df_combined_train = train_copy[~train_copy['PipeId'].isin(df_submission['PipeId'])]\n",
    "#Do not look back at the test set until you are ready to submit your predictions\n"
   ]
  },
  {
   "cell_type": "markdown",
   "id": "1e6669e5",
   "metadata": {},
   "source": [
    "#take PipeId column from df_submission dataframe and match it with PipeId column in train_copy dataframe to split train_copy into df_combined_train and df_combined_test. The test split should be the one with the higher number of rows\n",
    "df_combined_trained = train_copy[train_copy['PipeId'].isin(df_submission['PipeId'])]\n",
    "df_combined_test = train_copy[~train_copy['PipeId'].isin(df_submission['PipeId'])]"
   ]
  },
  {
   "attachments": {},
   "cell_type": "markdown",
   "id": "35f5d6a9",
   "metadata": {},
   "source": [
    "#normalize df_combined_train_sub dataframe but the booleans\n",
    "df_combined_train_sub_norm = df_combined_train_sub.copy()\n",
    "df_combined_train_sub_norm[['Inspections', 'No_Incidents', 'Risk_S*I/Inspections', 'MonthsLastRev', 'Risk_S*I', 'Severity',\n",
    "         'YearBuilt', 'Diameter', 'Length', 'Pressure', 'NumConnections','NumConnectionsUnder', 'TownCount']] = MinMaxScaler().fit_transform(df_combined_train_sub_norm[['Inspections', 'No_Incidents', 'Risk_S*I/Inspections', 'MonthsLastRev', 'Risk_S*I', 'Severity',\n",
    "            'YearBuilt', 'Diameter', 'Length', 'Pressure', 'NumConnections','NumConnectionsUnder', 'TownCount']])\n",
    "df_combined_train_sub_norm.head(2)"
   ]
  },
  {
   "attachments": {},
   "cell_type": "markdown",
   "id": "23e7186b",
   "metadata": {},
   "source": [
    "#Extract the day of the week from InspectionDate and place it in 5th position\n",
    "train_copy['InspectionDay'] = train_copy['InspectionDate'].dt.day_name()\n",
    "cols = list(train_copy.columns.values)\n",
    "cols.pop(cols.index('InspectionDay'))\n",
    "train_copy = train_copy[['PipeId', 'Inspections', 'No_Incidents', 'Risk_S*I/Inspections','leakage_estimate_factor','InspectionDay',\n",
    "    'InspectionYear', 'InspectionDate', 'MonthsLastRev', 'Risk_S*I','Severity','Incidence', 'Province', 'Town', 'YearBuilt', 'Material', 'GasType',\n",
    "    'Diameter', 'Length', 'Pressure', 'NumConnections', 'NumConnectionsUnder', 'BoolBridle']]\n",
    "train_copy.head(1)\n"
   ]
  },
  {
   "attachments": {},
   "cell_type": "markdown",
   "id": "465c900b",
   "metadata": {},
   "source": [
    "#on the train_copy if YEarBuilt is equal to 2021 and InspectionYear is equal to NaN, fill the InspectionYear with 2021\n",
    "#train_copy.loc[(train_copy['YearBuilt'] > 2020) & (train_copy['InspectionYear'].isnull()), 'InspectionYear'] = 2021\n"
   ]
  },
  {
   "attachments": {},
   "cell_type": "markdown",
   "id": "9f3e17e5",
   "metadata": {},
   "source": [
    "#do a range in the train_copy for the YearBuilt column if the value is greater than 2020 and the InspectionYear is equal to Nan, change the value of InspectionYear to YearBuilt\n",
    "\n",
    "for i in train_copy['YearBuilt']:\n",
    "    if i > 2020:\n",
    "        train_copy.loc[(train_copy['YearBuilt'] > 2020) & (train_copy['InspectionYear'].isnull()), 'InspectionYear'] = i"
   ]
  },
  {
   "attachments": {},
   "cell_type": "markdown",
   "id": "31cd550e",
   "metadata": {},
   "source": [
    "\n"
   ]
  }
 ],
 "metadata": {
  "kernelspec": {
   "display_name": "base",
   "language": "python",
   "name": "python3"
  },
  "language_info": {
   "codemirror_mode": {
    "name": "ipython",
    "version": 3
   },
   "file_extension": ".py",
   "mimetype": "text/x-python",
   "name": "python",
   "nbconvert_exporter": "python",
   "pygments_lexer": "ipython3",
   "version": "3.9.13"
  },
  "vscode": {
   "interpreter": {
    "hash": "820876c49dea461f4424a015cf7efcdc49aa96eb37b90fbe490868f27f133dfb"
   }
  }
 },
 "nbformat": 4,
 "nbformat_minor": 5
}
