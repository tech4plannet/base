{
 "cells": [
  {
   "attachments": {},
   "cell_type": "markdown",
   "id": "c6ba2d28",
   "metadata": {},
   "source": [
    "# Libraries used\n",
    "PV --> Running 3.10.10\n",
    "Running Kernel3.9.13 base anaconda"
   ]
  },
  {
   "attachments": {},
   "cell_type": "markdown",
   "id": "a47ff5b1",
   "metadata": {},
   "source": [
    "#perform al pip installs in one go comment out if already installed\n",
    "!pip install pandas\n",
    "!pip install numpy\n",
    "!pip install matplotlib\n",
    "!pip install seaborn\n",
    "!pip install sklearn\n",
    "!pip install scipy\n",
    "!pip install statsmodels\n",
    "!pip install plotly\n",
    "!pip install cufflinks\n",
    "!pip install squarify\n",
    "!pip install yellowbrick\n",
    "!pip install lazypredict\n",
    "!pip install pandas_profiling"
   ]
  },
  {
   "cell_type": "code",
   "execution_count": 5,
   "id": "869b5d85",
   "metadata": {},
   "outputs": [],
   "source": [
    "import pandas as pd\n",
    "import numpy as np\n",
    "import seaborn as sns  \n",
    "import matplotlib.pyplot as plt\n",
    "import plotly.io as pio\n",
    "#import squarify #treemap\n",
    "import os\n",
    "import matplotlib\n",
    "import warnings\n",
    "\n",
    "\n",
    "#to enable the inline plotting\n",
    "%matplotlib inline \n",
    "\n",
    "import warnings\n",
    "warnings.filterwarnings('ignore')\n",
    "\n",
    "sns.set_style(\"darkgrid\")"
   ]
  },
  {
   "cell_type": "code",
   "execution_count": 6,
   "id": "f230c51a",
   "metadata": {},
   "outputs": [],
   "source": [
    "from sklearn.linear_model import LogisticRegression\n",
    "\n",
    "from sklearn.model_selection import cross_val_score\n",
    "from sklearn.model_selection import RepeatedStratifiedKFold\n",
    "from sklearn.model_selection import cross_val_score\n",
    "from sklearn.model_selection import train_test_split\n",
    "\n",
    "from sklearn.metrics import accuracy_score, confusion_matrix, classification_report\n",
    "from sklearn.metrics import classification_report\n",
    "\n",
    "from sklearn.naive_bayes import GaussianNB\n",
    "from sklearn.tree import DecisionTreeClassifier\n",
    "from sklearn.neighbors import KNeighborsClassifier\n",
    "\n",
    "from sklearn.ensemble import RandomForestClassifier\n",
    "from sklearn.ensemble import GradientBoostingClassifier\n",
    "\n",
    "from sklearn.preprocessing import StandardScaler\n",
    "\n",
    "\n",
    "from scipy.stats import normaltest\n",
    "\n",
    "from pandas_profiling import ProfileReport\n",
    "\n",
    "from yellowbrick.classifier import ROCAUC\n",
    "from yellowbrick.classifier import ClassPredictionError\n",
    "from yellowbrick.style.palettes import PALETTES, SEQUENCES, color_palette\n",
    "\n",
    "import lazypredict\n",
    "from lazypredict.Supervised import LazyClassifier\n",
    "\n",
    "warnings.simplefilter(action='ignore', category=FutureWarning)"
   ]
  },
  {
   "attachments": {},
   "cell_type": "markdown",
   "id": "19146b48",
   "metadata": {},
   "source": [
    "# Functions\n"
   ]
  },
  {
   "cell_type": "code",
   "execution_count": 7,
   "metadata": {},
   "outputs": [],
   "source": [
    "# Function for EDA. Using the display() function to have  well-formatted tables. We are mainly using pandas to explore the datasets\n",
    "\n",
    "def dataset_description(df_target):\n",
    "\n",
    "    print('This is the Dataset shape: %s\\n' % (df_target.shape, ))\n",
    "    print('Dataset columns: %s\\n' % df_target.columns)\n",
    "\n",
    "    print('\\nColumns description:\\n')\n",
    "    display(df_target.info())\n",
    "    display(df_target.describe())  # describe the dataset\n",
    "\n",
    "    print('\\nNull values:\\n')\n",
    "    display(df_target.isnull().sum())  # Identify null values\n",
    "\n",
    "#function performing a quick check on df_inspection to have best of pandas functions separated by a line\n",
    "def quick_check(dataframe):\n",
    "    print('First 5 rows %s\\n')\n",
    "    print(dataframe.head(2))\n",
    "    print(\"=====================================\")\n",
    "    print('Dataframe shape %s\\n')\n",
    "    print(dataframe.shape)\n",
    "    print(\"=====================================\")\n",
    "    print('Dataframe describe categorical %s\\n')\n",
    "    print(dataframe.describe(include=['O']))\n",
    "    print(\"=====================================\")\n",
    "    print('Dataframe null values %s\\n')\n",
    "    print(dataframe.isnull().sum())\n",
    "    print(\"=====================================\")\n",
    "    print('Dataframe value counts %s\\n')\n",
    "    print(dataframe.value_counts())\n",
    "    print(\"=====================================\")\n",
    "\n",
    "#stats function\n",
    "def stats(dataframe):\n",
    "    print('Dataframe correlation %s\\n')\n",
    "    print(dataframe.corr())\n",
    "    print(\"=====================================\")\n",
    "    print('Dataframe covariance %s\\n')\n",
    "    print(dataframe.cov())\n",
    "    print(\"=====================================\")\n",
    "    print('Dataframe skew %s\\n')\n",
    "    print(dataframe.skew())\n",
    "    print(\"=====================================\")\n",
    "    print('Dataframe kurtosis %s\\n')\n",
    "    print(dataframe.kurt())\n",
    "    print(\"=====================================\")\n",
    "\n",
    "#create a function to normalize characters from a dataset's column in Spanish\n",
    "def normalize_characters(df, column):\n",
    "    df[column] = df[column].str.normalize('NFKD').str.encode('ascii', errors='ignore').str.decode('utf-8')\n",
    "    df[column] = df[column].str.lower()\n",
    "    df[column] = df[column].str.replace('á', 'a')\n",
    "    df[column] = df[column].str.replace('é', 'e')\n",
    "    df[column] = df[column].str.replace('í', 'i')\n",
    "    df[column] = df[column].str.replace('ó', 'o')\n",
    "    df[column] = df[column].str.replace('ú', 'u')\n",
    "    df[column] = df[column].str.replace('ñ', 'n')\n",
    "    df[column] = df[column].str.replace('ü', 'u')\n",
    "    df[column] = df[column].str.replace('ç', 'c')\n",
    "    df[column] = df[column].str.replace('(', '')\n",
    "    df[column] = df[column].str.replace(')', '')\n",
    "    df[column] = df[column].str.replace('\\'', '')\n",
    "    df[column] = df[column].str.replace('´', '')\n",
    "    df[column] = df[column].str.replace('`', '')\n",
    "    df[column] = df[column].str.replace('’', '')\n",
    "    return df\n",
    "\n",
    "#create function to change detypes in64 to int32 in a df\n",
    "def change_dtypes(df):\n",
    "    for col in df.columns:\n",
    "        if df[col].dtype == 'int64':\n",
    "            df[col] = df[col].astype('int32')\n",
    "        elif df[col].dtype == 'float64':\n",
    "            df[col] = df[col].astype('float32')\n",
    "    return df"
   ]
  },
  {
   "cell_type": "code",
   "execution_count": 8,
   "id": "aac38c42",
   "metadata": {},
   "outputs": [],
   "source": [
    "#show all print outputs when using a function\n",
    "from IPython.core.interactiveshell import InteractiveShell\n",
    "InteractiveShell.ast_node_interactivity = \"all\"\n",
    "\n",
    "#display all columns\n",
    "pd.set_option('display.max_columns', None)\n"
   ]
  },
  {
   "cell_type": "markdown",
   "id": "d88a7d05",
   "metadata": {},
   "source": [
    "# 2. Data Collection and Understanding "
   ]
  },
  {
   "cell_type": "markdown",
   "id": "0b331027",
   "metadata": {},
   "source": [
    "## Network file"
   ]
  },
  {
   "cell_type": "markdown",
   "id": "931606e2",
   "metadata": {},
   "source": [
    "The network.csv file contains a static picture of the gas pipeline network. Every row corresponds to a pipe and has a unique PipeId identifier. The table has 1.446.529 pipes. \n",
    "\n",
    "The columns describe relevant features of each pipe. The complete list is: "
   ]
  },
  {
   "cell_type": "markdown",
   "id": "02c2859c",
   "metadata": {},
   "source": [
    "PipeId - unique identifier for the pipe \n",
    "\n",
    "Province - Spanish province where the pipe is located \n",
    "\n",
    "Town - Town or city where the pipe is located \n",
    "\n",
    "YearBuilt - Year in which the pipe was built and installed \n",
    "\n",
    "Material - Material in which the pipe is built \n",
    "\n",
    "GasType - Type of gas that runs through the pipe \n",
    "\n",
    "Diameter - diameter of the pipe \n",
    "\n",
    "Length - Length of the pipe \n",
    "\n",
    "Pressure - Pressure of the gas that runs through the pipe (bar) \n",
    "\n",
    "NumConnections - Number of connections (external). \n",
    "\n",
    "NumConnectionsUnder - Number of connections (internal and buried) \n",
    "\n",
    "BoolBridle  - Whether the pipe is bridled (True) or welded (False) "
   ]
  },
  {
   "cell_type": "markdown",
   "id": "2d409b09",
   "metadata": {},
   "source": [
    "## Inspection file"
   ]
  },
  {
   "cell_type": "markdown",
   "id": "5bc407aa",
   "metadata": {},
   "source": [
    "MaintenanceId - unique identifier for the inspection operation \n",
    "\n",
    "InspectionYear - year in which the inspection took place \n",
    "\n",
    "InspectionDate - date in which the inspection took place \n",
    "\n",
    "MonthsLastRev - number of months elapsed since the last previous inspection. \n",
    "\n",
    "Severity - Severity of the damage found (1: most severe, 3: least severe) \n",
    "\n",
    "Incidence - Boolean whether an incident was found on the revision (1) or not (0). "
   ]
  },
  {
   "attachments": {},
   "cell_type": "markdown",
   "id": "d7ed6752",
   "metadata": {},
   "source": [
    "# Merging datasets"
   ]
  },
  {
   "cell_type": "code",
   "execution_count": 9,
   "id": "57078a12",
   "metadata": {},
   "outputs": [],
   "source": [
    "#point to the folder where the data is stored for Pedro\n",
    "os.chdir(r\"C:\\Users\\pedro\\datathon\")\n",
    "\n",
    "# Loading inspection data\n",
    "df_inspection = pd.read_csv('inspections.csv')\n",
    "\n",
    "# Loading network data\n",
    "df_network = pd.read_csv('network.csv')"
   ]
  },
  {
   "cell_type": "code",
   "execution_count": 7,
   "id": "f53839ee",
   "metadata": {},
   "outputs": [],
   "source": [
    "#point to the folder where the data is stored For Juan\n",
    "os.chdir(r\"C:\\Users\\JuanHorrillo\\OneDrive - IE Students\\Documents\\Masters\\Sustainability\\Notebook\")\n",
    "\n",
    "# Loading inspection data\n",
    "df_inspection = pd.read_csv('inspections.csv')\n",
    "\n",
    "# Loading network data\n",
    "df_network = pd.read_csv('network.csv')"
   ]
  },
  {
   "cell_type": "code",
   "execution_count": 10,
   "id": "09d0ac0a",
   "metadata": {},
   "outputs": [
    {
     "name": "stdout",
     "output_type": "stream",
     "text": [
      "First 5 rows %s\n",
      "\n",
      "      PipeId MaintenanceId  InspectionYear InspectionDate  MonthsLastRev  \\\n",
      "0  189311802  ZRV-00001972            2010     2010-10-01             24   \n",
      "1  188889914  ZRV-00001406            2010     2010-10-01             22   \n",
      "\n",
      "   Severity  Incidence  \n",
      "0         4          0  \n",
      "1         4          0  \n",
      "=====================================\n",
      "Dataframe shape %s\n",
      "\n",
      "(6345344, 7)\n",
      "=====================================\n",
      "Dataframe describe categorical %s\n",
      "\n",
      "       MaintenanceId InspectionDate\n",
      "count        6345344        6345344\n",
      "unique          4179           3565\n",
      "top     ZRV-00002121     2014-05-05\n",
      "freq           21773           5832\n",
      "=====================================\n",
      "Dataframe null values %s\n",
      "\n",
      "PipeId            0\n",
      "MaintenanceId     0\n",
      "InspectionYear    0\n",
      "InspectionDate    0\n",
      "MonthsLastRev     0\n",
      "Severity          0\n",
      "Incidence         0\n",
      "dtype: int64\n",
      "=====================================\n",
      "Dataframe value counts %s\n",
      "\n",
      "PipeId     MaintenanceId  InspectionYear  InspectionDate  MonthsLastRev  Severity  Incidence\n",
      "489616     ZRV-00003385   2013            2013-05-08      16             4         0            1\n",
      "256852211  ZRV-00002129   2016            2016-10-10      24             4         0            1\n",
      "256831542  ZRV-00004585   2018            2018-07-23      24             4         0            1\n",
      "                          2016            2016-07-14      24             4         0            1\n",
      "                          2014            2014-07-10      24             4         0            1\n",
      "                                                                                               ..\n",
      "188595687  ZRV-00003626   2018            2018-02-15      24             4         0            1\n",
      "                          2016            2016-02-17      24             4         0            1\n",
      "                          2014            2014-02-12      24             4         0            1\n",
      "                          2012            2012-02-20      24             4         0            1\n",
      "451995309  ZRV-00001573   2019            2019-10-26      24             4         0            1\n",
      "Length: 6345344, dtype: int64\n",
      "=====================================\n"
     ]
    }
   ],
   "source": [
    "quick_check(df_inspection)\n"
   ]
  },
  {
   "attachments": {},
   "cell_type": "markdown",
   "id": "942a7459",
   "metadata": {},
   "source": [
    "The function shows we have 6345344 rows for the inspections, among each 4179 appear to be unique and the most repeated one is ZRV-00002121 on 2014-05-05\n"
   ]
  },
  {
   "cell_type": "code",
   "execution_count": 11,
   "id": "464a7b5e",
   "metadata": {},
   "outputs": [
    {
     "data": {
      "text/html": [
       "<div>\n",
       "<style scoped>\n",
       "    .dataframe tbody tr th:only-of-type {\n",
       "        vertical-align: middle;\n",
       "    }\n",
       "\n",
       "    .dataframe tbody tr th {\n",
       "        vertical-align: top;\n",
       "    }\n",
       "\n",
       "    .dataframe thead th {\n",
       "        text-align: right;\n",
       "    }\n",
       "</style>\n",
       "<table border=\"1\" class=\"dataframe\">\n",
       "  <thead>\n",
       "    <tr style=\"text-align: right;\">\n",
       "      <th></th>\n",
       "      <th>PipeId</th>\n",
       "      <th>MaintenanceId</th>\n",
       "      <th>InspectionYear</th>\n",
       "      <th>InspectionDate</th>\n",
       "      <th>MonthsLastRev</th>\n",
       "      <th>Severity</th>\n",
       "      <th>Incidence</th>\n",
       "    </tr>\n",
       "  </thead>\n",
       "  <tbody>\n",
       "    <tr>\n",
       "      <th>622563</th>\n",
       "      <td>188821075</td>\n",
       "      <td>ZRV-00002121</td>\n",
       "      <td>2012</td>\n",
       "      <td>2011-12-28</td>\n",
       "      <td>24</td>\n",
       "      <td>4</td>\n",
       "      <td>0</td>\n",
       "    </tr>\n",
       "    <tr>\n",
       "      <th>622571</th>\n",
       "      <td>191340447</td>\n",
       "      <td>ZRV-00002121</td>\n",
       "      <td>2012</td>\n",
       "      <td>2011-12-28</td>\n",
       "      <td>24</td>\n",
       "      <td>4</td>\n",
       "      <td>0</td>\n",
       "    </tr>\n",
       "    <tr>\n",
       "      <th>622572</th>\n",
       "      <td>191340427</td>\n",
       "      <td>ZRV-00002121</td>\n",
       "      <td>2012</td>\n",
       "      <td>2011-12-28</td>\n",
       "      <td>24</td>\n",
       "      <td>4</td>\n",
       "      <td>0</td>\n",
       "    </tr>\n",
       "    <tr>\n",
       "      <th>622574</th>\n",
       "      <td>191340421</td>\n",
       "      <td>ZRV-00002121</td>\n",
       "      <td>2012</td>\n",
       "      <td>2011-12-28</td>\n",
       "      <td>24</td>\n",
       "      <td>4</td>\n",
       "      <td>0</td>\n",
       "    </tr>\n",
       "    <tr>\n",
       "      <th>622575</th>\n",
       "      <td>188802580</td>\n",
       "      <td>ZRV-00002121</td>\n",
       "      <td>2012</td>\n",
       "      <td>2011-12-28</td>\n",
       "      <td>24</td>\n",
       "      <td>4</td>\n",
       "      <td>0</td>\n",
       "    </tr>\n",
       "    <tr>\n",
       "      <th>...</th>\n",
       "      <td>...</td>\n",
       "      <td>...</td>\n",
       "      <td>...</td>\n",
       "      <td>...</td>\n",
       "      <td>...</td>\n",
       "      <td>...</td>\n",
       "      <td>...</td>\n",
       "    </tr>\n",
       "    <tr>\n",
       "      <th>5737006</th>\n",
       "      <td>450197378</td>\n",
       "      <td>ZRV-00002121</td>\n",
       "      <td>2020</td>\n",
       "      <td>2020-01-29</td>\n",
       "      <td>24</td>\n",
       "      <td>4</td>\n",
       "      <td>0</td>\n",
       "    </tr>\n",
       "    <tr>\n",
       "      <th>5737013</th>\n",
       "      <td>358229516</td>\n",
       "      <td>ZRV-00002121</td>\n",
       "      <td>2020</td>\n",
       "      <td>2020-01-29</td>\n",
       "      <td>24</td>\n",
       "      <td>4</td>\n",
       "      <td>0</td>\n",
       "    </tr>\n",
       "    <tr>\n",
       "      <th>5737179</th>\n",
       "      <td>351671916</td>\n",
       "      <td>ZRV-00002121</td>\n",
       "      <td>2020</td>\n",
       "      <td>2020-01-29</td>\n",
       "      <td>24</td>\n",
       "      <td>4</td>\n",
       "      <td>0</td>\n",
       "    </tr>\n",
       "    <tr>\n",
       "      <th>5737289</th>\n",
       "      <td>351671518</td>\n",
       "      <td>ZRV-00002121</td>\n",
       "      <td>2020</td>\n",
       "      <td>2020-01-29</td>\n",
       "      <td>24</td>\n",
       "      <td>4</td>\n",
       "      <td>0</td>\n",
       "    </tr>\n",
       "    <tr>\n",
       "      <th>5737290</th>\n",
       "      <td>191365725</td>\n",
       "      <td>ZRV-00002121</td>\n",
       "      <td>2020</td>\n",
       "      <td>2020-01-29</td>\n",
       "      <td>24</td>\n",
       "      <td>4</td>\n",
       "      <td>0</td>\n",
       "    </tr>\n",
       "  </tbody>\n",
       "</table>\n",
       "<p>21773 rows × 7 columns</p>\n",
       "</div>"
      ],
      "text/plain": [
       "            PipeId MaintenanceId  InspectionYear InspectionDate  \\\n",
       "622563   188821075  ZRV-00002121            2012     2011-12-28   \n",
       "622571   191340447  ZRV-00002121            2012     2011-12-28   \n",
       "622572   191340427  ZRV-00002121            2012     2011-12-28   \n",
       "622574   191340421  ZRV-00002121            2012     2011-12-28   \n",
       "622575   188802580  ZRV-00002121            2012     2011-12-28   \n",
       "...            ...           ...             ...            ...   \n",
       "5737006  450197378  ZRV-00002121            2020     2020-01-29   \n",
       "5737013  358229516  ZRV-00002121            2020     2020-01-29   \n",
       "5737179  351671916  ZRV-00002121            2020     2020-01-29   \n",
       "5737289  351671518  ZRV-00002121            2020     2020-01-29   \n",
       "5737290  191365725  ZRV-00002121            2020     2020-01-29   \n",
       "\n",
       "         MonthsLastRev  Severity  Incidence  \n",
       "622563              24         4          0  \n",
       "622571              24         4          0  \n",
       "622572              24         4          0  \n",
       "622574              24         4          0  \n",
       "622575              24         4          0  \n",
       "...                ...       ...        ...  \n",
       "5737006             24         4          0  \n",
       "5737013             24         4          0  \n",
       "5737179             24         4          0  \n",
       "5737289             24         4          0  \n",
       "5737290             24         4          0  \n",
       "\n",
       "[21773 rows x 7 columns]"
      ]
     },
     "execution_count": 11,
     "metadata": {},
     "output_type": "execute_result"
    }
   ],
   "source": [
    "#searching for MaintenanceId ZRV-00002121 in df_inspection\n",
    "df_inspection[df_inspection['MaintenanceId'] == 'ZRV-00002121']"
   ]
  },
  {
   "cell_type": "code",
   "execution_count": 13,
   "id": "8e03011f",
   "metadata": {},
   "outputs": [
    {
     "data": {
      "text/plain": [
       "<AxesSubplot: xlabel='InspectionYear'>"
      ]
     },
     "execution_count": 13,
     "metadata": {},
     "output_type": "execute_result"
    },
    {
     "data": {
      "image/png": "[encoded data removed]",
      "text/plain": [
       "<Figure size 800x550 with 1 Axes>"
      ]
     },
     "metadata": {},
     "output_type": "display_data"
    }
   ],
   "source": [
    "#plotting the distribution of MaintenanceId accross the years for ZRV-00002121 in df_inspection\n",
    "df_inspection[df_inspection['MaintenanceId'] == 'ZRV-00002121'].groupby('InspectionYear')['MaintenanceId'].count().plot(kind='bar')"
   ]
  },
  {
   "cell_type": "code",
   "execution_count": 9,
   "id": "0b086ba4",
   "metadata": {},
   "outputs": [
    {
     "name": "stdout",
     "output_type": "stream",
     "text": [
      "First 5 rows %s\n",
      "\n",
      "   PipeId     Province                   Town  YearBuilt Material  \\\n",
      "0  489616  Ciudad Real  Torralba de Calatrava       2012       PE   \n",
      "1  489645  Ciudad Real  Torralba de Calatrava       2012       PE   \n",
      "\n",
      "       GasType  Diameter  Length  Pressure  NumConnections  \\\n",
      "0  Gas natural      63.0   7.792       0.4               0   \n",
      "1  Gas natural      90.0   2.080       0.4               0   \n",
      "\n",
      "   NumConnectionsUnder  BoolBridle  \n",
      "0                    0       False  \n",
      "1                    0       False  \n",
      "=====================================\n",
      "Dataframe shape %s\n",
      "\n",
      "(1446539, 12)\n",
      "=====================================\n",
      "Dataframe describe categorical %s\n",
      "\n",
      "         Province     Town Material      GasType\n",
      "count     1446539  1446539  1446539      1446539\n",
      "unique         38     1972       11            2\n",
      "top     Barcelona   Madrid       PE  Gas natural\n",
      "freq       389307    76666  1242845      1388397\n",
      "=====================================\n",
      "Dataframe null values %s\n",
      "\n",
      "PipeId                 0\n",
      "Province               0\n",
      "Town                   0\n",
      "YearBuilt              0\n",
      "Material               0\n",
      "GasType                0\n",
      "Diameter               0\n",
      "Length                 0\n",
      "Pressure               0\n",
      "NumConnections         0\n",
      "NumConnectionsUnder    0\n",
      "BoolBridle             0\n",
      "dtype: int64\n",
      "=====================================\n",
      "Dataframe value counts %s\n",
      "\n",
      "PipeId     Province     Town                   YearBuilt  Material  GasType      Diameter  Length  Pressure  NumConnections  NumConnectionsUnder  BoolBridle\n",
      "489616     Ciudad Real  Torralba de Calatrava  2012       PE        Gas natural  63.0      7.792   0.40      0               0                    False         1\n",
      "229894572  León         Valencia de Don Juan   2004       PE        Gas natural  110.0     10.632  0.15      0               0                    False         1\n",
      "229912516  León         Ponferrada             2004       PE        Gas natural  63.0      8.519   4.00      0               0                    False         1\n",
      "229912137  León         Ponferrada             2004       PE        Gas natural  63.0      8.014   4.00      0               0                    False         1\n",
      "229912078  León         Ponferrada             2004       PE        Gas natural  63.0      2.022   4.00      0               0                    False         1\n",
      "                                                                                                                                                               ..\n",
      "133749590  Lugo         Lugo                   2003       PE        Gas natural  110.0     0.866   0.15      0               0                    False         1\n",
      "133749584  Lugo         Lugo                   2003       PE        Gas natural  110.0     5.706   0.15      0               0                    False         1\n",
      "133749577  Lugo         Lugo                   2003       PE        Gas natural  110.0     93.394  0.15      2               0                    False         1\n",
      "133749571  Lugo         Lugo                   2003       PE        Gas natural  160.0     6.567   0.15      0               0                    False         1\n",
      "451995309  Lleida       Almacelles             1998       PE        Gas natural  200.0     92.220  0.15      0               0                    False         1\n",
      "Length: 1446539, dtype: int64\n",
      "=====================================\n"
     ]
    }
   ],
   "source": [
    "quick_check(df_network)"
   ]
  },
  {
   "cell_type": "code",
   "execution_count": 10,
   "id": "574aa92f",
   "metadata": {},
   "outputs": [
    {
     "name": "stdout",
     "output_type": "stream",
     "text": [
      "Dataframe correlation %s\n",
      "\n",
      "                  PipeId  InspectionYear  MonthsLastRev  Severity  Incidence\n",
      "PipeId          1.000000       -0.123868       0.048799  0.017614  -0.021449\n",
      "InspectionYear -0.123868        1.000000       0.117585  0.001188  -0.000359\n",
      "MonthsLastRev   0.048799        0.117585       1.000000  0.011268  -0.013749\n",
      "Severity        0.017614        0.001188       0.011268  1.000000  -0.904174\n",
      "Incidence      -0.021449       -0.000359      -0.013749 -0.904174   1.000000\n",
      "=====================================\n",
      "Dataframe covariance %s\n",
      "\n",
      "                      PipeId  InspectionYear  MonthsLastRev       Severity  \\\n",
      "PipeId          1.294358e+16   -4.099991e+07   2.754554e+07  129283.543032   \n",
      "InspectionYear -4.099991e+07    8.464272e+00   1.697315e+00       0.000223   \n",
      "MonthsLastRev   2.754554e+07    1.697315e+00   2.461659e+01       0.003607   \n",
      "Severity        1.292835e+05    2.230601e-04   3.606757e-03       0.004162   \n",
      "Incidence      -1.074542e+05   -4.603098e-05  -3.003968e-03      -0.002569   \n",
      "\n",
      "                    Incidence  \n",
      "PipeId         -107454.242098  \n",
      "InspectionYear      -0.000046  \n",
      "MonthsLastRev       -0.003004  \n",
      "Severity            -0.002569  \n",
      "Incidence            0.001939  \n",
      "=====================================\n",
      "Dataframe skew %s\n",
      "\n",
      "PipeId            -0.072302\n",
      "InspectionYear    -0.102915\n",
      "MonthsLastRev      3.677560\n",
      "Severity         -31.011443\n",
      "Incidence         22.621055\n",
      "dtype: float64\n",
      "=====================================\n",
      "Dataframe kurtosis %s\n",
      "\n",
      "PipeId              -0.723455\n",
      "InspectionYear      -1.181158\n",
      "MonthsLastRev       41.365580\n",
      "Severity          1131.620628\n",
      "Incidence          509.712278\n",
      "dtype: float64\n",
      "=====================================\n"
     ]
    }
   ],
   "source": [
    "stats(df_inspection)"
   ]
  },
  {
   "cell_type": "code",
   "execution_count": 11,
   "id": "fcb4c39b",
   "metadata": {},
   "outputs": [
    {
     "name": "stdout",
     "output_type": "stream",
     "text": [
      "Dataframe correlation %s\n",
      "\n",
      "                       PipeId  YearBuilt  Diameter    Length  Pressure  \\\n",
      "PipeId               1.000000  -0.052882  0.133925 -0.013087  0.044928   \n",
      "YearBuilt           -0.052882   1.000000 -0.155437  0.028727  0.047748   \n",
      "Diameter             0.133925  -0.155437  1.000000  0.073956  0.194073   \n",
      "Length              -0.013087   0.028727  0.073956  1.000000  0.105697   \n",
      "Pressure             0.044928   0.047748  0.194073  0.105697  1.000000   \n",
      "NumConnections      -0.045010  -0.028777 -0.112723  0.307837 -0.102855   \n",
      "NumConnectionsUnder -0.010956   0.011157 -0.007065  0.017895 -0.002610   \n",
      "BoolBridle          -0.091219  -0.176955  0.089100 -0.022166 -0.065808   \n",
      "\n",
      "                     NumConnections  NumConnectionsUnder  BoolBridle  \n",
      "PipeId                    -0.045010            -0.010956   -0.091219  \n",
      "YearBuilt                 -0.028777             0.011157   -0.176955  \n",
      "Diameter                  -0.112723            -0.007065    0.089100  \n",
      "Length                     0.307837             0.017895   -0.022166  \n",
      "Pressure                  -0.102855            -0.002610   -0.065808  \n",
      "NumConnections             1.000000             0.017628   -0.006143  \n",
      "NumConnectionsUnder        0.017628             1.000000    0.009407  \n",
      "BoolBridle                -0.006143             0.009407    1.000000  \n",
      "=====================================\n",
      "Dataframe covariance %s\n",
      "\n",
      "                           PipeId     YearBuilt      Diameter        Length  \\\n",
      "PipeId               1.453092e+16 -7.721679e+07  9.342554e+08 -1.239257e+08   \n",
      "YearBuilt           -7.721679e+07  1.467300e+02 -1.089613e+02  2.733524e+01   \n",
      "Diameter             9.342554e+08 -1.089613e+02  3.349021e+03  3.362028e+02   \n",
      "Length              -1.239257e+08  2.733524e+01  3.362028e+02  6.170721e+03   \n",
      "Pressure             3.729595e+07  3.983012e+00  7.734263e+01  5.717748e+01   \n",
      "NumConnections      -1.173012e+07 -7.536022e-01 -1.410311e+01  5.227952e+01   \n",
      "NumConnectionsUnder -2.784050e+04  2.848794e-03 -8.618228e-03  2.963238e-02   \n",
      "BoolBridle          -2.791442e+06 -5.441465e-01  1.308974e+00 -4.420380e-01   \n",
      "\n",
      "                         Pressure  NumConnections  NumConnectionsUnder  \\\n",
      "PipeId               3.729595e+07   -1.173012e+07        -27840.495965   \n",
      "YearBuilt            3.983012e+00   -7.536022e-01             0.002849   \n",
      "Diameter             7.734263e+01   -1.410311e+01            -0.008618   \n",
      "Length               5.717748e+01    5.227952e+01             0.029632   \n",
      "Pressure             4.742297e+01   -1.531305e+00            -0.000379   \n",
      "NumConnections      -1.531305e+00    4.673958e+00             0.000803   \n",
      "NumConnectionsUnder -3.788586e-04    8.033572e-04             0.000444   \n",
      "BoolBridle          -1.150442e-01   -3.371224e-03             0.000050   \n",
      "\n",
      "                       BoolBridle  \n",
      "PipeId              -2.791442e+06  \n",
      "YearBuilt           -5.441465e-01  \n",
      "Diameter             1.308974e+00  \n",
      "Length              -4.420380e-01  \n",
      "Pressure            -1.150442e-01  \n",
      "NumConnections      -3.371224e-03  \n",
      "NumConnectionsUnder  5.033993e-05  \n",
      "BoolBridle           6.444506e-02  \n",
      "=====================================\n",
      "Dataframe skew %s\n",
      "\n",
      "PipeId                  0.096367\n",
      "YearBuilt              -3.382618\n",
      "Diameter                1.512114\n",
      "Length                 59.717302\n",
      "Pressure                5.675836\n",
      "NumConnections          5.523475\n",
      "NumConnectionsUnder    67.030545\n",
      "BoolBridle              3.393690\n",
      "dtype: float64\n",
      "=====================================\n",
      "Dataframe kurtosis %s\n",
      "\n",
      "PipeId                    -0.953276\n",
      "YearBuilt                 22.106304\n",
      "Diameter                   4.409754\n",
      "Length                 17001.235916\n",
      "Pressure                  42.023078\n",
      "NumConnections            56.927400\n",
      "NumConnectionsUnder     5688.231867\n",
      "BoolBridle                 9.517142\n",
      "dtype: float64\n",
      "=====================================\n"
     ]
    }
   ],
   "source": [
    "stats(df_network)"
   ]
  },
  {
   "cell_type": "code",
   "execution_count": 13,
   "id": "5d538de3",
   "metadata": {},
   "outputs": [],
   "source": [
    "#join Inspection and network datasets on PipeId to create our TRAIN dataset\n",
    "train = pd.merge(df_inspection, df_network, on='PipeId', how='right')"
   ]
  },
  {
   "cell_type": "code",
   "execution_count": 14,
   "id": "1c3126f8",
   "metadata": {},
   "outputs": [
    {
     "data": {
      "text/plain": [
       "(6364029, 18)"
      ]
     },
     "execution_count": 14,
     "metadata": {},
     "output_type": "execute_result"
    }
   ],
   "source": [
    "train.shape"
   ]
  },
  {
   "cell_type": "code",
   "execution_count": 30,
   "id": "67c34bf4",
   "metadata": {},
   "outputs": [
    {
     "data": {
      "text/plain": [
       "(6345344, 7)"
      ]
     },
     "execution_count": 30,
     "metadata": {},
     "output_type": "execute_result"
    }
   ],
   "source": [
    "df_inspection.shape"
   ]
  },
  {
   "attachments": {},
   "cell_type": "markdown",
   "id": "abaa644f",
   "metadata": {},
   "source": [
    "JF: There are 18K null values that do not have information in the df_network so our TRAIN data set is now bigger and we will need to deal with the nulls further down."
   ]
  },
  {
   "cell_type": "code",
   "execution_count": 15,
   "id": "d1d89960",
   "metadata": {},
   "outputs": [
    {
     "data": {
      "text/plain": [
       "PipeId                     0\n",
       "MaintenanceId          18685\n",
       "InspectionYear         18685\n",
       "InspectionDate         18685\n",
       "MonthsLastRev          18685\n",
       "Severity               18685\n",
       "Incidence              18685\n",
       "Province                   0\n",
       "Town                       0\n",
       "YearBuilt                  0\n",
       "Material                   0\n",
       "GasType                    0\n",
       "Diameter                   0\n",
       "Length                     0\n",
       "Pressure                   0\n",
       "NumConnections             0\n",
       "NumConnectionsUnder        0\n",
       "BoolBridle                 0\n",
       "dtype: int64"
      ]
     },
     "execution_count": 15,
     "metadata": {},
     "output_type": "execute_result"
    }
   ],
   "source": [
    "#count null values in train dataset\n",
    "train.isnull().sum()\n"
   ]
  },
  {
   "cell_type": "code",
   "execution_count": null,
   "id": "9c8bcc55",
   "metadata": {},
   "outputs": [],
   "source": [
    "#point to the folder where the data is stored for Pedro\n",
    "os.chdir(r\"C:\\Users\\pedro\\datathon\\Datathon-Rules-and-Documentation\")\n",
    "\n",
    "# Loading inspection data\n",
    "test = pd.read_csv('sample_submission.csv')"
   ]
  },
  {
   "cell_type": "code",
   "execution_count": 21,
   "id": "0af43c88",
   "metadata": {},
   "outputs": [],
   "source": [
    "#point to the folder where the data is stored for Juan\n",
    "os.chdir(r\"C:\\Users\\JuanHorrillo\\OneDrive - IE Students\\Documents\\Masters\\Sustainability\\Notebook\")\n",
    "\n",
    "# Loading inspection data\n",
    "df_sample = pd.read_csv('sample_submission.csv')"
   ]
  },
  {
   "cell_type": "code",
   "execution_count": 22,
   "id": "c8b001d9",
   "metadata": {},
   "outputs": [
    {
     "data": {
      "text/plain": [
       "(909733, 2)"
      ]
     },
     "execution_count": 22,
     "metadata": {},
     "output_type": "execute_result"
    }
   ],
   "source": [
    "df_sample.shape"
   ]
  },
  {
   "attachments": {},
   "cell_type": "markdown",
   "id": "28b2abff",
   "metadata": {},
   "source": [
    "Creating the TEST df which will be used to test our model.  Thisis made of the sample submission with the columns from the network"
   ]
  },
  {
   "cell_type": "code",
   "execution_count": 33,
   "id": "ee6a1089",
   "metadata": {},
   "outputs": [],
   "source": [
    "#join both datasets on PipeId\n",
    "test = pd.merge(df_network , df_sample, on='PipeId', how='right')"
   ]
  },
  {
   "cell_type": "code",
   "execution_count": 34,
   "id": "bf550849",
   "metadata": {},
   "outputs": [
    {
     "data": {
      "text/plain": [
       "(909733, 13)"
      ]
     },
     "execution_count": 34,
     "metadata": {},
     "output_type": "execute_result"
    }
   ],
   "source": [
    "test.shape"
   ]
  },
  {
   "cell_type": "code",
   "execution_count": 45,
   "id": "c1f803e7",
   "metadata": {},
   "outputs": [
    {
     "data": {
      "text/html": [
       "<div>\n",
       "<style scoped>\n",
       "    .dataframe tbody tr th:only-of-type {\n",
       "        vertical-align: middle;\n",
       "    }\n",
       "\n",
       "    .dataframe tbody tr th {\n",
       "        vertical-align: top;\n",
       "    }\n",
       "\n",
       "    .dataframe thead th {\n",
       "        text-align: right;\n",
       "    }\n",
       "</style>\n",
       "<table border=\"1\" class=\"dataframe\">\n",
       "  <thead>\n",
       "    <tr style=\"text-align: right;\">\n",
       "      <th></th>\n",
       "      <th>PipeId</th>\n",
       "      <th>Province</th>\n",
       "      <th>Town</th>\n",
       "      <th>YearBuilt</th>\n",
       "      <th>Material</th>\n",
       "      <th>GasType</th>\n",
       "      <th>Diameter</th>\n",
       "      <th>Length</th>\n",
       "      <th>Pressure</th>\n",
       "      <th>NumConnections</th>\n",
       "      <th>NumConnectionsUnder</th>\n",
       "      <th>BoolBridle</th>\n",
       "      <th>Incidence</th>\n",
       "    </tr>\n",
       "  </thead>\n",
       "  <tbody>\n",
       "    <tr>\n",
       "      <th>0</th>\n",
       "      <td>446859944</td>\n",
       "      <td>Valencia</td>\n",
       "      <td>Alginet</td>\n",
       "      <td>2012</td>\n",
       "      <td>PE</td>\n",
       "      <td>Gas natural</td>\n",
       "      <td>110.0</td>\n",
       "      <td>44.286</td>\n",
       "      <td>0.15</td>\n",
       "      <td>0</td>\n",
       "      <td>0</td>\n",
       "      <td>False</td>\n",
       "      <td>0</td>\n",
       "    </tr>\n",
       "    <tr>\n",
       "      <th>1</th>\n",
       "      <td>428124500</td>\n",
       "      <td>Valencia</td>\n",
       "      <td>Alginet</td>\n",
       "      <td>2012</td>\n",
       "      <td>PE</td>\n",
       "      <td>Gas natural</td>\n",
       "      <td>160.0</td>\n",
       "      <td>110.715</td>\n",
       "      <td>0.15</td>\n",
       "      <td>2</td>\n",
       "      <td>0</td>\n",
       "      <td>False</td>\n",
       "      <td>0</td>\n",
       "    </tr>\n",
       "    <tr>\n",
       "      <th>2</th>\n",
       "      <td>438428871</td>\n",
       "      <td>Valencia</td>\n",
       "      <td>Alginet</td>\n",
       "      <td>2012</td>\n",
       "      <td>PE</td>\n",
       "      <td>Gas natural</td>\n",
       "      <td>110.0</td>\n",
       "      <td>13.575</td>\n",
       "      <td>0.15</td>\n",
       "      <td>0</td>\n",
       "      <td>0</td>\n",
       "      <td>False</td>\n",
       "      <td>0</td>\n",
       "    </tr>\n",
       "    <tr>\n",
       "      <th>3</th>\n",
       "      <td>429034569</td>\n",
       "      <td>Valencia</td>\n",
       "      <td>Alginet</td>\n",
       "      <td>2012</td>\n",
       "      <td>PE</td>\n",
       "      <td>Gas natural</td>\n",
       "      <td>110.0</td>\n",
       "      <td>327.689</td>\n",
       "      <td>0.15</td>\n",
       "      <td>3</td>\n",
       "      <td>0</td>\n",
       "      <td>False</td>\n",
       "      <td>0</td>\n",
       "    </tr>\n",
       "    <tr>\n",
       "      <th>4</th>\n",
       "      <td>411184477</td>\n",
       "      <td>Valencia</td>\n",
       "      <td>Alginet</td>\n",
       "      <td>2007</td>\n",
       "      <td>PE</td>\n",
       "      <td>Gas natural</td>\n",
       "      <td>200.0</td>\n",
       "      <td>932.762</td>\n",
       "      <td>0.15</td>\n",
       "      <td>0</td>\n",
       "      <td>0</td>\n",
       "      <td>False</td>\n",
       "      <td>0</td>\n",
       "    </tr>\n",
       "  </tbody>\n",
       "</table>\n",
       "</div>"
      ],
      "text/plain": [
       "      PipeId  Province     Town  YearBuilt Material      GasType  Diameter  \\\n",
       "0  446859944  Valencia  Alginet       2012       PE  Gas natural     110.0   \n",
       "1  428124500  Valencia  Alginet       2012       PE  Gas natural     160.0   \n",
       "2  438428871  Valencia  Alginet       2012       PE  Gas natural     110.0   \n",
       "3  429034569  Valencia  Alginet       2012       PE  Gas natural     110.0   \n",
       "4  411184477  Valencia  Alginet       2007       PE  Gas natural     200.0   \n",
       "\n",
       "    Length  Pressure  NumConnections  NumConnectionsUnder  BoolBridle  \\\n",
       "0   44.286      0.15               0                    0       False   \n",
       "1  110.715      0.15               2                    0       False   \n",
       "2   13.575      0.15               0                    0       False   \n",
       "3  327.689      0.15               3                    0       False   \n",
       "4  932.762      0.15               0                    0       False   \n",
       "\n",
       "   Incidence  \n",
       "0          0  \n",
       "1          0  \n",
       "2          0  \n",
       "3          0  \n",
       "4          0  "
      ]
     },
     "execution_count": 45,
     "metadata": {},
     "output_type": "execute_result"
    }
   ],
   "source": [
    "test.head()"
   ]
  },
  {
   "cell_type": "code",
   "execution_count": 46,
   "id": "e3b15fb4",
   "metadata": {},
   "outputs": [
    {
     "data": {
      "text/html": [
       "<div>\n",
       "<style scoped>\n",
       "    .dataframe tbody tr th:only-of-type {\n",
       "        vertical-align: middle;\n",
       "    }\n",
       "\n",
       "    .dataframe tbody tr th {\n",
       "        vertical-align: top;\n",
       "    }\n",
       "\n",
       "    .dataframe thead th {\n",
       "        text-align: right;\n",
       "    }\n",
       "</style>\n",
       "<table border=\"1\" class=\"dataframe\">\n",
       "  <thead>\n",
       "    <tr style=\"text-align: right;\">\n",
       "      <th></th>\n",
       "      <th>PipeId</th>\n",
       "      <th>Incidence</th>\n",
       "    </tr>\n",
       "  </thead>\n",
       "  <tbody>\n",
       "    <tr>\n",
       "      <th>0</th>\n",
       "      <td>446859944</td>\n",
       "      <td>0</td>\n",
       "    </tr>\n",
       "    <tr>\n",
       "      <th>1</th>\n",
       "      <td>428124500</td>\n",
       "      <td>0</td>\n",
       "    </tr>\n",
       "    <tr>\n",
       "      <th>2</th>\n",
       "      <td>438428871</td>\n",
       "      <td>0</td>\n",
       "    </tr>\n",
       "    <tr>\n",
       "      <th>3</th>\n",
       "      <td>429034569</td>\n",
       "      <td>0</td>\n",
       "    </tr>\n",
       "    <tr>\n",
       "      <th>4</th>\n",
       "      <td>411184477</td>\n",
       "      <td>0</td>\n",
       "    </tr>\n",
       "  </tbody>\n",
       "</table>\n",
       "</div>"
      ],
      "text/plain": [
       "      PipeId  Incidence\n",
       "0  446859944          0\n",
       "1  428124500          0\n",
       "2  438428871          0\n",
       "3  429034569          0\n",
       "4  411184477          0"
      ]
     },
     "execution_count": 46,
     "metadata": {},
     "output_type": "execute_result"
    }
   ],
   "source": [
    "df_sample.head()"
   ]
  },
  {
   "cell_type": "code",
   "execution_count": 43,
   "id": "0a2e2420",
   "metadata": {},
   "outputs": [
    {
     "data": {
      "text/plain": [
       "True"
      ]
     },
     "execution_count": 43,
     "metadata": {},
     "output_type": "execute_result"
    }
   ],
   "source": [
    "#create a dataframe with the unique PipeId from df_sample and a dataframe with the PipeId from df_network \n",
    "sample_unique = df_sample['PipeId'].unique()\n",
    "network_unique = df_network['PipeId'].unique()\n",
    "#check if all the values in sample_unique are in network_unique\n",
    "np.all(np.isin(sample_unique, network_unique))\n"
   ]
  },
  {
   "cell_type": "code",
   "execution_count": 48,
   "id": "c3a08a3e",
   "metadata": {},
   "outputs": [
    {
     "data": {
      "text/plain": [
       "PipeId       0\n",
       "Province     0\n",
       "Town         0\n",
       "YearBuilt    0\n",
       "Material     0\n",
       "dtype: int64"
      ]
     },
     "execution_count": 48,
     "metadata": {},
     "output_type": "execute_result"
    }
   ],
   "source": [
    "#Check for null values in test dataset\n",
    "test_null = test.isnull().sum()    \n",
    "test_null.head()"
   ]
  },
  {
   "attachments": {},
   "cell_type": "markdown",
   "id": "039632ca",
   "metadata": {},
   "source": [
    "JF: No null Values in TEST data set"
   ]
  },
  {
   "cell_type": "code",
   "execution_count": 51,
   "id": "c67ffbae",
   "metadata": {},
   "outputs": [],
   "source": [
    "#creating a subset for altering the dataset after initial EDA\n",
    "train_copy = train.copy()"
   ]
  },
  {
   "cell_type": "code",
   "execution_count": 53,
   "id": "44c28dbc",
   "metadata": {},
   "outputs": [
    {
     "data": {
      "text/plain": [
       "PipeId                     0\n",
       "MaintenanceId          18685\n",
       "InspectionYear         18685\n",
       "InspectionDate         18685\n",
       "MonthsLastRev          18685\n",
       "Severity               18685\n",
       "Incidence              18685\n",
       "Province                   0\n",
       "Town                       0\n",
       "YearBuilt                  0\n",
       "Material                   0\n",
       "GasType                    0\n",
       "Diameter                   0\n",
       "Length                     0\n",
       "Pressure                   0\n",
       "NumConnections             0\n",
       "NumConnectionsUnder        0\n",
       "BoolBridle                 0\n",
       "dtype: int64"
      ]
     },
     "execution_count": 53,
     "metadata": {},
     "output_type": "execute_result"
    }
   ],
   "source": [
    "#find the columns with null values in train_copy\n",
    "train_copy.isnull().sum()"
   ]
  },
  {
   "cell_type": "code",
   "execution_count": 52,
   "id": "b799ec7c",
   "metadata": {},
   "outputs": [
    {
     "data": {
      "text/html": [
       "<div>\n",
       "<style scoped>\n",
       "    .dataframe tbody tr th:only-of-type {\n",
       "        vertical-align: middle;\n",
       "    }\n",
       "\n",
       "    .dataframe tbody tr th {\n",
       "        vertical-align: top;\n",
       "    }\n",
       "\n",
       "    .dataframe thead th {\n",
       "        text-align: right;\n",
       "    }\n",
       "</style>\n",
       "<table border=\"1\" class=\"dataframe\">\n",
       "  <thead>\n",
       "    <tr style=\"text-align: right;\">\n",
       "      <th></th>\n",
       "      <th>PipeId</th>\n",
       "      <th>MaintenanceId</th>\n",
       "      <th>InspectionYear</th>\n",
       "      <th>InspectionDate</th>\n",
       "      <th>MonthsLastRev</th>\n",
       "      <th>Severity</th>\n",
       "      <th>Incidence</th>\n",
       "      <th>Province</th>\n",
       "      <th>Town</th>\n",
       "      <th>YearBuilt</th>\n",
       "      <th>Material</th>\n",
       "      <th>GasType</th>\n",
       "      <th>Diameter</th>\n",
       "      <th>Length</th>\n",
       "      <th>Pressure</th>\n",
       "      <th>NumConnections</th>\n",
       "      <th>NumConnectionsUnder</th>\n",
       "      <th>BoolBridle</th>\n",
       "    </tr>\n",
       "  </thead>\n",
       "  <tbody>\n",
       "    <tr>\n",
       "      <th>64887</th>\n",
       "      <td>185802404</td>\n",
       "      <td>NaN</td>\n",
       "      <td>NaN</td>\n",
       "      <td>NaN</td>\n",
       "      <td>NaN</td>\n",
       "      <td>NaN</td>\n",
       "      <td>NaN</td>\n",
       "      <td>Girona</td>\n",
       "      <td>Puigcerda</td>\n",
       "      <td>2021</td>\n",
       "      <td>PN</td>\n",
       "      <td>Gas natural</td>\n",
       "      <td>110.0</td>\n",
       "      <td>12.012</td>\n",
       "      <td>0.150</td>\n",
       "      <td>1</td>\n",
       "      <td>0</td>\n",
       "      <td>True</td>\n",
       "    </tr>\n",
       "    <tr>\n",
       "      <th>64889</th>\n",
       "      <td>188243116</td>\n",
       "      <td>NaN</td>\n",
       "      <td>NaN</td>\n",
       "      <td>NaN</td>\n",
       "      <td>NaN</td>\n",
       "      <td>NaN</td>\n",
       "      <td>NaN</td>\n",
       "      <td>Girona</td>\n",
       "      <td>Puigcerda</td>\n",
       "      <td>2021</td>\n",
       "      <td>PN</td>\n",
       "      <td>Gas natural</td>\n",
       "      <td>90.0</td>\n",
       "      <td>11.817</td>\n",
       "      <td>0.150</td>\n",
       "      <td>1</td>\n",
       "      <td>0</td>\n",
       "      <td>True</td>\n",
       "    </tr>\n",
       "    <tr>\n",
       "      <th>70787</th>\n",
       "      <td>185839446</td>\n",
       "      <td>NaN</td>\n",
       "      <td>NaN</td>\n",
       "      <td>NaN</td>\n",
       "      <td>NaN</td>\n",
       "      <td>NaN</td>\n",
       "      <td>NaN</td>\n",
       "      <td>Girona</td>\n",
       "      <td>Girona</td>\n",
       "      <td>2021</td>\n",
       "      <td>PN</td>\n",
       "      <td>Gas natural</td>\n",
       "      <td>110.0</td>\n",
       "      <td>5.099</td>\n",
       "      <td>0.025</td>\n",
       "      <td>1</td>\n",
       "      <td>0</td>\n",
       "      <td>True</td>\n",
       "    </tr>\n",
       "    <tr>\n",
       "      <th>70788</th>\n",
       "      <td>186392655</td>\n",
       "      <td>NaN</td>\n",
       "      <td>NaN</td>\n",
       "      <td>NaN</td>\n",
       "      <td>NaN</td>\n",
       "      <td>NaN</td>\n",
       "      <td>NaN</td>\n",
       "      <td>Girona</td>\n",
       "      <td>Girona</td>\n",
       "      <td>2021</td>\n",
       "      <td>PN</td>\n",
       "      <td>Gas natural</td>\n",
       "      <td>63.0</td>\n",
       "      <td>4.512</td>\n",
       "      <td>0.025</td>\n",
       "      <td>1</td>\n",
       "      <td>0</td>\n",
       "      <td>True</td>\n",
       "    </tr>\n",
       "    <tr>\n",
       "      <th>70790</th>\n",
       "      <td>186441076</td>\n",
       "      <td>NaN</td>\n",
       "      <td>NaN</td>\n",
       "      <td>NaN</td>\n",
       "      <td>NaN</td>\n",
       "      <td>NaN</td>\n",
       "      <td>NaN</td>\n",
       "      <td>Girona</td>\n",
       "      <td>Girona</td>\n",
       "      <td>2021</td>\n",
       "      <td>PN</td>\n",
       "      <td>Gas natural</td>\n",
       "      <td>63.0</td>\n",
       "      <td>0.289</td>\n",
       "      <td>0.025</td>\n",
       "      <td>0</td>\n",
       "      <td>0</td>\n",
       "      <td>True</td>\n",
       "    </tr>\n",
       "  </tbody>\n",
       "</table>\n",
       "</div>"
      ],
      "text/plain": [
       "          PipeId MaintenanceId  InspectionYear InspectionDate  MonthsLastRev  \\\n",
       "64887  185802404           NaN             NaN            NaN            NaN   \n",
       "64889  188243116           NaN             NaN            NaN            NaN   \n",
       "70787  185839446           NaN             NaN            NaN            NaN   \n",
       "70788  186392655           NaN             NaN            NaN            NaN   \n",
       "70790  186441076           NaN             NaN            NaN            NaN   \n",
       "\n",
       "       Severity  Incidence Province       Town  YearBuilt Material  \\\n",
       "64887       NaN        NaN   Girona  Puigcerda       2021       PN   \n",
       "64889       NaN        NaN   Girona  Puigcerda       2021       PN   \n",
       "70787       NaN        NaN   Girona     Girona       2021       PN   \n",
       "70788       NaN        NaN   Girona     Girona       2021       PN   \n",
       "70790       NaN        NaN   Girona     Girona       2021       PN   \n",
       "\n",
       "           GasType  Diameter  Length  Pressure  NumConnections  \\\n",
       "64887  Gas natural     110.0  12.012     0.150               1   \n",
       "64889  Gas natural      90.0  11.817     0.150               1   \n",
       "70787  Gas natural     110.0   5.099     0.025               1   \n",
       "70788  Gas natural      63.0   4.512     0.025               1   \n",
       "70790  Gas natural      63.0   0.289     0.025               0   \n",
       "\n",
       "       NumConnectionsUnder  BoolBridle  \n",
       "64887                    0        True  \n",
       "64889                    0        True  \n",
       "70787                    0        True  \n",
       "70788                    0        True  \n",
       "70790                    0        True  "
      ]
     },
     "execution_count": 52,
     "metadata": {},
     "output_type": "execute_result"
    }
   ],
   "source": [
    "#show me a head of train_copy with YearBuilt == 2020\n",
    "#ESTO DE AQUI HAY QUE CARGARSELO!!! JF: no todos mira que hay unos que son nuevos\n",
    "train_copy[train_copy['YearBuilt'] > 2020].head()"
   ]
  },
  {
   "cell_type": "code",
   "execution_count": 60,
   "id": "ca678c3e",
   "metadata": {},
   "outputs": [],
   "source": [
    "#remove MaintenanceId and InspectionDate from train_copy\n",
    "train_copy.drop('MaintenanceId', axis=1, inplace=True)\n",
    "train_copy.drop('InspectionDate', axis=1, inplace=True)"
   ]
  },
  {
   "cell_type": "code",
   "execution_count": 65,
   "id": "13accacf",
   "metadata": {},
   "outputs": [
    {
     "data": {
      "text/plain": [
       "(1960, 16)"
      ]
     },
     "execution_count": 65,
     "metadata": {},
     "output_type": "execute_result"
    }
   ],
   "source": [
    "#count the PipeID that have YearBuilt equal to 2021 and InspectionYear equal to NaN\n",
    "train_copy[(train_copy['YearBuilt'] == 2021) & (train_copy['InspectionYear'].isnull())].shape\n"
   ]
  },
  {
   "attachments": {},
   "cell_type": "markdown",
   "id": "8248cba6",
   "metadata": {},
   "source": [
    "JF: There are 1960 new pipes that were built after 2021 in the inspection dataset??? WTF they are lying to us!"
   ]
  },
  {
   "cell_type": "code",
   "execution_count": 67,
   "id": "2ebd4980",
   "metadata": {},
   "outputs": [
    {
     "data": {
      "text/plain": [
       "(1445, 7)"
      ]
     },
     "execution_count": 67,
     "metadata": {},
     "output_type": "execute_result"
    }
   ],
   "source": [
    "#count the PipeId in inspection dataset that YearBuilt is equal to 2021\n",
    "df_inspection[df_inspection['InspectionYear'] == 2021].shape"
   ]
  },
  {
   "cell_type": "code",
   "execution_count": 55,
   "id": "667145ba",
   "metadata": {},
   "outputs": [
    {
     "data": {
      "text/plain": [
       "(7672, 18)"
      ]
     },
     "execution_count": 55,
     "metadata": {},
     "output_type": "execute_result"
    }
   ],
   "source": [
    "#show me a head of train_copy with YearBuilt higher than InspectionYear and count them\n",
    "train_copy[(train_copy['YearBuilt'] > train_copy['InspectionYear'])].shape"
   ]
  },
  {
   "cell_type": "code",
   "execution_count": 56,
   "id": "78b70327",
   "metadata": {},
   "outputs": [
    {
     "data": {
      "text/plain": [
       "(0, 18)"
      ]
     },
     "execution_count": 56,
     "metadata": {},
     "output_type": "execute_result"
    }
   ],
   "source": [
    "#show me a head of train_copy where Incicende = 0 and severity >0 and count them\n",
    "train_copy[(train_copy['Incidence'] == 0) & (train_copy['Severity'] != 4)].shape"
   ]
  },
  {
   "cell_type": "code",
   "execution_count": 57,
   "id": "7301fa49",
   "metadata": {},
   "outputs": [
    {
     "data": {
      "text/plain": [
       "count    6.364029e+06\n",
       "mean     3.656308e+01\n",
       "std      7.225819e+01\n",
       "min      0.000000e+00\n",
       "25%      4.004000e+00\n",
       "50%      1.426100e+01\n",
       "75%      4.462400e+01\n",
       "max      2.610094e+04\n",
       "Name: Length, dtype: float64"
      ]
     },
     "execution_count": 57,
     "metadata": {},
     "output_type": "execute_result"
    }
   ],
   "source": [
    "#show me the outlier values of length in train_copy\n",
    "train_copy['Length'].describe()"
   ]
  },
  {
   "cell_type": "code",
   "execution_count": null,
   "id": "88d60cd1",
   "metadata": {},
   "outputs": [],
   "source": [
    "train_copy.head(1)\n"
   ]
  },
  {
   "cell_type": "code",
   "execution_count": null,
   "id": "85d53bcb",
   "metadata": {},
   "outputs": [],
   "source": [
    "train_copy.columns"
   ]
  },
  {
   "attachments": {},
   "cell_type": "markdown",
   "id": "6e372052",
   "metadata": {},
   "source": [
    "# Data Wrangling on combined dataset\n",
    "\n",
    "As a result of merging both datasets we now have pipeline duplicates per each maintenace_id operation. Before getrtng rid of the duplicates, we want to engineer some metrics interesting to the model such as number of operations, number of incidents and average risk based on severity*incidence"
   ]
  },
  {
   "cell_type": "code",
   "execution_count": null,
   "id": "25786b09",
   "metadata": {},
   "outputs": [],
   "source": [
    "#show all columns in pandas\n",
    "pd.set_option('display.max_columns', None)"
   ]
  },
  {
   "cell_type": "code",
   "execution_count": null,
   "id": "ccf9de53",
   "metadata": {},
   "outputs": [],
   "source": [
    "#create a new column counting the number of inspections (MaintenanceId) per PipeId\n",
    "train_copy['Inspections'] = train_copy.groupby('PipeId')['MaintenanceId'].transform('count')\n",
    "#aggregate the number of Incidents per pipe in a new column and place it in the fourth position\n",
    "train_copy['No_Incidents'] = train_copy.groupby('PipeId')['Incidence'].transform('sum')\n",
    "#place the new columns in the third position\n",
    "cols = list(train_copy.columns.values)\n",
    "cols.pop(cols.index('No_Incidents'))\n",
    "train_copy = train_copy[['PipeId', 'MaintenanceId', 'Inspections', 'No_Incidents', 'InspectionYear', 'InspectionDate',\n",
    "       'MonthsLastRev', 'Severity', 'Incidence', 'Province', 'Town',\n",
    "       'YearBuilt', 'Material', 'GasType', 'Diameter', 'Length', 'Pressure',\n",
    "       'NumConnections', 'NumConnectionsUnder', 'BoolBridle']]\n",
    "#show head of rows only where No_Incidents is greater than 0\n",
    "train_copy[train_copy['No_Incidents'] > 2].head(10)\n"
   ]
  },
  {
   "cell_type": "code",
   "execution_count": null,
   "id": "9d9fcef1",
   "metadata": {},
   "outputs": [],
   "source": [
    "train_copy.columns"
   ]
  },
  {
   "cell_type": "code",
   "execution_count": null,
   "id": "5e7a1ceb",
   "metadata": {},
   "outputs": [],
   "source": [
    "#create a column named average_severity that calculates the average severity per pipe \n",
    "train_copy['average_severity'] = train_copy.groupby('PipeId')['Severity'].transform('mean')\n",
    "#show head of rows only where mean has a decimal value\n",
    "train_copy[train_copy['average_severity'] % 1 != 0].head(10)\n",
    "#place the new column in 7th position\n",
    "cols = list(train_copy.columns.values)\n",
    "cols.pop(cols.index('average_severity'))\n",
    "train_copy = train_copy[['PipeId', 'MaintenanceId', 'Inspections', 'No_Incidents', \n",
    "    'InspectionYear', 'InspectionDate', 'average_severity', 'MonthsLastRev', 'Severity', 'Incidence', 'Province',\n",
    "    'Town','YearBuilt', 'Material', 'GasType', 'Diameter', 'Length', 'Pressure', 'NumConnections',\n",
    "    'NumConnectionsUnder', 'BoolBridle']]\n"
   ]
  },
  {
   "cell_type": "code",
   "execution_count": null,
   "id": "2fdfea3b",
   "metadata": {},
   "outputs": [],
   "source": [
    "#create a column taking average severity and number of total incidences per pipe multiplying them and naming it as risk_(s*i)\n",
    "train_copy['Risk_S*I'] = train_copy['average_severity'] * train_copy['No_Incidents'] \n",
    "#position the new column in the 7th position\n",
    "cols = list(train_copy.columns.values)\n",
    "cols.pop(cols.index('Risk_S*I'))\n",
    "train_copy = train_copy[['PipeId', 'MaintenanceId', 'Inspections', 'No_Incidents', 'Risk_S*I',\n",
    "    'InspectionYear', 'InspectionDate', 'average_severity', 'MonthsLastRev', 'Severity', 'Incidence', 'Province',\n",
    "    'Town','YearBuilt', 'Material', 'GasType', 'Diameter', 'Length', 'Pressure', 'NumConnections',\n",
    "    'NumConnectionsUnder', 'BoolBridle']]"
   ]
  },
  {
   "cell_type": "code",
   "execution_count": null,
   "id": "89039b1a",
   "metadata": {},
   "outputs": [],
   "source": [
    "#show head of rows only where Risk_S*I is greater than 0\n",
    "train_copy[train_copy['Risk_S*I'] > 0].head(10)"
   ]
  },
  {
   "cell_type": "code",
   "execution_count": null,
   "id": "14cb9f6c",
   "metadata": {},
   "outputs": [],
   "source": [
    "#create a new column taking Risk_S*I and dividing it by No_Inspections naming it as Risk_S*I/Inspections and placing it in 6th position\n",
    "train_copy['Risk_S*I/Inspections'] = train_copy['Risk_S*I'] / train_copy['Inspections']\n",
    "cols = list(train_copy.columns.values)\n",
    "cols.pop(cols.index('Risk_S*I/Inspections'))\n",
    "train_copy = train_copy[['PipeId', 'MaintenanceId', 'Inspections', 'Risk_S*I/Inspections', 'No_Incidents', \n",
    "    'Risk_S*I', 'average_severity', 'MonthsLastRev', 'Severity', 'Incidence', 'Province',\n",
    "    'Town','YearBuilt', 'InspectionYear', 'InspectionDate','Material', 'GasType', 'Diameter', 'Length', 'Pressure', 'NumConnections',\n",
    "    'NumConnectionsUnder', 'BoolBridle']]\n",
    "\n",
    "#show head of rows only where Risk_S*I/Inspections is greater than 0\n",
    "train_copy[train_copy['Risk_S*I/Inspections'] > 0].head(5)"
   ]
  },
  {
   "cell_type": "code",
   "execution_count": null,
   "id": "7046d745",
   "metadata": {},
   "outputs": [],
   "source": [
    "#creating a new column named probability with No_Incidents divided by Inspections\n",
    "train_copy['Probability_incidence'] = train_copy['No_Incidents'] / train_copy['Inspections']\n",
    "#place column in 3rd position\n",
    "cols = list(train_copy.columns.values)\n",
    "cols.pop(cols.index('Probability_incidence'))\n",
    "train_copy = train_copy[['PipeId', 'MaintenanceId', 'Inspections', 'Probability_incidence', 'Risk_S*I/Inspections', \n",
    "    'No_Incidents', 'Risk_S*I', 'average_severity', 'MonthsLastRev', 'Severity', 'Incidence', 'Province',\n",
    "    'Town','YearBuilt', 'InspectionYear', 'InspectionDate','Material', 'GasType', 'Diameter', 'Length', 'Pressure',\n",
    "    'NumConnections', 'NumConnectionsUnder', 'BoolBridle']]\n",
    "#show head of rows only where Probability is greater than 0\n",
    "train_copy[train_copy['Probability_incidence'] > 0].head(5)"
   ]
  },
  {
   "cell_type": "code",
   "execution_count": null,
   "id": "cd68a9f4",
   "metadata": {},
   "outputs": [],
   "source": [
    "#creating a column with the Average of MonthsLastRev grouping per PipeId and placing it in 7th position\n",
    "train_copy['Average_MonthsLastRev'] = train_copy.groupby('PipeId')['MonthsLastRev'].transform('mean')\n",
    "cols = list(train_copy.columns.values)\n",
    "cols.pop(cols.index('Average_MonthsLastRev'))\n",
    "train_copy = train_copy[['PipeId', 'MaintenanceId', 'Inspections', 'Probability_incidence', 'Risk_S*I/Inspections', 'Average_MonthsLastRev',\n",
    "    'No_Incidents', 'Risk_S*I', 'average_severity', 'MonthsLastRev', 'Severity', 'Incidence', 'Province',\n",
    "    'Town','YearBuilt', 'InspectionYear', 'InspectionDate','Material', 'GasType', 'Diameter', 'Length', 'Pressure',\n",
    "    'NumConnections', 'NumConnectionsUnder', 'BoolBridle']]\n",
    "train_copy.head(1)"
   ]
  },
  {
   "cell_type": "code",
   "execution_count": null,
   "id": "7ac174fe",
   "metadata": {},
   "outputs": [],
   "source": [
    "#creating a column named age_pipe_inspection with the difference between InspectionYear and YearBuilt and placing it in 10 th position\n",
    "train_copy['Age_pipe_inspection'] = train_copy['InspectionYear'] - train_copy['YearBuilt']\n",
    "cols = list(train_copy.columns.values)\n",
    "cols.pop(cols.index('Age_pipe_inspection'))\n",
    "train_copy = train_copy[['PipeId', 'MaintenanceId', 'Inspections', 'Probability_incidence', 'Risk_S*I/Inspections', 'Average_MonthsLastRev', \n",
    "    'Age_pipe_inspection', 'No_Incidents', 'Risk_S*I', 'average_severity', 'MonthsLastRev', 'Severity', 'Incidence', 'Province',\n",
    "    'Town','YearBuilt', 'InspectionYear', 'InspectionDate','Material', 'GasType', 'Diameter', 'Length', 'Pressure',\n",
    "    'NumConnections', 'NumConnectionsUnder', 'BoolBridle']]\n",
    "train_copy.head(1)"
   ]
  },
  {
   "cell_type": "code",
   "execution_count": null,
   "id": "65d61eee",
   "metadata": {},
   "outputs": [],
   "source": [
    "#aggregate the number of Age_pipe_inspection in a new column\n",
    "train_copy['Aggregate_pipe_age_inspection'] = train_copy.groupby('PipeId')['Age_pipe_inspection'].transform('sum')\n",
    "#place column in 10th position\n",
    "cols = list(train_copy.columns.values)\n",
    "cols.pop(cols.index('Aggregate_pipe_age_inspection'))\n",
    "train_copy = train_copy[['PipeId', 'MaintenanceId', 'Inspections', 'Probability_incidence', 'Risk_S*I/Inspections', 'Average_MonthsLastRev',\n",
    "    'Age_pipe_inspection', 'Aggregate_pipe_age_inspection', 'No_Incidents', 'Risk_S*I', 'average_severity', 'MonthsLastRev', 'Severity', 'Incidence', 'Province',\n",
    "    'Town','YearBuilt', 'InspectionYear', 'InspectionDate','Material', 'GasType', 'Diameter', 'Length', 'Pressure',\n",
    "    'NumConnections', 'NumConnectionsUnder', 'BoolBridle']]\n",
    "train_copy.head(10)\n"
   ]
  },
  {
   "cell_type": "code",
   "execution_count": null,
   "id": "85ab7f4e",
   "metadata": {},
   "outputs": [],
   "source": [
    "#divide the Aggregate_pipe_age_inspection by the count of Incidence when is 1 and create new column with the average_age_pipe_inspection_when_incidence saving it in 10th position\n",
    "train_copy['average_age_pipe_inspection_when_incidence'] = train_copy['Aggregate_pipe_age_inspection'] / train_copy.groupby('PipeId')['Incidence'].transform('count')\n",
    "#place column in 10th position\n",
    "cols = list(train_copy.columns.values)\n",
    "cols.pop(cols.index('average_age_pipe_inspection_when_incidence'))\n",
    "train_copy = train_copy[['PipeId', 'MaintenanceId', 'Inspections', 'Probability_incidence', 'Risk_S*I/Inspections', 'Average_MonthsLastRev',\n",
    "    'Age_pipe_inspection', 'Aggregate_pipe_age_inspection', 'average_age_pipe_inspection_when_incidence', 'No_Incidents', 'Risk_S*I', 'average_severity', 'MonthsLastRev', 'Severity', 'Incidence', 'Province',\n",
    "    'Town','YearBuilt', 'InspectionYear', 'InspectionDate','Material', 'GasType', 'Diameter', 'Length', 'Pressure',\n",
    "    'NumConnections', 'NumConnectionsUnder', 'BoolBridle']]\n",
    "#head of rows only where average_age_pipe_inspection_when_incidence when Incidence is 0\n",
    "train_copy[train_copy['Incidence'] == 0].head(10)"
   ]
  },
  {
   "cell_type": "code",
   "execution_count": null,
   "id": "098e62d2",
   "metadata": {},
   "outputs": [],
   "source": [
    "#transform Inspection Date to datetime format\n",
    "train_copy['InspectionDate'] = pd.to_datetime(train_copy['InspectionDate'])\n"
   ]
  },
  {
   "attachments": {},
   "cell_type": "markdown",
   "id": "e55dedde",
   "metadata": {},
   "source": [
    "# Calculating aprox gas leakage for case study\n",
    "## Revisit whenever team has come down with a factor!\n",
    "\n",
    "### JUAN: Risk Matrix\n",
    "    Alto riesgo alta probabilidad Bajo riesgo baja probabilidad\n",
    "\n",
    "Before narrowing down the dataset, we want to take an ssumption in the case there has been an incidence, to take half of the months since last inspection and multiply by a factor to estimate losses and hence potential savings"
   ]
  },
  {
   "cell_type": "code",
   "execution_count": null,
   "id": "c2fc19c9",
   "metadata": {},
   "outputs": [],
   "source": [
    "#create a new column named aprox_gas leakage taking PipeId with Incidence = 1 and multyplyig a factor of to MonthsLastRev/2. This is a factor to estimate the gas leakage(has to be multiplied by x to get the real value)\n",
    "train_copy['leakage_estimate_factor'] = train_copy['Risk_S*I/Inspections'] * (train_copy['MonthsLastRev']/2)\n",
    "train_copy.head()"
   ]
  },
  {
   "cell_type": "code",
   "execution_count": null,
   "id": "bb9c0332",
   "metadata": {},
   "outputs": [],
   "source": [
    "train_copy.shape"
   ]
  },
  {
   "cell_type": "code",
   "execution_count": null,
   "id": "a21a1873",
   "metadata": {},
   "outputs": [],
   "source": [
    "#freeing up some RAM\n",
    "del df_combined"
   ]
  },
  {
   "attachments": {},
   "cell_type": "markdown",
   "id": "f7c55ade",
   "metadata": {},
   "source": [
    "The dataset is huge. We will now work in narrowing it down"
   ]
  },
  {
   "attachments": {},
   "cell_type": "markdown",
   "id": "3846e794",
   "metadata": {},
   "source": [
    "# Narrowing combined dataset\n",
    "\n",
    "Now that we have extracted the interesting information from combining the dataset, we will further transform it to only include 1 pipeID and proceed with further data wrangling. We eliminate the maintenaceId for now"
   ]
  },
  {
   "cell_type": "code",
   "execution_count": null,
   "id": "4e6aab4d",
   "metadata": {},
   "outputs": [],
   "source": [
    "#keep only one PipeId per row where InspectionDate is the most recent\n",
    "train_copy = train_copy.sort_values('InspectionDate', ascending=False).drop_duplicates('PipeId')\n",
    "train_copy.head(2)"
   ]
  },
  {
   "cell_type": "code",
   "execution_count": null,
   "id": "179b828f",
   "metadata": {},
   "outputs": [],
   "source": [
    "train_copy.shape"
   ]
  },
  {
   "cell_type": "code",
   "execution_count": null,
   "id": "ceb1f4dc",
   "metadata": {},
   "outputs": [],
   "source": [
    "train_copy.dtypes\n"
   ]
  },
  {
   "cell_type": "code",
   "execution_count": null,
   "id": "60074efb",
   "metadata": {},
   "outputs": [],
   "source": [
    "#removing MaintenanceId column\n",
    "train_copy = train_copy.drop(['MaintenanceId'], axis=1)"
   ]
  },
  {
   "attachments": {},
   "cell_type": "markdown",
   "id": "e95483e4",
   "metadata": {},
   "source": [
    "# Data Wrangling\n",
    "Start of cleaning and organizing a dataset"
   ]
  },
  {
   "cell_type": "code",
   "execution_count": null,
   "id": "3cae8354",
   "metadata": {},
   "outputs": [],
   "source": [
    "train_copy['BoolBridle'].describe()"
   ]
  },
  {
   "cell_type": "code",
   "execution_count": null,
   "id": "026c1af8",
   "metadata": {},
   "outputs": [],
   "source": [
    "# Converting Boolbride into  boolean variable\n",
    "def boolbridle(x):\n",
    "    return 1 if x == 'True' else 0"
   ]
  },
  {
   "cell_type": "code",
   "execution_count": null,
   "id": "e8031e3c",
   "metadata": {},
   "outputs": [],
   "source": [
    "# Apply function on dataset\n",
    "train_copy['BoolBridle'] = train_copy['BoolBridle'].apply(lambda x: boolbridle(x))"
   ]
  },
  {
   "cell_type": "code",
   "execution_count": null,
   "id": "1f9dcd58",
   "metadata": {},
   "outputs": [],
   "source": [
    "#using custom made function to describe the dataset\n",
    "dataset_description(train_copy)"
   ]
  },
  {
   "cell_type": "code",
   "execution_count": null,
   "id": "cab9e1e2",
   "metadata": {},
   "outputs": [],
   "source": [
    "#Extract the day of the week from InspectionDate and place it in 5th position\n",
    "train_copy['InspectionDay'] = train_copy['InspectionDate'].dt.day_name()\n",
    "cols = list(train_copy.columns.values)\n",
    "cols.pop(cols.index('InspectionDay'))\n",
    "train_copy = train_copy[['PipeId', 'Inspections', 'No_Incidents', 'Risk_S*I/Inspections','leakage_estimate_factor','InspectionDay',\n",
    "    'InspectionYear', 'InspectionDate', 'MonthsLastRev', 'Risk_S*I','Severity','Incidence', 'Province', 'Town', 'YearBuilt', 'Material', 'GasType',\n",
    "    'Diameter', 'Length', 'Pressure', 'NumConnections', 'NumConnectionsUnder', 'BoolBridle']]\n",
    "train_copy.head(1)\n"
   ]
  },
  {
   "cell_type": "code",
   "execution_count": null,
   "id": "e4be290a",
   "metadata": {},
   "outputs": [],
   "source": [
    "#display possible values for week_day column and how many times they appear\n",
    "train_copy['InspectionDay'].value_counts()"
   ]
  },
  {
   "cell_type": "code",
   "execution_count": null,
   "id": "00ce8701",
   "metadata": {},
   "outputs": [],
   "source": [
    "#hot encode GasType column in the train_copy dataframe subset\n",
    "train_copy = pd.get_dummies(train_copy, columns=['GasType'], prefix = ['GasType'])"
   ]
  },
  {
   "cell_type": "code",
   "execution_count": null,
   "id": "ed68ec65",
   "metadata": {},
   "outputs": [],
   "source": [
    "#delete GasType_Gas propano column\n",
    "train_copy = train_copy.drop(['GasType_Gas propano'], axis=1)"
   ]
  },
  {
   "cell_type": "code",
   "execution_count": null,
   "id": "c9a2b8a6",
   "metadata": {},
   "outputs": [],
   "source": [
    "#change name of GasType_Gas natural column to gas_natural\n",
    "train_copy = train_copy.rename(columns={'GasType_Gas natural': 'gas_natural'})\n",
    "train_copy.head(1)"
   ]
  },
  {
   "cell_type": "code",
   "execution_count": null,
   "id": "2f607208",
   "metadata": {},
   "outputs": [],
   "source": [
    "#exporting the dataframe to csv\n",
    "os.chdir(r\"C:\\Users\\pedro\\datathon\")\n",
    "train_copy.to_csv('train_copy.csv', index=False)"
   ]
  },
  {
   "cell_type": "code",
   "execution_count": null,
   "id": "38aadb4f",
   "metadata": {},
   "outputs": [],
   "source": [
    "#eda with pandas profiling on the train_copy dataframe\n",
    "#profile = ProfileReport(train_copy, title='Pandas Profiling Report', html={'style':{'full_width':True}})\n",
    "#profile.to_file(\"train_copy.html\")\n"
   ]
  },
  {
   "cell_type": "code",
   "execution_count": null,
   "id": "abe968ce",
   "metadata": {},
   "outputs": [],
   "source": [
    "#how much RAM is being used\n",
    "import psutil\n",
    "psutil.virtual_memory()\n"
   ]
  },
  {
   "cell_type": "code",
   "execution_count": null,
   "id": "9c7ad615",
   "metadata": {},
   "outputs": [],
   "source": []
  },
  {
   "cell_type": "markdown",
   "id": "cb7c6610",
   "metadata": {},
   "source": [
    "# Adding a new dataset\n",
    "We want to extract value of two categorical variables, Town and Province but the way we have them now they are useless.\n",
    "\n",
    "We will add a new dataset to join and extract the surface of each town as well as the comunidad autonoma to group by accordingly in another column the number of towns and afterwards hot encode\n"
   ]
  },
  {
   "cell_type": "code",
   "execution_count": null,
   "id": "9b5189a8",
   "metadata": {},
   "outputs": [],
   "source": [
    "#count towns populating Town column\n",
    "train_copy['Town'].value_counts()\n",
    "train_copy['Town'].unique()"
   ]
  },
  {
   "cell_type": "code",
   "execution_count": null,
   "id": "f8e80bb9",
   "metadata": {},
   "outputs": [],
   "source": [
    "#point to the folder where the data is stored\n",
    "os.chdir(r\"C:\\Users\\pedro\\datathon\\base\\complementary_datasets\")\n",
    "\n",
    "# Loading combined_mod dataset\n",
    "df_mun = pd.read_excel('list-mun-2012.xls' , sheet_name='list-mun')\n",
    "\n",
    "#df_population= pd.read_excel('pobmun20.xls')\n"
   ]
  },
  {
   "cell_type": "code",
   "execution_count": null,
   "id": "ea0b066c",
   "metadata": {},
   "outputs": [],
   "source": [
    "df_mun.head(1)"
   ]
  },
  {
   "cell_type": "code",
   "execution_count": null,
   "id": "7089079d",
   "metadata": {},
   "outputs": [],
   "source": [
    "normalize_characters(df_mun, 'Municipio')"
   ]
  },
  {
   "cell_type": "code",
   "execution_count": null,
   "id": "6a17e009",
   "metadata": {},
   "outputs": [],
   "source": [
    "normalize_characters(train_copy, 'Town')"
   ]
  },
  {
   "cell_type": "code",
   "execution_count": null,
   "id": "746b2423",
   "metadata": {},
   "outputs": [],
   "source": [
    "normalize_characters(train_copy, 'Province')\n"
   ]
  },
  {
   "cell_type": "code",
   "execution_count": null,
   "id": "a70169a5",
   "metadata": {},
   "outputs": [],
   "source": [
    "#join train_copy and df_mun on Town column and Municipio column\n",
    "train_copy = pd.merge(train_copy, df_mun, how='left', left_on='Town', right_on='Municipio')\n",
    "train_copy.head(2)"
   ]
  },
  {
   "cell_type": "code",
   "execution_count": null,
   "id": "e1c07b48",
   "metadata": {},
   "outputs": [],
   "source": [
    "#place Province and Town Columns at the end of the dataframe\n",
    "cols = list(train_copy.columns.values)\n",
    "cols.pop(cols.index('Province'))\n",
    "cols.pop(cols.index('Town'))\n",
    "train_copy = train_copy[cols+['Province','Town']]\n",
    "train_copy.tail(2)"
   ]
  },
  {
   "cell_type": "code",
   "execution_count": null,
   "id": "bcbb57fb",
   "metadata": {},
   "outputs": [],
   "source": [
    "df_mun.columns"
   ]
  },
  {
   "cell_type": "code",
   "execution_count": null,
   "id": "020dadf1",
   "metadata": {},
   "outputs": [],
   "source": [
    "#deleting 'CP', 'Provincia', 'CPJ', 'Partido_Judicial', 'Capitalidad', 'Año', 'CA', 'codine', 'Municipio' from train_copy dataframe\n",
    "train_copy = train_copy.drop(['CP', 'Provincia', 'CPJ', 'Partido_Judicial', 'Capitalidad', 'Año', 'CA', 'codine', 'Municipio'], axis=1)\n",
    "train_copy.head(2)\n"
   ]
  },
  {
   "cell_type": "code",
   "execution_count": null,
   "id": "8ad3ca28",
   "metadata": {},
   "outputs": [],
   "source": [
    "#count nulls in each column for train_copy dataframe\n",
    "train_copy.isnull().sum()\n"
   ]
  },
  {
   "cell_type": "code",
   "execution_count": null,
   "id": "54127db8",
   "metadata": {},
   "outputs": [],
   "source": [
    "#delete column \"Superficie\" from train_copy dataframe\n",
    "train_copy = train_copy.drop(['Superficie'], axis=1)"
   ]
  },
  {
   "cell_type": "code",
   "execution_count": null,
   "id": "1409f838",
   "metadata": {},
   "outputs": [],
   "source": [
    "#for Province with value tarragona, replace null values in Autonomia with Cataluña\n",
    "train_copy.loc[train_copy['Province'] == 'barcelona', 'Autonomía'] = train_copy.loc[train_copy['Province'] == 'barcelona', 'Autonomía'].fillna('Cataluña')\n",
    "train_copy.loc[train_copy['Province'] == 'tarragona', 'Autonomía'] = train_copy.loc[train_copy['Province'] == 'tarragona', 'Autonomía'].fillna('Cataluña')\n",
    "train_copy.loc[train_copy['Province'] == 'lleida', 'Autonomía'] = train_copy.loc[train_copy['Province'] == 'lleida', 'Autonomía'].fillna('Cataluña')\n",
    "train_copy.loc[train_copy['Province'] == 'girona', 'Autonomía'] = train_copy.loc[train_copy['Province'] == 'girona', 'Autonomía'].fillna('Cataluña')\n",
    "\n"
   ]
  },
  {
   "cell_type": "code",
   "execution_count": null,
   "id": "666878c7",
   "metadata": {},
   "outputs": [],
   "source": [
    "#count nulls in Autonomia column in train_copy dataframe\n",
    "train_copy['Autonomía'].isnull().sum()"
   ]
  },
  {
   "cell_type": "code",
   "execution_count": null,
   "id": "659f05fb",
   "metadata": {},
   "outputs": [],
   "source": [
    "#for Province with value \"La Rioja\", replace null values in Autonomía with \"Rioja (La)\"\n",
    "train_copy.loc[train_copy['Province'] == 'la rioja', 'Autonomía'] = train_copy.loc[train_copy['Province'] == 'la rioja', 'Autonomía'].fillna('Rioja (La)')\n"
   ]
  },
  {
   "cell_type": "code",
   "execution_count": null,
   "id": "3829b746",
   "metadata": {},
   "outputs": [],
   "source": [
    "#for Province with value Orense, replace null values in Autonomía with \"Galicia\"\n",
    "train_copy.loc[train_copy['Province'] == 'orense', 'Autonomía'] = train_copy.loc[train_copy['Province'] == 'orense', 'Autonomía'].fillna('Galicia')\n",
    "train_copy.loc[train_copy['Province'] == 'la coruna', 'Autonomía'] = train_copy.loc[train_copy['Province'] == 'la coruna', 'Autonomía'].fillna('Galicia')\n",
    "train_copy.loc[train_copy['Province'] == 'pontevedra', 'Autonomía'] = train_copy.loc[train_copy['Province'] == 'pontevedra', 'Autonomía'].fillna('Galicia')\n",
    "train_copy.loc[train_copy['Province'] == 'lugo', 'Autonomía'] = train_copy.loc[train_copy['Province'] == 'lugo', 'Autonomía'].fillna('Galicia')\n"
   ]
  },
  {
   "cell_type": "code",
   "execution_count": null,
   "id": "bcbea593",
   "metadata": {},
   "outputs": [],
   "source": [
    "#for Province with value Zaragoza, replace null values in Autonomía with \"Aragón\"\n",
    "train_copy.loc[train_copy['Province'] == 'zaragoza', 'Autonomía'] = train_copy.loc[train_copy['Province'] == 'zaragoza', 'Autonomía'].fillna('Aragón')\n",
    "train_copy.loc[train_copy['Province'] == 'huesca', 'Autonomía'] = train_copy.loc[train_copy['Province'] == 'huesca', 'Autonomía'].fillna('Aragón')"
   ]
  },
  {
   "cell_type": "code",
   "execution_count": null,
   "id": "8e2a38e5",
   "metadata": {},
   "outputs": [],
   "source": [
    "#for Province with value Toledo, replace null values in Autonomía with \"Castilla-La Mancha\"\n",
    "train_copy.loc[train_copy['Province'] == 'toledo', 'Autonomía'] = train_copy.loc[train_copy['Province'] == 'toledo', 'Autonomía'].fillna('Castilla-La Mancha')\n",
    "train_copy.loc[train_copy['Province'] == 'albacete', 'Autonomía'] = train_copy.loc[train_copy['Province'] == 'albacete', 'Autonomía'].fillna('Castilla-La Mancha')\n",
    "train_copy.loc[train_copy['Province'] == 'ciudad real', 'Autonomía'] = train_copy.loc[train_copy['Province'] == 'ciudad real', 'Autonomía'].fillna('Castilla-La Mancha')\n",
    "train_copy.loc[train_copy['Province'] == 'cuenca', 'Autonomía'] = train_copy.loc[train_copy['Province'] == 'cuenca', 'Autonomía'].fillna('Castilla-La Mancha')\n"
   ]
  },
  {
   "cell_type": "code",
   "execution_count": null,
   "id": "d1f48df8",
   "metadata": {},
   "outputs": [],
   "source": [
    "#for Province with value Almeria, replace null values in Autonomía with \"Andalucía\"\n",
    "train_copy.loc[train_copy['Province'] == 'almeria', 'Autonomía'] = train_copy.loc[train_copy['Province'] == 'almeria', 'Autonomía'].fillna('Andalucía')\n",
    "train_copy.loc[train_copy['Province'] == 'sevilla', 'Autonomía'] = train_copy.loc[train_copy['Province'] == 'sevilla', 'Autonomía'].fillna('Andalucía')\n",
    "train_copy.loc[train_copy['Province'] == 'jaen', 'Autonomía'] = train_copy.loc[train_copy['Province'] == 'jaen', 'Autonomía'].fillna('Andalucía')\n",
    "train_copy.loc[train_copy['Province'] == 'cordoba', 'Autonomía'] = train_copy.loc[train_copy['Province'] == 'cordoba', 'Autonomía'].fillna('Andalucía')\n",
    "train_copy.loc[train_copy['Province'] == 'cadiz', 'Autonomía'] = train_copy.loc[train_copy['Province'] == 'cadiz', 'Autonomía'].fillna('Andalucía')\n",
    "train_copy.loc[train_copy['Province'] == 'granada', 'Autonomía'] = train_copy.loc[train_copy['Province'] == 'granada', 'Autonomía'].fillna('Andalucía')\n",
    "\n"
   ]
  },
  {
   "cell_type": "code",
   "execution_count": null,
   "id": "88e996f8",
   "metadata": {},
   "outputs": [],
   "source": [
    "#for Province with value Zamora, replace null values in Autonomía with \"Castilla y León\"\n",
    "train_copy.loc[train_copy['Province'] == 'zamora', 'Autonomía'] = train_copy.loc[train_copy['Province'] == 'zamora', 'Autonomía'].fillna('Castilla y León')\n",
    "train_copy.loc[train_copy['Province'] == 'segovia', 'Autonomía'] = train_copy.loc[train_copy['Province'] == 'segovia', 'Autonomía'].fillna('Castilla y León')\n",
    "train_copy.loc[train_copy['Province'] == 'valladolid', 'Autonomía'] = train_copy.loc[train_copy['Province'] == 'valladolid', 'Autonomía'].fillna('Castilla y León')\n",
    "train_copy.loc[train_copy['Province'] == 'leon', 'Autonomía'] = train_copy.loc[train_copy['Province'] == 'leon', 'Autonomía'].fillna('Castilla y León')\n",
    "train_copy.loc[train_copy['Province'] == 'salamanca', 'Autonomía'] = train_copy.loc[train_copy['Province'] == 'salamanca', 'Autonomía'].fillna('Castilla y León')\n",
    "train_copy.loc[train_copy['Province'] == 'burgos', 'Autonomía'] = train_copy.loc[train_copy['Province'] == 'burgos', 'Autonomía'].fillna('Castilla y León')\n",
    "train_copy.loc[train_copy['Province'] == 'soria', 'Autonomía'] = train_copy.loc[train_copy['Province'] == 'soria', 'Autonomía'].fillna('Castilla y León')\n",
    "train_copy.loc[train_copy['Province'] == 'palencia', 'Autonomía'] = train_copy.loc[train_copy['Province'] == 'palencia', 'Autonomía'].fillna('Castilla y León')\n"
   ]
  },
  {
   "cell_type": "code",
   "execution_count": null,
   "id": "21f9b99d",
   "metadata": {},
   "outputs": [],
   "source": [
    "#for Province with value Madrid, replace null values in Autonomía with \"Madrid (Comunidad de)\"\n",
    "train_copy.loc[train_copy['Province'] == 'madrid', 'Autonomía'] = train_copy.loc[train_copy['Province'] == 'madrid', 'Autonomía'].fillna('Madrid (Comunidad de)')\n"
   ]
  },
  {
   "cell_type": "code",
   "execution_count": null,
   "id": "5f43fe0f",
   "metadata": {},
   "outputs": [],
   "source": [
    "#for Province with value Alicante, replace null values in Autonomía with Comunidad Valenciana\n",
    "train_copy.loc[train_copy['Province'] == 'alicante', 'Autonomía'] = train_copy.loc[train_copy['Province'] == 'alicante', 'Autonomía'].fillna('Comunidad Valenciana')\n",
    "train_copy.loc[train_copy['Province'] == 'castellon', 'Autonomía'] = train_copy.loc[train_copy['Province'] == 'castellon', 'Autonomía'].fillna('Comunidad Valenciana')\n",
    "train_copy.loc[train_copy['Province'] == 'valencia', 'Autonomía'] = train_copy.loc[train_copy['Province'] == 'valencia', 'Autonomía'].fillna('Comunidad Valenciana')\n"
   ]
  },
  {
   "cell_type": "code",
   "execution_count": null,
   "id": "bc408431",
   "metadata": {},
   "outputs": [],
   "source": [
    "#count nulls in Autonomia column in train_copy dataframe\n",
    "train_copy['Autonomía'].isnull().sum()"
   ]
  },
  {
   "cell_type": "code",
   "execution_count": null,
   "id": "7fbbfdf7",
   "metadata": {},
   "outputs": [],
   "source": [
    "#droping df_mun from memory to free RAM\n",
    "del df_mun"
   ]
  },
  {
   "cell_type": "code",
   "execution_count": null,
   "id": "c98da0d0",
   "metadata": {},
   "outputs": [],
   "source": [
    "train_copy.dtypes"
   ]
  },
  {
   "cell_type": "code",
   "execution_count": null,
   "id": "b1cacd46",
   "metadata": {},
   "outputs": [],
   "source": [
    "#count the number of Town per Autonomía and create a new column in train_copy dataframe\n",
    "train_copy['TownCount'] = train_copy.groupby('Town')['Town'].transform('count')\n",
    "train_copy.head()"
   ]
  },
  {
   "cell_type": "code",
   "execution_count": null,
   "id": "3a38f559",
   "metadata": {},
   "outputs": [],
   "source": [
    "#hot encoding of categorical column Autonomía\n",
    "train_copy = pd.get_dummies(train_copy, columns=['Autonomía'])\n",
    "train_copy.head(1)"
   ]
  },
  {
   "cell_type": "code",
   "execution_count": null,
   "id": "51421aff",
   "metadata": {},
   "outputs": [],
   "source": [
    "#count nulls\n",
    "train_copy.isnull().sum()"
   ]
  },
  {
   "cell_type": "markdown",
   "id": "71d83731",
   "metadata": {},
   "source": [
    "# Further feature engineering"
   ]
  },
  {
   "cell_type": "markdown",
   "id": "a3eddde5",
   "metadata": {},
   "source": [
    "We want to also see materials available for the pipes as a hot encoded feature"
   ]
  },
  {
   "cell_type": "code",
   "execution_count": null,
   "id": "d0fd6b3e",
   "metadata": {},
   "outputs": [],
   "source": [
    "print (train_copy['Material'].unique())"
   ]
  },
  {
   "cell_type": "code",
   "execution_count": null,
   "id": "3c6f970f",
   "metadata": {},
   "outputs": [],
   "source": [
    "#Map df_combined Material column to the names of materials\n",
    "train_copy['Material'] = train_copy['Material'].map({'PE': 'Polyethylene', 'AO': 'Acrylonitrile-Butadiene-Styrene', 'FD': 'Fiberglass-Reinforced Plastic', \n",
    "    'FG': 'Fiberglass', 'PN': 'Polypropylene', 'PA': 'Polyamide', 'FO': 'Flexible Polyolefin', 'FI': 'Flexible Polyvinyl Chloride', 'CU': 'Copper', \n",
    "    'PV': 'Polyvinylidene Fluoride', 'ZD': 'Zinc-Coated Steel', 'ZA': 'Zinc-Aluminum', 'CP': 'Cast Iron', 'CS': 'Cast Steel', \n",
    "    'ZC': 'Zinc-Coated Steel', 'ZM': 'Zinc-Magnesium','ZN': 'Zinc', 'AL': 'Aluminum', 'ZP': 'Zinc-Coated Steel', 'ZF': 'Zinc-Aluminum-Magnesium'})\n"
   ]
  },
  {
   "cell_type": "code",
   "execution_count": null,
   "id": "d3a8b559",
   "metadata": {},
   "outputs": [],
   "source": [
    "train_copy.tail(1)"
   ]
  },
  {
   "cell_type": "code",
   "execution_count": null,
   "id": "ed59c655",
   "metadata": {},
   "outputs": [],
   "source": [
    "#Hot enconde Material column in the train_copy dataframe subset\n",
    "train_copy = pd.get_dummies(train_copy, columns=['Material'], prefix = ['Material'])\n",
    "#train_copy = train_copy.drop(['Material_Fiberglass', 'Material_Zinc-Coated Steel', 'Material_Polyvinylidene Fluoride','Material_Flexible Polyolefin', 'Material_Flexible Polyvinyl Chloride', 'Material_Polyamide'], axis=1)\n",
    "train_copy.head(1)"
   ]
  },
  {
   "attachments": {},
   "cell_type": "markdown",
   "id": "a645b088",
   "metadata": {},
   "source": [
    "# Splitting the dataset to isolate the PIPEIDs that must be predicted for the kaggle \n",
    "Really make sure you didn't drop earlier anything\n"
   ]
  },
  {
   "cell_type": "code",
   "execution_count": null,
   "id": "3c3ff22b",
   "metadata": {},
   "outputs": [],
   "source": [
    "os.chdir(r\"C:\\Users\\pedro\\datathon\\Datathon-Rules-and-Documentation\")\n",
    "df_submission = pd.read_csv('sample_submission.csv')\n",
    "df_submission.head(5)"
   ]
  },
  {
   "cell_type": "code",
   "execution_count": null,
   "id": "2995d488",
   "metadata": {},
   "outputs": [],
   "source": [
    "#take PipeId column from df_submission dataframe and match it with PipeId column in train_copy dataframe to split train_copy into df_combined_train and df_combined_test. The test split should be the one with the higher number of rows\n",
    "df_combined_test = train_copy[train_copy['PipeId'].isin(df_submission['PipeId'])]\n",
    "df_combined_train = train_copy[~train_copy['PipeId'].isin(df_submission['PipeId'])]\n",
    "#Do not look back at the test set until you are ready to submit your predictions\n"
   ]
  },
  {
   "cell_type": "code",
   "execution_count": null,
   "id": "1fe9102e",
   "metadata": {},
   "outputs": [],
   "source": [
    "#find pipeid 446859944 in df_combined_train dataframe\n",
    "df_combined_train.loc[df_combined_train['PipeId'] == 446859944]"
   ]
  },
  {
   "cell_type": "code",
   "execution_count": null,
   "id": "0e14a475",
   "metadata": {},
   "outputs": [],
   "source": [
    "#find pipeid 446859944 in df_combined_test dataframe\n",
    "df_combined_test.loc[df_combined_test['PipeId'] == 446859944]"
   ]
  },
  {
   "cell_type": "code",
   "execution_count": null,
   "id": "56005209",
   "metadata": {},
   "outputs": [],
   "source": [
    "#point to the folder where the data is stored\n",
    "os.chdir(r\"C:\\Users\\pedro\\datathon\")\n",
    "#export the dataframe to a csv file\n",
    "df_combined_train.to_csv('df_combined_train.csv', index=False)\n",
    "df_combined_test.to_csv('df_combined_test.csv', index=False)\n"
   ]
  },
  {
   "cell_type": "code",
   "execution_count": null,
   "id": "e62e99c7",
   "metadata": {},
   "outputs": [],
   "source": [
    "#pandas profiling on df_combined_train dataframe\n",
    "os.chdir(r\"C:\\Users\\pedro\\datathon\")\n",
    "profile = ProfileReport(df_combined_train, title='Pandas Profiling Report', html={'style':{'full_width':True}})\n",
    "profile.to_file(\"df_combined_train.html\")\n",
    "profile"
   ]
  },
  {
   "cell_type": "code",
   "execution_count": null,
   "id": "e7e462fd",
   "metadata": {},
   "outputs": [],
   "source": [
    "df_combined_train.columns\n"
   ]
  },
  {
   "cell_type": "code",
   "execution_count": null,
   "id": "eeaf3224",
   "metadata": {},
   "outputs": [],
   "source": [
    "#subseries of df_combined_train dataframe\n",
    "df_combined_train_sub = df_combined_train[['Inspections', 'No_Incidents', 'Risk_S*I/Inspections', 'MonthsLastRev', 'Risk_S*I', 'Severity',\n",
    "       'YearBuilt', 'Diameter', 'Length', 'Pressure', 'NumConnections','NumConnectionsUnder', 'BoolBridle', 'gas_natural',\n",
    "       'TownCount', 'Autonomía_Andalucía', 'Autonomía_Aragón',\n",
    "       'Autonomía_Balears (Illes)', 'Autonomía_Castilla y León',\n",
    "       'Autonomía_Castilla-La Mancha', 'Autonomía_Cataluña',\n",
    "       'Autonomía_Comunidad Valenciana', 'Autonomía_Extremadura',\n",
    "       'Autonomía_Galicia', 'Autonomía_Madrid (Comunidad de)',\n",
    "       'Autonomía_Navarra (Comunidad Foral de)', 'Autonomía_Rioja (La)',\n",
    "       'Material_Acrylonitrile-Butadiene-Styrene', 'Material_Copper',\n",
    "       'Material_Fiberglass', 'Material_Fiberglass-Reinforced Plastic',\n",
    "       'Material_Flexible Polyolefin', 'Material_Flexible Polyvinyl Chloride',\n",
    "       'Material_Polyamide', 'Material_Polyethylene', 'Material_Polypropylene']]"
   ]
  },
  {
   "cell_type": "code",
   "execution_count": null,
   "id": "25db3c1c",
   "metadata": {},
   "outputs": [],
   "source": [
    "df_combined_train_sub.head(2)"
   ]
  },
  {
   "cell_type": "code",
   "execution_count": null,
   "id": "54b40d03",
   "metadata": {},
   "outputs": [],
   "source": [
    "#straify and split the df_combined_train_sub dataframe into train and test sets\n",
    "X = df_combined_train_sub.drop(['Severity'], axis=1)\n",
    "y = df_combined_train_sub['Severity']\n",
    "X_train, X_test, y_train, y_test = train_test_split(X, y, test_size=0.2, random_state=42, stratify=y)\n"
   ]
  },
  {
   "cell_type": "code",
   "execution_count": null,
   "id": "3b1f6e4a",
   "metadata": {},
   "outputs": [],
   "source": [
    "#pply lazypredict to the train and test sets\n",
    "clf = LazyClassifier(verbose=1, ignore_warnings=False, custom_metric=None)\n",
    "models, predictions = clf.fit(X_train, X_test, y_train, y_test)\n",
    "models\n"
   ]
  },
  {
   "cell_type": "markdown",
   "id": "4c011501",
   "metadata": {},
   "source": [
    "#apply a logaritmic transformation to skewed columns\n",
    "df_combined_train_sub['Inspections'] = np.log(df_combined_train_sub['Inspections'])\n",
    "df_combined_train_sub['No_Incidents'] = np.log(df_combined_train_sub['No_Incidents'])\n",
    "df_combined_train_sub['Risk_S*I/Inspections'] = np.log(df_combined_train_sub['Risk_S*I/Inspections'])\n",
    "df_combined_train_sub['MonthsLastRev'] = np.log(df_combined_train_sub['MonthsLastRev'])\n",
    "df_combined_train_sub['Risk_S*I'] = np.log(df_combined_train_sub['Risk_S*I'])\n",
    "df_combined_train_sub['Severity'] = np.log(df_combined_train_sub['Severity'])\n",
    "df_combined_train_sub['YearBuilt'] = np.log(df_combined_train_sub['YearBuilt'])\n",
    "df_combined_train_sub['Diameter'] = np.log(df_combined_train_sub['Diameter'])\n",
    "df_combined_train_sub['Length'] = np.log(df_combined_train_sub['Length'])\n",
    "df_combined_train_sub['Pressure'] = np.log(df_combined_train_sub['Pressure'])\n",
    "df_combined_train_sub['NumConnections'] = np.log(df_combined_train_sub['NumConnections'])\n",
    "df_combined_train_sub['NumConnectionsUnder'] = np.log(df_combined_train_sub['NumConnectionsUnder'])\n",
    "df_combined_train_sub['TownCount'] = np.log(df_combined_train_sub['TownCount'])\n",
    "df_combined_train_sub.head(2)"
   ]
  },
  {
   "cell_type": "code",
   "execution_count": null,
   "id": "5cc11180",
   "metadata": {},
   "outputs": [],
   "source": [
    "#normalize df_combined_train_sub dataframe but the booleans\n",
    "df_combined_train_sub_norm = df_combined_train_sub.copy()\n",
    "df_combined_train_sub_norm[['Inspections', 'No_Incidents', 'Risk_S*I/Inspections', 'MonthsLastRev', 'Risk_S*I', 'Severity',\n",
    "         'YearBuilt', 'Diameter', 'Length', 'Pressure', 'NumConnections','NumConnectionsUnder', 'TownCount']] = MinMaxScaler().fit_transform(df_combined_train_sub_norm[['Inspections', 'No_Incidents', 'Risk_S*I/Inspections', 'MonthsLastRev', 'Risk_S*I', 'Severity',\n",
    "            'YearBuilt', 'Diameter', 'Length', 'Pressure', 'NumConnections','NumConnectionsUnder', 'TownCount']])\n",
    "df_combined_train_sub_norm.head(2)\n"
   ]
  },
  {
   "cell_type": "code",
   "execution_count": null,
   "id": "c27679c1",
   "metadata": {},
   "outputs": [],
   "source": []
  },
  {
   "cell_type": "code",
   "execution_count": null,
   "id": "097136ed",
   "metadata": {},
   "outputs": [],
   "source": []
  },
  {
   "cell_type": "code",
   "execution_count": null,
   "id": "2277439b",
   "metadata": {},
   "outputs": [],
   "source": [
    "#plot bar graph of Yearbuilt column\n",
    "train_copy['YearBuilt'].value_counts().plot(kind='bar', figsize=(10,10), title='YearBuilt')\n"
   ]
  },
  {
   "cell_type": "code",
   "execution_count": null,
   "id": "73f37ecc",
   "metadata": {},
   "outputs": [],
   "source": [
    "#delete outliers in Year_Built column < 1960\n",
    "train_copy = train_copy[train_copy['YearBuilt'] > 1960]\n"
   ]
  },
  {
   "cell_type": "code",
   "execution_count": null,
   "id": "a3ab02c9",
   "metadata": {},
   "outputs": [],
   "source": [
    "train_copy.dtypes"
   ]
  },
  {
   "cell_type": "code",
   "execution_count": null,
   "id": "2da4ce54",
   "metadata": {},
   "outputs": [],
   "source": [
    "#graph histogram of MonthsLastRev column\n",
    "train_copy['MonthsLastRev'].hist()"
   ]
  },
  {
   "cell_type": "code",
   "execution_count": null,
   "id": "f3d6955d",
   "metadata": {},
   "outputs": [],
   "source": [
    "#eliminate values higher than 40 in MonthsLastRev column\n",
    "train_copy = train_copy[train_copy['MonthsLastRev'] < 51]"
   ]
  },
  {
   "cell_type": "code",
   "execution_count": null,
   "id": "a10369a0",
   "metadata": {},
   "outputs": [],
   "source": [
    "#show histogram of diameter column\n",
    "train_copy['Diameter'].hist()"
   ]
  },
  {
   "cell_type": "code",
   "execution_count": null,
   "id": "03fa4f05",
   "metadata": {},
   "outputs": [],
   "source": [
    "#eliminate values higher than 400 in diameter column\n",
    "train_copy = train_copy[train_copy['Diameter'] < 400]"
   ]
  },
  {
   "cell_type": "code",
   "execution_count": null,
   "id": "d65f30e0",
   "metadata": {},
   "outputs": [],
   "source": [
    "#plot column Length\n",
    "train_copy['Length'].value_counts()"
   ]
  },
  {
   "cell_type": "code",
   "execution_count": null,
   "id": "9f186dab",
   "metadata": {},
   "outputs": [],
   "source": [
    "#plot histogram of Length column\n",
    "train_copy['Length'].hist()"
   ]
  },
  {
   "cell_type": "markdown",
   "id": "0139a1ff",
   "metadata": {},
   "source": [
    "# Feature Engineering"
   ]
  },
  {
   "cell_type": "code",
   "execution_count": null,
   "id": "302b6d52",
   "metadata": {},
   "outputs": [],
   "source": [
    "#create a new column that divides the diameter by the pressure and name it Relative Thickness\n",
    "train_copy['Relative_Thickness'] = train_copy['Diameter'] / train_copy['Pressure']"
   ]
  },
  {
   "cell_type": "code",
   "execution_count": null,
   "id": "125108d7",
   "metadata": {},
   "outputs": [],
   "source": [
    "#Create a new column that takes the inspecion year and substracts the YearBuilt column naming it Age of Pipe\n",
    "train_copy['Age_of_Pipe_upon_inspection'] = train_copy['InspectionYear'] - train_copy['YearBuilt']\n",
    "train_copy.head(1)"
   ]
  },
  {
   "cell_type": "code",
   "execution_count": null,
   "id": "2daff434",
   "metadata": {},
   "outputs": [],
   "source": [
    "#create a column that multiplies severity by incidence and name it severity_incidence\n",
    "train_copy['Severity_Incidence'] = train_copy['Severity'] * train_copy['Incidence']"
   ]
  },
  {
   "cell_type": "code",
   "execution_count": null,
   "id": "a882cfde",
   "metadata": {},
   "outputs": [],
   "source": [
    "#delete column severity\n",
    "train_copy = train_copy.drop(['Severity'], axis=1)\n",
    "train_copy.head(1)\n"
   ]
  },
  {
   "cell_type": "code",
   "execution_count": null,
   "id": "65ee10f7",
   "metadata": {},
   "outputs": [],
   "source": [
    "train_copy.dtypes"
   ]
  },
  {
   "cell_type": "code",
   "execution_count": null,
   "id": "503ed6a9",
   "metadata": {},
   "outputs": [],
   "source": [
    "#hot encode severity_incidence column in the train_copy dataframe\n",
    "train_copy = pd.get_dummies(train_copy, columns=['Severity_Incidence'], prefix = ['Severity_Incidence'])\n",
    "train_copy.head(1)"
   ]
  },
  {
   "cell_type": "code",
   "execution_count": null,
   "id": "db431ef1",
   "metadata": {},
   "outputs": [],
   "source": [
    "#change name of Severity_Incidence_0 column to Severity_0\n",
    "train_copy = train_copy.rename(columns={'Severity_Incidence_0': 'Severity_0'})\n",
    "#change name of Severity_Incidence_1 column to Severity_low\n",
    "train_copy = train_copy.rename(columns={'Severity_Incidence_1': 'Severity_low'})\n",
    "#change name of Severity_Incidence_2 column to Severity_medium\n",
    "train_copy = train_copy.rename(columns={'Severity_Incidence_2': 'Severity_medium'})\n",
    "#change name of Severity_Incidence_3 column to Severity_high\n",
    "train_copy = train_copy.rename(columns={'Severity_Incidence_3': 'Severity_high'})\n",
    "train_copy.head(1)\n"
   ]
  },
  {
   "cell_type": "code",
   "execution_count": null,
   "id": "f360ac8a",
   "metadata": {},
   "outputs": [],
   "source": [
    "train_copy.shape"
   ]
  },
  {
   "cell_type": "code",
   "execution_count": null,
   "id": "47bd9ac2",
   "metadata": {},
   "outputs": [],
   "source": [
    "#General number of high severity per year\n",
    "train_copy.groupby('InspectionYear')['Severity_high'].value_counts()"
   ]
  },
  {
   "cell_type": "code",
   "execution_count": null,
   "id": "a8618b0c",
   "metadata": {},
   "outputs": [],
   "source": [
    "\n"
   ]
  },
  {
   "cell_type": "code",
   "execution_count": null,
   "id": "a44b7259",
   "metadata": {},
   "outputs": [],
   "source": [
    "train_copy.dtypes"
   ]
  },
  {
   "cell_type": "code",
   "execution_count": null,
   "id": "9e2a2249",
   "metadata": {},
   "outputs": [],
   "source": [
    "#take PipeId column from df_submission dataframe and match it with PipeId column in train_copy dataframe to split train_copy into df_combined_train and df_combined_test. The test split should be the one with the higher number of rows\n",
    "df_combined_trained = train_copy[train_copy['PipeId'].isin(df_submission['PipeId'])]\n",
    "df_combined_test = train_copy[~train_copy['PipeId'].isin(df_submission['PipeId'])]"
   ]
  },
  {
   "cell_type": "code",
   "execution_count": null,
   "id": "8aef1327",
   "metadata": {},
   "outputs": [],
   "source": []
  },
  {
   "cell_type": "code",
   "execution_count": null,
   "id": "4e273c4a",
   "metadata": {},
   "outputs": [],
   "source": []
  },
  {
   "cell_type": "code",
   "execution_count": null,
   "id": "179537b1",
   "metadata": {},
   "outputs": [],
   "source": [
    "#plot bar graph of Yearbuilt column\n",
    "train_copy['YearBuilt'].value_counts().plot(kind='bar', figsize=(10,10), title='YearBuilt')\n"
   ]
  },
  {
   "cell_type": "code",
   "execution_count": null,
   "id": "b942df35",
   "metadata": {},
   "outputs": [],
   "source": [
    "#delete outliers in Year_Built column < 1960\n",
    "train_copy = train_copy[train_copy['YearBuilt'] < 1960]\n"
   ]
  },
  {
   "cell_type": "code",
   "execution_count": null,
   "id": "d3517eb3",
   "metadata": {},
   "outputs": [],
   "source": [
    "train_copy.dtypes"
   ]
  },
  {
   "cell_type": "code",
   "execution_count": null,
   "id": "38e4f7c9",
   "metadata": {},
   "outputs": [],
   "source": [
    "#graph histogram of MonthsLastRev column\n",
    "train_copy['MonthsLastRev'].hist()"
   ]
  },
  {
   "cell_type": "code",
   "execution_count": null,
   "id": "6d75d61e",
   "metadata": {},
   "outputs": [],
   "source": [
    "#eliminate values higher than 40 in MonthsLastRev column\n",
    "train_copy = train_copy[train_copy['MonthsLastRev'] < 51]"
   ]
  },
  {
   "cell_type": "code",
   "execution_count": null,
   "id": "31583da6",
   "metadata": {},
   "outputs": [],
   "source": [
    "#show histogram of diameter column\n",
    "train_copy['Diameter'].hist()"
   ]
  },
  {
   "cell_type": "code",
   "execution_count": null,
   "id": "975d6b8e",
   "metadata": {},
   "outputs": [],
   "source": [
    "#eliminate values higher than 400 in diameter column\n",
    "train_copy = train_copy[train_copy['Diameter'] < 400]"
   ]
  },
  {
   "cell_type": "code",
   "execution_count": null,
   "id": "5c310a94",
   "metadata": {},
   "outputs": [],
   "source": [
    "#plot column Length\n",
    "train_copy['Length'].value_counts()"
   ]
  },
  {
   "cell_type": "code",
   "execution_count": null,
   "id": "f97cad05",
   "metadata": {},
   "outputs": [],
   "source": [
    "#plot histogram of Length column\n",
    "train_copy['Length'].hist()"
   ]
  },
  {
   "cell_type": "markdown",
   "id": "fbd99e3d",
   "metadata": {},
   "source": [
    "# Feature Engineering"
   ]
  },
  {
   "cell_type": "code",
   "execution_count": null,
   "id": "33a450c4",
   "metadata": {},
   "outputs": [],
   "source": [
    "#create a new column that divides the diameter by the pressure and name it Relative Thickness\n",
    "train_copy['Relative_Thickness'] = train_copy['Diameter'] / train_copy['Pressure']"
   ]
  },
  {
   "cell_type": "code",
   "execution_count": null,
   "id": "7fd0d275",
   "metadata": {},
   "outputs": [],
   "source": [
    "#Create a new column that takes the inspecion year and substracts the YearBuilt column naming it Age of Pipe\n",
    "train_copy['Age_of_Pipe_upon_inspection'] = train_copy['InspectionYear'] - train_copy['YearBuilt']\n",
    "train_copy.head(1)"
   ]
  },
  {
   "cell_type": "code",
   "execution_count": null,
   "id": "01e2c5a2",
   "metadata": {},
   "outputs": [],
   "source": [
    "#create a column that multiplies severity by incidence and name it severity_incidence\n",
    "train_copy['Severity_Incidence'] = train_copy['Severity'] * train_copy['Incidence']"
   ]
  },
  {
   "cell_type": "code",
   "execution_count": null,
   "id": "683a1982",
   "metadata": {},
   "outputs": [],
   "source": [
    "#delete column severity\n",
    "train_copy = train_copy.drop(['Severity'], axis=1)\n",
    "train_copy.head(1)\n"
   ]
  },
  {
   "cell_type": "code",
   "execution_count": null,
   "id": "072269fe",
   "metadata": {},
   "outputs": [],
   "source": [
    "train_copy.dtypes"
   ]
  },
  {
   "cell_type": "code",
   "execution_count": null,
   "id": "5ea73ce5",
   "metadata": {},
   "outputs": [],
   "source": [
    "#hot encode severity_incidence column in the train_copy dataframe\n",
    "train_copy = pd.get_dummies(train_copy, columns=['Severity_Incidence'], prefix = ['Severity_Incidence'])\n",
    "train_copy.head(1)"
   ]
  },
  {
   "cell_type": "code",
   "execution_count": null,
   "id": "8aab095c",
   "metadata": {},
   "outputs": [],
   "source": [
    "#change name of Severity_Incidence_0 column to Severity_0\n",
    "train_copy = train_copy.rename(columns={'Severity_Incidence_0': 'Severity_0'})\n",
    "#change name of Severity_Incidence_1 column to Severity_low\n",
    "train_copy = train_copy.rename(columns={'Severity_Incidence_1': 'Severity_low'})\n",
    "#change name of Severity_Incidence_2 column to Severity_medium\n",
    "train_copy = train_copy.rename(columns={'Severity_Incidence_2': 'Severity_medium'})\n",
    "#change name of Severity_Incidence_3 column to Severity_high\n",
    "train_copy = train_copy.rename(columns={'Severity_Incidence_3': 'Severity_high'})\n",
    "train_copy.head(1)\n"
   ]
  },
  {
   "cell_type": "code",
   "execution_count": null,
   "id": "b7181661",
   "metadata": {},
   "outputs": [],
   "source": [
    "train_copy.shape"
   ]
  },
  {
   "cell_type": "code",
   "execution_count": null,
   "id": "6075cad2",
   "metadata": {},
   "outputs": [],
   "source": [
    "#General number of high severity per year\n",
    "train_copy.groupby('InspectionYear')['Severity_high'].value_counts()"
   ]
  },
  {
   "cell_type": "code",
   "execution_count": null,
   "id": "66d18cf5",
   "metadata": {},
   "outputs": [],
   "source": [
    "\n"
   ]
  },
  {
   "cell_type": "code",
   "execution_count": null,
   "id": "a63c61ec",
   "metadata": {},
   "outputs": [],
   "source": [
    "train_copy.dtypes"
   ]
  },
  {
   "cell_type": "markdown",
   "id": "1765b9ba",
   "metadata": {},
   "source": [
    "# Exporting the new dataset for a backup"
   ]
  },
  {
   "cell_type": "code",
   "execution_count": null,
   "id": "518deb74",
   "metadata": {},
   "outputs": [],
   "source": [
    "#point to the folder where the data is stored\n",
    "os.chdir(r\"C:\\Users\\pedro\\datathon\")\n",
    "#export the dataframe to a csv file\n",
    "train_copy.to_csv('train_copy.csv', index=False)"
   ]
  },
  {
   "cell_type": "markdown",
   "id": "4cda55b3",
   "metadata": {},
   "source": [
    "# Plotting EDA for new dataset"
   ]
  },
  {
   "cell_type": "code",
   "execution_count": null,
   "id": "3b77dd44",
   "metadata": {},
   "outputs": [],
   "source": [
    "#pandas profiling on the train_copy dataframe\n",
    "profile = ProfileReport(train_copy, title='Pandas Profiling Report', html={'style':{'full_width':True}})\n",
    "profile"
   ]
  },
  {
   "cell_type": "markdown",
   "id": "974ac8f7",
   "metadata": {},
   "source": [
    "# WOULD BE NICE TO KNOW\n",
    "\n",
    "- what do we do with categoricals\n",
    "    province and town, are they relevant?\n",
    "- how toi interpret the length?\n",
    "- an extra dataset would be great to create more features \n",
    "- should we create polinomial features"
   ]
  },
  {
   "cell_type": "code",
   "execution_count": null,
   "id": "d25c54f1",
   "metadata": {},
   "outputs": [],
   "source": [
    "#create polinomial features \n",
    "from sklearn.preprocessing import PolynomialFeatures\n",
    "poly = PolynomialFeatures(2)\n",
    "poly_data = poly.fit_transform(train_copy[['Relative_Thickness', 'Age_of_Pipe_upon_inspection']])\n",
    "poly_columns = poly.get_feature_names(['Relative_Thickness', 'Age_of_Pipe_upon_inspection'])\n",
    "df_poly = pd.DataFrame(poly_data, columns=poly_columns)\n",
    "df_poly = df_poly.drop(['1'], axis=1)\n",
    "train_copy = pd.concat([train_copy, df_poly], axis=1)\n",
    "train_copy.head(1)"
   ]
  }
 ],
 "metadata": {
  "kernelspec": {
   "display_name": "Python 3",
   "language": "python",
   "name": "python3"
  },
  "language_info": {
   "codemirror_mode": {
    "name": "ipython",
    "version": 3
   },
   "file_extension": ".py",
   "mimetype": "text/x-python",
   "name": "python",
   "nbconvert_exporter": "python",
   "pygments_lexer": "ipython3",
   "version": "3.10.10"
  },
  "vscode": {
   "interpreter": {
    "hash": "326e4f63ad54c217260fc7be1c53acea6ef3ea6cd7ac93b3b02195c6d8fa7cb8"
   }
  }
 },
 "nbformat": 4,
 "nbformat_minor": 5
}
