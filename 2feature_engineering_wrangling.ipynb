{
 "cells": [
  {
   "cell_type": "code",
   "execution_count": 9,
   "id": "3598a19c",
   "metadata": {},
   "outputs": [],
   "source": []
  },
  {
   "attachments": {},
   "cell_type": "markdown",
   "id": "c6ba2d28",
   "metadata": {},
   "source": [
    "# Libraries used\n",
    "PV --> Running 3.10.10\n",
    "Running Kernel3.9.13 base anaconda"
   ]
  },
  {
   "attachments": {},
   "cell_type": "markdown",
   "id": "a47ff5b1",
   "metadata": {},
   "source": [
    "#perform al pip installs in one go comment out if already installed\n",
    "!pip install pandas\n",
    "!pip install numpy\n",
    "!pip install matplotlib\n",
    "!pip install seaborn\n",
    "!pip install sklearn\n",
    "!pip install scipy\n",
    "!pip install statsmodels\n",
    "!pip install plotly\n",
    "!pip install cufflinks\n",
    "!pip install squarify\n",
    "!pip install yellowbrick\n",
    "!pip install lazypredict\n",
    "!pip install pandas_profiling"
   ]
  },
  {
   "cell_type": "code",
   "execution_count": 10,
   "id": "869b5d85",
   "metadata": {},
   "outputs": [],
   "source": [
    "import pandas as pd\n",
    "import numpy as np\n",
    "import seaborn as sns  \n",
    "import matplotlib.pyplot as plt\n",
    "import plotly.io as pio\n",
    "#import squarify #treemap\n",
    "import os\n",
    "import matplotlib\n",
    "import warnings\n",
    "\n",
    "\n",
    "\n",
    "#to enable the inline plotting\n",
    "%matplotlib inline \n",
    "\n",
    "import warnings\n",
    "warnings.filterwarnings('ignore')\n",
    "\n",
    "sns.set_style(\"darkgrid\")"
   ]
  },
  {
   "cell_type": "code",
   "execution_count": 11,
   "id": "f230c51a",
   "metadata": {},
   "outputs": [],
   "source": [
    "from sklearn.linear_model import LogisticRegression\n",
    "\n",
    "from sklearn.model_selection import cross_val_score\n",
    "from sklearn.model_selection import RepeatedStratifiedKFold\n",
    "from sklearn.model_selection import cross_val_score\n",
    "from sklearn.model_selection import train_test_split\n",
    "\n",
    "from sklearn.metrics import accuracy_score, confusion_matrix, classification_report\n",
    "from sklearn.metrics import classification_report\n",
    "\n",
    "from sklearn.naive_bayes import GaussianNB\n",
    "from sklearn.tree import DecisionTreeClassifier\n",
    "from sklearn.neighbors import KNeighborsClassifier\n",
    "\n",
    "from sklearn.ensemble import RandomForestClassifier\n",
    "from sklearn.ensemble import GradientBoostingClassifier\n",
    "\n",
    "from sklearn.preprocessing import StandardScaler\n",
    "from sklearn.preprocessing import PolynomialFeatures\n",
    "\n",
    "\n",
    "from scipy.stats import normaltest\n",
    "\n",
    "from pandas_profiling import ProfileReport\n",
    "\n",
    "from yellowbrick.classifier import ROCAUC\n",
    "from yellowbrick.classifier import ClassPredictionError\n",
    "from yellowbrick.style.palettes import PALETTES, SEQUENCES, color_palette\n",
    "\n",
    "import lazypredict\n",
    "from lazypredict.Supervised import LazyClassifier\n",
    "\n",
    "warnings.simplefilter(action='ignore', category=FutureWarning)"
   ]
  },
  {
   "attachments": {},
   "cell_type": "markdown",
   "id": "19146b48",
   "metadata": {},
   "source": [
    "# Functions\n"
   ]
  },
  {
   "cell_type": "code",
   "execution_count": 12,
   "id": "6a4daab2",
   "metadata": {},
   "outputs": [],
   "source": [
    "# Function for EDA. Using the display() function to have  well-formatted tables. We are mainly using pandas to explore the datasets\n",
    "\n",
    "def dataset_description(df_target):\n",
    "\n",
    "    print('This is the Dataset shape: %s\\n' % (df_target.shape, ))\n",
    "    print('Dataset columns: %s\\n' % df_target.columns)\n",
    "\n",
    "    print('\\nColumns description:\\n')\n",
    "    display(df_target.info())\n",
    "    display(df_target.describe())  # describe the dataset\n",
    "\n",
    "    print('\\nNull values:\\n')\n",
    "    display(df_target.isnull().sum())  # Identify null values\n",
    "\n",
    "#function performing a quick check on df_inspection to have best of pandas functions separated by a line\n",
    "def quick_check(dataframe):\n",
    "    print('First 5 rows %s\\n')\n",
    "    print(dataframe.head(2))\n",
    "    print(\"=====================================\")\n",
    "    print('Dataframe shape %s\\n')\n",
    "    print(dataframe.shape)\n",
    "    print(\"=====================================\")\n",
    "    print('Dataframe describe categorical %s\\n')\n",
    "    print(dataframe.describe(include=['O']))\n",
    "    print(\"=====================================\")\n",
    "    print('Dataframe null values %s\\n')\n",
    "    print(dataframe.isnull().sum())\n",
    "    print(\"=====================================\")\n",
    "    print('Dataframe value counts %s\\n')\n",
    "    print(dataframe.value_counts())\n",
    "    print(\"=====================================\")\n",
    "\n",
    "#stats function\n",
    "def stats(dataframe):\n",
    "    print('Dataframe correlation %s\\n')\n",
    "    print(dataframe.corr())\n",
    "    print(\"=====================================\")\n",
    "    print('Dataframe covariance %s\\n')\n",
    "    print(dataframe.cov())\n",
    "    print(\"=====================================\")\n",
    "    print('Dataframe skew %s\\n')\n",
    "    print(dataframe.skew())\n",
    "    print(\"=====================================\")\n",
    "    print('Dataframe kurtosis %s\\n')\n",
    "    print(dataframe.kurt())\n",
    "    print(\"=====================================\")\n",
    "\n",
    "#create a function to normalize characters from a dataset's column in Spanish\n",
    "def normalize_characters(df, column):\n",
    "    df[column] = df[column].str.normalize('NFKD').str.encode('ascii', errors='ignore').str.decode('utf-8')\n",
    "    df[column] = df[column].str.lower()\n",
    "    df[column] = df[column].str.replace('á', 'a')\n",
    "    df[column] = df[column].str.replace('é', 'e')\n",
    "    df[column] = df[column].str.replace('í', 'i')\n",
    "    df[column] = df[column].str.replace('ó', 'o')\n",
    "    df[column] = df[column].str.replace('ú', 'u')\n",
    "    df[column] = df[column].str.replace('ñ', 'n')\n",
    "    df[column] = df[column].str.replace('ü', 'u')\n",
    "    df[column] = df[column].str.replace('ç', 'c')\n",
    "    df[column] = df[column].str.replace('(', '')\n",
    "    df[column] = df[column].str.replace(')', '')\n",
    "    df[column] = df[column].str.replace('\\'', '')\n",
    "    df[column] = df[column].str.replace('´', '')\n",
    "    df[column] = df[column].str.replace('`', '')\n",
    "    df[column] = df[column].str.replace('’', '')\n",
    "    return df\n",
    "\n",
    "#create function to change detypes in64 to int32 in a df\n",
    "def change_dtypes(df):\n",
    "    for col in df.columns:\n",
    "        if df[col].dtype == 'int64':\n",
    "            df[col] = df[col].astype('int32')\n",
    "        elif df[col].dtype == 'float64':\n",
    "            df[col] = df[col].astype('float32')\n",
    "    return df\n",
    "\n",
    "def outlier_function(df, col_name):\n",
    "    \"\"\" this function detects first and third quartile and interquartile range for a given column of a dataframe\n",
    "    then calculates upper and lower limits to determine outliers conservatively\n",
    "    returns the number of lower and uper limit and number of outliers respectively\"\"\"\n",
    "    first_quartile = np.percentile(np.array(df[col_name].tolist()), 25)\n",
    "    third_quartile = np.percentile(np.array(df[col_name].tolist()), 75)\n",
    "    IQR = third_quartile - first_quartile\n",
    "                        \n",
    "    upper_limit = third_quartile+(3*IQR)\n",
    "    lower_limit = first_quartile-(3*IQR)\n",
    "    outlier_count = 0\n",
    "                    \n",
    "    for value in df[col_name].tolist():\n",
    "        if (value < lower_limit) | (value > upper_limit):\n",
    "            outlier_count +=1\n",
    "        else:\n",
    "            pass\n",
    "    return lower_limit, upper_limit, outlier_count"
   ]
  },
  {
   "cell_type": "code",
   "execution_count": 13,
   "id": "aac38c42",
   "metadata": {},
   "outputs": [],
   "source": [
    "#show all print outputs when using a function\n",
    "from IPython.core.interactiveshell import InteractiveShell\n",
    "InteractiveShell.ast_node_interactivity = \"all\"\n",
    "\n",
    "#display all columns\n",
    "pd.set_option('display.max_columns', None)\n"
   ]
  },
  {
   "cell_type": "markdown",
   "id": "d88a7d05",
   "metadata": {},
   "source": [
    "# 2. Data Collection and Understanding "
   ]
  },
  {
   "cell_type": "markdown",
   "id": "0b331027",
   "metadata": {},
   "source": [
    "## Network file"
   ]
  },
  {
   "cell_type": "markdown",
   "id": "931606e2",
   "metadata": {},
   "source": [
    "The network.csv file contains a static picture of the gas pipeline network. Every row corresponds to a pipe and has a unique PipeId identifier. The table has 1.446.529 pipes. \n",
    "\n",
    "The columns describe relevant features of each pipe. The complete list is: "
   ]
  },
  {
   "cell_type": "markdown",
   "id": "02c2859c",
   "metadata": {},
   "source": [
    "PipeId - unique identifier for the pipe \n",
    "\n",
    "Province - Spanish province where the pipe is located \n",
    "\n",
    "Town - Town or city where the pipe is located \n",
    "\n",
    "YearBuilt - Year in which the pipe was built and installed \n",
    "\n",
    "Material - Material in which the pipe is built \n",
    "\n",
    "GasType - Type of gas that runs through the pipe \n",
    "\n",
    "Diameter - diameter of the pipe \n",
    "\n",
    "Length - Length of the pipe \n",
    "\n",
    "Pressure - Pressure of the gas that runs through the pipe (bar) \n",
    "\n",
    "NumConnections - Number of connections (external). \n",
    "\n",
    "NumConnectionsUnder - Number of connections (internal and buried) \n",
    "\n",
    "BoolBridle  - Whether the pipe is bridled (True) or welded (False) "
   ]
  },
  {
   "cell_type": "markdown",
   "id": "2d409b09",
   "metadata": {},
   "source": [
    "## Inspection file"
   ]
  },
  {
   "cell_type": "markdown",
   "id": "5bc407aa",
   "metadata": {},
   "source": [
    "MaintenanceId - unique identifier for the inspection operation \n",
    "\n",
    "InspectionYear - year in which the inspection took place \n",
    "\n",
    "InspectionDate - date in which the inspection took place \n",
    "\n",
    "MonthsLastRev - number of months elapsed since the last previous inspection. \n",
    "\n",
    "Severity - Severity of the damage found (1: most severe, 3: least severe) \n",
    "\n",
    "Incidence - Boolean whether an incident was found on the revision (1) or not (0). "
   ]
  },
  {
   "attachments": {},
   "cell_type": "markdown",
   "id": "d7ed6752",
   "metadata": {},
   "source": [
    "# Merging datasets"
   ]
  },
  {
   "cell_type": "code",
   "execution_count": 14,
   "id": "57078a12",
   "metadata": {},
   "outputs": [],
   "source": [
    "#point to the folder where the data is stored for Pedro\n",
    "os.chdir(r\"C:\\Users\\pedro\\datathon\")\n",
    "\n",
    "# Loading inspection data\n",
    "df_inspection = pd.read_csv('inspections.csv')\n",
    "\n",
    "# Loading network data\n",
    "df_network = pd.read_csv('network.csv')\n"
   ]
  },
  {
   "cell_type": "code",
   "execution_count": 15,
   "id": "cf3c8dca",
   "metadata": {},
   "outputs": [],
   "source": [
    "#point to the folder where the data is stored for Pedro\n",
    "os.chdir(r\"C:\\Users\\pedro\\datathon\\Datathon-Rules-and-Documentation\") \n",
    "\n",
    "#Loading sample_submission\n",
    "df_sample_submission = pd.read_csv('sample_submission.csv')"
   ]
  },
  {
   "cell_type": "markdown",
   "id": "f53839ee",
   "metadata": {},
   "source": [
    "#point to the folder where the data is stored For Juan\n",
    "os.chdir(r\"C:\\Users\\JuanHorrillo\\OneDrive - IE Students\\Documents\\Masters\\Sustainability\\Notebook\")\n",
    "\n",
    "# Loading inspection data\n",
    "df_inspection = pd.read_csv('inspections.csv')\n",
    "\n",
    "# Loading network data\n",
    "df_network = pd.read_csv('network.csv')"
   ]
  },
  {
   "cell_type": "code",
   "execution_count": 16,
   "id": "09d0ac0a",
   "metadata": {},
   "outputs": [
    {
     "name": "stdout",
     "output_type": "stream",
     "text": [
      "First 5 rows %s\n",
      "\n",
      "      PipeId MaintenanceId  InspectionYear InspectionDate  MonthsLastRev  \\\n",
      "0  189311802  ZRV-00001972            2010     2010-10-01             24   \n",
      "1  188889914  ZRV-00001406            2010     2010-10-01             22   \n",
      "\n",
      "   Severity  Incidence  \n",
      "0         4          0  \n",
      "1         4          0  \n",
      "=====================================\n",
      "Dataframe shape %s\n",
      "\n",
      "(6345344, 7)\n",
      "=====================================\n",
      "Dataframe describe categorical %s\n",
      "\n",
      "       MaintenanceId InspectionDate\n",
      "count        6345344        6345344\n",
      "unique          4179           3565\n",
      "top     ZRV-00002121     2014-05-05\n",
      "freq           21773           5832\n",
      "=====================================\n",
      "Dataframe null values %s\n",
      "\n",
      "PipeId            0\n",
      "MaintenanceId     0\n",
      "InspectionYear    0\n",
      "InspectionDate    0\n",
      "MonthsLastRev     0\n",
      "Severity          0\n",
      "Incidence         0\n",
      "dtype: int64\n",
      "=====================================\n",
      "Dataframe value counts %s\n",
      "\n",
      "PipeId     MaintenanceId  InspectionYear  InspectionDate  MonthsLastRev  Severity  Incidence\n",
      "489616     ZRV-00003385   2013            2013-05-08      16             4         0            1\n",
      "256852211  ZRV-00002129   2016            2016-10-10      24             4         0            1\n",
      "256831542  ZRV-00004585   2018            2018-07-23      24             4         0            1\n",
      "                          2016            2016-07-14      24             4         0            1\n",
      "                          2014            2014-07-10      24             4         0            1\n",
      "                                                                                               ..\n",
      "188595687  ZRV-00003626   2018            2018-02-15      24             4         0            1\n",
      "                          2016            2016-02-17      24             4         0            1\n",
      "                          2014            2014-02-12      24             4         0            1\n",
      "                          2012            2012-02-20      24             4         0            1\n",
      "451995309  ZRV-00001573   2019            2019-10-26      24             4         0            1\n",
      "Length: 6345344, dtype: int64\n",
      "=====================================\n"
     ]
    }
   ],
   "source": [
    "quick_check(df_inspection)\n"
   ]
  },
  {
   "attachments": {},
   "cell_type": "markdown",
   "id": "942a7459",
   "metadata": {},
   "source": [
    "The function shows we have 6345344 rows for the inspections, among each 4179 appear to be unique and the most repeated one is ZRV-00002121 on 2014-05-05\n"
   ]
  },
  {
   "cell_type": "code",
   "execution_count": 17,
   "id": "464a7b5e",
   "metadata": {},
   "outputs": [
    {
     "data": {
      "text/html": [
       "<div>\n",
       "<style scoped>\n",
       "    .dataframe tbody tr th:only-of-type {\n",
       "        vertical-align: middle;\n",
       "    }\n",
       "\n",
       "    .dataframe tbody tr th {\n",
       "        vertical-align: top;\n",
       "    }\n",
       "\n",
       "    .dataframe thead th {\n",
       "        text-align: right;\n",
       "    }\n",
       "</style>\n",
       "<table border=\"1\" class=\"dataframe\">\n",
       "  <thead>\n",
       "    <tr style=\"text-align: right;\">\n",
       "      <th></th>\n",
       "      <th>PipeId</th>\n",
       "      <th>MaintenanceId</th>\n",
       "      <th>InspectionYear</th>\n",
       "      <th>InspectionDate</th>\n",
       "      <th>MonthsLastRev</th>\n",
       "      <th>Severity</th>\n",
       "      <th>Incidence</th>\n",
       "    </tr>\n",
       "  </thead>\n",
       "  <tbody>\n",
       "    <tr>\n",
       "      <th>622563</th>\n",
       "      <td>188821075</td>\n",
       "      <td>ZRV-00002121</td>\n",
       "      <td>2012</td>\n",
       "      <td>2011-12-28</td>\n",
       "      <td>24</td>\n",
       "      <td>4</td>\n",
       "      <td>0</td>\n",
       "    </tr>\n",
       "    <tr>\n",
       "      <th>622571</th>\n",
       "      <td>191340447</td>\n",
       "      <td>ZRV-00002121</td>\n",
       "      <td>2012</td>\n",
       "      <td>2011-12-28</td>\n",
       "      <td>24</td>\n",
       "      <td>4</td>\n",
       "      <td>0</td>\n",
       "    </tr>\n",
       "    <tr>\n",
       "      <th>622572</th>\n",
       "      <td>191340427</td>\n",
       "      <td>ZRV-00002121</td>\n",
       "      <td>2012</td>\n",
       "      <td>2011-12-28</td>\n",
       "      <td>24</td>\n",
       "      <td>4</td>\n",
       "      <td>0</td>\n",
       "    </tr>\n",
       "    <tr>\n",
       "      <th>622574</th>\n",
       "      <td>191340421</td>\n",
       "      <td>ZRV-00002121</td>\n",
       "      <td>2012</td>\n",
       "      <td>2011-12-28</td>\n",
       "      <td>24</td>\n",
       "      <td>4</td>\n",
       "      <td>0</td>\n",
       "    </tr>\n",
       "    <tr>\n",
       "      <th>622575</th>\n",
       "      <td>188802580</td>\n",
       "      <td>ZRV-00002121</td>\n",
       "      <td>2012</td>\n",
       "      <td>2011-12-28</td>\n",
       "      <td>24</td>\n",
       "      <td>4</td>\n",
       "      <td>0</td>\n",
       "    </tr>\n",
       "    <tr>\n",
       "      <th>...</th>\n",
       "      <td>...</td>\n",
       "      <td>...</td>\n",
       "      <td>...</td>\n",
       "      <td>...</td>\n",
       "      <td>...</td>\n",
       "      <td>...</td>\n",
       "      <td>...</td>\n",
       "    </tr>\n",
       "    <tr>\n",
       "      <th>5737006</th>\n",
       "      <td>450197378</td>\n",
       "      <td>ZRV-00002121</td>\n",
       "      <td>2020</td>\n",
       "      <td>2020-01-29</td>\n",
       "      <td>24</td>\n",
       "      <td>4</td>\n",
       "      <td>0</td>\n",
       "    </tr>\n",
       "    <tr>\n",
       "      <th>5737013</th>\n",
       "      <td>358229516</td>\n",
       "      <td>ZRV-00002121</td>\n",
       "      <td>2020</td>\n",
       "      <td>2020-01-29</td>\n",
       "      <td>24</td>\n",
       "      <td>4</td>\n",
       "      <td>0</td>\n",
       "    </tr>\n",
       "    <tr>\n",
       "      <th>5737179</th>\n",
       "      <td>351671916</td>\n",
       "      <td>ZRV-00002121</td>\n",
       "      <td>2020</td>\n",
       "      <td>2020-01-29</td>\n",
       "      <td>24</td>\n",
       "      <td>4</td>\n",
       "      <td>0</td>\n",
       "    </tr>\n",
       "    <tr>\n",
       "      <th>5737289</th>\n",
       "      <td>351671518</td>\n",
       "      <td>ZRV-00002121</td>\n",
       "      <td>2020</td>\n",
       "      <td>2020-01-29</td>\n",
       "      <td>24</td>\n",
       "      <td>4</td>\n",
       "      <td>0</td>\n",
       "    </tr>\n",
       "    <tr>\n",
       "      <th>5737290</th>\n",
       "      <td>191365725</td>\n",
       "      <td>ZRV-00002121</td>\n",
       "      <td>2020</td>\n",
       "      <td>2020-01-29</td>\n",
       "      <td>24</td>\n",
       "      <td>4</td>\n",
       "      <td>0</td>\n",
       "    </tr>\n",
       "  </tbody>\n",
       "</table>\n",
       "<p>21773 rows × 7 columns</p>\n",
       "</div>"
      ],
      "text/plain": [
       "            PipeId MaintenanceId  InspectionYear InspectionDate  \\\n",
       "622563   188821075  ZRV-00002121            2012     2011-12-28   \n",
       "622571   191340447  ZRV-00002121            2012     2011-12-28   \n",
       "622572   191340427  ZRV-00002121            2012     2011-12-28   \n",
       "622574   191340421  ZRV-00002121            2012     2011-12-28   \n",
       "622575   188802580  ZRV-00002121            2012     2011-12-28   \n",
       "...            ...           ...             ...            ...   \n",
       "5737006  450197378  ZRV-00002121            2020     2020-01-29   \n",
       "5737013  358229516  ZRV-00002121            2020     2020-01-29   \n",
       "5737179  351671916  ZRV-00002121            2020     2020-01-29   \n",
       "5737289  351671518  ZRV-00002121            2020     2020-01-29   \n",
       "5737290  191365725  ZRV-00002121            2020     2020-01-29   \n",
       "\n",
       "         MonthsLastRev  Severity  Incidence  \n",
       "622563              24         4          0  \n",
       "622571              24         4          0  \n",
       "622572              24         4          0  \n",
       "622574              24         4          0  \n",
       "622575              24         4          0  \n",
       "...                ...       ...        ...  \n",
       "5737006             24         4          0  \n",
       "5737013             24         4          0  \n",
       "5737179             24         4          0  \n",
       "5737289             24         4          0  \n",
       "5737290             24         4          0  \n",
       "\n",
       "[21773 rows x 7 columns]"
      ]
     },
     "execution_count": 17,
     "metadata": {},
     "output_type": "execute_result"
    }
   ],
   "source": [
    "#searching for MaintenanceId ZRV-00002121 in df_inspection\n",
    "df_inspection[df_inspection['MaintenanceId'] == 'ZRV-00002121']"
   ]
  },
  {
   "cell_type": "code",
   "execution_count": 18,
   "id": "7eaf2859",
   "metadata": {},
   "outputs": [
    {
     "data": {
      "text/plain": [
       "(21773, 7)"
      ]
     },
     "execution_count": 18,
     "metadata": {},
     "output_type": "execute_result"
    }
   ],
   "source": [
    "df_inspection[df_inspection['MaintenanceId'] == 'ZRV-00002121'].shape"
   ]
  },
  {
   "cell_type": "code",
   "execution_count": 19,
   "id": "8e03011f",
   "metadata": {},
   "outputs": [
    {
     "data": {
      "text/plain": [
       "<AxesSubplot: xlabel='InspectionYear'>"
      ]
     },
     "execution_count": 19,
     "metadata": {},
     "output_type": "execute_result"
    },
    {
     "data": {
      "image/png": "[encoded data removed]",
      "text/plain": [
       "<Figure size 800x550 with 1 Axes>"
      ]
     },
     "metadata": {},
     "output_type": "display_data"
    }
   ],
   "source": [
    "#plotting the distribution of MaintenanceId accross the years for ZRV-00002121 in df_inspection\n",
    "df_inspection[df_inspection['MaintenanceId'] == 'ZRV-00002121'].groupby('InspectionYear')['MaintenanceId'].count().plot(kind='bar')"
   ]
  },
  {
   "cell_type": "code",
   "execution_count": 20,
   "id": "3b3ea9a3",
   "metadata": {},
   "outputs": [
    {
     "data": {
      "text/plain": [
       "<AxesSubplot: xlabel='InspectionYear'>"
      ]
     },
     "execution_count": 20,
     "metadata": {},
     "output_type": "execute_result"
    },
    {
     "data": {
      "image/png": "[encoded data removed]",
      "text/plain": [
       "<Figure size 800x550 with 1 Axes>"
      ]
     },
     "metadata": {},
     "output_type": "display_data"
    }
   ],
   "source": [
    "#plotting the distribution of MaintenanceId accross the years\n",
    "df_inspection.groupby('InspectionYear')['MaintenanceId'].count().plot(kind='bar')"
   ]
  },
  {
   "attachments": {},
   "cell_type": "markdown",
   "id": "ef7fc912",
   "metadata": {},
   "source": [
    "Seems like not so many inspections were carried in 2010, we shall decide on whether to keep this dimension or not"
   ]
  },
  {
   "cell_type": "code",
   "execution_count": 21,
   "id": "cd3176eb",
   "metadata": {},
   "outputs": [
    {
     "name": "stdout",
     "output_type": "stream",
     "text": [
      "Dataframe correlation %s\n",
      "\n",
      "                PipeId  InspectionYear  MonthsLastRev  Severity  Incidence\n",
      "PipeId            1.00           -0.12           0.05      0.02      -0.02\n",
      "InspectionYear   -0.12            1.00           0.12      0.00      -0.00\n",
      "MonthsLastRev     0.05            0.12           1.00      0.01      -0.01\n",
      "Severity          0.02            0.00           0.01      1.00      -0.90\n",
      "Incidence        -0.02           -0.00          -0.01     -0.90       1.00\n",
      "=====================================\n",
      "Dataframe covariance %s\n",
      "\n",
      "                             PipeId  InspectionYear  MonthsLastRev  Severity  \\\n",
      "PipeId         12943583115885676.00    -40999914.58    27545538.86 129283.54   \n",
      "InspectionYear         -40999914.58            8.46           1.70      0.00   \n",
      "MonthsLastRev           27545538.86            1.70          24.62      0.00   \n",
      "Severity                  129283.54            0.00           0.00      0.00   \n",
      "Incidence                -107454.24           -0.00          -0.00     -0.00   \n",
      "\n",
      "                Incidence  \n",
      "PipeId         -107454.24  \n",
      "InspectionYear      -0.00  \n",
      "MonthsLastRev       -0.00  \n",
      "Severity            -0.00  \n",
      "Incidence            0.00  \n",
      "=====================================\n",
      "Dataframe skew %s\n",
      "\n",
      "PipeId            -0.07\n",
      "InspectionYear    -0.10\n",
      "MonthsLastRev      3.68\n",
      "Severity         -31.01\n",
      "Incidence         22.62\n",
      "dtype: float64\n",
      "=====================================\n",
      "Dataframe kurtosis %s\n",
      "\n",
      "PipeId             -0.72\n",
      "InspectionYear     -1.18\n",
      "MonthsLastRev      41.37\n",
      "Severity         1131.62\n",
      "Incidence         509.71\n",
      "dtype: float64\n",
      "=====================================\n"
     ]
    }
   ],
   "source": [
    "stats(df_inspection)"
   ]
  },
  {
   "attachments": {},
   "cell_type": "markdown",
   "id": "abd572cb",
   "metadata": {},
   "source": [
    " A positive kurtosis in a dataset implies that the data is more heavily concentrated around the mean than a normal distribution. This means that there are more outliers in the dataset and that the tails of the distribution are longer and fatter than a normal distribution. Months last revision is to be examined on this basis"
   ]
  },
  {
   "cell_type": "code",
   "execution_count": 22,
   "id": "33f2730b",
   "metadata": {},
   "outputs": [
    {
     "data": {
      "text/plain": [
       "<AxesSubplot: >"
      ]
     },
     "execution_count": 22,
     "metadata": {},
     "output_type": "execute_result"
    },
    {
     "data": {
      "image/png": "[encoded data removed]",
      "text/plain": [
       "<Figure size 800x550 with 1 Axes>"
      ]
     },
     "metadata": {},
     "output_type": "display_data"
    }
   ],
   "source": [
    "#plot histogram with many bins of MonthsLastRev in  df_inspection\n",
    "df_inspection['MonthsLastRev'].hist(bins=100)"
   ]
  },
  {
   "attachments": {},
   "cell_type": "markdown",
   "id": "b4a3aca2",
   "metadata": {},
   "source": [
    "The shape of the histogram reveals the most frequent inspections take place every 2 years or 24 months with some outliers hence affecting the normal distribution"
   ]
  },
  {
   "cell_type": "code",
   "execution_count": 23,
   "id": "01f603d3",
   "metadata": {},
   "outputs": [
    {
     "data": {
      "text/plain": [
       "<AxesSubplot: xlabel='PipeId', ylabel='MonthsLastRev'>"
      ]
     },
     "execution_count": 23,
     "metadata": {},
     "output_type": "execute_result"
    },
    {
     "data": {
      "image/png": "[encoded data removed]",
      "text/plain": [
       "<Figure size 800x550 with 1 Axes>"
      ]
     },
     "metadata": {},
     "output_type": "display_data"
    }
   ],
   "source": [
    "#plot violin plot of PipeId with Severity=1 in df_inspection\n",
    "sns.violinplot(x='PipeId', y='MonthsLastRev', data=df_inspection[df_inspection['Severity'] == 1])"
   ]
  },
  {
   "attachments": {},
   "cell_type": "markdown",
   "id": "09db2f99",
   "metadata": {},
   "source": [
    "#to work out better in final EDA"
   ]
  },
  {
   "cell_type": "code",
   "execution_count": 24,
   "id": "0b086ba4",
   "metadata": {},
   "outputs": [
    {
     "name": "stdout",
     "output_type": "stream",
     "text": [
      "First 5 rows %s\n",
      "\n",
      "   PipeId     Province                   Town  YearBuilt Material  \\\n",
      "0  489616  Ciudad Real  Torralba de Calatrava       2012       PE   \n",
      "1  489645  Ciudad Real  Torralba de Calatrava       2012       PE   \n",
      "\n",
      "       GasType  Diameter  Length  Pressure  NumConnections  \\\n",
      "0  Gas natural     63.00    7.79      0.40               0   \n",
      "1  Gas natural     90.00    2.08      0.40               0   \n",
      "\n",
      "   NumConnectionsUnder  BoolBridle  \n",
      "0                    0       False  \n",
      "1                    0       False  \n",
      "=====================================\n",
      "Dataframe shape %s\n",
      "\n",
      "(1446539, 12)\n",
      "=====================================\n",
      "Dataframe describe categorical %s\n",
      "\n",
      "         Province     Town Material      GasType\n",
      "count     1446539  1446539  1446539      1446539\n",
      "unique         38     1972       11            2\n",
      "top     Barcelona   Madrid       PE  Gas natural\n",
      "freq       389307    76666  1242845      1388397\n",
      "=====================================\n",
      "Dataframe null values %s\n",
      "\n",
      "PipeId                 0\n",
      "Province               0\n",
      "Town                   0\n",
      "YearBuilt              0\n",
      "Material               0\n",
      "GasType                0\n",
      "Diameter               0\n",
      "Length                 0\n",
      "Pressure               0\n",
      "NumConnections         0\n",
      "NumConnectionsUnder    0\n",
      "BoolBridle             0\n",
      "dtype: int64\n",
      "=====================================\n",
      "Dataframe value counts %s\n",
      "\n",
      "PipeId     Province     Town                   YearBuilt  Material  GasType      Diameter  Length  Pressure  NumConnections  NumConnectionsUnder  BoolBridle\n",
      "489616     Ciudad Real  Torralba de Calatrava  2012       PE        Gas natural  63.00     7.79    0.40      0               0                    False         1\n",
      "229894572  León         Valencia de Don Juan   2004       PE        Gas natural  110.00    10.63   0.15      0               0                    False         1\n",
      "229912516  León         Ponferrada             2004       PE        Gas natural  63.00     8.52    4.00      0               0                    False         1\n",
      "229912137  León         Ponferrada             2004       PE        Gas natural  63.00     8.01    4.00      0               0                    False         1\n",
      "229912078  León         Ponferrada             2004       PE        Gas natural  63.00     2.02    4.00      0               0                    False         1\n",
      "                                                                                                                                                               ..\n",
      "133749590  Lugo         Lugo                   2003       PE        Gas natural  110.00    0.87    0.15      0               0                    False         1\n",
      "133749584  Lugo         Lugo                   2003       PE        Gas natural  110.00    5.71    0.15      0               0                    False         1\n",
      "133749577  Lugo         Lugo                   2003       PE        Gas natural  110.00    93.39   0.15      2               0                    False         1\n",
      "133749571  Lugo         Lugo                   2003       PE        Gas natural  160.00    6.57    0.15      0               0                    False         1\n",
      "451995309  Lleida       Almacelles             1998       PE        Gas natural  200.00    92.22   0.15      0               0                    False         1\n",
      "Length: 1446539, dtype: int64\n",
      "=====================================\n"
     ]
    }
   ],
   "source": [
    "quick_check(df_network)"
   ]
  },
  {
   "attachments": {},
   "cell_type": "markdown",
   "id": "cb9707f2",
   "metadata": {},
   "source": [
    "In the network file we find 1446539 rows corresponding to all pipes, this is the master file for pipes.\n",
    "We find the most frequent Town is Madrid but the most frequent province is Barcelona. \n",
    "There are a total of 1972 Spanish towns in this dataset and 38 provinces\n",
    "We are missing the Basque Country, Ceuta, Melilla, the Canary Islands and Balearic Islands.\n",
    "\n"
   ]
  },
  {
   "cell_type": "code",
   "execution_count": 25,
   "id": "6f1086cd",
   "metadata": {},
   "outputs": [
    {
     "data": {
      "text/plain": [
       "<AxesSubplot: xlabel='Town'>"
      ]
     },
     "execution_count": 25,
     "metadata": {},
     "output_type": "execute_result"
    },
    {
     "data": {
      "image/png": "[encoded data removed]",
      "text/plain": [
       "<Figure size 800x550 with 1 Axes>"
      ]
     },
     "metadata": {},
     "output_type": "display_data"
    }
   ],
   "source": [
    "#plot a bar plot with the number of pipes per Town focusing in Madrid and Barcelona  in df_network\n",
    "df_network.groupby('Town')['PipeId'].count().sort_values(ascending=False).head(10).plot(kind='bar')"
   ]
  },
  {
   "cell_type": "code",
   "execution_count": 26,
   "id": "68359ea8",
   "metadata": {},
   "outputs": [
    {
     "data": {
      "text/plain": [
       "<AxesSubplot: ylabel='PipeId'>"
      ]
     },
     "execution_count": 26,
     "metadata": {},
     "output_type": "execute_result"
    },
    {
     "data": {
      "image/png": "[encoded data removed]",
      "text/plain": [
       "<Figure size 800x550 with 1 Axes>"
      ]
     },
     "metadata": {},
     "output_type": "display_data"
    }
   ],
   "source": [
    "#plot a pie chart with the number of pipes per Province in df_network \n",
    "df_network.groupby('Province')['PipeId'].count().sort_values(ascending=False).plot(kind='pie')\n"
   ]
  },
  {
   "cell_type": "code",
   "execution_count": 27,
   "id": "574aa92f",
   "metadata": {},
   "outputs": [
    {
     "name": "stdout",
     "output_type": "stream",
     "text": [
      "Dataframe correlation %s\n",
      "\n",
      "                     PipeId  YearBuilt  Diameter  Length  Pressure  \\\n",
      "PipeId                 1.00      -0.05      0.13   -0.01      0.04   \n",
      "YearBuilt             -0.05       1.00     -0.16    0.03      0.05   \n",
      "Diameter               0.13      -0.16      1.00    0.07      0.19   \n",
      "Length                -0.01       0.03      0.07    1.00      0.11   \n",
      "Pressure               0.04       0.05      0.19    0.11      1.00   \n",
      "NumConnections        -0.05      -0.03     -0.11    0.31     -0.10   \n",
      "NumConnectionsUnder   -0.01       0.01     -0.01    0.02     -0.00   \n",
      "BoolBridle            -0.09      -0.18      0.09   -0.02     -0.07   \n",
      "\n",
      "                     NumConnections  NumConnectionsUnder  BoolBridle  \n",
      "PipeId                        -0.05                -0.01       -0.09  \n",
      "YearBuilt                     -0.03                 0.01       -0.18  \n",
      "Diameter                      -0.11                -0.01        0.09  \n",
      "Length                         0.31                 0.02       -0.02  \n",
      "Pressure                      -0.10                -0.00       -0.07  \n",
      "NumConnections                 1.00                 0.02       -0.01  \n",
      "NumConnectionsUnder            0.02                 1.00        0.01  \n",
      "BoolBridle                    -0.01                 0.01        1.00  \n",
      "=====================================\n",
      "Dataframe covariance %s\n",
      "\n",
      "                                  PipeId    YearBuilt     Diameter  \\\n",
      "PipeId              14530921150027344.00 -77216786.03 934255446.23   \n",
      "YearBuilt                   -77216786.03       146.73      -108.96   \n",
      "Diameter                    934255446.23      -108.96      3349.02   \n",
      "Length                     -123925700.01        27.34       336.20   \n",
      "Pressure                     37295946.35         3.98        77.34   \n",
      "NumConnections              -11730124.19        -0.75       -14.10   \n",
      "NumConnectionsUnder            -27840.50         0.00        -0.01   \n",
      "BoolBridle                   -2791441.94        -0.54         1.31   \n",
      "\n",
      "                           Length    Pressure  NumConnections  \\\n",
      "PipeId              -123925700.01 37295946.35    -11730124.19   \n",
      "YearBuilt                   27.34        3.98           -0.75   \n",
      "Diameter                   336.20       77.34          -14.10   \n",
      "Length                    6170.72       57.18           52.28   \n",
      "Pressure                    57.18       47.42           -1.53   \n",
      "NumConnections              52.28       -1.53            4.67   \n",
      "NumConnectionsUnder          0.03       -0.00            0.00   \n",
      "BoolBridle                  -0.44       -0.12           -0.00   \n",
      "\n",
      "                     NumConnectionsUnder  BoolBridle  \n",
      "PipeId                         -27840.50 -2791441.94  \n",
      "YearBuilt                           0.00       -0.54  \n",
      "Diameter                           -0.01        1.31  \n",
      "Length                              0.03       -0.44  \n",
      "Pressure                           -0.00       -0.12  \n",
      "NumConnections                      0.00       -0.00  \n",
      "NumConnectionsUnder                 0.00        0.00  \n",
      "BoolBridle                          0.00        0.06  \n",
      "=====================================\n",
      "Dataframe skew %s\n",
      "\n",
      "PipeId                 0.10\n",
      "YearBuilt             -3.38\n",
      "Diameter               1.51\n",
      "Length                59.72\n",
      "Pressure               5.68\n",
      "NumConnections         5.52\n",
      "NumConnectionsUnder   67.03\n",
      "BoolBridle             3.39\n",
      "dtype: float64\n",
      "=====================================\n",
      "Dataframe kurtosis %s\n",
      "\n",
      "PipeId                   -0.95\n",
      "YearBuilt                22.11\n",
      "Diameter                  4.41\n",
      "Length                17001.24\n",
      "Pressure                 42.02\n",
      "NumConnections           56.93\n",
      "NumConnectionsUnder    5688.23\n",
      "BoolBridle                9.52\n",
      "dtype: float64\n",
      "=====================================\n"
     ]
    }
   ],
   "source": [
    "stats(df_network)"
   ]
  },
  {
   "cell_type": "code",
   "execution_count": 28,
   "id": "5d538de3",
   "metadata": {},
   "outputs": [],
   "source": [
    "#join Inspection and network datasets on PipeId to create our TRAIN dataset\n",
    "train = pd.merge(df_inspection, df_network, on='PipeId', how='right')"
   ]
  },
  {
   "cell_type": "code",
   "execution_count": 29,
   "id": "1c3126f8",
   "metadata": {},
   "outputs": [
    {
     "data": {
      "text/plain": [
       "(6364029, 18)"
      ]
     },
     "execution_count": 29,
     "metadata": {},
     "output_type": "execute_result"
    }
   ],
   "source": [
    "train.shape"
   ]
  },
  {
   "cell_type": "code",
   "execution_count": 30,
   "id": "67c34bf4",
   "metadata": {},
   "outputs": [
    {
     "data": {
      "text/plain": [
       "(6345344, 7)"
      ]
     },
     "execution_count": 30,
     "metadata": {},
     "output_type": "execute_result"
    }
   ],
   "source": [
    "df_inspection.shape"
   ]
  },
  {
   "attachments": {},
   "cell_type": "markdown",
   "id": "abaa644f",
   "metadata": {},
   "source": [
    "JF: There are 18K null values that do not have information in the df_network so our TRAIN data set is now bigger and we will need to deal with the nulls further down."
   ]
  },
  {
   "cell_type": "code",
   "execution_count": 31,
   "id": "d1d89960",
   "metadata": {},
   "outputs": [
    {
     "data": {
      "text/plain": [
       "PipeId                     0\n",
       "MaintenanceId          18685\n",
       "InspectionYear         18685\n",
       "InspectionDate         18685\n",
       "MonthsLastRev          18685\n",
       "Severity               18685\n",
       "Incidence              18685\n",
       "Province                   0\n",
       "Town                       0\n",
       "YearBuilt                  0\n",
       "Material                   0\n",
       "GasType                    0\n",
       "Diameter                   0\n",
       "Length                     0\n",
       "Pressure                   0\n",
       "NumConnections             0\n",
       "NumConnectionsUnder        0\n",
       "BoolBridle                 0\n",
       "dtype: int64"
      ]
     },
     "execution_count": 31,
     "metadata": {},
     "output_type": "execute_result"
    }
   ],
   "source": [
    "#count null values in train dataset\n",
    "train.isnull().sum()\n"
   ]
  },
  {
   "cell_type": "code",
   "execution_count": 32,
   "id": "9c8bcc55",
   "metadata": {},
   "outputs": [],
   "source": [
    "#point to the folder where the data is stored for Pedro\n",
    "os.chdir(r\"C:\\Users\\pedro\\datathon\\Datathon-Rules-and-Documentation\")\n",
    "\n",
    "# Loading inspection data\n",
    "df_sample = pd.read_csv('sample_submission.csv')"
   ]
  },
  {
   "cell_type": "code",
   "execution_count": 33,
   "id": "0af43c88",
   "metadata": {},
   "outputs": [],
   "source": [
    "#point to the folder where the data is stored for Juan\n",
    "#os.chdir(r\"C:\\Users\\JuanHorrillo\\OneDrive - IE Students\\Documents\\Masters\\Sustainability\\Notebook\")\n",
    "\n",
    "# Loading inspection data\n",
    "#df_sample = pd.read_csv('sample_submission.csv')"
   ]
  },
  {
   "cell_type": "code",
   "execution_count": 34,
   "id": "c8b001d9",
   "metadata": {},
   "outputs": [
    {
     "data": {
      "text/plain": [
       "(909733, 2)"
      ]
     },
     "execution_count": 34,
     "metadata": {},
     "output_type": "execute_result"
    }
   ],
   "source": [
    "df_sample.shape"
   ]
  },
  {
   "cell_type": "code",
   "execution_count": 35,
   "id": "54fe4d65",
   "metadata": {},
   "outputs": [
    {
     "data": {
      "text/html": [
       "<div>\n",
       "<style scoped>\n",
       "    .dataframe tbody tr th:only-of-type {\n",
       "        vertical-align: middle;\n",
       "    }\n",
       "\n",
       "    .dataframe tbody tr th {\n",
       "        vertical-align: top;\n",
       "    }\n",
       "\n",
       "    .dataframe thead th {\n",
       "        text-align: right;\n",
       "    }\n",
       "</style>\n",
       "<table border=\"1\" class=\"dataframe\">\n",
       "  <thead>\n",
       "    <tr style=\"text-align: right;\">\n",
       "      <th></th>\n",
       "      <th>PipeId</th>\n",
       "      <th>Incidence</th>\n",
       "    </tr>\n",
       "  </thead>\n",
       "  <tbody>\n",
       "    <tr>\n",
       "      <th>0</th>\n",
       "      <td>446859944</td>\n",
       "      <td>0</td>\n",
       "    </tr>\n",
       "    <tr>\n",
       "      <th>1</th>\n",
       "      <td>428124500</td>\n",
       "      <td>0</td>\n",
       "    </tr>\n",
       "    <tr>\n",
       "      <th>2</th>\n",
       "      <td>438428871</td>\n",
       "      <td>0</td>\n",
       "    </tr>\n",
       "    <tr>\n",
       "      <th>3</th>\n",
       "      <td>429034569</td>\n",
       "      <td>0</td>\n",
       "    </tr>\n",
       "    <tr>\n",
       "      <th>4</th>\n",
       "      <td>411184477</td>\n",
       "      <td>0</td>\n",
       "    </tr>\n",
       "  </tbody>\n",
       "</table>\n",
       "</div>"
      ],
      "text/plain": [
       "      PipeId  Incidence\n",
       "0  446859944          0\n",
       "1  428124500          0\n",
       "2  438428871          0\n",
       "3  429034569          0\n",
       "4  411184477          0"
      ]
     },
     "execution_count": 35,
     "metadata": {},
     "output_type": "execute_result"
    }
   ],
   "source": [
    "df_sample.head()"
   ]
  },
  {
   "cell_type": "code",
   "execution_count": 36,
   "id": "fecdc058",
   "metadata": {},
   "outputs": [
    {
     "data": {
      "text/plain": [
       "0    907964\n",
       "1      1769\n",
       "Name: Incidence, dtype: int64"
      ]
     },
     "execution_count": 36,
     "metadata": {},
     "output_type": "execute_result"
    }
   ],
   "source": [
    "#count the Incidence values in test dataset\n",
    "df_sample['Incidence'].value_counts()\n",
    "\n"
   ]
  },
  {
   "attachments": {},
   "cell_type": "markdown",
   "id": "4966fd39",
   "metadata": {},
   "source": [
    "Test data set is also unbalanced "
   ]
  },
  {
   "attachments": {},
   "cell_type": "markdown",
   "id": "28b2abff",
   "metadata": {},
   "source": [
    "Creating the TEST df which will be used to test our model.  Thisis made of the sample submission with the columns from the network"
   ]
  },
  {
   "cell_type": "code",
   "execution_count": 37,
   "id": "9a34384f",
   "metadata": {},
   "outputs": [
    {
     "data": {
      "text/plain": [
       "True"
      ]
     },
     "execution_count": 37,
     "metadata": {},
     "output_type": "execute_result"
    }
   ],
   "source": [
    "#create a dataframe with the unique PipeId from df_sample and a dataframe with the PipeId from df_network \n",
    "sample_unique = df_sample['PipeId'].unique()\n",
    "network_unique = df_network['PipeId'].unique()\n",
    "#check if all the values in sample_unique are in network_unique\n",
    "np.all(np.isin(sample_unique, network_unique))"
   ]
  },
  {
   "cell_type": "markdown",
   "id": "ae915d97",
   "metadata": {},
   "source": [
    "JF: All the PipeId on the df_sample have a PipeId on the network"
   ]
  },
  {
   "cell_type": "markdown",
   "id": "0b328379",
   "metadata": {},
   "source": []
  },
  {
   "cell_type": "code",
   "execution_count": 38,
   "id": "ee6a1089",
   "metadata": {},
   "outputs": [],
   "source": [
    "#join both datasets on PipeId\n",
    "test = pd.merge(df_network , df_sample, on='PipeId', how='right')"
   ]
  },
  {
   "cell_type": "code",
   "execution_count": 39,
   "id": "bf550849",
   "metadata": {},
   "outputs": [
    {
     "data": {
      "text/plain": [
       "(909733, 13)"
      ]
     },
     "execution_count": 39,
     "metadata": {},
     "output_type": "execute_result"
    }
   ],
   "source": [
    "test.shape"
   ]
  },
  {
   "cell_type": "code",
   "execution_count": 40,
   "id": "c1f803e7",
   "metadata": {},
   "outputs": [
    {
     "data": {
      "text/html": [
       "<div>\n",
       "<style scoped>\n",
       "    .dataframe tbody tr th:only-of-type {\n",
       "        vertical-align: middle;\n",
       "    }\n",
       "\n",
       "    .dataframe tbody tr th {\n",
       "        vertical-align: top;\n",
       "    }\n",
       "\n",
       "    .dataframe thead th {\n",
       "        text-align: right;\n",
       "    }\n",
       "</style>\n",
       "<table border=\"1\" class=\"dataframe\">\n",
       "  <thead>\n",
       "    <tr style=\"text-align: right;\">\n",
       "      <th></th>\n",
       "      <th>PipeId</th>\n",
       "      <th>Province</th>\n",
       "      <th>Town</th>\n",
       "      <th>YearBuilt</th>\n",
       "      <th>Material</th>\n",
       "      <th>GasType</th>\n",
       "      <th>Diameter</th>\n",
       "      <th>Length</th>\n",
       "      <th>Pressure</th>\n",
       "      <th>NumConnections</th>\n",
       "      <th>NumConnectionsUnder</th>\n",
       "      <th>BoolBridle</th>\n",
       "      <th>Incidence</th>\n",
       "    </tr>\n",
       "  </thead>\n",
       "  <tbody>\n",
       "    <tr>\n",
       "      <th>0</th>\n",
       "      <td>446859944</td>\n",
       "      <td>Valencia</td>\n",
       "      <td>Alginet</td>\n",
       "      <td>2012</td>\n",
       "      <td>PE</td>\n",
       "      <td>Gas natural</td>\n",
       "      <td>110.00</td>\n",
       "      <td>44.29</td>\n",
       "      <td>0.15</td>\n",
       "      <td>0</td>\n",
       "      <td>0</td>\n",
       "      <td>False</td>\n",
       "      <td>0</td>\n",
       "    </tr>\n",
       "    <tr>\n",
       "      <th>1</th>\n",
       "      <td>428124500</td>\n",
       "      <td>Valencia</td>\n",
       "      <td>Alginet</td>\n",
       "      <td>2012</td>\n",
       "      <td>PE</td>\n",
       "      <td>Gas natural</td>\n",
       "      <td>160.00</td>\n",
       "      <td>110.72</td>\n",
       "      <td>0.15</td>\n",
       "      <td>2</td>\n",
       "      <td>0</td>\n",
       "      <td>False</td>\n",
       "      <td>0</td>\n",
       "    </tr>\n",
       "    <tr>\n",
       "      <th>2</th>\n",
       "      <td>438428871</td>\n",
       "      <td>Valencia</td>\n",
       "      <td>Alginet</td>\n",
       "      <td>2012</td>\n",
       "      <td>PE</td>\n",
       "      <td>Gas natural</td>\n",
       "      <td>110.00</td>\n",
       "      <td>13.57</td>\n",
       "      <td>0.15</td>\n",
       "      <td>0</td>\n",
       "      <td>0</td>\n",
       "      <td>False</td>\n",
       "      <td>0</td>\n",
       "    </tr>\n",
       "    <tr>\n",
       "      <th>3</th>\n",
       "      <td>429034569</td>\n",
       "      <td>Valencia</td>\n",
       "      <td>Alginet</td>\n",
       "      <td>2012</td>\n",
       "      <td>PE</td>\n",
       "      <td>Gas natural</td>\n",
       "      <td>110.00</td>\n",
       "      <td>327.69</td>\n",
       "      <td>0.15</td>\n",
       "      <td>3</td>\n",
       "      <td>0</td>\n",
       "      <td>False</td>\n",
       "      <td>0</td>\n",
       "    </tr>\n",
       "    <tr>\n",
       "      <th>4</th>\n",
       "      <td>411184477</td>\n",
       "      <td>Valencia</td>\n",
       "      <td>Alginet</td>\n",
       "      <td>2007</td>\n",
       "      <td>PE</td>\n",
       "      <td>Gas natural</td>\n",
       "      <td>200.00</td>\n",
       "      <td>932.76</td>\n",
       "      <td>0.15</td>\n",
       "      <td>0</td>\n",
       "      <td>0</td>\n",
       "      <td>False</td>\n",
       "      <td>0</td>\n",
       "    </tr>\n",
       "  </tbody>\n",
       "</table>\n",
       "</div>"
      ],
      "text/plain": [
       "      PipeId  Province     Town  YearBuilt Material      GasType  Diameter  \\\n",
       "0  446859944  Valencia  Alginet       2012       PE  Gas natural    110.00   \n",
       "1  428124500  Valencia  Alginet       2012       PE  Gas natural    160.00   \n",
       "2  438428871  Valencia  Alginet       2012       PE  Gas natural    110.00   \n",
       "3  429034569  Valencia  Alginet       2012       PE  Gas natural    110.00   \n",
       "4  411184477  Valencia  Alginet       2007       PE  Gas natural    200.00   \n",
       "\n",
       "   Length  Pressure  NumConnections  NumConnectionsUnder  BoolBridle  \\\n",
       "0   44.29      0.15               0                    0       False   \n",
       "1  110.72      0.15               2                    0       False   \n",
       "2   13.57      0.15               0                    0       False   \n",
       "3  327.69      0.15               3                    0       False   \n",
       "4  932.76      0.15               0                    0       False   \n",
       "\n",
       "   Incidence  \n",
       "0          0  \n",
       "1          0  \n",
       "2          0  \n",
       "3          0  \n",
       "4          0  "
      ]
     },
     "execution_count": 40,
     "metadata": {},
     "output_type": "execute_result"
    }
   ],
   "source": [
    "test.head()"
   ]
  },
  {
   "cell_type": "code",
   "execution_count": 41,
   "id": "e3b15fb4",
   "metadata": {},
   "outputs": [
    {
     "data": {
      "text/html": [
       "<div>\n",
       "<style scoped>\n",
       "    .dataframe tbody tr th:only-of-type {\n",
       "        vertical-align: middle;\n",
       "    }\n",
       "\n",
       "    .dataframe tbody tr th {\n",
       "        vertical-align: top;\n",
       "    }\n",
       "\n",
       "    .dataframe thead th {\n",
       "        text-align: right;\n",
       "    }\n",
       "</style>\n",
       "<table border=\"1\" class=\"dataframe\">\n",
       "  <thead>\n",
       "    <tr style=\"text-align: right;\">\n",
       "      <th></th>\n",
       "      <th>PipeId</th>\n",
       "      <th>Incidence</th>\n",
       "    </tr>\n",
       "  </thead>\n",
       "  <tbody>\n",
       "    <tr>\n",
       "      <th>0</th>\n",
       "      <td>446859944</td>\n",
       "      <td>0</td>\n",
       "    </tr>\n",
       "    <tr>\n",
       "      <th>1</th>\n",
       "      <td>428124500</td>\n",
       "      <td>0</td>\n",
       "    </tr>\n",
       "    <tr>\n",
       "      <th>2</th>\n",
       "      <td>438428871</td>\n",
       "      <td>0</td>\n",
       "    </tr>\n",
       "    <tr>\n",
       "      <th>3</th>\n",
       "      <td>429034569</td>\n",
       "      <td>0</td>\n",
       "    </tr>\n",
       "    <tr>\n",
       "      <th>4</th>\n",
       "      <td>411184477</td>\n",
       "      <td>0</td>\n",
       "    </tr>\n",
       "  </tbody>\n",
       "</table>\n",
       "</div>"
      ],
      "text/plain": [
       "      PipeId  Incidence\n",
       "0  446859944          0\n",
       "1  428124500          0\n",
       "2  438428871          0\n",
       "3  429034569          0\n",
       "4  411184477          0"
      ]
     },
     "execution_count": 41,
     "metadata": {},
     "output_type": "execute_result"
    }
   ],
   "source": [
    "df_sample.head()"
   ]
  },
  {
   "cell_type": "code",
   "execution_count": 42,
   "id": "c3a08a3e",
   "metadata": {},
   "outputs": [
    {
     "data": {
      "text/plain": [
       "PipeId       0\n",
       "Province     0\n",
       "Town         0\n",
       "YearBuilt    0\n",
       "Material     0\n",
       "dtype: int64"
      ]
     },
     "execution_count": 42,
     "metadata": {},
     "output_type": "execute_result"
    }
   ],
   "source": [
    "#Check for null values in test dataset\n",
    "test_null = test.isnull().sum()    \n",
    "test_null.head()"
   ]
  },
  {
   "attachments": {},
   "cell_type": "markdown",
   "id": "039632ca",
   "metadata": {},
   "source": [
    "JF: No null Values in TEST data set"
   ]
  },
  {
   "cell_type": "code",
   "execution_count": 43,
   "id": "c67ffbae",
   "metadata": {},
   "outputs": [],
   "source": [
    "#creating a subset for altering the dataset after initial EDA\n",
    "train_copy = train.copy()"
   ]
  },
  {
   "cell_type": "code",
   "execution_count": 44,
   "id": "44c28dbc",
   "metadata": {},
   "outputs": [
    {
     "data": {
      "text/plain": [
       "PipeId                     0\n",
       "MaintenanceId          18685\n",
       "InspectionYear         18685\n",
       "InspectionDate         18685\n",
       "MonthsLastRev          18685\n",
       "Severity               18685\n",
       "Incidence              18685\n",
       "Province                   0\n",
       "Town                       0\n",
       "YearBuilt                  0\n",
       "Material                   0\n",
       "GasType                    0\n",
       "Diameter                   0\n",
       "Length                     0\n",
       "Pressure                   0\n",
       "NumConnections             0\n",
       "NumConnectionsUnder        0\n",
       "BoolBridle                 0\n",
       "dtype: int64"
      ]
     },
     "execution_count": 44,
     "metadata": {},
     "output_type": "execute_result"
    }
   ],
   "source": [
    "#find the columns with null values in train_copy\n",
    "train_copy.isnull().sum()"
   ]
  },
  {
   "cell_type": "code",
   "execution_count": 45,
   "id": "b799ec7c",
   "metadata": {},
   "outputs": [
    {
     "data": {
      "text/html": [
       "<div>\n",
       "<style scoped>\n",
       "    .dataframe tbody tr th:only-of-type {\n",
       "        vertical-align: middle;\n",
       "    }\n",
       "\n",
       "    .dataframe tbody tr th {\n",
       "        vertical-align: top;\n",
       "    }\n",
       "\n",
       "    .dataframe thead th {\n",
       "        text-align: right;\n",
       "    }\n",
       "</style>\n",
       "<table border=\"1\" class=\"dataframe\">\n",
       "  <thead>\n",
       "    <tr style=\"text-align: right;\">\n",
       "      <th></th>\n",
       "      <th>PipeId</th>\n",
       "      <th>MaintenanceId</th>\n",
       "      <th>InspectionYear</th>\n",
       "      <th>InspectionDate</th>\n",
       "      <th>MonthsLastRev</th>\n",
       "      <th>Severity</th>\n",
       "      <th>Incidence</th>\n",
       "      <th>Province</th>\n",
       "      <th>Town</th>\n",
       "      <th>YearBuilt</th>\n",
       "      <th>Material</th>\n",
       "      <th>GasType</th>\n",
       "      <th>Diameter</th>\n",
       "      <th>Length</th>\n",
       "      <th>Pressure</th>\n",
       "      <th>NumConnections</th>\n",
       "      <th>NumConnectionsUnder</th>\n",
       "      <th>BoolBridle</th>\n",
       "    </tr>\n",
       "  </thead>\n",
       "  <tbody>\n",
       "    <tr>\n",
       "      <th>64887</th>\n",
       "      <td>185802404</td>\n",
       "      <td>NaN</td>\n",
       "      <td>NaN</td>\n",
       "      <td>NaN</td>\n",
       "      <td>NaN</td>\n",
       "      <td>NaN</td>\n",
       "      <td>NaN</td>\n",
       "      <td>Girona</td>\n",
       "      <td>Puigcerda</td>\n",
       "      <td>2021</td>\n",
       "      <td>PN</td>\n",
       "      <td>Gas natural</td>\n",
       "      <td>110.00</td>\n",
       "      <td>12.01</td>\n",
       "      <td>0.15</td>\n",
       "      <td>1</td>\n",
       "      <td>0</td>\n",
       "      <td>True</td>\n",
       "    </tr>\n",
       "    <tr>\n",
       "      <th>64889</th>\n",
       "      <td>188243116</td>\n",
       "      <td>NaN</td>\n",
       "      <td>NaN</td>\n",
       "      <td>NaN</td>\n",
       "      <td>NaN</td>\n",
       "      <td>NaN</td>\n",
       "      <td>NaN</td>\n",
       "      <td>Girona</td>\n",
       "      <td>Puigcerda</td>\n",
       "      <td>2021</td>\n",
       "      <td>PN</td>\n",
       "      <td>Gas natural</td>\n",
       "      <td>90.00</td>\n",
       "      <td>11.82</td>\n",
       "      <td>0.15</td>\n",
       "      <td>1</td>\n",
       "      <td>0</td>\n",
       "      <td>True</td>\n",
       "    </tr>\n",
       "    <tr>\n",
       "      <th>70787</th>\n",
       "      <td>185839446</td>\n",
       "      <td>NaN</td>\n",
       "      <td>NaN</td>\n",
       "      <td>NaN</td>\n",
       "      <td>NaN</td>\n",
       "      <td>NaN</td>\n",
       "      <td>NaN</td>\n",
       "      <td>Girona</td>\n",
       "      <td>Girona</td>\n",
       "      <td>2021</td>\n",
       "      <td>PN</td>\n",
       "      <td>Gas natural</td>\n",
       "      <td>110.00</td>\n",
       "      <td>5.10</td>\n",
       "      <td>0.03</td>\n",
       "      <td>1</td>\n",
       "      <td>0</td>\n",
       "      <td>True</td>\n",
       "    </tr>\n",
       "    <tr>\n",
       "      <th>70788</th>\n",
       "      <td>186392655</td>\n",
       "      <td>NaN</td>\n",
       "      <td>NaN</td>\n",
       "      <td>NaN</td>\n",
       "      <td>NaN</td>\n",
       "      <td>NaN</td>\n",
       "      <td>NaN</td>\n",
       "      <td>Girona</td>\n",
       "      <td>Girona</td>\n",
       "      <td>2021</td>\n",
       "      <td>PN</td>\n",
       "      <td>Gas natural</td>\n",
       "      <td>63.00</td>\n",
       "      <td>4.51</td>\n",
       "      <td>0.03</td>\n",
       "      <td>1</td>\n",
       "      <td>0</td>\n",
       "      <td>True</td>\n",
       "    </tr>\n",
       "    <tr>\n",
       "      <th>70790</th>\n",
       "      <td>186441076</td>\n",
       "      <td>NaN</td>\n",
       "      <td>NaN</td>\n",
       "      <td>NaN</td>\n",
       "      <td>NaN</td>\n",
       "      <td>NaN</td>\n",
       "      <td>NaN</td>\n",
       "      <td>Girona</td>\n",
       "      <td>Girona</td>\n",
       "      <td>2021</td>\n",
       "      <td>PN</td>\n",
       "      <td>Gas natural</td>\n",
       "      <td>63.00</td>\n",
       "      <td>0.29</td>\n",
       "      <td>0.03</td>\n",
       "      <td>0</td>\n",
       "      <td>0</td>\n",
       "      <td>True</td>\n",
       "    </tr>\n",
       "  </tbody>\n",
       "</table>\n",
       "</div>"
      ],
      "text/plain": [
       "          PipeId MaintenanceId  InspectionYear InspectionDate  MonthsLastRev  \\\n",
       "64887  185802404           NaN             NaN            NaN            NaN   \n",
       "64889  188243116           NaN             NaN            NaN            NaN   \n",
       "70787  185839446           NaN             NaN            NaN            NaN   \n",
       "70788  186392655           NaN             NaN            NaN            NaN   \n",
       "70790  186441076           NaN             NaN            NaN            NaN   \n",
       "\n",
       "       Severity  Incidence Province       Town  YearBuilt Material  \\\n",
       "64887       NaN        NaN   Girona  Puigcerda       2021       PN   \n",
       "64889       NaN        NaN   Girona  Puigcerda       2021       PN   \n",
       "70787       NaN        NaN   Girona     Girona       2021       PN   \n",
       "70788       NaN        NaN   Girona     Girona       2021       PN   \n",
       "70790       NaN        NaN   Girona     Girona       2021       PN   \n",
       "\n",
       "           GasType  Diameter  Length  Pressure  NumConnections  \\\n",
       "64887  Gas natural    110.00   12.01      0.15               1   \n",
       "64889  Gas natural     90.00   11.82      0.15               1   \n",
       "70787  Gas natural    110.00    5.10      0.03               1   \n",
       "70788  Gas natural     63.00    4.51      0.03               1   \n",
       "70790  Gas natural     63.00    0.29      0.03               0   \n",
       "\n",
       "       NumConnectionsUnder  BoolBridle  \n",
       "64887                    0        True  \n",
       "64889                    0        True  \n",
       "70787                    0        True  \n",
       "70788                    0        True  \n",
       "70790                    0        True  "
      ]
     },
     "execution_count": 45,
     "metadata": {},
     "output_type": "execute_result"
    }
   ],
   "source": [
    "#show me a head of train_copy with YearBuilt == 2020\n",
    "train_copy[train_copy['YearBuilt'] > 2020].head()"
   ]
  },
  {
   "cell_type": "code",
   "execution_count": 46,
   "id": "13accacf",
   "metadata": {},
   "outputs": [
    {
     "data": {
      "text/plain": [
       "(2026, 18)"
      ]
     },
     "execution_count": 46,
     "metadata": {},
     "output_type": "execute_result"
    }
   ],
   "source": [
    "#count the PipeID that have YearBuilt equal to 2021 and InspectionYear equal to NaN\n",
    "train_copy[(train_copy['YearBuilt'] > 2020) & (train_copy['InspectionYear'].isnull())].shape\n"
   ]
  },
  {
   "attachments": {},
   "cell_type": "markdown",
   "id": "8248cba6",
   "metadata": {},
   "source": [
    "JF: There are 2026 pipes that were built after 2020 in the train data set, these came from the network data set and will be considered new pipes that do not have inspection data yet. We will assume that the inspection year for those was the year of installation (you inspect them when you install them)"
   ]
  },
  {
   "cell_type": "code",
   "execution_count": null,
   "id": "14b0587b",
   "metadata": {},
   "outputs": [],
   "source": []
  },
  {
   "cell_type": "code",
   "execution_count": 47,
   "id": "df9292bc",
   "metadata": {},
   "outputs": [
    {
     "data": {
      "text/plain": [
       "InspectionYear\n",
       "2010.00     93518\n",
       "2011.00    528113\n",
       "2012.00    611594\n",
       "2013.00    581559\n",
       "2014.00    593223\n",
       "2015.00    617187\n",
       "2016.00    627667\n",
       "2017.00    684715\n",
       "2018.00    654861\n",
       "2019.00    694584\n",
       "2020.00    656878\n",
       "2021.00      1445\n",
       "Name: InspectionYear, dtype: int64"
      ]
     },
     "execution_count": 47,
     "metadata": {},
     "output_type": "execute_result"
    }
   ],
   "source": [
    "#show me nulls for InspectionYear for every year in train_copy\n",
    "train_copy.groupby('InspectionYear')['InspectionYear'].count()"
   ]
  },
  {
   "cell_type": "code",
   "execution_count": null,
   "id": "3460ebe4",
   "metadata": {},
   "outputs": [],
   "source": []
  },
  {
   "cell_type": "code",
   "execution_count": 48,
   "id": "ac000975",
   "metadata": {},
   "outputs": [],
   "source": [
    "#do a range in the train_copy for the YearBuilt column if the value is greater than 2020 and the InspectionYear is equal to Nan, change the value of InspectionYear to YearBuilt\n",
    "\n",
    "#for i in train_copy['YearBuilt']:\n",
    "#    if i > 2020:\n",
    "#        train_copy.loc[(train_copy['YearBuilt'] > 2020) & (train_copy['InspectionYear'].isnull()), 'InspectionYear'] = i"
   ]
  },
  {
   "cell_type": "code",
   "execution_count": 49,
   "id": "b5e706a4",
   "metadata": {},
   "outputs": [
    {
     "data": {
      "text/plain": [
       "2020    3290\n",
       "2019    2654\n",
       "2021    1960\n",
       "2016    1144\n",
       "2015     873\n",
       "        ... \n",
       "1971       7\n",
       "1969       2\n",
       "1965       2\n",
       "1966       1\n",
       "1967       1\n",
       "Name: YearBuilt, Length: 61, dtype: int64"
      ]
     },
     "execution_count": 49,
     "metadata": {},
     "output_type": "execute_result"
    }
   ],
   "source": [
    "#show me the YearBuilt values for the null vales in InspectionYear\n",
    "train_copy[train_copy['InspectionYear'].isnull()]['YearBuilt'].value_counts()\n"
   ]
  },
  {
   "cell_type": "code",
   "execution_count": 50,
   "id": "f7ce181a",
   "metadata": {},
   "outputs": [],
   "source": [
    "#remove from train_copy the rows where InspectionYear is equal to NaN and yearBuilt is not null\n",
    "train_copy = train_copy[~((train_copy['InspectionYear'].isnull()) & (train_copy['YearBuilt'].notnull()))]"
   ]
  },
  {
   "attachments": {},
   "cell_type": "markdown",
   "id": "5250b5a8",
   "metadata": {},
   "source": [
    "We do not have info for these pipes so I will remove them all as it is impossible to find out the year built"
   ]
  },
  {
   "cell_type": "code",
   "execution_count": 51,
   "id": "530b9ac9",
   "metadata": {},
   "outputs": [
    {
     "data": {
      "text/plain": [
       "PipeId                 0\n",
       "MaintenanceId          0\n",
       "InspectionYear         0\n",
       "InspectionDate         0\n",
       "MonthsLastRev          0\n",
       "Severity               0\n",
       "Incidence              0\n",
       "Province               0\n",
       "Town                   0\n",
       "YearBuilt              0\n",
       "Material               0\n",
       "GasType                0\n",
       "Diameter               0\n",
       "Length                 0\n",
       "Pressure               0\n",
       "NumConnections         0\n",
       "NumConnectionsUnder    0\n",
       "BoolBridle             0\n",
       "dtype: int64"
      ]
     },
     "execution_count": 51,
     "metadata": {},
     "output_type": "execute_result"
    }
   ],
   "source": [
    "train_copy.isnull().sum()"
   ]
  },
  {
   "cell_type": "code",
   "execution_count": 52,
   "id": "2ebd4980",
   "metadata": {},
   "outputs": [
    {
     "data": {
      "text/plain": [
       "(0, 18)"
      ]
     },
     "execution_count": 52,
     "metadata": {},
     "output_type": "execute_result"
    }
   ],
   "source": [
    "#count the PipeId in inspection dataset that YearBuilt is equal to 2020 and inspection year is equal to 2021\n",
    "train_copy[(train_copy['YearBuilt'] > 2020) & (train_copy['InspectionYear'] == 2021)].shape\n",
    "\n"
   ]
  },
  {
   "attachments": {},
   "cell_type": "markdown",
   "id": "a47ff5b1",
   "metadata": {},
   "source": [
    "#perform al pip installs in one go comment out if already installed\n",
    "!pip install pandas\n",
    "!pip install numpy\n",
    "!pip install matplotlib\n",
    "!pip install seaborn\n",
    "!pip install sklearn\n",
    "!pip install scipy\n",
    "!pip install statsmodels\n",
    "!pip install plotly\n",
    "!pip install cufflinks\n",
    "!pip install squarify\n",
    "!pip install yellowbrick\n",
    "!pip install lazypredict\n",
    "!pip install pandas_profiling"
   ]
  },
  {
   "cell_type": "code",
   "execution_count": 53,
   "id": "f230c51a",
   "metadata": {},
   "outputs": [],
   "source": [
    "from sklearn.linear_model import LogisticRegression\n",
    "\n",
    "from sklearn.model_selection import cross_val_score\n",
    "from sklearn.model_selection import RepeatedStratifiedKFold\n",
    "from sklearn.model_selection import cross_val_score\n",
    "from sklearn.model_selection import train_test_split\n",
    "\n",
    "from sklearn.metrics import accuracy_score, confusion_matrix, classification_report\n",
    "from sklearn.metrics import classification_report\n",
    "\n",
    "from sklearn.naive_bayes import GaussianNB\n",
    "from sklearn.tree import DecisionTreeClassifier\n",
    "from sklearn.neighbors import KNeighborsClassifier\n",
    "\n",
    "from sklearn.ensemble import RandomForestClassifier\n",
    "from sklearn.ensemble import GradientBoostingClassifier\n",
    "\n",
    "from sklearn.preprocessing import StandardScaler\n",
    "\n",
    "\n",
    "from scipy.stats import normaltest\n",
    "\n",
    "from pandas_profiling import ProfileReport\n",
    "\n",
    "from yellowbrick.classifier import ROCAUC\n",
    "from yellowbrick.classifier import ClassPredictionError\n",
    "from yellowbrick.style.palettes import PALETTES, SEQUENCES, color_palette\n",
    "\n",
    "import lazypredict\n",
    "from lazypredict.Supervised import LazyClassifier\n",
    "\n",
    "warnings.simplefilter(action='ignore', category=FutureWarning)"
   ]
  },
  {
   "cell_type": "code",
   "execution_count": 54,
   "metadata": {},
   "outputs": [],
   "source": [
    "# Function for EDA. Using the display() function to have  well-formatted tables. We are mainly using pandas to explore the datasets\n",
    "\n",
    "def dataset_description(df_target):\n",
    "\n",
    "    print('This is the Dataset shape: %s\\n' % (df_target.shape, ))\n",
    "    print('Dataset columns: %s\\n' % df_target.columns)\n",
    "\n",
    "    print('\\nColumns description:\\n')\n",
    "    display(df_target.info())\n",
    "    display(df_target.describe())  # describe the dataset\n",
    "\n",
    "    print('\\nNull values:\\n')\n",
    "    display(df_target.isnull().sum())  # Identify null values\n",
    "\n",
    "#function performing a quick check on df_inspection to have best of pandas functions separated by a line\n",
    "def quick_check(dataframe):\n",
    "    print('First 5 rows %s\\n')\n",
    "    print(dataframe.head(2))\n",
    "    print(\"=====================================\")\n",
    "    print('Dataframe shape %s\\n')\n",
    "    print(dataframe.shape)\n",
    "    print(\"=====================================\")\n",
    "    print('Dataframe describe categorical %s\\n')\n",
    "    print(dataframe.describe(include=['O']))\n",
    "    print(\"=====================================\")\n",
    "    print('Dataframe null values %s\\n')\n",
    "    print(dataframe.isnull().sum())\n",
    "    print(\"=====================================\")\n",
    "    print('Dataframe value counts %s\\n')\n",
    "    print(dataframe.value_counts())\n",
    "    print(\"=====================================\")\n",
    "\n",
    "#stats function\n",
    "def stats(dataframe):\n",
    "    print('Dataframe correlation %s\\n')\n",
    "    print(dataframe.corr())\n",
    "    print(\"=====================================\")\n",
    "    print('Dataframe covariance %s\\n')\n",
    "    print(dataframe.cov())\n",
    "    print(\"=====================================\")\n",
    "    print('Dataframe skew %s\\n')\n",
    "    print(dataframe.skew())\n",
    "    print(\"=====================================\")\n",
    "    print('Dataframe kurtosis %s\\n')\n",
    "    print(dataframe.kurt())\n",
    "    print(\"=====================================\")\n",
    "\n",
    "#create a function to normalize characters from a dataset's column in Spanish\n",
    "def normalize_characters(df, column):\n",
    "    df[column] = df[column].str.normalize('NFKD').str.encode('ascii', errors='ignore').str.decode('utf-8')\n",
    "    df[column] = df[column].str.lower()\n",
    "    df[column] = df[column].str.replace('á', 'a')\n",
    "    df[column] = df[column].str.replace('é', 'e')\n",
    "    df[column] = df[column].str.replace('í', 'i')\n",
    "    df[column] = df[column].str.replace('ó', 'o')\n",
    "    df[column] = df[column].str.replace('ú', 'u')\n",
    "    df[column] = df[column].str.replace('ñ', 'n')\n",
    "    df[column] = df[column].str.replace('ü', 'u')\n",
    "    df[column] = df[column].str.replace('ç', 'c')\n",
    "    df[column] = df[column].str.replace('(', '')\n",
    "    df[column] = df[column].str.replace(')', '')\n",
    "    df[column] = df[column].str.replace('\\'', '')\n",
    "    df[column] = df[column].str.replace('´', '')\n",
    "    df[column] = df[column].str.replace('`', '')\n",
    "    df[column] = df[column].str.replace('’', '')\n",
    "    return df\n",
    "\n",
    "#create function to change detypes in64 to int32 in a df\n",
    "def change_dtypes(df):\n",
    "    for col in df.columns:\n",
    "        if df[col].dtype == 'int64':\n",
    "            df[col] = df[col].astype('int32')\n",
    "        elif df[col].dtype == 'float64':\n",
    "            df[col] = df[col].astype('float32')\n",
    "    return df"
   ]
  },
  {
   "cell_type": "markdown",
   "id": "d88a7d05",
   "metadata": {},
   "source": [
    "# 2. Data Collection and Understanding "
   ]
  },
  {
   "cell_type": "markdown",
   "id": "931606e2",
   "metadata": {},
   "source": [
    "The network.csv file contains a static picture of the gas pipeline network. Every row corresponds to a pipe and has a unique PipeId identifier. The table has 1.446.529 pipes. \n",
    "\n",
    "The columns describe relevant features of each pipe. The complete list is: "
   ]
  },
  {
   "cell_type": "markdown",
   "id": "2d409b09",
   "metadata": {},
   "source": [
    "## Inspection file"
   ]
  },
  {
   "attachments": {},
   "cell_type": "markdown",
   "id": "d7ed6752",
   "metadata": {},
   "source": [
    "# Merging datasets"
   ]
  },
  {
   "cell_type": "code",
   "execution_count": 55,
   "id": "cf3c8dca",
   "metadata": {},
   "outputs": [],
   "source": [
    "#point to the folder where the data is stored for Pedro\n",
    "os.chdir(r\"C:\\Users\\pedro\\datathon\\Datathon-Rules-and-Documentation\") \n",
    "\n",
    "#Loading sample_submission\n",
    "df_sample_submission = pd.read_csv('sample_submission.csv')"
   ]
  },
  {
   "cell_type": "code",
   "execution_count": 56,
   "id": "09d0ac0a",
   "metadata": {},
   "outputs": [
    {
     "name": "stdout",
     "output_type": "stream",
     "text": [
      "First 5 rows %s\n",
      "\n",
      "      PipeId MaintenanceId  InspectionYear InspectionDate  MonthsLastRev  \\\n",
      "0  189311802  ZRV-00001972            2010     2010-10-01             24   \n",
      "1  188889914  ZRV-00001406            2010     2010-10-01             22   \n",
      "\n",
      "   Severity  Incidence  \n",
      "0         4          0  \n",
      "1         4          0  \n",
      "=====================================\n",
      "Dataframe shape %s\n",
      "\n",
      "(6345344, 7)\n",
      "=====================================\n",
      "Dataframe describe categorical %s\n",
      "\n",
      "       MaintenanceId InspectionDate\n",
      "count        6345344        6345344\n",
      "unique          4179           3565\n",
      "top     ZRV-00002121     2014-05-05\n",
      "freq           21773           5832\n",
      "=====================================\n",
      "Dataframe null values %s\n",
      "\n",
      "PipeId            0\n",
      "MaintenanceId     0\n",
      "InspectionYear    0\n",
      "InspectionDate    0\n",
      "MonthsLastRev     0\n",
      "Severity          0\n",
      "Incidence         0\n",
      "dtype: int64\n",
      "=====================================\n",
      "Dataframe value counts %s\n",
      "\n",
      "PipeId     MaintenanceId  InspectionYear  InspectionDate  MonthsLastRev  Severity  Incidence\n",
      "489616     ZRV-00003385   2013            2013-05-08      16             4         0            1\n",
      "256852211  ZRV-00002129   2016            2016-10-10      24             4         0            1\n",
      "256831542  ZRV-00004585   2018            2018-07-23      24             4         0            1\n",
      "                          2016            2016-07-14      24             4         0            1\n",
      "                          2014            2014-07-10      24             4         0            1\n",
      "                                                                                               ..\n",
      "188595687  ZRV-00003626   2018            2018-02-15      24             4         0            1\n",
      "                          2016            2016-02-17      24             4         0            1\n",
      "                          2014            2014-02-12      24             4         0            1\n",
      "                          2012            2012-02-20      24             4         0            1\n",
      "451995309  ZRV-00001573   2019            2019-10-26      24             4         0            1\n",
      "Length: 6345344, dtype: int64\n",
      "=====================================\n"
     ]
    }
   ],
   "source": [
    "quick_check(df_inspection)\n"
   ]
  },
  {
   "cell_type": "code",
   "execution_count": 57,
   "id": "464a7b5e",
   "metadata": {},
   "outputs": [
    {
     "data": {
      "text/html": [
       "<div>\n",
       "<style scoped>\n",
       "    .dataframe tbody tr th:only-of-type {\n",
       "        vertical-align: middle;\n",
       "    }\n",
       "\n",
       "    .dataframe tbody tr th {\n",
       "        vertical-align: top;\n",
       "    }\n",
       "\n",
       "    .dataframe thead th {\n",
       "        text-align: right;\n",
       "    }\n",
       "</style>\n",
       "<table border=\"1\" class=\"dataframe\">\n",
       "  <thead>\n",
       "    <tr style=\"text-align: right;\">\n",
       "      <th></th>\n",
       "      <th>PipeId</th>\n",
       "      <th>MaintenanceId</th>\n",
       "      <th>InspectionYear</th>\n",
       "      <th>InspectionDate</th>\n",
       "      <th>MonthsLastRev</th>\n",
       "      <th>Severity</th>\n",
       "      <th>Incidence</th>\n",
       "    </tr>\n",
       "  </thead>\n",
       "  <tbody>\n",
       "    <tr>\n",
       "      <th>622563</th>\n",
       "      <td>188821075</td>\n",
       "      <td>ZRV-00002121</td>\n",
       "      <td>2012</td>\n",
       "      <td>2011-12-28</td>\n",
       "      <td>24</td>\n",
       "      <td>4</td>\n",
       "      <td>0</td>\n",
       "    </tr>\n",
       "    <tr>\n",
       "      <th>622571</th>\n",
       "      <td>191340447</td>\n",
       "      <td>ZRV-00002121</td>\n",
       "      <td>2012</td>\n",
       "      <td>2011-12-28</td>\n",
       "      <td>24</td>\n",
       "      <td>4</td>\n",
       "      <td>0</td>\n",
       "    </tr>\n",
       "    <tr>\n",
       "      <th>622572</th>\n",
       "      <td>191340427</td>\n",
       "      <td>ZRV-00002121</td>\n",
       "      <td>2012</td>\n",
       "      <td>2011-12-28</td>\n",
       "      <td>24</td>\n",
       "      <td>4</td>\n",
       "      <td>0</td>\n",
       "    </tr>\n",
       "    <tr>\n",
       "      <th>622574</th>\n",
       "      <td>191340421</td>\n",
       "      <td>ZRV-00002121</td>\n",
       "      <td>2012</td>\n",
       "      <td>2011-12-28</td>\n",
       "      <td>24</td>\n",
       "      <td>4</td>\n",
       "      <td>0</td>\n",
       "    </tr>\n",
       "    <tr>\n",
       "      <th>622575</th>\n",
       "      <td>188802580</td>\n",
       "      <td>ZRV-00002121</td>\n",
       "      <td>2012</td>\n",
       "      <td>2011-12-28</td>\n",
       "      <td>24</td>\n",
       "      <td>4</td>\n",
       "      <td>0</td>\n",
       "    </tr>\n",
       "    <tr>\n",
       "      <th>...</th>\n",
       "      <td>...</td>\n",
       "      <td>...</td>\n",
       "      <td>...</td>\n",
       "      <td>...</td>\n",
       "      <td>...</td>\n",
       "      <td>...</td>\n",
       "      <td>...</td>\n",
       "    </tr>\n",
       "    <tr>\n",
       "      <th>5737006</th>\n",
       "      <td>450197378</td>\n",
       "      <td>ZRV-00002121</td>\n",
       "      <td>2020</td>\n",
       "      <td>2020-01-29</td>\n",
       "      <td>24</td>\n",
       "      <td>4</td>\n",
       "      <td>0</td>\n",
       "    </tr>\n",
       "    <tr>\n",
       "      <th>5737013</th>\n",
       "      <td>358229516</td>\n",
       "      <td>ZRV-00002121</td>\n",
       "      <td>2020</td>\n",
       "      <td>2020-01-29</td>\n",
       "      <td>24</td>\n",
       "      <td>4</td>\n",
       "      <td>0</td>\n",
       "    </tr>\n",
       "    <tr>\n",
       "      <th>5737179</th>\n",
       "      <td>351671916</td>\n",
       "      <td>ZRV-00002121</td>\n",
       "      <td>2020</td>\n",
       "      <td>2020-01-29</td>\n",
       "      <td>24</td>\n",
       "      <td>4</td>\n",
       "      <td>0</td>\n",
       "    </tr>\n",
       "    <tr>\n",
       "      <th>5737289</th>\n",
       "      <td>351671518</td>\n",
       "      <td>ZRV-00002121</td>\n",
       "      <td>2020</td>\n",
       "      <td>2020-01-29</td>\n",
       "      <td>24</td>\n",
       "      <td>4</td>\n",
       "      <td>0</td>\n",
       "    </tr>\n",
       "    <tr>\n",
       "      <th>5737290</th>\n",
       "      <td>191365725</td>\n",
       "      <td>ZRV-00002121</td>\n",
       "      <td>2020</td>\n",
       "      <td>2020-01-29</td>\n",
       "      <td>24</td>\n",
       "      <td>4</td>\n",
       "      <td>0</td>\n",
       "    </tr>\n",
       "  </tbody>\n",
       "</table>\n",
       "<p>21773 rows × 7 columns</p>\n",
       "</div>"
      ],
      "text/plain": [
       "            PipeId MaintenanceId  InspectionYear InspectionDate  \\\n",
       "622563   188821075  ZRV-00002121            2012     2011-12-28   \n",
       "622571   191340447  ZRV-00002121            2012     2011-12-28   \n",
       "622572   191340427  ZRV-00002121            2012     2011-12-28   \n",
       "622574   191340421  ZRV-00002121            2012     2011-12-28   \n",
       "622575   188802580  ZRV-00002121            2012     2011-12-28   \n",
       "...            ...           ...             ...            ...   \n",
       "5737006  450197378  ZRV-00002121            2020     2020-01-29   \n",
       "5737013  358229516  ZRV-00002121            2020     2020-01-29   \n",
       "5737179  351671916  ZRV-00002121            2020     2020-01-29   \n",
       "5737289  351671518  ZRV-00002121            2020     2020-01-29   \n",
       "5737290  191365725  ZRV-00002121            2020     2020-01-29   \n",
       "\n",
       "         MonthsLastRev  Severity  Incidence  \n",
       "622563              24         4          0  \n",
       "622571              24         4          0  \n",
       "622572              24         4          0  \n",
       "622574              24         4          0  \n",
       "622575              24         4          0  \n",
       "...                ...       ...        ...  \n",
       "5737006             24         4          0  \n",
       "5737013             24         4          0  \n",
       "5737179             24         4          0  \n",
       "5737289             24         4          0  \n",
       "5737290             24         4          0  \n",
       "\n",
       "[21773 rows x 7 columns]"
      ]
     },
     "execution_count": 57,
     "metadata": {},
     "output_type": "execute_result"
    }
   ],
   "source": [
    "#searching for MaintenanceId ZRV-00002121 in df_inspection\n",
    "df_inspection[df_inspection['MaintenanceId'] == 'ZRV-00002121']"
   ]
  },
  {
   "cell_type": "code",
   "execution_count": 58,
   "id": "8e03011f",
   "metadata": {},
   "outputs": [
    {
     "data": {
      "text/plain": [
       "<AxesSubplot: xlabel='InspectionYear'>"
      ]
     },
     "execution_count": 58,
     "metadata": {},
     "output_type": "execute_result"
    },
    {
     "data": {
      "image/png": "[encoded data removed]",
      "text/plain": [
       "<Figure size 800x550 with 1 Axes>"
      ]
     },
     "metadata": {},
     "output_type": "display_data"
    }
   ],
   "source": [
    "#plotting the distribution of MaintenanceId accross the years for ZRV-00002121 in df_inspection\n",
    "df_inspection[df_inspection['MaintenanceId'] == 'ZRV-00002121'].groupby('InspectionYear')['MaintenanceId'].count().plot(kind='bar')"
   ]
  },
  {
   "attachments": {},
   "cell_type": "markdown",
   "id": "ef7fc912",
   "metadata": {},
   "source": [
    "Seems like not so many inspections were carried in 2010, we shall decide on whether to keep this dimension or not"
   ]
  },
  {
   "cell_type": "code",
   "execution_count": 59,
   "id": "cd3176eb",
   "metadata": {},
   "outputs": [
    {
     "name": "stdout",
     "output_type": "stream",
     "text": [
      "Dataframe correlation %s\n",
      "\n",
      "                PipeId  InspectionYear  MonthsLastRev  Severity  Incidence\n",
      "PipeId            1.00           -0.12           0.05      0.02      -0.02\n",
      "InspectionYear   -0.12            1.00           0.12      0.00      -0.00\n",
      "MonthsLastRev     0.05            0.12           1.00      0.01      -0.01\n",
      "Severity          0.02            0.00           0.01      1.00      -0.90\n",
      "Incidence        -0.02           -0.00          -0.01     -0.90       1.00\n",
      "=====================================\n",
      "Dataframe covariance %s\n",
      "\n",
      "                             PipeId  InspectionYear  MonthsLastRev  Severity  \\\n",
      "PipeId         12943583115885676.00    -40999914.58    27545538.86 129283.54   \n",
      "InspectionYear         -40999914.58            8.46           1.70      0.00   \n",
      "MonthsLastRev           27545538.86            1.70          24.62      0.00   \n",
      "Severity                  129283.54            0.00           0.00      0.00   \n",
      "Incidence                -107454.24           -0.00          -0.00     -0.00   \n",
      "\n",
      "                Incidence  \n",
      "PipeId         -107454.24  \n",
      "InspectionYear      -0.00  \n",
      "MonthsLastRev       -0.00  \n",
      "Severity            -0.00  \n",
      "Incidence            0.00  \n",
      "=====================================\n",
      "Dataframe skew %s\n",
      "\n",
      "PipeId            -0.07\n",
      "InspectionYear    -0.10\n",
      "MonthsLastRev      3.68\n",
      "Severity         -31.01\n",
      "Incidence         22.62\n",
      "dtype: float64\n",
      "=====================================\n",
      "Dataframe kurtosis %s\n",
      "\n",
      "PipeId             -0.72\n",
      "InspectionYear     -1.18\n",
      "MonthsLastRev      41.37\n",
      "Severity         1131.62\n",
      "Incidence         509.71\n",
      "dtype: float64\n",
      "=====================================\n"
     ]
    }
   ],
   "source": [
    "stats(df_inspection)"
   ]
  },
  {
   "cell_type": "code",
   "execution_count": 60,
   "id": "33f2730b",
   "metadata": {},
   "outputs": [
    {
     "data": {
      "text/plain": [
       "<AxesSubplot: >"
      ]
     },
     "execution_count": 60,
     "metadata": {},
     "output_type": "execute_result"
    },
    {
     "data": {
      "image/png": "[encoded data removed]",
      "text/plain": [
       "<Figure size 800x550 with 1 Axes>"
      ]
     },
     "metadata": {},
     "output_type": "display_data"
    }
   ],
   "source": [
    "#plot histogram with many bins of MonthsLastRev in  df_inspection\n",
    "df_inspection['MonthsLastRev'].hist(bins=100)"
   ]
  },
  {
   "cell_type": "code",
   "execution_count": 61,
   "id": "793ccb16",
   "metadata": {},
   "outputs": [],
   "source": [
    "#JUAN we kill more than 40 months revision"
   ]
  },
  {
   "attachments": {},
   "cell_type": "markdown",
   "id": "09db2f99",
   "metadata": {},
   "source": [
    "#to work out better in final EDA"
   ]
  },
  {
   "attachments": {},
   "cell_type": "markdown",
   "id": "cb9707f2",
   "metadata": {},
   "source": [
    "In the network file we find 1446539 rows corresponding to all pipes, this is the master file for pipes.\n",
    "We find the most frequent Town is Madrid but the most frequent province is Barcelona. \n",
    "There are a total of 1972 Spanish towns in this dataset and 38 provinces\n",
    "We are missing the Basque Country, Ceuta, Melilla, the Canary Islands and Balearic Islands.\n",
    "\n"
   ]
  },
  {
   "cell_type": "code",
   "execution_count": 62,
   "id": "6f1086cd",
   "metadata": {},
   "outputs": [
    {
     "data": {
      "text/plain": [
       "<AxesSubplot: xlabel='Town'>"
      ]
     },
     "execution_count": 62,
     "metadata": {},
     "output_type": "execute_result"
    },
    {
     "data": {
      "image/png": "[encoded data removed]",
      "text/plain": [
       "<Figure size 800x550 with 1 Axes>"
      ]
     },
     "metadata": {},
     "output_type": "display_data"
    }
   ],
   "source": [
    "#plot a bar plot with the number of pipes per Town focusing in Madrid and Barcelona  in df_network\n",
    "df_network.groupby('Town')['PipeId'].count().sort_values(ascending=False).head(10).plot(kind='bar')"
   ]
  },
  {
   "cell_type": "code",
   "execution_count": 63,
   "id": "574aa92f",
   "metadata": {},
   "outputs": [
    {
     "name": "stdout",
     "output_type": "stream",
     "text": [
      "Dataframe correlation %s\n",
      "\n",
      "                     PipeId  YearBuilt  Diameter  Length  Pressure  \\\n",
      "PipeId                 1.00      -0.05      0.13   -0.01      0.04   \n",
      "YearBuilt             -0.05       1.00     -0.16    0.03      0.05   \n",
      "Diameter               0.13      -0.16      1.00    0.07      0.19   \n",
      "Length                -0.01       0.03      0.07    1.00      0.11   \n",
      "Pressure               0.04       0.05      0.19    0.11      1.00   \n",
      "NumConnections        -0.05      -0.03     -0.11    0.31     -0.10   \n",
      "NumConnectionsUnder   -0.01       0.01     -0.01    0.02     -0.00   \n",
      "BoolBridle            -0.09      -0.18      0.09   -0.02     -0.07   \n",
      "\n",
      "                     NumConnections  NumConnectionsUnder  BoolBridle  \n",
      "PipeId                        -0.05                -0.01       -0.09  \n",
      "YearBuilt                     -0.03                 0.01       -0.18  \n",
      "Diameter                      -0.11                -0.01        0.09  \n",
      "Length                         0.31                 0.02       -0.02  \n",
      "Pressure                      -0.10                -0.00       -0.07  \n",
      "NumConnections                 1.00                 0.02       -0.01  \n",
      "NumConnectionsUnder            0.02                 1.00        0.01  \n",
      "BoolBridle                    -0.01                 0.01        1.00  \n",
      "=====================================\n",
      "Dataframe covariance %s\n",
      "\n",
      "                                  PipeId    YearBuilt     Diameter  \\\n",
      "PipeId              14530921150027344.00 -77216786.03 934255446.23   \n",
      "YearBuilt                   -77216786.03       146.73      -108.96   \n",
      "Diameter                    934255446.23      -108.96      3349.02   \n",
      "Length                     -123925700.01        27.34       336.20   \n",
      "Pressure                     37295946.35         3.98        77.34   \n",
      "NumConnections              -11730124.19        -0.75       -14.10   \n",
      "NumConnectionsUnder            -27840.50         0.00        -0.01   \n",
      "BoolBridle                   -2791441.94        -0.54         1.31   \n",
      "\n",
      "                           Length    Pressure  NumConnections  \\\n",
      "PipeId              -123925700.01 37295946.35    -11730124.19   \n",
      "YearBuilt                   27.34        3.98           -0.75   \n",
      "Diameter                   336.20       77.34          -14.10   \n",
      "Length                    6170.72       57.18           52.28   \n",
      "Pressure                    57.18       47.42           -1.53   \n",
      "NumConnections              52.28       -1.53            4.67   \n",
      "NumConnectionsUnder          0.03       -0.00            0.00   \n",
      "BoolBridle                  -0.44       -0.12           -0.00   \n",
      "\n",
      "                     NumConnectionsUnder  BoolBridle  \n",
      "PipeId                         -27840.50 -2791441.94  \n",
      "YearBuilt                           0.00       -0.54  \n",
      "Diameter                           -0.01        1.31  \n",
      "Length                              0.03       -0.44  \n",
      "Pressure                           -0.00       -0.12  \n",
      "NumConnections                      0.00       -0.00  \n",
      "NumConnectionsUnder                 0.00        0.00  \n",
      "BoolBridle                          0.00        0.06  \n",
      "=====================================\n",
      "Dataframe skew %s\n",
      "\n",
      "PipeId                 0.10\n",
      "YearBuilt             -3.38\n",
      "Diameter               1.51\n",
      "Length                59.72\n",
      "Pressure               5.68\n",
      "NumConnections         5.52\n",
      "NumConnectionsUnder   67.03\n",
      "BoolBridle             3.39\n",
      "dtype: float64\n",
      "=====================================\n",
      "Dataframe kurtosis %s\n",
      "\n",
      "PipeId                   -0.95\n",
      "YearBuilt                22.11\n",
      "Diameter                  4.41\n",
      "Length                17001.24\n",
      "Pressure                 42.02\n",
      "NumConnections           56.93\n",
      "NumConnectionsUnder    5688.23\n",
      "BoolBridle                9.52\n",
      "dtype: float64\n",
      "=====================================\n"
     ]
    }
   ],
   "source": [
    "stats(df_network)"
   ]
  },
  {
   "cell_type": "code",
   "execution_count": 64,
   "id": "1c3126f8",
   "metadata": {},
   "outputs": [
    {
     "data": {
      "text/plain": [
       "(6364029, 18)"
      ]
     },
     "execution_count": 64,
     "metadata": {},
     "output_type": "execute_result"
    }
   ],
   "source": [
    "train.shape "
   ]
  },
  {
   "attachments": {},
   "cell_type": "markdown",
   "id": "abaa644f",
   "metadata": {},
   "source": [
    "JF: There are 18K null values that do not have information in the df_network so our TRAIN data set is now bigger and we will need to deal with the nulls further down."
   ]
  },
  {
   "cell_type": "code",
   "execution_count": 65,
   "id": "9c8bcc55",
   "metadata": {},
   "outputs": [],
   "source": [
    "#point to the folder where the data is stored for Pedro\n",
    "os.chdir(r\"C:\\Users\\pedro\\datathon\\Datathon-Rules-and-Documentation\")\n",
    "\n",
    "# Loading inspection data\n",
    "df_sample = pd.read_csv('sample_submission.csv')"
   ]
  },
  {
   "cell_type": "code",
   "execution_count": 66,
   "id": "c8b001d9",
   "metadata": {},
   "outputs": [
    {
     "data": {
      "text/plain": [
       "(909733, 2)"
      ]
     },
     "execution_count": 66,
     "metadata": {},
     "output_type": "execute_result"
    }
   ],
   "source": [
    "df_sample.shape"
   ]
  },
  {
   "cell_type": "code",
   "execution_count": 67,
   "id": "fecdc058",
   "metadata": {},
   "outputs": [
    {
     "data": {
      "text/plain": [
       "0    907964\n",
       "1      1769\n",
       "Name: Incidence, dtype: int64"
      ]
     },
     "execution_count": 67,
     "metadata": {},
     "output_type": "execute_result"
    }
   ],
   "source": [
    "#count the Incidence values in test dataset\n",
    "df_sample['Incidence'].value_counts()\n",
    "\n"
   ]
  },
  {
   "attachments": {},
   "cell_type": "markdown",
   "id": "28b2abff",
   "metadata": {},
   "source": [
    "Creating the TEST df which will be used to test our model.  Thisis made of the sample submission with the columns from the network"
   ]
  },
  {
   "cell_type": "markdown",
   "id": "ae915d97",
   "metadata": {},
   "source": [
    "JF: All the PipeId on the df_sample have a PipeId on the network"
   ]
  },
  {
   "cell_type": "code",
   "execution_count": 68,
   "id": "ee6a1089",
   "metadata": {},
   "outputs": [],
   "source": [
    "#join both datasets on PipeId\n",
    "test = pd.merge(df_network , df_sample, on='PipeId', how='right')"
   ]
  },
  {
   "cell_type": "code",
   "execution_count": 69,
   "id": "c1f803e7",
   "metadata": {},
   "outputs": [
    {
     "data": {
      "text/html": [
       "<div>\n",
       "<style scoped>\n",
       "    .dataframe tbody tr th:only-of-type {\n",
       "        vertical-align: middle;\n",
       "    }\n",
       "\n",
       "    .dataframe tbody tr th {\n",
       "        vertical-align: top;\n",
       "    }\n",
       "\n",
       "    .dataframe thead th {\n",
       "        text-align: right;\n",
       "    }\n",
       "</style>\n",
       "<table border=\"1\" class=\"dataframe\">\n",
       "  <thead>\n",
       "    <tr style=\"text-align: right;\">\n",
       "      <th></th>\n",
       "      <th>PipeId</th>\n",
       "      <th>Province</th>\n",
       "      <th>Town</th>\n",
       "      <th>YearBuilt</th>\n",
       "      <th>Material</th>\n",
       "      <th>GasType</th>\n",
       "      <th>Diameter</th>\n",
       "      <th>Length</th>\n",
       "      <th>Pressure</th>\n",
       "      <th>NumConnections</th>\n",
       "      <th>NumConnectionsUnder</th>\n",
       "      <th>BoolBridle</th>\n",
       "      <th>Incidence</th>\n",
       "    </tr>\n",
       "  </thead>\n",
       "  <tbody>\n",
       "    <tr>\n",
       "      <th>0</th>\n",
       "      <td>446859944</td>\n",
       "      <td>Valencia</td>\n",
       "      <td>Alginet</td>\n",
       "      <td>2012</td>\n",
       "      <td>PE</td>\n",
       "      <td>Gas natural</td>\n",
       "      <td>110.00</td>\n",
       "      <td>44.29</td>\n",
       "      <td>0.15</td>\n",
       "      <td>0</td>\n",
       "      <td>0</td>\n",
       "      <td>False</td>\n",
       "      <td>0</td>\n",
       "    </tr>\n",
       "    <tr>\n",
       "      <th>1</th>\n",
       "      <td>428124500</td>\n",
       "      <td>Valencia</td>\n",
       "      <td>Alginet</td>\n",
       "      <td>2012</td>\n",
       "      <td>PE</td>\n",
       "      <td>Gas natural</td>\n",
       "      <td>160.00</td>\n",
       "      <td>110.72</td>\n",
       "      <td>0.15</td>\n",
       "      <td>2</td>\n",
       "      <td>0</td>\n",
       "      <td>False</td>\n",
       "      <td>0</td>\n",
       "    </tr>\n",
       "    <tr>\n",
       "      <th>2</th>\n",
       "      <td>438428871</td>\n",
       "      <td>Valencia</td>\n",
       "      <td>Alginet</td>\n",
       "      <td>2012</td>\n",
       "      <td>PE</td>\n",
       "      <td>Gas natural</td>\n",
       "      <td>110.00</td>\n",
       "      <td>13.57</td>\n",
       "      <td>0.15</td>\n",
       "      <td>0</td>\n",
       "      <td>0</td>\n",
       "      <td>False</td>\n",
       "      <td>0</td>\n",
       "    </tr>\n",
       "    <tr>\n",
       "      <th>3</th>\n",
       "      <td>429034569</td>\n",
       "      <td>Valencia</td>\n",
       "      <td>Alginet</td>\n",
       "      <td>2012</td>\n",
       "      <td>PE</td>\n",
       "      <td>Gas natural</td>\n",
       "      <td>110.00</td>\n",
       "      <td>327.69</td>\n",
       "      <td>0.15</td>\n",
       "      <td>3</td>\n",
       "      <td>0</td>\n",
       "      <td>False</td>\n",
       "      <td>0</td>\n",
       "    </tr>\n",
       "    <tr>\n",
       "      <th>4</th>\n",
       "      <td>411184477</td>\n",
       "      <td>Valencia</td>\n",
       "      <td>Alginet</td>\n",
       "      <td>2007</td>\n",
       "      <td>PE</td>\n",
       "      <td>Gas natural</td>\n",
       "      <td>200.00</td>\n",
       "      <td>932.76</td>\n",
       "      <td>0.15</td>\n",
       "      <td>0</td>\n",
       "      <td>0</td>\n",
       "      <td>False</td>\n",
       "      <td>0</td>\n",
       "    </tr>\n",
       "  </tbody>\n",
       "</table>\n",
       "</div>"
      ],
      "text/plain": [
       "      PipeId  Province     Town  YearBuilt Material      GasType  Diameter  \\\n",
       "0  446859944  Valencia  Alginet       2012       PE  Gas natural    110.00   \n",
       "1  428124500  Valencia  Alginet       2012       PE  Gas natural    160.00   \n",
       "2  438428871  Valencia  Alginet       2012       PE  Gas natural    110.00   \n",
       "3  429034569  Valencia  Alginet       2012       PE  Gas natural    110.00   \n",
       "4  411184477  Valencia  Alginet       2007       PE  Gas natural    200.00   \n",
       "\n",
       "   Length  Pressure  NumConnections  NumConnectionsUnder  BoolBridle  \\\n",
       "0   44.29      0.15               0                    0       False   \n",
       "1  110.72      0.15               2                    0       False   \n",
       "2   13.57      0.15               0                    0       False   \n",
       "3  327.69      0.15               3                    0       False   \n",
       "4  932.76      0.15               0                    0       False   \n",
       "\n",
       "   Incidence  \n",
       "0          0  \n",
       "1          0  \n",
       "2          0  \n",
       "3          0  \n",
       "4          0  "
      ]
     },
     "execution_count": 69,
     "metadata": {},
     "output_type": "execute_result"
    }
   ],
   "source": [
    "test.head()"
   ]
  },
  {
   "cell_type": "code",
   "execution_count": 70,
   "id": "c3a08a3e",
   "metadata": {},
   "outputs": [
    {
     "data": {
      "text/plain": [
       "PipeId       0\n",
       "Province     0\n",
       "Town         0\n",
       "YearBuilt    0\n",
       "Material     0\n",
       "dtype: int64"
      ]
     },
     "execution_count": 70,
     "metadata": {},
     "output_type": "execute_result"
    }
   ],
   "source": [
    "#Check for null values in test dataset\n",
    "test_null = test.isnull().sum()    \n",
    "test_null.head()"
   ]
  },
  {
   "cell_type": "code",
   "execution_count": 71,
   "id": "c67ffbae",
   "metadata": {},
   "outputs": [],
   "source": [
    "#creating a subset for altering the dataset after initial EDA\n",
    "train_copy = train.copy()"
   ]
  },
  {
   "cell_type": "code",
   "execution_count": 72,
   "id": "b799ec7c",
   "metadata": {},
   "outputs": [
    {
     "data": {
      "text/html": [
       "<div>\n",
       "<style scoped>\n",
       "    .dataframe tbody tr th:only-of-type {\n",
       "        vertical-align: middle;\n",
       "    }\n",
       "\n",
       "    .dataframe tbody tr th {\n",
       "        vertical-align: top;\n",
       "    }\n",
       "\n",
       "    .dataframe thead th {\n",
       "        text-align: right;\n",
       "    }\n",
       "</style>\n",
       "<table border=\"1\" class=\"dataframe\">\n",
       "  <thead>\n",
       "    <tr style=\"text-align: right;\">\n",
       "      <th></th>\n",
       "      <th>PipeId</th>\n",
       "      <th>MaintenanceId</th>\n",
       "      <th>InspectionYear</th>\n",
       "      <th>InspectionDate</th>\n",
       "      <th>MonthsLastRev</th>\n",
       "      <th>Severity</th>\n",
       "      <th>Incidence</th>\n",
       "      <th>Province</th>\n",
       "      <th>Town</th>\n",
       "      <th>YearBuilt</th>\n",
       "      <th>Material</th>\n",
       "      <th>GasType</th>\n",
       "      <th>Diameter</th>\n",
       "      <th>Length</th>\n",
       "      <th>Pressure</th>\n",
       "      <th>NumConnections</th>\n",
       "      <th>NumConnectionsUnder</th>\n",
       "      <th>BoolBridle</th>\n",
       "    </tr>\n",
       "  </thead>\n",
       "  <tbody>\n",
       "    <tr>\n",
       "      <th>64887</th>\n",
       "      <td>185802404</td>\n",
       "      <td>NaN</td>\n",
       "      <td>NaN</td>\n",
       "      <td>NaN</td>\n",
       "      <td>NaN</td>\n",
       "      <td>NaN</td>\n",
       "      <td>NaN</td>\n",
       "      <td>Girona</td>\n",
       "      <td>Puigcerda</td>\n",
       "      <td>2021</td>\n",
       "      <td>PN</td>\n",
       "      <td>Gas natural</td>\n",
       "      <td>110.00</td>\n",
       "      <td>12.01</td>\n",
       "      <td>0.15</td>\n",
       "      <td>1</td>\n",
       "      <td>0</td>\n",
       "      <td>True</td>\n",
       "    </tr>\n",
       "    <tr>\n",
       "      <th>64889</th>\n",
       "      <td>188243116</td>\n",
       "      <td>NaN</td>\n",
       "      <td>NaN</td>\n",
       "      <td>NaN</td>\n",
       "      <td>NaN</td>\n",
       "      <td>NaN</td>\n",
       "      <td>NaN</td>\n",
       "      <td>Girona</td>\n",
       "      <td>Puigcerda</td>\n",
       "      <td>2021</td>\n",
       "      <td>PN</td>\n",
       "      <td>Gas natural</td>\n",
       "      <td>90.00</td>\n",
       "      <td>11.82</td>\n",
       "      <td>0.15</td>\n",
       "      <td>1</td>\n",
       "      <td>0</td>\n",
       "      <td>True</td>\n",
       "    </tr>\n",
       "    <tr>\n",
       "      <th>70787</th>\n",
       "      <td>185839446</td>\n",
       "      <td>NaN</td>\n",
       "      <td>NaN</td>\n",
       "      <td>NaN</td>\n",
       "      <td>NaN</td>\n",
       "      <td>NaN</td>\n",
       "      <td>NaN</td>\n",
       "      <td>Girona</td>\n",
       "      <td>Girona</td>\n",
       "      <td>2021</td>\n",
       "      <td>PN</td>\n",
       "      <td>Gas natural</td>\n",
       "      <td>110.00</td>\n",
       "      <td>5.10</td>\n",
       "      <td>0.03</td>\n",
       "      <td>1</td>\n",
       "      <td>0</td>\n",
       "      <td>True</td>\n",
       "    </tr>\n",
       "    <tr>\n",
       "      <th>70788</th>\n",
       "      <td>186392655</td>\n",
       "      <td>NaN</td>\n",
       "      <td>NaN</td>\n",
       "      <td>NaN</td>\n",
       "      <td>NaN</td>\n",
       "      <td>NaN</td>\n",
       "      <td>NaN</td>\n",
       "      <td>Girona</td>\n",
       "      <td>Girona</td>\n",
       "      <td>2021</td>\n",
       "      <td>PN</td>\n",
       "      <td>Gas natural</td>\n",
       "      <td>63.00</td>\n",
       "      <td>4.51</td>\n",
       "      <td>0.03</td>\n",
       "      <td>1</td>\n",
       "      <td>0</td>\n",
       "      <td>True</td>\n",
       "    </tr>\n",
       "    <tr>\n",
       "      <th>70790</th>\n",
       "      <td>186441076</td>\n",
       "      <td>NaN</td>\n",
       "      <td>NaN</td>\n",
       "      <td>NaN</td>\n",
       "      <td>NaN</td>\n",
       "      <td>NaN</td>\n",
       "      <td>NaN</td>\n",
       "      <td>Girona</td>\n",
       "      <td>Girona</td>\n",
       "      <td>2021</td>\n",
       "      <td>PN</td>\n",
       "      <td>Gas natural</td>\n",
       "      <td>63.00</td>\n",
       "      <td>0.29</td>\n",
       "      <td>0.03</td>\n",
       "      <td>0</td>\n",
       "      <td>0</td>\n",
       "      <td>True</td>\n",
       "    </tr>\n",
       "  </tbody>\n",
       "</table>\n",
       "</div>"
      ],
      "text/plain": [
       "          PipeId MaintenanceId  InspectionYear InspectionDate  MonthsLastRev  \\\n",
       "64887  185802404           NaN             NaN            NaN            NaN   \n",
       "64889  188243116           NaN             NaN            NaN            NaN   \n",
       "70787  185839446           NaN             NaN            NaN            NaN   \n",
       "70788  186392655           NaN             NaN            NaN            NaN   \n",
       "70790  186441076           NaN             NaN            NaN            NaN   \n",
       "\n",
       "       Severity  Incidence Province       Town  YearBuilt Material  \\\n",
       "64887       NaN        NaN   Girona  Puigcerda       2021       PN   \n",
       "64889       NaN        NaN   Girona  Puigcerda       2021       PN   \n",
       "70787       NaN        NaN   Girona     Girona       2021       PN   \n",
       "70788       NaN        NaN   Girona     Girona       2021       PN   \n",
       "70790       NaN        NaN   Girona     Girona       2021       PN   \n",
       "\n",
       "           GasType  Diameter  Length  Pressure  NumConnections  \\\n",
       "64887  Gas natural    110.00   12.01      0.15               1   \n",
       "64889  Gas natural     90.00   11.82      0.15               1   \n",
       "70787  Gas natural    110.00    5.10      0.03               1   \n",
       "70788  Gas natural     63.00    4.51      0.03               1   \n",
       "70790  Gas natural     63.00    0.29      0.03               0   \n",
       "\n",
       "       NumConnectionsUnder  BoolBridle  \n",
       "64887                    0        True  \n",
       "64889                    0        True  \n",
       "70787                    0        True  \n",
       "70788                    0        True  \n",
       "70790                    0        True  "
      ]
     },
     "execution_count": 72,
     "metadata": {},
     "output_type": "execute_result"
    }
   ],
   "source": [
    "#show me a head of train_copy with YearBuilt == 2020\n",
    "train_copy[train_copy['YearBuilt'] > 2020].head()"
   ]
  },
  {
   "attachments": {},
   "cell_type": "markdown",
   "id": "8248cba6",
   "metadata": {},
   "source": [
    "JF: There are 2026 pipes that were built after 2020 in the train data set, these came from the network data set and will be considered new pipes that do not have inspection data yet. We will assume that the inspection year for those was the year of installation (you inspect them when you install them)"
   ]
  },
  {
   "cell_type": "code",
   "execution_count": 73,
   "id": "df9292bc",
   "metadata": {},
   "outputs": [
    {
     "data": {
      "text/plain": [
       "InspectionYear\n",
       "2010.00     93518\n",
       "2011.00    528113\n",
       "2012.00    611594\n",
       "2013.00    581559\n",
       "2014.00    593223\n",
       "2015.00    617187\n",
       "2016.00    627667\n",
       "2017.00    684715\n",
       "2018.00    654861\n",
       "2019.00    694584\n",
       "2020.00    656878\n",
       "2021.00      1445\n",
       "Name: InspectionYear, dtype: int64"
      ]
     },
     "execution_count": 73,
     "metadata": {},
     "output_type": "execute_result"
    }
   ],
   "source": [
    "#show me nulls for InspectionYear for every year in train_copy\n",
    "train_copy.groupby('InspectionYear')['InspectionYear'].count()"
   ]
  },
  {
   "cell_type": "code",
   "execution_count": 74,
   "id": "530b9ac9",
   "metadata": {},
   "outputs": [
    {
     "data": {
      "text/plain": [
       "PipeId                     0\n",
       "MaintenanceId          18685\n",
       "InspectionYear         18685\n",
       "InspectionDate         18685\n",
       "MonthsLastRev          18685\n",
       "Severity               18685\n",
       "Incidence              18685\n",
       "Province                   0\n",
       "Town                       0\n",
       "YearBuilt                  0\n",
       "Material                   0\n",
       "GasType                    0\n",
       "Diameter                   0\n",
       "Length                     0\n",
       "Pressure                   0\n",
       "NumConnections             0\n",
       "NumConnectionsUnder        0\n",
       "BoolBridle                 0\n",
       "dtype: int64"
      ]
     },
     "execution_count": 74,
     "metadata": {},
     "output_type": "execute_result"
    }
   ],
   "source": [
    "train_copy.isnull().sum()"
   ]
  },
  {
   "cell_type": "code",
   "execution_count": 75,
   "id": "667145ba",
   "metadata": {},
   "outputs": [
    {
     "data": {
      "text/plain": [
       "(7672, 18)"
      ]
     },
     "execution_count": 75,
     "metadata": {},
     "output_type": "execute_result"
    }
   ],
   "source": [
    "#show me a head of train_copy with YearBuilt higher than InspectionYear and count them\n",
    "train_copy[(train_copy['YearBuilt'] > train_copy['InspectionYear'])].shape"
   ]
  },
  {
   "attachments": {},
   "cell_type": "markdown",
   "id": "6e372052",
   "metadata": {},
   "source": [
    "# Feature Engineering on combined dataset\n",
    "\n",
    "As a result of merging both datasets we now have pipeline duplicates per each maintenace_id operation. Before getting rid of the duplicates, we want to engineer some metrics interesting to the model such as number of operations, number of incidents and average risk based on severity*incidence"
   ]
  },
  {
   "cell_type": "code",
   "execution_count": 76,
   "id": "ccf9de53",
   "metadata": {},
   "outputs": [
    {
     "data": {
      "text/plain": [
       "'No_Incidents'"
      ]
     },
     "execution_count": 76,
     "metadata": {},
     "output_type": "execute_result"
    },
    {
     "data": {
      "text/html": [
       "<div>\n",
       "<style scoped>\n",
       "    .dataframe tbody tr th:only-of-type {\n",
       "        vertical-align: middle;\n",
       "    }\n",
       "\n",
       "    .dataframe tbody tr th {\n",
       "        vertical-align: top;\n",
       "    }\n",
       "\n",
       "    .dataframe thead th {\n",
       "        text-align: right;\n",
       "    }\n",
       "</style>\n",
       "<table border=\"1\" class=\"dataframe\">\n",
       "  <thead>\n",
       "    <tr style=\"text-align: right;\">\n",
       "      <th></th>\n",
       "      <th>PipeId</th>\n",
       "      <th>MaintenanceId</th>\n",
       "      <th>No_Inspections</th>\n",
       "      <th>No_Incidents</th>\n",
       "      <th>InspectionYear</th>\n",
       "      <th>InspectionDate</th>\n",
       "      <th>MonthsLastRev</th>\n",
       "      <th>Severity</th>\n",
       "      <th>Incidence</th>\n",
       "      <th>Province</th>\n",
       "      <th>Town</th>\n",
       "      <th>YearBuilt</th>\n",
       "      <th>Material</th>\n",
       "      <th>GasType</th>\n",
       "      <th>Diameter</th>\n",
       "      <th>Length</th>\n",
       "      <th>Pressure</th>\n",
       "      <th>NumConnections</th>\n",
       "      <th>NumConnectionsUnder</th>\n",
       "      <th>BoolBridle</th>\n",
       "    </tr>\n",
       "  </thead>\n",
       "  <tbody>\n",
       "    <tr>\n",
       "      <th>637351</th>\n",
       "      <td>2157313</td>\n",
       "      <td>ZRV-00003476</td>\n",
       "      <td>5</td>\n",
       "      <td>3.00</td>\n",
       "      <td>2012.00</td>\n",
       "      <td>2012-11-28</td>\n",
       "      <td>10.00</td>\n",
       "      <td>4.00</td>\n",
       "      <td>0.00</td>\n",
       "      <td>Sevilla</td>\n",
       "      <td>Mairena del Aljarafe</td>\n",
       "      <td>2012</td>\n",
       "      <td>CU</td>\n",
       "      <td>Gas natural</td>\n",
       "      <td>15.00</td>\n",
       "      <td>25.58</td>\n",
       "      <td>4.00</td>\n",
       "      <td>2</td>\n",
       "      <td>0</td>\n",
       "      <td>True</td>\n",
       "    </tr>\n",
       "    <tr>\n",
       "      <th>637352</th>\n",
       "      <td>2157313</td>\n",
       "      <td>ZRV-00003476</td>\n",
       "      <td>5</td>\n",
       "      <td>3.00</td>\n",
       "      <td>2014.00</td>\n",
       "      <td>2014-12-10</td>\n",
       "      <td>35.00</td>\n",
       "      <td>3.00</td>\n",
       "      <td>1.00</td>\n",
       "      <td>Sevilla</td>\n",
       "      <td>Mairena del Aljarafe</td>\n",
       "      <td>2012</td>\n",
       "      <td>CU</td>\n",
       "      <td>Gas natural</td>\n",
       "      <td>15.00</td>\n",
       "      <td>25.58</td>\n",
       "      <td>4.00</td>\n",
       "      <td>2</td>\n",
       "      <td>0</td>\n",
       "      <td>True</td>\n",
       "    </tr>\n",
       "  </tbody>\n",
       "</table>\n",
       "</div>"
      ],
      "text/plain": [
       "         PipeId MaintenanceId  No_Inspections  No_Incidents  InspectionYear  \\\n",
       "637351  2157313  ZRV-00003476               5          3.00         2012.00   \n",
       "637352  2157313  ZRV-00003476               5          3.00         2014.00   \n",
       "\n",
       "       InspectionDate  MonthsLastRev  Severity  Incidence Province  \\\n",
       "637351     2012-11-28          10.00      4.00       0.00  Sevilla   \n",
       "637352     2014-12-10          35.00      3.00       1.00  Sevilla   \n",
       "\n",
       "                        Town  YearBuilt Material      GasType  Diameter  \\\n",
       "637351  Mairena del Aljarafe       2012       CU  Gas natural     15.00   \n",
       "637352  Mairena del Aljarafe       2012       CU  Gas natural     15.00   \n",
       "\n",
       "        Length  Pressure  NumConnections  NumConnectionsUnder  BoolBridle  \n",
       "637351   25.58      4.00               2                    0        True  \n",
       "637352   25.58      4.00               2                    0        True  "
      ]
     },
     "execution_count": 76,
     "metadata": {},
     "output_type": "execute_result"
    }
   ],
   "source": [
    "#create a new column counting the number of inspections (MaintenanceId) per PipeId\n",
    "train_copy['No_Inspections'] = train_copy.groupby('PipeId')['MaintenanceId'].transform('count')\n",
    "#aggregate the number of Incidents per pipe in a new column and place it in the fourth position\n",
    "train_copy['No_Incidents'] = train_copy.groupby('PipeId')['Incidence'].transform('sum')\n",
    "#place the new columns in the third position\n",
    "cols = list(train_copy.columns.values)\n",
    "cols.pop(cols.index('No_Incidents'))\n",
    "train_copy = train_copy[['PipeId', 'MaintenanceId', 'No_Inspections', 'No_Incidents', 'InspectionYear', 'InspectionDate',\n",
    "       'MonthsLastRev', 'Severity', 'Incidence', 'Province', 'Town',\n",
    "       'YearBuilt', 'Material', 'GasType', 'Diameter', 'Length', 'Pressure',\n",
    "       'NumConnections', 'NumConnectionsUnder', 'BoolBridle']]\n",
    "#show head of rows only where No_Incidents is greater than 0\n",
    "train_copy[train_copy['No_Incidents'] > 2].head(2)\n"
   ]
  },
  {
   "cell_type": "code",
   "execution_count": 77,
   "id": "9d9fcef1",
   "metadata": {},
   "outputs": [
    {
     "data": {
      "text/plain": [
       "Index(['PipeId', 'MaintenanceId', 'No_Inspections', 'No_Incidents',\n",
       "       'InspectionYear', 'InspectionDate', 'MonthsLastRev', 'Severity',\n",
       "       'Incidence', 'Province', 'Town', 'YearBuilt', 'Material', 'GasType',\n",
       "       'Diameter', 'Length', 'Pressure', 'NumConnections',\n",
       "       'NumConnectionsUnder', 'BoolBridle'],\n",
       "      dtype='object')"
      ]
     },
     "execution_count": 77,
     "metadata": {},
     "output_type": "execute_result"
    }
   ],
   "source": [
    "train_copy.columns"
   ]
  },
  {
   "cell_type": "code",
   "execution_count": 78,
   "id": "5e7a1ceb",
   "metadata": {},
   "outputs": [
    {
     "data": {
      "text/html": [
       "<div>\n",
       "<style scoped>\n",
       "    .dataframe tbody tr th:only-of-type {\n",
       "        vertical-align: middle;\n",
       "    }\n",
       "\n",
       "    .dataframe tbody tr th {\n",
       "        vertical-align: top;\n",
       "    }\n",
       "\n",
       "    .dataframe thead th {\n",
       "        text-align: right;\n",
       "    }\n",
       "</style>\n",
       "<table border=\"1\" class=\"dataframe\">\n",
       "  <thead>\n",
       "    <tr style=\"text-align: right;\">\n",
       "      <th></th>\n",
       "      <th>PipeId</th>\n",
       "      <th>MaintenanceId</th>\n",
       "      <th>No_Inspections</th>\n",
       "      <th>No_Incidents</th>\n",
       "      <th>InspectionYear</th>\n",
       "      <th>InspectionDate</th>\n",
       "      <th>MonthsLastRev</th>\n",
       "      <th>Severity</th>\n",
       "      <th>Incidence</th>\n",
       "      <th>Province</th>\n",
       "      <th>Town</th>\n",
       "      <th>YearBuilt</th>\n",
       "      <th>Material</th>\n",
       "      <th>GasType</th>\n",
       "      <th>Diameter</th>\n",
       "      <th>Length</th>\n",
       "      <th>Pressure</th>\n",
       "      <th>NumConnections</th>\n",
       "      <th>NumConnectionsUnder</th>\n",
       "      <th>BoolBridle</th>\n",
       "      <th>average_severity_pipe</th>\n",
       "    </tr>\n",
       "  </thead>\n",
       "  <tbody>\n",
       "    <tr>\n",
       "      <th>12371</th>\n",
       "      <td>35790261</td>\n",
       "      <td>ZRV-00007259</td>\n",
       "      <td>2</td>\n",
       "      <td>1.00</td>\n",
       "      <td>2018.00</td>\n",
       "      <td>2018-02-23</td>\n",
       "      <td>9.00</td>\n",
       "      <td>3.00</td>\n",
       "      <td>1.00</td>\n",
       "      <td>Córdoba</td>\n",
       "      <td>Lucena</td>\n",
       "      <td>2016</td>\n",
       "      <td>PE</td>\n",
       "      <td>Gas natural</td>\n",
       "      <td>32.00</td>\n",
       "      <td>87.83</td>\n",
       "      <td>0.15</td>\n",
       "      <td>12</td>\n",
       "      <td>0</td>\n",
       "      <td>False</td>\n",
       "      <td>3.50</td>\n",
       "    </tr>\n",
       "    <tr>\n",
       "      <th>12372</th>\n",
       "      <td>35790261</td>\n",
       "      <td>ZRV-00003409</td>\n",
       "      <td>2</td>\n",
       "      <td>1.00</td>\n",
       "      <td>2020.00</td>\n",
       "      <td>2020-05-20</td>\n",
       "      <td>27.00</td>\n",
       "      <td>4.00</td>\n",
       "      <td>0.00</td>\n",
       "      <td>Córdoba</td>\n",
       "      <td>Lucena</td>\n",
       "      <td>2016</td>\n",
       "      <td>PE</td>\n",
       "      <td>Gas natural</td>\n",
       "      <td>32.00</td>\n",
       "      <td>87.83</td>\n",
       "      <td>0.15</td>\n",
       "      <td>12</td>\n",
       "      <td>0</td>\n",
       "      <td>False</td>\n",
       "      <td>3.50</td>\n",
       "    </tr>\n",
       "    <tr>\n",
       "      <th>12725</th>\n",
       "      <td>3663205</td>\n",
       "      <td>ZRV-00003435</td>\n",
       "      <td>4</td>\n",
       "      <td>1.00</td>\n",
       "      <td>2013.00</td>\n",
       "      <td>2013-05-15</td>\n",
       "      <td>16.00</td>\n",
       "      <td>3.00</td>\n",
       "      <td>1.00</td>\n",
       "      <td>Granada</td>\n",
       "      <td>Granada</td>\n",
       "      <td>2012</td>\n",
       "      <td>PE</td>\n",
       "      <td>Gas natural</td>\n",
       "      <td>110.00</td>\n",
       "      <td>194.41</td>\n",
       "      <td>0.40</td>\n",
       "      <td>8</td>\n",
       "      <td>0</td>\n",
       "      <td>False</td>\n",
       "      <td>3.75</td>\n",
       "    </tr>\n",
       "    <tr>\n",
       "      <th>12726</th>\n",
       "      <td>3663205</td>\n",
       "      <td>ZRV-00003435</td>\n",
       "      <td>4</td>\n",
       "      <td>1.00</td>\n",
       "      <td>2015.00</td>\n",
       "      <td>2015-05-26</td>\n",
       "      <td>24.00</td>\n",
       "      <td>4.00</td>\n",
       "      <td>0.00</td>\n",
       "      <td>Granada</td>\n",
       "      <td>Granada</td>\n",
       "      <td>2012</td>\n",
       "      <td>PE</td>\n",
       "      <td>Gas natural</td>\n",
       "      <td>110.00</td>\n",
       "      <td>194.41</td>\n",
       "      <td>0.40</td>\n",
       "      <td>8</td>\n",
       "      <td>0</td>\n",
       "      <td>False</td>\n",
       "      <td>3.75</td>\n",
       "    </tr>\n",
       "    <tr>\n",
       "      <th>12727</th>\n",
       "      <td>3663205</td>\n",
       "      <td>ZRV-00003435</td>\n",
       "      <td>4</td>\n",
       "      <td>1.00</td>\n",
       "      <td>2017.00</td>\n",
       "      <td>2017-05-10</td>\n",
       "      <td>24.00</td>\n",
       "      <td>4.00</td>\n",
       "      <td>0.00</td>\n",
       "      <td>Granada</td>\n",
       "      <td>Granada</td>\n",
       "      <td>2012</td>\n",
       "      <td>PE</td>\n",
       "      <td>Gas natural</td>\n",
       "      <td>110.00</td>\n",
       "      <td>194.41</td>\n",
       "      <td>0.40</td>\n",
       "      <td>8</td>\n",
       "      <td>0</td>\n",
       "      <td>False</td>\n",
       "      <td>3.75</td>\n",
       "    </tr>\n",
       "    <tr>\n",
       "      <th>12728</th>\n",
       "      <td>3663205</td>\n",
       "      <td>ZRV-00003435</td>\n",
       "      <td>4</td>\n",
       "      <td>1.00</td>\n",
       "      <td>2019.00</td>\n",
       "      <td>2019-05-10</td>\n",
       "      <td>24.00</td>\n",
       "      <td>4.00</td>\n",
       "      <td>0.00</td>\n",
       "      <td>Granada</td>\n",
       "      <td>Granada</td>\n",
       "      <td>2012</td>\n",
       "      <td>PE</td>\n",
       "      <td>Gas natural</td>\n",
       "      <td>110.00</td>\n",
       "      <td>194.41</td>\n",
       "      <td>0.40</td>\n",
       "      <td>8</td>\n",
       "      <td>0</td>\n",
       "      <td>False</td>\n",
       "      <td>3.75</td>\n",
       "    </tr>\n",
       "    <tr>\n",
       "      <th>15120</th>\n",
       "      <td>228066029</td>\n",
       "      <td>ZRV-00003435</td>\n",
       "      <td>5</td>\n",
       "      <td>1.00</td>\n",
       "      <td>2012.00</td>\n",
       "      <td>2012-03-22</td>\n",
       "      <td>22.00</td>\n",
       "      <td>4.00</td>\n",
       "      <td>0.00</td>\n",
       "      <td>Granada</td>\n",
       "      <td>Granada</td>\n",
       "      <td>1998</td>\n",
       "      <td>PE</td>\n",
       "      <td>Gas natural</td>\n",
       "      <td>200.00</td>\n",
       "      <td>171.11</td>\n",
       "      <td>0.15</td>\n",
       "      <td>5</td>\n",
       "      <td>0</td>\n",
       "      <td>False</td>\n",
       "      <td>3.80</td>\n",
       "    </tr>\n",
       "    <tr>\n",
       "      <th>15121</th>\n",
       "      <td>228066029</td>\n",
       "      <td>ZRV-00003435</td>\n",
       "      <td>5</td>\n",
       "      <td>1.00</td>\n",
       "      <td>2013.00</td>\n",
       "      <td>2013-05-27</td>\n",
       "      <td>14.00</td>\n",
       "      <td>4.00</td>\n",
       "      <td>0.00</td>\n",
       "      <td>Granada</td>\n",
       "      <td>Granada</td>\n",
       "      <td>1998</td>\n",
       "      <td>PE</td>\n",
       "      <td>Gas natural</td>\n",
       "      <td>200.00</td>\n",
       "      <td>171.11</td>\n",
       "      <td>0.15</td>\n",
       "      <td>5</td>\n",
       "      <td>0</td>\n",
       "      <td>False</td>\n",
       "      <td>3.80</td>\n",
       "    </tr>\n",
       "    <tr>\n",
       "      <th>15122</th>\n",
       "      <td>228066029</td>\n",
       "      <td>ZRV-00003435</td>\n",
       "      <td>5</td>\n",
       "      <td>1.00</td>\n",
       "      <td>2015.00</td>\n",
       "      <td>2015-05-06</td>\n",
       "      <td>24.00</td>\n",
       "      <td>4.00</td>\n",
       "      <td>0.00</td>\n",
       "      <td>Granada</td>\n",
       "      <td>Granada</td>\n",
       "      <td>1998</td>\n",
       "      <td>PE</td>\n",
       "      <td>Gas natural</td>\n",
       "      <td>200.00</td>\n",
       "      <td>171.11</td>\n",
       "      <td>0.15</td>\n",
       "      <td>5</td>\n",
       "      <td>0</td>\n",
       "      <td>False</td>\n",
       "      <td>3.80</td>\n",
       "    </tr>\n",
       "    <tr>\n",
       "      <th>15123</th>\n",
       "      <td>228066029</td>\n",
       "      <td>ZRV-00003435</td>\n",
       "      <td>5</td>\n",
       "      <td>1.00</td>\n",
       "      <td>2017.00</td>\n",
       "      <td>2017-05-08</td>\n",
       "      <td>24.00</td>\n",
       "      <td>3.00</td>\n",
       "      <td>1.00</td>\n",
       "      <td>Granada</td>\n",
       "      <td>Granada</td>\n",
       "      <td>1998</td>\n",
       "      <td>PE</td>\n",
       "      <td>Gas natural</td>\n",
       "      <td>200.00</td>\n",
       "      <td>171.11</td>\n",
       "      <td>0.15</td>\n",
       "      <td>5</td>\n",
       "      <td>0</td>\n",
       "      <td>False</td>\n",
       "      <td>3.80</td>\n",
       "    </tr>\n",
       "  </tbody>\n",
       "</table>\n",
       "</div>"
      ],
      "text/plain": [
       "          PipeId MaintenanceId  No_Inspections  No_Incidents  InspectionYear  \\\n",
       "12371   35790261  ZRV-00007259               2          1.00         2018.00   \n",
       "12372   35790261  ZRV-00003409               2          1.00         2020.00   \n",
       "12725    3663205  ZRV-00003435               4          1.00         2013.00   \n",
       "12726    3663205  ZRV-00003435               4          1.00         2015.00   \n",
       "12727    3663205  ZRV-00003435               4          1.00         2017.00   \n",
       "12728    3663205  ZRV-00003435               4          1.00         2019.00   \n",
       "15120  228066029  ZRV-00003435               5          1.00         2012.00   \n",
       "15121  228066029  ZRV-00003435               5          1.00         2013.00   \n",
       "15122  228066029  ZRV-00003435               5          1.00         2015.00   \n",
       "15123  228066029  ZRV-00003435               5          1.00         2017.00   \n",
       "\n",
       "      InspectionDate  MonthsLastRev  Severity  Incidence Province     Town  \\\n",
       "12371     2018-02-23           9.00      3.00       1.00  Córdoba   Lucena   \n",
       "12372     2020-05-20          27.00      4.00       0.00  Córdoba   Lucena   \n",
       "12725     2013-05-15          16.00      3.00       1.00  Granada  Granada   \n",
       "12726     2015-05-26          24.00      4.00       0.00  Granada  Granada   \n",
       "12727     2017-05-10          24.00      4.00       0.00  Granada  Granada   \n",
       "12728     2019-05-10          24.00      4.00       0.00  Granada  Granada   \n",
       "15120     2012-03-22          22.00      4.00       0.00  Granada  Granada   \n",
       "15121     2013-05-27          14.00      4.00       0.00  Granada  Granada   \n",
       "15122     2015-05-06          24.00      4.00       0.00  Granada  Granada   \n",
       "15123     2017-05-08          24.00      3.00       1.00  Granada  Granada   \n",
       "\n",
       "       YearBuilt Material      GasType  Diameter  Length  Pressure  \\\n",
       "12371       2016       PE  Gas natural     32.00   87.83      0.15   \n",
       "12372       2016       PE  Gas natural     32.00   87.83      0.15   \n",
       "12725       2012       PE  Gas natural    110.00  194.41      0.40   \n",
       "12726       2012       PE  Gas natural    110.00  194.41      0.40   \n",
       "12727       2012       PE  Gas natural    110.00  194.41      0.40   \n",
       "12728       2012       PE  Gas natural    110.00  194.41      0.40   \n",
       "15120       1998       PE  Gas natural    200.00  171.11      0.15   \n",
       "15121       1998       PE  Gas natural    200.00  171.11      0.15   \n",
       "15122       1998       PE  Gas natural    200.00  171.11      0.15   \n",
       "15123       1998       PE  Gas natural    200.00  171.11      0.15   \n",
       "\n",
       "       NumConnections  NumConnectionsUnder  BoolBridle  average_severity_pipe  \n",
       "12371              12                    0       False                   3.50  \n",
       "12372              12                    0       False                   3.50  \n",
       "12725               8                    0       False                   3.75  \n",
       "12726               8                    0       False                   3.75  \n",
       "12727               8                    0       False                   3.75  \n",
       "12728               8                    0       False                   3.75  \n",
       "15120               5                    0       False                   3.80  \n",
       "15121               5                    0       False                   3.80  \n",
       "15122               5                    0       False                   3.80  \n",
       "15123               5                    0       False                   3.80  "
      ]
     },
     "execution_count": 78,
     "metadata": {},
     "output_type": "execute_result"
    },
    {
     "data": {
      "text/plain": [
       "'average_severity_pipe'"
      ]
     },
     "execution_count": 78,
     "metadata": {},
     "output_type": "execute_result"
    }
   ],
   "source": [
    "#create a column named average_severity_pipe that calculates the average severity per pipe aggregating all severities\n",
    "train_copy['average_severity_pipe'] = train_copy.groupby('PipeId')['Severity'].transform('mean')\n",
    "#show head of rows only where mean has a decimal value\n",
    "train_copy[train_copy['average_severity_pipe'] % 1 != 0].head(10)\n",
    "#place the new column in 7th position\n",
    "cols = list(train_copy.columns.values)\n",
    "cols.pop(cols.index('average_severity_pipe'))\n",
    "train_copy = train_copy[['PipeId', 'No_Inspections', 'No_Incidents', 'InspectionYear',\n",
    "       'InspectionDate', 'MonthsLastRev', 'average_severity_pipe','Severity', 'Incidence', 'Province',\n",
    "       'Town', 'YearBuilt', 'Material', 'GasType', 'Diameter', 'Length',\n",
    "       'Pressure', 'NumConnections', 'NumConnectionsUnder', 'BoolBridle']]\n"
   ]
  },
  {
   "cell_type": "code",
   "execution_count": 79,
   "id": "2fdfea3b",
   "metadata": {},
   "outputs": [
    {
     "data": {
      "text/plain": [
       "'relative_risk'"
      ]
     },
     "execution_count": 79,
     "metadata": {},
     "output_type": "execute_result"
    }
   ],
   "source": [
    "#create a column taking average severity and number of total incidences per pipe multiplying them and naming it as risk_(s*i)\n",
    "train_copy['relative_risk'] = train_copy['average_severity_pipe'] * train_copy['No_Incidents'] \n",
    "#position the new column in the 7th position\n",
    "cols = list(train_copy.columns.values)\n",
    "cols.pop(cols.index('relative_risk'))\n",
    "train_copy = train_copy[['PipeId', 'No_Inspections', 'No_Incidents', 'InspectionYear',\n",
    "       'InspectionDate', 'MonthsLastRev','relative_risk', 'average_severity_pipe', 'Severity',\n",
    "       'Incidence', 'Province', 'Town', 'YearBuilt', 'Material', 'GasType',\n",
    "       'Diameter', 'Length', 'Pressure', 'NumConnections',\n",
    "       'NumConnectionsUnder', 'BoolBridle']]"
   ]
  },
  {
   "attachments": {},
   "cell_type": "markdown",
   "id": "8bd590dc",
   "metadata": {},
   "source": [
    "This new column allows us to have a measure of risk by adding the mean aggregate of severity for an specific pipe and the aggregate number of incidents that we just created above"
   ]
  },
  {
   "cell_type": "code",
   "execution_count": 80,
   "id": "89039b1a",
   "metadata": {},
   "outputs": [
    {
     "data": {
      "text/html": [
       "<div>\n",
       "<style scoped>\n",
       "    .dataframe tbody tr th:only-of-type {\n",
       "        vertical-align: middle;\n",
       "    }\n",
       "\n",
       "    .dataframe tbody tr th {\n",
       "        vertical-align: top;\n",
       "    }\n",
       "\n",
       "    .dataframe thead th {\n",
       "        text-align: right;\n",
       "    }\n",
       "</style>\n",
       "<table border=\"1\" class=\"dataframe\">\n",
       "  <thead>\n",
       "    <tr style=\"text-align: right;\">\n",
       "      <th></th>\n",
       "      <th>PipeId</th>\n",
       "      <th>No_Inspections</th>\n",
       "      <th>No_Incidents</th>\n",
       "      <th>InspectionYear</th>\n",
       "      <th>InspectionDate</th>\n",
       "      <th>MonthsLastRev</th>\n",
       "      <th>relative_risk</th>\n",
       "      <th>average_severity_pipe</th>\n",
       "      <th>Severity</th>\n",
       "      <th>Incidence</th>\n",
       "      <th>Province</th>\n",
       "      <th>Town</th>\n",
       "      <th>YearBuilt</th>\n",
       "      <th>Material</th>\n",
       "      <th>GasType</th>\n",
       "      <th>Diameter</th>\n",
       "      <th>Length</th>\n",
       "      <th>Pressure</th>\n",
       "      <th>NumConnections</th>\n",
       "      <th>NumConnectionsUnder</th>\n",
       "      <th>BoolBridle</th>\n",
       "    </tr>\n",
       "  </thead>\n",
       "  <tbody>\n",
       "    <tr>\n",
       "      <th>3686852</th>\n",
       "      <td>308090921</td>\n",
       "      <td>6</td>\n",
       "      <td>4.00</td>\n",
       "      <td>2011.00</td>\n",
       "      <td>2011-01-20</td>\n",
       "      <td>16.00</td>\n",
       "      <td>13.33</td>\n",
       "      <td>3.33</td>\n",
       "      <td>3.00</td>\n",
       "      <td>1.00</td>\n",
       "      <td>Madrid</td>\n",
       "      <td>Madrid</td>\n",
       "      <td>1995</td>\n",
       "      <td>PE</td>\n",
       "      <td>Gas natural</td>\n",
       "      <td>200.00</td>\n",
       "      <td>83.47</td>\n",
       "      <td>0.03</td>\n",
       "      <td>11</td>\n",
       "      <td>0</td>\n",
       "      <td>False</td>\n",
       "    </tr>\n",
       "    <tr>\n",
       "      <th>3686853</th>\n",
       "      <td>308090921</td>\n",
       "      <td>6</td>\n",
       "      <td>4.00</td>\n",
       "      <td>2012.00</td>\n",
       "      <td>2012-10-23</td>\n",
       "      <td>21.00</td>\n",
       "      <td>13.33</td>\n",
       "      <td>3.33</td>\n",
       "      <td>3.00</td>\n",
       "      <td>1.00</td>\n",
       "      <td>Madrid</td>\n",
       "      <td>Madrid</td>\n",
       "      <td>1995</td>\n",
       "      <td>PE</td>\n",
       "      <td>Gas natural</td>\n",
       "      <td>200.00</td>\n",
       "      <td>83.47</td>\n",
       "      <td>0.03</td>\n",
       "      <td>11</td>\n",
       "      <td>0</td>\n",
       "      <td>False</td>\n",
       "    </tr>\n",
       "  </tbody>\n",
       "</table>\n",
       "</div>"
      ],
      "text/plain": [
       "            PipeId  No_Inspections  No_Incidents  InspectionYear  \\\n",
       "3686852  308090921               6          4.00         2011.00   \n",
       "3686853  308090921               6          4.00         2012.00   \n",
       "\n",
       "        InspectionDate  MonthsLastRev  relative_risk  average_severity_pipe  \\\n",
       "3686852     2011-01-20          16.00          13.33                   3.33   \n",
       "3686853     2012-10-23          21.00          13.33                   3.33   \n",
       "\n",
       "         Severity  Incidence Province    Town  YearBuilt Material  \\\n",
       "3686852      3.00       1.00   Madrid  Madrid       1995       PE   \n",
       "3686853      3.00       1.00   Madrid  Madrid       1995       PE   \n",
       "\n",
       "             GasType  Diameter  Length  Pressure  NumConnections  \\\n",
       "3686852  Gas natural    200.00   83.47      0.03              11   \n",
       "3686853  Gas natural    200.00   83.47      0.03              11   \n",
       "\n",
       "         NumConnectionsUnder  BoolBridle  \n",
       "3686852                    0       False  \n",
       "3686853                    0       False  "
      ]
     },
     "execution_count": 80,
     "metadata": {},
     "output_type": "execute_result"
    }
   ],
   "source": [
    "#show head of rows only where Risk_S*I is greater than 0\n",
    "train_copy[train_copy['relative_risk'] > 12].head(2)"
   ]
  },
  {
   "cell_type": "code",
   "execution_count": 81,
   "id": "7df6bebb",
   "metadata": {},
   "outputs": [
    {
     "data": {
      "application/vnd.plotly.v1+json": {
       "config": {
        "plotlyServerURL": "https://plot.ly"
       },
       "data": [
        {
         "branchvalues": "total",
         "domain": {
          "x": [
           0,
           1
          ],
          "y": [
           0,
           1
          ]
         },
         "hovertemplate": "labels=%{label}<br>relative_risk=%{value}<br>parent=%{parent}<br>id=%{id}<extra></extra>",
         "ids": [
          "FD/1950",
          "PE/1950",
          "FD/1969",
          "FD/1980",
          "PE/1980",
          "PE/1985",
          "AO/1987",
          "PE/1987",
          "FD/1988",
          "PE/1988",
          "FD/1991",
          "PE/1991",
          "FD/1992",
          "PE/1992",
          "PE/1993",
          "PE/1994",
          "PE/1995",
          "PE/1996",
          "PE/1997",
          "PE/2002",
          "PE/2004",
          "CU/2012",
          "CU/2013",
          "FD/2014",
          "PE/2015",
          "AO",
          "CU",
          "FD",
          "PE"
         ],
         "labels": [
          "1950",
          "1950",
          "1969",
          "1980",
          "1980",
          "1985",
          "1987",
          "1987",
          "1988",
          "1988",
          "1991",
          "1991",
          "1992",
          "1992",
          "1993",
          "1994",
          "1995",
          "1996",
          "1997",
          "2002",
          "2004",
          "2012",
          "2013",
          "2014",
          "2015",
          "AO",
          "CU",
          "FD",
          "PE"
         ],
         "name": "",
         "parents": [
          "FD",
          "PE",
          "FD",
          "FD",
          "PE",
          "PE",
          "AO",
          "PE",
          "FD",
          "PE",
          "FD",
          "PE",
          "FD",
          "PE",
          "PE",
          "PE",
          "PE",
          "PE",
          "PE",
          "PE",
          "PE",
          "CU",
          "CU",
          "FD",
          "PE",
          "",
          "",
          "",
          ""
         ],
         "type": "treemap",
         "values": [
          90,
          102,
          87,
          48.00000000000001,
          39,
          48.00000000000001,
          63,
          60,
          57,
          48.00000000000001,
          60,
          153,
          64,
          51,
          240,
          423,
          472,
          48.00000000000001,
          165,
          63,
          60,
          90,
          39,
          90,
          39,
          63,
          129,
          496,
          2011
         ]
        }
       ],
       "layout": {
        "legend": {
         "tracegroupgap": 0
        },
        "margin": {
         "t": 60
        },
        "template": {
         "data": {
          "bar": [
           {
            "error_x": {
             "color": "#2a3f5f"
            },
            "error_y": {
             "color": "#2a3f5f"
            },
            "marker": {
             "line": {
              "color": "#E5ECF6",
              "width": 0.5
             },
             "pattern": {
              "fillmode": "overlay",
              "size": 10,
              "solidity": 0.2
             }
            },
            "type": "bar"
           }
          ],
          "barpolar": [
           {
            "marker": {
             "line": {
              "color": "#E5ECF6",
              "width": 0.5
             },
             "pattern": {
              "fillmode": "overlay",
              "size": 10,
              "solidity": 0.2
             }
            },
            "type": "barpolar"
           }
          ],
          "carpet": [
           {
            "aaxis": {
             "endlinecolor": "#2a3f5f",
             "gridcolor": "white",
             "linecolor": "white",
             "minorgridcolor": "white",
             "startlinecolor": "#2a3f5f"
            },
            "baxis": {
             "endlinecolor": "#2a3f5f",
             "gridcolor": "white",
             "linecolor": "white",
             "minorgridcolor": "white",
             "startlinecolor": "#2a3f5f"
            },
            "type": "carpet"
           }
          ],
          "choropleth": [
           {
            "colorbar": {
             "outlinewidth": 0,
             "ticks": ""
            },
            "type": "choropleth"
           }
          ],
          "contour": [
           {
            "colorbar": {
             "outlinewidth": 0,
             "ticks": ""
            },
            "colorscale": [
             [
              0,
              "#0d0887"
             ],
             [
              0.1111111111111111,
              "#46039f"
             ],
             [
              0.2222222222222222,
              "#7201a8"
             ],
             [
              0.3333333333333333,
              "#9c179e"
             ],
             [
              0.4444444444444444,
              "#bd3786"
             ],
             [
              0.5555555555555556,
              "#d8576b"
             ],
             [
              0.6666666666666666,
              "#ed7953"
             ],
             [
              0.7777777777777778,
              "#fb9f3a"
             ],
             [
              0.8888888888888888,
              "#fdca26"
             ],
             [
              1,
              "#f0f921"
             ]
            ],
            "type": "contour"
           }
          ],
          "contourcarpet": [
           {
            "colorbar": {
             "outlinewidth": 0,
             "ticks": ""
            },
            "type": "contourcarpet"
           }
          ],
          "heatmap": [
           {
            "colorbar": {
             "outlinewidth": 0,
             "ticks": ""
            },
            "colorscale": [
             [
              0,
              "#0d0887"
             ],
             [
              0.1111111111111111,
              "#46039f"
             ],
             [
              0.2222222222222222,
              "#7201a8"
             ],
             [
              0.3333333333333333,
              "#9c179e"
             ],
             [
              0.4444444444444444,
              "#bd3786"
             ],
             [
              0.5555555555555556,
              "#d8576b"
             ],
             [
              0.6666666666666666,
              "#ed7953"
             ],
             [
              0.7777777777777778,
              "#fb9f3a"
             ],
             [
              0.8888888888888888,
              "#fdca26"
             ],
             [
              1,
              "#f0f921"
             ]
            ],
            "type": "heatmap"
           }
          ],
          "heatmapgl": [
           {
            "colorbar": {
             "outlinewidth": 0,
             "ticks": ""
            },
            "colorscale": [
             [
              0,
              "#0d0887"
             ],
             [
              0.1111111111111111,
              "#46039f"
             ],
             [
              0.2222222222222222,
              "#7201a8"
             ],
             [
              0.3333333333333333,
              "#9c179e"
             ],
             [
              0.4444444444444444,
              "#bd3786"
             ],
             [
              0.5555555555555556,
              "#d8576b"
             ],
             [
              0.6666666666666666,
              "#ed7953"
             ],
             [
              0.7777777777777778,
              "#fb9f3a"
             ],
             [
              0.8888888888888888,
              "#fdca26"
             ],
             [
              1,
              "#f0f921"
             ]
            ],
            "type": "heatmapgl"
           }
          ],
          "histogram": [
           {
            "marker": {
             "pattern": {
              "fillmode": "overlay",
              "size": 10,
              "solidity": 0.2
             }
            },
            "type": "histogram"
           }
          ],
          "histogram2d": [
           {
            "colorbar": {
             "outlinewidth": 0,
             "ticks": ""
            },
            "colorscale": [
             [
              0,
              "#0d0887"
             ],
             [
              0.1111111111111111,
              "#46039f"
             ],
             [
              0.2222222222222222,
              "#7201a8"
             ],
             [
              0.3333333333333333,
              "#9c179e"
             ],
             [
              0.4444444444444444,
              "#bd3786"
             ],
             [
              0.5555555555555556,
              "#d8576b"
             ],
             [
              0.6666666666666666,
              "#ed7953"
             ],
             [
              0.7777777777777778,
              "#fb9f3a"
             ],
             [
              0.8888888888888888,
              "#fdca26"
             ],
             [
              1,
              "#f0f921"
             ]
            ],
            "type": "histogram2d"
           }
          ],
          "histogram2dcontour": [
           {
            "colorbar": {
             "outlinewidth": 0,
             "ticks": ""
            },
            "colorscale": [
             [
              0,
              "#0d0887"
             ],
             [
              0.1111111111111111,
              "#46039f"
             ],
             [
              0.2222222222222222,
              "#7201a8"
             ],
             [
              0.3333333333333333,
              "#9c179e"
             ],
             [
              0.4444444444444444,
              "#bd3786"
             ],
             [
              0.5555555555555556,
              "#d8576b"
             ],
             [
              0.6666666666666666,
              "#ed7953"
             ],
             [
              0.7777777777777778,
              "#fb9f3a"
             ],
             [
              0.8888888888888888,
              "#fdca26"
             ],
             [
              1,
              "#f0f921"
             ]
            ],
            "type": "histogram2dcontour"
           }
          ],
          "mesh3d": [
           {
            "colorbar": {
             "outlinewidth": 0,
             "ticks": ""
            },
            "type": "mesh3d"
           }
          ],
          "parcoords": [
           {
            "line": {
             "colorbar": {
              "outlinewidth": 0,
              "ticks": ""
             }
            },
            "type": "parcoords"
           }
          ],
          "pie": [
           {
            "automargin": true,
            "type": "pie"
           }
          ],
          "scatter": [
           {
            "fillpattern": {
             "fillmode": "overlay",
             "size": 10,
             "solidity": 0.2
            },
            "type": "scatter"
           }
          ],
          "scatter3d": [
           {
            "line": {
             "colorbar": {
              "outlinewidth": 0,
              "ticks": ""
             }
            },
            "marker": {
             "colorbar": {
              "outlinewidth": 0,
              "ticks": ""
             }
            },
            "type": "scatter3d"
           }
          ],
          "scattercarpet": [
           {
            "marker": {
             "colorbar": {
              "outlinewidth": 0,
              "ticks": ""
             }
            },
            "type": "scattercarpet"
           }
          ],
          "scattergeo": [
           {
            "marker": {
             "colorbar": {
              "outlinewidth": 0,
              "ticks": ""
             }
            },
            "type": "scattergeo"
           }
          ],
          "scattergl": [
           {
            "marker": {
             "colorbar": {
              "outlinewidth": 0,
              "ticks": ""
             }
            },
            "type": "scattergl"
           }
          ],
          "scattermapbox": [
           {
            "marker": {
             "colorbar": {
              "outlinewidth": 0,
              "ticks": ""
             }
            },
            "type": "scattermapbox"
           }
          ],
          "scatterpolar": [
           {
            "marker": {
             "colorbar": {
              "outlinewidth": 0,
              "ticks": ""
             }
            },
            "type": "scatterpolar"
           }
          ],
          "scatterpolargl": [
           {
            "marker": {
             "colorbar": {
              "outlinewidth": 0,
              "ticks": ""
             }
            },
            "type": "scatterpolargl"
           }
          ],
          "scatterternary": [
           {
            "marker": {
             "colorbar": {
              "outlinewidth": 0,
              "ticks": ""
             }
            },
            "type": "scatterternary"
           }
          ],
          "surface": [
           {
            "colorbar": {
             "outlinewidth": 0,
             "ticks": ""
            },
            "colorscale": [
             [
              0,
              "#0d0887"
             ],
             [
              0.1111111111111111,
              "#46039f"
             ],
             [
              0.2222222222222222,
              "#7201a8"
             ],
             [
              0.3333333333333333,
              "#9c179e"
             ],
             [
              0.4444444444444444,
              "#bd3786"
             ],
             [
              0.5555555555555556,
              "#d8576b"
             ],
             [
              0.6666666666666666,
              "#ed7953"
             ],
             [
              0.7777777777777778,
              "#fb9f3a"
             ],
             [
              0.8888888888888888,
              "#fdca26"
             ],
             [
              1,
              "#f0f921"
             ]
            ],
            "type": "surface"
           }
          ],
          "table": [
           {
            "cells": {
             "fill": {
              "color": "#EBF0F8"
             },
             "line": {
              "color": "white"
             }
            },
            "header": {
             "fill": {
              "color": "#C8D4E3"
             },
             "line": {
              "color": "white"
             }
            },
            "type": "table"
           }
          ]
         },
         "layout": {
          "annotationdefaults": {
           "arrowcolor": "#2a3f5f",
           "arrowhead": 0,
           "arrowwidth": 1
          },
          "autotypenumbers": "strict",
          "coloraxis": {
           "colorbar": {
            "outlinewidth": 0,
            "ticks": ""
           }
          },
          "colorscale": {
           "diverging": [
            [
             0,
             "#8e0152"
            ],
            [
             0.1,
             "#c51b7d"
            ],
            [
             0.2,
             "#de77ae"
            ],
            [
             0.3,
             "#f1b6da"
            ],
            [
             0.4,
             "#fde0ef"
            ],
            [
             0.5,
             "#f7f7f7"
            ],
            [
             0.6,
             "#e6f5d0"
            ],
            [
             0.7,
             "#b8e186"
            ],
            [
             0.8,
             "#7fbc41"
            ],
            [
             0.9,
             "#4d9221"
            ],
            [
             1,
             "#276419"
            ]
           ],
           "sequential": [
            [
             0,
             "#0d0887"
            ],
            [
             0.1111111111111111,
             "#46039f"
            ],
            [
             0.2222222222222222,
             "#7201a8"
            ],
            [
             0.3333333333333333,
             "#9c179e"
            ],
            [
             0.4444444444444444,
             "#bd3786"
            ],
            [
             0.5555555555555556,
             "#d8576b"
            ],
            [
             0.6666666666666666,
             "#ed7953"
            ],
            [
             0.7777777777777778,
             "#fb9f3a"
            ],
            [
             0.8888888888888888,
             "#fdca26"
            ],
            [
             1,
             "#f0f921"
            ]
           ],
           "sequentialminus": [
            [
             0,
             "#0d0887"
            ],
            [
             0.1111111111111111,
             "#46039f"
            ],
            [
             0.2222222222222222,
             "#7201a8"
            ],
            [
             0.3333333333333333,
             "#9c179e"
            ],
            [
             0.4444444444444444,
             "#bd3786"
            ],
            [
             0.5555555555555556,
             "#d8576b"
            ],
            [
             0.6666666666666666,
             "#ed7953"
            ],
            [
             0.7777777777777778,
             "#fb9f3a"
            ],
            [
             0.8888888888888888,
             "#fdca26"
            ],
            [
             1,
             "#f0f921"
            ]
           ]
          },
          "colorway": [
           "#636efa",
           "#EF553B",
           "#00cc96",
           "#ab63fa",
           "#FFA15A",
           "#19d3f3",
           "#FF6692",
           "#B6E880",
           "#FF97FF",
           "#FECB52"
          ],
          "font": {
           "color": "#2a3f5f"
          },
          "geo": {
           "bgcolor": "white",
           "lakecolor": "white",
           "landcolor": "#E5ECF6",
           "showlakes": true,
           "showland": true,
           "subunitcolor": "white"
          },
          "hoverlabel": {
           "align": "left"
          },
          "hovermode": "closest",
          "mapbox": {
           "style": "light"
          },
          "paper_bgcolor": "white",
          "plot_bgcolor": "#E5ECF6",
          "polar": {
           "angularaxis": {
            "gridcolor": "white",
            "linecolor": "white",
            "ticks": ""
           },
           "bgcolor": "#E5ECF6",
           "radialaxis": {
            "gridcolor": "white",
            "linecolor": "white",
            "ticks": ""
           }
          },
          "scene": {
           "xaxis": {
            "backgroundcolor": "#E5ECF6",
            "gridcolor": "white",
            "gridwidth": 2,
            "linecolor": "white",
            "showbackground": true,
            "ticks": "",
            "zerolinecolor": "white"
           },
           "yaxis": {
            "backgroundcolor": "#E5ECF6",
            "gridcolor": "white",
            "gridwidth": 2,
            "linecolor": "white",
            "showbackground": true,
            "ticks": "",
            "zerolinecolor": "white"
           },
           "zaxis": {
            "backgroundcolor": "#E5ECF6",
            "gridcolor": "white",
            "gridwidth": 2,
            "linecolor": "white",
            "showbackground": true,
            "ticks": "",
            "zerolinecolor": "white"
           }
          },
          "shapedefaults": {
           "line": {
            "color": "#2a3f5f"
           }
          },
          "ternary": {
           "aaxis": {
            "gridcolor": "white",
            "linecolor": "white",
            "ticks": ""
           },
           "baxis": {
            "gridcolor": "white",
            "linecolor": "white",
            "ticks": ""
           },
           "bgcolor": "#E5ECF6",
           "caxis": {
            "gridcolor": "white",
            "linecolor": "white",
            "ticks": ""
           }
          },
          "title": {
           "x": 0.05
          },
          "xaxis": {
           "automargin": true,
           "gridcolor": "white",
           "linecolor": "white",
           "ticks": "",
           "title": {
            "standoff": 15
           },
           "zerolinecolor": "white",
           "zerolinewidth": 2
          },
          "yaxis": {
           "automargin": true,
           "gridcolor": "white",
           "linecolor": "white",
           "ticks": "",
           "title": {
            "standoff": 15
           },
           "zerolinecolor": "white",
           "zerolinewidth": 2
          }
         }
        }
       }
      }
     },
     "metadata": {},
     "output_type": "display_data"
    }
   ],
   "source": [
    "import plotly.express as px\n",
    "#show a treemap when relative_risk is greater than 12 showing the Material and the age of construction\n",
    "fig = px.treemap(train_copy[train_copy['relative_risk'] > 9], path=['Material', 'YearBuilt'], values='relative_risk')\n",
    "fig.show()\n",
    "\n"
   ]
  },
  {
   "attachments": {},
   "cell_type": "markdown",
   "id": "83077fd1",
   "metadata": {},
   "source": [
    "PE and FD tendo to fail more when getting closer to 30 years old"
   ]
  },
  {
   "cell_type": "code",
   "execution_count": 82,
   "id": "0574d5d2",
   "metadata": {},
   "outputs": [
    {
     "data": {
      "application/vnd.plotly.v1+json": {
       "config": {
        "plotlyServerURL": "https://plot.ly"
       },
       "data": [
        {
         "branchvalues": "total",
         "domain": {
          "x": [
           0,
           1
          ],
          "y": [
           0,
           1
          ]
         },
         "hovertemplate": "labels=%{label}<br>relative_risk=%{value}<br>parent=%{parent}<br>id=%{id}<extra></extra>",
         "ids": [
          "Madrid/Arroyomolinos",
          "Barcelona/Barcelona",
          "Barcelona/Cabrera de Mar",
          "Barcelona/Les Franqueses del Valles",
          "Madrid/Madrid",
          "Sevilla/Mairena del Aljarafe",
          "Barcelona/Manresa",
          "Barcelona/Mollet Del Valles",
          "Barcelona/Olesa de Montserrat",
          "Girona/Olot",
          "Valencia/Paterna",
          "Madrid/Rivas-Vaciamadrid",
          "Barcelona/Sabadell",
          "Valencia/Valencia",
          "Barcelona",
          "Girona",
          "Madrid",
          "Sevilla",
          "Valencia"
         ],
         "labels": [
          "Arroyomolinos",
          "Barcelona",
          "Cabrera de Mar",
          "Les Franqueses del Valles",
          "Madrid",
          "Mairena del Aljarafe",
          "Manresa",
          "Mollet Del Valles",
          "Olesa de Montserrat",
          "Olot",
          "Paterna",
          "Rivas-Vaciamadrid",
          "Sabadell",
          "Valencia",
          "Barcelona",
          "Girona",
          "Madrid",
          "Sevilla",
          "Valencia"
         ],
         "name": "",
         "parents": [
          "Madrid",
          "Barcelona",
          "Barcelona",
          "Barcelona",
          "Madrid",
          "Sevilla",
          "Barcelona",
          "Barcelona",
          "Barcelona",
          "Girona",
          "Valencia",
          "Madrid",
          "Barcelona",
          "Valencia",
          "",
          "",
          "",
          "",
          ""
         ],
         "type": "treemap",
         "values": [
          39,
          60,
          48.00000000000001,
          51,
          1742,
          51,
          102,
          39,
          48.00000000000001,
          78,
          39,
          63,
          48.00000000000001,
          291,
          396,
          78,
          1844,
          51,
          330
         ]
        }
       ],
       "layout": {
        "legend": {
         "tracegroupgap": 0
        },
        "margin": {
         "t": 60
        },
        "template": {
         "data": {
          "bar": [
           {
            "error_x": {
             "color": "#2a3f5f"
            },
            "error_y": {
             "color": "#2a3f5f"
            },
            "marker": {
             "line": {
              "color": "#E5ECF6",
              "width": 0.5
             },
             "pattern": {
              "fillmode": "overlay",
              "size": 10,
              "solidity": 0.2
             }
            },
            "type": "bar"
           }
          ],
          "barpolar": [
           {
            "marker": {
             "line": {
              "color": "#E5ECF6",
              "width": 0.5
             },
             "pattern": {
              "fillmode": "overlay",
              "size": 10,
              "solidity": 0.2
             }
            },
            "type": "barpolar"
           }
          ],
          "carpet": [
           {
            "aaxis": {
             "endlinecolor": "#2a3f5f",
             "gridcolor": "white",
             "linecolor": "white",
             "minorgridcolor": "white",
             "startlinecolor": "#2a3f5f"
            },
            "baxis": {
             "endlinecolor": "#2a3f5f",
             "gridcolor": "white",
             "linecolor": "white",
             "minorgridcolor": "white",
             "startlinecolor": "#2a3f5f"
            },
            "type": "carpet"
           }
          ],
          "choropleth": [
           {
            "colorbar": {
             "outlinewidth": 0,
             "ticks": ""
            },
            "type": "choropleth"
           }
          ],
          "contour": [
           {
            "colorbar": {
             "outlinewidth": 0,
             "ticks": ""
            },
            "colorscale": [
             [
              0,
              "#0d0887"
             ],
             [
              0.1111111111111111,
              "#46039f"
             ],
             [
              0.2222222222222222,
              "#7201a8"
             ],
             [
              0.3333333333333333,
              "#9c179e"
             ],
             [
              0.4444444444444444,
              "#bd3786"
             ],
             [
              0.5555555555555556,
              "#d8576b"
             ],
             [
              0.6666666666666666,
              "#ed7953"
             ],
             [
              0.7777777777777778,
              "#fb9f3a"
             ],
             [
              0.8888888888888888,
              "#fdca26"
             ],
             [
              1,
              "#f0f921"
             ]
            ],
            "type": "contour"
           }
          ],
          "contourcarpet": [
           {
            "colorbar": {
             "outlinewidth": 0,
             "ticks": ""
            },
            "type": "contourcarpet"
           }
          ],
          "heatmap": [
           {
            "colorbar": {
             "outlinewidth": 0,
             "ticks": ""
            },
            "colorscale": [
             [
              0,
              "#0d0887"
             ],
             [
              0.1111111111111111,
              "#46039f"
             ],
             [
              0.2222222222222222,
              "#7201a8"
             ],
             [
              0.3333333333333333,
              "#9c179e"
             ],
             [
              0.4444444444444444,
              "#bd3786"
             ],
             [
              0.5555555555555556,
              "#d8576b"
             ],
             [
              0.6666666666666666,
              "#ed7953"
             ],
             [
              0.7777777777777778,
              "#fb9f3a"
             ],
             [
              0.8888888888888888,
              "#fdca26"
             ],
             [
              1,
              "#f0f921"
             ]
            ],
            "type": "heatmap"
           }
          ],
          "heatmapgl": [
           {
            "colorbar": {
             "outlinewidth": 0,
             "ticks": ""
            },
            "colorscale": [
             [
              0,
              "#0d0887"
             ],
             [
              0.1111111111111111,
              "#46039f"
             ],
             [
              0.2222222222222222,
              "#7201a8"
             ],
             [
              0.3333333333333333,
              "#9c179e"
             ],
             [
              0.4444444444444444,
              "#bd3786"
             ],
             [
              0.5555555555555556,
              "#d8576b"
             ],
             [
              0.6666666666666666,
              "#ed7953"
             ],
             [
              0.7777777777777778,
              "#fb9f3a"
             ],
             [
              0.8888888888888888,
              "#fdca26"
             ],
             [
              1,
              "#f0f921"
             ]
            ],
            "type": "heatmapgl"
           }
          ],
          "histogram": [
           {
            "marker": {
             "pattern": {
              "fillmode": "overlay",
              "size": 10,
              "solidity": 0.2
             }
            },
            "type": "histogram"
           }
          ],
          "histogram2d": [
           {
            "colorbar": {
             "outlinewidth": 0,
             "ticks": ""
            },
            "colorscale": [
             [
              0,
              "#0d0887"
             ],
             [
              0.1111111111111111,
              "#46039f"
             ],
             [
              0.2222222222222222,
              "#7201a8"
             ],
             [
              0.3333333333333333,
              "#9c179e"
             ],
             [
              0.4444444444444444,
              "#bd3786"
             ],
             [
              0.5555555555555556,
              "#d8576b"
             ],
             [
              0.6666666666666666,
              "#ed7953"
             ],
             [
              0.7777777777777778,
              "#fb9f3a"
             ],
             [
              0.8888888888888888,
              "#fdca26"
             ],
             [
              1,
              "#f0f921"
             ]
            ],
            "type": "histogram2d"
           }
          ],
          "histogram2dcontour": [
           {
            "colorbar": {
             "outlinewidth": 0,
             "ticks": ""
            },
            "colorscale": [
             [
              0,
              "#0d0887"
             ],
             [
              0.1111111111111111,
              "#46039f"
             ],
             [
              0.2222222222222222,
              "#7201a8"
             ],
             [
              0.3333333333333333,
              "#9c179e"
             ],
             [
              0.4444444444444444,
              "#bd3786"
             ],
             [
              0.5555555555555556,
              "#d8576b"
             ],
             [
              0.6666666666666666,
              "#ed7953"
             ],
             [
              0.7777777777777778,
              "#fb9f3a"
             ],
             [
              0.8888888888888888,
              "#fdca26"
             ],
             [
              1,
              "#f0f921"
             ]
            ],
            "type": "histogram2dcontour"
           }
          ],
          "mesh3d": [
           {
            "colorbar": {
             "outlinewidth": 0,
             "ticks": ""
            },
            "type": "mesh3d"
           }
          ],
          "parcoords": [
           {
            "line": {
             "colorbar": {
              "outlinewidth": 0,
              "ticks": ""
             }
            },
            "type": "parcoords"
           }
          ],
          "pie": [
           {
            "automargin": true,
            "type": "pie"
           }
          ],
          "scatter": [
           {
            "fillpattern": {
             "fillmode": "overlay",
             "size": 10,
             "solidity": 0.2
            },
            "type": "scatter"
           }
          ],
          "scatter3d": [
           {
            "line": {
             "colorbar": {
              "outlinewidth": 0,
              "ticks": ""
             }
            },
            "marker": {
             "colorbar": {
              "outlinewidth": 0,
              "ticks": ""
             }
            },
            "type": "scatter3d"
           }
          ],
          "scattercarpet": [
           {
            "marker": {
             "colorbar": {
              "outlinewidth": 0,
              "ticks": ""
             }
            },
            "type": "scattercarpet"
           }
          ],
          "scattergeo": [
           {
            "marker": {
             "colorbar": {
              "outlinewidth": 0,
              "ticks": ""
             }
            },
            "type": "scattergeo"
           }
          ],
          "scattergl": [
           {
            "marker": {
             "colorbar": {
              "outlinewidth": 0,
              "ticks": ""
             }
            },
            "type": "scattergl"
           }
          ],
          "scattermapbox": [
           {
            "marker": {
             "colorbar": {
              "outlinewidth": 0,
              "ticks": ""
             }
            },
            "type": "scattermapbox"
           }
          ],
          "scatterpolar": [
           {
            "marker": {
             "colorbar": {
              "outlinewidth": 0,
              "ticks": ""
             }
            },
            "type": "scatterpolar"
           }
          ],
          "scatterpolargl": [
           {
            "marker": {
             "colorbar": {
              "outlinewidth": 0,
              "ticks": ""
             }
            },
            "type": "scatterpolargl"
           }
          ],
          "scatterternary": [
           {
            "marker": {
             "colorbar": {
              "outlinewidth": 0,
              "ticks": ""
             }
            },
            "type": "scatterternary"
           }
          ],
          "surface": [
           {
            "colorbar": {
             "outlinewidth": 0,
             "ticks": ""
            },
            "colorscale": [
             [
              0,
              "#0d0887"
             ],
             [
              0.1111111111111111,
              "#46039f"
             ],
             [
              0.2222222222222222,
              "#7201a8"
             ],
             [
              0.3333333333333333,
              "#9c179e"
             ],
             [
              0.4444444444444444,
              "#bd3786"
             ],
             [
              0.5555555555555556,
              "#d8576b"
             ],
             [
              0.6666666666666666,
              "#ed7953"
             ],
             [
              0.7777777777777778,
              "#fb9f3a"
             ],
             [
              0.8888888888888888,
              "#fdca26"
             ],
             [
              1,
              "#f0f921"
             ]
            ],
            "type": "surface"
           }
          ],
          "table": [
           {
            "cells": {
             "fill": {
              "color": "#EBF0F8"
             },
             "line": {
              "color": "white"
             }
            },
            "header": {
             "fill": {
              "color": "#C8D4E3"
             },
             "line": {
              "color": "white"
             }
            },
            "type": "table"
           }
          ]
         },
         "layout": {
          "annotationdefaults": {
           "arrowcolor": "#2a3f5f",
           "arrowhead": 0,
           "arrowwidth": 1
          },
          "autotypenumbers": "strict",
          "coloraxis": {
           "colorbar": {
            "outlinewidth": 0,
            "ticks": ""
           }
          },
          "colorscale": {
           "diverging": [
            [
             0,
             "#8e0152"
            ],
            [
             0.1,
             "#c51b7d"
            ],
            [
             0.2,
             "#de77ae"
            ],
            [
             0.3,
             "#f1b6da"
            ],
            [
             0.4,
             "#fde0ef"
            ],
            [
             0.5,
             "#f7f7f7"
            ],
            [
             0.6,
             "#e6f5d0"
            ],
            [
             0.7,
             "#b8e186"
            ],
            [
             0.8,
             "#7fbc41"
            ],
            [
             0.9,
             "#4d9221"
            ],
            [
             1,
             "#276419"
            ]
           ],
           "sequential": [
            [
             0,
             "#0d0887"
            ],
            [
             0.1111111111111111,
             "#46039f"
            ],
            [
             0.2222222222222222,
             "#7201a8"
            ],
            [
             0.3333333333333333,
             "#9c179e"
            ],
            [
             0.4444444444444444,
             "#bd3786"
            ],
            [
             0.5555555555555556,
             "#d8576b"
            ],
            [
             0.6666666666666666,
             "#ed7953"
            ],
            [
             0.7777777777777778,
             "#fb9f3a"
            ],
            [
             0.8888888888888888,
             "#fdca26"
            ],
            [
             1,
             "#f0f921"
            ]
           ],
           "sequentialminus": [
            [
             0,
             "#0d0887"
            ],
            [
             0.1111111111111111,
             "#46039f"
            ],
            [
             0.2222222222222222,
             "#7201a8"
            ],
            [
             0.3333333333333333,
             "#9c179e"
            ],
            [
             0.4444444444444444,
             "#bd3786"
            ],
            [
             0.5555555555555556,
             "#d8576b"
            ],
            [
             0.6666666666666666,
             "#ed7953"
            ],
            [
             0.7777777777777778,
             "#fb9f3a"
            ],
            [
             0.8888888888888888,
             "#fdca26"
            ],
            [
             1,
             "#f0f921"
            ]
           ]
          },
          "colorway": [
           "#636efa",
           "#EF553B",
           "#00cc96",
           "#ab63fa",
           "#FFA15A",
           "#19d3f3",
           "#FF6692",
           "#B6E880",
           "#FF97FF",
           "#FECB52"
          ],
          "font": {
           "color": "#2a3f5f"
          },
          "geo": {
           "bgcolor": "white",
           "lakecolor": "white",
           "landcolor": "#E5ECF6",
           "showlakes": true,
           "showland": true,
           "subunitcolor": "white"
          },
          "hoverlabel": {
           "align": "left"
          },
          "hovermode": "closest",
          "mapbox": {
           "style": "light"
          },
          "paper_bgcolor": "white",
          "plot_bgcolor": "#E5ECF6",
          "polar": {
           "angularaxis": {
            "gridcolor": "white",
            "linecolor": "white",
            "ticks": ""
           },
           "bgcolor": "#E5ECF6",
           "radialaxis": {
            "gridcolor": "white",
            "linecolor": "white",
            "ticks": ""
           }
          },
          "scene": {
           "xaxis": {
            "backgroundcolor": "#E5ECF6",
            "gridcolor": "white",
            "gridwidth": 2,
            "linecolor": "white",
            "showbackground": true,
            "ticks": "",
            "zerolinecolor": "white"
           },
           "yaxis": {
            "backgroundcolor": "#E5ECF6",
            "gridcolor": "white",
            "gridwidth": 2,
            "linecolor": "white",
            "showbackground": true,
            "ticks": "",
            "zerolinecolor": "white"
           },
           "zaxis": {
            "backgroundcolor": "#E5ECF6",
            "gridcolor": "white",
            "gridwidth": 2,
            "linecolor": "white",
            "showbackground": true,
            "ticks": "",
            "zerolinecolor": "white"
           }
          },
          "shapedefaults": {
           "line": {
            "color": "#2a3f5f"
           }
          },
          "ternary": {
           "aaxis": {
            "gridcolor": "white",
            "linecolor": "white",
            "ticks": ""
           },
           "baxis": {
            "gridcolor": "white",
            "linecolor": "white",
            "ticks": ""
           },
           "bgcolor": "#E5ECF6",
           "caxis": {
            "gridcolor": "white",
            "linecolor": "white",
            "ticks": ""
           }
          },
          "title": {
           "x": 0.05
          },
          "xaxis": {
           "automargin": true,
           "gridcolor": "white",
           "linecolor": "white",
           "ticks": "",
           "title": {
            "standoff": 15
           },
           "zerolinecolor": "white",
           "zerolinewidth": 2
          },
          "yaxis": {
           "automargin": true,
           "gridcolor": "white",
           "linecolor": "white",
           "ticks": "",
           "title": {
            "standoff": 15
           },
           "zerolinecolor": "white",
           "zerolinewidth": 2
          }
         }
        }
       }
      }
     },
     "metadata": {},
     "output_type": "display_data"
    }
   ],
   "source": [
    "#show a treemap when relative_risk is greater than 12 showing the Provinces and Towns\n",
    "fig = px.treemap(train_copy[train_copy['relative_risk'] > 9], path=['Province', 'Town'], values='relative_risk')\n",
    "fig.show()\n"
   ]
  },
  {
   "attachments": {},
   "cell_type": "markdown",
   "id": "57c6a55b",
   "metadata": {},
   "source": [
    "Based on risk, Madrid, Barcelona, Valencia, Girona and Sevilla should be studied more in detail when elaborating a maintenance plan"
   ]
  },
  {
   "cell_type": "code",
   "execution_count": 83,
   "id": "c6d4248f",
   "metadata": {},
   "outputs": [
    {
     "data": {
      "text/plain": [
       "2010.0"
      ]
     },
     "execution_count": 83,
     "metadata": {},
     "output_type": "execute_result"
    }
   ],
   "source": [
    "#what is the last inspection year for material FD\n",
    "train_copy[train_copy['Material'] == 'FD']['InspectionYear'].min()"
   ]
  },
  {
   "attachments": {},
   "cell_type": "markdown",
   "id": "a12e23c4",
   "metadata": {},
   "source": [
    "We can see that  for a high risk factor, the most common materials are PE and FD with a mean of year built in the 90s. The pipes do not seem to be abandoned as the last year of inspection seems to be 2010"
   ]
  },
  {
   "cell_type": "code",
   "execution_count": 84,
   "id": "2d84be58",
   "metadata": {},
   "outputs": [
    {
     "data": {
      "text/plain": [
       "Index(['PipeId', 'No_Inspections', 'No_Incidents', 'InspectionYear',\n",
       "       'InspectionDate', 'MonthsLastRev', 'relative_risk',\n",
       "       'average_severity_pipe', 'Severity', 'Incidence', 'Province', 'Town',\n",
       "       'YearBuilt', 'Material', 'GasType', 'Diameter', 'Length', 'Pressure',\n",
       "       'NumConnections', 'NumConnectionsUnder', 'BoolBridle'],\n",
       "      dtype='object')"
      ]
     },
     "execution_count": 84,
     "metadata": {},
     "output_type": "execute_result"
    }
   ],
   "source": [
    "train_copy.columns"
   ]
  },
  {
   "cell_type": "code",
   "execution_count": 85,
   "id": "14cb9f6c",
   "metadata": {},
   "outputs": [
    {
     "data": {
      "text/plain": [
       "'preventive_maintenance_rate'"
      ]
     },
     "execution_count": 85,
     "metadata": {},
     "output_type": "execute_result"
    },
    {
     "data": {
      "text/html": [
       "<div>\n",
       "<style scoped>\n",
       "    .dataframe tbody tr th:only-of-type {\n",
       "        vertical-align: middle;\n",
       "    }\n",
       "\n",
       "    .dataframe tbody tr th {\n",
       "        vertical-align: top;\n",
       "    }\n",
       "\n",
       "    .dataframe thead th {\n",
       "        text-align: right;\n",
       "    }\n",
       "</style>\n",
       "<table border=\"1\" class=\"dataframe\">\n",
       "  <thead>\n",
       "    <tr style=\"text-align: right;\">\n",
       "      <th></th>\n",
       "      <th>PipeId</th>\n",
       "      <th>No_Inspections</th>\n",
       "      <th>No_Incidents</th>\n",
       "      <th>InspectionYear</th>\n",
       "      <th>preventive_maintenance_rate</th>\n",
       "      <th>InspectionDate</th>\n",
       "      <th>MonthsLastRev</th>\n",
       "      <th>relative_risk</th>\n",
       "      <th>average_severity_pipe</th>\n",
       "      <th>Severity</th>\n",
       "      <th>Incidence</th>\n",
       "      <th>Province</th>\n",
       "      <th>Town</th>\n",
       "      <th>YearBuilt</th>\n",
       "      <th>Material</th>\n",
       "      <th>GasType</th>\n",
       "      <th>Diameter</th>\n",
       "      <th>Length</th>\n",
       "      <th>Pressure</th>\n",
       "      <th>NumConnections</th>\n",
       "      <th>NumConnectionsUnder</th>\n",
       "      <th>BoolBridle</th>\n",
       "    </tr>\n",
       "  </thead>\n",
       "  <tbody>\n",
       "    <tr>\n",
       "      <th>12371</th>\n",
       "      <td>35790261</td>\n",
       "      <td>2</td>\n",
       "      <td>1.00</td>\n",
       "      <td>2018.00</td>\n",
       "      <td>1.75</td>\n",
       "      <td>2018-02-23</td>\n",
       "      <td>9.00</td>\n",
       "      <td>3.50</td>\n",
       "      <td>3.50</td>\n",
       "      <td>3.00</td>\n",
       "      <td>1.00</td>\n",
       "      <td>Córdoba</td>\n",
       "      <td>Lucena</td>\n",
       "      <td>2016</td>\n",
       "      <td>PE</td>\n",
       "      <td>Gas natural</td>\n",
       "      <td>32.00</td>\n",
       "      <td>87.83</td>\n",
       "      <td>0.15</td>\n",
       "      <td>12</td>\n",
       "      <td>0</td>\n",
       "      <td>False</td>\n",
       "    </tr>\n",
       "    <tr>\n",
       "      <th>12372</th>\n",
       "      <td>35790261</td>\n",
       "      <td>2</td>\n",
       "      <td>1.00</td>\n",
       "      <td>2020.00</td>\n",
       "      <td>1.75</td>\n",
       "      <td>2020-05-20</td>\n",
       "      <td>27.00</td>\n",
       "      <td>3.50</td>\n",
       "      <td>3.50</td>\n",
       "      <td>4.00</td>\n",
       "      <td>0.00</td>\n",
       "      <td>Córdoba</td>\n",
       "      <td>Lucena</td>\n",
       "      <td>2016</td>\n",
       "      <td>PE</td>\n",
       "      <td>Gas natural</td>\n",
       "      <td>32.00</td>\n",
       "      <td>87.83</td>\n",
       "      <td>0.15</td>\n",
       "      <td>12</td>\n",
       "      <td>0</td>\n",
       "      <td>False</td>\n",
       "    </tr>\n",
       "    <tr>\n",
       "      <th>12725</th>\n",
       "      <td>3663205</td>\n",
       "      <td>4</td>\n",
       "      <td>1.00</td>\n",
       "      <td>2013.00</td>\n",
       "      <td>0.94</td>\n",
       "      <td>2013-05-15</td>\n",
       "      <td>16.00</td>\n",
       "      <td>3.75</td>\n",
       "      <td>3.75</td>\n",
       "      <td>3.00</td>\n",
       "      <td>1.00</td>\n",
       "      <td>Granada</td>\n",
       "      <td>Granada</td>\n",
       "      <td>2012</td>\n",
       "      <td>PE</td>\n",
       "      <td>Gas natural</td>\n",
       "      <td>110.00</td>\n",
       "      <td>194.41</td>\n",
       "      <td>0.40</td>\n",
       "      <td>8</td>\n",
       "      <td>0</td>\n",
       "      <td>False</td>\n",
       "    </tr>\n",
       "    <tr>\n",
       "      <th>12726</th>\n",
       "      <td>3663205</td>\n",
       "      <td>4</td>\n",
       "      <td>1.00</td>\n",
       "      <td>2015.00</td>\n",
       "      <td>0.94</td>\n",
       "      <td>2015-05-26</td>\n",
       "      <td>24.00</td>\n",
       "      <td>3.75</td>\n",
       "      <td>3.75</td>\n",
       "      <td>4.00</td>\n",
       "      <td>0.00</td>\n",
       "      <td>Granada</td>\n",
       "      <td>Granada</td>\n",
       "      <td>2012</td>\n",
       "      <td>PE</td>\n",
       "      <td>Gas natural</td>\n",
       "      <td>110.00</td>\n",
       "      <td>194.41</td>\n",
       "      <td>0.40</td>\n",
       "      <td>8</td>\n",
       "      <td>0</td>\n",
       "      <td>False</td>\n",
       "    </tr>\n",
       "    <tr>\n",
       "      <th>12727</th>\n",
       "      <td>3663205</td>\n",
       "      <td>4</td>\n",
       "      <td>1.00</td>\n",
       "      <td>2017.00</td>\n",
       "      <td>0.94</td>\n",
       "      <td>2017-05-10</td>\n",
       "      <td>24.00</td>\n",
       "      <td>3.75</td>\n",
       "      <td>3.75</td>\n",
       "      <td>4.00</td>\n",
       "      <td>0.00</td>\n",
       "      <td>Granada</td>\n",
       "      <td>Granada</td>\n",
       "      <td>2012</td>\n",
       "      <td>PE</td>\n",
       "      <td>Gas natural</td>\n",
       "      <td>110.00</td>\n",
       "      <td>194.41</td>\n",
       "      <td>0.40</td>\n",
       "      <td>8</td>\n",
       "      <td>0</td>\n",
       "      <td>False</td>\n",
       "    </tr>\n",
       "  </tbody>\n",
       "</table>\n",
       "</div>"
      ],
      "text/plain": [
       "         PipeId  No_Inspections  No_Incidents  InspectionYear  \\\n",
       "12371  35790261               2          1.00         2018.00   \n",
       "12372  35790261               2          1.00         2020.00   \n",
       "12725   3663205               4          1.00         2013.00   \n",
       "12726   3663205               4          1.00         2015.00   \n",
       "12727   3663205               4          1.00         2017.00   \n",
       "\n",
       "       preventive_maintenance_rate InspectionDate  MonthsLastRev  \\\n",
       "12371                         1.75     2018-02-23           9.00   \n",
       "12372                         1.75     2020-05-20          27.00   \n",
       "12725                         0.94     2013-05-15          16.00   \n",
       "12726                         0.94     2015-05-26          24.00   \n",
       "12727                         0.94     2017-05-10          24.00   \n",
       "\n",
       "       relative_risk  average_severity_pipe  Severity  Incidence Province  \\\n",
       "12371           3.50                   3.50      3.00       1.00  Córdoba   \n",
       "12372           3.50                   3.50      4.00       0.00  Córdoba   \n",
       "12725           3.75                   3.75      3.00       1.00  Granada   \n",
       "12726           3.75                   3.75      4.00       0.00  Granada   \n",
       "12727           3.75                   3.75      4.00       0.00  Granada   \n",
       "\n",
       "          Town  YearBuilt Material      GasType  Diameter  Length  Pressure  \\\n",
       "12371   Lucena       2016       PE  Gas natural     32.00   87.83      0.15   \n",
       "12372   Lucena       2016       PE  Gas natural     32.00   87.83      0.15   \n",
       "12725  Granada       2012       PE  Gas natural    110.00  194.41      0.40   \n",
       "12726  Granada       2012       PE  Gas natural    110.00  194.41      0.40   \n",
       "12727  Granada       2012       PE  Gas natural    110.00  194.41      0.40   \n",
       "\n",
       "       NumConnections  NumConnectionsUnder  BoolBridle  \n",
       "12371              12                    0       False  \n",
       "12372              12                    0       False  \n",
       "12725               8                    0       False  \n",
       "12726               8                    0       False  \n",
       "12727               8                    0       False  "
      ]
     },
     "execution_count": 85,
     "metadata": {},
     "output_type": "execute_result"
    }
   ],
   "source": [
    "#create a new column taking Risk_S*I and dividing it by No_Inspections naming it as Risk_S*I/Inspections and placing it in 6th position\n",
    "train_copy['preventive_maintenance_rate'] = train_copy['relative_risk'] / train_copy['No_Inspections']\n",
    "cols = list(train_copy.columns.values)\n",
    "cols.pop(cols.index('preventive_maintenance_rate'))\n",
    "train_copy = train_copy[['PipeId', 'No_Inspections', 'No_Incidents', 'InspectionYear', 'preventive_maintenance_rate',\n",
    "       'InspectionDate', 'MonthsLastRev', 'relative_risk',\n",
    "       'average_severity_pipe', 'Severity', 'Incidence', 'Province', 'Town',\n",
    "       'YearBuilt', 'Material', 'GasType', 'Diameter', 'Length', 'Pressure',\n",
    "       'NumConnections', 'NumConnectionsUnder', 'BoolBridle']]\n",
    "\n",
    "#show head of rows only where Risk_S*I/Inspections is greater than 0\n",
    "train_copy[train_copy['preventive_maintenance_rate'] > 0].head(5)"
   ]
  },
  {
   "attachments": {},
   "cell_type": "markdown",
   "id": "267f3c5b",
   "metadata": {},
   "source": [
    "In this new column we can see a dimension of how good it has been previous preventive maintenance  by dividing the relative risk factor (mean average risk per pipe*No_incidents) / No_inspections.\n",
    "The higher this index, the less maintenance it has undergone, hence the risk is not being mitigated on an active basis\n",
    "This graph can help us allocate better the maintenance in our business case using the Paretto rule \n"
   ]
  },
  {
   "cell_type": "code",
   "execution_count": 86,
   "id": "fd6b7db7",
   "metadata": {},
   "outputs": [
    {
     "data": {
      "application/vnd.plotly.v1+json": {
       "config": {
        "plotlyServerURL": "https://plot.ly"
       },
       "data": [
        {
         "branchvalues": "total",
         "domain": {
          "x": [
           0,
           1
          ],
          "y": [
           0,
           1
          ]
         },
         "hovertemplate": "labels=%{label}<br>preventive_maintenance_rate=%{value}<br>parent=%{parent}<br>id=%{id}<extra></extra>",
         "ids": [
          "Valencia/Ador",
          "Lleida/Agramunt",
          "Albacete/Albacete",
          "Lleida/Albages",
          "Huesca/Albelda",
          "Madrid/Alcobendas",
          "Valencia/Alcudia",
          "Ciudad Real/Alcázar de San Juan",
          "Barcelona/Alella",
          "Alicante/Alfaz del Pi",
          "Alicante/Alicante/Alacant",
          "Orense/Allariz",
          "Ciudad Real/Almagro",
          "Huesca/Almudevar",
          "Barcelona/Alpens",
          "Alicante/Altea",
          "Valencia/Alzira",
          "Madrid/Aranjuez",
          "Ciudad Real/Argamasilla de Calatrava",
          "Madrid/Arganda del Rey",
          "Toledo/Argés",
          "Madrid/Arroyomolinos",
          "Barcelona/Baga",
          "Barcelona/Balsareny",
          "Barcelona/Barcelona",
          "Orense/Barco de Valdeorras",
          "Toledo/Bargas",
          "Tarragona/Batea",
          "Madrid/Becerril de la Sierra",
          "Girona/Begur",
          "Lleida/Bellver de Cerdanya",
          "Madrid/Belmonte de Tajo",
          "Huesca/Benabarre",
          "Málaga/Benalmádena",
          "Girona/Bescano",
          "Valladolid/Boecillo",
          "Ciudad Real/Bolaños de Calatrava",
          "Girona/Bolvir",
          "Sevilla/Bormujos",
          "La Coruña/Brion",
          "Madrid/Buitrago del Lozoya",
          "Lugo/Burela",
          "Burgos/Burgos",
          "Valencia/Burjassot",
          "Castellón/Burriana",
          "Madrid/Bustarviejo",
          "Guadalajara/Cabanillas del Campo",
          "Tarragona/Cabra del Camp",
          "Barcelona/Cabrera de Mar",
          "Salamanca/Cabrerizos",
          "Toledo/Calera y Chozas",
          "Barcelona/Calldetenes",
          "Toledo/Camarena",
          "Tarragona/Cambrils",
          "Madrid/Campo Real",
          "Barcelona/Capellades",
          "Madrid/Carabaña",
          "La Coruña/Carballo",
          "Burgos/Cardeñadijo",
          "Barcelona/Cardona",
          "Palencia/Carrion de los Condes",
          "Madrid/Casarrubuelos",
          "Barcelona/Castelldefels",
          "Castellón/Castellon de la Plana/Cas",
          "Tarragona/Catllar",
          "Barcelona/Cerdanyola",
          "Lugo/Chantada",
          "Cuenca/Chillarón de Cuenca",
          "Ciudad Real/Ciudad Real",
          "Toledo/Cobisa",
          "Madrid/Collado Mediano",
          "Madrid/Colmenar de Arroyo",
          "Toledo/Consuegra",
          "Barcelona/Cornella de Llobregat",
          "Madrid/Corpa",
          "Málaga/Coín",
          "Pontevedra/Cuntis",
          "Ciudad Real/Daimiel",
          "Sevilla/Dos Hermanas",
          "Almeria/Ejido",
          "Madrid/El Boalo",
          "Madrid/El Álamo",
          "Alicante/Elche/Elx",
          "Barcelona/Esparreguera",
          "Guadalajara/Espinosa de Henares",
          "Burgos/Espinosa de los Monteros",
          "Málaga/Estepona",
          "Pontevedra/Estrada",
          "Tarragona/Falset",
          "La Coruña/Ferrol",
          "Tarragona/Figuera",
          "Alicante/Finestrat",
          "Barcelona/Folgueroles",
          "Girona/Fontanals de Cerdanya",
          "Guadalajara/Fontanar",
          "Valencia/Fontanars dels Alforins",
          "Lugo/Foz",
          "Madrid/Fuenlabrada",
          "Cuenca/Fuentenava de Jábaga",
          "León/Garrafe de Torio",
          "Madrid/Getafe",
          "Albacete/Gineta",
          "Girona/Girona",
          "Barcelona/Granollers",
          "Tarragona/Gratallops",
          "Huesca/Graus",
          "Palencia/Grijota",
          "Alicante/Guardamar del Segura",
          "Tarragona/Guiamets",
          "La Rioja/Haro",
          "Huelva/Higuera de la Sierra",
          "Huelva/Huelva",
          "Barcelona/Igualada",
          "Toledo/Illescas",
          "Cuenca/Iniesta",
          "Huelva/Isla Cristina",
          "Girona/Jonquera",
          "Barcelona/La Llagosta",
          "Toledo/La Pueblanueva",
          "Valladolid/Laguna de Duero",
          "Soria/Langa de Duero",
          "Toledo/Layos",
          "Huelva/Lepe",
          "Barcelona/Les Franqueses del Valles",
          "Barcelona/Llacuna",
          "Girona/Llambilles",
          "Lleida/Lleida",
          "Barcelona/Llica de Munt",
          "Barcelona/Llica de Vall",
          "Girona/Llivia",
          "Madrid/Loeches",
          "Madrid/Los Santos de la Humosa",
          "Madrid/Madrid",
          "Toledo/Magán",
          "Sevilla/Mairena del Aljarafe",
          "Ciudad Real/Malagón",
          "Valencia/Manises",
          "Barcelona/Manresa",
          "Ciudad Real/Manzanares",
          "Madrid/Manzanares El Real",
          "Málaga/Marbella",
          "Cuenca/Mariana",
          "Barcelona/Martorelles",
          "Valladolid/Matapozuelos",
          "Barcelona/Mataro",
          "Toledo/Mazarambroz",
          "Madrid/Meco",
          "Burgos/Medina de Pomar",
          "Madrid/Mejorada del Campo",
          "Ciudad Real/Miguelturra",
          "Toledo/Mocejón",
          "Barcelona/Mollet Del Valles",
          "Castellón/Moncofa",
          "Lugo/Monforte de Lemos",
          "Valencia/Monserrat",
          "Salamanca/Monterrubio de Armuña",
          "Madrid/Moralzarzal",
          "Cuenca/Mota del Cuervo",
          "Alicante/Mutxamel",
          "Málaga/Málaga",
          "Toledo/Nambroca",
          "Lleida/Naut Aran",
          "Madrid/Navacerrada",
          "Toledo/Navahermosa",
          "Madrid/Navalafuente",
          "Madrid/Navalagamella",
          "Málaga/Nerja",
          "Toledo/Noez",
          "Alicante/Nucia",
          "La Coruña/Oleiros",
          "Girona/Olot",
          "Toledo/Olías del Rey",
          "Toledo/Ontígola",
          "Alicante/Orihuela",
          "Castellón/Oropesa del Mar/Orpesa",
          "Sevilla/Palacios y Villafranca",
          "Palencia/Palencia",
          "Huesca/Panticosa",
          "Valencia/Paterna",
          "Ciudad Real/Pedro Muñoz",
          "Madrid/Pelayos de la Presa",
          "Tarragona/Perafort",
          "Orense/Pereiro de Aguiar",
          "Tarragona/Perello",
          "Castellón/Peñiscola",
          "Barcelona/Piera",
          "Alicante/Pilar de la Horadada",
          "Madrid/Pinto",
          "Girona/Planes d'Hostoles",
          "Ciudad Real/Poblete",
          "Tarragona/Poboleda",
          "Girona/Portbou",
          "Madrid/Pozuelo de Alarcón",
          "Ciudad Real/Pozuelo de Calatrava",
          "Valencia/Puçol",
          "Toledo/Recas",
          "Valladolid/Renedo de Esgueva",
          "Tarragona/Reus",
          "Valencia/Riba-roja de Turia",
          "Málaga/Rincón de la Victoria",
          "Madrid/Rivas-Vaciamadrid",
          "Madrid/Robledo de Chavela",
          "Alicante/Rojales",
          "Almeria/Roquetas de Mar",
          "Girona/Roses",
          "Barcelona/Rubi",
          "Barcelona/Sabadell",
          "La Coruña/Sada",
          "Valencia/Sagunto/Sagunt",
          "Lleida/Salas de Pallars",
          "Palencia/Saldaña",
          "León/San Andres del Rabanedo",
          "Madrid/San Fernando de Henares",
          "Madrid/San M. de Valdeiglesias",
          "Barcelona/Sant Adria Del Besos",
          "Barcelona/Sant Andreu de Llavaneres",
          "Barcelona/Sant Antoni Vilamajor",
          "Barcelona/Sant Boi Del Llobregat",
          "Girona/Sant Climent Sescebes",
          "Barcelona/Sant Cugat Del Valles",
          "Barcelona/Sant Esteve Palautordera",
          "Barcelona/Sant Esteve Sesrovires",
          "Girona/Sant Feliu de Guixols",
          "Girona/Sant Feliu de Pallerols",
          "Girona/Sant Hilari Sacalm",
          "Barcelona/Sant Julia de Vilatorta",
          "Barcelona/Sant Just Desvern",
          "Girona/Sant Marti de Llemena",
          "Barcelona/Sant Mateu de Bages",
          "Barcelona/Sant Pere de Ribes",
          "Barcelona/Sant Pol de Mar",
          "Barcelona/Sant Salvador de Guardiol",
          "Barcelona/Sant Vicens Dels Horts",
          "León/Santa María del Páramo",
          "Toledo/Santa Olalla",
          "La Coruña/Santiago de Compostela",
          "Toledo/Seseña",
          "Sevilla/Sevilla",
          "Barcelona/Sitges",
          "Ciudad Real/Solana",
          "Barcelona/Sta Coloma de Gramanet",
          "Barcelona/Sta Eugenia de Berga",
          "Barcelona/Sta Margarida i els Monj",
          "Barcelona/Sta Perpètua de Mogoda",
          "Toledo/Talavera de la Reina",
          "Tarragona/Tarragona",
          "Barcelona/Teia",
          "Barcelona/Terrassa",
          "Toledo/Toledo",
          "Sevilla/Tomares",
          "Ciudad Real/Tomelloso",
          "Madrid/Torrejón de Velasco",
          "Barcelona/Torrelles de Llobregat",
          "Málaga/Torremolinos",
          "Ciudad Real/Torrenueva",
          "Madrid/Torres de la Alameda",
          "Toledo/Torrijos",
          "Girona/Tossa de Mar",
          "Lleida/Tremp",
          "Valladolid/Tudela de Duero",
          "Guadalajara/Tórtola de Henares",
          "Toledo/Ugena",
          "Barcelona/Ullastrell",
          "León/Valdefresno",
          "Madrid/Valdemanco",
          "Valencia/Valencia",
          "Castellón/Vall d'Uixo",
          "Girona/Vall-llobrega",
          "Valladolid/Valladolid",
          "Barcelona/Vallromanes",
          "Madrid/Velilla de San Antonio",
          "Palencia/Venta de Baños",
          "Toledo/Ventas de Retamosa",
          "Madrid/Venturada",
          "Girona/Verges",
          "Orense/Verín",
          "Lleida/Vielha e Mijaran",
          "Pontevedra/Vigo",
          "Barcelona/Viladecans",
          "Barcelona/Vilafranca del Penedès",
          "Toledo/Villacañas",
          "Castellón/Villafranca del Cid",
          "Madrid/Villalbilla",
          "León/Villaquilambre",
          "Burgos/Villariezo",
          "Albacete/Villarrobledo",
          "León/Villasabariego",
          "Castellón/Vinaros",
          "Toledo/Viso de San Juan",
          "Málaga/Vélez-Málaga",
          "Almeria/Vícar",
          "Toledo/Yuncos",
          "Albacete",
          "Alicante",
          "Almeria",
          "Barcelona",
          "Burgos",
          "Castellón",
          "Ciudad Real",
          "Cuenca",
          "Girona",
          "Guadalajara",
          "Huelva",
          "Huesca",
          "La Coruña",
          "La Rioja",
          "León",
          "Lleida",
          "Lugo",
          "Madrid",
          "Málaga",
          "Orense",
          "Palencia",
          "Pontevedra",
          "Salamanca",
          "Sevilla",
          "Soria",
          "Tarragona",
          "Toledo",
          "Valencia",
          "Valladolid"
         ],
         "labels": [
          "Ador",
          "Agramunt",
          "Albacete",
          "Albages",
          "Albelda",
          "Alcobendas",
          "Alcudia",
          "Alcázar de San Juan",
          "Alella",
          "Alfaz del Pi",
          "Alicante/Alacant",
          "Allariz",
          "Almagro",
          "Almudevar",
          "Alpens",
          "Altea",
          "Alzira",
          "Aranjuez",
          "Argamasilla de Calatrava",
          "Arganda del Rey",
          "Argés",
          "Arroyomolinos",
          "Baga",
          "Balsareny",
          "Barcelona",
          "Barco de Valdeorras",
          "Bargas",
          "Batea",
          "Becerril de la Sierra",
          "Begur",
          "Bellver de Cerdanya",
          "Belmonte de Tajo",
          "Benabarre",
          "Benalmádena",
          "Bescano",
          "Boecillo",
          "Bolaños de Calatrava",
          "Bolvir",
          "Bormujos",
          "Brion",
          "Buitrago del Lozoya",
          "Burela",
          "Burgos",
          "Burjassot",
          "Burriana",
          "Bustarviejo",
          "Cabanillas del Campo",
          "Cabra del Camp",
          "Cabrera de Mar",
          "Cabrerizos",
          "Calera y Chozas",
          "Calldetenes",
          "Camarena",
          "Cambrils",
          "Campo Real",
          "Capellades",
          "Carabaña",
          "Carballo",
          "Cardeñadijo",
          "Cardona",
          "Carrion de los Condes",
          "Casarrubuelos",
          "Castelldefels",
          "Castellon de la Plana/Cas",
          "Catllar",
          "Cerdanyola",
          "Chantada",
          "Chillarón de Cuenca",
          "Ciudad Real",
          "Cobisa",
          "Collado Mediano",
          "Colmenar de Arroyo",
          "Consuegra",
          "Cornella de Llobregat",
          "Corpa",
          "Coín",
          "Cuntis",
          "Daimiel",
          "Dos Hermanas",
          "Ejido",
          "El Boalo",
          "El Álamo",
          "Elche/Elx",
          "Esparreguera",
          "Espinosa de Henares",
          "Espinosa de los Monteros",
          "Estepona",
          "Estrada",
          "Falset",
          "Ferrol",
          "Figuera",
          "Finestrat",
          "Folgueroles",
          "Fontanals de Cerdanya",
          "Fontanar",
          "Fontanars dels Alforins",
          "Foz",
          "Fuenlabrada",
          "Fuentenava de Jábaga",
          "Garrafe de Torio",
          "Getafe",
          "Gineta",
          "Girona",
          "Granollers",
          "Gratallops",
          "Graus",
          "Grijota",
          "Guardamar del Segura",
          "Guiamets",
          "Haro",
          "Higuera de la Sierra",
          "Huelva",
          "Igualada",
          "Illescas",
          "Iniesta",
          "Isla Cristina",
          "Jonquera",
          "La Llagosta",
          "La Pueblanueva",
          "Laguna de Duero",
          "Langa de Duero",
          "Layos",
          "Lepe",
          "Les Franqueses del Valles",
          "Llacuna",
          "Llambilles",
          "Lleida",
          "Llica de Munt",
          "Llica de Vall",
          "Llivia",
          "Loeches",
          "Los Santos de la Humosa",
          "Madrid",
          "Magán",
          "Mairena del Aljarafe",
          "Malagón",
          "Manises",
          "Manresa",
          "Manzanares",
          "Manzanares El Real",
          "Marbella",
          "Mariana",
          "Martorelles",
          "Matapozuelos",
          "Mataro",
          "Mazarambroz",
          "Meco",
          "Medina de Pomar",
          "Mejorada del Campo",
          "Miguelturra",
          "Mocejón",
          "Mollet Del Valles",
          "Moncofa",
          "Monforte de Lemos",
          "Monserrat",
          "Monterrubio de Armuña",
          "Moralzarzal",
          "Mota del Cuervo",
          "Mutxamel",
          "Málaga",
          "Nambroca",
          "Naut Aran",
          "Navacerrada",
          "Navahermosa",
          "Navalafuente",
          "Navalagamella",
          "Nerja",
          "Noez",
          "Nucia",
          "Oleiros",
          "Olot",
          "Olías del Rey",
          "Ontígola",
          "Orihuela",
          "Oropesa del Mar/Orpesa",
          "Palacios y Villafranca",
          "Palencia",
          "Panticosa",
          "Paterna",
          "Pedro Muñoz",
          "Pelayos de la Presa",
          "Perafort",
          "Pereiro de Aguiar",
          "Perello",
          "Peñiscola",
          "Piera",
          "Pilar de la Horadada",
          "Pinto",
          "Planes d'Hostoles",
          "Poblete",
          "Poboleda",
          "Portbou",
          "Pozuelo de Alarcón",
          "Pozuelo de Calatrava",
          "Puçol",
          "Recas",
          "Renedo de Esgueva",
          "Reus",
          "Riba-roja de Turia",
          "Rincón de la Victoria",
          "Rivas-Vaciamadrid",
          "Robledo de Chavela",
          "Rojales",
          "Roquetas de Mar",
          "Roses",
          "Rubi",
          "Sabadell",
          "Sada",
          "Sagunto/Sagunt",
          "Salas de Pallars",
          "Saldaña",
          "San Andres del Rabanedo",
          "San Fernando de Henares",
          "San M. de Valdeiglesias",
          "Sant Adria Del Besos",
          "Sant Andreu de Llavaneres",
          "Sant Antoni Vilamajor",
          "Sant Boi Del Llobregat",
          "Sant Climent Sescebes",
          "Sant Cugat Del Valles",
          "Sant Esteve Palautordera",
          "Sant Esteve Sesrovires",
          "Sant Feliu de Guixols",
          "Sant Feliu de Pallerols",
          "Sant Hilari Sacalm",
          "Sant Julia de Vilatorta",
          "Sant Just Desvern",
          "Sant Marti de Llemena",
          "Sant Mateu de Bages",
          "Sant Pere de Ribes",
          "Sant Pol de Mar",
          "Sant Salvador de Guardiol",
          "Sant Vicens Dels Horts",
          "Santa María del Páramo",
          "Santa Olalla",
          "Santiago de Compostela",
          "Seseña",
          "Sevilla",
          "Sitges",
          "Solana",
          "Sta Coloma de Gramanet",
          "Sta Eugenia de Berga",
          "Sta Margarida i els Monj",
          "Sta Perpètua de Mogoda",
          "Talavera de la Reina",
          "Tarragona",
          "Teia",
          "Terrassa",
          "Toledo",
          "Tomares",
          "Tomelloso",
          "Torrejón de Velasco",
          "Torrelles de Llobregat",
          "Torremolinos",
          "Torrenueva",
          "Torres de la Alameda",
          "Torrijos",
          "Tossa de Mar",
          "Tremp",
          "Tudela de Duero",
          "Tórtola de Henares",
          "Ugena",
          "Ullastrell",
          "Valdefresno",
          "Valdemanco",
          "Valencia",
          "Vall d'Uixo",
          "Vall-llobrega",
          "Valladolid",
          "Vallromanes",
          "Velilla de San Antonio",
          "Venta de Baños",
          "Ventas de Retamosa",
          "Venturada",
          "Verges",
          "Verín",
          "Vielha e Mijaran",
          "Vigo",
          "Viladecans",
          "Vilafranca del Penedès",
          "Villacañas",
          "Villafranca del Cid",
          "Villalbilla",
          "Villaquilambre",
          "Villariezo",
          "Villarrobledo",
          "Villasabariego",
          "Vinaros",
          "Viso de San Juan",
          "Vélez-Málaga",
          "Vícar",
          "Yuncos",
          "Albacete",
          "Alicante",
          "Almeria",
          "Barcelona",
          "Burgos",
          "Castellón",
          "Ciudad Real",
          "Cuenca",
          "Girona",
          "Guadalajara",
          "Huelva",
          "Huesca",
          "La Coruña",
          "La Rioja",
          "León",
          "Lleida",
          "Lugo",
          "Madrid",
          "Málaga",
          "Orense",
          "Palencia",
          "Pontevedra",
          "Salamanca",
          "Sevilla",
          "Soria",
          "Tarragona",
          "Toledo",
          "Valencia",
          "Valladolid"
         ],
         "name": "",
         "parents": [
          "Valencia",
          "Lleida",
          "Albacete",
          "Lleida",
          "Huesca",
          "Madrid",
          "Valencia",
          "Ciudad Real",
          "Barcelona",
          "Alicante",
          "Alicante",
          "Orense",
          "Ciudad Real",
          "Huesca",
          "Barcelona",
          "Alicante",
          "Valencia",
          "Madrid",
          "Ciudad Real",
          "Madrid",
          "Toledo",
          "Madrid",
          "Barcelona",
          "Barcelona",
          "Barcelona",
          "Orense",
          "Toledo",
          "Tarragona",
          "Madrid",
          "Girona",
          "Lleida",
          "Madrid",
          "Huesca",
          "Málaga",
          "Girona",
          "Valladolid",
          "Ciudad Real",
          "Girona",
          "Sevilla",
          "La Coruña",
          "Madrid",
          "Lugo",
          "Burgos",
          "Valencia",
          "Castellón",
          "Madrid",
          "Guadalajara",
          "Tarragona",
          "Barcelona",
          "Salamanca",
          "Toledo",
          "Barcelona",
          "Toledo",
          "Tarragona",
          "Madrid",
          "Barcelona",
          "Madrid",
          "La Coruña",
          "Burgos",
          "Barcelona",
          "Palencia",
          "Madrid",
          "Barcelona",
          "Castellón",
          "Tarragona",
          "Barcelona",
          "Lugo",
          "Cuenca",
          "Ciudad Real",
          "Toledo",
          "Madrid",
          "Madrid",
          "Toledo",
          "Barcelona",
          "Madrid",
          "Málaga",
          "Pontevedra",
          "Ciudad Real",
          "Sevilla",
          "Almeria",
          "Madrid",
          "Madrid",
          "Alicante",
          "Barcelona",
          "Guadalajara",
          "Burgos",
          "Málaga",
          "Pontevedra",
          "Tarragona",
          "La Coruña",
          "Tarragona",
          "Alicante",
          "Barcelona",
          "Girona",
          "Guadalajara",
          "Valencia",
          "Lugo",
          "Madrid",
          "Cuenca",
          "León",
          "Madrid",
          "Albacete",
          "Girona",
          "Barcelona",
          "Tarragona",
          "Huesca",
          "Palencia",
          "Alicante",
          "Tarragona",
          "La Rioja",
          "Huelva",
          "Huelva",
          "Barcelona",
          "Toledo",
          "Cuenca",
          "Huelva",
          "Girona",
          "Barcelona",
          "Toledo",
          "Valladolid",
          "Soria",
          "Toledo",
          "Huelva",
          "Barcelona",
          "Barcelona",
          "Girona",
          "Lleida",
          "Barcelona",
          "Barcelona",
          "Girona",
          "Madrid",
          "Madrid",
          "Madrid",
          "Toledo",
          "Sevilla",
          "Ciudad Real",
          "Valencia",
          "Barcelona",
          "Ciudad Real",
          "Madrid",
          "Málaga",
          "Cuenca",
          "Barcelona",
          "Valladolid",
          "Barcelona",
          "Toledo",
          "Madrid",
          "Burgos",
          "Madrid",
          "Ciudad Real",
          "Toledo",
          "Barcelona",
          "Castellón",
          "Lugo",
          "Valencia",
          "Salamanca",
          "Madrid",
          "Cuenca",
          "Alicante",
          "Málaga",
          "Toledo",
          "Lleida",
          "Madrid",
          "Toledo",
          "Madrid",
          "Madrid",
          "Málaga",
          "Toledo",
          "Alicante",
          "La Coruña",
          "Girona",
          "Toledo",
          "Toledo",
          "Alicante",
          "Castellón",
          "Sevilla",
          "Palencia",
          "Huesca",
          "Valencia",
          "Ciudad Real",
          "Madrid",
          "Tarragona",
          "Orense",
          "Tarragona",
          "Castellón",
          "Barcelona",
          "Alicante",
          "Madrid",
          "Girona",
          "Ciudad Real",
          "Tarragona",
          "Girona",
          "Madrid",
          "Ciudad Real",
          "Valencia",
          "Toledo",
          "Valladolid",
          "Tarragona",
          "Valencia",
          "Málaga",
          "Madrid",
          "Madrid",
          "Alicante",
          "Almeria",
          "Girona",
          "Barcelona",
          "Barcelona",
          "La Coruña",
          "Valencia",
          "Lleida",
          "Palencia",
          "León",
          "Madrid",
          "Madrid",
          "Barcelona",
          "Barcelona",
          "Barcelona",
          "Barcelona",
          "Girona",
          "Barcelona",
          "Barcelona",
          "Barcelona",
          "Girona",
          "Girona",
          "Girona",
          "Barcelona",
          "Barcelona",
          "Girona",
          "Barcelona",
          "Barcelona",
          "Barcelona",
          "Barcelona",
          "Barcelona",
          "León",
          "Toledo",
          "La Coruña",
          "Toledo",
          "Sevilla",
          "Barcelona",
          "Ciudad Real",
          "Barcelona",
          "Barcelona",
          "Barcelona",
          "Barcelona",
          "Toledo",
          "Tarragona",
          "Barcelona",
          "Barcelona",
          "Toledo",
          "Sevilla",
          "Ciudad Real",
          "Madrid",
          "Barcelona",
          "Málaga",
          "Ciudad Real",
          "Madrid",
          "Toledo",
          "Girona",
          "Lleida",
          "Valladolid",
          "Guadalajara",
          "Toledo",
          "Barcelona",
          "León",
          "Madrid",
          "Valencia",
          "Castellón",
          "Girona",
          "Valladolid",
          "Barcelona",
          "Madrid",
          "Palencia",
          "Toledo",
          "Madrid",
          "Girona",
          "Orense",
          "Lleida",
          "Pontevedra",
          "Barcelona",
          "Barcelona",
          "Toledo",
          "Castellón",
          "Madrid",
          "León",
          "Burgos",
          "Albacete",
          "León",
          "Castellón",
          "Toledo",
          "Málaga",
          "Almeria",
          "Toledo",
          "",
          "",
          "",
          "",
          "",
          "",
          "",
          "",
          "",
          "",
          "",
          "",
          "",
          "",
          "",
          "",
          "",
          "",
          "",
          "",
          "",
          "",
          "",
          "",
          "",
          "",
          "",
          "",
          ""
         ],
         "type": "treemap",
         "values": [
          18,
          9,
          9,
          3,
          8,
          3,
          3,
          3,
          3,
          3,
          3,
          3,
          3,
          6,
          3,
          6,
          3,
          3,
          3,
          24,
          18,
          93.08333333333334,
          3,
          6,
          32,
          3,
          3,
          9,
          41.66666666666667,
          3,
          9,
          6,
          6,
          3,
          9,
          3,
          6,
          3,
          3,
          3,
          3,
          3,
          6,
          3,
          3,
          3,
          3,
          6,
          3,
          3,
          6,
          20,
          6,
          3,
          16.333333333333336,
          3,
          12,
          12,
          3,
          6,
          3,
          15,
          3,
          3,
          3,
          9,
          12,
          6,
          3,
          12,
          92.33333333333334,
          13.333333333333334,
          3,
          3,
          6.666666666666667,
          3,
          15,
          6,
          3,
          18,
          81.33333333333333,
          24,
          3,
          3,
          6,
          3,
          3,
          3,
          3,
          24,
          5,
          9,
          6,
          3,
          3,
          15,
          9,
          3,
          3,
          6,
          12,
          6,
          3,
          6,
          3,
          6,
          3,
          3,
          3,
          6.666666666666667,
          6,
          3,
          18,
          9,
          9,
          6,
          13.333333333333334,
          3,
          6,
          3,
          3,
          9,
          6,
          13.2,
          15,
          3,
          6,
          3,
          3,
          6,
          3,
          18.666666666666668,
          470.6666666666667,
          3,
          13.2,
          6,
          6,
          50.4,
          3,
          3,
          9,
          6,
          6,
          6,
          6,
          3,
          15,
          3,
          6,
          3,
          3,
          9.75,
          3,
          3,
          3,
          12,
          176,
          3,
          18,
          24,
          9,
          3,
          6,
          3,
          9,
          9.666666666666668,
          24,
          3,
          18,
          9,
          25.5,
          9,
          6,
          12,
          6,
          3,
          6,
          3,
          9.75,
          3,
          6,
          3,
          3,
          5,
          9,
          3,
          3,
          3,
          6,
          21,
          3,
          3,
          9,
          3,
          6,
          3,
          3,
          3,
          6,
          3,
          3,
          33,
          3,
          9,
          3,
          26,
          30,
          9,
          6,
          8,
          30,
          3,
          51,
          6,
          9,
          3,
          3,
          3,
          3,
          9,
          3,
          6.666666666666667,
          6,
          6,
          3,
          9,
          3,
          3,
          3,
          8,
          5,
          3,
          3,
          3,
          3,
          9,
          15,
          33,
          11,
          3,
          12,
          3,
          3,
          3,
          6,
          9,
          3,
          9,
          9,
          9.666666666666668,
          6,
          3,
          3,
          3,
          3,
          15.666666666666668,
          3,
          3,
          15,
          3,
          6,
          9,
          3,
          3,
          15,
          180.21666666666667,
          18,
          3,
          12,
          6.666666666666667,
          57,
          3,
          24,
          6,
          3,
          18,
          3,
          6,
          3,
          6,
          3,
          9,
          3,
          3,
          6,
          6,
          3,
          3,
          3,
          6.666666666666667,
          6,
          3,
          21,
          81,
          33,
          431.68333333333334,
          21,
          54,
          75,
          27,
          110.83333333333333,
          18,
          21,
          29,
          66,
          6.666666666666667,
          21,
          56,
          27,
          1380.4166666666667,
          78.66666666666667,
          27,
          45,
          24,
          15,
          64.86666666666667,
          3,
          58,
          192,
          258.96666666666664,
          30
         ]
        }
       ],
       "layout": {
        "legend": {
         "tracegroupgap": 0
        },
        "margin": {
         "t": 60
        },
        "template": {
         "data": {
          "bar": [
           {
            "error_x": {
             "color": "#2a3f5f"
            },
            "error_y": {
             "color": "#2a3f5f"
            },
            "marker": {
             "line": {
              "color": "#E5ECF6",
              "width": 0.5
             },
             "pattern": {
              "fillmode": "overlay",
              "size": 10,
              "solidity": 0.2
             }
            },
            "type": "bar"
           }
          ],
          "barpolar": [
           {
            "marker": {
             "line": {
              "color": "#E5ECF6",
              "width": 0.5
             },
             "pattern": {
              "fillmode": "overlay",
              "size": 10,
              "solidity": 0.2
             }
            },
            "type": "barpolar"
           }
          ],
          "carpet": [
           {
            "aaxis": {
             "endlinecolor": "#2a3f5f",
             "gridcolor": "white",
             "linecolor": "white",
             "minorgridcolor": "white",
             "startlinecolor": "#2a3f5f"
            },
            "baxis": {
             "endlinecolor": "#2a3f5f",
             "gridcolor": "white",
             "linecolor": "white",
             "minorgridcolor": "white",
             "startlinecolor": "#2a3f5f"
            },
            "type": "carpet"
           }
          ],
          "choropleth": [
           {
            "colorbar": {
             "outlinewidth": 0,
             "ticks": ""
            },
            "type": "choropleth"
           }
          ],
          "contour": [
           {
            "colorbar": {
             "outlinewidth": 0,
             "ticks": ""
            },
            "colorscale": [
             [
              0,
              "#0d0887"
             ],
             [
              0.1111111111111111,
              "#46039f"
             ],
             [
              0.2222222222222222,
              "#7201a8"
             ],
             [
              0.3333333333333333,
              "#9c179e"
             ],
             [
              0.4444444444444444,
              "#bd3786"
             ],
             [
              0.5555555555555556,
              "#d8576b"
             ],
             [
              0.6666666666666666,
              "#ed7953"
             ],
             [
              0.7777777777777778,
              "#fb9f3a"
             ],
             [
              0.8888888888888888,
              "#fdca26"
             ],
             [
              1,
              "#f0f921"
             ]
            ],
            "type": "contour"
           }
          ],
          "contourcarpet": [
           {
            "colorbar": {
             "outlinewidth": 0,
             "ticks": ""
            },
            "type": "contourcarpet"
           }
          ],
          "heatmap": [
           {
            "colorbar": {
             "outlinewidth": 0,
             "ticks": ""
            },
            "colorscale": [
             [
              0,
              "#0d0887"
             ],
             [
              0.1111111111111111,
              "#46039f"
             ],
             [
              0.2222222222222222,
              "#7201a8"
             ],
             [
              0.3333333333333333,
              "#9c179e"
             ],
             [
              0.4444444444444444,
              "#bd3786"
             ],
             [
              0.5555555555555556,
              "#d8576b"
             ],
             [
              0.6666666666666666,
              "#ed7953"
             ],
             [
              0.7777777777777778,
              "#fb9f3a"
             ],
             [
              0.8888888888888888,
              "#fdca26"
             ],
             [
              1,
              "#f0f921"
             ]
            ],
            "type": "heatmap"
           }
          ],
          "heatmapgl": [
           {
            "colorbar": {
             "outlinewidth": 0,
             "ticks": ""
            },
            "colorscale": [
             [
              0,
              "#0d0887"
             ],
             [
              0.1111111111111111,
              "#46039f"
             ],
             [
              0.2222222222222222,
              "#7201a8"
             ],
             [
              0.3333333333333333,
              "#9c179e"
             ],
             [
              0.4444444444444444,
              "#bd3786"
             ],
             [
              0.5555555555555556,
              "#d8576b"
             ],
             [
              0.6666666666666666,
              "#ed7953"
             ],
             [
              0.7777777777777778,
              "#fb9f3a"
             ],
             [
              0.8888888888888888,
              "#fdca26"
             ],
             [
              1,
              "#f0f921"
             ]
            ],
            "type": "heatmapgl"
           }
          ],
          "histogram": [
           {
            "marker": {
             "pattern": {
              "fillmode": "overlay",
              "size": 10,
              "solidity": 0.2
             }
            },
            "type": "histogram"
           }
          ],
          "histogram2d": [
           {
            "colorbar": {
             "outlinewidth": 0,
             "ticks": ""
            },
            "colorscale": [
             [
              0,
              "#0d0887"
             ],
             [
              0.1111111111111111,
              "#46039f"
             ],
             [
              0.2222222222222222,
              "#7201a8"
             ],
             [
              0.3333333333333333,
              "#9c179e"
             ],
             [
              0.4444444444444444,
              "#bd3786"
             ],
             [
              0.5555555555555556,
              "#d8576b"
             ],
             [
              0.6666666666666666,
              "#ed7953"
             ],
             [
              0.7777777777777778,
              "#fb9f3a"
             ],
             [
              0.8888888888888888,
              "#fdca26"
             ],
             [
              1,
              "#f0f921"
             ]
            ],
            "type": "histogram2d"
           }
          ],
          "histogram2dcontour": [
           {
            "colorbar": {
             "outlinewidth": 0,
             "ticks": ""
            },
            "colorscale": [
             [
              0,
              "#0d0887"
             ],
             [
              0.1111111111111111,
              "#46039f"
             ],
             [
              0.2222222222222222,
              "#7201a8"
             ],
             [
              0.3333333333333333,
              "#9c179e"
             ],
             [
              0.4444444444444444,
              "#bd3786"
             ],
             [
              0.5555555555555556,
              "#d8576b"
             ],
             [
              0.6666666666666666,
              "#ed7953"
             ],
             [
              0.7777777777777778,
              "#fb9f3a"
             ],
             [
              0.8888888888888888,
              "#fdca26"
             ],
             [
              1,
              "#f0f921"
             ]
            ],
            "type": "histogram2dcontour"
           }
          ],
          "mesh3d": [
           {
            "colorbar": {
             "outlinewidth": 0,
             "ticks": ""
            },
            "type": "mesh3d"
           }
          ],
          "parcoords": [
           {
            "line": {
             "colorbar": {
              "outlinewidth": 0,
              "ticks": ""
             }
            },
            "type": "parcoords"
           }
          ],
          "pie": [
           {
            "automargin": true,
            "type": "pie"
           }
          ],
          "scatter": [
           {
            "fillpattern": {
             "fillmode": "overlay",
             "size": 10,
             "solidity": 0.2
            },
            "type": "scatter"
           }
          ],
          "scatter3d": [
           {
            "line": {
             "colorbar": {
              "outlinewidth": 0,
              "ticks": ""
             }
            },
            "marker": {
             "colorbar": {
              "outlinewidth": 0,
              "ticks": ""
             }
            },
            "type": "scatter3d"
           }
          ],
          "scattercarpet": [
           {
            "marker": {
             "colorbar": {
              "outlinewidth": 0,
              "ticks": ""
             }
            },
            "type": "scattercarpet"
           }
          ],
          "scattergeo": [
           {
            "marker": {
             "colorbar": {
              "outlinewidth": 0,
              "ticks": ""
             }
            },
            "type": "scattergeo"
           }
          ],
          "scattergl": [
           {
            "marker": {
             "colorbar": {
              "outlinewidth": 0,
              "ticks": ""
             }
            },
            "type": "scattergl"
           }
          ],
          "scattermapbox": [
           {
            "marker": {
             "colorbar": {
              "outlinewidth": 0,
              "ticks": ""
             }
            },
            "type": "scattermapbox"
           }
          ],
          "scatterpolar": [
           {
            "marker": {
             "colorbar": {
              "outlinewidth": 0,
              "ticks": ""
             }
            },
            "type": "scatterpolar"
           }
          ],
          "scatterpolargl": [
           {
            "marker": {
             "colorbar": {
              "outlinewidth": 0,
              "ticks": ""
             }
            },
            "type": "scatterpolargl"
           }
          ],
          "scatterternary": [
           {
            "marker": {
             "colorbar": {
              "outlinewidth": 0,
              "ticks": ""
             }
            },
            "type": "scatterternary"
           }
          ],
          "surface": [
           {
            "colorbar": {
             "outlinewidth": 0,
             "ticks": ""
            },
            "colorscale": [
             [
              0,
              "#0d0887"
             ],
             [
              0.1111111111111111,
              "#46039f"
             ],
             [
              0.2222222222222222,
              "#7201a8"
             ],
             [
              0.3333333333333333,
              "#9c179e"
             ],
             [
              0.4444444444444444,
              "#bd3786"
             ],
             [
              0.5555555555555556,
              "#d8576b"
             ],
             [
              0.6666666666666666,
              "#ed7953"
             ],
             [
              0.7777777777777778,
              "#fb9f3a"
             ],
             [
              0.8888888888888888,
              "#fdca26"
             ],
             [
              1,
              "#f0f921"
             ]
            ],
            "type": "surface"
           }
          ],
          "table": [
           {
            "cells": {
             "fill": {
              "color": "#EBF0F8"
             },
             "line": {
              "color": "white"
             }
            },
            "header": {
             "fill": {
              "color": "#C8D4E3"
             },
             "line": {
              "color": "white"
             }
            },
            "type": "table"
           }
          ]
         },
         "layout": {
          "annotationdefaults": {
           "arrowcolor": "#2a3f5f",
           "arrowhead": 0,
           "arrowwidth": 1
          },
          "autotypenumbers": "strict",
          "coloraxis": {
           "colorbar": {
            "outlinewidth": 0,
            "ticks": ""
           }
          },
          "colorscale": {
           "diverging": [
            [
             0,
             "#8e0152"
            ],
            [
             0.1,
             "#c51b7d"
            ],
            [
             0.2,
             "#de77ae"
            ],
            [
             0.3,
             "#f1b6da"
            ],
            [
             0.4,
             "#fde0ef"
            ],
            [
             0.5,
             "#f7f7f7"
            ],
            [
             0.6,
             "#e6f5d0"
            ],
            [
             0.7,
             "#b8e186"
            ],
            [
             0.8,
             "#7fbc41"
            ],
            [
             0.9,
             "#4d9221"
            ],
            [
             1,
             "#276419"
            ]
           ],
           "sequential": [
            [
             0,
             "#0d0887"
            ],
            [
             0.1111111111111111,
             "#46039f"
            ],
            [
             0.2222222222222222,
             "#7201a8"
            ],
            [
             0.3333333333333333,
             "#9c179e"
            ],
            [
             0.4444444444444444,
             "#bd3786"
            ],
            [
             0.5555555555555556,
             "#d8576b"
            ],
            [
             0.6666666666666666,
             "#ed7953"
            ],
            [
             0.7777777777777778,
             "#fb9f3a"
            ],
            [
             0.8888888888888888,
             "#fdca26"
            ],
            [
             1,
             "#f0f921"
            ]
           ],
           "sequentialminus": [
            [
             0,
             "#0d0887"
            ],
            [
             0.1111111111111111,
             "#46039f"
            ],
            [
             0.2222222222222222,
             "#7201a8"
            ],
            [
             0.3333333333333333,
             "#9c179e"
            ],
            [
             0.4444444444444444,
             "#bd3786"
            ],
            [
             0.5555555555555556,
             "#d8576b"
            ],
            [
             0.6666666666666666,
             "#ed7953"
            ],
            [
             0.7777777777777778,
             "#fb9f3a"
            ],
            [
             0.8888888888888888,
             "#fdca26"
            ],
            [
             1,
             "#f0f921"
            ]
           ]
          },
          "colorway": [
           "#636efa",
           "#EF553B",
           "#00cc96",
           "#ab63fa",
           "#FFA15A",
           "#19d3f3",
           "#FF6692",
           "#B6E880",
           "#FF97FF",
           "#FECB52"
          ],
          "font": {
           "color": "#2a3f5f"
          },
          "geo": {
           "bgcolor": "white",
           "lakecolor": "white",
           "landcolor": "#E5ECF6",
           "showlakes": true,
           "showland": true,
           "subunitcolor": "white"
          },
          "hoverlabel": {
           "align": "left"
          },
          "hovermode": "closest",
          "mapbox": {
           "style": "light"
          },
          "paper_bgcolor": "white",
          "plot_bgcolor": "#E5ECF6",
          "polar": {
           "angularaxis": {
            "gridcolor": "white",
            "linecolor": "white",
            "ticks": ""
           },
           "bgcolor": "#E5ECF6",
           "radialaxis": {
            "gridcolor": "white",
            "linecolor": "white",
            "ticks": ""
           }
          },
          "scene": {
           "xaxis": {
            "backgroundcolor": "#E5ECF6",
            "gridcolor": "white",
            "gridwidth": 2,
            "linecolor": "white",
            "showbackground": true,
            "ticks": "",
            "zerolinecolor": "white"
           },
           "yaxis": {
            "backgroundcolor": "#E5ECF6",
            "gridcolor": "white",
            "gridwidth": 2,
            "linecolor": "white",
            "showbackground": true,
            "ticks": "",
            "zerolinecolor": "white"
           },
           "zaxis": {
            "backgroundcolor": "#E5ECF6",
            "gridcolor": "white",
            "gridwidth": 2,
            "linecolor": "white",
            "showbackground": true,
            "ticks": "",
            "zerolinecolor": "white"
           }
          },
          "shapedefaults": {
           "line": {
            "color": "#2a3f5f"
           }
          },
          "ternary": {
           "aaxis": {
            "gridcolor": "white",
            "linecolor": "white",
            "ticks": ""
           },
           "baxis": {
            "gridcolor": "white",
            "linecolor": "white",
            "ticks": ""
           },
           "bgcolor": "#E5ECF6",
           "caxis": {
            "gridcolor": "white",
            "linecolor": "white",
            "ticks": ""
           }
          },
          "title": {
           "x": 0.05
          },
          "xaxis": {
           "automargin": true,
           "gridcolor": "white",
           "linecolor": "white",
           "ticks": "",
           "title": {
            "standoff": 15
           },
           "zerolinecolor": "white",
           "zerolinewidth": 2
          },
          "yaxis": {
           "automargin": true,
           "gridcolor": "white",
           "linecolor": "white",
           "ticks": "",
           "title": {
            "standoff": 15
           },
           "zerolinecolor": "white",
           "zerolinewidth": 2
          }
         }
        }
       }
      }
     },
     "metadata": {},
     "output_type": "display_data"
    }
   ],
   "source": [
    "#graph a treemap showing the Province and Towns where preventive_maintenance_rate is higher than 2\n",
    "fig = px.treemap(train_copy[train_copy['preventive_maintenance_rate'] > 2], path=['Province', 'Town'], values='preventive_maintenance_rate')\n",
    "fig.show()\n",
    "\n"
   ]
  },
  {
   "cell_type": "code",
   "execution_count": 87,
   "id": "e5021536",
   "metadata": {},
   "outputs": [
    {
     "data": {
      "text/plain": [
       "Index(['PipeId', 'No_Inspections', 'No_Incidents', 'InspectionYear',\n",
       "       'preventive_maintenance_rate', 'InspectionDate', 'MonthsLastRev',\n",
       "       'relative_risk', 'average_severity_pipe', 'Severity', 'Incidence',\n",
       "       'Province', 'Town', 'YearBuilt', 'Material', 'GasType', 'Diameter',\n",
       "       'Length', 'Pressure', 'NumConnections', 'NumConnectionsUnder',\n",
       "       'BoolBridle'],\n",
       "      dtype='object')"
      ]
     },
     "execution_count": 87,
     "metadata": {},
     "output_type": "execute_result"
    }
   ],
   "source": [
    "train_copy.columns"
   ]
  },
  {
   "cell_type": "code",
   "execution_count": 88,
   "id": "7046d745",
   "metadata": {},
   "outputs": [
    {
     "data": {
      "text/plain": [
       "'Probability_rate'"
      ]
     },
     "execution_count": 88,
     "metadata": {},
     "output_type": "execute_result"
    },
    {
     "data": {
      "text/html": [
       "<div>\n",
       "<style scoped>\n",
       "    .dataframe tbody tr th:only-of-type {\n",
       "        vertical-align: middle;\n",
       "    }\n",
       "\n",
       "    .dataframe tbody tr th {\n",
       "        vertical-align: top;\n",
       "    }\n",
       "\n",
       "    .dataframe thead th {\n",
       "        text-align: right;\n",
       "    }\n",
       "</style>\n",
       "<table border=\"1\" class=\"dataframe\">\n",
       "  <thead>\n",
       "    <tr style=\"text-align: right;\">\n",
       "      <th></th>\n",
       "      <th>PipeId</th>\n",
       "      <th>No_Inspections</th>\n",
       "      <th>No_Incidents</th>\n",
       "      <th>InspectionYear</th>\n",
       "      <th>Probability_rate</th>\n",
       "      <th>preventive_maintenance_rate</th>\n",
       "      <th>InspectionDate</th>\n",
       "      <th>MonthsLastRev</th>\n",
       "      <th>relative_risk</th>\n",
       "      <th>average_severity_pipe</th>\n",
       "      <th>Severity</th>\n",
       "      <th>Incidence</th>\n",
       "      <th>Province</th>\n",
       "      <th>Town</th>\n",
       "      <th>YearBuilt</th>\n",
       "      <th>Material</th>\n",
       "      <th>GasType</th>\n",
       "      <th>Diameter</th>\n",
       "      <th>Length</th>\n",
       "      <th>Pressure</th>\n",
       "      <th>NumConnections</th>\n",
       "      <th>NumConnectionsUnder</th>\n",
       "      <th>BoolBridle</th>\n",
       "    </tr>\n",
       "  </thead>\n",
       "  <tbody>\n",
       "    <tr>\n",
       "      <th>12371</th>\n",
       "      <td>35790261</td>\n",
       "      <td>2</td>\n",
       "      <td>1.00</td>\n",
       "      <td>2018.00</td>\n",
       "      <td>0.50</td>\n",
       "      <td>1.75</td>\n",
       "      <td>2018-02-23</td>\n",
       "      <td>9.00</td>\n",
       "      <td>3.50</td>\n",
       "      <td>3.50</td>\n",
       "      <td>3.00</td>\n",
       "      <td>1.00</td>\n",
       "      <td>Córdoba</td>\n",
       "      <td>Lucena</td>\n",
       "      <td>2016</td>\n",
       "      <td>PE</td>\n",
       "      <td>Gas natural</td>\n",
       "      <td>32.00</td>\n",
       "      <td>87.83</td>\n",
       "      <td>0.15</td>\n",
       "      <td>12</td>\n",
       "      <td>0</td>\n",
       "      <td>False</td>\n",
       "    </tr>\n",
       "    <tr>\n",
       "      <th>12372</th>\n",
       "      <td>35790261</td>\n",
       "      <td>2</td>\n",
       "      <td>1.00</td>\n",
       "      <td>2020.00</td>\n",
       "      <td>0.50</td>\n",
       "      <td>1.75</td>\n",
       "      <td>2020-05-20</td>\n",
       "      <td>27.00</td>\n",
       "      <td>3.50</td>\n",
       "      <td>3.50</td>\n",
       "      <td>4.00</td>\n",
       "      <td>0.00</td>\n",
       "      <td>Córdoba</td>\n",
       "      <td>Lucena</td>\n",
       "      <td>2016</td>\n",
       "      <td>PE</td>\n",
       "      <td>Gas natural</td>\n",
       "      <td>32.00</td>\n",
       "      <td>87.83</td>\n",
       "      <td>0.15</td>\n",
       "      <td>12</td>\n",
       "      <td>0</td>\n",
       "      <td>False</td>\n",
       "    </tr>\n",
       "    <tr>\n",
       "      <th>12725</th>\n",
       "      <td>3663205</td>\n",
       "      <td>4</td>\n",
       "      <td>1.00</td>\n",
       "      <td>2013.00</td>\n",
       "      <td>0.25</td>\n",
       "      <td>0.94</td>\n",
       "      <td>2013-05-15</td>\n",
       "      <td>16.00</td>\n",
       "      <td>3.75</td>\n",
       "      <td>3.75</td>\n",
       "      <td>3.00</td>\n",
       "      <td>1.00</td>\n",
       "      <td>Granada</td>\n",
       "      <td>Granada</td>\n",
       "      <td>2012</td>\n",
       "      <td>PE</td>\n",
       "      <td>Gas natural</td>\n",
       "      <td>110.00</td>\n",
       "      <td>194.41</td>\n",
       "      <td>0.40</td>\n",
       "      <td>8</td>\n",
       "      <td>0</td>\n",
       "      <td>False</td>\n",
       "    </tr>\n",
       "    <tr>\n",
       "      <th>12726</th>\n",
       "      <td>3663205</td>\n",
       "      <td>4</td>\n",
       "      <td>1.00</td>\n",
       "      <td>2015.00</td>\n",
       "      <td>0.25</td>\n",
       "      <td>0.94</td>\n",
       "      <td>2015-05-26</td>\n",
       "      <td>24.00</td>\n",
       "      <td>3.75</td>\n",
       "      <td>3.75</td>\n",
       "      <td>4.00</td>\n",
       "      <td>0.00</td>\n",
       "      <td>Granada</td>\n",
       "      <td>Granada</td>\n",
       "      <td>2012</td>\n",
       "      <td>PE</td>\n",
       "      <td>Gas natural</td>\n",
       "      <td>110.00</td>\n",
       "      <td>194.41</td>\n",
       "      <td>0.40</td>\n",
       "      <td>8</td>\n",
       "      <td>0</td>\n",
       "      <td>False</td>\n",
       "    </tr>\n",
       "    <tr>\n",
       "      <th>12727</th>\n",
       "      <td>3663205</td>\n",
       "      <td>4</td>\n",
       "      <td>1.00</td>\n",
       "      <td>2017.00</td>\n",
       "      <td>0.25</td>\n",
       "      <td>0.94</td>\n",
       "      <td>2017-05-10</td>\n",
       "      <td>24.00</td>\n",
       "      <td>3.75</td>\n",
       "      <td>3.75</td>\n",
       "      <td>4.00</td>\n",
       "      <td>0.00</td>\n",
       "      <td>Granada</td>\n",
       "      <td>Granada</td>\n",
       "      <td>2012</td>\n",
       "      <td>PE</td>\n",
       "      <td>Gas natural</td>\n",
       "      <td>110.00</td>\n",
       "      <td>194.41</td>\n",
       "      <td>0.40</td>\n",
       "      <td>8</td>\n",
       "      <td>0</td>\n",
       "      <td>False</td>\n",
       "    </tr>\n",
       "  </tbody>\n",
       "</table>\n",
       "</div>"
      ],
      "text/plain": [
       "         PipeId  No_Inspections  No_Incidents  InspectionYear  \\\n",
       "12371  35790261               2          1.00         2018.00   \n",
       "12372  35790261               2          1.00         2020.00   \n",
       "12725   3663205               4          1.00         2013.00   \n",
       "12726   3663205               4          1.00         2015.00   \n",
       "12727   3663205               4          1.00         2017.00   \n",
       "\n",
       "       Probability_rate  preventive_maintenance_rate InspectionDate  \\\n",
       "12371              0.50                         1.75     2018-02-23   \n",
       "12372              0.50                         1.75     2020-05-20   \n",
       "12725              0.25                         0.94     2013-05-15   \n",
       "12726              0.25                         0.94     2015-05-26   \n",
       "12727              0.25                         0.94     2017-05-10   \n",
       "\n",
       "       MonthsLastRev  relative_risk  average_severity_pipe  Severity  \\\n",
       "12371           9.00           3.50                   3.50      3.00   \n",
       "12372          27.00           3.50                   3.50      4.00   \n",
       "12725          16.00           3.75                   3.75      3.00   \n",
       "12726          24.00           3.75                   3.75      4.00   \n",
       "12727          24.00           3.75                   3.75      4.00   \n",
       "\n",
       "       Incidence Province     Town  YearBuilt Material      GasType  Diameter  \\\n",
       "12371       1.00  Córdoba   Lucena       2016       PE  Gas natural     32.00   \n",
       "12372       0.00  Córdoba   Lucena       2016       PE  Gas natural     32.00   \n",
       "12725       1.00  Granada  Granada       2012       PE  Gas natural    110.00   \n",
       "12726       0.00  Granada  Granada       2012       PE  Gas natural    110.00   \n",
       "12727       0.00  Granada  Granada       2012       PE  Gas natural    110.00   \n",
       "\n",
       "       Length  Pressure  NumConnections  NumConnectionsUnder  BoolBridle  \n",
       "12371   87.83      0.15              12                    0       False  \n",
       "12372   87.83      0.15              12                    0       False  \n",
       "12725  194.41      0.40               8                    0       False  \n",
       "12726  194.41      0.40               8                    0       False  \n",
       "12727  194.41      0.40               8                    0       False  "
      ]
     },
     "execution_count": 88,
     "metadata": {},
     "output_type": "execute_result"
    }
   ],
   "source": [
    "#creating a new column named probability with No_Incidents divided by Inspections\n",
    "train_copy['Probability_rate'] = train_copy['No_Incidents'] / train_copy['No_Inspections']\n",
    "#place column in 3rd position\n",
    "cols = list(train_copy.columns.values)\n",
    "cols.pop(cols.index('Probability_rate'))\n",
    "train_copy = train_copy[['PipeId', 'No_Inspections', 'No_Incidents', 'InspectionYear', 'Probability_rate',\n",
    "       'preventive_maintenance_rate', 'InspectionDate', 'MonthsLastRev',\n",
    "       'relative_risk', 'average_severity_pipe', 'Severity', 'Incidence',\n",
    "       'Province', 'Town', 'YearBuilt', 'Material', 'GasType', 'Diameter',\n",
    "       'Length', 'Pressure', 'NumConnections', 'NumConnectionsUnder',\n",
    "       'BoolBridle']]\n",
    "#show head of rows only where Probability is greater than 0\n",
    "train_copy[train_copy['Probability_rate'] > 0].head(5)"
   ]
  },
  {
   "cell_type": "code",
   "execution_count": 89,
   "id": "242452bc",
   "metadata": {},
   "outputs": [
    {
     "data": {
      "application/vnd.plotly.v1+json": {
       "config": {
        "plotlyServerURL": "https://plot.ly"
       },
       "data": [
        {
         "branchvalues": "total",
         "domain": {
          "x": [
           0,
           1
          ],
          "y": [
           0,
           1
          ]
         },
         "hovertemplate": "labels=%{label}<br>Probability_rate=%{value}<br>parent=%{parent}<br>id=%{id}<extra></extra>",
         "ids": [
          "Valencia/Ador",
          "Lleida/Agramunt",
          "Córdoba/Aguilar de la Frontera",
          "Albacete/Albacete",
          "Lleida/Albages",
          "Huesca/Albelda",
          "Madrid/Alcobendas",
          "Valencia/Alcudia",
          "Ciudad Real/Alcázar de San Juan",
          "Barcelona/Alella",
          "Alicante/Alfaz del Pi",
          "Alicante/Alicante/Alacant",
          "Orense/Allariz",
          "Ciudad Real/Almagro",
          "Huesca/Almudevar",
          "Barcelona/Alpens",
          "Alicante/Altea",
          "Valencia/Alzira",
          "Burgos/Aranda de Duero",
          "Madrid/Aranjuez",
          "Ciudad Real/Argamasilla de Calatrava",
          "Madrid/Arganda del Rey",
          "Toledo/Argés",
          "Madrid/Arroyomolinos",
          "Barcelona/Avinyo",
          "Barcelona/Badalona",
          "Barcelona/Baga",
          "Barcelona/Balsareny",
          "Barcelona/Barcelona",
          "Orense/Barco de Valdeorras",
          "Toledo/Bargas",
          "Tarragona/Batea",
          "Madrid/Becerril de la Sierra",
          "Girona/Begur",
          "Lleida/Bellver de Cerdanya",
          "Madrid/Belmonte de Tajo",
          "Huesca/Benabarre",
          "Málaga/Benalmádena",
          "Girona/Bescano",
          "Valladolid/Boecillo",
          "Ciudad Real/Bolaños de Calatrava",
          "Girona/Bolvir",
          "Sevilla/Bormujos",
          "La Coruña/Brion",
          "Madrid/Buitrago del Lozoya",
          "Lugo/Burela",
          "Burgos/Burgos",
          "Valencia/Burjassot",
          "Castellón/Burriana",
          "Madrid/Bustarviejo",
          "Guadalajara/Cabanillas del Campo",
          "Tarragona/Cabra del Camp",
          "Barcelona/Cabrera de Mar",
          "Salamanca/Cabrerizos",
          "Toledo/Calera y Chozas",
          "Barcelona/Calldetenes",
          "Toledo/Camarena",
          "Tarragona/Cambrils",
          "Madrid/Campo Real",
          "Barcelona/Capellades",
          "Madrid/Carabaña",
          "La Coruña/Carballo",
          "Burgos/Cardeñadijo",
          "Barcelona/Cardona",
          "Palencia/Carrion de los Condes",
          "Madrid/Casarrubuelos",
          "Barcelona/Castelldefels",
          "Castellón/Castellon de la Plana/Cas",
          "Tarragona/Catllar",
          "Barcelona/Cerdanyola",
          "Barcelona/Cervelló",
          "Lugo/Chantada",
          "Cuenca/Chillarón de Cuenca",
          "Ciudad Real/Ciudad Real",
          "Toledo/Cobisa",
          "Madrid/Collado Mediano",
          "Madrid/Colmenar de Arroyo",
          "Toledo/Consuegra",
          "Barcelona/Corbera de Llobregat",
          "Barcelona/Cornella de Llobregat",
          "Madrid/Corpa",
          "Málaga/Coín",
          "Tarragona/Cunit",
          "Pontevedra/Cuntis",
          "Ciudad Real/Daimiel",
          "Sevilla/Dos Hermanas",
          "Almeria/Ejido",
          "Madrid/El Boalo",
          "Madrid/El Álamo",
          "Alicante/Elche/Elx",
          "Barcelona/Esparreguera",
          "Guadalajara/Espinosa de Henares",
          "Burgos/Espinosa de los Monteros",
          "Barcelona/Esplugues Del Llobregat",
          "Málaga/Estepona",
          "Pontevedra/Estrada",
          "Tarragona/Falset",
          "La Coruña/Ferrol",
          "Tarragona/Figuera",
          "Alicante/Finestrat",
          "Barcelona/Folgueroles",
          "Girona/Fontanals de Cerdanya",
          "Guadalajara/Fontanar",
          "Valencia/Fontanars dels Alforins",
          "Girona/Fornells de la Selva",
          "Lugo/Foz",
          "Madrid/Fuenlabrada",
          "Cuenca/Fuentenava de Jábaga",
          "León/Garrafe de Torio",
          "Barcelona/Gava",
          "Madrid/Getafe",
          "Huelva/Gibraleón",
          "Albacete/Gineta",
          "Girona/Girona",
          "Barcelona/Granollers",
          "Tarragona/Gratallops",
          "Huesca/Graus",
          "Palencia/Grijota",
          "Alicante/Guardamar del Segura",
          "Tarragona/Guiamets",
          "La Rioja/Haro",
          "Huelva/Higuera de la Sierra",
          "Huelva/Huelva",
          "Barcelona/Igualada",
          "Toledo/Illescas",
          "Cuenca/Iniesta",
          "Huelva/Isla Cristina",
          "Girona/Jonquera",
          "Barcelona/L'Hospitalet de Llobregat",
          "Barcelona/La Llagosta",
          "Toledo/La Pueblanueva",
          "Valladolid/Laguna de Duero",
          "Soria/Langa de Duero",
          "Toledo/Layos",
          "Huelva/Lepe",
          "Barcelona/Les Franqueses del Valles",
          "Barcelona/Llacuna",
          "Girona/Llambilles",
          "Lleida/Lleida",
          "Barcelona/Llica de Munt",
          "Barcelona/Llica de Vall",
          "Girona/Llivia",
          "Madrid/Loeches",
          "Madrid/Los Santos de la Humosa",
          "Madrid/Madrid",
          "Toledo/Magán",
          "Sevilla/Mairena del Aljarafe",
          "Ciudad Real/Malagón",
          "Valencia/Manises",
          "Barcelona/Manresa",
          "Ciudad Real/Manzanares",
          "Madrid/Manzanares El Real",
          "Málaga/Marbella",
          "Cuenca/Mariana",
          "Barcelona/Martorelles",
          "Valladolid/Matapozuelos",
          "Barcelona/Mataro",
          "Toledo/Mazarambroz",
          "Madrid/Meco",
          "Burgos/Medina de Pomar",
          "Valladolid/Medina de Rioseco",
          "Madrid/Mejorada del Campo",
          "Ciudad Real/Miguelturra",
          "Toledo/Mocejón",
          "Barcelona/Mollet Del Valles",
          "Castellón/Moncofa",
          "Lugo/Monforte de Lemos",
          "Valencia/Monserrat",
          "Salamanca/Monterrubio de Armuña",
          "Madrid/Moralzarzal",
          "Cuenca/Mota del Cuervo",
          "Alicante/Mutxamel",
          "Málaga/Málaga",
          "Toledo/Nambroca",
          "Lleida/Naut Aran",
          "Madrid/Navacerrada",
          "Toledo/Navahermosa",
          "Madrid/Navalafuente",
          "Madrid/Navalagamella",
          "Málaga/Nerja",
          "Toledo/Noez",
          "Alicante/Nucia",
          "La Coruña/Oleiros",
          "Barcelona/Olesa de Montserrat",
          "Girona/Olot",
          "Toledo/Olías del Rey",
          "Toledo/Ontígola",
          "Alicante/Orihuela",
          "Castellón/Oropesa del Mar/Orpesa",
          "Sevilla/Palacios y Villafranca",
          "Palencia/Palencia",
          "Huesca/Panticosa",
          "Valencia/Paterna",
          "Ciudad Real/Pedro Muñoz",
          "Madrid/Pelayos de la Presa",
          "Tarragona/Perafort",
          "Orense/Pereiro de Aguiar",
          "Tarragona/Perello",
          "Castellón/Peñiscola",
          "Barcelona/Piera",
          "Alicante/Pilar de la Horadada",
          "Madrid/Pinto",
          "Girona/Planes d'Hostoles",
          "Lleida/Pobla de Segur",
          "Ciudad Real/Poblete",
          "Tarragona/Poboleda",
          "Barcelona/Polinya",
          "Lleida/Ponts",
          "Girona/Port de la Selva",
          "Girona/Portbou",
          "Madrid/Pozuelo de Alarcón",
          "Ciudad Real/Pozuelo de Calatrava",
          "Barcelona/Premia de Dalt",
          "Barcelona/Premia de Mar",
          "Ciudad Real/Puertollano",
          "Valencia/Puçol",
          "Toledo/Recas",
          "Valladolid/Renedo de Esgueva",
          "Tarragona/Reus",
          "Segovia/Riaza",
          "Valencia/Riba-roja de Turia",
          "Málaga/Rincón de la Victoria",
          "Madrid/Rivas-Vaciamadrid",
          "Madrid/Robledo de Chavela",
          "Alicante/Rojales",
          "Almeria/Roquetas de Mar",
          "Girona/Roses",
          "Barcelona/Rubi",
          "Barcelona/Sabadell",
          "La Coruña/Sada",
          "Valencia/Sagunto/Sagunt",
          "Lleida/Salas de Pallars",
          "Palencia/Saldaña",
          "León/San Andres del Rabanedo",
          "Madrid/San Fernando de Henares",
          "Madrid/San M. de Valdeiglesias",
          "Barcelona/Sant Adria Del Besos",
          "Barcelona/Sant Andreu de Llavaneres",
          "Barcelona/Sant Antoni Vilamajor",
          "Barcelona/Sant Boi Del Llobregat",
          "Girona/Sant Climent Sescebes",
          "Barcelona/Sant Cugat Del Valles",
          "Barcelona/Sant Esteve Palautordera",
          "Barcelona/Sant Esteve Sesrovires",
          "Barcelona/Sant Feliu Del Llobregat",
          "Girona/Sant Feliu de Guixols",
          "Girona/Sant Feliu de Pallerols",
          "Girona/Sant Hilari Sacalm",
          "Barcelona/Sant Julia de Vilatorta",
          "Barcelona/Sant Just Desvern",
          "Barcelona/Sant Marti Sarroca",
          "Girona/Sant Marti de Llemena",
          "Barcelona/Sant Mateu de Bages",
          "Barcelona/Sant Pere de Ribes",
          "Barcelona/Sant Pol de Mar",
          "Barcelona/Sant Quirze Del Valles",
          "Barcelona/Sant Salvador de Guardiol",
          "Barcelona/Sant Vicens Dels Horts",
          "León/Santa María del Páramo",
          "Toledo/Santa Olalla",
          "La Coruña/Santiago de Compostela",
          "Toledo/Seseña",
          "Lleida/Seu d'Urgell",
          "Sevilla/Sevilla",
          "Barcelona/Sitges",
          "Ciudad Real/Solana",
          "Barcelona/Sta Coloma de Gramanet",
          "Barcelona/Sta Eugenia de Berga",
          "Barcelona/Sta Margarida i els Monj",
          "Barcelona/Sta Perpètua de Mogoda",
          "Toledo/Talavera de la Reina",
          "Tarragona/Tarragona",
          "Barcelona/Teia",
          "Barcelona/Terrassa",
          "Barcelona/Tiana",
          "Toledo/Toledo",
          "Sevilla/Tomares",
          "Ciudad Real/Tomelloso",
          "Madrid/Torrejón de Velasco",
          "Madrid/Torrejón de la Calzada",
          "Barcelona/Torrelles de Llobregat",
          "Málaga/Torremolinos",
          "Ciudad Real/Torrenueva",
          "Madrid/Torres de la Alameda",
          "Toledo/Torrijos",
          "Girona/Tossa de Mar",
          "Lleida/Tremp",
          "Valladolid/Tudela de Duero",
          "Guadalajara/Tórtola de Henares",
          "Toledo/Ugena",
          "Barcelona/Ullastrell",
          "León/Valdefresno",
          "Madrid/Valdemanco",
          "Valencia/Valencia",
          "Castellón/Vall d'Uixo",
          "Girona/Vall-llobrega",
          "Valladolid/Valladolid",
          "Barcelona/Vallromanes",
          "Madrid/Velilla de San Antonio",
          "Palencia/Venta de Baños",
          "Toledo/Ventas de Retamosa",
          "Madrid/Venturada",
          "Girona/Verges",
          "Orense/Verín",
          "Lleida/Vielha e Mijaran",
          "Pontevedra/Vigo",
          "Barcelona/Viladecans",
          "Barcelona/Vilafranca del Penedès",
          "Barcelona/Vilanova I La Geltru",
          "Toledo/Villacañas",
          "Castellón/Villafranca del Cid",
          "Madrid/Villalbilla",
          "La Rioja/Villamediana de Iregua",
          "León/Villaquilambre",
          "Burgos/Villariezo",
          "Albacete/Villarrobledo",
          "León/Villasabariego",
          "Castellón/Vinaros",
          "Toledo/Viso de San Juan",
          "Málaga/Vélez-Málaga",
          "Almeria/Vícar",
          "Toledo/Yuncos",
          "Zaragoza/Zaragoza",
          "Albacete",
          "Alicante",
          "Almeria",
          "Barcelona",
          "Burgos",
          "Castellón",
          "Ciudad Real",
          "Cuenca",
          "Córdoba",
          "Girona",
          "Guadalajara",
          "Huelva",
          "Huesca",
          "La Coruña",
          "La Rioja",
          "León",
          "Lleida",
          "Lugo",
          "Madrid",
          "Málaga",
          "Orense",
          "Palencia",
          "Pontevedra",
          "Salamanca",
          "Segovia",
          "Sevilla",
          "Soria",
          "Tarragona",
          "Toledo",
          "Valencia",
          "Valladolid",
          "Zaragoza"
         ],
         "labels": [
          "Ador",
          "Agramunt",
          "Aguilar de la Frontera",
          "Albacete",
          "Albages",
          "Albelda",
          "Alcobendas",
          "Alcudia",
          "Alcázar de San Juan",
          "Alella",
          "Alfaz del Pi",
          "Alicante/Alacant",
          "Allariz",
          "Almagro",
          "Almudevar",
          "Alpens",
          "Altea",
          "Alzira",
          "Aranda de Duero",
          "Aranjuez",
          "Argamasilla de Calatrava",
          "Arganda del Rey",
          "Argés",
          "Arroyomolinos",
          "Avinyo",
          "Badalona",
          "Baga",
          "Balsareny",
          "Barcelona",
          "Barco de Valdeorras",
          "Bargas",
          "Batea",
          "Becerril de la Sierra",
          "Begur",
          "Bellver de Cerdanya",
          "Belmonte de Tajo",
          "Benabarre",
          "Benalmádena",
          "Bescano",
          "Boecillo",
          "Bolaños de Calatrava",
          "Bolvir",
          "Bormujos",
          "Brion",
          "Buitrago del Lozoya",
          "Burela",
          "Burgos",
          "Burjassot",
          "Burriana",
          "Bustarviejo",
          "Cabanillas del Campo",
          "Cabra del Camp",
          "Cabrera de Mar",
          "Cabrerizos",
          "Calera y Chozas",
          "Calldetenes",
          "Camarena",
          "Cambrils",
          "Campo Real",
          "Capellades",
          "Carabaña",
          "Carballo",
          "Cardeñadijo",
          "Cardona",
          "Carrion de los Condes",
          "Casarrubuelos",
          "Castelldefels",
          "Castellon de la Plana/Cas",
          "Catllar",
          "Cerdanyola",
          "Cervelló",
          "Chantada",
          "Chillarón de Cuenca",
          "Ciudad Real",
          "Cobisa",
          "Collado Mediano",
          "Colmenar de Arroyo",
          "Consuegra",
          "Corbera de Llobregat",
          "Cornella de Llobregat",
          "Corpa",
          "Coín",
          "Cunit",
          "Cuntis",
          "Daimiel",
          "Dos Hermanas",
          "Ejido",
          "El Boalo",
          "El Álamo",
          "Elche/Elx",
          "Esparreguera",
          "Espinosa de Henares",
          "Espinosa de los Monteros",
          "Esplugues Del Llobregat",
          "Estepona",
          "Estrada",
          "Falset",
          "Ferrol",
          "Figuera",
          "Finestrat",
          "Folgueroles",
          "Fontanals de Cerdanya",
          "Fontanar",
          "Fontanars dels Alforins",
          "Fornells de la Selva",
          "Foz",
          "Fuenlabrada",
          "Fuentenava de Jábaga",
          "Garrafe de Torio",
          "Gava",
          "Getafe",
          "Gibraleón",
          "Gineta",
          "Girona",
          "Granollers",
          "Gratallops",
          "Graus",
          "Grijota",
          "Guardamar del Segura",
          "Guiamets",
          "Haro",
          "Higuera de la Sierra",
          "Huelva",
          "Igualada",
          "Illescas",
          "Iniesta",
          "Isla Cristina",
          "Jonquera",
          "L'Hospitalet de Llobregat",
          "La Llagosta",
          "La Pueblanueva",
          "Laguna de Duero",
          "Langa de Duero",
          "Layos",
          "Lepe",
          "Les Franqueses del Valles",
          "Llacuna",
          "Llambilles",
          "Lleida",
          "Llica de Munt",
          "Llica de Vall",
          "Llivia",
          "Loeches",
          "Los Santos de la Humosa",
          "Madrid",
          "Magán",
          "Mairena del Aljarafe",
          "Malagón",
          "Manises",
          "Manresa",
          "Manzanares",
          "Manzanares El Real",
          "Marbella",
          "Mariana",
          "Martorelles",
          "Matapozuelos",
          "Mataro",
          "Mazarambroz",
          "Meco",
          "Medina de Pomar",
          "Medina de Rioseco",
          "Mejorada del Campo",
          "Miguelturra",
          "Mocejón",
          "Mollet Del Valles",
          "Moncofa",
          "Monforte de Lemos",
          "Monserrat",
          "Monterrubio de Armuña",
          "Moralzarzal",
          "Mota del Cuervo",
          "Mutxamel",
          "Málaga",
          "Nambroca",
          "Naut Aran",
          "Navacerrada",
          "Navahermosa",
          "Navalafuente",
          "Navalagamella",
          "Nerja",
          "Noez",
          "Nucia",
          "Oleiros",
          "Olesa de Montserrat",
          "Olot",
          "Olías del Rey",
          "Ontígola",
          "Orihuela",
          "Oropesa del Mar/Orpesa",
          "Palacios y Villafranca",
          "Palencia",
          "Panticosa",
          "Paterna",
          "Pedro Muñoz",
          "Pelayos de la Presa",
          "Perafort",
          "Pereiro de Aguiar",
          "Perello",
          "Peñiscola",
          "Piera",
          "Pilar de la Horadada",
          "Pinto",
          "Planes d'Hostoles",
          "Pobla de Segur",
          "Poblete",
          "Poboleda",
          "Polinya",
          "Ponts",
          "Port de la Selva",
          "Portbou",
          "Pozuelo de Alarcón",
          "Pozuelo de Calatrava",
          "Premia de Dalt",
          "Premia de Mar",
          "Puertollano",
          "Puçol",
          "Recas",
          "Renedo de Esgueva",
          "Reus",
          "Riaza",
          "Riba-roja de Turia",
          "Rincón de la Victoria",
          "Rivas-Vaciamadrid",
          "Robledo de Chavela",
          "Rojales",
          "Roquetas de Mar",
          "Roses",
          "Rubi",
          "Sabadell",
          "Sada",
          "Sagunto/Sagunt",
          "Salas de Pallars",
          "Saldaña",
          "San Andres del Rabanedo",
          "San Fernando de Henares",
          "San M. de Valdeiglesias",
          "Sant Adria Del Besos",
          "Sant Andreu de Llavaneres",
          "Sant Antoni Vilamajor",
          "Sant Boi Del Llobregat",
          "Sant Climent Sescebes",
          "Sant Cugat Del Valles",
          "Sant Esteve Palautordera",
          "Sant Esteve Sesrovires",
          "Sant Feliu Del Llobregat",
          "Sant Feliu de Guixols",
          "Sant Feliu de Pallerols",
          "Sant Hilari Sacalm",
          "Sant Julia de Vilatorta",
          "Sant Just Desvern",
          "Sant Marti Sarroca",
          "Sant Marti de Llemena",
          "Sant Mateu de Bages",
          "Sant Pere de Ribes",
          "Sant Pol de Mar",
          "Sant Quirze Del Valles",
          "Sant Salvador de Guardiol",
          "Sant Vicens Dels Horts",
          "Santa María del Páramo",
          "Santa Olalla",
          "Santiago de Compostela",
          "Seseña",
          "Seu d'Urgell",
          "Sevilla",
          "Sitges",
          "Solana",
          "Sta Coloma de Gramanet",
          "Sta Eugenia de Berga",
          "Sta Margarida i els Monj",
          "Sta Perpètua de Mogoda",
          "Talavera de la Reina",
          "Tarragona",
          "Teia",
          "Terrassa",
          "Tiana",
          "Toledo",
          "Tomares",
          "Tomelloso",
          "Torrejón de Velasco",
          "Torrejón de la Calzada",
          "Torrelles de Llobregat",
          "Torremolinos",
          "Torrenueva",
          "Torres de la Alameda",
          "Torrijos",
          "Tossa de Mar",
          "Tremp",
          "Tudela de Duero",
          "Tórtola de Henares",
          "Ugena",
          "Ullastrell",
          "Valdefresno",
          "Valdemanco",
          "Valencia",
          "Vall d'Uixo",
          "Vall-llobrega",
          "Valladolid",
          "Vallromanes",
          "Velilla de San Antonio",
          "Venta de Baños",
          "Ventas de Retamosa",
          "Venturada",
          "Verges",
          "Verín",
          "Vielha e Mijaran",
          "Vigo",
          "Viladecans",
          "Vilafranca del Penedès",
          "Vilanova I La Geltru",
          "Villacañas",
          "Villafranca del Cid",
          "Villalbilla",
          "Villamediana de Iregua",
          "Villaquilambre",
          "Villariezo",
          "Villarrobledo",
          "Villasabariego",
          "Vinaros",
          "Viso de San Juan",
          "Vélez-Málaga",
          "Vícar",
          "Yuncos",
          "Zaragoza",
          "Albacete",
          "Alicante",
          "Almeria",
          "Barcelona",
          "Burgos",
          "Castellón",
          "Ciudad Real",
          "Cuenca",
          "Córdoba",
          "Girona",
          "Guadalajara",
          "Huelva",
          "Huesca",
          "La Coruña",
          "La Rioja",
          "León",
          "Lleida",
          "Lugo",
          "Madrid",
          "Málaga",
          "Orense",
          "Palencia",
          "Pontevedra",
          "Salamanca",
          "Segovia",
          "Sevilla",
          "Soria",
          "Tarragona",
          "Toledo",
          "Valencia",
          "Valladolid",
          "Zaragoza"
         ],
         "name": "",
         "parents": [
          "Valencia",
          "Lleida",
          "Córdoba",
          "Albacete",
          "Lleida",
          "Huesca",
          "Madrid",
          "Valencia",
          "Ciudad Real",
          "Barcelona",
          "Alicante",
          "Alicante",
          "Orense",
          "Ciudad Real",
          "Huesca",
          "Barcelona",
          "Alicante",
          "Valencia",
          "Burgos",
          "Madrid",
          "Ciudad Real",
          "Madrid",
          "Toledo",
          "Madrid",
          "Barcelona",
          "Barcelona",
          "Barcelona",
          "Barcelona",
          "Barcelona",
          "Orense",
          "Toledo",
          "Tarragona",
          "Madrid",
          "Girona",
          "Lleida",
          "Madrid",
          "Huesca",
          "Málaga",
          "Girona",
          "Valladolid",
          "Ciudad Real",
          "Girona",
          "Sevilla",
          "La Coruña",
          "Madrid",
          "Lugo",
          "Burgos",
          "Valencia",
          "Castellón",
          "Madrid",
          "Guadalajara",
          "Tarragona",
          "Barcelona",
          "Salamanca",
          "Toledo",
          "Barcelona",
          "Toledo",
          "Tarragona",
          "Madrid",
          "Barcelona",
          "Madrid",
          "La Coruña",
          "Burgos",
          "Barcelona",
          "Palencia",
          "Madrid",
          "Barcelona",
          "Castellón",
          "Tarragona",
          "Barcelona",
          "Barcelona",
          "Lugo",
          "Cuenca",
          "Ciudad Real",
          "Toledo",
          "Madrid",
          "Madrid",
          "Toledo",
          "Barcelona",
          "Barcelona",
          "Madrid",
          "Málaga",
          "Tarragona",
          "Pontevedra",
          "Ciudad Real",
          "Sevilla",
          "Almeria",
          "Madrid",
          "Madrid",
          "Alicante",
          "Barcelona",
          "Guadalajara",
          "Burgos",
          "Barcelona",
          "Málaga",
          "Pontevedra",
          "Tarragona",
          "La Coruña",
          "Tarragona",
          "Alicante",
          "Barcelona",
          "Girona",
          "Guadalajara",
          "Valencia",
          "Girona",
          "Lugo",
          "Madrid",
          "Cuenca",
          "León",
          "Barcelona",
          "Madrid",
          "Huelva",
          "Albacete",
          "Girona",
          "Barcelona",
          "Tarragona",
          "Huesca",
          "Palencia",
          "Alicante",
          "Tarragona",
          "La Rioja",
          "Huelva",
          "Huelva",
          "Barcelona",
          "Toledo",
          "Cuenca",
          "Huelva",
          "Girona",
          "Barcelona",
          "Barcelona",
          "Toledo",
          "Valladolid",
          "Soria",
          "Toledo",
          "Huelva",
          "Barcelona",
          "Barcelona",
          "Girona",
          "Lleida",
          "Barcelona",
          "Barcelona",
          "Girona",
          "Madrid",
          "Madrid",
          "Madrid",
          "Toledo",
          "Sevilla",
          "Ciudad Real",
          "Valencia",
          "Barcelona",
          "Ciudad Real",
          "Madrid",
          "Málaga",
          "Cuenca",
          "Barcelona",
          "Valladolid",
          "Barcelona",
          "Toledo",
          "Madrid",
          "Burgos",
          "Valladolid",
          "Madrid",
          "Ciudad Real",
          "Toledo",
          "Barcelona",
          "Castellón",
          "Lugo",
          "Valencia",
          "Salamanca",
          "Madrid",
          "Cuenca",
          "Alicante",
          "Málaga",
          "Toledo",
          "Lleida",
          "Madrid",
          "Toledo",
          "Madrid",
          "Madrid",
          "Málaga",
          "Toledo",
          "Alicante",
          "La Coruña",
          "Barcelona",
          "Girona",
          "Toledo",
          "Toledo",
          "Alicante",
          "Castellón",
          "Sevilla",
          "Palencia",
          "Huesca",
          "Valencia",
          "Ciudad Real",
          "Madrid",
          "Tarragona",
          "Orense",
          "Tarragona",
          "Castellón",
          "Barcelona",
          "Alicante",
          "Madrid",
          "Girona",
          "Lleida",
          "Ciudad Real",
          "Tarragona",
          "Barcelona",
          "Lleida",
          "Girona",
          "Girona",
          "Madrid",
          "Ciudad Real",
          "Barcelona",
          "Barcelona",
          "Ciudad Real",
          "Valencia",
          "Toledo",
          "Valladolid",
          "Tarragona",
          "Segovia",
          "Valencia",
          "Málaga",
          "Madrid",
          "Madrid",
          "Alicante",
          "Almeria",
          "Girona",
          "Barcelona",
          "Barcelona",
          "La Coruña",
          "Valencia",
          "Lleida",
          "Palencia",
          "León",
          "Madrid",
          "Madrid",
          "Barcelona",
          "Barcelona",
          "Barcelona",
          "Barcelona",
          "Girona",
          "Barcelona",
          "Barcelona",
          "Barcelona",
          "Barcelona",
          "Girona",
          "Girona",
          "Girona",
          "Barcelona",
          "Barcelona",
          "Barcelona",
          "Girona",
          "Barcelona",
          "Barcelona",
          "Barcelona",
          "Barcelona",
          "Barcelona",
          "Barcelona",
          "León",
          "Toledo",
          "La Coruña",
          "Toledo",
          "Lleida",
          "Sevilla",
          "Barcelona",
          "Ciudad Real",
          "Barcelona",
          "Barcelona",
          "Barcelona",
          "Barcelona",
          "Toledo",
          "Tarragona",
          "Barcelona",
          "Barcelona",
          "Barcelona",
          "Toledo",
          "Sevilla",
          "Ciudad Real",
          "Madrid",
          "Madrid",
          "Barcelona",
          "Málaga",
          "Ciudad Real",
          "Madrid",
          "Toledo",
          "Girona",
          "Lleida",
          "Valladolid",
          "Guadalajara",
          "Toledo",
          "Barcelona",
          "León",
          "Madrid",
          "Valencia",
          "Castellón",
          "Girona",
          "Valladolid",
          "Barcelona",
          "Madrid",
          "Palencia",
          "Toledo",
          "Madrid",
          "Girona",
          "Orense",
          "Lleida",
          "Pontevedra",
          "Barcelona",
          "Barcelona",
          "Barcelona",
          "Toledo",
          "Castellón",
          "Madrid",
          "La Rioja",
          "León",
          "Burgos",
          "Albacete",
          "León",
          "Castellón",
          "Toledo",
          "Málaga",
          "Almeria",
          "Toledo",
          "Zaragoza",
          "",
          "",
          "",
          "",
          "",
          "",
          "",
          "",
          "",
          "",
          "",
          "",
          "",
          "",
          "",
          "",
          "",
          "",
          "",
          "",
          "",
          "",
          "",
          "",
          "",
          "",
          "",
          "",
          "",
          "",
          "",
          ""
         ],
         "type": "treemap",
         "values": [
          6,
          4,
          2,
          3,
          1,
          3,
          1,
          1,
          2,
          2,
          1,
          1,
          1,
          1,
          2,
          1,
          2,
          1,
          1,
          1,
          1,
          8,
          7,
          29,
          1,
          7,
          1,
          2,
          50,
          1,
          1,
          3,
          13,
          1,
          3,
          2,
          2,
          1,
          3,
          1,
          2,
          1,
          1,
          1,
          1,
          1,
          2,
          1,
          1,
          1,
          1,
          2,
          4,
          1,
          2,
          6,
          2,
          1,
          5,
          1,
          4,
          4,
          1,
          2,
          1,
          5,
          3,
          2,
          1,
          5,
          1,
          4,
          2,
          1,
          4,
          29,
          4,
          1,
          1,
          4,
          2,
          1,
          1,
          5,
          2,
          1,
          6,
          26,
          8,
          1,
          1,
          2,
          1,
          5,
          1,
          1,
          1,
          8,
          2,
          3,
          2,
          1,
          1,
          5,
          1,
          3,
          1,
          1,
          2,
          2,
          4,
          1,
          2,
          2,
          2,
          1,
          2,
          1,
          1,
          1,
          2,
          2,
          1,
          10,
          3,
          3,
          2,
          4,
          8,
          1,
          2,
          1,
          1,
          3,
          2,
          4,
          5,
          1,
          2,
          1,
          1,
          2,
          1,
          6,
          215,
          1,
          4,
          2,
          2,
          19,
          1,
          1,
          3,
          2,
          2,
          2,
          3,
          1,
          5,
          1,
          1,
          2,
          1,
          1,
          3,
          1,
          1,
          1,
          4,
          56,
          1,
          6,
          8,
          3,
          1,
          2,
          1,
          3,
          3,
          8,
          1,
          6,
          3,
          3,
          8,
          3,
          2,
          4,
          2,
          1,
          2,
          1,
          4,
          1,
          2,
          1,
          1,
          2,
          3,
          2,
          2,
          1,
          2,
          1,
          7,
          1,
          1,
          2,
          1,
          1,
          3,
          1,
          1,
          2,
          1,
          2,
          1,
          1,
          1,
          2,
          2,
          1,
          2,
          12,
          1,
          3,
          1,
          21,
          26,
          3,
          2,
          3,
          10,
          1,
          17,
          2,
          3,
          1,
          1,
          1,
          1,
          6,
          1,
          2,
          1,
          4,
          2,
          1,
          4,
          2,
          1,
          1,
          1,
          3,
          2,
          1,
          1,
          1,
          1,
          1,
          3,
          7,
          2,
          12,
          5,
          1,
          7,
          1,
          1,
          1,
          2,
          6,
          1,
          20,
          1,
          3,
          3,
          2,
          1,
          2,
          3,
          1,
          1,
          5,
          1,
          4,
          5,
          1,
          2,
          4,
          1,
          1,
          5,
          72,
          6,
          1,
          5,
          2,
          19,
          1,
          8,
          2,
          2,
          7,
          1,
          2,
          7,
          2,
          4,
          1,
          3,
          1,
          1,
          1,
          2,
          2,
          1,
          1,
          1,
          2,
          4,
          1,
          1,
          7,
          28,
          13,
          304,
          8,
          19,
          27,
          9,
          2,
          45,
          6,
          8,
          10,
          22,
          3,
          7,
          25,
          9,
          512,
          26,
          10,
          15,
          8,
          5,
          2,
          22,
          1,
          24,
          68,
          99,
          12,
          1
         ]
        }
       ],
       "layout": {
        "legend": {
         "tracegroupgap": 0
        },
        "margin": {
         "t": 60
        },
        "template": {
         "data": {
          "bar": [
           {
            "error_x": {
             "color": "#2a3f5f"
            },
            "error_y": {
             "color": "#2a3f5f"
            },
            "marker": {
             "line": {
              "color": "#E5ECF6",
              "width": 0.5
             },
             "pattern": {
              "fillmode": "overlay",
              "size": 10,
              "solidity": 0.2
             }
            },
            "type": "bar"
           }
          ],
          "barpolar": [
           {
            "marker": {
             "line": {
              "color": "#E5ECF6",
              "width": 0.5
             },
             "pattern": {
              "fillmode": "overlay",
              "size": 10,
              "solidity": 0.2
             }
            },
            "type": "barpolar"
           }
          ],
          "carpet": [
           {
            "aaxis": {
             "endlinecolor": "#2a3f5f",
             "gridcolor": "white",
             "linecolor": "white",
             "minorgridcolor": "white",
             "startlinecolor": "#2a3f5f"
            },
            "baxis": {
             "endlinecolor": "#2a3f5f",
             "gridcolor": "white",
             "linecolor": "white",
             "minorgridcolor": "white",
             "startlinecolor": "#2a3f5f"
            },
            "type": "carpet"
           }
          ],
          "choropleth": [
           {
            "colorbar": {
             "outlinewidth": 0,
             "ticks": ""
            },
            "type": "choropleth"
           }
          ],
          "contour": [
           {
            "colorbar": {
             "outlinewidth": 0,
             "ticks": ""
            },
            "colorscale": [
             [
              0,
              "#0d0887"
             ],
             [
              0.1111111111111111,
              "#46039f"
             ],
             [
              0.2222222222222222,
              "#7201a8"
             ],
             [
              0.3333333333333333,
              "#9c179e"
             ],
             [
              0.4444444444444444,
              "#bd3786"
             ],
             [
              0.5555555555555556,
              "#d8576b"
             ],
             [
              0.6666666666666666,
              "#ed7953"
             ],
             [
              0.7777777777777778,
              "#fb9f3a"
             ],
             [
              0.8888888888888888,
              "#fdca26"
             ],
             [
              1,
              "#f0f921"
             ]
            ],
            "type": "contour"
           }
          ],
          "contourcarpet": [
           {
            "colorbar": {
             "outlinewidth": 0,
             "ticks": ""
            },
            "type": "contourcarpet"
           }
          ],
          "heatmap": [
           {
            "colorbar": {
             "outlinewidth": 0,
             "ticks": ""
            },
            "colorscale": [
             [
              0,
              "#0d0887"
             ],
             [
              0.1111111111111111,
              "#46039f"
             ],
             [
              0.2222222222222222,
              "#7201a8"
             ],
             [
              0.3333333333333333,
              "#9c179e"
             ],
             [
              0.4444444444444444,
              "#bd3786"
             ],
             [
              0.5555555555555556,
              "#d8576b"
             ],
             [
              0.6666666666666666,
              "#ed7953"
             ],
             [
              0.7777777777777778,
              "#fb9f3a"
             ],
             [
              0.8888888888888888,
              "#fdca26"
             ],
             [
              1,
              "#f0f921"
             ]
            ],
            "type": "heatmap"
           }
          ],
          "heatmapgl": [
           {
            "colorbar": {
             "outlinewidth": 0,
             "ticks": ""
            },
            "colorscale": [
             [
              0,
              "#0d0887"
             ],
             [
              0.1111111111111111,
              "#46039f"
             ],
             [
              0.2222222222222222,
              "#7201a8"
             ],
             [
              0.3333333333333333,
              "#9c179e"
             ],
             [
              0.4444444444444444,
              "#bd3786"
             ],
             [
              0.5555555555555556,
              "#d8576b"
             ],
             [
              0.6666666666666666,
              "#ed7953"
             ],
             [
              0.7777777777777778,
              "#fb9f3a"
             ],
             [
              0.8888888888888888,
              "#fdca26"
             ],
             [
              1,
              "#f0f921"
             ]
            ],
            "type": "heatmapgl"
           }
          ],
          "histogram": [
           {
            "marker": {
             "pattern": {
              "fillmode": "overlay",
              "size": 10,
              "solidity": 0.2
             }
            },
            "type": "histogram"
           }
          ],
          "histogram2d": [
           {
            "colorbar": {
             "outlinewidth": 0,
             "ticks": ""
            },
            "colorscale": [
             [
              0,
              "#0d0887"
             ],
             [
              0.1111111111111111,
              "#46039f"
             ],
             [
              0.2222222222222222,
              "#7201a8"
             ],
             [
              0.3333333333333333,
              "#9c179e"
             ],
             [
              0.4444444444444444,
              "#bd3786"
             ],
             [
              0.5555555555555556,
              "#d8576b"
             ],
             [
              0.6666666666666666,
              "#ed7953"
             ],
             [
              0.7777777777777778,
              "#fb9f3a"
             ],
             [
              0.8888888888888888,
              "#fdca26"
             ],
             [
              1,
              "#f0f921"
             ]
            ],
            "type": "histogram2d"
           }
          ],
          "histogram2dcontour": [
           {
            "colorbar": {
             "outlinewidth": 0,
             "ticks": ""
            },
            "colorscale": [
             [
              0,
              "#0d0887"
             ],
             [
              0.1111111111111111,
              "#46039f"
             ],
             [
              0.2222222222222222,
              "#7201a8"
             ],
             [
              0.3333333333333333,
              "#9c179e"
             ],
             [
              0.4444444444444444,
              "#bd3786"
             ],
             [
              0.5555555555555556,
              "#d8576b"
             ],
             [
              0.6666666666666666,
              "#ed7953"
             ],
             [
              0.7777777777777778,
              "#fb9f3a"
             ],
             [
              0.8888888888888888,
              "#fdca26"
             ],
             [
              1,
              "#f0f921"
             ]
            ],
            "type": "histogram2dcontour"
           }
          ],
          "mesh3d": [
           {
            "colorbar": {
             "outlinewidth": 0,
             "ticks": ""
            },
            "type": "mesh3d"
           }
          ],
          "parcoords": [
           {
            "line": {
             "colorbar": {
              "outlinewidth": 0,
              "ticks": ""
             }
            },
            "type": "parcoords"
           }
          ],
          "pie": [
           {
            "automargin": true,
            "type": "pie"
           }
          ],
          "scatter": [
           {
            "fillpattern": {
             "fillmode": "overlay",
             "size": 10,
             "solidity": 0.2
            },
            "type": "scatter"
           }
          ],
          "scatter3d": [
           {
            "line": {
             "colorbar": {
              "outlinewidth": 0,
              "ticks": ""
             }
            },
            "marker": {
             "colorbar": {
              "outlinewidth": 0,
              "ticks": ""
             }
            },
            "type": "scatter3d"
           }
          ],
          "scattercarpet": [
           {
            "marker": {
             "colorbar": {
              "outlinewidth": 0,
              "ticks": ""
             }
            },
            "type": "scattercarpet"
           }
          ],
          "scattergeo": [
           {
            "marker": {
             "colorbar": {
              "outlinewidth": 0,
              "ticks": ""
             }
            },
            "type": "scattergeo"
           }
          ],
          "scattergl": [
           {
            "marker": {
             "colorbar": {
              "outlinewidth": 0,
              "ticks": ""
             }
            },
            "type": "scattergl"
           }
          ],
          "scattermapbox": [
           {
            "marker": {
             "colorbar": {
              "outlinewidth": 0,
              "ticks": ""
             }
            },
            "type": "scattermapbox"
           }
          ],
          "scatterpolar": [
           {
            "marker": {
             "colorbar": {
              "outlinewidth": 0,
              "ticks": ""
             }
            },
            "type": "scatterpolar"
           }
          ],
          "scatterpolargl": [
           {
            "marker": {
             "colorbar": {
              "outlinewidth": 0,
              "ticks": ""
             }
            },
            "type": "scatterpolargl"
           }
          ],
          "scatterternary": [
           {
            "marker": {
             "colorbar": {
              "outlinewidth": 0,
              "ticks": ""
             }
            },
            "type": "scatterternary"
           }
          ],
          "surface": [
           {
            "colorbar": {
             "outlinewidth": 0,
             "ticks": ""
            },
            "colorscale": [
             [
              0,
              "#0d0887"
             ],
             [
              0.1111111111111111,
              "#46039f"
             ],
             [
              0.2222222222222222,
              "#7201a8"
             ],
             [
              0.3333333333333333,
              "#9c179e"
             ],
             [
              0.4444444444444444,
              "#bd3786"
             ],
             [
              0.5555555555555556,
              "#d8576b"
             ],
             [
              0.6666666666666666,
              "#ed7953"
             ],
             [
              0.7777777777777778,
              "#fb9f3a"
             ],
             [
              0.8888888888888888,
              "#fdca26"
             ],
             [
              1,
              "#f0f921"
             ]
            ],
            "type": "surface"
           }
          ],
          "table": [
           {
            "cells": {
             "fill": {
              "color": "#EBF0F8"
             },
             "line": {
              "color": "white"
             }
            },
            "header": {
             "fill": {
              "color": "#C8D4E3"
             },
             "line": {
              "color": "white"
             }
            },
            "type": "table"
           }
          ]
         },
         "layout": {
          "annotationdefaults": {
           "arrowcolor": "#2a3f5f",
           "arrowhead": 0,
           "arrowwidth": 1
          },
          "autotypenumbers": "strict",
          "coloraxis": {
           "colorbar": {
            "outlinewidth": 0,
            "ticks": ""
           }
          },
          "colorscale": {
           "diverging": [
            [
             0,
             "#8e0152"
            ],
            [
             0.1,
             "#c51b7d"
            ],
            [
             0.2,
             "#de77ae"
            ],
            [
             0.3,
             "#f1b6da"
            ],
            [
             0.4,
             "#fde0ef"
            ],
            [
             0.5,
             "#f7f7f7"
            ],
            [
             0.6,
             "#e6f5d0"
            ],
            [
             0.7,
             "#b8e186"
            ],
            [
             0.8,
             "#7fbc41"
            ],
            [
             0.9,
             "#4d9221"
            ],
            [
             1,
             "#276419"
            ]
           ],
           "sequential": [
            [
             0,
             "#0d0887"
            ],
            [
             0.1111111111111111,
             "#46039f"
            ],
            [
             0.2222222222222222,
             "#7201a8"
            ],
            [
             0.3333333333333333,
             "#9c179e"
            ],
            [
             0.4444444444444444,
             "#bd3786"
            ],
            [
             0.5555555555555556,
             "#d8576b"
            ],
            [
             0.6666666666666666,
             "#ed7953"
            ],
            [
             0.7777777777777778,
             "#fb9f3a"
            ],
            [
             0.8888888888888888,
             "#fdca26"
            ],
            [
             1,
             "#f0f921"
            ]
           ],
           "sequentialminus": [
            [
             0,
             "#0d0887"
            ],
            [
             0.1111111111111111,
             "#46039f"
            ],
            [
             0.2222222222222222,
             "#7201a8"
            ],
            [
             0.3333333333333333,
             "#9c179e"
            ],
            [
             0.4444444444444444,
             "#bd3786"
            ],
            [
             0.5555555555555556,
             "#d8576b"
            ],
            [
             0.6666666666666666,
             "#ed7953"
            ],
            [
             0.7777777777777778,
             "#fb9f3a"
            ],
            [
             0.8888888888888888,
             "#fdca26"
            ],
            [
             1,
             "#f0f921"
            ]
           ]
          },
          "colorway": [
           "#636efa",
           "#EF553B",
           "#00cc96",
           "#ab63fa",
           "#FFA15A",
           "#19d3f3",
           "#FF6692",
           "#B6E880",
           "#FF97FF",
           "#FECB52"
          ],
          "font": {
           "color": "#2a3f5f"
          },
          "geo": {
           "bgcolor": "white",
           "lakecolor": "white",
           "landcolor": "#E5ECF6",
           "showlakes": true,
           "showland": true,
           "subunitcolor": "white"
          },
          "hoverlabel": {
           "align": "left"
          },
          "hovermode": "closest",
          "mapbox": {
           "style": "light"
          },
          "paper_bgcolor": "white",
          "plot_bgcolor": "#E5ECF6",
          "polar": {
           "angularaxis": {
            "gridcolor": "white",
            "linecolor": "white",
            "ticks": ""
           },
           "bgcolor": "#E5ECF6",
           "radialaxis": {
            "gridcolor": "white",
            "linecolor": "white",
            "ticks": ""
           }
          },
          "scene": {
           "xaxis": {
            "backgroundcolor": "#E5ECF6",
            "gridcolor": "white",
            "gridwidth": 2,
            "linecolor": "white",
            "showbackground": true,
            "ticks": "",
            "zerolinecolor": "white"
           },
           "yaxis": {
            "backgroundcolor": "#E5ECF6",
            "gridcolor": "white",
            "gridwidth": 2,
            "linecolor": "white",
            "showbackground": true,
            "ticks": "",
            "zerolinecolor": "white"
           },
           "zaxis": {
            "backgroundcolor": "#E5ECF6",
            "gridcolor": "white",
            "gridwidth": 2,
            "linecolor": "white",
            "showbackground": true,
            "ticks": "",
            "zerolinecolor": "white"
           }
          },
          "shapedefaults": {
           "line": {
            "color": "#2a3f5f"
           }
          },
          "ternary": {
           "aaxis": {
            "gridcolor": "white",
            "linecolor": "white",
            "ticks": ""
           },
           "baxis": {
            "gridcolor": "white",
            "linecolor": "white",
            "ticks": ""
           },
           "bgcolor": "#E5ECF6",
           "caxis": {
            "gridcolor": "white",
            "linecolor": "white",
            "ticks": ""
           }
          },
          "title": {
           "x": 0.05
          },
          "xaxis": {
           "automargin": true,
           "gridcolor": "white",
           "linecolor": "white",
           "ticks": "",
           "title": {
            "standoff": 15
           },
           "zerolinecolor": "white",
           "zerolinewidth": 2
          },
          "yaxis": {
           "automargin": true,
           "gridcolor": "white",
           "linecolor": "white",
           "ticks": "",
           "title": {
            "standoff": 15
           },
           "zerolinecolor": "white",
           "zerolinewidth": 2
          }
         }
        }
       }
      }
     },
     "metadata": {},
     "output_type": "display_data"
    }
   ],
   "source": [
    "#graph a treemap showing the Province and Towns where Probability is higher than 4\n",
    "fig = px.treemap(train_copy[train_copy['Probability_rate'] > .5], path=['Province', 'Town'], values='Probability_rate')\n",
    "fig.show()"
   ]
  },
  {
   "attachments": {},
   "cell_type": "markdown",
   "id": "745f1a83",
   "metadata": {},
   "source": [
    "Having created risk and probability dimensions, we can compute a matrix to be assigned to the provinces for prioritization\n",
    "The matrix should include high risk, high probability to low risk and low probability    "
   ]
  },
  {
   "cell_type": "code",
   "execution_count": 90,
   "id": "b0ed549e",
   "metadata": {},
   "outputs": [
    {
     "data": {
      "text/html": [
       "<div>\n",
       "<style scoped>\n",
       "    .dataframe tbody tr th:only-of-type {\n",
       "        vertical-align: middle;\n",
       "    }\n",
       "\n",
       "    .dataframe tbody tr th {\n",
       "        vertical-align: top;\n",
       "    }\n",
       "\n",
       "    .dataframe thead th {\n",
       "        text-align: right;\n",
       "    }\n",
       "</style>\n",
       "<table border=\"1\" class=\"dataframe\">\n",
       "  <thead>\n",
       "    <tr style=\"text-align: right;\">\n",
       "      <th></th>\n",
       "      <th>relative_risk</th>\n",
       "      <th>Probability_rate</th>\n",
       "    </tr>\n",
       "    <tr>\n",
       "      <th>Province</th>\n",
       "      <th></th>\n",
       "      <th></th>\n",
       "    </tr>\n",
       "  </thead>\n",
       "  <tbody>\n",
       "    <tr>\n",
       "      <th>Albacete</th>\n",
       "      <td>0.00</td>\n",
       "      <td>0.00</td>\n",
       "    </tr>\n",
       "    <tr>\n",
       "      <th>Alicante</th>\n",
       "      <td>0.00</td>\n",
       "      <td>0.00</td>\n",
       "    </tr>\n",
       "    <tr>\n",
       "      <th>Almeria</th>\n",
       "      <td>0.01</td>\n",
       "      <td>0.00</td>\n",
       "    </tr>\n",
       "    <tr>\n",
       "      <th>Avila</th>\n",
       "      <td>0.62</td>\n",
       "      <td>0.12</td>\n",
       "    </tr>\n",
       "    <tr>\n",
       "      <th>Barcelona</th>\n",
       "      <td>0.03</td>\n",
       "      <td>0.00</td>\n",
       "    </tr>\n",
       "    <tr>\n",
       "      <th>Burgos</th>\n",
       "      <td>0.02</td>\n",
       "      <td>0.00</td>\n",
       "    </tr>\n",
       "    <tr>\n",
       "      <th>Castellón</th>\n",
       "      <td>0.01</td>\n",
       "      <td>0.00</td>\n",
       "    </tr>\n",
       "    <tr>\n",
       "      <th>Ciudad Real</th>\n",
       "      <td>0.01</td>\n",
       "      <td>0.00</td>\n",
       "    </tr>\n",
       "    <tr>\n",
       "      <th>Cuenca</th>\n",
       "      <td>0.02</td>\n",
       "      <td>0.00</td>\n",
       "    </tr>\n",
       "    <tr>\n",
       "      <th>Cádiz</th>\n",
       "      <td>0.01</td>\n",
       "      <td>0.00</td>\n",
       "    </tr>\n",
       "    <tr>\n",
       "      <th>Córdoba</th>\n",
       "      <td>0.01</td>\n",
       "      <td>0.00</td>\n",
       "    </tr>\n",
       "    <tr>\n",
       "      <th>Girona</th>\n",
       "      <td>0.01</td>\n",
       "      <td>0.00</td>\n",
       "    </tr>\n",
       "    <tr>\n",
       "      <th>Granada</th>\n",
       "      <td>0.01</td>\n",
       "      <td>0.00</td>\n",
       "    </tr>\n",
       "    <tr>\n",
       "      <th>Guadalajara</th>\n",
       "      <td>0.02</td>\n",
       "      <td>0.00</td>\n",
       "    </tr>\n",
       "    <tr>\n",
       "      <th>Huelva</th>\n",
       "      <td>0.03</td>\n",
       "      <td>0.00</td>\n",
       "    </tr>\n",
       "    <tr>\n",
       "      <th>Huesca</th>\n",
       "      <td>0.05</td>\n",
       "      <td>0.01</td>\n",
       "    </tr>\n",
       "    <tr>\n",
       "      <th>Jaén</th>\n",
       "      <td>0.01</td>\n",
       "      <td>0.00</td>\n",
       "    </tr>\n",
       "    <tr>\n",
       "      <th>La Coruña</th>\n",
       "      <td>0.01</td>\n",
       "      <td>0.00</td>\n",
       "    </tr>\n",
       "    <tr>\n",
       "      <th>La Rioja</th>\n",
       "      <td>0.01</td>\n",
       "      <td>0.00</td>\n",
       "    </tr>\n",
       "    <tr>\n",
       "      <th>León</th>\n",
       "      <td>0.00</td>\n",
       "      <td>0.00</td>\n",
       "    </tr>\n",
       "    <tr>\n",
       "      <th>Lleida</th>\n",
       "      <td>0.01</td>\n",
       "      <td>0.00</td>\n",
       "    </tr>\n",
       "    <tr>\n",
       "      <th>Lugo</th>\n",
       "      <td>0.02</td>\n",
       "      <td>0.00</td>\n",
       "    </tr>\n",
       "    <tr>\n",
       "      <th>Madrid</th>\n",
       "      <td>0.13</td>\n",
       "      <td>0.01</td>\n",
       "    </tr>\n",
       "    <tr>\n",
       "      <th>Málaga</th>\n",
       "      <td>0.02</td>\n",
       "      <td>0.00</td>\n",
       "    </tr>\n",
       "    <tr>\n",
       "      <th>Orense</th>\n",
       "      <td>0.01</td>\n",
       "      <td>0.00</td>\n",
       "    </tr>\n",
       "    <tr>\n",
       "      <th>Palencia</th>\n",
       "      <td>0.02</td>\n",
       "      <td>0.00</td>\n",
       "    </tr>\n",
       "    <tr>\n",
       "      <th>Pontevedra</th>\n",
       "      <td>0.00</td>\n",
       "      <td>0.00</td>\n",
       "    </tr>\n",
       "    <tr>\n",
       "      <th>Salamanca</th>\n",
       "      <td>0.00</td>\n",
       "      <td>0.00</td>\n",
       "    </tr>\n",
       "    <tr>\n",
       "      <th>Segovia</th>\n",
       "      <td>0.01</td>\n",
       "      <td>0.00</td>\n",
       "    </tr>\n",
       "    <tr>\n",
       "      <th>Sevilla</th>\n",
       "      <td>0.04</td>\n",
       "      <td>0.00</td>\n",
       "    </tr>\n",
       "    <tr>\n",
       "      <th>Soria</th>\n",
       "      <td>0.01</td>\n",
       "      <td>0.00</td>\n",
       "    </tr>\n",
       "    <tr>\n",
       "      <th>Tarragona</th>\n",
       "      <td>0.02</td>\n",
       "      <td>0.00</td>\n",
       "    </tr>\n",
       "    <tr>\n",
       "      <th>Teruel</th>\n",
       "      <td>0.00</td>\n",
       "      <td>0.00</td>\n",
       "    </tr>\n",
       "    <tr>\n",
       "      <th>Toledo</th>\n",
       "      <td>0.02</td>\n",
       "      <td>0.00</td>\n",
       "    </tr>\n",
       "    <tr>\n",
       "      <th>Valencia</th>\n",
       "      <td>0.02</td>\n",
       "      <td>0.00</td>\n",
       "    </tr>\n",
       "    <tr>\n",
       "      <th>Valladolid</th>\n",
       "      <td>0.02</td>\n",
       "      <td>0.00</td>\n",
       "    </tr>\n",
       "    <tr>\n",
       "      <th>Zamora</th>\n",
       "      <td>0.00</td>\n",
       "      <td>0.00</td>\n",
       "    </tr>\n",
       "    <tr>\n",
       "      <th>Zaragoza</th>\n",
       "      <td>0.01</td>\n",
       "      <td>0.00</td>\n",
       "    </tr>\n",
       "  </tbody>\n",
       "</table>\n",
       "</div>"
      ],
      "text/plain": [
       "             relative_risk  Probability_rate\n",
       "Province                                    \n",
       "Albacete              0.00              0.00\n",
       "Alicante              0.00              0.00\n",
       "Almeria               0.01              0.00\n",
       "Avila                 0.62              0.12\n",
       "Barcelona             0.03              0.00\n",
       "Burgos                0.02              0.00\n",
       "Castellón             0.01              0.00\n",
       "Ciudad Real           0.01              0.00\n",
       "Cuenca                0.02              0.00\n",
       "Cádiz                 0.01              0.00\n",
       "Córdoba               0.01              0.00\n",
       "Girona                0.01              0.00\n",
       "Granada               0.01              0.00\n",
       "Guadalajara           0.02              0.00\n",
       "Huelva                0.03              0.00\n",
       "Huesca                0.05              0.01\n",
       "Jaén                  0.01              0.00\n",
       "La Coruña             0.01              0.00\n",
       "La Rioja              0.01              0.00\n",
       "León                  0.00              0.00\n",
       "Lleida                0.01              0.00\n",
       "Lugo                  0.02              0.00\n",
       "Madrid                0.13              0.01\n",
       "Málaga                0.02              0.00\n",
       "Orense                0.01              0.00\n",
       "Palencia              0.02              0.00\n",
       "Pontevedra            0.00              0.00\n",
       "Salamanca             0.00              0.00\n",
       "Segovia               0.01              0.00\n",
       "Sevilla               0.04              0.00\n",
       "Soria                 0.01              0.00\n",
       "Tarragona             0.02              0.00\n",
       "Teruel                0.00              0.00\n",
       "Toledo                0.02              0.00\n",
       "Valencia              0.02              0.00\n",
       "Valladolid            0.02              0.00\n",
       "Zamora                0.00              0.00\n",
       "Zaragoza              0.01              0.00"
      ]
     },
     "execution_count": 90,
     "metadata": {},
     "output_type": "execute_result"
    }
   ],
   "source": [
    "#create a matrix with columns relative_risk and probability_rate for each province\n",
    "train_copy.groupby('Province')[['relative_risk', 'Probability_rate']].mean()\n"
   ]
  },
  {
   "cell_type": "code",
   "execution_count": 91,
   "id": "0c10e44c",
   "metadata": {},
   "outputs": [
    {
     "data": {
      "text/html": [
       "<div>\n",
       "<style scoped>\n",
       "    .dataframe tbody tr th:only-of-type {\n",
       "        vertical-align: middle;\n",
       "    }\n",
       "\n",
       "    .dataframe tbody tr th {\n",
       "        vertical-align: top;\n",
       "    }\n",
       "\n",
       "    .dataframe thead th {\n",
       "        text-align: right;\n",
       "    }\n",
       "</style>\n",
       "<table border=\"1\" class=\"dataframe\">\n",
       "  <thead>\n",
       "    <tr style=\"text-align: right;\">\n",
       "      <th></th>\n",
       "      <th>relative_risk</th>\n",
       "      <th>Probability_rate</th>\n",
       "    </tr>\n",
       "    <tr>\n",
       "      <th>Material</th>\n",
       "      <th></th>\n",
       "      <th></th>\n",
       "    </tr>\n",
       "  </thead>\n",
       "  <tbody>\n",
       "    <tr>\n",
       "      <th>AO</th>\n",
       "      <td>0.03</td>\n",
       "      <td>0.00</td>\n",
       "    </tr>\n",
       "    <tr>\n",
       "      <th>CU</th>\n",
       "      <td>0.24</td>\n",
       "      <td>0.03</td>\n",
       "    </tr>\n",
       "    <tr>\n",
       "      <th>FD</th>\n",
       "      <td>0.14</td>\n",
       "      <td>0.01</td>\n",
       "    </tr>\n",
       "    <tr>\n",
       "      <th>FG</th>\n",
       "      <td>0.81</td>\n",
       "      <td>0.10</td>\n",
       "    </tr>\n",
       "    <tr>\n",
       "      <th>FI</th>\n",
       "      <td>0.00</td>\n",
       "      <td>0.00</td>\n",
       "    </tr>\n",
       "    <tr>\n",
       "      <th>FO</th>\n",
       "      <td>2.50</td>\n",
       "      <td>1.00</td>\n",
       "    </tr>\n",
       "    <tr>\n",
       "      <th>PA</th>\n",
       "      <td>2.38</td>\n",
       "      <td>1.00</td>\n",
       "    </tr>\n",
       "    <tr>\n",
       "      <th>PE</th>\n",
       "      <td>0.03</td>\n",
       "      <td>0.00</td>\n",
       "    </tr>\n",
       "    <tr>\n",
       "      <th>PN</th>\n",
       "      <td>0.02</td>\n",
       "      <td>0.01</td>\n",
       "    </tr>\n",
       "    <tr>\n",
       "      <th>PV</th>\n",
       "      <td>2.67</td>\n",
       "      <td>1.00</td>\n",
       "    </tr>\n",
       "    <tr>\n",
       "      <th>ZD</th>\n",
       "      <td>0.13</td>\n",
       "      <td>0.02</td>\n",
       "    </tr>\n",
       "  </tbody>\n",
       "</table>\n",
       "</div>"
      ],
      "text/plain": [
       "          relative_risk  Probability_rate\n",
       "Material                                 \n",
       "AO                 0.03              0.00\n",
       "CU                 0.24              0.03\n",
       "FD                 0.14              0.01\n",
       "FG                 0.81              0.10\n",
       "FI                 0.00              0.00\n",
       "FO                 2.50              1.00\n",
       "PA                 2.38              1.00\n",
       "PE                 0.03              0.00\n",
       "PN                 0.02              0.01\n",
       "PV                 2.67              1.00\n",
       "ZD                 0.13              0.02"
      ]
     },
     "execution_count": 91,
     "metadata": {},
     "output_type": "execute_result"
    }
   ],
   "source": [
    "#create a matrix with columns relative_risk and probability_rate for each pipe material\n",
    "train_copy.groupby('Material')[['relative_risk', 'Probability_rate']].mean()"
   ]
  },
  {
   "cell_type": "code",
   "execution_count": 92,
   "id": "41fd8501",
   "metadata": {},
   "outputs": [
    {
     "data": {
      "text/plain": [
       "Index(['PipeId', 'No_Inspections', 'No_Incidents', 'InspectionYear',\n",
       "       'Probability_rate', 'preventive_maintenance_rate', 'InspectionDate',\n",
       "       'MonthsLastRev', 'relative_risk', 'average_severity_pipe', 'Severity',\n",
       "       'Incidence', 'Province', 'Town', 'YearBuilt', 'Material', 'GasType',\n",
       "       'Diameter', 'Length', 'Pressure', 'NumConnections',\n",
       "       'NumConnectionsUnder', 'BoolBridle'],\n",
       "      dtype='object')"
      ]
     },
     "execution_count": 92,
     "metadata": {},
     "output_type": "execute_result"
    }
   ],
   "source": [
    "train_copy.columns  "
   ]
  },
  {
   "cell_type": "code",
   "execution_count": 93,
   "id": "cd68a9f4",
   "metadata": {},
   "outputs": [
    {
     "data": {
      "text/plain": [
       "'Average_MonthsLastRev'"
      ]
     },
     "execution_count": 93,
     "metadata": {},
     "output_type": "execute_result"
    },
    {
     "data": {
      "text/html": [
       "<div>\n",
       "<style scoped>\n",
       "    .dataframe tbody tr th:only-of-type {\n",
       "        vertical-align: middle;\n",
       "    }\n",
       "\n",
       "    .dataframe tbody tr th {\n",
       "        vertical-align: top;\n",
       "    }\n",
       "\n",
       "    .dataframe thead th {\n",
       "        text-align: right;\n",
       "    }\n",
       "</style>\n",
       "<table border=\"1\" class=\"dataframe\">\n",
       "  <thead>\n",
       "    <tr style=\"text-align: right;\">\n",
       "      <th></th>\n",
       "      <th>PipeId</th>\n",
       "      <th>No_Inspections</th>\n",
       "      <th>No_Incidents</th>\n",
       "      <th>InspectionYear</th>\n",
       "      <th>Probability_rate</th>\n",
       "      <th>preventive_maintenance_rate</th>\n",
       "      <th>InspectionDate</th>\n",
       "      <th>Average_MonthsLastRev</th>\n",
       "      <th>MonthsLastRev</th>\n",
       "      <th>relative_risk</th>\n",
       "      <th>average_severity_pipe</th>\n",
       "      <th>Severity</th>\n",
       "      <th>Incidence</th>\n",
       "      <th>Province</th>\n",
       "      <th>Town</th>\n",
       "      <th>YearBuilt</th>\n",
       "      <th>Material</th>\n",
       "      <th>GasType</th>\n",
       "      <th>Diameter</th>\n",
       "      <th>Length</th>\n",
       "      <th>Pressure</th>\n",
       "      <th>NumConnections</th>\n",
       "      <th>NumConnectionsUnder</th>\n",
       "      <th>BoolBridle</th>\n",
       "    </tr>\n",
       "  </thead>\n",
       "  <tbody>\n",
       "    <tr>\n",
       "      <th>0</th>\n",
       "      <td>489616</td>\n",
       "      <td>5</td>\n",
       "      <td>0.00</td>\n",
       "      <td>2013.00</td>\n",
       "      <td>0.00</td>\n",
       "      <td>0.00</td>\n",
       "      <td>2013-05-08</td>\n",
       "      <td>21.40</td>\n",
       "      <td>16.00</td>\n",
       "      <td>0.00</td>\n",
       "      <td>4.00</td>\n",
       "      <td>4.00</td>\n",
       "      <td>0.00</td>\n",
       "      <td>Ciudad Real</td>\n",
       "      <td>Torralba de Calatrava</td>\n",
       "      <td>2012</td>\n",
       "      <td>PE</td>\n",
       "      <td>Gas natural</td>\n",
       "      <td>63.00</td>\n",
       "      <td>7.79</td>\n",
       "      <td>0.40</td>\n",
       "      <td>0</td>\n",
       "      <td>0</td>\n",
       "      <td>False</td>\n",
       "    </tr>\n",
       "  </tbody>\n",
       "</table>\n",
       "</div>"
      ],
      "text/plain": [
       "   PipeId  No_Inspections  No_Incidents  InspectionYear  Probability_rate  \\\n",
       "0  489616               5          0.00         2013.00              0.00   \n",
       "\n",
       "   preventive_maintenance_rate InspectionDate  Average_MonthsLastRev  \\\n",
       "0                         0.00     2013-05-08                  21.40   \n",
       "\n",
       "   MonthsLastRev  relative_risk  average_severity_pipe  Severity  Incidence  \\\n",
       "0          16.00           0.00                   4.00      4.00       0.00   \n",
       "\n",
       "      Province                   Town  YearBuilt Material      GasType  \\\n",
       "0  Ciudad Real  Torralba de Calatrava       2012       PE  Gas natural   \n",
       "\n",
       "   Diameter  Length  Pressure  NumConnections  NumConnectionsUnder  BoolBridle  \n",
       "0     63.00    7.79      0.40               0                    0       False  "
      ]
     },
     "execution_count": 93,
     "metadata": {},
     "output_type": "execute_result"
    }
   ],
   "source": [
    "#creating a column with the Average of MonthsLastRev grouping per PipeId \n",
    "train_copy['Average_MonthsLastRev'] = train_copy.groupby('PipeId')['MonthsLastRev'].transform('mean')\n",
    "cols = list(train_copy.columns.values)\n",
    "cols.pop(cols.index('Average_MonthsLastRev'))\n",
    "train_copy = train_copy[['PipeId', 'No_Inspections', 'No_Incidents', 'InspectionYear',\n",
    "       'Probability_rate', 'preventive_maintenance_rate', 'InspectionDate', 'Average_MonthsLastRev',\n",
    "       'MonthsLastRev', 'relative_risk', 'average_severity_pipe', 'Severity',\n",
    "       'Incidence', 'Province', 'Town', 'YearBuilt', 'Material', 'GasType',\n",
    "       'Diameter', 'Length', 'Pressure', 'NumConnections',\n",
    "       'NumConnectionsUnder', 'BoolBridle']]\n",
    "train_copy.head(1)"
   ]
  },
  {
   "attachments": {},
   "cell_type": "markdown",
   "id": "88769df2",
   "metadata": {},
   "source": [
    "With this new column we know if the pipe is being inspected frewuently or not taking as a thresold 24 months. We create a ne column that takes this threshold into consideration and creates a boolean\n"
   ]
  },
  {
   "cell_type": "code",
   "execution_count": 94,
   "id": "9b8fc105",
   "metadata": {},
   "outputs": [
    {
     "data": {
      "text/plain": [
       "'pipe_inspected_frequently'"
      ]
     },
     "execution_count": 94,
     "metadata": {},
     "output_type": "execute_result"
    },
    {
     "data": {
      "text/html": [
       "<div>\n",
       "<style scoped>\n",
       "    .dataframe tbody tr th:only-of-type {\n",
       "        vertical-align: middle;\n",
       "    }\n",
       "\n",
       "    .dataframe tbody tr th {\n",
       "        vertical-align: top;\n",
       "    }\n",
       "\n",
       "    .dataframe thead th {\n",
       "        text-align: right;\n",
       "    }\n",
       "</style>\n",
       "<table border=\"1\" class=\"dataframe\">\n",
       "  <thead>\n",
       "    <tr style=\"text-align: right;\">\n",
       "      <th></th>\n",
       "      <th>PipeId</th>\n",
       "      <th>No_Inspections</th>\n",
       "      <th>No_Incidents</th>\n",
       "      <th>InspectionYear</th>\n",
       "      <th>Probability_rate</th>\n",
       "      <th>preventive_maintenance_rate</th>\n",
       "      <th>pipe_inspected_frequently</th>\n",
       "      <th>InspectionDate</th>\n",
       "      <th>Average_MonthsLastRev</th>\n",
       "      <th>MonthsLastRev</th>\n",
       "      <th>relative_risk</th>\n",
       "      <th>average_severity_pipe</th>\n",
       "      <th>Severity</th>\n",
       "      <th>Incidence</th>\n",
       "      <th>Province</th>\n",
       "      <th>Town</th>\n",
       "      <th>YearBuilt</th>\n",
       "      <th>Material</th>\n",
       "      <th>GasType</th>\n",
       "      <th>Diameter</th>\n",
       "      <th>Length</th>\n",
       "      <th>Pressure</th>\n",
       "      <th>NumConnections</th>\n",
       "      <th>NumConnectionsUnder</th>\n",
       "      <th>BoolBridle</th>\n",
       "    </tr>\n",
       "  </thead>\n",
       "  <tbody>\n",
       "    <tr>\n",
       "      <th>0</th>\n",
       "      <td>489616</td>\n",
       "      <td>5</td>\n",
       "      <td>0.00</td>\n",
       "      <td>2013.00</td>\n",
       "      <td>0.00</td>\n",
       "      <td>0.00</td>\n",
       "      <td>1</td>\n",
       "      <td>2013-05-08</td>\n",
       "      <td>21.40</td>\n",
       "      <td>16.00</td>\n",
       "      <td>0.00</td>\n",
       "      <td>4.00</td>\n",
       "      <td>4.00</td>\n",
       "      <td>0.00</td>\n",
       "      <td>Ciudad Real</td>\n",
       "      <td>Torralba de Calatrava</td>\n",
       "      <td>2012</td>\n",
       "      <td>PE</td>\n",
       "      <td>Gas natural</td>\n",
       "      <td>63.00</td>\n",
       "      <td>7.79</td>\n",
       "      <td>0.40</td>\n",
       "      <td>0</td>\n",
       "      <td>0</td>\n",
       "      <td>False</td>\n",
       "    </tr>\n",
       "  </tbody>\n",
       "</table>\n",
       "</div>"
      ],
      "text/plain": [
       "   PipeId  No_Inspections  No_Incidents  InspectionYear  Probability_rate  \\\n",
       "0  489616               5          0.00         2013.00              0.00   \n",
       "\n",
       "   preventive_maintenance_rate  pipe_inspected_frequently InspectionDate  \\\n",
       "0                         0.00                          1     2013-05-08   \n",
       "\n",
       "   Average_MonthsLastRev  MonthsLastRev  relative_risk  average_severity_pipe  \\\n",
       "0                  21.40          16.00           0.00                   4.00   \n",
       "\n",
       "   Severity  Incidence     Province                   Town  YearBuilt  \\\n",
       "0      4.00       0.00  Ciudad Real  Torralba de Calatrava       2012   \n",
       "\n",
       "  Material      GasType  Diameter  Length  Pressure  NumConnections  \\\n",
       "0       PE  Gas natural     63.00    7.79      0.40               0   \n",
       "\n",
       "   NumConnectionsUnder  BoolBridle  \n",
       "0                    0       False  "
      ]
     },
     "execution_count": 94,
     "metadata": {},
     "output_type": "execute_result"
    }
   ],
   "source": [
    "#create a new column named pipe_inspected_frequently with a value of 1 if pipe has an Average_MonthsLastRev of less or equal than 24\n",
    "train_copy['pipe_inspected_frequently'] = np.where(train_copy['Average_MonthsLastRev'] <= 24, 1, 0)\n",
    "#place column in 7th position\n",
    "cols = list(train_copy.columns.values)\n",
    "cols.pop(cols.index('pipe_inspected_frequently'))\n",
    "train_copy = train_copy[['PipeId', 'No_Inspections', 'No_Incidents', 'InspectionYear',\n",
    "         'Probability_rate', 'preventive_maintenance_rate', 'pipe_inspected_frequently', 'InspectionDate', 'Average_MonthsLastRev',\n",
    "         'MonthsLastRev', 'relative_risk', 'average_severity_pipe', 'Severity',\n",
    "            'Incidence', 'Province', 'Town', 'YearBuilt', 'Material', 'GasType',\n",
    "            'Diameter', 'Length', 'Pressure', 'NumConnections',\n",
    "            'NumConnectionsUnder', 'BoolBridle']]\n",
    "#delete column Average_MonthsLastRev\n",
    "train_copy.head(1)\n"
   ]
  },
  {
   "cell_type": "code",
   "execution_count": 95,
   "id": "0c8f6f32",
   "metadata": {},
   "outputs": [
    {
     "data": {
      "text/plain": [
       "Index(['PipeId', 'No_Inspections', 'No_Incidents', 'InspectionYear',\n",
       "       'Probability_rate', 'preventive_maintenance_rate',\n",
       "       'pipe_inspected_frequently', 'InspectionDate', 'Average_MonthsLastRev',\n",
       "       'MonthsLastRev', 'relative_risk', 'average_severity_pipe', 'Severity',\n",
       "       'Incidence', 'Province', 'Town', 'YearBuilt', 'Material', 'GasType',\n",
       "       'Diameter', 'Length', 'Pressure', 'NumConnections',\n",
       "       'NumConnectionsUnder', 'BoolBridle'],\n",
       "      dtype='object')"
      ]
     },
     "execution_count": 95,
     "metadata": {},
     "output_type": "execute_result"
    }
   ],
   "source": [
    "train_copy.columns"
   ]
  },
  {
   "cell_type": "code",
   "execution_count": 96,
   "id": "7ac174fe",
   "metadata": {},
   "outputs": [
    {
     "data": {
      "text/plain": [
       "'Age_pipe_at_inspection'"
      ]
     },
     "execution_count": 96,
     "metadata": {},
     "output_type": "execute_result"
    },
    {
     "data": {
      "text/html": [
       "<div>\n",
       "<style scoped>\n",
       "    .dataframe tbody tr th:only-of-type {\n",
       "        vertical-align: middle;\n",
       "    }\n",
       "\n",
       "    .dataframe tbody tr th {\n",
       "        vertical-align: top;\n",
       "    }\n",
       "\n",
       "    .dataframe thead th {\n",
       "        text-align: right;\n",
       "    }\n",
       "</style>\n",
       "<table border=\"1\" class=\"dataframe\">\n",
       "  <thead>\n",
       "    <tr style=\"text-align: right;\">\n",
       "      <th></th>\n",
       "      <th>PipeId</th>\n",
       "      <th>No_Inspections</th>\n",
       "      <th>No_Incidents</th>\n",
       "      <th>InspectionYear</th>\n",
       "      <th>Probability_rate</th>\n",
       "      <th>preventive_maintenance_rate</th>\n",
       "      <th>Age_pipe_at_inspection</th>\n",
       "      <th>pipe_inspected_frequently</th>\n",
       "      <th>InspectionDate</th>\n",
       "      <th>Average_MonthsLastRev</th>\n",
       "      <th>MonthsLastRev</th>\n",
       "      <th>relative_risk</th>\n",
       "      <th>average_severity_pipe</th>\n",
       "      <th>Severity</th>\n",
       "      <th>Incidence</th>\n",
       "      <th>Province</th>\n",
       "      <th>Town</th>\n",
       "      <th>YearBuilt</th>\n",
       "      <th>Material</th>\n",
       "      <th>GasType</th>\n",
       "      <th>Diameter</th>\n",
       "      <th>Length</th>\n",
       "      <th>Pressure</th>\n",
       "      <th>NumConnections</th>\n",
       "      <th>NumConnectionsUnder</th>\n",
       "      <th>BoolBridle</th>\n",
       "    </tr>\n",
       "  </thead>\n",
       "  <tbody>\n",
       "    <tr>\n",
       "      <th>0</th>\n",
       "      <td>489616</td>\n",
       "      <td>5</td>\n",
       "      <td>0.00</td>\n",
       "      <td>2013.00</td>\n",
       "      <td>0.00</td>\n",
       "      <td>0.00</td>\n",
       "      <td>1.00</td>\n",
       "      <td>1</td>\n",
       "      <td>2013-05-08</td>\n",
       "      <td>21.40</td>\n",
       "      <td>16.00</td>\n",
       "      <td>0.00</td>\n",
       "      <td>4.00</td>\n",
       "      <td>4.00</td>\n",
       "      <td>0.00</td>\n",
       "      <td>Ciudad Real</td>\n",
       "      <td>Torralba de Calatrava</td>\n",
       "      <td>2012</td>\n",
       "      <td>PE</td>\n",
       "      <td>Gas natural</td>\n",
       "      <td>63.00</td>\n",
       "      <td>7.79</td>\n",
       "      <td>0.40</td>\n",
       "      <td>0</td>\n",
       "      <td>0</td>\n",
       "      <td>False</td>\n",
       "    </tr>\n",
       "    <tr>\n",
       "      <th>1</th>\n",
       "      <td>489616</td>\n",
       "      <td>5</td>\n",
       "      <td>0.00</td>\n",
       "      <td>2015.00</td>\n",
       "      <td>0.00</td>\n",
       "      <td>0.00</td>\n",
       "      <td>3.00</td>\n",
       "      <td>1</td>\n",
       "      <td>2015-03-04</td>\n",
       "      <td>21.40</td>\n",
       "      <td>22.00</td>\n",
       "      <td>0.00</td>\n",
       "      <td>4.00</td>\n",
       "      <td>4.00</td>\n",
       "      <td>0.00</td>\n",
       "      <td>Ciudad Real</td>\n",
       "      <td>Torralba de Calatrava</td>\n",
       "      <td>2012</td>\n",
       "      <td>PE</td>\n",
       "      <td>Gas natural</td>\n",
       "      <td>63.00</td>\n",
       "      <td>7.79</td>\n",
       "      <td>0.40</td>\n",
       "      <td>0</td>\n",
       "      <td>0</td>\n",
       "      <td>False</td>\n",
       "    </tr>\n",
       "  </tbody>\n",
       "</table>\n",
       "</div>"
      ],
      "text/plain": [
       "   PipeId  No_Inspections  No_Incidents  InspectionYear  Probability_rate  \\\n",
       "0  489616               5          0.00         2013.00              0.00   \n",
       "1  489616               5          0.00         2015.00              0.00   \n",
       "\n",
       "   preventive_maintenance_rate  Age_pipe_at_inspection  \\\n",
       "0                         0.00                    1.00   \n",
       "1                         0.00                    3.00   \n",
       "\n",
       "   pipe_inspected_frequently InspectionDate  Average_MonthsLastRev  \\\n",
       "0                          1     2013-05-08                  21.40   \n",
       "1                          1     2015-03-04                  21.40   \n",
       "\n",
       "   MonthsLastRev  relative_risk  average_severity_pipe  Severity  Incidence  \\\n",
       "0          16.00           0.00                   4.00      4.00       0.00   \n",
       "1          22.00           0.00                   4.00      4.00       0.00   \n",
       "\n",
       "      Province                   Town  YearBuilt Material      GasType  \\\n",
       "0  Ciudad Real  Torralba de Calatrava       2012       PE  Gas natural   \n",
       "1  Ciudad Real  Torralba de Calatrava       2012       PE  Gas natural   \n",
       "\n",
       "   Diameter  Length  Pressure  NumConnections  NumConnectionsUnder  BoolBridle  \n",
       "0     63.00    7.79      0.40               0                    0       False  \n",
       "1     63.00    7.79      0.40               0                    0       False  "
      ]
     },
     "execution_count": 96,
     "metadata": {},
     "output_type": "execute_result"
    }
   ],
   "source": [
    "#creating a column named age_pipe_inspection with the difference between InspectionYear and YearBuilt and placing it in 10 th position\n",
    "train_copy['Age_pipe_at_inspection'] = train_copy['InspectionYear'] - train_copy['YearBuilt']\n",
    "cols = list(train_copy.columns.values)\n",
    "cols.pop(cols.index('Age_pipe_at_inspection'))\n",
    "train_copy = train_copy[['PipeId', 'No_Inspections', 'No_Incidents', 'InspectionYear',\n",
    "       'Probability_rate', 'preventive_maintenance_rate', 'Age_pipe_at_inspection',\n",
    "       'pipe_inspected_frequently', 'InspectionDate', 'Average_MonthsLastRev',\n",
    "       'MonthsLastRev', 'relative_risk', 'average_severity_pipe', 'Severity',\n",
    "       'Incidence', 'Province', 'Town', 'YearBuilt', 'Material', 'GasType',\n",
    "       'Diameter', 'Length', 'Pressure', 'NumConnections',\n",
    "       'NumConnectionsUnder', 'BoolBridle']]\n",
    "#head of pipes with Age_pipe_at_inspection greater than 0\n",
    "train_copy[train_copy['Age_pipe_at_inspection'] > 0].head(2)"
   ]
  },
  {
   "cell_type": "code",
   "execution_count": 97,
   "id": "20d7b90f",
   "metadata": {},
   "outputs": [
    {
     "data": {
      "text/plain": [
       "count   6364029.00\n",
       "mean        119.50\n",
       "std          57.22\n",
       "min          10.00\n",
       "25%          90.00\n",
       "50%         110.00\n",
       "75%         160.00\n",
       "max         609.60\n",
       "Name: Diameter, dtype: float64"
      ]
     },
     "execution_count": 97,
     "metadata": {},
     "output_type": "execute_result"
    }
   ],
   "source": [
    "#describe Diameter on train_copy in mm\n",
    "train_copy['Diameter'].describe()"
   ]
  },
  {
   "cell_type": "code",
   "execution_count": 98,
   "id": "3ca5501e",
   "metadata": {},
   "outputs": [
    {
     "data": {
      "text/plain": [
       "count   6364029.00\n",
       "mean         36.56\n",
       "std          72.26\n",
       "min           0.00\n",
       "25%           4.00\n",
       "50%          14.26\n",
       "75%          44.62\n",
       "max       26100.94\n",
       "Name: Length, dtype: float64"
      ]
     },
     "execution_count": 98,
     "metadata": {},
     "output_type": "execute_result"
    }
   ],
   "source": [
    "train_copy['Length'].describe()"
   ]
  },
  {
   "cell_type": "code",
   "execution_count": 99,
   "id": "41349dc2",
   "metadata": {},
   "outputs": [],
   "source": [
    "#divide all values in Diameter by 1000 to convert to meters\n",
    "train_copy['Diameter'] = train_copy['Diameter'] / 1000"
   ]
  },
  {
   "cell_type": "code",
   "execution_count": null,
   "id": "3f4ec8ca",
   "metadata": {},
   "outputs": [],
   "source": [
    "#create a new variable called aspect that is equal to pressure divided by diameter multiplied by length\n",
    "train_copy['aspect']=(train_copy['Pressure']/train_copy['Diameter'])/train_copy['Length']"
   ]
  },
  {
   "cell_type": "code",
   "execution_count": 101,
   "id": "7a8dfecc",
   "metadata": {},
   "outputs": [],
   "source": [
    "#create a new column that divides the diameter by the pressure and name it Relative Thickness\n",
    "train_copy['Relative_Thickness'] = train_copy['Diameter'] / train_copy['Pressure']"
   ]
  },
  {
   "cell_type": "code",
   "execution_count": 102,
   "id": "0a5971ea",
   "metadata": {},
   "outputs": [],
   "source": [
    "#creating a column named pipe_area that multiplies diameter by lenght by pi\n",
    "\n",
    "train_copy['pipe_area'] = train_copy['Diameter'] * train_copy['Length'] * 3.1416"
   ]
  },
  {
   "cell_type": "code",
   "execution_count": 103,
   "id": "ef8a0066",
   "metadata": {},
   "outputs": [],
   "source": [
    "#create a column named area_connection that divides pipe_area by NumConnections\n",
    "train_copy['area_connection'] = train_copy['NumConnections']/ train_copy['pipe_area'] "
   ]
  },
  {
   "cell_type": "code",
   "execution_count": 104,
   "id": "1c589b69",
   "metadata": {},
   "outputs": [],
   "source": [
    "#create a column named incidence_area that divides incidence by pipe_area\n",
    "train_copy['incidence_area'] = train_copy['Incidence'] / train_copy['pipe_area']"
   ]
  },
  {
   "cell_type": "code",
   "execution_count": 105,
   "id": "fd10041e",
   "metadata": {},
   "outputs": [],
   "source": [
    "#create a boolean column named connection_bool that is 1 if NumConnections is greater than 1\n",
    "train_copy['connection_bool'] = np.where(train_copy['NumConnections'] > 1, 1, 0)\n"
   ]
  },
  {
   "cell_type": "code",
   "execution_count": 106,
   "id": "098e62d2",
   "metadata": {},
   "outputs": [],
   "source": [
    "#transform Inspection Date to datetime format\n",
    "train_copy['InspectionDate'] = pd.to_datetime(train_copy['InspectionDate'])\n"
   ]
  },
  {
   "cell_type": "code",
   "execution_count": 107,
   "id": "1f6102d3",
   "metadata": {},
   "outputs": [
    {
     "data": {
      "text/plain": [
       "Index(['PipeId', 'No_Inspections', 'No_Incidents', 'InspectionYear',\n",
       "       'Probability_rate', 'preventive_maintenance_rate',\n",
       "       'Age_pipe_at_inspection', 'pipe_inspected_frequently', 'InspectionDate',\n",
       "       'Average_MonthsLastRev', 'MonthsLastRev', 'relative_risk',\n",
       "       'average_severity_pipe', 'Severity', 'Incidence', 'Province', 'Town',\n",
       "       'YearBuilt', 'Material', 'GasType', 'Diameter', 'Length', 'Pressure',\n",
       "       'NumConnections', 'NumConnectionsUnder', 'BoolBridle',\n",
       "       'Relative_Thickness', 'pipe_area', 'area_connection', 'incidence_area',\n",
       "       'connection_bool'],\n",
       "      dtype='object')"
      ]
     },
     "execution_count": 107,
     "metadata": {},
     "output_type": "execute_result"
    }
   ],
   "source": [
    "train_copy.columns"
   ]
  },
  {
   "cell_type": "code",
   "execution_count": 108,
   "id": "f199302c",
   "metadata": {},
   "outputs": [
    {
     "data": {
      "text/html": [
       "<div>\n",
       "<style scoped>\n",
       "    .dataframe tbody tr th:only-of-type {\n",
       "        vertical-align: middle;\n",
       "    }\n",
       "\n",
       "    .dataframe tbody tr th {\n",
       "        vertical-align: top;\n",
       "    }\n",
       "\n",
       "    .dataframe thead th {\n",
       "        text-align: right;\n",
       "    }\n",
       "</style>\n",
       "<table border=\"1\" class=\"dataframe\">\n",
       "  <thead>\n",
       "    <tr style=\"text-align: right;\">\n",
       "      <th></th>\n",
       "      <th>PipeId</th>\n",
       "      <th>No_Inspections</th>\n",
       "      <th>No_Incidents</th>\n",
       "      <th>InspectionYear</th>\n",
       "      <th>Probability_rate</th>\n",
       "      <th>preventive_maintenance_rate</th>\n",
       "      <th>Age_pipe_at_inspection</th>\n",
       "      <th>pipe_inspected_frequently</th>\n",
       "      <th>InspectionDate</th>\n",
       "      <th>Average_MonthsLastRev</th>\n",
       "      <th>MonthsLastRev</th>\n",
       "      <th>relative_risk</th>\n",
       "      <th>average_severity_pipe</th>\n",
       "      <th>Incidence</th>\n",
       "      <th>Province</th>\n",
       "      <th>Town</th>\n",
       "      <th>YearBuilt</th>\n",
       "      <th>Material</th>\n",
       "      <th>GasType</th>\n",
       "      <th>Diameter</th>\n",
       "      <th>Length</th>\n",
       "      <th>Pressure</th>\n",
       "      <th>NumConnections</th>\n",
       "      <th>NumConnectionsUnder</th>\n",
       "      <th>BoolBridle</th>\n",
       "      <th>Relative_Thickness</th>\n",
       "      <th>pipe_area</th>\n",
       "      <th>area_connection</th>\n",
       "      <th>incidence_area</th>\n",
       "      <th>connection_bool</th>\n",
       "      <th>Severity_1.0</th>\n",
       "      <th>Severity_2.0</th>\n",
       "      <th>Severity_3.0</th>\n",
       "      <th>Severity_4.0</th>\n",
       "    </tr>\n",
       "  </thead>\n",
       "  <tbody>\n",
       "    <tr>\n",
       "      <th>0</th>\n",
       "      <td>489616</td>\n",
       "      <td>5</td>\n",
       "      <td>0.00</td>\n",
       "      <td>2013.00</td>\n",
       "      <td>0.00</td>\n",
       "      <td>0.00</td>\n",
       "      <td>1.00</td>\n",
       "      <td>1</td>\n",
       "      <td>2013-05-08</td>\n",
       "      <td>21.40</td>\n",
       "      <td>16.00</td>\n",
       "      <td>0.00</td>\n",
       "      <td>4.00</td>\n",
       "      <td>0.00</td>\n",
       "      <td>Ciudad Real</td>\n",
       "      <td>Torralba de Calatrava</td>\n",
       "      <td>2012</td>\n",
       "      <td>PE</td>\n",
       "      <td>Gas natural</td>\n",
       "      <td>0.06</td>\n",
       "      <td>7.79</td>\n",
       "      <td>0.40</td>\n",
       "      <td>0</td>\n",
       "      <td>0</td>\n",
       "      <td>False</td>\n",
       "      <td>0.16</td>\n",
       "      <td>1.54</td>\n",
       "      <td>0.00</td>\n",
       "      <td>0.00</td>\n",
       "      <td>0</td>\n",
       "      <td>0</td>\n",
       "      <td>0</td>\n",
       "      <td>0</td>\n",
       "      <td>1</td>\n",
       "    </tr>\n",
       "  </tbody>\n",
       "</table>\n",
       "</div>"
      ],
      "text/plain": [
       "   PipeId  No_Inspections  No_Incidents  InspectionYear  Probability_rate  \\\n",
       "0  489616               5          0.00         2013.00              0.00   \n",
       "\n",
       "   preventive_maintenance_rate  Age_pipe_at_inspection  \\\n",
       "0                         0.00                    1.00   \n",
       "\n",
       "   pipe_inspected_frequently InspectionDate  Average_MonthsLastRev  \\\n",
       "0                          1     2013-05-08                  21.40   \n",
       "\n",
       "   MonthsLastRev  relative_risk  average_severity_pipe  Incidence  \\\n",
       "0          16.00           0.00                   4.00       0.00   \n",
       "\n",
       "      Province                   Town  YearBuilt Material      GasType  \\\n",
       "0  Ciudad Real  Torralba de Calatrava       2012       PE  Gas natural   \n",
       "\n",
       "   Diameter  Length  Pressure  NumConnections  NumConnectionsUnder  \\\n",
       "0      0.06    7.79      0.40               0                    0   \n",
       "\n",
       "   BoolBridle  Relative_Thickness  pipe_area  area_connection  incidence_area  \\\n",
       "0       False                0.16       1.54             0.00            0.00   \n",
       "\n",
       "   connection_bool  Severity_1.0  Severity_2.0  Severity_3.0  Severity_4.0  \n",
       "0                0             0             0             0             1  "
      ]
     },
     "execution_count": 108,
     "metadata": {},
     "output_type": "execute_result"
    }
   ],
   "source": [
    "#hot encode severity_incidence column in the train_copy dataframe\n",
    "train_copy = pd.get_dummies(train_copy, columns=['Severity'], prefix = ['Severity'])\n",
    "train_copy.head(1)"
   ]
  },
  {
   "cell_type": "code",
   "execution_count": 109,
   "id": "3fe0dcdb",
   "metadata": {},
   "outputs": [],
   "source": [
    "#change name of Severity_Incidence_1 column to Severity_low\n",
    "train_copy = train_copy.rename(columns={'Severity_1.0': 'Severity_high'})\n",
    "#change name of Severity_Incidence_2 column to Severity_medium\n",
    "train_copy = train_copy.rename(columns={'Severity_2.0': 'Severity_medium'})\n",
    "#change name of Severity_Incidence_3 column to Severity_high\n",
    "train_copy = train_copy.rename(columns={'Severity_3.0': 'Severity_low'})\n",
    "#drop Severity_4.0 column\n",
    "train_copy = train_copy.drop(['Severity_4.0'], axis=1)"
   ]
  },
  {
   "cell_type": "code",
   "execution_count": 110,
   "id": "24d43d6a",
   "metadata": {},
   "outputs": [
    {
     "data": {
      "text/html": [
       "<div>\n",
       "<style scoped>\n",
       "    .dataframe tbody tr th:only-of-type {\n",
       "        vertical-align: middle;\n",
       "    }\n",
       "\n",
       "    .dataframe tbody tr th {\n",
       "        vertical-align: top;\n",
       "    }\n",
       "\n",
       "    .dataframe thead th {\n",
       "        text-align: right;\n",
       "    }\n",
       "</style>\n",
       "<table border=\"1\" class=\"dataframe\">\n",
       "  <thead>\n",
       "    <tr style=\"text-align: right;\">\n",
       "      <th></th>\n",
       "      <th>PipeId</th>\n",
       "      <th>No_Inspections</th>\n",
       "      <th>No_Incidents</th>\n",
       "      <th>InspectionYear</th>\n",
       "      <th>Probability_rate</th>\n",
       "      <th>preventive_maintenance_rate</th>\n",
       "      <th>Age_pipe_at_inspection</th>\n",
       "      <th>pipe_inspected_frequently</th>\n",
       "      <th>InspectionDate</th>\n",
       "      <th>Average_MonthsLastRev</th>\n",
       "      <th>MonthsLastRev</th>\n",
       "      <th>relative_risk</th>\n",
       "      <th>average_severity_pipe</th>\n",
       "      <th>Incidence</th>\n",
       "      <th>Province</th>\n",
       "      <th>Town</th>\n",
       "      <th>YearBuilt</th>\n",
       "      <th>Material</th>\n",
       "      <th>GasType</th>\n",
       "      <th>Diameter</th>\n",
       "      <th>Length</th>\n",
       "      <th>Pressure</th>\n",
       "      <th>NumConnections</th>\n",
       "      <th>NumConnectionsUnder</th>\n",
       "      <th>BoolBridle</th>\n",
       "      <th>Relative_Thickness</th>\n",
       "      <th>pipe_area</th>\n",
       "      <th>area_connection</th>\n",
       "      <th>incidence_area</th>\n",
       "      <th>connection_bool</th>\n",
       "      <th>Severity_high</th>\n",
       "      <th>Severity_medium</th>\n",
       "      <th>Severity_low</th>\n",
       "    </tr>\n",
       "  </thead>\n",
       "  <tbody>\n",
       "    <tr>\n",
       "      <th>0</th>\n",
       "      <td>489616</td>\n",
       "      <td>5</td>\n",
       "      <td>0.00</td>\n",
       "      <td>2013.00</td>\n",
       "      <td>0.00</td>\n",
       "      <td>0.00</td>\n",
       "      <td>1.00</td>\n",
       "      <td>1</td>\n",
       "      <td>2013-05-08</td>\n",
       "      <td>21.40</td>\n",
       "      <td>16.00</td>\n",
       "      <td>0.00</td>\n",
       "      <td>4.00</td>\n",
       "      <td>0.00</td>\n",
       "      <td>Ciudad Real</td>\n",
       "      <td>Torralba de Calatrava</td>\n",
       "      <td>2012</td>\n",
       "      <td>PE</td>\n",
       "      <td>Gas natural</td>\n",
       "      <td>0.06</td>\n",
       "      <td>7.79</td>\n",
       "      <td>0.40</td>\n",
       "      <td>0</td>\n",
       "      <td>0</td>\n",
       "      <td>False</td>\n",
       "      <td>0.16</td>\n",
       "      <td>1.54</td>\n",
       "      <td>0.00</td>\n",
       "      <td>0.00</td>\n",
       "      <td>0</td>\n",
       "      <td>0</td>\n",
       "      <td>0</td>\n",
       "      <td>0</td>\n",
       "    </tr>\n",
       "  </tbody>\n",
       "</table>\n",
       "</div>"
      ],
      "text/plain": [
       "   PipeId  No_Inspections  No_Incidents  InspectionYear  Probability_rate  \\\n",
       "0  489616               5          0.00         2013.00              0.00   \n",
       "\n",
       "   preventive_maintenance_rate  Age_pipe_at_inspection  \\\n",
       "0                         0.00                    1.00   \n",
       "\n",
       "   pipe_inspected_frequently InspectionDate  Average_MonthsLastRev  \\\n",
       "0                          1     2013-05-08                  21.40   \n",
       "\n",
       "   MonthsLastRev  relative_risk  average_severity_pipe  Incidence  \\\n",
       "0          16.00           0.00                   4.00       0.00   \n",
       "\n",
       "      Province                   Town  YearBuilt Material      GasType  \\\n",
       "0  Ciudad Real  Torralba de Calatrava       2012       PE  Gas natural   \n",
       "\n",
       "   Diameter  Length  Pressure  NumConnections  NumConnectionsUnder  \\\n",
       "0      0.06    7.79      0.40               0                    0   \n",
       "\n",
       "   BoolBridle  Relative_Thickness  pipe_area  area_connection  incidence_area  \\\n",
       "0       False                0.16       1.54             0.00            0.00   \n",
       "\n",
       "   connection_bool  Severity_high  Severity_medium  Severity_low  \n",
       "0                0              0                0             0  "
      ]
     },
     "execution_count": 110,
     "metadata": {},
     "output_type": "execute_result"
    }
   ],
   "source": [
    "train_copy.head(1)"
   ]
  },
  {
   "cell_type": "code",
   "execution_count": 111,
   "id": "3cae8354",
   "metadata": {},
   "outputs": [
    {
     "data": {
      "text/plain": [
       "count     6364029\n",
       "unique          2\n",
       "top         False\n",
       "freq      5979653\n",
       "Name: BoolBridle, dtype: object"
      ]
     },
     "execution_count": 111,
     "metadata": {},
     "output_type": "execute_result"
    }
   ],
   "source": [
    "train_copy['BoolBridle'].describe()"
   ]
  },
  {
   "cell_type": "code",
   "execution_count": 112,
   "id": "026c1af8",
   "metadata": {},
   "outputs": [],
   "source": [
    "# Converting Boolbride into  boolean variable\n",
    "def boolbridle(x):\n",
    "    return 1 if x == 'True' else 0"
   ]
  },
  {
   "cell_type": "code",
   "execution_count": 113,
   "id": "e8031e3c",
   "metadata": {},
   "outputs": [],
   "source": [
    "# Apply function on dataset\n",
    "train_copy['BoolBridle'] = train_copy['BoolBridle'].apply(lambda x: boolbridle(x))"
   ]
  },
  {
   "cell_type": "code",
   "execution_count": 114,
   "id": "00ce8701",
   "metadata": {},
   "outputs": [],
   "source": [
    "#hot encode GasType column in the train_copy dataframe subset\n",
    "train_copy = pd.get_dummies(train_copy, columns=['GasType'], prefix = ['GasType'])"
   ]
  },
  {
   "cell_type": "code",
   "execution_count": 115,
   "id": "ed68ec65",
   "metadata": {},
   "outputs": [],
   "source": [
    "#delete GasType_Gas propano column\n",
    "train_copy = train_copy.drop(['GasType_Gas propano'], axis=1)"
   ]
  },
  {
   "cell_type": "code",
   "execution_count": 116,
   "id": "c9a2b8a6",
   "metadata": {},
   "outputs": [
    {
     "data": {
      "text/html": [
       "<div>\n",
       "<style scoped>\n",
       "    .dataframe tbody tr th:only-of-type {\n",
       "        vertical-align: middle;\n",
       "    }\n",
       "\n",
       "    .dataframe tbody tr th {\n",
       "        vertical-align: top;\n",
       "    }\n",
       "\n",
       "    .dataframe thead th {\n",
       "        text-align: right;\n",
       "    }\n",
       "</style>\n",
       "<table border=\"1\" class=\"dataframe\">\n",
       "  <thead>\n",
       "    <tr style=\"text-align: right;\">\n",
       "      <th></th>\n",
       "      <th>PipeId</th>\n",
       "      <th>No_Inspections</th>\n",
       "      <th>No_Incidents</th>\n",
       "      <th>InspectionYear</th>\n",
       "      <th>Probability_rate</th>\n",
       "      <th>preventive_maintenance_rate</th>\n",
       "      <th>Age_pipe_at_inspection</th>\n",
       "      <th>pipe_inspected_frequently</th>\n",
       "      <th>InspectionDate</th>\n",
       "      <th>Average_MonthsLastRev</th>\n",
       "      <th>MonthsLastRev</th>\n",
       "      <th>relative_risk</th>\n",
       "      <th>average_severity_pipe</th>\n",
       "      <th>Incidence</th>\n",
       "      <th>Province</th>\n",
       "      <th>Town</th>\n",
       "      <th>YearBuilt</th>\n",
       "      <th>Material</th>\n",
       "      <th>Diameter</th>\n",
       "      <th>Length</th>\n",
       "      <th>Pressure</th>\n",
       "      <th>NumConnections</th>\n",
       "      <th>NumConnectionsUnder</th>\n",
       "      <th>BoolBridle</th>\n",
       "      <th>Relative_Thickness</th>\n",
       "      <th>pipe_area</th>\n",
       "      <th>area_connection</th>\n",
       "      <th>incidence_area</th>\n",
       "      <th>connection_bool</th>\n",
       "      <th>Severity_high</th>\n",
       "      <th>Severity_medium</th>\n",
       "      <th>Severity_low</th>\n",
       "      <th>gas_natural</th>\n",
       "    </tr>\n",
       "  </thead>\n",
       "  <tbody>\n",
       "    <tr>\n",
       "      <th>0</th>\n",
       "      <td>489616</td>\n",
       "      <td>5</td>\n",
       "      <td>0.00</td>\n",
       "      <td>2013.00</td>\n",
       "      <td>0.00</td>\n",
       "      <td>0.00</td>\n",
       "      <td>1.00</td>\n",
       "      <td>1</td>\n",
       "      <td>2013-05-08</td>\n",
       "      <td>21.40</td>\n",
       "      <td>16.00</td>\n",
       "      <td>0.00</td>\n",
       "      <td>4.00</td>\n",
       "      <td>0.00</td>\n",
       "      <td>Ciudad Real</td>\n",
       "      <td>Torralba de Calatrava</td>\n",
       "      <td>2012</td>\n",
       "      <td>PE</td>\n",
       "      <td>0.06</td>\n",
       "      <td>7.79</td>\n",
       "      <td>0.40</td>\n",
       "      <td>0</td>\n",
       "      <td>0</td>\n",
       "      <td>0</td>\n",
       "      <td>0.16</td>\n",
       "      <td>1.54</td>\n",
       "      <td>0.00</td>\n",
       "      <td>0.00</td>\n",
       "      <td>0</td>\n",
       "      <td>0</td>\n",
       "      <td>0</td>\n",
       "      <td>0</td>\n",
       "      <td>1</td>\n",
       "    </tr>\n",
       "  </tbody>\n",
       "</table>\n",
       "</div>"
      ],
      "text/plain": [
       "   PipeId  No_Inspections  No_Incidents  InspectionYear  Probability_rate  \\\n",
       "0  489616               5          0.00         2013.00              0.00   \n",
       "\n",
       "   preventive_maintenance_rate  Age_pipe_at_inspection  \\\n",
       "0                         0.00                    1.00   \n",
       "\n",
       "   pipe_inspected_frequently InspectionDate  Average_MonthsLastRev  \\\n",
       "0                          1     2013-05-08                  21.40   \n",
       "\n",
       "   MonthsLastRev  relative_risk  average_severity_pipe  Incidence  \\\n",
       "0          16.00           0.00                   4.00       0.00   \n",
       "\n",
       "      Province                   Town  YearBuilt Material  Diameter  Length  \\\n",
       "0  Ciudad Real  Torralba de Calatrava       2012       PE      0.06    7.79   \n",
       "\n",
       "   Pressure  NumConnections  NumConnectionsUnder  BoolBridle  \\\n",
       "0      0.40               0                    0           0   \n",
       "\n",
       "   Relative_Thickness  pipe_area  area_connection  incidence_area  \\\n",
       "0                0.16       1.54             0.00            0.00   \n",
       "\n",
       "   connection_bool  Severity_high  Severity_medium  Severity_low  gas_natural  \n",
       "0                0              0                0             0            1  "
      ]
     },
     "execution_count": 116,
     "metadata": {},
     "output_type": "execute_result"
    }
   ],
   "source": [
    "#change name of GasType_Gas natural column to gas_natural\n",
    "train_copy = train_copy.rename(columns={'GasType_Gas natural': 'gas_natural'})\n",
    "train_copy.head(1)"
   ]
  },
  {
   "cell_type": "code",
   "execution_count": 117,
   "id": "abe968ce",
   "metadata": {},
   "outputs": [
    {
     "data": {
      "text/plain": [
       "svmem(total=34272403456, available=11211120640, percent=67.3, used=23061282816, free=11211120640)"
      ]
     },
     "execution_count": 117,
     "metadata": {},
     "output_type": "execute_result"
    }
   ],
   "source": [
    "#how much RAM is being used\n",
    "import psutil\n",
    "psutil.virtual_memory()\n"
   ]
  },
  {
   "cell_type": "code",
   "execution_count": 118,
   "id": "a36cc8c9",
   "metadata": {},
   "outputs": [
    {
     "name": "stdout",
     "output_type": "stream",
     "text": [
      "['PE' 'AO' 'PN' 'CU' 'FD' 'ZD' 'PV' 'PA' 'FI' 'FG' 'FO']\n"
     ]
    }
   ],
   "source": [
    "print (train_copy['Material'].unique())"
   ]
  },
  {
   "cell_type": "code",
   "execution_count": 119,
   "id": "e662ec6d",
   "metadata": {},
   "outputs": [],
   "source": [
    "#Map df_combined Material column to the names of materials\n",
    "train_copy['Material'] = train_copy['Material'].map({'PE': 'Polyethylene', 'AO': 'Acrylonitrile-Butadiene-Styrene', 'FD': 'Fiberglass-Reinforced Plastic', \n",
    "    'FG': 'Fiberglass', 'PN': 'Polypropylene', 'PA': 'Polyamide', 'FO': 'Flexible Polyolefin', 'FI': 'Flexible Polyvinyl Chloride', 'CU': 'Copper', \n",
    "    'PV': 'Polyvinylidene Fluoride', 'ZD': 'Zinc-Coated Steel', 'ZA': 'Zinc-Aluminum', 'CP': 'Cast Iron', 'CS': 'Cast Steel', \n",
    "    'ZC': 'Zinc-Coated Steel', 'ZM': 'Zinc-Magnesium','ZN': 'Zinc', 'AL': 'Aluminum', 'ZP': 'Zinc-Coated Steel', 'ZF': 'Zinc-Aluminum-Magnesium'})\n"
   ]
  },
  {
   "cell_type": "code",
   "execution_count": 120,
   "id": "1eadf041",
   "metadata": {},
   "outputs": [
    {
     "data": {
      "text/html": [
       "<div>\n",
       "<style scoped>\n",
       "    .dataframe tbody tr th:only-of-type {\n",
       "        vertical-align: middle;\n",
       "    }\n",
       "\n",
       "    .dataframe tbody tr th {\n",
       "        vertical-align: top;\n",
       "    }\n",
       "\n",
       "    .dataframe thead th {\n",
       "        text-align: right;\n",
       "    }\n",
       "</style>\n",
       "<table border=\"1\" class=\"dataframe\">\n",
       "  <thead>\n",
       "    <tr style=\"text-align: right;\">\n",
       "      <th></th>\n",
       "      <th>PipeId</th>\n",
       "      <th>No_Inspections</th>\n",
       "      <th>No_Incidents</th>\n",
       "      <th>InspectionYear</th>\n",
       "      <th>Probability_rate</th>\n",
       "      <th>preventive_maintenance_rate</th>\n",
       "      <th>Age_pipe_at_inspection</th>\n",
       "      <th>pipe_inspected_frequently</th>\n",
       "      <th>InspectionDate</th>\n",
       "      <th>Average_MonthsLastRev</th>\n",
       "      <th>MonthsLastRev</th>\n",
       "      <th>relative_risk</th>\n",
       "      <th>average_severity_pipe</th>\n",
       "      <th>Incidence</th>\n",
       "      <th>Province</th>\n",
       "      <th>Town</th>\n",
       "      <th>YearBuilt</th>\n",
       "      <th>Diameter</th>\n",
       "      <th>Length</th>\n",
       "      <th>Pressure</th>\n",
       "      <th>NumConnections</th>\n",
       "      <th>NumConnectionsUnder</th>\n",
       "      <th>BoolBridle</th>\n",
       "      <th>Relative_Thickness</th>\n",
       "      <th>pipe_area</th>\n",
       "      <th>area_connection</th>\n",
       "      <th>incidence_area</th>\n",
       "      <th>connection_bool</th>\n",
       "      <th>Severity_high</th>\n",
       "      <th>Severity_medium</th>\n",
       "      <th>Severity_low</th>\n",
       "      <th>gas_natural</th>\n",
       "      <th>Material_Acrylonitrile-Butadiene-Styrene</th>\n",
       "      <th>Material_Copper</th>\n",
       "      <th>Material_Fiberglass-Reinforced Plastic</th>\n",
       "      <th>Material_Polyethylene</th>\n",
       "      <th>Material_Polypropylene</th>\n",
       "    </tr>\n",
       "  </thead>\n",
       "  <tbody>\n",
       "    <tr>\n",
       "      <th>0</th>\n",
       "      <td>489616</td>\n",
       "      <td>5</td>\n",
       "      <td>0.00</td>\n",
       "      <td>2013.00</td>\n",
       "      <td>0.00</td>\n",
       "      <td>0.00</td>\n",
       "      <td>1.00</td>\n",
       "      <td>1</td>\n",
       "      <td>2013-05-08</td>\n",
       "      <td>21.40</td>\n",
       "      <td>16.00</td>\n",
       "      <td>0.00</td>\n",
       "      <td>4.00</td>\n",
       "      <td>0.00</td>\n",
       "      <td>Ciudad Real</td>\n",
       "      <td>Torralba de Calatrava</td>\n",
       "      <td>2012</td>\n",
       "      <td>0.06</td>\n",
       "      <td>7.79</td>\n",
       "      <td>0.40</td>\n",
       "      <td>0</td>\n",
       "      <td>0</td>\n",
       "      <td>0</td>\n",
       "      <td>0.16</td>\n",
       "      <td>1.54</td>\n",
       "      <td>0.00</td>\n",
       "      <td>0.00</td>\n",
       "      <td>0</td>\n",
       "      <td>0</td>\n",
       "      <td>0</td>\n",
       "      <td>0</td>\n",
       "      <td>1</td>\n",
       "      <td>0</td>\n",
       "      <td>0</td>\n",
       "      <td>0</td>\n",
       "      <td>1</td>\n",
       "      <td>0</td>\n",
       "    </tr>\n",
       "  </tbody>\n",
       "</table>\n",
       "</div>"
      ],
      "text/plain": [
       "   PipeId  No_Inspections  No_Incidents  InspectionYear  Probability_rate  \\\n",
       "0  489616               5          0.00         2013.00              0.00   \n",
       "\n",
       "   preventive_maintenance_rate  Age_pipe_at_inspection  \\\n",
       "0                         0.00                    1.00   \n",
       "\n",
       "   pipe_inspected_frequently InspectionDate  Average_MonthsLastRev  \\\n",
       "0                          1     2013-05-08                  21.40   \n",
       "\n",
       "   MonthsLastRev  relative_risk  average_severity_pipe  Incidence  \\\n",
       "0          16.00           0.00                   4.00       0.00   \n",
       "\n",
       "      Province                   Town  YearBuilt  Diameter  Length  Pressure  \\\n",
       "0  Ciudad Real  Torralba de Calatrava       2012      0.06    7.79      0.40   \n",
       "\n",
       "   NumConnections  NumConnectionsUnder  BoolBridle  Relative_Thickness  \\\n",
       "0               0                    0           0                0.16   \n",
       "\n",
       "   pipe_area  area_connection  incidence_area  connection_bool  Severity_high  \\\n",
       "0       1.54             0.00            0.00                0              0   \n",
       "\n",
       "   Severity_medium  Severity_low  gas_natural  \\\n",
       "0                0             0            1   \n",
       "\n",
       "   Material_Acrylonitrile-Butadiene-Styrene  Material_Copper  \\\n",
       "0                                         0                0   \n",
       "\n",
       "   Material_Fiberglass-Reinforced Plastic  Material_Polyethylene  \\\n",
       "0                                       0                      1   \n",
       "\n",
       "   Material_Polypropylene  \n",
       "0                       0  "
      ]
     },
     "execution_count": 120,
     "metadata": {},
     "output_type": "execute_result"
    }
   ],
   "source": [
    "#Hot enconde Material column in the train_copy dataframe subset\n",
    "train_copy = pd.get_dummies(train_copy, columns=['Material'])\n",
    "train_copy = train_copy.drop(['Material_Fiberglass', 'Material_Zinc-Coated Steel', 'Material_Polyvinylidene Fluoride','Material_Flexible Polyolefin', 'Material_Flexible Polyvinyl Chloride', 'Material_Polyamide'], axis=1)\n",
    "train_copy.head(1)"
   ]
  },
  {
   "cell_type": "code",
   "execution_count": 121,
   "id": "e335b3dd",
   "metadata": {},
   "outputs": [
    {
     "data": {
      "text/plain": [
       "Index(['PipeId', 'No_Inspections', 'No_Incidents', 'InspectionYear',\n",
       "       'Probability_rate', 'preventive_maintenance_rate',\n",
       "       'Age_pipe_at_inspection', 'pipe_inspected_frequently', 'InspectionDate',\n",
       "       'Average_MonthsLastRev', 'MonthsLastRev', 'relative_risk',\n",
       "       'average_severity_pipe', 'Incidence', 'Province', 'Town', 'YearBuilt',\n",
       "       'Diameter', 'Length', 'Pressure', 'NumConnections',\n",
       "       'NumConnectionsUnder', 'BoolBridle', 'Relative_Thickness', 'pipe_area',\n",
       "       'area_connection', 'incidence_area', 'connection_bool', 'Severity_high',\n",
       "       'Severity_medium', 'Severity_low', 'gas_natural',\n",
       "       'Material_Acrylonitrile-Butadiene-Styrene', 'Material_Copper',\n",
       "       'Material_Fiberglass-Reinforced Plastic', 'Material_Polyethylene',\n",
       "       'Material_Polypropylene'],\n",
       "      dtype='object')"
      ]
     },
     "execution_count": 121,
     "metadata": {},
     "output_type": "execute_result"
    }
   ],
   "source": [
    "train_copy.columns"
   ]
  },
  {
   "cell_type": "code",
   "execution_count": 123,
   "id": "554afd49",
   "metadata": {},
   "outputs": [
    {
     "data": {
      "text/html": [
       "<div>\n",
       "<style scoped>\n",
       "    .dataframe tbody tr th:only-of-type {\n",
       "        vertical-align: middle;\n",
       "    }\n",
       "\n",
       "    .dataframe tbody tr th {\n",
       "        vertical-align: top;\n",
       "    }\n",
       "\n",
       "    .dataframe thead th {\n",
       "        text-align: right;\n",
       "    }\n",
       "</style>\n",
       "<table border=\"1\" class=\"dataframe\">\n",
       "  <thead>\n",
       "    <tr style=\"text-align: right;\">\n",
       "      <th></th>\n",
       "      <th>PipeId</th>\n",
       "      <th>No_Inspections</th>\n",
       "      <th>No_Incidents</th>\n",
       "      <th>InspectionYear</th>\n",
       "      <th>Probability_rate</th>\n",
       "      <th>preventive_maintenance_rate</th>\n",
       "      <th>Age_pipe_at_inspection</th>\n",
       "      <th>pipe_inspected_frequently</th>\n",
       "      <th>InspectionDate</th>\n",
       "      <th>Average_MonthsLastRev</th>\n",
       "      <th>MonthsLastRev</th>\n",
       "      <th>relative_risk</th>\n",
       "      <th>average_severity_pipe</th>\n",
       "      <th>Incidence</th>\n",
       "      <th>Province</th>\n",
       "      <th>Town</th>\n",
       "      <th>YearBuilt</th>\n",
       "      <th>Diameter</th>\n",
       "      <th>Length</th>\n",
       "      <th>Pressure</th>\n",
       "      <th>NumConnections</th>\n",
       "      <th>NumConnectionsUnder</th>\n",
       "      <th>BoolBridle</th>\n",
       "      <th>Relative_Thickness</th>\n",
       "      <th>pipe_area</th>\n",
       "      <th>area_connection</th>\n",
       "      <th>incidence_area</th>\n",
       "      <th>connection_bool</th>\n",
       "      <th>Severity_high</th>\n",
       "      <th>Severity_medium</th>\n",
       "      <th>Severity_low</th>\n",
       "      <th>gas_natural</th>\n",
       "      <th>Material_Acrylonitrile-Butadiene-Styrene</th>\n",
       "      <th>Material_Copper</th>\n",
       "      <th>Material_Fiberglass-Reinforced Plastic</th>\n",
       "      <th>Material_Polyethylene</th>\n",
       "      <th>Material_Polypropylene</th>\n",
       "      <th>Diameter2</th>\n",
       "      <th>Length2</th>\n",
       "      <th>Pressure2</th>\n",
       "    </tr>\n",
       "  </thead>\n",
       "  <tbody>\n",
       "    <tr>\n",
       "      <th>0</th>\n",
       "      <td>489616</td>\n",
       "      <td>5</td>\n",
       "      <td>0.00</td>\n",
       "      <td>2013.00</td>\n",
       "      <td>0.00</td>\n",
       "      <td>0.00</td>\n",
       "      <td>1.00</td>\n",
       "      <td>1</td>\n",
       "      <td>2013-05-08</td>\n",
       "      <td>21.40</td>\n",
       "      <td>16.00</td>\n",
       "      <td>0.00</td>\n",
       "      <td>4.00</td>\n",
       "      <td>0.00</td>\n",
       "      <td>Ciudad Real</td>\n",
       "      <td>Torralba de Calatrava</td>\n",
       "      <td>2012</td>\n",
       "      <td>0.06</td>\n",
       "      <td>7.79</td>\n",
       "      <td>0.40</td>\n",
       "      <td>0</td>\n",
       "      <td>0</td>\n",
       "      <td>0</td>\n",
       "      <td>0.16</td>\n",
       "      <td>1.54</td>\n",
       "      <td>0.00</td>\n",
       "      <td>0.00</td>\n",
       "      <td>0</td>\n",
       "      <td>0</td>\n",
       "      <td>0</td>\n",
       "      <td>0</td>\n",
       "      <td>1</td>\n",
       "      <td>0</td>\n",
       "      <td>0</td>\n",
       "      <td>0</td>\n",
       "      <td>1</td>\n",
       "      <td>0</td>\n",
       "      <td>0.00</td>\n",
       "      <td>60.72</td>\n",
       "      <td>0.16</td>\n",
       "    </tr>\n",
       "  </tbody>\n",
       "</table>\n",
       "</div>"
      ],
      "text/plain": [
       "   PipeId  No_Inspections  No_Incidents  InspectionYear  Probability_rate  \\\n",
       "0  489616               5          0.00         2013.00              0.00   \n",
       "\n",
       "   preventive_maintenance_rate  Age_pipe_at_inspection  \\\n",
       "0                         0.00                    1.00   \n",
       "\n",
       "   pipe_inspected_frequently InspectionDate  Average_MonthsLastRev  \\\n",
       "0                          1     2013-05-08                  21.40   \n",
       "\n",
       "   MonthsLastRev  relative_risk  average_severity_pipe  Incidence  \\\n",
       "0          16.00           0.00                   4.00       0.00   \n",
       "\n",
       "      Province                   Town  YearBuilt  Diameter  Length  Pressure  \\\n",
       "0  Ciudad Real  Torralba de Calatrava       2012      0.06    7.79      0.40   \n",
       "\n",
       "   NumConnections  NumConnectionsUnder  BoolBridle  Relative_Thickness  \\\n",
       "0               0                    0           0                0.16   \n",
       "\n",
       "   pipe_area  area_connection  incidence_area  connection_bool  Severity_high  \\\n",
       "0       1.54             0.00            0.00                0              0   \n",
       "\n",
       "   Severity_medium  Severity_low  gas_natural  \\\n",
       "0                0             0            1   \n",
       "\n",
       "   Material_Acrylonitrile-Butadiene-Styrene  Material_Copper  \\\n",
       "0                                         0                0   \n",
       "\n",
       "   Material_Fiberglass-Reinforced Plastic  Material_Polyethylene  \\\n",
       "0                                       0                      1   \n",
       "\n",
       "   Material_Polypropylene  Diameter2  Length2  Pressure2  \n",
       "0                       0       0.00    60.72       0.16  "
      ]
     },
     "execution_count": 123,
     "metadata": {},
     "output_type": "execute_result"
    }
   ],
   "source": [
    "#create polinomial features in train_copy for Diameter, Length, Pressure\n",
    "poly = PolynomialFeatures(2)\n",
    "train_copy['Diameter2'] = poly.fit_transform(train_copy[['Diameter']])[:,2]\n",
    "train_copy['Length2'] = poly.fit_transform(train_copy[['Length']])[:,2]\n",
    "train_copy['Pressure2'] = poly.fit_transform(train_copy[['Pressure']])[:,2]\n",
    "train_copy.head(1)\n",
    "\n"
   ]
  },
  {
   "cell_type": "code",
   "execution_count": 124,
   "id": "7b85ee09",
   "metadata": {},
   "outputs": [
    {
     "data": {
      "text/plain": [
       "(6364029, 40)"
      ]
     },
     "execution_count": 124,
     "metadata": {},
     "output_type": "execute_result"
    }
   ],
   "source": [
    "train_copy.shape"
   ]
  },
  {
   "cell_type": "markdown",
   "id": "cb7c6610",
   "metadata": {},
   "source": [
    "# Adding a new dataset\n",
    "We want to extract value of two categorical variables, Town and Province but the way we have them now they are useless.\n",
    "\n",
    "We will add a new dataset to join and extract the surface of each town as well as the comunidad autonoma to group by accordingly in another column the number of towns and afterwards hot encode\n"
   ]
  },
  {
   "cell_type": "code",
   "execution_count": 125,
   "id": "9b5189a8",
   "metadata": {},
   "outputs": [
    {
     "data": {
      "text/plain": [
       "Madrid                401156\n",
       "Barcelona             290182\n",
       "Valencia              124155\n",
       "Sevilla               100982\n",
       "Terrassa               77985\n",
       "                       ...  \n",
       "Cavia                      1\n",
       "Collbató                   1\n",
       "Becerril de Campos         1\n",
       "Geria                      1\n",
       "Viladamat                  1\n",
       "Name: Town, Length: 1972, dtype: int64"
      ]
     },
     "execution_count": 125,
     "metadata": {},
     "output_type": "execute_result"
    },
    {
     "data": {
      "text/plain": [
       "array(['Torralba de Calatrava', 'Añover de Tajo', 'Benijofar', ...,\n",
       "       'Alqueria de la Condesa/Al', 'Paderne', 'Paracuellos del Jarama'],\n",
       "      dtype=object)"
      ]
     },
     "execution_count": 125,
     "metadata": {},
     "output_type": "execute_result"
    }
   ],
   "source": [
    "#count towns populating Town column\n",
    "train_copy['Town'].value_counts()\n",
    "train_copy['Town'].unique()"
   ]
  },
  {
   "cell_type": "code",
   "execution_count": 126,
   "id": "f8e80bb9",
   "metadata": {},
   "outputs": [],
   "source": [
    "#point to the folder where the data is stored\n",
    "os.chdir(r\"C:\\Users\\pedro\\datathon\\base\\complementary_datasets\")\n",
    "\n",
    "# Loading combined_mod dataset\n",
    "df_mun = pd.read_excel('list-mun-2012.xls' , sheet_name='list-mun')\n",
    "\n",
    "#df_population= pd.read_excel('pobmun20.xls')\n"
   ]
  },
  {
   "cell_type": "code",
   "execution_count": 127,
   "id": "ea0b066c",
   "metadata": {},
   "outputs": [
    {
     "data": {
      "text/html": [
       "<div>\n",
       "<style scoped>\n",
       "    .dataframe tbody tr th:only-of-type {\n",
       "        vertical-align: middle;\n",
       "    }\n",
       "\n",
       "    .dataframe tbody tr th {\n",
       "        vertical-align: top;\n",
       "    }\n",
       "\n",
       "    .dataframe thead th {\n",
       "        text-align: right;\n",
       "    }\n",
       "</style>\n",
       "<table border=\"1\" class=\"dataframe\">\n",
       "  <thead>\n",
       "    <tr style=\"text-align: right;\">\n",
       "      <th></th>\n",
       "      <th>codine</th>\n",
       "      <th>Municipio</th>\n",
       "      <th>Superficie</th>\n",
       "      <th>Capitalidad</th>\n",
       "      <th>Año</th>\n",
       "      <th>CA</th>\n",
       "      <th>Autonomía</th>\n",
       "      <th>CP</th>\n",
       "      <th>Provincia</th>\n",
       "      <th>CPJ</th>\n",
       "      <th>Partido_Judicial</th>\n",
       "    </tr>\n",
       "  </thead>\n",
       "  <tbody>\n",
       "    <tr>\n",
       "      <th>0</th>\n",
       "      <td>1001</td>\n",
       "      <td>Alegría-Dulantzi</td>\n",
       "      <td>19.95</td>\n",
       "      <td>Alegría-Dulantzi</td>\n",
       "      <td>NaN</td>\n",
       "      <td>16</td>\n",
       "      <td>País Vasco</td>\n",
       "      <td>1</td>\n",
       "      <td>Araba/Álava</td>\n",
       "      <td>102</td>\n",
       "      <td>Vitoria-Gasteiz</td>\n",
       "    </tr>\n",
       "  </tbody>\n",
       "</table>\n",
       "</div>"
      ],
      "text/plain": [
       "   codine         Municipio  Superficie       Capitalidad  Año  CA  \\\n",
       "0    1001  Alegría-Dulantzi       19.95  Alegría-Dulantzi  NaN  16   \n",
       "\n",
       "    Autonomía  CP    Provincia  CPJ Partido_Judicial  \n",
       "0  País Vasco   1  Araba/Álava  102  Vitoria-Gasteiz  "
      ]
     },
     "execution_count": 127,
     "metadata": {},
     "output_type": "execute_result"
    }
   ],
   "source": [
    "df_mun.head(1)"
   ]
  },
  {
   "cell_type": "code",
   "execution_count": 128,
   "id": "7089079d",
   "metadata": {},
   "outputs": [
    {
     "data": {
      "text/html": [
       "<div>\n",
       "<style scoped>\n",
       "    .dataframe tbody tr th:only-of-type {\n",
       "        vertical-align: middle;\n",
       "    }\n",
       "\n",
       "    .dataframe tbody tr th {\n",
       "        vertical-align: top;\n",
       "    }\n",
       "\n",
       "    .dataframe thead th {\n",
       "        text-align: right;\n",
       "    }\n",
       "</style>\n",
       "<table border=\"1\" class=\"dataframe\">\n",
       "  <thead>\n",
       "    <tr style=\"text-align: right;\">\n",
       "      <th></th>\n",
       "      <th>codine</th>\n",
       "      <th>Municipio</th>\n",
       "      <th>Superficie</th>\n",
       "      <th>Capitalidad</th>\n",
       "      <th>Año</th>\n",
       "      <th>CA</th>\n",
       "      <th>Autonomía</th>\n",
       "      <th>CP</th>\n",
       "      <th>Provincia</th>\n",
       "      <th>CPJ</th>\n",
       "      <th>Partido_Judicial</th>\n",
       "    </tr>\n",
       "  </thead>\n",
       "  <tbody>\n",
       "    <tr>\n",
       "      <th>0</th>\n",
       "      <td>1001</td>\n",
       "      <td>alegria-dulantzi</td>\n",
       "      <td>19.95</td>\n",
       "      <td>Alegría-Dulantzi</td>\n",
       "      <td>NaN</td>\n",
       "      <td>16</td>\n",
       "      <td>País Vasco</td>\n",
       "      <td>1</td>\n",
       "      <td>Araba/Álava</td>\n",
       "      <td>102</td>\n",
       "      <td>Vitoria-Gasteiz</td>\n",
       "    </tr>\n",
       "    <tr>\n",
       "      <th>1</th>\n",
       "      <td>1002</td>\n",
       "      <td>amurrio</td>\n",
       "      <td>96.36</td>\n",
       "      <td>Amurrio</td>\n",
       "      <td>NaN</td>\n",
       "      <td>16</td>\n",
       "      <td>País Vasco</td>\n",
       "      <td>1</td>\n",
       "      <td>Araba/Álava</td>\n",
       "      <td>101</td>\n",
       "      <td>Amurrio</td>\n",
       "    </tr>\n",
       "    <tr>\n",
       "      <th>2</th>\n",
       "      <td>1003</td>\n",
       "      <td>aramaio</td>\n",
       "      <td>73.27</td>\n",
       "      <td>Ibarra</td>\n",
       "      <td>NaN</td>\n",
       "      <td>16</td>\n",
       "      <td>País Vasco</td>\n",
       "      <td>1</td>\n",
       "      <td>Araba/Álava</td>\n",
       "      <td>102</td>\n",
       "      <td>Vitoria-Gasteiz</td>\n",
       "    </tr>\n",
       "    <tr>\n",
       "      <th>3</th>\n",
       "      <td>1004</td>\n",
       "      <td>artziniega</td>\n",
       "      <td>27.45</td>\n",
       "      <td>Artziniega</td>\n",
       "      <td>NaN</td>\n",
       "      <td>16</td>\n",
       "      <td>País Vasco</td>\n",
       "      <td>1</td>\n",
       "      <td>Araba/Álava</td>\n",
       "      <td>101</td>\n",
       "      <td>Amurrio</td>\n",
       "    </tr>\n",
       "    <tr>\n",
       "      <th>4</th>\n",
       "      <td>1006</td>\n",
       "      <td>arminon</td>\n",
       "      <td>12.94</td>\n",
       "      <td>Armiñón</td>\n",
       "      <td>NaN</td>\n",
       "      <td>16</td>\n",
       "      <td>País Vasco</td>\n",
       "      <td>1</td>\n",
       "      <td>Araba/Álava</td>\n",
       "      <td>102</td>\n",
       "      <td>Vitoria-Gasteiz</td>\n",
       "    </tr>\n",
       "    <tr>\n",
       "      <th>...</th>\n",
       "      <td>...</td>\n",
       "      <td>...</td>\n",
       "      <td>...</td>\n",
       "      <td>...</td>\n",
       "      <td>...</td>\n",
       "      <td>...</td>\n",
       "      <td>...</td>\n",
       "      <td>...</td>\n",
       "      <td>...</td>\n",
       "      <td>...</td>\n",
       "      <td>...</td>\n",
       "    </tr>\n",
       "    <tr>\n",
       "      <th>8111</th>\n",
       "      <td>50901</td>\n",
       "      <td>biel</td>\n",
       "      <td>130.73</td>\n",
       "      <td>Biel</td>\n",
       "      <td>NaN</td>\n",
       "      <td>2</td>\n",
       "      <td>Aragón</td>\n",
       "      <td>50</td>\n",
       "      <td>Zaragoza</td>\n",
       "      <td>5005</td>\n",
       "      <td>Ejea de los Caballeros</td>\n",
       "    </tr>\n",
       "    <tr>\n",
       "      <th>8112</th>\n",
       "      <td>50902</td>\n",
       "      <td>marracos</td>\n",
       "      <td>16.92</td>\n",
       "      <td>Marracos</td>\n",
       "      <td>1998.00</td>\n",
       "      <td>2</td>\n",
       "      <td>Aragón</td>\n",
       "      <td>50</td>\n",
       "      <td>Zaragoza</td>\n",
       "      <td>5005</td>\n",
       "      <td>Ejea de los Caballeros</td>\n",
       "    </tr>\n",
       "    <tr>\n",
       "      <th>8113</th>\n",
       "      <td>50903</td>\n",
       "      <td>villamayor de gallego</td>\n",
       "      <td>89.36</td>\n",
       "      <td>Villamayor                                    ...</td>\n",
       "      <td>2006.00</td>\n",
       "      <td>2</td>\n",
       "      <td>Aragón</td>\n",
       "      <td>50</td>\n",
       "      <td>Zaragoza</td>\n",
       "      <td>5003</td>\n",
       "      <td>Zaragoza</td>\n",
       "    </tr>\n",
       "    <tr>\n",
       "      <th>8114</th>\n",
       "      <td>51001</td>\n",
       "      <td>ceuta</td>\n",
       "      <td>19.48</td>\n",
       "      <td>Ceuta</td>\n",
       "      <td>NaN</td>\n",
       "      <td>18</td>\n",
       "      <td>Ceuta (Ciudad de)</td>\n",
       "      <td>51</td>\n",
       "      <td>Ceuta</td>\n",
       "      <td>5112</td>\n",
       "      <td>Ceuta</td>\n",
       "    </tr>\n",
       "    <tr>\n",
       "      <th>8115</th>\n",
       "      <td>52001</td>\n",
       "      <td>melilla</td>\n",
       "      <td>13.41</td>\n",
       "      <td>Melilla</td>\n",
       "      <td>NaN</td>\n",
       "      <td>19</td>\n",
       "      <td>Melilla (Ciudad de)</td>\n",
       "      <td>52</td>\n",
       "      <td>Melilla</td>\n",
       "      <td>5208</td>\n",
       "      <td>Melilla</td>\n",
       "    </tr>\n",
       "  </tbody>\n",
       "</table>\n",
       "<p>8116 rows × 11 columns</p>\n",
       "</div>"
      ],
      "text/plain": [
       "      codine              Municipio  Superficie  \\\n",
       "0       1001       alegria-dulantzi       19.95   \n",
       "1       1002                amurrio       96.36   \n",
       "2       1003                aramaio       73.27   \n",
       "3       1004             artziniega       27.45   \n",
       "4       1006                arminon       12.94   \n",
       "...      ...                    ...         ...   \n",
       "8111   50901                   biel      130.73   \n",
       "8112   50902               marracos       16.92   \n",
       "8113   50903  villamayor de gallego       89.36   \n",
       "8114   51001                  ceuta       19.48   \n",
       "8115   52001                melilla       13.41   \n",
       "\n",
       "                                            Capitalidad     Año  CA  \\\n",
       "0                                      Alegría-Dulantzi     NaN  16   \n",
       "1                                               Amurrio     NaN  16   \n",
       "2                                                Ibarra     NaN  16   \n",
       "3                                            Artziniega     NaN  16   \n",
       "4                                               Armiñón     NaN  16   \n",
       "...                                                 ...     ...  ..   \n",
       "8111                                               Biel     NaN   2   \n",
       "8112                                           Marracos 1998.00   2   \n",
       "8113  Villamayor                                    ... 2006.00   2   \n",
       "8114                                              Ceuta     NaN  18   \n",
       "8115                                            Melilla     NaN  19   \n",
       "\n",
       "                Autonomía  CP    Provincia   CPJ        Partido_Judicial  \n",
       "0              País Vasco   1  Araba/Álava   102         Vitoria-Gasteiz  \n",
       "1              País Vasco   1  Araba/Álava   101                 Amurrio  \n",
       "2              País Vasco   1  Araba/Álava   102         Vitoria-Gasteiz  \n",
       "3              País Vasco   1  Araba/Álava   101                 Amurrio  \n",
       "4              País Vasco   1  Araba/Álava   102         Vitoria-Gasteiz  \n",
       "...                   ...  ..          ...   ...                     ...  \n",
       "8111               Aragón  50     Zaragoza  5005  Ejea de los Caballeros  \n",
       "8112               Aragón  50     Zaragoza  5005  Ejea de los Caballeros  \n",
       "8113               Aragón  50     Zaragoza  5003                Zaragoza  \n",
       "8114    Ceuta (Ciudad de)  51        Ceuta  5112                   Ceuta  \n",
       "8115  Melilla (Ciudad de)  52      Melilla  5208                 Melilla  \n",
       "\n",
       "[8116 rows x 11 columns]"
      ]
     },
     "execution_count": 128,
     "metadata": {},
     "output_type": "execute_result"
    }
   ],
   "source": [
    "normalize_characters(df_mun, 'Municipio')"
   ]
  },
  {
   "cell_type": "code",
   "execution_count": 129,
   "id": "6a17e009",
   "metadata": {},
   "outputs": [
    {
     "data": {
      "text/html": [
       "<div>\n",
       "<style scoped>\n",
       "    .dataframe tbody tr th:only-of-type {\n",
       "        vertical-align: middle;\n",
       "    }\n",
       "\n",
       "    .dataframe tbody tr th {\n",
       "        vertical-align: top;\n",
       "    }\n",
       "\n",
       "    .dataframe thead th {\n",
       "        text-align: right;\n",
       "    }\n",
       "</style>\n",
       "<table border=\"1\" class=\"dataframe\">\n",
       "  <thead>\n",
       "    <tr style=\"text-align: right;\">\n",
       "      <th></th>\n",
       "      <th>PipeId</th>\n",
       "      <th>No_Inspections</th>\n",
       "      <th>No_Incidents</th>\n",
       "      <th>InspectionYear</th>\n",
       "      <th>Probability_rate</th>\n",
       "      <th>preventive_maintenance_rate</th>\n",
       "      <th>Age_pipe_at_inspection</th>\n",
       "      <th>pipe_inspected_frequently</th>\n",
       "      <th>InspectionDate</th>\n",
       "      <th>Average_MonthsLastRev</th>\n",
       "      <th>MonthsLastRev</th>\n",
       "      <th>relative_risk</th>\n",
       "      <th>average_severity_pipe</th>\n",
       "      <th>Incidence</th>\n",
       "      <th>Province</th>\n",
       "      <th>Town</th>\n",
       "      <th>YearBuilt</th>\n",
       "      <th>Diameter</th>\n",
       "      <th>Length</th>\n",
       "      <th>Pressure</th>\n",
       "      <th>NumConnections</th>\n",
       "      <th>NumConnectionsUnder</th>\n",
       "      <th>BoolBridle</th>\n",
       "      <th>Relative_Thickness</th>\n",
       "      <th>pipe_area</th>\n",
       "      <th>area_connection</th>\n",
       "      <th>incidence_area</th>\n",
       "      <th>connection_bool</th>\n",
       "      <th>Severity_high</th>\n",
       "      <th>Severity_medium</th>\n",
       "      <th>Severity_low</th>\n",
       "      <th>gas_natural</th>\n",
       "      <th>Material_Acrylonitrile-Butadiene-Styrene</th>\n",
       "      <th>Material_Copper</th>\n",
       "      <th>Material_Fiberglass-Reinforced Plastic</th>\n",
       "      <th>Material_Polyethylene</th>\n",
       "      <th>Material_Polypropylene</th>\n",
       "      <th>Diameter2</th>\n",
       "      <th>Length2</th>\n",
       "      <th>Pressure2</th>\n",
       "    </tr>\n",
       "  </thead>\n",
       "  <tbody>\n",
       "    <tr>\n",
       "      <th>0</th>\n",
       "      <td>489616</td>\n",
       "      <td>5</td>\n",
       "      <td>0.00</td>\n",
       "      <td>2013.00</td>\n",
       "      <td>0.00</td>\n",
       "      <td>0.00</td>\n",
       "      <td>1.00</td>\n",
       "      <td>1</td>\n",
       "      <td>2013-05-08</td>\n",
       "      <td>21.40</td>\n",
       "      <td>16.00</td>\n",
       "      <td>0.00</td>\n",
       "      <td>4.00</td>\n",
       "      <td>0.00</td>\n",
       "      <td>Ciudad Real</td>\n",
       "      <td>torralba de calatrava</td>\n",
       "      <td>2012</td>\n",
       "      <td>0.06</td>\n",
       "      <td>7.79</td>\n",
       "      <td>0.40</td>\n",
       "      <td>0</td>\n",
       "      <td>0</td>\n",
       "      <td>0</td>\n",
       "      <td>0.16</td>\n",
       "      <td>1.54</td>\n",
       "      <td>0.00</td>\n",
       "      <td>0.00</td>\n",
       "      <td>0</td>\n",
       "      <td>0</td>\n",
       "      <td>0</td>\n",
       "      <td>0</td>\n",
       "      <td>1</td>\n",
       "      <td>0</td>\n",
       "      <td>0</td>\n",
       "      <td>0</td>\n",
       "      <td>1</td>\n",
       "      <td>0</td>\n",
       "      <td>0.00</td>\n",
       "      <td>60.72</td>\n",
       "      <td>0.16</td>\n",
       "    </tr>\n",
       "    <tr>\n",
       "      <th>1</th>\n",
       "      <td>489616</td>\n",
       "      <td>5</td>\n",
       "      <td>0.00</td>\n",
       "      <td>2015.00</td>\n",
       "      <td>0.00</td>\n",
       "      <td>0.00</td>\n",
       "      <td>3.00</td>\n",
       "      <td>1</td>\n",
       "      <td>2015-03-04</td>\n",
       "      <td>21.40</td>\n",
       "      <td>22.00</td>\n",
       "      <td>0.00</td>\n",
       "      <td>4.00</td>\n",
       "      <td>0.00</td>\n",
       "      <td>Ciudad Real</td>\n",
       "      <td>torralba de calatrava</td>\n",
       "      <td>2012</td>\n",
       "      <td>0.06</td>\n",
       "      <td>7.79</td>\n",
       "      <td>0.40</td>\n",
       "      <td>0</td>\n",
       "      <td>0</td>\n",
       "      <td>0</td>\n",
       "      <td>0.16</td>\n",
       "      <td>1.54</td>\n",
       "      <td>0.00</td>\n",
       "      <td>0.00</td>\n",
       "      <td>0</td>\n",
       "      <td>0</td>\n",
       "      <td>0</td>\n",
       "      <td>0</td>\n",
       "      <td>1</td>\n",
       "      <td>0</td>\n",
       "      <td>0</td>\n",
       "      <td>0</td>\n",
       "      <td>1</td>\n",
       "      <td>0</td>\n",
       "      <td>0.00</td>\n",
       "      <td>60.72</td>\n",
       "      <td>0.16</td>\n",
       "    </tr>\n",
       "    <tr>\n",
       "      <th>2</th>\n",
       "      <td>489616</td>\n",
       "      <td>5</td>\n",
       "      <td>0.00</td>\n",
       "      <td>2016.00</td>\n",
       "      <td>0.00</td>\n",
       "      <td>0.00</td>\n",
       "      <td>4.00</td>\n",
       "      <td>1</td>\n",
       "      <td>2017-01-12</td>\n",
       "      <td>21.40</td>\n",
       "      <td>22.00</td>\n",
       "      <td>0.00</td>\n",
       "      <td>4.00</td>\n",
       "      <td>0.00</td>\n",
       "      <td>Ciudad Real</td>\n",
       "      <td>torralba de calatrava</td>\n",
       "      <td>2012</td>\n",
       "      <td>0.06</td>\n",
       "      <td>7.79</td>\n",
       "      <td>0.40</td>\n",
       "      <td>0</td>\n",
       "      <td>0</td>\n",
       "      <td>0</td>\n",
       "      <td>0.16</td>\n",
       "      <td>1.54</td>\n",
       "      <td>0.00</td>\n",
       "      <td>0.00</td>\n",
       "      <td>0</td>\n",
       "      <td>0</td>\n",
       "      <td>0</td>\n",
       "      <td>0</td>\n",
       "      <td>1</td>\n",
       "      <td>0</td>\n",
       "      <td>0</td>\n",
       "      <td>0</td>\n",
       "      <td>1</td>\n",
       "      <td>0</td>\n",
       "      <td>0.00</td>\n",
       "      <td>60.72</td>\n",
       "      <td>0.16</td>\n",
       "    </tr>\n",
       "    <tr>\n",
       "      <th>3</th>\n",
       "      <td>489616</td>\n",
       "      <td>5</td>\n",
       "      <td>0.00</td>\n",
       "      <td>2018.00</td>\n",
       "      <td>0.00</td>\n",
       "      <td>0.00</td>\n",
       "      <td>6.00</td>\n",
       "      <td>1</td>\n",
       "      <td>2018-12-19</td>\n",
       "      <td>21.40</td>\n",
       "      <td>23.00</td>\n",
       "      <td>0.00</td>\n",
       "      <td>4.00</td>\n",
       "      <td>0.00</td>\n",
       "      <td>Ciudad Real</td>\n",
       "      <td>torralba de calatrava</td>\n",
       "      <td>2012</td>\n",
       "      <td>0.06</td>\n",
       "      <td>7.79</td>\n",
       "      <td>0.40</td>\n",
       "      <td>0</td>\n",
       "      <td>0</td>\n",
       "      <td>0</td>\n",
       "      <td>0.16</td>\n",
       "      <td>1.54</td>\n",
       "      <td>0.00</td>\n",
       "      <td>0.00</td>\n",
       "      <td>0</td>\n",
       "      <td>0</td>\n",
       "      <td>0</td>\n",
       "      <td>0</td>\n",
       "      <td>1</td>\n",
       "      <td>0</td>\n",
       "      <td>0</td>\n",
       "      <td>0</td>\n",
       "      <td>1</td>\n",
       "      <td>0</td>\n",
       "      <td>0.00</td>\n",
       "      <td>60.72</td>\n",
       "      <td>0.16</td>\n",
       "    </tr>\n",
       "    <tr>\n",
       "      <th>4</th>\n",
       "      <td>489616</td>\n",
       "      <td>5</td>\n",
       "      <td>0.00</td>\n",
       "      <td>2020.00</td>\n",
       "      <td>0.00</td>\n",
       "      <td>0.00</td>\n",
       "      <td>8.00</td>\n",
       "      <td>1</td>\n",
       "      <td>2020-12-05</td>\n",
       "      <td>21.40</td>\n",
       "      <td>24.00</td>\n",
       "      <td>0.00</td>\n",
       "      <td>4.00</td>\n",
       "      <td>0.00</td>\n",
       "      <td>Ciudad Real</td>\n",
       "      <td>torralba de calatrava</td>\n",
       "      <td>2012</td>\n",
       "      <td>0.06</td>\n",
       "      <td>7.79</td>\n",
       "      <td>0.40</td>\n",
       "      <td>0</td>\n",
       "      <td>0</td>\n",
       "      <td>0</td>\n",
       "      <td>0.16</td>\n",
       "      <td>1.54</td>\n",
       "      <td>0.00</td>\n",
       "      <td>0.00</td>\n",
       "      <td>0</td>\n",
       "      <td>0</td>\n",
       "      <td>0</td>\n",
       "      <td>0</td>\n",
       "      <td>1</td>\n",
       "      <td>0</td>\n",
       "      <td>0</td>\n",
       "      <td>0</td>\n",
       "      <td>1</td>\n",
       "      <td>0</td>\n",
       "      <td>0.00</td>\n",
       "      <td>60.72</td>\n",
       "      <td>0.16</td>\n",
       "    </tr>\n",
       "    <tr>\n",
       "      <th>...</th>\n",
       "      <td>...</td>\n",
       "      <td>...</td>\n",
       "      <td>...</td>\n",
       "      <td>...</td>\n",
       "      <td>...</td>\n",
       "      <td>...</td>\n",
       "      <td>...</td>\n",
       "      <td>...</td>\n",
       "      <td>...</td>\n",
       "      <td>...</td>\n",
       "      <td>...</td>\n",
       "      <td>...</td>\n",
       "      <td>...</td>\n",
       "      <td>...</td>\n",
       "      <td>...</td>\n",
       "      <td>...</td>\n",
       "      <td>...</td>\n",
       "      <td>...</td>\n",
       "      <td>...</td>\n",
       "      <td>...</td>\n",
       "      <td>...</td>\n",
       "      <td>...</td>\n",
       "      <td>...</td>\n",
       "      <td>...</td>\n",
       "      <td>...</td>\n",
       "      <td>...</td>\n",
       "      <td>...</td>\n",
       "      <td>...</td>\n",
       "      <td>...</td>\n",
       "      <td>...</td>\n",
       "      <td>...</td>\n",
       "      <td>...</td>\n",
       "      <td>...</td>\n",
       "      <td>...</td>\n",
       "      <td>...</td>\n",
       "      <td>...</td>\n",
       "      <td>...</td>\n",
       "      <td>...</td>\n",
       "      <td>...</td>\n",
       "      <td>...</td>\n",
       "    </tr>\n",
       "    <tr>\n",
       "      <th>6364024</th>\n",
       "      <td>416536087</td>\n",
       "      <td>1</td>\n",
       "      <td>0.00</td>\n",
       "      <td>2013.00</td>\n",
       "      <td>0.00</td>\n",
       "      <td>0.00</td>\n",
       "      <td>2.00</td>\n",
       "      <td>1</td>\n",
       "      <td>2013-06-25</td>\n",
       "      <td>0.00</td>\n",
       "      <td>0.00</td>\n",
       "      <td>0.00</td>\n",
       "      <td>4.00</td>\n",
       "      <td>0.00</td>\n",
       "      <td>La Rioja</td>\n",
       "      <td>banos de rio tobia</td>\n",
       "      <td>2011</td>\n",
       "      <td>0.05</td>\n",
       "      <td>0.45</td>\n",
       "      <td>45.00</td>\n",
       "      <td>0</td>\n",
       "      <td>0</td>\n",
       "      <td>0</td>\n",
       "      <td>0.00</td>\n",
       "      <td>0.07</td>\n",
       "      <td>0.00</td>\n",
       "      <td>0.00</td>\n",
       "      <td>0</td>\n",
       "      <td>0</td>\n",
       "      <td>0</td>\n",
       "      <td>0</td>\n",
       "      <td>1</td>\n",
       "      <td>1</td>\n",
       "      <td>0</td>\n",
       "      <td>0</td>\n",
       "      <td>0</td>\n",
       "      <td>0</td>\n",
       "      <td>0.00</td>\n",
       "      <td>0.21</td>\n",
       "      <td>2025.00</td>\n",
       "    </tr>\n",
       "    <tr>\n",
       "      <th>6364025</th>\n",
       "      <td>416536416</td>\n",
       "      <td>1</td>\n",
       "      <td>0.00</td>\n",
       "      <td>2013.00</td>\n",
       "      <td>0.00</td>\n",
       "      <td>0.00</td>\n",
       "      <td>2.00</td>\n",
       "      <td>1</td>\n",
       "      <td>2013-06-25</td>\n",
       "      <td>0.00</td>\n",
       "      <td>0.00</td>\n",
       "      <td>0.00</td>\n",
       "      <td>4.00</td>\n",
       "      <td>0.00</td>\n",
       "      <td>La Rioja</td>\n",
       "      <td>banos de rio tobia</td>\n",
       "      <td>2011</td>\n",
       "      <td>0.10</td>\n",
       "      <td>0.48</td>\n",
       "      <td>45.00</td>\n",
       "      <td>0</td>\n",
       "      <td>0</td>\n",
       "      <td>0</td>\n",
       "      <td>0.00</td>\n",
       "      <td>0.15</td>\n",
       "      <td>0.00</td>\n",
       "      <td>0.00</td>\n",
       "      <td>0</td>\n",
       "      <td>0</td>\n",
       "      <td>0</td>\n",
       "      <td>0</td>\n",
       "      <td>1</td>\n",
       "      <td>1</td>\n",
       "      <td>0</td>\n",
       "      <td>0</td>\n",
       "      <td>0</td>\n",
       "      <td>0</td>\n",
       "      <td>0.01</td>\n",
       "      <td>0.23</td>\n",
       "      <td>2025.00</td>\n",
       "    </tr>\n",
       "    <tr>\n",
       "      <th>6364026</th>\n",
       "      <td>416536438</td>\n",
       "      <td>1</td>\n",
       "      <td>0.00</td>\n",
       "      <td>2013.00</td>\n",
       "      <td>0.00</td>\n",
       "      <td>0.00</td>\n",
       "      <td>2.00</td>\n",
       "      <td>1</td>\n",
       "      <td>2013-06-25</td>\n",
       "      <td>0.00</td>\n",
       "      <td>0.00</td>\n",
       "      <td>0.00</td>\n",
       "      <td>4.00</td>\n",
       "      <td>0.00</td>\n",
       "      <td>La Rioja</td>\n",
       "      <td>banos de rio tobia</td>\n",
       "      <td>2011</td>\n",
       "      <td>0.10</td>\n",
       "      <td>0.48</td>\n",
       "      <td>45.00</td>\n",
       "      <td>0</td>\n",
       "      <td>0</td>\n",
       "      <td>0</td>\n",
       "      <td>0.00</td>\n",
       "      <td>0.15</td>\n",
       "      <td>0.00</td>\n",
       "      <td>0.00</td>\n",
       "      <td>0</td>\n",
       "      <td>0</td>\n",
       "      <td>0</td>\n",
       "      <td>0</td>\n",
       "      <td>1</td>\n",
       "      <td>1</td>\n",
       "      <td>0</td>\n",
       "      <td>0</td>\n",
       "      <td>0</td>\n",
       "      <td>0</td>\n",
       "      <td>0.01</td>\n",
       "      <td>0.24</td>\n",
       "      <td>2025.00</td>\n",
       "    </tr>\n",
       "    <tr>\n",
       "      <th>6364027</th>\n",
       "      <td>416536460</td>\n",
       "      <td>1</td>\n",
       "      <td>0.00</td>\n",
       "      <td>2013.00</td>\n",
       "      <td>0.00</td>\n",
       "      <td>0.00</td>\n",
       "      <td>2.00</td>\n",
       "      <td>1</td>\n",
       "      <td>2013-06-25</td>\n",
       "      <td>0.00</td>\n",
       "      <td>0.00</td>\n",
       "      <td>0.00</td>\n",
       "      <td>4.00</td>\n",
       "      <td>0.00</td>\n",
       "      <td>La Rioja</td>\n",
       "      <td>banos de rio tobia</td>\n",
       "      <td>2011</td>\n",
       "      <td>0.05</td>\n",
       "      <td>0.21</td>\n",
       "      <td>45.00</td>\n",
       "      <td>0</td>\n",
       "      <td>0</td>\n",
       "      <td>0</td>\n",
       "      <td>0.00</td>\n",
       "      <td>0.03</td>\n",
       "      <td>0.00</td>\n",
       "      <td>0.00</td>\n",
       "      <td>0</td>\n",
       "      <td>0</td>\n",
       "      <td>0</td>\n",
       "      <td>0</td>\n",
       "      <td>1</td>\n",
       "      <td>1</td>\n",
       "      <td>0</td>\n",
       "      <td>0</td>\n",
       "      <td>0</td>\n",
       "      <td>0</td>\n",
       "      <td>0.00</td>\n",
       "      <td>0.04</td>\n",
       "      <td>2025.00</td>\n",
       "    </tr>\n",
       "    <tr>\n",
       "      <th>6364028</th>\n",
       "      <td>416536482</td>\n",
       "      <td>1</td>\n",
       "      <td>0.00</td>\n",
       "      <td>2013.00</td>\n",
       "      <td>0.00</td>\n",
       "      <td>0.00</td>\n",
       "      <td>2.00</td>\n",
       "      <td>1</td>\n",
       "      <td>2013-06-25</td>\n",
       "      <td>0.00</td>\n",
       "      <td>0.00</td>\n",
       "      <td>0.00</td>\n",
       "      <td>4.00</td>\n",
       "      <td>0.00</td>\n",
       "      <td>La Rioja</td>\n",
       "      <td>banos de rio tobia</td>\n",
       "      <td>2011</td>\n",
       "      <td>0.05</td>\n",
       "      <td>0.80</td>\n",
       "      <td>45.00</td>\n",
       "      <td>0</td>\n",
       "      <td>0</td>\n",
       "      <td>0</td>\n",
       "      <td>0.00</td>\n",
       "      <td>0.13</td>\n",
       "      <td>0.00</td>\n",
       "      <td>0.00</td>\n",
       "      <td>0</td>\n",
       "      <td>0</td>\n",
       "      <td>0</td>\n",
       "      <td>0</td>\n",
       "      <td>1</td>\n",
       "      <td>1</td>\n",
       "      <td>0</td>\n",
       "      <td>0</td>\n",
       "      <td>0</td>\n",
       "      <td>0</td>\n",
       "      <td>0.00</td>\n",
       "      <td>0.63</td>\n",
       "      <td>2025.00</td>\n",
       "    </tr>\n",
       "  </tbody>\n",
       "</table>\n",
       "<p>6364029 rows × 40 columns</p>\n",
       "</div>"
      ],
      "text/plain": [
       "            PipeId  No_Inspections  No_Incidents  InspectionYear  \\\n",
       "0           489616               5          0.00         2013.00   \n",
       "1           489616               5          0.00         2015.00   \n",
       "2           489616               5          0.00         2016.00   \n",
       "3           489616               5          0.00         2018.00   \n",
       "4           489616               5          0.00         2020.00   \n",
       "...            ...             ...           ...             ...   \n",
       "6364024  416536087               1          0.00         2013.00   \n",
       "6364025  416536416               1          0.00         2013.00   \n",
       "6364026  416536438               1          0.00         2013.00   \n",
       "6364027  416536460               1          0.00         2013.00   \n",
       "6364028  416536482               1          0.00         2013.00   \n",
       "\n",
       "         Probability_rate  preventive_maintenance_rate  \\\n",
       "0                    0.00                         0.00   \n",
       "1                    0.00                         0.00   \n",
       "2                    0.00                         0.00   \n",
       "3                    0.00                         0.00   \n",
       "4                    0.00                         0.00   \n",
       "...                   ...                          ...   \n",
       "6364024              0.00                         0.00   \n",
       "6364025              0.00                         0.00   \n",
       "6364026              0.00                         0.00   \n",
       "6364027              0.00                         0.00   \n",
       "6364028              0.00                         0.00   \n",
       "\n",
       "         Age_pipe_at_inspection  pipe_inspected_frequently InspectionDate  \\\n",
       "0                          1.00                          1     2013-05-08   \n",
       "1                          3.00                          1     2015-03-04   \n",
       "2                          4.00                          1     2017-01-12   \n",
       "3                          6.00                          1     2018-12-19   \n",
       "4                          8.00                          1     2020-12-05   \n",
       "...                         ...                        ...            ...   \n",
       "6364024                    2.00                          1     2013-06-25   \n",
       "6364025                    2.00                          1     2013-06-25   \n",
       "6364026                    2.00                          1     2013-06-25   \n",
       "6364027                    2.00                          1     2013-06-25   \n",
       "6364028                    2.00                          1     2013-06-25   \n",
       "\n",
       "         Average_MonthsLastRev  MonthsLastRev  relative_risk  \\\n",
       "0                        21.40          16.00           0.00   \n",
       "1                        21.40          22.00           0.00   \n",
       "2                        21.40          22.00           0.00   \n",
       "3                        21.40          23.00           0.00   \n",
       "4                        21.40          24.00           0.00   \n",
       "...                        ...            ...            ...   \n",
       "6364024                   0.00           0.00           0.00   \n",
       "6364025                   0.00           0.00           0.00   \n",
       "6364026                   0.00           0.00           0.00   \n",
       "6364027                   0.00           0.00           0.00   \n",
       "6364028                   0.00           0.00           0.00   \n",
       "\n",
       "         average_severity_pipe  Incidence     Province                   Town  \\\n",
       "0                         4.00       0.00  Ciudad Real  torralba de calatrava   \n",
       "1                         4.00       0.00  Ciudad Real  torralba de calatrava   \n",
       "2                         4.00       0.00  Ciudad Real  torralba de calatrava   \n",
       "3                         4.00       0.00  Ciudad Real  torralba de calatrava   \n",
       "4                         4.00       0.00  Ciudad Real  torralba de calatrava   \n",
       "...                        ...        ...          ...                    ...   \n",
       "6364024                   4.00       0.00     La Rioja     banos de rio tobia   \n",
       "6364025                   4.00       0.00     La Rioja     banos de rio tobia   \n",
       "6364026                   4.00       0.00     La Rioja     banos de rio tobia   \n",
       "6364027                   4.00       0.00     La Rioja     banos de rio tobia   \n",
       "6364028                   4.00       0.00     La Rioja     banos de rio tobia   \n",
       "\n",
       "         YearBuilt  Diameter  Length  Pressure  NumConnections  \\\n",
       "0             2012      0.06    7.79      0.40               0   \n",
       "1             2012      0.06    7.79      0.40               0   \n",
       "2             2012      0.06    7.79      0.40               0   \n",
       "3             2012      0.06    7.79      0.40               0   \n",
       "4             2012      0.06    7.79      0.40               0   \n",
       "...            ...       ...     ...       ...             ...   \n",
       "6364024       2011      0.05    0.45     45.00               0   \n",
       "6364025       2011      0.10    0.48     45.00               0   \n",
       "6364026       2011      0.10    0.48     45.00               0   \n",
       "6364027       2011      0.05    0.21     45.00               0   \n",
       "6364028       2011      0.05    0.80     45.00               0   \n",
       "\n",
       "         NumConnectionsUnder  BoolBridle  Relative_Thickness  pipe_area  \\\n",
       "0                          0           0                0.16       1.54   \n",
       "1                          0           0                0.16       1.54   \n",
       "2                          0           0                0.16       1.54   \n",
       "3                          0           0                0.16       1.54   \n",
       "4                          0           0                0.16       1.54   \n",
       "...                      ...         ...                 ...        ...   \n",
       "6364024                    0           0                0.00       0.07   \n",
       "6364025                    0           0                0.00       0.15   \n",
       "6364026                    0           0                0.00       0.15   \n",
       "6364027                    0           0                0.00       0.03   \n",
       "6364028                    0           0                0.00       0.13   \n",
       "\n",
       "         area_connection  incidence_area  connection_bool  Severity_high  \\\n",
       "0                   0.00            0.00                0              0   \n",
       "1                   0.00            0.00                0              0   \n",
       "2                   0.00            0.00                0              0   \n",
       "3                   0.00            0.00                0              0   \n",
       "4                   0.00            0.00                0              0   \n",
       "...                  ...             ...              ...            ...   \n",
       "6364024             0.00            0.00                0              0   \n",
       "6364025             0.00            0.00                0              0   \n",
       "6364026             0.00            0.00                0              0   \n",
       "6364027             0.00            0.00                0              0   \n",
       "6364028             0.00            0.00                0              0   \n",
       "\n",
       "         Severity_medium  Severity_low  gas_natural  \\\n",
       "0                      0             0            1   \n",
       "1                      0             0            1   \n",
       "2                      0             0            1   \n",
       "3                      0             0            1   \n",
       "4                      0             0            1   \n",
       "...                  ...           ...          ...   \n",
       "6364024                0             0            1   \n",
       "6364025                0             0            1   \n",
       "6364026                0             0            1   \n",
       "6364027                0             0            1   \n",
       "6364028                0             0            1   \n",
       "\n",
       "         Material_Acrylonitrile-Butadiene-Styrene  Material_Copper  \\\n",
       "0                                               0                0   \n",
       "1                                               0                0   \n",
       "2                                               0                0   \n",
       "3                                               0                0   \n",
       "4                                               0                0   \n",
       "...                                           ...              ...   \n",
       "6364024                                         1                0   \n",
       "6364025                                         1                0   \n",
       "6364026                                         1                0   \n",
       "6364027                                         1                0   \n",
       "6364028                                         1                0   \n",
       "\n",
       "         Material_Fiberglass-Reinforced Plastic  Material_Polyethylene  \\\n",
       "0                                             0                      1   \n",
       "1                                             0                      1   \n",
       "2                                             0                      1   \n",
       "3                                             0                      1   \n",
       "4                                             0                      1   \n",
       "...                                         ...                    ...   \n",
       "6364024                                       0                      0   \n",
       "6364025                                       0                      0   \n",
       "6364026                                       0                      0   \n",
       "6364027                                       0                      0   \n",
       "6364028                                       0                      0   \n",
       "\n",
       "         Material_Polypropylene  Diameter2  Length2  Pressure2  \n",
       "0                             0       0.00    60.72       0.16  \n",
       "1                             0       0.00    60.72       0.16  \n",
       "2                             0       0.00    60.72       0.16  \n",
       "3                             0       0.00    60.72       0.16  \n",
       "4                             0       0.00    60.72       0.16  \n",
       "...                         ...        ...      ...        ...  \n",
       "6364024                       0       0.00     0.21    2025.00  \n",
       "6364025                       0       0.01     0.23    2025.00  \n",
       "6364026                       0       0.01     0.24    2025.00  \n",
       "6364027                       0       0.00     0.04    2025.00  \n",
       "6364028                       0       0.00     0.63    2025.00  \n",
       "\n",
       "[6364029 rows x 40 columns]"
      ]
     },
     "execution_count": 129,
     "metadata": {},
     "output_type": "execute_result"
    }
   ],
   "source": [
    "normalize_characters(train_copy, 'Town')"
   ]
  },
  {
   "cell_type": "code",
   "execution_count": 130,
   "id": "746b2423",
   "metadata": {},
   "outputs": [
    {
     "data": {
      "text/html": [
       "<div>\n",
       "<style scoped>\n",
       "    .dataframe tbody tr th:only-of-type {\n",
       "        vertical-align: middle;\n",
       "    }\n",
       "\n",
       "    .dataframe tbody tr th {\n",
       "        vertical-align: top;\n",
       "    }\n",
       "\n",
       "    .dataframe thead th {\n",
       "        text-align: right;\n",
       "    }\n",
       "</style>\n",
       "<table border=\"1\" class=\"dataframe\">\n",
       "  <thead>\n",
       "    <tr style=\"text-align: right;\">\n",
       "      <th></th>\n",
       "      <th>PipeId</th>\n",
       "      <th>No_Inspections</th>\n",
       "      <th>No_Incidents</th>\n",
       "      <th>InspectionYear</th>\n",
       "      <th>Probability_rate</th>\n",
       "      <th>preventive_maintenance_rate</th>\n",
       "      <th>Age_pipe_at_inspection</th>\n",
       "      <th>pipe_inspected_frequently</th>\n",
       "      <th>InspectionDate</th>\n",
       "      <th>Average_MonthsLastRev</th>\n",
       "      <th>MonthsLastRev</th>\n",
       "      <th>relative_risk</th>\n",
       "      <th>average_severity_pipe</th>\n",
       "      <th>Incidence</th>\n",
       "      <th>Province</th>\n",
       "      <th>Town</th>\n",
       "      <th>YearBuilt</th>\n",
       "      <th>Diameter</th>\n",
       "      <th>Length</th>\n",
       "      <th>Pressure</th>\n",
       "      <th>NumConnections</th>\n",
       "      <th>NumConnectionsUnder</th>\n",
       "      <th>BoolBridle</th>\n",
       "      <th>Relative_Thickness</th>\n",
       "      <th>pipe_area</th>\n",
       "      <th>area_connection</th>\n",
       "      <th>incidence_area</th>\n",
       "      <th>connection_bool</th>\n",
       "      <th>Severity_high</th>\n",
       "      <th>Severity_medium</th>\n",
       "      <th>Severity_low</th>\n",
       "      <th>gas_natural</th>\n",
       "      <th>Material_Acrylonitrile-Butadiene-Styrene</th>\n",
       "      <th>Material_Copper</th>\n",
       "      <th>Material_Fiberglass-Reinforced Plastic</th>\n",
       "      <th>Material_Polyethylene</th>\n",
       "      <th>Material_Polypropylene</th>\n",
       "      <th>Diameter2</th>\n",
       "      <th>Length2</th>\n",
       "      <th>Pressure2</th>\n",
       "    </tr>\n",
       "  </thead>\n",
       "  <tbody>\n",
       "    <tr>\n",
       "      <th>0</th>\n",
       "      <td>489616</td>\n",
       "      <td>5</td>\n",
       "      <td>0.00</td>\n",
       "      <td>2013.00</td>\n",
       "      <td>0.00</td>\n",
       "      <td>0.00</td>\n",
       "      <td>1.00</td>\n",
       "      <td>1</td>\n",
       "      <td>2013-05-08</td>\n",
       "      <td>21.40</td>\n",
       "      <td>16.00</td>\n",
       "      <td>0.00</td>\n",
       "      <td>4.00</td>\n",
       "      <td>0.00</td>\n",
       "      <td>ciudad real</td>\n",
       "      <td>torralba de calatrava</td>\n",
       "      <td>2012</td>\n",
       "      <td>0.06</td>\n",
       "      <td>7.79</td>\n",
       "      <td>0.40</td>\n",
       "      <td>0</td>\n",
       "      <td>0</td>\n",
       "      <td>0</td>\n",
       "      <td>0.16</td>\n",
       "      <td>1.54</td>\n",
       "      <td>0.00</td>\n",
       "      <td>0.00</td>\n",
       "      <td>0</td>\n",
       "      <td>0</td>\n",
       "      <td>0</td>\n",
       "      <td>0</td>\n",
       "      <td>1</td>\n",
       "      <td>0</td>\n",
       "      <td>0</td>\n",
       "      <td>0</td>\n",
       "      <td>1</td>\n",
       "      <td>0</td>\n",
       "      <td>0.00</td>\n",
       "      <td>60.72</td>\n",
       "      <td>0.16</td>\n",
       "    </tr>\n",
       "    <tr>\n",
       "      <th>1</th>\n",
       "      <td>489616</td>\n",
       "      <td>5</td>\n",
       "      <td>0.00</td>\n",
       "      <td>2015.00</td>\n",
       "      <td>0.00</td>\n",
       "      <td>0.00</td>\n",
       "      <td>3.00</td>\n",
       "      <td>1</td>\n",
       "      <td>2015-03-04</td>\n",
       "      <td>21.40</td>\n",
       "      <td>22.00</td>\n",
       "      <td>0.00</td>\n",
       "      <td>4.00</td>\n",
       "      <td>0.00</td>\n",
       "      <td>ciudad real</td>\n",
       "      <td>torralba de calatrava</td>\n",
       "      <td>2012</td>\n",
       "      <td>0.06</td>\n",
       "      <td>7.79</td>\n",
       "      <td>0.40</td>\n",
       "      <td>0</td>\n",
       "      <td>0</td>\n",
       "      <td>0</td>\n",
       "      <td>0.16</td>\n",
       "      <td>1.54</td>\n",
       "      <td>0.00</td>\n",
       "      <td>0.00</td>\n",
       "      <td>0</td>\n",
       "      <td>0</td>\n",
       "      <td>0</td>\n",
       "      <td>0</td>\n",
       "      <td>1</td>\n",
       "      <td>0</td>\n",
       "      <td>0</td>\n",
       "      <td>0</td>\n",
       "      <td>1</td>\n",
       "      <td>0</td>\n",
       "      <td>0.00</td>\n",
       "      <td>60.72</td>\n",
       "      <td>0.16</td>\n",
       "    </tr>\n",
       "    <tr>\n",
       "      <th>2</th>\n",
       "      <td>489616</td>\n",
       "      <td>5</td>\n",
       "      <td>0.00</td>\n",
       "      <td>2016.00</td>\n",
       "      <td>0.00</td>\n",
       "      <td>0.00</td>\n",
       "      <td>4.00</td>\n",
       "      <td>1</td>\n",
       "      <td>2017-01-12</td>\n",
       "      <td>21.40</td>\n",
       "      <td>22.00</td>\n",
       "      <td>0.00</td>\n",
       "      <td>4.00</td>\n",
       "      <td>0.00</td>\n",
       "      <td>ciudad real</td>\n",
       "      <td>torralba de calatrava</td>\n",
       "      <td>2012</td>\n",
       "      <td>0.06</td>\n",
       "      <td>7.79</td>\n",
       "      <td>0.40</td>\n",
       "      <td>0</td>\n",
       "      <td>0</td>\n",
       "      <td>0</td>\n",
       "      <td>0.16</td>\n",
       "      <td>1.54</td>\n",
       "      <td>0.00</td>\n",
       "      <td>0.00</td>\n",
       "      <td>0</td>\n",
       "      <td>0</td>\n",
       "      <td>0</td>\n",
       "      <td>0</td>\n",
       "      <td>1</td>\n",
       "      <td>0</td>\n",
       "      <td>0</td>\n",
       "      <td>0</td>\n",
       "      <td>1</td>\n",
       "      <td>0</td>\n",
       "      <td>0.00</td>\n",
       "      <td>60.72</td>\n",
       "      <td>0.16</td>\n",
       "    </tr>\n",
       "    <tr>\n",
       "      <th>3</th>\n",
       "      <td>489616</td>\n",
       "      <td>5</td>\n",
       "      <td>0.00</td>\n",
       "      <td>2018.00</td>\n",
       "      <td>0.00</td>\n",
       "      <td>0.00</td>\n",
       "      <td>6.00</td>\n",
       "      <td>1</td>\n",
       "      <td>2018-12-19</td>\n",
       "      <td>21.40</td>\n",
       "      <td>23.00</td>\n",
       "      <td>0.00</td>\n",
       "      <td>4.00</td>\n",
       "      <td>0.00</td>\n",
       "      <td>ciudad real</td>\n",
       "      <td>torralba de calatrava</td>\n",
       "      <td>2012</td>\n",
       "      <td>0.06</td>\n",
       "      <td>7.79</td>\n",
       "      <td>0.40</td>\n",
       "      <td>0</td>\n",
       "      <td>0</td>\n",
       "      <td>0</td>\n",
       "      <td>0.16</td>\n",
       "      <td>1.54</td>\n",
       "      <td>0.00</td>\n",
       "      <td>0.00</td>\n",
       "      <td>0</td>\n",
       "      <td>0</td>\n",
       "      <td>0</td>\n",
       "      <td>0</td>\n",
       "      <td>1</td>\n",
       "      <td>0</td>\n",
       "      <td>0</td>\n",
       "      <td>0</td>\n",
       "      <td>1</td>\n",
       "      <td>0</td>\n",
       "      <td>0.00</td>\n",
       "      <td>60.72</td>\n",
       "      <td>0.16</td>\n",
       "    </tr>\n",
       "    <tr>\n",
       "      <th>4</th>\n",
       "      <td>489616</td>\n",
       "      <td>5</td>\n",
       "      <td>0.00</td>\n",
       "      <td>2020.00</td>\n",
       "      <td>0.00</td>\n",
       "      <td>0.00</td>\n",
       "      <td>8.00</td>\n",
       "      <td>1</td>\n",
       "      <td>2020-12-05</td>\n",
       "      <td>21.40</td>\n",
       "      <td>24.00</td>\n",
       "      <td>0.00</td>\n",
       "      <td>4.00</td>\n",
       "      <td>0.00</td>\n",
       "      <td>ciudad real</td>\n",
       "      <td>torralba de calatrava</td>\n",
       "      <td>2012</td>\n",
       "      <td>0.06</td>\n",
       "      <td>7.79</td>\n",
       "      <td>0.40</td>\n",
       "      <td>0</td>\n",
       "      <td>0</td>\n",
       "      <td>0</td>\n",
       "      <td>0.16</td>\n",
       "      <td>1.54</td>\n",
       "      <td>0.00</td>\n",
       "      <td>0.00</td>\n",
       "      <td>0</td>\n",
       "      <td>0</td>\n",
       "      <td>0</td>\n",
       "      <td>0</td>\n",
       "      <td>1</td>\n",
       "      <td>0</td>\n",
       "      <td>0</td>\n",
       "      <td>0</td>\n",
       "      <td>1</td>\n",
       "      <td>0</td>\n",
       "      <td>0.00</td>\n",
       "      <td>60.72</td>\n",
       "      <td>0.16</td>\n",
       "    </tr>\n",
       "    <tr>\n",
       "      <th>...</th>\n",
       "      <td>...</td>\n",
       "      <td>...</td>\n",
       "      <td>...</td>\n",
       "      <td>...</td>\n",
       "      <td>...</td>\n",
       "      <td>...</td>\n",
       "      <td>...</td>\n",
       "      <td>...</td>\n",
       "      <td>...</td>\n",
       "      <td>...</td>\n",
       "      <td>...</td>\n",
       "      <td>...</td>\n",
       "      <td>...</td>\n",
       "      <td>...</td>\n",
       "      <td>...</td>\n",
       "      <td>...</td>\n",
       "      <td>...</td>\n",
       "      <td>...</td>\n",
       "      <td>...</td>\n",
       "      <td>...</td>\n",
       "      <td>...</td>\n",
       "      <td>...</td>\n",
       "      <td>...</td>\n",
       "      <td>...</td>\n",
       "      <td>...</td>\n",
       "      <td>...</td>\n",
       "      <td>...</td>\n",
       "      <td>...</td>\n",
       "      <td>...</td>\n",
       "      <td>...</td>\n",
       "      <td>...</td>\n",
       "      <td>...</td>\n",
       "      <td>...</td>\n",
       "      <td>...</td>\n",
       "      <td>...</td>\n",
       "      <td>...</td>\n",
       "      <td>...</td>\n",
       "      <td>...</td>\n",
       "      <td>...</td>\n",
       "      <td>...</td>\n",
       "    </tr>\n",
       "    <tr>\n",
       "      <th>6364024</th>\n",
       "      <td>416536087</td>\n",
       "      <td>1</td>\n",
       "      <td>0.00</td>\n",
       "      <td>2013.00</td>\n",
       "      <td>0.00</td>\n",
       "      <td>0.00</td>\n",
       "      <td>2.00</td>\n",
       "      <td>1</td>\n",
       "      <td>2013-06-25</td>\n",
       "      <td>0.00</td>\n",
       "      <td>0.00</td>\n",
       "      <td>0.00</td>\n",
       "      <td>4.00</td>\n",
       "      <td>0.00</td>\n",
       "      <td>la rioja</td>\n",
       "      <td>banos de rio tobia</td>\n",
       "      <td>2011</td>\n",
       "      <td>0.05</td>\n",
       "      <td>0.45</td>\n",
       "      <td>45.00</td>\n",
       "      <td>0</td>\n",
       "      <td>0</td>\n",
       "      <td>0</td>\n",
       "      <td>0.00</td>\n",
       "      <td>0.07</td>\n",
       "      <td>0.00</td>\n",
       "      <td>0.00</td>\n",
       "      <td>0</td>\n",
       "      <td>0</td>\n",
       "      <td>0</td>\n",
       "      <td>0</td>\n",
       "      <td>1</td>\n",
       "      <td>1</td>\n",
       "      <td>0</td>\n",
       "      <td>0</td>\n",
       "      <td>0</td>\n",
       "      <td>0</td>\n",
       "      <td>0.00</td>\n",
       "      <td>0.21</td>\n",
       "      <td>2025.00</td>\n",
       "    </tr>\n",
       "    <tr>\n",
       "      <th>6364025</th>\n",
       "      <td>416536416</td>\n",
       "      <td>1</td>\n",
       "      <td>0.00</td>\n",
       "      <td>2013.00</td>\n",
       "      <td>0.00</td>\n",
       "      <td>0.00</td>\n",
       "      <td>2.00</td>\n",
       "      <td>1</td>\n",
       "      <td>2013-06-25</td>\n",
       "      <td>0.00</td>\n",
       "      <td>0.00</td>\n",
       "      <td>0.00</td>\n",
       "      <td>4.00</td>\n",
       "      <td>0.00</td>\n",
       "      <td>la rioja</td>\n",
       "      <td>banos de rio tobia</td>\n",
       "      <td>2011</td>\n",
       "      <td>0.10</td>\n",
       "      <td>0.48</td>\n",
       "      <td>45.00</td>\n",
       "      <td>0</td>\n",
       "      <td>0</td>\n",
       "      <td>0</td>\n",
       "      <td>0.00</td>\n",
       "      <td>0.15</td>\n",
       "      <td>0.00</td>\n",
       "      <td>0.00</td>\n",
       "      <td>0</td>\n",
       "      <td>0</td>\n",
       "      <td>0</td>\n",
       "      <td>0</td>\n",
       "      <td>1</td>\n",
       "      <td>1</td>\n",
       "      <td>0</td>\n",
       "      <td>0</td>\n",
       "      <td>0</td>\n",
       "      <td>0</td>\n",
       "      <td>0.01</td>\n",
       "      <td>0.23</td>\n",
       "      <td>2025.00</td>\n",
       "    </tr>\n",
       "    <tr>\n",
       "      <th>6364026</th>\n",
       "      <td>416536438</td>\n",
       "      <td>1</td>\n",
       "      <td>0.00</td>\n",
       "      <td>2013.00</td>\n",
       "      <td>0.00</td>\n",
       "      <td>0.00</td>\n",
       "      <td>2.00</td>\n",
       "      <td>1</td>\n",
       "      <td>2013-06-25</td>\n",
       "      <td>0.00</td>\n",
       "      <td>0.00</td>\n",
       "      <td>0.00</td>\n",
       "      <td>4.00</td>\n",
       "      <td>0.00</td>\n",
       "      <td>la rioja</td>\n",
       "      <td>banos de rio tobia</td>\n",
       "      <td>2011</td>\n",
       "      <td>0.10</td>\n",
       "      <td>0.48</td>\n",
       "      <td>45.00</td>\n",
       "      <td>0</td>\n",
       "      <td>0</td>\n",
       "      <td>0</td>\n",
       "      <td>0.00</td>\n",
       "      <td>0.15</td>\n",
       "      <td>0.00</td>\n",
       "      <td>0.00</td>\n",
       "      <td>0</td>\n",
       "      <td>0</td>\n",
       "      <td>0</td>\n",
       "      <td>0</td>\n",
       "      <td>1</td>\n",
       "      <td>1</td>\n",
       "      <td>0</td>\n",
       "      <td>0</td>\n",
       "      <td>0</td>\n",
       "      <td>0</td>\n",
       "      <td>0.01</td>\n",
       "      <td>0.24</td>\n",
       "      <td>2025.00</td>\n",
       "    </tr>\n",
       "    <tr>\n",
       "      <th>6364027</th>\n",
       "      <td>416536460</td>\n",
       "      <td>1</td>\n",
       "      <td>0.00</td>\n",
       "      <td>2013.00</td>\n",
       "      <td>0.00</td>\n",
       "      <td>0.00</td>\n",
       "      <td>2.00</td>\n",
       "      <td>1</td>\n",
       "      <td>2013-06-25</td>\n",
       "      <td>0.00</td>\n",
       "      <td>0.00</td>\n",
       "      <td>0.00</td>\n",
       "      <td>4.00</td>\n",
       "      <td>0.00</td>\n",
       "      <td>la rioja</td>\n",
       "      <td>banos de rio tobia</td>\n",
       "      <td>2011</td>\n",
       "      <td>0.05</td>\n",
       "      <td>0.21</td>\n",
       "      <td>45.00</td>\n",
       "      <td>0</td>\n",
       "      <td>0</td>\n",
       "      <td>0</td>\n",
       "      <td>0.00</td>\n",
       "      <td>0.03</td>\n",
       "      <td>0.00</td>\n",
       "      <td>0.00</td>\n",
       "      <td>0</td>\n",
       "      <td>0</td>\n",
       "      <td>0</td>\n",
       "      <td>0</td>\n",
       "      <td>1</td>\n",
       "      <td>1</td>\n",
       "      <td>0</td>\n",
       "      <td>0</td>\n",
       "      <td>0</td>\n",
       "      <td>0</td>\n",
       "      <td>0.00</td>\n",
       "      <td>0.04</td>\n",
       "      <td>2025.00</td>\n",
       "    </tr>\n",
       "    <tr>\n",
       "      <th>6364028</th>\n",
       "      <td>416536482</td>\n",
       "      <td>1</td>\n",
       "      <td>0.00</td>\n",
       "      <td>2013.00</td>\n",
       "      <td>0.00</td>\n",
       "      <td>0.00</td>\n",
       "      <td>2.00</td>\n",
       "      <td>1</td>\n",
       "      <td>2013-06-25</td>\n",
       "      <td>0.00</td>\n",
       "      <td>0.00</td>\n",
       "      <td>0.00</td>\n",
       "      <td>4.00</td>\n",
       "      <td>0.00</td>\n",
       "      <td>la rioja</td>\n",
       "      <td>banos de rio tobia</td>\n",
       "      <td>2011</td>\n",
       "      <td>0.05</td>\n",
       "      <td>0.80</td>\n",
       "      <td>45.00</td>\n",
       "      <td>0</td>\n",
       "      <td>0</td>\n",
       "      <td>0</td>\n",
       "      <td>0.00</td>\n",
       "      <td>0.13</td>\n",
       "      <td>0.00</td>\n",
       "      <td>0.00</td>\n",
       "      <td>0</td>\n",
       "      <td>0</td>\n",
       "      <td>0</td>\n",
       "      <td>0</td>\n",
       "      <td>1</td>\n",
       "      <td>1</td>\n",
       "      <td>0</td>\n",
       "      <td>0</td>\n",
       "      <td>0</td>\n",
       "      <td>0</td>\n",
       "      <td>0.00</td>\n",
       "      <td>0.63</td>\n",
       "      <td>2025.00</td>\n",
       "    </tr>\n",
       "  </tbody>\n",
       "</table>\n",
       "<p>6364029 rows × 40 columns</p>\n",
       "</div>"
      ],
      "text/plain": [
       "            PipeId  No_Inspections  No_Incidents  InspectionYear  \\\n",
       "0           489616               5          0.00         2013.00   \n",
       "1           489616               5          0.00         2015.00   \n",
       "2           489616               5          0.00         2016.00   \n",
       "3           489616               5          0.00         2018.00   \n",
       "4           489616               5          0.00         2020.00   \n",
       "...            ...             ...           ...             ...   \n",
       "6364024  416536087               1          0.00         2013.00   \n",
       "6364025  416536416               1          0.00         2013.00   \n",
       "6364026  416536438               1          0.00         2013.00   \n",
       "6364027  416536460               1          0.00         2013.00   \n",
       "6364028  416536482               1          0.00         2013.00   \n",
       "\n",
       "         Probability_rate  preventive_maintenance_rate  \\\n",
       "0                    0.00                         0.00   \n",
       "1                    0.00                         0.00   \n",
       "2                    0.00                         0.00   \n",
       "3                    0.00                         0.00   \n",
       "4                    0.00                         0.00   \n",
       "...                   ...                          ...   \n",
       "6364024              0.00                         0.00   \n",
       "6364025              0.00                         0.00   \n",
       "6364026              0.00                         0.00   \n",
       "6364027              0.00                         0.00   \n",
       "6364028              0.00                         0.00   \n",
       "\n",
       "         Age_pipe_at_inspection  pipe_inspected_frequently InspectionDate  \\\n",
       "0                          1.00                          1     2013-05-08   \n",
       "1                          3.00                          1     2015-03-04   \n",
       "2                          4.00                          1     2017-01-12   \n",
       "3                          6.00                          1     2018-12-19   \n",
       "4                          8.00                          1     2020-12-05   \n",
       "...                         ...                        ...            ...   \n",
       "6364024                    2.00                          1     2013-06-25   \n",
       "6364025                    2.00                          1     2013-06-25   \n",
       "6364026                    2.00                          1     2013-06-25   \n",
       "6364027                    2.00                          1     2013-06-25   \n",
       "6364028                    2.00                          1     2013-06-25   \n",
       "\n",
       "         Average_MonthsLastRev  MonthsLastRev  relative_risk  \\\n",
       "0                        21.40          16.00           0.00   \n",
       "1                        21.40          22.00           0.00   \n",
       "2                        21.40          22.00           0.00   \n",
       "3                        21.40          23.00           0.00   \n",
       "4                        21.40          24.00           0.00   \n",
       "...                        ...            ...            ...   \n",
       "6364024                   0.00           0.00           0.00   \n",
       "6364025                   0.00           0.00           0.00   \n",
       "6364026                   0.00           0.00           0.00   \n",
       "6364027                   0.00           0.00           0.00   \n",
       "6364028                   0.00           0.00           0.00   \n",
       "\n",
       "         average_severity_pipe  Incidence     Province                   Town  \\\n",
       "0                         4.00       0.00  ciudad real  torralba de calatrava   \n",
       "1                         4.00       0.00  ciudad real  torralba de calatrava   \n",
       "2                         4.00       0.00  ciudad real  torralba de calatrava   \n",
       "3                         4.00       0.00  ciudad real  torralba de calatrava   \n",
       "4                         4.00       0.00  ciudad real  torralba de calatrava   \n",
       "...                        ...        ...          ...                    ...   \n",
       "6364024                   4.00       0.00     la rioja     banos de rio tobia   \n",
       "6364025                   4.00       0.00     la rioja     banos de rio tobia   \n",
       "6364026                   4.00       0.00     la rioja     banos de rio tobia   \n",
       "6364027                   4.00       0.00     la rioja     banos de rio tobia   \n",
       "6364028                   4.00       0.00     la rioja     banos de rio tobia   \n",
       "\n",
       "         YearBuilt  Diameter  Length  Pressure  NumConnections  \\\n",
       "0             2012      0.06    7.79      0.40               0   \n",
       "1             2012      0.06    7.79      0.40               0   \n",
       "2             2012      0.06    7.79      0.40               0   \n",
       "3             2012      0.06    7.79      0.40               0   \n",
       "4             2012      0.06    7.79      0.40               0   \n",
       "...            ...       ...     ...       ...             ...   \n",
       "6364024       2011      0.05    0.45     45.00               0   \n",
       "6364025       2011      0.10    0.48     45.00               0   \n",
       "6364026       2011      0.10    0.48     45.00               0   \n",
       "6364027       2011      0.05    0.21     45.00               0   \n",
       "6364028       2011      0.05    0.80     45.00               0   \n",
       "\n",
       "         NumConnectionsUnder  BoolBridle  Relative_Thickness  pipe_area  \\\n",
       "0                          0           0                0.16       1.54   \n",
       "1                          0           0                0.16       1.54   \n",
       "2                          0           0                0.16       1.54   \n",
       "3                          0           0                0.16       1.54   \n",
       "4                          0           0                0.16       1.54   \n",
       "...                      ...         ...                 ...        ...   \n",
       "6364024                    0           0                0.00       0.07   \n",
       "6364025                    0           0                0.00       0.15   \n",
       "6364026                    0           0                0.00       0.15   \n",
       "6364027                    0           0                0.00       0.03   \n",
       "6364028                    0           0                0.00       0.13   \n",
       "\n",
       "         area_connection  incidence_area  connection_bool  Severity_high  \\\n",
       "0                   0.00            0.00                0              0   \n",
       "1                   0.00            0.00                0              0   \n",
       "2                   0.00            0.00                0              0   \n",
       "3                   0.00            0.00                0              0   \n",
       "4                   0.00            0.00                0              0   \n",
       "...                  ...             ...              ...            ...   \n",
       "6364024             0.00            0.00                0              0   \n",
       "6364025             0.00            0.00                0              0   \n",
       "6364026             0.00            0.00                0              0   \n",
       "6364027             0.00            0.00                0              0   \n",
       "6364028             0.00            0.00                0              0   \n",
       "\n",
       "         Severity_medium  Severity_low  gas_natural  \\\n",
       "0                      0             0            1   \n",
       "1                      0             0            1   \n",
       "2                      0             0            1   \n",
       "3                      0             0            1   \n",
       "4                      0             0            1   \n",
       "...                  ...           ...          ...   \n",
       "6364024                0             0            1   \n",
       "6364025                0             0            1   \n",
       "6364026                0             0            1   \n",
       "6364027                0             0            1   \n",
       "6364028                0             0            1   \n",
       "\n",
       "         Material_Acrylonitrile-Butadiene-Styrene  Material_Copper  \\\n",
       "0                                               0                0   \n",
       "1                                               0                0   \n",
       "2                                               0                0   \n",
       "3                                               0                0   \n",
       "4                                               0                0   \n",
       "...                                           ...              ...   \n",
       "6364024                                         1                0   \n",
       "6364025                                         1                0   \n",
       "6364026                                         1                0   \n",
       "6364027                                         1                0   \n",
       "6364028                                         1                0   \n",
       "\n",
       "         Material_Fiberglass-Reinforced Plastic  Material_Polyethylene  \\\n",
       "0                                             0                      1   \n",
       "1                                             0                      1   \n",
       "2                                             0                      1   \n",
       "3                                             0                      1   \n",
       "4                                             0                      1   \n",
       "...                                         ...                    ...   \n",
       "6364024                                       0                      0   \n",
       "6364025                                       0                      0   \n",
       "6364026                                       0                      0   \n",
       "6364027                                       0                      0   \n",
       "6364028                                       0                      0   \n",
       "\n",
       "         Material_Polypropylene  Diameter2  Length2  Pressure2  \n",
       "0                             0       0.00    60.72       0.16  \n",
       "1                             0       0.00    60.72       0.16  \n",
       "2                             0       0.00    60.72       0.16  \n",
       "3                             0       0.00    60.72       0.16  \n",
       "4                             0       0.00    60.72       0.16  \n",
       "...                         ...        ...      ...        ...  \n",
       "6364024                       0       0.00     0.21    2025.00  \n",
       "6364025                       0       0.01     0.23    2025.00  \n",
       "6364026                       0       0.01     0.24    2025.00  \n",
       "6364027                       0       0.00     0.04    2025.00  \n",
       "6364028                       0       0.00     0.63    2025.00  \n",
       "\n",
       "[6364029 rows x 40 columns]"
      ]
     },
     "execution_count": 130,
     "metadata": {},
     "output_type": "execute_result"
    }
   ],
   "source": [
    "normalize_characters(train_copy, 'Province')\n"
   ]
  },
  {
   "cell_type": "code",
   "execution_count": 131,
   "id": "a70169a5",
   "metadata": {},
   "outputs": [
    {
     "data": {
      "text/html": [
       "<div>\n",
       "<style scoped>\n",
       "    .dataframe tbody tr th:only-of-type {\n",
       "        vertical-align: middle;\n",
       "    }\n",
       "\n",
       "    .dataframe tbody tr th {\n",
       "        vertical-align: top;\n",
       "    }\n",
       "\n",
       "    .dataframe thead th {\n",
       "        text-align: right;\n",
       "    }\n",
       "</style>\n",
       "<table border=\"1\" class=\"dataframe\">\n",
       "  <thead>\n",
       "    <tr style=\"text-align: right;\">\n",
       "      <th></th>\n",
       "      <th>PipeId</th>\n",
       "      <th>No_Inspections</th>\n",
       "      <th>No_Incidents</th>\n",
       "      <th>InspectionYear</th>\n",
       "      <th>Probability_rate</th>\n",
       "      <th>preventive_maintenance_rate</th>\n",
       "      <th>Age_pipe_at_inspection</th>\n",
       "      <th>pipe_inspected_frequently</th>\n",
       "      <th>InspectionDate</th>\n",
       "      <th>Average_MonthsLastRev</th>\n",
       "      <th>MonthsLastRev</th>\n",
       "      <th>relative_risk</th>\n",
       "      <th>average_severity_pipe</th>\n",
       "      <th>Incidence</th>\n",
       "      <th>Province</th>\n",
       "      <th>Town</th>\n",
       "      <th>YearBuilt</th>\n",
       "      <th>Diameter</th>\n",
       "      <th>Length</th>\n",
       "      <th>Pressure</th>\n",
       "      <th>NumConnections</th>\n",
       "      <th>NumConnectionsUnder</th>\n",
       "      <th>BoolBridle</th>\n",
       "      <th>Relative_Thickness</th>\n",
       "      <th>pipe_area</th>\n",
       "      <th>area_connection</th>\n",
       "      <th>incidence_area</th>\n",
       "      <th>connection_bool</th>\n",
       "      <th>Severity_high</th>\n",
       "      <th>Severity_medium</th>\n",
       "      <th>Severity_low</th>\n",
       "      <th>gas_natural</th>\n",
       "      <th>Material_Acrylonitrile-Butadiene-Styrene</th>\n",
       "      <th>Material_Copper</th>\n",
       "      <th>Material_Fiberglass-Reinforced Plastic</th>\n",
       "      <th>Material_Polyethylene</th>\n",
       "      <th>Material_Polypropylene</th>\n",
       "      <th>Diameter2</th>\n",
       "      <th>Length2</th>\n",
       "      <th>Pressure2</th>\n",
       "      <th>codine</th>\n",
       "      <th>Municipio</th>\n",
       "      <th>Superficie</th>\n",
       "      <th>Capitalidad</th>\n",
       "      <th>Año</th>\n",
       "      <th>CA</th>\n",
       "      <th>Autonomía</th>\n",
       "      <th>CP</th>\n",
       "      <th>Provincia</th>\n",
       "      <th>CPJ</th>\n",
       "      <th>Partido_Judicial</th>\n",
       "    </tr>\n",
       "  </thead>\n",
       "  <tbody>\n",
       "    <tr>\n",
       "      <th>0</th>\n",
       "      <td>489616</td>\n",
       "      <td>5</td>\n",
       "      <td>0.00</td>\n",
       "      <td>2013.00</td>\n",
       "      <td>0.00</td>\n",
       "      <td>0.00</td>\n",
       "      <td>1.00</td>\n",
       "      <td>1</td>\n",
       "      <td>2013-05-08</td>\n",
       "      <td>21.40</td>\n",
       "      <td>16.00</td>\n",
       "      <td>0.00</td>\n",
       "      <td>4.00</td>\n",
       "      <td>0.00</td>\n",
       "      <td>ciudad real</td>\n",
       "      <td>torralba de calatrava</td>\n",
       "      <td>2012</td>\n",
       "      <td>0.06</td>\n",
       "      <td>7.79</td>\n",
       "      <td>0.40</td>\n",
       "      <td>0</td>\n",
       "      <td>0</td>\n",
       "      <td>0</td>\n",
       "      <td>0.16</td>\n",
       "      <td>1.54</td>\n",
       "      <td>0.00</td>\n",
       "      <td>0.00</td>\n",
       "      <td>0</td>\n",
       "      <td>0</td>\n",
       "      <td>0</td>\n",
       "      <td>0</td>\n",
       "      <td>1</td>\n",
       "      <td>0</td>\n",
       "      <td>0</td>\n",
       "      <td>0</td>\n",
       "      <td>1</td>\n",
       "      <td>0</td>\n",
       "      <td>0.00</td>\n",
       "      <td>60.72</td>\n",
       "      <td>0.16</td>\n",
       "      <td>13083.00</td>\n",
       "      <td>torralba de calatrava</td>\n",
       "      <td>101.58</td>\n",
       "      <td>Torralba de Calatrava</td>\n",
       "      <td>NaN</td>\n",
       "      <td>8.00</td>\n",
       "      <td>Castilla-La Mancha</td>\n",
       "      <td>13.00</td>\n",
       "      <td>Ciudad Real</td>\n",
       "      <td>1302.00</td>\n",
       "      <td>Ciudad Real</td>\n",
       "    </tr>\n",
       "    <tr>\n",
       "      <th>1</th>\n",
       "      <td>489616</td>\n",
       "      <td>5</td>\n",
       "      <td>0.00</td>\n",
       "      <td>2015.00</td>\n",
       "      <td>0.00</td>\n",
       "      <td>0.00</td>\n",
       "      <td>3.00</td>\n",
       "      <td>1</td>\n",
       "      <td>2015-03-04</td>\n",
       "      <td>21.40</td>\n",
       "      <td>22.00</td>\n",
       "      <td>0.00</td>\n",
       "      <td>4.00</td>\n",
       "      <td>0.00</td>\n",
       "      <td>ciudad real</td>\n",
       "      <td>torralba de calatrava</td>\n",
       "      <td>2012</td>\n",
       "      <td>0.06</td>\n",
       "      <td>7.79</td>\n",
       "      <td>0.40</td>\n",
       "      <td>0</td>\n",
       "      <td>0</td>\n",
       "      <td>0</td>\n",
       "      <td>0.16</td>\n",
       "      <td>1.54</td>\n",
       "      <td>0.00</td>\n",
       "      <td>0.00</td>\n",
       "      <td>0</td>\n",
       "      <td>0</td>\n",
       "      <td>0</td>\n",
       "      <td>0</td>\n",
       "      <td>1</td>\n",
       "      <td>0</td>\n",
       "      <td>0</td>\n",
       "      <td>0</td>\n",
       "      <td>1</td>\n",
       "      <td>0</td>\n",
       "      <td>0.00</td>\n",
       "      <td>60.72</td>\n",
       "      <td>0.16</td>\n",
       "      <td>13083.00</td>\n",
       "      <td>torralba de calatrava</td>\n",
       "      <td>101.58</td>\n",
       "      <td>Torralba de Calatrava</td>\n",
       "      <td>NaN</td>\n",
       "      <td>8.00</td>\n",
       "      <td>Castilla-La Mancha</td>\n",
       "      <td>13.00</td>\n",
       "      <td>Ciudad Real</td>\n",
       "      <td>1302.00</td>\n",
       "      <td>Ciudad Real</td>\n",
       "    </tr>\n",
       "  </tbody>\n",
       "</table>\n",
       "</div>"
      ],
      "text/plain": [
       "   PipeId  No_Inspections  No_Incidents  InspectionYear  Probability_rate  \\\n",
       "0  489616               5          0.00         2013.00              0.00   \n",
       "1  489616               5          0.00         2015.00              0.00   \n",
       "\n",
       "   preventive_maintenance_rate  Age_pipe_at_inspection  \\\n",
       "0                         0.00                    1.00   \n",
       "1                         0.00                    3.00   \n",
       "\n",
       "   pipe_inspected_frequently InspectionDate  Average_MonthsLastRev  \\\n",
       "0                          1     2013-05-08                  21.40   \n",
       "1                          1     2015-03-04                  21.40   \n",
       "\n",
       "   MonthsLastRev  relative_risk  average_severity_pipe  Incidence  \\\n",
       "0          16.00           0.00                   4.00       0.00   \n",
       "1          22.00           0.00                   4.00       0.00   \n",
       "\n",
       "      Province                   Town  YearBuilt  Diameter  Length  Pressure  \\\n",
       "0  ciudad real  torralba de calatrava       2012      0.06    7.79      0.40   \n",
       "1  ciudad real  torralba de calatrava       2012      0.06    7.79      0.40   \n",
       "\n",
       "   NumConnections  NumConnectionsUnder  BoolBridle  Relative_Thickness  \\\n",
       "0               0                    0           0                0.16   \n",
       "1               0                    0           0                0.16   \n",
       "\n",
       "   pipe_area  area_connection  incidence_area  connection_bool  Severity_high  \\\n",
       "0       1.54             0.00            0.00                0              0   \n",
       "1       1.54             0.00            0.00                0              0   \n",
       "\n",
       "   Severity_medium  Severity_low  gas_natural  \\\n",
       "0                0             0            1   \n",
       "1                0             0            1   \n",
       "\n",
       "   Material_Acrylonitrile-Butadiene-Styrene  Material_Copper  \\\n",
       "0                                         0                0   \n",
       "1                                         0                0   \n",
       "\n",
       "   Material_Fiberglass-Reinforced Plastic  Material_Polyethylene  \\\n",
       "0                                       0                      1   \n",
       "1                                       0                      1   \n",
       "\n",
       "   Material_Polypropylene  Diameter2  Length2  Pressure2   codine  \\\n",
       "0                       0       0.00    60.72       0.16 13083.00   \n",
       "1                       0       0.00    60.72       0.16 13083.00   \n",
       "\n",
       "               Municipio  Superficie            Capitalidad  Año   CA  \\\n",
       "0  torralba de calatrava      101.58  Torralba de Calatrava  NaN 8.00   \n",
       "1  torralba de calatrava      101.58  Torralba de Calatrava  NaN 8.00   \n",
       "\n",
       "            Autonomía    CP    Provincia     CPJ Partido_Judicial  \n",
       "0  Castilla-La Mancha 13.00  Ciudad Real 1302.00      Ciudad Real  \n",
       "1  Castilla-La Mancha 13.00  Ciudad Real 1302.00      Ciudad Real  "
      ]
     },
     "execution_count": 131,
     "metadata": {},
     "output_type": "execute_result"
    }
   ],
   "source": [
    "#join train_copy and df_mun on Town column and Municipio column\n",
    "train_copy = pd.merge(train_copy, df_mun, how='left', left_on='Town', right_on='Municipio')\n",
    "train_copy.head(2)"
   ]
  },
  {
   "cell_type": "code",
   "execution_count": 132,
   "id": "e1c07b48",
   "metadata": {},
   "outputs": [
    {
     "data": {
      "text/plain": [
       "'Province'"
      ]
     },
     "execution_count": 132,
     "metadata": {},
     "output_type": "execute_result"
    },
    {
     "data": {
      "text/plain": [
       "'Town'"
      ]
     },
     "execution_count": 132,
     "metadata": {},
     "output_type": "execute_result"
    },
    {
     "data": {
      "text/html": [
       "<div>\n",
       "<style scoped>\n",
       "    .dataframe tbody tr th:only-of-type {\n",
       "        vertical-align: middle;\n",
       "    }\n",
       "\n",
       "    .dataframe tbody tr th {\n",
       "        vertical-align: top;\n",
       "    }\n",
       "\n",
       "    .dataframe thead th {\n",
       "        text-align: right;\n",
       "    }\n",
       "</style>\n",
       "<table border=\"1\" class=\"dataframe\">\n",
       "  <thead>\n",
       "    <tr style=\"text-align: right;\">\n",
       "      <th></th>\n",
       "      <th>PipeId</th>\n",
       "      <th>No_Inspections</th>\n",
       "      <th>No_Incidents</th>\n",
       "      <th>InspectionYear</th>\n",
       "      <th>Probability_rate</th>\n",
       "      <th>preventive_maintenance_rate</th>\n",
       "      <th>Age_pipe_at_inspection</th>\n",
       "      <th>pipe_inspected_frequently</th>\n",
       "      <th>InspectionDate</th>\n",
       "      <th>Average_MonthsLastRev</th>\n",
       "      <th>MonthsLastRev</th>\n",
       "      <th>relative_risk</th>\n",
       "      <th>average_severity_pipe</th>\n",
       "      <th>Incidence</th>\n",
       "      <th>YearBuilt</th>\n",
       "      <th>Diameter</th>\n",
       "      <th>Length</th>\n",
       "      <th>Pressure</th>\n",
       "      <th>NumConnections</th>\n",
       "      <th>NumConnectionsUnder</th>\n",
       "      <th>BoolBridle</th>\n",
       "      <th>Relative_Thickness</th>\n",
       "      <th>pipe_area</th>\n",
       "      <th>area_connection</th>\n",
       "      <th>incidence_area</th>\n",
       "      <th>connection_bool</th>\n",
       "      <th>Severity_high</th>\n",
       "      <th>Severity_medium</th>\n",
       "      <th>Severity_low</th>\n",
       "      <th>gas_natural</th>\n",
       "      <th>Material_Acrylonitrile-Butadiene-Styrene</th>\n",
       "      <th>Material_Copper</th>\n",
       "      <th>Material_Fiberglass-Reinforced Plastic</th>\n",
       "      <th>Material_Polyethylene</th>\n",
       "      <th>Material_Polypropylene</th>\n",
       "      <th>Diameter2</th>\n",
       "      <th>Length2</th>\n",
       "      <th>Pressure2</th>\n",
       "      <th>codine</th>\n",
       "      <th>Municipio</th>\n",
       "      <th>Superficie</th>\n",
       "      <th>Capitalidad</th>\n",
       "      <th>Año</th>\n",
       "      <th>CA</th>\n",
       "      <th>Autonomía</th>\n",
       "      <th>CP</th>\n",
       "      <th>Provincia</th>\n",
       "      <th>CPJ</th>\n",
       "      <th>Partido_Judicial</th>\n",
       "      <th>Province</th>\n",
       "      <th>Town</th>\n",
       "    </tr>\n",
       "  </thead>\n",
       "  <tbody>\n",
       "    <tr>\n",
       "      <th>6397369</th>\n",
       "      <td>416536460</td>\n",
       "      <td>1</td>\n",
       "      <td>0.00</td>\n",
       "      <td>2013.00</td>\n",
       "      <td>0.00</td>\n",
       "      <td>0.00</td>\n",
       "      <td>2.00</td>\n",
       "      <td>1</td>\n",
       "      <td>2013-06-25</td>\n",
       "      <td>0.00</td>\n",
       "      <td>0.00</td>\n",
       "      <td>0.00</td>\n",
       "      <td>4.00</td>\n",
       "      <td>0.00</td>\n",
       "      <td>2011</td>\n",
       "      <td>0.05</td>\n",
       "      <td>0.21</td>\n",
       "      <td>45.00</td>\n",
       "      <td>0</td>\n",
       "      <td>0</td>\n",
       "      <td>0</td>\n",
       "      <td>0.00</td>\n",
       "      <td>0.03</td>\n",
       "      <td>0.00</td>\n",
       "      <td>0.00</td>\n",
       "      <td>0</td>\n",
       "      <td>0</td>\n",
       "      <td>0</td>\n",
       "      <td>0</td>\n",
       "      <td>1</td>\n",
       "      <td>1</td>\n",
       "      <td>0</td>\n",
       "      <td>0</td>\n",
       "      <td>0</td>\n",
       "      <td>0</td>\n",
       "      <td>0.00</td>\n",
       "      <td>0.04</td>\n",
       "      <td>2025.00</td>\n",
       "      <td>26026.00</td>\n",
       "      <td>banos de rio tobia</td>\n",
       "      <td>17.59</td>\n",
       "      <td>Baños de Río Tobía</td>\n",
       "      <td>NaN</td>\n",
       "      <td>17.00</td>\n",
       "      <td>Rioja (La)</td>\n",
       "      <td>26.00</td>\n",
       "      <td>Rioja (La)</td>\n",
       "      <td>2603.00</td>\n",
       "      <td>Logroño</td>\n",
       "      <td>la rioja</td>\n",
       "      <td>banos de rio tobia</td>\n",
       "    </tr>\n",
       "    <tr>\n",
       "      <th>6397370</th>\n",
       "      <td>416536482</td>\n",
       "      <td>1</td>\n",
       "      <td>0.00</td>\n",
       "      <td>2013.00</td>\n",
       "      <td>0.00</td>\n",
       "      <td>0.00</td>\n",
       "      <td>2.00</td>\n",
       "      <td>1</td>\n",
       "      <td>2013-06-25</td>\n",
       "      <td>0.00</td>\n",
       "      <td>0.00</td>\n",
       "      <td>0.00</td>\n",
       "      <td>4.00</td>\n",
       "      <td>0.00</td>\n",
       "      <td>2011</td>\n",
       "      <td>0.05</td>\n",
       "      <td>0.80</td>\n",
       "      <td>45.00</td>\n",
       "      <td>0</td>\n",
       "      <td>0</td>\n",
       "      <td>0</td>\n",
       "      <td>0.00</td>\n",
       "      <td>0.13</td>\n",
       "      <td>0.00</td>\n",
       "      <td>0.00</td>\n",
       "      <td>0</td>\n",
       "      <td>0</td>\n",
       "      <td>0</td>\n",
       "      <td>0</td>\n",
       "      <td>1</td>\n",
       "      <td>1</td>\n",
       "      <td>0</td>\n",
       "      <td>0</td>\n",
       "      <td>0</td>\n",
       "      <td>0</td>\n",
       "      <td>0.00</td>\n",
       "      <td>0.63</td>\n",
       "      <td>2025.00</td>\n",
       "      <td>26026.00</td>\n",
       "      <td>banos de rio tobia</td>\n",
       "      <td>17.59</td>\n",
       "      <td>Baños de Río Tobía</td>\n",
       "      <td>NaN</td>\n",
       "      <td>17.00</td>\n",
       "      <td>Rioja (La)</td>\n",
       "      <td>26.00</td>\n",
       "      <td>Rioja (La)</td>\n",
       "      <td>2603.00</td>\n",
       "      <td>Logroño</td>\n",
       "      <td>la rioja</td>\n",
       "      <td>banos de rio tobia</td>\n",
       "    </tr>\n",
       "  </tbody>\n",
       "</table>\n",
       "</div>"
      ],
      "text/plain": [
       "            PipeId  No_Inspections  No_Incidents  InspectionYear  \\\n",
       "6397369  416536460               1          0.00         2013.00   \n",
       "6397370  416536482               1          0.00         2013.00   \n",
       "\n",
       "         Probability_rate  preventive_maintenance_rate  \\\n",
       "6397369              0.00                         0.00   \n",
       "6397370              0.00                         0.00   \n",
       "\n",
       "         Age_pipe_at_inspection  pipe_inspected_frequently InspectionDate  \\\n",
       "6397369                    2.00                          1     2013-06-25   \n",
       "6397370                    2.00                          1     2013-06-25   \n",
       "\n",
       "         Average_MonthsLastRev  MonthsLastRev  relative_risk  \\\n",
       "6397369                   0.00           0.00           0.00   \n",
       "6397370                   0.00           0.00           0.00   \n",
       "\n",
       "         average_severity_pipe  Incidence  YearBuilt  Diameter  Length  \\\n",
       "6397369                   4.00       0.00       2011      0.05    0.21   \n",
       "6397370                   4.00       0.00       2011      0.05    0.80   \n",
       "\n",
       "         Pressure  NumConnections  NumConnectionsUnder  BoolBridle  \\\n",
       "6397369     45.00               0                    0           0   \n",
       "6397370     45.00               0                    0           0   \n",
       "\n",
       "         Relative_Thickness  pipe_area  area_connection  incidence_area  \\\n",
       "6397369                0.00       0.03             0.00            0.00   \n",
       "6397370                0.00       0.13             0.00            0.00   \n",
       "\n",
       "         connection_bool  Severity_high  Severity_medium  Severity_low  \\\n",
       "6397369                0              0                0             0   \n",
       "6397370                0              0                0             0   \n",
       "\n",
       "         gas_natural  Material_Acrylonitrile-Butadiene-Styrene  \\\n",
       "6397369            1                                         1   \n",
       "6397370            1                                         1   \n",
       "\n",
       "         Material_Copper  Material_Fiberglass-Reinforced Plastic  \\\n",
       "6397369                0                                       0   \n",
       "6397370                0                                       0   \n",
       "\n",
       "         Material_Polyethylene  Material_Polypropylene  Diameter2  Length2  \\\n",
       "6397369                      0                       0       0.00     0.04   \n",
       "6397370                      0                       0       0.00     0.63   \n",
       "\n",
       "         Pressure2   codine           Municipio  Superficie  \\\n",
       "6397369    2025.00 26026.00  banos de rio tobia       17.59   \n",
       "6397370    2025.00 26026.00  banos de rio tobia       17.59   \n",
       "\n",
       "                Capitalidad  Año    CA   Autonomía    CP   Provincia     CPJ  \\\n",
       "6397369  Baños de Río Tobía  NaN 17.00  Rioja (La) 26.00  Rioja (La) 2603.00   \n",
       "6397370  Baños de Río Tobía  NaN 17.00  Rioja (La) 26.00  Rioja (La) 2603.00   \n",
       "\n",
       "        Partido_Judicial  Province                Town  \n",
       "6397369          Logroño  la rioja  banos de rio tobia  \n",
       "6397370          Logroño  la rioja  banos de rio tobia  "
      ]
     },
     "execution_count": 132,
     "metadata": {},
     "output_type": "execute_result"
    }
   ],
   "source": [
    "#place Province and Town Columns at the end of the dataframe\n",
    "cols = list(train_copy.columns.values)\n",
    "cols.pop(cols.index('Province'))\n",
    "cols.pop(cols.index('Town'))\n",
    "train_copy = train_copy[cols+['Province','Town']]\n",
    "train_copy.tail(2)"
   ]
  },
  {
   "cell_type": "code",
   "execution_count": 133,
   "id": "bcbb57fb",
   "metadata": {},
   "outputs": [
    {
     "data": {
      "text/plain": [
       "Index(['codine', 'Municipio', 'Superficie', 'Capitalidad', 'Año', 'CA',\n",
       "       'Autonomía', 'CP', 'Provincia', 'CPJ', 'Partido_Judicial'],\n",
       "      dtype='object')"
      ]
     },
     "execution_count": 133,
     "metadata": {},
     "output_type": "execute_result"
    }
   ],
   "source": [
    "df_mun.columns"
   ]
  },
  {
   "cell_type": "code",
   "execution_count": 134,
   "id": "020dadf1",
   "metadata": {},
   "outputs": [
    {
     "data": {
      "text/html": [
       "<div>\n",
       "<style scoped>\n",
       "    .dataframe tbody tr th:only-of-type {\n",
       "        vertical-align: middle;\n",
       "    }\n",
       "\n",
       "    .dataframe tbody tr th {\n",
       "        vertical-align: top;\n",
       "    }\n",
       "\n",
       "    .dataframe thead th {\n",
       "        text-align: right;\n",
       "    }\n",
       "</style>\n",
       "<table border=\"1\" class=\"dataframe\">\n",
       "  <thead>\n",
       "    <tr style=\"text-align: right;\">\n",
       "      <th></th>\n",
       "      <th>PipeId</th>\n",
       "      <th>No_Inspections</th>\n",
       "      <th>No_Incidents</th>\n",
       "      <th>InspectionYear</th>\n",
       "      <th>Probability_rate</th>\n",
       "      <th>preventive_maintenance_rate</th>\n",
       "      <th>Age_pipe_at_inspection</th>\n",
       "      <th>pipe_inspected_frequently</th>\n",
       "      <th>InspectionDate</th>\n",
       "      <th>Average_MonthsLastRev</th>\n",
       "      <th>MonthsLastRev</th>\n",
       "      <th>relative_risk</th>\n",
       "      <th>average_severity_pipe</th>\n",
       "      <th>Incidence</th>\n",
       "      <th>YearBuilt</th>\n",
       "      <th>Diameter</th>\n",
       "      <th>Length</th>\n",
       "      <th>Pressure</th>\n",
       "      <th>NumConnections</th>\n",
       "      <th>NumConnectionsUnder</th>\n",
       "      <th>BoolBridle</th>\n",
       "      <th>Relative_Thickness</th>\n",
       "      <th>pipe_area</th>\n",
       "      <th>area_connection</th>\n",
       "      <th>incidence_area</th>\n",
       "      <th>connection_bool</th>\n",
       "      <th>Severity_high</th>\n",
       "      <th>Severity_medium</th>\n",
       "      <th>Severity_low</th>\n",
       "      <th>gas_natural</th>\n",
       "      <th>Material_Acrylonitrile-Butadiene-Styrene</th>\n",
       "      <th>Material_Copper</th>\n",
       "      <th>Material_Fiberglass-Reinforced Plastic</th>\n",
       "      <th>Material_Polyethylene</th>\n",
       "      <th>Material_Polypropylene</th>\n",
       "      <th>Diameter2</th>\n",
       "      <th>Length2</th>\n",
       "      <th>Pressure2</th>\n",
       "      <th>Superficie</th>\n",
       "      <th>Autonomía</th>\n",
       "      <th>Province</th>\n",
       "      <th>Town</th>\n",
       "    </tr>\n",
       "  </thead>\n",
       "  <tbody>\n",
       "    <tr>\n",
       "      <th>0</th>\n",
       "      <td>489616</td>\n",
       "      <td>5</td>\n",
       "      <td>0.00</td>\n",
       "      <td>2013.00</td>\n",
       "      <td>0.00</td>\n",
       "      <td>0.00</td>\n",
       "      <td>1.00</td>\n",
       "      <td>1</td>\n",
       "      <td>2013-05-08</td>\n",
       "      <td>21.40</td>\n",
       "      <td>16.00</td>\n",
       "      <td>0.00</td>\n",
       "      <td>4.00</td>\n",
       "      <td>0.00</td>\n",
       "      <td>2012</td>\n",
       "      <td>0.06</td>\n",
       "      <td>7.79</td>\n",
       "      <td>0.40</td>\n",
       "      <td>0</td>\n",
       "      <td>0</td>\n",
       "      <td>0</td>\n",
       "      <td>0.16</td>\n",
       "      <td>1.54</td>\n",
       "      <td>0.00</td>\n",
       "      <td>0.00</td>\n",
       "      <td>0</td>\n",
       "      <td>0</td>\n",
       "      <td>0</td>\n",
       "      <td>0</td>\n",
       "      <td>1</td>\n",
       "      <td>0</td>\n",
       "      <td>0</td>\n",
       "      <td>0</td>\n",
       "      <td>1</td>\n",
       "      <td>0</td>\n",
       "      <td>0.00</td>\n",
       "      <td>60.72</td>\n",
       "      <td>0.16</td>\n",
       "      <td>101.58</td>\n",
       "      <td>Castilla-La Mancha</td>\n",
       "      <td>ciudad real</td>\n",
       "      <td>torralba de calatrava</td>\n",
       "    </tr>\n",
       "    <tr>\n",
       "      <th>1</th>\n",
       "      <td>489616</td>\n",
       "      <td>5</td>\n",
       "      <td>0.00</td>\n",
       "      <td>2015.00</td>\n",
       "      <td>0.00</td>\n",
       "      <td>0.00</td>\n",
       "      <td>3.00</td>\n",
       "      <td>1</td>\n",
       "      <td>2015-03-04</td>\n",
       "      <td>21.40</td>\n",
       "      <td>22.00</td>\n",
       "      <td>0.00</td>\n",
       "      <td>4.00</td>\n",
       "      <td>0.00</td>\n",
       "      <td>2012</td>\n",
       "      <td>0.06</td>\n",
       "      <td>7.79</td>\n",
       "      <td>0.40</td>\n",
       "      <td>0</td>\n",
       "      <td>0</td>\n",
       "      <td>0</td>\n",
       "      <td>0.16</td>\n",
       "      <td>1.54</td>\n",
       "      <td>0.00</td>\n",
       "      <td>0.00</td>\n",
       "      <td>0</td>\n",
       "      <td>0</td>\n",
       "      <td>0</td>\n",
       "      <td>0</td>\n",
       "      <td>1</td>\n",
       "      <td>0</td>\n",
       "      <td>0</td>\n",
       "      <td>0</td>\n",
       "      <td>1</td>\n",
       "      <td>0</td>\n",
       "      <td>0.00</td>\n",
       "      <td>60.72</td>\n",
       "      <td>0.16</td>\n",
       "      <td>101.58</td>\n",
       "      <td>Castilla-La Mancha</td>\n",
       "      <td>ciudad real</td>\n",
       "      <td>torralba de calatrava</td>\n",
       "    </tr>\n",
       "  </tbody>\n",
       "</table>\n",
       "</div>"
      ],
      "text/plain": [
       "   PipeId  No_Inspections  No_Incidents  InspectionYear  Probability_rate  \\\n",
       "0  489616               5          0.00         2013.00              0.00   \n",
       "1  489616               5          0.00         2015.00              0.00   \n",
       "\n",
       "   preventive_maintenance_rate  Age_pipe_at_inspection  \\\n",
       "0                         0.00                    1.00   \n",
       "1                         0.00                    3.00   \n",
       "\n",
       "   pipe_inspected_frequently InspectionDate  Average_MonthsLastRev  \\\n",
       "0                          1     2013-05-08                  21.40   \n",
       "1                          1     2015-03-04                  21.40   \n",
       "\n",
       "   MonthsLastRev  relative_risk  average_severity_pipe  Incidence  YearBuilt  \\\n",
       "0          16.00           0.00                   4.00       0.00       2012   \n",
       "1          22.00           0.00                   4.00       0.00       2012   \n",
       "\n",
       "   Diameter  Length  Pressure  NumConnections  NumConnectionsUnder  \\\n",
       "0      0.06    7.79      0.40               0                    0   \n",
       "1      0.06    7.79      0.40               0                    0   \n",
       "\n",
       "   BoolBridle  Relative_Thickness  pipe_area  area_connection  incidence_area  \\\n",
       "0           0                0.16       1.54             0.00            0.00   \n",
       "1           0                0.16       1.54             0.00            0.00   \n",
       "\n",
       "   connection_bool  Severity_high  Severity_medium  Severity_low  gas_natural  \\\n",
       "0                0              0                0             0            1   \n",
       "1                0              0                0             0            1   \n",
       "\n",
       "   Material_Acrylonitrile-Butadiene-Styrene  Material_Copper  \\\n",
       "0                                         0                0   \n",
       "1                                         0                0   \n",
       "\n",
       "   Material_Fiberglass-Reinforced Plastic  Material_Polyethylene  \\\n",
       "0                                       0                      1   \n",
       "1                                       0                      1   \n",
       "\n",
       "   Material_Polypropylene  Diameter2  Length2  Pressure2  Superficie  \\\n",
       "0                       0       0.00    60.72       0.16      101.58   \n",
       "1                       0       0.00    60.72       0.16      101.58   \n",
       "\n",
       "            Autonomía     Province                   Town  \n",
       "0  Castilla-La Mancha  ciudad real  torralba de calatrava  \n",
       "1  Castilla-La Mancha  ciudad real  torralba de calatrava  "
      ]
     },
     "execution_count": 134,
     "metadata": {},
     "output_type": "execute_result"
    }
   ],
   "source": [
    "#deleting 'CP', 'Provincia', 'CPJ', 'Partido_Judicial', 'Capitalidad', 'Año', 'CA', 'codine', 'Municipio' from train_copy dataframe\n",
    "train_copy = train_copy.drop(['CP', 'Provincia', 'CPJ', 'Partido_Judicial', 'Capitalidad', 'Año', 'CA', 'codine', 'Municipio'], axis=1)\n",
    "train_copy.head(2)\n"
   ]
  },
  {
   "cell_type": "code",
   "execution_count": 135,
   "id": "8ad3ca28",
   "metadata": {},
   "outputs": [
    {
     "data": {
      "text/plain": [
       "PipeId                                           0\n",
       "No_Inspections                                   0\n",
       "No_Incidents                                     0\n",
       "InspectionYear                               18847\n",
       "Probability_rate                             18847\n",
       "preventive_maintenance_rate                  18847\n",
       "Age_pipe_at_inspection                       18847\n",
       "pipe_inspected_frequently                        0\n",
       "InspectionDate                               18847\n",
       "Average_MonthsLastRev                        18847\n",
       "MonthsLastRev                                18847\n",
       "relative_risk                                18847\n",
       "average_severity_pipe                        18847\n",
       "Incidence                                    18847\n",
       "YearBuilt                                        0\n",
       "Diameter                                         0\n",
       "Length                                           0\n",
       "Pressure                                         0\n",
       "NumConnections                                   0\n",
       "NumConnectionsUnder                              0\n",
       "BoolBridle                                       0\n",
       "Relative_Thickness                               0\n",
       "pipe_area                                        0\n",
       "area_connection                                  7\n",
       "incidence_area                               18854\n",
       "connection_bool                                  0\n",
       "Severity_high                                    0\n",
       "Severity_medium                                  0\n",
       "Severity_low                                     0\n",
       "gas_natural                                      0\n",
       "Material_Acrylonitrile-Butadiene-Styrene         0\n",
       "Material_Copper                                  0\n",
       "Material_Fiberglass-Reinforced Plastic           0\n",
       "Material_Polyethylene                            0\n",
       "Material_Polypropylene                           0\n",
       "Diameter2                                        0\n",
       "Length2                                          0\n",
       "Pressure2                                        0\n",
       "Superficie                                  781248\n",
       "Autonomía                                   781248\n",
       "Province                                         0\n",
       "Town                                             0\n",
       "dtype: int64"
      ]
     },
     "execution_count": 135,
     "metadata": {},
     "output_type": "execute_result"
    }
   ],
   "source": [
    "#count nulls in each column for train_copy dataframe\n",
    "train_copy.isnull().sum()\n"
   ]
  },
  {
   "cell_type": "code",
   "execution_count": 136,
   "id": "54127db8",
   "metadata": {},
   "outputs": [],
   "source": [
    "#delete column \"Superficie\" from train_copy dataframe\n",
    "train_copy = train_copy.drop(['Superficie'], axis=1)"
   ]
  },
  {
   "cell_type": "code",
   "execution_count": 137,
   "id": "1409f838",
   "metadata": {},
   "outputs": [],
   "source": [
    "#for Province with value tarragona, replace null values in Autonomia with Cataluña\n",
    "train_copy.loc[train_copy['Province'] == 'barcelona', 'Autonomía'] = train_copy.loc[train_copy['Province'] == 'barcelona', 'Autonomía'].fillna('Cataluña')\n",
    "train_copy.loc[train_copy['Province'] == 'tarragona', 'Autonomía'] = train_copy.loc[train_copy['Province'] == 'tarragona', 'Autonomía'].fillna('Cataluña')\n",
    "train_copy.loc[train_copy['Province'] == 'lleida', 'Autonomía'] = train_copy.loc[train_copy['Province'] == 'lleida', 'Autonomía'].fillna('Cataluña')\n",
    "train_copy.loc[train_copy['Province'] == 'girona', 'Autonomía'] = train_copy.loc[train_copy['Province'] == 'girona', 'Autonomía'].fillna('Cataluña')\n",
    "\n"
   ]
  },
  {
   "cell_type": "code",
   "execution_count": 138,
   "id": "666878c7",
   "metadata": {},
   "outputs": [
    {
     "data": {
      "text/plain": [
       "369542"
      ]
     },
     "execution_count": 138,
     "metadata": {},
     "output_type": "execute_result"
    }
   ],
   "source": [
    "#count nulls in Autonomia column in train_copy dataframe\n",
    "train_copy['Autonomía'].isnull().sum()"
   ]
  },
  {
   "cell_type": "code",
   "execution_count": 139,
   "id": "659f05fb",
   "metadata": {},
   "outputs": [],
   "source": [
    "#for Province with value \"La Rioja\", replace null values in Autonomía with \"Rioja (La)\"\n",
    "train_copy.loc[train_copy['Province'] == 'la rioja', 'Autonomía'] = train_copy.loc[train_copy['Province'] == 'la rioja', 'Autonomía'].fillna('Rioja (La)')\n"
   ]
  },
  {
   "cell_type": "code",
   "execution_count": 140,
   "id": "3829b746",
   "metadata": {},
   "outputs": [],
   "source": [
    "#for Province with value Orense, replace null values in Autonomía with \"Galicia\"\n",
    "train_copy.loc[train_copy['Province'] == 'orense', 'Autonomía'] = train_copy.loc[train_copy['Province'] == 'orense', 'Autonomía'].fillna('Galicia')\n",
    "train_copy.loc[train_copy['Province'] == 'la coruna', 'Autonomía'] = train_copy.loc[train_copy['Province'] == 'la coruna', 'Autonomía'].fillna('Galicia')\n",
    "train_copy.loc[train_copy['Province'] == 'pontevedra', 'Autonomía'] = train_copy.loc[train_copy['Province'] == 'pontevedra', 'Autonomía'].fillna('Galicia')\n",
    "train_copy.loc[train_copy['Province'] == 'lugo', 'Autonomía'] = train_copy.loc[train_copy['Province'] == 'lugo', 'Autonomía'].fillna('Galicia')\n"
   ]
  },
  {
   "cell_type": "code",
   "execution_count": 141,
   "id": "bcbea593",
   "metadata": {},
   "outputs": [],
   "source": [
    "#for Province with value Zaragoza, replace null values in Autonomía with \"Aragón\"\n",
    "train_copy.loc[train_copy['Province'] == 'zaragoza', 'Autonomía'] = train_copy.loc[train_copy['Province'] == 'zaragoza', 'Autonomía'].fillna('Aragón')\n",
    "train_copy.loc[train_copy['Province'] == 'huesca', 'Autonomía'] = train_copy.loc[train_copy['Province'] == 'huesca', 'Autonomía'].fillna('Aragón')"
   ]
  },
  {
   "cell_type": "code",
   "execution_count": 142,
   "id": "8e2a38e5",
   "metadata": {},
   "outputs": [],
   "source": [
    "#for Province with value Toledo, replace null values in Autonomía with \"Castilla-La Mancha\"\n",
    "train_copy.loc[train_copy['Province'] == 'toledo', 'Autonomía'] = train_copy.loc[train_copy['Province'] == 'toledo', 'Autonomía'].fillna('Castilla-La Mancha')\n",
    "train_copy.loc[train_copy['Province'] == 'albacete', 'Autonomía'] = train_copy.loc[train_copy['Province'] == 'albacete', 'Autonomía'].fillna('Castilla-La Mancha')\n",
    "train_copy.loc[train_copy['Province'] == 'ciudad real', 'Autonomía'] = train_copy.loc[train_copy['Province'] == 'ciudad real', 'Autonomía'].fillna('Castilla-La Mancha')\n",
    "train_copy.loc[train_copy['Province'] == 'cuenca', 'Autonomía'] = train_copy.loc[train_copy['Province'] == 'cuenca', 'Autonomía'].fillna('Castilla-La Mancha')\n"
   ]
  },
  {
   "cell_type": "code",
   "execution_count": 143,
   "id": "d1f48df8",
   "metadata": {},
   "outputs": [],
   "source": [
    "#for Province with value Almeria, replace null values in Autonomía with \"Andalucía\"\n",
    "train_copy.loc[train_copy['Province'] == 'almeria', 'Autonomía'] = train_copy.loc[train_copy['Province'] == 'almeria', 'Autonomía'].fillna('Andalucía')\n",
    "train_copy.loc[train_copy['Province'] == 'sevilla', 'Autonomía'] = train_copy.loc[train_copy['Province'] == 'sevilla', 'Autonomía'].fillna('Andalucía')\n",
    "train_copy.loc[train_copy['Province'] == 'jaen', 'Autonomía'] = train_copy.loc[train_copy['Province'] == 'jaen', 'Autonomía'].fillna('Andalucía')\n",
    "train_copy.loc[train_copy['Province'] == 'cordoba', 'Autonomía'] = train_copy.loc[train_copy['Province'] == 'cordoba', 'Autonomía'].fillna('Andalucía')\n",
    "train_copy.loc[train_copy['Province'] == 'cadiz', 'Autonomía'] = train_copy.loc[train_copy['Province'] == 'cadiz', 'Autonomía'].fillna('Andalucía')\n",
    "train_copy.loc[train_copy['Province'] == 'granada', 'Autonomía'] = train_copy.loc[train_copy['Province'] == 'granada', 'Autonomía'].fillna('Andalucía')\n",
    "\n"
   ]
  },
  {
   "cell_type": "code",
   "execution_count": 144,
   "id": "88e996f8",
   "metadata": {},
   "outputs": [],
   "source": [
    "#for Province with value Zamora, replace null values in Autonomía with \"Castilla y León\"\n",
    "train_copy.loc[train_copy['Province'] == 'zamora', 'Autonomía'] = train_copy.loc[train_copy['Province'] == 'zamora', 'Autonomía'].fillna('Castilla y León')\n",
    "train_copy.loc[train_copy['Province'] == 'segovia', 'Autonomía'] = train_copy.loc[train_copy['Province'] == 'segovia', 'Autonomía'].fillna('Castilla y León')\n",
    "train_copy.loc[train_copy['Province'] == 'valladolid', 'Autonomía'] = train_copy.loc[train_copy['Province'] == 'valladolid', 'Autonomía'].fillna('Castilla y León')\n",
    "train_copy.loc[train_copy['Province'] == 'leon', 'Autonomía'] = train_copy.loc[train_copy['Province'] == 'leon', 'Autonomía'].fillna('Castilla y León')\n",
    "train_copy.loc[train_copy['Province'] == 'salamanca', 'Autonomía'] = train_copy.loc[train_copy['Province'] == 'salamanca', 'Autonomía'].fillna('Castilla y León')\n",
    "train_copy.loc[train_copy['Province'] == 'burgos', 'Autonomía'] = train_copy.loc[train_copy['Province'] == 'burgos', 'Autonomía'].fillna('Castilla y León')\n",
    "train_copy.loc[train_copy['Province'] == 'soria', 'Autonomía'] = train_copy.loc[train_copy['Province'] == 'soria', 'Autonomía'].fillna('Castilla y León')\n",
    "train_copy.loc[train_copy['Province'] == 'palencia', 'Autonomía'] = train_copy.loc[train_copy['Province'] == 'palencia', 'Autonomía'].fillna('Castilla y León')\n"
   ]
  },
  {
   "cell_type": "code",
   "execution_count": 145,
   "id": "21f9b99d",
   "metadata": {},
   "outputs": [],
   "source": [
    "#for Province with value Madrid, replace null values in Autonomía with \"Madrid (Comunidad de)\"\n",
    "train_copy.loc[train_copy['Province'] == 'madrid', 'Autonomía'] = train_copy.loc[train_copy['Province'] == 'madrid', 'Autonomía'].fillna('Madrid (Comunidad de)')\n"
   ]
  },
  {
   "cell_type": "code",
   "execution_count": 146,
   "id": "5f43fe0f",
   "metadata": {},
   "outputs": [],
   "source": [
    "#for Province with value Alicante, replace null values in Autonomía with Comunidad Valenciana\n",
    "train_copy.loc[train_copy['Province'] == 'alicante', 'Autonomía'] = train_copy.loc[train_copy['Province'] == 'alicante', 'Autonomía'].fillna('Comunidad Valenciana')\n",
    "train_copy.loc[train_copy['Province'] == 'castellon', 'Autonomía'] = train_copy.loc[train_copy['Province'] == 'castellon', 'Autonomía'].fillna('Comunidad Valenciana')\n",
    "train_copy.loc[train_copy['Province'] == 'valencia', 'Autonomía'] = train_copy.loc[train_copy['Province'] == 'valencia', 'Autonomía'].fillna('Comunidad Valenciana')\n"
   ]
  },
  {
   "cell_type": "code",
   "execution_count": 147,
   "id": "bc408431",
   "metadata": {},
   "outputs": [
    {
     "data": {
      "text/plain": [
       "0"
      ]
     },
     "execution_count": 147,
     "metadata": {},
     "output_type": "execute_result"
    }
   ],
   "source": [
    "#count nulls in Autonomia column in train_copy dataframe\n",
    "train_copy['Autonomía'].isnull().sum()"
   ]
  },
  {
   "cell_type": "code",
   "execution_count": 159,
   "id": "7fbbfdf7",
   "metadata": {},
   "outputs": [
    {
     "ename": "NameError",
     "evalue": "name 'inspections' is not defined",
     "output_type": "error",
     "traceback": [
      "\u001b[1;31m---------------------------------------------------------------------------\u001b[0m",
      "\u001b[1;31mNameError\u001b[0m                                 Traceback (most recent call last)",
      "Cell \u001b[1;32mIn[159], line 5\u001b[0m\n\u001b[0;32m      1\u001b[0m \u001b[39m#droping df_mun from memory to free RAM\u001b[39;00m\n\u001b[0;32m      2\u001b[0m \u001b[39m#del df_mun\u001b[39;00m\n\u001b[0;32m      3\u001b[0m \u001b[39m#del df_network\u001b[39;00m\n\u001b[0;32m      4\u001b[0m \u001b[39m#del train\u001b[39;00m\n\u001b[1;32m----> 5\u001b[0m \u001b[39mdel\u001b[39;00m inspections\n",
      "\u001b[1;31mNameError\u001b[0m: name 'inspections' is not defined"
     ]
    }
   ],
   "source": [
    "#droping df_mun from memory to free RAM\n",
    "del df_mun\n",
    "del df_network\n",
    "del train\n",
    "del df_inspection"
   ]
  },
  {
   "cell_type": "code",
   "execution_count": 149,
   "id": "c98da0d0",
   "metadata": {},
   "outputs": [
    {
     "data": {
      "text/plain": [
       "PipeId                                               int64\n",
       "No_Inspections                                       int64\n",
       "No_Incidents                                       float64\n",
       "InspectionYear                                     float64\n",
       "Probability_rate                                   float64\n",
       "preventive_maintenance_rate                        float64\n",
       "Age_pipe_at_inspection                             float64\n",
       "pipe_inspected_frequently                            int32\n",
       "InspectionDate                              datetime64[ns]\n",
       "Average_MonthsLastRev                              float64\n",
       "MonthsLastRev                                      float64\n",
       "relative_risk                                      float64\n",
       "average_severity_pipe                              float64\n",
       "Incidence                                          float64\n",
       "YearBuilt                                            int64\n",
       "Diameter                                           float64\n",
       "Length                                             float64\n",
       "Pressure                                           float64\n",
       "NumConnections                                       int64\n",
       "NumConnectionsUnder                                  int64\n",
       "BoolBridle                                           int64\n",
       "Relative_Thickness                                 float64\n",
       "pipe_area                                          float64\n",
       "area_connection                                    float64\n",
       "incidence_area                                     float64\n",
       "connection_bool                                      int32\n",
       "Severity_high                                        uint8\n",
       "Severity_medium                                      uint8\n",
       "Severity_low                                         uint8\n",
       "gas_natural                                          uint8\n",
       "Material_Acrylonitrile-Butadiene-Styrene             uint8\n",
       "Material_Copper                                      uint8\n",
       "Material_Fiberglass-Reinforced Plastic               uint8\n",
       "Material_Polyethylene                                uint8\n",
       "Material_Polypropylene                               uint8\n",
       "Diameter2                                          float64\n",
       "Length2                                            float64\n",
       "Pressure2                                          float64\n",
       "Autonomía                                           object\n",
       "Province                                            object\n",
       "Town                                                object\n",
       "dtype: object"
      ]
     },
     "execution_count": 149,
     "metadata": {},
     "output_type": "execute_result"
    }
   ],
   "source": [
    "train_copy.dtypes"
   ]
  },
  {
   "cell_type": "code",
   "execution_count": 150,
   "id": "b1cacd46",
   "metadata": {},
   "outputs": [
    {
     "data": {
      "text/html": [
       "<div>\n",
       "<style scoped>\n",
       "    .dataframe tbody tr th:only-of-type {\n",
       "        vertical-align: middle;\n",
       "    }\n",
       "\n",
       "    .dataframe tbody tr th {\n",
       "        vertical-align: top;\n",
       "    }\n",
       "\n",
       "    .dataframe thead th {\n",
       "        text-align: right;\n",
       "    }\n",
       "</style>\n",
       "<table border=\"1\" class=\"dataframe\">\n",
       "  <thead>\n",
       "    <tr style=\"text-align: right;\">\n",
       "      <th></th>\n",
       "      <th>PipeId</th>\n",
       "      <th>No_Inspections</th>\n",
       "      <th>No_Incidents</th>\n",
       "      <th>InspectionYear</th>\n",
       "      <th>Probability_rate</th>\n",
       "      <th>preventive_maintenance_rate</th>\n",
       "      <th>Age_pipe_at_inspection</th>\n",
       "      <th>pipe_inspected_frequently</th>\n",
       "      <th>InspectionDate</th>\n",
       "      <th>Average_MonthsLastRev</th>\n",
       "      <th>MonthsLastRev</th>\n",
       "      <th>relative_risk</th>\n",
       "      <th>average_severity_pipe</th>\n",
       "      <th>Incidence</th>\n",
       "      <th>YearBuilt</th>\n",
       "      <th>Diameter</th>\n",
       "      <th>Length</th>\n",
       "      <th>Pressure</th>\n",
       "      <th>NumConnections</th>\n",
       "      <th>NumConnectionsUnder</th>\n",
       "      <th>BoolBridle</th>\n",
       "      <th>Relative_Thickness</th>\n",
       "      <th>pipe_area</th>\n",
       "      <th>area_connection</th>\n",
       "      <th>incidence_area</th>\n",
       "      <th>connection_bool</th>\n",
       "      <th>Severity_high</th>\n",
       "      <th>Severity_medium</th>\n",
       "      <th>Severity_low</th>\n",
       "      <th>gas_natural</th>\n",
       "      <th>Material_Acrylonitrile-Butadiene-Styrene</th>\n",
       "      <th>Material_Copper</th>\n",
       "      <th>Material_Fiberglass-Reinforced Plastic</th>\n",
       "      <th>Material_Polyethylene</th>\n",
       "      <th>Material_Polypropylene</th>\n",
       "      <th>Diameter2</th>\n",
       "      <th>Length2</th>\n",
       "      <th>Pressure2</th>\n",
       "      <th>Autonomía</th>\n",
       "      <th>Province</th>\n",
       "      <th>Town</th>\n",
       "      <th>TownCount</th>\n",
       "    </tr>\n",
       "  </thead>\n",
       "  <tbody>\n",
       "    <tr>\n",
       "      <th>0</th>\n",
       "      <td>489616</td>\n",
       "      <td>5</td>\n",
       "      <td>0.00</td>\n",
       "      <td>2013.00</td>\n",
       "      <td>0.00</td>\n",
       "      <td>0.00</td>\n",
       "      <td>1.00</td>\n",
       "      <td>1</td>\n",
       "      <td>2013-05-08</td>\n",
       "      <td>21.40</td>\n",
       "      <td>16.00</td>\n",
       "      <td>0.00</td>\n",
       "      <td>4.00</td>\n",
       "      <td>0.00</td>\n",
       "      <td>2012</td>\n",
       "      <td>0.06</td>\n",
       "      <td>7.79</td>\n",
       "      <td>0.40</td>\n",
       "      <td>0</td>\n",
       "      <td>0</td>\n",
       "      <td>0</td>\n",
       "      <td>0.16</td>\n",
       "      <td>1.54</td>\n",
       "      <td>0.00</td>\n",
       "      <td>0.00</td>\n",
       "      <td>0</td>\n",
       "      <td>0</td>\n",
       "      <td>0</td>\n",
       "      <td>0</td>\n",
       "      <td>1</td>\n",
       "      <td>0</td>\n",
       "      <td>0</td>\n",
       "      <td>0</td>\n",
       "      <td>1</td>\n",
       "      <td>0</td>\n",
       "      <td>0.00</td>\n",
       "      <td>60.72</td>\n",
       "      <td>0.16</td>\n",
       "      <td>Castilla-La Mancha</td>\n",
       "      <td>ciudad real</td>\n",
       "      <td>torralba de calatrava</td>\n",
       "      <td>2093</td>\n",
       "    </tr>\n",
       "    <tr>\n",
       "      <th>1</th>\n",
       "      <td>489616</td>\n",
       "      <td>5</td>\n",
       "      <td>0.00</td>\n",
       "      <td>2015.00</td>\n",
       "      <td>0.00</td>\n",
       "      <td>0.00</td>\n",
       "      <td>3.00</td>\n",
       "      <td>1</td>\n",
       "      <td>2015-03-04</td>\n",
       "      <td>21.40</td>\n",
       "      <td>22.00</td>\n",
       "      <td>0.00</td>\n",
       "      <td>4.00</td>\n",
       "      <td>0.00</td>\n",
       "      <td>2012</td>\n",
       "      <td>0.06</td>\n",
       "      <td>7.79</td>\n",
       "      <td>0.40</td>\n",
       "      <td>0</td>\n",
       "      <td>0</td>\n",
       "      <td>0</td>\n",
       "      <td>0.16</td>\n",
       "      <td>1.54</td>\n",
       "      <td>0.00</td>\n",
       "      <td>0.00</td>\n",
       "      <td>0</td>\n",
       "      <td>0</td>\n",
       "      <td>0</td>\n",
       "      <td>0</td>\n",
       "      <td>1</td>\n",
       "      <td>0</td>\n",
       "      <td>0</td>\n",
       "      <td>0</td>\n",
       "      <td>1</td>\n",
       "      <td>0</td>\n",
       "      <td>0.00</td>\n",
       "      <td>60.72</td>\n",
       "      <td>0.16</td>\n",
       "      <td>Castilla-La Mancha</td>\n",
       "      <td>ciudad real</td>\n",
       "      <td>torralba de calatrava</td>\n",
       "      <td>2093</td>\n",
       "    </tr>\n",
       "    <tr>\n",
       "      <th>2</th>\n",
       "      <td>489616</td>\n",
       "      <td>5</td>\n",
       "      <td>0.00</td>\n",
       "      <td>2016.00</td>\n",
       "      <td>0.00</td>\n",
       "      <td>0.00</td>\n",
       "      <td>4.00</td>\n",
       "      <td>1</td>\n",
       "      <td>2017-01-12</td>\n",
       "      <td>21.40</td>\n",
       "      <td>22.00</td>\n",
       "      <td>0.00</td>\n",
       "      <td>4.00</td>\n",
       "      <td>0.00</td>\n",
       "      <td>2012</td>\n",
       "      <td>0.06</td>\n",
       "      <td>7.79</td>\n",
       "      <td>0.40</td>\n",
       "      <td>0</td>\n",
       "      <td>0</td>\n",
       "      <td>0</td>\n",
       "      <td>0.16</td>\n",
       "      <td>1.54</td>\n",
       "      <td>0.00</td>\n",
       "      <td>0.00</td>\n",
       "      <td>0</td>\n",
       "      <td>0</td>\n",
       "      <td>0</td>\n",
       "      <td>0</td>\n",
       "      <td>1</td>\n",
       "      <td>0</td>\n",
       "      <td>0</td>\n",
       "      <td>0</td>\n",
       "      <td>1</td>\n",
       "      <td>0</td>\n",
       "      <td>0.00</td>\n",
       "      <td>60.72</td>\n",
       "      <td>0.16</td>\n",
       "      <td>Castilla-La Mancha</td>\n",
       "      <td>ciudad real</td>\n",
       "      <td>torralba de calatrava</td>\n",
       "      <td>2093</td>\n",
       "    </tr>\n",
       "    <tr>\n",
       "      <th>3</th>\n",
       "      <td>489616</td>\n",
       "      <td>5</td>\n",
       "      <td>0.00</td>\n",
       "      <td>2018.00</td>\n",
       "      <td>0.00</td>\n",
       "      <td>0.00</td>\n",
       "      <td>6.00</td>\n",
       "      <td>1</td>\n",
       "      <td>2018-12-19</td>\n",
       "      <td>21.40</td>\n",
       "      <td>23.00</td>\n",
       "      <td>0.00</td>\n",
       "      <td>4.00</td>\n",
       "      <td>0.00</td>\n",
       "      <td>2012</td>\n",
       "      <td>0.06</td>\n",
       "      <td>7.79</td>\n",
       "      <td>0.40</td>\n",
       "      <td>0</td>\n",
       "      <td>0</td>\n",
       "      <td>0</td>\n",
       "      <td>0.16</td>\n",
       "      <td>1.54</td>\n",
       "      <td>0.00</td>\n",
       "      <td>0.00</td>\n",
       "      <td>0</td>\n",
       "      <td>0</td>\n",
       "      <td>0</td>\n",
       "      <td>0</td>\n",
       "      <td>1</td>\n",
       "      <td>0</td>\n",
       "      <td>0</td>\n",
       "      <td>0</td>\n",
       "      <td>1</td>\n",
       "      <td>0</td>\n",
       "      <td>0.00</td>\n",
       "      <td>60.72</td>\n",
       "      <td>0.16</td>\n",
       "      <td>Castilla-La Mancha</td>\n",
       "      <td>ciudad real</td>\n",
       "      <td>torralba de calatrava</td>\n",
       "      <td>2093</td>\n",
       "    </tr>\n",
       "    <tr>\n",
       "      <th>4</th>\n",
       "      <td>489616</td>\n",
       "      <td>5</td>\n",
       "      <td>0.00</td>\n",
       "      <td>2020.00</td>\n",
       "      <td>0.00</td>\n",
       "      <td>0.00</td>\n",
       "      <td>8.00</td>\n",
       "      <td>1</td>\n",
       "      <td>2020-12-05</td>\n",
       "      <td>21.40</td>\n",
       "      <td>24.00</td>\n",
       "      <td>0.00</td>\n",
       "      <td>4.00</td>\n",
       "      <td>0.00</td>\n",
       "      <td>2012</td>\n",
       "      <td>0.06</td>\n",
       "      <td>7.79</td>\n",
       "      <td>0.40</td>\n",
       "      <td>0</td>\n",
       "      <td>0</td>\n",
       "      <td>0</td>\n",
       "      <td>0.16</td>\n",
       "      <td>1.54</td>\n",
       "      <td>0.00</td>\n",
       "      <td>0.00</td>\n",
       "      <td>0</td>\n",
       "      <td>0</td>\n",
       "      <td>0</td>\n",
       "      <td>0</td>\n",
       "      <td>1</td>\n",
       "      <td>0</td>\n",
       "      <td>0</td>\n",
       "      <td>0</td>\n",
       "      <td>1</td>\n",
       "      <td>0</td>\n",
       "      <td>0.00</td>\n",
       "      <td>60.72</td>\n",
       "      <td>0.16</td>\n",
       "      <td>Castilla-La Mancha</td>\n",
       "      <td>ciudad real</td>\n",
       "      <td>torralba de calatrava</td>\n",
       "      <td>2093</td>\n",
       "    </tr>\n",
       "  </tbody>\n",
       "</table>\n",
       "</div>"
      ],
      "text/plain": [
       "   PipeId  No_Inspections  No_Incidents  InspectionYear  Probability_rate  \\\n",
       "0  489616               5          0.00         2013.00              0.00   \n",
       "1  489616               5          0.00         2015.00              0.00   \n",
       "2  489616               5          0.00         2016.00              0.00   \n",
       "3  489616               5          0.00         2018.00              0.00   \n",
       "4  489616               5          0.00         2020.00              0.00   \n",
       "\n",
       "   preventive_maintenance_rate  Age_pipe_at_inspection  \\\n",
       "0                         0.00                    1.00   \n",
       "1                         0.00                    3.00   \n",
       "2                         0.00                    4.00   \n",
       "3                         0.00                    6.00   \n",
       "4                         0.00                    8.00   \n",
       "\n",
       "   pipe_inspected_frequently InspectionDate  Average_MonthsLastRev  \\\n",
       "0                          1     2013-05-08                  21.40   \n",
       "1                          1     2015-03-04                  21.40   \n",
       "2                          1     2017-01-12                  21.40   \n",
       "3                          1     2018-12-19                  21.40   \n",
       "4                          1     2020-12-05                  21.40   \n",
       "\n",
       "   MonthsLastRev  relative_risk  average_severity_pipe  Incidence  YearBuilt  \\\n",
       "0          16.00           0.00                   4.00       0.00       2012   \n",
       "1          22.00           0.00                   4.00       0.00       2012   \n",
       "2          22.00           0.00                   4.00       0.00       2012   \n",
       "3          23.00           0.00                   4.00       0.00       2012   \n",
       "4          24.00           0.00                   4.00       0.00       2012   \n",
       "\n",
       "   Diameter  Length  Pressure  NumConnections  NumConnectionsUnder  \\\n",
       "0      0.06    7.79      0.40               0                    0   \n",
       "1      0.06    7.79      0.40               0                    0   \n",
       "2      0.06    7.79      0.40               0                    0   \n",
       "3      0.06    7.79      0.40               0                    0   \n",
       "4      0.06    7.79      0.40               0                    0   \n",
       "\n",
       "   BoolBridle  Relative_Thickness  pipe_area  area_connection  incidence_area  \\\n",
       "0           0                0.16       1.54             0.00            0.00   \n",
       "1           0                0.16       1.54             0.00            0.00   \n",
       "2           0                0.16       1.54             0.00            0.00   \n",
       "3           0                0.16       1.54             0.00            0.00   \n",
       "4           0                0.16       1.54             0.00            0.00   \n",
       "\n",
       "   connection_bool  Severity_high  Severity_medium  Severity_low  gas_natural  \\\n",
       "0                0              0                0             0            1   \n",
       "1                0              0                0             0            1   \n",
       "2                0              0                0             0            1   \n",
       "3                0              0                0             0            1   \n",
       "4                0              0                0             0            1   \n",
       "\n",
       "   Material_Acrylonitrile-Butadiene-Styrene  Material_Copper  \\\n",
       "0                                         0                0   \n",
       "1                                         0                0   \n",
       "2                                         0                0   \n",
       "3                                         0                0   \n",
       "4                                         0                0   \n",
       "\n",
       "   Material_Fiberglass-Reinforced Plastic  Material_Polyethylene  \\\n",
       "0                                       0                      1   \n",
       "1                                       0                      1   \n",
       "2                                       0                      1   \n",
       "3                                       0                      1   \n",
       "4                                       0                      1   \n",
       "\n",
       "   Material_Polypropylene  Diameter2  Length2  Pressure2           Autonomía  \\\n",
       "0                       0       0.00    60.72       0.16  Castilla-La Mancha   \n",
       "1                       0       0.00    60.72       0.16  Castilla-La Mancha   \n",
       "2                       0       0.00    60.72       0.16  Castilla-La Mancha   \n",
       "3                       0       0.00    60.72       0.16  Castilla-La Mancha   \n",
       "4                       0       0.00    60.72       0.16  Castilla-La Mancha   \n",
       "\n",
       "      Province                   Town  TownCount  \n",
       "0  ciudad real  torralba de calatrava       2093  \n",
       "1  ciudad real  torralba de calatrava       2093  \n",
       "2  ciudad real  torralba de calatrava       2093  \n",
       "3  ciudad real  torralba de calatrava       2093  \n",
       "4  ciudad real  torralba de calatrava       2093  "
      ]
     },
     "execution_count": 150,
     "metadata": {},
     "output_type": "execute_result"
    }
   ],
   "source": [
    "#count the number of Town per Autonomía and create a new column in train_copy dataframe\n",
    "train_copy['TownCount'] = train_copy.groupby('Town')['Town'].transform('count')\n",
    "train_copy.head()"
   ]
  },
  {
   "cell_type": "code",
   "execution_count": 151,
   "id": "3a38f559",
   "metadata": {},
   "outputs": [
    {
     "data": {
      "text/html": [
       "<div>\n",
       "<style scoped>\n",
       "    .dataframe tbody tr th:only-of-type {\n",
       "        vertical-align: middle;\n",
       "    }\n",
       "\n",
       "    .dataframe tbody tr th {\n",
       "        vertical-align: top;\n",
       "    }\n",
       "\n",
       "    .dataframe thead th {\n",
       "        text-align: right;\n",
       "    }\n",
       "</style>\n",
       "<table border=\"1\" class=\"dataframe\">\n",
       "  <thead>\n",
       "    <tr style=\"text-align: right;\">\n",
       "      <th></th>\n",
       "      <th>PipeId</th>\n",
       "      <th>No_Inspections</th>\n",
       "      <th>No_Incidents</th>\n",
       "      <th>InspectionYear</th>\n",
       "      <th>Probability_rate</th>\n",
       "      <th>preventive_maintenance_rate</th>\n",
       "      <th>Age_pipe_at_inspection</th>\n",
       "      <th>pipe_inspected_frequently</th>\n",
       "      <th>InspectionDate</th>\n",
       "      <th>Average_MonthsLastRev</th>\n",
       "      <th>MonthsLastRev</th>\n",
       "      <th>relative_risk</th>\n",
       "      <th>average_severity_pipe</th>\n",
       "      <th>Incidence</th>\n",
       "      <th>YearBuilt</th>\n",
       "      <th>Diameter</th>\n",
       "      <th>Length</th>\n",
       "      <th>Pressure</th>\n",
       "      <th>NumConnections</th>\n",
       "      <th>NumConnectionsUnder</th>\n",
       "      <th>BoolBridle</th>\n",
       "      <th>Relative_Thickness</th>\n",
       "      <th>pipe_area</th>\n",
       "      <th>area_connection</th>\n",
       "      <th>incidence_area</th>\n",
       "      <th>connection_bool</th>\n",
       "      <th>Severity_high</th>\n",
       "      <th>Severity_medium</th>\n",
       "      <th>Severity_low</th>\n",
       "      <th>gas_natural</th>\n",
       "      <th>Material_Acrylonitrile-Butadiene-Styrene</th>\n",
       "      <th>Material_Copper</th>\n",
       "      <th>Material_Fiberglass-Reinforced Plastic</th>\n",
       "      <th>Material_Polyethylene</th>\n",
       "      <th>Material_Polypropylene</th>\n",
       "      <th>Diameter2</th>\n",
       "      <th>Length2</th>\n",
       "      <th>Pressure2</th>\n",
       "      <th>Province</th>\n",
       "      <th>Town</th>\n",
       "      <th>TownCount</th>\n",
       "      <th>Autonomía_Andalucía</th>\n",
       "      <th>Autonomía_Aragón</th>\n",
       "      <th>Autonomía_Balears (Illes)</th>\n",
       "      <th>Autonomía_Castilla y León</th>\n",
       "      <th>Autonomía_Castilla-La Mancha</th>\n",
       "      <th>Autonomía_Cataluña</th>\n",
       "      <th>Autonomía_Comunidad Valenciana</th>\n",
       "      <th>Autonomía_Extremadura</th>\n",
       "      <th>Autonomía_Galicia</th>\n",
       "      <th>Autonomía_Madrid (Comunidad de)</th>\n",
       "      <th>Autonomía_Navarra (Comunidad Foral de)</th>\n",
       "      <th>Autonomía_Rioja (La)</th>\n",
       "    </tr>\n",
       "  </thead>\n",
       "  <tbody>\n",
       "    <tr>\n",
       "      <th>0</th>\n",
       "      <td>489616</td>\n",
       "      <td>5</td>\n",
       "      <td>0.00</td>\n",
       "      <td>2013.00</td>\n",
       "      <td>0.00</td>\n",
       "      <td>0.00</td>\n",
       "      <td>1.00</td>\n",
       "      <td>1</td>\n",
       "      <td>2013-05-08</td>\n",
       "      <td>21.40</td>\n",
       "      <td>16.00</td>\n",
       "      <td>0.00</td>\n",
       "      <td>4.00</td>\n",
       "      <td>0.00</td>\n",
       "      <td>2012</td>\n",
       "      <td>0.06</td>\n",
       "      <td>7.79</td>\n",
       "      <td>0.40</td>\n",
       "      <td>0</td>\n",
       "      <td>0</td>\n",
       "      <td>0</td>\n",
       "      <td>0.16</td>\n",
       "      <td>1.54</td>\n",
       "      <td>0.00</td>\n",
       "      <td>0.00</td>\n",
       "      <td>0</td>\n",
       "      <td>0</td>\n",
       "      <td>0</td>\n",
       "      <td>0</td>\n",
       "      <td>1</td>\n",
       "      <td>0</td>\n",
       "      <td>0</td>\n",
       "      <td>0</td>\n",
       "      <td>1</td>\n",
       "      <td>0</td>\n",
       "      <td>0.00</td>\n",
       "      <td>60.72</td>\n",
       "      <td>0.16</td>\n",
       "      <td>ciudad real</td>\n",
       "      <td>torralba de calatrava</td>\n",
       "      <td>2093</td>\n",
       "      <td>0</td>\n",
       "      <td>0</td>\n",
       "      <td>0</td>\n",
       "      <td>0</td>\n",
       "      <td>1</td>\n",
       "      <td>0</td>\n",
       "      <td>0</td>\n",
       "      <td>0</td>\n",
       "      <td>0</td>\n",
       "      <td>0</td>\n",
       "      <td>0</td>\n",
       "      <td>0</td>\n",
       "    </tr>\n",
       "  </tbody>\n",
       "</table>\n",
       "</div>"
      ],
      "text/plain": [
       "   PipeId  No_Inspections  No_Incidents  InspectionYear  Probability_rate  \\\n",
       "0  489616               5          0.00         2013.00              0.00   \n",
       "\n",
       "   preventive_maintenance_rate  Age_pipe_at_inspection  \\\n",
       "0                         0.00                    1.00   \n",
       "\n",
       "   pipe_inspected_frequently InspectionDate  Average_MonthsLastRev  \\\n",
       "0                          1     2013-05-08                  21.40   \n",
       "\n",
       "   MonthsLastRev  relative_risk  average_severity_pipe  Incidence  YearBuilt  \\\n",
       "0          16.00           0.00                   4.00       0.00       2012   \n",
       "\n",
       "   Diameter  Length  Pressure  NumConnections  NumConnectionsUnder  \\\n",
       "0      0.06    7.79      0.40               0                    0   \n",
       "\n",
       "   BoolBridle  Relative_Thickness  pipe_area  area_connection  incidence_area  \\\n",
       "0           0                0.16       1.54             0.00            0.00   \n",
       "\n",
       "   connection_bool  Severity_high  Severity_medium  Severity_low  gas_natural  \\\n",
       "0                0              0                0             0            1   \n",
       "\n",
       "   Material_Acrylonitrile-Butadiene-Styrene  Material_Copper  \\\n",
       "0                                         0                0   \n",
       "\n",
       "   Material_Fiberglass-Reinforced Plastic  Material_Polyethylene  \\\n",
       "0                                       0                      1   \n",
       "\n",
       "   Material_Polypropylene  Diameter2  Length2  Pressure2     Province  \\\n",
       "0                       0       0.00    60.72       0.16  ciudad real   \n",
       "\n",
       "                    Town  TownCount  Autonomía_Andalucía  Autonomía_Aragón  \\\n",
       "0  torralba de calatrava       2093                    0                 0   \n",
       "\n",
       "   Autonomía_Balears (Illes)  Autonomía_Castilla y León  \\\n",
       "0                          0                          0   \n",
       "\n",
       "   Autonomía_Castilla-La Mancha  Autonomía_Cataluña  \\\n",
       "0                             1                   0   \n",
       "\n",
       "   Autonomía_Comunidad Valenciana  Autonomía_Extremadura  Autonomía_Galicia  \\\n",
       "0                               0                      0                  0   \n",
       "\n",
       "   Autonomía_Madrid (Comunidad de)  Autonomía_Navarra (Comunidad Foral de)  \\\n",
       "0                                0                                       0   \n",
       "\n",
       "   Autonomía_Rioja (La)  \n",
       "0                     0  "
      ]
     },
     "execution_count": 151,
     "metadata": {},
     "output_type": "execute_result"
    }
   ],
   "source": [
    "#hot encoding of categorical column Autonomía\n",
    "train_copy = pd.get_dummies(train_copy, columns=['Autonomía'])\n",
    "train_copy.head(1)"
   ]
  },
  {
   "cell_type": "code",
   "execution_count": 152,
   "id": "51421aff",
   "metadata": {},
   "outputs": [
    {
     "data": {
      "text/plain": [
       "PipeId                                          0\n",
       "No_Inspections                                  0\n",
       "No_Incidents                                    0\n",
       "InspectionYear                              18847\n",
       "Probability_rate                            18847\n",
       "preventive_maintenance_rate                 18847\n",
       "Age_pipe_at_inspection                      18847\n",
       "pipe_inspected_frequently                       0\n",
       "InspectionDate                              18847\n",
       "Average_MonthsLastRev                       18847\n",
       "MonthsLastRev                               18847\n",
       "relative_risk                               18847\n",
       "average_severity_pipe                       18847\n",
       "Incidence                                   18847\n",
       "YearBuilt                                       0\n",
       "Diameter                                        0\n",
       "Length                                          0\n",
       "Pressure                                        0\n",
       "NumConnections                                  0\n",
       "NumConnectionsUnder                             0\n",
       "BoolBridle                                      0\n",
       "Relative_Thickness                              0\n",
       "pipe_area                                       0\n",
       "area_connection                                 7\n",
       "incidence_area                              18854\n",
       "connection_bool                                 0\n",
       "Severity_high                                   0\n",
       "Severity_medium                                 0\n",
       "Severity_low                                    0\n",
       "gas_natural                                     0\n",
       "Material_Acrylonitrile-Butadiene-Styrene        0\n",
       "Material_Copper                                 0\n",
       "Material_Fiberglass-Reinforced Plastic          0\n",
       "Material_Polyethylene                           0\n",
       "Material_Polypropylene                          0\n",
       "Diameter2                                       0\n",
       "Length2                                         0\n",
       "Pressure2                                       0\n",
       "Province                                        0\n",
       "Town                                            0\n",
       "TownCount                                       0\n",
       "Autonomía_Andalucía                             0\n",
       "Autonomía_Aragón                                0\n",
       "Autonomía_Balears (Illes)                       0\n",
       "Autonomía_Castilla y León                       0\n",
       "Autonomía_Castilla-La Mancha                    0\n",
       "Autonomía_Cataluña                              0\n",
       "Autonomía_Comunidad Valenciana                  0\n",
       "Autonomía_Extremadura                           0\n",
       "Autonomía_Galicia                               0\n",
       "Autonomía_Madrid (Comunidad de)                 0\n",
       "Autonomía_Navarra (Comunidad Foral de)          0\n",
       "Autonomía_Rioja (La)                            0\n",
       "dtype: int64"
      ]
     },
     "execution_count": 152,
     "metadata": {},
     "output_type": "execute_result"
    }
   ],
   "source": [
    "#count nulls\n",
    "train_copy.isnull().sum()"
   ]
  },
  {
   "cell_type": "code",
   "execution_count": 153,
   "id": "080c3ec6",
   "metadata": {},
   "outputs": [],
   "source": [
    "#create a column for the Town of Madrid\n",
    "train_copy['Madrid'] = np.where(train_copy['Town'] == 'madrid', 1, 0)"
   ]
  },
  {
   "cell_type": "code",
   "execution_count": 160,
   "id": "54fe7b3c",
   "metadata": {},
   "outputs": [
    {
     "data": {
      "text/plain": [
       "Index(['PipeId', 'No_Inspections', 'No_Incidents', 'InspectionYear',\n",
       "       'Probability_rate', 'preventive_maintenance_rate',\n",
       "       'Age_pipe_at_inspection', 'pipe_inspected_frequently', 'InspectionDate',\n",
       "       'Average_MonthsLastRev', 'MonthsLastRev', 'relative_risk',\n",
       "       'average_severity_pipe', 'Incidence', 'YearBuilt', 'Diameter', 'Length',\n",
       "       'Pressure', 'NumConnections', 'NumConnectionsUnder', 'BoolBridle',\n",
       "       'Relative_Thickness', 'pipe_area', 'area_connection', 'incidence_area',\n",
       "       'connection_bool', 'Severity_high', 'Severity_medium', 'Severity_low',\n",
       "       'gas_natural', 'Material_Acrylonitrile-Butadiene-Styrene',\n",
       "       'Material_Copper', 'Material_Fiberglass-Reinforced Plastic',\n",
       "       'Material_Polyethylene', 'Material_Polypropylene', 'Diameter2',\n",
       "       'Length2', 'Pressure2', 'Province', 'Town', 'TownCount',\n",
       "       'Autonomía_Andalucía', 'Autonomía_Aragón', 'Autonomía_Balears (Illes)',\n",
       "       'Autonomía_Castilla y León', 'Autonomía_Castilla-La Mancha',\n",
       "       'Autonomía_Cataluña', 'Autonomía_Comunidad Valenciana',\n",
       "       'Autonomía_Extremadura', 'Autonomía_Galicia',\n",
       "       'Autonomía_Madrid (Comunidad de)',\n",
       "       'Autonomía_Navarra (Comunidad Foral de)', 'Autonomía_Rioja (La)',\n",
       "       'Madrid'],\n",
       "      dtype='object')"
      ]
     },
     "execution_count": 160,
     "metadata": {},
     "output_type": "execute_result"
    }
   ],
   "source": [
    "train_copy.columns"
   ]
  },
  {
   "attachments": {},
   "cell_type": "markdown",
   "id": "7eb53ca6",
   "metadata": {},
   "source": [
    "# Outlier section"
   ]
  },
  {
   "cell_type": "code",
   "execution_count": null,
   "id": "b4cddf70",
   "metadata": {},
   "outputs": [],
   "source": [
    "cols = ['Age_pipe_at_inspection','Length','YearBuilt','InspectionYear'] # one or more\n",
    "\n",
    "Q1 = train_copy[cols].quantile(0.25)\n",
    "Q3 = train_copy[cols].quantile(0.75)\n",
    "IQR = Q3 - Q1\n",
    "\n",
    "train_copy = train_copy[~((train_copy[cols] < (Q1 - 1.5 * IQR)) |(train_copy[cols] > (Q3 + 1.5 * IQR))).any(axis=1)]"
   ]
  },
  {
   "cell_type": "code",
   "execution_count": null,
   "id": "41d1a8b5",
   "metadata": {},
   "outputs": [],
   "source": [
    "train_copy.shape"
   ]
  },
  {
   "cell_type": "code",
   "execution_count": null,
   "id": "493df7c9",
   "metadata": {},
   "outputs": [],
   "source": [
    "train_copy.dtypes"
   ]
  },
  {
   "cell_type": "code",
   "execution_count": null,
   "id": "f42a09fa",
   "metadata": {},
   "outputs": [],
   "source": [
    "#graph histogram of MonthsLastRev column\n",
    "train_copy['MonthsLastRev'].hist()"
   ]
  },
  {
   "cell_type": "code",
   "execution_count": null,
   "id": "b3356b8d",
   "metadata": {},
   "outputs": [],
   "source": [
    "#eliminate values higher than 40 in MonthsLastRev column\n",
    "train_copy = train_copy[train_copy['MonthsLastRev'] < 51]"
   ]
  },
  {
   "cell_type": "code",
   "execution_count": null,
   "id": "c6d8e446",
   "metadata": {},
   "outputs": [],
   "source": [
    "#show histogram of diameter column\n",
    "train_copy['Diameter'].hist()"
   ]
  },
  {
   "cell_type": "code",
   "execution_count": null,
   "id": "f83386e3",
   "metadata": {},
   "outputs": [],
   "source": [
    "#eliminate values higher than 400 in diameter column\n",
    "train_copy = train_copy[train_copy['Diameter'] < 400]"
   ]
  },
  {
   "cell_type": "code",
   "execution_count": null,
   "id": "63f79d71",
   "metadata": {},
   "outputs": [],
   "source": [
    "#plot column Length\n",
    "train_copy['Length'].value_counts()"
   ]
  },
  {
   "cell_type": "code",
   "execution_count": null,
   "id": "aafc06ae",
   "metadata": {},
   "outputs": [],
   "source": [
    "#plot histogram of Length column\n",
    "train_copy['Length'].hist()"
   ]
  },
  {
   "cell_type": "code",
   "execution_count": null,
   "id": "dd15dc50",
   "metadata": {},
   "outputs": [],
   "source": [
    "train_copy.columns"
   ]
  },
  {
   "cell_type": "code",
   "execution_count": null,
   "id": "db8d57af",
   "metadata": {},
   "outputs": [],
   "source": [
    "#delete outliers in Year_Built column < 1960\n",
    "train_copy = train_copy[train_copy['YearBuilt'] > 1960]"
   ]
  },
  {
   "cell_type": "code",
   "execution_count": null,
   "id": "7539d8ec",
   "metadata": {},
   "outputs": [],
   "source": [
    "#eliminate values higher than 40 in MonthsLastRev column\n",
    "train_copy = train_copy[train_copy['MonthsLastRev'] < 51]"
   ]
  },
  {
   "cell_type": "code",
   "execution_count": null,
   "id": "9401da8f",
   "metadata": {},
   "outputs": [],
   "source": [
    "train_copy.head()"
   ]
  },
  {
   "cell_type": "code",
   "execution_count": null,
   "id": "a6a471b3",
   "metadata": {},
   "outputs": [],
   "source": [
    "#eliminate values higher than 400 in diameter column\n",
    "train_copy = train_copy[train_copy['Diameter'] < 400]"
   ]
  },
  {
   "cell_type": "code",
   "execution_count": null,
   "id": "ed51a804",
   "metadata": {},
   "outputs": [],
   "source": [
    "train_copy.head(4)"
   ]
  },
  {
   "cell_type": "code",
   "execution_count": null,
   "id": "ccd360a0",
   "metadata": {},
   "outputs": [],
   "source": [
    "#pandas profiling on df_combined_train dataframe\n",
    "#os.chdir(r\"C:\\Users\\pedro\\datathon\")\n",
    "profile = ProfileReport(train_copy, title='Pandas Profiling Report', html={'style':{'full_width':True}})\n",
    "profile.to_file(\"train_copy.html\")\n",
    "profile"
   ]
  },
  {
   "cell_type": "code",
   "execution_count": null,
   "id": "82590732",
   "metadata": {},
   "outputs": [],
   "source": [
    "plt.figure(figsize=(10,5))\n",
    "sns.countplot(data=df_combined[df_combined['Incidence']==1],x='Material')"
   ]
  },
  {
   "cell_type": "code",
   "execution_count": null,
   "id": "d3517eb3",
   "metadata": {},
   "outputs": [],
   "source": [
    "train_copy.dtypes"
   ]
  },
  {
   "cell_type": "code",
   "execution_count": null,
   "id": "38e4f7c9",
   "metadata": {},
   "outputs": [],
   "source": [
    "#graph histogram of MonthsLastRev column\n",
    "train_copy['MonthsLastRev'].hist()"
   ]
  },
  {
   "cell_type": "code",
   "execution_count": null,
   "id": "6d75d61e",
   "metadata": {},
   "outputs": [],
   "source": [
    "#eliminate values higher than 40 in MonthsLastRev column\n",
    "train_copy = train_copy[train_copy['MonthsLastRev'] < 51]"
   ]
  },
  {
   "cell_type": "code",
   "execution_count": null,
   "id": "31583da6",
   "metadata": {},
   "outputs": [],
   "source": [
    "#show histogram of diameter column\n",
    "train_copy['Diameter'].hist()"
   ]
  },
  {
   "cell_type": "code",
   "execution_count": null,
   "id": "975d6b8e",
   "metadata": {},
   "outputs": [],
   "source": [
    "#eliminate values higher than 400 in diameter column\n",
    "train_copy = train_copy[train_copy['Diameter'] < 400]"
   ]
  },
  {
   "cell_type": "code",
   "execution_count": null,
   "id": "5c310a94",
   "metadata": {},
   "outputs": [],
   "source": [
    "#plot column Length\n",
    "train_copy['Length'].value_counts()"
   ]
  },
  {
   "cell_type": "code",
   "execution_count": null,
   "id": "f97cad05",
   "metadata": {},
   "outputs": [],
   "source": [
    "#plot histogram of Length column\n",
    "train_copy['Length'].hist()"
   ]
  },
  {
   "attachments": {},
   "cell_type": "markdown",
   "id": "f30d4011",
   "metadata": {},
   "source": [
    "# Dropping section\n",
    "Dropping will be done here"
   ]
  },
  {
   "cell_type": "code",
   "execution_count": null,
   "id": "00dc74b2",
   "metadata": {},
   "outputs": [],
   "source": [
    "#delete the rows with YearBuilt higher than InspectionYear\n",
    "train_copy = train_copy.drop(train_copy[(train_copy['YearBuilt'] > train_copy['InspectionYear'])].index)"
   ]
  },
  {
   "cell_type": "code",
   "execution_count": null,
   "id": "82f20fe0",
   "metadata": {},
   "outputs": [],
   "source": [
    "#delete column severity\n",
    "train_copy = train_copy.drop(['Severity'], axis=1)\n",
    "train_copy.head(1)\n"
   ]
  },
  {
   "cell_type": "code",
   "execution_count": null,
   "id": "c1b05863",
   "metadata": {},
   "outputs": [],
   "source": [
    "#remove MaintenanceId and InspectionDate from train_copy\n",
    "train_copy.drop('MaintenanceId', axis=1, inplace=True)\n"
   ]
  },
  {
   "cell_type": "code",
   "execution_count": null,
   "id": "bd158e21",
   "metadata": {},
   "outputs": [],
   "source": [
    "train_copy.drop('InspectionDate', axis=1, inplace=True)"
   ]
  },
  {
   "cell_type": "code",
   "execution_count": null,
   "id": "57cdac0c",
   "metadata": {},
   "outputs": [],
   "source": [
    "#removing MaintenanceId column\n",
    "train_copy = train_copy.drop(['MaintenanceId'], axis=1)"
   ]
  },
  {
   "cell_type": "markdown",
   "id": "13f669ef",
   "metadata": {},
   "source": [
    "# Normalization transformations for abnormal distributions"
   ]
  },
  {
   "cell_type": "code",
   "execution_count": null,
   "id": "d8ae15b5",
   "metadata": {},
   "outputs": [
    {
     "name": "stdout",
     "output_type": "stream",
     "text": [
      "NormaltestResult(statistic=nan, pvalue=nan)\n",
      "NormaltestResult(statistic=nan, pvalue=nan)\n",
      "NormaltestResult(statistic=93400480.30672987, pvalue=0.0)\n",
      "NormaltestResult(statistic=5341954.4694390865, pvalue=0.0)\n"
     ]
    },
    {
     "ename": "ValueError",
     "evalue": "Input X contains infinity or a value too large for dtype('float64').",
     "output_type": "error",
     "traceback": [
      "\u001b[1;31m---------------------------------------------------------------------------\u001b[0m\n",
      "\u001b[1;31mValueError\u001b[0m                                Traceback (most recent call last)\n",
      "Cell \u001b[1;32mIn[168], line 11\u001b[0m\n",
      "\u001b[0;32m      9\u001b[0m \u001b[39mfrom\u001b[39;00m \u001b[39msklearn\u001b[39;00m\u001b[39m.\u001b[39;00m\u001b[39mpreprocessing\u001b[39;00m \u001b[39mimport\u001b[39;00m MinMaxScaler\n",
      "\u001b[0;32m     10\u001b[0m scaler \u001b[39m=\u001b[39m MinMaxScaler()\n",
      "\u001b[1;32m---> 11\u001b[0m train_copy[[\u001b[39m'\u001b[39m\u001b[39mDiameter\u001b[39m\u001b[39m'\u001b[39m, \u001b[39m'\u001b[39m\u001b[39mLength\u001b[39m\u001b[39m'\u001b[39m, \u001b[39m'\u001b[39m\u001b[39mPressure\u001b[39m\u001b[39m'\u001b[39m, \u001b[39m'\u001b[39m\u001b[39mYearBuilt\u001b[39m\u001b[39m'\u001b[39m]] \u001b[39m=\u001b[39m scaler\u001b[39m.\u001b[39;49mfit_transform(train_copy[[\u001b[39m'\u001b[39;49m\u001b[39mDiameter\u001b[39;49m\u001b[39m'\u001b[39;49m, \u001b[39m'\u001b[39;49m\u001b[39mLength\u001b[39;49m\u001b[39m'\u001b[39;49m, \u001b[39m'\u001b[39;49m\u001b[39mPressure\u001b[39;49m\u001b[39m'\u001b[39;49m, \u001b[39m'\u001b[39;49m\u001b[39mYearBuilt\u001b[39;49m\u001b[39m'\u001b[39;49m]])\n",
      "\u001b[0;32m     15\u001b[0m \u001b[39m#perform a normal distribution test on the column Diameter, Length, Pressure, YearBuilt and print results\u001b[39;00m\n",
      "\u001b[0;32m     16\u001b[0m \u001b[39mprint\u001b[39m(stats\u001b[39m.\u001b[39mnormaltest(train_copy[\u001b[39m'\u001b[39m\u001b[39mDiameter\u001b[39m\u001b[39m'\u001b[39m]))\n",
      "\n",
      "File \u001b[1;32m~\\AppData\\Local\\Packages\\PythonSoftwareFoundation.Python.3.10_qbz5n2kfra8p0\\LocalCache\\local-packages\\Python310\\site-packages\\sklearn\\utils\\_set_output.py:142\u001b[0m, in \u001b[0;36m_wrap_method_output.<locals>.wrapped\u001b[1;34m(self, X, *args, **kwargs)\u001b[0m\n",
      "\u001b[0;32m    140\u001b[0m \u001b[39m@wraps\u001b[39m(f)\n",
      "\u001b[0;32m    141\u001b[0m \u001b[39mdef\u001b[39;00m \u001b[39mwrapped\u001b[39m(\u001b[39mself\u001b[39m, X, \u001b[39m*\u001b[39margs, \u001b[39m*\u001b[39m\u001b[39m*\u001b[39mkwargs):\n",
      "\u001b[1;32m--> 142\u001b[0m     data_to_wrap \u001b[39m=\u001b[39m f(\u001b[39mself\u001b[39m, X, \u001b[39m*\u001b[39margs, \u001b[39m*\u001b[39m\u001b[39m*\u001b[39mkwargs)\n",
      "\u001b[0;32m    143\u001b[0m     \u001b[39mif\u001b[39;00m \u001b[39misinstance\u001b[39m(data_to_wrap, \u001b[39mtuple\u001b[39m):\n",
      "\u001b[0;32m    144\u001b[0m         \u001b[39m# only wrap the first output for cross decomposition\u001b[39;00m\n",
      "\u001b[0;32m    145\u001b[0m         \u001b[39mreturn\u001b[39;00m (\n",
      "\u001b[0;32m    146\u001b[0m             _wrap_data_with_container(method, data_to_wrap[\u001b[39m0\u001b[39m], X, \u001b[39mself\u001b[39m),\n",
      "\u001b[0;32m    147\u001b[0m             \u001b[39m*\u001b[39mdata_to_wrap[\u001b[39m1\u001b[39m:],\n",
      "\u001b[0;32m    148\u001b[0m         )\n",
      "\n",
      "File \u001b[1;32m~\\AppData\\Local\\Packages\\PythonSoftwareFoundation.Python.3.10_qbz5n2kfra8p0\\LocalCache\\local-packages\\Python310\\site-packages\\sklearn\\base.py:859\u001b[0m, in \u001b[0;36mTransformerMixin.fit_transform\u001b[1;34m(self, X, y, **fit_params)\u001b[0m\n",
      "\u001b[0;32m    855\u001b[0m \u001b[39m# non-optimized default implementation; override when a better\u001b[39;00m\n",
      "\u001b[0;32m    856\u001b[0m \u001b[39m# method is possible for a given clustering algorithm\u001b[39;00m\n",
      "\u001b[0;32m    857\u001b[0m \u001b[39mif\u001b[39;00m y \u001b[39mis\u001b[39;00m \u001b[39mNone\u001b[39;00m:\n",
      "\u001b[0;32m    858\u001b[0m     \u001b[39m# fit method of arity 1 (unsupervised transformation)\u001b[39;00m\n",
      "\u001b[1;32m--> 859\u001b[0m     \u001b[39mreturn\u001b[39;00m \u001b[39mself\u001b[39m\u001b[39m.\u001b[39mfit(X, \u001b[39m*\u001b[39m\u001b[39m*\u001b[39mfit_params)\u001b[39m.\u001b[39mtransform(X)\n",
      "\u001b[0;32m    860\u001b[0m \u001b[39melse\u001b[39;00m:\n",
      "\u001b[0;32m    861\u001b[0m     \u001b[39m# fit method of arity 2 (supervised transformation)\u001b[39;00m\n",
      "\u001b[0;32m    862\u001b[0m     \u001b[39mreturn\u001b[39;00m \u001b[39mself\u001b[39m\u001b[39m.\u001b[39mfit(X, y, \u001b[39m*\u001b[39m\u001b[39m*\u001b[39mfit_params)\u001b[39m.\u001b[39mtransform(X)\n",
      "\n",
      "File \u001b[1;32m~\\AppData\\Local\\Packages\\PythonSoftwareFoundation.Python.3.10_qbz5n2kfra8p0\\LocalCache\\local-packages\\Python310\\site-packages\\sklearn\\preprocessing\\_data.py:427\u001b[0m, in \u001b[0;36mMinMaxScaler.fit\u001b[1;34m(self, X, y)\u001b[0m\n",
      "\u001b[0;32m    425\u001b[0m \u001b[39m# Reset internal state before fitting\u001b[39;00m\n",
      "\u001b[0;32m    426\u001b[0m \u001b[39mself\u001b[39m\u001b[39m.\u001b[39m_reset()\n",
      "\u001b[1;32m--> 427\u001b[0m \u001b[39mreturn\u001b[39;00m \u001b[39mself\u001b[39;49m\u001b[39m.\u001b[39;49mpartial_fit(X, y)\n",
      "\n",
      "File \u001b[1;32m~\\AppData\\Local\\Packages\\PythonSoftwareFoundation.Python.3.10_qbz5n2kfra8p0\\LocalCache\\local-packages\\Python310\\site-packages\\sklearn\\preprocessing\\_data.py:466\u001b[0m, in \u001b[0;36mMinMaxScaler.partial_fit\u001b[1;34m(self, X, y)\u001b[0m\n",
      "\u001b[0;32m    460\u001b[0m     \u001b[39mraise\u001b[39;00m \u001b[39mTypeError\u001b[39;00m(\n",
      "\u001b[0;32m    461\u001b[0m         \u001b[39m\"\u001b[39m\u001b[39mMinMaxScaler does not support sparse input. \u001b[39m\u001b[39m\"\u001b[39m\n",
      "\u001b[0;32m    462\u001b[0m         \u001b[39m\"\u001b[39m\u001b[39mConsider using MaxAbsScaler instead.\u001b[39m\u001b[39m\"\u001b[39m\n",
      "\u001b[0;32m    463\u001b[0m     )\n",
      "\u001b[0;32m    465\u001b[0m first_pass \u001b[39m=\u001b[39m \u001b[39mnot\u001b[39;00m \u001b[39mhasattr\u001b[39m(\u001b[39mself\u001b[39m, \u001b[39m\"\u001b[39m\u001b[39mn_samples_seen_\u001b[39m\u001b[39m\"\u001b[39m)\n",
      "\u001b[1;32m--> 466\u001b[0m X \u001b[39m=\u001b[39m \u001b[39mself\u001b[39;49m\u001b[39m.\u001b[39;49m_validate_data(\n",
      "\u001b[0;32m    467\u001b[0m     X,\n",
      "\u001b[0;32m    468\u001b[0m     reset\u001b[39m=\u001b[39;49mfirst_pass,\n",
      "\u001b[0;32m    469\u001b[0m     dtype\u001b[39m=\u001b[39;49mFLOAT_DTYPES,\n",
      "\u001b[0;32m    470\u001b[0m     force_all_finite\u001b[39m=\u001b[39;49m\u001b[39m\"\u001b[39;49m\u001b[39mallow-nan\u001b[39;49m\u001b[39m\"\u001b[39;49m,\n",
      "\u001b[0;32m    471\u001b[0m )\n",
      "\u001b[0;32m    473\u001b[0m data_min \u001b[39m=\u001b[39m np\u001b[39m.\u001b[39mnanmin(X, axis\u001b[39m=\u001b[39m\u001b[39m0\u001b[39m)\n",
      "\u001b[0;32m    474\u001b[0m data_max \u001b[39m=\u001b[39m np\u001b[39m.\u001b[39mnanmax(X, axis\u001b[39m=\u001b[39m\u001b[39m0\u001b[39m)\n",
      "\n",
      "File \u001b[1;32m~\\AppData\\Local\\Packages\\PythonSoftwareFoundation.Python.3.10_qbz5n2kfra8p0\\LocalCache\\local-packages\\Python310\\site-packages\\sklearn\\base.py:546\u001b[0m, in \u001b[0;36mBaseEstimator._validate_data\u001b[1;34m(self, X, y, reset, validate_separately, **check_params)\u001b[0m\n",
      "\u001b[0;32m    544\u001b[0m     \u001b[39mraise\u001b[39;00m \u001b[39mValueError\u001b[39;00m(\u001b[39m\"\u001b[39m\u001b[39mValidation should be done on X, y or both.\u001b[39m\u001b[39m\"\u001b[39m)\n",
      "\u001b[0;32m    545\u001b[0m \u001b[39melif\u001b[39;00m \u001b[39mnot\u001b[39;00m no_val_X \u001b[39mand\u001b[39;00m no_val_y:\n",
      "\u001b[1;32m--> 546\u001b[0m     X \u001b[39m=\u001b[39m check_array(X, input_name\u001b[39m=\u001b[39m\u001b[39m\"\u001b[39m\u001b[39mX\u001b[39m\u001b[39m\"\u001b[39m, \u001b[39m*\u001b[39m\u001b[39m*\u001b[39mcheck_params)\n",
      "\u001b[0;32m    547\u001b[0m     out \u001b[39m=\u001b[39m X\n",
      "\u001b[0;32m    548\u001b[0m \u001b[39melif\u001b[39;00m no_val_X \u001b[39mand\u001b[39;00m \u001b[39mnot\u001b[39;00m no_val_y:\n",
      "\n",
      "File \u001b[1;32m~\\AppData\\Local\\Packages\\PythonSoftwareFoundation.Python.3.10_qbz5n2kfra8p0\\LocalCache\\local-packages\\Python310\\site-packages\\sklearn\\utils\\validation.py:921\u001b[0m, in \u001b[0;36mcheck_array\u001b[1;34m(array, accept_sparse, accept_large_sparse, dtype, order, copy, force_all_finite, ensure_2d, allow_nd, ensure_min_samples, ensure_min_features, estimator, input_name)\u001b[0m\n",
      "\u001b[0;32m    915\u001b[0m         \u001b[39mraise\u001b[39;00m \u001b[39mValueError\u001b[39;00m(\n",
      "\u001b[0;32m    916\u001b[0m             \u001b[39m\"\u001b[39m\u001b[39mFound array with dim \u001b[39m\u001b[39m%d\u001b[39;00m\u001b[39m. \u001b[39m\u001b[39m%s\u001b[39;00m\u001b[39m expected <= 2.\u001b[39m\u001b[39m\"\u001b[39m\n",
      "\u001b[0;32m    917\u001b[0m             \u001b[39m%\u001b[39m (array\u001b[39m.\u001b[39mndim, estimator_name)\n",
      "\u001b[0;32m    918\u001b[0m         )\n",
      "\u001b[0;32m    920\u001b[0m     \u001b[39mif\u001b[39;00m force_all_finite:\n",
      "\u001b[1;32m--> 921\u001b[0m         _assert_all_finite(\n",
      "\u001b[0;32m    922\u001b[0m             array,\n",
      "\u001b[0;32m    923\u001b[0m             input_name\u001b[39m=\u001b[39;49minput_name,\n",
      "\u001b[0;32m    924\u001b[0m             estimator_name\u001b[39m=\u001b[39;49mestimator_name,\n",
      "\u001b[0;32m    925\u001b[0m             allow_nan\u001b[39m=\u001b[39;49mforce_all_finite \u001b[39m==\u001b[39;49m \u001b[39m\"\u001b[39;49m\u001b[39mallow-nan\u001b[39;49m\u001b[39m\"\u001b[39;49m,\n",
      "\u001b[0;32m    926\u001b[0m         )\n",
      "\u001b[0;32m    928\u001b[0m \u001b[39mif\u001b[39;00m ensure_min_samples \u001b[39m>\u001b[39m \u001b[39m0\u001b[39m:\n",
      "\u001b[0;32m    929\u001b[0m     n_samples \u001b[39m=\u001b[39m _num_samples(array)\n",
      "\n",
      "File \u001b[1;32m~\\AppData\\Local\\Packages\\PythonSoftwareFoundation.Python.3.10_qbz5n2kfra8p0\\LocalCache\\local-packages\\Python310\\site-packages\\sklearn\\utils\\validation.py:161\u001b[0m, in \u001b[0;36m_assert_all_finite\u001b[1;34m(X, allow_nan, msg_dtype, estimator_name, input_name)\u001b[0m\n",
      "\u001b[0;32m    144\u001b[0m \u001b[39mif\u001b[39;00m estimator_name \u001b[39mand\u001b[39;00m input_name \u001b[39m==\u001b[39m \u001b[39m\"\u001b[39m\u001b[39mX\u001b[39m\u001b[39m\"\u001b[39m \u001b[39mand\u001b[39;00m has_nan_error:\n",
      "\u001b[0;32m    145\u001b[0m     \u001b[39m# Improve the error message on how to handle missing values in\u001b[39;00m\n",
      "\u001b[0;32m    146\u001b[0m     \u001b[39m# scikit-learn.\u001b[39;00m\n",
      "\u001b[0;32m    147\u001b[0m     msg_err \u001b[39m+\u001b[39m\u001b[39m=\u001b[39m (\n",
      "\u001b[0;32m    148\u001b[0m         \u001b[39mf\u001b[39m\u001b[39m\"\u001b[39m\u001b[39m\\n\u001b[39;00m\u001b[39m{\u001b[39;00mestimator_name\u001b[39m}\u001b[39;00m\u001b[39m does not accept missing values\u001b[39m\u001b[39m\"\u001b[39m\n",
      "\u001b[0;32m    149\u001b[0m         \u001b[39m\"\u001b[39m\u001b[39m encoded as NaN natively. For supervised learning, you might want\u001b[39m\u001b[39m\"\u001b[39m\n",
      "\u001b[1;32m   (...)\u001b[0m\n",
      "\u001b[0;32m    159\u001b[0m         \u001b[39m\"\u001b[39m\u001b[39m#estimators-that-handle-nan-values\u001b[39m\u001b[39m\"\u001b[39m\n",
      "\u001b[0;32m    160\u001b[0m     )\n",
      "\u001b[1;32m--> 161\u001b[0m \u001b[39mraise\u001b[39;00m \u001b[39mValueError\u001b[39;00m(msg_err)\n",
      "\n",
      "\u001b[1;31mValueError\u001b[0m: Input X contains infinity or a value too large for dtype('float64')."
     ]
    }
   ],
   "source": [
    "from scipy import stats\n",
    "#perform a normal distribution test on the column Diameter, Length, Pressure, YearBuilt and print results\n",
    "print(stats.normaltest(train_copy['Diameter']))\n",
    "print(stats.normaltest(train_copy['Length']))\n",
    "print(stats.normaltest(train_copy['Pressure']))\n",
    "print(stats.normaltest(train_copy['YearBuilt']))\n",
    "\n",
    "#normalize the columns using a min-max scaler\n",
    "from sklearn.preprocessing import MinMaxScaler\n",
    "scaler = MinMaxScaler()\n",
    "train_copy[['Diameter', 'Length', 'Pressure', 'YearBuilt']] = scaler.fit_transform(train_copy[['Diameter', 'Length', 'Pressure', 'YearBuilt']])\n",
    "\n",
    "\n",
    "\n",
    "#perform a normal distribution test on the column Diameter, Length, Pressure, YearBuilt and print results\n",
    "print(stats.normaltest(train_copy['Diameter']))\n",
    "print(stats.normaltest(train_copy['Length']))\n",
    "print(stats.normaltest(train_copy['Pressure']))\n",
    "print(stats.normaltest(train_copy['YearBuilt']))\n",
    "\n",
    "train_copy.head(2)\n",
    "\n",
    "\n"
   ]
  },
  {
   "cell_type": "code",
   "execution_count": null,
   "id": "15f30133",
   "metadata": {},
   "outputs": [],
   "source": [
    "#apply a logartimic transformation to the Diameter, Length and Pressure columns\n",
    "train_copy['Diameter'] = np.log(train_copy['Diameter'])\n",
    "train_copy['Length'] = np.log(train_copy['Length'])\n",
    "train_copy['Pressure'] = np.log(train_copy['Pressure'])\n",
    "train_copy.head(1)\n"
   ]
  },
  {
   "attachments": {},
   "cell_type": "markdown",
   "id": "1765b9ba",
   "metadata": {},
   "source": [
    "# Exporting the new dataset for a next notebook"
   ]
  },
  {
   "cell_type": "code",
   "execution_count": null,
   "id": "518deb74",
   "metadata": {},
   "outputs": [],
   "source": [
    "#point to the folder where the data is stored\n",
    "os.chdir(r\"C:\\Users\\pedro\\datathon\")\n",
    "#export the dataframe to a csv file\n",
    "train_copy.to_csv('train_copy.csv', index=False)"
   ]
  },
  {
   "cell_type": "markdown",
   "id": "4cda55b3",
   "metadata": {},
   "source": [
    "# Plotting EDA for new dataset"
   ]
  },
  {
   "cell_type": "code",
   "execution_count": null,
   "id": "3b77dd44",
   "metadata": {},
   "outputs": [],
   "source": [
    "#pandas profiling on the train_copy dataframe\n",
    "profile = ProfileReport(train_copy, title='Pandas Profiling Report', html={'style':{'full_width':True}})\n",
    "profile"
   ]
  },
  {
   "cell_type": "code",
   "execution_count": null,
   "id": "d25c54f1",
   "metadata": {},
   "outputs": [],
   "source": [
    "#create polinomial features \n",
    "from sklearn.preprocessing import PolynomialFeatures\n",
    "poly = PolynomialFeatures(2)\n",
    "poly_data = poly.fit_transform(train_copy[['Relative_Thickness', 'Age_of_Pipe_upon_inspection']])\n",
    "poly_columns = poly.get_feature_names(['Relative_Thickness', 'Age_of_Pipe_upon_inspection'])\n",
    "df_poly = pd.DataFrame(poly_data, columns=poly_columns)\n",
    "df_poly = df_poly.drop(['1'], axis=1)\n",
    "train_copy = pd.concat([train_copy, df_poly], axis=1)\n",
    "train_copy.head(1)"
   ]
  },
  {
   "attachments": {},
   "cell_type": "markdown",
   "id": "45701319",
   "metadata": {},
   "source": [
    "# The Archive Section\n",
    "Just in case we regret....\n",
    "NOT DELETED JUST IN CASE NEEDED, HIGHLY CONFIDENT WE DONT NEED THESE\n"
   ]
  },
  {
   "cell_type": "markdown",
   "id": "1596ed67",
   "metadata": {},
   "source": [
    "#aggregate the number of Age_pipe_inspection in a new column\n",
    "train_copy['Aggregate_pipe_age_inspection'] = train_copy.groupby('PipeId')['Age_pipe_inspection'].transform('sum')\n",
    "#place column in 10th position\n",
    "cols = list(train_copy.columns.values)\n",
    "cols.pop(cols.index('Aggregate_pipe_age_inspection'))\n",
    "train_copy = train_copy[['PipeId', 'MaintenanceId', 'Inspections', 'Probability_incidence', 'Risk_S*I/Inspections', 'Average_MonthsLastRev',\n",
    "    'Age_pipe_inspection', 'Aggregate_pipe_age_inspection', 'No_Incidents', 'Risk_S*I', 'average_severity', 'MonthsLastRev', 'Severity', 'Incidence', 'Province',\n",
    "    'Town','YearBuilt', 'InspectionYear', 'InspectionDate','Material', 'GasType', 'Diameter', 'Length', 'Pressure',\n",
    "    'NumConnections', 'NumConnectionsUnder', 'BoolBridle']]\n",
    "train_copy.head(10)\n"
   ]
  },
  {
   "cell_type": "markdown",
   "id": "b5637c12",
   "metadata": {},
   "source": [
    "#divide the Aggregate_pipe_age_inspection by the count of Incidence when is 1 and create new column with the average_age_pipe_inspection_when_incidence saving it in 10th position\n",
    "train_copy['average_age_pipe_inspection_when_incidence'] = train_copy['Aggregate_pipe_age_inspection'] / train_copy.groupby('PipeId')['Incidence'].transform('count')\n",
    "#place column in 10th position\n",
    "cols = list(train_copy.columns.values)\n",
    "cols.pop(cols.index('average_age_pipe_inspection_when_incidence'))\n",
    "train_copy = train_copy[['PipeId', 'MaintenanceId', 'Inspections', 'Probability_incidence', 'Risk_S*I/Inspections', 'Average_MonthsLastRev',\n",
    "    'Age_pipe_inspection', 'Aggregate_pipe_age_inspection', 'average_age_pipe_inspection_when_incidence', 'No_Incidents', 'Risk_S*I', 'average_severity', 'MonthsLastRev', 'Severity', 'Incidence', 'Province',\n",
    "    'Town','YearBuilt', 'InspectionYear', 'InspectionDate','Material', 'GasType', 'Diameter', 'Length', 'Pressure',\n",
    "    'NumConnections', 'NumConnectionsUnder', 'BoolBridle']]\n",
    "#head of rows only where average_age_pipe_inspection_when_incidence when Incidence is 0\n",
    "train_copy[train_copy['Incidence'] == 0].head(10)"
   ]
  },
  {
   "cell_type": "markdown",
   "id": "522fca87",
   "metadata": {},
   "source": [
    "#take PipeId column from df_submission dataframe and match it with PipeId column in train_copy dataframe to split train_copy into df_combined_train and df_combined_test. The test split should be the one with the higher number of rows\n",
    "df_combined_test = train_copy[train_copy['PipeId'].isin(df_submission['PipeId'])]\n",
    "df_combined_train = train_copy[~train_copy['PipeId'].isin(df_submission['PipeId'])]\n",
    "#Do not look back at the test set until you are ready to submit your predictions\n"
   ]
  },
  {
   "cell_type": "markdown",
   "id": "1e6669e5",
   "metadata": {},
   "source": [
    "#take PipeId column from df_submission dataframe and match it with PipeId column in train_copy dataframe to split train_copy into df_combined_train and df_combined_test. The test split should be the one with the higher number of rows\n",
    "df_combined_trained = train_copy[train_copy['PipeId'].isin(df_submission['PipeId'])]\n",
    "df_combined_test = train_copy[~train_copy['PipeId'].isin(df_submission['PipeId'])]"
   ]
  },
  {
   "attachments": {},
   "cell_type": "markdown",
   "id": "35f5d6a9",
   "metadata": {},
   "source": [
    "#normalize df_combined_train_sub dataframe but the booleans\n",
    "df_combined_train_sub_norm = df_combined_train_sub.copy()\n",
    "df_combined_train_sub_norm[['Inspections', 'No_Incidents', 'Risk_S*I/Inspections', 'MonthsLastRev', 'Risk_S*I', 'Severity',\n",
    "         'YearBuilt', 'Diameter', 'Length', 'Pressure', 'NumConnections','NumConnectionsUnder', 'TownCount']] = MinMaxScaler().fit_transform(df_combined_train_sub_norm[['Inspections', 'No_Incidents', 'Risk_S*I/Inspections', 'MonthsLastRev', 'Risk_S*I', 'Severity',\n",
    "            'YearBuilt', 'Diameter', 'Length', 'Pressure', 'NumConnections','NumConnectionsUnder', 'TownCount']])\n",
    "df_combined_train_sub_norm.head(2)"
   ]
  },
  {
   "attachments": {},
   "cell_type": "markdown",
   "id": "23e7186b",
   "metadata": {},
   "source": [
    "#Extract the day of the week from InspectionDate and place it in 5th position\n",
    "train_copy['InspectionDay'] = train_copy['InspectionDate'].dt.day_name()\n",
    "cols = list(train_copy.columns.values)\n",
    "cols.pop(cols.index('InspectionDay'))\n",
    "train_copy = train_copy[['PipeId', 'Inspections', 'No_Incidents', 'Risk_S*I/Inspections','leakage_estimate_factor','InspectionDay',\n",
    "    'InspectionYear', 'InspectionDate', 'MonthsLastRev', 'Risk_S*I','Severity','Incidence', 'Province', 'Town', 'YearBuilt', 'Material', 'GasType',\n",
    "    'Diameter', 'Length', 'Pressure', 'NumConnections', 'NumConnectionsUnder', 'BoolBridle']]\n",
    "train_copy.head(1)\n"
   ]
  },
  {
   "attachments": {},
   "cell_type": "markdown",
   "id": "465c900b",
   "metadata": {},
   "source": [
    "#on the train_copy if YEarBuilt is equal to 2021 and InspectionYear is equal to NaN, fill the InspectionYear with 2021\n",
    "#train_copy.loc[(train_copy['YearBuilt'] > 2020) & (train_copy['InspectionYear'].isnull()), 'InspectionYear'] = 2021\n"
   ]
  },
  {
   "attachments": {},
   "cell_type": "markdown",
   "id": "9f3e17e5",
   "metadata": {},
   "source": [
    "#do a range in the train_copy for the YearBuilt column if the value is greater than 2020 and the InspectionYear is equal to Nan, change the value of InspectionYear to YearBuilt\n",
    "\n",
    "for i in train_copy['YearBuilt']:\n",
    "    if i > 2020:\n",
    "        train_copy.loc[(train_copy['YearBuilt'] > 2020) & (train_copy['InspectionYear'].isnull()), 'InspectionYear'] = i"
   ]
  },
  {
   "attachments": {},
   "cell_type": "markdown",
   "id": "31cd550e",
   "metadata": {},
   "source": [
    "\n"
   ]
  }
 ],
 "metadata": {
  "kernelspec": {
   "display_name": "Python 3",
   "language": "python",
   "name": "python3"
  },
  "language_info": {
   "codemirror_mode": {
    "name": "ipython",
    "version": 3
   },
   "file_extension": ".py",
   "mimetype": "text/x-python",
   "name": "python",
   "nbconvert_exporter": "python",
   "pygments_lexer": "ipython3",
   "version": "3.10.10"
  },
  "vscode": {
   "interpreter": {
    "hash": "326e4f63ad54c217260fc7be1c53acea6ef3ea6cd7ac93b3b02195c6d8fa7cb8"
   }
  }
 },
 "nbformat": 4,
 "nbformat_minor": 5
}
