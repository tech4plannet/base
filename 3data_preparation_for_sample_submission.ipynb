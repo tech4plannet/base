{
 "cells": [
  {
   "attachments": {},
   "cell_type": "markdown",
   "id": "c6ba2d28",
   "metadata": {},
   "source": [
    "# Libraries used\n",
    "\n",
    "Running Kernel3.9.13 base anaconda"
   ]
  },
  {
   "attachments": {},
   "cell_type": "markdown",
   "id": "a47ff5b1",
   "metadata": {},
   "source": [
    "pip install squarify\n",
    "pip install yellowbrick\n",
    "pip install plotly\n",
    "pip install seaborn\n",
    "pip install lazypredict\n",
    "pip install pandas_profiling"
   ]
  },
  {
   "cell_type": "code",
   "execution_count": 1,
   "id": "1e469ce3",
   "metadata": {},
   "outputs": [],
   "source": [
    "import pandas as pd\n",
    "import numpy as np\n",
    "import seaborn as sns  \n",
    "import matplotlib.pyplot as plt\n",
    "import plotly.io as pio\n",
    "#import squarify #treemap\n",
    "import os\n",
    "import matplotlib\n",
    "import warnings\n",
    "\n",
    "from imblearn.over_sampling import SMOTE\n",
    "\n",
    "\n",
    "#to enable the inline plotting\n",
    "%matplotlib inline \n",
    "\n",
    "import warnings\n",
    "warnings.filterwarnings('ignore')\n",
    "\n",
    "sns.set_style(\"darkgrid\")"
   ]
  },
  {
   "cell_type": "code",
   "execution_count": 2,
   "id": "e3cc5995",
   "metadata": {},
   "outputs": [],
   "source": [
    "from sklearn.linear_model import LogisticRegression\n",
    "\n",
    "from sklearn.model_selection import cross_val_score\n",
    "from sklearn.model_selection import RepeatedStratifiedKFold\n",
    "from sklearn.model_selection import cross_val_score\n",
    "from sklearn.model_selection import train_test_split\n",
    "\n",
    "from sklearn.metrics import accuracy_score, confusion_matrix, classification_report\n",
    "from sklearn.metrics import classification_report\n",
    "\n",
    "from sklearn.naive_bayes import GaussianNB\n",
    "from sklearn.tree import DecisionTreeClassifier\n",
    "from sklearn.neighbors import KNeighborsClassifier\n",
    "#rfc using regularization and gridsearch to find the best parameters for the model\n",
    "from sklearn.ensemble import RandomForestClassifier\n",
    "from sklearn.model_selection import GridSearchCV\n",
    "from sklearn.metrics import classification_report, confusion_matrix, accuracy_score\n",
    "from sklearn.model_selection import cross_val_score\n",
    "from sklearn.model_selection import RepeatedStratifiedKFold\n",
    "from sklearn.model_selection import cross_val_predict\n",
    "from sklearn.metrics import roc_auc_score\n",
    "from sklearn.metrics import roc_curve\n",
    "from sklearn.metrics import precision_recall_curve\n",
    "from sklearn.metrics import f1_score\n",
    "from sklearn.metrics import auc\n",
    "from sklearn.metrics import average_precision_score\n",
    "\n",
    "from sklearn.ensemble import RandomForestClassifier\n",
    "from sklearn.ensemble import GradientBoostingClassifier\n",
    "\n",
    "from sklearn.preprocessing import StandardScaler\n",
    "\n",
    "from sklearn.decomposition import IncrementalPCA\n",
    "from sklearn.preprocessing import StandardScaler\n",
    "from sklearn.decomposition import PCA\n",
    "from sklearn.preprocessing import MinMaxScaler\n",
    "from scipy.stats import normaltest\n",
    "\n",
    "from pandas_profiling import ProfileReport\n",
    "\n",
    "from yellowbrick.classifier import ROCAUC\n",
    "from yellowbrick.classifier import ClassPredictionError\n",
    "from yellowbrick.style.palettes import PALETTES, SEQUENCES, color_palette\n",
    "\n",
    "import lazypredict\n",
    "from lazypredict.Supervised import LazyClassifier\n",
    "\n",
    "\n",
    "warnings.simplefilter(action='ignore', category=FutureWarning)"
   ]
  },
  {
   "cell_type": "code",
   "execution_count": 3,
   "id": "cf1b672f",
   "metadata": {},
   "outputs": [],
   "source": [
    "# Function for EDA. Using the display() function to have  well-formatted tables. We are mainly using pandas to explore the datasets\n",
    "\n",
    "def dataset_description(df_target):\n",
    "\n",
    "    print('This is the Dataset shape: %s\\n' % (df_target.shape, ))\n",
    "    print('Dataset columns: %s\\n' % df_target.columns)\n",
    "\n",
    "    print('\\nColumns description:\\n')\n",
    "    display(df_target.info())\n",
    "    display(df_target.describe())  # describe the dataset\n",
    "\n",
    "    print('\\nNull values:\\n')\n",
    "    display(df_target.isnull().sum())  # Identify null values\n",
    "\n",
    "#function performing a quick check on df_inspection to have best of pandas functions separated by a line\n",
    "def quick_check(dataframe):\n",
    "    print('First 5 rows %s\\n')\n",
    "    print(dataframe.head(2))\n",
    "    print(\"=====================================\")\n",
    "    print('Dataframe shape %s\\n')\n",
    "    print(dataframe.shape)\n",
    "    print(\"=====================================\")\n",
    "    print('Dataframe describe categorical %s\\n')\n",
    "    print(dataframe.describe(include=['O']))\n",
    "    print(\"=====================================\")\n",
    "    print('Dataframe null values %s\\n')\n",
    "    print(dataframe.isnull().sum())\n",
    "    print(\"=====================================\")\n",
    "    print('Dataframe value counts %s\\n')\n",
    "    print(dataframe.value_counts())\n",
    "    print(\"=====================================\")\n",
    "\n",
    "#stats function\n",
    "def stats(dataframe):\n",
    "    print('Dataframe correlation %s\\n')\n",
    "    print(dataframe.corr())\n",
    "    print(\"=====================================\")\n",
    "    print('Dataframe covariance %s\\n')\n",
    "    print(dataframe.cov())\n",
    "    print(\"=====================================\")\n",
    "    print('Dataframe skew %s\\n')\n",
    "    print(dataframe.skew())\n",
    "    print(\"=====================================\")\n",
    "    print('Dataframe kurtosis %s\\n')\n",
    "    print(dataframe.kurt())\n",
    "    print(\"=====================================\")\n",
    "\n",
    "#create a function to normalize characters from a dataset's column in Spanish\n",
    "def normalize_characters(df, column):\n",
    "    df[column] = df[column].str.normalize('NFKD').str.encode('ascii', errors='ignore').str.decode('utf-8')\n",
    "    df[column] = df[column].str.lower()\n",
    "    df[column] = df[column].str.replace('á', 'a')\n",
    "    df[column] = df[column].str.replace('é', 'e')\n",
    "    df[column] = df[column].str.replace('í', 'i')\n",
    "    df[column] = df[column].str.replace('ó', 'o')\n",
    "    df[column] = df[column].str.replace('ú', 'u')\n",
    "    df[column] = df[column].str.replace('ñ', 'n')\n",
    "    df[column] = df[column].str.replace('ü', 'u')\n",
    "    df[column] = df[column].str.replace('ç', 'c')\n",
    "    df[column] = df[column].str.replace('(', '')\n",
    "    df[column] = df[column].str.replace(')', '')\n",
    "    df[column] = df[column].str.replace('\\'', '')\n",
    "    df[column] = df[column].str.replace('´', '')\n",
    "    df[column] = df[column].str.replace('`', '')\n",
    "    df[column] = df[column].str.replace('’', '')\n",
    "    return df.head(2)\n",
    "\n",
    "#create function to change detypes in64 to int32 in a df\n",
    "def change_dtypes(df):\n",
    "    for col in df.columns:\n",
    "        if df[col].dtype == 'int64':\n",
    "            df[col] = df[col].astype('int32')\n",
    "        elif df[col].dtype == 'float64':\n",
    "            df[col] = df[col].astype('float32')\n",
    "    return df\n",
    "\n",
    "def outlier_function(df, col_name):\n",
    "    \"\"\" this function detects first and third quartile and interquartile range for a given column of a dataframe\n",
    "    then calculates upper and lower limits to determine outliers conservatively\n",
    "    returns the number of lower and uper limit and number of outliers respectively\"\"\"\n",
    "    first_quartile = np.percentile(np.array(df[col_name].tolist()), 25)\n",
    "    third_quartile = np.percentile(np.array(df[col_name].tolist()), 75)\n",
    "    IQR = third_quartile - first_quartile\n",
    "                        \n",
    "    upper_limit = third_quartile+(3*IQR)\n",
    "    lower_limit = first_quartile-(3*IQR)\n",
    "    outlier_count = 0\n",
    "                    \n",
    "    for value in df[col_name].tolist():\n",
    "        if (value < lower_limit) | (value > upper_limit):\n",
    "            outlier_count +=1\n",
    "        else:\n",
    "            pass\n",
    "    return lower_limit, upper_limit, outlier_count"
   ]
  },
  {
   "cell_type": "code",
   "execution_count": 4,
   "id": "8e28e941",
   "metadata": {},
   "outputs": [],
   "source": [
    "#show all print outputs when using a function\n",
    "from IPython.core.interactiveshell import InteractiveShell\n",
    "InteractiveShell.ast_node_interactivity = \"all\"\n",
    "\n",
    "#display all columns\n",
    "pd.set_option('display.max_columns', None)\n"
   ]
  },
  {
   "cell_type": "markdown",
   "id": "1ebce254",
   "metadata": {},
   "source": [
    "# Importing previous dataset"
   ]
  },
  {
   "cell_type": "code",
   "execution_count": 5,
   "id": "3dad7faa",
   "metadata": {},
   "outputs": [],
   "source": [
    "#point to the folder where the data is stored\n",
    "os.chdir(r\"C:\\Users\\pedro\\datathon\")\n",
    "\n",
    "# Loading combined_mod dataset\n",
    "submission_sample_prepared2 = pd.read_csv('submission_sample_prepared.csv')"
   ]
  },
  {
   "cell_type": "code",
   "execution_count": 6,
   "id": "8dae7144",
   "metadata": {},
   "outputs": [
    {
     "data": {
      "text/html": [
       "<div>\n",
       "<style scoped>\n",
       "    .dataframe tbody tr th:only-of-type {\n",
       "        vertical-align: middle;\n",
       "    }\n",
       "\n",
       "    .dataframe tbody tr th {\n",
       "        vertical-align: top;\n",
       "    }\n",
       "\n",
       "    .dataframe thead th {\n",
       "        text-align: right;\n",
       "    }\n",
       "</style>\n",
       "<table border=\"1\" class=\"dataframe\">\n",
       "  <thead>\n",
       "    <tr style=\"text-align: right;\">\n",
       "      <th></th>\n",
       "      <th>PipeId</th>\n",
       "      <th>Incidence</th>\n",
       "      <th>Province</th>\n",
       "      <th>Town</th>\n",
       "      <th>YearBuilt</th>\n",
       "      <th>Diameter</th>\n",
       "      <th>Length</th>\n",
       "      <th>Pressure</th>\n",
       "      <th>NumConnections</th>\n",
       "      <th>NumConnectionsUnder</th>\n",
       "      <th>BoolBridle</th>\n",
       "      <th>aspect</th>\n",
       "      <th>Relative_Thickness</th>\n",
       "      <th>pipe_area</th>\n",
       "      <th>Total_Connections</th>\n",
       "      <th>area_connection</th>\n",
       "      <th>connection_bool</th>\n",
       "      <th>gas_natural</th>\n",
       "      <th>Material_Acrylonitrile-Butadiene-Styrene</th>\n",
       "      <th>Material_Copper</th>\n",
       "      <th>Material_Fiberglass-Reinforced Plastic</th>\n",
       "      <th>Material_Polyethylene</th>\n",
       "      <th>Material_Polypropylene</th>\n",
       "      <th>Diameter2</th>\n",
       "      <th>Length2</th>\n",
       "      <th>Pressure2</th>\n",
       "      <th>Average yearly temperature (°C)</th>\n",
       "      <th>Min. Temperature (°C)</th>\n",
       "      <th>Max. Temperature (°C)</th>\n",
       "      <th>Yearly Rainfall (mm)</th>\n",
       "      <th>Average year Humidity (%)</th>\n",
       "      <th>Rainy days per year (days)</th>\n",
       "      <th>Yearly Sun Hours (hours)</th>\n",
       "      <th>Average_MonthsLastRev</th>\n",
       "      <th>InspectionYear</th>\n",
       "      <th>MonthsLastRev</th>\n",
       "      <th>No_Inspections</th>\n",
       "      <th>No_Incidences_Total</th>\n",
       "      <th>Age_pipe_at_inspection</th>\n",
       "      <th>relative_risk</th>\n",
       "      <th>preventive_maintenance_rate</th>\n",
       "      <th>Probability_rate</th>\n",
       "    </tr>\n",
       "  </thead>\n",
       "  <tbody>\n",
       "    <tr>\n",
       "      <th>0</th>\n",
       "      <td>446859944</td>\n",
       "      <td>0</td>\n",
       "      <td>valencia</td>\n",
       "      <td>Alginet</td>\n",
       "      <td>2012</td>\n",
       "      <td>0.11</td>\n",
       "      <td>44.29</td>\n",
       "      <td>0.15</td>\n",
       "      <td>0</td>\n",
       "      <td>0</td>\n",
       "      <td>0</td>\n",
       "      <td>60.39</td>\n",
       "      <td>0.73</td>\n",
       "      <td>15.30</td>\n",
       "      <td>0</td>\n",
       "      <td>0.00</td>\n",
       "      <td>0</td>\n",
       "      <td>1</td>\n",
       "      <td>0</td>\n",
       "      <td>0</td>\n",
       "      <td>0</td>\n",
       "      <td>1</td>\n",
       "      <td>0</td>\n",
       "      <td>0.01</td>\n",
       "      <td>1961.25</td>\n",
       "      <td>0.02</td>\n",
       "      <td>17.62</td>\n",
       "      <td>6.60</td>\n",
       "      <td>30.80</td>\n",
       "      <td>427.00</td>\n",
       "      <td>0.64</td>\n",
       "      <td>46.00</td>\n",
       "      <td>113.20</td>\n",
       "      <td>20.75</td>\n",
       "      <td>2021.00</td>\n",
       "      <td>24.00</td>\n",
       "      <td>5.00</td>\n",
       "      <td>0.00</td>\n",
       "      <td>9.00</td>\n",
       "      <td>0.00</td>\n",
       "      <td>0.00</td>\n",
       "      <td>0.00</td>\n",
       "    </tr>\n",
       "  </tbody>\n",
       "</table>\n",
       "</div>"
      ],
      "text/plain": [
       "      PipeId  Incidence  Province     Town  YearBuilt  Diameter  Length  \\\n",
       "0  446859944          0  valencia  Alginet       2012      0.11   44.29   \n",
       "\n",
       "   Pressure  NumConnections  NumConnectionsUnder  BoolBridle  aspect  \\\n",
       "0      0.15               0                    0           0   60.39   \n",
       "\n",
       "   Relative_Thickness  pipe_area  Total_Connections  area_connection  \\\n",
       "0                0.73      15.30                  0             0.00   \n",
       "\n",
       "   connection_bool  gas_natural  Material_Acrylonitrile-Butadiene-Styrene  \\\n",
       "0                0            1                                         0   \n",
       "\n",
       "   Material_Copper  Material_Fiberglass-Reinforced Plastic  \\\n",
       "0                0                                       0   \n",
       "\n",
       "   Material_Polyethylene  Material_Polypropylene  Diameter2  Length2  \\\n",
       "0                      1                       0       0.01  1961.25   \n",
       "\n",
       "   Pressure2  Average yearly temperature (°C)  Min. Temperature (°C)  \\\n",
       "0       0.02                            17.62                   6.60   \n",
       "\n",
       "   Max. Temperature (°C)  Yearly Rainfall (mm)  Average year Humidity (%)  \\\n",
       "0                  30.80                427.00                       0.64   \n",
       "\n",
       "   Rainy days per year (days)  Yearly Sun Hours (hours)  \\\n",
       "0                       46.00                    113.20   \n",
       "\n",
       "   Average_MonthsLastRev  InspectionYear  MonthsLastRev  No_Inspections  \\\n",
       "0                  20.75         2021.00          24.00            5.00   \n",
       "\n",
       "   No_Incidences_Total  Age_pipe_at_inspection  relative_risk  \\\n",
       "0                 0.00                    9.00           0.00   \n",
       "\n",
       "   preventive_maintenance_rate  Probability_rate  \n",
       "0                         0.00              0.00  "
      ]
     },
     "execution_count": 6,
     "metadata": {},
     "output_type": "execute_result"
    }
   ],
   "source": [
    "submission_sample_prepared2.head(1)"
   ]
  },
  {
   "cell_type": "code",
   "execution_count": 7,
   "id": "2eb79226",
   "metadata": {},
   "outputs": [
    {
     "data": {
      "text/plain": [
       "Index(['PipeId', 'Incidence', 'Province', 'Town', 'YearBuilt', 'Diameter',\n",
       "       'Length', 'Pressure', 'NumConnections', 'NumConnectionsUnder',\n",
       "       'BoolBridle', 'aspect', 'Relative_Thickness', 'pipe_area',\n",
       "       'Total_Connections', 'area_connection', 'connection_bool',\n",
       "       'gas_natural', 'Material_Acrylonitrile-Butadiene-Styrene',\n",
       "       'Material_Copper', 'Material_Fiberglass-Reinforced Plastic',\n",
       "       'Material_Polyethylene', 'Material_Polypropylene', 'Diameter2',\n",
       "       'Length2', 'Pressure2', 'Average yearly temperature (°C)',\n",
       "       'Min. Temperature (°C)', 'Max. Temperature (°C)',\n",
       "       'Yearly Rainfall (mm)', 'Average year Humidity (%)',\n",
       "       'Rainy days per year (days)', 'Yearly Sun Hours (hours)',\n",
       "       'Average_MonthsLastRev', 'InspectionYear', 'MonthsLastRev',\n",
       "       'No_Inspections', 'No_Incidences_Total', 'Age_pipe_at_inspection',\n",
       "       'relative_risk', 'preventive_maintenance_rate', 'Probability_rate'],\n",
       "      dtype='object')"
      ]
     },
     "execution_count": 7,
     "metadata": {},
     "output_type": "execute_result"
    }
   ],
   "source": [
    "submission_sample_prepared2.columns"
   ]
  },
  {
   "cell_type": "code",
   "execution_count": 8,
   "id": "9d227fc7",
   "metadata": {},
   "outputs": [
    {
     "data": {
      "text/plain": [
       "(909733, 42)"
      ]
     },
     "execution_count": 8,
     "metadata": {},
     "output_type": "execute_result"
    }
   ],
   "source": [
    "submission_sample_prepared2.shape"
   ]
  },
  {
   "attachments": {},
   "cell_type": "markdown",
   "id": "64828dd8",
   "metadata": {},
   "source": [
    "final shape after taking care of few outliers.\n",
    "\n",
    "2 million less"
   ]
  },
  {
   "attachments": {},
   "cell_type": "markdown",
   "id": "420fecf2",
   "metadata": {},
   "source": [
    "# Merging another dataset"
   ]
  },
  {
   "cell_type": "code",
   "execution_count": 9,
   "id": "d73ad532",
   "metadata": {},
   "outputs": [],
   "source": [
    "#point to the folder where the data is stored for Pedro\n",
    "os.chdir(r\"C:\\Users\\pedro\\datathon\\base\\complementary_datasets\")\n",
    "\n",
    "#Loading sample_submission\n",
    "density = pd.read_excel('population_density_province.xlsx')"
   ]
  },
  {
   "cell_type": "code",
   "execution_count": 10,
   "id": "e81a6a71",
   "metadata": {},
   "outputs": [
    {
     "data": {
      "text/html": [
       "<div>\n",
       "<style scoped>\n",
       "    .dataframe tbody tr th:only-of-type {\n",
       "        vertical-align: middle;\n",
       "    }\n",
       "\n",
       "    .dataframe tbody tr th {\n",
       "        vertical-align: top;\n",
       "    }\n",
       "\n",
       "    .dataframe thead th {\n",
       "        text-align: right;\n",
       "    }\n",
       "</style>\n",
       "<table border=\"1\" class=\"dataframe\">\n",
       "  <thead>\n",
       "    <tr style=\"text-align: right;\">\n",
       "      <th></th>\n",
       "      <th>Province</th>\n",
       "      <th>Area (sq km)</th>\n",
       "      <th>Year</th>\n",
       "      <th>Population</th>\n",
       "      <th>Population density (persons/sqkm)</th>\n",
       "    </tr>\n",
       "  </thead>\n",
       "  <tbody>\n",
       "    <tr>\n",
       "      <th>0</th>\n",
       "      <td>Albacete</td>\n",
       "      <td>14926</td>\n",
       "      <td>2022</td>\n",
       "      <td>385727</td>\n",
       "      <td>25.84</td>\n",
       "    </tr>\n",
       "  </tbody>\n",
       "</table>\n",
       "</div>"
      ],
      "text/plain": [
       "   Province  Area (sq km)  Year  Population  Population density (persons/sqkm)\n",
       "0  Albacete         14926  2022      385727                              25.84"
      ]
     },
     "execution_count": 10,
     "metadata": {},
     "output_type": "execute_result"
    }
   ],
   "source": [
    "density.head(1)"
   ]
  },
  {
   "cell_type": "code",
   "execution_count": 11,
   "id": "b0408ec7",
   "metadata": {},
   "outputs": [
    {
     "data": {
      "text/html": [
       "<div>\n",
       "<style scoped>\n",
       "    .dataframe tbody tr th:only-of-type {\n",
       "        vertical-align: middle;\n",
       "    }\n",
       "\n",
       "    .dataframe tbody tr th {\n",
       "        vertical-align: top;\n",
       "    }\n",
       "\n",
       "    .dataframe thead th {\n",
       "        text-align: right;\n",
       "    }\n",
       "</style>\n",
       "<table border=\"1\" class=\"dataframe\">\n",
       "  <thead>\n",
       "    <tr style=\"text-align: right;\">\n",
       "      <th></th>\n",
       "      <th>Province</th>\n",
       "      <th>Area (sq km)</th>\n",
       "      <th>Year</th>\n",
       "      <th>Population</th>\n",
       "      <th>Population density (persons/sqkm)</th>\n",
       "    </tr>\n",
       "  </thead>\n",
       "  <tbody>\n",
       "    <tr>\n",
       "      <th>0</th>\n",
       "      <td>albacete</td>\n",
       "      <td>14926</td>\n",
       "      <td>2022</td>\n",
       "      <td>385727</td>\n",
       "      <td>25.84</td>\n",
       "    </tr>\n",
       "    <tr>\n",
       "      <th>1</th>\n",
       "      <td>albacete</td>\n",
       "      <td>14926</td>\n",
       "      <td>2021</td>\n",
       "      <td>386464</td>\n",
       "      <td>25.89</td>\n",
       "    </tr>\n",
       "  </tbody>\n",
       "</table>\n",
       "</div>"
      ],
      "text/plain": [
       "   Province  Area (sq km)  Year  Population  Population density (persons/sqkm)\n",
       "0  albacete         14926  2022      385727                              25.84\n",
       "1  albacete         14926  2021      386464                              25.89"
      ]
     },
     "execution_count": 11,
     "metadata": {},
     "output_type": "execute_result"
    }
   ],
   "source": [
    "normalize_characters(density, 'Province')"
   ]
  },
  {
   "cell_type": "code",
   "execution_count": 12,
   "id": "2b793896",
   "metadata": {},
   "outputs": [
    {
     "data": {
      "text/html": [
       "<div>\n",
       "<style scoped>\n",
       "    .dataframe tbody tr th:only-of-type {\n",
       "        vertical-align: middle;\n",
       "    }\n",
       "\n",
       "    .dataframe tbody tr th {\n",
       "        vertical-align: top;\n",
       "    }\n",
       "\n",
       "    .dataframe thead th {\n",
       "        text-align: right;\n",
       "    }\n",
       "</style>\n",
       "<table border=\"1\" class=\"dataframe\">\n",
       "  <thead>\n",
       "    <tr style=\"text-align: right;\">\n",
       "      <th></th>\n",
       "      <th>PipeId</th>\n",
       "      <th>Incidence</th>\n",
       "      <th>Province</th>\n",
       "      <th>Town</th>\n",
       "      <th>YearBuilt</th>\n",
       "      <th>Diameter</th>\n",
       "      <th>Length</th>\n",
       "      <th>Pressure</th>\n",
       "      <th>NumConnections</th>\n",
       "      <th>NumConnectionsUnder</th>\n",
       "      <th>BoolBridle</th>\n",
       "      <th>aspect</th>\n",
       "      <th>Relative_Thickness</th>\n",
       "      <th>pipe_area</th>\n",
       "      <th>Total_Connections</th>\n",
       "      <th>area_connection</th>\n",
       "      <th>connection_bool</th>\n",
       "      <th>gas_natural</th>\n",
       "      <th>Material_Acrylonitrile-Butadiene-Styrene</th>\n",
       "      <th>Material_Copper</th>\n",
       "      <th>Material_Fiberglass-Reinforced Plastic</th>\n",
       "      <th>Material_Polyethylene</th>\n",
       "      <th>Material_Polypropylene</th>\n",
       "      <th>Diameter2</th>\n",
       "      <th>Length2</th>\n",
       "      <th>Pressure2</th>\n",
       "      <th>Average yearly temperature (°C)</th>\n",
       "      <th>Min. Temperature (°C)</th>\n",
       "      <th>Max. Temperature (°C)</th>\n",
       "      <th>Yearly Rainfall (mm)</th>\n",
       "      <th>Average year Humidity (%)</th>\n",
       "      <th>Rainy days per year (days)</th>\n",
       "      <th>Yearly Sun Hours (hours)</th>\n",
       "      <th>Average_MonthsLastRev</th>\n",
       "      <th>InspectionYear</th>\n",
       "      <th>MonthsLastRev</th>\n",
       "      <th>No_Inspections</th>\n",
       "      <th>No_Incidences_Total</th>\n",
       "      <th>Age_pipe_at_inspection</th>\n",
       "      <th>relative_risk</th>\n",
       "      <th>preventive_maintenance_rate</th>\n",
       "      <th>Probability_rate</th>\n",
       "      <th>Area (sq km)</th>\n",
       "      <th>Year</th>\n",
       "      <th>Population</th>\n",
       "      <th>Population density (persons/sqkm)</th>\n",
       "    </tr>\n",
       "  </thead>\n",
       "  <tbody>\n",
       "    <tr>\n",
       "      <th>0</th>\n",
       "      <td>446859944</td>\n",
       "      <td>0</td>\n",
       "      <td>valencia</td>\n",
       "      <td>Alginet</td>\n",
       "      <td>2012</td>\n",
       "      <td>0.11</td>\n",
       "      <td>44.29</td>\n",
       "      <td>0.15</td>\n",
       "      <td>0</td>\n",
       "      <td>0</td>\n",
       "      <td>0</td>\n",
       "      <td>60.39</td>\n",
       "      <td>0.73</td>\n",
       "      <td>15.30</td>\n",
       "      <td>0</td>\n",
       "      <td>0.00</td>\n",
       "      <td>0</td>\n",
       "      <td>1</td>\n",
       "      <td>0</td>\n",
       "      <td>0</td>\n",
       "      <td>0</td>\n",
       "      <td>1</td>\n",
       "      <td>0</td>\n",
       "      <td>0.01</td>\n",
       "      <td>1961.25</td>\n",
       "      <td>0.02</td>\n",
       "      <td>17.62</td>\n",
       "      <td>6.60</td>\n",
       "      <td>30.80</td>\n",
       "      <td>427.00</td>\n",
       "      <td>0.64</td>\n",
       "      <td>46.00</td>\n",
       "      <td>113.20</td>\n",
       "      <td>20.75</td>\n",
       "      <td>2021.00</td>\n",
       "      <td>24.00</td>\n",
       "      <td>5.00</td>\n",
       "      <td>0.00</td>\n",
       "      <td>9.00</td>\n",
       "      <td>0.00</td>\n",
       "      <td>0.00</td>\n",
       "      <td>0.00</td>\n",
       "      <td>10807</td>\n",
       "      <td>2020</td>\n",
       "      <td>2591875</td>\n",
       "      <td>239.83</td>\n",
       "    </tr>\n",
       "  </tbody>\n",
       "</table>\n",
       "</div>"
      ],
      "text/plain": [
       "      PipeId  Incidence  Province     Town  YearBuilt  Diameter  Length  \\\n",
       "0  446859944          0  valencia  Alginet       2012      0.11   44.29   \n",
       "\n",
       "   Pressure  NumConnections  NumConnectionsUnder  BoolBridle  aspect  \\\n",
       "0      0.15               0                    0           0   60.39   \n",
       "\n",
       "   Relative_Thickness  pipe_area  Total_Connections  area_connection  \\\n",
       "0                0.73      15.30                  0             0.00   \n",
       "\n",
       "   connection_bool  gas_natural  Material_Acrylonitrile-Butadiene-Styrene  \\\n",
       "0                0            1                                         0   \n",
       "\n",
       "   Material_Copper  Material_Fiberglass-Reinforced Plastic  \\\n",
       "0                0                                       0   \n",
       "\n",
       "   Material_Polyethylene  Material_Polypropylene  Diameter2  Length2  \\\n",
       "0                      1                       0       0.01  1961.25   \n",
       "\n",
       "   Pressure2  Average yearly temperature (°C)  Min. Temperature (°C)  \\\n",
       "0       0.02                            17.62                   6.60   \n",
       "\n",
       "   Max. Temperature (°C)  Yearly Rainfall (mm)  Average year Humidity (%)  \\\n",
       "0                  30.80                427.00                       0.64   \n",
       "\n",
       "   Rainy days per year (days)  Yearly Sun Hours (hours)  \\\n",
       "0                       46.00                    113.20   \n",
       "\n",
       "   Average_MonthsLastRev  InspectionYear  MonthsLastRev  No_Inspections  \\\n",
       "0                  20.75         2021.00          24.00            5.00   \n",
       "\n",
       "   No_Incidences_Total  Age_pipe_at_inspection  relative_risk  \\\n",
       "0                 0.00                    9.00           0.00   \n",
       "\n",
       "   preventive_maintenance_rate  Probability_rate  Area (sq km)  Year  \\\n",
       "0                         0.00              0.00         10807  2020   \n",
       "\n",
       "   Population  Population density (persons/sqkm)  \n",
       "0     2591875                             239.83  "
      ]
     },
     "execution_count": 12,
     "metadata": {},
     "output_type": "execute_result"
    }
   ],
   "source": [
    "#join density to df_baseline on Province taking only rows with year 2020\n",
    "submission_sample_prepared2 = submission_sample_prepared2.merge(density[density['Year'] == 2020], on='Province', how='left')\n",
    "submission_sample_prepared2.head(1)"
   ]
  },
  {
   "cell_type": "code",
   "execution_count": 13,
   "id": "71a32b81",
   "metadata": {},
   "outputs": [
    {
     "data": {
      "text/plain": [
       "array([], dtype=object)"
      ]
     },
     "execution_count": 13,
     "metadata": {},
     "output_type": "execute_result"
    }
   ],
   "source": [
    "#compare array for column Province in density and df_baseline and compute set difference\n",
    "np.setdiff1d(density['Province'].unique(), submission_sample_prepared2['Province'].unique())\n"
   ]
  },
  {
   "cell_type": "code",
   "execution_count": 14,
   "id": "5d2e1215",
   "metadata": {},
   "outputs": [],
   "source": [
    "del density"
   ]
  },
  {
   "cell_type": "code",
   "execution_count": 15,
   "id": "cf614070",
   "metadata": {},
   "outputs": [],
   "source": [
    "#dropping Year, Population, Area (sq km) from df_baseline\n",
    "submission_sample_prepared2 = submission_sample_prepared2.drop(['Year', 'Population', 'Area (sq km)'], axis=1)"
   ]
  },
  {
   "attachments": {},
   "cell_type": "markdown",
   "id": "7ba7b733",
   "metadata": {},
   "source": [
    "# Correlation Matrix"
   ]
  },
  {
   "cell_type": "code",
   "execution_count": 16,
   "id": "a0d168c2",
   "metadata": {},
   "outputs": [
    {
     "data": {
      "text/plain": [
       "['pipe_area',\n",
       " 'Total_Connections',\n",
       " 'Diameter2',\n",
       " 'Pressure2',\n",
       " 'Min. Temperature (°C)',\n",
       " 'Average year Humidity (%)',\n",
       " 'Rainy days per year (days)',\n",
       " 'Yearly Sun Hours (hours)',\n",
       " 'MonthsLastRev',\n",
       " 'Age_pipe_at_inspection',\n",
       " 'relative_risk',\n",
       " 'preventive_maintenance_rate',\n",
       " 'Probability_rate']"
      ]
     },
     "execution_count": 16,
     "metadata": {},
     "output_type": "execute_result"
    }
   ],
   "source": [
    "#correlation matrix for df_baseline with threshold of 0.75\n",
    "corr_matrix = submission_sample_prepared2.corr().abs()\n",
    "upper = corr_matrix.where(np.triu(np.ones(corr_matrix.shape), k=1).astype(np.bool))\n",
    "to_drop = [column for column in upper.columns if any(upper[column] > 0.75)]\n",
    "to_drop\n"
   ]
  },
  {
   "cell_type": "code",
   "execution_count": 17,
   "id": "10e9dfbd",
   "metadata": {},
   "outputs": [
    {
     "data": {
      "text/plain": [
       "Index(['PipeId', 'Incidence', 'Province', 'Town', 'YearBuilt', 'Diameter',\n",
       "       'Length', 'Pressure', 'NumConnections', 'NumConnectionsUnder',\n",
       "       'BoolBridle', 'aspect', 'Relative_Thickness', 'pipe_area',\n",
       "       'Total_Connections', 'area_connection', 'connection_bool',\n",
       "       'gas_natural', 'Material_Acrylonitrile-Butadiene-Styrene',\n",
       "       'Material_Copper', 'Material_Fiberglass-Reinforced Plastic',\n",
       "       'Material_Polyethylene', 'Material_Polypropylene', 'Diameter2',\n",
       "       'Length2', 'Pressure2', 'Average yearly temperature (°C)',\n",
       "       'Min. Temperature (°C)', 'Max. Temperature (°C)',\n",
       "       'Yearly Rainfall (mm)', 'Average year Humidity (%)',\n",
       "       'Rainy days per year (days)', 'Yearly Sun Hours (hours)',\n",
       "       'Average_MonthsLastRev', 'InspectionYear', 'MonthsLastRev',\n",
       "       'No_Inspections', 'No_Incidences_Total', 'Age_pipe_at_inspection',\n",
       "       'relative_risk', 'preventive_maintenance_rate', 'Probability_rate',\n",
       "       'Population density (persons/sqkm)'],\n",
       "      dtype='object')"
      ]
     },
     "execution_count": 17,
     "metadata": {},
     "output_type": "execute_result"
    }
   ],
   "source": [
    "submission_sample_prepared2.columns\n"
   ]
  },
  {
   "cell_type": "code",
   "execution_count": 18,
   "id": "ceaaa9b2",
   "metadata": {},
   "outputs": [],
   "source": [
    "#drop columns\n",
    "submission_sample_prepared2 = submission_sample_prepared2.drop(['InspectionYear', 'Province','Town', 'YearBuilt','relative_risk', 'preventive_maintenance_rate', 'Probability_rate',\n",
    "       'pipe_area','Total_Connections', 'connection_bool','Diameter2', 'Length2', 'Pressure2', 'Average yearly temperature (°C)','Min. Temperature (°C)', 'Max. Temperature (°C)',\n",
    "       'Yearly Rainfall (mm)', 'Average year Humidity (%)','Rainy days per year (days)'], axis=1)"
   ]
  },
  {
   "cell_type": "code",
   "execution_count": 19,
   "id": "ea6b6e52",
   "metadata": {},
   "outputs": [
    {
     "data": {
      "text/plain": [
       "(909733, 24)"
      ]
     },
     "execution_count": 19,
     "metadata": {},
     "output_type": "execute_result"
    }
   ],
   "source": [
    "submission_sample_prepared2.shape"
   ]
  },
  {
   "cell_type": "code",
   "execution_count": 20,
   "id": "2a0a94d0",
   "metadata": {},
   "outputs": [
    {
     "data": {
      "text/plain": [
       "Index(['PipeId', 'Incidence', 'Diameter', 'Length', 'Pressure',\n",
       "       'NumConnections', 'NumConnectionsUnder', 'BoolBridle', 'aspect',\n",
       "       'Relative_Thickness', 'area_connection', 'gas_natural',\n",
       "       'Material_Acrylonitrile-Butadiene-Styrene', 'Material_Copper',\n",
       "       'Material_Fiberglass-Reinforced Plastic', 'Material_Polyethylene',\n",
       "       'Material_Polypropylene', 'Yearly Sun Hours (hours)',\n",
       "       'Average_MonthsLastRev', 'MonthsLastRev', 'No_Inspections',\n",
       "       'No_Incidences_Total', 'Age_pipe_at_inspection',\n",
       "       'Population density (persons/sqkm)'],\n",
       "      dtype='object')"
      ]
     },
     "execution_count": 20,
     "metadata": {},
     "output_type": "execute_result"
    }
   ],
   "source": [
    "submission_sample_prepared2.columns "
   ]
  },
  {
   "cell_type": "code",
   "execution_count": 21,
   "id": "1faf8149",
   "metadata": {},
   "outputs": [],
   "source": [
    "#drop 'NumConnectionsUnder', 'BoolBridle'\n",
    "submission_sample_prepared2 = submission_sample_prepared2.drop(['NumConnectionsUnder', 'BoolBridle'], axis=1)"
   ]
  },
  {
   "attachments": {},
   "cell_type": "markdown",
   "id": "46e31623",
   "metadata": {},
   "source": [
    "# Standardize dataframe"
   ]
  },
  {
   "cell_type": "code",
   "execution_count": 22,
   "id": "fdd6c1ff",
   "metadata": {},
   "outputs": [
    {
     "data": {
      "text/html": [
       "<div>\n",
       "<style scoped>\n",
       "    .dataframe tbody tr th:only-of-type {\n",
       "        vertical-align: middle;\n",
       "    }\n",
       "\n",
       "    .dataframe tbody tr th {\n",
       "        vertical-align: top;\n",
       "    }\n",
       "\n",
       "    .dataframe thead th {\n",
       "        text-align: right;\n",
       "    }\n",
       "</style>\n",
       "<table border=\"1\" class=\"dataframe\">\n",
       "  <thead>\n",
       "    <tr style=\"text-align: right;\">\n",
       "      <th></th>\n",
       "      <th>PipeId</th>\n",
       "      <th>Incidence</th>\n",
       "      <th>Diameter</th>\n",
       "      <th>Length</th>\n",
       "      <th>Pressure</th>\n",
       "      <th>NumConnections</th>\n",
       "      <th>aspect</th>\n",
       "      <th>Relative_Thickness</th>\n",
       "      <th>area_connection</th>\n",
       "      <th>gas_natural</th>\n",
       "      <th>Material_Acrylonitrile-Butadiene-Styrene</th>\n",
       "      <th>Material_Copper</th>\n",
       "      <th>Material_Fiberglass-Reinforced Plastic</th>\n",
       "      <th>Material_Polyethylene</th>\n",
       "      <th>Material_Polypropylene</th>\n",
       "      <th>Yearly Sun Hours (hours)</th>\n",
       "      <th>Average_MonthsLastRev</th>\n",
       "      <th>MonthsLastRev</th>\n",
       "      <th>No_Inspections</th>\n",
       "      <th>No_Incidences_Total</th>\n",
       "      <th>Age_pipe_at_inspection</th>\n",
       "      <th>Population density (persons/sqkm)</th>\n",
       "    </tr>\n",
       "  </thead>\n",
       "  <tbody>\n",
       "    <tr>\n",
       "      <th>0</th>\n",
       "      <td>446859944</td>\n",
       "      <td>0</td>\n",
       "      <td>0.11</td>\n",
       "      <td>44.29</td>\n",
       "      <td>0.15</td>\n",
       "      <td>0</td>\n",
       "      <td>60.39</td>\n",
       "      <td>0.73</td>\n",
       "      <td>0.00</td>\n",
       "      <td>1</td>\n",
       "      <td>0</td>\n",
       "      <td>0</td>\n",
       "      <td>0</td>\n",
       "      <td>1</td>\n",
       "      <td>0</td>\n",
       "      <td>113.20</td>\n",
       "      <td>20.75</td>\n",
       "      <td>24.00</td>\n",
       "      <td>5.00</td>\n",
       "      <td>0.00</td>\n",
       "      <td>9.00</td>\n",
       "      <td>239.83</td>\n",
       "    </tr>\n",
       "  </tbody>\n",
       "</table>\n",
       "</div>"
      ],
      "text/plain": [
       "      PipeId  Incidence  Diameter  Length  Pressure  NumConnections  aspect  \\\n",
       "0  446859944          0      0.11   44.29      0.15               0   60.39   \n",
       "\n",
       "   Relative_Thickness  area_connection  gas_natural  \\\n",
       "0                0.73             0.00            1   \n",
       "\n",
       "   Material_Acrylonitrile-Butadiene-Styrene  Material_Copper  \\\n",
       "0                                         0                0   \n",
       "\n",
       "   Material_Fiberglass-Reinforced Plastic  Material_Polyethylene  \\\n",
       "0                                       0                      1   \n",
       "\n",
       "   Material_Polypropylene  Yearly Sun Hours (hours)  Average_MonthsLastRev  \\\n",
       "0                       0                    113.20                  20.75   \n",
       "\n",
       "   MonthsLastRev  No_Inspections  No_Incidences_Total  Age_pipe_at_inspection  \\\n",
       "0          24.00            5.00                 0.00                    9.00   \n",
       "\n",
       "   Population density (persons/sqkm)  \n",
       "0                             239.83  "
      ]
     },
     "execution_count": 22,
     "metadata": {},
     "output_type": "execute_result"
    }
   ],
   "source": [
    "submission_sample_prepared2.head(1)"
   ]
  },
  {
   "cell_type": "code",
   "execution_count": null,
   "id": "91989386",
   "metadata": {},
   "outputs": [],
   "source": [
    "submission_sample_prepared2.columns"
   ]
  },
  {
   "cell_type": "code",
   "execution_count": 24,
   "id": "e38c3be3",
   "metadata": {},
   "outputs": [
    {
     "data": {
      "text/html": [
       "<div>\n",
       "<style scoped>\n",
       "    .dataframe tbody tr th:only-of-type {\n",
       "        vertical-align: middle;\n",
       "    }\n",
       "\n",
       "    .dataframe tbody tr th {\n",
       "        vertical-align: top;\n",
       "    }\n",
       "\n",
       "    .dataframe thead th {\n",
       "        text-align: right;\n",
       "    }\n",
       "</style>\n",
       "<table border=\"1\" class=\"dataframe\">\n",
       "  <thead>\n",
       "    <tr style=\"text-align: right;\">\n",
       "      <th></th>\n",
       "      <th>PipeId</th>\n",
       "      <th>Incidence</th>\n",
       "      <th>Diameter</th>\n",
       "      <th>Length</th>\n",
       "      <th>Pressure</th>\n",
       "      <th>NumConnections</th>\n",
       "      <th>aspect</th>\n",
       "      <th>Relative_Thickness</th>\n",
       "      <th>area_connection</th>\n",
       "      <th>gas_natural</th>\n",
       "      <th>Material_Acrylonitrile-Butadiene-Styrene</th>\n",
       "      <th>Material_Copper</th>\n",
       "      <th>Material_Fiberglass-Reinforced Plastic</th>\n",
       "      <th>Material_Polyethylene</th>\n",
       "      <th>Material_Polypropylene</th>\n",
       "      <th>Yearly Sun Hours (hours)</th>\n",
       "      <th>Average_MonthsLastRev</th>\n",
       "      <th>MonthsLastRev</th>\n",
       "      <th>No_Inspections</th>\n",
       "      <th>No_Incidences_Total</th>\n",
       "      <th>Age_pipe_at_inspection</th>\n",
       "      <th>Population density (persons/sqkm)</th>\n",
       "    </tr>\n",
       "  </thead>\n",
       "  <tbody>\n",
       "    <tr>\n",
       "      <th>0</th>\n",
       "      <td>446859944</td>\n",
       "      <td>0</td>\n",
       "      <td>0.17</td>\n",
       "      <td>0.01</td>\n",
       "      <td>0.00</td>\n",
       "      <td>0.00</td>\n",
       "      <td>0.00</td>\n",
       "      <td>0.03</td>\n",
       "      <td>0.00</td>\n",
       "      <td>1.00</td>\n",
       "      <td>0</td>\n",
       "      <td>0</td>\n",
       "      <td>0</td>\n",
       "      <td>1</td>\n",
       "      <td>0</td>\n",
       "      <td>0.83</td>\n",
       "      <td>0.75</td>\n",
       "      <td>0.76</td>\n",
       "      <td>0.36</td>\n",
       "      <td>0.00</td>\n",
       "      <td>0.26</td>\n",
       "      <td>0.28</td>\n",
       "    </tr>\n",
       "  </tbody>\n",
       "</table>\n",
       "</div>"
      ],
      "text/plain": [
       "      PipeId  Incidence  Diameter  Length  Pressure  NumConnections  aspect  \\\n",
       "0  446859944          0      0.17    0.01      0.00            0.00    0.00   \n",
       "\n",
       "   Relative_Thickness  area_connection  gas_natural  \\\n",
       "0                0.03             0.00         1.00   \n",
       "\n",
       "   Material_Acrylonitrile-Butadiene-Styrene  Material_Copper  \\\n",
       "0                                         0                0   \n",
       "\n",
       "   Material_Fiberglass-Reinforced Plastic  Material_Polyethylene  \\\n",
       "0                                       0                      1   \n",
       "\n",
       "   Material_Polypropylene  Yearly Sun Hours (hours)  Average_MonthsLastRev  \\\n",
       "0                       0                      0.83                   0.75   \n",
       "\n",
       "   MonthsLastRev  No_Inspections  No_Incidences_Total  Age_pipe_at_inspection  \\\n",
       "0           0.76            0.36                 0.00                    0.26   \n",
       "\n",
       "   Population density (persons/sqkm)  \n",
       "0                               0.28  "
      ]
     },
     "execution_count": 24,
     "metadata": {},
     "output_type": "execute_result"
    }
   ],
   "source": [
    "#Use minmax scaler to scale these columns in df_baseline: 'MonthsLastRev', 'Diameter', 'Length','Pressure', 'NumConnections', 'No_Inspections', 'No_Incidences_Total','Average_MonthsLastRev', 'Age_pipe_at_inspection', 'aspect','Relative_Thickness', 'area_connection', 'gas_natural', 'Yearly Sun Hours (hours)','Population density (persons/sqkm)'\n",
    "scaler = MinMaxScaler()\n",
    "submission_sample_prepared2[['MonthsLastRev', 'Diameter', 'Length','Pressure', 'NumConnections', 'No_Inspections', 'No_Incidences_Total',\n",
    "'Average_MonthsLastRev', 'Age_pipe_at_inspection', 'aspect','Relative_Thickness', 'area_connection', 'gas_natural', 'Yearly Sun Hours (hours)',\n",
    "'Population density (persons/sqkm)']] = scaler.fit_transform(submission_sample_prepared2[['MonthsLastRev', 'Diameter', 'Length','Pressure', 'NumConnections', \n",
    "'No_Inspections', 'No_Incidences_Total','Average_MonthsLastRev', 'Age_pipe_at_inspection', 'aspect','Relative_Thickness', 'area_connection', 'gas_natural', 'Yearly Sun Hours (hours)','Population density (persons/sqkm)']])\n",
    "submission_sample_prepared2.head(1)\n",
    "\n",
    "\n"
   ]
  },
  {
   "attachments": {},
   "cell_type": "markdown",
   "id": "9f96521a",
   "metadata": {},
   "source": [
    "# Pandas Profiling Report"
   ]
  },
  {
   "cell_type": "code",
   "execution_count": null,
   "id": "9e18298c",
   "metadata": {},
   "outputs": [],
   "source": [
    "#pandas profiling report for df_baseline\n",
    "#profile = ProfileReport(df_baseline, title='Pandas Profiling Report', html={'style':{'full_width':True}})\n",
    "#profile.to_file('df_baseline.html')\n"
   ]
  },
  {
   "cell_type": "code",
   "execution_count": null,
   "id": "e6160427",
   "metadata": {},
   "outputs": [],
   "source": []
  },
  {
   "attachments": {},
   "cell_type": "markdown",
   "id": "d3927fc7",
   "metadata": {},
   "source": [
    "# Exporting file for notebook 4"
   ]
  },
  {
   "cell_type": "code",
   "execution_count": 26,
   "id": "732a7f51",
   "metadata": {},
   "outputs": [],
   "source": [
    "#exporting df_baseline to csv\n",
    "os.chdir(r\"C:\\Users\\pedro\\datathon\")\n",
    "submission_sample_prepared2.to_csv('submission_sample_prepared2.csv', index=False)\n"
   ]
  },
  {
   "cell_type": "markdown",
   "id": "0ece45f3",
   "metadata": {},
   "source": []
  }
 ],
 "metadata": {
  "kernelspec": {
   "display_name": "Python 3",
   "language": "python",
   "name": "python3"
  },
  "language_info": {
   "codemirror_mode": {
    "name": "ipython",
    "version": 3
   },
   "file_extension": ".py",
   "mimetype": "text/x-python",
   "name": "python",
   "nbconvert_exporter": "python",
   "pygments_lexer": "ipython3",
   "version": "3.10.10"
  },
  "vscode": {
   "interpreter": {
    "hash": "326e4f63ad54c217260fc7be1c53acea6ef3ea6cd7ac93b3b02195c6d8fa7cb8"
   }
  }
 },
 "nbformat": 4,
 "nbformat_minor": 5
}
