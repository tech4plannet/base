{
 "cells": [
  {
   "attachments": {},
   "cell_type": "markdown",
   "id": "c6ba2d28",
   "metadata": {},
   "source": [
    "# Libraries used\n",
    "\n",
    "Running Kernel3.9.13 base anaconda"
   ]
  },
  {
   "attachments": {},
   "cell_type": "markdown",
   "id": "a47ff5b1",
   "metadata": {},
   "source": [
    "pip install squarify\n",
    "pip install yellowbrick\n",
    "pip install plotly\n",
    "pip install seaborn\n",
    "pip install lazypredict\n",
    "pip install pandas_profiling"
   ]
  },
  {
   "cell_type": "code",
   "execution_count": 1,
   "id": "1e469ce3",
   "metadata": {},
   "outputs": [],
   "source": [
    "import pandas as pd\n",
    "import numpy as np\n",
    "import seaborn as sns  \n",
    "import matplotlib.pyplot as plt\n",
    "import plotly.io as pio\n",
    "import os\n",
    "import matplotlib\n",
    "import warnings\n",
    "\n",
    "from imblearn.over_sampling import SMOTE\n",
    "\n",
    "\n",
    "#to enable the inline plotting\n",
    "%matplotlib inline \n",
    "\n",
    "import warnings\n",
    "warnings.filterwarnings('ignore')\n",
    "\n",
    "sns.set_style(\"darkgrid\")"
   ]
  },
  {
   "cell_type": "code",
   "execution_count": 2,
   "id": "e3cc5995",
   "metadata": {},
   "outputs": [],
   "source": [
    "from sklearn.linear_model import LogisticRegression\n",
    "\n",
    "from sklearn.model_selection import cross_val_score\n",
    "from sklearn.model_selection import RepeatedStratifiedKFold\n",
    "from sklearn.model_selection import cross_val_score\n",
    "from sklearn.model_selection import train_test_split\n",
    "\n",
    "from sklearn.metrics import accuracy_score, confusion_matrix, classification_report\n",
    "from sklearn.metrics import classification_report\n",
    "\n",
    "from sklearn.naive_bayes import GaussianNB\n",
    "from sklearn.tree import DecisionTreeClassifier\n",
    "from sklearn.neighbors import KNeighborsClassifier\n",
    "#rfc using regularization and gridsearch to find the best parameters for the model\n",
    "from sklearn.ensemble import RandomForestClassifier\n",
    "from sklearn.model_selection import GridSearchCV\n",
    "from sklearn.metrics import classification_report, confusion_matrix, accuracy_score\n",
    "from sklearn.model_selection import cross_val_score\n",
    "from sklearn.model_selection import RepeatedStratifiedKFold\n",
    "from sklearn.model_selection import cross_val_predict\n",
    "from sklearn.metrics import roc_auc_score\n",
    "from sklearn.metrics import roc_curve\n",
    "from sklearn.metrics import precision_recall_curve\n",
    "from sklearn.metrics import f1_score\n",
    "from sklearn.metrics import auc\n",
    "from sklearn.metrics import average_precision_score\n",
    "\n",
    "from sklearn.ensemble import RandomForestClassifier\n",
    "from sklearn.ensemble import GradientBoostingClassifier\n",
    "from sklearn.preprocessing import MinMaxScaler\n",
    "from sklearn.preprocessing import StandardScaler\n",
    "\n",
    "from sklearn.decomposition import IncrementalPCA\n",
    "from sklearn.preprocessing import StandardScaler\n",
    "from sklearn.decomposition import PCA\n",
    "\n",
    "from scipy.stats import normaltest\n",
    "\n",
    "from pandas_profiling import ProfileReport\n",
    "\n",
    "from yellowbrick.classifier import ROCAUC\n",
    "from yellowbrick.classifier import ClassPredictionError\n",
    "from yellowbrick.style.palettes import PALETTES, SEQUENCES, color_palette\n",
    "\n",
    "import lazypredict\n",
    "from lazypredict.Supervised import LazyClassifier\n",
    "\n",
    "\n",
    "warnings.simplefilter(action='ignore', category=FutureWarning)"
   ]
  },
  {
   "cell_type": "markdown",
   "id": "cf1b672f",
   "metadata": {},
   "source": [
    "# Function for EDA. Using the display() function to have  well-formatted tables. We are mainly using pandas to explore the datasets\n",
    "\n",
    "def dataset_description(df_target):\n",
    "\n",
    "    print('This is the Dataset shape: %s\\n' % (df_target.shape, ))\n",
    "    print('Dataset columns: %s\\n' % df_target.columns)\n",
    "\n",
    "    print('\\nColumns description:\\n')\n",
    "    display(df_target.info())\n",
    "    display(df_target.describe())  # describe the dataset\n",
    "\n",
    "    print('\\nNull values:\\n')\n",
    "    display(df_target.isnull().sum())  # Identify null values\n",
    "\n",
    "#function performing a quick check on df_inspection to have best of pandas functions separated by a line\n",
    "def quick_check(dataframe):\n",
    "    print('First 5 rows %s\\n')\n",
    "    print(dataframe.head(2))\n",
    "    print(\"=====================================\")\n",
    "    print('Dataframe shape %s\\n')\n",
    "    print(dataframe.shape)\n",
    "    print(\"=====================================\")\n",
    "    print('Dataframe describe categorical %s\\n')\n",
    "    print(dataframe.describe(include=['O']))\n",
    "    print(\"=====================================\")\n",
    "    print('Dataframe null values %s\\n')\n",
    "    print(dataframe.isnull().sum())\n",
    "    print(\"=====================================\")\n",
    "    print('Dataframe value counts %s\\n')\n",
    "    print(dataframe.value_counts())\n",
    "    print(\"=====================================\")\n",
    "\n",
    "#stats function\n",
    "def stats(dataframe):\n",
    "    print('Dataframe correlation %s\\n')\n",
    "    print(dataframe.corr())\n",
    "    print(\"=====================================\")\n",
    "    print('Dataframe covariance %s\\n')\n",
    "    print(dataframe.cov())\n",
    "    print(\"=====================================\")\n",
    "    print('Dataframe skew %s\\n')\n",
    "    print(dataframe.skew())\n",
    "    print(\"=====================================\")\n",
    "    print('Dataframe kurtosis %s\\n')\n",
    "    print(dataframe.kurt())\n",
    "    print(\"=====================================\")\n",
    "\n",
    "#create a function to normalize characters from a dataset's column in Spanish\n",
    "def normalize_characters(df, column):\n",
    "    df[column] = df[column].str.normalize('NFKD').str.encode('ascii', errors='ignore').str.decode('utf-8')\n",
    "    df[column] = df[column].str.lower()\n",
    "    df[column] = df[column].str.replace('á', 'a')\n",
    "    df[column] = df[column].str.replace('é', 'e')\n",
    "    df[column] = df[column].str.replace('í', 'i')\n",
    "    df[column] = df[column].str.replace('ó', 'o')\n",
    "    df[column] = df[column].str.replace('ú', 'u')\n",
    "    df[column] = df[column].str.replace('ñ', 'n')\n",
    "    df[column] = df[column].str.replace('ü', 'u')\n",
    "    df[column] = df[column].str.replace('ç', 'c')\n",
    "    df[column] = df[column].str.replace('(', '')\n",
    "    df[column] = df[column].str.replace(')', '')\n",
    "    df[column] = df[column].str.replace('\\'', '')\n",
    "    df[column] = df[column].str.replace('´', '')\n",
    "    df[column] = df[column].str.replace('`', '')\n",
    "    df[column] = df[column].str.replace('’', '')\n",
    "    return df.head(2)\n",
    "\n",
    "#create function to change detypes in64 to int32 in a df\n",
    "def change_dtypes(df):\n",
    "    for col in df.columns:\n",
    "        if df[col].dtype == 'int64':\n",
    "            df[col] = df[col].astype('int32')\n",
    "        elif df[col].dtype == 'float64':\n",
    "            df[col] = df[col].astype('float32')\n",
    "    return df.head(2)\n",
    "\n",
    "def outlier_function(df, col_name):\n",
    "    \"\"\" this function detects first and third quartile and interquartile range for a given column of a dataframe\n",
    "    then calculates upper and lower limits to determine outliers conservatively\n",
    "    returns the number of lower and uper limit and number of outliers respectively\"\"\"\n",
    "    first_quartile = np.percentile(np.array(df[col_name].tolist()), 25)\n",
    "    third_quartile = np.percentile(np.array(df[col_name].tolist()), 75)\n",
    "    IQR = third_quartile - first_quartile\n",
    "                        \n",
    "    upper_limit = third_quartile+(3*IQR)\n",
    "    lower_limit = first_quartile-(3*IQR)\n",
    "    outlier_count = 0\n",
    "                    \n",
    "    for value in df[col_name].tolist():\n",
    "        if (value < lower_limit) | (value > upper_limit):\n",
    "            outlier_count +=1\n",
    "        else:\n",
    "            pass\n",
    "    return lower_limit, upper_limit, outlier_count"
   ]
  },
  {
   "cell_type": "code",
   "execution_count": 3,
   "id": "8e28e941",
   "metadata": {},
   "outputs": [],
   "source": [
    "#show all print outputs when using a function\n",
    "from IPython.core.interactiveshell import InteractiveShell\n",
    "InteractiveShell.ast_node_interactivity = \"all\"\n",
    "\n",
    "#display all columns\n",
    "pd.set_option('display.max_columns', None)\n"
   ]
  },
  {
   "attachments": {},
   "cell_type": "markdown",
   "id": "1ebce254",
   "metadata": {},
   "source": [
    "# Importing previous dataset with outliers"
   ]
  },
  {
   "cell_type": "code",
   "execution_count": 4,
   "id": "3dad7faa",
   "metadata": {},
   "outputs": [],
   "source": [
    "#point to the folder where the data is stored\n",
    "os.chdir(r\"C:\\Users\\pedro\\datathon\")\n",
    "\n",
    "# Loading combined_mod dataset\n",
    "train_consolidated = pd.read_csv('train_consolidated_with_outliers_and_pop.csv')\n",
    "sample_submission = pd.read_csv('submission_for_outliers_220223_with_pop.csv')"
   ]
  },
  {
   "cell_type": "code",
   "execution_count": 5,
   "id": "1741c3d4",
   "metadata": {},
   "outputs": [],
   "source": [
    "#put the same order for the columns in train_consolidated and sample_submission\n",
    "train_consolidated = train_consolidated[sample_submission.columns]\n"
   ]
  },
  {
   "cell_type": "code",
   "execution_count": 6,
   "id": "33d3bd9e",
   "metadata": {},
   "outputs": [
    {
     "data": {
      "text/plain": [
       "PipeId                                          0\n",
       "Incidence                                       0\n",
       "Province                                        0\n",
       "Town                                            0\n",
       "YearBuilt                                       0\n",
       "Diameter                                        0\n",
       "Length                                          0\n",
       "Pressure                                        0\n",
       "NumConnections                                  0\n",
       "NumConnectionsUnder                             0\n",
       "BoolBridle                                      0\n",
       "aspect                                          0\n",
       "Relative_Thickness                              0\n",
       "pipe_area                                       0\n",
       "Total_Connections                               0\n",
       "area_connection                                 0\n",
       "connection_bool                                 0\n",
       "gas_natural                                     0\n",
       "Material_Acrylonitrile-Butadiene-Styrene        0\n",
       "Material_Copper                                 0\n",
       "Material_Fiberglass-Reinforced Plastic          0\n",
       "Material_Polyethylene                           0\n",
       "Material_Polypropylene                          0\n",
       "Diameter2                                       0\n",
       "Length2                                         0\n",
       "Pressure2                                       0\n",
       "Average yearly temperature (°C)                 0\n",
       "Min. Temperature (°C)                           0\n",
       "Max. Temperature (°C)                           0\n",
       "Yearly Rainfall (mm)                            0\n",
       "Average year Humidity (%)                       0\n",
       "Rainy days per year (days)                      0\n",
       "Yearly Sun Hours (hours)                        0\n",
       "No_Inspections                              18685\n",
       "average_severity_pipe                       18685\n",
       "Average_MonthsLastRev                           0\n",
       "pipe_inspected_frequently                       0\n",
       "No_Previous_Incidences                          0\n",
       "No_Previous_Severity_High                       0\n",
       "No_Previous_Severity_Medium                     0\n",
       "No_Previous_Severity_Low                        0\n",
       "InspectionYear                                  0\n",
       "MonthsLastRev                                   0\n",
       "relative_risk                               18685\n",
       "preventive_maintenance_rate                 18685\n",
       "Probability_rate                            18685\n",
       "Age_pipe_at_inspection                          0\n",
       "Area (sq km)                                    0\n",
       "Population                                      0\n",
       "Population density (persons/sqkm)               0\n",
       "dtype: int64"
      ]
     },
     "execution_count": 6,
     "metadata": {},
     "output_type": "execute_result"
    }
   ],
   "source": [
    "#check nulls in sample_submission \n",
    "sample_submission.isnull().sum()\n"
   ]
  },
  {
   "attachments": {},
   "cell_type": "markdown",
   "id": "9bdde928",
   "metadata": {},
   "source": [
    "## Filling Nulls in sample submission file"
   ]
  },
  {
   "cell_type": "code",
   "execution_count": 7,
   "id": "57919d87",
   "metadata": {},
   "outputs": [],
   "source": [
    "#fill the nulls in No_Inspectio with 1\n",
    "sample_submission['No_Inspections'].fillna(1, inplace=True)\n"
   ]
  },
  {
   "cell_type": "code",
   "execution_count": 8,
   "id": "aa54f40e",
   "metadata": {},
   "outputs": [],
   "source": [
    "#fill the nulls in average_severity_pipe  with the mean of the column\n",
    "sample_submission['average_severity_pipe'].fillna(sample_submission['average_severity_pipe'].mean(), inplace=True)"
   ]
  },
  {
   "cell_type": "code",
   "execution_count": 9,
   "id": "185eb7d4",
   "metadata": {},
   "outputs": [],
   "source": [
    "#fill nulls in relative_risk by multyplying No_Incidences by  average_severity_pipe\n",
    "sample_submission['relative_risk'] = sample_submission['No_Previous_Incidences'] * sample_submission['average_severity_pipe']"
   ]
  },
  {
   "cell_type": "code",
   "execution_count": 10,
   "id": "9cc0244d",
   "metadata": {},
   "outputs": [],
   "source": [
    "#fill nulls in preventive_maintenance_rate by dividing relative_risk by No_Inspections\n",
    "sample_submission['preventive_maintenance_rate'] = sample_submission['relative_risk'] / sample_submission['No_Inspections']"
   ]
  },
  {
   "cell_type": "code",
   "execution_count": 11,
   "id": "c5afcef1",
   "metadata": {},
   "outputs": [],
   "source": [
    "#fill the nulls in Probability_rate with No_Previous_Incidences divided by No_Inspections\n",
    "sample_submission['Probability_rate'] = sample_submission['No_Previous_Incidences'] / sample_submission['No_Inspections']\n"
   ]
  },
  {
   "attachments": {},
   "cell_type": "markdown",
   "id": "6f6c0c23",
   "metadata": {},
   "source": [
    "## Dtypes in sample submission file"
   ]
  },
  {
   "cell_type": "code",
   "execution_count": 12,
   "id": "4733a9f5",
   "metadata": {},
   "outputs": [],
   "source": [
    "#sample_submission.dtypes"
   ]
  },
  {
   "cell_type": "code",
   "execution_count": 13,
   "id": "0a6c839c",
   "metadata": {},
   "outputs": [],
   "source": [
    "#drop Province, Town from sample_submission\n",
    "sample_submission.drop(['Province', 'Town','Area (sq km)', 'Population'], axis=1, inplace=True)"
   ]
  },
  {
   "cell_type": "markdown",
   "id": "23b415b9",
   "metadata": {},
   "source": [
    "## Standarizing data in sample submission"
   ]
  },
  {
   "cell_type": "code",
   "execution_count": 14,
   "id": "904c99a2",
   "metadata": {},
   "outputs": [
    {
     "data": {
      "text/html": [
       "<div>\n",
       "<style scoped>\n",
       "    .dataframe tbody tr th:only-of-type {\n",
       "        vertical-align: middle;\n",
       "    }\n",
       "\n",
       "    .dataframe tbody tr th {\n",
       "        vertical-align: top;\n",
       "    }\n",
       "\n",
       "    .dataframe thead th {\n",
       "        text-align: right;\n",
       "    }\n",
       "</style>\n",
       "<table border=\"1\" class=\"dataframe\">\n",
       "  <thead>\n",
       "    <tr style=\"text-align: right;\">\n",
       "      <th></th>\n",
       "      <th>PipeId</th>\n",
       "      <th>Incidence</th>\n",
       "      <th>YearBuilt</th>\n",
       "      <th>Diameter</th>\n",
       "      <th>Length</th>\n",
       "      <th>Pressure</th>\n",
       "      <th>NumConnections</th>\n",
       "      <th>NumConnectionsUnder</th>\n",
       "      <th>BoolBridle</th>\n",
       "      <th>aspect</th>\n",
       "      <th>Relative_Thickness</th>\n",
       "      <th>pipe_area</th>\n",
       "      <th>Total_Connections</th>\n",
       "      <th>area_connection</th>\n",
       "      <th>connection_bool</th>\n",
       "      <th>gas_natural</th>\n",
       "      <th>Material_Acrylonitrile-Butadiene-Styrene</th>\n",
       "      <th>Material_Copper</th>\n",
       "      <th>Material_Fiberglass-Reinforced Plastic</th>\n",
       "      <th>Material_Polyethylene</th>\n",
       "      <th>Material_Polypropylene</th>\n",
       "      <th>Diameter2</th>\n",
       "      <th>Length2</th>\n",
       "      <th>Pressure2</th>\n",
       "      <th>Average yearly temperature (°C)</th>\n",
       "      <th>Min. Temperature (°C)</th>\n",
       "      <th>Max. Temperature (°C)</th>\n",
       "      <th>Yearly Rainfall (mm)</th>\n",
       "      <th>Average year Humidity (%)</th>\n",
       "      <th>Rainy days per year (days)</th>\n",
       "      <th>Yearly Sun Hours (hours)</th>\n",
       "      <th>No_Inspections</th>\n",
       "      <th>average_severity_pipe</th>\n",
       "      <th>Average_MonthsLastRev</th>\n",
       "      <th>pipe_inspected_frequently</th>\n",
       "      <th>No_Previous_Incidences</th>\n",
       "      <th>No_Previous_Severity_High</th>\n",
       "      <th>No_Previous_Severity_Medium</th>\n",
       "      <th>No_Previous_Severity_Low</th>\n",
       "      <th>InspectionYear</th>\n",
       "      <th>MonthsLastRev</th>\n",
       "      <th>relative_risk</th>\n",
       "      <th>preventive_maintenance_rate</th>\n",
       "      <th>Probability_rate</th>\n",
       "      <th>Age_pipe_at_inspection</th>\n",
       "      <th>Population density (persons/sqkm)</th>\n",
       "    </tr>\n",
       "  </thead>\n",
       "  <tbody>\n",
       "    <tr>\n",
       "      <th>0</th>\n",
       "      <td>446859944</td>\n",
       "      <td>0</td>\n",
       "      <td>2012.00</td>\n",
       "      <td>0.11</td>\n",
       "      <td>44.29</td>\n",
       "      <td>0.15</td>\n",
       "      <td>0</td>\n",
       "      <td>0</td>\n",
       "      <td>0</td>\n",
       "      <td>60.39</td>\n",
       "      <td>0.73</td>\n",
       "      <td>15.30</td>\n",
       "      <td>0</td>\n",
       "      <td>0.00</td>\n",
       "      <td>0</td>\n",
       "      <td>1</td>\n",
       "      <td>0</td>\n",
       "      <td>0</td>\n",
       "      <td>0</td>\n",
       "      <td>1</td>\n",
       "      <td>0</td>\n",
       "      <td>0.01</td>\n",
       "      <td>1961.25</td>\n",
       "      <td>0.02</td>\n",
       "      <td>17.62</td>\n",
       "      <td>6.60</td>\n",
       "      <td>30.80</td>\n",
       "      <td>427</td>\n",
       "      <td>0.64</td>\n",
       "      <td>46</td>\n",
       "      <td>113.20</td>\n",
       "      <td>5.00</td>\n",
       "      <td>4.00</td>\n",
       "      <td>20.75</td>\n",
       "      <td>1.00</td>\n",
       "      <td>0.00</td>\n",
       "      <td>0.00</td>\n",
       "      <td>0.00</td>\n",
       "      <td>0.00</td>\n",
       "      <td>2021.00</td>\n",
       "      <td>24.00</td>\n",
       "      <td>0.00</td>\n",
       "      <td>0.00</td>\n",
       "      <td>0.00</td>\n",
       "      <td>9.00</td>\n",
       "      <td>239.60</td>\n",
       "    </tr>\n",
       "  </tbody>\n",
       "</table>\n",
       "</div>"
      ],
      "text/plain": [
       "      PipeId  Incidence  YearBuilt  Diameter  Length  Pressure  \\\n",
       "0  446859944          0    2012.00      0.11   44.29      0.15   \n",
       "\n",
       "   NumConnections  NumConnectionsUnder  BoolBridle  aspect  \\\n",
       "0               0                    0           0   60.39   \n",
       "\n",
       "   Relative_Thickness  pipe_area  Total_Connections  area_connection  \\\n",
       "0                0.73      15.30                  0             0.00   \n",
       "\n",
       "   connection_bool  gas_natural  Material_Acrylonitrile-Butadiene-Styrene  \\\n",
       "0                0            1                                         0   \n",
       "\n",
       "   Material_Copper  Material_Fiberglass-Reinforced Plastic  \\\n",
       "0                0                                       0   \n",
       "\n",
       "   Material_Polyethylene  Material_Polypropylene  Diameter2  Length2  \\\n",
       "0                      1                       0       0.01  1961.25   \n",
       "\n",
       "   Pressure2  Average yearly temperature (°C)  Min. Temperature (°C)  \\\n",
       "0       0.02                            17.62                   6.60   \n",
       "\n",
       "   Max. Temperature (°C)  Yearly Rainfall (mm)  Average year Humidity (%)  \\\n",
       "0                  30.80                   427                       0.64   \n",
       "\n",
       "   Rainy days per year (days)  Yearly Sun Hours (hours)  No_Inspections  \\\n",
       "0                          46                    113.20            5.00   \n",
       "\n",
       "   average_severity_pipe  Average_MonthsLastRev  pipe_inspected_frequently  \\\n",
       "0                   4.00                  20.75                       1.00   \n",
       "\n",
       "   No_Previous_Incidences  No_Previous_Severity_High  \\\n",
       "0                    0.00                       0.00   \n",
       "\n",
       "   No_Previous_Severity_Medium  No_Previous_Severity_Low  InspectionYear  \\\n",
       "0                         0.00                      0.00         2021.00   \n",
       "\n",
       "   MonthsLastRev  relative_risk  preventive_maintenance_rate  \\\n",
       "0          24.00           0.00                         0.00   \n",
       "\n",
       "   Probability_rate  Age_pipe_at_inspection  Population density (persons/sqkm)  \n",
       "0              0.00                    9.00                             239.60  "
      ]
     },
     "execution_count": 14,
     "metadata": {},
     "output_type": "execute_result"
    }
   ],
   "source": [
    "sample_submission.head(1)"
   ]
  },
  {
   "cell_type": "code",
   "execution_count": 15,
   "id": "0e61ecb3",
   "metadata": {},
   "outputs": [
    {
     "data": {
      "text/plain": [
       "Index(['PipeId', 'Incidence', 'YearBuilt', 'Diameter', 'Length', 'Pressure',\n",
       "       'NumConnections', 'NumConnectionsUnder', 'BoolBridle', 'aspect',\n",
       "       'Relative_Thickness', 'pipe_area', 'Total_Connections',\n",
       "       'area_connection', 'connection_bool', 'gas_natural',\n",
       "       'Material_Acrylonitrile-Butadiene-Styrene', 'Material_Copper',\n",
       "       'Material_Fiberglass-Reinforced Plastic', 'Material_Polyethylene',\n",
       "       'Material_Polypropylene', 'Diameter2', 'Length2', 'Pressure2',\n",
       "       'Average yearly temperature (°C)', 'Min. Temperature (°C)',\n",
       "       'Max. Temperature (°C)', 'Yearly Rainfall (mm)',\n",
       "       'Average year Humidity (%)', 'Rainy days per year (days)',\n",
       "       'Yearly Sun Hours (hours)', 'No_Inspections', 'average_severity_pipe',\n",
       "       'Average_MonthsLastRev', 'pipe_inspected_frequently',\n",
       "       'No_Previous_Incidences', 'No_Previous_Severity_High',\n",
       "       'No_Previous_Severity_Medium', 'No_Previous_Severity_Low',\n",
       "       'InspectionYear', 'MonthsLastRev', 'relative_risk',\n",
       "       'preventive_maintenance_rate', 'Probability_rate',\n",
       "       'Age_pipe_at_inspection', 'Population density (persons/sqkm)'],\n",
       "      dtype='object')"
      ]
     },
     "execution_count": 15,
     "metadata": {},
     "output_type": "execute_result"
    }
   ],
   "source": [
    "sample_submission.columns"
   ]
  },
  {
   "cell_type": "code",
   "execution_count": 16,
   "id": "88fe0cc7",
   "metadata": {},
   "outputs": [],
   "source": [
    "#import min max scaler\n",
    "from sklearn.preprocessing import MinMaxScaler\n"
   ]
  },
  {
   "cell_type": "code",
   "execution_count": 17,
   "id": "0aac276c",
   "metadata": {},
   "outputs": [
    {
     "data": {
      "text/html": [
       "<div>\n",
       "<style scoped>\n",
       "    .dataframe tbody tr th:only-of-type {\n",
       "        vertical-align: middle;\n",
       "    }\n",
       "\n",
       "    .dataframe tbody tr th {\n",
       "        vertical-align: top;\n",
       "    }\n",
       "\n",
       "    .dataframe thead th {\n",
       "        text-align: right;\n",
       "    }\n",
       "</style>\n",
       "<table border=\"1\" class=\"dataframe\">\n",
       "  <thead>\n",
       "    <tr style=\"text-align: right;\">\n",
       "      <th></th>\n",
       "      <th>PipeId</th>\n",
       "      <th>Incidence</th>\n",
       "      <th>YearBuilt</th>\n",
       "      <th>Diameter</th>\n",
       "      <th>Length</th>\n",
       "      <th>Pressure</th>\n",
       "      <th>NumConnections</th>\n",
       "      <th>NumConnectionsUnder</th>\n",
       "      <th>BoolBridle</th>\n",
       "      <th>aspect</th>\n",
       "      <th>Relative_Thickness</th>\n",
       "      <th>pipe_area</th>\n",
       "      <th>Total_Connections</th>\n",
       "      <th>area_connection</th>\n",
       "      <th>connection_bool</th>\n",
       "      <th>gas_natural</th>\n",
       "      <th>Material_Acrylonitrile-Butadiene-Styrene</th>\n",
       "      <th>Material_Copper</th>\n",
       "      <th>Material_Fiberglass-Reinforced Plastic</th>\n",
       "      <th>Material_Polyethylene</th>\n",
       "      <th>Material_Polypropylene</th>\n",
       "      <th>Diameter2</th>\n",
       "      <th>Length2</th>\n",
       "      <th>Pressure2</th>\n",
       "      <th>Average yearly temperature (°C)</th>\n",
       "      <th>Min. Temperature (°C)</th>\n",
       "      <th>Max. Temperature (°C)</th>\n",
       "      <th>Yearly Rainfall (mm)</th>\n",
       "      <th>Average year Humidity (%)</th>\n",
       "      <th>Rainy days per year (days)</th>\n",
       "      <th>Yearly Sun Hours (hours)</th>\n",
       "      <th>No_Inspections</th>\n",
       "      <th>average_severity_pipe</th>\n",
       "      <th>Average_MonthsLastRev</th>\n",
       "      <th>pipe_inspected_frequently</th>\n",
       "      <th>No_Previous_Incidences</th>\n",
       "      <th>No_Previous_Severity_High</th>\n",
       "      <th>No_Previous_Severity_Medium</th>\n",
       "      <th>No_Previous_Severity_Low</th>\n",
       "      <th>InspectionYear</th>\n",
       "      <th>MonthsLastRev</th>\n",
       "      <th>relative_risk</th>\n",
       "      <th>preventive_maintenance_rate</th>\n",
       "      <th>Probability_rate</th>\n",
       "      <th>Age_pipe_at_inspection</th>\n",
       "      <th>Population density (persons/sqkm)</th>\n",
       "    </tr>\n",
       "  </thead>\n",
       "  <tbody>\n",
       "    <tr>\n",
       "      <th>0</th>\n",
       "      <td>446859944</td>\n",
       "      <td>0</td>\n",
       "      <td>0.82</td>\n",
       "      <td>0.17</td>\n",
       "      <td>0.01</td>\n",
       "      <td>0.00</td>\n",
       "      <td>0.00</td>\n",
       "      <td>0.00</td>\n",
       "      <td>0</td>\n",
       "      <td>0.00</td>\n",
       "      <td>0.03</td>\n",
       "      <td>0.00</td>\n",
       "      <td>0.00</td>\n",
       "      <td>0.00</td>\n",
       "      <td>0</td>\n",
       "      <td>1</td>\n",
       "      <td>0</td>\n",
       "      <td>0</td>\n",
       "      <td>0</td>\n",
       "      <td>1</td>\n",
       "      <td>0</td>\n",
       "      <td>0.03</td>\n",
       "      <td>0.00</td>\n",
       "      <td>0.00</td>\n",
       "      <td>0.86</td>\n",
       "      <td>0.77</td>\n",
       "      <td>0.64</td>\n",
       "      <td>0.15</td>\n",
       "      <td>0.38</td>\n",
       "      <td>0.20</td>\n",
       "      <td>0.83</td>\n",
       "      <td>0.36</td>\n",
       "      <td>1.00</td>\n",
       "      <td>0.21</td>\n",
       "      <td>1.00</td>\n",
       "      <td>0.00</td>\n",
       "      <td>0.00</td>\n",
       "      <td>0.00</td>\n",
       "      <td>0.00</td>\n",
       "      <td>0.00</td>\n",
       "      <td>0.23</td>\n",
       "      <td>0.00</td>\n",
       "      <td>0.00</td>\n",
       "      <td>0.00</td>\n",
       "      <td>0.17</td>\n",
       "      <td>0.28</td>\n",
       "    </tr>\n",
       "  </tbody>\n",
       "</table>\n",
       "</div>"
      ],
      "text/plain": [
       "      PipeId  Incidence  YearBuilt  Diameter  Length  Pressure  \\\n",
       "0  446859944          0       0.82      0.17    0.01      0.00   \n",
       "\n",
       "   NumConnections  NumConnectionsUnder  BoolBridle  aspect  \\\n",
       "0            0.00                 0.00           0    0.00   \n",
       "\n",
       "   Relative_Thickness  pipe_area  Total_Connections  area_connection  \\\n",
       "0                0.03       0.00               0.00             0.00   \n",
       "\n",
       "   connection_bool  gas_natural  Material_Acrylonitrile-Butadiene-Styrene  \\\n",
       "0                0            1                                         0   \n",
       "\n",
       "   Material_Copper  Material_Fiberglass-Reinforced Plastic  \\\n",
       "0                0                                       0   \n",
       "\n",
       "   Material_Polyethylene  Material_Polypropylene  Diameter2  Length2  \\\n",
       "0                      1                       0       0.03     0.00   \n",
       "\n",
       "   Pressure2  Average yearly temperature (°C)  Min. Temperature (°C)  \\\n",
       "0       0.00                             0.86                   0.77   \n",
       "\n",
       "   Max. Temperature (°C)  Yearly Rainfall (mm)  Average year Humidity (%)  \\\n",
       "0                   0.64                  0.15                       0.38   \n",
       "\n",
       "   Rainy days per year (days)  Yearly Sun Hours (hours)  No_Inspections  \\\n",
       "0                        0.20                      0.83            0.36   \n",
       "\n",
       "   average_severity_pipe  Average_MonthsLastRev  pipe_inspected_frequently  \\\n",
       "0                   1.00                   0.21                       1.00   \n",
       "\n",
       "   No_Previous_Incidences  No_Previous_Severity_High  \\\n",
       "0                    0.00                       0.00   \n",
       "\n",
       "   No_Previous_Severity_Medium  No_Previous_Severity_Low  InspectionYear  \\\n",
       "0                         0.00                      0.00            0.00   \n",
       "\n",
       "   MonthsLastRev  relative_risk  preventive_maintenance_rate  \\\n",
       "0           0.23           0.00                         0.00   \n",
       "\n",
       "   Probability_rate  Age_pipe_at_inspection  Population density (persons/sqkm)  \n",
       "0              0.00                    0.17                               0.28  "
      ]
     },
     "execution_count": 17,
     "metadata": {},
     "output_type": "execute_result"
    }
   ],
   "source": [
    "#Use minmax scaler to scale these columns in sample_submission: \n",
    "# 'YearBuilt', 'Diameter','Length', 'Pressure', 'NumConnections', 'NumConnectionsUnder', 'aspect', 'Relative_Thickness', 'pipe_area', 'Total_Connections', 'area_connection', 'Diameter2', 'Length2', 'Pressure2', 'Average yearly temperature (°C)', 'Min. Temperature (°C)', 'Max. Temperature (°C)', 'Yearly Rainfall (mm)', 'Average year Humidity (%)', 'Rainy days per year (days)', 'Yearly Sun Hours (hours)','No_Inspections', 'average_severity_pipe', 'Average_MonthsLastRev',\n",
    "#       'No_Previous_Incidences', 'relative_risk', 'preventive_maintenance_rate',\n",
    "#       'Probability_rate', 'No_Inspections', 'average_severity_pipe',\n",
    "#       'relative_risk', 'preventive_maintenance_rate', 'Probability_rate'\n",
    "\n",
    "scaler = MinMaxScaler()\n",
    "\n",
    "sample_submission[['YearBuilt', 'Diameter','Length', 'Pressure', 'NumConnections', 'NumConnectionsUnder', 'aspect', 'Relative_Thickness', 'pipe_area', 'Total_Connections', 'area_connection', 'Diameter2', 'Length2', 'Pressure2', 'Average yearly temperature (°C)', 'Min. Temperature (°C)', 'Max. Temperature (°C)', 'Yearly Rainfall (mm)', 'Average year Humidity (%)', 'Rainy days per year (days)', 'Yearly Sun Hours (hours)','No_Inspections', 'average_severity_pipe', 'Average_MonthsLastRev',\n",
    "       'No_Previous_Incidences', 'relative_risk', 'preventive_maintenance_rate',\n",
    "       'Probability_rate', 'No_Inspections', 'average_severity_pipe',\n",
    "       'relative_risk', 'preventive_maintenance_rate', 'Probability_rate', 'InspectionYear',  'MonthsLastRev','Age_pipe_at_inspection', 'Population density (persons/sqkm)']] = scaler.fit_transform(sample_submission[['YearBuilt', 'Diameter','Length', 'Pressure', 'NumConnections', 'NumConnectionsUnder', 'aspect', 'Relative_Thickness', 'pipe_area', 'Total_Connections', 'area_connection', 'Diameter2', 'Length2', 'Pressure2', 'Average yearly temperature (°C)', 'Min. Temperature (°C)', 'Max. Temperature (°C)', 'Yearly Rainfall (mm)', 'Average year Humidity (%)', 'Rainy days per year (days)', 'Yearly Sun Hours (hours)','No_Inspections', 'average_severity_pipe', 'Average_MonthsLastRev',\n",
    "       'No_Previous_Incidences', 'relative_risk', 'preventive_maintenance_rate',\n",
    "       'Probability_rate', 'No_Inspections', 'average_severity_pipe',\n",
    "       'relative_risk', 'preventive_maintenance_rate', 'Probability_rate', 'InspectionYear', 'MonthsLastRev','Age_pipe_at_inspection', 'Population density (persons/sqkm)']])\n",
    "sample_submission.head(1)"
   ]
  },
  {
   "attachments": {},
   "cell_type": "markdown",
   "id": "ac99dd92",
   "metadata": {},
   "source": [
    "## Correlation matrix for sample_submission"
   ]
  },
  {
   "cell_type": "code",
   "execution_count": 18,
   "id": "f22a1dc4",
   "metadata": {},
   "outputs": [],
   "source": [
    "#grpah correlation matrix in sample_submission\n",
    "#corr_matrix = sample_submission.corr().abs()\n",
    "#upper = corr_matrix.where(np.triu(np.ones(corr_matrix.shape), k=1).astype(np.bool))\n",
    "#to_drop = [column for column in upper.columns if any(upper[column] > 0.99)]\n",
    "#to_drop\n"
   ]
  },
  {
   "cell_type": "code",
   "execution_count": 19,
   "id": "bbfced2f",
   "metadata": {},
   "outputs": [],
   "source": [
    "#sample_submission.corr()['Incidence'].sort_values(ascending=False)\n"
   ]
  },
  {
   "cell_type": "code",
   "execution_count": 20,
   "id": "cf2ac6d6",
   "metadata": {},
   "outputs": [],
   "source": [
    "#DROP Total_Connections IN sample_submission\n",
    "sample_submission.drop(['Total_Connections'], axis=1, inplace=True)"
   ]
  },
  {
   "cell_type": "code",
   "execution_count": 21,
   "id": "4ba35cca",
   "metadata": {},
   "outputs": [],
   "source": [
    "#plt.figure(figsize=(20, 20))\n",
    "#sns.heatmap(corr_matrix, annot=True, cmap='coolwarm', mask=np.triu(corr_matrix, k=1))\n",
    "#plt.title('Correlation matrix for sample_submission')\n",
    "#plt.show()\n"
   ]
  },
  {
   "attachments": {},
   "cell_type": "markdown",
   "id": "11f1b120",
   "metadata": {},
   "source": [
    "We are not going to drop any variables as in now just for testing purposes\n"
   ]
  },
  {
   "attachments": {},
   "cell_type": "markdown",
   "id": "750657f4",
   "metadata": {},
   "source": [
    "# Checking train file\n",
    "## Nulls in train file"
   ]
  },
  {
   "cell_type": "code",
   "execution_count": 22,
   "id": "084cd7d7",
   "metadata": {},
   "outputs": [],
   "source": [
    "#checking nulls in train_consolidated\n",
    "#train_consolidated.isnull().sum()"
   ]
  },
  {
   "attachments": {},
   "cell_type": "markdown",
   "id": "a27b6c2d",
   "metadata": {},
   "source": [
    "## Dtypes in train_consolidated"
   ]
  },
  {
   "cell_type": "code",
   "execution_count": 23,
   "id": "9fcdcbc6",
   "metadata": {},
   "outputs": [],
   "source": [
    "#train_consolidated.dtypes"
   ]
  },
  {
   "cell_type": "code",
   "execution_count": 24,
   "id": "a0f15828",
   "metadata": {},
   "outputs": [
    {
     "data": {
      "text/plain": [
       "Index(['PipeId', 'Incidence', 'Province', 'Town', 'YearBuilt', 'Diameter',\n",
       "       'Length', 'Pressure', 'NumConnections', 'NumConnectionsUnder',\n",
       "       'BoolBridle', 'aspect', 'Relative_Thickness', 'pipe_area',\n",
       "       'Total_Connections', 'area_connection', 'connection_bool',\n",
       "       'gas_natural', 'Material_Acrylonitrile-Butadiene-Styrene',\n",
       "       'Material_Copper', 'Material_Fiberglass-Reinforced Plastic',\n",
       "       'Material_Polyethylene', 'Material_Polypropylene', 'Diameter2',\n",
       "       'Length2', 'Pressure2', 'Average yearly temperature (°C)',\n",
       "       'Min. Temperature (°C)', 'Max. Temperature (°C)',\n",
       "       'Yearly Rainfall (mm)', 'Average year Humidity (%)',\n",
       "       'Rainy days per year (days)', 'Yearly Sun Hours (hours)',\n",
       "       'No_Inspections', 'average_severity_pipe', 'Average_MonthsLastRev',\n",
       "       'pipe_inspected_frequently', 'No_Previous_Incidences',\n",
       "       'No_Previous_Severity_High', 'No_Previous_Severity_Medium',\n",
       "       'No_Previous_Severity_Low', 'InspectionYear', 'MonthsLastRev',\n",
       "       'relative_risk', 'preventive_maintenance_rate', 'Probability_rate',\n",
       "       'Age_pipe_at_inspection', 'Area (sq km)', 'Population',\n",
       "       'Population density (persons/sqkm)'],\n",
       "      dtype='object')"
      ]
     },
     "execution_count": 24,
     "metadata": {},
     "output_type": "execute_result"
    }
   ],
   "source": [
    "train_consolidated.columns"
   ]
  },
  {
   "cell_type": "code",
   "execution_count": 25,
   "id": "8d995ffd",
   "metadata": {},
   "outputs": [],
   "source": [
    "#drop 'MaintenanceId', InspectionDate, Province, Province, 'Severity_high', 'Severity_medium', 'Severity_low'\n",
    "train_consolidated.drop(['Province', 'Town', 'Area (sq km)', 'Population'], axis=1, inplace=True)"
   ]
  },
  {
   "cell_type": "code",
   "execution_count": 26,
   "id": "a1c7e0eb",
   "metadata": {},
   "outputs": [
    {
     "data": {
      "text/plain": [
       "{'Total_Connections'}"
      ]
     },
     "execution_count": 26,
     "metadata": {},
     "output_type": "execute_result"
    }
   ],
   "source": [
    "#difference in columns between train_consolidated and sample_submission\n",
    "set(train_consolidated.columns) - set(sample_submission.columns)\n"
   ]
  },
  {
   "attachments": {},
   "cell_type": "markdown",
   "id": "e37f7957",
   "metadata": {},
   "source": [
    "## Standarizing"
   ]
  },
  {
   "cell_type": "code",
   "execution_count": 27,
   "id": "6be84d77",
   "metadata": {},
   "outputs": [
    {
     "data": {
      "text/html": [
       "<div>\n",
       "<style scoped>\n",
       "    .dataframe tbody tr th:only-of-type {\n",
       "        vertical-align: middle;\n",
       "    }\n",
       "\n",
       "    .dataframe tbody tr th {\n",
       "        vertical-align: top;\n",
       "    }\n",
       "\n",
       "    .dataframe thead th {\n",
       "        text-align: right;\n",
       "    }\n",
       "</style>\n",
       "<table border=\"1\" class=\"dataframe\">\n",
       "  <thead>\n",
       "    <tr style=\"text-align: right;\">\n",
       "      <th></th>\n",
       "      <th>PipeId</th>\n",
       "      <th>Incidence</th>\n",
       "      <th>YearBuilt</th>\n",
       "      <th>Diameter</th>\n",
       "      <th>Length</th>\n",
       "      <th>Pressure</th>\n",
       "      <th>NumConnections</th>\n",
       "      <th>NumConnectionsUnder</th>\n",
       "      <th>BoolBridle</th>\n",
       "      <th>aspect</th>\n",
       "      <th>Relative_Thickness</th>\n",
       "      <th>pipe_area</th>\n",
       "      <th>Total_Connections</th>\n",
       "      <th>area_connection</th>\n",
       "      <th>connection_bool</th>\n",
       "      <th>gas_natural</th>\n",
       "      <th>Material_Acrylonitrile-Butadiene-Styrene</th>\n",
       "      <th>Material_Copper</th>\n",
       "      <th>Material_Fiberglass-Reinforced Plastic</th>\n",
       "      <th>Material_Polyethylene</th>\n",
       "      <th>Material_Polypropylene</th>\n",
       "      <th>Diameter2</th>\n",
       "      <th>Length2</th>\n",
       "      <th>Pressure2</th>\n",
       "      <th>Average yearly temperature (°C)</th>\n",
       "      <th>Min. Temperature (°C)</th>\n",
       "      <th>Max. Temperature (°C)</th>\n",
       "      <th>Yearly Rainfall (mm)</th>\n",
       "      <th>Average year Humidity (%)</th>\n",
       "      <th>Rainy days per year (days)</th>\n",
       "      <th>Yearly Sun Hours (hours)</th>\n",
       "      <th>No_Inspections</th>\n",
       "      <th>average_severity_pipe</th>\n",
       "      <th>Average_MonthsLastRev</th>\n",
       "      <th>pipe_inspected_frequently</th>\n",
       "      <th>No_Previous_Incidences</th>\n",
       "      <th>No_Previous_Severity_High</th>\n",
       "      <th>No_Previous_Severity_Medium</th>\n",
       "      <th>No_Previous_Severity_Low</th>\n",
       "      <th>InspectionYear</th>\n",
       "      <th>MonthsLastRev</th>\n",
       "      <th>relative_risk</th>\n",
       "      <th>preventive_maintenance_rate</th>\n",
       "      <th>Probability_rate</th>\n",
       "      <th>Age_pipe_at_inspection</th>\n",
       "      <th>Population density (persons/sqkm)</th>\n",
       "    </tr>\n",
       "  </thead>\n",
       "  <tbody>\n",
       "    <tr>\n",
       "      <th>0</th>\n",
       "      <td>489616</td>\n",
       "      <td>0</td>\n",
       "      <td>0.84</td>\n",
       "      <td>0.09</td>\n",
       "      <td>0.00</td>\n",
       "      <td>0.00</td>\n",
       "      <td>0.00</td>\n",
       "      <td>0.00</td>\n",
       "      <td>0</td>\n",
       "      <td>0.00</td>\n",
       "      <td>0.01</td>\n",
       "      <td>0.00</td>\n",
       "      <td>0.00</td>\n",
       "      <td>0.00</td>\n",
       "      <td>0</td>\n",
       "      <td>1</td>\n",
       "      <td>0</td>\n",
       "      <td>0</td>\n",
       "      <td>0</td>\n",
       "      <td>1</td>\n",
       "      <td>0</td>\n",
       "      <td>0.01</td>\n",
       "      <td>0.00</td>\n",
       "      <td>0.00</td>\n",
       "      <td>0.59</td>\n",
       "      <td>0.26</td>\n",
       "      <td>0.86</td>\n",
       "      <td>0.16</td>\n",
       "      <td>0.00</td>\n",
       "      <td>0.28</td>\n",
       "      <td>0.71</td>\n",
       "      <td>0.00</td>\n",
       "      <td>1.00</td>\n",
       "      <td>0.16</td>\n",
       "      <td>1</td>\n",
       "      <td>0.00</td>\n",
       "      <td>0</td>\n",
       "      <td>0</td>\n",
       "      <td>0</td>\n",
       "      <td>0.30</td>\n",
       "      <td>0.12</td>\n",
       "      <td>0.00</td>\n",
       "      <td>0.00</td>\n",
       "      <td>0.00</td>\n",
       "      <td>0.02</td>\n",
       "      <td>0.02</td>\n",
       "    </tr>\n",
       "  </tbody>\n",
       "</table>\n",
       "</div>"
      ],
      "text/plain": [
       "   PipeId  Incidence  YearBuilt  Diameter  Length  Pressure  NumConnections  \\\n",
       "0  489616          0       0.84      0.09    0.00      0.00            0.00   \n",
       "\n",
       "   NumConnectionsUnder  BoolBridle  aspect  Relative_Thickness  pipe_area  \\\n",
       "0                 0.00           0    0.00                0.01       0.00   \n",
       "\n",
       "   Total_Connections  area_connection  connection_bool  gas_natural  \\\n",
       "0               0.00             0.00                0            1   \n",
       "\n",
       "   Material_Acrylonitrile-Butadiene-Styrene  Material_Copper  \\\n",
       "0                                         0                0   \n",
       "\n",
       "   Material_Fiberglass-Reinforced Plastic  Material_Polyethylene  \\\n",
       "0                                       0                      1   \n",
       "\n",
       "   Material_Polypropylene  Diameter2  Length2  Pressure2  \\\n",
       "0                       0       0.01     0.00       0.00   \n",
       "\n",
       "   Average yearly temperature (°C)  Min. Temperature (°C)  \\\n",
       "0                             0.59                   0.26   \n",
       "\n",
       "   Max. Temperature (°C)  Yearly Rainfall (mm)  Average year Humidity (%)  \\\n",
       "0                   0.86                  0.16                       0.00   \n",
       "\n",
       "   Rainy days per year (days)  Yearly Sun Hours (hours)  No_Inspections  \\\n",
       "0                        0.28                      0.71            0.00   \n",
       "\n",
       "   average_severity_pipe  Average_MonthsLastRev  pipe_inspected_frequently  \\\n",
       "0                   1.00                   0.16                          1   \n",
       "\n",
       "   No_Previous_Incidences  No_Previous_Severity_High  \\\n",
       "0                    0.00                          0   \n",
       "\n",
       "   No_Previous_Severity_Medium  No_Previous_Severity_Low  InspectionYear  \\\n",
       "0                            0                         0            0.30   \n",
       "\n",
       "   MonthsLastRev  relative_risk  preventive_maintenance_rate  \\\n",
       "0           0.12           0.00                         0.00   \n",
       "\n",
       "   Probability_rate  Age_pipe_at_inspection  Population density (persons/sqkm)  \n",
       "0              0.00                    0.02                               0.02  "
      ]
     },
     "execution_count": 27,
     "metadata": {},
     "output_type": "execute_result"
    }
   ],
   "source": [
    "scaler = MinMaxScaler()\n",
    "\n",
    "train_consolidated[['YearBuilt', 'Diameter','Length', 'Pressure', 'NumConnections', 'NumConnectionsUnder', 'aspect', 'Relative_Thickness', 'pipe_area', 'Total_Connections', 'area_connection', 'Diameter2', 'Length2', 'Pressure2', 'Average yearly temperature (°C)', 'Min. Temperature (°C)', 'Max. Temperature (°C)', 'Yearly Rainfall (mm)', 'Average year Humidity (%)', 'Rainy days per year (days)', 'Yearly Sun Hours (hours)','No_Inspections', 'average_severity_pipe', 'Average_MonthsLastRev',\n",
    "       'No_Previous_Incidences', 'relative_risk', 'preventive_maintenance_rate',\n",
    "       'Probability_rate', 'No_Inspections', 'average_severity_pipe',\n",
    "       'relative_risk', 'preventive_maintenance_rate', 'Probability_rate', 'InspectionYear',  'MonthsLastRev','Age_pipe_at_inspection', 'Population density (persons/sqkm)']] = scaler.fit_transform(train_consolidated[['YearBuilt', 'Diameter','Length', 'Pressure', 'NumConnections', 'NumConnectionsUnder', 'aspect', 'Relative_Thickness', 'pipe_area', 'Total_Connections', 'area_connection', 'Diameter2', 'Length2', 'Pressure2', 'Average yearly temperature (°C)', 'Min. Temperature (°C)', 'Max. Temperature (°C)', 'Yearly Rainfall (mm)', 'Average year Humidity (%)', 'Rainy days per year (days)', 'Yearly Sun Hours (hours)','No_Inspections', 'average_severity_pipe', 'Average_MonthsLastRev',\n",
    "       'No_Previous_Incidences', 'relative_risk', 'preventive_maintenance_rate',\n",
    "       'Probability_rate', 'No_Inspections', 'average_severity_pipe',\n",
    "       'relative_risk', 'preventive_maintenance_rate', 'Probability_rate', 'InspectionYear', 'MonthsLastRev','Age_pipe_at_inspection', 'Population density (persons/sqkm)']])\n",
    "train_consolidated.head(1)"
   ]
  },
  {
   "cell_type": "code",
   "execution_count": 28,
   "id": "68fffff1",
   "metadata": {},
   "outputs": [],
   "source": [
    "#creating a subset for altering the dataset after initial EDA\n",
    "df_baseline = train_consolidated.copy()\n"
   ]
  },
  {
   "cell_type": "code",
   "execution_count": 29,
   "id": "faa8c5c7",
   "metadata": {},
   "outputs": [],
   "source": [
    "#df_baseline.head(1)"
   ]
  },
  {
   "cell_type": "code",
   "execution_count": 30,
   "id": "86211d89",
   "metadata": {},
   "outputs": [],
   "source": [
    "#count values for Incidence\n",
    "#df_baseline['Incidence'].value_counts()\n"
   ]
  },
  {
   "attachments": {},
   "cell_type": "markdown",
   "id": "ef46f5eb",
   "metadata": {},
   "source": [
    "# Correlation in df_baseline"
   ]
  },
  {
   "cell_type": "code",
   "execution_count": 31,
   "id": "bdbb27b4",
   "metadata": {},
   "outputs": [],
   "source": [
    "# Correlation matrix for df_baseline\n",
    "#corr_matrix = df_baseline.corr().abs()\n",
    "#upper = corr_matrix.where(np.triu(np.ones(corr_matrix.shape), k=1).astype(np.bool))\n",
    "#to_drop = [column for column in upper.columns if any(upper[column] > 0.99)]\n",
    "#to_drop\n"
   ]
  },
  {
   "cell_type": "code",
   "execution_count": 32,
   "id": "c394d32e",
   "metadata": {},
   "outputs": [],
   "source": [
    "#correlation numbers with target Incidence for Total_Connections', 'relative_risk', 'Probability_rate\n",
    "#df_baseline.corr()['Incidence'].sort_values(ascending=False)\n"
   ]
  },
  {
   "cell_type": "code",
   "execution_count": 33,
   "id": "0b3c55be",
   "metadata": {},
   "outputs": [],
   "source": [
    "#drop Total_Connections IN df_baseline\n",
    "df_baseline.drop(['Total_Connections'], axis=1, inplace=True)\n"
   ]
  },
  {
   "cell_type": "code",
   "execution_count": 34,
   "id": "4d3dca3d",
   "metadata": {},
   "outputs": [],
   "source": [
    "#plt.figure(figsize=(20, 20))\n",
    "#sns.heatmap(corr_matrix, annot=True, cmap='coolwarm', mask=np.triu(corr_matrix, k=1))\n",
    "#plt.title('Correlation matrix for df_baseline')\n",
    "#plt.show()"
   ]
  },
  {
   "attachments": {},
   "cell_type": "markdown",
   "id": "f642e281",
   "metadata": {},
   "source": [
    "# Approach 0: Running model with all df (best score no split)"
   ]
  },
  {
   "cell_type": "code",
   "execution_count": 35,
   "id": "38d79d51",
   "metadata": {},
   "outputs": [],
   "source": [
    "#rename df_baseline as x\n",
    "X = df_baseline.drop('Incidence', axis=1)\n",
    "y = df_baseline['Incidence']\n",
    "X_test = sample_submission.drop('Incidence', axis=1)\n",
    "y_test = sample_submission['Incidence'] "
   ]
  },
  {
   "attachments": {},
   "cell_type": "markdown",
   "id": "d961fba7",
   "metadata": {},
   "source": [
    "# Approach 1: Stratifying with undersampling\n"
   ]
  },
  {
   "cell_type": "markdown",
   "id": "3e0d1e24",
   "metadata": {},
   "source": [
    "#undersampling the dataset\n",
    "df_baseline_undersampling = df_baseline.groupby('Incidence').apply(lambda x: x.sample(df_baseline['Incidence'].value_counts().min(), random_state=42)).reset_index(drop=True)\n",
    "\n",
    "df_baseline_undersampling['Incidence'].value_counts()\n"
   ]
  },
  {
   "cell_type": "code",
   "execution_count": 36,
   "id": "1162c16f",
   "metadata": {},
   "outputs": [],
   "source": [
    "del train_consolidated"
   ]
  },
  {
   "attachments": {},
   "cell_type": "markdown",
   "id": "cf1abca0",
   "metadata": {},
   "source": [
    "# Approach 2 : SMOTE to tackle the unbalanced dataset problem"
   ]
  },
  {
   "cell_type": "markdown",
   "id": "e57968ab",
   "metadata": {},
   "source": [
    "#using SMOTE to balance the dataset creating a subset dataset with target y = 'Incidence' and removing Incidence','MonthsLastRev','InspectionDay','PipeId', 'MaintenanceId', 'InspectionYear', 'InspectionDate',  'Province', 'Town', 'YearBuilt' for x\n",
    "X = df_baseline.drop(['PipeId'], axis=1)\n",
    "y = df_baseline['Incidence']\n",
    "sm = SMOTE(random_state=42)\n",
    "X_res, y_res = sm.fit_resample(X, y)\n",
    "X_res.shape,y_res.shape\n",
    "\n",
    "#create a pandas dataframe with the new balanced dataset\n",
    "df_baseline_balanced = pd.DataFrame(X_res, columns=X.columns)\n",
    "df_baseline_balanced['Incidence'] = y_res\n",
    "df_baseline_balanced.head()\n"
   ]
  },
  {
   "cell_type": "markdown",
   "id": "d2bec3ae",
   "metadata": {},
   "source": [
    "#using SMOTE to balance the dataset creating a subset dataset with target y = 'Incidence'\n",
    "X = df_baseline.drop('Incidence', axis=1)\n",
    "y = df_baseline['Incidence']\n",
    "X_train, X_test, y_train, y_test = train_test_split(X, y, test_size=0.2, random_state=42)\n",
    "sm = SMOTE(random_state=42)\n",
    "X_train, y_train = sm.fit_resample(X_train, y_train)\n",
    "\n",
    "#count values for Incidence in y_train\n",
    "y_train.value_counts()\n",
    "\n"
   ]
  },
  {
   "attachments": {},
   "cell_type": "markdown",
   "id": "4a4bc545",
   "metadata": {},
   "source": [
    "# Baseline approach\n"
   ]
  },
  {
   "attachments": {},
   "cell_type": "markdown",
   "id": "a0f2e5a9",
   "metadata": {},
   "source": [
    "## XGBoost\n"
   ]
  },
  {
   "cell_type": "code",
   "execution_count": 37,
   "id": "4c05fc30",
   "metadata": {},
   "outputs": [],
   "source": [
    "#import xgboost\n",
    "from xgboost import XGBClassifier\n",
    "import xgboost as xgb"
   ]
  },
  {
   "cell_type": "code",
   "execution_count": 38,
   "id": "f67bec71",
   "metadata": {},
   "outputs": [],
   "source": [
    "#create a validation set from the training set to check for overfitting stratyfying for y\n",
    "#X_train, X_val, y_train, y_val = train_test_split(df_baseline_balanced.drop(['Incidence'], axis=1), df_baseline_balanced['Incidence'], test_size=0.5, random_state=42)"
   ]
  },
  {
   "cell_type": "markdown",
   "id": "0b7f7dad",
   "metadata": {},
   "source": [
    "#xgboost using gpu on df_baseline\n",
    "xgb_model = XGBClassifier(n_estimators=1300, max_depth=17, learning_rate=0.56,\n",
    "    colsample_bytree=.0457, n_jobs=-1, tree_method='gpu_hist', gpu_id=0, random_state=42, verbosity=1,\n",
    "    eval_metric='auc', booster='gbtree', objective='binary:logistic', eta=.34,\n",
    "    reg_lambda=.68, reg_alpha=.68, scale_pos_weight=9,\n",
    "    predictor='gpu_predictor'\n",
    "    )\n",
    "\n",
    "#.77"
   ]
  },
  {
   "cell_type": "code",
   "execution_count": 130,
   "id": "597f9596",
   "metadata": {},
   "outputs": [],
   "source": [
    "#xgboost using gpu on df_baseline\n",
    "xgb_model = XGBClassifier(n_estimators=800, max_depth=17, learning_rate=0.56,\n",
    "    colsample_bytree=.0457, n_jobs=-1, gpu_id=0, random_state=42, verbosity=1,\n",
    "    eval_metric='auc', booster='gbtree', objective='binary:logistic', eta=.34,\n",
    "    reg_lambda=1, reg_alpha=1, scale_pos_weight=30, tree_method='gpu_hist',\n",
    "    predictor='gpu_predictor', num_parallel_tree=2, max_leaves=2**17\n",
    "    )"
   ]
  },
  {
   "cell_type": "code",
   "execution_count": 126,
   "id": "8e642adb",
   "metadata": {},
   "outputs": [],
   "source": [
    "#divide sample_submission into X and y\n",
    "X_val = sample_submission.drop('Incidence', axis=1)\n",
    "y_val = sample_submission['Incidence']\n",
    "\n",
    "\n"
   ]
  },
  {
   "cell_type": "code",
   "execution_count": 131,
   "id": "2c3f1c69",
   "metadata": {},
   "outputs": [
    {
     "name": "stdout",
     "output_type": "stream",
     "text": [
      "[0]\tvalidation_0-auc:0.77018\n",
      "[1]\tvalidation_0-auc:0.79961\n",
      "[2]\tvalidation_0-auc:0.80731\n",
      "[3]\tvalidation_0-auc:0.80550\n",
      "[4]\tvalidation_0-auc:0.80831\n",
      "[5]\tvalidation_0-auc:0.82719\n"
     ]
    },
    {
     "ename": "XGBoostError",
     "evalue": "[13:03:52] C:/buildkite-agent/builds/buildkite-windows-cpu-autoscaling-group-i-08de971ced8a8cdc6-1/xgboost/xgboost-ci-windows/src/tree/updater_gpu_hist.cu:783: Exception in gpu_hist: [13:03:52] c:\\buildkite-agent\\builds\\buildkite-windows-cpu-autoscaling-group-i-08de971ced8a8cdc6-1\\xgboost\\xgboost-ci-windows\\src\\data\\../common/device_helpers.cuh:431: Memory allocation error on worker 0: bad allocation: cudaErrorMemoryAllocation: out of memory\n- Free memory: 455997840\n- Requested memory: 1073741824\n\n",
     "output_type": "error",
     "traceback": [
      "\u001b[1;31m---------------------------------------------------------------------------\u001b[0m",
      "\u001b[1;31mXGBoostError\u001b[0m                              Traceback (most recent call last)",
      "Cell \u001b[1;32mIn[131], line 2\u001b[0m\n\u001b[0;32m      1\u001b[0m \u001b[39m#fit with early stopping\u001b[39;00m\n\u001b[1;32m----> 2\u001b[0m xgb_model\u001b[39m.\u001b[39;49mfit(X, y, early_stopping_rounds\u001b[39m=\u001b[39;49m\u001b[39m2.\u001b[39;49m, eval_set\u001b[39m=\u001b[39;49m[(X_val, y_val)], verbose\u001b[39m=\u001b[39;49m\u001b[39mTrue\u001b[39;49;00m)\n",
      "File \u001b[1;32mc:\\Users\\pedro\\anaconda3\\lib\\site-packages\\xgboost\\core.py:620\u001b[0m, in \u001b[0;36mrequire_keyword_args.<locals>.throw_if.<locals>.inner_f\u001b[1;34m(*args, **kwargs)\u001b[0m\n\u001b[0;32m    618\u001b[0m \u001b[39mfor\u001b[39;00m k, arg \u001b[39min\u001b[39;00m \u001b[39mzip\u001b[39m(sig\u001b[39m.\u001b[39mparameters, args):\n\u001b[0;32m    619\u001b[0m     kwargs[k] \u001b[39m=\u001b[39m arg\n\u001b[1;32m--> 620\u001b[0m \u001b[39mreturn\u001b[39;00m func(\u001b[39m*\u001b[39m\u001b[39m*\u001b[39mkwargs)\n",
      "File \u001b[1;32mc:\\Users\\pedro\\anaconda3\\lib\\site-packages\\xgboost\\sklearn.py:1490\u001b[0m, in \u001b[0;36mXGBClassifier.fit\u001b[1;34m(self, X, y, sample_weight, base_margin, eval_set, eval_metric, early_stopping_rounds, verbose, xgb_model, sample_weight_eval_set, base_margin_eval_set, feature_weights, callbacks)\u001b[0m\n\u001b[0;32m   1462\u001b[0m (\n\u001b[0;32m   1463\u001b[0m     model,\n\u001b[0;32m   1464\u001b[0m     metric,\n\u001b[1;32m   (...)\u001b[0m\n\u001b[0;32m   1469\u001b[0m     xgb_model, eval_metric, params, early_stopping_rounds, callbacks\n\u001b[0;32m   1470\u001b[0m )\n\u001b[0;32m   1471\u001b[0m train_dmatrix, evals \u001b[39m=\u001b[39m _wrap_evaluation_matrices(\n\u001b[0;32m   1472\u001b[0m     missing\u001b[39m=\u001b[39m\u001b[39mself\u001b[39m\u001b[39m.\u001b[39mmissing,\n\u001b[0;32m   1473\u001b[0m     X\u001b[39m=\u001b[39mX,\n\u001b[1;32m   (...)\u001b[0m\n\u001b[0;32m   1487\u001b[0m     feature_types\u001b[39m=\u001b[39m\u001b[39mself\u001b[39m\u001b[39m.\u001b[39mfeature_types,\n\u001b[0;32m   1488\u001b[0m )\n\u001b[1;32m-> 1490\u001b[0m \u001b[39mself\u001b[39m\u001b[39m.\u001b[39m_Booster \u001b[39m=\u001b[39m train(\n\u001b[0;32m   1491\u001b[0m     params,\n\u001b[0;32m   1492\u001b[0m     train_dmatrix,\n\u001b[0;32m   1493\u001b[0m     \u001b[39mself\u001b[39;49m\u001b[39m.\u001b[39;49mget_num_boosting_rounds(),\n\u001b[0;32m   1494\u001b[0m     evals\u001b[39m=\u001b[39;49mevals,\n\u001b[0;32m   1495\u001b[0m     early_stopping_rounds\u001b[39m=\u001b[39;49mearly_stopping_rounds,\n\u001b[0;32m   1496\u001b[0m     evals_result\u001b[39m=\u001b[39;49mevals_result,\n\u001b[0;32m   1497\u001b[0m     obj\u001b[39m=\u001b[39;49mobj,\n\u001b[0;32m   1498\u001b[0m     custom_metric\u001b[39m=\u001b[39;49mmetric,\n\u001b[0;32m   1499\u001b[0m     verbose_eval\u001b[39m=\u001b[39;49mverbose,\n\u001b[0;32m   1500\u001b[0m     xgb_model\u001b[39m=\u001b[39;49mmodel,\n\u001b[0;32m   1501\u001b[0m     callbacks\u001b[39m=\u001b[39;49mcallbacks,\n\u001b[0;32m   1502\u001b[0m )\n\u001b[0;32m   1504\u001b[0m \u001b[39mif\u001b[39;00m \u001b[39mnot\u001b[39;00m callable(\u001b[39mself\u001b[39m\u001b[39m.\u001b[39mobjective):\n\u001b[0;32m   1505\u001b[0m     \u001b[39mself\u001b[39m\u001b[39m.\u001b[39mobjective \u001b[39m=\u001b[39m params[\u001b[39m\"\u001b[39m\u001b[39mobjective\u001b[39m\u001b[39m\"\u001b[39m]\n",
      "File \u001b[1;32mc:\\Users\\pedro\\anaconda3\\lib\\site-packages\\xgboost\\core.py:620\u001b[0m, in \u001b[0;36mrequire_keyword_args.<locals>.throw_if.<locals>.inner_f\u001b[1;34m(*args, **kwargs)\u001b[0m\n\u001b[0;32m    618\u001b[0m \u001b[39mfor\u001b[39;00m k, arg \u001b[39min\u001b[39;00m \u001b[39mzip\u001b[39m(sig\u001b[39m.\u001b[39mparameters, args):\n\u001b[0;32m    619\u001b[0m     kwargs[k] \u001b[39m=\u001b[39m arg\n\u001b[1;32m--> 620\u001b[0m \u001b[39mreturn\u001b[39;00m func(\u001b[39m*\u001b[39m\u001b[39m*\u001b[39mkwargs)\n",
      "File \u001b[1;32mc:\\Users\\pedro\\anaconda3\\lib\\site-packages\\xgboost\\training.py:185\u001b[0m, in \u001b[0;36mtrain\u001b[1;34m(params, dtrain, num_boost_round, evals, obj, feval, maximize, early_stopping_rounds, evals_result, verbose_eval, xgb_model, callbacks, custom_metric)\u001b[0m\n\u001b[0;32m    183\u001b[0m \u001b[39mif\u001b[39;00m cb_container\u001b[39m.\u001b[39mbefore_iteration(bst, i, dtrain, evals):\n\u001b[0;32m    184\u001b[0m     \u001b[39mbreak\u001b[39;00m\n\u001b[1;32m--> 185\u001b[0m bst\u001b[39m.\u001b[39;49mupdate(dtrain, i, obj)\n\u001b[0;32m    186\u001b[0m \u001b[39mif\u001b[39;00m cb_container\u001b[39m.\u001b[39mafter_iteration(bst, i, dtrain, evals):\n\u001b[0;32m    187\u001b[0m     \u001b[39mbreak\u001b[39;00m\n",
      "File \u001b[1;32mc:\\Users\\pedro\\anaconda3\\lib\\site-packages\\xgboost\\core.py:1918\u001b[0m, in \u001b[0;36mBooster.update\u001b[1;34m(self, dtrain, iteration, fobj)\u001b[0m\n\u001b[0;32m   1915\u001b[0m \u001b[39mself\u001b[39m\u001b[39m.\u001b[39m_validate_dmatrix_features(dtrain)\n\u001b[0;32m   1917\u001b[0m \u001b[39mif\u001b[39;00m fobj \u001b[39mis\u001b[39;00m \u001b[39mNone\u001b[39;00m:\n\u001b[1;32m-> 1918\u001b[0m     _check_call(_LIB\u001b[39m.\u001b[39;49mXGBoosterUpdateOneIter(\u001b[39mself\u001b[39;49m\u001b[39m.\u001b[39;49mhandle,\n\u001b[0;32m   1919\u001b[0m                                             ctypes\u001b[39m.\u001b[39;49mc_int(iteration),\n\u001b[0;32m   1920\u001b[0m                                             dtrain\u001b[39m.\u001b[39;49mhandle))\n\u001b[0;32m   1921\u001b[0m \u001b[39melse\u001b[39;00m:\n\u001b[0;32m   1922\u001b[0m     pred \u001b[39m=\u001b[39m \u001b[39mself\u001b[39m\u001b[39m.\u001b[39mpredict(dtrain, output_margin\u001b[39m=\u001b[39m\u001b[39mTrue\u001b[39;00m, training\u001b[39m=\u001b[39m\u001b[39mTrue\u001b[39;00m)\n",
      "File \u001b[1;32mc:\\Users\\pedro\\anaconda3\\lib\\site-packages\\xgboost\\core.py:279\u001b[0m, in \u001b[0;36m_check_call\u001b[1;34m(ret)\u001b[0m\n\u001b[0;32m    268\u001b[0m \u001b[39m\u001b[39m\u001b[39m\"\"\"Check the return value of C API call\u001b[39;00m\n\u001b[0;32m    269\u001b[0m \n\u001b[0;32m    270\u001b[0m \u001b[39mThis function will raise exception when error occurs.\u001b[39;00m\n\u001b[1;32m   (...)\u001b[0m\n\u001b[0;32m    276\u001b[0m \u001b[39m    return value from API calls\u001b[39;00m\n\u001b[0;32m    277\u001b[0m \u001b[39m\"\"\"\u001b[39;00m\n\u001b[0;32m    278\u001b[0m \u001b[39mif\u001b[39;00m ret \u001b[39m!=\u001b[39m \u001b[39m0\u001b[39m:\n\u001b[1;32m--> 279\u001b[0m     \u001b[39mraise\u001b[39;00m XGBoostError(py_str(_LIB\u001b[39m.\u001b[39mXGBGetLastError()))\n",
      "\u001b[1;31mXGBoostError\u001b[0m: [13:03:52] C:/buildkite-agent/builds/buildkite-windows-cpu-autoscaling-group-i-08de971ced8a8cdc6-1/xgboost/xgboost-ci-windows/src/tree/updater_gpu_hist.cu:783: Exception in gpu_hist: [13:03:52] c:\\buildkite-agent\\builds\\buildkite-windows-cpu-autoscaling-group-i-08de971ced8a8cdc6-1\\xgboost\\xgboost-ci-windows\\src\\data\\../common/device_helpers.cuh:431: Memory allocation error on worker 0: bad allocation: cudaErrorMemoryAllocation: out of memory\n- Free memory: 455997840\n- Requested memory: 1073741824\n\n"
     ]
    }
   ],
   "source": [
    "#fit with early stopping\n",
    "xgb_model.fit(X, y, early_stopping_rounds=2., eval_set=[(X_val, y_val)], verbose=True)"
   ]
  },
  {
   "cell_type": "code",
   "execution_count": 84,
   "id": "af460ffa",
   "metadata": {},
   "outputs": [
    {
     "data": {
      "text/plain": [
       "[<matplotlib.lines.Line2D at 0x1f4cf0423a0>]"
      ]
     },
     "execution_count": 84,
     "metadata": {},
     "output_type": "execute_result"
    },
    {
     "data": {
      "text/plain": [
       "<matplotlib.legend.Legend at 0x1f4cf01bd30>"
      ]
     },
     "execution_count": 84,
     "metadata": {},
     "output_type": "execute_result"
    },
    {
     "data": {
      "text/plain": [
       "Text(0, 0.5, 'AUC')"
      ]
     },
     "execution_count": 84,
     "metadata": {},
     "output_type": "execute_result"
    },
    {
     "data": {
      "text/plain": [
       "Text(0.5, 1.0, 'XGBoost AUC')"
      ]
     },
     "execution_count": 84,
     "metadata": {},
     "output_type": "execute_result"
    },
    {
     "data": {
      "image/png": "[encoded data removed]",
      "text/plain": [
       "<Figure size 800x550 with 1 Axes>"
      ]
     },
     "metadata": {},
     "output_type": "display_data"
    }
   ],
   "source": [
    "#plot model performance\n",
    "results = xgb_model.evals_result()\n",
    "epochs = len(results['validation_0']['auc'])\n",
    "x_axis = range(0, epochs)\n",
    "# plot log loss\n",
    "fig, ax = plt.subplots()\n",
    "ax.plot(x_axis, results['validation_0']['auc'], label='Train')\n",
    "ax.legend()\n",
    "plt.ylabel('AUC')\n",
    "plt.title('XGBoost AUC')\n",
    "plt.show()\n",
    "\n"
   ]
  },
  {
   "cell_type": "code",
   "execution_count": null,
   "id": "b3bcf73b",
   "metadata": {},
   "outputs": [],
   "source": []
  },
  {
   "cell_type": "code",
   "execution_count": null,
   "id": "921b5072",
   "metadata": {},
   "outputs": [],
   "source": [
    "#accuracy score\n",
    "xgb_model.score(X, y)\n",
    "\n",
    "#predict on val set\n",
    "y_pred = xgb_model.predict(X)\n",
    "\n",
    "\n"
   ]
  },
  {
   "cell_type": "code",
   "execution_count": null,
   "id": "9ed8f1eb",
   "metadata": {},
   "outputs": [],
   "source": [
    "#import plot roc curve\n",
    "from sklearn.metrics import plot_roc_curve\n",
    "\n",
    "#import pplor tprecision recall curve\n",
    "from sklearn.metrics import plot_precision_recall_curve\n",
    "\n",
    "#import plot confusion matrix\n",
    "from sklearn.metrics import plot_confusion_matrix"
   ]
  },
  {
   "cell_type": "code",
   "execution_count": 86,
   "id": "1de8ead9",
   "metadata": {},
   "outputs": [
    {
     "data": {
      "text/plain": [
       "[<matplotlib.lines.Line2D at 0x1f4cf0034c0>]"
      ]
     },
     "execution_count": 86,
     "metadata": {},
     "output_type": "execute_result"
    },
    {
     "data": {
      "text/plain": [
       "<matplotlib.legend.Legend at 0x1f4cef55310>"
      ]
     },
     "execution_count": 86,
     "metadata": {},
     "output_type": "execute_result"
    },
    {
     "data": {
      "text/plain": [
       "Text(0, 0.5, 'AUC')"
      ]
     },
     "execution_count": 86,
     "metadata": {},
     "output_type": "execute_result"
    },
    {
     "data": {
      "text/plain": [
       "Text(0.5, 1.0, 'XGBoost AUC')"
      ]
     },
     "execution_count": 86,
     "metadata": {},
     "output_type": "execute_result"
    },
    {
     "data": {
      "image/png": "[encoded data removed]",
      "text/plain": [
       "<Figure size 800x550 with 1 Axes>"
      ]
     },
     "metadata": {},
     "output_type": "display_data"
    }
   ],
   "source": [
    "#plot training and validation AUC\n",
    "results = xgb_model.evals_result()\n",
    "epochs = len(results['validation_0']['auc'])\n",
    "x_axis = range(0, epochs)\n",
    "# plot log loss\n",
    "fig, ax = plt.subplots()\n",
    "ax.plot(x_axis, results['validation_0']['auc'], label='Train')\n",
    "ax.legend()\n",
    "plt.ylabel('AUC')\n",
    "plt.title('XGBoost AUC')\n",
    "plt.show()\n"
   ]
  },
  {
   "cell_type": "code",
   "execution_count": 87,
   "id": "11887d82",
   "metadata": {},
   "outputs": [],
   "source": [
    "#drop incidence in sample_submission\n",
    "sample_submission = sample_submission.drop('Incidence', axis=1)"
   ]
  },
  {
   "cell_type": "code",
   "execution_count": 88,
   "id": "24d096db",
   "metadata": {},
   "outputs": [],
   "source": [
    "#make predictions for submission using the model\n",
    "predictions = xgb_model.predict_proba(sample_submission)\n",
    "predictions = predictions[:, 1]"
   ]
  },
  {
   "cell_type": "code",
   "execution_count": 89,
   "id": "164ef0b6",
   "metadata": {},
   "outputs": [
    {
     "data": {
      "text/html": [
       "<div>\n",
       "<style scoped>\n",
       "    .dataframe tbody tr th:only-of-type {\n",
       "        vertical-align: middle;\n",
       "    }\n",
       "\n",
       "    .dataframe tbody tr th {\n",
       "        vertical-align: top;\n",
       "    }\n",
       "\n",
       "    .dataframe thead th {\n",
       "        text-align: right;\n",
       "    }\n",
       "</style>\n",
       "<table border=\"1\" class=\"dataframe\">\n",
       "  <thead>\n",
       "    <tr style=\"text-align: right;\">\n",
       "      <th></th>\n",
       "      <th>PipeId</th>\n",
       "      <th>YearBuilt</th>\n",
       "      <th>Diameter</th>\n",
       "      <th>Length</th>\n",
       "      <th>Pressure</th>\n",
       "      <th>NumConnections</th>\n",
       "      <th>NumConnectionsUnder</th>\n",
       "      <th>BoolBridle</th>\n",
       "      <th>aspect</th>\n",
       "      <th>Relative_Thickness</th>\n",
       "      <th>pipe_area</th>\n",
       "      <th>area_connection</th>\n",
       "      <th>connection_bool</th>\n",
       "      <th>gas_natural</th>\n",
       "      <th>Material_Acrylonitrile-Butadiene-Styrene</th>\n",
       "      <th>Material_Copper</th>\n",
       "      <th>Material_Fiberglass-Reinforced Plastic</th>\n",
       "      <th>Material_Polyethylene</th>\n",
       "      <th>Material_Polypropylene</th>\n",
       "      <th>Diameter2</th>\n",
       "      <th>Length2</th>\n",
       "      <th>Pressure2</th>\n",
       "      <th>Average yearly temperature (°C)</th>\n",
       "      <th>Min. Temperature (°C)</th>\n",
       "      <th>Max. Temperature (°C)</th>\n",
       "      <th>Yearly Rainfall (mm)</th>\n",
       "      <th>Average year Humidity (%)</th>\n",
       "      <th>Rainy days per year (days)</th>\n",
       "      <th>Yearly Sun Hours (hours)</th>\n",
       "      <th>No_Inspections</th>\n",
       "      <th>average_severity_pipe</th>\n",
       "      <th>Average_MonthsLastRev</th>\n",
       "      <th>pipe_inspected_frequently</th>\n",
       "      <th>No_Previous_Incidences</th>\n",
       "      <th>No_Previous_Severity_High</th>\n",
       "      <th>No_Previous_Severity_Medium</th>\n",
       "      <th>No_Previous_Severity_Low</th>\n",
       "      <th>InspectionYear</th>\n",
       "      <th>MonthsLastRev</th>\n",
       "      <th>relative_risk</th>\n",
       "      <th>preventive_maintenance_rate</th>\n",
       "      <th>Probability_rate</th>\n",
       "      <th>Age_pipe_at_inspection</th>\n",
       "      <th>Population density (persons/sqkm)</th>\n",
       "      <th>Incidence</th>\n",
       "    </tr>\n",
       "  </thead>\n",
       "  <tbody>\n",
       "    <tr>\n",
       "      <th>0</th>\n",
       "      <td>446859944</td>\n",
       "      <td>0.82</td>\n",
       "      <td>0.17</td>\n",
       "      <td>0.01</td>\n",
       "      <td>0.00</td>\n",
       "      <td>0.00</td>\n",
       "      <td>0.00</td>\n",
       "      <td>0</td>\n",
       "      <td>0.00</td>\n",
       "      <td>0.03</td>\n",
       "      <td>0.00</td>\n",
       "      <td>0.00</td>\n",
       "      <td>0</td>\n",
       "      <td>1</td>\n",
       "      <td>0</td>\n",
       "      <td>0</td>\n",
       "      <td>0</td>\n",
       "      <td>1</td>\n",
       "      <td>0</td>\n",
       "      <td>0.03</td>\n",
       "      <td>0.00</td>\n",
       "      <td>0.00</td>\n",
       "      <td>0.86</td>\n",
       "      <td>0.77</td>\n",
       "      <td>0.64</td>\n",
       "      <td>0.15</td>\n",
       "      <td>0.38</td>\n",
       "      <td>0.20</td>\n",
       "      <td>0.83</td>\n",
       "      <td>0.36</td>\n",
       "      <td>1.00</td>\n",
       "      <td>0.21</td>\n",
       "      <td>1.00</td>\n",
       "      <td>0.00</td>\n",
       "      <td>0.00</td>\n",
       "      <td>0.00</td>\n",
       "      <td>0.00</td>\n",
       "      <td>0.00</td>\n",
       "      <td>0.23</td>\n",
       "      <td>0.00</td>\n",
       "      <td>0.00</td>\n",
       "      <td>0.00</td>\n",
       "      <td>0.17</td>\n",
       "      <td>0.28</td>\n",
       "      <td>0.00</td>\n",
       "    </tr>\n",
       "  </tbody>\n",
       "</table>\n",
       "</div>"
      ],
      "text/plain": [
       "      PipeId  YearBuilt  Diameter  Length  Pressure  NumConnections  \\\n",
       "0  446859944       0.82      0.17    0.01      0.00            0.00   \n",
       "\n",
       "   NumConnectionsUnder  BoolBridle  aspect  Relative_Thickness  pipe_area  \\\n",
       "0                 0.00           0    0.00                0.03       0.00   \n",
       "\n",
       "   area_connection  connection_bool  gas_natural  \\\n",
       "0             0.00                0            1   \n",
       "\n",
       "   Material_Acrylonitrile-Butadiene-Styrene  Material_Copper  \\\n",
       "0                                         0                0   \n",
       "\n",
       "   Material_Fiberglass-Reinforced Plastic  Material_Polyethylene  \\\n",
       "0                                       0                      1   \n",
       "\n",
       "   Material_Polypropylene  Diameter2  Length2  Pressure2  \\\n",
       "0                       0       0.03     0.00       0.00   \n",
       "\n",
       "   Average yearly temperature (°C)  Min. Temperature (°C)  \\\n",
       "0                             0.86                   0.77   \n",
       "\n",
       "   Max. Temperature (°C)  Yearly Rainfall (mm)  Average year Humidity (%)  \\\n",
       "0                   0.64                  0.15                       0.38   \n",
       "\n",
       "   Rainy days per year (days)  Yearly Sun Hours (hours)  No_Inspections  \\\n",
       "0                        0.20                      0.83            0.36   \n",
       "\n",
       "   average_severity_pipe  Average_MonthsLastRev  pipe_inspected_frequently  \\\n",
       "0                   1.00                   0.21                       1.00   \n",
       "\n",
       "   No_Previous_Incidences  No_Previous_Severity_High  \\\n",
       "0                    0.00                       0.00   \n",
       "\n",
       "   No_Previous_Severity_Medium  No_Previous_Severity_Low  InspectionYear  \\\n",
       "0                         0.00                      0.00            0.00   \n",
       "\n",
       "   MonthsLastRev  relative_risk  preventive_maintenance_rate  \\\n",
       "0           0.23           0.00                         0.00   \n",
       "\n",
       "   Probability_rate  Age_pipe_at_inspection  \\\n",
       "0              0.00                    0.17   \n",
       "\n",
       "   Population density (persons/sqkm)  Incidence  \n",
       "0                               0.28       0.00  "
      ]
     },
     "execution_count": 89,
     "metadata": {},
     "output_type": "execute_result"
    }
   ],
   "source": [
    "#add predictions to submission\n",
    "sample_submission ['Incidence'] = predictions\n",
    "\n",
    "#show submission\n",
    "sample_submission.head(1)"
   ]
  },
  {
   "cell_type": "code",
   "execution_count": 90,
   "id": "15d79269",
   "metadata": {},
   "outputs": [],
   "source": [
    "#drop all columns except PipeId and Incidence in submission2 creating kaggle_submission\n",
    "kaggle_submission = sample_submission.drop(['YearBuilt', 'Diameter', 'Length', 'Pressure',\n",
    "       'NumConnections', 'NumConnectionsUnder', 'BoolBridle', 'aspect',\n",
    "       'Relative_Thickness', 'pipe_area',\n",
    "       'area_connection', 'connection_bool', 'gas_natural',\n",
    "       'Material_Acrylonitrile-Butadiene-Styrene', 'Material_Copper',\n",
    "       'Material_Fiberglass-Reinforced Plastic', 'Material_Polyethylene',\n",
    "       'Material_Polypropylene', 'Diameter2', 'Length2', 'Pressure2',\n",
    "       'Average yearly temperature (°C)', 'Min. Temperature (°C)',\n",
    "       'Max. Temperature (°C)', 'Yearly Rainfall (mm)',\n",
    "       'Average year Humidity (%)', 'Rainy days per year (days)',\n",
    "       'Yearly Sun Hours (hours)', 'No_Inspections', 'average_severity_pipe',\n",
    "       'Average_MonthsLastRev', 'pipe_inspected_frequently',\n",
    "       'No_Previous_Incidences', 'No_Previous_Severity_High',\n",
    "       'No_Previous_Severity_Medium', 'No_Previous_Severity_Low',\n",
    "       'InspectionYear', 'MonthsLastRev', 'relative_risk',\n",
    "       'preventive_maintenance_rate', 'Probability_rate',\n",
    "       'Age_pipe_at_inspection','Population density (persons/sqkm)'], axis=1)\n"
   ]
  },
  {
   "cell_type": "code",
   "execution_count": 91,
   "id": "bf913433",
   "metadata": {},
   "outputs": [
    {
     "data": {
      "text/plain": [
       "<Figure size 1000x1000 with 0 Axes>"
      ]
     },
     "execution_count": 91,
     "metadata": {},
     "output_type": "execute_result"
    },
    {
     "data": {
      "text/plain": [
       "<AxesSubplot:xlabel='Incidence'>"
      ]
     },
     "execution_count": 91,
     "metadata": {},
     "output_type": "execute_result"
    },
    {
     "data": {
      "text/plain": [
       "Text(0.5, 1.0, 'Incidence distribution in kaggle_submission')"
      ]
     },
     "execution_count": 91,
     "metadata": {},
     "output_type": "execute_result"
    },
    {
     "data": {
      "image/png": "[encoded data removed]",
      "text/plain": [
       "<Figure size 1000x1000 with 1 Axes>"
      ]
     },
     "metadata": {},
     "output_type": "display_data"
    }
   ],
   "source": [
    "#plot violin plot of Incidence in kaggle_submission\n",
    "plt.figure(figsize=(10, 10))\n",
    "sns.violinplot(x='Incidence', data=kaggle_submission)\n",
    "plt.title('Incidence distribution in kaggle_submission')\n",
    "plt.show()\n"
   ]
  },
  {
   "cell_type": "code",
   "execution_count": 92,
   "id": "24289bde",
   "metadata": {},
   "outputs": [
    {
     "data": {
      "text/plain": [
       "0.00    277\n",
       "0.01     93\n",
       "0.00     88\n",
       "0.01     74\n",
       "0.00     73\n",
       "       ... \n",
       "0.00      1\n",
       "0.00      1\n",
       "0.00      1\n",
       "0.00      1\n",
       "0.00      1\n",
       "Name: Incidence, Length: 827649, dtype: int64"
      ]
     },
     "execution_count": 92,
     "metadata": {},
     "output_type": "execute_result"
    }
   ],
   "source": [
    "#show possible values for Incidence in kaggle_submission\n",
    "kaggle_submission['Incidence'].value_counts()"
   ]
  },
  {
   "cell_type": "code",
   "execution_count": 93,
   "id": "c9a46d03",
   "metadata": {},
   "outputs": [
    {
     "data": {
      "text/plain": [
       "PipeId     Incidence\n",
       "489780     0.00         1\n",
       "222691572  0.00         1\n",
       "222678889  0.05         1\n",
       "222681822  0.00         1\n",
       "222684960  0.02         1\n",
       "                       ..\n",
       "133579475  0.00         1\n",
       "133579482  0.00         1\n",
       "133579488  0.00         1\n",
       "133579495  0.00         1\n",
       "451995309  0.00         1\n",
       "Length: 909733, dtype: int64"
      ]
     },
     "execution_count": 93,
     "metadata": {},
     "output_type": "execute_result"
    }
   ],
   "source": [
    "kaggle_submission.value_counts()"
   ]
  },
  {
   "cell_type": "code",
   "execution_count": 94,
   "id": "6e2d9232",
   "metadata": {},
   "outputs": [
    {
     "data": {
      "text/html": [
       "<div>\n",
       "<style scoped>\n",
       "    .dataframe tbody tr th:only-of-type {\n",
       "        vertical-align: middle;\n",
       "    }\n",
       "\n",
       "    .dataframe tbody tr th {\n",
       "        vertical-align: top;\n",
       "    }\n",
       "\n",
       "    .dataframe thead th {\n",
       "        text-align: right;\n",
       "    }\n",
       "</style>\n",
       "<table border=\"1\" class=\"dataframe\">\n",
       "  <thead>\n",
       "    <tr style=\"text-align: right;\">\n",
       "      <th></th>\n",
       "      <th>PipeId</th>\n",
       "      <th>Incidence</th>\n",
       "    </tr>\n",
       "  </thead>\n",
       "  <tbody>\n",
       "    <tr>\n",
       "      <th>0</th>\n",
       "      <td>446859944</td>\n",
       "      <td>0.00</td>\n",
       "    </tr>\n",
       "    <tr>\n",
       "      <th>1</th>\n",
       "      <td>428124500</td>\n",
       "      <td>0.00</td>\n",
       "    </tr>\n",
       "    <tr>\n",
       "      <th>2</th>\n",
       "      <td>438428871</td>\n",
       "      <td>0.00</td>\n",
       "    </tr>\n",
       "    <tr>\n",
       "      <th>3</th>\n",
       "      <td>429034569</td>\n",
       "      <td>0.00</td>\n",
       "    </tr>\n",
       "    <tr>\n",
       "      <th>4</th>\n",
       "      <td>411184477</td>\n",
       "      <td>0.00</td>\n",
       "    </tr>\n",
       "    <tr>\n",
       "      <th>5</th>\n",
       "      <td>428837983</td>\n",
       "      <td>0.00</td>\n",
       "    </tr>\n",
       "    <tr>\n",
       "      <th>6</th>\n",
       "      <td>428837841</td>\n",
       "      <td>0.00</td>\n",
       "    </tr>\n",
       "    <tr>\n",
       "      <th>7</th>\n",
       "      <td>428838331</td>\n",
       "      <td>0.00</td>\n",
       "    </tr>\n",
       "    <tr>\n",
       "      <th>8</th>\n",
       "      <td>1200432</td>\n",
       "      <td>0.00</td>\n",
       "    </tr>\n",
       "    <tr>\n",
       "      <th>9</th>\n",
       "      <td>1200564</td>\n",
       "      <td>0.00</td>\n",
       "    </tr>\n",
       "  </tbody>\n",
       "</table>\n",
       "</div>"
      ],
      "text/plain": [
       "      PipeId  Incidence\n",
       "0  446859944       0.00\n",
       "1  428124500       0.00\n",
       "2  438428871       0.00\n",
       "3  429034569       0.00\n",
       "4  411184477       0.00\n",
       "5  428837983       0.00\n",
       "6  428837841       0.00\n",
       "7  428838331       0.00\n",
       "8    1200432       0.00\n",
       "9    1200564       0.00"
      ]
     },
     "execution_count": 94,
     "metadata": {},
     "output_type": "execute_result"
    }
   ],
   "source": [
    "#show kaggle_submission\n",
    "kaggle_submission.head(10)"
   ]
  },
  {
   "cell_type": "code",
   "execution_count": 95,
   "id": "f0d268fa",
   "metadata": {},
   "outputs": [
    {
     "data": {
      "text/plain": [
       "(909733, 2)"
      ]
     },
     "execution_count": 95,
     "metadata": {},
     "output_type": "execute_result"
    }
   ],
   "source": [
    "kaggle_submission.shape"
   ]
  },
  {
   "cell_type": "code",
   "execution_count": 96,
   "id": "4725b055",
   "metadata": {},
   "outputs": [
    {
     "data": {
      "text/html": [
       "<div>\n",
       "<style scoped>\n",
       "    .dataframe tbody tr th:only-of-type {\n",
       "        vertical-align: middle;\n",
       "    }\n",
       "\n",
       "    .dataframe tbody tr th {\n",
       "        vertical-align: top;\n",
       "    }\n",
       "\n",
       "    .dataframe thead th {\n",
       "        text-align: right;\n",
       "    }\n",
       "</style>\n",
       "<table border=\"1\" class=\"dataframe\">\n",
       "  <thead>\n",
       "    <tr style=\"text-align: right;\">\n",
       "      <th></th>\n",
       "      <th>PipeId</th>\n",
       "      <th>Incidence</th>\n",
       "    </tr>\n",
       "  </thead>\n",
       "  <tbody>\n",
       "    <tr>\n",
       "      <th>count</th>\n",
       "      <td>909733.00</td>\n",
       "      <td>909733.00</td>\n",
       "    </tr>\n",
       "    <tr>\n",
       "      <th>mean</th>\n",
       "      <td>183339236.40</td>\n",
       "      <td>0.02</td>\n",
       "    </tr>\n",
       "    <tr>\n",
       "      <th>std</th>\n",
       "      <td>119357207.58</td>\n",
       "      <td>0.08</td>\n",
       "    </tr>\n",
       "    <tr>\n",
       "      <th>min</th>\n",
       "      <td>489780.00</td>\n",
       "      <td>0.00</td>\n",
       "    </tr>\n",
       "    <tr>\n",
       "      <th>25%</th>\n",
       "      <td>51401213.00</td>\n",
       "      <td>0.00</td>\n",
       "    </tr>\n",
       "    <tr>\n",
       "      <th>50%</th>\n",
       "      <td>189522276.00</td>\n",
       "      <td>0.00</td>\n",
       "    </tr>\n",
       "    <tr>\n",
       "      <th>75%</th>\n",
       "      <td>286968491.00</td>\n",
       "      <td>0.00</td>\n",
       "    </tr>\n",
       "    <tr>\n",
       "      <th>max</th>\n",
       "      <td>451995309.00</td>\n",
       "      <td>1.00</td>\n",
       "    </tr>\n",
       "  </tbody>\n",
       "</table>\n",
       "</div>"
      ],
      "text/plain": [
       "            PipeId  Incidence\n",
       "count    909733.00  909733.00\n",
       "mean  183339236.40       0.02\n",
       "std   119357207.58       0.08\n",
       "min      489780.00       0.00\n",
       "25%    51401213.00       0.00\n",
       "50%   189522276.00       0.00\n",
       "75%   286968491.00       0.00\n",
       "max   451995309.00       1.00"
      ]
     },
     "execution_count": 96,
     "metadata": {},
     "output_type": "execute_result"
    }
   ],
   "source": [
    "kaggle_submission.describe()"
   ]
  },
  {
   "cell_type": "code",
   "execution_count": 69,
   "id": "9cf19970",
   "metadata": {},
   "outputs": [],
   "source": [
    "#export kaggle_submission to csv\n",
    "os.chdir(r\"C:\\Users\\pedro\\datathon\")\n",
    "\n",
    "kaggle_submission.to_csv('kaggle_submission_xgb_highly_tuned3.csv', index=False)"
   ]
  },
  {
   "cell_type": "code",
   "execution_count": null,
   "id": "cbc6c349",
   "metadata": {},
   "outputs": [],
   "source": []
  },
  {
   "cell_type": "code",
   "execution_count": null,
   "id": "7321bb23",
   "metadata": {},
   "outputs": [],
   "source": []
  },
  {
   "cell_type": "code",
   "execution_count": null,
   "id": "0538f986",
   "metadata": {},
   "outputs": [],
   "source": []
  },
  {
   "cell_type": "code",
   "execution_count": null,
   "id": "12403211",
   "metadata": {},
   "outputs": [],
   "source": []
  },
  {
   "cell_type": "code",
   "execution_count": null,
   "id": "0dbbb74d",
   "metadata": {},
   "outputs": [],
   "source": []
  },
  {
   "cell_type": "code",
   "execution_count": null,
   "id": "7027038a",
   "metadata": {},
   "outputs": [],
   "source": []
  },
  {
   "cell_type": "code",
   "execution_count": null,
   "id": "987681ec",
   "metadata": {},
   "outputs": [],
   "source": [
    "#implement early stopping\n",
    "eval_set = [(X, y)]     \n",
    "xgb_model.fit(X, y, early_stopping_rounds=20,  verbose=True)\n"
   ]
  },
  {
   "cell_type": "markdown",
   "id": "3e503a51",
   "metadata": {},
   "source": [
    "•\teta - [0.1, ]\n",
    "•\tgamma - [10^-3, 10^-1]\n",
    "•\tmax_depth - [10, 50]\n",
    "•\tmin_child_weight - [3, 10]\n",
    "•\tsubsample - [0.5, 1]\n",
    "•\tcolsample_bytree - [0.1, 1]\n",
    "•\tnum_parallel_tree - [1, 100]\n",
    "\n",
    "In a second layer of importance, I would include these two extra hyperparameters_\n",
    "\n",
    "•\tlambda - [0, 10] \n",
    "•\talpha - [0, 10]"
   ]
  },
  {
   "cell_type": "code",
   "execution_count": null,
   "id": "f5d09306",
   "metadata": {},
   "outputs": [],
   "source": [
    "\n"
   ]
  },
  {
   "cell_type": "code",
   "execution_count": null,
   "id": "513ad6ab",
   "metadata": {},
   "outputs": [],
   "source": [
    "#print best ntree limit\n",
    "print(\"Best ntree limit: \", xgb_model.best_ntree_limit)\n"
   ]
  },
  {
   "cell_type": "code",
   "execution_count": null,
   "id": "cdddc52f",
   "metadata": {},
   "outputs": [],
   "source": []
  },
  {
   "cell_type": "code",
   "execution_count": null,
   "id": "b8ce2586",
   "metadata": {},
   "outputs": [],
   "source": [
    "\n",
    "\n",
    "#predict on test set\n",
    "y_pred = xgb_model.predict(X_test)\n",
    "\n",
    "#predict on train set\n",
    "y_pred_train = xgb_model.predict(X)\n",
    "\n",
    "#accuracy score on train set\n",
    "accuracy_score(y, y_pred_train)\n",
    "\n",
    "#accuracy score on test set\n",
    "accuracy_score(y_test, y_pred)\n",
    "\n",
    "#confusion matrix on train set\n",
    "confusion_matrix(y, y_pred_train)\n",
    "\n",
    "#confusion matrix on test set\n",
    "confusion_matrix(y_test, y_pred)\n",
    "\n",
    "#classification report on train set\n",
    "print(classification_report(y, y_pred_train))\n",
    "\n",
    "#classification report on test set\n",
    "print(classification_report(y_test, y_pred))\n",
    "\n",
    "#plot feature importance\n",
    "xgb.plot_importance(xgb_model, max_num_features=20, importance_type='gain', height=0.5, grid=False, show_values=False, color='blue')\n",
    "\n"
   ]
  },
  {
   "cell_type": "code",
   "execution_count": null,
   "id": "612e6543",
   "metadata": {},
   "outputs": [],
   "source": [
    "xgb_model.fit(X, y)\n",
    "y_pred = xgb_model.predict(X_test)\n",
    "print('Accuracy: ', accuracy_score(y_test, y_pred))\n",
    "print('F1 score: ', f1_score(y_test, y_pred))\n",
    "print('Recall: ', recall_score(y_test, y_pred))\n",
    "print('Precision: ', precision_score(y_test, y_pred))\n",
    "print('Confusion matrix: ', confusion_matrix(y_test, y_pred))\n",
    "\n"
   ]
  },
  {
   "cell_type": "code",
   "execution_count": null,
   "id": "ea5294ac",
   "metadata": {},
   "outputs": [],
   "source": []
  },
  {
   "cell_type": "code",
   "execution_count": null,
   "id": "c9c1dabf",
   "metadata": {},
   "outputs": [],
   "source": []
  },
  {
   "cell_type": "code",
   "execution_count": null,
   "id": "ace13ac5",
   "metadata": {},
   "outputs": [],
   "source": []
  },
  {
   "cell_type": "code",
   "execution_count": null,
   "id": "4a9eb315",
   "metadata": {},
   "outputs": [],
   "source": []
  },
  {
   "cell_type": "code",
   "execution_count": null,
   "id": "daad382d",
   "metadata": {},
   "outputs": [],
   "source": [
    "Hi guys,\n",
    "\n",
    "\n",
    "Here is the list of hyperparameter to tune and an example of minimum and maximum values to test:\n",
    "\n",
    "\n"
   ]
  },
  {
   "cell_type": "code",
   "execution_count": null,
   "id": "2022a80a",
   "metadata": {},
   "outputs": [],
   "source": []
  },
  {
   "attachments": {},
   "cell_type": "markdown",
   "id": "d054e766",
   "metadata": {},
   "source": [
    "# Trying a model that overfits"
   ]
  },
  {
   "cell_type": "code",
   "execution_count": null,
   "id": "3926c9df",
   "metadata": {},
   "outputs": [],
   "source": [
    "#rfc and cross validation using GridSearchCV to find best parameters and validate with a validation set with InspectionYear 2018 and 2019\n",
    "rfc = RandomForestClassifier(random_state=42, n_jobs=-1, verbose=2, class_weight='balanced_subsample', n_estimators=400, max_features='auto', max_depth=8, criterion='gini', min_samples_split=1, min_samples_leaf=1)\n"
   ]
  },
  {
   "cell_type": "code",
   "execution_count": null,
   "id": "260b8692",
   "metadata": {},
   "outputs": [],
   "source": [
    "#import StratifiedKFold\n",
    "from sklearn.model_selection import StratifiedKFold\n"
   ]
  },
  {
   "cell_type": "code",
   "execution_count": null,
   "id": "446f6383",
   "metadata": {},
   "outputs": [],
   "source": [
    "#cross validation\n",
    "cv = StratifiedKFold(n_splits=3, shuffle=False, random_state=42)"
   ]
  },
  {
   "cell_type": "code",
   "execution_count": null,
   "id": "ef70d243",
   "metadata": {},
   "outputs": [],
   "source": [
    "#use stratified kfold to split the data into train and validation sets\n",
    "for train_index, val_index in cv.split(X, y):\n",
    "    X_train, X_val = X.iloc[train_index], X.iloc[val_index]\n",
    "    y_train, y_val = y.iloc[train_index], y.iloc[val_index]\n",
    "\n",
    "#fit the model\n",
    "rfc.fit(X_train, y_train)\n",
    "\n",
    "#predict on validation set\n",
    "y_pred = rfc.predict(X_val)\n",
    "\n",
    "#check accuracy score\n",
    "accuracy_score(y_val, y_pred)\n"
   ]
  },
  {
   "cell_type": "code",
   "execution_count": null,
   "id": "7f612c4a",
   "metadata": {},
   "outputs": [],
   "source": [
    "#for Diana's model"
   ]
  },
  {
   "cell_type": "code",
   "execution_count": null,
   "id": "3dea959f",
   "metadata": {},
   "outputs": [],
   "source": [
    "#gridsearchcv\n",
    "grid = GridSearchCV(estimator=rfc, cv=cv, scoring='roc_auc', verbose=2, n_jobs=-1)\n",
    "grid.fit(X, y)\n",
    "\n",
    "#best parameters\n",
    "grid.best_params_\n",
    "\n",
    "#best score\n",
    "grid.best_score_\n",
    "\n",
    "#best estimator\n",
    "grid.best_estimator_\n",
    "\n",
    "#predict on test set\n",
    "y_pred = grid.predict(X_test)\n"
   ]
  },
  {
   "cell_type": "code",
   "execution_count": null,
   "id": "2a9be844",
   "metadata": {},
   "outputs": [],
   "source": []
  },
  {
   "cell_type": "code",
   "execution_count": null,
   "id": "cadeed28",
   "metadata": {},
   "outputs": [],
   "source": []
  },
  {
   "cell_type": "code",
   "execution_count": null,
   "id": "466a586c",
   "metadata": {},
   "outputs": [],
   "source": [
    "rfc.fit(X, y)\n",
    "y_pred = rfc.predict(X_test)"
   ]
  },
  {
   "cell_type": "code",
   "execution_count": null,
   "id": "42e0bea7",
   "metadata": {},
   "outputs": [],
   "source": [
    "#use model to predict on test set\n",
    "predictions = rfc.predict_proba(X_test)\n",
    "predictions = predictions[:, 1]\n",
    "\n",
    "#show accuracy score\n",
    "print(accuracy_score(y_test, y_pred))"
   ]
  },
  {
   "cell_type": "code",
   "execution_count": null,
   "id": "638bb2bd",
   "metadata": {},
   "outputs": [],
   "source": [
    "#drop incidence in sample_submission\n",
    "sample_submission = sample_submission.drop('Incidence', axis=1)"
   ]
  },
  {
   "cell_type": "code",
   "execution_count": null,
   "id": "129af5df",
   "metadata": {},
   "outputs": [],
   "source": [
    "#make predictions for submission using the model\n",
    "predictions = rfc.predict_proba(sample_submission)\n",
    "predictions = predictions[:, 1]"
   ]
  },
  {
   "cell_type": "code",
   "execution_count": null,
   "id": "554eec42",
   "metadata": {},
   "outputs": [],
   "source": [
    "#add predictions to submission\n",
    "sample_submission ['Incidence'] = predictions\n",
    "\n",
    "#show submission\n",
    "sample_submission.head(1)"
   ]
  },
  {
   "cell_type": "code",
   "execution_count": null,
   "id": "b1aab2f0",
   "metadata": {},
   "outputs": [],
   "source": [
    "#drop all columns except PipeId and Incidence in submission2 creating kaggle_submission\n",
    "kaggle_submission = sample_submission.drop(['YearBuilt', 'Diameter', 'Length', 'Pressure',\n",
    "       'NumConnections', 'NumConnectionsUnder', 'BoolBridle', 'aspect',\n",
    "       'Relative_Thickness', 'pipe_area',\n",
    "       'area_connection', 'connection_bool', 'gas_natural',\n",
    "       'Material_Acrylonitrile-Butadiene-Styrene', 'Material_Copper',\n",
    "       'Material_Fiberglass-Reinforced Plastic', 'Material_Polyethylene',\n",
    "       'Material_Polypropylene', 'Diameter2', 'Length2', 'Pressure2',\n",
    "       'Average yearly temperature (°C)', 'Min. Temperature (°C)',\n",
    "       'Max. Temperature (°C)', 'Yearly Rainfall (mm)',\n",
    "       'Average year Humidity (%)', 'Rainy days per year (days)',\n",
    "       'Yearly Sun Hours (hours)', 'No_Inspections', 'average_severity_pipe',\n",
    "       'Average_MonthsLastRev', 'pipe_inspected_frequently',\n",
    "       'No_Previous_Incidences', 'No_Previous_Severity_High',\n",
    "       'No_Previous_Severity_Medium', 'No_Previous_Severity_Low',\n",
    "       'InspectionYear', 'MonthsLastRev', 'relative_risk',\n",
    "       'preventive_maintenance_rate', 'Probability_rate',\n",
    "       'Age_pipe_at_inspection','Population density (persons/sqkm)'], axis=1)\n"
   ]
  },
  {
   "cell_type": "code",
   "execution_count": null,
   "id": "deb107c5",
   "metadata": {},
   "outputs": [],
   "source": [
    "#show kaggle_submission\n",
    "kaggle_submission.head(10)"
   ]
  },
  {
   "cell_type": "code",
   "execution_count": null,
   "id": "771ba077",
   "metadata": {},
   "outputs": [],
   "source": [
    "kaggle_submission.shape"
   ]
  },
  {
   "cell_type": "code",
   "execution_count": null,
   "id": "a385960b",
   "metadata": {},
   "outputs": [],
   "source": [
    "#export kaggle_submission to csv\n",
    "os.chdir(r\"C:\\Users\\pedro\\datathon\")\n",
    "\n",
    "kaggle_submission.to_csv('kaggle_submission_rf8_400_minsampleleaf.csv', index=False)"
   ]
  },
  {
   "cell_type": "code",
   "execution_count": null,
   "id": "3bcb47a4",
   "metadata": {},
   "outputs": [],
   "source": []
  },
  {
   "cell_type": "code",
   "execution_count": null,
   "id": "7b04183c",
   "metadata": {},
   "outputs": [],
   "source": []
  },
  {
   "cell_type": "code",
   "execution_count": null,
   "id": "379fddf7",
   "metadata": {},
   "outputs": [],
   "source": []
  },
  {
   "cell_type": "code",
   "execution_count": null,
   "id": "f2af6452",
   "metadata": {},
   "outputs": [],
   "source": [
    "#random forest classifier with regularization and gridsearch to find the best parameters for the model\n",
    "rfc = RandomForestClassifier(random_state=42, n_jobs=-1, max_depth = 2, verbose=1, n_estimators=100, max_features='auto', min_samples_leaf=1, min_samples_split=2, class_weight='balanced' )\n",
    "rfc.fit(X_train, y_train)\n",
    "y_pred = rfc.predict(X_test)\n",
    "print(classification_report(y_test, y_pred))\n",
    "print(confusion_matrix(y_test, y_pred))\n",
    "print(accuracy_score(y_test, y_pred))\n",
    "\n",
    "#plot confusion matrix\n",
    "cm = confusion_matrix(y_test, y_pred)\n",
    "plt.figure(figsize=(10, 6))\n",
    "sns.heatmap(cm, annot=True, cmap='coolwarm')\n",
    "plt.title('Confusion Matrix')\n",
    "plt.show()"
   ]
  },
  {
   "cell_type": "code",
   "execution_count": null,
   "id": "22deedf5",
   "metadata": {},
   "outputs": [],
   "source": [
    "predictions = rfc.predict_proba(X_test)\n",
    "predictions = predictions[:, 1]\n",
    "\n",
    "#show accuracy score\n",
    "print(accuracy_score(y_test, y_pred))\n"
   ]
  },
  {
   "cell_type": "code",
   "execution_count": null,
   "id": "f9f9b4b3",
   "metadata": {},
   "outputs": [],
   "source": [
    "#show classification report\n",
    "print(classification_report(y_test, y_pred))"
   ]
  },
  {
   "cell_type": "code",
   "execution_count": null,
   "id": "b7cc1477",
   "metadata": {},
   "outputs": [],
   "source": [
    "#use model to predict on test set\n",
    "predictions = rfc.predict_proba(X_test)\n",
    "predictions = predictions[:, 1]\n",
    "\n",
    "#show accuracy score\n",
    "print(accuracy_score(y_test, y_pred))"
   ]
  },
  {
   "cell_type": "code",
   "execution_count": null,
   "id": "499ed4d9",
   "metadata": {},
   "outputs": [],
   "source": [
    "#count null in sample_submission\n",
    "sample_submission.isnull().sum()"
   ]
  },
  {
   "cell_type": "code",
   "execution_count": null,
   "id": "886743c2",
   "metadata": {},
   "outputs": [],
   "source": [
    "sample_submission.head(10)"
   ]
  },
  {
   "cell_type": "code",
   "execution_count": null,
   "id": "9a022371",
   "metadata": {},
   "outputs": [],
   "source": [
    "sample_submission.shape"
   ]
  },
  {
   "cell_type": "code",
   "execution_count": null,
   "id": "5c7973ab",
   "metadata": {},
   "outputs": [],
   "source": [
    "#drop incidence in sample_submission\n",
    "sample_submission = sample_submission.drop('Incidence', axis=1)"
   ]
  },
  {
   "cell_type": "code",
   "execution_count": null,
   "id": "7fe8a99e",
   "metadata": {},
   "outputs": [],
   "source": [
    "#make predictions for submission using the model\n",
    "predictions = rfc.predict_proba(sample_submission)\n",
    "predictions = predictions[:, 1]"
   ]
  },
  {
   "cell_type": "code",
   "execution_count": null,
   "id": "f9cfa498",
   "metadata": {},
   "outputs": [],
   "source": [
    "#add predictions to submission\n",
    "sample_submission ['Incidence'] = predictions\n",
    "\n",
    "#show submission\n",
    "sample_submission.head(1)\n"
   ]
  },
  {
   "cell_type": "code",
   "execution_count": null,
   "id": "5a55fe29",
   "metadata": {},
   "outputs": [],
   "source": [
    "sample_submission.columns"
   ]
  },
  {
   "cell_type": "code",
   "execution_count": null,
   "id": "1dc1da89",
   "metadata": {},
   "outputs": [],
   "source": [
    "#drop all columns except PipeId and Incidence in submission2 creating kaggle_submission\n",
    "kaggle_submission = sample_submission.drop(['Diameter', 'Length', 'Pressure', 'NumConnections', 'aspect',\n",
    "       'Relative_Thickness', 'area_connection', 'gas_natural',\n",
    "       'Material_Acrylonitrile-Butadiene-Styrene', 'Material_Copper',\n",
    "       'Material_Fiberglass-Reinforced Plastic', 'Material_Polyethylene',\n",
    "       'Material_Polypropylene', 'Yearly Sun Hours (hours)',\n",
    "       'Average_MonthsLastRev', 'MonthsLastRev', 'No_Inspections',\n",
    "       'No_Incidences_Total', 'Age_pipe_at_inspection',\n",
    "       'Population density (persons/sqkm)'], axis=1)\n"
   ]
  },
  {
   "cell_type": "code",
   "execution_count": null,
   "id": "638d73cd",
   "metadata": {},
   "outputs": [],
   "source": [
    "\n",
    "#show kaggle_submission\n",
    "kaggle_submission.head(10)\n"
   ]
  },
  {
   "cell_type": "code",
   "execution_count": null,
   "id": "b8b85cfe",
   "metadata": {},
   "outputs": [],
   "source": [
    "kaggle_submission.shape"
   ]
  },
  {
   "cell_type": "code",
   "execution_count": null,
   "id": "d6372270",
   "metadata": {},
   "outputs": [],
   "source": [
    "#export kaggle_submission to csv\n",
    "os.chdir(r\"C:\\Users\\pedro\\datathon\")\n",
    "\n",
    "kaggle_submission.to_csv('kaggle_submission_new_features_baseline.csv', index=False)\n"
   ]
  },
  {
   "cell_type": "code",
   "execution_count": null,
   "id": "418d9eb3",
   "metadata": {},
   "outputs": [],
   "source": []
  },
  {
   "attachments": {},
   "cell_type": "markdown",
   "id": "07dfa46f",
   "metadata": {},
   "source": [
    "# Lazypredict"
   ]
  },
  {
   "cell_type": "code",
   "execution_count": null,
   "id": "74d29fb1",
   "metadata": {},
   "outputs": [],
   "source": [
    "#using lazypredict to  find the best model to predict on the dataset\n",
    "from lazypredict.Supervised import LazyClassifier\n",
    "clf = LazyClassifier(verbose=1, ignore_warnings=False, custom_metric=None, predictions=True, random_state=42, n_jobs=-1)\n",
    "models, predictions = clf.fit(X_train, X_train, X_test, y_test)\n",
    "models\n"
   ]
  },
  {
   "cell_type": "code",
   "execution_count": null,
   "id": "e561a8fd",
   "metadata": {},
   "outputs": [],
   "source": []
  }
 ],
 "metadata": {
  "kernelspec": {
   "display_name": "base",
   "language": "python",
   "name": "python3"
  },
  "language_info": {
   "codemirror_mode": {
    "name": "ipython",
    "version": 3
   },
   "file_extension": ".py",
   "mimetype": "text/x-python",
   "name": "python",
   "nbconvert_exporter": "python",
   "pygments_lexer": "ipython3",
   "version": "3.9.13"
  },
  "vscode": {
   "interpreter": {
    "hash": "aea149784bd30735ce6bf75b9a5314843328adf2083b944f20623ef50c2ca00d"
   }
  }
 },
 "nbformat": 4,
 "nbformat_minor": 5
}
