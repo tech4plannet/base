{
 "cells": [
  {
   "attachments": {},
   "cell_type": "markdown",
   "id": "c6ba2d28",
   "metadata": {},
   "source": [
    "# Libraries used\n",
    "\n",
    "Running Kernel3.9.13 base anaconda"
   ]
  },
  {
   "attachments": {},
   "cell_type": "markdown",
   "id": "a47ff5b1",
   "metadata": {},
   "source": [
    "pip install squarify\n",
    "pip install yellowbrick\n",
    "pip install plotly\n",
    "pip install seaborn\n",
    "pip install lazypredict\n",
    "pip install pandas_profiling"
   ]
  },
  {
   "cell_type": "code",
   "execution_count": 3,
   "id": "869b5d85",
   "metadata": {},
   "outputs": [],
   "source": [
    "import pandas as pd\n",
    "import numpy as np\n",
    "import seaborn as sns  \n",
    "import matplotlib.pyplot as plt\n",
    "import plotly.io as pio\n",
    "import squarify #treemap\n",
    "import os\n",
    "import matplotlib\n",
    "import warnings\n",
    "\n",
    "#to enable the inline plotting\n",
    "%matplotlib inline \n",
    "\n",
    "import warnings\n",
    "warnings.filterwarnings('ignore')\n",
    "\n",
    "sns.set_style(\"darkgrid\")"
   ]
  },
  {
   "cell_type": "code",
   "execution_count": 4,
   "id": "f230c51a",
   "metadata": {},
   "outputs": [],
   "source": [
    "from sklearn.linear_model import LogisticRegression\n",
    "\n",
    "from sklearn.model_selection import cross_val_score\n",
    "from sklearn.model_selection import RepeatedStratifiedKFold\n",
    "from sklearn.model_selection import cross_val_score\n",
    "from sklearn.model_selection import train_test_split\n",
    "\n",
    "from sklearn.metrics import accuracy_score, confusion_matrix, classification_report\n",
    "from sklearn.metrics import classification_report\n",
    "\n",
    "from sklearn.naive_bayes import GaussianNB\n",
    "from sklearn.tree import DecisionTreeClassifier\n",
    "from sklearn.neighbors import KNeighborsClassifier\n",
    "\n",
    "from sklearn.ensemble import RandomForestClassifier\n",
    "from sklearn.ensemble import GradientBoostingClassifier\n",
    "\n",
    "from sklearn.preprocessing import StandardScaler\n",
    "\n",
    "\n",
    "from scipy.stats import normaltest\n",
    "\n",
    "from pandas_profiling import ProfileReport\n",
    "\n",
    "from yellowbrick.classifier import ROCAUC\n",
    "from yellowbrick.classifier import ClassPredictionError\n",
    "from yellowbrick.style.palettes import PALETTES, SEQUENCES, color_palette\n",
    "\n",
    "import lazypredict\n",
    "\n",
    "warnings.simplefilter(action='ignore', category=FutureWarning)"
   ]
  },
  {
   "cell_type": "markdown",
   "id": "d88a7d05",
   "metadata": {},
   "source": [
    "# 2. Data Collection and Understanding "
   ]
  },
  {
   "cell_type": "markdown",
   "id": "0b331027",
   "metadata": {},
   "source": [
    "## Network file"
   ]
  },
  {
   "cell_type": "markdown",
   "id": "931606e2",
   "metadata": {},
   "source": [
    "The network.csv file contains a static picture of the gas pipeline network. Every row corresponds to a pipe and has a unique PipeId identifier. The table has 1.446.529 pipes. \n",
    "\n",
    "The columns describe relevant features of each pipe. The complete list is: "
   ]
  },
  {
   "cell_type": "markdown",
   "id": "02c2859c",
   "metadata": {},
   "source": [
    "PipeId - unique identifier for the pipe \n",
    "\n",
    "Province - Spanish province where the pipe is located \n",
    "\n",
    "Town - Town or city where the pipe is located \n",
    "\n",
    "YearBuilt - Year in which the pipe was built and installed \n",
    "\n",
    "Material - Material in which the pipe is built \n",
    "\n",
    "GasType - Type of gas that runs through the pipe \n",
    "\n",
    "Diameter - diameter of the pipe \n",
    "\n",
    "Length - Length of the pipe \n",
    "\n",
    "Pressure - Pressure of the gas that runs through the pipe (bar) \n",
    "\n",
    "NumConnections - Number of connections (external). \n",
    "\n",
    "NumConnectionsUnder - Number of connections (internal and buried) \n",
    "\n",
    "BoolBridle  - Whether the pipe is bridled (True) or welded (False) "
   ]
  },
  {
   "cell_type": "markdown",
   "id": "2d409b09",
   "metadata": {},
   "source": [
    "## Inspection file"
   ]
  },
  {
   "cell_type": "markdown",
   "id": "5bc407aa",
   "metadata": {},
   "source": [
    "MaintenanceId - unique identifier for the inspection operation \n",
    "\n",
    "InspectionYear - year in which the inspection took place \n",
    "\n",
    "InspectionDate - date in which the inspection took place \n",
    "\n",
    "MonthsLastRev - number of months elapsed since the last previous inspection. \n",
    "\n",
    "Severity - Severity of the damage found (1: most severe, 3: least severe) \n",
    "\n",
    "Incidence - Boolean whether an incident was found on the revision (1) or not (0). "
   ]
  },
  {
   "attachments": {},
   "cell_type": "markdown",
   "id": "d7ed6752",
   "metadata": {},
   "source": [
    "# Merging datasets"
   ]
  },
  {
   "cell_type": "code",
   "execution_count": 6,
   "id": "57078a12",
   "metadata": {},
   "outputs": [],
   "source": [
    "#point to the folder where the data is stored\n",
    "os.chdir(r\"C:\\Users\\pedro\\datathon\")\n",
    "\n",
    "# Loading inspection data\n",
    "df_inspection = pd.read_csv('inspections.csv')\n",
    "\n",
    "# Loading network data\n",
    "df_network = pd.read_csv('network.csv')"
   ]
  },
  {
   "cell_type": "code",
   "execution_count": 7,
   "id": "4dcd926c",
   "metadata": {},
   "outputs": [],
   "source": [
    "#merge both dataframes\n",
    "\n",
    "df_combined = pd.merge(df_inspection, df_network, on=\"PipeId\")"
   ]
  },
  {
   "cell_type": "code",
   "execution_count": 5,
   "id": "a26aa127",
   "metadata": {},
   "outputs": [
    {
     "data": {
      "text/html": [
       "<div>\n",
       "<style scoped>\n",
       "    .dataframe tbody tr th:only-of-type {\n",
       "        vertical-align: middle;\n",
       "    }\n",
       "\n",
       "    .dataframe tbody tr th {\n",
       "        vertical-align: top;\n",
       "    }\n",
       "\n",
       "    .dataframe thead th {\n",
       "        text-align: right;\n",
       "    }\n",
       "</style>\n",
       "<table border=\"1\" class=\"dataframe\">\n",
       "  <thead>\n",
       "    <tr style=\"text-align: right;\">\n",
       "      <th></th>\n",
       "      <th>PipeId</th>\n",
       "      <th>MaintenanceId</th>\n",
       "      <th>InspectionYear</th>\n",
       "      <th>InspectionDate</th>\n",
       "      <th>MonthsLastRev</th>\n",
       "      <th>Severity</th>\n",
       "      <th>Incidence</th>\n",
       "      <th>Province</th>\n",
       "      <th>Town</th>\n",
       "      <th>YearBuilt</th>\n",
       "      <th>Material</th>\n",
       "      <th>GasType</th>\n",
       "      <th>Diameter</th>\n",
       "      <th>Length</th>\n",
       "      <th>Pressure</th>\n",
       "      <th>NumConnections</th>\n",
       "      <th>NumConnectionsUnder</th>\n",
       "      <th>BoolBridle</th>\n",
       "    </tr>\n",
       "  </thead>\n",
       "  <tbody>\n",
       "    <tr>\n",
       "      <th>0</th>\n",
       "      <td>189311802</td>\n",
       "      <td>ZRV-00001972</td>\n",
       "      <td>2010</td>\n",
       "      <td>2010-10-01</td>\n",
       "      <td>24</td>\n",
       "      <td>4</td>\n",
       "      <td>0</td>\n",
       "      <td>Barcelona</td>\n",
       "      <td>Sentmenat</td>\n",
       "      <td>2001</td>\n",
       "      <td>PE</td>\n",
       "      <td>Gas natural</td>\n",
       "      <td>160.0</td>\n",
       "      <td>117.831</td>\n",
       "      <td>4.0</td>\n",
       "      <td>0</td>\n",
       "      <td>0</td>\n",
       "      <td>False</td>\n",
       "    </tr>\n",
       "  </tbody>\n",
       "</table>\n",
       "</div>"
      ],
      "text/plain": [
       "      PipeId MaintenanceId  InspectionYear InspectionDate  MonthsLastRev  \\\n",
       "0  189311802  ZRV-00001972            2010     2010-10-01             24   \n",
       "\n",
       "   Severity  Incidence   Province       Town  YearBuilt Material      GasType  \\\n",
       "0         4          0  Barcelona  Sentmenat       2001       PE  Gas natural   \n",
       "\n",
       "   Diameter   Length  Pressure  NumConnections  NumConnectionsUnder  \\\n",
       "0     160.0  117.831       4.0               0                    0   \n",
       "\n",
       "   BoolBridle  \n",
       "0       False  "
      ]
     },
     "execution_count": 5,
     "metadata": {},
     "output_type": "execute_result"
    }
   ],
   "source": [
    "df_combined.head(1)"
   ]
  },
  {
   "cell_type": "code",
   "execution_count": 6,
   "id": "d98148f9",
   "metadata": {},
   "outputs": [],
   "source": [
    "#CExporting the combined data to csv file\n",
    "#df_combined.to_csv('df_pipes_combined.csv', index = False)\n",
    "#DOING AT THE END OF PIPELINE"
   ]
  },
  {
   "cell_type": "code",
   "execution_count": 8,
   "id": "c67ffbae",
   "metadata": {},
   "outputs": [],
   "source": [
    "#creating a subset for altering the dataset after initial EDA\n",
    "df_combined_mod = df_combined.copy()"
   ]
  },
  {
   "attachments": {},
   "cell_type": "markdown",
   "id": "177247cc",
   "metadata": {},
   "source": [
    "# Descriptive EDA on combined dataframe"
   ]
  },
  {
   "cell_type": "code",
   "execution_count": 9,
   "id": "3cae8354",
   "metadata": {},
   "outputs": [
    {
     "data": {
      "text/plain": [
       "count     6345344\n",
       "unique          2\n",
       "top         False\n",
       "freq      5967747\n",
       "Name: BoolBridle, dtype: object"
      ]
     },
     "execution_count": 9,
     "metadata": {},
     "output_type": "execute_result"
    }
   ],
   "source": [
    "df_combined['BoolBridle'].describe()"
   ]
  },
  {
   "cell_type": "code",
   "execution_count": 10,
   "id": "1c5644e3",
   "metadata": {},
   "outputs": [],
   "source": [
    "# Function for EDA. Using the display() function to have  well-formatted tables. We are mainly using pandas to explore the datasets\n",
    "\n",
    "def dataset_description(df_target):\n",
    "\n",
    "    print('This is the Dataset shape: %s\\n' % (df_target.shape, ))\n",
    "    print('Dataset columns: %s\\n' % df_target.columns)\n",
    "\n",
    "    print('\\nColumns description:\\n')\n",
    "    display(df_target.info())\n",
    "    display(df_target.describe())  # describe the dataset\n",
    "\n",
    "    print('\\nNull values:\\n')\n",
    "    display(df_target.isnull().sum())  # Identify null values"
   ]
  },
  {
   "cell_type": "code",
   "execution_count": 11,
   "id": "1f9dcd58",
   "metadata": {},
   "outputs": [
    {
     "name": "stdout",
     "output_type": "stream",
     "text": [
      "This is the Dataset shape: (6345344, 18)\n",
      "\n",
      "Dataset columns: Index(['PipeId', 'MaintenanceId', 'InspectionYear', 'InspectionDate',\n",
      "       'MonthsLastRev', 'Severity', 'Incidence', 'Province', 'Town',\n",
      "       'YearBuilt', 'Material', 'GasType', 'Diameter', 'Length', 'Pressure',\n",
      "       'NumConnections', 'NumConnectionsUnder', 'BoolBridle'],\n",
      "      dtype='object')\n",
      "\n",
      "\n",
      "Columns description:\n",
      "\n",
      "<class 'pandas.core.frame.DataFrame'>\n",
      "Int64Index: 6345344 entries, 0 to 6345343\n",
      "Data columns (total 18 columns):\n",
      " #   Column               Dtype  \n",
      "---  ------               -----  \n",
      " 0   PipeId               int64  \n",
      " 1   MaintenanceId        object \n",
      " 2   InspectionYear       int64  \n",
      " 3   InspectionDate       object \n",
      " 4   MonthsLastRev        int64  \n",
      " 5   Severity             int64  \n",
      " 6   Incidence            int64  \n",
      " 7   Province             object \n",
      " 8   Town                 object \n",
      " 9   YearBuilt            int64  \n",
      " 10  Material             object \n",
      " 11  GasType              object \n",
      " 12  Diameter             float64\n",
      " 13  Length               float64\n",
      " 14  Pressure             float64\n",
      " 15  NumConnections       int64  \n",
      " 16  NumConnectionsUnder  int64  \n",
      " 17  BoolBridle           bool   \n",
      "dtypes: bool(1), float64(3), int64(8), object(6)\n",
      "memory usage: 877.5+ MB\n"
     ]
    },
    {
     "data": {
      "text/plain": [
       "None"
      ]
     },
     "metadata": {},
     "output_type": "display_data"
    },
    {
     "data": {
      "text/html": [
       "<div>\n",
       "<style scoped>\n",
       "    .dataframe tbody tr th:only-of-type {\n",
       "        vertical-align: middle;\n",
       "    }\n",
       "\n",
       "    .dataframe tbody tr th {\n",
       "        vertical-align: top;\n",
       "    }\n",
       "\n",
       "    .dataframe thead th {\n",
       "        text-align: right;\n",
       "    }\n",
       "</style>\n",
       "<table border=\"1\" class=\"dataframe\">\n",
       "  <thead>\n",
       "    <tr style=\"text-align: right;\">\n",
       "      <th></th>\n",
       "      <th>PipeId</th>\n",
       "      <th>InspectionYear</th>\n",
       "      <th>MonthsLastRev</th>\n",
       "      <th>Severity</th>\n",
       "      <th>Incidence</th>\n",
       "      <th>YearBuilt</th>\n",
       "      <th>Diameter</th>\n",
       "      <th>Length</th>\n",
       "      <th>Pressure</th>\n",
       "      <th>NumConnections</th>\n",
       "      <th>NumConnectionsUnder</th>\n",
       "    </tr>\n",
       "  </thead>\n",
       "  <tbody>\n",
       "    <tr>\n",
       "      <th>count</th>\n",
       "      <td>6.345344e+06</td>\n",
       "      <td>6.345344e+06</td>\n",
       "      <td>6.345344e+06</td>\n",
       "      <td>6.345344e+06</td>\n",
       "      <td>6.345344e+06</td>\n",
       "      <td>6.345344e+06</td>\n",
       "      <td>6.345344e+06</td>\n",
       "      <td>6.345344e+06</td>\n",
       "      <td>6.345344e+06</td>\n",
       "      <td>6.345344e+06</td>\n",
       "      <td>6.345344e+06</td>\n",
       "    </tr>\n",
       "    <tr>\n",
       "      <th>mean</th>\n",
       "      <td>2.031281e+08</td>\n",
       "      <td>2.015609e+03</td>\n",
       "      <td>2.349061e+01</td>\n",
       "      <td>3.997426e+00</td>\n",
       "      <td>1.942842e-03</td>\n",
       "      <td>2.001037e+03</td>\n",
       "      <td>1.195482e+02</td>\n",
       "      <td>3.653018e+01</td>\n",
       "      <td>2.906349e+00</td>\n",
       "      <td>9.842453e-01</td>\n",
       "      <td>2.229982e-04</td>\n",
       "    </tr>\n",
       "    <tr>\n",
       "      <th>std</th>\n",
       "      <td>1.137699e+08</td>\n",
       "      <td>2.909342e+00</td>\n",
       "      <td>4.961511e+00</td>\n",
       "      <td>6.451558e-02</td>\n",
       "      <td>4.403484e-02</td>\n",
       "      <td>1.196869e+01</td>\n",
       "      <td>5.721421e+01</td>\n",
       "      <td>7.214106e+01</td>\n",
       "      <td>6.572514e+00</td>\n",
       "      <td>2.140921e+00</td>\n",
       "      <td>1.613866e-02</td>\n",
       "    </tr>\n",
       "    <tr>\n",
       "      <th>min</th>\n",
       "      <td>4.896160e+05</td>\n",
       "      <td>2.010000e+03</td>\n",
       "      <td>0.000000e+00</td>\n",
       "      <td>1.000000e+00</td>\n",
       "      <td>0.000000e+00</td>\n",
       "      <td>1.901000e+03</td>\n",
       "      <td>1.000000e+01</td>\n",
       "      <td>0.000000e+00</td>\n",
       "      <td>2.500000e-02</td>\n",
       "      <td>0.000000e+00</td>\n",
       "      <td>0.000000e+00</td>\n",
       "    </tr>\n",
       "    <tr>\n",
       "      <th>25%</th>\n",
       "      <td>1.335933e+08</td>\n",
       "      <td>2.013000e+03</td>\n",
       "      <td>2.300000e+01</td>\n",
       "      <td>4.000000e+00</td>\n",
       "      <td>0.000000e+00</td>\n",
       "      <td>1.997000e+03</td>\n",
       "      <td>9.000000e+01</td>\n",
       "      <td>4.005000e+00</td>\n",
       "      <td>1.000000e-01</td>\n",
       "      <td>0.000000e+00</td>\n",
       "      <td>0.000000e+00</td>\n",
       "    </tr>\n",
       "    <tr>\n",
       "      <th>50%</th>\n",
       "      <td>1.903213e+08</td>\n",
       "      <td>2.016000e+03</td>\n",
       "      <td>2.400000e+01</td>\n",
       "      <td>4.000000e+00</td>\n",
       "      <td>0.000000e+00</td>\n",
       "      <td>2.003000e+03</td>\n",
       "      <td>1.100000e+02</td>\n",
       "      <td>1.426200e+01</td>\n",
       "      <td>1.500000e-01</td>\n",
       "      <td>0.000000e+00</td>\n",
       "      <td>0.000000e+00</td>\n",
       "    </tr>\n",
       "    <tr>\n",
       "      <th>75%</th>\n",
       "      <td>2.981763e+08</td>\n",
       "      <td>2.018000e+03</td>\n",
       "      <td>2.400000e+01</td>\n",
       "      <td>4.000000e+00</td>\n",
       "      <td>0.000000e+00</td>\n",
       "      <td>2.008000e+03</td>\n",
       "      <td>1.600000e+02</td>\n",
       "      <td>4.460100e+01</td>\n",
       "      <td>4.000000e+00</td>\n",
       "      <td>1.000000e+00</td>\n",
       "      <td>0.000000e+00</td>\n",
       "    </tr>\n",
       "    <tr>\n",
       "      <th>max</th>\n",
       "      <td>4.519953e+08</td>\n",
       "      <td>2.021000e+03</td>\n",
       "      <td>1.320000e+02</td>\n",
       "      <td>4.000000e+00</td>\n",
       "      <td>1.000000e+00</td>\n",
       "      <td>2.050000e+03</td>\n",
       "      <td>6.096000e+02</td>\n",
       "      <td>2.610094e+04</td>\n",
       "      <td>8.000000e+01</td>\n",
       "      <td>8.800000e+01</td>\n",
       "      <td>4.000000e+00</td>\n",
       "    </tr>\n",
       "  </tbody>\n",
       "</table>\n",
       "</div>"
      ],
      "text/plain": [
       "             PipeId  InspectionYear  MonthsLastRev      Severity  \\\n",
       "count  6.345344e+06    6.345344e+06   6.345344e+06  6.345344e+06   \n",
       "mean   2.031281e+08    2.015609e+03   2.349061e+01  3.997426e+00   \n",
       "std    1.137699e+08    2.909342e+00   4.961511e+00  6.451558e-02   \n",
       "min    4.896160e+05    2.010000e+03   0.000000e+00  1.000000e+00   \n",
       "25%    1.335933e+08    2.013000e+03   2.300000e+01  4.000000e+00   \n",
       "50%    1.903213e+08    2.016000e+03   2.400000e+01  4.000000e+00   \n",
       "75%    2.981763e+08    2.018000e+03   2.400000e+01  4.000000e+00   \n",
       "max    4.519953e+08    2.021000e+03   1.320000e+02  4.000000e+00   \n",
       "\n",
       "          Incidence     YearBuilt      Diameter        Length      Pressure  \\\n",
       "count  6.345344e+06  6.345344e+06  6.345344e+06  6.345344e+06  6.345344e+06   \n",
       "mean   1.942842e-03  2.001037e+03  1.195482e+02  3.653018e+01  2.906349e+00   \n",
       "std    4.403484e-02  1.196869e+01  5.721421e+01  7.214106e+01  6.572514e+00   \n",
       "min    0.000000e+00  1.901000e+03  1.000000e+01  0.000000e+00  2.500000e-02   \n",
       "25%    0.000000e+00  1.997000e+03  9.000000e+01  4.005000e+00  1.000000e-01   \n",
       "50%    0.000000e+00  2.003000e+03  1.100000e+02  1.426200e+01  1.500000e-01   \n",
       "75%    0.000000e+00  2.008000e+03  1.600000e+02  4.460100e+01  4.000000e+00   \n",
       "max    1.000000e+00  2.050000e+03  6.096000e+02  2.610094e+04  8.000000e+01   \n",
       "\n",
       "       NumConnections  NumConnectionsUnder  \n",
       "count    6.345344e+06         6.345344e+06  \n",
       "mean     9.842453e-01         2.229982e-04  \n",
       "std      2.140921e+00         1.613866e-02  \n",
       "min      0.000000e+00         0.000000e+00  \n",
       "25%      0.000000e+00         0.000000e+00  \n",
       "50%      0.000000e+00         0.000000e+00  \n",
       "75%      1.000000e+00         0.000000e+00  \n",
       "max      8.800000e+01         4.000000e+00  "
      ]
     },
     "metadata": {},
     "output_type": "display_data"
    },
    {
     "name": "stdout",
     "output_type": "stream",
     "text": [
      "\n",
      "Null values:\n",
      "\n"
     ]
    },
    {
     "data": {
      "text/plain": [
       "PipeId                 0\n",
       "MaintenanceId          0\n",
       "InspectionYear         0\n",
       "InspectionDate         0\n",
       "MonthsLastRev          0\n",
       "Severity               0\n",
       "Incidence              0\n",
       "Province               0\n",
       "Town                   0\n",
       "YearBuilt              0\n",
       "Material               0\n",
       "GasType                0\n",
       "Diameter               0\n",
       "Length                 0\n",
       "Pressure               0\n",
       "NumConnections         0\n",
       "NumConnectionsUnder    0\n",
       "BoolBridle             0\n",
       "dtype: int64"
      ]
     },
     "metadata": {},
     "output_type": "display_data"
    }
   ],
   "source": [
    "dataset_description(df_combined)"
   ]
  },
  {
   "attachments": {},
   "cell_type": "markdown",
   "id": "6e372052",
   "metadata": {},
   "source": [
    "# Data Wrangling"
   ]
  },
  {
   "cell_type": "code",
   "execution_count": 12,
   "id": "026c1af8",
   "metadata": {},
   "outputs": [],
   "source": [
    "# Converting Boolbride into categorical boolean variable\n",
    "def boolbridle(x):\n",
    "    return 1 if x == 'True' else 0"
   ]
  },
  {
   "cell_type": "code",
   "execution_count": 13,
   "id": "e8031e3c",
   "metadata": {},
   "outputs": [],
   "source": [
    "# Apply function on dataset\n",
    "df_combined['BoolBridle'] = df_combined['BoolBridle'].apply(lambda x: boolbridle(x))"
   ]
  },
  {
   "cell_type": "code",
   "execution_count": 15,
   "id": "030251b2",
   "metadata": {},
   "outputs": [
    {
     "data": {
      "text/html": [
       "<div>\n",
       "<style scoped>\n",
       "    .dataframe tbody tr th:only-of-type {\n",
       "        vertical-align: middle;\n",
       "    }\n",
       "\n",
       "    .dataframe tbody tr th {\n",
       "        vertical-align: top;\n",
       "    }\n",
       "\n",
       "    .dataframe thead th {\n",
       "        text-align: right;\n",
       "    }\n",
       "</style>\n",
       "<table border=\"1\" class=\"dataframe\">\n",
       "  <thead>\n",
       "    <tr style=\"text-align: right;\">\n",
       "      <th></th>\n",
       "      <th>PipeId</th>\n",
       "      <th>MaintenanceId</th>\n",
       "      <th>InspectionYear</th>\n",
       "      <th>InspectionDate</th>\n",
       "      <th>MonthsLastRev</th>\n",
       "      <th>Severity</th>\n",
       "      <th>Incidence</th>\n",
       "      <th>Province</th>\n",
       "      <th>Town</th>\n",
       "      <th>YearBuilt</th>\n",
       "      <th>Material</th>\n",
       "      <th>GasType</th>\n",
       "      <th>Diameter</th>\n",
       "      <th>Length</th>\n",
       "      <th>Pressure</th>\n",
       "      <th>NumConnections</th>\n",
       "      <th>NumConnectionsUnder</th>\n",
       "      <th>BoolBridle</th>\n",
       "    </tr>\n",
       "  </thead>\n",
       "  <tbody>\n",
       "    <tr>\n",
       "      <th>0</th>\n",
       "      <td>189311802</td>\n",
       "      <td>ZRV-00001972</td>\n",
       "      <td>2010</td>\n",
       "      <td>2010-10-01</td>\n",
       "      <td>24</td>\n",
       "      <td>4</td>\n",
       "      <td>0</td>\n",
       "      <td>Barcelona</td>\n",
       "      <td>Sentmenat</td>\n",
       "      <td>2001</td>\n",
       "      <td>PE</td>\n",
       "      <td>Gas natural</td>\n",
       "      <td>160.0</td>\n",
       "      <td>117.831</td>\n",
       "      <td>4.0</td>\n",
       "      <td>0</td>\n",
       "      <td>0</td>\n",
       "      <td>0</td>\n",
       "    </tr>\n",
       "  </tbody>\n",
       "</table>\n",
       "</div>"
      ],
      "text/plain": [
       "      PipeId MaintenanceId  InspectionYear InspectionDate  MonthsLastRev  \\\n",
       "0  189311802  ZRV-00001972            2010     2010-10-01             24   \n",
       "\n",
       "   Severity  Incidence   Province       Town  YearBuilt Material      GasType  \\\n",
       "0         4          0  Barcelona  Sentmenat       2001       PE  Gas natural   \n",
       "\n",
       "   Diameter   Length  Pressure  NumConnections  NumConnectionsUnder  \\\n",
       "0     160.0  117.831       4.0               0                    0   \n",
       "\n",
       "   BoolBridle  \n",
       "0           0  "
      ]
     },
     "execution_count": 15,
     "metadata": {},
     "output_type": "execute_result"
    }
   ],
   "source": [
    "#showing head\n",
    "df_combined.head(1)"
   ]
  },
  {
   "cell_type": "code",
   "execution_count": 16,
   "id": "9560a51e",
   "metadata": {},
   "outputs": [],
   "source": [
    "#Convert InspectionDate to datetime\n",
    "df_combined['InspectionDate'] = pd.to_datetime(df_combined['InspectionDate'])"
   ]
  },
  {
   "cell_type": "code",
   "execution_count": 18,
   "id": "cab9e1e2",
   "metadata": {},
   "outputs": [
    {
     "data": {
      "text/html": [
       "<div>\n",
       "<style scoped>\n",
       "    .dataframe tbody tr th:only-of-type {\n",
       "        vertical-align: middle;\n",
       "    }\n",
       "\n",
       "    .dataframe tbody tr th {\n",
       "        vertical-align: top;\n",
       "    }\n",
       "\n",
       "    .dataframe thead th {\n",
       "        text-align: right;\n",
       "    }\n",
       "</style>\n",
       "<table border=\"1\" class=\"dataframe\">\n",
       "  <thead>\n",
       "    <tr style=\"text-align: right;\">\n",
       "      <th></th>\n",
       "      <th>PipeId</th>\n",
       "      <th>MaintenanceId</th>\n",
       "      <th>InspectionYear</th>\n",
       "      <th>InspectionDate</th>\n",
       "      <th>MonthsLastRev</th>\n",
       "      <th>Severity</th>\n",
       "      <th>Incidence</th>\n",
       "      <th>Province</th>\n",
       "      <th>Town</th>\n",
       "      <th>YearBuilt</th>\n",
       "      <th>Material</th>\n",
       "      <th>GasType</th>\n",
       "      <th>Diameter</th>\n",
       "      <th>Length</th>\n",
       "      <th>Pressure</th>\n",
       "      <th>NumConnections</th>\n",
       "      <th>NumConnectionsUnder</th>\n",
       "      <th>BoolBridle</th>\n",
       "      <th>InspectionDay</th>\n",
       "    </tr>\n",
       "  </thead>\n",
       "  <tbody>\n",
       "    <tr>\n",
       "      <th>0</th>\n",
       "      <td>189311802</td>\n",
       "      <td>ZRV-00001972</td>\n",
       "      <td>2010</td>\n",
       "      <td>2010-10-01</td>\n",
       "      <td>24</td>\n",
       "      <td>4</td>\n",
       "      <td>0</td>\n",
       "      <td>Barcelona</td>\n",
       "      <td>Sentmenat</td>\n",
       "      <td>2001</td>\n",
       "      <td>PE</td>\n",
       "      <td>Gas natural</td>\n",
       "      <td>160.0</td>\n",
       "      <td>117.831</td>\n",
       "      <td>4.0</td>\n",
       "      <td>0</td>\n",
       "      <td>0</td>\n",
       "      <td>0</td>\n",
       "      <td>Friday</td>\n",
       "    </tr>\n",
       "  </tbody>\n",
       "</table>\n",
       "</div>"
      ],
      "text/plain": [
       "      PipeId MaintenanceId  InspectionYear InspectionDate  MonthsLastRev  \\\n",
       "0  189311802  ZRV-00001972            2010     2010-10-01             24   \n",
       "\n",
       "   Severity  Incidence   Province       Town  YearBuilt Material      GasType  \\\n",
       "0         4          0  Barcelona  Sentmenat       2001       PE  Gas natural   \n",
       "\n",
       "   Diameter   Length  Pressure  NumConnections  NumConnectionsUnder  \\\n",
       "0     160.0  117.831       4.0               0                    0   \n",
       "\n",
       "   BoolBridle InspectionDay  \n",
       "0           0        Friday  "
      ]
     },
     "execution_count": 18,
     "metadata": {},
     "output_type": "execute_result"
    }
   ],
   "source": [
    "#Extract the day of the week from InspectionDate\n",
    "df_combined['InspectionDay'] = df_combined['InspectionDate'].dt.day_name()\n",
    "df_combined.head(1)"
   ]
  },
  {
   "cell_type": "code",
   "execution_count": 16,
   "id": "6074dda5",
   "metadata": {},
   "outputs": [
    {
     "data": {
      "text/plain": [
       "PipeId                   int64\n",
       "MaintenanceId           object\n",
       "InspectionYear           int64\n",
       "InspectionDate          object\n",
       "MonthsLastRev            int64\n",
       "Severity                 int64\n",
       "Incidence                int64\n",
       "Province                object\n",
       "Town                    object\n",
       "YearBuilt                int64\n",
       "Material                object\n",
       "GasType                 object\n",
       "Diameter               float64\n",
       "Length                 float64\n",
       "Pressure               float64\n",
       "NumConnections           int64\n",
       "NumConnectionsUnder      int64\n",
       "BoolBridle               int64\n",
       "dtype: object"
      ]
     },
     "execution_count": 16,
     "metadata": {},
     "output_type": "execute_result"
    }
   ],
   "source": [
    "#show columns\n",
    "df_combined.dtypes\n"
   ]
  },
  {
   "cell_type": "code",
   "execution_count": 19,
   "id": "00ce8701",
   "metadata": {},
   "outputs": [],
   "source": [
    "#hot encode GasType column in the df_combined_mod dataframe subset\n",
    "df_combined_mod = pd.get_dummies(df_combined, columns=['GasType'], prefix = ['GasType'])"
   ]
  },
  {
   "cell_type": "code",
   "execution_count": 21,
   "id": "ed68ec65",
   "metadata": {},
   "outputs": [],
   "source": [
    "#delete GasType_Gas propano column\n",
    "df_combined_mod = df_combined_mod.drop(['GasType_Gas propano'], axis=1)"
   ]
  },
  {
   "cell_type": "code",
   "execution_count": 22,
   "id": "c9a2b8a6",
   "metadata": {},
   "outputs": [
    {
     "data": {
      "text/html": [
       "<div>\n",
       "<style scoped>\n",
       "    .dataframe tbody tr th:only-of-type {\n",
       "        vertical-align: middle;\n",
       "    }\n",
       "\n",
       "    .dataframe tbody tr th {\n",
       "        vertical-align: top;\n",
       "    }\n",
       "\n",
       "    .dataframe thead th {\n",
       "        text-align: right;\n",
       "    }\n",
       "</style>\n",
       "<table border=\"1\" class=\"dataframe\">\n",
       "  <thead>\n",
       "    <tr style=\"text-align: right;\">\n",
       "      <th></th>\n",
       "      <th>PipeId</th>\n",
       "      <th>MaintenanceId</th>\n",
       "      <th>InspectionYear</th>\n",
       "      <th>InspectionDate</th>\n",
       "      <th>MonthsLastRev</th>\n",
       "      <th>Severity</th>\n",
       "      <th>Incidence</th>\n",
       "      <th>Province</th>\n",
       "      <th>Town</th>\n",
       "      <th>YearBuilt</th>\n",
       "      <th>Material</th>\n",
       "      <th>Diameter</th>\n",
       "      <th>Length</th>\n",
       "      <th>Pressure</th>\n",
       "      <th>NumConnections</th>\n",
       "      <th>NumConnectionsUnder</th>\n",
       "      <th>BoolBridle</th>\n",
       "      <th>InspectionDay</th>\n",
       "      <th>gas_natural</th>\n",
       "    </tr>\n",
       "  </thead>\n",
       "  <tbody>\n",
       "    <tr>\n",
       "      <th>0</th>\n",
       "      <td>189311802</td>\n",
       "      <td>ZRV-00001972</td>\n",
       "      <td>2010</td>\n",
       "      <td>2010-10-01</td>\n",
       "      <td>24</td>\n",
       "      <td>4</td>\n",
       "      <td>0</td>\n",
       "      <td>Barcelona</td>\n",
       "      <td>Sentmenat</td>\n",
       "      <td>2001</td>\n",
       "      <td>PE</td>\n",
       "      <td>160.0</td>\n",
       "      <td>117.831</td>\n",
       "      <td>4.0</td>\n",
       "      <td>0</td>\n",
       "      <td>0</td>\n",
       "      <td>0</td>\n",
       "      <td>Friday</td>\n",
       "      <td>1</td>\n",
       "    </tr>\n",
       "  </tbody>\n",
       "</table>\n",
       "</div>"
      ],
      "text/plain": [
       "      PipeId MaintenanceId  InspectionYear InspectionDate  MonthsLastRev  \\\n",
       "0  189311802  ZRV-00001972            2010     2010-10-01             24   \n",
       "\n",
       "   Severity  Incidence   Province       Town  YearBuilt Material  Diameter  \\\n",
       "0         4          0  Barcelona  Sentmenat       2001       PE     160.0   \n",
       "\n",
       "    Length  Pressure  NumConnections  NumConnectionsUnder  BoolBridle  \\\n",
       "0  117.831       4.0               0                    0           0   \n",
       "\n",
       "  InspectionDay  gas_natural  \n",
       "0        Friday            1  "
      ]
     },
     "execution_count": 22,
     "metadata": {},
     "output_type": "execute_result"
    }
   ],
   "source": [
    "#change name of GasType_Gas natural column to gas_natural\n",
    "df_combined_mod = df_combined_mod.rename(columns={'GasType_Gas natural': 'gas_natural'})\n",
    "df_combined_mod.head(1)"
   ]
  },
  {
   "attachments": {},
   "cell_type": "markdown",
   "id": "054fec24",
   "metadata": {},
   "source": [
    "We want to also see materials available for the pipes as a hot encoded feature"
   ]
  },
  {
   "cell_type": "code",
   "execution_count": 23,
   "id": "867ba9a8",
   "metadata": {},
   "outputs": [
    {
     "name": "stdout",
     "output_type": "stream",
     "text": [
      "['PE' 'AO' 'FD' 'FG' 'PN' 'PA' 'FO' 'FI' 'CU' 'PV' 'ZD']\n"
     ]
    }
   ],
   "source": [
    "print (df_combined['Material'].unique())"
   ]
  },
  {
   "cell_type": "code",
   "execution_count": 24,
   "id": "73adb0d6",
   "metadata": {},
   "outputs": [],
   "source": [
    "#Map df_combined Material column to the names of materials\n",
    "\n",
    "df_combined_mod['Material'] = df_combined_mod['Material'].map({'PE': 'Polyethylene', 'AO': 'Acrylonitrile-Butadiene-Styrene', 'FD': 'Fiberglass-Reinforced Plastic', 'FG': 'Fiberglass', 'PN': 'Polypropylene', 'PA': 'Polyamide', 'FO': 'Flexible Polyolefin', 'FI': 'Flexible Polyvinyl Chloride', 'CU': 'Copper', 'PV': 'Polyvinylidene Fluoride', 'ZD': 'Zinc-Coated Steel', 'ZA': 'Zinc-Aluminum', 'CP': 'Cast Iron', 'CS': 'Cast Steel', 'ZC': 'Zinc-Coated Steel', 'ZM': 'Zinc-Magnesium', 'ZN': 'Zinc', 'AL': 'Aluminum', 'ZP': 'Zinc-Coated Steel', 'ZF': 'Zinc-Aluminum-Magnesium'})\n",
    "\n"
   ]
  },
  {
   "cell_type": "code",
   "execution_count": 26,
   "id": "3e37640a",
   "metadata": {},
   "outputs": [
    {
     "data": {
      "text/html": [
       "<div>\n",
       "<style scoped>\n",
       "    .dataframe tbody tr th:only-of-type {\n",
       "        vertical-align: middle;\n",
       "    }\n",
       "\n",
       "    .dataframe tbody tr th {\n",
       "        vertical-align: top;\n",
       "    }\n",
       "\n",
       "    .dataframe thead th {\n",
       "        text-align: right;\n",
       "    }\n",
       "</style>\n",
       "<table border=\"1\" class=\"dataframe\">\n",
       "  <thead>\n",
       "    <tr style=\"text-align: right;\">\n",
       "      <th></th>\n",
       "      <th>PipeId</th>\n",
       "      <th>MaintenanceId</th>\n",
       "      <th>InspectionYear</th>\n",
       "      <th>InspectionDate</th>\n",
       "      <th>MonthsLastRev</th>\n",
       "      <th>Severity</th>\n",
       "      <th>Incidence</th>\n",
       "      <th>Province</th>\n",
       "      <th>Town</th>\n",
       "      <th>YearBuilt</th>\n",
       "      <th>Material</th>\n",
       "      <th>Diameter</th>\n",
       "      <th>Length</th>\n",
       "      <th>Pressure</th>\n",
       "      <th>NumConnections</th>\n",
       "      <th>NumConnectionsUnder</th>\n",
       "      <th>BoolBridle</th>\n",
       "      <th>InspectionDay</th>\n",
       "      <th>gas_natural</th>\n",
       "    </tr>\n",
       "  </thead>\n",
       "  <tbody>\n",
       "    <tr>\n",
       "      <th>6345343</th>\n",
       "      <td>56922465</td>\n",
       "      <td>ZRV-00004581</td>\n",
       "      <td>2020</td>\n",
       "      <td>2020-12-31</td>\n",
       "      <td>24</td>\n",
       "      <td>4</td>\n",
       "      <td>0</td>\n",
       "      <td>Valencia</td>\n",
       "      <td>Betera</td>\n",
       "      <td>1993</td>\n",
       "      <td>Polyethylene</td>\n",
       "      <td>63.0</td>\n",
       "      <td>1.778</td>\n",
       "      <td>4.0</td>\n",
       "      <td>0</td>\n",
       "      <td>0</td>\n",
       "      <td>0</td>\n",
       "      <td>Thursday</td>\n",
       "      <td>1</td>\n",
       "    </tr>\n",
       "  </tbody>\n",
       "</table>\n",
       "</div>"
      ],
      "text/plain": [
       "           PipeId MaintenanceId  InspectionYear InspectionDate  MonthsLastRev  \\\n",
       "6345343  56922465  ZRV-00004581            2020     2020-12-31             24   \n",
       "\n",
       "         Severity  Incidence  Province    Town  YearBuilt      Material  \\\n",
       "6345343         4          0  Valencia  Betera       1993  Polyethylene   \n",
       "\n",
       "         Diameter  Length  Pressure  NumConnections  NumConnectionsUnder  \\\n",
       "6345343      63.0   1.778       4.0               0                    0   \n",
       "\n",
       "         BoolBridle InspectionDay  gas_natural  \n",
       "6345343           0      Thursday            1  "
      ]
     },
     "execution_count": 26,
     "metadata": {},
     "output_type": "execute_result"
    }
   ],
   "source": [
    "df_combined_mod.tail(1)"
   ]
  },
  {
   "cell_type": "code",
   "execution_count": 27,
   "id": "1a110a60",
   "metadata": {},
   "outputs": [],
   "source": [
    "#Hot enconde Material column in the df_combined_mod dataframe subset\n",
    "df_combined_mod = pd.get_dummies(df_combined_mod, columns=['Material'], prefix = ['Material'])"
   ]
  },
  {
   "cell_type": "code",
   "execution_count": 30,
   "id": "e1119cd2",
   "metadata": {},
   "outputs": [
    {
     "data": {
      "text/html": [
       "<div>\n",
       "<style scoped>\n",
       "    .dataframe tbody tr th:only-of-type {\n",
       "        vertical-align: middle;\n",
       "    }\n",
       "\n",
       "    .dataframe tbody tr th {\n",
       "        vertical-align: top;\n",
       "    }\n",
       "\n",
       "    .dataframe thead th {\n",
       "        text-align: right;\n",
       "    }\n",
       "</style>\n",
       "<table border=\"1\" class=\"dataframe\">\n",
       "  <thead>\n",
       "    <tr style=\"text-align: right;\">\n",
       "      <th></th>\n",
       "      <th>PipeId</th>\n",
       "      <th>MaintenanceId</th>\n",
       "      <th>InspectionYear</th>\n",
       "      <th>InspectionDate</th>\n",
       "      <th>MonthsLastRev</th>\n",
       "      <th>Severity</th>\n",
       "      <th>Incidence</th>\n",
       "      <th>Province</th>\n",
       "      <th>Town</th>\n",
       "      <th>YearBuilt</th>\n",
       "      <th>Diameter</th>\n",
       "      <th>Length</th>\n",
       "      <th>Pressure</th>\n",
       "      <th>NumConnections</th>\n",
       "      <th>NumConnectionsUnder</th>\n",
       "      <th>BoolBridle</th>\n",
       "      <th>InspectionDay</th>\n",
       "      <th>gas_natural</th>\n",
       "      <th>Material_Acrylonitrile-Butadiene-Styrene</th>\n",
       "      <th>Material_Copper</th>\n",
       "      <th>Material_Fiberglass</th>\n",
       "      <th>Material_Fiberglass-Reinforced Plastic</th>\n",
       "      <th>Material_Flexible Polyolefin</th>\n",
       "      <th>Material_Flexible Polyvinyl Chloride</th>\n",
       "      <th>Material_Polyamide</th>\n",
       "      <th>Material_Polyethylene</th>\n",
       "      <th>Material_Polypropylene</th>\n",
       "      <th>Material_Polyvinylidene Fluoride</th>\n",
       "      <th>Material_Zinc-Coated Steel</th>\n",
       "    </tr>\n",
       "  </thead>\n",
       "  <tbody>\n",
       "    <tr>\n",
       "      <th>0</th>\n",
       "      <td>189311802</td>\n",
       "      <td>ZRV-00001972</td>\n",
       "      <td>2010</td>\n",
       "      <td>2010-10-01</td>\n",
       "      <td>24</td>\n",
       "      <td>4</td>\n",
       "      <td>0</td>\n",
       "      <td>Barcelona</td>\n",
       "      <td>Sentmenat</td>\n",
       "      <td>2001</td>\n",
       "      <td>160.0</td>\n",
       "      <td>117.831</td>\n",
       "      <td>4.0</td>\n",
       "      <td>0</td>\n",
       "      <td>0</td>\n",
       "      <td>0</td>\n",
       "      <td>Friday</td>\n",
       "      <td>1</td>\n",
       "      <td>0</td>\n",
       "      <td>0</td>\n",
       "      <td>0</td>\n",
       "      <td>0</td>\n",
       "      <td>0</td>\n",
       "      <td>0</td>\n",
       "      <td>0</td>\n",
       "      <td>1</td>\n",
       "      <td>0</td>\n",
       "      <td>0</td>\n",
       "      <td>0</td>\n",
       "    </tr>\n",
       "  </tbody>\n",
       "</table>\n",
       "</div>"
      ],
      "text/plain": [
       "      PipeId MaintenanceId  InspectionYear InspectionDate  MonthsLastRev  \\\n",
       "0  189311802  ZRV-00001972            2010     2010-10-01             24   \n",
       "\n",
       "   Severity  Incidence   Province       Town  YearBuilt  Diameter   Length  \\\n",
       "0         4          0  Barcelona  Sentmenat       2001     160.0  117.831   \n",
       "\n",
       "   Pressure  NumConnections  NumConnectionsUnder  BoolBridle InspectionDay  \\\n",
       "0       4.0               0                    0           0        Friday   \n",
       "\n",
       "   gas_natural  Material_Acrylonitrile-Butadiene-Styrene  Material_Copper  \\\n",
       "0            1                                         0                0   \n",
       "\n",
       "   Material_Fiberglass  Material_Fiberglass-Reinforced Plastic  \\\n",
       "0                    0                                       0   \n",
       "\n",
       "   Material_Flexible Polyolefin  Material_Flexible Polyvinyl Chloride  \\\n",
       "0                             0                                     0   \n",
       "\n",
       "   Material_Polyamide  Material_Polyethylene  Material_Polypropylene  \\\n",
       "0                   0                      1                       0   \n",
       "\n",
       "   Material_Polyvinylidene Fluoride  Material_Zinc-Coated Steel  \n",
       "0                                 0                           0  "
      ]
     },
     "execution_count": 30,
     "metadata": {},
     "output_type": "execute_result"
    }
   ],
   "source": [
    "#allow to see all columns in pandas\n",
    "pd.set_option('display.max_columns', None)\n",
    "df_combined_mod.head(1)"
   ]
  },
  {
   "cell_type": "code",
   "execution_count": 31,
   "id": "25b67233",
   "metadata": {},
   "outputs": [],
   "source": [
    "#deleting columns Material_Fiberglass, Material_Zinc_coated_steel, Material_Polyvinylidene_fluoride\n",
    "df_combined_mod = df_combined_mod.drop(['Material_Fiberglass', 'Material_Zinc-Coated Steel', 'Material_Polyvinylidene Fluoride'], axis=1)"
   ]
  },
  {
   "cell_type": "code",
   "execution_count": 33,
   "id": "5f8aa725",
   "metadata": {},
   "outputs": [
    {
     "data": {
      "text/html": [
       "<div>\n",
       "<style scoped>\n",
       "    .dataframe tbody tr th:only-of-type {\n",
       "        vertical-align: middle;\n",
       "    }\n",
       "\n",
       "    .dataframe tbody tr th {\n",
       "        vertical-align: top;\n",
       "    }\n",
       "\n",
       "    .dataframe thead th {\n",
       "        text-align: right;\n",
       "    }\n",
       "</style>\n",
       "<table border=\"1\" class=\"dataframe\">\n",
       "  <thead>\n",
       "    <tr style=\"text-align: right;\">\n",
       "      <th></th>\n",
       "      <th>PipeId</th>\n",
       "      <th>MaintenanceId</th>\n",
       "      <th>InspectionYear</th>\n",
       "      <th>InspectionDate</th>\n",
       "      <th>MonthsLastRev</th>\n",
       "      <th>Severity</th>\n",
       "      <th>Incidence</th>\n",
       "      <th>Province</th>\n",
       "      <th>Town</th>\n",
       "      <th>YearBuilt</th>\n",
       "      <th>Diameter</th>\n",
       "      <th>Length</th>\n",
       "      <th>Pressure</th>\n",
       "      <th>NumConnections</th>\n",
       "      <th>NumConnectionsUnder</th>\n",
       "      <th>BoolBridle</th>\n",
       "      <th>InspectionDay</th>\n",
       "      <th>gas_natural</th>\n",
       "      <th>Material_Acrylonitrile-Butadiene-Styrene</th>\n",
       "      <th>Material_Copper</th>\n",
       "      <th>Material_Fiberglass-Reinforced Plastic</th>\n",
       "      <th>Material_Polyethylene</th>\n",
       "      <th>Material_Polypropylene</th>\n",
       "    </tr>\n",
       "  </thead>\n",
       "  <tbody>\n",
       "    <tr>\n",
       "      <th>0</th>\n",
       "      <td>189311802</td>\n",
       "      <td>ZRV-00001972</td>\n",
       "      <td>2010</td>\n",
       "      <td>2010-10-01</td>\n",
       "      <td>24</td>\n",
       "      <td>4</td>\n",
       "      <td>0</td>\n",
       "      <td>Barcelona</td>\n",
       "      <td>Sentmenat</td>\n",
       "      <td>2001</td>\n",
       "      <td>160.0</td>\n",
       "      <td>117.831</td>\n",
       "      <td>4.0</td>\n",
       "      <td>0</td>\n",
       "      <td>0</td>\n",
       "      <td>0</td>\n",
       "      <td>Friday</td>\n",
       "      <td>1</td>\n",
       "      <td>0</td>\n",
       "      <td>0</td>\n",
       "      <td>0</td>\n",
       "      <td>1</td>\n",
       "      <td>0</td>\n",
       "    </tr>\n",
       "  </tbody>\n",
       "</table>\n",
       "</div>"
      ],
      "text/plain": [
       "      PipeId MaintenanceId  InspectionYear InspectionDate  MonthsLastRev  \\\n",
       "0  189311802  ZRV-00001972            2010     2010-10-01             24   \n",
       "\n",
       "   Severity  Incidence   Province       Town  YearBuilt  Diameter   Length  \\\n",
       "0         4          0  Barcelona  Sentmenat       2001     160.0  117.831   \n",
       "\n",
       "   Pressure  NumConnections  NumConnectionsUnder  BoolBridle InspectionDay  \\\n",
       "0       4.0               0                    0           0        Friday   \n",
       "\n",
       "   gas_natural  Material_Acrylonitrile-Butadiene-Styrene  Material_Copper  \\\n",
       "0            1                                         0                0   \n",
       "\n",
       "   Material_Fiberglass-Reinforced Plastic  Material_Polyethylene  \\\n",
       "0                                       0                      1   \n",
       "\n",
       "   Material_Polypropylene  \n",
       "0                       0  "
      ]
     },
     "execution_count": 33,
     "metadata": {},
     "output_type": "execute_result"
    }
   ],
   "source": [
    "#deleting columns Material_Flexible Polyolefin,Material_Flexible Polyvinyl Chloride, Material_Polyamide\n",
    "df_combined_mod = df_combined_mod.drop(['Material_Flexible Polyolefin', 'Material_Flexible Polyvinyl Chloride', 'Material_Polyamide'], axis=1)\n",
    "df_combined_mod.head(1)"
   ]
  },
  {
   "cell_type": "code",
   "execution_count": 34,
   "id": "9c43c9fe",
   "metadata": {},
   "outputs": [],
   "source": [
    "#delete outliers in year_built column to keep values only higher than 1960\n",
    "df_combined_mod = df_combined_mod[df_combined_mod['YearBuilt'] > 1960]\n"
   ]
  },
  {
   "cell_type": "code",
   "execution_count": 44,
   "id": "6ed2fcf9",
   "metadata": {},
   "outputs": [
    {
     "data": {
      "text/plain": [
       "PipeId                                               int64\n",
       "MaintenanceId                                       object\n",
       "InspectionYear                                       int64\n",
       "InspectionDate                              datetime64[ns]\n",
       "MonthsLastRev                                        int64\n",
       "Severity                                             int64\n",
       "Province                                            object\n",
       "Town                                                object\n",
       "YearBuilt                                            int64\n",
       "Diameter                                           float64\n",
       "Length                                             float64\n",
       "Pressure                                           float64\n",
       "NumConnections                                       int64\n",
       "NumConnectionsUnder                                  int64\n",
       "BoolBridle                                           int64\n",
       "InspectionDay                                       object\n",
       "gas_natural                                          uint8\n",
       "Material_Acrylonitrile-Butadiene-Styrene             uint8\n",
       "Material_Copper                                      uint8\n",
       "Material_Fiberglass-Reinforced Plastic               uint8\n",
       "Material_Polyethylene                                uint8\n",
       "Material_Polypropylene                               uint8\n",
       "Relative_Thickness                                 float64\n",
       "Severity_Incidence                                   int64\n",
       "dtype: object"
      ]
     },
     "execution_count": 44,
     "metadata": {},
     "output_type": "execute_result"
    }
   ],
   "source": [
    "df_combined_mod.dtypes"
   ]
  },
  {
   "cell_type": "code",
   "execution_count": 47,
   "id": "e4be290a",
   "metadata": {},
   "outputs": [
    {
     "data": {
      "text/plain": [
       "Tuesday      1334236\n",
       "Wednesday    1314102\n",
       "Monday       1269454\n",
       "Thursday     1237359\n",
       "Friday        915481\n",
       "Saturday      101252\n",
       "Sunday         79192\n",
       "Name: InspectionDay, dtype: int64"
      ]
     },
     "execution_count": 47,
     "metadata": {},
     "output_type": "execute_result"
    }
   ],
   "source": [
    "#display possible values for week_day column and how many times they appear\n",
    "df_combined_mod['InspectionDay'].value_counts()"
   ]
  },
  {
   "cell_type": "code",
   "execution_count": 51,
   "id": "4f942fe7",
   "metadata": {},
   "outputs": [],
   "source": [
    "#eliminate values higher than 40 in MonthsLastRev column\n",
    "df_combined_mod = df_combined_mod[df_combined_mod['MonthsLastRev'] < 40]"
   ]
  },
  {
   "cell_type": "code",
   "execution_count": 52,
   "id": "124e509b",
   "metadata": {},
   "outputs": [
    {
     "data": {
      "text/plain": [
       "<AxesSubplot: >"
      ]
     },
     "execution_count": 52,
     "metadata": {},
     "output_type": "execute_result"
    },
    {
     "data": {
      "image/png": "[encoded data removed]",
      "text/plain": [
       "<Figure size 800x550 with 1 Axes>"
      ]
     },
     "metadata": {},
     "output_type": "display_data"
    }
   ],
   "source": [
    "#graph histogram of MonthsLastRev column\n",
    "df_combined_mod['MonthsLastRev'].hist()"
   ]
  },
  {
   "cell_type": "code",
   "execution_count": 53,
   "id": "3e1ff171",
   "metadata": {},
   "outputs": [],
   "source": [
    "#eliminate values higher than 400 in diameter column\n",
    "df_combined_mod = df_combined_mod[df_combined_mod['Diameter'] < 400]"
   ]
  },
  {
   "cell_type": "code",
   "execution_count": 54,
   "id": "9754d5dc",
   "metadata": {},
   "outputs": [
    {
     "data": {
      "text/plain": [
       "<AxesSubplot: >"
      ]
     },
     "execution_count": 54,
     "metadata": {},
     "output_type": "execute_result"
    },
    {
     "data": {
      "image/png": "[encoded data removed]",
      "text/plain": [
       "<Figure size 800x550 with 1 Axes>"
      ]
     },
     "metadata": {},
     "output_type": "display_data"
    }
   ],
   "source": [
    "#show histogram of diameter column\n",
    "df_combined_mod['Diameter'].hist()"
   ]
  },
  {
   "cell_type": "code",
   "execution_count": 71,
   "id": "57e13b5b",
   "metadata": {},
   "outputs": [
    {
     "data": {
      "text/plain": [
       "2.000      26542\n",
       "1.000      25356\n",
       "1.002      18865\n",
       "0.500      18446\n",
       "1.500      17986\n",
       "           ...  \n",
       "93.239         1\n",
       "165.090        1\n",
       "143.132        1\n",
       "130.399        1\n",
       "134.322        1\n",
       "Name: Length, Length: 204118, dtype: int64"
      ]
     },
     "execution_count": 71,
     "metadata": {},
     "output_type": "execute_result"
    }
   ],
   "source": [
    "#plot column Length\n",
    "df_combined_mod['Length'].value_counts()"
   ]
  },
  {
   "cell_type": "code",
   "execution_count": 72,
   "id": "caa47b07",
   "metadata": {},
   "outputs": [
    {
     "data": {
      "text/plain": [
       "<AxesSubplot: >"
      ]
     },
     "execution_count": 72,
     "metadata": {},
     "output_type": "execute_result"
    },
    {
     "data": {
      "image/png": "[encoded data removed]",
      "text/plain": [
       "<Figure size 800x550 with 1 Axes>"
      ]
     },
     "metadata": {},
     "output_type": "display_data"
    }
   ],
   "source": [
    "#plot histogram of Length column\n",
    "df_combined_mod['Length'].hist()"
   ]
  },
  {
   "attachments": {},
   "cell_type": "markdown",
   "id": "a525270c",
   "metadata": {},
   "source": [
    "# Feature Engineering"
   ]
  },
  {
   "cell_type": "code",
   "execution_count": 35,
   "id": "921d02bf",
   "metadata": {},
   "outputs": [],
   "source": [
    "#create a new column that divides the diameter by the pressure and name it Relative Thickness\n",
    "df_combined_mod['Relative_Thickness'] = df_combined_mod['Diameter'] / df_combined_mod['Pressure']"
   ]
  },
  {
   "cell_type": "code",
   "execution_count": 48,
   "id": "7ed618b8",
   "metadata": {},
   "outputs": [
    {
     "data": {
      "text/html": [
       "<div>\n",
       "<style scoped>\n",
       "    .dataframe tbody tr th:only-of-type {\n",
       "        vertical-align: middle;\n",
       "    }\n",
       "\n",
       "    .dataframe tbody tr th {\n",
       "        vertical-align: top;\n",
       "    }\n",
       "\n",
       "    .dataframe thead th {\n",
       "        text-align: right;\n",
       "    }\n",
       "</style>\n",
       "<table border=\"1\" class=\"dataframe\">\n",
       "  <thead>\n",
       "    <tr style=\"text-align: right;\">\n",
       "      <th></th>\n",
       "      <th>PipeId</th>\n",
       "      <th>MaintenanceId</th>\n",
       "      <th>InspectionYear</th>\n",
       "      <th>InspectionDate</th>\n",
       "      <th>MonthsLastRev</th>\n",
       "      <th>Severity</th>\n",
       "      <th>Province</th>\n",
       "      <th>Town</th>\n",
       "      <th>YearBuilt</th>\n",
       "      <th>Diameter</th>\n",
       "      <th>Length</th>\n",
       "      <th>Pressure</th>\n",
       "      <th>NumConnections</th>\n",
       "      <th>NumConnectionsUnder</th>\n",
       "      <th>BoolBridle</th>\n",
       "      <th>InspectionDay</th>\n",
       "      <th>gas_natural</th>\n",
       "      <th>Material_Acrylonitrile-Butadiene-Styrene</th>\n",
       "      <th>Material_Copper</th>\n",
       "      <th>Material_Fiberglass-Reinforced Plastic</th>\n",
       "      <th>Material_Polyethylene</th>\n",
       "      <th>Material_Polypropylene</th>\n",
       "      <th>Relative_Thickness</th>\n",
       "      <th>Severity_Incidence</th>\n",
       "      <th>Age_of_Pipe_upon_inspection</th>\n",
       "    </tr>\n",
       "  </thead>\n",
       "  <tbody>\n",
       "    <tr>\n",
       "      <th>0</th>\n",
       "      <td>189311802</td>\n",
       "      <td>ZRV-00001972</td>\n",
       "      <td>2010</td>\n",
       "      <td>2010-10-01</td>\n",
       "      <td>24</td>\n",
       "      <td>4</td>\n",
       "      <td>Barcelona</td>\n",
       "      <td>Sentmenat</td>\n",
       "      <td>2001</td>\n",
       "      <td>160.0</td>\n",
       "      <td>117.831</td>\n",
       "      <td>4.0</td>\n",
       "      <td>0</td>\n",
       "      <td>0</td>\n",
       "      <td>0</td>\n",
       "      <td>Friday</td>\n",
       "      <td>1</td>\n",
       "      <td>0</td>\n",
       "      <td>0</td>\n",
       "      <td>0</td>\n",
       "      <td>1</td>\n",
       "      <td>0</td>\n",
       "      <td>40.0</td>\n",
       "      <td>0</td>\n",
       "      <td>9</td>\n",
       "    </tr>\n",
       "  </tbody>\n",
       "</table>\n",
       "</div>"
      ],
      "text/plain": [
       "      PipeId MaintenanceId  InspectionYear InspectionDate  MonthsLastRev  \\\n",
       "0  189311802  ZRV-00001972            2010     2010-10-01             24   \n",
       "\n",
       "   Severity   Province       Town  YearBuilt  Diameter   Length  Pressure  \\\n",
       "0         4  Barcelona  Sentmenat       2001     160.0  117.831       4.0   \n",
       "\n",
       "   NumConnections  NumConnectionsUnder  BoolBridle InspectionDay  gas_natural  \\\n",
       "0               0                    0           0        Friday            1   \n",
       "\n",
       "   Material_Acrylonitrile-Butadiene-Styrene  Material_Copper  \\\n",
       "0                                         0                0   \n",
       "\n",
       "   Material_Fiberglass-Reinforced Plastic  Material_Polyethylene  \\\n",
       "0                                       0                      1   \n",
       "\n",
       "   Material_Polypropylene  Relative_Thickness  Severity_Incidence  \\\n",
       "0                       0                40.0                   0   \n",
       "\n",
       "   Age_of_Pipe_upon_inspection  \n",
       "0                            9  "
      ]
     },
     "execution_count": 48,
     "metadata": {},
     "output_type": "execute_result"
    }
   ],
   "source": [
    "#Create a new column that takes the inspecion year and substracts the YearBuilt column naming it Age of Pipe\n",
    "df_combined_mod['Age_of_Pipe_upon_inspection'] = df_combined_mod['InspectionYear'] - df_combined_mod['YearBuilt']\n",
    "df_combined_mod.head(1)"
   ]
  },
  {
   "cell_type": "code",
   "execution_count": 36,
   "id": "2720eaff",
   "metadata": {},
   "outputs": [],
   "source": [
    "#create a column that multiplies severity by incidence and name it severity_incidence\n",
    "df_combined_mod['Severity_Incidence'] = df_combined_mod['Severity'] * df_combined_mod['Incidence']"
   ]
  },
  {
   "cell_type": "code",
   "execution_count": 37,
   "id": "87d2cc5d",
   "metadata": {},
   "outputs": [],
   "source": [
    "#delete column incidence\n",
    "df_combined_mod = df_combined_mod.drop(['Incidence'], axis=1)"
   ]
  },
  {
   "cell_type": "code",
   "execution_count": 59,
   "id": "6bf705b7",
   "metadata": {},
   "outputs": [
    {
     "data": {
      "text/html": [
       "<div>\n",
       "<style scoped>\n",
       "    .dataframe tbody tr th:only-of-type {\n",
       "        vertical-align: middle;\n",
       "    }\n",
       "\n",
       "    .dataframe tbody tr th {\n",
       "        vertical-align: top;\n",
       "    }\n",
       "\n",
       "    .dataframe thead th {\n",
       "        text-align: right;\n",
       "    }\n",
       "</style>\n",
       "<table border=\"1\" class=\"dataframe\">\n",
       "  <thead>\n",
       "    <tr style=\"text-align: right;\">\n",
       "      <th></th>\n",
       "      <th>PipeId</th>\n",
       "      <th>MaintenanceId</th>\n",
       "      <th>InspectionYear</th>\n",
       "      <th>InspectionDate</th>\n",
       "      <th>MonthsLastRev</th>\n",
       "      <th>Province</th>\n",
       "      <th>Town</th>\n",
       "      <th>YearBuilt</th>\n",
       "      <th>Diameter</th>\n",
       "      <th>Length</th>\n",
       "      <th>Pressure</th>\n",
       "      <th>NumConnections</th>\n",
       "      <th>NumConnectionsUnder</th>\n",
       "      <th>BoolBridle</th>\n",
       "      <th>InspectionDay</th>\n",
       "      <th>gas_natural</th>\n",
       "      <th>Material_Acrylonitrile-Butadiene-Styrene</th>\n",
       "      <th>Material_Copper</th>\n",
       "      <th>Material_Fiberglass-Reinforced Plastic</th>\n",
       "      <th>Material_Polyethylene</th>\n",
       "      <th>Material_Polypropylene</th>\n",
       "      <th>Relative_Thickness</th>\n",
       "      <th>Age_of_Pipe_upon_inspection</th>\n",
       "      <th>Severity_0</th>\n",
       "      <th>Severity_low</th>\n",
       "      <th>Severity_medium</th>\n",
       "      <th>Severity_high</th>\n",
       "    </tr>\n",
       "  </thead>\n",
       "  <tbody>\n",
       "    <tr>\n",
       "      <th>0</th>\n",
       "      <td>189311802</td>\n",
       "      <td>ZRV-00001972</td>\n",
       "      <td>2010</td>\n",
       "      <td>2010-10-01</td>\n",
       "      <td>24</td>\n",
       "      <td>Barcelona</td>\n",
       "      <td>Sentmenat</td>\n",
       "      <td>2001</td>\n",
       "      <td>160.0</td>\n",
       "      <td>117.831</td>\n",
       "      <td>4.0</td>\n",
       "      <td>0</td>\n",
       "      <td>0</td>\n",
       "      <td>0</td>\n",
       "      <td>Friday</td>\n",
       "      <td>1</td>\n",
       "      <td>0</td>\n",
       "      <td>0</td>\n",
       "      <td>0</td>\n",
       "      <td>1</td>\n",
       "      <td>0</td>\n",
       "      <td>40.0</td>\n",
       "      <td>9</td>\n",
       "      <td>1</td>\n",
       "      <td>0</td>\n",
       "      <td>0</td>\n",
       "      <td>0</td>\n",
       "    </tr>\n",
       "  </tbody>\n",
       "</table>\n",
       "</div>"
      ],
      "text/plain": [
       "      PipeId MaintenanceId  InspectionYear InspectionDate  MonthsLastRev  \\\n",
       "0  189311802  ZRV-00001972            2010     2010-10-01             24   \n",
       "\n",
       "    Province       Town  YearBuilt  Diameter   Length  Pressure  \\\n",
       "0  Barcelona  Sentmenat       2001     160.0  117.831       4.0   \n",
       "\n",
       "   NumConnections  NumConnectionsUnder  BoolBridle InspectionDay  gas_natural  \\\n",
       "0               0                    0           0        Friday            1   \n",
       "\n",
       "   Material_Acrylonitrile-Butadiene-Styrene  Material_Copper  \\\n",
       "0                                         0                0   \n",
       "\n",
       "   Material_Fiberglass-Reinforced Plastic  Material_Polyethylene  \\\n",
       "0                                       0                      1   \n",
       "\n",
       "   Material_Polypropylene  Relative_Thickness  Age_of_Pipe_upon_inspection  \\\n",
       "0                       0                40.0                            9   \n",
       "\n",
       "   Severity_0  Severity_low  Severity_medium  Severity_high  \n",
       "0           1             0                0              0  "
      ]
     },
     "execution_count": 59,
     "metadata": {},
     "output_type": "execute_result"
    }
   ],
   "source": [
    "#delete column severity\n",
    "df_combined_mod = df_combined_mod.drop(['Severity'], axis=1)\n",
    "df_combined_mod.head(1)\n"
   ]
  },
  {
   "cell_type": "code",
   "execution_count": 60,
   "id": "469e590a",
   "metadata": {},
   "outputs": [
    {
     "data": {
      "text/plain": [
       "PipeId                                               int64\n",
       "MaintenanceId                                       object\n",
       "InspectionYear                                       int64\n",
       "InspectionDate                              datetime64[ns]\n",
       "MonthsLastRev                                        int64\n",
       "Province                                            object\n",
       "Town                                                object\n",
       "YearBuilt                                            int64\n",
       "Diameter                                           float64\n",
       "Length                                             float64\n",
       "Pressure                                           float64\n",
       "NumConnections                                       int64\n",
       "NumConnectionsUnder                                  int64\n",
       "BoolBridle                                           int64\n",
       "InspectionDay                                       object\n",
       "gas_natural                                          uint8\n",
       "Material_Acrylonitrile-Butadiene-Styrene             uint8\n",
       "Material_Copper                                      uint8\n",
       "Material_Fiberglass-Reinforced Plastic               uint8\n",
       "Material_Polyethylene                                uint8\n",
       "Material_Polypropylene                               uint8\n",
       "Relative_Thickness                                 float64\n",
       "Age_of_Pipe_upon_inspection                          int64\n",
       "Severity_0                                           uint8\n",
       "Severity_low                                         uint8\n",
       "Severity_medium                                      uint8\n",
       "Severity_high                                        uint8\n",
       "dtype: object"
      ]
     },
     "execution_count": 60,
     "metadata": {},
     "output_type": "execute_result"
    }
   ],
   "source": [
    "df_combined_mod.dtypes"
   ]
  },
  {
   "cell_type": "code",
   "execution_count": 49,
   "id": "a0bc55b2",
   "metadata": {},
   "outputs": [
    {
     "data": {
      "text/html": [
       "<div>\n",
       "<style scoped>\n",
       "    .dataframe tbody tr th:only-of-type {\n",
       "        vertical-align: middle;\n",
       "    }\n",
       "\n",
       "    .dataframe tbody tr th {\n",
       "        vertical-align: top;\n",
       "    }\n",
       "\n",
       "    .dataframe thead th {\n",
       "        text-align: right;\n",
       "    }\n",
       "</style>\n",
       "<table border=\"1\" class=\"dataframe\">\n",
       "  <thead>\n",
       "    <tr style=\"text-align: right;\">\n",
       "      <th></th>\n",
       "      <th>PipeId</th>\n",
       "      <th>MaintenanceId</th>\n",
       "      <th>InspectionYear</th>\n",
       "      <th>InspectionDate</th>\n",
       "      <th>MonthsLastRev</th>\n",
       "      <th>Severity</th>\n",
       "      <th>Province</th>\n",
       "      <th>Town</th>\n",
       "      <th>YearBuilt</th>\n",
       "      <th>Diameter</th>\n",
       "      <th>Length</th>\n",
       "      <th>Pressure</th>\n",
       "      <th>NumConnections</th>\n",
       "      <th>NumConnectionsUnder</th>\n",
       "      <th>BoolBridle</th>\n",
       "      <th>InspectionDay</th>\n",
       "      <th>gas_natural</th>\n",
       "      <th>Material_Acrylonitrile-Butadiene-Styrene</th>\n",
       "      <th>Material_Copper</th>\n",
       "      <th>Material_Fiberglass-Reinforced Plastic</th>\n",
       "      <th>Material_Polyethylene</th>\n",
       "      <th>Material_Polypropylene</th>\n",
       "      <th>Relative_Thickness</th>\n",
       "      <th>Age_of_Pipe_upon_inspection</th>\n",
       "      <th>Severity_Incidence_0</th>\n",
       "      <th>Severity_Incidence_1</th>\n",
       "      <th>Severity_Incidence_2</th>\n",
       "      <th>Severity_Incidence_3</th>\n",
       "    </tr>\n",
       "  </thead>\n",
       "  <tbody>\n",
       "    <tr>\n",
       "      <th>0</th>\n",
       "      <td>189311802</td>\n",
       "      <td>ZRV-00001972</td>\n",
       "      <td>2010</td>\n",
       "      <td>2010-10-01</td>\n",
       "      <td>24</td>\n",
       "      <td>4</td>\n",
       "      <td>Barcelona</td>\n",
       "      <td>Sentmenat</td>\n",
       "      <td>2001</td>\n",
       "      <td>160.0</td>\n",
       "      <td>117.831</td>\n",
       "      <td>4.0</td>\n",
       "      <td>0</td>\n",
       "      <td>0</td>\n",
       "      <td>0</td>\n",
       "      <td>Friday</td>\n",
       "      <td>1</td>\n",
       "      <td>0</td>\n",
       "      <td>0</td>\n",
       "      <td>0</td>\n",
       "      <td>1</td>\n",
       "      <td>0</td>\n",
       "      <td>40.0</td>\n",
       "      <td>9</td>\n",
       "      <td>1</td>\n",
       "      <td>0</td>\n",
       "      <td>0</td>\n",
       "      <td>0</td>\n",
       "    </tr>\n",
       "  </tbody>\n",
       "</table>\n",
       "</div>"
      ],
      "text/plain": [
       "      PipeId MaintenanceId  InspectionYear InspectionDate  MonthsLastRev  \\\n",
       "0  189311802  ZRV-00001972            2010     2010-10-01             24   \n",
       "\n",
       "   Severity   Province       Town  YearBuilt  Diameter   Length  Pressure  \\\n",
       "0         4  Barcelona  Sentmenat       2001     160.0  117.831       4.0   \n",
       "\n",
       "   NumConnections  NumConnectionsUnder  BoolBridle InspectionDay  gas_natural  \\\n",
       "0               0                    0           0        Friday            1   \n",
       "\n",
       "   Material_Acrylonitrile-Butadiene-Styrene  Material_Copper  \\\n",
       "0                                         0                0   \n",
       "\n",
       "   Material_Fiberglass-Reinforced Plastic  Material_Polyethylene  \\\n",
       "0                                       0                      1   \n",
       "\n",
       "   Material_Polypropylene  Relative_Thickness  Age_of_Pipe_upon_inspection  \\\n",
       "0                       0                40.0                            9   \n",
       "\n",
       "   Severity_Incidence_0  Severity_Incidence_1  Severity_Incidence_2  \\\n",
       "0                     1                     0                     0   \n",
       "\n",
       "   Severity_Incidence_3  \n",
       "0                     0  "
      ]
     },
     "execution_count": 49,
     "metadata": {},
     "output_type": "execute_result"
    }
   ],
   "source": [
    "#hot encode severity_incidence column in the df_combined_mod dataframe\n",
    "df_combined_mod = pd.get_dummies(df_combined_mod, columns=['Severity_Incidence'], prefix = ['Severity_Incidence'])\n",
    "df_combined_mod.head(1)"
   ]
  },
  {
   "cell_type": "code",
   "execution_count": 50,
   "id": "fd252d4a",
   "metadata": {},
   "outputs": [
    {
     "data": {
      "text/html": [
       "<div>\n",
       "<style scoped>\n",
       "    .dataframe tbody tr th:only-of-type {\n",
       "        vertical-align: middle;\n",
       "    }\n",
       "\n",
       "    .dataframe tbody tr th {\n",
       "        vertical-align: top;\n",
       "    }\n",
       "\n",
       "    .dataframe thead th {\n",
       "        text-align: right;\n",
       "    }\n",
       "</style>\n",
       "<table border=\"1\" class=\"dataframe\">\n",
       "  <thead>\n",
       "    <tr style=\"text-align: right;\">\n",
       "      <th></th>\n",
       "      <th>PipeId</th>\n",
       "      <th>MaintenanceId</th>\n",
       "      <th>InspectionYear</th>\n",
       "      <th>InspectionDate</th>\n",
       "      <th>MonthsLastRev</th>\n",
       "      <th>Severity</th>\n",
       "      <th>Province</th>\n",
       "      <th>Town</th>\n",
       "      <th>YearBuilt</th>\n",
       "      <th>Diameter</th>\n",
       "      <th>Length</th>\n",
       "      <th>Pressure</th>\n",
       "      <th>NumConnections</th>\n",
       "      <th>NumConnectionsUnder</th>\n",
       "      <th>BoolBridle</th>\n",
       "      <th>InspectionDay</th>\n",
       "      <th>gas_natural</th>\n",
       "      <th>Material_Acrylonitrile-Butadiene-Styrene</th>\n",
       "      <th>Material_Copper</th>\n",
       "      <th>Material_Fiberglass-Reinforced Plastic</th>\n",
       "      <th>Material_Polyethylene</th>\n",
       "      <th>Material_Polypropylene</th>\n",
       "      <th>Relative_Thickness</th>\n",
       "      <th>Age_of_Pipe_upon_inspection</th>\n",
       "      <th>Severity_0</th>\n",
       "      <th>Severity_low</th>\n",
       "      <th>Severity_medium</th>\n",
       "      <th>Severity_high</th>\n",
       "    </tr>\n",
       "  </thead>\n",
       "  <tbody>\n",
       "    <tr>\n",
       "      <th>0</th>\n",
       "      <td>189311802</td>\n",
       "      <td>ZRV-00001972</td>\n",
       "      <td>2010</td>\n",
       "      <td>2010-10-01</td>\n",
       "      <td>24</td>\n",
       "      <td>4</td>\n",
       "      <td>Barcelona</td>\n",
       "      <td>Sentmenat</td>\n",
       "      <td>2001</td>\n",
       "      <td>160.0</td>\n",
       "      <td>117.831</td>\n",
       "      <td>4.0</td>\n",
       "      <td>0</td>\n",
       "      <td>0</td>\n",
       "      <td>0</td>\n",
       "      <td>Friday</td>\n",
       "      <td>1</td>\n",
       "      <td>0</td>\n",
       "      <td>0</td>\n",
       "      <td>0</td>\n",
       "      <td>1</td>\n",
       "      <td>0</td>\n",
       "      <td>40.0</td>\n",
       "      <td>9</td>\n",
       "      <td>1</td>\n",
       "      <td>0</td>\n",
       "      <td>0</td>\n",
       "      <td>0</td>\n",
       "    </tr>\n",
       "  </tbody>\n",
       "</table>\n",
       "</div>"
      ],
      "text/plain": [
       "      PipeId MaintenanceId  InspectionYear InspectionDate  MonthsLastRev  \\\n",
       "0  189311802  ZRV-00001972            2010     2010-10-01             24   \n",
       "\n",
       "   Severity   Province       Town  YearBuilt  Diameter   Length  Pressure  \\\n",
       "0         4  Barcelona  Sentmenat       2001     160.0  117.831       4.0   \n",
       "\n",
       "   NumConnections  NumConnectionsUnder  BoolBridle InspectionDay  gas_natural  \\\n",
       "0               0                    0           0        Friday            1   \n",
       "\n",
       "   Material_Acrylonitrile-Butadiene-Styrene  Material_Copper  \\\n",
       "0                                         0                0   \n",
       "\n",
       "   Material_Fiberglass-Reinforced Plastic  Material_Polyethylene  \\\n",
       "0                                       0                      1   \n",
       "\n",
       "   Material_Polypropylene  Relative_Thickness  Age_of_Pipe_upon_inspection  \\\n",
       "0                       0                40.0                            9   \n",
       "\n",
       "   Severity_0  Severity_low  Severity_medium  Severity_high  \n",
       "0           1             0                0              0  "
      ]
     },
     "execution_count": 50,
     "metadata": {},
     "output_type": "execute_result"
    }
   ],
   "source": [
    "#change name of Severity_Incidence_0 column to Severity_0\n",
    "df_combined_mod = df_combined_mod.rename(columns={'Severity_Incidence_0': 'Severity_0'})\n",
    "#change name of Severity_Incidence_1 column to Severity_low\n",
    "df_combined_mod = df_combined_mod.rename(columns={'Severity_Incidence_1': 'Severity_low'})\n",
    "#change name of Severity_Incidence_2 column to Severity_medium\n",
    "df_combined_mod = df_combined_mod.rename(columns={'Severity_Incidence_2': 'Severity_medium'})\n",
    "#change name of Severity_Incidence_3 column to Severity_high\n",
    "df_combined_mod = df_combined_mod.rename(columns={'Severity_Incidence_3': 'Severity_high'})\n",
    "df_combined_mod.head(1)\n"
   ]
  },
  {
   "cell_type": "code",
   "execution_count": 62,
   "id": "0624b032",
   "metadata": {},
   "outputs": [
    {
     "data": {
      "text/plain": [
       "(6114918, 27)"
      ]
     },
     "execution_count": 62,
     "metadata": {},
     "output_type": "execute_result"
    }
   ],
   "source": [
    "df_combined_mod.shape"
   ]
  },
  {
   "cell_type": "code",
   "execution_count": 63,
   "id": "9609c9f8",
   "metadata": {},
   "outputs": [
    {
     "data": {
      "text/plain": [
       "InspectionYear  Severity_high\n",
       "2010            0                 91831\n",
       "                1                    12\n",
       "2011            0                506105\n",
       "                1                   899\n",
       "2012            0                591783\n",
       "                1                   924\n",
       "2013            0                559868\n",
       "                1                   735\n",
       "2014            0                575800\n",
       "                1                   670\n",
       "2015            0                593991\n",
       "                1                   543\n",
       "2016            0                606081\n",
       "                1                   828\n",
       "2017            0                656796\n",
       "                1                  1416\n",
       "2018            0                628830\n",
       "                1                   904\n",
       "2019            0                663457\n",
       "                1                  1018\n",
       "2020            0                630366\n",
       "                1                   779\n",
       "2021            0                  1280\n",
       "                1                     2\n",
       "Name: Severity_high, dtype: int64"
      ]
     },
     "execution_count": 63,
     "metadata": {},
     "output_type": "execute_result"
    }
   ],
   "source": [
    "#General number of high severity per year\n",
    "df_combined_mod.groupby('InspectionYear')['Severity_high'].value_counts()"
   ]
  },
  {
   "cell_type": "code",
   "execution_count": 66,
   "id": "bdbc8434",
   "metadata": {},
   "outputs": [
    {
     "data": {
      "text/plain": [
       "PipeId                                               int64\n",
       "MaintenanceId                                       object\n",
       "InspectionYear                                       int64\n",
       "InspectionDate                              datetime64[ns]\n",
       "MonthsLastRev                                        int64\n",
       "Province                                            object\n",
       "Town                                                object\n",
       "YearBuilt                                            int64\n",
       "Diameter                                           float64\n",
       "Length                                             float64\n",
       "Pressure                                           float64\n",
       "NumConnections                                       int64\n",
       "NumConnectionsUnder                                  int64\n",
       "BoolBridle                                           int64\n",
       "InspectionDay                                       object\n",
       "gas_natural                                          uint8\n",
       "Material_Acrylonitrile-Butadiene-Styrene             uint8\n",
       "Material_Copper                                      uint8\n",
       "Material_Fiberglass-Reinforced Plastic               uint8\n",
       "Material_Polyethylene                                uint8\n",
       "Material_Polypropylene                               uint8\n",
       "Relative_Thickness                                 float64\n",
       "Age_of_Pipe_upon_inspection                          int64\n",
       "Severity_0                                           uint8\n",
       "Severity_low                                         uint8\n",
       "Severity_medium                                      uint8\n",
       "Severity_high                                        uint8\n",
       "dtype: object"
      ]
     },
     "execution_count": 66,
     "metadata": {},
     "output_type": "execute_result"
    }
   ],
   "source": [
    "df_combined_mod.dtypes"
   ]
  },
  {
   "attachments": {},
   "cell_type": "markdown",
   "id": "928a5d1a",
   "metadata": {},
   "source": [
    "# Exporting the new dataset for a backup"
   ]
  },
  {
   "cell_type": "code",
   "execution_count": 73,
   "id": "b7331945",
   "metadata": {},
   "outputs": [],
   "source": [
    "#point to the folder where the data is stored\n",
    "os.chdir(r\"C:\\Users\\pedro\\datathon\")\n",
    "#export the dataframe to a csv file\n",
    "df_combined_mod.to_csv('df_combined_mod.csv', index=False)"
   ]
  },
  {
   "attachments": {},
   "cell_type": "markdown",
   "id": "b765acd0",
   "metadata": {},
   "source": [
    "# Plotting EDA for new dataset"
   ]
  },
  {
   "cell_type": "code",
   "execution_count": 75,
   "id": "a4f8b724",
   "metadata": {},
   "outputs": [
    {
     "data": {
      "application/vnd.jupyter.widget-view+json": {
       "model_id": "dfc6d992420744dc8078c1824974f84f",
       "version_major": 2,
       "version_minor": 0
      },
      "text/plain": [
       "Summarize dataset:   0%|          | 0/5 [00:00<?, ?it/s]"
      ]
     },
     "metadata": {},
     "output_type": "display_data"
    }
   ],
   "source": [
    "#pandas profiling on the df_combined_mod dataframe\n",
    "profile = ProfileReport(df_combined_mod, title='Pandas Profiling Report', html={'style':{'full_width':True}})\n",
    "profile"
   ]
  },
  {
   "attachments": {},
   "cell_type": "markdown",
   "id": "1ab2fde8",
   "metadata": {},
   "source": [
    "# Baseline for df_combined alone \n",
    "df__combined_mod reached 86% and locked after230 min"
   ]
  },
  {
   "cell_type": "code",
   "execution_count": 54,
   "id": "51e17351",
   "metadata": {},
   "outputs": [],
   "source": [
    "#make a new dataframe removing columns that are not needed for the model from the df_combined_mod dataframe\n",
    "df_model = df_combined_mod.drop(['InspectionYear', 'MaintenanceId', 'Province', 'Town', 'InspectionDate'], axis=1)\n"
   ]
  },
  {
   "cell_type": "code",
   "execution_count": 55,
   "id": "3222a1c2",
   "metadata": {},
   "outputs": [
    {
     "data": {
      "text/html": [
       "<div>\n",
       "<style scoped>\n",
       "    .dataframe tbody tr th:only-of-type {\n",
       "        vertical-align: middle;\n",
       "    }\n",
       "\n",
       "    .dataframe tbody tr th {\n",
       "        vertical-align: top;\n",
       "    }\n",
       "\n",
       "    .dataframe thead th {\n",
       "        text-align: right;\n",
       "    }\n",
       "</style>\n",
       "<table border=\"1\" class=\"dataframe\">\n",
       "  <thead>\n",
       "    <tr style=\"text-align: right;\">\n",
       "      <th></th>\n",
       "      <th>PipeId</th>\n",
       "      <th>MonthsLastRev</th>\n",
       "      <th>Incidence</th>\n",
       "      <th>YearBuilt</th>\n",
       "      <th>Diameter</th>\n",
       "      <th>Length</th>\n",
       "      <th>Pressure</th>\n",
       "      <th>NumConnections</th>\n",
       "      <th>NumConnectionsUnder</th>\n",
       "      <th>BoolBridle</th>\n",
       "      <th>GasType_Gas natural</th>\n",
       "      <th>GasType_Gas propano</th>\n",
       "      <th>Material_Acrylonitrile-Butadiene-Styrene</th>\n",
       "      <th>Material_Copper</th>\n",
       "      <th>Material_Fiberglass</th>\n",
       "      <th>Material_Fiberglass-Reinforced Plastic</th>\n",
       "      <th>Material_Flexible Polyolefin</th>\n",
       "      <th>Material_Flexible Polyvinyl Chloride</th>\n",
       "      <th>Material_Polyamide</th>\n",
       "      <th>Material_Polyethylene</th>\n",
       "      <th>Material_Polypropylene</th>\n",
       "      <th>Material_Polyvinylidene Fluoride</th>\n",
       "      <th>Material_Zinc-Coated Steel</th>\n",
       "      <th>Severity_Low</th>\n",
       "      <th>Severity_Medium</th>\n",
       "      <th>Severity_High</th>\n",
       "      <th>Severity_Critical</th>\n",
       "      <th>Age_of_Pipe</th>\n",
       "      <th>Relative_Thickness</th>\n",
       "    </tr>\n",
       "  </thead>\n",
       "  <tbody>\n",
       "    <tr>\n",
       "      <th>0</th>\n",
       "      <td>189311802</td>\n",
       "      <td>24</td>\n",
       "      <td>0</td>\n",
       "      <td>2001</td>\n",
       "      <td>160.0</td>\n",
       "      <td>117.831</td>\n",
       "      <td>4.0</td>\n",
       "      <td>0</td>\n",
       "      <td>0</td>\n",
       "      <td>0</td>\n",
       "      <td>1</td>\n",
       "      <td>0</td>\n",
       "      <td>0</td>\n",
       "      <td>0</td>\n",
       "      <td>0</td>\n",
       "      <td>0</td>\n",
       "      <td>0</td>\n",
       "      <td>0</td>\n",
       "      <td>0</td>\n",
       "      <td>1</td>\n",
       "      <td>0</td>\n",
       "      <td>0</td>\n",
       "      <td>0</td>\n",
       "      <td>0</td>\n",
       "      <td>0</td>\n",
       "      <td>0</td>\n",
       "      <td>1</td>\n",
       "      <td>22</td>\n",
       "      <td>40.0</td>\n",
       "    </tr>\n",
       "    <tr>\n",
       "      <th>1</th>\n",
       "      <td>189311802</td>\n",
       "      <td>24</td>\n",
       "      <td>0</td>\n",
       "      <td>2001</td>\n",
       "      <td>160.0</td>\n",
       "      <td>117.831</td>\n",
       "      <td>4.0</td>\n",
       "      <td>0</td>\n",
       "      <td>0</td>\n",
       "      <td>0</td>\n",
       "      <td>1</td>\n",
       "      <td>0</td>\n",
       "      <td>0</td>\n",
       "      <td>0</td>\n",
       "      <td>0</td>\n",
       "      <td>0</td>\n",
       "      <td>0</td>\n",
       "      <td>0</td>\n",
       "      <td>0</td>\n",
       "      <td>1</td>\n",
       "      <td>0</td>\n",
       "      <td>0</td>\n",
       "      <td>0</td>\n",
       "      <td>0</td>\n",
       "      <td>0</td>\n",
       "      <td>0</td>\n",
       "      <td>1</td>\n",
       "      <td>22</td>\n",
       "      <td>40.0</td>\n",
       "    </tr>\n",
       "  </tbody>\n",
       "</table>\n",
       "</div>"
      ],
      "text/plain": [
       "      PipeId  MonthsLastRev  Incidence  YearBuilt  Diameter   Length  \\\n",
       "0  189311802             24          0       2001     160.0  117.831   \n",
       "1  189311802             24          0       2001     160.0  117.831   \n",
       "\n",
       "   Pressure  NumConnections  NumConnectionsUnder  BoolBridle  \\\n",
       "0       4.0               0                    0           0   \n",
       "1       4.0               0                    0           0   \n",
       "\n",
       "   GasType_Gas natural  GasType_Gas propano  \\\n",
       "0                    1                    0   \n",
       "1                    1                    0   \n",
       "\n",
       "   Material_Acrylonitrile-Butadiene-Styrene  Material_Copper  \\\n",
       "0                                         0                0   \n",
       "1                                         0                0   \n",
       "\n",
       "   Material_Fiberglass  Material_Fiberglass-Reinforced Plastic  \\\n",
       "0                    0                                       0   \n",
       "1                    0                                       0   \n",
       "\n",
       "   Material_Flexible Polyolefin  Material_Flexible Polyvinyl Chloride  \\\n",
       "0                             0                                     0   \n",
       "1                             0                                     0   \n",
       "\n",
       "   Material_Polyamide  Material_Polyethylene  Material_Polypropylene  \\\n",
       "0                   0                      1                       0   \n",
       "1                   0                      1                       0   \n",
       "\n",
       "   Material_Polyvinylidene Fluoride  Material_Zinc-Coated Steel  Severity_Low  \\\n",
       "0                                 0                           0             0   \n",
       "1                                 0                           0             0   \n",
       "\n",
       "   Severity_Medium  Severity_High  Severity_Critical  Age_of_Pipe  \\\n",
       "0                0              0                  1           22   \n",
       "1                0              0                  1           22   \n",
       "\n",
       "   Relative_Thickness  \n",
       "0                40.0  \n",
       "1                40.0  "
      ]
     },
     "execution_count": 55,
     "metadata": {},
     "output_type": "execute_result"
    }
   ],
   "source": [
    "df_model.head(2)"
   ]
  },
  {
   "cell_type": "code",
   "execution_count": 56,
   "id": "10ff1c91",
   "metadata": {},
   "outputs": [],
   "source": [
    "#split df_combined_mod into train and test set\n",
    "from sklearn.model_selection import train_test_split\n",
    "X_train, X_test, y_train, y_test = train_test_split(df_model.drop(['Incidence'], axis=1), df_model['Incidence'], test_size=0.2, random_state=42)\n"
   ]
  },
  {
   "cell_type": "code",
   "execution_count": 57,
   "id": "336dae3d",
   "metadata": {},
   "outputs": [
    {
     "name": "stderr",
     "output_type": "stream",
     "text": [
      "  3%|▎         | 1/29 [00:12<05:58, 12.80s/it]"
     ]
    },
    {
     "name": "stdout",
     "output_type": "stream",
     "text": [
      "{'Model': 'AdaBoostClassifier', 'Accuracy': 1.0, 'Balanced Accuracy': 1.0, 'ROC AUC': 1.0, 'F1 Score': 1.0, 'Time taken': 12.795071363449097}\n"
     ]
    },
    {
     "name": "stderr",
     "output_type": "stream",
     "text": [
      "  7%|▋         | 2/29 [01:08<17:05, 37.99s/it]"
     ]
    },
    {
     "name": "stdout",
     "output_type": "stream",
     "text": [
      "{'Model': 'BaggingClassifier', 'Accuracy': 1.0, 'Balanced Accuracy': 1.0, 'ROC AUC': 1.0, 'F1 Score': 1.0, 'Time taken': 55.61998963356018}\n"
     ]
    },
    {
     "name": "stderr",
     "output_type": "stream",
     "text": [
      " 10%|█         | 3/29 [01:16<10:30, 24.23s/it]"
     ]
    },
    {
     "name": "stdout",
     "output_type": "stream",
     "text": [
      "{'Model': 'BernoulliNB', 'Accuracy': 1.0, 'Balanced Accuracy': 1.0, 'ROC AUC': 1.0, 'F1 Score': 1.0, 'Time taken': 7.86034369468689}\n"
     ]
    }
   ],
   "source": [
    "#use lazy predict to create a baseline with all possible models\n",
    "from lazypredict.Supervised import LazyClassifier\n",
    "clf = LazyClassifier(verbose=1, ignore_warnings=False, custom_metric=None)\n",
    "models, predictions = clf.fit(X_train, X_test, y_train, y_test)\n",
    "models"
   ]
  },
  {
   "cell_type": "code",
   "execution_count": 65,
   "id": "5c9e73b6",
   "metadata": {},
   "outputs": [],
   "source": [
    "#split df_combined_mod into train and test set\n",
    "#from sklearn.model_selection import train_test_split\n",
    "#X_train, X_test, y_train, y_test = train_test_split(df_combined_mod.drop(['Incidence'], axis=1), df_combined_mod['Incidence'], test_size=0.2, random_state=42)\n"
   ]
  },
  {
   "cell_type": "code",
   "execution_count": 67,
   "id": "9469a90a",
   "metadata": {},
   "outputs": [
    {
     "name": "stderr",
     "output_type": "stream",
     "text": [
      " 86%|████████▌ | 25/29 [35:56<05:54, 88.59s/it]  "
     ]
    }
   ],
   "source": [
    "#use lazy predict to create a baseline with all possible models\n",
    "#from lazypredict.Supervised import LazyClassifier\n",
    "#clf = LazyClassifier(verbose=1, ignore_warnings=False, custom_metric=None)\n",
    "#models, predictions = clf.fit(X_train, X_test, y_train, y_test)\n",
    "#models"
   ]
  },
  {
   "attachments": {},
   "cell_type": "markdown",
   "id": "559950df",
   "metadata": {},
   "source": [
    "# DO NOT TOUCH SECTION :)\n",
    "# After creating baseline, normalizing and stratyfing, in that order"
   ]
  },
  {
   "cell_type": "code",
   "execution_count": 64,
   "id": "12283e86",
   "metadata": {},
   "outputs": [],
   "source": [
    "df_combined_mod_norm = df_combined_mod.copy()"
   ]
  },
  {
   "cell_type": "code",
   "execution_count": null,
   "id": "e4662cc7",
   "metadata": {},
   "outputs": [],
   "source": [
    "#apply normalization and standardization to the df_combined_mod_norm dataframe\n",
    "for i in df_combined_mod_norm.columns:\n",
    "    if 'Material' in i:\n",
    "        df_combined_mod_norm[i] = (df_combined_mod_norm[i] - df_combined_mod_norm[i].mean()) / df_combined_mod_norm[i].std()\n",
    "    if 'Severity' in i:\n",
    "        df_combined_mod_norm[i] = (df_combined_mod_norm[i] - df_combined_mod_norm[i].mean()) / df_combined_mod_norm[i].std()\n",
    "    if 'Incidence' in i:\n",
    "        df_combined_mod_norm[i] = (df_combined_mod_norm[i] - df_combined_mod_norm[i].mean()) / df_combined_mod_norm[i].std()\n",
    "    if 'Age_of_Pipe' in i:\n",
    "        df_combined_mod_norm[i] = (df_combined_mod_norm[i] - df_combined_mod_norm[i].mean()) / df_combined_mod_norm[i].std()\n",
    "    if 'Relative_Thickness' in i:\n",
    "        df_combined_mod_norm[i] = (df_combined_mod_norm[i] - df_combined_mod_norm[i].mean()) / df_combined_mod_norm[i].std()\n",
    "    if 'Diameter' in i:\n",
    "        df_combined_mod_norm[i] = (df_combined_mod_norm[i] - df_combined_mod_norm[i].mean()) / df_combined_mod_norm[i].std()\n",
    "    if 'Pressure' in i:\n",
    "        df_combined_mod_norm[i] = (df_combined_mod_norm[i] - df_combined_mod_norm[i].mean()) / df_combined_mod_norm[i].std()\n",
    "    if 'YearBuilt' in i:\n",
    "        df_combined_mod_norm[i] = (df_combined_mod_norm[i] - df_combined_mod_norm[i].mean()) / df_combined_mod_norm[i].std()\n",
    "    if 'InspectionYear' in i:\n",
    "        df_combined_mod_norm[i] = (df_combined_mod_norm[i] - df_combined_mod_norm[i].mean()) / df_combined_mod_norm[i].std()\n",
    "    if 'Material_Cast Iron' in i:\n",
    "        df_combined_mod_norm[i] = (df_combined_mod_norm[i] - df_combined_mod_norm[i].mean()) / df_combined_mod_norm[i].std()\n",
    "    if 'Material_Concrete' in i:\n",
    "        df_combined_mod_norm[i] = (df_combined_mod_norm[i] - df_combined_mod_norm[i].mean()) / df_combined_mod_norm[i].std()\n",
    "    if 'Material_Fiberglass' in i:\n",
    "        df_combined_mod_norm[i] = (df_combined_mod_norm"
   ]
  },
  {
   "cell_type": "code",
   "execution_count": 63,
   "id": "52e67e04",
   "metadata": {},
   "outputs": [
    {
     "ename": "ValueError",
     "evalue": "could not convert string to float: 'ZRV-00001972'",
     "output_type": "error",
     "traceback": [
      "\u001b[1;31m---------------------------------------------------------------------------\u001b[0m",
      "\u001b[1;31mValueError\u001b[0m                                Traceback (most recent call last)",
      "Cell \u001b[1;32mIn[63], line 5\u001b[0m\n\u001b[0;32m      3\u001b[0m X \u001b[39m=\u001b[39m df_combined_mod\u001b[39m.\u001b[39mdrop([\u001b[39m'\u001b[39m\u001b[39mIncidence\u001b[39m\u001b[39m'\u001b[39m], axis\u001b[39m=\u001b[39m\u001b[39m1\u001b[39m)\n\u001b[0;32m      4\u001b[0m y \u001b[39m=\u001b[39m df_combined_mod[\u001b[39m'\u001b[39m\u001b[39mIncidence\u001b[39m\u001b[39m'\u001b[39m]\n\u001b[1;32m----> 5\u001b[0m X_resampled, y_resampled \u001b[39m=\u001b[39m SMOTE()\u001b[39m.\u001b[39;49mfit_resample(X, y)\n\u001b[0;32m      6\u001b[0m \u001b[39mprint\u001b[39m(\u001b[39msorted\u001b[39m(Counter(y_resampled)\u001b[39m.\u001b[39mitems()))\n",
      "File \u001b[1;32mc:\\Users\\pedro\\anaconda3\\lib\\site-packages\\imblearn\\base.py:203\u001b[0m, in \u001b[0;36mBaseSampler.fit_resample\u001b[1;34m(self, X, y)\u001b[0m\n\u001b[0;32m    182\u001b[0m \u001b[39m\u001b[39m\u001b[39m\"\"\"Resample the dataset.\u001b[39;00m\n\u001b[0;32m    183\u001b[0m \n\u001b[0;32m    184\u001b[0m \u001b[39mParameters\u001b[39;00m\n\u001b[1;32m   (...)\u001b[0m\n\u001b[0;32m    200\u001b[0m \u001b[39m    The corresponding label of `X_resampled`.\u001b[39;00m\n\u001b[0;32m    201\u001b[0m \u001b[39m\"\"\"\u001b[39;00m\n\u001b[0;32m    202\u001b[0m \u001b[39mself\u001b[39m\u001b[39m.\u001b[39m_validate_params()\n\u001b[1;32m--> 203\u001b[0m \u001b[39mreturn\u001b[39;00m \u001b[39msuper\u001b[39;49m()\u001b[39m.\u001b[39;49mfit_resample(X, y)\n",
      "File \u001b[1;32mc:\\Users\\pedro\\anaconda3\\lib\\site-packages\\imblearn\\base.py:82\u001b[0m, in \u001b[0;36mSamplerMixin.fit_resample\u001b[1;34m(self, X, y)\u001b[0m\n\u001b[0;32m     80\u001b[0m check_classification_targets(y)\n\u001b[0;32m     81\u001b[0m arrays_transformer \u001b[39m=\u001b[39m ArraysTransformer(X, y)\n\u001b[1;32m---> 82\u001b[0m X, y, binarize_y \u001b[39m=\u001b[39m \u001b[39mself\u001b[39;49m\u001b[39m.\u001b[39;49m_check_X_y(X, y)\n\u001b[0;32m     84\u001b[0m \u001b[39mself\u001b[39m\u001b[39m.\u001b[39msampling_strategy_ \u001b[39m=\u001b[39m check_sampling_strategy(\n\u001b[0;32m     85\u001b[0m     \u001b[39mself\u001b[39m\u001b[39m.\u001b[39msampling_strategy, y, \u001b[39mself\u001b[39m\u001b[39m.\u001b[39m_sampling_type\n\u001b[0;32m     86\u001b[0m )\n\u001b[0;32m     88\u001b[0m output \u001b[39m=\u001b[39m \u001b[39mself\u001b[39m\u001b[39m.\u001b[39m_fit_resample(X, y)\n",
      "File \u001b[1;32mc:\\Users\\pedro\\anaconda3\\lib\\site-packages\\imblearn\\base.py:156\u001b[0m, in \u001b[0;36mBaseSampler._check_X_y\u001b[1;34m(self, X, y, accept_sparse)\u001b[0m\n\u001b[0;32m    154\u001b[0m     accept_sparse \u001b[39m=\u001b[39m [\u001b[39m\"\u001b[39m\u001b[39mcsr\u001b[39m\u001b[39m\"\u001b[39m, \u001b[39m\"\u001b[39m\u001b[39mcsc\u001b[39m\u001b[39m\"\u001b[39m]\n\u001b[0;32m    155\u001b[0m y, binarize_y \u001b[39m=\u001b[39m check_target_type(y, indicate_one_vs_all\u001b[39m=\u001b[39m\u001b[39mTrue\u001b[39;00m)\n\u001b[1;32m--> 156\u001b[0m X, y \u001b[39m=\u001b[39m \u001b[39mself\u001b[39;49m\u001b[39m.\u001b[39;49m_validate_data(X, y, reset\u001b[39m=\u001b[39;49m\u001b[39mTrue\u001b[39;49;00m, accept_sparse\u001b[39m=\u001b[39;49maccept_sparse)\n\u001b[0;32m    157\u001b[0m \u001b[39mreturn\u001b[39;00m X, y, binarize_y\n",
      "File \u001b[1;32mc:\\Users\\pedro\\anaconda3\\lib\\site-packages\\sklearn\\base.py:581\u001b[0m, in \u001b[0;36mBaseEstimator._validate_data\u001b[1;34m(self, X, y, reset, validate_separately, **check_params)\u001b[0m\n\u001b[0;32m    579\u001b[0m         y \u001b[39m=\u001b[39m check_array(y, \u001b[39m*\u001b[39m\u001b[39m*\u001b[39mcheck_y_params)\n\u001b[0;32m    580\u001b[0m     \u001b[39melse\u001b[39;00m:\n\u001b[1;32m--> 581\u001b[0m         X, y \u001b[39m=\u001b[39m check_X_y(X, y, \u001b[39m*\u001b[39m\u001b[39m*\u001b[39mcheck_params)\n\u001b[0;32m    582\u001b[0m     out \u001b[39m=\u001b[39m X, y\n\u001b[0;32m    584\u001b[0m \u001b[39mif\u001b[39;00m \u001b[39mnot\u001b[39;00m no_val_X \u001b[39mand\u001b[39;00m check_params\u001b[39m.\u001b[39mget(\u001b[39m\"\u001b[39m\u001b[39mensure_2d\u001b[39m\u001b[39m\"\u001b[39m, \u001b[39mTrue\u001b[39;00m):\n",
      "File \u001b[1;32mc:\\Users\\pedro\\anaconda3\\lib\\site-packages\\sklearn\\utils\\validation.py:964\u001b[0m, in \u001b[0;36mcheck_X_y\u001b[1;34m(X, y, accept_sparse, accept_large_sparse, dtype, order, copy, force_all_finite, ensure_2d, allow_nd, multi_output, ensure_min_samples, ensure_min_features, y_numeric, estimator)\u001b[0m\n\u001b[0;32m    961\u001b[0m \u001b[39mif\u001b[39;00m y \u001b[39mis\u001b[39;00m \u001b[39mNone\u001b[39;00m:\n\u001b[0;32m    962\u001b[0m     \u001b[39mraise\u001b[39;00m \u001b[39mValueError\u001b[39;00m(\u001b[39m\"\u001b[39m\u001b[39my cannot be None\u001b[39m\u001b[39m\"\u001b[39m)\n\u001b[1;32m--> 964\u001b[0m X \u001b[39m=\u001b[39m check_array(\n\u001b[0;32m    965\u001b[0m     X,\n\u001b[0;32m    966\u001b[0m     accept_sparse\u001b[39m=\u001b[39;49maccept_sparse,\n\u001b[0;32m    967\u001b[0m     accept_large_sparse\u001b[39m=\u001b[39;49maccept_large_sparse,\n\u001b[0;32m    968\u001b[0m     dtype\u001b[39m=\u001b[39;49mdtype,\n\u001b[0;32m    969\u001b[0m     order\u001b[39m=\u001b[39;49morder,\n\u001b[0;32m    970\u001b[0m     copy\u001b[39m=\u001b[39;49mcopy,\n\u001b[0;32m    971\u001b[0m     force_all_finite\u001b[39m=\u001b[39;49mforce_all_finite,\n\u001b[0;32m    972\u001b[0m     ensure_2d\u001b[39m=\u001b[39;49mensure_2d,\n\u001b[0;32m    973\u001b[0m     allow_nd\u001b[39m=\u001b[39;49mallow_nd,\n\u001b[0;32m    974\u001b[0m     ensure_min_samples\u001b[39m=\u001b[39;49mensure_min_samples,\n\u001b[0;32m    975\u001b[0m     ensure_min_features\u001b[39m=\u001b[39;49mensure_min_features,\n\u001b[0;32m    976\u001b[0m     estimator\u001b[39m=\u001b[39;49mestimator,\n\u001b[0;32m    977\u001b[0m )\n\u001b[0;32m    979\u001b[0m y \u001b[39m=\u001b[39m _check_y(y, multi_output\u001b[39m=\u001b[39mmulti_output, y_numeric\u001b[39m=\u001b[39my_numeric)\n\u001b[0;32m    981\u001b[0m check_consistent_length(X, y)\n",
      "File \u001b[1;32mc:\\Users\\pedro\\anaconda3\\lib\\site-packages\\sklearn\\utils\\validation.py:746\u001b[0m, in \u001b[0;36mcheck_array\u001b[1;34m(array, accept_sparse, accept_large_sparse, dtype, order, copy, force_all_finite, ensure_2d, allow_nd, ensure_min_samples, ensure_min_features, estimator)\u001b[0m\n\u001b[0;32m    744\u001b[0m         array \u001b[39m=\u001b[39m array\u001b[39m.\u001b[39mastype(dtype, casting\u001b[39m=\u001b[39m\u001b[39m\"\u001b[39m\u001b[39munsafe\u001b[39m\u001b[39m\"\u001b[39m, copy\u001b[39m=\u001b[39m\u001b[39mFalse\u001b[39;00m)\n\u001b[0;32m    745\u001b[0m     \u001b[39melse\u001b[39;00m:\n\u001b[1;32m--> 746\u001b[0m         array \u001b[39m=\u001b[39m np\u001b[39m.\u001b[39;49masarray(array, order\u001b[39m=\u001b[39;49morder, dtype\u001b[39m=\u001b[39;49mdtype)\n\u001b[0;32m    747\u001b[0m \u001b[39mexcept\u001b[39;00m ComplexWarning \u001b[39mas\u001b[39;00m complex_warning:\n\u001b[0;32m    748\u001b[0m     \u001b[39mraise\u001b[39;00m \u001b[39mValueError\u001b[39;00m(\n\u001b[0;32m    749\u001b[0m         \u001b[39m\"\u001b[39m\u001b[39mComplex data not supported\u001b[39m\u001b[39m\\n\u001b[39;00m\u001b[39m{}\u001b[39;00m\u001b[39m\\n\u001b[39;00m\u001b[39m\"\u001b[39m\u001b[39m.\u001b[39mformat(array)\n\u001b[0;32m    750\u001b[0m     ) \u001b[39mfrom\u001b[39;00m \u001b[39mcomplex_warning\u001b[39;00m\n",
      "File \u001b[1;32mc:\\Users\\pedro\\anaconda3\\lib\\site-packages\\pandas\\core\\generic.py:2064\u001b[0m, in \u001b[0;36mNDFrame.__array__\u001b[1;34m(self, dtype)\u001b[0m\n\u001b[0;32m   2063\u001b[0m \u001b[39mdef\u001b[39;00m \u001b[39m__array__\u001b[39m(\u001b[39mself\u001b[39m, dtype: npt\u001b[39m.\u001b[39mDTypeLike \u001b[39m|\u001b[39m \u001b[39mNone\u001b[39;00m \u001b[39m=\u001b[39m \u001b[39mNone\u001b[39;00m) \u001b[39m-\u001b[39m\u001b[39m>\u001b[39m np\u001b[39m.\u001b[39mndarray:\n\u001b[1;32m-> 2064\u001b[0m     \u001b[39mreturn\u001b[39;00m np\u001b[39m.\u001b[39;49masarray(\u001b[39mself\u001b[39;49m\u001b[39m.\u001b[39;49m_values, dtype\u001b[39m=\u001b[39;49mdtype)\n",
      "\u001b[1;31mValueError\u001b[0m: could not convert string to float: 'ZRV-00001972'"
     ]
    }
   ],
   "source": [
    "#apply synthetic minority oversampling technique to balance the data ignoring categorical variables\n",
    "from imblearn.over_sampling import SMOTE\n",
    "smote = SMOTE(sampling_strategy='minority', random_state=0)\n",
    "X_sm, y_sm = smote.fit_resample(df_combined_mod.drop(['Incidence'], axis=1), df_combined_mod['Incidence'])\n"
   ]
  },
  {
   "cell_type": "code",
   "execution_count": null,
   "id": "0a90cda0",
   "metadata": {},
   "outputs": [],
   "source": []
  }
 ],
 "metadata": {
  "kernelspec": {
   "display_name": "Python 3",
   "language": "python",
   "name": "python3"
  },
  "language_info": {
   "codemirror_mode": {
    "name": "ipython",
    "version": 3
   },
   "file_extension": ".py",
   "mimetype": "text/x-python",
   "name": "python",
   "nbconvert_exporter": "python",
   "pygments_lexer": "ipython3",
   "version": "3.10.10"
  },
  "vscode": {
   "interpreter": {
    "hash": "326e4f63ad54c217260fc7be1c53acea6ef3ea6cd7ac93b3b02195c6d8fa7cb8"
   }
  }
 },
 "nbformat": 4,
 "nbformat_minor": 5
}
