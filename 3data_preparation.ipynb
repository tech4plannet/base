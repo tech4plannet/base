{
 "cells": [
  {
   "attachments": {},
   "cell_type": "markdown",
   "id": "c6ba2d28",
   "metadata": {},
   "source": [
    "# Libraries used\n",
    "\n",
    "Running Kernel3.9.13 base anaconda"
   ]
  },
  {
   "attachments": {},
   "cell_type": "markdown",
   "id": "a47ff5b1",
   "metadata": {},
   "source": [
    "pip install squarify\n",
    "pip install yellowbrick\n",
    "pip install plotly\n",
    "pip install seaborn\n",
    "pip install lazypredict\n",
    "pip install pandas_profiling"
   ]
  },
  {
   "cell_type": "code",
   "execution_count": 1,
   "id": "1e469ce3",
   "metadata": {},
   "outputs": [],
   "source": [
    "import pandas as pd\n",
    "import numpy as np\n",
    "import seaborn as sns  \n",
    "import matplotlib.pyplot as plt\n",
    "import plotly.io as pio\n",
    "#import squarify #treemap\n",
    "import os\n",
    "import matplotlib\n",
    "import warnings\n",
    "\n",
    "from imblearn.over_sampling import SMOTE\n",
    "\n",
    "\n",
    "#to enable the inline plotting\n",
    "%matplotlib inline \n",
    "\n",
    "import warnings\n",
    "warnings.filterwarnings('ignore')\n",
    "\n",
    "sns.set_style(\"darkgrid\")"
   ]
  },
  {
   "cell_type": "code",
   "execution_count": 2,
   "id": "e3cc5995",
   "metadata": {},
   "outputs": [],
   "source": [
    "from sklearn.linear_model import LogisticRegression\n",
    "\n",
    "from sklearn.model_selection import cross_val_score\n",
    "from sklearn.model_selection import RepeatedStratifiedKFold\n",
    "from sklearn.model_selection import cross_val_score\n",
    "from sklearn.model_selection import train_test_split\n",
    "\n",
    "from sklearn.metrics import accuracy_score, confusion_matrix, classification_report\n",
    "from sklearn.metrics import classification_report\n",
    "\n",
    "from sklearn.naive_bayes import GaussianNB\n",
    "from sklearn.tree import DecisionTreeClassifier\n",
    "from sklearn.neighbors import KNeighborsClassifier\n",
    "#rfc using regularization and gridsearch to find the best parameters for the model\n",
    "from sklearn.ensemble import RandomForestClassifier\n",
    "from sklearn.model_selection import GridSearchCV\n",
    "from sklearn.metrics import classification_report, confusion_matrix, accuracy_score\n",
    "from sklearn.model_selection import cross_val_score\n",
    "from sklearn.model_selection import RepeatedStratifiedKFold\n",
    "from sklearn.model_selection import cross_val_predict\n",
    "from sklearn.metrics import roc_auc_score\n",
    "from sklearn.metrics import roc_curve\n",
    "from sklearn.metrics import precision_recall_curve\n",
    "from sklearn.metrics import f1_score\n",
    "from sklearn.metrics import auc\n",
    "from sklearn.metrics import average_precision_score\n",
    "\n",
    "from sklearn.ensemble import RandomForestClassifier\n",
    "from sklearn.ensemble import GradientBoostingClassifier\n",
    "\n",
    "from sklearn.preprocessing import StandardScaler\n",
    "\n",
    "from sklearn.decomposition import IncrementalPCA\n",
    "from sklearn.preprocessing import StandardScaler\n",
    "from sklearn.decomposition import PCA\n",
    "\n",
    "from scipy.stats import normaltest\n",
    "\n",
    "from pandas_profiling import ProfileReport\n",
    "\n",
    "from yellowbrick.classifier import ROCAUC\n",
    "from yellowbrick.classifier import ClassPredictionError\n",
    "from yellowbrick.style.palettes import PALETTES, SEQUENCES, color_palette\n",
    "\n",
    "import lazypredict\n",
    "from lazypredict.Supervised import LazyClassifier\n",
    "\n",
    "\n",
    "warnings.simplefilter(action='ignore', category=FutureWarning)"
   ]
  },
  {
   "cell_type": "code",
   "execution_count": 3,
   "id": "cf1b672f",
   "metadata": {},
   "outputs": [],
   "source": [
    "# Function for EDA. Using the display() function to have  well-formatted tables. We are mainly using pandas to explore the datasets\n",
    "\n",
    "def dataset_description(df_target):\n",
    "\n",
    "    print('This is the Dataset shape: %s\\n' % (df_target.shape, ))\n",
    "    print('Dataset columns: %s\\n' % df_target.columns)\n",
    "\n",
    "    print('\\nColumns description:\\n')\n",
    "    display(df_target.info())\n",
    "    display(df_target.describe())  # describe the dataset\n",
    "\n",
    "    print('\\nNull values:\\n')\n",
    "    display(df_target.isnull().sum())  # Identify null values\n",
    "\n",
    "#function performing a quick check on df_inspection to have best of pandas functions separated by a line\n",
    "def quick_check(dataframe):\n",
    "    print('First 5 rows %s\\n')\n",
    "    print(dataframe.head(2))\n",
    "    print(\"=====================================\")\n",
    "    print('Dataframe shape %s\\n')\n",
    "    print(dataframe.shape)\n",
    "    print(\"=====================================\")\n",
    "    print('Dataframe describe categorical %s\\n')\n",
    "    print(dataframe.describe(include=['O']))\n",
    "    print(\"=====================================\")\n",
    "    print('Dataframe null values %s\\n')\n",
    "    print(dataframe.isnull().sum())\n",
    "    print(\"=====================================\")\n",
    "    print('Dataframe value counts %s\\n')\n",
    "    print(dataframe.value_counts())\n",
    "    print(\"=====================================\")\n",
    "\n",
    "#stats function\n",
    "def stats(dataframe):\n",
    "    print('Dataframe correlation %s\\n')\n",
    "    print(dataframe.corr())\n",
    "    print(\"=====================================\")\n",
    "    print('Dataframe covariance %s\\n')\n",
    "    print(dataframe.cov())\n",
    "    print(\"=====================================\")\n",
    "    print('Dataframe skew %s\\n')\n",
    "    print(dataframe.skew())\n",
    "    print(\"=====================================\")\n",
    "    print('Dataframe kurtosis %s\\n')\n",
    "    print(dataframe.kurt())\n",
    "    print(\"=====================================\")\n",
    "\n",
    "#create a function to normalize characters from a dataset's column in Spanish\n",
    "def normalize_characters(df, column):\n",
    "    df[column] = df[column].str.normalize('NFKD').str.encode('ascii', errors='ignore').str.decode('utf-8')\n",
    "    df[column] = df[column].str.lower()\n",
    "    df[column] = df[column].str.replace('á', 'a')\n",
    "    df[column] = df[column].str.replace('é', 'e')\n",
    "    df[column] = df[column].str.replace('í', 'i')\n",
    "    df[column] = df[column].str.replace('ó', 'o')\n",
    "    df[column] = df[column].str.replace('ú', 'u')\n",
    "    df[column] = df[column].str.replace('ñ', 'n')\n",
    "    df[column] = df[column].str.replace('ü', 'u')\n",
    "    df[column] = df[column].str.replace('ç', 'c')\n",
    "    df[column] = df[column].str.replace('(', '')\n",
    "    df[column] = df[column].str.replace(')', '')\n",
    "    df[column] = df[column].str.replace('\\'', '')\n",
    "    df[column] = df[column].str.replace('´', '')\n",
    "    df[column] = df[column].str.replace('`', '')\n",
    "    df[column] = df[column].str.replace('’', '')\n",
    "    return df.head(2)\n",
    "\n",
    "#create function to change detypes in64 to int32 in a df\n",
    "def change_dtypes(df):\n",
    "    for col in df.columns:\n",
    "        if df[col].dtype == 'int64':\n",
    "            df[col] = df[col].astype('int32')\n",
    "        elif df[col].dtype == 'float64':\n",
    "            df[col] = df[col].astype('float32')\n",
    "    return df\n",
    "\n",
    "def outlier_function(df, col_name):\n",
    "    \"\"\" this function detects first and third quartile and interquartile range for a given column of a dataframe\n",
    "    then calculates upper and lower limits to determine outliers conservatively\n",
    "    returns the number of lower and uper limit and number of outliers respectively\"\"\"\n",
    "    first_quartile = np.percentile(np.array(df[col_name].tolist()), 25)\n",
    "    third_quartile = np.percentile(np.array(df[col_name].tolist()), 75)\n",
    "    IQR = third_quartile - first_quartile\n",
    "                        \n",
    "    upper_limit = third_quartile+(3*IQR)\n",
    "    lower_limit = first_quartile-(3*IQR)\n",
    "    outlier_count = 0\n",
    "                    \n",
    "    for value in df[col_name].tolist():\n",
    "        if (value < lower_limit) | (value > upper_limit):\n",
    "            outlier_count +=1\n",
    "        else:\n",
    "            pass\n",
    "    return lower_limit, upper_limit, outlier_count"
   ]
  },
  {
   "cell_type": "code",
   "execution_count": 4,
   "id": "8e28e941",
   "metadata": {},
   "outputs": [],
   "source": [
    "#show all print outputs when using a function\n",
    "from IPython.core.interactiveshell import InteractiveShell\n",
    "InteractiveShell.ast_node_interactivity = \"all\"\n",
    "\n",
    "#display all columns\n",
    "pd.set_option('display.max_columns', None)\n"
   ]
  },
  {
   "cell_type": "markdown",
   "id": "1ebce254",
   "metadata": {},
   "source": [
    "# Importing previous dataset"
   ]
  },
  {
   "cell_type": "code",
   "execution_count": 5,
   "id": "3dad7faa",
   "metadata": {},
   "outputs": [],
   "source": [
    "#point to the folder where the data is stored\n",
    "os.chdir(r\"C:\\Users\\pedro\\datathon\")\n",
    "\n",
    "# Loading combined_mod dataset\n",
    "train_consolidated = pd.read_csv('train_consolidated.csv')\n"
   ]
  },
  {
   "cell_type": "code",
   "execution_count": 6,
   "id": "8dae7144",
   "metadata": {},
   "outputs": [
    {
     "data": {
      "text/html": [
       "<div>\n",
       "<style scoped>\n",
       "    .dataframe tbody tr th:only-of-type {\n",
       "        vertical-align: middle;\n",
       "    }\n",
       "\n",
       "    .dataframe tbody tr th {\n",
       "        vertical-align: top;\n",
       "    }\n",
       "\n",
       "    .dataframe thead th {\n",
       "        text-align: right;\n",
       "    }\n",
       "</style>\n",
       "<table border=\"1\" class=\"dataframe\">\n",
       "  <thead>\n",
       "    <tr style=\"text-align: right;\">\n",
       "      <th></th>\n",
       "      <th>PipeId</th>\n",
       "      <th>InspectionYear</th>\n",
       "      <th>MonthsLastRev</th>\n",
       "      <th>Incidence</th>\n",
       "      <th>Province</th>\n",
       "      <th>Town</th>\n",
       "      <th>YearBuilt</th>\n",
       "      <th>Diameter</th>\n",
       "      <th>Length</th>\n",
       "      <th>Pressure</th>\n",
       "      <th>NumConnections</th>\n",
       "      <th>NumConnectionsUnder</th>\n",
       "      <th>BoolBridle</th>\n",
       "      <th>No_Inspections</th>\n",
       "      <th>No_Incidences_Total</th>\n",
       "      <th>average_severity_pipe</th>\n",
       "      <th>relative_risk</th>\n",
       "      <th>preventive_maintenance_rate</th>\n",
       "      <th>Probability_rate</th>\n",
       "      <th>Average_MonthsLastRev</th>\n",
       "      <th>pipe_inspected_frequently</th>\n",
       "      <th>Age_pipe_at_inspection</th>\n",
       "      <th>aspect</th>\n",
       "      <th>Relative_Thickness</th>\n",
       "      <th>pipe_area</th>\n",
       "      <th>Total_Connections</th>\n",
       "      <th>area_connection</th>\n",
       "      <th>incidence_area</th>\n",
       "      <th>connection_bool</th>\n",
       "      <th>Severity_high</th>\n",
       "      <th>Severity_medium</th>\n",
       "      <th>Severity_low</th>\n",
       "      <th>gas_natural</th>\n",
       "      <th>Material_Acrylonitrile-Butadiene-Styrene</th>\n",
       "      <th>Material_Copper</th>\n",
       "      <th>Material_Fiberglass-Reinforced Plastic</th>\n",
       "      <th>Material_Polyethylene</th>\n",
       "      <th>Material_Polypropylene</th>\n",
       "      <th>Diameter2</th>\n",
       "      <th>Length2</th>\n",
       "      <th>Pressure2</th>\n",
       "      <th>Average yearly temperature (°C)</th>\n",
       "      <th>Min. Temperature (°C)</th>\n",
       "      <th>Max. Temperature (°C)</th>\n",
       "      <th>Yearly Rainfall (mm)</th>\n",
       "      <th>Average year Humidity (%)</th>\n",
       "      <th>Rainy days per year (days)</th>\n",
       "      <th>Yearly Sun Hours (hours)</th>\n",
       "    </tr>\n",
       "  </thead>\n",
       "  <tbody>\n",
       "    <tr>\n",
       "      <th>0</th>\n",
       "      <td>489616</td>\n",
       "      <td>2013</td>\n",
       "      <td>16</td>\n",
       "      <td>0</td>\n",
       "      <td>ciudad real</td>\n",
       "      <td>Torralba de Calatrava</td>\n",
       "      <td>2012</td>\n",
       "      <td>0.06</td>\n",
       "      <td>7.79</td>\n",
       "      <td>0.40</td>\n",
       "      <td>0</td>\n",
       "      <td>0</td>\n",
       "      <td>0</td>\n",
       "      <td>1</td>\n",
       "      <td>0</td>\n",
       "      <td>4.00</td>\n",
       "      <td>0.00</td>\n",
       "      <td>0.00</td>\n",
       "      <td>0.00</td>\n",
       "      <td>21.40</td>\n",
       "      <td>1</td>\n",
       "      <td>1</td>\n",
       "      <td>49.47</td>\n",
       "      <td>0.16</td>\n",
       "      <td>1.54</td>\n",
       "      <td>0</td>\n",
       "      <td>0.00</td>\n",
       "      <td>0.00</td>\n",
       "      <td>0</td>\n",
       "      <td>0</td>\n",
       "      <td>0</td>\n",
       "      <td>0</td>\n",
       "      <td>1</td>\n",
       "      <td>0</td>\n",
       "      <td>0</td>\n",
       "      <td>0</td>\n",
       "      <td>1</td>\n",
       "      <td>0</td>\n",
       "      <td>0.00</td>\n",
       "      <td>60.72</td>\n",
       "      <td>0.16</td>\n",
       "      <td>15.44</td>\n",
       "      <td>1.50</td>\n",
       "      <td>33.70</td>\n",
       "      <td>438</td>\n",
       "      <td>0.55</td>\n",
       "      <td>52</td>\n",
       "      <td>107.50</td>\n",
       "    </tr>\n",
       "  </tbody>\n",
       "</table>\n",
       "</div>"
      ],
      "text/plain": [
       "   PipeId  InspectionYear  MonthsLastRev  Incidence     Province  \\\n",
       "0  489616            2013             16          0  ciudad real   \n",
       "\n",
       "                    Town  YearBuilt  Diameter  Length  Pressure  \\\n",
       "0  Torralba de Calatrava       2012      0.06    7.79      0.40   \n",
       "\n",
       "   NumConnections  NumConnectionsUnder  BoolBridle  No_Inspections  \\\n",
       "0               0                    0           0               1   \n",
       "\n",
       "   No_Incidences_Total  average_severity_pipe  relative_risk  \\\n",
       "0                    0                   4.00           0.00   \n",
       "\n",
       "   preventive_maintenance_rate  Probability_rate  Average_MonthsLastRev  \\\n",
       "0                         0.00              0.00                  21.40   \n",
       "\n",
       "   pipe_inspected_frequently  Age_pipe_at_inspection  aspect  \\\n",
       "0                          1                       1   49.47   \n",
       "\n",
       "   Relative_Thickness  pipe_area  Total_Connections  area_connection  \\\n",
       "0                0.16       1.54                  0             0.00   \n",
       "\n",
       "   incidence_area  connection_bool  Severity_high  Severity_medium  \\\n",
       "0            0.00                0              0                0   \n",
       "\n",
       "   Severity_low  gas_natural  Material_Acrylonitrile-Butadiene-Styrene  \\\n",
       "0             0            1                                         0   \n",
       "\n",
       "   Material_Copper  Material_Fiberglass-Reinforced Plastic  \\\n",
       "0                0                                       0   \n",
       "\n",
       "   Material_Polyethylene  Material_Polypropylene  Diameter2  Length2  \\\n",
       "0                      1                       0       0.00    60.72   \n",
       "\n",
       "   Pressure2  Average yearly temperature (°C)  Min. Temperature (°C)  \\\n",
       "0       0.16                            15.44                   1.50   \n",
       "\n",
       "   Max. Temperature (°C)  Yearly Rainfall (mm)  Average year Humidity (%)  \\\n",
       "0                  33.70                   438                       0.55   \n",
       "\n",
       "   Rainy days per year (days)  Yearly Sun Hours (hours)  \n",
       "0                          52                    107.50  "
      ]
     },
     "execution_count": 6,
     "metadata": {},
     "output_type": "execute_result"
    }
   ],
   "source": [
    "train_consolidated.head(1)"
   ]
  },
  {
   "cell_type": "code",
   "execution_count": 7,
   "id": "68fffff1",
   "metadata": {},
   "outputs": [],
   "source": [
    "#creating a subset for altering the dataset after initial EDA\n",
    "df_baseline = train_consolidated.copy()\n"
   ]
  },
  {
   "cell_type": "code",
   "execution_count": 8,
   "id": "2eb79226",
   "metadata": {},
   "outputs": [
    {
     "data": {
      "text/plain": [
       "Index(['PipeId', 'InspectionYear', 'MonthsLastRev', 'Incidence', 'Province',\n",
       "       'Town', 'YearBuilt', 'Diameter', 'Length', 'Pressure', 'NumConnections',\n",
       "       'NumConnectionsUnder', 'BoolBridle', 'No_Inspections',\n",
       "       'No_Incidences_Total', 'average_severity_pipe', 'relative_risk',\n",
       "       'preventive_maintenance_rate', 'Probability_rate',\n",
       "       'Average_MonthsLastRev', 'pipe_inspected_frequently',\n",
       "       'Age_pipe_at_inspection', 'aspect', 'Relative_Thickness', 'pipe_area',\n",
       "       'Total_Connections', 'area_connection', 'incidence_area',\n",
       "       'connection_bool', 'Severity_high', 'Severity_medium', 'Severity_low',\n",
       "       'gas_natural', 'Material_Acrylonitrile-Butadiene-Styrene',\n",
       "       'Material_Copper', 'Material_Fiberglass-Reinforced Plastic',\n",
       "       'Material_Polyethylene', 'Material_Polypropylene', 'Diameter2',\n",
       "       'Length2', 'Pressure2', 'Average yearly temperature (°C)',\n",
       "       'Min. Temperature (°C)', 'Max. Temperature (°C)',\n",
       "       'Yearly Rainfall (mm)', 'Average year Humidity (%)',\n",
       "       'Rainy days per year (days)', 'Yearly Sun Hours (hours)'],\n",
       "      dtype='object')"
      ]
     },
     "execution_count": 8,
     "metadata": {},
     "output_type": "execute_result"
    }
   ],
   "source": [
    "df_baseline.columns"
   ]
  },
  {
   "attachments": {},
   "cell_type": "markdown",
   "id": "1d5aa3ba",
   "metadata": {},
   "source": [
    "# Checking for more outliers hurting generalization of model"
   ]
  },
  {
   "cell_type": "code",
   "execution_count": 9,
   "id": "d39607ba",
   "metadata": {},
   "outputs": [
    {
     "data": {
      "text/plain": [
       "0.025"
      ]
     },
     "execution_count": 9,
     "metadata": {},
     "output_type": "execute_result"
    },
    {
     "data": {
      "text/plain": [
       "80.0"
      ]
     },
     "execution_count": 9,
     "metadata": {},
     "output_type": "execute_result"
    }
   ],
   "source": [
    "#min max of Pressure in df_baseline\n",
    "df_baseline['Pressure'].min()\n",
    "df_baseline['Pressure'].max()\n",
    "\n"
   ]
  },
  {
   "cell_type": "code",
   "execution_count": 10,
   "id": "7eda8be4",
   "metadata": {},
   "outputs": [
    {
     "data": {
      "text/plain": [
       "<Figure size 1000x600 with 0 Axes>"
      ]
     },
     "execution_count": 10,
     "metadata": {},
     "output_type": "execute_result"
    },
    {
     "data": {
      "text/plain": [
       "<AxesSubplot: xlabel='Pressure'>"
      ]
     },
     "execution_count": 10,
     "metadata": {},
     "output_type": "execute_result"
    },
    {
     "data": {
      "text/plain": [
       "Text(0.5, 1.0, 'Pressure distribution')"
      ]
     },
     "execution_count": 10,
     "metadata": {},
     "output_type": "execute_result"
    },
    {
     "data": {
      "image/png": "[encoded data removed]",
      "text/plain": [
       "<Figure size 1000x600 with 1 Axes>"
      ]
     },
     "metadata": {},
     "output_type": "display_data"
    }
   ],
   "source": [
    "#plot pressure distribution with a violin plo\n",
    "plt.figure(figsize=(10, 6))\n",
    "sns.violinplot(x='Pressure', data=df_baseline)\n",
    "plt.title('Pressure distribution')\n",
    "plt.show()\n"
   ]
  },
  {
   "cell_type": "code",
   "execution_count": 11,
   "id": "62db8b99",
   "metadata": {},
   "outputs": [],
   "source": [
    "#delete outliers higher than 20 in Pressure for df_baseline\n",
    "df_baseline = df_baseline[df_baseline['Pressure'] < 20]"
   ]
  },
  {
   "cell_type": "code",
   "execution_count": 16,
   "id": "8eab8521",
   "metadata": {},
   "outputs": [
    {
     "data": {
      "text/plain": [
       "0.005"
      ]
     },
     "execution_count": 16,
     "metadata": {},
     "output_type": "execute_result"
    },
    {
     "data": {
      "text/plain": [
       "99.999"
      ]
     },
     "execution_count": 16,
     "metadata": {},
     "output_type": "execute_result"
    },
    {
     "data": {
      "text/plain": [
       "<Figure size 1000x600 with 0 Axes>"
      ]
     },
     "execution_count": 16,
     "metadata": {},
     "output_type": "execute_result"
    },
    {
     "data": {
      "text/plain": [
       "<AxesSubplot: xlabel='Length'>"
      ]
     },
     "execution_count": 16,
     "metadata": {},
     "output_type": "execute_result"
    },
    {
     "data": {
      "text/plain": [
       "Text(0.5, 1.0, 'Length distribution')"
      ]
     },
     "execution_count": 16,
     "metadata": {},
     "output_type": "execute_result"
    },
    {
     "data": {
      "image/png": "[encoded data removed]",
      "text/plain": [
       "<Figure size 1000x600 with 1 Axes>"
      ]
     },
     "metadata": {},
     "output_type": "display_data"
    }
   ],
   "source": [
    "#check outliers in length\n",
    "df_baseline['Length'].min()\n",
    "df_baseline['Length'].max()\n",
    "\n",
    "#plot length distribution with a violin plot\n",
    "plt.figure(figsize=(10, 6))\n",
    "sns.violinplot(x='Length', data=df_baseline)\n",
    "plt.title('Length distribution')\n",
    "plt.show()"
   ]
  },
  {
   "cell_type": "code",
   "execution_count": 15,
   "id": "3a8aecc4",
   "metadata": {},
   "outputs": [],
   "source": [
    "#delete outliers higher than 400 in length for df_baseline\n",
    "df_baseline = df_baseline[df_baseline['Length'] < 100]"
   ]
  },
  {
   "cell_type": "code",
   "execution_count": 19,
   "id": "1dae0c52",
   "metadata": {},
   "outputs": [
    {
     "data": {
      "text/plain": [
       "(5494091, 48)"
      ]
     },
     "execution_count": 19,
     "metadata": {},
     "output_type": "execute_result"
    }
   ],
   "source": [
    "#check nulls\n",
    "df_baseline.shape"
   ]
  },
  {
   "cell_type": "code",
   "execution_count": 28,
   "id": "dff914b9",
   "metadata": {},
   "outputs": [
    {
     "data": {
      "text/plain": [
       "0"
      ]
     },
     "execution_count": 28,
     "metadata": {},
     "output_type": "execute_result"
    },
    {
     "data": {
      "text/plain": [
       "2"
      ]
     },
     "execution_count": 28,
     "metadata": {},
     "output_type": "execute_result"
    },
    {
     "data": {
      "text/plain": [
       "<Figure size 1000x600 with 0 Axes>"
      ]
     },
     "execution_count": 28,
     "metadata": {},
     "output_type": "execute_result"
    },
    {
     "data": {
      "text/plain": [
       "<AxesSubplot: xlabel='NumConnections'>"
      ]
     },
     "execution_count": 28,
     "metadata": {},
     "output_type": "execute_result"
    },
    {
     "data": {
      "text/plain": [
       "Text(0.5, 1.0, 'NumConnections distribution')"
      ]
     },
     "execution_count": 28,
     "metadata": {},
     "output_type": "execute_result"
    },
    {
     "data": {
      "image/png": "[encoded data removed]",
      "text/plain": [
       "<Figure size 1000x600 with 1 Axes>"
      ]
     },
     "metadata": {},
     "output_type": "display_data"
    }
   ],
   "source": [
    "#checking outliers for num_connections\n",
    "df_baseline['NumConnections'].min()\n",
    "df_baseline['NumConnections'].max()\n",
    "\n",
    "#plot num_connections distribution with a violin plot\n",
    "plt.figure(figsize=(10, 6))\n",
    "sns.violinplot(x='NumConnections', data=df_baseline)\n",
    "plt.title('NumConnections distribution')\n",
    "plt.show()\n"
   ]
  },
  {
   "cell_type": "code",
   "execution_count": 27,
   "id": "37b7b28b",
   "metadata": {},
   "outputs": [],
   "source": [
    "#dropping NumConnections higher than 7\n",
    "df_baseline = df_baseline[df_baseline['NumConnections'] < 4]\n"
   ]
  },
  {
   "cell_type": "code",
   "execution_count": 32,
   "id": "25379eef",
   "metadata": {},
   "outputs": [
    {
     "data": {
      "text/plain": [
       "0"
      ]
     },
     "execution_count": 32,
     "metadata": {},
     "output_type": "execute_result"
    },
    {
     "data": {
      "text/plain": [
       "0"
      ]
     },
     "execution_count": 32,
     "metadata": {},
     "output_type": "execute_result"
    },
    {
     "data": {
      "text/plain": [
       "<Figure size 1000x600 with 0 Axes>"
      ]
     },
     "execution_count": 32,
     "metadata": {},
     "output_type": "execute_result"
    },
    {
     "data": {
      "text/plain": [
       "<AxesSubplot: xlabel='NumConnectionsUnder'>"
      ]
     },
     "execution_count": 32,
     "metadata": {},
     "output_type": "execute_result"
    },
    {
     "data": {
      "text/plain": [
       "Text(0.5, 1.0, 'NumConnectionsUnder distribution')"
      ]
     },
     "execution_count": 32,
     "metadata": {},
     "output_type": "execute_result"
    },
    {
     "data": {
      "image/png": "[encoded data removed]",
      "text/plain": [
       "<Figure size 1000x600 with 1 Axes>"
      ]
     },
     "metadata": {},
     "output_type": "display_data"
    }
   ],
   "source": [
    "#checking outliers for NumConnectionsUnder\n",
    "df_baseline['NumConnectionsUnder'].min()\n",
    "df_baseline['NumConnectionsUnder'].max()\n",
    "\n",
    "#plot num_connections distribution with a violin plot\n",
    "plt.figure(figsize=(10, 6))\n",
    "sns.violinplot(x='NumConnectionsUnder', data=df_baseline)\n",
    "plt.title('NumConnectionsUnder distribution')\n",
    "plt.show()\n"
   ]
  },
  {
   "cell_type": "code",
   "execution_count": 33,
   "id": "3ef54598",
   "metadata": {},
   "outputs": [],
   "source": [
    "#dropping NumConnectionsUnder because mostly 0\n",
    "df_baseline = df_baseline.drop(['NumConnectionsUnder'], axis=1)\n",
    "\n"
   ]
  },
  {
   "cell_type": "code",
   "execution_count": 34,
   "id": "e1a7d8fc",
   "metadata": {},
   "outputs": [
    {
     "data": {
      "text/plain": [
       "0    5008955\n",
       "Name: BoolBridle, dtype: int64"
      ]
     },
     "execution_count": 34,
     "metadata": {},
     "output_type": "execute_result"
    }
   ],
   "source": [
    "#check values for BoolBridle\n",
    "df_baseline['BoolBridle'].value_counts()\n"
   ]
  },
  {
   "cell_type": "code",
   "execution_count": 35,
   "id": "af999e96",
   "metadata": {},
   "outputs": [],
   "source": [
    "#Deleting BoolBridle because mostly one kind\n",
    "df_baseline = df_baseline.drop(['BoolBridle'], axis=1)"
   ]
  },
  {
   "cell_type": "code",
   "execution_count": 41,
   "id": "c12e9f6a",
   "metadata": {},
   "outputs": [
    {
     "data": {
      "text/plain": [
       "0.0005756578947368"
      ]
     },
     "execution_count": 41,
     "metadata": {},
     "output_type": "execute_result"
    },
    {
     "data": {
      "text/plain": [
       "1999.9555555555555"
      ]
     },
     "execution_count": 41,
     "metadata": {},
     "output_type": "execute_result"
    },
    {
     "data": {
      "text/plain": [
       "<Figure size 1000x600 with 0 Axes>"
      ]
     },
     "execution_count": 41,
     "metadata": {},
     "output_type": "execute_result"
    },
    {
     "data": {
      "text/plain": [
       "<AxesSubplot: xlabel='aspect'>"
      ]
     },
     "execution_count": 41,
     "metadata": {},
     "output_type": "execute_result"
    },
    {
     "data": {
      "text/plain": [
       "Text(0.5, 1.0, 'Aspect distribution')"
      ]
     },
     "execution_count": 41,
     "metadata": {},
     "output_type": "execute_result"
    },
    {
     "data": {
      "image/png": "[encoded data removed]",
      "text/plain": [
       "<Figure size 1000x600 with 1 Axes>"
      ]
     },
     "metadata": {},
     "output_type": "display_data"
    }
   ],
   "source": [
    "#check outliers for aspect\n",
    "df_baseline['aspect'].min()\n",
    "df_baseline['aspect'].max()\n",
    "\n",
    "#plot aspect distribution with a violin plot\n",
    "plt.figure(figsize=(10, 6))\n",
    "sns.violinplot(x='aspect', data=df_baseline)\n",
    "plt.title('Aspect distribution')\n",
    "plt.show()\n"
   ]
  },
  {
   "cell_type": "code",
   "execution_count": 40,
   "id": "ab97ea2e",
   "metadata": {},
   "outputs": [],
   "source": [
    "#drop aspect outliers higher than 6000\n",
    "df_baseline = df_baseline[df_baseline['aspect'] < 2000]\n"
   ]
  },
  {
   "cell_type": "code",
   "execution_count": 21,
   "id": "2ef40b66",
   "metadata": {},
   "outputs": [
    {
     "data": {
      "text/html": [
       "<div>\n",
       "<style scoped>\n",
       "    .dataframe tbody tr th:only-of-type {\n",
       "        vertical-align: middle;\n",
       "    }\n",
       "\n",
       "    .dataframe tbody tr th {\n",
       "        vertical-align: top;\n",
       "    }\n",
       "\n",
       "    .dataframe thead th {\n",
       "        text-align: right;\n",
       "    }\n",
       "</style>\n",
       "<table border=\"1\" class=\"dataframe\">\n",
       "  <thead>\n",
       "    <tr style=\"text-align: right;\">\n",
       "      <th></th>\n",
       "      <th>PipeId</th>\n",
       "      <th>InspectionYear</th>\n",
       "      <th>MonthsLastRev</th>\n",
       "      <th>Incidence</th>\n",
       "      <th>Province</th>\n",
       "      <th>Town</th>\n",
       "      <th>YearBuilt</th>\n",
       "      <th>Diameter</th>\n",
       "      <th>Length</th>\n",
       "      <th>Pressure</th>\n",
       "      <th>NumConnections</th>\n",
       "      <th>NumConnectionsUnder</th>\n",
       "      <th>BoolBridle</th>\n",
       "      <th>No_Inspections</th>\n",
       "      <th>No_Incidences_Total</th>\n",
       "      <th>average_severity_pipe</th>\n",
       "      <th>relative_risk</th>\n",
       "      <th>preventive_maintenance_rate</th>\n",
       "      <th>Probability_rate</th>\n",
       "      <th>Average_MonthsLastRev</th>\n",
       "      <th>pipe_inspected_frequently</th>\n",
       "      <th>Age_pipe_at_inspection</th>\n",
       "      <th>aspect</th>\n",
       "      <th>Relative_Thickness</th>\n",
       "      <th>pipe_area</th>\n",
       "      <th>Total_Connections</th>\n",
       "      <th>area_connection</th>\n",
       "      <th>incidence_area</th>\n",
       "      <th>connection_bool</th>\n",
       "      <th>Severity_high</th>\n",
       "      <th>Severity_medium</th>\n",
       "      <th>Severity_low</th>\n",
       "      <th>gas_natural</th>\n",
       "      <th>Material_Acrylonitrile-Butadiene-Styrene</th>\n",
       "      <th>Material_Copper</th>\n",
       "      <th>Material_Fiberglass-Reinforced Plastic</th>\n",
       "      <th>Material_Polyethylene</th>\n",
       "      <th>Material_Polypropylene</th>\n",
       "      <th>Diameter2</th>\n",
       "      <th>Length2</th>\n",
       "      <th>Pressure2</th>\n",
       "      <th>Average yearly temperature (°C)</th>\n",
       "      <th>Min. Temperature (°C)</th>\n",
       "      <th>Max. Temperature (°C)</th>\n",
       "      <th>Yearly Rainfall (mm)</th>\n",
       "      <th>Average year Humidity (%)</th>\n",
       "      <th>Rainy days per year (days)</th>\n",
       "      <th>Yearly Sun Hours (hours)</th>\n",
       "    </tr>\n",
       "  </thead>\n",
       "  <tbody>\n",
       "    <tr>\n",
       "      <th>0</th>\n",
       "      <td>489616</td>\n",
       "      <td>2013</td>\n",
       "      <td>16</td>\n",
       "      <td>0</td>\n",
       "      <td>ciudad real</td>\n",
       "      <td>Torralba de Calatrava</td>\n",
       "      <td>2012</td>\n",
       "      <td>0.06</td>\n",
       "      <td>7.79</td>\n",
       "      <td>0.40</td>\n",
       "      <td>0</td>\n",
       "      <td>0</td>\n",
       "      <td>0</td>\n",
       "      <td>1</td>\n",
       "      <td>0</td>\n",
       "      <td>4.00</td>\n",
       "      <td>0.00</td>\n",
       "      <td>0.00</td>\n",
       "      <td>0.00</td>\n",
       "      <td>21.40</td>\n",
       "      <td>1</td>\n",
       "      <td>1</td>\n",
       "      <td>49.47</td>\n",
       "      <td>0.16</td>\n",
       "      <td>1.54</td>\n",
       "      <td>0</td>\n",
       "      <td>0.00</td>\n",
       "      <td>0.00</td>\n",
       "      <td>0</td>\n",
       "      <td>0</td>\n",
       "      <td>0</td>\n",
       "      <td>0</td>\n",
       "      <td>1</td>\n",
       "      <td>0</td>\n",
       "      <td>0</td>\n",
       "      <td>0</td>\n",
       "      <td>1</td>\n",
       "      <td>0</td>\n",
       "      <td>0.00</td>\n",
       "      <td>60.72</td>\n",
       "      <td>0.16</td>\n",
       "      <td>15.44</td>\n",
       "      <td>1.50</td>\n",
       "      <td>33.70</td>\n",
       "      <td>438</td>\n",
       "      <td>0.55</td>\n",
       "      <td>52</td>\n",
       "      <td>107.50</td>\n",
       "    </tr>\n",
       "  </tbody>\n",
       "</table>\n",
       "</div>"
      ],
      "text/plain": [
       "   PipeId  InspectionYear  MonthsLastRev  Incidence     Province  \\\n",
       "0  489616            2013             16          0  ciudad real   \n",
       "\n",
       "                    Town  YearBuilt  Diameter  Length  Pressure  \\\n",
       "0  Torralba de Calatrava       2012      0.06    7.79      0.40   \n",
       "\n",
       "   NumConnections  NumConnectionsUnder  BoolBridle  No_Inspections  \\\n",
       "0               0                    0           0               1   \n",
       "\n",
       "   No_Incidences_Total  average_severity_pipe  relative_risk  \\\n",
       "0                    0                   4.00           0.00   \n",
       "\n",
       "   preventive_maintenance_rate  Probability_rate  Average_MonthsLastRev  \\\n",
       "0                         0.00              0.00                  21.40   \n",
       "\n",
       "   pipe_inspected_frequently  Age_pipe_at_inspection  aspect  \\\n",
       "0                          1                       1   49.47   \n",
       "\n",
       "   Relative_Thickness  pipe_area  Total_Connections  area_connection  \\\n",
       "0                0.16       1.54                  0             0.00   \n",
       "\n",
       "   incidence_area  connection_bool  Severity_high  Severity_medium  \\\n",
       "0            0.00                0              0                0   \n",
       "\n",
       "   Severity_low  gas_natural  Material_Acrylonitrile-Butadiene-Styrene  \\\n",
       "0             0            1                                         0   \n",
       "\n",
       "   Material_Copper  Material_Fiberglass-Reinforced Plastic  \\\n",
       "0                0                                       0   \n",
       "\n",
       "   Material_Polyethylene  Material_Polypropylene  Diameter2  Length2  \\\n",
       "0                      1                       0       0.00    60.72   \n",
       "\n",
       "   Pressure2  Average yearly temperature (°C)  Min. Temperature (°C)  \\\n",
       "0       0.16                            15.44                   1.50   \n",
       "\n",
       "   Max. Temperature (°C)  Yearly Rainfall (mm)  Average year Humidity (%)  \\\n",
       "0                  33.70                   438                       0.55   \n",
       "\n",
       "   Rainy days per year (days)  Yearly Sun Hours (hours)  \n",
       "0                          52                    107.50  "
      ]
     },
     "execution_count": 21,
     "metadata": {},
     "output_type": "execute_result"
    }
   ],
   "source": [
    "df_baseline.head(1)"
   ]
  },
  {
   "cell_type": "code",
   "execution_count": 42,
   "id": "9d227fc7",
   "metadata": {},
   "outputs": [
    {
     "data": {
      "text/plain": [
       "(4644525, 46)"
      ]
     },
     "execution_count": 42,
     "metadata": {},
     "output_type": "execute_result"
    }
   ],
   "source": [
    "df_baseline.shape"
   ]
  },
  {
   "attachments": {},
   "cell_type": "markdown",
   "id": "64828dd8",
   "metadata": {},
   "source": [
    "final shape after taking care of few outliers.\n",
    "\n",
    "2 million less"
   ]
  },
  {
   "cell_type": "code",
   "execution_count": 43,
   "id": "844a5c29",
   "metadata": {},
   "outputs": [
    {
     "data": {
      "application/vnd.jupyter.widget-view+json": {
       "model_id": "8b187f2d466f451cbc92be63c723d7e5",
       "version_major": 2,
       "version_minor": 0
      },
      "text/plain": [
       "Summarize dataset:   0%|          | 0/5 [00:00<?, ?it/s]"
      ]
     },
     "metadata": {},
     "output_type": "display_data"
    },
    {
     "data": {
      "application/vnd.jupyter.widget-view+json": {
       "model_id": "20c35e45be094ceeb3062dbc3932c520",
       "version_major": 2,
       "version_minor": 0
      },
      "text/plain": [
       "Generate report structure:   0%|          | 0/1 [00:00<?, ?it/s]"
      ]
     },
     "metadata": {},
     "output_type": "display_data"
    },
    {
     "data": {
      "application/vnd.jupyter.widget-view+json": {
       "model_id": "3f4b9613bbc940308b298c72a106c0a7",
       "version_major": 2,
       "version_minor": 0
      },
      "text/plain": [
       "Render HTML:   0%|          | 0/1 [00:00<?, ?it/s]"
      ]
     },
     "metadata": {},
     "output_type": "display_data"
    },
    {
     "data": {
      "application/vnd.jupyter.widget-view+json": {
       "model_id": "c548b46cf2804125969bf8819bd2646d",
       "version_major": 2,
       "version_minor": 0
      },
      "text/plain": [
       "Export report to file:   0%|          | 0/1 [00:00<?, ?it/s]"
      ]
     },
     "metadata": {},
     "output_type": "display_data"
    }
   ],
   "source": [
    "#pandas profiling on df_baseline\n",
    "#os.chdir(r\"C:\\Users\\pedro\\datathon\\base\\eda_profiling\")\n",
    "\n",
    "#profile = ProfileReport(df_baseline, title='Pandas Profiling Report', explorative=True)\n",
    "#profile.to_file(\"df_baseline.html\")\n"
   ]
  },
  {
   "attachments": {},
   "cell_type": "markdown",
   "id": "420fecf2",
   "metadata": {},
   "source": [
    "# Merging another dataset"
   ]
  },
  {
   "cell_type": "code",
   "execution_count": 44,
   "id": "d73ad532",
   "metadata": {},
   "outputs": [],
   "source": [
    "#point to the folder where the data is stored for Pedro\n",
    "os.chdir(r\"C:\\Users\\pedro\\datathon\\base\\complementary_datasets\")\n",
    "\n",
    "#Loading sample_submission\n",
    "density = pd.read_excel('population_density_province.xlsx')"
   ]
  },
  {
   "cell_type": "code",
   "execution_count": 45,
   "id": "e81a6a71",
   "metadata": {},
   "outputs": [
    {
     "data": {
      "text/html": [
       "<div>\n",
       "<style scoped>\n",
       "    .dataframe tbody tr th:only-of-type {\n",
       "        vertical-align: middle;\n",
       "    }\n",
       "\n",
       "    .dataframe tbody tr th {\n",
       "        vertical-align: top;\n",
       "    }\n",
       "\n",
       "    .dataframe thead th {\n",
       "        text-align: right;\n",
       "    }\n",
       "</style>\n",
       "<table border=\"1\" class=\"dataframe\">\n",
       "  <thead>\n",
       "    <tr style=\"text-align: right;\">\n",
       "      <th></th>\n",
       "      <th>Province</th>\n",
       "      <th>Area (sq km)</th>\n",
       "      <th>Year</th>\n",
       "      <th>Population</th>\n",
       "      <th>Population density (persons/sqkm)</th>\n",
       "    </tr>\n",
       "  </thead>\n",
       "  <tbody>\n",
       "    <tr>\n",
       "      <th>0</th>\n",
       "      <td>Albacete</td>\n",
       "      <td>14926</td>\n",
       "      <td>2022</td>\n",
       "      <td>385727</td>\n",
       "      <td>25.84</td>\n",
       "    </tr>\n",
       "  </tbody>\n",
       "</table>\n",
       "</div>"
      ],
      "text/plain": [
       "   Province  Area (sq km)  Year  Population  Population density (persons/sqkm)\n",
       "0  Albacete         14926  2022      385727                              25.84"
      ]
     },
     "execution_count": 45,
     "metadata": {},
     "output_type": "execute_result"
    }
   ],
   "source": [
    "density.head(1)"
   ]
  },
  {
   "cell_type": "code",
   "execution_count": 46,
   "id": "b0408ec7",
   "metadata": {},
   "outputs": [
    {
     "data": {
      "text/html": [
       "<div>\n",
       "<style scoped>\n",
       "    .dataframe tbody tr th:only-of-type {\n",
       "        vertical-align: middle;\n",
       "    }\n",
       "\n",
       "    .dataframe tbody tr th {\n",
       "        vertical-align: top;\n",
       "    }\n",
       "\n",
       "    .dataframe thead th {\n",
       "        text-align: right;\n",
       "    }\n",
       "</style>\n",
       "<table border=\"1\" class=\"dataframe\">\n",
       "  <thead>\n",
       "    <tr style=\"text-align: right;\">\n",
       "      <th></th>\n",
       "      <th>Province</th>\n",
       "      <th>Area (sq km)</th>\n",
       "      <th>Year</th>\n",
       "      <th>Population</th>\n",
       "      <th>Population density (persons/sqkm)</th>\n",
       "    </tr>\n",
       "  </thead>\n",
       "  <tbody>\n",
       "    <tr>\n",
       "      <th>0</th>\n",
       "      <td>albacete</td>\n",
       "      <td>14926</td>\n",
       "      <td>2022</td>\n",
       "      <td>385727</td>\n",
       "      <td>25.84</td>\n",
       "    </tr>\n",
       "    <tr>\n",
       "      <th>1</th>\n",
       "      <td>albacete</td>\n",
       "      <td>14926</td>\n",
       "      <td>2021</td>\n",
       "      <td>386464</td>\n",
       "      <td>25.89</td>\n",
       "    </tr>\n",
       "  </tbody>\n",
       "</table>\n",
       "</div>"
      ],
      "text/plain": [
       "   Province  Area (sq km)  Year  Population  Population density (persons/sqkm)\n",
       "0  albacete         14926  2022      385727                              25.84\n",
       "1  albacete         14926  2021      386464                              25.89"
      ]
     },
     "execution_count": 46,
     "metadata": {},
     "output_type": "execute_result"
    }
   ],
   "source": [
    "normalize_characters(density, 'Province')"
   ]
  },
  {
   "cell_type": "code",
   "execution_count": 47,
   "id": "2b793896",
   "metadata": {},
   "outputs": [
    {
     "data": {
      "text/html": [
       "<div>\n",
       "<style scoped>\n",
       "    .dataframe tbody tr th:only-of-type {\n",
       "        vertical-align: middle;\n",
       "    }\n",
       "\n",
       "    .dataframe tbody tr th {\n",
       "        vertical-align: top;\n",
       "    }\n",
       "\n",
       "    .dataframe thead th {\n",
       "        text-align: right;\n",
       "    }\n",
       "</style>\n",
       "<table border=\"1\" class=\"dataframe\">\n",
       "  <thead>\n",
       "    <tr style=\"text-align: right;\">\n",
       "      <th></th>\n",
       "      <th>PipeId</th>\n",
       "      <th>InspectionYear</th>\n",
       "      <th>MonthsLastRev</th>\n",
       "      <th>Incidence</th>\n",
       "      <th>Province</th>\n",
       "      <th>Town</th>\n",
       "      <th>YearBuilt</th>\n",
       "      <th>Diameter</th>\n",
       "      <th>Length</th>\n",
       "      <th>Pressure</th>\n",
       "      <th>NumConnections</th>\n",
       "      <th>No_Inspections</th>\n",
       "      <th>No_Incidences_Total</th>\n",
       "      <th>average_severity_pipe</th>\n",
       "      <th>relative_risk</th>\n",
       "      <th>preventive_maintenance_rate</th>\n",
       "      <th>Probability_rate</th>\n",
       "      <th>Average_MonthsLastRev</th>\n",
       "      <th>pipe_inspected_frequently</th>\n",
       "      <th>Age_pipe_at_inspection</th>\n",
       "      <th>aspect</th>\n",
       "      <th>Relative_Thickness</th>\n",
       "      <th>pipe_area</th>\n",
       "      <th>Total_Connections</th>\n",
       "      <th>area_connection</th>\n",
       "      <th>incidence_area</th>\n",
       "      <th>connection_bool</th>\n",
       "      <th>Severity_high</th>\n",
       "      <th>Severity_medium</th>\n",
       "      <th>Severity_low</th>\n",
       "      <th>gas_natural</th>\n",
       "      <th>Material_Acrylonitrile-Butadiene-Styrene</th>\n",
       "      <th>Material_Copper</th>\n",
       "      <th>Material_Fiberglass-Reinforced Plastic</th>\n",
       "      <th>Material_Polyethylene</th>\n",
       "      <th>Material_Polypropylene</th>\n",
       "      <th>Diameter2</th>\n",
       "      <th>Length2</th>\n",
       "      <th>Pressure2</th>\n",
       "      <th>Average yearly temperature (°C)</th>\n",
       "      <th>Min. Temperature (°C)</th>\n",
       "      <th>Max. Temperature (°C)</th>\n",
       "      <th>Yearly Rainfall (mm)</th>\n",
       "      <th>Average year Humidity (%)</th>\n",
       "      <th>Rainy days per year (days)</th>\n",
       "      <th>Yearly Sun Hours (hours)</th>\n",
       "      <th>Area (sq km)</th>\n",
       "      <th>Year</th>\n",
       "      <th>Population</th>\n",
       "      <th>Population density (persons/sqkm)</th>\n",
       "    </tr>\n",
       "  </thead>\n",
       "  <tbody>\n",
       "    <tr>\n",
       "      <th>0</th>\n",
       "      <td>489616</td>\n",
       "      <td>2013</td>\n",
       "      <td>16</td>\n",
       "      <td>0</td>\n",
       "      <td>ciudad real</td>\n",
       "      <td>Torralba de Calatrava</td>\n",
       "      <td>2012</td>\n",
       "      <td>0.06</td>\n",
       "      <td>7.79</td>\n",
       "      <td>0.40</td>\n",
       "      <td>0</td>\n",
       "      <td>1</td>\n",
       "      <td>0</td>\n",
       "      <td>4.00</td>\n",
       "      <td>0.00</td>\n",
       "      <td>0.00</td>\n",
       "      <td>0.00</td>\n",
       "      <td>21.40</td>\n",
       "      <td>1</td>\n",
       "      <td>1</td>\n",
       "      <td>49.47</td>\n",
       "      <td>0.16</td>\n",
       "      <td>1.54</td>\n",
       "      <td>0</td>\n",
       "      <td>0.00</td>\n",
       "      <td>0.00</td>\n",
       "      <td>0</td>\n",
       "      <td>0</td>\n",
       "      <td>0</td>\n",
       "      <td>0</td>\n",
       "      <td>1</td>\n",
       "      <td>0</td>\n",
       "      <td>0</td>\n",
       "      <td>0</td>\n",
       "      <td>1</td>\n",
       "      <td>0</td>\n",
       "      <td>0.00</td>\n",
       "      <td>60.72</td>\n",
       "      <td>0.16</td>\n",
       "      <td>15.44</td>\n",
       "      <td>1.50</td>\n",
       "      <td>33.70</td>\n",
       "      <td>438</td>\n",
       "      <td>0.55</td>\n",
       "      <td>52</td>\n",
       "      <td>107.50</td>\n",
       "      <td>19813</td>\n",
       "      <td>2020</td>\n",
       "      <td>495045</td>\n",
       "      <td>24.99</td>\n",
       "    </tr>\n",
       "  </tbody>\n",
       "</table>\n",
       "</div>"
      ],
      "text/plain": [
       "   PipeId  InspectionYear  MonthsLastRev  Incidence     Province  \\\n",
       "0  489616            2013             16          0  ciudad real   \n",
       "\n",
       "                    Town  YearBuilt  Diameter  Length  Pressure  \\\n",
       "0  Torralba de Calatrava       2012      0.06    7.79      0.40   \n",
       "\n",
       "   NumConnections  No_Inspections  No_Incidences_Total  average_severity_pipe  \\\n",
       "0               0               1                    0                   4.00   \n",
       "\n",
       "   relative_risk  preventive_maintenance_rate  Probability_rate  \\\n",
       "0           0.00                         0.00              0.00   \n",
       "\n",
       "   Average_MonthsLastRev  pipe_inspected_frequently  Age_pipe_at_inspection  \\\n",
       "0                  21.40                          1                       1   \n",
       "\n",
       "   aspect  Relative_Thickness  pipe_area  Total_Connections  area_connection  \\\n",
       "0   49.47                0.16       1.54                  0             0.00   \n",
       "\n",
       "   incidence_area  connection_bool  Severity_high  Severity_medium  \\\n",
       "0            0.00                0              0                0   \n",
       "\n",
       "   Severity_low  gas_natural  Material_Acrylonitrile-Butadiene-Styrene  \\\n",
       "0             0            1                                         0   \n",
       "\n",
       "   Material_Copper  Material_Fiberglass-Reinforced Plastic  \\\n",
       "0                0                                       0   \n",
       "\n",
       "   Material_Polyethylene  Material_Polypropylene  Diameter2  Length2  \\\n",
       "0                      1                       0       0.00    60.72   \n",
       "\n",
       "   Pressure2  Average yearly temperature (°C)  Min. Temperature (°C)  \\\n",
       "0       0.16                            15.44                   1.50   \n",
       "\n",
       "   Max. Temperature (°C)  Yearly Rainfall (mm)  Average year Humidity (%)  \\\n",
       "0                  33.70                   438                       0.55   \n",
       "\n",
       "   Rainy days per year (days)  Yearly Sun Hours (hours)  Area (sq km)  Year  \\\n",
       "0                          52                    107.50         19813  2020   \n",
       "\n",
       "   Population  Population density (persons/sqkm)  \n",
       "0      495045                              24.99  "
      ]
     },
     "execution_count": 47,
     "metadata": {},
     "output_type": "execute_result"
    }
   ],
   "source": [
    "#join density to df_baseline on Province taking only rows with year 2020\n",
    "df_baseline = df_baseline.merge(density[density['Year'] == 2020], on='Province', how='left')\n",
    "df_baseline.head(1)"
   ]
  },
  {
   "cell_type": "code",
   "execution_count": 48,
   "id": "71a32b81",
   "metadata": {},
   "outputs": [
    {
     "data": {
      "text/plain": [
       "array([], dtype=object)"
      ]
     },
     "execution_count": 48,
     "metadata": {},
     "output_type": "execute_result"
    }
   ],
   "source": [
    "#compare array for column Province in density and df_baseline and compute set difference\n",
    "np.setdiff1d(density['Province'].unique(), df_baseline['Province'].unique())\n"
   ]
  },
  {
   "attachments": {},
   "cell_type": "markdown",
   "id": "83b31ba0",
   "metadata": {},
   "source": [
    "# Standardize all non boolean values\n"
   ]
  },
  {
   "cell_type": "code",
   "execution_count": null,
   "id": "1c9e0973",
   "metadata": {},
   "outputs": [],
   "source": []
  },
  {
   "cell_type": "code",
   "execution_count": null,
   "id": "cf614070",
   "metadata": {},
   "outputs": [],
   "source": []
  },
  {
   "cell_type": "code",
   "execution_count": null,
   "id": "43c59815",
   "metadata": {},
   "outputs": [],
   "source": []
  },
  {
   "cell_type": "code",
   "execution_count": null,
   "id": "d1c6dc8b",
   "metadata": {},
   "outputs": [],
   "source": []
  },
  {
   "attachments": {},
   "cell_type": "markdown",
   "id": "7ba7b733",
   "metadata": {},
   "source": [
    "# Correlation Matrix"
   ]
  },
  {
   "cell_type": "code",
   "execution_count": null,
   "id": "a0d168c2",
   "metadata": {},
   "outputs": [],
   "source": []
  },
  {
   "cell_type": "code",
   "execution_count": null,
   "id": "40136d23",
   "metadata": {},
   "outputs": [],
   "source": []
  },
  {
   "cell_type": "code",
   "execution_count": null,
   "id": "f311c242",
   "metadata": {},
   "outputs": [],
   "source": []
  },
  {
   "cell_type": "code",
   "execution_count": null,
   "id": "142ba234",
   "metadata": {},
   "outputs": [],
   "source": []
  },
  {
   "cell_type": "code",
   "execution_count": null,
   "id": "c1f4de58",
   "metadata": {},
   "outputs": [],
   "source": []
  },
  {
   "cell_type": "code",
   "execution_count": null,
   "id": "d37c3a93",
   "metadata": {},
   "outputs": [],
   "source": []
  },
  {
   "cell_type": "code",
   "execution_count": null,
   "id": "286fffdf",
   "metadata": {},
   "outputs": [],
   "source": []
  },
  {
   "attachments": {},
   "cell_type": "markdown",
   "id": "9f96521a",
   "metadata": {},
   "source": [
    "# Pandas Profiling Report"
   ]
  },
  {
   "cell_type": "code",
   "execution_count": null,
   "id": "9e18298c",
   "metadata": {},
   "outputs": [],
   "source": []
  },
  {
   "cell_type": "code",
   "execution_count": null,
   "id": "e6160427",
   "metadata": {},
   "outputs": [],
   "source": []
  },
  {
   "cell_type": "code",
   "execution_count": null,
   "id": "318f6f13",
   "metadata": {},
   "outputs": [],
   "source": []
  },
  {
   "cell_type": "code",
   "execution_count": null,
   "id": "609b230e",
   "metadata": {},
   "outputs": [],
   "source": []
  },
  {
   "attachments": {},
   "cell_type": "markdown",
   "id": "171612cd",
   "metadata": {},
   "source": [
    "# Deleting more columns based on correlation"
   ]
  },
  {
   "cell_type": "code",
   "execution_count": null,
   "id": "b9fca96f",
   "metadata": {},
   "outputs": [],
   "source": [
    "df_baseline.columns"
   ]
  },
  {
   "cell_type": "code",
   "execution_count": null,
   "id": "cd7b3627",
   "metadata": {},
   "outputs": [],
   "source": [
    "#delete columns 'Probability_rate', 'preventive_maintenance_rate', 'relative_risk','average_severity_pipe', 'Severity_high', 'Severity_medium', 'Severity_low' from df_baseline\n",
    "df_baseline.drop(['Probability_rate', 'Population','YearBuilt', 'relative_risk',\n",
    "       'average_severity_pipe', 'Severity_high', 'Severity_medium', 'Diameter', 'Length',\n",
    "       'Pressure', 'aspect', 'Severity_low', 'Province', 'Town', 'Area (sq km)', 'Year', \n",
    "       'Average yearly temperature (°C)', 'Min. Temperature (°C)','Yearly Rainfall (mm)', \n",
    "       'Rainy days per year (days)', 'Max. Temperature (°C)'], axis=1, inplace=True)\n"
   ]
  },
  {
   "cell_type": "markdown",
   "id": "30d9cfa7",
   "metadata": {},
   "source": [
    "#graph correlation matrix for df_baseline colouring values above 0.7 and exporting it to a png file\n",
    "corr = df_baseline.corr()\n",
    "plt.figure(figsize=(20, 20))\n",
    "sns.heatmap(corr, annot=True, cmap='coolwarm', mask=np.triu(corr, k=1))\n",
    "plt.title('Correlation matrix')\n",
    "plt.savefig('correlation_matrix.png')\n",
    "plt.show()\n"
   ]
  },
  {
   "cell_type": "code",
   "execution_count": null,
   "id": "29545d09",
   "metadata": {},
   "outputs": [],
   "source": [
    "#show values for BoolBridle in df_baseline\n",
    "df_baseline['BoolBridle'].value_counts()"
   ]
  },
  {
   "cell_type": "code",
   "execution_count": null,
   "id": "077cf30a",
   "metadata": {},
   "outputs": [],
   "source": [
    "#drop BoolBridle from df_baseline\n",
    "df_baseline.drop('BoolBridle', axis=1, inplace=True)\n"
   ]
  },
  {
   "cell_type": "code",
   "execution_count": null,
   "id": "732a7f51",
   "metadata": {},
   "outputs": [],
   "source": [
    "#exporting df_baseline to csv\n",
    "#df_baseline.to_csv('df_baseline.csv', index=False)\n"
   ]
  },
  {
   "cell_type": "code",
   "execution_count": null,
   "id": "205b41db",
   "metadata": {},
   "outputs": [],
   "source": [
    "#pandas profiling report for df_baseline\n",
    "#profile = ProfileReport(df_baseline, title='Pandas Profiling Report', html={'style':{'full_width':True}})\n",
    "#profile.to_file('df_baseline.html')\n"
   ]
  },
  {
   "cell_type": "code",
   "execution_count": null,
   "id": "2bc6135d",
   "metadata": {},
   "outputs": [],
   "source": [
    "#exporting pca_df to csv\n",
    "os.chdir(r\"C:\\Users\\pedro\\datathon\")\n",
    "pca_df.to_csv('pca_df.csv', index=False)"
   ]
  },
  {
   "cell_type": "code",
   "execution_count": null,
   "id": "0b56e55d",
   "metadata": {},
   "outputs": [],
   "source": []
  }
 ],
 "metadata": {
  "kernelspec": {
   "display_name": "Python 3",
   "language": "python",
   "name": "python3"
  },
  "language_info": {
   "codemirror_mode": {
    "name": "ipython",
    "version": 3
   },
   "file_extension": ".py",
   "mimetype": "text/x-python",
   "name": "python",
   "nbconvert_exporter": "python",
   "pygments_lexer": "ipython3",
   "version": "3.10.10"
  },
  "vscode": {
   "interpreter": {
    "hash": "326e4f63ad54c217260fc7be1c53acea6ef3ea6cd7ac93b3b02195c6d8fa7cb8"
   }
  }
 },
 "nbformat": 4,
 "nbformat_minor": 5
}
