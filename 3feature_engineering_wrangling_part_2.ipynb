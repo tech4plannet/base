{
 "cells": [
  {
   "attachments": {},
   "cell_type": "markdown",
   "id": "c6ba2d28",
   "metadata": {},
   "source": [
    "# Libraries used\n",
    "\n",
    "Running Kernel3.9.13 base anaconda"
   ]
  },
  {
   "attachments": {},
   "cell_type": "markdown",
   "id": "a47ff5b1",
   "metadata": {},
   "source": [
    "pip install squarify\n",
    "pip install yellowbrick\n",
    "pip install plotly\n",
    "pip install seaborn\n",
    "pip install lazypredict\n",
    "pip install pandas_profiling"
   ]
  },
  {
   "cell_type": "code",
   "execution_count": 2,
   "id": "869b5d85",
   "metadata": {},
   "outputs": [],
   "source": [
    "import pandas as pd\n",
    "import numpy as np\n",
    "import seaborn as sns  \n",
    "import matplotlib.pyplot as plt\n",
    "import plotly.io as pio\n",
    "import squarify #treemap\n",
    "import os\n",
    "import matplotlib\n",
    "import warnings\n",
    "\n",
    "#to enable the inline plotting\n",
    "%matplotlib inline \n",
    "\n",
    "import warnings\n",
    "warnings.filterwarnings('ignore')\n",
    "\n",
    "sns.set_style(\"darkgrid\")"
   ]
  },
  {
   "cell_type": "code",
   "execution_count": 7,
   "id": "f230c51a",
   "metadata": {},
   "outputs": [],
   "source": [
    "from sklearn.linear_model import LogisticRegression\n",
    "\n",
    "from sklearn.model_selection import cross_val_score\n",
    "from sklearn.model_selection import RepeatedStratifiedKFold\n",
    "from sklearn.model_selection import cross_val_score\n",
    "from sklearn.model_selection import train_test_split\n",
    "\n",
    "from sklearn.metrics import accuracy_score, confusion_matrix, classification_report\n",
    "from sklearn.metrics import classification_report\n",
    "\n",
    "from sklearn.naive_bayes import GaussianNB\n",
    "from sklearn.tree import DecisionTreeClassifier\n",
    "from sklearn.neighbors import KNeighborsClassifier\n",
    "\n",
    "from sklearn.ensemble import RandomForestClassifier\n",
    "from sklearn.ensemble import GradientBoostingClassifier\n",
    "\n",
    "from sklearn.preprocessing import StandardScaler\n",
    "\n",
    "\n",
    "from scipy.stats import normaltest\n",
    "\n",
    "from pandas_profiling import ProfileReport\n",
    "\n",
    "from yellowbrick.classifier import ROCAUC\n",
    "from yellowbrick.classifier import ClassPredictionError\n",
    "from yellowbrick.style.palettes import PALETTES, SEQUENCES, color_palette\n",
    "\n",
    "import lazypredict\n",
    "\n",
    "warnings.simplefilter(action='ignore', category=FutureWarning)\n",
    "#pandas show all columns\n",
    "pd.set_option('display.max_columns', None)"
   ]
  },
  {
   "attachments": {},
   "cell_type": "markdown",
   "id": "19146b48",
   "metadata": {},
   "source": [
    "# Functions\n"
   ]
  },
  {
   "cell_type": "code",
   "execution_count": 8,
   "id": "d556ea61",
   "metadata": {},
   "outputs": [],
   "source": [
    "# Function for EDA. Using the display() function to have  well-formatted tables. We are mainly using pandas to explore the datasets\n",
    "\n",
    "def dataset_description(df_target):\n",
    "\n",
    "    print('This is the Dataset shape: %s\\n' % (df_target.shape, ))\n",
    "    print('Dataset columns: %s\\n' % df_target.columns)\n",
    "\n",
    "    print('\\nColumns description:\\n')\n",
    "    display(df_target.info())\n",
    "    display(df_target.describe())  # describe the dataset\n",
    "\n",
    "    print('\\nNull values:\\n')\n",
    "    display(df_target.isnull().sum())  # Identify null values\n",
    "\n",
    "#function performing a quick check on df_inspection with a function to have best of pandas functions separated by a line\n",
    "def quick_check(dataframe):\n",
    "    print('First 5 rows %s\\n')\n",
    "    print(dataframe.head(2))\n",
    "    print(\"=====================================\")\n",
    "    print('Dataframe shape %s\\n')\n",
    "    print(dataframe.shape)\n",
    "    print(\"=====================================\")\n",
    "    print('Dataframe describe categorical %s\\n')\n",
    "    print(dataframe.describe(include=['O']))\n",
    "    print(\"=====================================\")\n",
    "    print('Dataframe null values %s\\n')\n",
    "    print(dataframe.isnull().sum())\n",
    "    print(\"=====================================\")\n",
    "    print('Dataframe value counts %s\\n')\n",
    "    print(dataframe.value_counts())\n",
    "    print(\"=====================================\")\n",
    "\n",
    "def stats(dataframe):\n",
    "    print('Dataframe correlation %s\\n')\n",
    "    print(dataframe.corr())\n",
    "    print(\"=====================================\")\n",
    "    print('Dataframe covariance %s\\n')\n",
    "    print(dataframe.cov())\n",
    "    print(\"=====================================\")\n",
    "    print('Dataframe skew %s\\n')\n",
    "    print(dataframe.skew())\n",
    "    print(\"=====================================\")\n",
    "    print('Dataframe kurtosis %s\\n')\n",
    "    print(dataframe.kurt())\n",
    "    print(\"=====================================\")\n",
    "\n",
    "#create a function to normalize characters from a dataset's column in Spanish\n",
    "def normalize_characters(df, column):\n",
    "    df[column] = df[column].str.normalize('NFKD').str.encode('ascii', errors='ignore').str.decode('utf-8')\n",
    "    df[column] = df[column].str.lower()\n",
    "    df[column] = df[column].str.replace('á', 'a')\n",
    "    df[column] = df[column].str.replace('é', 'e')\n",
    "    df[column] = df[column].str.replace('í', 'i')\n",
    "    df[column] = df[column].str.replace('ó', 'o')\n",
    "    df[column] = df[column].str.replace('ú', 'u')\n",
    "    df[column] = df[column].str.replace('ñ', 'n')\n",
    "    df[column] = df[column].str.replace('ü', 'u')\n",
    "    df[column] = df[column].str.replace('ç', 'c')\n",
    "    df[column] = df[column].str.replace('(', '')\n",
    "    df[column] = df[column].str.replace(')', '')\n",
    "    df[column] = df[column].str.replace('\\'', '')\n",
    "    df[column] = df[column].str.replace('´', '')\n",
    "    df[column] = df[column].str.replace('`', '')\n",
    "    df[column] = df[column].str.replace('’', '')\n",
    "    return df\n",
    "\n",
    "#create function to change detypes in64 to int32 in a df\n",
    "def change_dtypes(df):\n",
    "    for col in df.columns:\n",
    "        if df[col].dtype == 'int64':\n",
    "            df[col] = df[col].astype('int32')\n",
    "        elif df[col].dtype == 'float64':\n",
    "            df[col] = df[col].astype('float32')\n",
    "    return df"
   ]
  },
  {
   "cell_type": "code",
   "execution_count": 9,
   "id": "aac38c42",
   "metadata": {},
   "outputs": [],
   "source": [
    "#show all print outputs when using a function\n",
    "from IPython.core.interactiveshell import InteractiveShell\n",
    "InteractiveShell.ast_node_interactivity = \"all\"\n"
   ]
  },
  {
   "attachments": {},
   "cell_type": "markdown",
   "id": "d7ed6752",
   "metadata": {},
   "source": [
    "# Importing df from previous notebook"
   ]
  },
  {
   "cell_type": "code",
   "execution_count": 10,
   "id": "57078a12",
   "metadata": {},
   "outputs": [
    {
     "data": {
      "text/html": [
       "<div>\n",
       "<style scoped>\n",
       "    .dataframe tbody tr th:only-of-type {\n",
       "        vertical-align: middle;\n",
       "    }\n",
       "\n",
       "    .dataframe tbody tr th {\n",
       "        vertical-align: top;\n",
       "    }\n",
       "\n",
       "    .dataframe thead th {\n",
       "        text-align: right;\n",
       "    }\n",
       "</style>\n",
       "<table border=\"1\" class=\"dataframe\">\n",
       "  <thead>\n",
       "    <tr style=\"text-align: right;\">\n",
       "      <th></th>\n",
       "      <th>Inspections</th>\n",
       "      <th>No_Incidents</th>\n",
       "      <th>Risk_S*I/Inspections</th>\n",
       "      <th>leakage_estimate_factor</th>\n",
       "      <th>InspectionDay</th>\n",
       "      <th>InspectionYear</th>\n",
       "      <th>InspectionDate</th>\n",
       "      <th>MonthsLastRev</th>\n",
       "      <th>Risk_S*I</th>\n",
       "      <th>Severity</th>\n",
       "      <th>Incidence</th>\n",
       "      <th>Province</th>\n",
       "      <th>Town</th>\n",
       "      <th>YearBuilt</th>\n",
       "      <th>Material</th>\n",
       "      <th>Diameter</th>\n",
       "      <th>Length</th>\n",
       "      <th>Pressure</th>\n",
       "      <th>NumConnections</th>\n",
       "      <th>NumConnectionsUnder</th>\n",
       "      <th>BoolBridle</th>\n",
       "      <th>gas_natural</th>\n",
       "    </tr>\n",
       "    <tr>\n",
       "      <th>PipeId</th>\n",
       "      <th></th>\n",
       "      <th></th>\n",
       "      <th></th>\n",
       "      <th></th>\n",
       "      <th></th>\n",
       "      <th></th>\n",
       "      <th></th>\n",
       "      <th></th>\n",
       "      <th></th>\n",
       "      <th></th>\n",
       "      <th></th>\n",
       "      <th></th>\n",
       "      <th></th>\n",
       "      <th></th>\n",
       "      <th></th>\n",
       "      <th></th>\n",
       "      <th></th>\n",
       "      <th></th>\n",
       "      <th></th>\n",
       "      <th></th>\n",
       "      <th></th>\n",
       "      <th></th>\n",
       "    </tr>\n",
       "  </thead>\n",
       "  <tbody>\n",
       "    <tr>\n",
       "      <th>56922465</th>\n",
       "      <td>1</td>\n",
       "      <td>0</td>\n",
       "      <td>0.0</td>\n",
       "      <td>0.0</td>\n",
       "      <td>Thursday</td>\n",
       "      <td>2020</td>\n",
       "      <td>2020-12-31</td>\n",
       "      <td>24</td>\n",
       "      <td>0.0</td>\n",
       "      <td>4</td>\n",
       "      <td>0</td>\n",
       "      <td>Valencia</td>\n",
       "      <td>Betera</td>\n",
       "      <td>1993</td>\n",
       "      <td>PE</td>\n",
       "      <td>63.0</td>\n",
       "      <td>1.778</td>\n",
       "      <td>4.000</td>\n",
       "      <td>0</td>\n",
       "      <td>0</td>\n",
       "      <td>0</td>\n",
       "      <td>1</td>\n",
       "    </tr>\n",
       "    <tr>\n",
       "      <th>188341482</th>\n",
       "      <td>6</td>\n",
       "      <td>0</td>\n",
       "      <td>0.0</td>\n",
       "      <td>0.0</td>\n",
       "      <td>Thursday</td>\n",
       "      <td>2021</td>\n",
       "      <td>2020-12-31</td>\n",
       "      <td>23</td>\n",
       "      <td>0.0</td>\n",
       "      <td>4</td>\n",
       "      <td>0</td>\n",
       "      <td>Barcelona</td>\n",
       "      <td>Sabadell</td>\n",
       "      <td>1995</td>\n",
       "      <td>PE</td>\n",
       "      <td>200.0</td>\n",
       "      <td>34.960</td>\n",
       "      <td>0.025</td>\n",
       "      <td>0</td>\n",
       "      <td>0</td>\n",
       "      <td>0</td>\n",
       "      <td>1</td>\n",
       "    </tr>\n",
       "  </tbody>\n",
       "</table>\n",
       "</div>"
      ],
      "text/plain": [
       "           Inspections  No_Incidents  Risk_S*I/Inspections  \\\n",
       "PipeId                                                       \n",
       "56922465             1             0                   0.0   \n",
       "188341482            6             0                   0.0   \n",
       "\n",
       "           leakage_estimate_factor InspectionDay  InspectionYear  \\\n",
       "PipeId                                                             \n",
       "56922465                       0.0      Thursday            2020   \n",
       "188341482                      0.0      Thursday            2021   \n",
       "\n",
       "          InspectionDate  MonthsLastRev  Risk_S*I  Severity  Incidence  \\\n",
       "PipeId                                                                   \n",
       "56922465      2020-12-31             24       0.0         4          0   \n",
       "188341482     2020-12-31             23       0.0         4          0   \n",
       "\n",
       "            Province      Town  YearBuilt Material  Diameter  Length  \\\n",
       "PipeId                                                                 \n",
       "56922465    Valencia    Betera       1993       PE      63.0   1.778   \n",
       "188341482  Barcelona  Sabadell       1995       PE     200.0  34.960   \n",
       "\n",
       "           Pressure  NumConnections  NumConnectionsUnder  BoolBridle  \\\n",
       "PipeId                                                                 \n",
       "56922465      4.000               0                    0           0   \n",
       "188341482     0.025               0                    0           0   \n",
       "\n",
       "           gas_natural  \n",
       "PipeId                  \n",
       "56922465             1  \n",
       "188341482            1  "
      ]
     },
     "execution_count": 10,
     "metadata": {},
     "output_type": "execute_result"
    }
   ],
   "source": [
    "#point to the folder where the data is stored\n",
    "os.chdir(r\"C:\\Users\\pedro\\datathon\")\n",
    "\n",
    "# Loading data from previous notebook\n",
    "df_combined_mod = pd.read_csv('df_combined_mod.csv', index_col=0)\n",
    "df_combined_mod.head(2)\n"
   ]
  },
  {
   "cell_type": "code",
   "execution_count": 11,
   "id": "09d0ac0a",
   "metadata": {},
   "outputs": [
    {
     "data": {
      "text/plain": [
       "svmem(total=34272403456, available=18693906432, percent=45.5, used=15578497024, free=18693906432)"
      ]
     },
     "execution_count": 11,
     "metadata": {},
     "output_type": "execute_result"
    }
   ],
   "source": [
    "#how much RAM is being used\n",
    "import psutil\n",
    "psutil.virtual_memory()"
   ]
  },
  {
   "attachments": {},
   "cell_type": "markdown",
   "id": "1d9a77c7",
   "metadata": {},
   "source": [
    "# Adding a new dataset\n",
    "We want to extract value of two categorical variables, Town and Province but the way we have them now they are useless.\n",
    "\n",
    "We will add a new dataset to join and extract the surface of each town as well as the comunidad autonoma to group by accordingly in another column the number of towns and afterwards hot encode\n"
   ]
  },
  {
   "cell_type": "code",
   "execution_count": null,
   "id": "71357a35",
   "metadata": {},
   "outputs": [],
   "source": [
    "#count towns populating Town column\n",
    "df_combined_mod['Town'].value_counts()\n",
    "df_combined_mod['Town'].unique()"
   ]
  },
  {
   "cell_type": "code",
   "execution_count": null,
   "id": "2b3f9d34",
   "metadata": {},
   "outputs": [],
   "source": [
    "#point to the folder where the data is stored\n",
    "os.chdir(r\"C:\\Users\\pedro\\datathon\\base\\complementary_datasets\")\n",
    "\n",
    "# Loading combined_mod dataset\n",
    "df_mun = pd.read_excel('list-mun-2012.xls' , sheet_name='list-mun')\n",
    "\n",
    "df_population= pd.read_excel('pobmun20.xls')\n"
   ]
  },
  {
   "cell_type": "code",
   "execution_count": null,
   "id": "555c3d03",
   "metadata": {},
   "outputs": [],
   "source": [
    "df_mun.head(1)"
   ]
  },
  {
   "cell_type": "code",
   "execution_count": null,
   "id": "cb60dc5e",
   "metadata": {},
   "outputs": [],
   "source": [
    "df_population.head(1)"
   ]
  },
  {
   "cell_type": "code",
   "execution_count": null,
   "id": "2a693389",
   "metadata": {},
   "outputs": [],
   "source": [
    "normalize_characters(df_population, 'PROVINCIA')"
   ]
  },
  {
   "cell_type": "code",
   "execution_count": null,
   "id": "d2333807",
   "metadata": {},
   "outputs": [],
   "source": [
    "normalize_characters(df_mun, 'Municipio')"
   ]
  },
  {
   "cell_type": "code",
   "execution_count": null,
   "id": "725ae517",
   "metadata": {},
   "outputs": [],
   "source": [
    "normalize_characters(df_combined_mod, 'Town')"
   ]
  },
  {
   "cell_type": "code",
   "execution_count": null,
   "id": "9982abbe",
   "metadata": {},
   "outputs": [],
   "source": [
    "normalize_characters(df_combined_mod, 'Province')\n"
   ]
  },
  {
   "cell_type": "code",
   "execution_count": null,
   "id": "3224d702",
   "metadata": {},
   "outputs": [],
   "source": [
    "#join df_combined_mod and df_mun on Town column and Municipio column\n",
    "df_combined_mod = pd.merge(df_combined_mod, df_mun, how='left', left_on='Town', right_on='Municipio')\n",
    "df_combined_mod.head(2)"
   ]
  },
  {
   "cell_type": "code",
   "execution_count": null,
   "id": "fa91adfb",
   "metadata": {},
   "outputs": [],
   "source": [
    "#place Province and Town Columns at the end of the dataframe\n",
    "cols = list(df_combined_mod.columns.values)\n",
    "cols.pop(cols.index('Province'))\n",
    "cols.pop(cols.index('Town'))\n",
    "df_combined_mod = df_combined_mod[cols+['Province','Town']]\n",
    "df_combined_mod.tail(2)"
   ]
  },
  {
   "cell_type": "code",
   "execution_count": null,
   "id": "ab27c2f7",
   "metadata": {},
   "outputs": [],
   "source": [
    "df_mun.columns"
   ]
  },
  {
   "cell_type": "code",
   "execution_count": null,
   "id": "59a66d9a",
   "metadata": {},
   "outputs": [],
   "source": [
    "#deleting 'CP', 'Provincia', 'CPJ', 'Partido_Judicial', 'Capitalidad', 'Año', 'CA', 'codine', 'Municipio' from df_combined_mod dataframe\n",
    "df_combined_mod = df_combined_mod.drop(['CP', 'Provincia', 'CPJ', 'Partido_Judicial', 'Capitalidad', 'Año', 'CA', 'codine', 'Municipio'], axis=1)\n",
    "df_combined_mod.head(2)\n"
   ]
  },
  {
   "cell_type": "code",
   "execution_count": null,
   "id": "64424543",
   "metadata": {},
   "outputs": [],
   "source": [
    "#count nulls in each column for df_combined_mod dataframe\n",
    "df_combined_mod.isnull().sum()\n"
   ]
  },
  {
   "cell_type": "code",
   "execution_count": null,
   "id": "8b7fe60e",
   "metadata": {},
   "outputs": [],
   "source": [
    "#delete column \"Superficie\" from df_combined_mod dataframe\n",
    "df_combined_mod = df_combined_mod.drop(['Superficie'], axis=1)"
   ]
  },
  {
   "cell_type": "code",
   "execution_count": null,
   "id": "f99e081e",
   "metadata": {},
   "outputs": [],
   "source": [
    "#make a function for replacing the null values in df_combined_mod dataframe with a string of my choice\n",
    "def replace_nulls(df, column, string):\n",
    "    df[column] = df[column].fillna(string)\n",
    "    return df"
   ]
  },
  {
   "cell_type": "code",
   "execution_count": null,
   "id": "566700e0",
   "metadata": {},
   "outputs": [],
   "source": [
    "#for Province with value tarragona, replace null values in Autonomia with Cataluña\n",
    "\n",
    "df_combined_mod.loc[df_combined_mod['Province'] == 'barcelona', 'Autonomía'] = df_combined_mod.loc[df_combined_mod['Province'] == 'barcelona', 'Autonomía'].fillna('Cataluña')\n",
    "df_combined_mod.loc[df_combined_mod['Province'] == 'tarragona', 'Autonomía'] = df_combined_mod.loc[df_combined_mod['Province'] == 'tarragona', 'Autonomía'].fillna('Cataluña')\n",
    "df_combined_mod.loc[df_combined_mod['Province'] == 'lleida', 'Autonomía'] = df_combined_mod.loc[df_combined_mod['Province'] == 'lleida', 'Autonomía'].fillna('Cataluña')\n",
    "df_combined_mod.loc[df_combined_mod['Province'] == 'girona', 'Autonomía'] = df_combined_mod.loc[df_combined_mod['Province'] == 'girona', 'Autonomía'].fillna('Cataluña')\n",
    "\n"
   ]
  },
  {
   "cell_type": "code",
   "execution_count": null,
   "id": "17a7f5ac",
   "metadata": {},
   "outputs": [],
   "source": [
    "#count nulls in Autonomia column in df_combined_mod dataframe\n",
    "df_combined_mod['Autonomía'].isnull().sum()"
   ]
  },
  {
   "cell_type": "code",
   "execution_count": null,
   "id": "b315da1b",
   "metadata": {},
   "outputs": [],
   "source": [
    "#for Province with value \"La Rioja\", replace null values in Autonomía with \"Rioja (La)\"\n",
    "df_combined_mod.loc[df_combined_mod['Province'] == 'la rioja', 'Autonomía'] = df_combined_mod.loc[df_combined_mod['Province'] == 'la rioja', 'Autonomía'].fillna('Rioja (La)')\n"
   ]
  },
  {
   "cell_type": "code",
   "execution_count": null,
   "id": "b1574db6",
   "metadata": {},
   "outputs": [],
   "source": [
    "#for Province with value Orense, replace null values in Autonomía with \"Galicia\"\n",
    "df_combined_mod.loc[df_combined_mod['Province'] == 'orense', 'Autonomía'] = df_combined_mod.loc[df_combined_mod['Province'] == 'orense', 'Autonomía'].fillna('Galicia')\n",
    "df_combined_mod.loc[df_combined_mod['Province'] == 'la coruna', 'Autonomía'] = df_combined_mod.loc[df_combined_mod['Province'] == 'la coruna', 'Autonomía'].fillna('Galicia')\n",
    "df_combined_mod.loc[df_combined_mod['Province'] == 'pontevedra', 'Autonomía'] = df_combined_mod.loc[df_combined_mod['Province'] == 'pontevedra', 'Autonomía'].fillna('Galicia')\n",
    "df_combined_mod.loc[df_combined_mod['Province'] == 'lugo', 'Autonomía'] = df_combined_mod.loc[df_combined_mod['Province'] == 'lugo', 'Autonomía'].fillna('Galicia')\n"
   ]
  },
  {
   "cell_type": "code",
   "execution_count": null,
   "id": "7dc7b11f",
   "metadata": {},
   "outputs": [],
   "source": [
    "#for Province with value Zaragoza, replace null values in Autonomía with \"Aragón\"\n",
    "df_combined_mod.loc[df_combined_mod['Province'] == 'zaragoza', 'Autonomía'] = df_combined_mod.loc[df_combined_mod['Province'] == 'zaragoza', 'Autonomía'].fillna('Aragón')\n",
    "df_combined_mod.loc[df_combined_mod['Province'] == 'huesca', 'Autonomía'] = df_combined_mod.loc[df_combined_mod['Province'] == 'huesca', 'Autonomía'].fillna('Aragón')"
   ]
  },
  {
   "cell_type": "code",
   "execution_count": null,
   "id": "89394f17",
   "metadata": {},
   "outputs": [],
   "source": [
    "#for Province with value Toledo, replace null values in Autonomía with \"Castilla-La Mancha\"\n",
    "df_combined_mod.loc[df_combined_mod['Province'] == 'toledo', 'Autonomía'] = df_combined_mod.loc[df_combined_mod['Province'] == 'toledo', 'Autonomía'].fillna('Castilla-La Mancha')\n",
    "df_combined_mod.loc[df_combined_mod['Province'] == 'albacete', 'Autonomía'] = df_combined_mod.loc[df_combined_mod['Province'] == 'albacete', 'Autonomía'].fillna('Castilla-La Mancha')\n",
    "df_combined_mod.loc[df_combined_mod['Province'] == 'ciudad real', 'Autonomía'] = df_combined_mod.loc[df_combined_mod['Province'] == 'ciudad real', 'Autonomía'].fillna('Castilla-La Mancha')\n",
    "df_combined_mod.loc[df_combined_mod['Province'] == 'cuenca', 'Autonomía'] = df_combined_mod.loc[df_combined_mod['Province'] == 'cuenca', 'Autonomía'].fillna('Castilla-La Mancha')\n"
   ]
  },
  {
   "cell_type": "code",
   "execution_count": null,
   "id": "0279d30a",
   "metadata": {},
   "outputs": [],
   "source": [
    "#for Province with value Almeria, replace null values in Autonomía with \"Andalucía\"\n",
    "df_combined_mod.loc[df_combined_mod['Province'] == 'almeria', 'Autonomía'] = df_combined_mod.loc[df_combined_mod['Province'] == 'almeria', 'Autonomía'].fillna('Andalucía')\n",
    "df_combined_mod.loc[df_combined_mod['Province'] == 'sevilla', 'Autonomía'] = df_combined_mod.loc[df_combined_mod['Province'] == 'sevilla', 'Autonomía'].fillna('Andalucía')\n",
    "df_combined_mod.loc[df_combined_mod['Province'] == 'jaen', 'Autonomía'] = df_combined_mod.loc[df_combined_mod['Province'] == 'jaen', 'Autonomía'].fillna('Andalucía')\n",
    "df_combined_mod.loc[df_combined_mod['Province'] == 'cordoba', 'Autonomía'] = df_combined_mod.loc[df_combined_mod['Province'] == 'cordoba', 'Autonomía'].fillna('Andalucía')\n",
    "df_combined_mod.loc[df_combined_mod['Province'] == 'cadiz', 'Autonomía'] = df_combined_mod.loc[df_combined_mod['Province'] == 'cadiz', 'Autonomía'].fillna('Andalucía')\n",
    "df_combined_mod.loc[df_combined_mod['Province'] == 'granada', 'Autonomía'] = df_combined_mod.loc[df_combined_mod['Province'] == 'granada', 'Autonomía'].fillna('Andalucía')\n",
    "\n"
   ]
  },
  {
   "cell_type": "code",
   "execution_count": null,
   "id": "06b61f44",
   "metadata": {},
   "outputs": [],
   "source": [
    "#for Province with value Zamora, replace null values in Autonomía with \"Castilla y León\"\n",
    "df_combined_mod.loc[df_combined_mod['Province'] == 'zamora', 'Autonomía'] = df_combined_mod.loc[df_combined_mod['Province'] == 'zamora', 'Autonomía'].fillna('Castilla y León')\n",
    "df_combined_mod.loc[df_combined_mod['Province'] == 'segovia', 'Autonomía'] = df_combined_mod.loc[df_combined_mod['Province'] == 'segovia', 'Autonomía'].fillna('Castilla y León')\n",
    "df_combined_mod.loc[df_combined_mod['Province'] == 'valladolid', 'Autonomía'] = df_combined_mod.loc[df_combined_mod['Province'] == 'valladolid', 'Autonomía'].fillna('Castilla y León')\n",
    "df_combined_mod.loc[df_combined_mod['Province'] == 'leon', 'Autonomía'] = df_combined_mod.loc[df_combined_mod['Province'] == 'leon', 'Autonomía'].fillna('Castilla y León')\n",
    "df_combined_mod.loc[df_combined_mod['Province'] == 'salamanca', 'Autonomía'] = df_combined_mod.loc[df_combined_mod['Province'] == 'salamanca', 'Autonomía'].fillna('Castilla y León')\n",
    "df_combined_mod.loc[df_combined_mod['Province'] == 'burgos', 'Autonomía'] = df_combined_mod.loc[df_combined_mod['Province'] == 'burgos', 'Autonomía'].fillna('Castilla y León')\n",
    "df_combined_mod.loc[df_combined_mod['Province'] == 'soria', 'Autonomía'] = df_combined_mod.loc[df_combined_mod['Province'] == 'soria', 'Autonomía'].fillna('Castilla y León')\n",
    "df_combined_mod.loc[df_combined_mod['Province'] == 'palencia', 'Autonomía'] = df_combined_mod.loc[df_combined_mod['Province'] == 'palencia', 'Autonomía'].fillna('Castilla y León')\n"
   ]
  },
  {
   "cell_type": "code",
   "execution_count": null,
   "id": "36d9805c",
   "metadata": {},
   "outputs": [],
   "source": [
    "#for Province with value Madrid, replace null values in Autonomía with \"Madrid (Comunidad de)\"\n",
    "df_combined_mod.loc[df_combined_mod['Province'] == 'madrid', 'Autonomía'] = df_combined_mod.loc[df_combined_mod['Province'] == 'madrid', 'Autonomía'].fillna('Madrid (Comunidad de)')\n"
   ]
  },
  {
   "cell_type": "code",
   "execution_count": null,
   "id": "097c3bf3",
   "metadata": {},
   "outputs": [],
   "source": [
    "#for Province with value Alicante, replace null values in Autonomía with Comunidad Valenciana\n",
    "df_combined_mod.loc[df_combined_mod['Province'] == 'alicante', 'Autonomía'] = df_combined_mod.loc[df_combined_mod['Province'] == 'alicante', 'Autonomía'].fillna('Comunidad Valenciana')\n",
    "df_combined_mod.loc[df_combined_mod['Province'] == 'castellon', 'Autonomía'] = df_combined_mod.loc[df_combined_mod['Province'] == 'castellon', 'Autonomía'].fillna('Comunidad Valenciana')\n",
    "df_combined_mod.loc[df_combined_mod['Province'] == 'valencia', 'Autonomía'] = df_combined_mod.loc[df_combined_mod['Province'] == 'valencia', 'Autonomía'].fillna('Comunidad Valenciana')\n"
   ]
  },
  {
   "cell_type": "code",
   "execution_count": null,
   "id": "141cb603",
   "metadata": {},
   "outputs": [],
   "source": [
    "#count nulls in Autonomia column in df_combined_mod dataframe\n",
    "df_combined_mod['Autonomía'].isnull().sum()"
   ]
  },
  {
   "cell_type": "code",
   "execution_count": null,
   "id": "14300958",
   "metadata": {},
   "outputs": [],
   "source": [
    "#droping df_mun from memory to free RAM\n",
    "del df_mun\n",
    "del df_inspection\n",
    "del df_network"
   ]
  },
  {
   "cell_type": "code",
   "execution_count": null,
   "id": "1004bfa9",
   "metadata": {},
   "outputs": [],
   "source": [
    "#change df_population POB32 to int32\n",
    "df_population['POB20'] = df_population['POB20'].astype('int32')\n",
    "df_population.dtypes"
   ]
  },
  {
   "cell_type": "code",
   "execution_count": null,
   "id": "1ec5235e",
   "metadata": {},
   "outputs": [],
   "source": [
    "df_combined_mod.dtypes"
   ]
  },
  {
   "cell_type": "code",
   "execution_count": null,
   "id": "3ec280ec",
   "metadata": {},
   "outputs": [],
   "source": []
  },
  {
   "cell_type": "code",
   "execution_count": null,
   "id": "faf27b67",
   "metadata": {},
   "outputs": [],
   "source": [
    "change_dtypes(df_combined_mod)"
   ]
  },
  {
   "cell_type": "code",
   "execution_count": null,
   "id": "6a521e88",
   "metadata": {},
   "outputs": [],
   "source": [
    "#change df_combined_mod int64 columns to int32 to save memory\n",
    "df_combined_mod['PipeId'] = df_combined_mod['PipeId'].astype('int32')\n",
    "df_combined_mod['YearBuilt'] = df_combined_mod['YearBuilt'].astype('int8')\n",
    "df_combined_mod['NumConnections'] = df_combined_mod['NumConnections'].astype('int32')\n",
    "df_combined_mod['InspectionYear'] = df_combined_mod['InspectionYear'].astype('int32')\n",
    "df_combined_mod['Severity'] = df_combined_mod['Severity'].astype('int8')\n",
    "df_combined_mod['Incidence'] = df_combined_mod['Incidence'].astype('int8')\n",
    "df_combined_mod['Inspections'] = df_combined_mod['Inspections'].astype('int8')\n",
    "\n"
   ]
  },
  {
   "cell_type": "code",
   "execution_count": null,
   "id": "d4eab1aa",
   "metadata": {},
   "outputs": [],
   "source": [
    "#delete columns from df_population dataframe\n",
    "df_population.drop(['NOMBRE', 'HOMBRES', 'MUJERES'], axis=1, inplace=True)"
   ]
  },
  {
   "cell_type": "code",
   "execution_count": null,
   "id": "e5512d6d",
   "metadata": {},
   "outputs": [],
   "source": [
    "#joining df_combined_mod and df_population on Province columns adding only POB20 column from df_population\n",
    "df_combined_mod = pd.merge(df_combined_mod, df_population[['PROVINCIA','POB20']], how='left', left_on='Province', right_on='PROVINCIA')"
   ]
  },
  {
   "cell_type": "code",
   "execution_count": null,
   "id": "fe4a2891",
   "metadata": {},
   "outputs": [],
   "source": [
    "df_combined_mod.columns"
   ]
  },
  {
   "cell_type": "code",
   "execution_count": null,
   "id": "2256b477",
   "metadata": {},
   "outputs": [],
   "source": [
    "#eda pandas profiling"
   ]
  },
  {
   "attachments": {},
   "cell_type": "markdown",
   "id": "b3655d33",
   "metadata": {},
   "source": [
    "# Further feature engineering"
   ]
  },
  {
   "attachments": {},
   "cell_type": "markdown",
   "id": "054fec24",
   "metadata": {},
   "source": [
    "We want to also see materials available for the pipes as a hot encoded feature"
   ]
  },
  {
   "cell_type": "code",
   "execution_count": null,
   "id": "867ba9a8",
   "metadata": {},
   "outputs": [],
   "source": [
    "print (df_combined['Material'].unique())"
   ]
  },
  {
   "cell_type": "code",
   "execution_count": null,
   "id": "73adb0d6",
   "metadata": {},
   "outputs": [],
   "source": [
    "#Map df_combined Material column to the names of materials\n",
    "df_combined_mod['Material'] = df_combined_mod['Material'].map({'PE': 'Polyethylene', 'AO': 'Acrylonitrile-Butadiene-Styrene', 'FD': 'Fiberglass-Reinforced Plastic', \n",
    "    'FG': 'Fiberglass', 'PN': 'Polypropylene', 'PA': 'Polyamide', 'FO': 'Flexible Polyolefin', 'FI': 'Flexible Polyvinyl Chloride', 'CU': 'Copper', \n",
    "    'PV': 'Polyvinylidene Fluoride', 'ZD': 'Zinc-Coated Steel', 'ZA': 'Zinc-Aluminum', 'CP': 'Cast Iron', 'CS': 'Cast Steel', \n",
    "    'ZC': 'Zinc-Coated Steel', 'ZM': 'Zinc-Magnesium','ZN': 'Zinc', 'AL': 'Aluminum', 'ZP': 'Zinc-Coated Steel', 'ZF': 'Zinc-Aluminum-Magnesium'})\n"
   ]
  },
  {
   "cell_type": "code",
   "execution_count": null,
   "id": "3e37640a",
   "metadata": {},
   "outputs": [],
   "source": [
    "df_combined_mod.tail(1)"
   ]
  },
  {
   "cell_type": "code",
   "execution_count": null,
   "id": "1a110a60",
   "metadata": {},
   "outputs": [],
   "source": [
    "#Hot enconde Material column in the df_combined_mod dataframe subset\n",
    "df_combined_mod = pd.get_dummies(df_combined_mod, columns=['Material'], prefix = ['Material'])"
   ]
  },
  {
   "cell_type": "code",
   "execution_count": null,
   "id": "25b67233",
   "metadata": {},
   "outputs": [],
   "source": [
    "#deleting columns Material_Fiberglass, Material_Zinc_coated_steel, Material_Polyvinylidene_fluoride\n",
    "df_combined_mod = df_combined_mod.drop(['Material_Fiberglass', 'Material_Zinc-Coated Steel', 'Material_Polyvinylidene Fluoride'], axis=1)"
   ]
  },
  {
   "cell_type": "code",
   "execution_count": null,
   "id": "5f8aa725",
   "metadata": {},
   "outputs": [],
   "source": [
    "#deleting columns Material_Flexible Polyolefin,Material_Flexible Polyvinyl Chloride, Material_Polyamide\n",
    "df_combined_mod = df_combined_mod.drop(['Material_Flexible Polyolefin', 'Material_Flexible Polyvinyl Chloride', 'Material_Polyamide'], axis=1)\n",
    "df_combined_mod.head(1)"
   ]
  },
  {
   "cell_type": "code",
   "execution_count": null,
   "id": "9c43c9fe",
   "metadata": {},
   "outputs": [],
   "source": [
    "#delete outliers in year_built column to keep values only higher than 1960\n",
    "df_combined_mod = df_combined_mod[df_combined_mod['YearBuilt'] > 1960]\n"
   ]
  },
  {
   "cell_type": "code",
   "execution_count": null,
   "id": "6ed2fcf9",
   "metadata": {},
   "outputs": [],
   "source": [
    "df_combined_mod.dtypes"
   ]
  },
  {
   "cell_type": "code",
   "execution_count": null,
   "id": "4f942fe7",
   "metadata": {},
   "outputs": [],
   "source": [
    "#eliminate values higher than 40 in MonthsLastRev column\n",
    "df_combined_mod = df_combined_mod[df_combined_mod['MonthsLastRev'] < 40]"
   ]
  },
  {
   "cell_type": "code",
   "execution_count": null,
   "id": "124e509b",
   "metadata": {},
   "outputs": [],
   "source": [
    "#graph histogram of MonthsLastRev column\n",
    "df_combined_mod['MonthsLastRev'].hist()"
   ]
  },
  {
   "cell_type": "code",
   "execution_count": null,
   "id": "3e1ff171",
   "metadata": {},
   "outputs": [],
   "source": [
    "#eliminate values higher than 400 in diameter column\n",
    "df_combined_mod = df_combined_mod[df_combined_mod['Diameter'] < 400]"
   ]
  },
  {
   "cell_type": "code",
   "execution_count": null,
   "id": "9754d5dc",
   "metadata": {},
   "outputs": [],
   "source": [
    "#show histogram of diameter column\n",
    "df_combined_mod['Diameter'].hist()"
   ]
  },
  {
   "cell_type": "code",
   "execution_count": null,
   "id": "57e13b5b",
   "metadata": {},
   "outputs": [],
   "source": [
    "#plot column Length\n",
    "df_combined_mod['Length'].value_counts()"
   ]
  },
  {
   "cell_type": "code",
   "execution_count": null,
   "id": "caa47b07",
   "metadata": {},
   "outputs": [],
   "source": [
    "#plot histogram of Length column\n",
    "df_combined_mod['Length'].hist()"
   ]
  },
  {
   "attachments": {},
   "cell_type": "markdown",
   "id": "a525270c",
   "metadata": {},
   "source": [
    "# Feature Engineering"
   ]
  },
  {
   "cell_type": "code",
   "execution_count": null,
   "id": "921d02bf",
   "metadata": {},
   "outputs": [],
   "source": [
    "#create a new column that divides the diameter by the pressure and name it Relative Thickness\n",
    "df_combined_mod['Relative_Thickness'] = df_combined_mod['Diameter'] / df_combined_mod['Pressure']"
   ]
  },
  {
   "cell_type": "code",
   "execution_count": null,
   "id": "7ed618b8",
   "metadata": {},
   "outputs": [],
   "source": [
    "#Create a new column that takes the inspecion year and substracts the YearBuilt column naming it Age of Pipe\n",
    "df_combined_mod['Age_of_Pipe_upon_inspection'] = df_combined_mod['InspectionYear'] - df_combined_mod['YearBuilt']\n",
    "df_combined_mod.head(1)"
   ]
  },
  {
   "cell_type": "code",
   "execution_count": null,
   "id": "2720eaff",
   "metadata": {},
   "outputs": [],
   "source": [
    "#create a column that multiplies severity by incidence and name it severity_incidence\n",
    "df_combined_mod['Severity_Incidence'] = df_combined_mod['Severity'] * df_combined_mod['Incidence']"
   ]
  },
  {
   "cell_type": "code",
   "execution_count": null,
   "id": "6bf705b7",
   "metadata": {},
   "outputs": [],
   "source": [
    "#delete column severity\n",
    "df_combined_mod = df_combined_mod.drop(['Severity'], axis=1)\n",
    "df_combined_mod.head(1)\n"
   ]
  },
  {
   "cell_type": "code",
   "execution_count": null,
   "id": "469e590a",
   "metadata": {},
   "outputs": [],
   "source": [
    "df_combined_mod.dtypes"
   ]
  },
  {
   "cell_type": "code",
   "execution_count": null,
   "id": "a0bc55b2",
   "metadata": {},
   "outputs": [],
   "source": [
    "#hot encode severity_incidence column in the df_combined_mod dataframe\n",
    "df_combined_mod = pd.get_dummies(df_combined_mod, columns=['Severity_Incidence'], prefix = ['Severity_Incidence'])\n",
    "df_combined_mod.head(1)"
   ]
  },
  {
   "cell_type": "code",
   "execution_count": null,
   "id": "fd252d4a",
   "metadata": {},
   "outputs": [],
   "source": [
    "#change name of Severity_Incidence_0 column to Severity_0\n",
    "df_combined_mod = df_combined_mod.rename(columns={'Severity_Incidence_0': 'Severity_0'})\n",
    "#change name of Severity_Incidence_1 column to Severity_low\n",
    "df_combined_mod = df_combined_mod.rename(columns={'Severity_Incidence_1': 'Severity_low'})\n",
    "#change name of Severity_Incidence_2 column to Severity_medium\n",
    "df_combined_mod = df_combined_mod.rename(columns={'Severity_Incidence_2': 'Severity_medium'})\n",
    "#change name of Severity_Incidence_3 column to Severity_high\n",
    "df_combined_mod = df_combined_mod.rename(columns={'Severity_Incidence_3': 'Severity_high'})\n",
    "df_combined_mod.head(1)\n"
   ]
  },
  {
   "cell_type": "code",
   "execution_count": null,
   "id": "0624b032",
   "metadata": {},
   "outputs": [],
   "source": [
    "df_combined_mod.shape"
   ]
  },
  {
   "cell_type": "code",
   "execution_count": null,
   "id": "9609c9f8",
   "metadata": {},
   "outputs": [],
   "source": [
    "#General number of high severity per year\n",
    "df_combined_mod.groupby('InspectionYear')['Severity_high'].value_counts()"
   ]
  },
  {
   "cell_type": "code",
   "execution_count": null,
   "id": "576d7b2c",
   "metadata": {},
   "outputs": [],
   "source": [
    "\n"
   ]
  },
  {
   "cell_type": "code",
   "execution_count": null,
   "id": "bdbc8434",
   "metadata": {},
   "outputs": [],
   "source": [
    "df_combined_mod.dtypes"
   ]
  },
  {
   "attachments": {},
   "cell_type": "markdown",
   "id": "928a5d1a",
   "metadata": {},
   "source": [
    "# Exporting the new dataset for a backup"
   ]
  },
  {
   "cell_type": "code",
   "execution_count": null,
   "id": "b7331945",
   "metadata": {},
   "outputs": [],
   "source": [
    "#point to the folder where the data is stored\n",
    "os.chdir(r\"C:\\Users\\pedro\\datathon\")\n",
    "#export the dataframe to a csv file\n",
    "df_combined_mod.to_csv('df_combined_mod.csv', index=False)"
   ]
  },
  {
   "cell_type": "markdown",
   "id": "dcfd37d5",
   "metadata": {},
   "source": [
    "# Plotting EDA for new dataset"
   ]
  },
  {
   "cell_type": "code",
   "execution_count": null,
   "id": "efdacc62",
   "metadata": {},
   "outputs": [],
   "source": [
    "#pandas profiling on the df_combined_mod dataframe\n",
    "profile = ProfileReport(df_combined_mod, title='Pandas Profiling Report', html={'style':{'full_width':True}})\n",
    "profile"
   ]
  },
  {
   "attachments": {},
   "cell_type": "markdown",
   "id": "e4fcbf84",
   "metadata": {},
   "source": [
    "# WOULD BE NICE TO KNOW\n",
    "\n",
    "- what do we do with categoricals\n",
    "    province and town, are they relevant?\n",
    "- how toi interpret the length?\n",
    "- an extra dataset would be great to create more features \n",
    "- should we create polinomial features"
   ]
  },
  {
   "cell_type": "code",
   "execution_count": null,
   "id": "a14d3359",
   "metadata": {},
   "outputs": [],
   "source": [
    "#create polinomial features \n",
    "from sklearn.preprocessing import PolynomialFeatures\n",
    "poly = PolynomialFeatures(2)\n",
    "poly_data = poly.fit_transform(df_combined_mod[['Relative_Thickness', 'Age_of_Pipe_upon_inspection']])\n",
    "poly_columns = poly.get_feature_names(['Relative_Thickness', 'Age_of_Pipe_upon_inspection'])\n",
    "df_poly = pd.DataFrame(poly_data, columns=poly_columns)\n",
    "df_poly = df_poly.drop(['1'], axis=1)\n",
    "df_combined_mod = pd.concat([df_combined_mod, df_poly], axis=1)\n",
    "df_combined_mod.head(1)"
   ]
  },
  {
   "cell_type": "markdown",
   "id": "716be720",
   "metadata": {},
   "source": []
  }
 ],
 "metadata": {
  "kernelspec": {
   "display_name": "Python 3",
   "language": "python",
   "name": "python3"
  },
  "language_info": {
   "codemirror_mode": {
    "name": "ipython",
    "version": 3
   },
   "file_extension": ".py",
   "mimetype": "text/x-python",
   "name": "python",
   "nbconvert_exporter": "python",
   "pygments_lexer": "ipython3",
   "version": "3.10.10"
  },
  "vscode": {
   "interpreter": {
    "hash": "326e4f63ad54c217260fc7be1c53acea6ef3ea6cd7ac93b3b02195c6d8fa7cb8"
   }
  }
 },
 "nbformat": 4,
 "nbformat_minor": 5
}
